{
 "cells": [
  {
   "cell_type": "markdown",
   "metadata": {},
   "source": [
    "# Final result aggregation for BioCreative V Task 3 evaluation dataset\n",
    "\n",
    "Tong Shu Li<br>\n",
    "Created on: 2015-08-19<br>\n",
    "Last updated: 2015-08-19\n",
    "\n",
    "In this notebook we will re-aggregate the results of both the abstract-level and the sentence-level CrowdFlower tasks along with the CID relations we automatically extracted. The results will then be formatted for final formatting in the PubTator format."
   ]
  },
  {
   "cell_type": "code",
   "execution_count": 1,
   "metadata": {
    "collapsed": true
   },
   "outputs": [],
   "source": [
    "from collections import defaultdict\n",
    "import pandas as pd\n",
    "import pickle"
   ]
  },
  {
   "cell_type": "code",
   "execution_count": 2,
   "metadata": {
    "collapsed": true
   },
   "outputs": [],
   "source": [
    "from src.data_model import *"
   ]
  },
  {
   "cell_type": "code",
   "execution_count": 3,
   "metadata": {
    "collapsed": true
   },
   "outputs": [],
   "source": [
    "def flat_repr(id_set):\n",
    "    \"\"\"\n",
    "    Makes a string out of the ID frozenset.\n",
    "    \"\"\"\n",
    "    vals = map(lambda v: \"{0}:{1}\".format(v.uid_type, v.uid), id_set)\n",
    "    vals = sorted(vals)\n",
    "    return \"|\".join(vals)"
   ]
  },
  {
   "cell_type": "markdown",
   "metadata": {},
   "source": [
    "---"
   ]
  },
  {
   "cell_type": "markdown",
   "metadata": {},
   "source": [
    "### Read the abstract-level task results:"
   ]
  },
  {
   "cell_type": "code",
   "execution_count": 4,
   "metadata": {
    "collapsed": true
   },
   "outputs": [],
   "source": [
    "abs_res = pd.read_csv(\"data/final_eval/results/abstract_relation_res.tsv\", sep = '\\t')"
   ]
  },
  {
   "cell_type": "markdown",
   "metadata": {},
   "source": [
    "### Read the sentence-level task abstract level results:"
   ]
  },
  {
   "cell_type": "code",
   "execution_count": 5,
   "metadata": {
    "collapsed": true
   },
   "outputs": [],
   "source": [
    "sent_res = pd.read_csv(\"data/final_eval/results/sentence_relation_abs_res.tsv\", sep = '\\t')"
   ]
  },
  {
   "cell_type": "code",
   "execution_count": 6,
   "metadata": {
    "collapsed": true
   },
   "outputs": [],
   "source": [
    "abs_res = abs_res.rename(columns = {\"percent_agree\": \"norm_conf_score\"})"
   ]
  },
  {
   "cell_type": "code",
   "execution_count": 7,
   "metadata": {
    "collapsed": true
   },
   "outputs": [],
   "source": [
    "sent_res = sent_res.rename(columns = {\"conf_score\": \"norm_conf_score\",\n",
    "                                      \"score_vote_max\": \"num_votes\"})"
   ]
  },
  {
   "cell_type": "code",
   "execution_count": 8,
   "metadata": {
    "collapsed": false
   },
   "outputs": [
    {
     "data": {
      "text/html": [
       "<div>\n",
       "<table border=\"1\" class=\"dataframe\">\n",
       "  <thead>\n",
       "    <tr style=\"text-align: right;\">\n",
       "      <th></th>\n",
       "      <th>uniq_id</th>\n",
       "      <th>verify_relationship</th>\n",
       "      <th>conf_score</th>\n",
       "      <th>num_votes</th>\n",
       "      <th>norm_conf_score</th>\n",
       "      <th>pmid</th>\n",
       "      <th>unit_id</th>\n",
       "      <th>chemical_id</th>\n",
       "      <th>disease_id</th>\n",
       "    </tr>\n",
       "  </thead>\n",
       "  <tbody>\n",
       "    <tr>\n",
       "      <th>0</th>\n",
       "      <td>bcv_final_eval_hard_0</td>\n",
       "      <td>yes_direct</td>\n",
       "      <td>0.8182</td>\n",
       "      <td>1</td>\n",
       "      <td>0.198438</td>\n",
       "      <td>0</td>\n",
       "      <td>773935948</td>\n",
       "      <td>MESH:D006632</td>\n",
       "      <td>MESH:D003693</td>\n",
       "    </tr>\n",
       "    <tr>\n",
       "      <th>1</th>\n",
       "      <td>bcv_final_eval_hard_1</td>\n",
       "      <td>yes_direct</td>\n",
       "      <td>0.0000</td>\n",
       "      <td>0</td>\n",
       "      <td>0.000000</td>\n",
       "      <td>1</td>\n",
       "      <td>773935949</td>\n",
       "      <td>MESH:D000809</td>\n",
       "      <td>MESH:D007022</td>\n",
       "    </tr>\n",
       "    <tr>\n",
       "      <th>2</th>\n",
       "      <td>bcv_final_eval_hard_10</td>\n",
       "      <td>yes_direct</td>\n",
       "      <td>0.0000</td>\n",
       "      <td>0</td>\n",
       "      <td>0.000000</td>\n",
       "      <td>5</td>\n",
       "      <td>773935958</td>\n",
       "      <td>MESH:D013498</td>\n",
       "      <td>MESH:D003556</td>\n",
       "    </tr>\n",
       "    <tr>\n",
       "      <th>3</th>\n",
       "      <td>bcv_final_eval_hard_100</td>\n",
       "      <td>yes_direct</td>\n",
       "      <td>0.0000</td>\n",
       "      <td>0</td>\n",
       "      <td>0.000000</td>\n",
       "      <td>21</td>\n",
       "      <td>773936048</td>\n",
       "      <td>MESH:D000431</td>\n",
       "      <td>MESH:D012893</td>\n",
       "    </tr>\n",
       "    <tr>\n",
       "      <th>4</th>\n",
       "      <td>bcv_final_eval_hard_1000</td>\n",
       "      <td>yes_direct</td>\n",
       "      <td>0.0000</td>\n",
       "      <td>0</td>\n",
       "      <td>0.000000</td>\n",
       "      <td>200</td>\n",
       "      <td>773936948</td>\n",
       "      <td>MESH:D004837</td>\n",
       "      <td>MESH:D009202</td>\n",
       "    </tr>\n",
       "  </tbody>\n",
       "</table>\n",
       "</div>"
      ],
      "text/plain": [
       "                    uniq_id verify_relationship  conf_score  num_votes  \\\n",
       "0     bcv_final_eval_hard_0          yes_direct      0.8182          1   \n",
       "1     bcv_final_eval_hard_1          yes_direct      0.0000          0   \n",
       "2    bcv_final_eval_hard_10          yes_direct      0.0000          0   \n",
       "3   bcv_final_eval_hard_100          yes_direct      0.0000          0   \n",
       "4  bcv_final_eval_hard_1000          yes_direct      0.0000          0   \n",
       "\n",
       "   norm_conf_score  pmid    unit_id   chemical_id    disease_id  \n",
       "0         0.198438     0  773935948  MESH:D006632  MESH:D003693  \n",
       "1         0.000000     1  773935949  MESH:D000809  MESH:D007022  \n",
       "2         0.000000     5  773935958  MESH:D013498  MESH:D003556  \n",
       "3         0.000000    21  773936048  MESH:D000431  MESH:D012893  \n",
       "4         0.000000   200  773936948  MESH:D004837  MESH:D009202  "
      ]
     },
     "execution_count": 8,
     "metadata": {},
     "output_type": "execute_result"
    }
   ],
   "source": [
    "abs_res.head()"
   ]
  },
  {
   "cell_type": "code",
   "execution_count": 9,
   "metadata": {
    "collapsed": false
   },
   "outputs": [
    {
     "data": {
      "text/html": [
       "<div>\n",
       "<table border=\"1\" class=\"dataframe\">\n",
       "  <thead>\n",
       "    <tr style=\"text-align: right;\">\n",
       "      <th></th>\n",
       "      <th>chemical_id</th>\n",
       "      <th>norm_conf_score</th>\n",
       "      <th>disease_id</th>\n",
       "      <th>pmid</th>\n",
       "      <th>num_votes</th>\n",
       "      <th>sentence_ids</th>\n",
       "      <th>uniq_ids</th>\n",
       "      <th>unit_ids</th>\n",
       "    </tr>\n",
       "  </thead>\n",
       "  <tbody>\n",
       "    <tr>\n",
       "      <th>0</th>\n",
       "      <td>MESH:D006632</td>\n",
       "      <td>0.000000</td>\n",
       "      <td>MESH:D014456</td>\n",
       "      <td>0</td>\n",
       "      <td>0</td>\n",
       "      <td>0_1</td>\n",
       "      <td>bcv_final_eval_easy_1</td>\n",
       "      <td>773931696</td>\n",
       "    </tr>\n",
       "    <tr>\n",
       "      <th>1</th>\n",
       "      <td>MESH:D015738</td>\n",
       "      <td>1.000000</td>\n",
       "      <td>MESH:D003693</td>\n",
       "      <td>0</td>\n",
       "      <td>5</td>\n",
       "      <td>0_0|0_2|0_3</td>\n",
       "      <td>bcv_final_eval_easy_0|bcv_final_eval_easy_3|bc...</td>\n",
       "      <td>773931695|773931698|773931699</td>\n",
       "    </tr>\n",
       "    <tr>\n",
       "      <th>2</th>\n",
       "      <td>MESH:D015738</td>\n",
       "      <td>0.000000</td>\n",
       "      <td>MESH:D014456</td>\n",
       "      <td>0</td>\n",
       "      <td>0</td>\n",
       "      <td>0_1</td>\n",
       "      <td>bcv_final_eval_easy_2</td>\n",
       "      <td>773931697</td>\n",
       "    </tr>\n",
       "    <tr>\n",
       "      <th>3</th>\n",
       "      <td>MESH:D012964</td>\n",
       "      <td>0.189597</td>\n",
       "      <td>MESH:D007022</td>\n",
       "      <td>1</td>\n",
       "      <td>1</td>\n",
       "      <td>1_0</td>\n",
       "      <td>bcv_final_eval_easy_5</td>\n",
       "      <td>773931700</td>\n",
       "    </tr>\n",
       "    <tr>\n",
       "      <th>4</th>\n",
       "      <td>MESH:D000305</td>\n",
       "      <td>0.802824</td>\n",
       "      <td>MESH:D007674</td>\n",
       "      <td>2</td>\n",
       "      <td>4</td>\n",
       "      <td>2_4</td>\n",
       "      <td>bcv_final_eval_easy_10</td>\n",
       "      <td>773931705</td>\n",
       "    </tr>\n",
       "  </tbody>\n",
       "</table>\n",
       "</div>"
      ],
      "text/plain": [
       "    chemical_id  norm_conf_score    disease_id  pmid  num_votes sentence_ids  \\\n",
       "0  MESH:D006632         0.000000  MESH:D014456     0          0          0_1   \n",
       "1  MESH:D015738         1.000000  MESH:D003693     0          5  0_0|0_2|0_3   \n",
       "2  MESH:D015738         0.000000  MESH:D014456     0          0          0_1   \n",
       "3  MESH:D012964         0.189597  MESH:D007022     1          1          1_0   \n",
       "4  MESH:D000305         0.802824  MESH:D007674     2          4          2_4   \n",
       "\n",
       "                                            uniq_ids  \\\n",
       "0                              bcv_final_eval_easy_1   \n",
       "1  bcv_final_eval_easy_0|bcv_final_eval_easy_3|bc...   \n",
       "2                              bcv_final_eval_easy_2   \n",
       "3                              bcv_final_eval_easy_5   \n",
       "4                             bcv_final_eval_easy_10   \n",
       "\n",
       "                        unit_ids  \n",
       "0                      773931696  \n",
       "1  773931695|773931698|773931699  \n",
       "2                      773931697  \n",
       "3                      773931700  \n",
       "4                      773931705  "
      ]
     },
     "execution_count": 9,
     "metadata": {},
     "output_type": "execute_result"
    }
   ],
   "source": [
    "sent_res.head()"
   ]
  },
  {
   "cell_type": "markdown",
   "metadata": {},
   "source": [
    "### Read the automatically determined CID relations:"
   ]
  },
  {
   "cell_type": "code",
   "execution_count": 10,
   "metadata": {
    "collapsed": true
   },
   "outputs": [],
   "source": [
    "with open(\"data/final_eval/cid_relations.pickle\", \"rb\") as fin:\n",
    "    cid_rels = pickle.load(fin)"
   ]
  },
  {
   "cell_type": "markdown",
   "metadata": {},
   "source": [
    "### Read the original annotated file into memory:\n",
    "\n",
    "We also need to write the annotations to file. Since our data model performed some simple acronym resolution, we need to write these to file as well."
   ]
  },
  {
   "cell_type": "code",
   "execution_count": 11,
   "metadata": {
    "collapsed": false
   },
   "outputs": [],
   "source": [
    "loc = \"data/final_eval\"\n",
    "fname = \"CDR_annotated_testset.txt\"\n",
    "\n",
    "testset = parse_input(loc, fname, is_gold = False, return_format = \"dict\")"
   ]
  },
  {
   "cell_type": "markdown",
   "metadata": {},
   "source": [
    "### Combine results together and write to file:\n",
    "\n",
    "Now that we have everything read into memory, we will for each paper:\n",
    "1. Print the text and annotations to file.\n",
    "2. Combine the relations together.\n",
    "3. Split into two sets: all relations or only those with >= 4 votes.\n",
    "4. Write to file."
   ]
  },
  {
   "cell_type": "markdown",
   "metadata": {},
   "source": [
    "### Combine relations together using conf_score and votes"
   ]
  },
  {
   "cell_type": "code",
   "execution_count": null,
   "metadata": {
    "collapsed": false
   },
   "outputs": [],
   "source": [
    "def get_data(dataframe, pmid):\n",
    "    \"\"\"\n",
    "    Grab data from the dataframe. Return empty otherwise.\n",
    "    \"\"\"\n",
    "    temp = dataframe.query(\"pmid == {0}\".format(pmid))\n",
    "    if temp.empty:\n",
    "        return \"empty\"\n",
    "    \n",
    "    return temp[[\"pmid\", \"chemical_id\", \"disease_id\", \"norm_conf_score\", \"num_votes\"]]\n",
    "\n",
    "def get_final_res():\n",
    "    final_ans = []\n",
    "    for pmid in range(500):\n",
    "        this_paper_rels = []\n",
    "        \n",
    "        # abstract relations\n",
    "        temp = get_data(abs_res, pmid)\n",
    "        if not isinstance(temp, str):\n",
    "            temp[\"rel_origin\"] = \"abstract_task\"\n",
    "            this_paper_rels.append(temp)\n",
    "            \n",
    "        # sentence relations\n",
    "        temp = get_data(sent_res, pmid)\n",
    "        if not isinstance(temp, str):\n",
    "            temp[\"rel_origin\"] = \"sentence_task\"\n",
    "            this_paper_rels.append(temp)\n",
    "            \n",
    "        things = defaultdict(list)\n",
    "        paper_cid_rels = cid_rels[pmid]\n",
    "        if paper_cid_rels: # not empty\n",
    "            for cid_relation in paper_cid_rels:\n",
    "                things[\"pmid\"].append(pmid)\n",
    "                things[\"chemical_id\"].append(flat_repr(cid_relation[0]))\n",
    "                things[\"disease_id\"].append(flat_repr(cid_relation[1]))\n",
    "                things[\"norm_conf_score\"].append(1)\n",
    "                things[\"num_votes\"].append(5)\n",
    "                things[\"rel_origin\"].append(\"cid_relation\")\n",
    "                \n",
    "            this_paper_rels.append(pd.DataFrame(things))\n",
    "            \n",
    "        if len(this_paper_rels) > 0:\n",
    "            # some papers have no detectable relations (eg, pmid 250)\n",
    "            final_ans.append(pd.concat(this_paper_rels))\n",
    "        \n",
    "    return pd.concat(final_ans)"
   ]
  },
  {
   "cell_type": "code",
   "execution_count": null,
   "metadata": {
    "collapsed": false
   },
   "outputs": [],
   "source": [
    "final_results = get_final_res()"
   ]
  },
  {
   "cell_type": "code",
   "execution_count": null,
   "metadata": {
    "collapsed": false,
    "scrolled": true
   },
   "outputs": [],
   "source": [
    "final_results"
   ]
  },
  {
   "cell_type": "code",
   "execution_count": null,
   "metadata": {
    "collapsed": false
   },
   "outputs": [],
   "source": [
    "final_results[\"chemical_id\"].map(lambda v: v.split(\":\")[0]).value_counts()"
   ]
  },
  {
   "cell_type": "code",
   "execution_count": null,
   "metadata": {
    "collapsed": false
   },
   "outputs": [],
   "source": [
    "final_results[\"disease_id\"].map(lambda v: v.split(\":\")[0]).value_counts()"
   ]
  },
  {
   "cell_type": "markdown",
   "metadata": {},
   "source": [
    "The chemical and disease identifiers are all single MeSH identifiers and are not complexed. This will make printing easier."
   ]
  },
  {
   "cell_type": "markdown",
   "metadata": {},
   "source": [
    "### Print everything to file:"
   ]
  },
  {
   "cell_type": "code",
   "execution_count": null,
   "metadata": {
    "collapsed": true
   },
   "outputs": [],
   "source": [
    "def print_paper_obj(paper, relations, fout):\n",
    "    \"\"\"\n",
    "    We print a paper object to file.\n",
    "    \"\"\"\n",
    "    fout.write(\"{0}|t|{1}\\n\".format(paper.pmid, paper.title))\n",
    "    fout.write(\"{0}|a|{1}\\n\".format(paper.pmid, paper.abstract))\n",
    "    \n",
    "    # write the annotations to file\n",
    "    # since we did not generate the relations,\n",
    "    # we will just write a conf score of 1.0 for all of them\n",
    "    for annotation in paper.annotations:\n",
    "        fout.write(\"{0}\\t{1}\\t{2}\\t{3}\\t{4}\\t{5}\\t{6}\\n\".format(paper.pmid, annotation.start,\n",
    "                                                   annotation.stop, annotation.text,\n",
    "                                                   annotation.stype.capitalize(),\n",
    "                                                   annotation.flat_repr(), \"1.0\"))\n",
    "        \n",
    "    # write the relations to file\n",
    "    relations = relations.sort(\"norm_conf_score\", ascending = False)\n",
    "    for idx, row in relations.iterrows():\n",
    "        fout.write(\"{0}\\tCID\\t{1}\\t{2}\\t{3}\\n\".format(paper.pmid, row[\"chemical_id\"],\n",
    "                                                     row[\"disease_id\"], row[\"norm_conf_score\"]))"
   ]
  },
  {
   "cell_type": "markdown",
   "metadata": {},
   "source": [
    "### Print everything to file:"
   ]
  },
  {
   "cell_type": "code",
   "execution_count": null,
   "metadata": {
    "collapsed": false
   },
   "outputs": [],
   "source": [
    "# all possible relations, including ones we are confident are false\n",
    "with open(\"data/final_eval/results/crowd_all_relations.txt\", \"w\") as fout:\n",
    "    for pmid in range(500):\n",
    "        rels = final_results.query(\"pmid == {0}\".format(pmid))\n",
    "        print_paper_obj(testset[pmid], rels, fout)\n",
    "        fout.write(\"\\n\")"
   ]
  },
  {
   "cell_type": "code",
   "execution_count": null,
   "metadata": {
    "collapsed": true
   },
   "outputs": [],
   "source": [
    "# only the relations which we are confident are true (>= 4 positive votes)\n",
    "with open(\"data/final_eval/results/crowd_good_relations.txt\", \"w\") as fout:\n",
    "    for pmid in range(500):\n",
    "        rels = final_results.query(\"pmid == {0} and num_votes >= 4\".format(pmid))\n",
    "        print_paper_obj(testset[pmid], rels, fout)\n",
    "        fout.write(\"\\n\")"
   ]
  }
 ],
 "metadata": {
  "kernelspec": {
   "display_name": "Python 2",
   "language": "python",
   "name": "python2"
  },
  "language_info": {
   "codemirror_mode": {
    "name": "ipython",
    "version": 2
   },
   "file_extension": ".py",
   "mimetype": "text/x-python",
   "name": "python",
   "nbconvert_exporter": "python",
   "pygments_lexer": "ipython2",
   "version": "2.7.10"
  }
 },
 "nbformat": 4,
 "nbformat_minor": 0
}
