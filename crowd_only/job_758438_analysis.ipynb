{
 "cells": [
  {
   "cell_type": "markdown",
   "metadata": {},
   "source": [
    "#Analysis of CrowdFlower job #758438: Abstract-level CID verification task with NER mistake choice\n",
    "\n",
    "Tong Shu Li<br>\n",
    "Created on Tuesday 2015-08-04<br>\n",
    "Last updated 2015-08-04"
   ]
  },
  {
   "cell_type": "markdown",
   "metadata": {},
   "source": [
    "Results from CrowdFlower jobs #754530 and #755704 showed that splitting the task into to parts did indeed help improve performance slightly. It also increased job satisfaction rate.\n",
    "\n",
    "One aspect of the task which has not been tested is NER mistake identification. For this job a fourth choice was added to the question which allowed a worker to say that the highlighting was incorrect and therefore the task was impossible.\n",
    "\n",
    "For this task there were a number of cheaters who did a substantial amount of the actual work units. These cheaters were thankfully easy to detect because they chose the same response for all work units, and they also chose one of the least likely answer choices (\"ner_mistake\"). These workers have been banned from all future tasks, but a thorough worker answer distribution analysis and worker response time analysis is needed in the future for all tasks in order to identify cheaters.\n",
    "\n",
    "The analysis of the job follows the analysis of job #754530. \"Yes_indirect\" and \"ner_mistake\" choices are counted as \"no\" votes."
   ]
  },
  {
   "cell_type": "markdown",
   "metadata": {},
   "source": [
    "###Job settings:\n",
    "\n",
    "Parameter | Value\n",
    "--- | ---\n",
    "Job ID | #758438\n",
    "Rows per page | 6\n",
    "Judgements per row | 5\n",
    "Payment per page | 24 cents USD\n",
    "Payment per row | 4 cents USD\n",
    "Contributor level | 2\n",
    "Minimum time per page | 30 seconds\n",
    "Minimum accuracy threshold | 70%\n",
    "Number of test questions | 52\n",
    "Date of launch | 4:56 pm PDT on Saturday 2015-08-01\n",
    "Date of completion | 9:40 pm PDT on Saturday 2015-08-01\n",
    "Total cost before bonuses | \\$331.31 USD\n",
    "Total cost after bonuses | $333.31 USD"
   ]
  },
  {
   "cell_type": "markdown",
   "metadata": {},
   "source": [
    "---"
   ]
  },
  {
   "cell_type": "code",
   "execution_count": 1,
   "metadata": {
    "collapsed": true
   },
   "outputs": [],
   "source": [
    "from __future__ import division\n",
    "from collections import Counter\n",
    "from collections import defaultdict\n",
    "from IPython.display import Image\n",
    "import matplotlib as plt\n",
    "import os\n",
    "import pandas as pd\n",
    "import pickle"
   ]
  },
  {
   "cell_type": "code",
   "execution_count": 2,
   "metadata": {
    "collapsed": true
   },
   "outputs": [],
   "source": [
    "matplotlib inline"
   ]
  },
  {
   "cell_type": "code",
   "execution_count": 3,
   "metadata": {
    "collapsed": false
   },
   "outputs": [],
   "source": [
    "%%bash\n",
    "\n",
    "rm src/get_AUC_value.pyc"
   ]
  },
  {
   "cell_type": "code",
   "execution_count": 4,
   "metadata": {
    "collapsed": true
   },
   "outputs": [],
   "source": [
    "from src.filter_data import filter_data\n",
    "from src.data_model import parse_input\n",
    "from src.data_model import Relation\n",
    "from src.get_AUC_value import get_AUC_value\n",
    "from src.F_score import *\n",
    "from src.aggregate_results import *"
   ]
  },
  {
   "cell_type": "markdown",
   "metadata": {},
   "source": [
    "###Read the results of job #758438:"
   ]
  },
  {
   "cell_type": "code",
   "execution_count": 5,
   "metadata": {
    "collapsed": true
   },
   "outputs": [],
   "source": [
    "settings = {\n",
    "    \"loc\": \"data/crowdflower/results\",\n",
    "    \"fname\": \"job_758438_full_with_untrusted.csv\",\n",
    "    \"data_subset\": \"normal\",\n",
    "    \"min_accuracy\": 0.7,\n",
    "    \"max_accuracy\": 1.0\n",
    "}\n",
    "\n",
    "raw_data = filter_data(settings)"
   ]
  },
  {
   "cell_type": "code",
   "execution_count": 6,
   "metadata": {
    "collapsed": false
   },
   "outputs": [
    {
     "data": {
      "text/plain": [
       "(5315, 29)"
      ]
     },
     "execution_count": 6,
     "metadata": {},
     "output_type": "execute_result"
    }
   ],
   "source": [
    "raw_data.shape"
   ]
  },
  {
   "cell_type": "markdown",
   "metadata": {},
   "source": [
    "###Map uniq id and unit id:"
   ]
  },
  {
   "cell_type": "code",
   "execution_count": 7,
   "metadata": {
    "collapsed": true
   },
   "outputs": [],
   "source": [
    "id_mapping = dict()\n",
    "for uniq_id, group in raw_data.groupby(\"uniq_id\"):\n",
    "    id_mapping[uniq_id] = int(group[\"_unit_id\"].iloc[0])"
   ]
  },
  {
   "cell_type": "markdown",
   "metadata": {},
   "source": [
    "###Read the gold standard:"
   ]
  },
  {
   "cell_type": "code",
   "execution_count": 8,
   "metadata": {
    "collapsed": true
   },
   "outputs": [],
   "source": [
    "def read_gold_standard(dataset, file_format = \"list\"):\n",
    "    assert dataset in [\"training\", \"development\"]\n",
    "    assert file_format in [\"list\", \"dict\"]\n",
    "    \n",
    "    fname = \"data/{0}/parsed_{0}_set_{1}.pickle\".format(dataset, file_format)\n",
    "    \n",
    "    if os.path.exists(fname):\n",
    "        print \"Reading cached version of {0} set ({1})\".format(dataset, file_format)\n",
    "        \n",
    "        with open(fname, \"rb\") as fin:\n",
    "            data = pickle.load(fin)\n",
    "    else:\n",
    "        print \"Parsing raw {0} file\".format(dataset)\n",
    "        data = parse_input(\"data/{0}\".format(dataset),\n",
    "                           \"CDR_{0}Set.txt\".format(dataset.capitalize()),\n",
    "                           return_format = file_format)\n",
    "        \n",
    "        with open(fname, \"wb\") as fout:\n",
    "            pickle.dump(data, fout)\n",
    "            \n",
    "    return data"
   ]
  },
  {
   "cell_type": "code",
   "execution_count": 9,
   "metadata": {
    "collapsed": false
   },
   "outputs": [
    {
     "name": "stdout",
     "output_type": "stream",
     "text": [
      "Reading cached version of development set (dict)\n"
     ]
    }
   ],
   "source": [
    "development_set = read_gold_standard(\"development\", \"dict\")"
   ]
  },
  {
   "cell_type": "markdown",
   "metadata": {},
   "source": [
    "###Remove judgements made by cheaters:"
   ]
  },
  {
   "cell_type": "code",
   "execution_count": 10,
   "metadata": {
    "collapsed": false
   },
   "outputs": [],
   "source": [
    "bad_workers = {\n",
    " 31501233,\n",
    " 31720388,\n",
    " 31720815,\n",
    " 32025293,\n",
    " 33081102,\n",
    " 33081299,\n",
    " 33081469,\n",
    " 33081531,\n",
    " 33085305,\n",
    " 33085428,\n",
    " 33238902,\n",
    " 33301062,\n",
    " 33301138,\n",
    " 33596095}"
   ]
  },
  {
   "cell_type": "code",
   "execution_count": 11,
   "metadata": {
    "collapsed": true
   },
   "outputs": [],
   "source": [
    "clean_data = raw_data.query(\"_worker_id not in {0}\".format(list(bad_workers)))"
   ]
  },
  {
   "cell_type": "code",
   "execution_count": 12,
   "metadata": {
    "collapsed": false
   },
   "outputs": [
    {
     "data": {
      "text/plain": [
       "(3709, 29)"
      ]
     },
     "execution_count": 12,
     "metadata": {},
     "output_type": "execute_result"
    }
   ],
   "source": [
    "clean_data.shape"
   ]
  },
  {
   "cell_type": "markdown",
   "metadata": {},
   "source": [
    "The cheaters unfortunately used scripts to cheat on a large number of work units (1606). This is worrisome, since now many work units have fewer than 5 judgements. We can filter these out to see what the effect is."
   ]
  },
  {
   "cell_type": "markdown",
   "metadata": {},
   "source": [
    "###Comments:"
   ]
  },
  {
   "cell_type": "code",
   "execution_count": 13,
   "metadata": {
    "collapsed": false
   },
   "outputs": [
    {
     "data": {
      "text/plain": [
       "array([nan,\n",
       "       \"I'm guessing here... I don't have a slightest clue what is the correct answer.\",\n",
       "       \"It's 'liver rupture', not just 'rupture'\",\n",
       "       \"'Glutamate receptors' and not just 'glutamate'. :D\",\n",
       "       'Dexamethasone IS a steroid. :D',\n",
       "       'Yes, cocaine causes cocaine abuse... that one was easy.  XD',\n",
       "       \"It's 'Cortical Spreading Depression' and not just 'Depression'\",\n",
       "       \"It's 'stroke-like' and not 'stroke'\",\n",
       "       \"It's 'high fat diet' and not just 'fat'\",\n",
       "       \"It's 'ATP/ADP ratio' and not just 'ADP'. :D\",\n",
       "       \"It's 'calcium antagonists' and not just 'calcium'. :D\",\n",
       "       \"it's 'Na(+)/H(+) exchanger type 3 (NHE3)' (read as Sodium-proton exchanger type 3) and not 'H'\",\n",
       "       \"It's 'Na(+)-K(+)-2Cl(-) cotransporter (BSC-1)' and not just'K'\",\n",
       "       'Venlafaxine causes serotonine syndrome which causes thrombocytopenia',\n",
       "       \"It's 'serotonin-1A receptor agonist' and not just 'serotonin'\",\n",
       "       \"It's 'citrate synthase' and not just 'citrate'\",\n",
       "       'The Sulindac cause the renal toxicity'], dtype=object)"
      ]
     },
     "execution_count": 13,
     "metadata": {},
     "output_type": "execute_result"
    }
   ],
   "source": [
    "clean_data[\"comment_box\"].unique()"
   ]
  },
  {
   "cell_type": "code",
   "execution_count": 14,
   "metadata": {
    "collapsed": false
   },
   "outputs": [],
   "source": [
    "comments = clean_data[~pd.isnull(clean_data[\"comment_box\"])]"
   ]
  },
  {
   "cell_type": "code",
   "execution_count": 15,
   "metadata": {
    "collapsed": false
   },
   "outputs": [
    {
     "data": {
      "text/plain": [
       "(17, 29)"
      ]
     },
     "execution_count": 15,
     "metadata": {},
     "output_type": "execute_result"
    }
   ],
   "source": [
    "comments.shape"
   ]
  },
  {
   "cell_type": "code",
   "execution_count": 16,
   "metadata": {
    "collapsed": false
   },
   "outputs": [
    {
     "data": {
      "text/plain": [
       "array([32708888, 27555842])"
      ]
     },
     "execution_count": 16,
     "metadata": {},
     "output_type": "execute_result"
    }
   ],
   "source": [
    "comments[\"_worker_id\"].unique()"
   ]
  },
  {
   "cell_type": "markdown",
   "metadata": {},
   "source": [
    "Worker 27555842 left lots of helpful comments regarding what the correct concept highlighting should have been when the response was a NER error. No one else left any useful comments."
   ]
  },
  {
   "cell_type": "markdown",
   "metadata": {},
   "source": [
    "###Result aggregation:"
   ]
  },
  {
   "cell_type": "code",
   "execution_count": 17,
   "metadata": {
    "collapsed": false
   },
   "outputs": [],
   "source": [
    "res = aggregate_results(\"uniq_id\", \"verify_relationship\", clean_data, \"majority_vote\", [\"pmid\", \"_unit_id\"])"
   ]
  },
  {
   "cell_type": "code",
   "execution_count": 18,
   "metadata": {
    "collapsed": false
   },
   "outputs": [
    {
     "data": {
      "text/plain": [
       "1060"
      ]
     },
     "execution_count": 18,
     "metadata": {},
     "output_type": "execute_result"
    }
   ],
   "source": [
    "len(res[\"uniq_id\"].unique())"
   ]
  },
  {
   "cell_type": "code",
   "execution_count": 19,
   "metadata": {
    "collapsed": false,
    "scrolled": true
   },
   "outputs": [
    {
     "data": {
      "text/html": [
       "<div>\n",
       "<table border=\"1\" class=\"dataframe\">\n",
       "  <thead>\n",
       "    <tr style=\"text-align: right;\">\n",
       "      <th></th>\n",
       "      <th>uniq_id</th>\n",
       "      <th>verify_relationship</th>\n",
       "      <th>conf_score</th>\n",
       "      <th>num_votes</th>\n",
       "      <th>percent_agree</th>\n",
       "      <th>pmid</th>\n",
       "      <th>unit_id</th>\n",
       "    </tr>\n",
       "  </thead>\n",
       "  <tbody>\n",
       "    <tr>\n",
       "      <th>1</th>\n",
       "      <td>bcv_hard_0</td>\n",
       "      <td>no_relation</td>\n",
       "      <td>2.5170</td>\n",
       "      <td>3</td>\n",
       "      <td>0.752331</td>\n",
       "      <td>15579441</td>\n",
       "      <td>765527869</td>\n",
       "    </tr>\n",
       "    <tr>\n",
       "      <th>0</th>\n",
       "      <td>bcv_hard_0</td>\n",
       "      <td>yes_direct</td>\n",
       "      <td>0.8286</td>\n",
       "      <td>1</td>\n",
       "      <td>0.247669</td>\n",
       "      <td>15579441</td>\n",
       "      <td>765527869</td>\n",
       "    </tr>\n",
       "    <tr>\n",
       "      <th>1</th>\n",
       "      <td>bcv_hard_1</td>\n",
       "      <td>no_relation</td>\n",
       "      <td>3.3311</td>\n",
       "      <td>4</td>\n",
       "      <td>0.786583</td>\n",
       "      <td>15579441</td>\n",
       "      <td>765527870</td>\n",
       "    </tr>\n",
       "    <tr>\n",
       "      <th>0</th>\n",
       "      <td>bcv_hard_1</td>\n",
       "      <td>yes_direct</td>\n",
       "      <td>0.9038</td>\n",
       "      <td>1</td>\n",
       "      <td>0.213417</td>\n",
       "      <td>15579441</td>\n",
       "      <td>765527870</td>\n",
       "    </tr>\n",
       "    <tr>\n",
       "      <th>0</th>\n",
       "      <td>bcv_hard_10</td>\n",
       "      <td>no_relation</td>\n",
       "      <td>3.5156</td>\n",
       "      <td>4</td>\n",
       "      <td>1.000000</td>\n",
       "      <td>3732088</td>\n",
       "      <td>765527879</td>\n",
       "    </tr>\n",
       "  </tbody>\n",
       "</table>\n",
       "</div>"
      ],
      "text/plain": [
       "       uniq_id verify_relationship  conf_score  num_votes  percent_agree  \\\n",
       "1   bcv_hard_0         no_relation      2.5170          3       0.752331   \n",
       "0   bcv_hard_0          yes_direct      0.8286          1       0.247669   \n",
       "1   bcv_hard_1         no_relation      3.3311          4       0.786583   \n",
       "0   bcv_hard_1          yes_direct      0.9038          1       0.213417   \n",
       "0  bcv_hard_10         no_relation      3.5156          4       1.000000   \n",
       "\n",
       "       pmid    unit_id  \n",
       "1  15579441  765527869  \n",
       "0  15579441  765527869  \n",
       "1  15579441  765527870  \n",
       "0  15579441  765527870  \n",
       "0   3732088  765527879  "
      ]
     },
     "execution_count": 19,
     "metadata": {},
     "output_type": "execute_result"
    }
   ],
   "source": [
    "res.head()"
   ]
  },
  {
   "cell_type": "markdown",
   "metadata": {},
   "source": [
    "###Error checking:"
   ]
  },
  {
   "cell_type": "code",
   "execution_count": 20,
   "metadata": {
    "collapsed": false
   },
   "outputs": [],
   "source": [
    "# how many work units have fewer than 5 votes?\n",
    "unit_votes = defaultdict(set)\n",
    "for uniq_id, group in res.groupby(\"uniq_id\"):\n",
    "    total_votes = group[\"num_votes\"].sum()\n",
    "    unit_votes[total_votes].add(uniq_id)"
   ]
  },
  {
   "cell_type": "code",
   "execution_count": 21,
   "metadata": {
    "collapsed": false
   },
   "outputs": [
    {
     "name": "stdout",
     "output_type": "stream",
     "text": [
      "Num votes: 1\n",
      "Num work units: 67\n",
      "Num votes: 2\n",
      "Num work units: 186\n",
      "Num votes: 3\n",
      "Num work units: 273\n",
      "Num votes: 4\n",
      "Num work units: 219\n",
      "Num votes: 5\n",
      "Num work units: 315\n"
     ]
    }
   ],
   "source": [
    "for num_votes, ids in unit_votes.items():\n",
    "    print \"Num votes:\", num_votes\n",
    "    print \"Num work units:\", len(ids)"
   ]
  },
  {
   "cell_type": "markdown",
   "metadata": {},
   "source": [
    "A lot of work units have been affected by the cheaters. This is bad. For the analysis we can trying looking at all the work units with some minimum amount of votes."
   ]
  },
  {
   "cell_type": "markdown",
   "metadata": {},
   "source": [
    "###NER errors:\n",
    "\n",
    "Were there any work units where NER error was the top choice?"
   ]
  },
  {
   "cell_type": "code",
   "execution_count": 22,
   "metadata": {
    "collapsed": false
   },
   "outputs": [],
   "source": [
    "units = set()\n",
    "for uniq_id, group in res.groupby(\"uniq_id\"):\n",
    "    if group[\"verify_relationship\"].iloc[0] == \"ner_mistake\":\n",
    "        units.add((uniq_id, group[\"num_votes\"].iloc[0]))"
   ]
  },
  {
   "cell_type": "code",
   "execution_count": 23,
   "metadata": {
    "collapsed": false
   },
   "outputs": [
    {
     "data": {
      "text/plain": [
       "7"
      ]
     },
     "execution_count": 23,
     "metadata": {},
     "output_type": "execute_result"
    }
   ],
   "source": [
    "len(units)"
   ]
  },
  {
   "cell_type": "code",
   "execution_count": 24,
   "metadata": {
    "collapsed": false
   },
   "outputs": [
    {
     "data": {
      "text/plain": [
       "{('bcv_hard_152', 2),\n",
       " ('bcv_hard_689', 2),\n",
       " ('bcv_hard_820', 1),\n",
       " ('bcv_hard_830', 2),\n",
       " ('bcv_hard_831', 2),\n",
       " ('bcv_hard_833', 2),\n",
       " ('bcv_hard_982', 1)}"
      ]
     },
     "execution_count": 24,
     "metadata": {},
     "output_type": "execute_result"
    }
   ],
   "source": [
    "units"
   ]
  },
  {
   "cell_type": "code",
   "execution_count": 25,
   "metadata": {
    "collapsed": false
   },
   "outputs": [
    {
     "name": "stdout",
     "output_type": "stream",
     "text": [
      "bcv_hard_689 2\n",
      "https://crowdflower.com/jobs/758438/units/765528558\n",
      "bcv_hard_820 1\n",
      "https://crowdflower.com/jobs/758438/units/765528689\n",
      "bcv_hard_830 2\n",
      "https://crowdflower.com/jobs/758438/units/765528699\n",
      "bcv_hard_982 1\n",
      "https://crowdflower.com/jobs/758438/units/765528851\n",
      "bcv_hard_152 2\n",
      "https://crowdflower.com/jobs/758438/units/765528021\n",
      "bcv_hard_831 2\n",
      "https://crowdflower.com/jobs/758438/units/765528700\n",
      "bcv_hard_833 2\n",
      "https://crowdflower.com/jobs/758438/units/765528702\n"
     ]
    }
   ],
   "source": [
    "for uniq_id, votes in units:\n",
    "    print uniq_id, votes\n",
    "    print \"https://crowdflower.com/jobs/758438/units/{0}\".format(id_mapping[uniq_id])"
   ]
  },
  {
   "cell_type": "markdown",
   "metadata": {},
   "source": [
    "Some of these are indeed NER errors, but we have very few votes on the choice. For our analysis, we can just count NER votes as \"no\" votes, but we will need a strong signal when we are giving the data to BeFree."
   ]
  },
  {
   "cell_type": "markdown",
   "metadata": {},
   "source": [
    "###Mapping choices to a binary judgement:"
   ]
  },
  {
   "cell_type": "code",
   "execution_count": null,
   "metadata": {
    "collapsed": true
   },
   "outputs": [],
   "source": [
    "# take positive votes only, indirect is yes\n",
    "res_positive_yes = aggregate_results(\"uniq_id\", \"verify_relationship\", clean_data,\n",
    "                                    \"positive_signal_only\", [\"pmid\", \"_unit_id\", \"chemical_id\", \"disease_id\"],\n",
    "                                    \"yes_direct\", {\"yes_indirect\" : \"yes_direct\", \"ner_mistake\": \"no_relation\"})"
   ]
  },
  {
   "cell_type": "code",
   "execution_count": null,
   "metadata": {
    "collapsed": true
   },
   "outputs": [],
   "source": [
    "# take positive votes only, indirect is yes\n",
    "res_positive_no = aggregate_results(\"uniq_id\", \"verify_relationship\", clean_data,\n",
    "                                    \"positive_signal_only\", [\"pmid\", \"_unit_id\", \"chemical_id\", \"disease_id\"],\n",
    "                                    \"yes_direct\", {\"yes_indirect\" : \"no_relation\", \"ner_mistake\": \"no_relation\"})"
   ]
  },
  {
   "cell_type": "code",
   "execution_count": null,
   "metadata": {
    "collapsed": false
   },
   "outputs": [],
   "source": [
    "res_positive_yes.head()"
   ]
  },
  {
   "cell_type": "code",
   "execution_count": null,
   "metadata": {
    "collapsed": false
   },
   "outputs": [],
   "source": [
    "res_positive_no.head()"
   ]
  },
  {
   "cell_type": "markdown",
   "metadata": {
    "collapsed": true
   },
   "source": [
    "###Add the in_gold column to each result dataframe:"
   ]
  },
  {
   "cell_type": "code",
   "execution_count": null,
   "metadata": {
    "collapsed": true
   },
   "outputs": [],
   "source": [
    "def in_gold(row):\n",
    "    pmid = int(row[\"pmid\"])\n",
    "    return int(development_set[pmid].has_relation(Relation(pmid, row[\"chemical_id\"], row[\"disease_id\"])))"
   ]
  },
  {
   "cell_type": "code",
   "execution_count": null,
   "metadata": {
    "collapsed": true
   },
   "outputs": [],
   "source": [
    "res_positive_yes[\"in_gold\"] = res_positive_yes.loc[:, [\"pmid\", \"chemical_id\", \"disease_id\"]].apply(in_gold, axis = 1)"
   ]
  },
  {
   "cell_type": "code",
   "execution_count": null,
   "metadata": {
    "collapsed": true
   },
   "outputs": [],
   "source": [
    "res_positive_no[\"in_gold\"] = res_positive_no.loc[:, [\"pmid\", \"chemical_id\", \"disease_id\"]].apply(in_gold, axis = 1)"
   ]
  },
  {
   "cell_type": "code",
   "execution_count": null,
   "metadata": {
    "collapsed": false,
    "scrolled": true
   },
   "outputs": [],
   "source": [
    "res_positive_yes.head()"
   ]
  },
  {
   "cell_type": "code",
   "execution_count": null,
   "metadata": {
    "collapsed": false
   },
   "outputs": [],
   "source": [
    "res_positive_no.head()"
   ]
  },
  {
   "cell_type": "code",
   "execution_count": null,
   "metadata": {
    "collapsed": false
   },
   "outputs": [],
   "source": [
    "res_positive_yes[\"in_gold\"].value_counts()"
   ]
  },
  {
   "cell_type": "code",
   "execution_count": null,
   "metadata": {
    "collapsed": false
   },
   "outputs": [],
   "source": [
    "res_positive_yes.shape"
   ]
  },
  {
   "cell_type": "code",
   "execution_count": null,
   "metadata": {
    "collapsed": true
   },
   "outputs": [],
   "source": [
    "res_positive_yes = res_positive_yes.query(\"verify_relationship == 'yes_direct'\")"
   ]
  },
  {
   "cell_type": "code",
   "execution_count": null,
   "metadata": {
    "collapsed": true
   },
   "outputs": [],
   "source": [
    "res_positive_no = res_positive_no.query(\"verify_relationship == 'yes_direct'\")"
   ]
  },
  {
   "cell_type": "code",
   "execution_count": null,
   "metadata": {
    "collapsed": false
   },
   "outputs": [],
   "source": [
    "res_positive_yes.shape"
   ]
  },
  {
   "cell_type": "code",
   "execution_count": null,
   "metadata": {
    "collapsed": false
   },
   "outputs": [],
   "source": [
    "res_positive_no.shape"
   ]
  },
  {
   "cell_type": "code",
   "execution_count": null,
   "metadata": {
    "collapsed": false
   },
   "outputs": [],
   "source": [
    "res_positive_yes.head()"
   ]
  },
  {
   "cell_type": "code",
   "execution_count": null,
   "metadata": {
    "collapsed": false
   },
   "outputs": [],
   "source": [
    "fname = \"data/roc/job_758438_non_majority_metric_indirect_is_yes.png\"\n",
    "title = \"ROC for job 758438 (abstract level) testing non-majority voting aggregation (indirect is yes)\"\n",
    "get_AUC_value(res_positive_yes, \"percent_agree\", \"in_gold\", fname, title)"
   ]
  },
  {
   "cell_type": "code",
   "execution_count": null,
   "metadata": {
    "collapsed": false
   },
   "outputs": [],
   "source": [
    "Image(fname)"
   ]
  },
  {
   "cell_type": "code",
   "execution_count": null,
   "metadata": {
    "collapsed": false
   },
   "outputs": [],
   "source": [
    "fname = \"data/roc/job_758438_non_majority_metric_indirect_is_no.png\"\n",
    "title = \"ROC for job 758438 (abstract level) testing non-majority voting aggregation (indirect is no)\"\n",
    "get_AUC_value(res_positive_no, \"percent_agree\", \"in_gold\", fname, title)"
   ]
  },
  {
   "cell_type": "code",
   "execution_count": null,
   "metadata": {
    "collapsed": false
   },
   "outputs": [],
   "source": [
    "Image(fname)"
   ]
  },
  {
   "cell_type": "code",
   "execution_count": null,
   "metadata": {
    "collapsed": false
   },
   "outputs": [],
   "source": [
    "max_F_score(\"percent_agree\", \"in_gold\", res_positive_yes)"
   ]
  },
  {
   "cell_type": "code",
   "execution_count": null,
   "metadata": {
    "collapsed": false
   },
   "outputs": [],
   "source": [
    "max_F_score(\"percent_agree\", \"in_gold\", res_positive_no)"
   ]
  },
  {
   "cell_type": "code",
   "execution_count": null,
   "metadata": {
    "collapsed": true
   },
   "outputs": [],
   "source": [
    "def plot_results(score_column, class_column, dataframe):\n",
    "    res = all_F_scores(score_column, class_column, dataframe)\n",
    "    res = res.sort(\"threshold\")\n",
    "    \n",
    "    graph = res.plot(x = \"threshold\", figsize = (7, 7))\n",
    "    graph.set_ylim((0, 1.1))"
   ]
  },
  {
   "cell_type": "code",
   "execution_count": null,
   "metadata": {
    "collapsed": false
   },
   "outputs": [],
   "source": [
    "plot_results(\"percent_agree\", \"in_gold\", res_positive_yes)"
   ]
  },
  {
   "cell_type": "code",
   "execution_count": null,
   "metadata": {
    "collapsed": false
   },
   "outputs": [],
   "source": [
    "plot_results(\"percent_agree\", \"in_gold\", res_positive_no)"
   ]
  },
  {
   "cell_type": "code",
   "execution_count": null,
   "metadata": {
    "collapsed": false
   },
   "outputs": [],
   "source": [
    "plot_results(\"num_votes\", \"in_gold\", res_positive_yes)"
   ]
  },
  {
   "cell_type": "code",
   "execution_count": null,
   "metadata": {
    "collapsed": false
   },
   "outputs": [],
   "source": [
    "plot_results(\"num_votes\", \"in_gold\", res_positive_no)"
   ]
  },
  {
   "cell_type": "markdown",
   "metadata": {},
   "source": [
    "---"
   ]
  },
  {
   "cell_type": "markdown",
   "metadata": {},
   "source": [
    "###Filter original cleaned data by the number of votes we got at the end:"
   ]
  },
  {
   "cell_type": "code",
   "execution_count": null,
   "metadata": {
    "collapsed": true
   },
   "outputs": [],
   "source": [
    "sub_pos_yes = res_positive_yes.query(\"uniq_id in {0}\".format(list(unit_votes[5])))"
   ]
  },
  {
   "cell_type": "code",
   "execution_count": null,
   "metadata": {
    "collapsed": true
   },
   "outputs": [],
   "source": [
    "sub_pos_no = res_positive_no.query(\"uniq_id in {0}\".format(list(unit_votes[5])))"
   ]
  },
  {
   "cell_type": "code",
   "execution_count": null,
   "metadata": {
    "collapsed": false
   },
   "outputs": [],
   "source": [
    "sub_pos_yes.shape"
   ]
  },
  {
   "cell_type": "code",
   "execution_count": null,
   "metadata": {
    "collapsed": false
   },
   "outputs": [],
   "source": [
    "sub_pos_no.shape"
   ]
  },
  {
   "cell_type": "code",
   "execution_count": null,
   "metadata": {
    "collapsed": false
   },
   "outputs": [],
   "source": [
    "fname = \"data/roc/job_758438_non_majority_metric_indirect_is_yes_5_votes_only.png\"\n",
    "title = (\"ROC for job 758438 (abstract level) testing non-majority voting aggregation\\n\"\n",
    "    \"(indirect is yes); only units with 5 votes\")\n",
    "get_AUC_value(sub_pos_yes, \"percent_agree\", \"in_gold\", fname, title)"
   ]
  },
  {
   "cell_type": "code",
   "execution_count": null,
   "metadata": {
    "collapsed": false
   },
   "outputs": [],
   "source": [
    "Image(fname)"
   ]
  },
  {
   "cell_type": "code",
   "execution_count": null,
   "metadata": {
    "collapsed": false
   },
   "outputs": [],
   "source": [
    "fname = \"data/roc/job_758438_non_majority_metric_indirect_is_no_5_votes_only.png\"\n",
    "title = (\"ROC for job 758438 (abstract level) testing non-majority voting aggregation\\n\"\n",
    "    \"(indirect is no); only units with 5 votes\")\n",
    "get_AUC_value(sub_pos_no, \"percent_agree\", \"in_gold\", fname, title)"
   ]
  },
  {
   "cell_type": "code",
   "execution_count": null,
   "metadata": {
    "collapsed": false
   },
   "outputs": [],
   "source": [
    "Image(fname)"
   ]
  },
  {
   "cell_type": "code",
   "execution_count": null,
   "metadata": {
    "collapsed": false
   },
   "outputs": [],
   "source": [
    "max_F_score(\"percent_agree\", \"in_gold\", sub_pos_yes)"
   ]
  },
  {
   "cell_type": "code",
   "execution_count": null,
   "metadata": {
    "collapsed": false
   },
   "outputs": [],
   "source": [
    "max_F_score(\"percent_agree\", \"in_gold\", sub_pos_no)"
   ]
  },
  {
   "cell_type": "code",
   "execution_count": null,
   "metadata": {
    "collapsed": false
   },
   "outputs": [],
   "source": [
    "max_F_score(\"num_votes\", \"in_gold\", sub_pos_yes)"
   ]
  },
  {
   "cell_type": "code",
   "execution_count": null,
   "metadata": {
    "collapsed": false
   },
   "outputs": [],
   "source": [
    "max_F_score(\"num_votes\", \"in_gold\", sub_pos_no)"
   ]
  },
  {
   "cell_type": "code",
   "execution_count": null,
   "metadata": {
    "collapsed": false
   },
   "outputs": [],
   "source": [
    "plot_results(\"percent_agree\", \"in_gold\", sub_pos_yes)"
   ]
  },
  {
   "cell_type": "code",
   "execution_count": null,
   "metadata": {
    "collapsed": false
   },
   "outputs": [],
   "source": [
    "plot_results(\"percent_agree\", \"in_gold\", sub_pos_no)"
   ]
  },
  {
   "cell_type": "code",
   "execution_count": null,
   "metadata": {
    "collapsed": false
   },
   "outputs": [],
   "source": [
    "plot_results(\"num_votes\", \"in_gold\", sub_pos_yes)"
   ]
  },
  {
   "cell_type": "code",
   "execution_count": null,
   "metadata": {
    "collapsed": false
   },
   "outputs": [],
   "source": [
    "plot_results(\"num_votes\", \"in_gold\", sub_pos_no)"
   ]
  },
  {
   "cell_type": "code",
   "execution_count": null,
   "metadata": {
    "collapsed": true
   },
   "outputs": [],
   "source": [
    "sub_pos_yes = res_positive_yes.query(\"uniq_id in {0}\".format(list(unit_votes[4] | unit_votes[5])))"
   ]
  },
  {
   "cell_type": "code",
   "execution_count": null,
   "metadata": {
    "collapsed": true
   },
   "outputs": [],
   "source": [
    "sub_pos_no = res_positive_no.query(\"uniq_id in {0}\".format(list(unit_votes[4] | unit_votes[5])))"
   ]
  },
  {
   "cell_type": "code",
   "execution_count": null,
   "metadata": {
    "collapsed": false
   },
   "outputs": [],
   "source": [
    "fname = \"data/roc/job_758438_non_majority_metric_indirect_is_yes_4_5_votes_only.png\"\n",
    "title = (\"ROC for job 758438 (abstract level) testing non-majority voting aggregation\\n\"\n",
    "    \"(indirect is yes); only units with 4 and 5 votes\")\n",
    "get_AUC_value(sub_pos_yes, \"percent_agree\", \"in_gold\", fname, title)"
   ]
  },
  {
   "cell_type": "code",
   "execution_count": null,
   "metadata": {
    "collapsed": false
   },
   "outputs": [],
   "source": [
    "Image(fname)"
   ]
  },
  {
   "cell_type": "code",
   "execution_count": null,
   "metadata": {
    "collapsed": false
   },
   "outputs": [],
   "source": [
    "fname = \"data/roc/job_758438_non_majority_metric_indirect_is_no_4_5_votes_only.png\"\n",
    "title = (\"ROC for job 758438 (abstract level) testing non-majority voting aggregation\\n\"\n",
    "    \"(indirect is no); only units with 4 and 5 votes\")\n",
    "get_AUC_value(sub_pos_no, \"percent_agree\", \"in_gold\", fname, title)"
   ]
  },
  {
   "cell_type": "code",
   "execution_count": null,
   "metadata": {
    "collapsed": false
   },
   "outputs": [],
   "source": [
    "Image(fname)"
   ]
  },
  {
   "cell_type": "code",
   "execution_count": null,
   "metadata": {
    "collapsed": false
   },
   "outputs": [],
   "source": [
    "max_F_score(\"percent_agree\", \"in_gold\", sub_pos_yes)"
   ]
  },
  {
   "cell_type": "code",
   "execution_count": null,
   "metadata": {
    "collapsed": false
   },
   "outputs": [],
   "source": [
    "max_F_score(\"percent_agree\", \"in_gold\", sub_pos_no)"
   ]
  },
  {
   "cell_type": "code",
   "execution_count": null,
   "metadata": {
    "collapsed": false
   },
   "outputs": [],
   "source": [
    "plot_results(\"percent_agree\", \"in_gold\", sub_pos_yes)"
   ]
  },
  {
   "cell_type": "code",
   "execution_count": null,
   "metadata": {
    "collapsed": false
   },
   "outputs": [],
   "source": [
    "plot_results(\"percent_agree\", \"in_gold\", sub_pos_no)"
   ]
  },
  {
   "cell_type": "code",
   "execution_count": null,
   "metadata": {
    "collapsed": false
   },
   "outputs": [],
   "source": [
    "plot_results(\"num_votes\", \"in_gold\", sub_pos_yes)"
   ]
  },
  {
   "cell_type": "code",
   "execution_count": null,
   "metadata": {
    "collapsed": false
   },
   "outputs": [],
   "source": [
    "plot_results(\"num_votes\", \"in_gold\", sub_pos_no)"
   ]
  },
  {
   "cell_type": "markdown",
   "metadata": {},
   "source": [
    "## Conclusion\n",
    "\n",
    "Workers did very poorly this time on the completely new data. The cheaters greatly decreased the number of work units which were done to completion. It also seems like the people were just not as good this time, since the F-score is almost 0.2 lower than before.\n",
    "\n",
    "It still concerns me that the majority of the relations tested are supposed to be false according to the gold standard."
   ]
  }
 ],
 "metadata": {
  "kernelspec": {
   "display_name": "Python 2",
   "language": "python",
   "name": "python2"
  },
  "language_info": {
   "codemirror_mode": {
    "name": "ipython",
    "version": 2
   },
   "file_extension": ".py",
   "mimetype": "text/x-python",
   "name": "python",
   "nbconvert_exporter": "python",
   "pygments_lexer": "ipython2",
   "version": "2.7.10"
  }
 },
 "nbformat": 4,
 "nbformat_minor": 0
}
