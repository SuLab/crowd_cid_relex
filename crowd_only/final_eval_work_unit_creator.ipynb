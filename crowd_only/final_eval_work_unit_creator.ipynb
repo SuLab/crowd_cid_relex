{
 "cells": [
  {
   "cell_type": "markdown",
   "metadata": {},
   "source": [
    "# BioCreative V Task 3 Evaluation CrowdFlower Work Unit Formatter\n",
    "\n",
    "Tong Shu Li<br>\n",
    "Created on: Monday 2015-08-17<br>\n",
    "Last updated: 2015-08-21\n",
    "\n",
    "This file formats the data for the final evaluation of BioCreative V for CrowdFlower.\n",
    "\n",
    "The <code>classify_relations()</code> routine of the <code>Sentence</code> and <code>Paper</code> objects have already separated all possible chemical-disease relation pairs into three disjoint categories:\n",
    "\n",
    "1. Relations which follow the \"[chemical]-induced [disease]\" (CID) structure.\n",
    "2. Relations which co-occur within a sentence but do not follow the CID structure.\n",
    "3. Relations which do not co-occur within any sentences.\n",
    "\n",
    "This notebook takes the relation pairs in each category and generates the information needed for the CrowdFlower interface. No decision making about which category each relation belong to is performed here."
   ]
  },
  {
   "cell_type": "code",
   "execution_count": 1,
   "metadata": {
    "collapsed": true
   },
   "outputs": [],
   "source": [
    "from collections import defaultdict\n",
    "import os\n",
    "import pandas as pd\n",
    "import pickle"
   ]
  },
  {
   "cell_type": "code",
   "execution_count": 2,
   "metadata": {
    "collapsed": false
   },
   "outputs": [],
   "source": [
    "from src.data_model import parse_input\n",
    "from src.make_sections import create_sections"
   ]
  },
  {
   "cell_type": "code",
   "execution_count": 3,
   "metadata": {
    "collapsed": true
   },
   "outputs": [],
   "source": [
    "def add_simple_tag(tag_name, tag_class, text):\n",
    "    return \"<{0} class=\\\"{1}\\\">{2}</{0}>\".format(tag_name, tag_class, text)"
   ]
  },
  {
   "cell_type": "markdown",
   "metadata": {},
   "source": [
    "---"
   ]
  },
  {
   "cell_type": "markdown",
   "metadata": {},
   "source": [
    "### Read the evaluation test set:"
   ]
  },
  {
   "cell_type": "code",
   "execution_count": 4,
   "metadata": {
    "collapsed": false
   },
   "outputs": [],
   "source": [
    "loc = \"data/final_eval\"\n",
    "fname = \"CDR_annotated_testset.txt\"\n",
    "\n",
    "testset = parse_input(loc, fname, is_gold = False, return_format = \"list\")"
   ]
  },
  {
   "cell_type": "code",
   "execution_count": 5,
   "metadata": {
    "collapsed": false
   },
   "outputs": [
    {
     "data": {
      "text/plain": [
       "500"
      ]
     },
     "execution_count": 5,
     "metadata": {},
     "output_type": "execute_result"
    }
   ],
   "source": [
    "len(testset)"
   ]
  },
  {
   "cell_type": "markdown",
   "metadata": {},
   "source": [
    "---"
   ]
  },
  {
   "cell_type": "markdown",
   "metadata": {},
   "source": [
    "### Highlighting functions:"
   ]
  },
  {
   "cell_type": "code",
   "execution_count": 6,
   "metadata": {
    "collapsed": true
   },
   "outputs": [],
   "source": [
    "def highlight_concepts(text, breaks):\n",
    "    \"\"\"\n",
    "    Inserts HTML tags around the pieces of text\n",
    "    which need to be highlighted in a string.\n",
    "    \"\"\"\n",
    "    breaks = sorted(breaks, key = lambda x: x[0])\n",
    "    \n",
    "    final = []\n",
    "    for i in range(len(breaks) - 1):\n",
    "        s = text[breaks[i][0] : breaks[i+1][0]]\n",
    "        if breaks[i][1] != \"n\":\n",
    "            s = add_simple_tag(\"span\", breaks[i][1], s)\n",
    "            \n",
    "        final.append(s)\n",
    "        \n",
    "    return \"\".join(final)"
   ]
  },
  {
   "cell_type": "code",
   "execution_count": 7,
   "metadata": {
    "collapsed": true
   },
   "outputs": [],
   "source": [
    "def highlight_text(text, offset, uniq_spans):\n",
    "    \"\"\"\n",
    "    Given a string and the annotations which fall\n",
    "    within this string, highlights the concepts.\n",
    "    \"\"\"\n",
    "    # index of break, type of break (n = nothing)\n",
    "    breaks = [(0, \"n\"), (len(text), \"n\")]\n",
    "    \n",
    "    for span in uniq_spans:\n",
    "        breaks.append((span.start - offset, span.stype))\n",
    "        breaks.append((span.stop - offset, \"n\"))\n",
    "            \n",
    "    return highlight_concepts(text, breaks)"
   ]
  },
  {
   "cell_type": "markdown",
   "metadata": {},
   "source": [
    "---"
   ]
  },
  {
   "cell_type": "markdown",
   "metadata": {},
   "source": [
    "### Processors for each of the subtasks:"
   ]
  },
  {
   "cell_type": "code",
   "execution_count": 8,
   "metadata": {
    "collapsed": true
   },
   "outputs": [],
   "source": [
    "def flat_repr(id_set):\n",
    "    \"\"\"Makes a string out of the ID frozenset.\"\"\"\n",
    "    vals = sorted([\"{0}:{1}\".format(v.uid_type, v.uid) for v in id_set])\n",
    "    return \"|\".join(vals)"
   ]
  },
  {
   "cell_type": "code",
   "execution_count": 9,
   "metadata": {
    "collapsed": true
   },
   "outputs": [],
   "source": [
    "def grab_names(annotations):\n",
    "    \"\"\"Determines the unique names of the annotations.\"\"\"\n",
    "    used_names = defaultdict(set) # lower case set of used names (to avoid repeats)\n",
    "    real_name = defaultdict(set) # set of unique names verbatim (to preseve capitalization)\n",
    "    for annotation in annotations:\n",
    "        if annotation.text.lower() not in used_names[annotation.stype]:\n",
    "            used_names[annotation.stype].add(annotation.text.lower())\n",
    "            real_name[annotation.stype].add(annotation.text)\n",
    "            \n",
    "    return real_name"
   ]
  },
  {
   "cell_type": "code",
   "execution_count": 10,
   "metadata": {
    "collapsed": true
   },
   "outputs": [],
   "source": [
    "def process_sentence_task(sentence, rel_pairs):\n",
    "    \"\"\"\n",
    "    Given a Sentence object, and the set of chemical-disease relation\n",
    "    identifier pairs, creates a set of sentence-level verification tasks.\n",
    "    \"\"\"\n",
    "    data = defaultdict(list)\n",
    "    for chemical_id, disease_id in rel_pairs:\n",
    "        spans = [annotation for annotation in sentence.annotations if annotation.uid in [chemical_id, disease_id]]\n",
    "        real_name = grab_names(spans)\n",
    "\n",
    "        data[\"pmid\"].append(sentence.pmid)\n",
    "        \n",
    "        data[\"form_sentence\"].append(highlight_text(sentence.text, sentence.start, spans))\n",
    "        \n",
    "        flat_chem_id = flat_repr(chemical_id)\n",
    "        flat_dise_id = flat_repr(disease_id)\n",
    "        \n",
    "        data[\"chemical_id\"].append(flat_chem_id)\n",
    "        data[\"disease_id\"].append(flat_dise_id)\n",
    "        \n",
    "        data[\"chemical_name\"].append(add_simple_tag(\"span\", \"chemical\", \"/\".join(real_name[\"chemical\"])))\n",
    "        data[\"disease_name\"].append(add_simple_tag(\"span\", \"disease\", \"/\".join(real_name[\"disease\"])))\n",
    "        \n",
    "        data[\"relation_pair_id\"].append(\"{0}_{1}_{2}\".format(sentence.pmid, flat_chem_id, flat_dise_id))\n",
    "        \n",
    "        data[\"sentence_id\"].append(sentence.uid)\n",
    "        \n",
    "    return pd.DataFrame(data)"
   ]
  },
  {
   "cell_type": "code",
   "execution_count": 11,
   "metadata": {
    "collapsed": true
   },
   "outputs": [],
   "source": [
    "def process_abstract_task(paper, rel_pairs):\n",
    "    \"\"\"Makes a set of abstract-level tasks for one paper.\"\"\"\n",
    "    data = defaultdict(list)\n",
    "    for chemical_id, disease_id in rel_pairs:\n",
    "        spans = [annotation for annotation in paper.annotations if annotation.uid in [chemical_id, disease_id]]\n",
    "        real_name = grab_names(spans)\n",
    "\n",
    "        form_title = highlight_text(paper.title, 0,\n",
    "                                    filter(lambda x: x.stop <= len(paper.title), spans))\n",
    "\n",
    "        form_abstract = highlight_text(paper.abstract, len(paper.title) + 1,\n",
    "                                       filter(lambda x: x.start > len(paper.title), spans))\n",
    "\n",
    "        form_abstract = create_sections(form_abstract)\n",
    "\n",
    "        data[\"pmid\"].append(paper.pmid)\n",
    "\n",
    "        data[\"form_title\"].append(form_title)\n",
    "        data[\"form_abstract\"].append(form_abstract)\n",
    "        \n",
    "        flat_chem_id = flat_repr(chemical_id)\n",
    "        flat_dise_id = flat_repr(disease_id)\n",
    "\n",
    "        data[\"chemical_id\"].append(flat_chem_id)\n",
    "        data[\"disease_id\"].append(flat_dise_id)\n",
    "        data[\"chemical_name\"].append(add_simple_tag(\"span\", \"chemical\", \"/\".join(real_name[\"chemical\"])))\n",
    "        data[\"disease_name\"].append(add_simple_tag(\"span\", \"disease\", \"/\".join(real_name[\"disease\"])))\n",
    "            \n",
    "    return pd.DataFrame(data)"
   ]
  },
  {
   "cell_type": "markdown",
   "metadata": {},
   "source": [
    "---"
   ]
  },
  {
   "cell_type": "markdown",
   "metadata": {},
   "source": [
    "### Create the work units for CrowdFlower:"
   ]
  },
  {
   "cell_type": "code",
   "execution_count": 12,
   "metadata": {
    "collapsed": true
   },
   "outputs": [],
   "source": [
    "def create_work_units(dataset):\n",
    "    \"\"\"\n",
    "    Given a list of Paper objects representing the abstracts\n",
    "    we wish to find the CID relations in, this function\n",
    "    creates the work units for the CrowdFlower tasks.\n",
    "    \n",
    "    CID relations are judged to be always true and no crowd\n",
    "    worker ever sees that relation.\n",
    "    \n",
    "    Each sentence-bound non-CID relation can create one or\n",
    "    multiple sentence-level work units, depending on how\n",
    "    many sentences in that abstract contain the relationship.\n",
    "    \n",
    "    Each non-sentence bound relation creates one abstract-level\n",
    "    work unit.\n",
    "    \n",
    "    Relation type classification is already done by the Paper\n",
    "    objects.\n",
    "    \"\"\"\n",
    "    cid_relations = dict()\n",
    "    easy_units = []\n",
    "    hard_units = []\n",
    "    for paper in dataset:\n",
    "        cid_relations[paper.pmid] = paper.poss_relations[\"CID\"]\n",
    "        \n",
    "        # create the sentence-level tasks:\n",
    "        for sentence in paper.sentences:\n",
    "            work = sentence.poss_relations[False] - paper.poss_relations[\"CID\"]\n",
    "            easy_units.append(process_sentence_task(sentence, work))\n",
    "                \n",
    "        # create the abstract-level tasks:\n",
    "        hard_units.append(process_abstract_task(paper, paper.poss_relations[\"not_sentence_bound\"]))\n",
    "            \n",
    "    # return two dataframes\n",
    "    easy_units = pd.concat(easy_units).reset_index(drop = True)\n",
    "    hard_units = pd.concat(hard_units).reset_index(drop = True)\n",
    "    \n",
    "    easy_units[\"uniq_id\"] = pd.Series([\"bcv_final_eval_easy_{0}\".format(i) for i in range(len(easy_units))])\n",
    "    hard_units[\"uniq_id\"] = pd.Series([\"bcv_final_eval_hard_{0}\".format(i) for i in range(len(hard_units))])\n",
    "    \n",
    "    return (cid_relations, easy_units, hard_units)"
   ]
  },
  {
   "cell_type": "code",
   "execution_count": 13,
   "metadata": {
    "collapsed": false
   },
   "outputs": [],
   "source": [
    "cid_relations, easy_units, hard_units = create_work_units(testset)"
   ]
  },
  {
   "cell_type": "code",
   "execution_count": 14,
   "metadata": {
    "collapsed": true
   },
   "outputs": [],
   "source": [
    "with open(\"data/final_eval/cid_relations.pickle\", \"wb\") as fout:\n",
    "    pickle.dump(cid_relations, fout)"
   ]
  },
  {
   "cell_type": "markdown",
   "metadata": {},
   "source": [
    "---"
   ]
  },
  {
   "cell_type": "code",
   "execution_count": 15,
   "metadata": {
    "collapsed": false
   },
   "outputs": [
    {
     "data": {
      "text/plain": [
       "(2940, 9)"
      ]
     },
     "execution_count": 15,
     "metadata": {},
     "output_type": "execute_result"
    }
   ],
   "source": [
    "easy_units.shape"
   ]
  },
  {
   "cell_type": "code",
   "execution_count": 16,
   "metadata": {
    "collapsed": false,
    "scrolled": true
   },
   "outputs": [
    {
     "data": {
      "text/html": [
       "<div>\n",
       "<table border=\"1\" class=\"dataframe\">\n",
       "  <thead>\n",
       "    <tr style=\"text-align: right;\">\n",
       "      <th></th>\n",
       "      <th>chemical_id</th>\n",
       "      <th>chemical_name</th>\n",
       "      <th>disease_id</th>\n",
       "      <th>disease_name</th>\n",
       "      <th>form_sentence</th>\n",
       "      <th>pmid</th>\n",
       "      <th>relation_pair_id</th>\n",
       "      <th>sentence_id</th>\n",
       "      <th>uniq_id</th>\n",
       "    </tr>\n",
       "  </thead>\n",
       "  <tbody>\n",
       "    <tr>\n",
       "      <th>0</th>\n",
       "      <td>MESH:D015738</td>\n",
       "      <td>&lt;span class=\"chemical\"&gt;Famotidine&lt;/span&gt;</td>\n",
       "      <td>MESH:D003693</td>\n",
       "      <td>&lt;span class=\"disease\"&gt;delirium&lt;/span&gt;</td>\n",
       "      <td>&lt;span class=\"chemical\"&gt;Famotidine&lt;/span&gt;-assoc...</td>\n",
       "      <td>0</td>\n",
       "      <td>0_MESH:D015738_MESH:D003693</td>\n",
       "      <td>0_0</td>\n",
       "      <td>bcv_final_eval_easy_0</td>\n",
       "    </tr>\n",
       "    <tr>\n",
       "      <th>1</th>\n",
       "      <td>MESH:D006632</td>\n",
       "      <td>&lt;span class=\"chemical\"&gt;histamine&lt;/span&gt;</td>\n",
       "      <td>MESH:D014456</td>\n",
       "      <td>&lt;span class=\"disease\"&gt;ulcers&lt;/span&gt;</td>\n",
       "      <td>Famotidine is a &lt;span class=\"chemical\"&gt;histami...</td>\n",
       "      <td>0</td>\n",
       "      <td>0_MESH:D006632_MESH:D014456</td>\n",
       "      <td>0_1</td>\n",
       "      <td>bcv_final_eval_easy_1</td>\n",
       "    </tr>\n",
       "    <tr>\n",
       "      <th>2</th>\n",
       "      <td>MESH:D015738</td>\n",
       "      <td>&lt;span class=\"chemical\"&gt;Famotidine&lt;/span&gt;</td>\n",
       "      <td>MESH:D014456</td>\n",
       "      <td>&lt;span class=\"disease\"&gt;ulcers&lt;/span&gt;</td>\n",
       "      <td>&lt;span class=\"chemical\"&gt;Famotidine&lt;/span&gt; is a ...</td>\n",
       "      <td>0</td>\n",
       "      <td>0_MESH:D015738_MESH:D014456</td>\n",
       "      <td>0_1</td>\n",
       "      <td>bcv_final_eval_easy_2</td>\n",
       "    </tr>\n",
       "    <tr>\n",
       "      <th>3</th>\n",
       "      <td>MESH:D015738</td>\n",
       "      <td>&lt;span class=\"chemical\"&gt;famotidine&lt;/span&gt;</td>\n",
       "      <td>MESH:D003693</td>\n",
       "      <td>&lt;span class=\"disease\"&gt;delirium&lt;/span&gt;</td>\n",
       "      <td>Although all of the currently available H2-rec...</td>\n",
       "      <td>0</td>\n",
       "      <td>0_MESH:D015738_MESH:D003693</td>\n",
       "      <td>0_2</td>\n",
       "      <td>bcv_final_eval_easy_3</td>\n",
       "    </tr>\n",
       "    <tr>\n",
       "      <th>4</th>\n",
       "      <td>MESH:D015738</td>\n",
       "      <td>&lt;span class=\"chemical\"&gt;famotidine&lt;/span&gt;</td>\n",
       "      <td>MESH:D003693</td>\n",
       "      <td>&lt;span class=\"disease\"&gt;delirium&lt;/span&gt;</td>\n",
       "      <td>The authors report on six cases of &lt;span class...</td>\n",
       "      <td>0</td>\n",
       "      <td>0_MESH:D015738_MESH:D003693</td>\n",
       "      <td>0_3</td>\n",
       "      <td>bcv_final_eval_easy_4</td>\n",
       "    </tr>\n",
       "  </tbody>\n",
       "</table>\n",
       "</div>"
      ],
      "text/plain": [
       "    chemical_id                             chemical_name    disease_id  \\\n",
       "0  MESH:D015738  <span class=\"chemical\">Famotidine</span>  MESH:D003693   \n",
       "1  MESH:D006632   <span class=\"chemical\">histamine</span>  MESH:D014456   \n",
       "2  MESH:D015738  <span class=\"chemical\">Famotidine</span>  MESH:D014456   \n",
       "3  MESH:D015738  <span class=\"chemical\">famotidine</span>  MESH:D003693   \n",
       "4  MESH:D015738  <span class=\"chemical\">famotidine</span>  MESH:D003693   \n",
       "\n",
       "                            disease_name  \\\n",
       "0  <span class=\"disease\">delirium</span>   \n",
       "1    <span class=\"disease\">ulcers</span>   \n",
       "2    <span class=\"disease\">ulcers</span>   \n",
       "3  <span class=\"disease\">delirium</span>   \n",
       "4  <span class=\"disease\">delirium</span>   \n",
       "\n",
       "                                       form_sentence  pmid  \\\n",
       "0  <span class=\"chemical\">Famotidine</span>-assoc...     0   \n",
       "1  Famotidine is a <span class=\"chemical\">histami...     0   \n",
       "2  <span class=\"chemical\">Famotidine</span> is a ...     0   \n",
       "3  Although all of the currently available H2-rec...     0   \n",
       "4  The authors report on six cases of <span class...     0   \n",
       "\n",
       "              relation_pair_id sentence_id                uniq_id  \n",
       "0  0_MESH:D015738_MESH:D003693         0_0  bcv_final_eval_easy_0  \n",
       "1  0_MESH:D006632_MESH:D014456         0_1  bcv_final_eval_easy_1  \n",
       "2  0_MESH:D015738_MESH:D014456         0_1  bcv_final_eval_easy_2  \n",
       "3  0_MESH:D015738_MESH:D003693         0_2  bcv_final_eval_easy_3  \n",
       "4  0_MESH:D015738_MESH:D003693         0_3  bcv_final_eval_easy_4  "
      ]
     },
     "execution_count": 16,
     "metadata": {},
     "output_type": "execute_result"
    }
   ],
   "source": [
    "easy_units.head()"
   ]
  },
  {
   "cell_type": "code",
   "execution_count": 17,
   "metadata": {
    "collapsed": false
   },
   "outputs": [
    {
     "data": {
      "text/plain": [
       "(2760, 8)"
      ]
     },
     "execution_count": 17,
     "metadata": {},
     "output_type": "execute_result"
    }
   ],
   "source": [
    "hard_units.shape"
   ]
  },
  {
   "cell_type": "code",
   "execution_count": 18,
   "metadata": {
    "collapsed": false
   },
   "outputs": [
    {
     "data": {
      "text/html": [
       "<div>\n",
       "<table border=\"1\" class=\"dataframe\">\n",
       "  <thead>\n",
       "    <tr style=\"text-align: right;\">\n",
       "      <th></th>\n",
       "      <th>chemical_id</th>\n",
       "      <th>chemical_name</th>\n",
       "      <th>disease_id</th>\n",
       "      <th>disease_name</th>\n",
       "      <th>form_abstract</th>\n",
       "      <th>form_title</th>\n",
       "      <th>pmid</th>\n",
       "      <th>uniq_id</th>\n",
       "    </tr>\n",
       "  </thead>\n",
       "  <tbody>\n",
       "    <tr>\n",
       "      <th>0</th>\n",
       "      <td>MESH:D006632</td>\n",
       "      <td>&lt;span class=\"chemical\"&gt;histamine&lt;/span&gt;</td>\n",
       "      <td>MESH:D003693</td>\n",
       "      <td>&lt;span class=\"disease\"&gt;delirium&lt;/span&gt;</td>\n",
       "      <td>Famotidine is a &lt;span class=\"chemical\"&gt;histami...</td>\n",
       "      <td>Famotidine-associated &lt;span class=\"disease\"&gt;de...</td>\n",
       "      <td>0</td>\n",
       "      <td>bcv_final_eval_hard_0</td>\n",
       "    </tr>\n",
       "    <tr>\n",
       "      <th>1</th>\n",
       "      <td>MESH:D000809</td>\n",
       "      <td>&lt;span class=\"chemical\"&gt;angiotensin&lt;/span&gt;</td>\n",
       "      <td>MESH:D007022</td>\n",
       "      <td>&lt;span class=\"disease\"&gt;hypotension&lt;/span&gt;</td>\n",
       "      <td>After a single oral dose of 4 mg/kg indomethac...</td>\n",
       "      <td>Indomethacin induced &lt;span class=\"disease\"&gt;hyp...</td>\n",
       "      <td>1</td>\n",
       "      <td>bcv_final_eval_hard_1</td>\n",
       "    </tr>\n",
       "    <tr>\n",
       "      <th>2</th>\n",
       "      <td>MESH:D011239</td>\n",
       "      <td>&lt;span class=\"chemical\"&gt;prednisolone&lt;/span&gt;</td>\n",
       "      <td>MESH:D012595</td>\n",
       "      <td>&lt;span class=\"disease\"&gt;systemic sclerosis/SSc&lt;/...</td>\n",
       "      <td>Scleroderma renal crisis (SRC) is a rare compl...</td>\n",
       "      <td>Late-onset scleroderma renal crisis induced by...</td>\n",
       "      <td>2</td>\n",
       "      <td>bcv_final_eval_hard_2</td>\n",
       "    </tr>\n",
       "    <tr>\n",
       "      <th>3</th>\n",
       "      <td>MESH:D011239</td>\n",
       "      <td>&lt;span class=\"chemical\"&gt;prednisolone&lt;/span&gt;</td>\n",
       "      <td>MESH:D057049</td>\n",
       "      <td>&lt;span class=\"disease\"&gt;thrombotic microangiopat...</td>\n",
       "      <td>Scleroderma renal crisis (SRC) is a rare compl...</td>\n",
       "      <td>Late-onset scleroderma renal crisis induced by...</td>\n",
       "      <td>2</td>\n",
       "      <td>bcv_final_eval_hard_3</td>\n",
       "    </tr>\n",
       "    <tr>\n",
       "      <th>4</th>\n",
       "      <td>MESH:D016572</td>\n",
       "      <td>&lt;span class=\"chemical\"&gt;cyclosporine&lt;/span&gt;</td>\n",
       "      <td>MESH:D007674</td>\n",
       "      <td>&lt;span class=\"disease\"&gt;scleroderma renal crisis...</td>\n",
       "      <td>&lt;span class=\"disease\"&gt;Scleroderma renal crisis...</td>\n",
       "      <td>Late-onset &lt;span class=\"disease\"&gt;scleroderma r...</td>\n",
       "      <td>2</td>\n",
       "      <td>bcv_final_eval_hard_4</td>\n",
       "    </tr>\n",
       "  </tbody>\n",
       "</table>\n",
       "</div>"
      ],
      "text/plain": [
       "    chemical_id                               chemical_name    disease_id  \\\n",
       "0  MESH:D006632     <span class=\"chemical\">histamine</span>  MESH:D003693   \n",
       "1  MESH:D000809   <span class=\"chemical\">angiotensin</span>  MESH:D007022   \n",
       "2  MESH:D011239  <span class=\"chemical\">prednisolone</span>  MESH:D012595   \n",
       "3  MESH:D011239  <span class=\"chemical\">prednisolone</span>  MESH:D057049   \n",
       "4  MESH:D016572  <span class=\"chemical\">cyclosporine</span>  MESH:D007674   \n",
       "\n",
       "                                        disease_name  \\\n",
       "0              <span class=\"disease\">delirium</span>   \n",
       "1           <span class=\"disease\">hypotension</span>   \n",
       "2  <span class=\"disease\">systemic sclerosis/SSc</...   \n",
       "3  <span class=\"disease\">thrombotic microangiopat...   \n",
       "4  <span class=\"disease\">scleroderma renal crisis...   \n",
       "\n",
       "                                       form_abstract  \\\n",
       "0  Famotidine is a <span class=\"chemical\">histami...   \n",
       "1  After a single oral dose of 4 mg/kg indomethac...   \n",
       "2  Scleroderma renal crisis (SRC) is a rare compl...   \n",
       "3  Scleroderma renal crisis (SRC) is a rare compl...   \n",
       "4  <span class=\"disease\">Scleroderma renal crisis...   \n",
       "\n",
       "                                          form_title  pmid  \\\n",
       "0  Famotidine-associated <span class=\"disease\">de...     0   \n",
       "1  Indomethacin induced <span class=\"disease\">hyp...     1   \n",
       "2  Late-onset scleroderma renal crisis induced by...     2   \n",
       "3  Late-onset scleroderma renal crisis induced by...     2   \n",
       "4  Late-onset <span class=\"disease\">scleroderma r...     2   \n",
       "\n",
       "                 uniq_id  \n",
       "0  bcv_final_eval_hard_0  \n",
       "1  bcv_final_eval_hard_1  \n",
       "2  bcv_final_eval_hard_2  \n",
       "3  bcv_final_eval_hard_3  \n",
       "4  bcv_final_eval_hard_4  "
      ]
     },
     "execution_count": 18,
     "metadata": {},
     "output_type": "execute_result"
    }
   ],
   "source": [
    "hard_units.head()"
   ]
  },
  {
   "cell_type": "markdown",
   "metadata": {},
   "source": [
    "### Add the test questions:"
   ]
  },
  {
   "cell_type": "code",
   "execution_count": 19,
   "metadata": {
    "collapsed": true
   },
   "outputs": [],
   "source": [
    "sent_test_ques = pd.read_csv(\"data/crowdflower/test_questions/job_764099_test_questions.tsv\", sep = '\\t')"
   ]
  },
  {
   "cell_type": "code",
   "execution_count": 20,
   "metadata": {
    "collapsed": false
   },
   "outputs": [
    {
     "data": {
      "text/html": [
       "<div>\n",
       "<table border=\"1\" class=\"dataframe\">\n",
       "  <thead>\n",
       "    <tr style=\"text-align: right;\">\n",
       "      <th></th>\n",
       "      <th>verify_relationship_gold</th>\n",
       "      <th>verify_relationship_gold_reason</th>\n",
       "      <th>chemical_id</th>\n",
       "      <th>chemical_name</th>\n",
       "      <th>disease_id</th>\n",
       "      <th>disease_name</th>\n",
       "      <th>form_sentence</th>\n",
       "      <th>original_job_id</th>\n",
       "      <th>pmid</th>\n",
       "      <th>relation_pair_id</th>\n",
       "      <th>uniq_id</th>\n",
       "    </tr>\n",
       "  </thead>\n",
       "  <tbody>\n",
       "    <tr>\n",
       "      <th>0</th>\n",
       "      <td>no_relation</td>\n",
       "      <td>The receptors to 5-HT6 are related to psychoti...</td>\n",
       "      <td>D012701</td>\n",
       "      <td>&lt;span class=\"chemical\"&gt;5-HT&lt;/span&gt;</td>\n",
       "      <td>D011605</td>\n",
       "      <td>&lt;span class=\"disease\"&gt;psychotic disorders&lt;/span&gt;</td>\n",
       "      <td>These animal models were considered to reflect...</td>\n",
       "      <td>762850</td>\n",
       "      <td>20705401</td>\n",
       "      <td>20705401_D012701_D011605</td>\n",
       "      <td>bcv_easy_68_sent_dev_set_762850</td>\n",
       "    </tr>\n",
       "    <tr>\n",
       "      <th>1</th>\n",
       "      <td>no_relation</td>\n",
       "      <td>D-penicillamine was used to treat the patients.</td>\n",
       "      <td>D010396</td>\n",
       "      <td>&lt;span class=\"chemical\"&gt;D-penicillamine&lt;/span&gt;</td>\n",
       "      <td>D012594</td>\n",
       "      <td>&lt;span class=\"disease\"&gt;localized scleroderma&lt;/s...</td>\n",
       "      <td>Case reports of 11 patients with severe, exten...</td>\n",
       "      <td>762850</td>\n",
       "      <td>2334179</td>\n",
       "      <td>2334179_D010396_D012594</td>\n",
       "      <td>bcv_easy_2399_sent_dev_set_762850</td>\n",
       "    </tr>\n",
       "    <tr>\n",
       "      <th>2</th>\n",
       "      <td>no_relation</td>\n",
       "      <td>The sentence says the affective disorders were...</td>\n",
       "      <td>D015016</td>\n",
       "      <td>&lt;span class=\"chemical\"&gt;yohimbine&lt;/span&gt;</td>\n",
       "      <td>D019964</td>\n",
       "      <td>&lt;span class=\"disease\"&gt;affective disorders&lt;/span&gt;</td>\n",
       "      <td>METHOD: Six patients with either obsessive com...</td>\n",
       "      <td>762850</td>\n",
       "      <td>1535072</td>\n",
       "      <td>1535072_D015016_D019964</td>\n",
       "      <td>bcv_easy_642_sent_dev_set_762850</td>\n",
       "    </tr>\n",
       "    <tr>\n",
       "      <th>3</th>\n",
       "      <td>no_relation</td>\n",
       "      <td>The sentence says calcium supplementation cann...</td>\n",
       "      <td>D002118</td>\n",
       "      <td>&lt;span class=\"chemical\"&gt;calcium&lt;/span&gt;</td>\n",
       "      <td>D013035</td>\n",
       "      <td>&lt;span class=\"disease\"&gt;muscle spasms&lt;/span&gt;</td>\n",
       "      <td>While severe hypokalemia may cause muscle weak...</td>\n",
       "      <td>762850</td>\n",
       "      <td>8492347</td>\n",
       "      <td>8492347_D002118_D013035</td>\n",
       "      <td>bcv_easy_1271_sent_dev_set_762850</td>\n",
       "    </tr>\n",
       "    <tr>\n",
       "      <th>4</th>\n",
       "      <td>no_relation</td>\n",
       "      <td>Dexrazoxane is being used to try and make the ...</td>\n",
       "      <td>D064730</td>\n",
       "      <td>&lt;span class=\"chemical\"&gt;dexrazoxane&lt;/span&gt;</td>\n",
       "      <td>D006402</td>\n",
       "      <td>&lt;span class=\"disease\"&gt;hematologic toxicity&lt;/span&gt;</td>\n",
       "      <td>Clinical trials in patients with brain metasta...</td>\n",
       "      <td>762850</td>\n",
       "      <td>15897593</td>\n",
       "      <td>15897593_D064730_D006402</td>\n",
       "      <td>bcv_easy_2793_sent_dev_set_762850</td>\n",
       "    </tr>\n",
       "  </tbody>\n",
       "</table>\n",
       "</div>"
      ],
      "text/plain": [
       "  verify_relationship_gold                    verify_relationship_gold_reason  \\\n",
       "0              no_relation  The receptors to 5-HT6 are related to psychoti...   \n",
       "1              no_relation    D-penicillamine was used to treat the patients.   \n",
       "2              no_relation  The sentence says the affective disorders were...   \n",
       "3              no_relation  The sentence says calcium supplementation cann...   \n",
       "4              no_relation  Dexrazoxane is being used to try and make the ...   \n",
       "\n",
       "  chemical_id                                  chemical_name disease_id  \\\n",
       "0     D012701             <span class=\"chemical\">5-HT</span>    D011605   \n",
       "1     D010396  <span class=\"chemical\">D-penicillamine</span>    D012594   \n",
       "2     D015016        <span class=\"chemical\">yohimbine</span>    D019964   \n",
       "3     D002118          <span class=\"chemical\">calcium</span>    D013035   \n",
       "4     D064730      <span class=\"chemical\">dexrazoxane</span>    D006402   \n",
       "\n",
       "                                        disease_name  \\\n",
       "0   <span class=\"disease\">psychotic disorders</span>   \n",
       "1  <span class=\"disease\">localized scleroderma</s...   \n",
       "2   <span class=\"disease\">affective disorders</span>   \n",
       "3         <span class=\"disease\">muscle spasms</span>   \n",
       "4  <span class=\"disease\">hematologic toxicity</span>   \n",
       "\n",
       "                                       form_sentence  original_job_id  \\\n",
       "0  These animal models were considered to reflect...           762850   \n",
       "1  Case reports of 11 patients with severe, exten...           762850   \n",
       "2  METHOD: Six patients with either obsessive com...           762850   \n",
       "3  While severe hypokalemia may cause muscle weak...           762850   \n",
       "4  Clinical trials in patients with brain metasta...           762850   \n",
       "\n",
       "       pmid          relation_pair_id                            uniq_id  \n",
       "0  20705401  20705401_D012701_D011605    bcv_easy_68_sent_dev_set_762850  \n",
       "1   2334179   2334179_D010396_D012594  bcv_easy_2399_sent_dev_set_762850  \n",
       "2   1535072   1535072_D015016_D019964   bcv_easy_642_sent_dev_set_762850  \n",
       "3   8492347   8492347_D002118_D013035  bcv_easy_1271_sent_dev_set_762850  \n",
       "4  15897593  15897593_D064730_D006402  bcv_easy_2793_sent_dev_set_762850  "
      ]
     },
     "execution_count": 20,
     "metadata": {},
     "output_type": "execute_result"
    }
   ],
   "source": [
    "sent_test_ques.head()"
   ]
  },
  {
   "cell_type": "code",
   "execution_count": 21,
   "metadata": {
    "collapsed": false
   },
   "outputs": [],
   "source": [
    "sent_test_ques.loc[:, \"original_job_id\"] = sent_test_ques.loc[:, \"original_job_id\"].map(int)\n",
    "\n",
    "sent_test_ques.loc[:, \"verify_relationship_gold\"] = sent_test_ques.loc[:, \"verify_relationship_gold\"].map(lambda x: \"{0}\\n\".format(x))\n",
    "\n",
    "sent_test_ques[\"_golden\"] = \"TRUE\""
   ]
  },
  {
   "cell_type": "code",
   "execution_count": 22,
   "metadata": {
    "collapsed": true
   },
   "outputs": [],
   "source": [
    "abs_test_ques = pd.read_csv(\"data/crowdflower/test_questions/final_eval_abs_test_ques.tsv\", sep = '\\t')"
   ]
  },
  {
   "cell_type": "code",
   "execution_count": 23,
   "metadata": {
    "collapsed": false
   },
   "outputs": [
    {
     "data": {
      "text/html": [
       "<div>\n",
       "<table border=\"1\" class=\"dataframe\">\n",
       "  <thead>\n",
       "    <tr style=\"text-align: right;\">\n",
       "      <th></th>\n",
       "      <th>chemical_id</th>\n",
       "      <th>chemical_name</th>\n",
       "      <th>disease_id</th>\n",
       "      <th>disease_name</th>\n",
       "      <th>form_abstract</th>\n",
       "      <th>form_title</th>\n",
       "      <th>old_cf_work_unit_id</th>\n",
       "      <th>original_job_id</th>\n",
       "      <th>pmid</th>\n",
       "      <th>uniq_id</th>\n",
       "      <th>verify_relationship_gold</th>\n",
       "      <th>verify_relationship_gold_reason</th>\n",
       "    </tr>\n",
       "  </thead>\n",
       "  <tbody>\n",
       "    <tr>\n",
       "      <th>0</th>\n",
       "      <td>D011188</td>\n",
       "      <td>&lt;span class=\"chemical\"&gt;potassium&lt;/span&gt;</td>\n",
       "      <td>D014202</td>\n",
       "      <td>&lt;span class=\"disease\"&gt;tremor&lt;/span&gt;</td>\n",
       "      <td>&lt;p&gt;BACKGROUND: The septo-hippocampal cholinerg...</td>\n",
       "      <td>The relationship between hippocampal acetylcho...</td>\n",
       "      <td>756391641</td>\n",
       "      <td>754530</td>\n",
       "      <td>12198388</td>\n",
       "      <td>bcv_hard_59_job_754530_testq</td>\n",
       "      <td>no_relation</td>\n",
       "      <td>The scientists investigated how genetics contr...</td>\n",
       "    </tr>\n",
       "    <tr>\n",
       "      <th>1</th>\n",
       "      <td>D020849</td>\n",
       "      <td>&lt;span class=\"chemical\"&gt;raloxifene/raloxifene h...</td>\n",
       "      <td>D001851</td>\n",
       "      <td>&lt;span class=\"disease\"&gt;osteopenia&lt;/span&gt;</td>\n",
       "      <td>&lt;p&gt;BACKGROUND: Markers of fibrinolysis, thromb...</td>\n",
       "      <td>The effects of short-term &lt;span class=\"chemica...</td>\n",
       "      <td>756398159</td>\n",
       "      <td>754530</td>\n",
       "      <td>16167916</td>\n",
       "      <td>bcv_hard_92_job_754530_testq</td>\n",
       "      <td>no_relation</td>\n",
       "      <td>Women already with osteopenia were given the c...</td>\n",
       "    </tr>\n",
       "    <tr>\n",
       "      <th>2</th>\n",
       "      <td>D049971</td>\n",
       "      <td>&lt;span class=\"chemical\"&gt;thiazide&lt;/span&gt;</td>\n",
       "      <td>D006333</td>\n",
       "      <td>&lt;span class=\"disease\"&gt;heart failure&lt;/span&gt;</td>\n",
       "      <td>&lt;p&gt;BACKGROUND: A previous randomized controlle...</td>\n",
       "      <td>Spironolactone-induced renal insufficiency and...</td>\n",
       "      <td>756399808</td>\n",
       "      <td>754530</td>\n",
       "      <td>15632880</td>\n",
       "      <td>bcv_hard_46_job_754530_testq</td>\n",
       "      <td>no_relation</td>\n",
       "      <td>The text doesn't say that thiazide has anythin...</td>\n",
       "    </tr>\n",
       "    <tr>\n",
       "      <th>3</th>\n",
       "      <td>C016986</td>\n",
       "      <td>&lt;span class=\"chemical\"&gt;apraclonidine/aponidine...</td>\n",
       "      <td>D004774</td>\n",
       "      <td>&lt;span class=\"disease\"&gt;entropion&lt;/span&gt;</td>\n",
       "      <td>We prospectively evaluated the adverse reactio...</td>\n",
       "      <td>Evaluation of adverse reactions of &lt;span class...</td>\n",
       "      <td>756405204</td>\n",
       "      <td>754530</td>\n",
       "      <td>8590259</td>\n",
       "      <td>bcv_hard_54_job_754530_testq</td>\n",
       "      <td>yes_direct</td>\n",
       "      <td>One subject developed \"mechanical entropion\" a...</td>\n",
       "    </tr>\n",
       "    <tr>\n",
       "      <th>4</th>\n",
       "      <td>C016986</td>\n",
       "      <td>&lt;span class=\"chemical\"&gt;apraclonidine/aponidine...</td>\n",
       "      <td>D003316</td>\n",
       "      <td>&lt;span class=\"disease\"&gt;corneal abrasion&lt;/span&gt;</td>\n",
       "      <td>We prospectively evaluated the adverse reactio...</td>\n",
       "      <td>Evaluation of adverse reactions of &lt;span class...</td>\n",
       "      <td>756408483</td>\n",
       "      <td>754530</td>\n",
       "      <td>8590259</td>\n",
       "      <td>bcv_hard_51_job_754530_testq</td>\n",
       "      <td>yes_direct</td>\n",
       "      <td>One patient developed corneal abrasion 3 hours...</td>\n",
       "    </tr>\n",
       "  </tbody>\n",
       "</table>\n",
       "</div>"
      ],
      "text/plain": [
       "  chemical_id                                      chemical_name disease_id  \\\n",
       "0     D011188            <span class=\"chemical\">potassium</span>    D014202   \n",
       "1     D020849  <span class=\"chemical\">raloxifene/raloxifene h...    D001851   \n",
       "2     D049971             <span class=\"chemical\">thiazide</span>    D006333   \n",
       "3     C016986  <span class=\"chemical\">apraclonidine/aponidine...    D004774   \n",
       "4     C016986  <span class=\"chemical\">apraclonidine/aponidine...    D003316   \n",
       "\n",
       "                                    disease_name  \\\n",
       "0            <span class=\"disease\">tremor</span>   \n",
       "1        <span class=\"disease\">osteopenia</span>   \n",
       "2     <span class=\"disease\">heart failure</span>   \n",
       "3         <span class=\"disease\">entropion</span>   \n",
       "4  <span class=\"disease\">corneal abrasion</span>   \n",
       "\n",
       "                                       form_abstract  \\\n",
       "0  <p>BACKGROUND: The septo-hippocampal cholinerg...   \n",
       "1  <p>BACKGROUND: Markers of fibrinolysis, thromb...   \n",
       "2  <p>BACKGROUND: A previous randomized controlle...   \n",
       "3  We prospectively evaluated the adverse reactio...   \n",
       "4  We prospectively evaluated the adverse reactio...   \n",
       "\n",
       "                                          form_title  old_cf_work_unit_id  \\\n",
       "0  The relationship between hippocampal acetylcho...            756391641   \n",
       "1  The effects of short-term <span class=\"chemica...            756398159   \n",
       "2  Spironolactone-induced renal insufficiency and...            756399808   \n",
       "3  Evaluation of adverse reactions of <span class...            756405204   \n",
       "4  Evaluation of adverse reactions of <span class...            756408483   \n",
       "\n",
       "   original_job_id      pmid                       uniq_id  \\\n",
       "0           754530  12198388  bcv_hard_59_job_754530_testq   \n",
       "1           754530  16167916  bcv_hard_92_job_754530_testq   \n",
       "2           754530  15632880  bcv_hard_46_job_754530_testq   \n",
       "3           754530   8590259  bcv_hard_54_job_754530_testq   \n",
       "4           754530   8590259  bcv_hard_51_job_754530_testq   \n",
       "\n",
       "  verify_relationship_gold                    verify_relationship_gold_reason  \n",
       "0              no_relation  The scientists investigated how genetics contr...  \n",
       "1              no_relation  Women already with osteopenia were given the c...  \n",
       "2              no_relation  The text doesn't say that thiazide has anythin...  \n",
       "3               yes_direct  One subject developed \"mechanical entropion\" a...  \n",
       "4               yes_direct  One patient developed corneal abrasion 3 hours...  "
      ]
     },
     "execution_count": 23,
     "metadata": {},
     "output_type": "execute_result"
    }
   ],
   "source": [
    "abs_test_ques.head()"
   ]
  },
  {
   "cell_type": "code",
   "execution_count": 24,
   "metadata": {
    "collapsed": true
   },
   "outputs": [],
   "source": [
    "abs_test_ques.loc[:, \"original_job_id\"] = abs_test_ques.loc[:, \"original_job_id\"].map(int)\n",
    "\n",
    "abs_test_ques.loc[:, \"verify_relationship_gold\"] = abs_test_ques.loc[:, \"verify_relationship_gold\"].map(lambda x: \"{0}\\n\".format(x))\n",
    "\n",
    "abs_test_ques[\"_golden\"] = \"TRUE\""
   ]
  },
  {
   "cell_type": "code",
   "execution_count": 25,
   "metadata": {
    "collapsed": true
   },
   "outputs": [],
   "source": [
    "final_sent_task = pd.concat([sent_test_ques, easy_units])"
   ]
  },
  {
   "cell_type": "code",
   "execution_count": 26,
   "metadata": {
    "collapsed": false
   },
   "outputs": [
    {
     "data": {
      "text/plain": [
       "(3491, 13)"
      ]
     },
     "execution_count": 26,
     "metadata": {},
     "output_type": "execute_result"
    }
   ],
   "source": [
    "final_sent_task.shape"
   ]
  },
  {
   "cell_type": "code",
   "execution_count": 27,
   "metadata": {
    "collapsed": true
   },
   "outputs": [],
   "source": [
    "final_sent_task.to_csv(\"data/crowdflower/data_for_final_eval_sent_task.tsv\", sep = '\\t', index = False)"
   ]
  },
  {
   "cell_type": "code",
   "execution_count": 28,
   "metadata": {
    "collapsed": true
   },
   "outputs": [],
   "source": [
    "final_abs_task = pd.concat([abs_test_ques, hard_units])"
   ]
  },
  {
   "cell_type": "code",
   "execution_count": 29,
   "metadata": {
    "collapsed": false
   },
   "outputs": [
    {
     "data": {
      "text/plain": [
       "(2994, 13)"
      ]
     },
     "execution_count": 29,
     "metadata": {},
     "output_type": "execute_result"
    }
   ],
   "source": [
    "final_abs_task.shape"
   ]
  },
  {
   "cell_type": "code",
   "execution_count": 30,
   "metadata": {
    "collapsed": true
   },
   "outputs": [],
   "source": [
    "final_abs_task.to_csv(\"data/crowdflower/data_for_final_eval_abs_task.tsv\", sep = '\\t', index = False)"
   ]
  }
 ],
 "metadata": {
  "kernelspec": {
   "display_name": "Python 3",
   "language": "python",
   "name": "python3"
  },
  "language_info": {
   "codemirror_mode": {
    "name": "ipython",
    "version": 3
   },
   "file_extension": ".py",
   "mimetype": "text/x-python",
   "name": "python",
   "nbconvert_exporter": "python",
   "pygments_lexer": "ipython3",
   "version": "3.4.2"
  }
 },
 "nbformat": 4,
 "nbformat_minor": 0
}
