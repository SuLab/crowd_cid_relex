{
 "cells": [
  {
   "cell_type": "markdown",
   "metadata": {},
   "source": [
    "# Analysis of 100 abstracts from development set\n",
    "\n",
    "Tong Shu Li<br>\n",
    "Created on: 2015-08-26<br>\n",
    "Last updated: 2015-09-07\n",
    "\n",
    "CrowdFlower jobs 771158 and 771159 were used to run the 100 abstracts from the development set in the same manner as the 500 abstracts from the evaluation set. Here we will look at how well the crowd did.\n",
    "\n",
    "Job settings (sentence and abstract jobs respectively):\n",
    "\n",
    "Parameter | Value\n",
    "--- | ---\n",
    "Job ID | #771159, #771158\n",
    "Rows per page | 6\n",
    "Judgements per row | 5\n",
    "Payment per page | 12, 24 cents USD\n",
    "Contributor level | 2\n",
    "Minimum time per page | 18, 60 seconds\n",
    "Minimum accuracy threshold | 70%\n",
    "Number of test questions | 551, 228\n",
    "Date of launch | 9:21 pm on 2015-08-25\n",
    "Date of completion | 12:20 and 12:05 am on 2015-08-26\n",
    "Total cost before bonuses | \\$98.35, \\$162.72 USD\n",
    "Total cost after bonuses | \\$98.35, \\$162.72 USD"
   ]
  },
  {
   "cell_type": "code",
   "execution_count": 1,
   "metadata": {
    "collapsed": true
   },
   "outputs": [],
   "source": [
    "from collections import defaultdict\n",
    "from IPython.display import Image\n",
    "import copy\n",
    "import matplotlib.pyplot as plt\n",
    "import numpy as np\n",
    "import os\n",
    "import pandas as pd\n",
    "import pickle"
   ]
  },
  {
   "cell_type": "code",
   "execution_count": 2,
   "metadata": {
    "collapsed": false
   },
   "outputs": [],
   "source": [
    "matplotlib inline"
   ]
  },
  {
   "cell_type": "code",
   "execution_count": 3,
   "metadata": {
    "collapsed": true
   },
   "outputs": [],
   "source": [
    "from src.filter_data import filter_data\n",
    "from src.data_model import *\n",
    "from src.get_AUC_value import get_AUC_value\n",
    "from src.F_score import *\n",
    "from src.aggregate_results import *"
   ]
  },
  {
   "cell_type": "code",
   "execution_count": 4,
   "metadata": {
    "collapsed": true
   },
   "outputs": [],
   "source": [
    "from src.lingpipe.file_util import read_file"
   ]
  },
  {
   "cell_type": "markdown",
   "metadata": {},
   "source": [
    "---"
   ]
  },
  {
   "cell_type": "markdown",
   "metadata": {},
   "source": [
    "### Read the gold standard:"
   ]
  },
  {
   "cell_type": "code",
   "execution_count": 5,
   "metadata": {
    "collapsed": true
   },
   "outputs": [],
   "source": [
    "def read_gold_standard(dataset, file_format = \"list\"):\n",
    "    assert dataset in [\"training\", \"development\"]\n",
    "    assert file_format in [\"list\", \"dict\"]\n",
    "    \n",
    "    fname = \"data/gold_standard/parsed_{0}_set_{1}.pickle\".format(dataset, file_format)\n",
    "    \n",
    "    if os.path.exists(fname):\n",
    "        print(\"Reading cached version of {0} set ({1})\".format(dataset, file_format))\n",
    "        \n",
    "        with open(fname, \"rb\") as fin:\n",
    "            data = pickle.load(fin)\n",
    "    else:\n",
    "        print(\"Parsing raw {0} file\".format(dataset))\n",
    "        data = parse_input(\"data/gold_standard\".format(dataset),\n",
    "                           \"CDR_{0}Set.txt\".format(dataset.capitalize()),\n",
    "                           is_gold = True,\n",
    "                           return_format = file_format,\n",
    "                          fix_acronyms = False)\n",
    "        \n",
    "        with open(fname, \"wb\") as fout:\n",
    "            pickle.dump(data, fout)\n",
    "            \n",
    "    return data"
   ]
  },
  {
   "cell_type": "code",
   "execution_count": 6,
   "metadata": {
    "collapsed": false
   },
   "outputs": [
    {
     "name": "stdout",
     "output_type": "stream",
     "text": [
      "Reading cached version of development set (dict)\n"
     ]
    }
   ],
   "source": [
    "dev_gold = read_gold_standard(\"development\", \"dict\")"
   ]
  },
  {
   "cell_type": "code",
   "execution_count": 7,
   "metadata": {
    "collapsed": true
   },
   "outputs": [],
   "source": [
    "def in_gold(row):\n",
    "    pmid = int(row[\"pmid\"])\n",
    "    return int(dev_gold[pmid].has_relation(Relation(pmid, row[\"chemical_id\"], row[\"disease_id\"])))"
   ]
  },
  {
   "cell_type": "markdown",
   "metadata": {},
   "source": [
    "### Read the tmChem/DNorm processed testset"
   ]
  },
  {
   "cell_type": "code",
   "execution_count": 8,
   "metadata": {
    "collapsed": false
   },
   "outputs": [],
   "source": [
    "dev_testset = parse_input(\"data/devset_100_test\", \"processed_CDR_devset.txt\",\n",
    "                         is_gold = False, return_format = \"dict\", fix_acronyms = True)"
   ]
  },
  {
   "cell_type": "code",
   "execution_count": 9,
   "metadata": {
    "collapsed": false
   },
   "outputs": [
    {
     "data": {
      "text/plain": [
       "100"
      ]
     },
     "execution_count": 9,
     "metadata": {},
     "output_type": "execute_result"
    }
   ],
   "source": [
    "len(dev_testset.keys())"
   ]
  },
  {
   "cell_type": "code",
   "execution_count": 10,
   "metadata": {
    "collapsed": true
   },
   "outputs": [],
   "source": [
    "testset_pmids = set(dev_testset.keys())"
   ]
  },
  {
   "cell_type": "code",
   "execution_count": 11,
   "metadata": {
    "collapsed": false,
    "scrolled": true
   },
   "outputs": [
    {
     "data": {
      "text/plain": [
       "{33969,\n",
       " 326460,\n",
       " 803783,\n",
       " 982002,\n",
       " 1423339,\n",
       " 1535072,\n",
       " 1564236,\n",
       " 1595783,\n",
       " 1610717,\n",
       " 1628552,\n",
       " 1969772,\n",
       " 2004015,\n",
       " 2257294,\n",
       " 2322844,\n",
       " 2598570,\n",
       " 2826064,\n",
       " 2894433,\n",
       " 2917114,\n",
       " 3088349,\n",
       " 3300918,\n",
       " 3311455,\n",
       " 3703509,\n",
       " 3708922,\n",
       " 3969369,\n",
       " 3973521,\n",
       " 6111982,\n",
       " 6118280,\n",
       " 6150641,\n",
       " 6454943,\n",
       " 6496797,\n",
       " 6892185,\n",
       " 7437994,\n",
       " 7542793,\n",
       " 7650771,\n",
       " 7651879,\n",
       " 7710775,\n",
       " 7803371,\n",
       " 7880714,\n",
       " 8111719,\n",
       " 8267029,\n",
       " 8305357,\n",
       " 8424298,\n",
       " 8480959,\n",
       " 8492347,\n",
       " 8586822,\n",
       " 8686832,\n",
       " 8800187,\n",
       " 9041081,\n",
       " 9098464,\n",
       " 9201797,\n",
       " 9270571,\n",
       " 9564988,\n",
       " 9636837,\n",
       " 9669632,\n",
       " 9875685,\n",
       " 10225068,\n",
       " 10328196,\n",
       " 10523326,\n",
       " 10565806,\n",
       " 10743694,\n",
       " 10840460,\n",
       " 10910842,\n",
       " 11063349,\n",
       " 11077455,\n",
       " 11282081,\n",
       " 11337188,\n",
       " 11524350,\n",
       " 11704023,\n",
       " 11705128,\n",
       " 11860278,\n",
       " 11868798,\n",
       " 11999899,\n",
       " 12448656,\n",
       " 12452237,\n",
       " 12911170,\n",
       " 15096016,\n",
       " 15266215,\n",
       " 15266362,\n",
       " 15565293,\n",
       " 15811908,\n",
       " 15858223,\n",
       " 15893386,\n",
       " 16174948,\n",
       " 16192988,\n",
       " 16225977,\n",
       " 16471092,\n",
       " 16596970,\n",
       " 17682013,\n",
       " 18006530,\n",
       " 18356633,\n",
       " 18483878,\n",
       " 18657397,\n",
       " 19135948,\n",
       " 19370593,\n",
       " 19761039,\n",
       " 20042557,\n",
       " 20466178,\n",
       " 20533999,\n",
       " 20683499,\n",
       " 21418164}"
      ]
     },
     "execution_count": 11,
     "metadata": {},
     "output_type": "execute_result"
    }
   ],
   "source": [
    "testset_pmids"
   ]
  },
  {
   "cell_type": "markdown",
   "metadata": {},
   "source": [
    "### Look at how well the NER performed:"
   ]
  },
  {
   "cell_type": "code",
   "execution_count": 12,
   "metadata": {
    "collapsed": true
   },
   "outputs": [],
   "source": [
    "def ner_results(program_output, gold_data):\n",
    "    TP = 0\n",
    "    FP = 0\n",
    "    num_concepts = 0\n",
    "    \n",
    "    pmids = program_output.keys()\n",
    "    \n",
    "    assert set(pmids).issubset(set(gold_data.keys()))\n",
    "    \n",
    "    for pmid, paper in program_output.items():\n",
    "        gold_paper = gold_data[pmid]\n",
    "        \n",
    "        tp = 0\n",
    "        fp = 0\n",
    "        for prog_annot in paper.annotations:\n",
    "            for gold_annot in gold_paper.annotations:\n",
    "                if (prog_annot.start == gold_annot.start\n",
    "                   and prog_annot.stop == gold_annot.stop):\n",
    "                    \n",
    "                    assert prog_annot.text == gold_annot.text\n",
    "                    assert prog_annot.stype == gold_annot.stype\n",
    "                \n",
    "\n",
    "                    p = {v for v in prog_annot.uid if v.uid_type == \"MESH\"}\n",
    "                    g = {v for v in gold_annot.uid if v.uid_type == \"MESH\"}\n",
    "\n",
    "                    if p == g:\n",
    "                        tp += 1\n",
    "                    else:\n",
    "                        fp += 1\n",
    "                        \n",
    "        num_concepts += len(gold_paper.annotations)\n",
    "                \n",
    "        TP += tp\n",
    "        FP += fp\n",
    "        \n",
    "    recall = TP / num_concepts\n",
    "    precision = TP / (TP + FP)\n",
    "    \n",
    "    f_score = 2 * precision * recall / (precision + recall)\n",
    "    \n",
    "    print(\"F score:\", f_score)\n",
    "\n",
    "    print(\"recall: {0}\".format(recall))\n",
    "    print(\"precision: {0}\".format(precision))\n",
    "\n",
    "    print(\"TP: {0}\".format(TP))\n",
    "    print(\"FP: {0}\".format(FP))\n",
    "    print(\"# of gold std annotations: {0}\".format(num_concepts))"
   ]
  },
  {
   "cell_type": "code",
   "execution_count": 13,
   "metadata": {
    "collapsed": false
   },
   "outputs": [
    {
     "name": "stdout",
     "output_type": "stream",
     "text": [
      "F score: 0.922762148337596\n",
      "recall: 0.9069884364002011\n",
      "precision: 0.9390942217595003\n",
      "TP: 1804\n",
      "FP: 117\n",
      "# of gold std annotations: 1989\n"
     ]
    }
   ],
   "source": [
    "ner_results(dev_testset, dev_gold)"
   ]
  },
  {
   "cell_type": "markdown",
   "metadata": {},
   "source": [
    "---"
   ]
  },
  {
   "cell_type": "markdown",
   "metadata": {},
   "source": [
    "### Abstract-level task performance:"
   ]
  },
  {
   "cell_type": "code",
   "execution_count": 14,
   "metadata": {
    "collapsed": true
   },
   "outputs": [],
   "source": [
    "settings = {\n",
    "    \"loc\": \"data/crowdflower/results\",\n",
    "    \"fname\": \"job_771158_full_with_untrusted.csv\",\n",
    "    \"data_subset\": \"normal\",\n",
    "    \"min_accuracy\": 0.7,\n",
    "    \"max_accuracy\": 1.0\n",
    "}\n",
    "\n",
    "abs_work_raw_data = filter_data(settings)"
   ]
  },
  {
   "cell_type": "code",
   "execution_count": 15,
   "metadata": {
    "collapsed": false
   },
   "outputs": [
    {
     "data": {
      "text/plain": [
       "(2700, 30)"
      ]
     },
     "execution_count": 15,
     "metadata": {},
     "output_type": "execute_result"
    }
   ],
   "source": [
    "abs_work_raw_data.shape"
   ]
  },
  {
   "cell_type": "code",
   "execution_count": 16,
   "metadata": {
    "collapsed": false
   },
   "outputs": [
    {
     "data": {
      "text/html": [
       "<div>\n",
       "<table border=\"1\" class=\"dataframe\">\n",
       "  <thead>\n",
       "    <tr style=\"text-align: right;\">\n",
       "      <th></th>\n",
       "      <th>_unit_id</th>\n",
       "      <th>_created_at</th>\n",
       "      <th>_golden</th>\n",
       "      <th>_id</th>\n",
       "      <th>_missed</th>\n",
       "      <th>_started_at</th>\n",
       "      <th>_tainted</th>\n",
       "      <th>_channel</th>\n",
       "      <th>_trust</th>\n",
       "      <th>_worker_id</th>\n",
       "      <th>...</th>\n",
       "      <th>disease_id</th>\n",
       "      <th>disease_name</th>\n",
       "      <th>form_abstract</th>\n",
       "      <th>form_title</th>\n",
       "      <th>old_cf_work_unit_id</th>\n",
       "      <th>original_job_id</th>\n",
       "      <th>pmid</th>\n",
       "      <th>uniq_id</th>\n",
       "      <th>verify_relationship_gold</th>\n",
       "      <th>verify_relationship_gold_reason</th>\n",
       "    </tr>\n",
       "  </thead>\n",
       "  <tbody>\n",
       "    <tr>\n",
       "      <th>1381</th>\n",
       "      <td>778101077</td>\n",
       "      <td>8/26/2015 05:16:59</td>\n",
       "      <td>False</td>\n",
       "      <td>1721349910</td>\n",
       "      <td>NaN</td>\n",
       "      <td>8/26/2015 05:15:54</td>\n",
       "      <td>False</td>\n",
       "      <td>neodev</td>\n",
       "      <td>0.9091</td>\n",
       "      <td>27790533</td>\n",
       "      <td>...</td>\n",
       "      <td>MESH:D015746</td>\n",
       "      <td>&lt;span class=\"disease\"&gt;abdominal pain&lt;/span&gt;</td>\n",
       "      <td>&lt;p&gt;BACKGROUND: Irritable bowel syndrome is a c...</td>\n",
       "      <td>Effects of &lt;span class=\"chemical\"&gt;cisapride&lt;/s...</td>\n",
       "      <td>NaN</td>\n",
       "      <td>NaN</td>\n",
       "      <td>9669632</td>\n",
       "      <td>bcv_devset_test_100_hard_0</td>\n",
       "      <td>NaN</td>\n",
       "      <td>NaN</td>\n",
       "    </tr>\n",
       "    <tr>\n",
       "      <th>1382</th>\n",
       "      <td>778101077</td>\n",
       "      <td>8/26/2015 05:18:02</td>\n",
       "      <td>False</td>\n",
       "      <td>1721350185</td>\n",
       "      <td>NaN</td>\n",
       "      <td>8/26/2015 05:16:52</td>\n",
       "      <td>False</td>\n",
       "      <td>clixsense</td>\n",
       "      <td>1.0000</td>\n",
       "      <td>17209680</td>\n",
       "      <td>...</td>\n",
       "      <td>MESH:D015746</td>\n",
       "      <td>&lt;span class=\"disease\"&gt;abdominal pain&lt;/span&gt;</td>\n",
       "      <td>&lt;p&gt;BACKGROUND: Irritable bowel syndrome is a c...</td>\n",
       "      <td>Effects of &lt;span class=\"chemical\"&gt;cisapride&lt;/s...</td>\n",
       "      <td>NaN</td>\n",
       "      <td>NaN</td>\n",
       "      <td>9669632</td>\n",
       "      <td>bcv_devset_test_100_hard_0</td>\n",
       "      <td>NaN</td>\n",
       "      <td>NaN</td>\n",
       "    </tr>\n",
       "    <tr>\n",
       "      <th>1383</th>\n",
       "      <td>778101077</td>\n",
       "      <td>8/26/2015 05:21:32</td>\n",
       "      <td>False</td>\n",
       "      <td>1721351833</td>\n",
       "      <td>NaN</td>\n",
       "      <td>8/26/2015 05:16:52</td>\n",
       "      <td>False</td>\n",
       "      <td>neodev</td>\n",
       "      <td>0.8400</td>\n",
       "      <td>33870718</td>\n",
       "      <td>...</td>\n",
       "      <td>MESH:D015746</td>\n",
       "      <td>&lt;span class=\"disease\"&gt;abdominal pain&lt;/span&gt;</td>\n",
       "      <td>&lt;p&gt;BACKGROUND: Irritable bowel syndrome is a c...</td>\n",
       "      <td>Effects of &lt;span class=\"chemical\"&gt;cisapride&lt;/s...</td>\n",
       "      <td>NaN</td>\n",
       "      <td>NaN</td>\n",
       "      <td>9669632</td>\n",
       "      <td>bcv_devset_test_100_hard_0</td>\n",
       "      <td>NaN</td>\n",
       "      <td>NaN</td>\n",
       "    </tr>\n",
       "    <tr>\n",
       "      <th>1384</th>\n",
       "      <td>778101077</td>\n",
       "      <td>8/26/2015 05:22:09</td>\n",
       "      <td>False</td>\n",
       "      <td>1721352160</td>\n",
       "      <td>NaN</td>\n",
       "      <td>8/26/2015 05:16:24</td>\n",
       "      <td>False</td>\n",
       "      <td>neodev</td>\n",
       "      <td>0.9231</td>\n",
       "      <td>33498392</td>\n",
       "      <td>...</td>\n",
       "      <td>MESH:D015746</td>\n",
       "      <td>&lt;span class=\"disease\"&gt;abdominal pain&lt;/span&gt;</td>\n",
       "      <td>&lt;p&gt;BACKGROUND: Irritable bowel syndrome is a c...</td>\n",
       "      <td>Effects of &lt;span class=\"chemical\"&gt;cisapride&lt;/s...</td>\n",
       "      <td>NaN</td>\n",
       "      <td>NaN</td>\n",
       "      <td>9669632</td>\n",
       "      <td>bcv_devset_test_100_hard_0</td>\n",
       "      <td>NaN</td>\n",
       "      <td>NaN</td>\n",
       "    </tr>\n",
       "    <tr>\n",
       "      <th>1385</th>\n",
       "      <td>778101077</td>\n",
       "      <td>8/26/2015 05:23:38</td>\n",
       "      <td>False</td>\n",
       "      <td>1721353023</td>\n",
       "      <td>NaN</td>\n",
       "      <td>8/26/2015 05:16:40</td>\n",
       "      <td>False</td>\n",
       "      <td>clixsense</td>\n",
       "      <td>0.8000</td>\n",
       "      <td>17652709</td>\n",
       "      <td>...</td>\n",
       "      <td>MESH:D015746</td>\n",
       "      <td>&lt;span class=\"disease\"&gt;abdominal pain&lt;/span&gt;</td>\n",
       "      <td>&lt;p&gt;BACKGROUND: Irritable bowel syndrome is a c...</td>\n",
       "      <td>Effects of &lt;span class=\"chemical\"&gt;cisapride&lt;/s...</td>\n",
       "      <td>NaN</td>\n",
       "      <td>NaN</td>\n",
       "      <td>9669632</td>\n",
       "      <td>bcv_devset_test_100_hard_0</td>\n",
       "      <td>NaN</td>\n",
       "      <td>NaN</td>\n",
       "    </tr>\n",
       "  </tbody>\n",
       "</table>\n",
       "<p>5 rows × 30 columns</p>\n",
       "</div>"
      ],
      "text/plain": [
       "       _unit_id         _created_at _golden         _id _missed  \\\n",
       "1381  778101077  8/26/2015 05:16:59   False  1721349910     NaN   \n",
       "1382  778101077  8/26/2015 05:18:02   False  1721350185     NaN   \n",
       "1383  778101077  8/26/2015 05:21:32   False  1721351833     NaN   \n",
       "1384  778101077  8/26/2015 05:22:09   False  1721352160     NaN   \n",
       "1385  778101077  8/26/2015 05:23:38   False  1721353023     NaN   \n",
       "\n",
       "             _started_at _tainted   _channel  _trust  _worker_id  \\\n",
       "1381  8/26/2015 05:15:54    False     neodev  0.9091    27790533   \n",
       "1382  8/26/2015 05:16:52    False  clixsense  1.0000    17209680   \n",
       "1383  8/26/2015 05:16:52    False     neodev  0.8400    33870718   \n",
       "1384  8/26/2015 05:16:24    False     neodev  0.9231    33498392   \n",
       "1385  8/26/2015 05:16:40    False  clixsense  0.8000    17652709   \n",
       "\n",
       "                   ...                  disease_id  \\\n",
       "1381               ...                MESH:D015746   \n",
       "1382               ...                MESH:D015746   \n",
       "1383               ...                MESH:D015746   \n",
       "1384               ...                MESH:D015746   \n",
       "1385               ...                MESH:D015746   \n",
       "\n",
       "                                     disease_name  \\\n",
       "1381  <span class=\"disease\">abdominal pain</span>   \n",
       "1382  <span class=\"disease\">abdominal pain</span>   \n",
       "1383  <span class=\"disease\">abdominal pain</span>   \n",
       "1384  <span class=\"disease\">abdominal pain</span>   \n",
       "1385  <span class=\"disease\">abdominal pain</span>   \n",
       "\n",
       "                                          form_abstract  \\\n",
       "1381  <p>BACKGROUND: Irritable bowel syndrome is a c...   \n",
       "1382  <p>BACKGROUND: Irritable bowel syndrome is a c...   \n",
       "1383  <p>BACKGROUND: Irritable bowel syndrome is a c...   \n",
       "1384  <p>BACKGROUND: Irritable bowel syndrome is a c...   \n",
       "1385  <p>BACKGROUND: Irritable bowel syndrome is a c...   \n",
       "\n",
       "                                             form_title  old_cf_work_unit_id  \\\n",
       "1381  Effects of <span class=\"chemical\">cisapride</s...                  NaN   \n",
       "1382  Effects of <span class=\"chemical\">cisapride</s...                  NaN   \n",
       "1383  Effects of <span class=\"chemical\">cisapride</s...                  NaN   \n",
       "1384  Effects of <span class=\"chemical\">cisapride</s...                  NaN   \n",
       "1385  Effects of <span class=\"chemical\">cisapride</s...                  NaN   \n",
       "\n",
       "     original_job_id     pmid                     uniq_id  \\\n",
       "1381             NaN  9669632  bcv_devset_test_100_hard_0   \n",
       "1382             NaN  9669632  bcv_devset_test_100_hard_0   \n",
       "1383             NaN  9669632  bcv_devset_test_100_hard_0   \n",
       "1384             NaN  9669632  bcv_devset_test_100_hard_0   \n",
       "1385             NaN  9669632  bcv_devset_test_100_hard_0   \n",
       "\n",
       "     verify_relationship_gold verify_relationship_gold_reason  \n",
       "1381                      NaN                             NaN  \n",
       "1382                      NaN                             NaN  \n",
       "1383                      NaN                             NaN  \n",
       "1384                      NaN                             NaN  \n",
       "1385                      NaN                             NaN  \n",
       "\n",
       "[5 rows x 30 columns]"
      ]
     },
     "execution_count": 16,
     "metadata": {},
     "output_type": "execute_result"
    }
   ],
   "source": [
    "abs_work_raw_data.head()"
   ]
  },
  {
   "cell_type": "code",
   "execution_count": 17,
   "metadata": {
    "collapsed": false
   },
   "outputs": [
    {
     "data": {
      "text/plain": [
       "False    2700\n",
       "dtype: int64"
      ]
     },
     "execution_count": 17,
     "metadata": {},
     "output_type": "execute_result"
    }
   ],
   "source": [
    "abs_work_raw_data[\"_tainted\"].value_counts()"
   ]
  },
  {
   "cell_type": "code",
   "execution_count": 18,
   "metadata": {
    "collapsed": false
   },
   "outputs": [
    {
     "data": {
      "text/plain": [
       "no_relation    0.716667\n",
       "yes_direct     0.283333\n",
       "dtype: float64"
      ]
     },
     "execution_count": 18,
     "metadata": {},
     "output_type": "execute_result"
    }
   ],
   "source": [
    "abs_work_raw_data[\"verify_relationship\"].value_counts(normalize = True)"
   ]
  },
  {
   "cell_type": "code",
   "execution_count": 19,
   "metadata": {
    "collapsed": true
   },
   "outputs": [],
   "source": [
    "def judgments(dataframe):\n",
    "    votes = defaultdict(set)\n",
    "    for uniq_id, group in dataframe.groupby(\"uniq_id\"):\n",
    "        votes[len(group[\"_worker_id\"].unique())].add(uniq_id)\n",
    "\n",
    "    for vote, units in votes.items():\n",
    "        print(\"Judgements {0}, # of work units: {1}\".format(vote, len(units)))"
   ]
  },
  {
   "cell_type": "code",
   "execution_count": 20,
   "metadata": {
    "collapsed": false
   },
   "outputs": [
    {
     "name": "stdout",
     "output_type": "stream",
     "text": [
      "Judgements 5, # of work units: 540\n"
     ]
    }
   ],
   "source": [
    "judgments(abs_work_raw_data)"
   ]
  },
  {
   "cell_type": "markdown",
   "metadata": {},
   "source": [
    "### Abstract-task result aggregation"
   ]
  },
  {
   "cell_type": "code",
   "execution_count": 21,
   "metadata": {
    "collapsed": true
   },
   "outputs": [],
   "source": [
    "abs_res = aggregate_results(\"uniq_id\", \"verify_relationship\", abs_work_raw_data,\n",
    "                        \"positive_signal_only\",\n",
    "                        [\"pmid\", \"_unit_id\", \"chemical_id\", \"disease_id\"],\n",
    "                        \"yes_direct\")"
   ]
  },
  {
   "cell_type": "code",
   "execution_count": 22,
   "metadata": {
    "collapsed": false
   },
   "outputs": [
    {
     "data": {
      "text/plain": [
       "(1046, 9)"
      ]
     },
     "execution_count": 22,
     "metadata": {},
     "output_type": "execute_result"
    }
   ],
   "source": [
    "abs_res.shape"
   ]
  },
  {
   "cell_type": "code",
   "execution_count": 23,
   "metadata": {
    "collapsed": false
   },
   "outputs": [
    {
     "data": {
      "text/html": [
       "<div>\n",
       "<table border=\"1\" class=\"dataframe\">\n",
       "  <thead>\n",
       "    <tr style=\"text-align: right;\">\n",
       "      <th></th>\n",
       "      <th>uniq_id</th>\n",
       "      <th>verify_relationship</th>\n",
       "      <th>conf_score</th>\n",
       "      <th>num_votes</th>\n",
       "      <th>percent_agree</th>\n",
       "      <th>pmid</th>\n",
       "      <th>unit_id</th>\n",
       "      <th>chemical_id</th>\n",
       "      <th>disease_id</th>\n",
       "    </tr>\n",
       "  </thead>\n",
       "  <tbody>\n",
       "    <tr>\n",
       "      <th>0</th>\n",
       "      <td>bcv_devset_test_100_hard_0</td>\n",
       "      <td>yes_direct</td>\n",
       "      <td>0.9091</td>\n",
       "      <td>1</td>\n",
       "      <td>0.203278</td>\n",
       "      <td>9669632</td>\n",
       "      <td>778101077</td>\n",
       "      <td>MESH:D020117</td>\n",
       "      <td>MESH:D015746</td>\n",
       "    </tr>\n",
       "    <tr>\n",
       "      <th>1</th>\n",
       "      <td>bcv_devset_test_100_hard_0</td>\n",
       "      <td>no_relation</td>\n",
       "      <td>3.5631</td>\n",
       "      <td>4</td>\n",
       "      <td>0.796722</td>\n",
       "      <td>9669632</td>\n",
       "      <td>778101077</td>\n",
       "      <td>MESH:D020117</td>\n",
       "      <td>MESH:D015746</td>\n",
       "    </tr>\n",
       "    <tr>\n",
       "      <th>0</th>\n",
       "      <td>bcv_devset_test_100_hard_1</td>\n",
       "      <td>yes_direct</td>\n",
       "      <td>1.9091</td>\n",
       "      <td>2</td>\n",
       "      <td>0.423201</td>\n",
       "      <td>9669632</td>\n",
       "      <td>778101078</td>\n",
       "      <td>MESH:D020117</td>\n",
       "      <td>MESH:D005767</td>\n",
       "    </tr>\n",
       "    <tr>\n",
       "      <th>1</th>\n",
       "      <td>bcv_devset_test_100_hard_1</td>\n",
       "      <td>no_relation</td>\n",
       "      <td>2.6020</td>\n",
       "      <td>3</td>\n",
       "      <td>0.576799</td>\n",
       "      <td>9669632</td>\n",
       "      <td>778101078</td>\n",
       "      <td>MESH:D020117</td>\n",
       "      <td>MESH:D005767</td>\n",
       "    </tr>\n",
       "    <tr>\n",
       "      <th>0</th>\n",
       "      <td>bcv_devset_test_100_hard_10</td>\n",
       "      <td>yes_direct</td>\n",
       "      <td>0.0000</td>\n",
       "      <td>0</td>\n",
       "      <td>0.000000</td>\n",
       "      <td>7880714</td>\n",
       "      <td>778101087</td>\n",
       "      <td>MESH:D002045</td>\n",
       "      <td>MESH:D006311</td>\n",
       "    </tr>\n",
       "  </tbody>\n",
       "</table>\n",
       "</div>"
      ],
      "text/plain": [
       "                       uniq_id verify_relationship  conf_score  num_votes  \\\n",
       "0   bcv_devset_test_100_hard_0          yes_direct      0.9091          1   \n",
       "1   bcv_devset_test_100_hard_0         no_relation      3.5631          4   \n",
       "0   bcv_devset_test_100_hard_1          yes_direct      1.9091          2   \n",
       "1   bcv_devset_test_100_hard_1         no_relation      2.6020          3   \n",
       "0  bcv_devset_test_100_hard_10          yes_direct      0.0000          0   \n",
       "\n",
       "   percent_agree     pmid    unit_id   chemical_id    disease_id  \n",
       "0       0.203278  9669632  778101077  MESH:D020117  MESH:D015746  \n",
       "1       0.796722  9669632  778101077  MESH:D020117  MESH:D015746  \n",
       "0       0.423201  9669632  778101078  MESH:D020117  MESH:D005767  \n",
       "1       0.576799  9669632  778101078  MESH:D020117  MESH:D005767  \n",
       "0       0.000000  7880714  778101087  MESH:D002045  MESH:D006311  "
      ]
     },
     "execution_count": 23,
     "metadata": {},
     "output_type": "execute_result"
    }
   ],
   "source": [
    "abs_res.head()"
   ]
  },
  {
   "cell_type": "code",
   "execution_count": 24,
   "metadata": {
    "collapsed": true
   },
   "outputs": [],
   "source": [
    "abs_res = abs_res.query(\"verify_relationship == 'yes_direct'\")"
   ]
  },
  {
   "cell_type": "code",
   "execution_count": 25,
   "metadata": {
    "collapsed": false
   },
   "outputs": [
    {
     "data": {
      "text/plain": [
       "(540, 9)"
      ]
     },
     "execution_count": 25,
     "metadata": {},
     "output_type": "execute_result"
    }
   ],
   "source": [
    "abs_res.shape"
   ]
  },
  {
   "cell_type": "code",
   "execution_count": 26,
   "metadata": {
    "collapsed": true
   },
   "outputs": [],
   "source": [
    "abs_res = abs_res.rename(columns = {\"percent_agree\":\"norm_conf_score\"})"
   ]
  },
  {
   "cell_type": "code",
   "execution_count": 27,
   "metadata": {
    "collapsed": false
   },
   "outputs": [
    {
     "data": {
      "text/html": [
       "<div>\n",
       "<table border=\"1\" class=\"dataframe\">\n",
       "  <thead>\n",
       "    <tr style=\"text-align: right;\">\n",
       "      <th></th>\n",
       "      <th>uniq_id</th>\n",
       "      <th>verify_relationship</th>\n",
       "      <th>conf_score</th>\n",
       "      <th>num_votes</th>\n",
       "      <th>norm_conf_score</th>\n",
       "      <th>pmid</th>\n",
       "      <th>unit_id</th>\n",
       "      <th>chemical_id</th>\n",
       "      <th>disease_id</th>\n",
       "    </tr>\n",
       "  </thead>\n",
       "  <tbody>\n",
       "    <tr>\n",
       "      <th>0</th>\n",
       "      <td>bcv_devset_test_100_hard_0</td>\n",
       "      <td>yes_direct</td>\n",
       "      <td>0.9091</td>\n",
       "      <td>1</td>\n",
       "      <td>0.203278</td>\n",
       "      <td>9669632</td>\n",
       "      <td>778101077</td>\n",
       "      <td>MESH:D020117</td>\n",
       "      <td>MESH:D015746</td>\n",
       "    </tr>\n",
       "    <tr>\n",
       "      <th>0</th>\n",
       "      <td>bcv_devset_test_100_hard_1</td>\n",
       "      <td>yes_direct</td>\n",
       "      <td>1.9091</td>\n",
       "      <td>2</td>\n",
       "      <td>0.423201</td>\n",
       "      <td>9669632</td>\n",
       "      <td>778101078</td>\n",
       "      <td>MESH:D020117</td>\n",
       "      <td>MESH:D005767</td>\n",
       "    </tr>\n",
       "    <tr>\n",
       "      <th>0</th>\n",
       "      <td>bcv_devset_test_100_hard_10</td>\n",
       "      <td>yes_direct</td>\n",
       "      <td>0.0000</td>\n",
       "      <td>0</td>\n",
       "      <td>0.000000</td>\n",
       "      <td>7880714</td>\n",
       "      <td>778101087</td>\n",
       "      <td>MESH:D002045</td>\n",
       "      <td>MESH:D006311</td>\n",
       "    </tr>\n",
       "    <tr>\n",
       "      <th>0</th>\n",
       "      <td>bcv_devset_test_100_hard_100</td>\n",
       "      <td>yes_direct</td>\n",
       "      <td>0.0000</td>\n",
       "      <td>0</td>\n",
       "      <td>0.000000</td>\n",
       "      <td>19370593</td>\n",
       "      <td>778101177</td>\n",
       "      <td>MESH:D011372</td>\n",
       "      <td>MESH:D002318</td>\n",
       "    </tr>\n",
       "    <tr>\n",
       "      <th>0</th>\n",
       "      <td>bcv_devset_test_100_hard_101</td>\n",
       "      <td>yes_direct</td>\n",
       "      <td>0.0000</td>\n",
       "      <td>0</td>\n",
       "      <td>0.000000</td>\n",
       "      <td>19370593</td>\n",
       "      <td>778101178</td>\n",
       "      <td>MESH:D011372</td>\n",
       "      <td>MESH:D050723</td>\n",
       "    </tr>\n",
       "  </tbody>\n",
       "</table>\n",
       "</div>"
      ],
      "text/plain": [
       "                        uniq_id verify_relationship  conf_score  num_votes  \\\n",
       "0    bcv_devset_test_100_hard_0          yes_direct      0.9091          1   \n",
       "0    bcv_devset_test_100_hard_1          yes_direct      1.9091          2   \n",
       "0   bcv_devset_test_100_hard_10          yes_direct      0.0000          0   \n",
       "0  bcv_devset_test_100_hard_100          yes_direct      0.0000          0   \n",
       "0  bcv_devset_test_100_hard_101          yes_direct      0.0000          0   \n",
       "\n",
       "   norm_conf_score      pmid    unit_id   chemical_id    disease_id  \n",
       "0         0.203278   9669632  778101077  MESH:D020117  MESH:D015746  \n",
       "0         0.423201   9669632  778101078  MESH:D020117  MESH:D005767  \n",
       "0         0.000000   7880714  778101087  MESH:D002045  MESH:D006311  \n",
       "0         0.000000  19370593  778101177  MESH:D011372  MESH:D002318  \n",
       "0         0.000000  19370593  778101178  MESH:D011372  MESH:D050723  "
      ]
     },
     "execution_count": 27,
     "metadata": {},
     "output_type": "execute_result"
    }
   ],
   "source": [
    "abs_res.head()"
   ]
  },
  {
   "cell_type": "markdown",
   "metadata": {},
   "source": [
    "---"
   ]
  },
  {
   "cell_type": "markdown",
   "metadata": {},
   "source": [
    "### Sentence task performance:"
   ]
  },
  {
   "cell_type": "code",
   "execution_count": 28,
   "metadata": {
    "collapsed": false
   },
   "outputs": [],
   "source": [
    "settings = {\n",
    "    \"loc\": \"data/crowdflower/results\",\n",
    "    \"fname\": \"job_771159_full_with_untrusted.csv\",\n",
    "    \"data_subset\": \"normal\",\n",
    "    \"min_accuracy\": 0.7,\n",
    "    \"max_accuracy\": 1.0\n",
    "}\n",
    "\n",
    "sent_raw_data = filter_data(settings)"
   ]
  },
  {
   "cell_type": "code",
   "execution_count": 29,
   "metadata": {
    "collapsed": false
   },
   "outputs": [
    {
     "data": {
      "text/plain": [
       "(3300, 30)"
      ]
     },
     "execution_count": 29,
     "metadata": {},
     "output_type": "execute_result"
    }
   ],
   "source": [
    "sent_raw_data.shape"
   ]
  },
  {
   "cell_type": "code",
   "execution_count": 30,
   "metadata": {
    "collapsed": false
   },
   "outputs": [
    {
     "data": {
      "text/plain": [
       "False    3245\n",
       "True       55\n",
       "dtype: int64"
      ]
     },
     "execution_count": 30,
     "metadata": {},
     "output_type": "execute_result"
    }
   ],
   "source": [
    "sent_raw_data[\"_tainted\"].value_counts()"
   ]
  },
  {
   "cell_type": "code",
   "execution_count": 31,
   "metadata": {
    "collapsed": true
   },
   "outputs": [],
   "source": [
    "sent_raw_data = sent_raw_data.query(\"~_tainted\")"
   ]
  },
  {
   "cell_type": "code",
   "execution_count": 32,
   "metadata": {
    "collapsed": false
   },
   "outputs": [
    {
     "data": {
      "text/plain": [
       "(3245, 30)"
      ]
     },
     "execution_count": 32,
     "metadata": {},
     "output_type": "execute_result"
    }
   ],
   "source": [
    "sent_raw_data.shape"
   ]
  },
  {
   "cell_type": "code",
   "execution_count": 33,
   "metadata": {
    "collapsed": false
   },
   "outputs": [
    {
     "name": "stdout",
     "output_type": "stream",
     "text": [
      "Judgements 5, # of work units: 649\n"
     ]
    }
   ],
   "source": [
    "judgments(sent_raw_data)"
   ]
  },
  {
   "cell_type": "markdown",
   "metadata": {},
   "source": [
    "### Aggregate results at sentence level:"
   ]
  },
  {
   "cell_type": "code",
   "execution_count": 34,
   "metadata": {
    "collapsed": false
   },
   "outputs": [],
   "source": [
    "# take positive votes only, indirect is no\n",
    "sent_lvl_res = aggregate_results(\"uniq_id\", \"verify_relationship\",\n",
    "                                 sent_raw_data, \"positive_signal_only\",\n",
    "                                 [\"pmid\", \"_unit_id\", \"chemical_id\", \"disease_id\", \"relation_pair_id\", \"sentence_id\"],\n",
    "                                 \"yes_direct\", {\"yes_indirect\" : \"no_relation\"})"
   ]
  },
  {
   "cell_type": "code",
   "execution_count": 35,
   "metadata": {
    "collapsed": false
   },
   "outputs": [
    {
     "data": {
      "text/plain": [
       "(1159, 11)"
      ]
     },
     "execution_count": 35,
     "metadata": {},
     "output_type": "execute_result"
    }
   ],
   "source": [
    "sent_lvl_res.shape"
   ]
  },
  {
   "cell_type": "code",
   "execution_count": 36,
   "metadata": {
    "collapsed": false,
    "scrolled": true
   },
   "outputs": [
    {
     "data": {
      "text/html": [
       "<div>\n",
       "<table border=\"1\" class=\"dataframe\">\n",
       "  <thead>\n",
       "    <tr style=\"text-align: right;\">\n",
       "      <th></th>\n",
       "      <th>uniq_id</th>\n",
       "      <th>verify_relationship</th>\n",
       "      <th>conf_score</th>\n",
       "      <th>num_votes</th>\n",
       "      <th>percent_agree</th>\n",
       "      <th>pmid</th>\n",
       "      <th>unit_id</th>\n",
       "      <th>chemical_id</th>\n",
       "      <th>disease_id</th>\n",
       "      <th>relation_pair_id</th>\n",
       "      <th>sentence_id</th>\n",
       "    </tr>\n",
       "  </thead>\n",
       "  <tbody>\n",
       "    <tr>\n",
       "      <th>0</th>\n",
       "      <td>bcv_devset_test_100_easy_0</td>\n",
       "      <td>yes_direct</td>\n",
       "      <td>1.7002</td>\n",
       "      <td>2</td>\n",
       "      <td>0.367611</td>\n",
       "      <td>9669632</td>\n",
       "      <td>778102225</td>\n",
       "      <td>MESH:D020117</td>\n",
       "      <td>MESH:D043183</td>\n",
       "      <td>9669632_MESH:D020117_MESH:D043183</td>\n",
       "      <td>9669632_0</td>\n",
       "    </tr>\n",
       "    <tr>\n",
       "      <th>1</th>\n",
       "      <td>bcv_devset_test_100_easy_0</td>\n",
       "      <td>no_relation</td>\n",
       "      <td>2.9248</td>\n",
       "      <td>3</td>\n",
       "      <td>0.632389</td>\n",
       "      <td>9669632</td>\n",
       "      <td>778102225</td>\n",
       "      <td>MESH:D020117</td>\n",
       "      <td>MESH:D043183</td>\n",
       "      <td>9669632_MESH:D020117_MESH:D043183</td>\n",
       "      <td>9669632_0</td>\n",
       "    </tr>\n",
       "    <tr>\n",
       "      <th>0</th>\n",
       "      <td>bcv_devset_test_100_easy_1</td>\n",
       "      <td>yes_direct</td>\n",
       "      <td>1.7002</td>\n",
       "      <td>2</td>\n",
       "      <td>0.378875</td>\n",
       "      <td>9669632</td>\n",
       "      <td>778102226</td>\n",
       "      <td>MESH:D020117</td>\n",
       "      <td>MESH:D043183</td>\n",
       "      <td>9669632_MESH:D020117_MESH:D043183</td>\n",
       "      <td>9669632_2</td>\n",
       "    </tr>\n",
       "    <tr>\n",
       "      <th>1</th>\n",
       "      <td>bcv_devset_test_100_easy_1</td>\n",
       "      <td>no_relation</td>\n",
       "      <td>2.7873</td>\n",
       "      <td>3</td>\n",
       "      <td>0.621125</td>\n",
       "      <td>9669632</td>\n",
       "      <td>778102226</td>\n",
       "      <td>MESH:D020117</td>\n",
       "      <td>MESH:D043183</td>\n",
       "      <td>9669632_MESH:D020117_MESH:D043183</td>\n",
       "      <td>9669632_2</td>\n",
       "    </tr>\n",
       "    <tr>\n",
       "      <th>0</th>\n",
       "      <td>bcv_devset_test_100_easy_10</td>\n",
       "      <td>yes_direct</td>\n",
       "      <td>1.8824</td>\n",
       "      <td>2</td>\n",
       "      <td>0.407808</td>\n",
       "      <td>9669632</td>\n",
       "      <td>778102235</td>\n",
       "      <td>MESH:D020117</td>\n",
       "      <td>MESH:D043183</td>\n",
       "      <td>9669632_MESH:D020117_MESH:D043183</td>\n",
       "      <td>9669632_9</td>\n",
       "    </tr>\n",
       "  </tbody>\n",
       "</table>\n",
       "</div>"
      ],
      "text/plain": [
       "                       uniq_id verify_relationship  conf_score  num_votes  \\\n",
       "0   bcv_devset_test_100_easy_0          yes_direct      1.7002          2   \n",
       "1   bcv_devset_test_100_easy_0         no_relation      2.9248          3   \n",
       "0   bcv_devset_test_100_easy_1          yes_direct      1.7002          2   \n",
       "1   bcv_devset_test_100_easy_1         no_relation      2.7873          3   \n",
       "0  bcv_devset_test_100_easy_10          yes_direct      1.8824          2   \n",
       "\n",
       "   percent_agree     pmid    unit_id   chemical_id    disease_id  \\\n",
       "0       0.367611  9669632  778102225  MESH:D020117  MESH:D043183   \n",
       "1       0.632389  9669632  778102225  MESH:D020117  MESH:D043183   \n",
       "0       0.378875  9669632  778102226  MESH:D020117  MESH:D043183   \n",
       "1       0.621125  9669632  778102226  MESH:D020117  MESH:D043183   \n",
       "0       0.407808  9669632  778102235  MESH:D020117  MESH:D043183   \n",
       "\n",
       "                    relation_pair_id sentence_id  \n",
       "0  9669632_MESH:D020117_MESH:D043183   9669632_0  \n",
       "1  9669632_MESH:D020117_MESH:D043183   9669632_0  \n",
       "0  9669632_MESH:D020117_MESH:D043183   9669632_2  \n",
       "1  9669632_MESH:D020117_MESH:D043183   9669632_2  \n",
       "0  9669632_MESH:D020117_MESH:D043183   9669632_9  "
      ]
     },
     "execution_count": 36,
     "metadata": {},
     "output_type": "execute_result"
    }
   ],
   "source": [
    "sent_lvl_res.head()"
   ]
  },
  {
   "cell_type": "code",
   "execution_count": 37,
   "metadata": {
    "collapsed": true
   },
   "outputs": [],
   "source": [
    "sent_lvl_res = sent_lvl_res.query(\"verify_relationship == 'yes_direct'\")"
   ]
  },
  {
   "cell_type": "code",
   "execution_count": 38,
   "metadata": {
    "collapsed": false
   },
   "outputs": [
    {
     "data": {
      "text/plain": [
       "(649, 11)"
      ]
     },
     "execution_count": 38,
     "metadata": {},
     "output_type": "execute_result"
    }
   ],
   "source": [
    "sent_lvl_res.shape"
   ]
  },
  {
   "cell_type": "code",
   "execution_count": 39,
   "metadata": {
    "collapsed": false
   },
   "outputs": [
    {
     "data": {
      "text/html": [
       "<div>\n",
       "<table border=\"1\" class=\"dataframe\">\n",
       "  <thead>\n",
       "    <tr style=\"text-align: right;\">\n",
       "      <th></th>\n",
       "      <th>uniq_id</th>\n",
       "      <th>verify_relationship</th>\n",
       "      <th>conf_score</th>\n",
       "      <th>num_votes</th>\n",
       "      <th>percent_agree</th>\n",
       "      <th>pmid</th>\n",
       "      <th>unit_id</th>\n",
       "      <th>chemical_id</th>\n",
       "      <th>disease_id</th>\n",
       "      <th>relation_pair_id</th>\n",
       "      <th>sentence_id</th>\n",
       "    </tr>\n",
       "  </thead>\n",
       "  <tbody>\n",
       "    <tr>\n",
       "      <th>0</th>\n",
       "      <td>bcv_devset_test_100_easy_0</td>\n",
       "      <td>yes_direct</td>\n",
       "      <td>1.7002</td>\n",
       "      <td>2</td>\n",
       "      <td>0.367611</td>\n",
       "      <td>9669632</td>\n",
       "      <td>778102225</td>\n",
       "      <td>MESH:D020117</td>\n",
       "      <td>MESH:D043183</td>\n",
       "      <td>9669632_MESH:D020117_MESH:D043183</td>\n",
       "      <td>9669632_0</td>\n",
       "    </tr>\n",
       "    <tr>\n",
       "      <th>0</th>\n",
       "      <td>bcv_devset_test_100_easy_1</td>\n",
       "      <td>yes_direct</td>\n",
       "      <td>1.7002</td>\n",
       "      <td>2</td>\n",
       "      <td>0.378875</td>\n",
       "      <td>9669632</td>\n",
       "      <td>778102226</td>\n",
       "      <td>MESH:D020117</td>\n",
       "      <td>MESH:D043183</td>\n",
       "      <td>9669632_MESH:D020117_MESH:D043183</td>\n",
       "      <td>9669632_2</td>\n",
       "    </tr>\n",
       "    <tr>\n",
       "      <th>0</th>\n",
       "      <td>bcv_devset_test_100_easy_10</td>\n",
       "      <td>yes_direct</td>\n",
       "      <td>1.8824</td>\n",
       "      <td>2</td>\n",
       "      <td>0.407808</td>\n",
       "      <td>9669632</td>\n",
       "      <td>778102235</td>\n",
       "      <td>MESH:D020117</td>\n",
       "      <td>MESH:D043183</td>\n",
       "      <td>9669632_MESH:D020117_MESH:D043183</td>\n",
       "      <td>9669632_9</td>\n",
       "    </tr>\n",
       "    <tr>\n",
       "      <th>0</th>\n",
       "      <td>bcv_devset_test_100_easy_100</td>\n",
       "      <td>yes_direct</td>\n",
       "      <td>4.2931</td>\n",
       "      <td>5</td>\n",
       "      <td>1.000000</td>\n",
       "      <td>17682013</td>\n",
       "      <td>778102325</td>\n",
       "      <td>MESH:D008727</td>\n",
       "      <td>MESH:D056784</td>\n",
       "      <td>17682013_MESH:D008727_MESH:D056784</td>\n",
       "      <td>17682013_6</td>\n",
       "    </tr>\n",
       "    <tr>\n",
       "      <th>0</th>\n",
       "      <td>bcv_devset_test_100_easy_101</td>\n",
       "      <td>yes_direct</td>\n",
       "      <td>3.6849</td>\n",
       "      <td>4</td>\n",
       "      <td>0.815929</td>\n",
       "      <td>17682013</td>\n",
       "      <td>778102326</td>\n",
       "      <td>MESH:D005472</td>\n",
       "      <td>MESH:D056784</td>\n",
       "      <td>17682013_MESH:D005472_MESH:D056784</td>\n",
       "      <td>17682013_6</td>\n",
       "    </tr>\n",
       "  </tbody>\n",
       "</table>\n",
       "</div>"
      ],
      "text/plain": [
       "                        uniq_id verify_relationship  conf_score  num_votes  \\\n",
       "0    bcv_devset_test_100_easy_0          yes_direct      1.7002          2   \n",
       "0    bcv_devset_test_100_easy_1          yes_direct      1.7002          2   \n",
       "0   bcv_devset_test_100_easy_10          yes_direct      1.8824          2   \n",
       "0  bcv_devset_test_100_easy_100          yes_direct      4.2931          5   \n",
       "0  bcv_devset_test_100_easy_101          yes_direct      3.6849          4   \n",
       "\n",
       "   percent_agree      pmid    unit_id   chemical_id    disease_id  \\\n",
       "0       0.367611   9669632  778102225  MESH:D020117  MESH:D043183   \n",
       "0       0.378875   9669632  778102226  MESH:D020117  MESH:D043183   \n",
       "0       0.407808   9669632  778102235  MESH:D020117  MESH:D043183   \n",
       "0       1.000000  17682013  778102325  MESH:D008727  MESH:D056784   \n",
       "0       0.815929  17682013  778102326  MESH:D005472  MESH:D056784   \n",
       "\n",
       "                     relation_pair_id sentence_id  \n",
       "0   9669632_MESH:D020117_MESH:D043183   9669632_0  \n",
       "0   9669632_MESH:D020117_MESH:D043183   9669632_2  \n",
       "0   9669632_MESH:D020117_MESH:D043183   9669632_9  \n",
       "0  17682013_MESH:D008727_MESH:D056784  17682013_6  \n",
       "0  17682013_MESH:D005472_MESH:D056784  17682013_6  "
      ]
     },
     "execution_count": 39,
     "metadata": {},
     "output_type": "execute_result"
    }
   ],
   "source": [
    "sent_lvl_res.head()"
   ]
  },
  {
   "cell_type": "markdown",
   "metadata": {},
   "source": [
    "### Aggregate at abstract level:"
   ]
  },
  {
   "cell_type": "code",
   "execution_count": 40,
   "metadata": {
    "collapsed": true
   },
   "outputs": [],
   "source": [
    "def aggregate_sentences(sentence_res):\n",
    "    \"\"\"\n",
    "    Given the aggregated results at the individual work unit level,\n",
    "    this function determines which sentence-bound drug-disease relationships\n",
    "    are true at the abstract level.\n",
    "    \"\"\"\n",
    "    res = defaultdict(list)\n",
    "    for info, group in sentence_res.groupby([\"pmid\", \"chemical_id\", \"disease_id\"]):\n",
    "        assert len(group[\"relation_pair_id\"].unique()) == 1\n",
    "        norm_conf_score_max = group[\"percent_agree\"].max()\n",
    "        \n",
    "        res[\"pmid\"].append(info[0])\n",
    "        res[\"chemical_id\"].append(info[1])\n",
    "        res[\"disease_id\"].append(info[2])\n",
    "        \n",
    "        res[\"num_votes\"].append(group[\"num_votes\"].max())\n",
    "        res[\"norm_conf_score\"].append(norm_conf_score_max)\n",
    "        \n",
    "        res[\"uniq_ids\"].append(\"|\".join(group[\"uniq_id\"].unique()))\n",
    "        res[\"unit_ids\"].append(\"|\".join(map(lambda x: str(int(x)), group[\"unit_id\"].unique())))\n",
    "        res[\"sentence_ids\"].append(\"|\".join(group[\"sentence_id\"].unique()))\n",
    "        \n",
    "    return pd.DataFrame(res)"
   ]
  },
  {
   "cell_type": "code",
   "execution_count": 41,
   "metadata": {
    "collapsed": true
   },
   "outputs": [],
   "source": [
    "sent_perf_abs = aggregate_sentences(sent_lvl_res)"
   ]
  },
  {
   "cell_type": "code",
   "execution_count": 42,
   "metadata": {
    "collapsed": false
   },
   "outputs": [
    {
     "data": {
      "text/plain": [
       "(426, 8)"
      ]
     },
     "execution_count": 42,
     "metadata": {},
     "output_type": "execute_result"
    }
   ],
   "source": [
    "sent_perf_abs.shape"
   ]
  },
  {
   "cell_type": "code",
   "execution_count": 43,
   "metadata": {
    "collapsed": false
   },
   "outputs": [
    {
     "data": {
      "text/html": [
       "<div>\n",
       "<table border=\"1\" class=\"dataframe\">\n",
       "  <thead>\n",
       "    <tr style=\"text-align: right;\">\n",
       "      <th></th>\n",
       "      <th>chemical_id</th>\n",
       "      <th>disease_id</th>\n",
       "      <th>norm_conf_score</th>\n",
       "      <th>num_votes</th>\n",
       "      <th>pmid</th>\n",
       "      <th>sentence_ids</th>\n",
       "      <th>uniq_ids</th>\n",
       "      <th>unit_ids</th>\n",
       "    </tr>\n",
       "  </thead>\n",
       "  <tbody>\n",
       "    <tr>\n",
       "      <th>0</th>\n",
       "      <td>MESH:C017610</td>\n",
       "      <td>MESH:D010302</td>\n",
       "      <td>0.609304</td>\n",
       "      <td>3</td>\n",
       "      <td>33969</td>\n",
       "      <td>33969_1</td>\n",
       "      <td>bcv_devset_test_100_easy_279</td>\n",
       "      <td>778102504</td>\n",
       "    </tr>\n",
       "    <tr>\n",
       "      <th>1</th>\n",
       "      <td>MESH:C017610</td>\n",
       "      <td>MESH:D012559</td>\n",
       "      <td>0.000000</td>\n",
       "      <td>0</td>\n",
       "      <td>33969</td>\n",
       "      <td>33969_1</td>\n",
       "      <td>bcv_devset_test_100_easy_275</td>\n",
       "      <td>778102500</td>\n",
       "    </tr>\n",
       "    <tr>\n",
       "      <th>2</th>\n",
       "      <td>MESH:C084820</td>\n",
       "      <td>MESH:D001008</td>\n",
       "      <td>0.815284</td>\n",
       "      <td>4</td>\n",
       "      <td>33969</td>\n",
       "      <td>33969_3</td>\n",
       "      <td>bcv_devset_test_100_easy_285</td>\n",
       "      <td>778102510</td>\n",
       "    </tr>\n",
       "    <tr>\n",
       "      <th>3</th>\n",
       "      <td>MESH:C084820</td>\n",
       "      <td>MESH:D003866</td>\n",
       "      <td>0.225109</td>\n",
       "      <td>1</td>\n",
       "      <td>33969</td>\n",
       "      <td>33969_3</td>\n",
       "      <td>bcv_devset_test_100_easy_283</td>\n",
       "      <td>778102508</td>\n",
       "    </tr>\n",
       "    <tr>\n",
       "      <th>4</th>\n",
       "      <td>MESH:C084820</td>\n",
       "      <td>MESH:D004409</td>\n",
       "      <td>0.000000</td>\n",
       "      <td>0</td>\n",
       "      <td>33969</td>\n",
       "      <td>33969_3</td>\n",
       "      <td>bcv_devset_test_100_easy_284</td>\n",
       "      <td>778102509</td>\n",
       "    </tr>\n",
       "  </tbody>\n",
       "</table>\n",
       "</div>"
      ],
      "text/plain": [
       "    chemical_id    disease_id  norm_conf_score  num_votes   pmid sentence_ids  \\\n",
       "0  MESH:C017610  MESH:D010302         0.609304          3  33969      33969_1   \n",
       "1  MESH:C017610  MESH:D012559         0.000000          0  33969      33969_1   \n",
       "2  MESH:C084820  MESH:D001008         0.815284          4  33969      33969_3   \n",
       "3  MESH:C084820  MESH:D003866         0.225109          1  33969      33969_3   \n",
       "4  MESH:C084820  MESH:D004409         0.000000          0  33969      33969_3   \n",
       "\n",
       "                       uniq_ids   unit_ids  \n",
       "0  bcv_devset_test_100_easy_279  778102504  \n",
       "1  bcv_devset_test_100_easy_275  778102500  \n",
       "2  bcv_devset_test_100_easy_285  778102510  \n",
       "3  bcv_devset_test_100_easy_283  778102508  \n",
       "4  bcv_devset_test_100_easy_284  778102509  "
      ]
     },
     "execution_count": 43,
     "metadata": {},
     "output_type": "execute_result"
    }
   ],
   "source": [
    "sent_perf_abs.head()"
   ]
  },
  {
   "cell_type": "code",
   "execution_count": 44,
   "metadata": {
    "collapsed": true
   },
   "outputs": [],
   "source": [
    "with open(\"data/devset_100_test/devset_100_cid_relations.pickle\", \"rb\") as fin:\n",
    "    cid_relations = pickle.load(fin)"
   ]
  },
  {
   "cell_type": "markdown",
   "metadata": {},
   "source": [
    "### Combine results from all three tracks together:"
   ]
  },
  {
   "cell_type": "code",
   "execution_count": 45,
   "metadata": {
    "collapsed": true
   },
   "outputs": [],
   "source": [
    "def get_data(dataframe, pmid):\n",
    "    temp = dataframe.query(\"pmid == {0}\".format(pmid))\n",
    "    if temp.empty:\n",
    "        return \"empty\"\n",
    "    \n",
    "    return temp[[\"pmid\", \"chemical_id\", \"disease_id\", \"norm_conf_score\", \"num_votes\"]]\n",
    "\n",
    "def get_final_res(sent_res, abs_res, datamodel):\n",
    "    final_ans = []\n",
    "    for pmid in testset_pmids:\n",
    "        this_paper_rels = []\n",
    "        \n",
    "        # abstract relations\n",
    "        temp = get_data(abs_res, pmid)\n",
    "        if not isinstance(temp, str):\n",
    "            temp[\"rel_origin\"] = \"abstract_task\"\n",
    "            this_paper_rels.append(temp)\n",
    "            \n",
    "        # sentence relations\n",
    "        temp = get_data(sent_res, pmid)\n",
    "        if not isinstance(temp, str):\n",
    "            temp[\"rel_origin\"] = \"sentence_task\"\n",
    "            this_paper_rels.append(temp)\n",
    "            \n",
    "        things = defaultdict(list)\n",
    "        paper_cid_rels = datamodel[pmid].poss_relations[\"CID\"]\n",
    "        if paper_cid_rels: # not empty\n",
    "            for cid_relation in paper_cid_rels:\n",
    "                for chem in cid_relation[0]:\n",
    "                    for dise in cid_relation[1]:\n",
    "                        things[\"pmid\"].append(pmid)\n",
    "                        things[\"chemical_id\"].append(chem.flat_repr)\n",
    "                        things[\"disease_id\"].append(dise.flat_repr)\n",
    "                        things[\"norm_conf_score\"].append(1)\n",
    "                        things[\"num_votes\"].append(5)\n",
    "                        things[\"rel_origin\"].append(\"cid_relation\")\n",
    "                \n",
    "            this_paper_rels.append(pd.DataFrame(things))\n",
    "            \n",
    "        if len(this_paper_rels) > 0:\n",
    "            # some papers have no detectable relations (eg, pmid 250)\n",
    "            final_ans.append(pd.concat(this_paper_rels))\n",
    "        \n",
    "    return pd.concat(final_ans)"
   ]
  },
  {
   "cell_type": "code",
   "execution_count": 46,
   "metadata": {
    "collapsed": false
   },
   "outputs": [],
   "source": [
    "# check stored CID relations are the same as the parsed dataset's\n",
    "for pmid, paper in dev_testset.items():\n",
    "    assert paper.poss_relations[\"CID\"] == cid_relations[pmid]"
   ]
  },
  {
   "cell_type": "code",
   "execution_count": 47,
   "metadata": {
    "collapsed": false
   },
   "outputs": [],
   "source": [
    "final_res = get_final_res(sent_perf_abs, abs_res, dev_testset)"
   ]
  },
  {
   "cell_type": "code",
   "execution_count": 48,
   "metadata": {
    "collapsed": false,
    "scrolled": true
   },
   "outputs": [
    {
     "data": {
      "text/html": [
       "<div>\n",
       "<table border=\"1\" class=\"dataframe\">\n",
       "  <thead>\n",
       "    <tr style=\"text-align: right;\">\n",
       "      <th></th>\n",
       "      <th>chemical_id</th>\n",
       "      <th>disease_id</th>\n",
       "      <th>norm_conf_score</th>\n",
       "      <th>num_votes</th>\n",
       "      <th>pmid</th>\n",
       "      <th>rel_origin</th>\n",
       "    </tr>\n",
       "  </thead>\n",
       "  <tbody>\n",
       "    <tr>\n",
       "      <th>0</th>\n",
       "      <td>MESH:D020117</td>\n",
       "      <td>MESH:D015746</td>\n",
       "      <td>0.203278</td>\n",
       "      <td>1</td>\n",
       "      <td>9669632</td>\n",
       "      <td>abstract_task</td>\n",
       "    </tr>\n",
       "    <tr>\n",
       "      <th>0</th>\n",
       "      <td>MESH:D020117</td>\n",
       "      <td>MESH:D005767</td>\n",
       "      <td>0.423201</td>\n",
       "      <td>2</td>\n",
       "      <td>9669632</td>\n",
       "      <td>abstract_task</td>\n",
       "    </tr>\n",
       "    <tr>\n",
       "      <th>212</th>\n",
       "      <td>MESH:D020117</td>\n",
       "      <td>MESH:D003248</td>\n",
       "      <td>0.212550</td>\n",
       "      <td>1</td>\n",
       "      <td>9669632</td>\n",
       "      <td>sentence_task</td>\n",
       "    </tr>\n",
       "    <tr>\n",
       "      <th>213</th>\n",
       "      <td>MESH:D020117</td>\n",
       "      <td>MESH:D003967</td>\n",
       "      <td>0.377915</td>\n",
       "      <td>2</td>\n",
       "      <td>9669632</td>\n",
       "      <td>sentence_task</td>\n",
       "    </tr>\n",
       "    <tr>\n",
       "      <th>214</th>\n",
       "      <td>MESH:D020117</td>\n",
       "      <td>MESH:D010146</td>\n",
       "      <td>1.000000</td>\n",
       "      <td>5</td>\n",
       "      <td>9669632</td>\n",
       "      <td>sentence_task</td>\n",
       "    </tr>\n",
       "    <tr>\n",
       "      <th>215</th>\n",
       "      <td>MESH:D020117</td>\n",
       "      <td>MESH:D043183</td>\n",
       "      <td>0.568115</td>\n",
       "      <td>3</td>\n",
       "      <td>9669632</td>\n",
       "      <td>sentence_task</td>\n",
       "    </tr>\n",
       "    <tr>\n",
       "      <th>0</th>\n",
       "      <td>MESH:C117268</td>\n",
       "      <td>MESH:D003875</td>\n",
       "      <td>0.577846</td>\n",
       "      <td>3</td>\n",
       "      <td>20466178</td>\n",
       "      <td>abstract_task</td>\n",
       "    </tr>\n",
       "    <tr>\n",
       "      <th>0</th>\n",
       "      <td>MESH:C117268</td>\n",
       "      <td>MESH:D012393</td>\n",
       "      <td>0.792744</td>\n",
       "      <td>4</td>\n",
       "      <td>20466178</td>\n",
       "      <td>abstract_task</td>\n",
       "    </tr>\n",
       "    <tr>\n",
       "      <th>0</th>\n",
       "      <td>MESH:D016559</td>\n",
       "      <td>MESH:D013684</td>\n",
       "      <td>1.000000</td>\n",
       "      <td>5</td>\n",
       "      <td>20466178</td>\n",
       "      <td>abstract_task</td>\n",
       "    </tr>\n",
       "    <tr>\n",
       "      <th>0</th>\n",
       "      <td>MESH:C117268</td>\n",
       "      <td>MESH:D013684</td>\n",
       "      <td>1.000000</td>\n",
       "      <td>5</td>\n",
       "      <td>20466178</td>\n",
       "      <td>abstract_task</td>\n",
       "    </tr>\n",
       "    <tr>\n",
       "      <th>0</th>\n",
       "      <td>MESH:C117268</td>\n",
       "      <td>MESH:D005148</td>\n",
       "      <td>0.374637</td>\n",
       "      <td>2</td>\n",
       "      <td>20466178</td>\n",
       "      <td>abstract_task</td>\n",
       "    </tr>\n",
       "    <tr>\n",
       "      <th>403</th>\n",
       "      <td>MESH:C117268</td>\n",
       "      <td>MESH:D003872</td>\n",
       "      <td>1.000000</td>\n",
       "      <td>5</td>\n",
       "      <td>20466178</td>\n",
       "      <td>sentence_task</td>\n",
       "    </tr>\n",
       "    <tr>\n",
       "      <th>404</th>\n",
       "      <td>MESH:D016559</td>\n",
       "      <td>MESH:D003872</td>\n",
       "      <td>1.000000</td>\n",
       "      <td>5</td>\n",
       "      <td>20466178</td>\n",
       "      <td>sentence_task</td>\n",
       "    </tr>\n",
       "    <tr>\n",
       "      <th>405</th>\n",
       "      <td>MESH:D016559</td>\n",
       "      <td>MESH:D003875</td>\n",
       "      <td>1.000000</td>\n",
       "      <td>5</td>\n",
       "      <td>20466178</td>\n",
       "      <td>sentence_task</td>\n",
       "    </tr>\n",
       "    <tr>\n",
       "      <th>406</th>\n",
       "      <td>MESH:D016559</td>\n",
       "      <td>MESH:D005148</td>\n",
       "      <td>0.408388</td>\n",
       "      <td>2</td>\n",
       "      <td>20466178</td>\n",
       "      <td>sentence_task</td>\n",
       "    </tr>\n",
       "    <tr>\n",
       "      <th>407</th>\n",
       "      <td>MESH:D016559</td>\n",
       "      <td>MESH:D012393</td>\n",
       "      <td>0.802379</td>\n",
       "      <td>4</td>\n",
       "      <td>20466178</td>\n",
       "      <td>sentence_task</td>\n",
       "    </tr>\n",
       "    <tr>\n",
       "      <th>377</th>\n",
       "      <td>MESH:C071741</td>\n",
       "      <td>MESH:D010146</td>\n",
       "      <td>0.617386</td>\n",
       "      <td>3</td>\n",
       "      <td>18006530</td>\n",
       "      <td>sentence_task</td>\n",
       "    </tr>\n",
       "    <tr>\n",
       "      <th>378</th>\n",
       "      <td>MESH:D015742</td>\n",
       "      <td>MESH:D010146</td>\n",
       "      <td>1.000000</td>\n",
       "      <td>5</td>\n",
       "      <td>18006530</td>\n",
       "      <td>sentence_task</td>\n",
       "    </tr>\n",
       "    <tr>\n",
       "      <th>0</th>\n",
       "      <td>MESH:D020123</td>\n",
       "      <td>MESH:D064420</td>\n",
       "      <td>0.000000</td>\n",
       "      <td>0</td>\n",
       "      <td>7542793</td>\n",
       "      <td>abstract_task</td>\n",
       "    </tr>\n",
       "    <tr>\n",
       "      <th>126</th>\n",
       "      <td>MESH:D016559</td>\n",
       "      <td>MESH:D006984</td>\n",
       "      <td>0.628079</td>\n",
       "      <td>3</td>\n",
       "      <td>7542793</td>\n",
       "      <td>sentence_task</td>\n",
       "    </tr>\n",
       "    <tr>\n",
       "      <th>127</th>\n",
       "      <td>MESH:D016559</td>\n",
       "      <td>MESH:D064420</td>\n",
       "      <td>0.800825</td>\n",
       "      <td>4</td>\n",
       "      <td>7542793</td>\n",
       "      <td>sentence_task</td>\n",
       "    </tr>\n",
       "    <tr>\n",
       "      <th>128</th>\n",
       "      <td>MESH:D016572</td>\n",
       "      <td>MESH:D006984</td>\n",
       "      <td>0.220507</td>\n",
       "      <td>1</td>\n",
       "      <td>7542793</td>\n",
       "      <td>sentence_task</td>\n",
       "    </tr>\n",
       "    <tr>\n",
       "      <th>129</th>\n",
       "      <td>MESH:D016572</td>\n",
       "      <td>MESH:D064420</td>\n",
       "      <td>0.401410</td>\n",
       "      <td>2</td>\n",
       "      <td>7542793</td>\n",
       "      <td>sentence_task</td>\n",
       "    </tr>\n",
       "    <tr>\n",
       "      <th>130</th>\n",
       "      <td>MESH:D020123</td>\n",
       "      <td>MESH:D006984</td>\n",
       "      <td>0.210809</td>\n",
       "      <td>1</td>\n",
       "      <td>7542793</td>\n",
       "      <td>sentence_task</td>\n",
       "    </tr>\n",
       "    <tr>\n",
       "      <th>0</th>\n",
       "      <td>MESH:D002045</td>\n",
       "      <td>MESH:D006311</td>\n",
       "      <td>0.000000</td>\n",
       "      <td>0</td>\n",
       "      <td>7880714</td>\n",
       "      <td>abstract_task</td>\n",
       "    </tr>\n",
       "    <tr>\n",
       "      <th>0</th>\n",
       "      <td>MESH:D002045</td>\n",
       "      <td>MESH:D034381</td>\n",
       "      <td>0.617870</td>\n",
       "      <td>3</td>\n",
       "      <td>7880714</td>\n",
       "      <td>abstract_task</td>\n",
       "    </tr>\n",
       "    <tr>\n",
       "      <th>0</th>\n",
       "      <td>MESH:D004837</td>\n",
       "      <td>MESH:D034381</td>\n",
       "      <td>0.610183</td>\n",
       "      <td>3</td>\n",
       "      <td>7880714</td>\n",
       "      <td>abstract_task</td>\n",
       "    </tr>\n",
       "    <tr>\n",
       "      <th>0</th>\n",
       "      <td>MESH:D004837</td>\n",
       "      <td>MESH:D006311</td>\n",
       "      <td>0.000000</td>\n",
       "      <td>0</td>\n",
       "      <td>7880714</td>\n",
       "      <td>abstract_task</td>\n",
       "    </tr>\n",
       "    <tr>\n",
       "      <th>116</th>\n",
       "      <td>MESH:D014196</td>\n",
       "      <td>MESH:D006327</td>\n",
       "      <td>1.000000</td>\n",
       "      <td>5</td>\n",
       "      <td>6496797</td>\n",
       "      <td>sentence_task</td>\n",
       "    </tr>\n",
       "    <tr>\n",
       "      <th>0</th>\n",
       "      <td>MESH:D005442</td>\n",
       "      <td>MESH:D062787</td>\n",
       "      <td>0.194485</td>\n",
       "      <td>1</td>\n",
       "      <td>7651879</td>\n",
       "      <td>abstract_task</td>\n",
       "    </tr>\n",
       "    <tr>\n",
       "      <th>...</th>\n",
       "      <td>...</td>\n",
       "      <td>...</td>\n",
       "      <td>...</td>\n",
       "      <td>...</td>\n",
       "      <td>...</td>\n",
       "      <td>...</td>\n",
       "    </tr>\n",
       "    <tr>\n",
       "      <th>336</th>\n",
       "      <td>MESH:D004977</td>\n",
       "      <td>MESH:D009410</td>\n",
       "      <td>0.602380</td>\n",
       "      <td>3</td>\n",
       "      <td>15565293</td>\n",
       "      <td>sentence_task</td>\n",
       "    </tr>\n",
       "    <tr>\n",
       "      <th>337</th>\n",
       "      <td>MESH:D004977</td>\n",
       "      <td>MESH:D014376</td>\n",
       "      <td>0.000000</td>\n",
       "      <td>0</td>\n",
       "      <td>15565293</td>\n",
       "      <td>sentence_task</td>\n",
       "    </tr>\n",
       "    <tr>\n",
       "      <th>338</th>\n",
       "      <td>MESH:D004977</td>\n",
       "      <td>MESH:D014786</td>\n",
       "      <td>0.634997</td>\n",
       "      <td>3</td>\n",
       "      <td>15565293</td>\n",
       "      <td>sentence_task</td>\n",
       "    </tr>\n",
       "    <tr>\n",
       "      <th>0</th>\n",
       "      <td>MESH:D004977</td>\n",
       "      <td>MESH:D009901</td>\n",
       "      <td>1.000000</td>\n",
       "      <td>5</td>\n",
       "      <td>15565293</td>\n",
       "      <td>cid_relation</td>\n",
       "    </tr>\n",
       "    <tr>\n",
       "      <th>0</th>\n",
       "      <td>MESH:D006632</td>\n",
       "      <td>MESH:D007172</td>\n",
       "      <td>0.606289</td>\n",
       "      <td>3</td>\n",
       "      <td>6150641</td>\n",
       "      <td>abstract_task</td>\n",
       "    </tr>\n",
       "    <tr>\n",
       "      <th>0</th>\n",
       "      <td>MESH:D003404</td>\n",
       "      <td>MESH:D034721</td>\n",
       "      <td>0.000000</td>\n",
       "      <td>0</td>\n",
       "      <td>6150641</td>\n",
       "      <td>abstract_task</td>\n",
       "    </tr>\n",
       "    <tr>\n",
       "      <th>0</th>\n",
       "      <td>MESH:D002927</td>\n",
       "      <td>MESH:D034721</td>\n",
       "      <td>0.573567</td>\n",
       "      <td>3</td>\n",
       "      <td>6150641</td>\n",
       "      <td>abstract_task</td>\n",
       "    </tr>\n",
       "    <tr>\n",
       "      <th>0</th>\n",
       "      <td>MESH:D011899</td>\n",
       "      <td>MESH:D034721</td>\n",
       "      <td>0.208225</td>\n",
       "      <td>1</td>\n",
       "      <td>6150641</td>\n",
       "      <td>abstract_task</td>\n",
       "    </tr>\n",
       "    <tr>\n",
       "      <th>0</th>\n",
       "      <td>MESH:D002927</td>\n",
       "      <td>MESH:D015043</td>\n",
       "      <td>0.586877</td>\n",
       "      <td>3</td>\n",
       "      <td>6150641</td>\n",
       "      <td>abstract_task</td>\n",
       "    </tr>\n",
       "    <tr>\n",
       "      <th>0</th>\n",
       "      <td>MESH:D006632</td>\n",
       "      <td>MESH:D034721</td>\n",
       "      <td>0.372853</td>\n",
       "      <td>2</td>\n",
       "      <td>6150641</td>\n",
       "      <td>abstract_task</td>\n",
       "    </tr>\n",
       "    <tr>\n",
       "      <th>0</th>\n",
       "      <td>MESH:D006632</td>\n",
       "      <td>MESH:D015043</td>\n",
       "      <td>0.188618</td>\n",
       "      <td>1</td>\n",
       "      <td>6150641</td>\n",
       "      <td>abstract_task</td>\n",
       "    </tr>\n",
       "    <tr>\n",
       "      <th>0</th>\n",
       "      <td>MESH:D006632</td>\n",
       "      <td>MESH:D056486</td>\n",
       "      <td>0.000000</td>\n",
       "      <td>0</td>\n",
       "      <td>6150641</td>\n",
       "      <td>abstract_task</td>\n",
       "    </tr>\n",
       "    <tr>\n",
       "      <th>0</th>\n",
       "      <td>MESH:D011899</td>\n",
       "      <td>MESH:D015043</td>\n",
       "      <td>0.643255</td>\n",
       "      <td>3</td>\n",
       "      <td>6150641</td>\n",
       "      <td>abstract_task</td>\n",
       "    </tr>\n",
       "    <tr>\n",
       "      <th>0</th>\n",
       "      <td>MESH:D003404</td>\n",
       "      <td>MESH:D007172</td>\n",
       "      <td>0.000000</td>\n",
       "      <td>0</td>\n",
       "      <td>6150641</td>\n",
       "      <td>abstract_task</td>\n",
       "    </tr>\n",
       "    <tr>\n",
       "      <th>0</th>\n",
       "      <td>MESH:D003404</td>\n",
       "      <td>MESH:D015043</td>\n",
       "      <td>0.000000</td>\n",
       "      <td>0</td>\n",
       "      <td>6150641</td>\n",
       "      <td>abstract_task</td>\n",
       "    </tr>\n",
       "    <tr>\n",
       "      <th>107</th>\n",
       "      <td>MESH:D002927</td>\n",
       "      <td>MESH:D007172</td>\n",
       "      <td>1.000000</td>\n",
       "      <td>5</td>\n",
       "      <td>6150641</td>\n",
       "      <td>sentence_task</td>\n",
       "    </tr>\n",
       "    <tr>\n",
       "      <th>108</th>\n",
       "      <td>MESH:D002927</td>\n",
       "      <td>MESH:D056486</td>\n",
       "      <td>0.000000</td>\n",
       "      <td>0</td>\n",
       "      <td>6150641</td>\n",
       "      <td>sentence_task</td>\n",
       "    </tr>\n",
       "    <tr>\n",
       "      <th>109</th>\n",
       "      <td>MESH:D003404</td>\n",
       "      <td>MESH:D056486</td>\n",
       "      <td>0.000000</td>\n",
       "      <td>0</td>\n",
       "      <td>6150641</td>\n",
       "      <td>sentence_task</td>\n",
       "    </tr>\n",
       "    <tr>\n",
       "      <th>110</th>\n",
       "      <td>MESH:D011899</td>\n",
       "      <td>MESH:D007172</td>\n",
       "      <td>0.000000</td>\n",
       "      <td>0</td>\n",
       "      <td>6150641</td>\n",
       "      <td>sentence_task</td>\n",
       "    </tr>\n",
       "    <tr>\n",
       "      <th>111</th>\n",
       "      <td>MESH:D011899</td>\n",
       "      <td>MESH:D056486</td>\n",
       "      <td>0.000000</td>\n",
       "      <td>0</td>\n",
       "      <td>6150641</td>\n",
       "      <td>sentence_task</td>\n",
       "    </tr>\n",
       "    <tr>\n",
       "      <th>0</th>\n",
       "      <td>MESH:D012293</td>\n",
       "      <td>MESH:D007674</td>\n",
       "      <td>0.588755</td>\n",
       "      <td>3</td>\n",
       "      <td>982002</td>\n",
       "      <td>abstract_task</td>\n",
       "    </tr>\n",
       "    <tr>\n",
       "      <th>0</th>\n",
       "      <td>MESH:D012293</td>\n",
       "      <td>MESH:D001002</td>\n",
       "      <td>0.825035</td>\n",
       "      <td>4</td>\n",
       "      <td>982002</td>\n",
       "      <td>abstract_task</td>\n",
       "    </tr>\n",
       "    <tr>\n",
       "      <th>14</th>\n",
       "      <td>MESH:D012293</td>\n",
       "      <td>MESH:D051437</td>\n",
       "      <td>1.000000</td>\n",
       "      <td>5</td>\n",
       "      <td>982002</td>\n",
       "      <td>sentence_task</td>\n",
       "    </tr>\n",
       "    <tr>\n",
       "      <th>15</th>\n",
       "      <td>MESH:D012293</td>\n",
       "      <td>MESH:D058186</td>\n",
       "      <td>1.000000</td>\n",
       "      <td>5</td>\n",
       "      <td>982002</td>\n",
       "      <td>sentence_task</td>\n",
       "    </tr>\n",
       "    <tr>\n",
       "      <th>0</th>\n",
       "      <td>MESH:D007654</td>\n",
       "      <td>MESH:D007674</td>\n",
       "      <td>0.389303</td>\n",
       "      <td>2</td>\n",
       "      <td>3708922</td>\n",
       "      <td>abstract_task</td>\n",
       "    </tr>\n",
       "    <tr>\n",
       "      <th>0</th>\n",
       "      <td>MESH:D005839</td>\n",
       "      <td>MESH:D007674</td>\n",
       "      <td>0.597967</td>\n",
       "      <td>3</td>\n",
       "      <td>3708922</td>\n",
       "      <td>abstract_task</td>\n",
       "    </tr>\n",
       "    <tr>\n",
       "      <th>91</th>\n",
       "      <td>MESH:D005839</td>\n",
       "      <td>MESH:D064420</td>\n",
       "      <td>0.000000</td>\n",
       "      <td>0</td>\n",
       "      <td>3708922</td>\n",
       "      <td>sentence_task</td>\n",
       "    </tr>\n",
       "    <tr>\n",
       "      <th>92</th>\n",
       "      <td>MESH:D007654</td>\n",
       "      <td>MESH:D064420</td>\n",
       "      <td>0.189582</td>\n",
       "      <td>1</td>\n",
       "      <td>3708922</td>\n",
       "      <td>sentence_task</td>\n",
       "    </tr>\n",
       "    <tr>\n",
       "      <th>93</th>\n",
       "      <td>MESH:D016572</td>\n",
       "      <td>MESH:D007674</td>\n",
       "      <td>0.614836</td>\n",
       "      <td>3</td>\n",
       "      <td>3708922</td>\n",
       "      <td>sentence_task</td>\n",
       "    </tr>\n",
       "    <tr>\n",
       "      <th>0</th>\n",
       "      <td>MESH:D016572</td>\n",
       "      <td>MESH:D064420</td>\n",
       "      <td>1.000000</td>\n",
       "      <td>5</td>\n",
       "      <td>3708922</td>\n",
       "      <td>cid_relation</td>\n",
       "    </tr>\n",
       "  </tbody>\n",
       "</table>\n",
       "<p>1008 rows × 6 columns</p>\n",
       "</div>"
      ],
      "text/plain": [
       "      chemical_id    disease_id  norm_conf_score  num_votes      pmid  \\\n",
       "0    MESH:D020117  MESH:D015746         0.203278          1   9669632   \n",
       "0    MESH:D020117  MESH:D005767         0.423201          2   9669632   \n",
       "212  MESH:D020117  MESH:D003248         0.212550          1   9669632   \n",
       "213  MESH:D020117  MESH:D003967         0.377915          2   9669632   \n",
       "214  MESH:D020117  MESH:D010146         1.000000          5   9669632   \n",
       "215  MESH:D020117  MESH:D043183         0.568115          3   9669632   \n",
       "0    MESH:C117268  MESH:D003875         0.577846          3  20466178   \n",
       "0    MESH:C117268  MESH:D012393         0.792744          4  20466178   \n",
       "0    MESH:D016559  MESH:D013684         1.000000          5  20466178   \n",
       "0    MESH:C117268  MESH:D013684         1.000000          5  20466178   \n",
       "0    MESH:C117268  MESH:D005148         0.374637          2  20466178   \n",
       "403  MESH:C117268  MESH:D003872         1.000000          5  20466178   \n",
       "404  MESH:D016559  MESH:D003872         1.000000          5  20466178   \n",
       "405  MESH:D016559  MESH:D003875         1.000000          5  20466178   \n",
       "406  MESH:D016559  MESH:D005148         0.408388          2  20466178   \n",
       "407  MESH:D016559  MESH:D012393         0.802379          4  20466178   \n",
       "377  MESH:C071741  MESH:D010146         0.617386          3  18006530   \n",
       "378  MESH:D015742  MESH:D010146         1.000000          5  18006530   \n",
       "0    MESH:D020123  MESH:D064420         0.000000          0   7542793   \n",
       "126  MESH:D016559  MESH:D006984         0.628079          3   7542793   \n",
       "127  MESH:D016559  MESH:D064420         0.800825          4   7542793   \n",
       "128  MESH:D016572  MESH:D006984         0.220507          1   7542793   \n",
       "129  MESH:D016572  MESH:D064420         0.401410          2   7542793   \n",
       "130  MESH:D020123  MESH:D006984         0.210809          1   7542793   \n",
       "0    MESH:D002045  MESH:D006311         0.000000          0   7880714   \n",
       "0    MESH:D002045  MESH:D034381         0.617870          3   7880714   \n",
       "0    MESH:D004837  MESH:D034381         0.610183          3   7880714   \n",
       "0    MESH:D004837  MESH:D006311         0.000000          0   7880714   \n",
       "116  MESH:D014196  MESH:D006327         1.000000          5   6496797   \n",
       "0    MESH:D005442  MESH:D062787         0.194485          1   7651879   \n",
       "..            ...           ...              ...        ...       ...   \n",
       "336  MESH:D004977  MESH:D009410         0.602380          3  15565293   \n",
       "337  MESH:D004977  MESH:D014376         0.000000          0  15565293   \n",
       "338  MESH:D004977  MESH:D014786         0.634997          3  15565293   \n",
       "0    MESH:D004977  MESH:D009901         1.000000          5  15565293   \n",
       "0    MESH:D006632  MESH:D007172         0.606289          3   6150641   \n",
       "0    MESH:D003404  MESH:D034721         0.000000          0   6150641   \n",
       "0    MESH:D002927  MESH:D034721         0.573567          3   6150641   \n",
       "0    MESH:D011899  MESH:D034721         0.208225          1   6150641   \n",
       "0    MESH:D002927  MESH:D015043         0.586877          3   6150641   \n",
       "0    MESH:D006632  MESH:D034721         0.372853          2   6150641   \n",
       "0    MESH:D006632  MESH:D015043         0.188618          1   6150641   \n",
       "0    MESH:D006632  MESH:D056486         0.000000          0   6150641   \n",
       "0    MESH:D011899  MESH:D015043         0.643255          3   6150641   \n",
       "0    MESH:D003404  MESH:D007172         0.000000          0   6150641   \n",
       "0    MESH:D003404  MESH:D015043         0.000000          0   6150641   \n",
       "107  MESH:D002927  MESH:D007172         1.000000          5   6150641   \n",
       "108  MESH:D002927  MESH:D056486         0.000000          0   6150641   \n",
       "109  MESH:D003404  MESH:D056486         0.000000          0   6150641   \n",
       "110  MESH:D011899  MESH:D007172         0.000000          0   6150641   \n",
       "111  MESH:D011899  MESH:D056486         0.000000          0   6150641   \n",
       "0    MESH:D012293  MESH:D007674         0.588755          3    982002   \n",
       "0    MESH:D012293  MESH:D001002         0.825035          4    982002   \n",
       "14   MESH:D012293  MESH:D051437         1.000000          5    982002   \n",
       "15   MESH:D012293  MESH:D058186         1.000000          5    982002   \n",
       "0    MESH:D007654  MESH:D007674         0.389303          2   3708922   \n",
       "0    MESH:D005839  MESH:D007674         0.597967          3   3708922   \n",
       "91   MESH:D005839  MESH:D064420         0.000000          0   3708922   \n",
       "92   MESH:D007654  MESH:D064420         0.189582          1   3708922   \n",
       "93   MESH:D016572  MESH:D007674         0.614836          3   3708922   \n",
       "0    MESH:D016572  MESH:D064420         1.000000          5   3708922   \n",
       "\n",
       "        rel_origin  \n",
       "0    abstract_task  \n",
       "0    abstract_task  \n",
       "212  sentence_task  \n",
       "213  sentence_task  \n",
       "214  sentence_task  \n",
       "215  sentence_task  \n",
       "0    abstract_task  \n",
       "0    abstract_task  \n",
       "0    abstract_task  \n",
       "0    abstract_task  \n",
       "0    abstract_task  \n",
       "403  sentence_task  \n",
       "404  sentence_task  \n",
       "405  sentence_task  \n",
       "406  sentence_task  \n",
       "407  sentence_task  \n",
       "377  sentence_task  \n",
       "378  sentence_task  \n",
       "0    abstract_task  \n",
       "126  sentence_task  \n",
       "127  sentence_task  \n",
       "128  sentence_task  \n",
       "129  sentence_task  \n",
       "130  sentence_task  \n",
       "0    abstract_task  \n",
       "0    abstract_task  \n",
       "0    abstract_task  \n",
       "0    abstract_task  \n",
       "116  sentence_task  \n",
       "0    abstract_task  \n",
       "..             ...  \n",
       "336  sentence_task  \n",
       "337  sentence_task  \n",
       "338  sentence_task  \n",
       "0     cid_relation  \n",
       "0    abstract_task  \n",
       "0    abstract_task  \n",
       "0    abstract_task  \n",
       "0    abstract_task  \n",
       "0    abstract_task  \n",
       "0    abstract_task  \n",
       "0    abstract_task  \n",
       "0    abstract_task  \n",
       "0    abstract_task  \n",
       "0    abstract_task  \n",
       "0    abstract_task  \n",
       "107  sentence_task  \n",
       "108  sentence_task  \n",
       "109  sentence_task  \n",
       "110  sentence_task  \n",
       "111  sentence_task  \n",
       "0    abstract_task  \n",
       "0    abstract_task  \n",
       "14   sentence_task  \n",
       "15   sentence_task  \n",
       "0    abstract_task  \n",
       "0    abstract_task  \n",
       "91   sentence_task  \n",
       "92   sentence_task  \n",
       "93   sentence_task  \n",
       "0     cid_relation  \n",
       "\n",
       "[1008 rows x 6 columns]"
      ]
     },
     "execution_count": 48,
     "metadata": {},
     "output_type": "execute_result"
    }
   ],
   "source": [
    "final_res"
   ]
  },
  {
   "cell_type": "code",
   "execution_count": 49,
   "metadata": {
    "collapsed": true
   },
   "outputs": [],
   "source": [
    "final_res[\"in_gold\"] = final_res.loc[:, [\"pmid\", \"chemical_id\", \"disease_id\"]].apply(in_gold, axis = 1)"
   ]
  },
  {
   "cell_type": "code",
   "execution_count": 50,
   "metadata": {
    "collapsed": false,
    "scrolled": false
   },
   "outputs": [
    {
     "data": {
      "text/html": [
       "<div>\n",
       "<table border=\"1\" class=\"dataframe\">\n",
       "  <thead>\n",
       "    <tr style=\"text-align: right;\">\n",
       "      <th></th>\n",
       "      <th>chemical_id</th>\n",
       "      <th>disease_id</th>\n",
       "      <th>norm_conf_score</th>\n",
       "      <th>num_votes</th>\n",
       "      <th>pmid</th>\n",
       "      <th>rel_origin</th>\n",
       "      <th>in_gold</th>\n",
       "    </tr>\n",
       "  </thead>\n",
       "  <tbody>\n",
       "    <tr>\n",
       "      <th>0</th>\n",
       "      <td>MESH:D020117</td>\n",
       "      <td>MESH:D015746</td>\n",
       "      <td>0.203278</td>\n",
       "      <td>1</td>\n",
       "      <td>9669632</td>\n",
       "      <td>abstract_task</td>\n",
       "      <td>1</td>\n",
       "    </tr>\n",
       "    <tr>\n",
       "      <th>0</th>\n",
       "      <td>MESH:D020117</td>\n",
       "      <td>MESH:D005767</td>\n",
       "      <td>0.423201</td>\n",
       "      <td>2</td>\n",
       "      <td>9669632</td>\n",
       "      <td>abstract_task</td>\n",
       "      <td>0</td>\n",
       "    </tr>\n",
       "    <tr>\n",
       "      <th>212</th>\n",
       "      <td>MESH:D020117</td>\n",
       "      <td>MESH:D003248</td>\n",
       "      <td>0.212550</td>\n",
       "      <td>1</td>\n",
       "      <td>9669632</td>\n",
       "      <td>sentence_task</td>\n",
       "      <td>0</td>\n",
       "    </tr>\n",
       "    <tr>\n",
       "      <th>213</th>\n",
       "      <td>MESH:D020117</td>\n",
       "      <td>MESH:D003967</td>\n",
       "      <td>0.377915</td>\n",
       "      <td>2</td>\n",
       "      <td>9669632</td>\n",
       "      <td>sentence_task</td>\n",
       "      <td>0</td>\n",
       "    </tr>\n",
       "    <tr>\n",
       "      <th>214</th>\n",
       "      <td>MESH:D020117</td>\n",
       "      <td>MESH:D010146</td>\n",
       "      <td>1.000000</td>\n",
       "      <td>5</td>\n",
       "      <td>9669632</td>\n",
       "      <td>sentence_task</td>\n",
       "      <td>0</td>\n",
       "    </tr>\n",
       "  </tbody>\n",
       "</table>\n",
       "</div>"
      ],
      "text/plain": [
       "      chemical_id    disease_id  norm_conf_score  num_votes     pmid  \\\n",
       "0    MESH:D020117  MESH:D015746         0.203278          1  9669632   \n",
       "0    MESH:D020117  MESH:D005767         0.423201          2  9669632   \n",
       "212  MESH:D020117  MESH:D003248         0.212550          1  9669632   \n",
       "213  MESH:D020117  MESH:D003967         0.377915          2  9669632   \n",
       "214  MESH:D020117  MESH:D010146         1.000000          5  9669632   \n",
       "\n",
       "        rel_origin  in_gold  \n",
       "0    abstract_task        1  \n",
       "0    abstract_task        0  \n",
       "212  sentence_task        0  \n",
       "213  sentence_task        0  \n",
       "214  sentence_task        0  "
      ]
     },
     "execution_count": 50,
     "metadata": {},
     "output_type": "execute_result"
    }
   ],
   "source": [
    "final_res.head()"
   ]
  },
  {
   "cell_type": "markdown",
   "metadata": {},
   "source": [
    "### Performance using unofficial evaluation metric:"
   ]
  },
  {
   "cell_type": "code",
   "execution_count": 51,
   "metadata": {
    "collapsed": false
   },
   "outputs": [
    {
     "data": {
      "text/plain": [
       "F_score      0.637209\n",
       "precision    0.545817\n",
       "recall       0.765363\n",
       "threshold    0.789366\n",
       "Name: 369, dtype: float64"
      ]
     },
     "execution_count": 51,
     "metadata": {},
     "output_type": "execute_result"
    }
   ],
   "source": [
    "max_F_score(\"norm_conf_score\", \"in_gold\", final_res)"
   ]
  },
  {
   "cell_type": "code",
   "execution_count": 52,
   "metadata": {
    "collapsed": false
   },
   "outputs": [
    {
     "data": {
      "text/plain": [
       "F_score      0.625571\n",
       "precision    0.528958\n",
       "recall       0.765363\n",
       "threshold    4.000000\n",
       "Name: 4, dtype: float64"
      ]
     },
     "execution_count": 52,
     "metadata": {},
     "output_type": "execute_result"
    }
   ],
   "source": [
    "max_F_score(\"num_votes\", \"in_gold\", final_res)"
   ]
  },
  {
   "cell_type": "markdown",
   "metadata": {},
   "source": [
    "### ROC analysis:"
   ]
  },
  {
   "cell_type": "code",
   "execution_count": 53,
   "metadata": {
    "collapsed": false
   },
   "outputs": [
    {
     "data": {
      "text/plain": [
       "0.8678053251207944"
      ]
     },
     "execution_count": 53,
     "metadata": {},
     "output_type": "execute_result"
    }
   ],
   "source": [
    "fname = \"data/roc/dev_testset_100_abstracts_total_res.png\"\n",
    "title = \"ROC for 100 development set abstracts with indirect votes meaning no, norm_conf_score\"\n",
    "get_AUC_value(final_res, \"norm_conf_score\", \"in_gold\", fname, title)"
   ]
  },
  {
   "cell_type": "code",
   "execution_count": 54,
   "metadata": {
    "collapsed": false
   },
   "outputs": [
    {
     "data": {
      "image/png": "[encoded data removed]",
      "text/plain": [
       "<IPython.core.display.Image object>"
      ]
     },
     "execution_count": 54,
     "metadata": {},
     "output_type": "execute_result"
    }
   ],
   "source": [
    "Image(fname)"
   ]
  },
  {
   "cell_type": "code",
   "execution_count": 55,
   "metadata": {
    "collapsed": false
   },
   "outputs": [
    {
     "data": {
      "text/plain": [
       "0.8633138128323146"
      ]
     },
     "execution_count": 55,
     "metadata": {},
     "output_type": "execute_result"
    }
   ],
   "source": [
    "fname = \"data/roc/dev_testset_100_abstracts_total_res_votes.png\"\n",
    "title = \"ROC for 100 development set abstracts with indirect votes meaning no, num_votes\"\n",
    "get_AUC_value(final_res, \"num_votes\", \"in_gold\", fname, title)"
   ]
  },
  {
   "cell_type": "code",
   "execution_count": 56,
   "metadata": {
    "collapsed": false
   },
   "outputs": [
    {
     "data": {
      "image/png": "[encoded data removed]",
      "text/plain": [
       "<IPython.core.display.Image object>"
      ]
     },
     "execution_count": 56,
     "metadata": {},
     "output_type": "execute_result"
    }
   ],
   "source": [
    "Image(fname)"
   ]
  },
  {
   "cell_type": "code",
   "execution_count": 57,
   "metadata": {
    "collapsed": true
   },
   "outputs": [],
   "source": [
    "def plot_results(score_column, class_column, dataframe):\n",
    "    res = all_F_scores(score_column, class_column, dataframe)\n",
    "    res = res.sort(\"threshold\")\n",
    "    \n",
    "    graph = res.plot(x = \"threshold\", figsize = (7, 7))\n",
    "    graph.set_ylim((0, 1.1))"
   ]
  },
  {
   "cell_type": "code",
   "execution_count": 58,
   "metadata": {
    "collapsed": false
   },
   "outputs": [
    {
     "data": {
      "image/png": "[encoded data removed]",
      "text/plain": [
       "<matplotlib.figure.Figure at 0x7f5e187fee10>"
      ]
     },
     "metadata": {},
     "output_type": "display_data"
    }
   ],
   "source": [
    "plot_results(\"norm_conf_score\", \"in_gold\", final_res)"
   ]
  },
  {
   "cell_type": "code",
   "execution_count": 60,
   "metadata": {
    "collapsed": false
   },
   "outputs": [
    {
     "data": {
      "image/png": "[encoded data removed]",
      "text/plain": [
       "<matplotlib.figure.Figure at 0x7f5e187cb1d0>"
      ]
     },
     "metadata": {},
     "output_type": "display_data"
    }
   ],
   "source": [
    "plot_results(\"num_votes\", \"in_gold\", final_res)"
   ]
  },
  {
   "cell_type": "markdown",
   "metadata": {},
   "source": [
    "This isn't correct, since the recall should not be 1.0 due to the NER step."
   ]
  },
  {
   "cell_type": "markdown",
   "metadata": {},
   "source": [
    "# Evaluation using the official method"
   ]
  },
  {
   "cell_type": "code",
   "execution_count": 60,
   "metadata": {
    "collapsed": false
   },
   "outputs": [],
   "source": [
    "def simple_repr(id_set):\n",
    "    assert len(id_set) == 1\n",
    "    temp = sorted(list(id_set))\n",
    "    return \"|\".join(temp)\n",
    "\n",
    "def get_gold_rels(pmid_set, gold_std):\n",
    "    res = set()\n",
    "    for pmid in pmid_set:\n",
    "        paper = gold_std[pmid]\n",
    "        for rel in paper.gold_relations:\n",
    "            rep = \"{0}#{1}+{2}\".format(pmid, simple_repr(rel.chemical_id), simple_repr(rel.disease_id))\n",
    "            res |= set([rep])\n",
    "    \n",
    "    return res"
   ]
  },
  {
   "cell_type": "code",
   "execution_count": 61,
   "metadata": {
    "collapsed": true
   },
   "outputs": [],
   "source": [
    "gold_relations = get_gold_rels(dev_testset, dev_gold)"
   ]
  },
  {
   "cell_type": "code",
   "execution_count": 62,
   "metadata": {
    "collapsed": false
   },
   "outputs": [
    {
     "data": {
      "text/plain": [
       "207"
      ]
     },
     "execution_count": 62,
     "metadata": {},
     "output_type": "execute_result"
    }
   ],
   "source": [
    "len(gold_relations)"
   ]
  },
  {
   "cell_type": "code",
   "execution_count": 63,
   "metadata": {
    "collapsed": false
   },
   "outputs": [
    {
     "data": {
      "text/plain": [
       "{'10225068#MESH:D008012+MESH:D011128',\n",
       " '10328196#MESH:D020123+MESH:D019559',\n",
       " '10523326#MESH:D007854+MESH:D006973',\n",
       " '10565806#MESH:C076029+MESH:D001714',\n",
       " '10743694#MESH:D016559+MESH:D000743',\n",
       " '10743694#MESH:D016559+MESH:D003922',\n",
       " '10743694#MESH:D016559+MESH:D005767',\n",
       " '10743694#MESH:D016559+MESH:D007674',\n",
       " '10743694#MESH:D016559+MESH:D008232',\n",
       " '10743694#MESH:D016559+MESH:D009202',\n",
       " '10743694#MESH:D016559+MESH:D011537',\n",
       " '10743694#MESH:D016559+MESH:D020258',\n",
       " '10743694#MESH:D016559+MESH:D056486',\n",
       " '10840460#MESH:D000171+MESH:D010146',\n",
       " '10840460#MESH:D003520+MESH:D003556',\n",
       " '10840460#MESH:D003520+MESH:D010146',\n",
       " '10910842#MESH:D011239+MESH:D009133',\n",
       " '10910842#MESH:D011239+MESH:D018908',\n",
       " '11063349#MESH:D016559+MESH:D007674',\n",
       " '11063349#MESH:D016572+MESH:D007674',\n",
       " '11077455#MESH:D020888+MESH:D014786',\n",
       " '11282081#MESH:D014700+MESH:D001281',\n",
       " '11337188#MESH:D000305+MESH:D018366',\n",
       " '11337188#MESH:D000305+MESH:D051437',\n",
       " '11337188#MESH:D010068+MESH:D018366',\n",
       " '11337188#MESH:D010068+MESH:D051437',\n",
       " '11524350#MESH:C037663+MESH:D001145',\n",
       " '11524350#MESH:C037663+MESH:D006323',\n",
       " '11524350#MESH:C037663+MESH:D012640',\n",
       " '11524350#MESH:C476513+MESH:D001145',\n",
       " '11524350#MESH:C476513+MESH:D006323',\n",
       " '11524350#MESH:C476513+MESH:D012640',\n",
       " '11704023#MESH:D013999+MESH:D001919',\n",
       " '11705128#MESH:D012254+MESH:D000743',\n",
       " '11705128#MESH:D016898+MESH:D000743',\n",
       " '11860278#MESH:D007608+MESH:D012640',\n",
       " '11860278#MESH:D010862+MESH:D012640',\n",
       " '11868798#MESH:D000666+MESH:D007008',\n",
       " '11999899#MESH:D012110+MESH:D002375',\n",
       " '11999899#MESH:D012110+MESH:D004409',\n",
       " '11999899#MESH:D012110+MESH:D014202',\n",
       " '12448656#MESH:D013792+MESH:D003248',\n",
       " '12448656#MESH:D013792+MESH:D006970',\n",
       " '12452237#MESH:D013390+MESH:D005207',\n",
       " '12452237#MESH:D013390+MESH:D010149',\n",
       " '12911170#MESH:D002939+MESH:D000743',\n",
       " '12911170#MESH:D002939+MESH:D007676',\n",
       " '12911170#MESH:D002939+MESH:D009395',\n",
       " '1423339#MESH:D011433+MESH:D000647',\n",
       " '15096016#MESH:D007980+MESH:D004409',\n",
       " '15266215#MESH:D001241+MESH:D013927',\n",
       " '15266362#MESH:D004280+MESH:D004342',\n",
       " '15266362#MESH:D004280+MESH:D004802',\n",
       " '15266362#MESH:D004280+MESH:D009205',\n",
       " '1535072#MESH:D002997+MESH:D020018',\n",
       " '15565293#MESH:D004977+MESH:D009901',\n",
       " '15565293#MESH:D004977+MESH:D014786',\n",
       " '1564236#MESH:D004176+MESH:D006940',\n",
       " '15811908#MESH:C012052+MESH:D006261',\n",
       " '15811908#MESH:C012052+MESH:D006973',\n",
       " '15811908#MESH:C012052+MESH:D014839',\n",
       " '15811908#MESH:D063325+MESH:D006261',\n",
       " '15811908#MESH:D063325+MESH:D006973',\n",
       " '15811908#MESH:D063325+MESH:D014839',\n",
       " '15858223#MESH:C075750+MESH:D056486',\n",
       " '15858223#MESH:D008054+MESH:D056486',\n",
       " '15858223#MESH:D014635+MESH:D005234',\n",
       " '15858223#MESH:D014635+MESH:D009336',\n",
       " '15858223#MESH:D014635+MESH:D056486',\n",
       " '15858223#MESH:D017392+MESH:D056486',\n",
       " '15893386#MESH:D013390+MESH:D014313',\n",
       " '1595783#MESH:D000638+MESH:D004342',\n",
       " '1595783#MESH:D000638+MESH:D011014',\n",
       " '1610717#MESH:D003042+MESH:D012640',\n",
       " '16174948#MESH:D003042+MESH:D013345',\n",
       " '16174948#MESH:D003042+MESH:D017542',\n",
       " '16192988#MESH:D008694+MESH:D001523',\n",
       " '16225977#MESH:C012052+MESH:D013981',\n",
       " '1628552#MESH:D002738+MESH:D001766',\n",
       " '1628552#MESH:D002738+MESH:D002037',\n",
       " '1628552#MESH:D002738+MESH:D004244',\n",
       " '1628552#MESH:D002738+MESH:D004417',\n",
       " '1628552#MESH:D002738+MESH:D005221',\n",
       " '1628552#MESH:D002738+MESH:D006333',\n",
       " '1628552#MESH:D002738+MESH:D012164',\n",
       " '1628552#MESH:D002738+MESH:D013575',\n",
       " '16471092#MESH:C099041+MESH:D014987',\n",
       " '16596970#MESH:D010862+MESH:D001308',\n",
       " '16596970#MESH:D010862+MESH:D013226',\n",
       " '17682013#MESH:C017367+MESH:D056784',\n",
       " '17682013#MESH:C110904+MESH:D056784',\n",
       " '17682013#MESH:D005472+MESH:D056784',\n",
       " '17682013#MESH:D008727+MESH:D056784',\n",
       " '18006530#MESH:D015742+MESH:D010146',\n",
       " '18356633#MESH:D000583+MESH:D007674',\n",
       " '18483878#MESH:D003520+MESH:D003556',\n",
       " '18657397#MESH:D010400+MESH:D004827',\n",
       " '19135948#MESH:C107135+MESH:D006504',\n",
       " '19135948#MESH:C107135+MESH:D014652',\n",
       " '19135948#MESH:C107135+MESH:D058186',\n",
       " '19135948#MESH:D016559+MESH:D006504',\n",
       " '19135948#MESH:D016559+MESH:D014652',\n",
       " '19135948#MESH:D016559+MESH:D058186',\n",
       " '19370593#MESH:D004967+MESH:D003704',\n",
       " '19370593#MESH:D004967+MESH:D005705',\n",
       " '19370593#MESH:D004967+MESH:D020521',\n",
       " '19370593#MESH:D004967+MESH:D054556',\n",
       " '19370593#MESH:D011374+MESH:D003704',\n",
       " '19370593#MESH:D011374+MESH:D054556',\n",
       " '1969772#MESH:D006221+MESH:D007022',\n",
       " '1969772#MESH:D009599+MESH:D007022',\n",
       " '1969772#MESH:D018818+MESH:D007022',\n",
       " '19761039#MESH:D012110+MESH:D004409',\n",
       " '2004015#MESH:D015215+MESH:D000740',\n",
       " '20042557#MESH:D015742+MESH:D003693',\n",
       " '20042557#MESH:D015742+MESH:D011183',\n",
       " '20466178#MESH:C117268+MESH:D003872',\n",
       " '20466178#MESH:C117268+MESH:D003875',\n",
       " '20466178#MESH:C117268+MESH:D013684',\n",
       " '20533999#MESH:D008694+MESH:D020258',\n",
       " '20683499#MESH:D013311+MESH:D000544',\n",
       " '20683499#MESH:D013311+MESH:D003072',\n",
       " '21418164#MESH:D008130+MESH:D000740',\n",
       " '21418164#MESH:D008130+MESH:D005767',\n",
       " '21418164#MESH:D008130+MESH:D007674',\n",
       " '21418164#MESH:D008130+MESH:D009503',\n",
       " '21418164#MESH:D008130+MESH:D013921',\n",
       " '21418164#MESH:D008130+MESH:D014839',\n",
       " '21418164#MESH:D008130+MESH:D017093',\n",
       " '2257294#MESH:D015215+MESH:D000740',\n",
       " '2257294#MESH:D015215+MESH:D001855',\n",
       " '2257294#MESH:D015215+MESH:D007970',\n",
       " '2322844#MESH:D015230+MESH:D006930',\n",
       " '2322844#MESH:D015232+MESH:D006930',\n",
       " '2598570#MESH:D013496+MESH:D021501',\n",
       " '2826064#MESH:D013726+MESH:D007008',\n",
       " '2894433#MESH:D003975+MESH:D001919',\n",
       " '2894433#MESH:D004837+MESH:D001919',\n",
       " '2917114#MESH:D004491+MESH:D001919',\n",
       " '3088349#MESH:D000661+MESH:D009069',\n",
       " '326460#MESH:D001539+MESH:D007008',\n",
       " '3300918#MESH:D004876+MESH:D008881',\n",
       " '3300918#MESH:D008784+MESH:D014652',\n",
       " '3311455#MESH:D016572+MESH:D007674',\n",
       " '33969#MESH:C017610+MESH:D010302',\n",
       " '33969#MESH:D001590+MESH:D001008',\n",
       " '33969#MESH:D001590+MESH:D003866',\n",
       " '33969#MESH:D001590+MESH:D004409',\n",
       " '3703509#MESH:D011241+MESH:D000140',\n",
       " '3703509#MESH:D011241+MESH:D003128',\n",
       " '3703509#MESH:D011241+MESH:D006943',\n",
       " '3703509#MESH:D011241+MESH:D007022',\n",
       " '3703509#MESH:D011241+MESH:D007662',\n",
       " '3708922#MESH:D016572+MESH:D007674',\n",
       " '3969369#MESH:D013739+MESH:D011471',\n",
       " '3969369#MESH:D013739+MESH:D011472',\n",
       " '3973521#MESH:C027278+MESH:D007022',\n",
       " '3973521#MESH:C027278+MESH:D008133',\n",
       " '6111982#MESH:D010042+MESH:D001145',\n",
       " '6118280#MESH:D009118+MESH:D009207',\n",
       " '6150641#MESH:D002927+MESH:D007172',\n",
       " '6454943#MESH:D011692+MESH:D011507',\n",
       " '6496797#MESH:D014196+MESH:D006327',\n",
       " '6892185#MESH:D002217+MESH:D004830',\n",
       " '6892185#MESH:D002217+MESH:D014202',\n",
       " '6892185#MESH:D002217+MESH:D015878',\n",
       " '6892185#MESH:D010830+MESH:D004830',\n",
       " '6892185#MESH:D010830+MESH:D014202',\n",
       " '6892185#MESH:D010830+MESH:D015878',\n",
       " '7437994#MESH:D008094+MESH:D011141',\n",
       " '7542793#MESH:D016559+MESH:D007674',\n",
       " '7542793#MESH:D016572+MESH:D007674',\n",
       " '7650771#MESH:D004456+MESH:D018908',\n",
       " '7651879#MESH:D005442+MESH:D012640',\n",
       " '7710775#MESH:D008315+MESH:D002545',\n",
       " '7803371#MESH:D003915+MESH:D003072',\n",
       " '7880714#MESH:D002045+MESH:D034381',\n",
       " '7880714#MESH:D004837+MESH:D034381',\n",
       " '803783#MESH:D010121+MESH:D014869',\n",
       " '8111719#MESH:D007069+MESH:D006212',\n",
       " '8267029#MESH:D010396+MESH:D005921',\n",
       " '8305357#MESH:D003630+MESH:D009503',\n",
       " '8424298#MESH:D007530+MESH:D007022',\n",
       " '8424298#MESH:D007741+MESH:D007022',\n",
       " '8480959#MESH:D008148+MESH:D009135',\n",
       " '8492347#MESH:D005665+MESH:D012206',\n",
       " '8492347#MESH:D005665+MESH:D013746',\n",
       " '8586822#MESH:D017673+MESH:D006973',\n",
       " '8686832#MESH:D008012+MESH:D001416',\n",
       " '8800187#MESH:D002122+MESH:D001145',\n",
       " '8800187#MESH:D003891+MESH:D001145',\n",
       " '8800187#MESH:D003891+MESH:D001919',\n",
       " '8800187#MESH:D003891+MESH:D007022',\n",
       " '9041081#MESH:D000305+MESH:D009798',\n",
       " '9098464#MESH:D005473+MESH:D006966',\n",
       " '9098464#MESH:D005473+MESH:D062788',\n",
       " '9201797#MESH:D006220+MESH:D002375',\n",
       " '9270571#MESH:D007980+MESH:D004409',\n",
       " '9270571#MESH:D015632+MESH:D020734',\n",
       " '9564988#MESH:D064704+MESH:D003967',\n",
       " '9564988#MESH:D064704+MESH:D005414',\n",
       " '9564988#MESH:D064704+MESH:D009325',\n",
       " '9636837#MESH:D002945+MESH:D010523',\n",
       " '9636837#MESH:D016190+MESH:D010523',\n",
       " '9669632#MESH:D020117+MESH:D015746',\n",
       " '982002#MESH:D012293+MESH:D058186',\n",
       " '9875685#MESH:D014031+MESH:D034381'}"
      ]
     },
     "execution_count": 63,
     "metadata": {},
     "output_type": "execute_result"
    }
   ],
   "source": [
    "gold_relations"
   ]
  },
  {
   "cell_type": "code",
   "execution_count": 64,
   "metadata": {
    "collapsed": true
   },
   "outputs": [],
   "source": [
    "# want to get one big df with all gold relations for use in ROC\n",
    "\n",
    "def roc_dataframe(final_res):\n",
    "    temp = defaultdict(list)\n",
    "    \n",
    "    # split up the crowd results with complexed ids\n",
    "    for idx, row in final_res.iterrows():\n",
    "        pmid = int(row[\"pmid\"])\n",
    "        chem_ids = row[\"chemical_id\"].split(\"|\")\n",
    "        dise_ids = row[\"disease_id\"].split(\"|\")\n",
    "\n",
    "        cols = [\"norm_conf_score\", \"num_votes\", \"pmid\", \"rel_origin\"]\n",
    "\n",
    "        for chem in chem_ids:\n",
    "            for dise in dise_ids:\n",
    "                temp[\"chemical_id\"].append(chem)\n",
    "                temp[\"disease_id\"].append(dise)\n",
    "\n",
    "                for val in cols:\n",
    "                    temp[val].append(row[val])\n",
    "\n",
    "                text = \"{0}#{1}+{2}\".format(pmid, chem, dise)\n",
    "                \n",
    "                temp[\"in_gold\"].append(int(text in gold_relations))\n",
    "                temp[\"text\"].append(text)\n",
    "                \n",
    "    useful = pd.DataFrame(temp)\n",
    "                \n",
    "    # add any missing gold relations\n",
    "    for rel in gold_relations:\n",
    "        q = useful.query(\"text == '{0}'\".format(rel))\n",
    "        if q.empty:\n",
    "            pmid = int(rel.split(\"#\")[0])\n",
    "            chem, dise = rel.split(\"#\")[1].split(\"+\")\n",
    "            \n",
    "            temp[\"pmid\"].append(pmid)\n",
    "            temp[\"chemical_id\"].append(chem)\n",
    "            temp[\"disease_id\"].append(dise)\n",
    "            \n",
    "            temp[\"norm_conf_score\"].append(0)\n",
    "            temp[\"num_votes\"].append(0)\n",
    "            temp[\"rel_origin\"].append(\"gold_std\")\n",
    "            temp[\"in_gold\"].append(1)\n",
    "            temp[\"text\"].append(rel)\n",
    "            \n",
    "\n",
    "    return pd.DataFrame(temp)"
   ]
  },
  {
   "cell_type": "code",
   "execution_count": 65,
   "metadata": {
    "collapsed": false
   },
   "outputs": [],
   "source": [
    "roc_df = roc_dataframe(final_res)"
   ]
  },
  {
   "cell_type": "code",
   "execution_count": 66,
   "metadata": {
    "collapsed": false
   },
   "outputs": [
    {
     "data": {
      "text/html": [
       "<div>\n",
       "<table border=\"1\" class=\"dataframe\">\n",
       "  <thead>\n",
       "    <tr style=\"text-align: right;\">\n",
       "      <th></th>\n",
       "      <th>chemical_id</th>\n",
       "      <th>disease_id</th>\n",
       "      <th>in_gold</th>\n",
       "      <th>norm_conf_score</th>\n",
       "      <th>num_votes</th>\n",
       "      <th>pmid</th>\n",
       "      <th>rel_origin</th>\n",
       "      <th>text</th>\n",
       "    </tr>\n",
       "  </thead>\n",
       "  <tbody>\n",
       "    <tr>\n",
       "      <th>0</th>\n",
       "      <td>MESH:D020117</td>\n",
       "      <td>MESH:D015746</td>\n",
       "      <td>1</td>\n",
       "      <td>0.203278</td>\n",
       "      <td>1</td>\n",
       "      <td>9669632</td>\n",
       "      <td>abstract_task</td>\n",
       "      <td>9669632#MESH:D020117+MESH:D015746</td>\n",
       "    </tr>\n",
       "    <tr>\n",
       "      <th>1</th>\n",
       "      <td>MESH:D020117</td>\n",
       "      <td>MESH:D005767</td>\n",
       "      <td>0</td>\n",
       "      <td>0.423201</td>\n",
       "      <td>2</td>\n",
       "      <td>9669632</td>\n",
       "      <td>abstract_task</td>\n",
       "      <td>9669632#MESH:D020117+MESH:D005767</td>\n",
       "    </tr>\n",
       "    <tr>\n",
       "      <th>2</th>\n",
       "      <td>MESH:D020117</td>\n",
       "      <td>MESH:D003248</td>\n",
       "      <td>0</td>\n",
       "      <td>0.212550</td>\n",
       "      <td>1</td>\n",
       "      <td>9669632</td>\n",
       "      <td>sentence_task</td>\n",
       "      <td>9669632#MESH:D020117+MESH:D003248</td>\n",
       "    </tr>\n",
       "    <tr>\n",
       "      <th>3</th>\n",
       "      <td>MESH:D020117</td>\n",
       "      <td>MESH:D003967</td>\n",
       "      <td>0</td>\n",
       "      <td>0.377915</td>\n",
       "      <td>2</td>\n",
       "      <td>9669632</td>\n",
       "      <td>sentence_task</td>\n",
       "      <td>9669632#MESH:D020117+MESH:D003967</td>\n",
       "    </tr>\n",
       "    <tr>\n",
       "      <th>4</th>\n",
       "      <td>MESH:D020117</td>\n",
       "      <td>MESH:D010146</td>\n",
       "      <td>0</td>\n",
       "      <td>1.000000</td>\n",
       "      <td>5</td>\n",
       "      <td>9669632</td>\n",
       "      <td>sentence_task</td>\n",
       "      <td>9669632#MESH:D020117+MESH:D010146</td>\n",
       "    </tr>\n",
       "  </tbody>\n",
       "</table>\n",
       "</div>"
      ],
      "text/plain": [
       "    chemical_id    disease_id  in_gold  norm_conf_score  num_votes     pmid  \\\n",
       "0  MESH:D020117  MESH:D015746        1         0.203278          1  9669632   \n",
       "1  MESH:D020117  MESH:D005767        0         0.423201          2  9669632   \n",
       "2  MESH:D020117  MESH:D003248        0         0.212550          1  9669632   \n",
       "3  MESH:D020117  MESH:D003967        0         0.377915          2  9669632   \n",
       "4  MESH:D020117  MESH:D010146        0         1.000000          5  9669632   \n",
       "\n",
       "      rel_origin                               text  \n",
       "0  abstract_task  9669632#MESH:D020117+MESH:D015746  \n",
       "1  abstract_task  9669632#MESH:D020117+MESH:D005767  \n",
       "2  sentence_task  9669632#MESH:D020117+MESH:D003248  \n",
       "3  sentence_task  9669632#MESH:D020117+MESH:D003967  \n",
       "4  sentence_task  9669632#MESH:D020117+MESH:D010146  "
      ]
     },
     "execution_count": 66,
     "metadata": {},
     "output_type": "execute_result"
    }
   ],
   "source": [
    "roc_df.head()"
   ]
  },
  {
   "cell_type": "code",
   "execution_count": 67,
   "metadata": {
    "collapsed": false
   },
   "outputs": [
    {
     "data": {
      "text/plain": [
       "207"
      ]
     },
     "execution_count": 67,
     "metadata": {},
     "output_type": "execute_result"
    }
   ],
   "source": [
    "roc_df[\"in_gold\"].sum()"
   ]
  },
  {
   "cell_type": "code",
   "execution_count": 68,
   "metadata": {
    "collapsed": false
   },
   "outputs": [
    {
     "data": {
      "text/plain": [
       "0.7725814963666627"
      ]
     },
     "execution_count": 68,
     "metadata": {},
     "output_type": "execute_result"
    }
   ],
   "source": [
    "fname = \"data/roc/dev_testset_100_abstracts_official_method_total_res_votes.png\"\n",
    "title = \"ROC for 100 abstracts from the development set thresholded by number of votes\"\n",
    "get_AUC_value(roc_df, \"num_votes\", \"in_gold\", fname, title)"
   ]
  },
  {
   "cell_type": "code",
   "execution_count": 69,
   "metadata": {
    "collapsed": false
   },
   "outputs": [
    {
     "data": {
      "image/png": "[encoded data removed]",
      "text/plain": [
       "<IPython.core.display.Image object>"
      ]
     },
     "execution_count": 69,
     "metadata": {},
     "output_type": "execute_result"
    }
   ],
   "source": [
    "Image(fname)"
   ]
  },
  {
   "cell_type": "code",
   "execution_count": 70,
   "metadata": {
    "collapsed": true
   },
   "outputs": [],
   "source": [
    "def formater(s):\n",
    "    if is_MeSH_id(s):\n",
    "        return \"MESH:{0}\".format(s)\n",
    "    \n",
    "    assert s.startswith(\"MESH\"), s\n",
    "    assert is_MeSH_id(s.split(\":\")[1]), s\n",
    "    return s\n",
    "\n",
    "def get_list(s):\n",
    "    return [formater(v) for v in s.split(\"|\")]\n",
    "    \n",
    "def new_F_score(score_column, gold_rel_set, dataframe):\n",
    "    EPSILON = 0.0000001\n",
    "    \n",
    "    res = defaultdict(list)\n",
    "    for threshold in dataframe[score_column].unique():\n",
    "        sub = dataframe.query(\"{0} > {1} or -{2} <= {0} - {1} <= {2}\".format(score_column, threshold, EPSILON))\n",
    "        \n",
    "        # grab the relation ids we guessed\n",
    "        guess_set = set()\n",
    "        for idx, row in sub.iterrows():\n",
    "            chem_id = row[\"chemical_id\"]\n",
    "            dise_id = row[\"disease_id\"]\n",
    "            pmid = row[\"pmid\"]\n",
    "            \n",
    "            chem_id = get_list(chem_id)\n",
    "            dise_id = get_list(dise_id)\n",
    "            \n",
    "            temp = []\n",
    "            for cid in chem_id:\n",
    "                for did in dise_id:\n",
    "                    temp.append(\"{0}#{1}+{2}\".format(int(pmid), cid, did))\n",
    "                    \n",
    "            guess_set |= set(temp)                    \n",
    "                \n",
    "        tp = len(gold_rel_set & guess_set)\n",
    "        fp = len(guess_set - gold_rel_set)\n",
    "        fn = len(gold_rel_set - guess_set)\n",
    "        \n",
    "        precision = tp / (tp + fp)\n",
    "        recall = tp / (tp + fn)\n",
    "        f_score = F_score(precision, recall)\n",
    "        \n",
    "        res[\"recall\"].append(recall)\n",
    "        res[\"precision\"].append(precision)\n",
    "        res[\"threshold\"].append(threshold)\n",
    "        res[\"F_score\"].append(f_score)\n",
    "        \n",
    "    return pd.DataFrame(res)"
   ]
  },
  {
   "cell_type": "code",
   "execution_count": 71,
   "metadata": {
    "collapsed": false
   },
   "outputs": [
    {
     "data": {
      "text/plain": [
       "12    1004\n",
       "25       4\n",
       "dtype: int64"
      ]
     },
     "execution_count": 71,
     "metadata": {},
     "output_type": "execute_result"
    }
   ],
   "source": [
    "final_res[\"chemical_id\"].map(len).value_counts()"
   ]
  },
  {
   "cell_type": "code",
   "execution_count": 72,
   "metadata": {
    "collapsed": true
   },
   "outputs": [],
   "source": [
    "def expand_dataframe(final_res):\n",
    "    temp = defaultdict(list)\n",
    "    \n",
    "    # split up the crowd results with complexed ids\n",
    "    for idx, row in final_res.iterrows():\n",
    "        pmid = int(row[\"pmid\"])\n",
    "        chem_ids = row[\"chemical_id\"].split(\"|\")\n",
    "        dise_ids = row[\"disease_id\"].split(\"|\")\n",
    "\n",
    "        cols = [\"norm_conf_score\", \"num_votes\", \"pmid\", \"rel_origin\"]\n",
    "\n",
    "        for chem in chem_ids:\n",
    "            for dise in dise_ids:\n",
    "                temp[\"chemical_id\"].append(chem)\n",
    "                temp[\"disease_id\"].append(dise)\n",
    "\n",
    "                for val in cols:\n",
    "                    temp[val].append(row[val])\n",
    "\n",
    "                text = \"{0}#{1}+{2}\".format(pmid, chem, dise)\n",
    "                \n",
    "                temp[\"in_gold\"].append(int(text in gold_relations))\n",
    "                temp[\"text\"].append(text)\n",
    "                \n",
    "    return pd.DataFrame(temp)"
   ]
  },
  {
   "cell_type": "code",
   "execution_count": 73,
   "metadata": {
    "collapsed": true
   },
   "outputs": [],
   "source": [
    "expanded_res = expand_dataframe(final_res)"
   ]
  },
  {
   "cell_type": "code",
   "execution_count": 74,
   "metadata": {
    "collapsed": false
   },
   "outputs": [
    {
     "data": {
      "text/plain": [
       "(1012, 8)"
      ]
     },
     "execution_count": 74,
     "metadata": {},
     "output_type": "execute_result"
    }
   ],
   "source": [
    "expanded_res.shape"
   ]
  },
  {
   "cell_type": "markdown",
   "metadata": {},
   "source": [
    "### Performance using official evaluation metric:"
   ]
  },
  {
   "cell_type": "code",
   "execution_count": 75,
   "metadata": {
    "collapsed": false
   },
   "outputs": [],
   "source": [
    "official_res = new_F_score(\"norm_conf_score\", gold_relations, expanded_res)"
   ]
  },
  {
   "cell_type": "code",
   "execution_count": 76,
   "metadata": {
    "collapsed": false
   },
   "outputs": [
    {
     "data": {
      "text/html": [
       "<div>\n",
       "<table border=\"1\" class=\"dataframe\">\n",
       "  <thead>\n",
       "    <tr style=\"text-align: right;\">\n",
       "      <th></th>\n",
       "      <th>F_score</th>\n",
       "      <th>precision</th>\n",
       "      <th>recall</th>\n",
       "      <th>threshold</th>\n",
       "    </tr>\n",
       "  </thead>\n",
       "  <tbody>\n",
       "    <tr>\n",
       "      <th>369</th>\n",
       "      <td>0.598253</td>\n",
       "      <td>0.545817</td>\n",
       "      <td>0.661836</td>\n",
       "      <td>0.789366</td>\n",
       "    </tr>\n",
       "    <tr>\n",
       "      <th>38</th>\n",
       "      <td>0.597194</td>\n",
       "      <td>0.510274</td>\n",
       "      <td>0.719807</td>\n",
       "      <td>0.607823</td>\n",
       "    </tr>\n",
       "    <tr>\n",
       "      <th>166</th>\n",
       "      <td>0.596950</td>\n",
       "      <td>0.543651</td>\n",
       "      <td>0.661836</td>\n",
       "      <td>0.789359</td>\n",
       "    </tr>\n",
       "    <tr>\n",
       "      <th>361</th>\n",
       "      <td>0.596000</td>\n",
       "      <td>0.508532</td>\n",
       "      <td>0.719807</td>\n",
       "      <td>0.607743</td>\n",
       "    </tr>\n",
       "    <tr>\n",
       "      <th>23</th>\n",
       "      <td>0.595652</td>\n",
       "      <td>0.541502</td>\n",
       "      <td>0.661836</td>\n",
       "      <td>0.788715</td>\n",
       "    </tr>\n",
       "  </tbody>\n",
       "</table>\n",
       "</div>"
      ],
      "text/plain": [
       "      F_score  precision    recall  threshold\n",
       "369  0.598253   0.545817  0.661836   0.789366\n",
       "38   0.597194   0.510274  0.719807   0.607823\n",
       "166  0.596950   0.543651  0.661836   0.789359\n",
       "361  0.596000   0.508532  0.719807   0.607743\n",
       "23   0.595652   0.541502  0.661836   0.788715"
      ]
     },
     "execution_count": 76,
     "metadata": {},
     "output_type": "execute_result"
    }
   ],
   "source": [
    "official_res.sort(\"F_score\", ascending = False).head()"
   ]
  },
  {
   "cell_type": "code",
   "execution_count": 77,
   "metadata": {
    "collapsed": false
   },
   "outputs": [],
   "source": [
    "official_res_vote = new_F_score(\"num_votes\", gold_relations, expanded_res)"
   ]
  },
  {
   "cell_type": "code",
   "execution_count": 78,
   "metadata": {
    "collapsed": false
   },
   "outputs": [
    {
     "data": {
      "text/html": [
       "<div>\n",
       "<table border=\"1\" class=\"dataframe\">\n",
       "  <thead>\n",
       "    <tr style=\"text-align: right;\">\n",
       "      <th></th>\n",
       "      <th>F_score</th>\n",
       "      <th>precision</th>\n",
       "      <th>recall</th>\n",
       "      <th>threshold</th>\n",
       "    </tr>\n",
       "  </thead>\n",
       "  <tbody>\n",
       "    <tr>\n",
       "      <th>4</th>\n",
       "      <td>0.587983</td>\n",
       "      <td>0.528958</td>\n",
       "      <td>0.661836</td>\n",
       "      <td>4</td>\n",
       "    </tr>\n",
       "    <tr>\n",
       "      <th>3</th>\n",
       "      <td>0.554174</td>\n",
       "      <td>0.438202</td>\n",
       "      <td>0.753623</td>\n",
       "      <td>3</td>\n",
       "    </tr>\n",
       "    <tr>\n",
       "      <th>2</th>\n",
       "      <td>0.533333</td>\n",
       "      <td>0.568306</td>\n",
       "      <td>0.502415</td>\n",
       "      <td>5</td>\n",
       "    </tr>\n",
       "    <tr>\n",
       "      <th>1</th>\n",
       "      <td>0.483871</td>\n",
       "      <td>0.347368</td>\n",
       "      <td>0.797101</td>\n",
       "      <td>2</td>\n",
       "    </tr>\n",
       "    <tr>\n",
       "      <th>0</th>\n",
       "      <td>0.385650</td>\n",
       "      <td>0.251095</td>\n",
       "      <td>0.830918</td>\n",
       "      <td>1</td>\n",
       "    </tr>\n",
       "    <tr>\n",
       "      <th>5</th>\n",
       "      <td>0.293683</td>\n",
       "      <td>0.176877</td>\n",
       "      <td>0.864734</td>\n",
       "      <td>0</td>\n",
       "    </tr>\n",
       "  </tbody>\n",
       "</table>\n",
       "</div>"
      ],
      "text/plain": [
       "    F_score  precision    recall  threshold\n",
       "4  0.587983   0.528958  0.661836          4\n",
       "3  0.554174   0.438202  0.753623          3\n",
       "2  0.533333   0.568306  0.502415          5\n",
       "1  0.483871   0.347368  0.797101          2\n",
       "0  0.385650   0.251095  0.830918          1\n",
       "5  0.293683   0.176877  0.864734          0"
      ]
     },
     "execution_count": 78,
     "metadata": {},
     "output_type": "execute_result"
    }
   ],
   "source": [
    "official_res_vote.sort(\"F_score\", ascending = False)"
   ]
  },
  {
   "cell_type": "code",
   "execution_count": 79,
   "metadata": {
    "collapsed": false
   },
   "outputs": [
    {
     "data": {
      "text/html": [
       "<div>\n",
       "<table border=\"1\" class=\"dataframe\">\n",
       "  <thead>\n",
       "    <tr style=\"text-align: right;\">\n",
       "      <th></th>\n",
       "      <th>F_score</th>\n",
       "      <th>precision</th>\n",
       "      <th>recall</th>\n",
       "      <th>threshold</th>\n",
       "    </tr>\n",
       "  </thead>\n",
       "  <tbody>\n",
       "    <tr>\n",
       "      <th>2</th>\n",
       "      <td>0.533333</td>\n",
       "      <td>0.568306</td>\n",
       "      <td>0.502415</td>\n",
       "      <td>5</td>\n",
       "    </tr>\n",
       "    <tr>\n",
       "      <th>4</th>\n",
       "      <td>0.587983</td>\n",
       "      <td>0.528958</td>\n",
       "      <td>0.661836</td>\n",
       "      <td>4</td>\n",
       "    </tr>\n",
       "    <tr>\n",
       "      <th>3</th>\n",
       "      <td>0.554174</td>\n",
       "      <td>0.438202</td>\n",
       "      <td>0.753623</td>\n",
       "      <td>3</td>\n",
       "    </tr>\n",
       "    <tr>\n",
       "      <th>1</th>\n",
       "      <td>0.483871</td>\n",
       "      <td>0.347368</td>\n",
       "      <td>0.797101</td>\n",
       "      <td>2</td>\n",
       "    </tr>\n",
       "    <tr>\n",
       "      <th>0</th>\n",
       "      <td>0.385650</td>\n",
       "      <td>0.251095</td>\n",
       "      <td>0.830918</td>\n",
       "      <td>1</td>\n",
       "    </tr>\n",
       "    <tr>\n",
       "      <th>5</th>\n",
       "      <td>0.293683</td>\n",
       "      <td>0.176877</td>\n",
       "      <td>0.864734</td>\n",
       "      <td>0</td>\n",
       "    </tr>\n",
       "  </tbody>\n",
       "</table>\n",
       "</div>"
      ],
      "text/plain": [
       "    F_score  precision    recall  threshold\n",
       "2  0.533333   0.568306  0.502415          5\n",
       "4  0.587983   0.528958  0.661836          4\n",
       "3  0.554174   0.438202  0.753623          3\n",
       "1  0.483871   0.347368  0.797101          2\n",
       "0  0.385650   0.251095  0.830918          1\n",
       "5  0.293683   0.176877  0.864734          0"
      ]
     },
     "execution_count": 79,
     "metadata": {},
     "output_type": "execute_result"
    }
   ],
   "source": [
    "official_res_vote.sort(\"threshold\", ascending = False)"
   ]
  },
  {
   "cell_type": "code",
   "execution_count": 80,
   "metadata": {
    "collapsed": true
   },
   "outputs": [],
   "source": [
    "def plot_it(res, title, xlabel):\n",
    "    res = res.sort(\"threshold\")\n",
    "\n",
    "    graph = res.plot(x = \"threshold\", figsize = (7, 7),\n",
    "                    title = title)\n",
    "    graph.set_ylim((0, 1.1))\n",
    "    graph.set_xlabel(xlabel)"
   ]
  },
  {
   "cell_type": "code",
   "execution_count": 81,
   "metadata": {
    "collapsed": false
   },
   "outputs": [
    {
     "data": {
      "image/png": "[encoded data removed]",
      "text/plain": [
       "<matplotlib.figure.Figure at 0x7efc58c4f128>"
      ]
     },
     "metadata": {},
     "output_type": "display_data"
    }
   ],
   "source": [
    "plot_it(official_res, \"Official crowd performance against gold standard\", \"Trust weighted confidence score\")"
   ]
  },
  {
   "cell_type": "code",
   "execution_count": 82,
   "metadata": {
    "collapsed": true
   },
   "outputs": [],
   "source": [
    "import matplotlib"
   ]
  },
  {
   "cell_type": "code",
   "execution_count": 83,
   "metadata": {
    "collapsed": false
   },
   "outputs": [],
   "source": [
    "matplotlib.rcParams.update({'font.size': 12})"
   ]
  },
  {
   "cell_type": "code",
   "execution_count": 84,
   "metadata": {
    "collapsed": false
   },
   "outputs": [
    {
     "data": {
      "image/png": "[encoded data removed]",
      "text/plain": [
       "<matplotlib.figure.Figure at 0x7efc58cb1278>"
      ]
     },
     "metadata": {},
     "output_type": "display_data"
    }
   ],
   "source": [
    "plot_it(official_res_vote, \"Crowd Performance Against Gold Standard\", \"Number of positive votes\")"
   ]
  },
  {
   "cell_type": "code",
   "execution_count": 118,
   "metadata": {
    "collapsed": true
   },
   "outputs": [],
   "source": [
    "def bar_plot(res, title, xlabel):\n",
    "    res = res.sort(\"threshold\")\n",
    "    matplotlib.rcParams.update({'font.size': 12})\n",
    "    graph = res.plot(kind = \"bar\", x = \"threshold\", figsize = (7, 7),\n",
    "                    title = title)\n",
    "    graph.set_ylim((0, 1.1))\n",
    "    graph.set_xlabel(xlabel)"
   ]
  },
  {
   "cell_type": "code",
   "execution_count": 142,
   "metadata": {
    "collapsed": true
   },
   "outputs": [],
   "source": [
    "def bigger_plot(res, title, xlabel, fontsize, figsize, fname):\n",
    "    res = res.sort(\"threshold\")\n",
    "    matplotlib.rcParams.update({'font.size': fontsize})\n",
    "\n",
    "    graph = res.plot(x = \"threshold\", figsize = figsize,\n",
    "                     linewidth = 5,\n",
    "                    title = title)\n",
    "    graph.set_ylim((0, 1.1))\n",
    "    graph.set_xlabel(xlabel)\n",
    "    \n",
    "    plt.savefig(fname, bbox_inches = \"tight\")"
   ]
  },
  {
   "cell_type": "code",
   "execution_count": 158,
   "metadata": {
    "collapsed": false
   },
   "outputs": [
    {
     "data": {
      "image/png": "[encoded data removed]",
      "text/plain": [
       "<matplotlib.figure.Figure at 0x7efc5907f1d0>"
      ]
     },
     "metadata": {},
     "output_type": "display_data"
    }
   ],
   "source": [
    "bigger_plot(official_res_vote, \"Performance against gold standard for 100 abstracts\", \"Number of positive votes\",\n",
    "        19, (10, 10), \"data/perf_full_presentation.png\")"
   ]
  },
  {
   "cell_type": "code",
   "execution_count": 159,
   "metadata": {
    "collapsed": false
   },
   "outputs": [
    {
     "data": {
      "text/html": [
       "<div>\n",
       "<table border=\"1\" class=\"dataframe\">\n",
       "  <thead>\n",
       "    <tr style=\"text-align: right;\">\n",
       "      <th></th>\n",
       "      <th>F_score</th>\n",
       "      <th>precision</th>\n",
       "      <th>recall</th>\n",
       "      <th>threshold</th>\n",
       "    </tr>\n",
       "  </thead>\n",
       "  <tbody>\n",
       "    <tr>\n",
       "      <th>0</th>\n",
       "      <td>0.385650</td>\n",
       "      <td>0.251095</td>\n",
       "      <td>0.830918</td>\n",
       "      <td>1</td>\n",
       "    </tr>\n",
       "    <tr>\n",
       "      <th>1</th>\n",
       "      <td>0.483871</td>\n",
       "      <td>0.347368</td>\n",
       "      <td>0.797101</td>\n",
       "      <td>2</td>\n",
       "    </tr>\n",
       "    <tr>\n",
       "      <th>2</th>\n",
       "      <td>0.533333</td>\n",
       "      <td>0.568306</td>\n",
       "      <td>0.502415</td>\n",
       "      <td>5</td>\n",
       "    </tr>\n",
       "    <tr>\n",
       "      <th>3</th>\n",
       "      <td>0.554174</td>\n",
       "      <td>0.438202</td>\n",
       "      <td>0.753623</td>\n",
       "      <td>3</td>\n",
       "    </tr>\n",
       "    <tr>\n",
       "      <th>4</th>\n",
       "      <td>0.587983</td>\n",
       "      <td>0.528958</td>\n",
       "      <td>0.661836</td>\n",
       "      <td>4</td>\n",
       "    </tr>\n",
       "    <tr>\n",
       "      <th>5</th>\n",
       "      <td>0.293683</td>\n",
       "      <td>0.176877</td>\n",
       "      <td>0.864734</td>\n",
       "      <td>0</td>\n",
       "    </tr>\n",
       "  </tbody>\n",
       "</table>\n",
       "</div>"
      ],
      "text/plain": [
       "    F_score  precision    recall  threshold\n",
       "0  0.385650   0.251095  0.830918          1\n",
       "1  0.483871   0.347368  0.797101          2\n",
       "2  0.533333   0.568306  0.502415          5\n",
       "3  0.554174   0.438202  0.753623          3\n",
       "4  0.587983   0.528958  0.661836          4\n",
       "5  0.293683   0.176877  0.864734          0"
      ]
     },
     "execution_count": 159,
     "metadata": {},
     "output_type": "execute_result"
    }
   ],
   "source": [
    "official_res_vote"
   ]
  },
  {
   "cell_type": "code",
   "execution_count": 119,
   "metadata": {
    "collapsed": false
   },
   "outputs": [
    {
     "data": {
      "image/png": "[encoded data removed]",
      "text/plain": [
       "<matplotlib.figure.Figure at 0x7efc58885e48>"
      ]
     },
     "metadata": {},
     "output_type": "display_data"
    }
   ],
   "source": [
    "bar_plot(official_res_vote, \"saf\", \"asdf\")"
   ]
  },
  {
   "cell_type": "code",
   "execution_count": 85,
   "metadata": {
    "collapsed": true
   },
   "outputs": [],
   "source": [
    "def big_plot(res, title, xlabel, fontsize, figsize, fname):\n",
    "    res = res.sort(\"threshold\")\n",
    "    matplotlib.rcParams.update({'font.size': fontsize})\n",
    "\n",
    "    graph = res.plot(x = \"threshold\", figsize = figsize,\n",
    "                     linewidth = 10,\n",
    "                    title = title)\n",
    "    graph.set_ylim((0, 1.1))\n",
    "    graph.set_xlabel(xlabel)\n",
    "    \n",
    "    plt.savefig(fname, bbox_inches = \"tight\")"
   ]
  },
  {
   "cell_type": "code",
   "execution_count": 86,
   "metadata": {
    "collapsed": false
   },
   "outputs": [
    {
     "data": {
      "image/png": "[encoded data removed]",
      "text/plain": [
       "<matplotlib.figure.Figure at 0x7efc583d6d30>"
      ]
     },
     "metadata": {},
     "output_type": "display_data"
    }
   ],
   "source": [
    "big_plot(official_res_vote, \"\", \"Number of positive votes\",\n",
    "        22, (10, 10), \"data/perf_full.eps\")"
   ]
  },
  {
   "cell_type": "markdown",
   "metadata": {
    "collapsed": true
   },
   "source": [
    "---"
   ]
  },
  {
   "cell_type": "markdown",
   "metadata": {},
   "source": [
    "## Analysis of performance with NER step excluded (impossible relations removed)\n",
    "\n",
    "Due to the NER step, some concept annotations will be missed or mismapped. When this happens, any relation which uses these concepts will automatically be counted as false positives or false negatives. To look at crowd performance on the relation extraction task only, we need to remove these relations.\n",
    "\n",
    "However this seems like a more convoluted way of measuring performance instead of running the job over again, but using the gold standard annotations (which we were doing anyways). Hope the reviewers don't catch this.."
   ]
  },
  {
   "cell_type": "markdown",
   "metadata": {},
   "source": [
    "### We need to split the ids for the output"
   ]
  },
  {
   "cell_type": "code",
   "execution_count": 87,
   "metadata": {
    "collapsed": true
   },
   "outputs": [],
   "source": [
    "def has_concept(paper, concept_id):\n",
    "    \"\"\"Does this paper have this concept id?\"\"\"\n",
    "    concepts = set()\n",
    "    for annot in paper.annotations:\n",
    "        concepts |= annot.uid\n",
    "        \n",
    "    concept = Ontology_ID(concept_id)\n",
    "#     print(concepts)\n",
    "    return concept in concepts"
   ]
  },
  {
   "cell_type": "code",
   "execution_count": 88,
   "metadata": {
    "collapsed": false,
    "scrolled": true
   },
   "outputs": [
    {
     "data": {
      "text/plain": [
       "(1012, 8)"
      ]
     },
     "execution_count": 88,
     "metadata": {},
     "output_type": "execute_result"
    }
   ],
   "source": [
    "expanded_res.shape"
   ]
  },
  {
   "cell_type": "code",
   "execution_count": 89,
   "metadata": {
    "collapsed": false
   },
   "outputs": [
    {
     "data": {
      "text/plain": [
       "abstract_task    0.535573\n",
       "sentence_task    0.422925\n",
       "cid_relation     0.041502\n",
       "dtype: float64"
      ]
     },
     "execution_count": 89,
     "metadata": {},
     "output_type": "execute_result"
    }
   ],
   "source": [
    "expanded_res[\"rel_origin\"].value_counts(normalize = True)"
   ]
  },
  {
   "cell_type": "code",
   "execution_count": 90,
   "metadata": {
    "collapsed": false
   },
   "outputs": [
    {
     "data": {
      "text/plain": [
       "abstract_task    542\n",
       "sentence_task    428\n",
       "cid_relation      42\n",
       "dtype: int64"
      ]
     },
     "execution_count": 90,
     "metadata": {},
     "output_type": "execute_result"
    }
   ],
   "source": [
    "expanded_res[\"rel_origin\"].value_counts()"
   ]
  },
  {
   "cell_type": "code",
   "execution_count": 91,
   "metadata": {
    "collapsed": false
   },
   "outputs": [
    {
     "data": {
      "text/plain": [
       "207"
      ]
     },
     "execution_count": 91,
     "metadata": {},
     "output_type": "execute_result"
    }
   ],
   "source": [
    "len(gold_relations)"
   ]
  },
  {
   "cell_type": "markdown",
   "metadata": {},
   "source": [
    "### Performance for each track"
   ]
  },
  {
   "cell_type": "code",
   "execution_count": 92,
   "metadata": {
    "collapsed": false
   },
   "outputs": [
    {
     "data": {
      "text/html": [
       "<div>\n",
       "<table border=\"1\" class=\"dataframe\">\n",
       "  <thead>\n",
       "    <tr style=\"text-align: right;\">\n",
       "      <th></th>\n",
       "      <th>F_score</th>\n",
       "      <th>precision</th>\n",
       "      <th>recall</th>\n",
       "      <th>threshold</th>\n",
       "    </tr>\n",
       "  </thead>\n",
       "  <tbody>\n",
       "    <tr>\n",
       "      <th>0</th>\n",
       "      <td>0.232932</td>\n",
       "      <td>0.690476</td>\n",
       "      <td>0.140097</td>\n",
       "      <td>5</td>\n",
       "    </tr>\n",
       "  </tbody>\n",
       "</table>\n",
       "</div>"
      ],
      "text/plain": [
       "    F_score  precision    recall  threshold\n",
       "0  0.232932   0.690476  0.140097          5"
      ]
     },
     "execution_count": 92,
     "metadata": {},
     "output_type": "execute_result"
    }
   ],
   "source": [
    "temp = expanded_res.query(\"rel_origin == 'cid_relation'\")\n",
    "new_F_score(\"num_votes\", gold_relations, temp)"
   ]
  },
  {
   "cell_type": "code",
   "execution_count": 93,
   "metadata": {
    "collapsed": false
   },
   "outputs": [],
   "source": [
    "temp = expanded_res.query(\"rel_origin == 'sentence_task'\")\n",
    "sent_perf = new_F_score(\"num_votes\", gold_relations, temp).sort(\"threshold\")"
   ]
  },
  {
   "cell_type": "code",
   "execution_count": 94,
   "metadata": {
    "collapsed": false
   },
   "outputs": [
    {
     "data": {
      "text/html": [
       "<div>\n",
       "<table border=\"1\" class=\"dataframe\">\n",
       "  <thead>\n",
       "    <tr style=\"text-align: right;\">\n",
       "      <th></th>\n",
       "      <th>F_score</th>\n",
       "      <th>precision</th>\n",
       "      <th>recall</th>\n",
       "      <th>threshold</th>\n",
       "    </tr>\n",
       "  </thead>\n",
       "  <tbody>\n",
       "    <tr>\n",
       "      <th>5</th>\n",
       "      <td>0.314961</td>\n",
       "      <td>0.233645</td>\n",
       "      <td>0.483092</td>\n",
       "      <td>0</td>\n",
       "    </tr>\n",
       "    <tr>\n",
       "      <th>0</th>\n",
       "      <td>0.373541</td>\n",
       "      <td>0.312704</td>\n",
       "      <td>0.463768</td>\n",
       "      <td>1</td>\n",
       "    </tr>\n",
       "    <tr>\n",
       "      <th>1</th>\n",
       "      <td>0.435374</td>\n",
       "      <td>0.410256</td>\n",
       "      <td>0.463768</td>\n",
       "      <td>2</td>\n",
       "    </tr>\n",
       "    <tr>\n",
       "      <th>3</th>\n",
       "      <td>0.457584</td>\n",
       "      <td>0.489011</td>\n",
       "      <td>0.429952</td>\n",
       "      <td>3</td>\n",
       "    </tr>\n",
       "    <tr>\n",
       "      <th>4</th>\n",
       "      <td>0.442577</td>\n",
       "      <td>0.526667</td>\n",
       "      <td>0.381643</td>\n",
       "      <td>4</td>\n",
       "    </tr>\n",
       "    <tr>\n",
       "      <th>2</th>\n",
       "      <td>0.394904</td>\n",
       "      <td>0.579439</td>\n",
       "      <td>0.299517</td>\n",
       "      <td>5</td>\n",
       "    </tr>\n",
       "  </tbody>\n",
       "</table>\n",
       "</div>"
      ],
      "text/plain": [
       "    F_score  precision    recall  threshold\n",
       "5  0.314961   0.233645  0.483092          0\n",
       "0  0.373541   0.312704  0.463768          1\n",
       "1  0.435374   0.410256  0.463768          2\n",
       "3  0.457584   0.489011  0.429952          3\n",
       "4  0.442577   0.526667  0.381643          4\n",
       "2  0.394904   0.579439  0.299517          5"
      ]
     },
     "execution_count": 94,
     "metadata": {},
     "output_type": "execute_result"
    }
   ],
   "source": [
    "sent_perf"
   ]
  },
  {
   "cell_type": "code",
   "execution_count": 95,
   "metadata": {
    "collapsed": false
   },
   "outputs": [],
   "source": [
    "temp = expanded_res.query(\"rel_origin == 'abstract_task'\")\n",
    "abs_perf = new_F_score(\"num_votes\", gold_relations, temp).sort(\"threshold\")"
   ]
  },
  {
   "cell_type": "code",
   "execution_count": 96,
   "metadata": {
    "collapsed": false
   },
   "outputs": [
    {
     "data": {
      "text/html": [
       "<div>\n",
       "<table border=\"1\" class=\"dataframe\">\n",
       "  <thead>\n",
       "    <tr style=\"text-align: right;\">\n",
       "      <th></th>\n",
       "      <th>F_score</th>\n",
       "      <th>precision</th>\n",
       "      <th>recall</th>\n",
       "      <th>threshold</th>\n",
       "    </tr>\n",
       "  </thead>\n",
       "  <tbody>\n",
       "    <tr>\n",
       "      <th>5</th>\n",
       "      <td>0.133511</td>\n",
       "      <td>0.092251</td>\n",
       "      <td>0.241546</td>\n",
       "      <td>0</td>\n",
       "    </tr>\n",
       "    <tr>\n",
       "      <th>0</th>\n",
       "      <td>0.173112</td>\n",
       "      <td>0.139881</td>\n",
       "      <td>0.227053</td>\n",
       "      <td>1</td>\n",
       "    </tr>\n",
       "    <tr>\n",
       "      <th>1</th>\n",
       "      <td>0.197044</td>\n",
       "      <td>0.201005</td>\n",
       "      <td>0.193237</td>\n",
       "      <td>2</td>\n",
       "    </tr>\n",
       "    <tr>\n",
       "      <th>2</th>\n",
       "      <td>0.224189</td>\n",
       "      <td>0.287879</td>\n",
       "      <td>0.183575</td>\n",
       "      <td>3</td>\n",
       "    </tr>\n",
       "    <tr>\n",
       "      <th>3</th>\n",
       "      <td>0.211679</td>\n",
       "      <td>0.432836</td>\n",
       "      <td>0.140097</td>\n",
       "      <td>4</td>\n",
       "    </tr>\n",
       "    <tr>\n",
       "      <th>4</th>\n",
       "      <td>0.107884</td>\n",
       "      <td>0.382353</td>\n",
       "      <td>0.062802</td>\n",
       "      <td>5</td>\n",
       "    </tr>\n",
       "  </tbody>\n",
       "</table>\n",
       "</div>"
      ],
      "text/plain": [
       "    F_score  precision    recall  threshold\n",
       "5  0.133511   0.092251  0.241546          0\n",
       "0  0.173112   0.139881  0.227053          1\n",
       "1  0.197044   0.201005  0.193237          2\n",
       "2  0.224189   0.287879  0.183575          3\n",
       "3  0.211679   0.432836  0.140097          4\n",
       "4  0.107884   0.382353  0.062802          5"
      ]
     },
     "execution_count": 96,
     "metadata": {},
     "output_type": "execute_result"
    }
   ],
   "source": [
    "abs_perf"
   ]
  },
  {
   "cell_type": "code",
   "execution_count": 97,
   "metadata": {
    "collapsed": false
   },
   "outputs": [
    {
     "data": {
      "image/png": "[encoded data removed]",
      "text/plain": [
       "<matplotlib.figure.Figure at 0x7efc583ec390>"
      ]
     },
     "metadata": {},
     "output_type": "display_data"
    }
   ],
   "source": [
    "big_plot(abs_perf, \"\", \"Number of positive votes\",\n",
    "        22, (10, 10), \"data/abs_perf_only.eps\")"
   ]
  },
  {
   "cell_type": "code",
   "execution_count": 98,
   "metadata": {
    "collapsed": false
   },
   "outputs": [
    {
     "data": {
      "image/png": "[encoded data removed]",
      "text/plain": [
       "<matplotlib.figure.Figure at 0x7efc5877bcc0>"
      ]
     },
     "metadata": {},
     "output_type": "display_data"
    }
   ],
   "source": [
    "big_plot(sent_perf, \"\", \"Number of positive votes\",\n",
    "        22, (10, 10), \"data/sent_perf_only.eps\")"
   ]
  },
  {
   "cell_type": "code",
   "execution_count": 99,
   "metadata": {
    "collapsed": false
   },
   "outputs": [
    {
     "data": {
      "image/png": "[encoded data removed]",
      "text/plain": [
       "<matplotlib.figure.Figure at 0x7efc586406a0>"
      ]
     },
     "metadata": {},
     "output_type": "display_data"
    }
   ],
   "source": [
    "matplotlib.rcParams.update({'font.size': 12})\n",
    "title = \"Crowd Performance Against g NER errors removed\"\n",
    "\n",
    "plot_it(sent_perf, title, \"Number of positive votes\")"
   ]
  },
  {
   "cell_type": "code",
   "execution_count": 100,
   "metadata": {
    "collapsed": false
   },
   "outputs": [
    {
     "data": {
      "image/png": "[encoded data removed]",
      "text/plain": [
       "<matplotlib.figure.Figure at 0x7efc584b4828>"
      ]
     },
     "metadata": {},
     "output_type": "display_data"
    }
   ],
   "source": [
    "matplotlib.rcParams.update({'font.size': 12})\n",
    "title = \"Crowd Performance Against g NER errors removed\"\n",
    "\n",
    "plot_it(abs_perf, title, \"Number of positive votes\")"
   ]
  },
  {
   "cell_type": "markdown",
   "metadata": {},
   "source": [
    "Error analysis\n",
    "\n",
    "PMID | Chemical | disease | Origin | Discussion\n",
    "--- | ---\n",
    "3088349 | D016627 | D001927 | CID | Id mismatch. Gold has no id for \"substantia nigra lesion\", whereas we mapped it to \"D001927\", \"brain diseases\". Not a mistake in the regex. Missing id in gold.\n",
    "9270571 | D015632 | D010302 | CID | For \"MPTP-induced parkinsonism\", gold mapped \"parkinsonism\" to D020734 but we mapped it to D010300. Not a regex mistake. ID mismatch.\n",
    "8267029 | D010396 | C538458 | CID | Gold used \"glomerulonephritis\" instead of \"rapidly progressive glomerulonephritis\" with \"penicillamine\". Term was not a disease according to the gold. ID mismatch.\n",
    "10910842 | D011239 | D009135 | CID | Mismatch in IDs for \"muscle dysfunction\". We used \"D009135\" instead of D018908. ID mismatch.\n",
    "8111719 | D007096 | D020258 | CID | \"ifosfamide-induced neurotoxicity\". Gold used hallucination instead of the more general neurotoxicity. Not a regex error. Hierarchy error.\n",
    "18657397 | D010406 | D004827 | CID | \"penicillin induced epileptiform activity\". Gold used \"penicillin G potassium\" instead of \"penicillin\". ID mismatch\n",
    "9041081 | D013256 | D009798 | CID | \"steroid induced elevated intraocular pressure\". Gold used \"corticosteriod\" instead of \"steroid\". Hierarchy mismatch.\n",
    "20533999 | D008694 | D064420, D009461 | CID | \"methamphetamine induced (toxicity and dopaminergic deficits)\". Gold only used neurotoxicity, which is a more specific form of toxicity. Hierarchy mismatch\n",
    "1595783 | D000638 | D008171 | CID | \"amiodarone-induced pulmonary toxicity\" Gold does not include this relation, preferring hypersensitivity pneumonitis instead.\n",
    "12452237 | D013390 | D063806 | CID | \"succinylcholine induced myalgia\". Gold contains \"succinylcholine induced postoperative myalgia\", but not regular \"myalgia\" (different identifiers).\n",
    "16192988 | D008694 | D006948 | CID | \"meth-induced hyperactivity\". This relation was never included in the gold, but the pattern was found correctly.\n",
    "3708922 | D016572 | D064420 | CID | \"CSA induced toxicity\". Gold only contains \"CSA induced nephrotoxicity\". However, it seems like Gentamicin should also be related to nephrotoxicity since \"Gentamicin increased CSA nephrotoxicity\". NER never found \"nephrotoxicity\" in the same sentence as gentamicin (but annotated renal toxicity with the same ID), and therefore we missed this relation.\n",
    "\n",
    "\n",
    "\n",
    "\n"
   ]
  },
  {
   "cell_type": "markdown",
   "metadata": {},
   "source": [
    "Error analysis: sentences in gold but crowd said no (<= 1 positive vote)\n",
    "\n",
    "PMID | Chemical | Disease | Origin | Discussion\n",
    "--- | ---\n",
    "7710775 | D008315 | D002545 | sentence | \"malondialdehyde and cerebral ischemia\". IDs were successfully mapped. The text states that cerebral ischemia in a rat model was caused by clamping the carotid artery. They then sampled the blood for malondialdehyde and found that it increased in concentration starting 5 min after ischemia. The gold standard lists malondialdehyde as causing ischemia, whereas the abstract suggests that the relation is more of a correlation. Seems like gold is wrong here.. Crowd said 0/5 true, only saw the title.\n",
    "20042557 | D015742 | D003693, D011183 | sentence | \"propofol and delirium, postoperative delirium\". We missed 2 gold relations. The gold is correct in stating that propofol leads to postoperative delirium when used in high concentrations. In the last sentence, where propofol and postoperative delirium is mentioned together, the sentence says using \"light propofol sedation\" decreases the prevalance of \"postoperative delirium\" compared with deep sedation (high propofol concentration). The crowd is not wrong here in saying that the sentence doesn't support a CID relation. The task formulation removed the larger context. Gold is right.\n",
    "10840460 | D003520 | D010146 | sentence | \"cyclophosphamide and painful syndromes\". Crowd only saw the concluding sentence, and therefore had no information about what the \"painful syndromes\" referred to. If anything this is bad form on the gold's part, because the individual syndromes should have been annotated, and not \"painful syndromes\" in general.\n",
    "\n",
    "\n"
   ]
  },
  {
   "cell_type": "markdown",
   "metadata": {},
   "source": [
    "Error analysis: sentences not in gold but crowd said yes (5/5 positive votes)\n",
    "\n",
    "PMID | Chemical | Disease | Origin | conclusion | Discussion\n",
    "--- | ---\n",
    "982002 | D012293 | D051437 | sentence | hierarchy error | \"rifampicin and renal failure\". Gold only contained \"acute renal failure\". Hierarchy problem. Can be fixed using MeSH (high overlap)\n",
    "1423339 | D011433 | D000544, D064420 | sentence | ner error | propranolol and Alzheimer, toxicity. Gold only contained \"amnestic syndrome\". Alzheimer is a NER error, since it should be \"Alzheimer-like subacute dementia\". The toxicity one is more vague, since the text says \"propranolol toxicity\".\n",
    "1535072 | D012701 | D020018 | sentence | ner error | \"serotonin and sexual side effects\". This is a result of poor NER highlighting. Serotonin is a chemical, but it was always used as \"serotonin reuptake blockers\", which is a completely different class of drug. The gold suffered from this too, since it annotated \"serotonin\" as a chemical many times instead of \"serotonin reuptake blockers\". We have previously seen that crowd performs very poorly at distinguishing NER errors when they are told the highlighted concept is a chemical/disease. Not much we could have done here without doing extraction de novo.\n",
    "1535072 | D015016 | D001008 | sentence | gold missing relation | \"yohimbine and anxiety\". Abstract says \"Side effects of yohimbine included excessive sweating, increased anxiety, and a wound-up feeling in some patients.\" Seems like gold is missing some relations? NER also never picked up \"excessive sweating\" or \"wound-up feeling\".\n",
    "1628552 | D002738 | D014786 | sentence | ner error | \"chloroquine and deterioration of vision\". NER error. Gold annotated deterioration of vision as D015354, and has the relation.\n",
    "1628552 | D002738 | D006327 | sentence | gold missing relation? | \"chloroquine and heart block\". Correct ids, but relation missing from gold. Title says \"Chloroquine related complete heart block with blindness: case report\". Gold error?\n",
    "2257294 | D014529 | D064420 | sentence | gold missing relation | \"uridine and toxicity\". Text says \"Because of the clinical toxicities associated with chronic Urd administration\". Seems like gold is wrong?\n",
    "3088349 | D016627 | D009069 | sentence | crowd likely wrong | \"6-OHDA and contralateral rotation\". Ids match but gold is missing relation. Seems like this should have been yes_indirect instead of yes_direct.\n",
    "\n"
   ]
  },
  {
   "cell_type": "code",
   "execution_count": null,
   "metadata": {
    "collapsed": true
   },
   "outputs": [],
   "source": [
    "expanded_res.query"
   ]
  },
  {
   "cell_type": "code",
   "execution_count": 101,
   "metadata": {
    "collapsed": false
   },
   "outputs": [
    {
     "data": {
      "text/html": [
       "<div>\n",
       "<table border=\"1\" class=\"dataframe\">\n",
       "  <thead>\n",
       "    <tr style=\"text-align: right;\">\n",
       "      <th></th>\n",
       "      <th>chemical_id</th>\n",
       "      <th>disease_id</th>\n",
       "      <th>in_gold</th>\n",
       "      <th>norm_conf_score</th>\n",
       "      <th>num_votes</th>\n",
       "      <th>pmid</th>\n",
       "      <th>rel_origin</th>\n",
       "      <th>text</th>\n",
       "    </tr>\n",
       "  </thead>\n",
       "  <tbody>\n",
       "    <tr>\n",
       "      <th>0</th>\n",
       "      <td>MESH:D020117</td>\n",
       "      <td>MESH:D015746</td>\n",
       "      <td>1</td>\n",
       "      <td>0.203278</td>\n",
       "      <td>1</td>\n",
       "      <td>9669632</td>\n",
       "      <td>abstract_task</td>\n",
       "      <td>9669632#MESH:D020117+MESH:D015746</td>\n",
       "    </tr>\n",
       "    <tr>\n",
       "      <th>1</th>\n",
       "      <td>MESH:D020117</td>\n",
       "      <td>MESH:D005767</td>\n",
       "      <td>0</td>\n",
       "      <td>0.423201</td>\n",
       "      <td>2</td>\n",
       "      <td>9669632</td>\n",
       "      <td>abstract_task</td>\n",
       "      <td>9669632#MESH:D020117+MESH:D005767</td>\n",
       "    </tr>\n",
       "    <tr>\n",
       "      <th>2</th>\n",
       "      <td>MESH:D020117</td>\n",
       "      <td>MESH:D003248</td>\n",
       "      <td>0</td>\n",
       "      <td>0.212550</td>\n",
       "      <td>1</td>\n",
       "      <td>9669632</td>\n",
       "      <td>sentence_task</td>\n",
       "      <td>9669632#MESH:D020117+MESH:D003248</td>\n",
       "    </tr>\n",
       "    <tr>\n",
       "      <th>3</th>\n",
       "      <td>MESH:D020117</td>\n",
       "      <td>MESH:D003967</td>\n",
       "      <td>0</td>\n",
       "      <td>0.377915</td>\n",
       "      <td>2</td>\n",
       "      <td>9669632</td>\n",
       "      <td>sentence_task</td>\n",
       "      <td>9669632#MESH:D020117+MESH:D003967</td>\n",
       "    </tr>\n",
       "    <tr>\n",
       "      <th>4</th>\n",
       "      <td>MESH:D020117</td>\n",
       "      <td>MESH:D010146</td>\n",
       "      <td>0</td>\n",
       "      <td>1.000000</td>\n",
       "      <td>5</td>\n",
       "      <td>9669632</td>\n",
       "      <td>sentence_task</td>\n",
       "      <td>9669632#MESH:D020117+MESH:D010146</td>\n",
       "    </tr>\n",
       "  </tbody>\n",
       "</table>\n",
       "</div>"
      ],
      "text/plain": [
       "    chemical_id    disease_id  in_gold  norm_conf_score  num_votes     pmid  \\\n",
       "0  MESH:D020117  MESH:D015746        1         0.203278          1  9669632   \n",
       "1  MESH:D020117  MESH:D005767        0         0.423201          2  9669632   \n",
       "2  MESH:D020117  MESH:D003248        0         0.212550          1  9669632   \n",
       "3  MESH:D020117  MESH:D003967        0         0.377915          2  9669632   \n",
       "4  MESH:D020117  MESH:D010146        0         1.000000          5  9669632   \n",
       "\n",
       "      rel_origin                               text  \n",
       "0  abstract_task  9669632#MESH:D020117+MESH:D015746  \n",
       "1  abstract_task  9669632#MESH:D020117+MESH:D005767  \n",
       "2  sentence_task  9669632#MESH:D020117+MESH:D003248  \n",
       "3  sentence_task  9669632#MESH:D020117+MESH:D003967  \n",
       "4  sentence_task  9669632#MESH:D020117+MESH:D010146  "
      ]
     },
     "execution_count": 101,
     "metadata": {},
     "output_type": "execute_result"
    }
   ],
   "source": [
    "expanded_res.head()"
   ]
  },
  {
   "cell_type": "markdown",
   "metadata": {},
   "source": [
    "Remove all gold standard relations which are not indexable by our NER."
   ]
  },
  {
   "cell_type": "code",
   "execution_count": 102,
   "metadata": {
    "collapsed": true
   },
   "outputs": [],
   "source": [
    "def work(row):\n",
    "    return has_concept(dev_gold[row[\"pmid\"]], row[\"chemical_id\"])\n",
    "\n",
    "expanded_res[\"chem_in_gold\"] = expanded_res.loc[:, [\"chemical_id\", \"pmid\"]].apply(work, axis = 1)"
   ]
  },
  {
   "cell_type": "code",
   "execution_count": 103,
   "metadata": {
    "collapsed": true
   },
   "outputs": [],
   "source": [
    "def work2(row):\n",
    "    return has_concept(dev_gold[row[\"pmid\"]], row[\"disease_id\"])\n",
    "    \n",
    "expanded_res[\"dise_in_gold\"] = expanded_res.loc[:, [\"disease_id\", \"pmid\"]].apply(work2, axis = 1)"
   ]
  },
  {
   "cell_type": "code",
   "execution_count": 104,
   "metadata": {
    "collapsed": false
   },
   "outputs": [
    {
     "data": {
      "text/html": [
       "<div>\n",
       "<table border=\"1\" class=\"dataframe\">\n",
       "  <thead>\n",
       "    <tr style=\"text-align: right;\">\n",
       "      <th></th>\n",
       "      <th>chemical_id</th>\n",
       "      <th>disease_id</th>\n",
       "      <th>in_gold</th>\n",
       "      <th>norm_conf_score</th>\n",
       "      <th>num_votes</th>\n",
       "      <th>pmid</th>\n",
       "      <th>rel_origin</th>\n",
       "      <th>text</th>\n",
       "      <th>chem_in_gold</th>\n",
       "      <th>dise_in_gold</th>\n",
       "    </tr>\n",
       "  </thead>\n",
       "  <tbody>\n",
       "    <tr>\n",
       "      <th>0</th>\n",
       "      <td>MESH:D020117</td>\n",
       "      <td>MESH:D015746</td>\n",
       "      <td>1</td>\n",
       "      <td>0.203278</td>\n",
       "      <td>1</td>\n",
       "      <td>9669632</td>\n",
       "      <td>abstract_task</td>\n",
       "      <td>9669632#MESH:D020117+MESH:D015746</td>\n",
       "      <td>True</td>\n",
       "      <td>True</td>\n",
       "    </tr>\n",
       "    <tr>\n",
       "      <th>1</th>\n",
       "      <td>MESH:D020117</td>\n",
       "      <td>MESH:D005767</td>\n",
       "      <td>0</td>\n",
       "      <td>0.423201</td>\n",
       "      <td>2</td>\n",
       "      <td>9669632</td>\n",
       "      <td>abstract_task</td>\n",
       "      <td>9669632#MESH:D020117+MESH:D005767</td>\n",
       "      <td>True</td>\n",
       "      <td>True</td>\n",
       "    </tr>\n",
       "    <tr>\n",
       "      <th>2</th>\n",
       "      <td>MESH:D020117</td>\n",
       "      <td>MESH:D003248</td>\n",
       "      <td>0</td>\n",
       "      <td>0.212550</td>\n",
       "      <td>1</td>\n",
       "      <td>9669632</td>\n",
       "      <td>sentence_task</td>\n",
       "      <td>9669632#MESH:D020117+MESH:D003248</td>\n",
       "      <td>True</td>\n",
       "      <td>True</td>\n",
       "    </tr>\n",
       "    <tr>\n",
       "      <th>3</th>\n",
       "      <td>MESH:D020117</td>\n",
       "      <td>MESH:D003967</td>\n",
       "      <td>0</td>\n",
       "      <td>0.377915</td>\n",
       "      <td>2</td>\n",
       "      <td>9669632</td>\n",
       "      <td>sentence_task</td>\n",
       "      <td>9669632#MESH:D020117+MESH:D003967</td>\n",
       "      <td>True</td>\n",
       "      <td>True</td>\n",
       "    </tr>\n",
       "    <tr>\n",
       "      <th>4</th>\n",
       "      <td>MESH:D020117</td>\n",
       "      <td>MESH:D010146</td>\n",
       "      <td>0</td>\n",
       "      <td>1.000000</td>\n",
       "      <td>5</td>\n",
       "      <td>9669632</td>\n",
       "      <td>sentence_task</td>\n",
       "      <td>9669632#MESH:D020117+MESH:D010146</td>\n",
       "      <td>True</td>\n",
       "      <td>True</td>\n",
       "    </tr>\n",
       "  </tbody>\n",
       "</table>\n",
       "</div>"
      ],
      "text/plain": [
       "    chemical_id    disease_id  in_gold  norm_conf_score  num_votes     pmid  \\\n",
       "0  MESH:D020117  MESH:D015746        1         0.203278          1  9669632   \n",
       "1  MESH:D020117  MESH:D005767        0         0.423201          2  9669632   \n",
       "2  MESH:D020117  MESH:D003248        0         0.212550          1  9669632   \n",
       "3  MESH:D020117  MESH:D003967        0         0.377915          2  9669632   \n",
       "4  MESH:D020117  MESH:D010146        0         1.000000          5  9669632   \n",
       "\n",
       "      rel_origin                               text chem_in_gold dise_in_gold  \n",
       "0  abstract_task  9669632#MESH:D020117+MESH:D015746         True         True  \n",
       "1  abstract_task  9669632#MESH:D020117+MESH:D005767         True         True  \n",
       "2  sentence_task  9669632#MESH:D020117+MESH:D003248         True         True  \n",
       "3  sentence_task  9669632#MESH:D020117+MESH:D003967         True         True  \n",
       "4  sentence_task  9669632#MESH:D020117+MESH:D010146         True         True  "
      ]
     },
     "execution_count": 104,
     "metadata": {},
     "output_type": "execute_result"
    }
   ],
   "source": [
    "expanded_res.head()"
   ]
  },
  {
   "cell_type": "code",
   "execution_count": 105,
   "metadata": {
    "collapsed": false
   },
   "outputs": [
    {
     "data": {
      "text/plain": [
       "(84, 10)"
      ]
     },
     "execution_count": 105,
     "metadata": {},
     "output_type": "execute_result"
    }
   ],
   "source": [
    "expanded_res.query(\"~chem_in_gold or ~dise_in_gold\").shape"
   ]
  },
  {
   "cell_type": "code",
   "execution_count": 106,
   "metadata": {
    "collapsed": true
   },
   "outputs": [],
   "source": [
    "clean_res = expanded_res.query(\"chem_in_gold and dise_in_gold\")"
   ]
  },
  {
   "cell_type": "code",
   "execution_count": 107,
   "metadata": {
    "collapsed": false
   },
   "outputs": [
    {
     "data": {
      "text/plain": [
       "(928, 10)"
      ]
     },
     "execution_count": 107,
     "metadata": {},
     "output_type": "execute_result"
    }
   ],
   "source": [
    "clean_res.shape"
   ]
  },
  {
   "cell_type": "code",
   "execution_count": 108,
   "metadata": {
    "collapsed": true
   },
   "outputs": [],
   "source": [
    "common_rels = gold_relations & set(clean_res[\"text\"])"
   ]
  },
  {
   "cell_type": "code",
   "execution_count": 109,
   "metadata": {
    "collapsed": false
   },
   "outputs": [
    {
     "data": {
      "text/plain": [
       "179"
      ]
     },
     "execution_count": 109,
     "metadata": {},
     "output_type": "execute_result"
    }
   ],
   "source": [
    "len(common_rels)"
   ]
  },
  {
   "cell_type": "code",
   "execution_count": 110,
   "metadata": {
    "collapsed": false
   },
   "outputs": [],
   "source": [
    "no_ner_res = new_F_score(\"num_votes\", common_rels, clean_res).sort(\"threshold\")"
   ]
  },
  {
   "cell_type": "code",
   "execution_count": 111,
   "metadata": {
    "collapsed": false
   },
   "outputs": [
    {
     "data": {
      "text/html": [
       "<div>\n",
       "<table border=\"1\" class=\"dataframe\">\n",
       "  <thead>\n",
       "    <tr style=\"text-align: right;\">\n",
       "      <th></th>\n",
       "      <th>F_score</th>\n",
       "      <th>precision</th>\n",
       "      <th>recall</th>\n",
       "      <th>threshold</th>\n",
       "    </tr>\n",
       "  </thead>\n",
       "  <tbody>\n",
       "    <tr>\n",
       "      <th>5</th>\n",
       "      <td>0.323397</td>\n",
       "      <td>0.192888</td>\n",
       "      <td>1.000000</td>\n",
       "      <td>0</td>\n",
       "    </tr>\n",
       "    <tr>\n",
       "      <th>0</th>\n",
       "      <td>0.420538</td>\n",
       "      <td>0.269171</td>\n",
       "      <td>0.960894</td>\n",
       "      <td>1</td>\n",
       "    </tr>\n",
       "    <tr>\n",
       "      <th>1</th>\n",
       "      <td>0.528000</td>\n",
       "      <td>0.369955</td>\n",
       "      <td>0.921788</td>\n",
       "      <td>2</td>\n",
       "    </tr>\n",
       "    <tr>\n",
       "      <th>3</th>\n",
       "      <td>0.610568</td>\n",
       "      <td>0.469880</td>\n",
       "      <td>0.871508</td>\n",
       "      <td>3</td>\n",
       "    </tr>\n",
       "    <tr>\n",
       "      <th>4</th>\n",
       "      <td>0.647754</td>\n",
       "      <td>0.561475</td>\n",
       "      <td>0.765363</td>\n",
       "      <td>4</td>\n",
       "    </tr>\n",
       "    <tr>\n",
       "      <th>2</th>\n",
       "      <td>0.595989</td>\n",
       "      <td>0.611765</td>\n",
       "      <td>0.581006</td>\n",
       "      <td>5</td>\n",
       "    </tr>\n",
       "  </tbody>\n",
       "</table>\n",
       "</div>"
      ],
      "text/plain": [
       "    F_score  precision    recall  threshold\n",
       "5  0.323397   0.192888  1.000000          0\n",
       "0  0.420538   0.269171  0.960894          1\n",
       "1  0.528000   0.369955  0.921788          2\n",
       "3  0.610568   0.469880  0.871508          3\n",
       "4  0.647754   0.561475  0.765363          4\n",
       "2  0.595989   0.611765  0.581006          5"
      ]
     },
     "execution_count": 111,
     "metadata": {},
     "output_type": "execute_result"
    }
   ],
   "source": [
    "no_ner_res"
   ]
  },
  {
   "cell_type": "code",
   "execution_count": 133,
   "metadata": {
    "collapsed": false
   },
   "outputs": [
    {
     "data": {
      "text/html": [
       "<div>\n",
       "<table border=\"1\" class=\"dataframe\">\n",
       "  <thead>\n",
       "    <tr style=\"text-align: right;\">\n",
       "      <th></th>\n",
       "      <th>F_score</th>\n",
       "      <th>precision</th>\n",
       "      <th>recall</th>\n",
       "      <th>threshold</th>\n",
       "    </tr>\n",
       "  </thead>\n",
       "  <tbody>\n",
       "    <tr>\n",
       "      <th>5</th>\n",
       "      <td>0.293683</td>\n",
       "      <td>0.176877</td>\n",
       "      <td>0.864734</td>\n",
       "      <td>0</td>\n",
       "    </tr>\n",
       "    <tr>\n",
       "      <th>0</th>\n",
       "      <td>0.385650</td>\n",
       "      <td>0.251095</td>\n",
       "      <td>0.830918</td>\n",
       "      <td>1</td>\n",
       "    </tr>\n",
       "    <tr>\n",
       "      <th>1</th>\n",
       "      <td>0.483871</td>\n",
       "      <td>0.347368</td>\n",
       "      <td>0.797101</td>\n",
       "      <td>2</td>\n",
       "    </tr>\n",
       "    <tr>\n",
       "      <th>3</th>\n",
       "      <td>0.554174</td>\n",
       "      <td>0.438202</td>\n",
       "      <td>0.753623</td>\n",
       "      <td>3</td>\n",
       "    </tr>\n",
       "    <tr>\n",
       "      <th>4</th>\n",
       "      <td>0.587983</td>\n",
       "      <td>0.528958</td>\n",
       "      <td>0.661836</td>\n",
       "      <td>4</td>\n",
       "    </tr>\n",
       "    <tr>\n",
       "      <th>2</th>\n",
       "      <td>0.533333</td>\n",
       "      <td>0.568306</td>\n",
       "      <td>0.502415</td>\n",
       "      <td>5</td>\n",
       "    </tr>\n",
       "  </tbody>\n",
       "</table>\n",
       "</div>"
      ],
      "text/plain": [
       "    F_score  precision    recall  threshold\n",
       "5  0.293683   0.176877  0.864734          0\n",
       "0  0.385650   0.251095  0.830918          1\n",
       "1  0.483871   0.347368  0.797101          2\n",
       "3  0.554174   0.438202  0.753623          3\n",
       "4  0.587983   0.528958  0.661836          4\n",
       "2  0.533333   0.568306  0.502415          5"
      ]
     },
     "execution_count": 133,
     "metadata": {},
     "output_type": "execute_result"
    }
   ],
   "source": [
    "official_res_vote.sort(\"threshold\")"
   ]
  },
  {
   "cell_type": "code",
   "execution_count": 131,
   "metadata": {
    "collapsed": false
   },
   "outputs": [],
   "source": [
    "temp = defaultdict(list)\n",
    "for i in range(6):\n",
    "    temp[\"threshold\"].append(i)\n",
    "    for col in [\"F_score\", \"precision\", \"recall\"]:\n",
    "        a = official_res_vote.query(\"threshold == {0}\".format(i))[col].iloc[0]\n",
    "        b = no_ner_res.query(\"threshold == {0}\".format(i))[col].iloc[0]\n",
    "        temp[col].append(b - a)\n",
    "        \n",
    "temp = pd.DataFrame(temp)"
   ]
  },
  {
   "cell_type": "code",
   "execution_count": 132,
   "metadata": {
    "collapsed": false
   },
   "outputs": [
    {
     "data": {
      "text/html": [
       "<div>\n",
       "<table border=\"1\" class=\"dataframe\">\n",
       "  <thead>\n",
       "    <tr style=\"text-align: right;\">\n",
       "      <th></th>\n",
       "      <th>F_score</th>\n",
       "      <th>precision</th>\n",
       "      <th>recall</th>\n",
       "      <th>threshold</th>\n",
       "    </tr>\n",
       "  </thead>\n",
       "  <tbody>\n",
       "    <tr>\n",
       "      <th>0</th>\n",
       "      <td>0.029713</td>\n",
       "      <td>0.016010</td>\n",
       "      <td>0.135266</td>\n",
       "      <td>0</td>\n",
       "    </tr>\n",
       "    <tr>\n",
       "      <th>1</th>\n",
       "      <td>0.034888</td>\n",
       "      <td>0.018076</td>\n",
       "      <td>0.129976</td>\n",
       "      <td>1</td>\n",
       "    </tr>\n",
       "    <tr>\n",
       "      <th>2</th>\n",
       "      <td>0.044129</td>\n",
       "      <td>0.022587</td>\n",
       "      <td>0.124686</td>\n",
       "      <td>2</td>\n",
       "    </tr>\n",
       "    <tr>\n",
       "      <th>3</th>\n",
       "      <td>0.056393</td>\n",
       "      <td>0.031677</td>\n",
       "      <td>0.117885</td>\n",
       "      <td>3</td>\n",
       "    </tr>\n",
       "    <tr>\n",
       "      <th>4</th>\n",
       "      <td>0.059771</td>\n",
       "      <td>0.032518</td>\n",
       "      <td>0.103527</td>\n",
       "      <td>4</td>\n",
       "    </tr>\n",
       "    <tr>\n",
       "      <th>5</th>\n",
       "      <td>0.062655</td>\n",
       "      <td>0.043459</td>\n",
       "      <td>0.078590</td>\n",
       "      <td>5</td>\n",
       "    </tr>\n",
       "  </tbody>\n",
       "</table>\n",
       "</div>"
      ],
      "text/plain": [
       "    F_score  precision    recall  threshold\n",
       "0  0.029713   0.016010  0.135266          0\n",
       "1  0.034888   0.018076  0.129976          1\n",
       "2  0.044129   0.022587  0.124686          2\n",
       "3  0.056393   0.031677  0.117885          3\n",
       "4  0.059771   0.032518  0.103527          4\n",
       "5  0.062655   0.043459  0.078590          5"
      ]
     },
     "execution_count": 132,
     "metadata": {},
     "output_type": "execute_result"
    }
   ],
   "source": [
    "temp"
   ]
  },
  {
   "cell_type": "code",
   "execution_count": null,
   "metadata": {
    "collapsed": true
   },
   "outputs": [],
   "source": [
    "def plot_it(res, title, xlabel):\n",
    "    res = res.sort(\"threshold\")\n",
    "\n",
    "    graph = res.plot(x = \"threshold\", figsize = (7, 7),\n",
    "                    title = title)\n",
    "    graph.set_ylim((0, 1.1))\n",
    "    graph.set_xlabel(xlabel)"
   ]
  },
  {
   "cell_type": "code",
   "execution_count": 148,
   "metadata": {
    "collapsed": false
   },
   "outputs": [
    {
     "data": {
      "text/html": [
       "<div>\n",
       "<table border=\"1\" class=\"dataframe\">\n",
       "  <thead>\n",
       "    <tr style=\"text-align: right;\">\n",
       "      <th></th>\n",
       "      <th>F_score</th>\n",
       "      <th>precision</th>\n",
       "      <th>recall</th>\n",
       "      <th>threshold</th>\n",
       "    </tr>\n",
       "  </thead>\n",
       "  <tbody>\n",
       "    <tr>\n",
       "      <th>5</th>\n",
       "      <td>0.323397</td>\n",
       "      <td>0.192888</td>\n",
       "      <td>1.000000</td>\n",
       "      <td>0</td>\n",
       "    </tr>\n",
       "    <tr>\n",
       "      <th>0</th>\n",
       "      <td>0.420538</td>\n",
       "      <td>0.269171</td>\n",
       "      <td>0.960894</td>\n",
       "      <td>1</td>\n",
       "    </tr>\n",
       "    <tr>\n",
       "      <th>1</th>\n",
       "      <td>0.528000</td>\n",
       "      <td>0.369955</td>\n",
       "      <td>0.921788</td>\n",
       "      <td>2</td>\n",
       "    </tr>\n",
       "    <tr>\n",
       "      <th>3</th>\n",
       "      <td>0.610568</td>\n",
       "      <td>0.469880</td>\n",
       "      <td>0.871508</td>\n",
       "      <td>3</td>\n",
       "    </tr>\n",
       "    <tr>\n",
       "      <th>4</th>\n",
       "      <td>0.647754</td>\n",
       "      <td>0.561475</td>\n",
       "      <td>0.765363</td>\n",
       "      <td>4</td>\n",
       "    </tr>\n",
       "    <tr>\n",
       "      <th>2</th>\n",
       "      <td>0.595989</td>\n",
       "      <td>0.611765</td>\n",
       "      <td>0.581006</td>\n",
       "      <td>5</td>\n",
       "    </tr>\n",
       "  </tbody>\n",
       "</table>\n",
       "</div>"
      ],
      "text/plain": [
       "    F_score  precision    recall  threshold\n",
       "5  0.323397   0.192888  1.000000          0\n",
       "0  0.420538   0.269171  0.960894          1\n",
       "1  0.528000   0.369955  0.921788          2\n",
       "3  0.610568   0.469880  0.871508          3\n",
       "4  0.647754   0.561475  0.765363          4\n",
       "2  0.595989   0.611765  0.581006          5"
      ]
     },
     "execution_count": 148,
     "metadata": {},
     "output_type": "execute_result"
    }
   ],
   "source": [
    "no_ner_res"
   ]
  },
  {
   "cell_type": "code",
   "execution_count": 157,
   "metadata": {
    "collapsed": false
   },
   "outputs": [
    {
     "data": {
      "image/png": "[encoded data removed]",
      "text/plain": [
       "<matplotlib.figure.Figure at 0x7efc58611320>"
      ]
     },
     "metadata": {},
     "output_type": "display_data"
    }
   ],
   "source": [
    "\n",
    "\n",
    "graph = temp.plot(kind = \"bar\", x = \"threshold\",\n",
    "                 figsize = (10, 10),\n",
    "                 title = \"Improvement in performance with\\nNER-related errors removed\")\n",
    "graph.set_ylim((0, 0.19))\n",
    "graph.set_xlabel(\"Number of votes\")\n",
    "plt.savefig(\"data/improvement.png\", bbox_inches = \"tight\")"
   ]
  },
  {
   "cell_type": "code",
   "execution_count": 125,
   "metadata": {
    "collapsed": false
   },
   "outputs": [
    {
     "data": {
      "text/html": [
       "<div>\n",
       "<table border=\"1\" class=\"dataframe\">\n",
       "  <thead>\n",
       "    <tr style=\"text-align: right;\">\n",
       "      <th></th>\n",
       "      <th>F_score</th>\n",
       "      <th>precision</th>\n",
       "      <th>recall</th>\n",
       "      <th>threshold</th>\n",
       "    </tr>\n",
       "  </thead>\n",
       "  <tbody>\n",
       "    <tr>\n",
       "      <th>0</th>\n",
       "      <td>0.034888</td>\n",
       "      <td>0.018076</td>\n",
       "      <td>0.129976</td>\n",
       "      <td>0</td>\n",
       "    </tr>\n",
       "    <tr>\n",
       "      <th>1</th>\n",
       "      <td>0.044129</td>\n",
       "      <td>0.022587</td>\n",
       "      <td>0.124686</td>\n",
       "      <td>0</td>\n",
       "    </tr>\n",
       "    <tr>\n",
       "      <th>2</th>\n",
       "      <td>0.062655</td>\n",
       "      <td>0.043459</td>\n",
       "      <td>0.078590</td>\n",
       "      <td>0</td>\n",
       "    </tr>\n",
       "    <tr>\n",
       "      <th>3</th>\n",
       "      <td>0.056393</td>\n",
       "      <td>0.031677</td>\n",
       "      <td>0.117885</td>\n",
       "      <td>0</td>\n",
       "    </tr>\n",
       "    <tr>\n",
       "      <th>4</th>\n",
       "      <td>0.059771</td>\n",
       "      <td>0.032518</td>\n",
       "      <td>0.103527</td>\n",
       "      <td>0</td>\n",
       "    </tr>\n",
       "    <tr>\n",
       "      <th>5</th>\n",
       "      <td>0.029713</td>\n",
       "      <td>0.016010</td>\n",
       "      <td>0.135266</td>\n",
       "      <td>0</td>\n",
       "    </tr>\n",
       "  </tbody>\n",
       "</table>\n",
       "</div>"
      ],
      "text/plain": [
       "    F_score  precision    recall  threshold\n",
       "0  0.034888   0.018076  0.129976          0\n",
       "1  0.044129   0.022587  0.124686          0\n",
       "2  0.062655   0.043459  0.078590          0\n",
       "3  0.056393   0.031677  0.117885          0\n",
       "4  0.059771   0.032518  0.103527          0\n",
       "5  0.029713   0.016010  0.135266          0"
      ]
     },
     "execution_count": 125,
     "metadata": {},
     "output_type": "execute_result"
    }
   ],
   "source": [
    "no_ner_res - official_res_vote"
   ]
  },
  {
   "cell_type": "code",
   "execution_count": 124,
   "metadata": {
    "collapsed": false
   },
   "outputs": [
    {
     "data": {
      "text/plain": [
       "<matplotlib.axes._subplots.AxesSubplot at 0x7efc58d9e710>"
      ]
     },
     "execution_count": 124,
     "metadata": {},
     "output_type": "execute_result"
    },
    {
     "data": {
      "image/png": "[encoded data removed]",
      "text/plain": [
       "<matplotlib.figure.Figure at 0x7efc58db3828>"
      ]
     },
     "metadata": {},
     "output_type": "display_data"
    }
   ],
   "source": [
    "kek.sort(\"threshold\").plot(kind = \"bar\", x = \"threshold\")"
   ]
  },
  {
   "cell_type": "code",
   "execution_count": null,
   "metadata": {
    "collapsed": true
   },
   "outputs": [],
   "source": []
  },
  {
   "cell_type": "code",
   "execution_count": 112,
   "metadata": {
    "collapsed": false
   },
   "outputs": [
    {
     "data": {
      "image/png": "[encoded data removed]",
      "text/plain": [
       "<matplotlib.figure.Figure at 0x7efc584ce240>"
      ]
     },
     "metadata": {},
     "output_type": "display_data"
    }
   ],
   "source": [
    "matplotlib.rcParams.update({'font.size': 12})\n",
    "title = \"Crowd Performance Against Gold Standard\\nwith relations involving NER errors removed\"\n",
    "\n",
    "plot_it(no_ner_res, title, \"Number of positive votes\")"
   ]
  },
  {
   "cell_type": "code",
   "execution_count": 113,
   "metadata": {
    "collapsed": false
   },
   "outputs": [
    {
     "data": {
      "image/png": "[encoded data removed]",
      "text/plain": [
       "<matplotlib.figure.Figure at 0x7efc5884ef28>"
      ]
     },
     "metadata": {},
     "output_type": "display_data"
    }
   ],
   "source": [
    "big_plot(no_ner_res, \"\", \"Number of positive votes\",\n",
    "        22, (10, 10), \"data/perf_no_ner.eps\")"
   ]
  },
  {
   "cell_type": "code",
   "execution_count": null,
   "metadata": {
    "collapsed": true
   },
   "outputs": [],
   "source": []
  },
  {
   "cell_type": "code",
   "execution_count": null,
   "metadata": {
    "collapsed": true
   },
   "outputs": [],
   "source": []
  },
  {
   "cell_type": "code",
   "execution_count": null,
   "metadata": {
    "collapsed": true
   },
   "outputs": [],
   "source": []
  },
  {
   "cell_type": "code",
   "execution_count": null,
   "metadata": {
    "collapsed": true
   },
   "outputs": [],
   "source": []
  },
  {
   "cell_type": "code",
   "execution_count": null,
   "metadata": {
    "collapsed": true
   },
   "outputs": [],
   "source": []
  },
  {
   "cell_type": "code",
   "execution_count": null,
   "metadata": {
    "collapsed": true
   },
   "outputs": [],
   "source": []
  },
  {
   "cell_type": "code",
   "execution_count": 114,
   "metadata": {
    "collapsed": false
   },
   "outputs": [
    {
     "ename": "NameError",
     "evalue": "name 'single_fin_res' is not defined",
     "output_type": "error",
     "traceback": [
      "\u001b[1;31m---------------------------------------------------------------------------\u001b[0m",
      "\u001b[1;31mNameError\u001b[0m                                 Traceback (most recent call last)",
      "\u001b[1;32m<ipython-input-114-b34cc0d84bdc>\u001b[0m in \u001b[0;36m<module>\u001b[1;34m()\u001b[0m\n\u001b[1;32m----> 1\u001b[1;33m \u001b[0mclean_res\u001b[0m \u001b[1;33m=\u001b[0m \u001b[0msingle_fin_res\u001b[0m\u001b[1;33m.\u001b[0m\u001b[0mquery\u001b[0m\u001b[1;33m(\u001b[0m\u001b[1;34m\"chem_in_gold and dise_in_gold\"\u001b[0m\u001b[1;33m)\u001b[0m\u001b[1;33m\u001b[0m\u001b[0m\n\u001b[0m",
      "\u001b[1;31mNameError\u001b[0m: name 'single_fin_res' is not defined"
     ]
    }
   ],
   "source": [
    "clean_res = single_fin_res.query(\"chem_in_gold and dise_in_gold\")"
   ]
  },
  {
   "cell_type": "code",
   "execution_count": null,
   "metadata": {
    "collapsed": false
   },
   "outputs": [],
   "source": [
    "clean_res.shape"
   ]
  },
  {
   "cell_type": "code",
   "execution_count": null,
   "metadata": {
    "collapsed": false
   },
   "outputs": [],
   "source": [
    "clean_res.head()"
   ]
  },
  {
   "cell_type": "code",
   "execution_count": null,
   "metadata": {
    "collapsed": false
   },
   "outputs": [],
   "source": [
    "clean_res[\"chem_in_gold\"].value_counts()"
   ]
  },
  {
   "cell_type": "code",
   "execution_count": null,
   "metadata": {
    "collapsed": false
   },
   "outputs": [],
   "source": [
    "clean_res[\"dise_in_gold\"].value_counts()"
   ]
  },
  {
   "cell_type": "code",
   "execution_count": null,
   "metadata": {
    "collapsed": true
   },
   "outputs": [],
   "source": [
    "no_ner_official_res = new_F_score(\"norm_conf_score\", clean_res)"
   ]
  },
  {
   "cell_type": "code",
   "execution_count": null,
   "metadata": {
    "collapsed": true
   },
   "outputs": [],
   "source": [
    "no_ner_official_res_votes = new_F_score(\"num_votes\", clean_res)"
   ]
  },
  {
   "cell_type": "code",
   "execution_count": null,
   "metadata": {
    "collapsed": false
   },
   "outputs": [],
   "source": [
    "no_ner_official_res_votes.sort(\"F_score\", ascending = False)"
   ]
  }
 ],
 "metadata": {
  "kernelspec": {
   "display_name": "Python 3",
   "language": "python",
   "name": "python3"
  },
  "language_info": {
   "codemirror_mode": {
    "name": "ipython",
    "version": 3
   },
   "file_extension": ".py",
   "mimetype": "text/x-python",
   "name": "python",
   "nbconvert_exporter": "python",
   "pygments_lexer": "ipython3",
   "version": "3.4.2"
  }
 },
 "nbformat": 4,
 "nbformat_minor": 0
}
