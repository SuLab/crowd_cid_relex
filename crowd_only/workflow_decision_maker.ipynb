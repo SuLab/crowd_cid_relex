{
 "cells": [
  {
   "cell_type": "markdown",
   "metadata": {},
   "source": [
    "#BioCreative V Task 3b workflow decision maker"
   ]
  },
  {
   "cell_type": "markdown",
   "metadata": {},
   "source": [
    "Tong Shu Li<br>\n",
    "Created on 2015-07-02<br>\n",
    "Last updated 2015-07-29"
   ]
  },
  {
   "cell_type": "markdown",
   "metadata": {},
   "source": [
    "From our preliminary experiments with making the crowd perform the chemical-induced disease relation extraction task at the abstract level (jobs #746297, #746647, #748223), we saw that the crowd performed very well on relationships which existed within the same sentence, and performed poorly on relations which spanned the whole abstract.\n",
    "\n",
    "We will now divide the task up into two parts:\n",
    "1. The simpler task will only involve determining one relationship from one sentence in which both concepts cooccur.\n",
    "2. The harder task will involve determining one relationship from the entire abstract when the two concepts never cooccur in the same sentence."
   ]
  },
  {
   "cell_type": "code",
   "execution_count": 1,
   "metadata": {
    "collapsed": true
   },
   "outputs": [],
   "source": [
    "from collections import defaultdict\n",
    "import os\n",
    "import pandas as pd\n",
    "import pickle\n",
    "import random\n",
    "import sys"
   ]
  },
  {
   "cell_type": "code",
   "execution_count": 2,
   "metadata": {
    "collapsed": true
   },
   "outputs": [],
   "source": [
    "random.seed(\"2015-06-11:14:46\")"
   ]
  },
  {
   "cell_type": "code",
   "execution_count": 3,
   "metadata": {
    "collapsed": true
   },
   "outputs": [],
   "source": [
    "sys.path.append(\"/home/toby/Code/util/\")\n",
    "from web_util import add_simple_tag"
   ]
  },
  {
   "cell_type": "code",
   "execution_count": 4,
   "metadata": {
    "collapsed": false
   },
   "outputs": [],
   "source": [
    "from src.data_model import parse_input\n",
    "from src.data_model import Relation\n",
    "from src.make_sections import create_sections"
   ]
  },
  {
   "cell_type": "markdown",
   "metadata": {},
   "source": [
    "---"
   ]
  },
  {
   "cell_type": "markdown",
   "metadata": {},
   "source": [
    "###Read the gold standard training data:"
   ]
  },
  {
   "cell_type": "code",
   "execution_count": 5,
   "metadata": {
    "collapsed": false
   },
   "outputs": [
    {
     "name": "stdout",
     "output_type": "stream",
     "text": [
      "Reading cached version of training set\n"
     ]
    }
   ],
   "source": [
    "if os.path.exists(\"data/training/parsed_training_set.pickle\"):\n",
    "    print \"Reading cached version of training set\"\n",
    "    with open(\"data/training/parsed_training_set.pickle\", \"rb\") as fin:\n",
    "        training_data = pickle.load(fin)\n",
    "else:\n",
    "    training_data = parse_input(\"data/training\", \"CDR_TrainingSet.txt\")\n",
    "    with open(\"data/training/parsed_training_set.pickle\", \"wb\") as fout:\n",
    "        pickle.dump(training_data, fout)"
   ]
  },
  {
   "cell_type": "code",
   "execution_count": 6,
   "metadata": {
    "collapsed": false
   },
   "outputs": [
    {
     "data": {
      "text/plain": [
       "500"
      ]
     },
     "execution_count": 6,
     "metadata": {},
     "output_type": "execute_result"
    }
   ],
   "source": [
    "len(training_data)"
   ]
  },
  {
   "cell_type": "markdown",
   "metadata": {},
   "source": [
    "###Check for errors:"
   ]
  },
  {
   "cell_type": "markdown",
   "metadata": {},
   "source": [
    "The Paper objects already checked that each relation only joins two MeSH ids during the parsing process."
   ]
  },
  {
   "cell_type": "markdown",
   "metadata": {},
   "source": [
    "The Paper objects are inspected to ensure that the annotations match the text positions during loading."
   ]
  },
  {
   "cell_type": "markdown",
   "metadata": {},
   "source": [
    "---"
   ]
  },
  {
   "cell_type": "markdown",
   "metadata": {},
   "source": [
    "### Choose a random sample of papers as the testset:"
   ]
  },
  {
   "cell_type": "code",
   "execution_count": 7,
   "metadata": {
    "collapsed": false
   },
   "outputs": [
    {
     "name": "stdout",
     "output_type": "stream",
     "text": [
      "11569530\n",
      "11135224\n",
      "1378968\n",
      "19269743\n",
      "8595686\n",
      "16337777\n",
      "10520387\n",
      "17931375\n",
      "3800626\n",
      "9522143\n",
      "17241784\n",
      "2265898\n",
      "6666578\n",
      "15632880\n",
      "8590259\n",
      "12198388\n",
      "2515254\n",
      "1835291\n",
      "12041669\n",
      "7582165\n",
      "2096243\n",
      "7449470\n",
      "2375138\n",
      "6692345\n",
      "17261653\n",
      "18631865\n",
      "1130930\n",
      "10835440\n",
      "15602202\n",
      "16167916\n"
     ]
    }
   ],
   "source": [
    "TESTSET_SIZE = 30\n",
    "testset = random.sample(training_data, TESTSET_SIZE)\n",
    "\n",
    "for paper in testset:\n",
    "    print paper.pmid"
   ]
  },
  {
   "cell_type": "markdown",
   "metadata": {},
   "source": [
    "---"
   ]
  },
  {
   "cell_type": "markdown",
   "metadata": {},
   "source": [
    "###Highlighting functions:"
   ]
  },
  {
   "cell_type": "code",
   "execution_count": 8,
   "metadata": {
    "collapsed": true
   },
   "outputs": [],
   "source": [
    "def highlight_concepts(text, breaks):\n",
    "    \"\"\"\n",
    "    Inserts HTML tags around the pieces of text\n",
    "    which need to be highlighted in a string.\n",
    "    \"\"\"\n",
    "    breaks = sorted(breaks, key = lambda x: x[0])\n",
    "    \n",
    "    final = []\n",
    "    for i in range(len(breaks) - 1):\n",
    "        s = text[breaks[i][0] : breaks[i+1][0]]\n",
    "        if breaks[i][1] != \"n\":\n",
    "            s = add_simple_tag(\"span\", breaks[i][1], s)\n",
    "            \n",
    "        final.append(s)\n",
    "        \n",
    "    return \"\".join(final)"
   ]
  },
  {
   "cell_type": "code",
   "execution_count": 9,
   "metadata": {
    "collapsed": true
   },
   "outputs": [],
   "source": [
    "def highlight_text(text, offset, uniq_spans):\n",
    "    \"\"\"\n",
    "    Given a string and the annotations which fall\n",
    "    within this string, highlights the concepts.\n",
    "    \"\"\"\n",
    "    # index of break, type of break (n = nothing)\n",
    "    breaks = [(0, \"n\"), (len(text), \"n\")]\n",
    "    \n",
    "    for span in uniq_spans:\n",
    "        breaks.append((span.start - offset, span.stype))\n",
    "        breaks.append((span.stop - offset, \"n\"))\n",
    "            \n",
    "    return highlight_concepts(text, breaks)"
   ]
  },
  {
   "cell_type": "markdown",
   "metadata": {},
   "source": [
    "---"
   ]
  },
  {
   "cell_type": "markdown",
   "metadata": {},
   "source": [
    "###Processors for each of the subtasks:"
   ]
  },
  {
   "cell_type": "code",
   "execution_count": 10,
   "metadata": {
    "collapsed": true
   },
   "outputs": [],
   "source": [
    "def grab_names(annotations):\n",
    "    \"\"\"\n",
    "    Determines the unique names of the annotations.\n",
    "    \"\"\"\n",
    "    # determine the names of the concept identifiers\n",
    "    used_names = defaultdict(set) # lower case set of used names (to avoid repeats)\n",
    "    real_name = defaultdict(set) # set of unique names verbatim (to preseve capitalization)\n",
    "    for annotation in annotations:\n",
    "        if annotation.text.lower() not in used_names[annotation.stype]:\n",
    "            used_names[annotation.stype].add(annotation.text.lower())\n",
    "            real_name[annotation.stype].add(annotation.text)\n",
    "            \n",
    "    return real_name"
   ]
  },
  {
   "cell_type": "code",
   "execution_count": 11,
   "metadata": {
    "collapsed": true
   },
   "outputs": [],
   "source": [
    "def process_sentence_task(sentence, chemical_id, disease_id):\n",
    "    \"\"\"\n",
    "    Given a Sentence object, and the chemical-disease relation\n",
    "    identifier pair, creates one sentence-level verification task.\n",
    "    \"\"\"\n",
    "    spans = [annotation for annotation in sentence.annotations if annotation.uid in [chemical_id, disease_id]]\n",
    "    real_name = grab_names(spans)\n",
    "\n",
    "    data = dict()\n",
    "    data[\"pmid\"] = [sentence.pmid]\n",
    "    data[\"form_sentence\"] = [highlight_text(sentence.text, sentence.start, spans)]\n",
    "    data[\"chemical_id\"] = [chemical_id]\n",
    "    data[\"disease_id\"] = [disease_id]\n",
    "    data[\"chemical_name\"] = [add_simple_tag(\"span\", \"chemical\", \"/\".join(real_name[\"chemical\"]))]\n",
    "    data[\"disease_name\"] = [add_simple_tag(\"span\", \"disease\", \"/\".join(real_name[\"disease\"]))]\n",
    "    \n",
    "    return pd.DataFrame(data)"
   ]
  },
  {
   "cell_type": "code",
   "execution_count": 12,
   "metadata": {
    "collapsed": true
   },
   "outputs": [],
   "source": [
    "def process_abstract_task(paper, chemical_id, disease_id):\n",
    "    \"\"\"\n",
    "    Makes one abstract level chemical-disease relationship\n",
    "    verification task.\n",
    "    \"\"\"\n",
    "    spans = [annotation for annotation in paper.annotations if annotation.uid in [chemical_id, disease_id]]\n",
    "    real_name = grab_names(spans)\n",
    "            \n",
    "    form_title = highlight_text(paper.title, 0,\n",
    "                                filter(lambda x: x.stop <= len(paper.title), spans))\n",
    "    \n",
    "    form_abstract = highlight_text(paper.abstract, len(paper.title) + 1,\n",
    "                                   filter(lambda x: x.start > len(paper.title), spans))\n",
    "            \n",
    "    form_abstract = create_sections(form_abstract)\n",
    "            \n",
    "    data = dict()\n",
    "    data[\"pmid\"] = [paper.pmid]\n",
    "    \n",
    "    data[\"form_title\"] = [form_title]\n",
    "    data[\"form_abstract\"] = [form_abstract]\n",
    "    \n",
    "    data[\"chemical_id\"] = [chemical_id]\n",
    "    data[\"disease_id\"] = [disease_id]\n",
    "    data[\"chemical_name\"] = [add_simple_tag(\"span\", \"chemical\", \"/\".join(real_name[\"chemical\"]))]\n",
    "    data[\"disease_name\"] = [add_simple_tag(\"span\", \"disease\", \"/\".join(real_name[\"disease\"]))]\n",
    "            \n",
    "    return pd.DataFrame(data)"
   ]
  },
  {
   "cell_type": "markdown",
   "metadata": {},
   "source": [
    "---"
   ]
  },
  {
   "cell_type": "code",
   "execution_count": 13,
   "metadata": {
    "collapsed": true
   },
   "outputs": [],
   "source": [
    "def create_work_units(dataset):\n",
    "    \"\"\"\n",
    "    Given a list of Paper objects representing the abstracts\n",
    "    we wish to find the CID relations in, this function\n",
    "    creates the work units for the CrowdFlower tasks.\n",
    "    \n",
    "    CID relations are judged to be always true and no crowd\n",
    "    worker ever sees that relation.\n",
    "    \n",
    "    Each sentence-bound non-CID relation can create one or\n",
    "    multiple sentence-level work units, depending on how\n",
    "    many sentences in that abstract contain the relationship.\n",
    "    \n",
    "    Each non-sentence bound relation creates one abstract-level\n",
    "    work unit.\n",
    "    \n",
    "    Relation type classification is already done by the Paper\n",
    "    objects.\n",
    "    \"\"\"\n",
    "    cid_relations = dict()\n",
    "    easy_units = []\n",
    "    hard_units = []\n",
    "    for paper in dataset:\n",
    "        cid_relations[paper.pmid] = paper.poss_relations[\"CID\"]\n",
    "        \n",
    "        # create the sentence-level tasks:\n",
    "        for sentence in paper.sentences:\n",
    "            work = sentence.poss_relations[False] - paper.poss_relations[\"CID\"]\n",
    "            for rel_pair in work:\n",
    "                easy_units.append(process_sentence_task(sentence, rel_pair[0], rel_pair[1]))\n",
    "                \n",
    "        # create the abstract-level tasks:\n",
    "        for rel_pair in paper.poss_relations[\"not_sentence_bound\"]:\n",
    "            hard_units.append(process_abstract_task(paper, rel_pair[0], rel_pair[1]))\n",
    "            \n",
    "    # return two dataframes\n",
    "    easy_units = pd.concat(easy_units).reset_index(drop = True)\n",
    "    hard_units = pd.concat(hard_units).reset_index(drop = True)\n",
    "    \n",
    "    easy_units[\"uniq_id\"] = pd.Series([\"bcv_easy_{0}\".format(i) for i in range(len(easy_units))])\n",
    "    hard_units[\"uniq_id\"] = pd.Series([\"bcv_hard_{0}\".format(i) for i in range(len(hard_units))])\n",
    "    \n",
    "    return (cid_relations, easy_units, hard_units)"
   ]
  },
  {
   "cell_type": "markdown",
   "metadata": {},
   "source": [
    "---"
   ]
  },
  {
   "cell_type": "markdown",
   "metadata": {},
   "source": [
    "###Generate the work units and print to file:"
   ]
  },
  {
   "cell_type": "code",
   "execution_count": 14,
   "metadata": {
    "collapsed": false
   },
   "outputs": [],
   "source": [
    "cid_relations, easy_units, hard_units = create_work_units(testset)"
   ]
  },
  {
   "cell_type": "code",
   "execution_count": 15,
   "metadata": {
    "collapsed": false
   },
   "outputs": [
    {
     "data": {
      "text/plain": [
       "{1130930: set(),\n",
       " 1378968: {('D008094', 'D007674'), ('D008094', 'D007676')},\n",
       " 1835291: set(),\n",
       " 2096243: {('C017367', 'D019965'), ('C017367', 'D056784')},\n",
       " 2265898: set(),\n",
       " 2375138: set(),\n",
       " 2515254: set(),\n",
       " 3800626: {('D010423', 'D005355|D009135'), ('D010423', 'D009135')},\n",
       " 6666578: {('D010396', 'D001018')},\n",
       " 6692345: {('D005200', 'D001749')},\n",
       " 7449470: set(),\n",
       " 7582165: set(),\n",
       " 8590259: set(),\n",
       " 8595686: set(),\n",
       " 9522143: set(),\n",
       " 10520387: set(),\n",
       " 10835440: {('D009553', 'D007022')},\n",
       " 11135224: set(),\n",
       " 11569530: set(),\n",
       " 12041669: {('D010396', 'D000741')},\n",
       " 12198388: set(),\n",
       " 15602202: set(),\n",
       " 15632880: {('D013148', 'D006947'), ('D013148', 'D051437')},\n",
       " 16167916: set(),\n",
       " 16337777: set(),\n",
       " 17241784: {('D019821', 'D009135')},\n",
       " 17261653: {('D003000', 'D001919')},\n",
       " 17931375: set(),\n",
       " 18631865: set(),\n",
       " 19269743: {('D002211', 'D010146')}}"
      ]
     },
     "execution_count": 15,
     "metadata": {},
     "output_type": "execute_result"
    }
   ],
   "source": [
    "cid_relations"
   ]
  },
  {
   "cell_type": "markdown",
   "metadata": {},
   "source": [
    "---"
   ]
  },
  {
   "cell_type": "markdown",
   "metadata": {},
   "source": [
    "### Write the CID relations to a file for later aggregation:"
   ]
  },
  {
   "cell_type": "code",
   "execution_count": 16,
   "metadata": {
    "collapsed": false
   },
   "outputs": [],
   "source": [
    "with open(\"data/cid_relations.pickle\", \"wb\") as fout:\n",
    "    pickle.dump(cid_relations, fout)"
   ]
  },
  {
   "cell_type": "markdown",
   "metadata": {},
   "source": [
    "---"
   ]
  },
  {
   "cell_type": "code",
   "execution_count": 17,
   "metadata": {
    "collapsed": false
   },
   "outputs": [
    {
     "data": {
      "text/html": [
       "<div>\n",
       "<table border=\"1\" class=\"dataframe\">\n",
       "  <thead>\n",
       "    <tr style=\"text-align: right;\">\n",
       "      <th></th>\n",
       "      <th>chemical_id</th>\n",
       "      <th>chemical_name</th>\n",
       "      <th>disease_id</th>\n",
       "      <th>disease_name</th>\n",
       "      <th>form_sentence</th>\n",
       "      <th>pmid</th>\n",
       "      <th>uniq_id</th>\n",
       "    </tr>\n",
       "  </thead>\n",
       "  <tbody>\n",
       "    <tr>\n",
       "      <th>0</th>\n",
       "      <td>D016593</td>\n",
       "      <td>&lt;span class=\"chemical\"&gt;terfenadine&lt;/span&gt;</td>\n",
       "      <td>D016171</td>\n",
       "      <td>&lt;span class=\"disease\"&gt;TDP&lt;/span&gt;</td>\n",
       "      <td>&lt;span class=\"disease\"&gt;TDP&lt;/span&gt; is a side-eff...</td>\n",
       "      <td>11569530</td>\n",
       "      <td>bcv_easy_0</td>\n",
       "    </tr>\n",
       "    <tr>\n",
       "      <th>1</th>\n",
       "      <td>C010637</td>\n",
       "      <td>&lt;span class=\"chemical\"&gt;terodiline&lt;/span&gt;</td>\n",
       "      <td>D016171</td>\n",
       "      <td>&lt;span class=\"disease\"&gt;TDP&lt;/span&gt;</td>\n",
       "      <td>&lt;span class=\"disease\"&gt;TDP&lt;/span&gt; is a side-eff...</td>\n",
       "      <td>11569530</td>\n",
       "      <td>bcv_easy_1</td>\n",
       "    </tr>\n",
       "    <tr>\n",
       "      <th>2</th>\n",
       "      <td>D020117</td>\n",
       "      <td>&lt;span class=\"chemical\"&gt;cisapride&lt;/span&gt;</td>\n",
       "      <td>D016171</td>\n",
       "      <td>&lt;span class=\"disease\"&gt;TDP&lt;/span&gt;</td>\n",
       "      <td>Four compounds known to increase QT interval a...</td>\n",
       "      <td>11569530</td>\n",
       "      <td>bcv_easy_2</td>\n",
       "    </tr>\n",
       "    <tr>\n",
       "      <th>3</th>\n",
       "      <td>C063968</td>\n",
       "      <td>&lt;span class=\"chemical\"&gt;E4031&lt;/span&gt;</td>\n",
       "      <td>D016171</td>\n",
       "      <td>&lt;span class=\"disease\"&gt;TDP&lt;/span&gt;</td>\n",
       "      <td>Four compounds known to increase QT interval a...</td>\n",
       "      <td>11569530</td>\n",
       "      <td>bcv_easy_3</td>\n",
       "    </tr>\n",
       "    <tr>\n",
       "      <th>4</th>\n",
       "      <td>D016593</td>\n",
       "      <td>&lt;span class=\"chemical\"&gt;terfenadine&lt;/span&gt;</td>\n",
       "      <td>D016171</td>\n",
       "      <td>&lt;span class=\"disease\"&gt;TDP&lt;/span&gt;</td>\n",
       "      <td>Four compounds known to increase QT interval a...</td>\n",
       "      <td>11569530</td>\n",
       "      <td>bcv_easy_4</td>\n",
       "    </tr>\n",
       "  </tbody>\n",
       "</table>\n",
       "</div>"
      ],
      "text/plain": [
       "  chemical_id                              chemical_name disease_id  \\\n",
       "0     D016593  <span class=\"chemical\">terfenadine</span>    D016171   \n",
       "1     C010637   <span class=\"chemical\">terodiline</span>    D016171   \n",
       "2     D020117    <span class=\"chemical\">cisapride</span>    D016171   \n",
       "3     C063968        <span class=\"chemical\">E4031</span>    D016171   \n",
       "4     D016593  <span class=\"chemical\">terfenadine</span>    D016171   \n",
       "\n",
       "                       disease_name  \\\n",
       "0  <span class=\"disease\">TDP</span>   \n",
       "1  <span class=\"disease\">TDP</span>   \n",
       "2  <span class=\"disease\">TDP</span>   \n",
       "3  <span class=\"disease\">TDP</span>   \n",
       "4  <span class=\"disease\">TDP</span>   \n",
       "\n",
       "                                       form_sentence      pmid     uniq_id  \n",
       "0  <span class=\"disease\">TDP</span> is a side-eff...  11569530  bcv_easy_0  \n",
       "1  <span class=\"disease\">TDP</span> is a side-eff...  11569530  bcv_easy_1  \n",
       "2  Four compounds known to increase QT interval a...  11569530  bcv_easy_2  \n",
       "3  Four compounds known to increase QT interval a...  11569530  bcv_easy_3  \n",
       "4  Four compounds known to increase QT interval a...  11569530  bcv_easy_4  "
      ]
     },
     "execution_count": 17,
     "metadata": {},
     "output_type": "execute_result"
    }
   ],
   "source": [
    "easy_units.head()"
   ]
  },
  {
   "cell_type": "code",
   "execution_count": 18,
   "metadata": {
    "collapsed": false
   },
   "outputs": [
    {
     "data": {
      "text/html": [
       "<div>\n",
       "<table border=\"1\" class=\"dataframe\">\n",
       "  <thead>\n",
       "    <tr style=\"text-align: right;\">\n",
       "      <th></th>\n",
       "      <th>chemical_id</th>\n",
       "      <th>chemical_name</th>\n",
       "      <th>disease_id</th>\n",
       "      <th>disease_name</th>\n",
       "      <th>form_abstract</th>\n",
       "      <th>form_title</th>\n",
       "      <th>pmid</th>\n",
       "      <th>uniq_id</th>\n",
       "    </tr>\n",
       "  </thead>\n",
       "  <tbody>\n",
       "    <tr>\n",
       "      <th>0</th>\n",
       "      <td>C010637</td>\n",
       "      <td>&lt;span class=\"chemical\"&gt;terodiline&lt;/span&gt;</td>\n",
       "      <td>D017180</td>\n",
       "      <td>&lt;span class=\"disease\"&gt;ventricular tachycardia&lt;...</td>\n",
       "      <td>1. Torsades de pointes (TDP) is a potentially ...</td>\n",
       "      <td>Pharmacokinetic/pharmacodynamic assessment of ...</td>\n",
       "      <td>11569530</td>\n",
       "      <td>bcv_hard_0</td>\n",
       "    </tr>\n",
       "    <tr>\n",
       "      <th>1</th>\n",
       "      <td>D016593</td>\n",
       "      <td>&lt;span class=\"chemical\"&gt;terfenadine&lt;/span&gt;</td>\n",
       "      <td>D017180</td>\n",
       "      <td>&lt;span class=\"disease\"&gt;ventricular tachycardia&lt;...</td>\n",
       "      <td>1. Torsades de pointes (TDP) is a potentially ...</td>\n",
       "      <td>Pharmacokinetic/pharmacodynamic assessment of ...</td>\n",
       "      <td>11569530</td>\n",
       "      <td>bcv_hard_1</td>\n",
       "    </tr>\n",
       "    <tr>\n",
       "      <th>2</th>\n",
       "      <td>C063968</td>\n",
       "      <td>&lt;span class=\"chemical\"&gt;E4031&lt;/span&gt;</td>\n",
       "      <td>D017180</td>\n",
       "      <td>&lt;span class=\"disease\"&gt;ventricular tachycardia&lt;...</td>\n",
       "      <td>1. Torsades de pointes (TDP) is a potentially ...</td>\n",
       "      <td>Pharmacokinetic/pharmacodynamic assessment of ...</td>\n",
       "      <td>11569530</td>\n",
       "      <td>bcv_hard_2</td>\n",
       "    </tr>\n",
       "    <tr>\n",
       "      <th>3</th>\n",
       "      <td>D020117</td>\n",
       "      <td>&lt;span class=\"chemical\"&gt;cisapride&lt;/span&gt;</td>\n",
       "      <td>D017180</td>\n",
       "      <td>&lt;span class=\"disease\"&gt;ventricular tachycardia&lt;...</td>\n",
       "      <td>1. Torsades de pointes (TDP) is a potentially ...</td>\n",
       "      <td>Pharmacokinetic/pharmacodynamic assessment of ...</td>\n",
       "      <td>11569530</td>\n",
       "      <td>bcv_hard_3</td>\n",
       "    </tr>\n",
       "    <tr>\n",
       "      <th>4</th>\n",
       "      <td>D002945</td>\n",
       "      <td>&lt;span class=\"chemical\"&gt;cisplatin&lt;/span&gt;</td>\n",
       "      <td>D009503</td>\n",
       "      <td>&lt;span class=\"disease\"&gt;neutropenia&lt;/span&gt;</td>\n",
       "      <td>&lt;p&gt;BACKGROUND: &lt;span class=\"chemical\"&gt;Cisplati...</td>\n",
       "      <td>Paclitaxel, &lt;span class=\"chemical\"&gt;cisplatin&lt;/...</td>\n",
       "      <td>11135224</td>\n",
       "      <td>bcv_hard_4</td>\n",
       "    </tr>\n",
       "  </tbody>\n",
       "</table>\n",
       "</div>"
      ],
      "text/plain": [
       "  chemical_id                              chemical_name disease_id  \\\n",
       "0     C010637   <span class=\"chemical\">terodiline</span>    D017180   \n",
       "1     D016593  <span class=\"chemical\">terfenadine</span>    D017180   \n",
       "2     C063968        <span class=\"chemical\">E4031</span>    D017180   \n",
       "3     D020117    <span class=\"chemical\">cisapride</span>    D017180   \n",
       "4     D002945    <span class=\"chemical\">cisplatin</span>    D009503   \n",
       "\n",
       "                                        disease_name  \\\n",
       "0  <span class=\"disease\">ventricular tachycardia<...   \n",
       "1  <span class=\"disease\">ventricular tachycardia<...   \n",
       "2  <span class=\"disease\">ventricular tachycardia<...   \n",
       "3  <span class=\"disease\">ventricular tachycardia<...   \n",
       "4           <span class=\"disease\">neutropenia</span>   \n",
       "\n",
       "                                       form_abstract  \\\n",
       "0  1. Torsades de pointes (TDP) is a potentially ...   \n",
       "1  1. Torsades de pointes (TDP) is a potentially ...   \n",
       "2  1. Torsades de pointes (TDP) is a potentially ...   \n",
       "3  1. Torsades de pointes (TDP) is a potentially ...   \n",
       "4  <p>BACKGROUND: <span class=\"chemical\">Cisplati...   \n",
       "\n",
       "                                          form_title      pmid     uniq_id  \n",
       "0  Pharmacokinetic/pharmacodynamic assessment of ...  11569530  bcv_hard_0  \n",
       "1  Pharmacokinetic/pharmacodynamic assessment of ...  11569530  bcv_hard_1  \n",
       "2  Pharmacokinetic/pharmacodynamic assessment of ...  11569530  bcv_hard_2  \n",
       "3  Pharmacokinetic/pharmacodynamic assessment of ...  11569530  bcv_hard_3  \n",
       "4  Paclitaxel, <span class=\"chemical\">cisplatin</...  11135224  bcv_hard_4  "
      ]
     },
     "execution_count": 18,
     "metadata": {},
     "output_type": "execute_result"
    }
   ],
   "source": [
    "hard_units.head()"
   ]
  },
  {
   "cell_type": "markdown",
   "metadata": {},
   "source": [
    "---"
   ]
  },
  {
   "cell_type": "code",
   "execution_count": 19,
   "metadata": {
    "collapsed": false
   },
   "outputs": [
    {
     "data": {
      "text/plain": [
       "(142, 7)"
      ]
     },
     "execution_count": 19,
     "metadata": {},
     "output_type": "execute_result"
    }
   ],
   "source": [
    "easy_units.shape"
   ]
  },
  {
   "cell_type": "code",
   "execution_count": 20,
   "metadata": {
    "collapsed": false
   },
   "outputs": [
    {
     "data": {
      "text/plain": [
       "(89, 8)"
      ]
     },
     "execution_count": 20,
     "metadata": {},
     "output_type": "execute_result"
    }
   ],
   "source": [
    "hard_units.shape"
   ]
  },
  {
   "cell_type": "markdown",
   "metadata": {},
   "source": [
    "###Write work units to file"
   ]
  },
  {
   "cell_type": "code",
   "execution_count": 21,
   "metadata": {
    "collapsed": true
   },
   "outputs": [],
   "source": [
    "easy_units.to_csv(\"data/crowdflower/data_for_easy_job_.tsv\", sep = '\\t', index = False)"
   ]
  },
  {
   "cell_type": "code",
   "execution_count": 22,
   "metadata": {
    "collapsed": true
   },
   "outputs": [],
   "source": [
    "hard_units.to_csv(\"data/crowdflower/data_for_hard_job_.tsv\", sep = '\\t', index = False)"
   ]
  }
 ],
 "metadata": {
  "kernelspec": {
   "display_name": "Python 2",
   "language": "python",
   "name": "python2"
  },
  "language_info": {
   "codemirror_mode": {
    "name": "ipython",
    "version": 2
   },
   "file_extension": ".py",
   "mimetype": "text/x-python",
   "name": "python",
   "nbconvert_exporter": "python",
   "pygments_lexer": "ipython2",
   "version": "2.7.10"
  }
 },
 "nbformat": 4,
 "nbformat_minor": 0
}
