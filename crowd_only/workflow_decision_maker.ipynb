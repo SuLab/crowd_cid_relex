{
 "cells": [
  {
   "cell_type": "markdown",
   "metadata": {},
   "source": [
    "#BioCreative V Task 3b workflow decision maker"
   ]
  },
  {
   "cell_type": "markdown",
   "metadata": {},
   "source": [
    "Tong Shu Li<br>\n",
    "Created on 2015-07-02<br>\n",
    "Last updated 2015-07-06"
   ]
  },
  {
   "cell_type": "markdown",
   "metadata": {},
   "source": [
    "From our preliminary experiments with making the crowd perform the chemical-induced disease relation extraction task at the abstract level (jobs #746297, #746647, #748223), we saw that the crowd performed very well on relationships which existed within the same sentence, and performed poorly on relations which spanned the whole abstract.\n",
    "\n",
    "We will now divide the task up into two parts:\n",
    "1. The simpler task will only involve determining one relationship from one sentence in which both concepts cooccur.\n",
    "2. The harder task will involve determining one relationship from the entire abstract when the two concepts never cooccur in the same sentence."
   ]
  },
  {
   "cell_type": "code",
   "execution_count": 1,
   "metadata": {
    "collapsed": true
   },
   "outputs": [],
   "source": [
    "from collections import defaultdict\n",
    "import os\n",
    "import pandas as pd\n",
    "import pickle\n",
    "import random\n",
    "import sys"
   ]
  },
  {
   "cell_type": "code",
   "execution_count": 2,
   "metadata": {
    "collapsed": true
   },
   "outputs": [],
   "source": [
    "random.seed(\"2015-06-11:14:46\")"
   ]
  },
  {
   "cell_type": "code",
   "execution_count": 3,
   "metadata": {
    "collapsed": true
   },
   "outputs": [],
   "source": [
    "sys.path.append(\"/home/toby/Code/util/\")\n",
    "from web_util import add_simple_tag"
   ]
  },
  {
   "cell_type": "code",
   "execution_count": 4,
   "metadata": {
    "collapsed": false
   },
   "outputs": [],
   "source": [
    "from src.data_model import parse_input\n",
    "from src.data_model import Relation"
   ]
  },
  {
   "cell_type": "markdown",
   "metadata": {},
   "source": [
    "---"
   ]
  },
  {
   "cell_type": "markdown",
   "metadata": {},
   "source": [
    "###Read the gold standard training data:"
   ]
  },
  {
   "cell_type": "code",
   "execution_count": 5,
   "metadata": {
    "collapsed": false
   },
   "outputs": [],
   "source": [
    "if os.path.exists(\"data/training/parsed_training_set.pickle\"):\n",
    "    print \"Reading cached version of training set\"\n",
    "    with open(\"data/training/parsed_training_set.pickle\", \"rb\") as fin:\n",
    "        training_data = pickle.load(fin)\n",
    "else:\n",
    "    training_data = parse_input(\"data/training\", \"CDR_TrainingSet.txt\")\n",
    "    with open(\"data/training/parsed_training_set.pickle\", \"wb\") as fout:\n",
    "        pickle.dump(training_data, fout)"
   ]
  },
  {
   "cell_type": "code",
   "execution_count": 6,
   "metadata": {
    "collapsed": false
   },
   "outputs": [
    {
     "data": {
      "text/plain": [
       "500"
      ]
     },
     "execution_count": 6,
     "metadata": {},
     "output_type": "execute_result"
    }
   ],
   "source": [
    "len(training_data)"
   ]
  },
  {
   "cell_type": "markdown",
   "metadata": {},
   "source": [
    "###Check for errors:"
   ]
  },
  {
   "cell_type": "markdown",
   "metadata": {},
   "source": [
    "The Paper objects already checked that each relation only joins two MeSH ids during the parsing process."
   ]
  },
  {
   "cell_type": "markdown",
   "metadata": {},
   "source": [
    "The Paper objects are inspected to ensure that the annotations match the text positions during loading."
   ]
  },
  {
   "cell_type": "markdown",
   "metadata": {},
   "source": [
    "---"
   ]
  },
  {
   "cell_type": "markdown",
   "metadata": {},
   "source": [
    "### Choose a random sample of papers as the testset:"
   ]
  },
  {
   "cell_type": "code",
   "execution_count": 7,
   "metadata": {
    "collapsed": false
   },
   "outputs": [
    {
     "name": "stdout",
     "output_type": "stream",
     "text": [
      "11569530\n",
      "11135224\n",
      "1378968\n",
      "19269743\n",
      "8595686\n",
      "16337777\n",
      "10520387\n",
      "17931375\n",
      "3800626\n",
      "9522143\n",
      "17241784\n",
      "2265898\n",
      "6666578\n",
      "15632880\n",
      "8590259\n",
      "12198388\n",
      "2515254\n",
      "1835291\n",
      "12041669\n",
      "7582165\n",
      "2096243\n",
      "7449470\n",
      "2375138\n",
      "6692345\n",
      "17261653\n",
      "18631865\n",
      "1130930\n",
      "10835440\n",
      "15602202\n",
      "16167916\n"
     ]
    }
   ],
   "source": [
    "TESTSET_SIZE = 30\n",
    "testset = random.sample(training_data, TESTSET_SIZE)\n",
    "\n",
    "for paper in testset:\n",
    "    print paper.pmid"
   ]
  },
  {
   "cell_type": "markdown",
   "metadata": {},
   "source": [
    "---"
   ]
  },
  {
   "cell_type": "markdown",
   "metadata": {},
   "source": [
    "###Generate the work units:"
   ]
  },
  {
   "cell_type": "code",
   "execution_count": 8,
   "metadata": {
    "collapsed": false
   },
   "outputs": [],
   "source": [
    "def is_CID_relation(sentence, drug, disease):\n",
    "    \"\"\"\n",
    "    Given a Sentence object, and two Annotation\n",
    "    objects representing the drug and disease,\n",
    "    decides whether the pair follows the 'chemical-induce disease'\n",
    "    relationship structure.\n",
    "    \"\"\"\n",
    "    return (drug.stop < disease.start and\n",
    "            disease.start - drug.stop <= 15 and\n",
    "        \"induce\" in sentence.text[drug.stop - sentence.start :\n",
    "                                  disease.start - sentence.start].lower())\n",
    "\n",
    "def check_CID_structure(sentence, drug_id, disease_id):\n",
    "    \"\"\"\n",
    "    Use first instance of drug, last instance of disease.\n",
    "    \"\"\"\n",
    "    for annotation in sentence.annotations:\n",
    "        if annotation.uid == drug_id:\n",
    "            drug_obj = annotation\n",
    "            break\n",
    "            \n",
    "    for annotation in reversed(sentence.annotations):\n",
    "        if annotation.uid == disease_id:\n",
    "            disease_obj = annotation\n",
    "            break\n",
    "            \n",
    "    return is_CID_relation(sentence, drug_obj, disease_obj)"
   ]
  },
  {
   "cell_type": "markdown",
   "metadata": {},
   "source": [
    "###Highlighting functions:"
   ]
  },
  {
   "cell_type": "code",
   "execution_count": 9,
   "metadata": {
    "collapsed": true
   },
   "outputs": [],
   "source": [
    "def highlight_concepts(text, breaks):\n",
    "    breaks = sorted(breaks, key = lambda x: x[0])\n",
    "    \n",
    "    final = []\n",
    "    for i in range(len(breaks) - 1):\n",
    "        s = text[breaks[i][0] : breaks[i+1][0]]\n",
    "        if breaks[i][1] != \"n\":\n",
    "            s = add_simple_tag(\"span\", breaks[i][1], s)\n",
    "            \n",
    "        final.append(s)\n",
    "        \n",
    "    return \"\".join(final)"
   ]
  },
  {
   "cell_type": "code",
   "execution_count": 10,
   "metadata": {
    "collapsed": true
   },
   "outputs": [],
   "source": [
    "def highlight_sentence(text, offset, uniq_spans):\n",
    "    \"\"\"\n",
    "    Highlights a sentence.\n",
    "    \"\"\"\n",
    "    # index of break, type of break (n = nothing)\n",
    "    breaks = [(0, \"n\"), (len(text), \"n\")]\n",
    "    \n",
    "    for span in uniq_spans:\n",
    "        breaks.append((span.start - offset, span.stype))\n",
    "        breaks.append((span.stop - offset, \"n\"))\n",
    "            \n",
    "    return highlight_concepts(text, breaks)"
   ]
  },
  {
   "cell_type": "code",
   "execution_count": 11,
   "metadata": {
    "collapsed": true
   },
   "outputs": [],
   "source": [
    "def highlight_title(title, uniq_spans):\n",
    "    \"\"\"\n",
    "    Highlights the title.\n",
    "    \"\"\"\n",
    "    # index of break, type of break (n = nothing)\n",
    "    breaks = [(0, \"n\"), (len(title), \"n\")]\n",
    "    \n",
    "    for span in uniq_spans:\n",
    "        if span.start < len(title):\n",
    "            breaks.append((span.start, span.stype))\n",
    "            breaks.append((span.stop, \"n\"))\n",
    "            \n",
    "    return highlight_concepts(title, breaks)"
   ]
  },
  {
   "cell_type": "code",
   "execution_count": 12,
   "metadata": {
    "collapsed": true
   },
   "outputs": [],
   "source": [
    "def highlight_abstract(title_length, abstract, uniq_spans):\n",
    "    # we need to subtract out the length of the title + 1\n",
    "    breaks = [(0, \"n\"), (len(abstract), \"n\")]\n",
    "    \n",
    "    for span in uniq_spans:\n",
    "        if span.start > title_length:\n",
    "            breaks.append((span.start - title_length - 1, span.stype))\n",
    "            breaks.append((span.stop - title_length - 1, \"n\"))\n",
    "            \n",
    "    return highlight_concepts(abstract, breaks)"
   ]
  },
  {
   "cell_type": "markdown",
   "metadata": {},
   "source": [
    "---"
   ]
  },
  {
   "cell_type": "code",
   "execution_count": 13,
   "metadata": {
    "collapsed": true
   },
   "outputs": [],
   "source": [
    "def process_sentence_task(sentence, drug_id, disease_id):\n",
    "    \"\"\"\n",
    "    Makes one sentence level chemical-disease relationship\n",
    "    verification task.\n",
    "    \"\"\"\n",
    "    spans = []\n",
    "    name = defaultdict(set)\n",
    "    for annotation in sentence.annotations:\n",
    "        if annotation.uid in [drug_id, disease_id]:\n",
    "            spans.append(annotation)\n",
    "            name[annotation.stype].add(annotation.text)\n",
    "\n",
    "    data = dict()\n",
    "    data[\"pmid\"] = [sentence.pmid]\n",
    "    data[\"form_sentence\"] = [highlight_sentence(sentence.text, sentence.start, spans)]\n",
    "    data[\"drug_id\"] = [drug_id]\n",
    "    data[\"disease_id\"] = [disease_id]\n",
    "    data[\"drug_name\"] = [add_simple_tag(\"span\", \"chemical\", \"/\".join(name[\"chemical\"]))]\n",
    "    data[\"disease_name\"] = [add_simple_tag(\"span\", \"disease\", \"/\".join(name[\"disease\"]))]\n",
    "    \n",
    "    return pd.DataFrame(data)"
   ]
  },
  {
   "cell_type": "code",
   "execution_count": 14,
   "metadata": {
    "collapsed": true
   },
   "outputs": [],
   "source": [
    "def process_abstract_task(paper, drug_id, disease_id):\n",
    "    \"\"\"\n",
    "    Makes one abstract level chemical-disease relationship\n",
    "    verification task.\n",
    "    \"\"\"\n",
    "    spans = []\n",
    "    name = defaultdict(set)\n",
    "    for annotation in paper.annotations:\n",
    "        if annotation.uid in [drug_id, disease_id]:\n",
    "            spans.append(annotation)\n",
    "            name[annotation.stype].add(annotation.text)\n",
    "            \n",
    "    data = dict()\n",
    "    data[\"pmid\"] = [paper.pmid]\n",
    "    data[\"form_title\"] = [highlight_title(paper.title, spans)]\n",
    "    data[\"form_abstract\"] = [highlight_abstract(len(paper.title), paper.abstract, spans)]\n",
    "    data[\"drug_id\"] = [drug_id]\n",
    "    data[\"disease_id\"] = [disease_id]    \n",
    "    data[\"drug_name\"] = [add_simple_tag(\"span\", \"chemical\", \"/\".join(name[\"chemical\"]))]\n",
    "    data[\"disease_name\"] = [add_simple_tag(\"span\", \"disease\", \"/\".join(name[\"disease\"]))]\n",
    "            \n",
    "    return pd.DataFrame(data)"
   ]
  },
  {
   "cell_type": "code",
   "execution_count": 15,
   "metadata": {
    "collapsed": true
   },
   "outputs": [],
   "source": [
    "def create_work_units(dataset):\n",
    "    \"\"\"\n",
    "    Makes CrowdFlower work units.\n",
    "    \"\"\"\n",
    "    easy_units = []\n",
    "    hard_units = []\n",
    "    for paper in dataset:\n",
    "        for rel_pair in paper.get_work_units():\n",
    "            cooccur = False\n",
    "            for sentence in paper.sentences:\n",
    "                found = [False, False]\n",
    "                for annotation in sentence.annotations:\n",
    "                    for i, concept_id in enumerate(rel_pair):\n",
    "                        if annotation.uid == concept_id:\n",
    "                            found[i] = True\n",
    "                    \n",
    "                if found[0] and found[1]:\n",
    "                    cooccur = True\n",
    "                    if check_CID_structure(sentence, rel_pair[0], rel_pair[1]):\n",
    "                        # assume that this is true\n",
    "                        print \"{0}|{1}|{2}\".format(paper.pmid, rel_pair[0], rel_pair[1])\n",
    "                    else:\n",
    "                        # make easy work unit\n",
    "                        easy_units.append(process_sentence_task(sentence, rel_pair[0], rel_pair[1]))\n",
    "                        \n",
    "            if not cooccur:\n",
    "                hard_units.append(process_abstract_task(paper, rel_pair[0], rel_pair[1]))\n",
    "                \n",
    "    # return two dataframes\n",
    "    easy_units = pd.concat(easy_units).reset_index(drop = True)\n",
    "    hard_units = pd.concat(hard_units).reset_index(drop = True)\n",
    "    \n",
    "    easy_units[\"uniq_id\"] = pd.Series([\"bcv_easy_{0}\".format(i) for i in range(len(easy_units))])\n",
    "    hard_units[\"uniq_id\"] = pd.Series([\"bcv_hard_{0}\".format(i) for i in range(len(hard_units))])\n",
    "    \n",
    "    return (easy_units, hard_units)"
   ]
  },
  {
   "cell_type": "markdown",
   "metadata": {},
   "source": [
    "###Generate the work units and print to file:"
   ]
  },
  {
   "cell_type": "code",
   "execution_count": 16,
   "metadata": {
    "collapsed": false
   },
   "outputs": [
    {
     "name": "stdout",
     "output_type": "stream",
     "text": [
      "1378968|D008094|D007674\n",
      "1378968|D008094|D007674\n",
      "3800626|D010423|D009135\n",
      "17241784|D019821|D009135\n",
      "15632880|D013148|D006947\n",
      "12041669|D010396|D000741\n",
      "2096243|C017367|D056784\n",
      "2096243|C017367|D056784\n",
      "17261653|D003000|D001919\n"
     ]
    }
   ],
   "source": [
    "easy_units, hard_units = create_work_units(testset)"
   ]
  },
  {
   "cell_type": "code",
   "execution_count": 17,
   "metadata": {
    "collapsed": false
   },
   "outputs": [
    {
     "data": {
      "text/html": [
       "<div>\n",
       "<table border=\"1\" class=\"dataframe\">\n",
       "  <thead>\n",
       "    <tr style=\"text-align: right;\">\n",
       "      <th></th>\n",
       "      <th>disease_id</th>\n",
       "      <th>disease_name</th>\n",
       "      <th>drug_id</th>\n",
       "      <th>drug_name</th>\n",
       "      <th>form_sentence</th>\n",
       "      <th>pmid</th>\n",
       "      <th>uniq_id</th>\n",
       "    </tr>\n",
       "  </thead>\n",
       "  <tbody>\n",
       "    <tr>\n",
       "      <th>0</th>\n",
       "      <td>D016171</td>\n",
       "      <td>&lt;span class=\"disease\"&gt;TDP&lt;/span&gt;</td>\n",
       "      <td>D020117</td>\n",
       "      <td>&lt;span class=\"chemical\"&gt;cisapride&lt;/span&gt;</td>\n",
       "      <td>Four compounds known to increase QT interval a...</td>\n",
       "      <td>11569530</td>\n",
       "      <td>bcv_easy_0</td>\n",
       "    </tr>\n",
       "    <tr>\n",
       "      <th>1</th>\n",
       "      <td>D016171</td>\n",
       "      <td>&lt;span class=\"disease\"&gt;TDP&lt;/span&gt;</td>\n",
       "      <td>D020117</td>\n",
       "      <td>&lt;span class=\"chemical\"&gt;cisapride&lt;/span&gt;</td>\n",
       "      <td>For compounds that have shown &lt;span class=\"dis...</td>\n",
       "      <td>11569530</td>\n",
       "      <td>bcv_easy_1</td>\n",
       "    </tr>\n",
       "    <tr>\n",
       "      <th>2</th>\n",
       "      <td>D016171</td>\n",
       "      <td>&lt;span class=\"disease\"&gt;TDP&lt;/span&gt;</td>\n",
       "      <td>C063968</td>\n",
       "      <td>&lt;span class=\"chemical\"&gt;E4031&lt;/span&gt;</td>\n",
       "      <td>Four compounds known to increase QT interval a...</td>\n",
       "      <td>11569530</td>\n",
       "      <td>bcv_easy_2</td>\n",
       "    </tr>\n",
       "    <tr>\n",
       "      <th>3</th>\n",
       "      <td>D016171</td>\n",
       "      <td>&lt;span class=\"disease\"&gt;TDP&lt;/span&gt;</td>\n",
       "      <td>D016593</td>\n",
       "      <td>&lt;span class=\"chemical\"&gt;terfenadine&lt;/span&gt;</td>\n",
       "      <td>&lt;span class=\"disease\"&gt;TDP&lt;/span&gt; is a side-eff...</td>\n",
       "      <td>11569530</td>\n",
       "      <td>bcv_easy_3</td>\n",
       "    </tr>\n",
       "    <tr>\n",
       "      <th>4</th>\n",
       "      <td>D016171</td>\n",
       "      <td>&lt;span class=\"disease\"&gt;TDP&lt;/span&gt;</td>\n",
       "      <td>D016593</td>\n",
       "      <td>&lt;span class=\"chemical\"&gt;terfenadine&lt;/span&gt;</td>\n",
       "      <td>Four compounds known to increase QT interval a...</td>\n",
       "      <td>11569530</td>\n",
       "      <td>bcv_easy_4</td>\n",
       "    </tr>\n",
       "  </tbody>\n",
       "</table>\n",
       "</div>"
      ],
      "text/plain": [
       "  disease_id                      disease_name  drug_id  \\\n",
       "0    D016171  <span class=\"disease\">TDP</span>  D020117   \n",
       "1    D016171  <span class=\"disease\">TDP</span>  D020117   \n",
       "2    D016171  <span class=\"disease\">TDP</span>  C063968   \n",
       "3    D016171  <span class=\"disease\">TDP</span>  D016593   \n",
       "4    D016171  <span class=\"disease\">TDP</span>  D016593   \n",
       "\n",
       "                                   drug_name  \\\n",
       "0    <span class=\"chemical\">cisapride</span>   \n",
       "1    <span class=\"chemical\">cisapride</span>   \n",
       "2        <span class=\"chemical\">E4031</span>   \n",
       "3  <span class=\"chemical\">terfenadine</span>   \n",
       "4  <span class=\"chemical\">terfenadine</span>   \n",
       "\n",
       "                                       form_sentence      pmid     uniq_id  \n",
       "0  Four compounds known to increase QT interval a...  11569530  bcv_easy_0  \n",
       "1  For compounds that have shown <span class=\"dis...  11569530  bcv_easy_1  \n",
       "2  Four compounds known to increase QT interval a...  11569530  bcv_easy_2  \n",
       "3  <span class=\"disease\">TDP</span> is a side-eff...  11569530  bcv_easy_3  \n",
       "4  Four compounds known to increase QT interval a...  11569530  bcv_easy_4  "
      ]
     },
     "execution_count": 17,
     "metadata": {},
     "output_type": "execute_result"
    }
   ],
   "source": [
    "easy_units.head()"
   ]
  },
  {
   "cell_type": "code",
   "execution_count": 18,
   "metadata": {
    "collapsed": false
   },
   "outputs": [
    {
     "data": {
      "text/html": [
       "<div>\n",
       "<table border=\"1\" class=\"dataframe\">\n",
       "  <thead>\n",
       "    <tr style=\"text-align: right;\">\n",
       "      <th></th>\n",
       "      <th>disease_id</th>\n",
       "      <th>disease_name</th>\n",
       "      <th>drug_id</th>\n",
       "      <th>drug_name</th>\n",
       "      <th>form_abstract</th>\n",
       "      <th>form_title</th>\n",
       "      <th>pmid</th>\n",
       "      <th>uniq_id</th>\n",
       "    </tr>\n",
       "  </thead>\n",
       "  <tbody>\n",
       "    <tr>\n",
       "      <th>0</th>\n",
       "      <td>D017180</td>\n",
       "      <td>&lt;span class=\"disease\"&gt;ventricular tachycardia&lt;...</td>\n",
       "      <td>D020117</td>\n",
       "      <td>&lt;span class=\"chemical\"&gt;cisapride&lt;/span&gt;</td>\n",
       "      <td>1. Torsades de pointes (TDP) is a potentially ...</td>\n",
       "      <td>Pharmacokinetic/pharmacodynamic assessment of ...</td>\n",
       "      <td>11569530</td>\n",
       "      <td>bcv_hard_0</td>\n",
       "    </tr>\n",
       "    <tr>\n",
       "      <th>1</th>\n",
       "      <td>D017180</td>\n",
       "      <td>&lt;span class=\"disease\"&gt;ventricular tachycardia&lt;...</td>\n",
       "      <td>C063968</td>\n",
       "      <td>&lt;span class=\"chemical\"&gt;E4031&lt;/span&gt;</td>\n",
       "      <td>1. Torsades de pointes (TDP) is a potentially ...</td>\n",
       "      <td>Pharmacokinetic/pharmacodynamic assessment of ...</td>\n",
       "      <td>11569530</td>\n",
       "      <td>bcv_hard_1</td>\n",
       "    </tr>\n",
       "    <tr>\n",
       "      <th>2</th>\n",
       "      <td>D017180</td>\n",
       "      <td>&lt;span class=\"disease\"&gt;ventricular tachycardia&lt;...</td>\n",
       "      <td>D016593</td>\n",
       "      <td>&lt;span class=\"chemical\"&gt;terfenadine&lt;/span&gt;</td>\n",
       "      <td>1. Torsades de pointes (TDP) is a potentially ...</td>\n",
       "      <td>Pharmacokinetic/pharmacodynamic assessment of ...</td>\n",
       "      <td>11569530</td>\n",
       "      <td>bcv_hard_2</td>\n",
       "    </tr>\n",
       "    <tr>\n",
       "      <th>3</th>\n",
       "      <td>D017180</td>\n",
       "      <td>&lt;span class=\"disease\"&gt;ventricular tachycardia&lt;...</td>\n",
       "      <td>C010637</td>\n",
       "      <td>&lt;span class=\"chemical\"&gt;terodiline&lt;/span&gt;</td>\n",
       "      <td>1. Torsades de pointes (TDP) is a potentially ...</td>\n",
       "      <td>Pharmacokinetic/pharmacodynamic assessment of ...</td>\n",
       "      <td>11569530</td>\n",
       "      <td>bcv_hard_3</td>\n",
       "    </tr>\n",
       "    <tr>\n",
       "      <th>4</th>\n",
       "      <td>D013921</td>\n",
       "      <td>&lt;span class=\"disease\"&gt;thrombocytopenia&lt;/span&gt;</td>\n",
       "      <td>D017239</td>\n",
       "      <td>&lt;span class=\"chemical\"&gt;Paclitaxel/paclitaxel&lt;/...</td>\n",
       "      <td>BACKGROUND: Cisplatin-based chemotherapy combi...</td>\n",
       "      <td>&lt;span class=\"chemical\"&gt;Paclitaxel&lt;/span&gt;, cisp...</td>\n",
       "      <td>11135224</td>\n",
       "      <td>bcv_hard_4</td>\n",
       "    </tr>\n",
       "  </tbody>\n",
       "</table>\n",
       "</div>"
      ],
      "text/plain": [
       "  disease_id                                       disease_name  drug_id  \\\n",
       "0    D017180  <span class=\"disease\">ventricular tachycardia<...  D020117   \n",
       "1    D017180  <span class=\"disease\">ventricular tachycardia<...  C063968   \n",
       "2    D017180  <span class=\"disease\">ventricular tachycardia<...  D016593   \n",
       "3    D017180  <span class=\"disease\">ventricular tachycardia<...  C010637   \n",
       "4    D013921      <span class=\"disease\">thrombocytopenia</span>  D017239   \n",
       "\n",
       "                                           drug_name  \\\n",
       "0            <span class=\"chemical\">cisapride</span>   \n",
       "1                <span class=\"chemical\">E4031</span>   \n",
       "2          <span class=\"chemical\">terfenadine</span>   \n",
       "3           <span class=\"chemical\">terodiline</span>   \n",
       "4  <span class=\"chemical\">Paclitaxel/paclitaxel</...   \n",
       "\n",
       "                                       form_abstract  \\\n",
       "0  1. Torsades de pointes (TDP) is a potentially ...   \n",
       "1  1. Torsades de pointes (TDP) is a potentially ...   \n",
       "2  1. Torsades de pointes (TDP) is a potentially ...   \n",
       "3  1. Torsades de pointes (TDP) is a potentially ...   \n",
       "4  BACKGROUND: Cisplatin-based chemotherapy combi...   \n",
       "\n",
       "                                          form_title      pmid     uniq_id  \n",
       "0  Pharmacokinetic/pharmacodynamic assessment of ...  11569530  bcv_hard_0  \n",
       "1  Pharmacokinetic/pharmacodynamic assessment of ...  11569530  bcv_hard_1  \n",
       "2  Pharmacokinetic/pharmacodynamic assessment of ...  11569530  bcv_hard_2  \n",
       "3  Pharmacokinetic/pharmacodynamic assessment of ...  11569530  bcv_hard_3  \n",
       "4  <span class=\"chemical\">Paclitaxel</span>, cisp...  11135224  bcv_hard_4  "
      ]
     },
     "execution_count": 18,
     "metadata": {},
     "output_type": "execute_result"
    }
   ],
   "source": [
    "hard_units.head()"
   ]
  },
  {
   "cell_type": "code",
   "execution_count": 19,
   "metadata": {
    "collapsed": true
   },
   "outputs": [],
   "source": [
    "easy_units.to_csv(\"data/crowdflower/data_for_easy_job_.tsv\", sep = '\\t', index = False)"
   ]
  },
  {
   "cell_type": "code",
   "execution_count": 20,
   "metadata": {
    "collapsed": true
   },
   "outputs": [],
   "source": [
    "hard_units.to_csv(\"data/crowdflower/data_for_hard_job_.tsv\", sep = '\\t', index = False)"
   ]
  }
 ],
 "metadata": {
  "kernelspec": {
   "display_name": "Python 2",
   "language": "python",
   "name": "python2"
  },
  "language_info": {
   "codemirror_mode": {
    "name": "ipython",
    "version": 2
   },
   "file_extension": ".py",
   "mimetype": "text/x-python",
   "name": "python",
   "nbconvert_exporter": "python",
   "pygments_lexer": "ipython2",
   "version": "2.7.10"
  }
 },
 "nbformat": 4,
 "nbformat_minor": 0
}
