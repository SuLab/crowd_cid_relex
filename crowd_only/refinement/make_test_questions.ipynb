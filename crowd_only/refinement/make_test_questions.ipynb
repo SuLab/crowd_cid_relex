{
 "cells": [
  {
   "cell_type": "markdown",
   "metadata": {},
   "source": [
    "# Make test questions for CrowdFlower refinement\n",
    "\n",
    "Tong Shu Li<br>\n",
    "Created on: 2015-12-21<br>\n",
    "Last updated: 2015-12-21\n",
    "\n",
    "Now we will make test questions for CrowdFlower. Since our task interface has changed, we will generate the test questions from scratch."
   ]
  },
  {
   "cell_type": "code",
   "execution_count": 1,
   "metadata": {
    "collapsed": true
   },
   "outputs": [],
   "source": [
    "from collections import defaultdict\n",
    "import numpy as np\n",
    "import os\n",
    "import pandas as pd\n",
    "import sys"
   ]
  },
  {
   "cell_type": "code",
   "execution_count": 2,
   "metadata": {
    "collapsed": true
   },
   "outputs": [],
   "source": [
    "sys.path.append(\"..\")"
   ]
  },
  {
   "cell_type": "code",
   "execution_count": 3,
   "metadata": {
    "collapsed": true
   },
   "outputs": [],
   "source": [
    "from src.data_model import Relation\n",
    "from src.data_model import parse_file\n",
    "from src.make_cf_work_units import create_work_units"
   ]
  },
  {
   "cell_type": "code",
   "execution_count": 4,
   "metadata": {
    "collapsed": false
   },
   "outputs": [],
   "source": [
    "rand_state = np.random.RandomState(seed = 4289623645)"
   ]
  },
  {
   "cell_type": "markdown",
   "metadata": {},
   "source": [
    "---"
   ]
  },
  {
   "cell_type": "markdown",
   "metadata": {},
   "source": [
    "### Read the 600 abstracts we will use for test questions"
   ]
  },
  {
   "cell_type": "code",
   "execution_count": 5,
   "metadata": {
    "collapsed": false
   },
   "outputs": [],
   "source": [
    "save_loc = os.path.join(\"..\", \"data\", \"refinement\", \"CDR_train_for_test_ques.pickle\")\n",
    "train_tq = parse_file(save_loc, loc = \"../data/refinement\",\n",
    "                     fname = \"CDR_train_for_test_ques.txt\",\n",
    "                     fix_acronyms = False)"
   ]
  },
  {
   "cell_type": "code",
   "execution_count": 6,
   "metadata": {
    "collapsed": true
   },
   "outputs": [],
   "source": [
    "save_loc = os.path.join(\"..\", \"data\", \"refinement\", \"CDR_dev_for_test_ques.pickle\")\n",
    "dev_tq = parse_file(save_loc, loc = \"../data/refinement\",\n",
    "                     fname = \"CDR_dev_for_test_ques.txt\",\n",
    "                     fix_acronyms = False)"
   ]
  },
  {
   "cell_type": "code",
   "execution_count": 7,
   "metadata": {
    "collapsed": true
   },
   "outputs": [],
   "source": [
    "tq_data = train_tq.copy()\n",
    "tq_data.update(dev_tq)"
   ]
  },
  {
   "cell_type": "code",
   "execution_count": 8,
   "metadata": {
    "collapsed": false
   },
   "outputs": [
    {
     "data": {
      "text/plain": [
       "600"
      ]
     },
     "execution_count": 8,
     "metadata": {},
     "output_type": "execute_result"
    }
   ],
   "source": [
    "len(tq_data)"
   ]
  },
  {
   "cell_type": "markdown",
   "metadata": {},
   "source": [
    "---"
   ]
  },
  {
   "cell_type": "markdown",
   "metadata": {},
   "source": [
    "### Generate work units"
   ]
  },
  {
   "cell_type": "code",
   "execution_count": 9,
   "metadata": {
    "collapsed": true
   },
   "outputs": [],
   "source": [
    "cid, work_units = create_work_units(tq_data, \"refine_test_ques_all\")"
   ]
  },
  {
   "cell_type": "code",
   "execution_count": 10,
   "metadata": {
    "collapsed": false
   },
   "outputs": [
    {
     "data": {
      "text/plain": [
       "6851"
      ]
     },
     "execution_count": 10,
     "metadata": {},
     "output_type": "execute_result"
    }
   ],
   "source": [
    "len(work_units)"
   ]
  },
  {
   "cell_type": "code",
   "execution_count": 11,
   "metadata": {
    "collapsed": false
   },
   "outputs": [
    {
     "data": {
      "text/html": [
       "<div>\n",
       "<table border=\"1\" class=\"dataframe\">\n",
       "  <thead>\n",
       "    <tr style=\"text-align: right;\">\n",
       "      <th></th>\n",
       "      <th>chemical_id</th>\n",
       "      <th>chemical_name</th>\n",
       "      <th>disease_id</th>\n",
       "      <th>disease_name</th>\n",
       "      <th>form_body</th>\n",
       "      <th>form_title</th>\n",
       "      <th>pmid</th>\n",
       "      <th>rel_origin</th>\n",
       "      <th>uniq_id</th>\n",
       "    </tr>\n",
       "  </thead>\n",
       "  <tbody>\n",
       "    <tr>\n",
       "      <th>0</th>\n",
       "      <td>MESH:D020117</td>\n",
       "      <td>&lt;span class=\"chemical\"&gt;cisapride/Cisapride&lt;/span&gt;</td>\n",
       "      <td>MESH:D043183</td>\n",
       "      <td>&lt;span class=\"disease\"&gt;IBS/irritable bowel synd...</td>\n",
       "      <td>&lt;p&gt;BACKGROUND: &lt;span class=\"disease\"&gt;Irritable...</td>\n",
       "      <td>&lt;span class=\"sentence\"&gt;Effects of &lt;span class=...</td>\n",
       "      <td>9669632</td>\n",
       "      <td>sent</td>\n",
       "      <td>refine_test_ques_all_0</td>\n",
       "    </tr>\n",
       "    <tr>\n",
       "      <th>1</th>\n",
       "      <td>MESH:D020117</td>\n",
       "      <td>&lt;span class=\"chemical\"&gt;cisapride/Cisapride&lt;/span&gt;</td>\n",
       "      <td>MESH:D003967</td>\n",
       "      <td>&lt;span class=\"disease\"&gt;diarrhoea/Diarrhoea&lt;/span&gt;</td>\n",
       "      <td>&lt;p&gt;BACKGROUND: Irritable bowel syndrome is a c...</td>\n",
       "      <td>Effects of &lt;span class=\"chemical\"&gt;cisapride&lt;/s...</td>\n",
       "      <td>9669632</td>\n",
       "      <td>sent</td>\n",
       "      <td>refine_test_ques_all_1</td>\n",
       "    </tr>\n",
       "  </tbody>\n",
       "</table>\n",
       "</div>"
      ],
      "text/plain": [
       "    chemical_id                                      chemical_name  \\\n",
       "0  MESH:D020117  <span class=\"chemical\">cisapride/Cisapride</span>   \n",
       "1  MESH:D020117  <span class=\"chemical\">cisapride/Cisapride</span>   \n",
       "\n",
       "     disease_id                                       disease_name  \\\n",
       "0  MESH:D043183  <span class=\"disease\">IBS/irritable bowel synd...   \n",
       "1  MESH:D003967   <span class=\"disease\">diarrhoea/Diarrhoea</span>   \n",
       "\n",
       "                                           form_body  \\\n",
       "0  <p>BACKGROUND: <span class=\"disease\">Irritable...   \n",
       "1  <p>BACKGROUND: Irritable bowel syndrome is a c...   \n",
       "\n",
       "                                          form_title     pmid rel_origin  \\\n",
       "0  <span class=\"sentence\">Effects of <span class=...  9669632       sent   \n",
       "1  Effects of <span class=\"chemical\">cisapride</s...  9669632       sent   \n",
       "\n",
       "                  uniq_id  \n",
       "0  refine_test_ques_all_0  \n",
       "1  refine_test_ques_all_1  "
      ]
     },
     "execution_count": 11,
     "metadata": {},
     "output_type": "execute_result"
    }
   ],
   "source": [
    "work_units.head(2)"
   ]
  },
  {
   "cell_type": "markdown",
   "metadata": {},
   "source": [
    "---"
   ]
  },
  {
   "cell_type": "markdown",
   "metadata": {},
   "source": [
    "### Check against gold standard to see if each possible relation is true"
   ]
  },
  {
   "cell_type": "code",
   "execution_count": 12,
   "metadata": {
    "collapsed": true
   },
   "outputs": [],
   "source": [
    "def get_all_gold_rels(dataset):\n",
    "    res = defaultdict(list)\n",
    "    for pmid, paper in dataset.items():\n",
    "        for relation in paper.gold_relations:\n",
    "            res[\"pmid\"].append(pmid)\n",
    "            res[\"chemical_id\"].append(relation.chem.flat_repr)\n",
    "            res[\"disease_id\"].append(relation.dise.flat_repr)\n",
    "            res[\"rel_origin\"].append(relation.origin)\n",
    "            \n",
    "    res = pd.DataFrame(res)\n",
    "    res[\"in_gold\"] = 1\n",
    "    return res"
   ]
  },
  {
   "cell_type": "code",
   "execution_count": 13,
   "metadata": {
    "collapsed": false
   },
   "outputs": [],
   "source": [
    "gold_rels = get_all_gold_rels(tq_data)"
   ]
  },
  {
   "cell_type": "code",
   "execution_count": 14,
   "metadata": {
    "collapsed": false
   },
   "outputs": [
    {
     "data": {
      "text/html": [
       "<div>\n",
       "<table border=\"1\" class=\"dataframe\">\n",
       "  <thead>\n",
       "    <tr style=\"text-align: right;\">\n",
       "      <th></th>\n",
       "      <th>chemical_id</th>\n",
       "      <th>disease_id</th>\n",
       "      <th>pmid</th>\n",
       "      <th>rel_origin</th>\n",
       "      <th>in_gold</th>\n",
       "    </tr>\n",
       "  </thead>\n",
       "  <tbody>\n",
       "    <tr>\n",
       "      <th>0</th>\n",
       "      <td>MESH:D020117</td>\n",
       "      <td>MESH:D015746</td>\n",
       "      <td>9669632</td>\n",
       "      <td>abs</td>\n",
       "      <td>1</td>\n",
       "    </tr>\n",
       "    <tr>\n",
       "      <th>1</th>\n",
       "      <td>MESH:D011718</td>\n",
       "      <td>MESH:D000857</td>\n",
       "      <td>19674115</td>\n",
       "      <td>sent</td>\n",
       "      <td>1</td>\n",
       "    </tr>\n",
       "    <tr>\n",
       "      <th>2</th>\n",
       "      <td>MESH:D014700</td>\n",
       "      <td>MESH:D018376</td>\n",
       "      <td>9100294</td>\n",
       "      <td>sent</td>\n",
       "      <td>1</td>\n",
       "    </tr>\n",
       "    <tr>\n",
       "      <th>3</th>\n",
       "      <td>MESH:D009543</td>\n",
       "      <td>MESH:D018376</td>\n",
       "      <td>9100294</td>\n",
       "      <td>sent</td>\n",
       "      <td>1</td>\n",
       "    </tr>\n",
       "    <tr>\n",
       "      <th>4</th>\n",
       "      <td>MESH:D020748</td>\n",
       "      <td>MESH:D018376</td>\n",
       "      <td>9100294</td>\n",
       "      <td>CID</td>\n",
       "      <td>1</td>\n",
       "    </tr>\n",
       "  </tbody>\n",
       "</table>\n",
       "</div>"
      ],
      "text/plain": [
       "    chemical_id    disease_id      pmid rel_origin  in_gold\n",
       "0  MESH:D020117  MESH:D015746   9669632        abs        1\n",
       "1  MESH:D011718  MESH:D000857  19674115       sent        1\n",
       "2  MESH:D014700  MESH:D018376   9100294       sent        1\n",
       "3  MESH:D009543  MESH:D018376   9100294       sent        1\n",
       "4  MESH:D020748  MESH:D018376   9100294        CID        1"
      ]
     },
     "execution_count": 14,
     "metadata": {},
     "output_type": "execute_result"
    }
   ],
   "source": [
    "gold_rels.head()"
   ]
  },
  {
   "cell_type": "code",
   "execution_count": 15,
   "metadata": {
    "collapsed": false
   },
   "outputs": [],
   "source": [
    "work_units = pd.merge(work_units, gold_rels, how = \"left\",\n",
    "                      on = [\"pmid\", \"chemical_id\", \"disease_id\", \"rel_origin\"])"
   ]
  },
  {
   "cell_type": "code",
   "execution_count": 16,
   "metadata": {
    "collapsed": false
   },
   "outputs": [],
   "source": [
    "work_units.loc[:, \"in_gold\"] = work_units.loc[:, \"in_gold\"].fillna(0)\n",
    "work_units.loc[:, \"in_gold\"] = work_units.loc[:, \"in_gold\"].map(lambda f: int(f))"
   ]
  },
  {
   "cell_type": "code",
   "execution_count": 17,
   "metadata": {
    "collapsed": false
   },
   "outputs": [
    {
     "data": {
      "text/plain": [
       "(6851, 10)"
      ]
     },
     "execution_count": 17,
     "metadata": {},
     "output_type": "execute_result"
    }
   ],
   "source": [
    "work_units.shape"
   ]
  },
  {
   "cell_type": "code",
   "execution_count": 18,
   "metadata": {
    "collapsed": false
   },
   "outputs": [
    {
     "data": {
      "text/html": [
       "<div>\n",
       "<table border=\"1\" class=\"dataframe\">\n",
       "  <thead>\n",
       "    <tr style=\"text-align: right;\">\n",
       "      <th></th>\n",
       "      <th>chemical_id</th>\n",
       "      <th>chemical_name</th>\n",
       "      <th>disease_id</th>\n",
       "      <th>disease_name</th>\n",
       "      <th>form_body</th>\n",
       "      <th>form_title</th>\n",
       "      <th>pmid</th>\n",
       "      <th>rel_origin</th>\n",
       "      <th>uniq_id</th>\n",
       "      <th>in_gold</th>\n",
       "    </tr>\n",
       "  </thead>\n",
       "  <tbody>\n",
       "    <tr>\n",
       "      <th>0</th>\n",
       "      <td>MESH:D020117</td>\n",
       "      <td>&lt;span class=\"chemical\"&gt;cisapride/Cisapride&lt;/span&gt;</td>\n",
       "      <td>MESH:D043183</td>\n",
       "      <td>&lt;span class=\"disease\"&gt;IBS/irritable bowel synd...</td>\n",
       "      <td>&lt;p&gt;BACKGROUND: &lt;span class=\"disease\"&gt;Irritable...</td>\n",
       "      <td>&lt;span class=\"sentence\"&gt;Effects of &lt;span class=...</td>\n",
       "      <td>9669632</td>\n",
       "      <td>sent</td>\n",
       "      <td>refine_test_ques_all_0</td>\n",
       "      <td>0</td>\n",
       "    </tr>\n",
       "    <tr>\n",
       "      <th>1</th>\n",
       "      <td>MESH:D020117</td>\n",
       "      <td>&lt;span class=\"chemical\"&gt;cisapride/Cisapride&lt;/span&gt;</td>\n",
       "      <td>MESH:D003967</td>\n",
       "      <td>&lt;span class=\"disease\"&gt;diarrhoea/Diarrhoea&lt;/span&gt;</td>\n",
       "      <td>&lt;p&gt;BACKGROUND: Irritable bowel syndrome is a c...</td>\n",
       "      <td>Effects of &lt;span class=\"chemical\"&gt;cisapride&lt;/s...</td>\n",
       "      <td>9669632</td>\n",
       "      <td>sent</td>\n",
       "      <td>refine_test_ques_all_1</td>\n",
       "      <td>0</td>\n",
       "    </tr>\n",
       "  </tbody>\n",
       "</table>\n",
       "</div>"
      ],
      "text/plain": [
       "    chemical_id                                      chemical_name  \\\n",
       "0  MESH:D020117  <span class=\"chemical\">cisapride/Cisapride</span>   \n",
       "1  MESH:D020117  <span class=\"chemical\">cisapride/Cisapride</span>   \n",
       "\n",
       "     disease_id                                       disease_name  \\\n",
       "0  MESH:D043183  <span class=\"disease\">IBS/irritable bowel synd...   \n",
       "1  MESH:D003967   <span class=\"disease\">diarrhoea/Diarrhoea</span>   \n",
       "\n",
       "                                           form_body  \\\n",
       "0  <p>BACKGROUND: <span class=\"disease\">Irritable...   \n",
       "1  <p>BACKGROUND: Irritable bowel syndrome is a c...   \n",
       "\n",
       "                                          form_title     pmid rel_origin  \\\n",
       "0  <span class=\"sentence\">Effects of <span class=...  9669632       sent   \n",
       "1  Effects of <span class=\"chemical\">cisapride</s...  9669632       sent   \n",
       "\n",
       "                  uniq_id  in_gold  \n",
       "0  refine_test_ques_all_0        0  \n",
       "1  refine_test_ques_all_1        0  "
      ]
     },
     "execution_count": 18,
     "metadata": {},
     "output_type": "execute_result"
    }
   ],
   "source": [
    "work_units.head(2)"
   ]
  },
  {
   "cell_type": "code",
   "execution_count": 19,
   "metadata": {
    "collapsed": false
   },
   "outputs": [
    {
     "name": "stdout",
     "output_type": "stream",
     "text": [
      "('abs', 0): 3597\n",
      "('abs', 1): 381\n",
      "('sent', 0): 2089\n",
      "('sent', 1): 784\n"
     ]
    }
   ],
   "source": [
    "for info, group in work_units.groupby([\"rel_origin\", \"in_gold\"]):\n",
    "    print(\"{}: {}\".format(info, len(group)))"
   ]
  },
  {
   "cell_type": "markdown",
   "metadata": {},
   "source": [
    "As previously noted, most of the true gold standard relations cooccur in at least one sentence."
   ]
  },
  {
   "cell_type": "markdown",
   "metadata": {},
   "source": [
    "### Selecting work units as test questions\n",
    "\n",
    "We will take 200 work units from each of the four categories (abs/sent x in/not in gold) as test questions."
   ]
  },
  {
   "cell_type": "code",
   "execution_count": 20,
   "metadata": {
    "collapsed": true
   },
   "outputs": [],
   "source": [
    "def subsample(dataset, N):\n",
    "    res = [group.sample(n = N, random_state = rand_state)\n",
    "        for info, group in work_units.groupby([\"rel_origin\", \"in_gold\"])\n",
    "    ]\n",
    "        \n",
    "    return pd.concat(res).reset_index(drop = True)"
   ]
  },
  {
   "cell_type": "code",
   "execution_count": 21,
   "metadata": {
    "collapsed": true
   },
   "outputs": [],
   "source": [
    "test_ques = subsample(work_units, 200)"
   ]
  },
  {
   "cell_type": "code",
   "execution_count": 22,
   "metadata": {
    "collapsed": false
   },
   "outputs": [
    {
     "data": {
      "text/plain": [
       "(800, 10)"
      ]
     },
     "execution_count": 22,
     "metadata": {},
     "output_type": "execute_result"
    }
   ],
   "source": [
    "test_ques.shape"
   ]
  },
  {
   "cell_type": "code",
   "execution_count": 23,
   "metadata": {
    "collapsed": false
   },
   "outputs": [
    {
     "data": {
      "text/html": [
       "<div>\n",
       "<table border=\"1\" class=\"dataframe\">\n",
       "  <thead>\n",
       "    <tr style=\"text-align: right;\">\n",
       "      <th></th>\n",
       "      <th>chemical_id</th>\n",
       "      <th>chemical_name</th>\n",
       "      <th>disease_id</th>\n",
       "      <th>disease_name</th>\n",
       "      <th>form_body</th>\n",
       "      <th>form_title</th>\n",
       "      <th>pmid</th>\n",
       "      <th>rel_origin</th>\n",
       "      <th>uniq_id</th>\n",
       "      <th>in_gold</th>\n",
       "    </tr>\n",
       "  </thead>\n",
       "  <tbody>\n",
       "    <tr>\n",
       "      <th>0</th>\n",
       "      <td>MESH:D013726</td>\n",
       "      <td>&lt;span class=\"chemical\"&gt;terbutaline/Terbutaline...</td>\n",
       "      <td>MESH:D002658</td>\n",
       "      <td>&lt;span class=\"disease\"&gt;neurodevelopmental disor...</td>\n",
       "      <td>Autism is a &lt;span class=\"disease\"&gt;neurodevelop...</td>\n",
       "      <td>Neuroinflammation and behavioral abnormalities...</td>\n",
       "      <td>17400887</td>\n",
       "      <td>abs</td>\n",
       "      <td>refine_test_ques_all_2404</td>\n",
       "      <td>0</td>\n",
       "    </tr>\n",
       "    <tr>\n",
       "      <th>1</th>\n",
       "      <td>MESH:C005618</td>\n",
       "      <td>&lt;span class=\"chemical\"&gt;benzoylecgonine&lt;/span&gt;</td>\n",
       "      <td>MESH:D012206</td>\n",
       "      <td>&lt;span class=\"disease\"&gt;rhabdomyolysis&lt;/span&gt;</td>\n",
       "      <td>We describe an outbreak of deaths from cocaine...</td>\n",
       "      <td>Fatal excited delirium following cocaine use: ...</td>\n",
       "      <td>8988571</td>\n",
       "      <td>abs</td>\n",
       "      <td>refine_test_ques_all_6325</td>\n",
       "      <td>0</td>\n",
       "    </tr>\n",
       "    <tr>\n",
       "      <th>2</th>\n",
       "      <td>MESH:D011188</td>\n",
       "      <td>&lt;span class=\"chemical\"&gt;potassium&lt;/span&gt;</td>\n",
       "      <td>MESH:D000435</td>\n",
       "      <td>&lt;span class=\"disease\"&gt;acute alcohol intoxicati...</td>\n",
       "      <td>Atrial fibrillation in young patients without ...</td>\n",
       "      <td>Lone atrial fibrillation associated with creat...</td>\n",
       "      <td>15899738</td>\n",
       "      <td>abs</td>\n",
       "      <td>refine_test_ques_all_559</td>\n",
       "      <td>0</td>\n",
       "    </tr>\n",
       "    <tr>\n",
       "      <th>3</th>\n",
       "      <td>MESH:D015215</td>\n",
       "      <td>&lt;span class=\"chemical\"&gt;zidovudine/3'-azido-2',...</td>\n",
       "      <td>MESH:D009205</td>\n",
       "      <td>&lt;span class=\"disease\"&gt;myocarditis&lt;/span&gt;</td>\n",
       "      <td>&lt;p&gt;BACKGROUND: Dilated cardiomyopathy (DCM) an...</td>\n",
       "      <td>Myocardial Fas ligand expression increases sus...</td>\n",
       "      <td>17943461</td>\n",
       "      <td>abs</td>\n",
       "      <td>refine_test_ques_all_6381</td>\n",
       "      <td>0</td>\n",
       "    </tr>\n",
       "    <tr>\n",
       "      <th>4</th>\n",
       "      <td>MESH:D003404</td>\n",
       "      <td>&lt;span class=\"chemical\"&gt;creatinine&lt;/span&gt;</td>\n",
       "      <td>MESH:D006947</td>\n",
       "      <td>&lt;span class=\"disease\"&gt;hyperkalemia&lt;/span&gt;</td>\n",
       "      <td>&lt;p&gt;BACKGROUND: A previous randomized controlle...</td>\n",
       "      <td>Spironolactone-induced renal insufficiency and...</td>\n",
       "      <td>15632880</td>\n",
       "      <td>abs</td>\n",
       "      <td>refine_test_ques_all_6356</td>\n",
       "      <td>0</td>\n",
       "    </tr>\n",
       "  </tbody>\n",
       "</table>\n",
       "</div>"
      ],
      "text/plain": [
       "    chemical_id                                      chemical_name  \\\n",
       "0  MESH:D013726  <span class=\"chemical\">terbutaline/Terbutaline...   \n",
       "1  MESH:C005618      <span class=\"chemical\">benzoylecgonine</span>   \n",
       "2  MESH:D011188            <span class=\"chemical\">potassium</span>   \n",
       "3  MESH:D015215  <span class=\"chemical\">zidovudine/3'-azido-2',...   \n",
       "4  MESH:D003404           <span class=\"chemical\">creatinine</span>   \n",
       "\n",
       "     disease_id                                       disease_name  \\\n",
       "0  MESH:D002658  <span class=\"disease\">neurodevelopmental disor...   \n",
       "1  MESH:D012206        <span class=\"disease\">rhabdomyolysis</span>   \n",
       "2  MESH:D000435  <span class=\"disease\">acute alcohol intoxicati...   \n",
       "3  MESH:D009205           <span class=\"disease\">myocarditis</span>   \n",
       "4  MESH:D006947          <span class=\"disease\">hyperkalemia</span>   \n",
       "\n",
       "                                           form_body  \\\n",
       "0  Autism is a <span class=\"disease\">neurodevelop...   \n",
       "1  We describe an outbreak of deaths from cocaine...   \n",
       "2  Atrial fibrillation in young patients without ...   \n",
       "3  <p>BACKGROUND: Dilated cardiomyopathy (DCM) an...   \n",
       "4  <p>BACKGROUND: A previous randomized controlle...   \n",
       "\n",
       "                                          form_title      pmid rel_origin  \\\n",
       "0  Neuroinflammation and behavioral abnormalities...  17400887        abs   \n",
       "1  Fatal excited delirium following cocaine use: ...   8988571        abs   \n",
       "2  Lone atrial fibrillation associated with creat...  15899738        abs   \n",
       "3  Myocardial Fas ligand expression increases sus...  17943461        abs   \n",
       "4  Spironolactone-induced renal insufficiency and...  15632880        abs   \n",
       "\n",
       "                     uniq_id  in_gold  \n",
       "0  refine_test_ques_all_2404        0  \n",
       "1  refine_test_ques_all_6325        0  \n",
       "2   refine_test_ques_all_559        0  \n",
       "3  refine_test_ques_all_6381        0  \n",
       "4  refine_test_ques_all_6356        0  "
      ]
     },
     "execution_count": 23,
     "metadata": {},
     "output_type": "execute_result"
    }
   ],
   "source": [
    "test_ques.head()"
   ]
  },
  {
   "cell_type": "code",
   "execution_count": 24,
   "metadata": {
    "collapsed": true
   },
   "outputs": [],
   "source": [
    "test_ques[\"rel_resp_gold\"] = test_ques[\"in_gold\"].map(\n",
    "    lambda v: \"yes_direct\\n\" if v == 1 else \"no_relation\\n\"\n",
    ")\n",
    "\n",
    "test_ques[\"rel_resp_gold_reason\"] = \"\"\n",
    "test_ques[\"_golden\"] = \"TRUE\""
   ]
  },
  {
   "cell_type": "code",
   "execution_count": 25,
   "metadata": {
    "collapsed": true
   },
   "outputs": [],
   "source": [
    "test_ques.to_csv(\"refine_800_test_ques.tsv\", sep = '\\t', index = False)"
   ]
  },
  {
   "cell_type": "code",
   "execution_count": null,
   "metadata": {
    "collapsed": true
   },
   "outputs": [],
   "source": []
  }
 ],
 "metadata": {
  "kernelspec": {
   "display_name": "Python 3",
   "language": "python",
   "name": "python3"
  },
  "language_info": {
   "codemirror_mode": {
    "name": "ipython",
    "version": 3
   },
   "file_extension": ".py",
   "mimetype": "text/x-python",
   "name": "python",
   "nbconvert_exporter": "python",
   "pygments_lexer": "ipython3",
   "version": "3.4.2"
  }
 },
 "nbformat": 4,
 "nbformat_minor": 0
}
