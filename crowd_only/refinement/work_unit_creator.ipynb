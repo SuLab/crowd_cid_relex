{
 "cells": [
  {
   "cell_type": "markdown",
   "metadata": {},
   "source": [
    "# BioCreative V Task 3 CrowdFlower Work Unit Formatter (Refinement version)\n",
    "\n",
    "Tong Shu Li<br>\n",
    "Created on: Monday 2015-12-16<br>\n",
    "Last updated: 2015-12-17\n",
    "\n",
    "The <code>classify_relations()</code> routine of the <code>Sentence</code> and <code>Paper</code> objects have already separated all possible chemical-disease relation pairs into three disjoint categories:\n",
    "\n",
    "1. Relations which follow the \"[chemical]-induced [disease]\" (CID) structure.\n",
    "2. Relations which co-occur within a sentence but do not follow the CID structure.\n",
    "3. Relations which do not co-occur within any sentences.\n",
    "\n",
    "This notebook takes the relation pairs in each category and generates the information needed for the CrowdFlower interface. No decision making about which category each relation belong to is performed here."
   ]
  },
  {
   "cell_type": "code",
   "execution_count": 1,
   "metadata": {
    "collapsed": true
   },
   "outputs": [],
   "source": [
    "from collections import defaultdict\n",
    "import pandas as pd\n",
    "import sys"
   ]
  },
  {
   "cell_type": "code",
   "execution_count": 2,
   "metadata": {
    "collapsed": true
   },
   "outputs": [],
   "source": [
    "sys.path.append(\"..\")"
   ]
  },
  {
   "cell_type": "code",
   "execution_count": 3,
   "metadata": {
    "collapsed": true
   },
   "outputs": [],
   "source": [
    "from src.data_model import parse_input\n",
    "from src.make_cf_work_units import create_work_units"
   ]
  },
  {
   "cell_type": "markdown",
   "metadata": {},
   "source": [
    "---"
   ]
  },
  {
   "cell_type": "markdown",
   "metadata": {},
   "source": [
    "### Read our 50 + 50 papers"
   ]
  },
  {
   "cell_type": "code",
   "execution_count": 4,
   "metadata": {
    "collapsed": false
   },
   "outputs": [],
   "source": [
    "loc = \"../data/refinement\"\n",
    "fname = \"CDR_train_50_subset.txt\"\n",
    "\n",
    "train_sub = parse_input(loc, fname, fix_acronyms = False)"
   ]
  },
  {
   "cell_type": "code",
   "execution_count": 5,
   "metadata": {
    "collapsed": true
   },
   "outputs": [],
   "source": [
    "loc = \"../data/refinement\"\n",
    "fname = \"CDR_dev_50_subset.txt\"\n",
    "\n",
    "dev_sub = parse_input(loc, fname, fix_acronyms = False)"
   ]
  },
  {
   "cell_type": "code",
   "execution_count": 6,
   "metadata": {
    "collapsed": false
   },
   "outputs": [],
   "source": [
    "testset = train_sub.copy()\n",
    "testset.update(dev_sub)"
   ]
  },
  {
   "cell_type": "code",
   "execution_count": 7,
   "metadata": {
    "collapsed": false
   },
   "outputs": [
    {
     "data": {
      "text/plain": [
       "100"
      ]
     },
     "execution_count": 7,
     "metadata": {},
     "output_type": "execute_result"
    }
   ],
   "source": [
    "len(testset)"
   ]
  },
  {
   "cell_type": "markdown",
   "metadata": {},
   "source": [
    "---"
   ]
  },
  {
   "cell_type": "markdown",
   "metadata": {},
   "source": [
    "## Create CrowdFlower work units"
   ]
  },
  {
   "cell_type": "markdown",
   "metadata": {},
   "source": [
    "Highlighting strategy:\n",
    "\n",
    "1. Highlight annotations.\n",
    "2. Highlight cooccurring sentences."
   ]
  },
  {
   "cell_type": "code",
   "execution_count": 8,
   "metadata": {
    "collapsed": false
   },
   "outputs": [],
   "source": [
    "cid_rels, work_units = create_work_units(testset, \"refine_try_1\")"
   ]
  },
  {
   "cell_type": "code",
   "execution_count": 9,
   "metadata": {
    "collapsed": false
   },
   "outputs": [
    {
     "data": {
      "text/plain": [
       "(874, 9)"
      ]
     },
     "execution_count": 9,
     "metadata": {},
     "output_type": "execute_result"
    }
   ],
   "source": [
    "work_units.shape"
   ]
  },
  {
   "cell_type": "code",
   "execution_count": 10,
   "metadata": {
    "collapsed": false,
    "scrolled": false
   },
   "outputs": [
    {
     "data": {
      "text/html": [
       "<div>\n",
       "<table border=\"1\" class=\"dataframe\">\n",
       "  <thead>\n",
       "    <tr style=\"text-align: right;\">\n",
       "      <th></th>\n",
       "      <th>chemical_id</th>\n",
       "      <th>chemical_name</th>\n",
       "      <th>disease_id</th>\n",
       "      <th>disease_name</th>\n",
       "      <th>form_body</th>\n",
       "      <th>form_title</th>\n",
       "      <th>pmid</th>\n",
       "      <th>rel_origin</th>\n",
       "      <th>uniq_id</th>\n",
       "    </tr>\n",
       "  </thead>\n",
       "  <tbody>\n",
       "    <tr>\n",
       "      <th>0</th>\n",
       "      <td>MESH:D018021</td>\n",
       "      <td>&lt;span class=\"chemical\"&gt;LiCl&lt;/span&gt;</td>\n",
       "      <td>MESH:D003919</td>\n",
       "      <td>&lt;span class=\"disease\"&gt;diabetes-insipidus-like ...</td>\n",
       "      <td>The effect of amiloride on lithium-induced pol...</td>\n",
       "      <td>Attenuation of the lithium-induced &lt;span class...</td>\n",
       "      <td>7453952</td>\n",
       "      <td>abs</td>\n",
       "      <td>refine_try_1_0</td>\n",
       "    </tr>\n",
       "    <tr>\n",
       "      <th>1</th>\n",
       "      <td>MESH:D011188</td>\n",
       "      <td>&lt;span class=\"chemical\"&gt;potassium&lt;/span&gt;</td>\n",
       "      <td>MESH:D011141</td>\n",
       "      <td>&lt;span class=\"disease\"&gt;polyuria&lt;/span&gt;</td>\n",
       "      <td>The effect of amiloride on lithium-induced pol...</td>\n",
       "      <td>Attenuation of the lithium-induced diabetes-in...</td>\n",
       "      <td>7453952</td>\n",
       "      <td>abs</td>\n",
       "      <td>refine_try_1_1</td>\n",
       "    </tr>\n",
       "    <tr>\n",
       "      <th>2</th>\n",
       "      <td>MESH:D011188</td>\n",
       "      <td>&lt;span class=\"chemical\"&gt;potassium&lt;/span&gt;</td>\n",
       "      <td>MESH:D059606</td>\n",
       "      <td>&lt;span class=\"disease\"&gt;polydipsia&lt;/span&gt;</td>\n",
       "      <td>The effect of amiloride on lithium-induced &lt;sp...</td>\n",
       "      <td>Attenuation of the lithium-induced diabetes-in...</td>\n",
       "      <td>7453952</td>\n",
       "      <td>abs</td>\n",
       "      <td>refine_try_1_2</td>\n",
       "    </tr>\n",
       "    <tr>\n",
       "      <th>3</th>\n",
       "      <td>MESH:D018021</td>\n",
       "      <td>&lt;span class=\"chemical\"&gt;LiCl&lt;/span&gt;</td>\n",
       "      <td>MESH:D059606</td>\n",
       "      <td>&lt;span class=\"disease\"&gt;polydipsia&lt;/span&gt;</td>\n",
       "      <td>&lt;span class=\"sentence\"&gt;The effect of amiloride...</td>\n",
       "      <td>Attenuation of the lithium-induced diabetes-in...</td>\n",
       "      <td>7453952</td>\n",
       "      <td>sent</td>\n",
       "      <td>refine_try_1_3</td>\n",
       "    </tr>\n",
       "    <tr>\n",
       "      <th>4</th>\n",
       "      <td>MESH:D000584</td>\n",
       "      <td>&lt;span class=\"chemical\"&gt;amiloride/Amiloride&lt;/span&gt;</td>\n",
       "      <td>MESH:D011141</td>\n",
       "      <td>&lt;span class=\"disease\"&gt;polyuria&lt;/span&gt;</td>\n",
       "      <td>&lt;span class=\"sentence\"&gt;The effect of &lt;span cla...</td>\n",
       "      <td>Attenuation of the lithium-induced diabetes-in...</td>\n",
       "      <td>7453952</td>\n",
       "      <td>sent</td>\n",
       "      <td>refine_try_1_4</td>\n",
       "    </tr>\n",
       "  </tbody>\n",
       "</table>\n",
       "</div>"
      ],
      "text/plain": [
       "    chemical_id                                      chemical_name  \\\n",
       "0  MESH:D018021                 <span class=\"chemical\">LiCl</span>   \n",
       "1  MESH:D011188            <span class=\"chemical\">potassium</span>   \n",
       "2  MESH:D011188            <span class=\"chemical\">potassium</span>   \n",
       "3  MESH:D018021                 <span class=\"chemical\">LiCl</span>   \n",
       "4  MESH:D000584  <span class=\"chemical\">amiloride/Amiloride</span>   \n",
       "\n",
       "     disease_id                                       disease_name  \\\n",
       "0  MESH:D003919  <span class=\"disease\">diabetes-insipidus-like ...   \n",
       "1  MESH:D011141              <span class=\"disease\">polyuria</span>   \n",
       "2  MESH:D059606            <span class=\"disease\">polydipsia</span>   \n",
       "3  MESH:D059606            <span class=\"disease\">polydipsia</span>   \n",
       "4  MESH:D011141              <span class=\"disease\">polyuria</span>   \n",
       "\n",
       "                                           form_body  \\\n",
       "0  The effect of amiloride on lithium-induced pol...   \n",
       "1  The effect of amiloride on lithium-induced pol...   \n",
       "2  The effect of amiloride on lithium-induced <sp...   \n",
       "3  <span class=\"sentence\">The effect of amiloride...   \n",
       "4  <span class=\"sentence\">The effect of <span cla...   \n",
       "\n",
       "                                          form_title     pmid rel_origin  \\\n",
       "0  Attenuation of the lithium-induced <span class...  7453952        abs   \n",
       "1  Attenuation of the lithium-induced diabetes-in...  7453952        abs   \n",
       "2  Attenuation of the lithium-induced diabetes-in...  7453952        abs   \n",
       "3  Attenuation of the lithium-induced diabetes-in...  7453952       sent   \n",
       "4  Attenuation of the lithium-induced diabetes-in...  7453952       sent   \n",
       "\n",
       "          uniq_id  \n",
       "0  refine_try_1_0  \n",
       "1  refine_try_1_1  \n",
       "2  refine_try_1_2  \n",
       "3  refine_try_1_3  \n",
       "4  refine_try_1_4  "
      ]
     },
     "execution_count": 10,
     "metadata": {},
     "output_type": "execute_result"
    }
   ],
   "source": [
    "work_units.head()"
   ]
  },
  {
   "cell_type": "markdown",
   "metadata": {},
   "source": [
    "---"
   ]
  },
  {
   "cell_type": "markdown",
   "metadata": {},
   "source": [
    "## Add test questions"
   ]
  },
  {
   "cell_type": "code",
   "execution_count": 11,
   "metadata": {
    "collapsed": true
   },
   "outputs": [],
   "source": [
    "test_ques = pd.read_csv(\"refine_800_test_ques.tsv\", sep = '\\t')"
   ]
  },
  {
   "cell_type": "code",
   "execution_count": 12,
   "metadata": {
    "collapsed": true
   },
   "outputs": [],
   "source": [
    "total_data = pd.concat([test_ques, work_units])"
   ]
  },
  {
   "cell_type": "code",
   "execution_count": 13,
   "metadata": {
    "collapsed": true
   },
   "outputs": [],
   "source": [
    "total_data.to_csv(\"refine_run_1_all_data.tsv\", sep = '\\t', index = False)"
   ]
  },
  {
   "cell_type": "code",
   "execution_count": null,
   "metadata": {
    "collapsed": true
   },
   "outputs": [],
   "source": []
  }
 ],
 "metadata": {
  "kernelspec": {
   "display_name": "Python 3",
   "language": "python",
   "name": "python3"
  },
  "language_info": {
   "codemirror_mode": {
    "name": "ipython",
    "version": 3
   },
   "file_extension": ".py",
   "mimetype": "text/x-python",
   "name": "python",
   "nbconvert_exporter": "python",
   "pygments_lexer": "ipython3",
   "version": "3.4.2"
  }
 },
 "nbformat": 4,
 "nbformat_minor": 0
}
