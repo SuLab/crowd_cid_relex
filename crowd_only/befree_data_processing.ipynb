{
 "cells": [
  {
   "cell_type": "markdown",
   "metadata": {},
   "source": [
    "# Processing pre-annotated data for BeFree\n",
    "\n",
    "Tong Shu Li<br>\n",
    "Created on 2015-08-10<br>\n",
    "Last updated 2015-08-13\n",
    "\n",
    "Alex and Laura sent us 3000 abstracts containing sentences that they would like the crowd to annotate. These sentences have already been processed for us (annotated and split), so we just need to get it into the correct form for CrowdFlower.\n",
    "\n",
    "This notebook processes the data into something that can be used by CrowdFlower."
   ]
  },
  {
   "cell_type": "markdown",
   "metadata": {},
   "source": [
    "###Note:\n",
    "\n",
    "The files Alex sent us directly have carriage returns (\\r) which need to be stripped."
   ]
  },
  {
   "cell_type": "markdown",
   "metadata": {},
   "source": [
    "Crowdflower can display Unicode properly."
   ]
  },
  {
   "cell_type": "code",
   "execution_count": 1,
   "metadata": {
    "collapsed": true
   },
   "outputs": [],
   "source": [
    "import pandas as pd"
   ]
  },
  {
   "cell_type": "code",
   "execution_count": 2,
   "metadata": {
    "collapsed": false
   },
   "outputs": [],
   "source": [
    "from src.data_model import *"
   ]
  },
  {
   "cell_type": "markdown",
   "metadata": {},
   "source": [
    "---"
   ]
  },
  {
   "cell_type": "markdown",
   "metadata": {},
   "source": [
    "### Read the data Alex sent us:"
   ]
  },
  {
   "cell_type": "code",
   "execution_count": 3,
   "metadata": {
    "collapsed": true
   },
   "outputs": [],
   "source": [
    "# quoting = 3 means there are no quote characters used at all!!\n",
    "chem_data = pd.read_csv(\"data/befree/chemicals_entities_tmChem_sent_relative_offsets_v2.txt\",\n",
    "                        sep = '\\t', quoting = 3)"
   ]
  },
  {
   "cell_type": "code",
   "execution_count": 4,
   "metadata": {
    "collapsed": true
   },
   "outputs": [],
   "source": [
    "dise_data = pd.read_csv(\"data/befree/diseases_entities_DNorm_sent_relative_offsets_v3.txt\",\n",
    "                        sep = '\\t', quoting = 3)"
   ]
  },
  {
   "cell_type": "code",
   "execution_count": 5,
   "metadata": {
    "collapsed": false
   },
   "outputs": [
    {
     "data": {
      "text/plain": [
       "(14995, 8)"
      ]
     },
     "execution_count": 5,
     "metadata": {},
     "output_type": "execute_result"
    }
   ],
   "source": [
    "chem_data.shape"
   ]
  },
  {
   "cell_type": "code",
   "execution_count": 6,
   "metadata": {
    "collapsed": false
   },
   "outputs": [
    {
     "data": {
      "text/plain": [
       "(19109, 8)"
      ]
     },
     "execution_count": 6,
     "metadata": {},
     "output_type": "execute_result"
    }
   ],
   "source": [
    "dise_data.shape"
   ]
  },
  {
   "cell_type": "code",
   "execution_count": 7,
   "metadata": {
    "collapsed": false
   },
   "outputs": [
    {
     "data": {
      "text/html": [
       "<div>\n",
       "<table border=\"1\" class=\"dataframe\">\n",
       "  <thead>\n",
       "    <tr style=\"text-align: right;\">\n",
       "      <th></th>\n",
       "      <th>pmid</th>\n",
       "      <th>num_sent</th>\n",
       "      <th>mention_start</th>\n",
       "      <th>mention_stop</th>\n",
       "      <th>mention_text</th>\n",
       "      <th>mention_type</th>\n",
       "      <th>mention_id</th>\n",
       "      <th>sentence_text</th>\n",
       "    </tr>\n",
       "  </thead>\n",
       "  <tbody>\n",
       "    <tr>\n",
       "      <th>0</th>\n",
       "      <td>18477409</td>\n",
       "      <td>1</td>\n",
       "      <td>21</td>\n",
       "      <td>67</td>\n",
       "      <td>omega-3 long-chain polyunsaturated fatty acids</td>\n",
       "      <td>Chemical</td>\n",
       "      <td>-1</td>\n",
       "      <td>While consumption of omega-3 long-chain polyun...</td>\n",
       "    </tr>\n",
       "    <tr>\n",
       "      <th>1</th>\n",
       "      <td>18477409</td>\n",
       "      <td>6</td>\n",
       "      <td>31</td>\n",
       "      <td>41</td>\n",
       "      <td>fatty-acid</td>\n",
       "      <td>Chemical</td>\n",
       "      <td>CHEBI:35366</td>\n",
       "      <td>Erythrocytes were analyzed for fatty-acid cont...</td>\n",
       "    </tr>\n",
       "    <tr>\n",
       "      <th>2</th>\n",
       "      <td>18477409</td>\n",
       "      <td>9</td>\n",
       "      <td>160</td>\n",
       "      <td>181</td>\n",
       "      <td>eicosapentaenoic acid</td>\n",
       "      <td>Chemical</td>\n",
       "      <td>MESH:D015118</td>\n",
       "      <td>However, natural killer (NK) (CD3-CD16+CD56+) ...</td>\n",
       "    </tr>\n",
       "    <tr>\n",
       "      <th>3</th>\n",
       "      <td>18477409</td>\n",
       "      <td>9</td>\n",
       "      <td>185</td>\n",
       "      <td>205</td>\n",
       "      <td>docosahexaenoic acid</td>\n",
       "      <td>Chemical</td>\n",
       "      <td>CHEBI:28125</td>\n",
       "      <td>However, natural killer (NK) (CD3-CD16+CD56+) ...</td>\n",
       "    </tr>\n",
       "    <tr>\n",
       "      <th>4</th>\n",
       "      <td>18477409</td>\n",
       "      <td>10</td>\n",
       "      <td>179</td>\n",
       "      <td>185</td>\n",
       "      <td>LCPUFA</td>\n",
       "      <td>Chemical</td>\n",
       "      <td>-1</td>\n",
       "      <td>No significant correlations were found with re...</td>\n",
       "    </tr>\n",
       "  </tbody>\n",
       "</table>\n",
       "</div>"
      ],
      "text/plain": [
       "       pmid  num_sent  mention_start  mention_stop  \\\n",
       "0  18477409         1             21            67   \n",
       "1  18477409         6             31            41   \n",
       "2  18477409         9            160           181   \n",
       "3  18477409         9            185           205   \n",
       "4  18477409        10            179           185   \n",
       "\n",
       "                                     mention_text mention_type    mention_id  \\\n",
       "0  omega-3 long-chain polyunsaturated fatty acids     Chemical            -1   \n",
       "1                                      fatty-acid     Chemical   CHEBI:35366   \n",
       "2                           eicosapentaenoic acid     Chemical  MESH:D015118   \n",
       "3                            docosahexaenoic acid     Chemical   CHEBI:28125   \n",
       "4                                          LCPUFA     Chemical            -1   \n",
       "\n",
       "                                       sentence_text  \n",
       "0  While consumption of omega-3 long-chain polyun...  \n",
       "1  Erythrocytes were analyzed for fatty-acid cont...  \n",
       "2  However, natural killer (NK) (CD3-CD16+CD56+) ...  \n",
       "3  However, natural killer (NK) (CD3-CD16+CD56+) ...  \n",
       "4  No significant correlations were found with re...  "
      ]
     },
     "execution_count": 7,
     "metadata": {},
     "output_type": "execute_result"
    }
   ],
   "source": [
    "chem_data.head()"
   ]
  },
  {
   "cell_type": "code",
   "execution_count": 8,
   "metadata": {
    "collapsed": false
   },
   "outputs": [
    {
     "data": {
      "text/html": [
       "<div>\n",
       "<table border=\"1\" class=\"dataframe\">\n",
       "  <thead>\n",
       "    <tr style=\"text-align: right;\">\n",
       "      <th></th>\n",
       "      <th>pmid</th>\n",
       "      <th>num_sent</th>\n",
       "      <th>mention_start</th>\n",
       "      <th>mention_stop</th>\n",
       "      <th>mention_text</th>\n",
       "      <th>mention_type</th>\n",
       "      <th>mention_id</th>\n",
       "      <th>sentence_text</th>\n",
       "    </tr>\n",
       "  </thead>\n",
       "  <tbody>\n",
       "    <tr>\n",
       "      <th>0</th>\n",
       "      <td>18477409</td>\n",
       "      <td>1</td>\n",
       "      <td>123</td>\n",
       "      <td>143</td>\n",
       "      <td>inflammatory disease</td>\n",
       "      <td>Disease</td>\n",
       "      <td>MESH:D007249</td>\n",
       "      <td>While consumption of omega-3 long-chain polyun...</td>\n",
       "    </tr>\n",
       "    <tr>\n",
       "      <th>1</th>\n",
       "      <td>18477409</td>\n",
       "      <td>1</td>\n",
       "      <td>152</td>\n",
       "      <td>172</td>\n",
       "      <td>rheumatoid arthritis</td>\n",
       "      <td>Disease</td>\n",
       "      <td>MESH:D001172</td>\n",
       "      <td>While consumption of omega-3 long-chain polyun...</td>\n",
       "    </tr>\n",
       "    <tr>\n",
       "      <th>2</th>\n",
       "      <td>18477409</td>\n",
       "      <td>2</td>\n",
       "      <td>259</td>\n",
       "      <td>271</td>\n",
       "      <td>inflammation</td>\n",
       "      <td>Disease</td>\n",
       "      <td>MESH:D007249</td>\n",
       "      <td>The objective of this study was to determine w...</td>\n",
       "    </tr>\n",
       "    <tr>\n",
       "      <th>3</th>\n",
       "      <td>18477409</td>\n",
       "      <td>5</td>\n",
       "      <td>79</td>\n",
       "      <td>100</td>\n",
       "      <td>neutrophil chemotaxis</td>\n",
       "      <td>Disease</td>\n",
       "      <td>MESH:C565534</td>\n",
       "      <td>Leukocytes were also examined for lymphoprolif...</td>\n",
       "    </tr>\n",
       "    <tr>\n",
       "      <th>4</th>\n",
       "      <td>18477409</td>\n",
       "      <td>11</td>\n",
       "      <td>11</td>\n",
       "      <td>32</td>\n",
       "      <td>neutrophil chemotaxis</td>\n",
       "      <td>Disease</td>\n",
       "      <td>MESH:C565534</td>\n",
       "      <td>Similarly, neutrophil chemotaxis, chemokinesis...</td>\n",
       "    </tr>\n",
       "  </tbody>\n",
       "</table>\n",
       "</div>"
      ],
      "text/plain": [
       "       pmid  num_sent  mention_start  mention_stop           mention_text  \\\n",
       "0  18477409         1            123           143   inflammatory disease   \n",
       "1  18477409         1            152           172   rheumatoid arthritis   \n",
       "2  18477409         2            259           271           inflammation   \n",
       "3  18477409         5             79           100  neutrophil chemotaxis   \n",
       "4  18477409        11             11            32  neutrophil chemotaxis   \n",
       "\n",
       "  mention_type    mention_id  \\\n",
       "0      Disease  MESH:D007249   \n",
       "1      Disease  MESH:D001172   \n",
       "2      Disease  MESH:D007249   \n",
       "3      Disease  MESH:C565534   \n",
       "4      Disease  MESH:C565534   \n",
       "\n",
       "                                       sentence_text  \n",
       "0  While consumption of omega-3 long-chain polyun...  \n",
       "1  While consumption of omega-3 long-chain polyun...  \n",
       "2  The objective of this study was to determine w...  \n",
       "3  Leukocytes were also examined for lymphoprolif...  \n",
       "4  Similarly, neutrophil chemotaxis, chemokinesis...  "
      ]
     },
     "execution_count": 8,
     "metadata": {},
     "output_type": "execute_result"
    }
   ],
   "source": [
    "dise_data.head()"
   ]
  },
  {
   "cell_type": "markdown",
   "metadata": {},
   "source": [
    "### Convert all text to Unicode:"
   ]
  },
  {
   "cell_type": "code",
   "execution_count": 9,
   "metadata": {
    "collapsed": true
   },
   "outputs": [],
   "source": [
    "def convert_to_unicode(columns, dataframe):\n",
    "    for col in columns:\n",
    "        dataframe.loc[:, col] = dataframe.loc[:, col].map(lambda x: x.decode(\"utf-8\"))\n",
    "        \n",
    "    return dataframe    "
   ]
  },
  {
   "cell_type": "code",
   "execution_count": 10,
   "metadata": {
    "collapsed": true
   },
   "outputs": [],
   "source": [
    "chem_data = convert_to_unicode([\"mention_text\", \"sentence_text\"], chem_data)"
   ]
  },
  {
   "cell_type": "code",
   "execution_count": 11,
   "metadata": {
    "collapsed": true
   },
   "outputs": [],
   "source": [
    "dise_data = convert_to_unicode([\"mention_text\", \"sentence_text\"], dise_data)"
   ]
  },
  {
   "cell_type": "markdown",
   "metadata": {},
   "source": [
    "### Check that the indicies match:"
   ]
  },
  {
   "cell_type": "code",
   "execution_count": 12,
   "metadata": {
    "collapsed": true
   },
   "outputs": [],
   "source": [
    "def check(row):\n",
    "    start = int(row[\"mention_start\"])\n",
    "    stop = int(row[\"mention_stop\"])\n",
    "    sent = row[\"sentence_text\"]\n",
    "    text = row[\"mention_text\"]\n",
    "    \n",
    "    return sent[start : stop] == text\n",
    "    \n",
    "def check_indicies(dataframe):\n",
    "    res = dataframe[[\"mention_text\", \"mention_start\", \"mention_stop\", \"sentence_text\"]].apply(check, axis = 1)\n",
    "    print res.value_counts()"
   ]
  },
  {
   "cell_type": "code",
   "execution_count": 13,
   "metadata": {
    "collapsed": false
   },
   "outputs": [
    {
     "name": "stdout",
     "output_type": "stream",
     "text": [
      "True    14995\n",
      "dtype: int64\n"
     ]
    }
   ],
   "source": [
    "check_indicies(chem_data)"
   ]
  },
  {
   "cell_type": "code",
   "execution_count": 14,
   "metadata": {
    "collapsed": false
   },
   "outputs": [
    {
     "name": "stdout",
     "output_type": "stream",
     "text": [
      "True    19109\n",
      "dtype: int64\n"
     ]
    }
   ],
   "source": [
    "check_indicies(dise_data)"
   ]
  },
  {
   "cell_type": "markdown",
   "metadata": {},
   "source": [
    "The indicies of the text match only if everything is in Unicode. **They do not match if it is a regular string containing the Unicode code points.**"
   ]
  },
  {
   "cell_type": "markdown",
   "metadata": {
    "collapsed": true
   },
   "source": [
    "### Filter by identifier type\n",
    "\n",
    "Zhiyong confirmed that the identifiers used for any relation will always be MeSH. Therefore we will filter out all identifiers which are not MeSH, because those will definitely not exist in the gold standard."
   ]
  },
  {
   "cell_type": "markdown",
   "metadata": {},
   "source": [
    "### Count id types:"
   ]
  },
  {
   "cell_type": "code",
   "execution_count": 15,
   "metadata": {
    "collapsed": true
   },
   "outputs": [],
   "source": [
    "def count_types(dataframe):\n",
    "    ids = dataframe[\"mention_id\"]\n",
    "    ids = ids.map(lambda x: \"|\".join(map(lambda v: v.split(\":\")[0], x.split(\"|\"))))\n",
    "    print ids.value_counts()"
   ]
  },
  {
   "cell_type": "code",
   "execution_count": 16,
   "metadata": {
    "collapsed": false
   },
   "outputs": [
    {
     "name": "stdout",
     "output_type": "stream",
     "text": [
      "MESH         12076\n",
      "-1            1796\n",
      "CHEBI         1104\n",
      "MESH|MESH       19\n",
      "dtype: int64\n"
     ]
    }
   ],
   "source": [
    "count_types(chem_data)"
   ]
  },
  {
   "cell_type": "code",
   "execution_count": 17,
   "metadata": {
    "collapsed": false
   },
   "outputs": [
    {
     "name": "stdout",
     "output_type": "stream",
     "text": [
      "MESH    18999\n",
      "OMIM      110\n",
      "dtype: int64\n"
     ]
    }
   ],
   "source": [
    "count_types(dise_data)"
   ]
  },
  {
   "cell_type": "markdown",
   "metadata": {},
   "source": [
    "We see that around 2800 rows of the chemical mentions are not using MeSH identifiers, and that only 114 rows of the diseases are not using MeSH identifiers. We will retain only the MeSH ids. 19 rows use compound MeSH ids, so we need to remember to process those properly."
   ]
  },
  {
   "cell_type": "markdown",
   "metadata": {},
   "source": [
    "### Retain MeSH rows only:"
   ]
  },
  {
   "cell_type": "code",
   "execution_count": 18,
   "metadata": {
    "collapsed": true
   },
   "outputs": [],
   "source": [
    "def get_mesh_rows(dataframe):\n",
    "    \"\"\"\n",
    "    Look at all rows and return a dataframe containing only MeSH id rows.\n",
    "    \"\"\"\n",
    "    ids = dataframe[\"mention_id\"]\n",
    "    ids = ids.map(lambda x: x.split(\":\")[0])\n",
    "    dataframe[\"id_type\"] = ids\n",
    "    dataframe = dataframe.query(\"id_type == 'MESH'\")\n",
    "    return dataframe"
   ]
  },
  {
   "cell_type": "code",
   "execution_count": 19,
   "metadata": {
    "collapsed": true
   },
   "outputs": [],
   "source": [
    "mesh_chem = get_mesh_rows(chem_data)"
   ]
  },
  {
   "cell_type": "code",
   "execution_count": 20,
   "metadata": {
    "collapsed": true
   },
   "outputs": [],
   "source": [
    "mesh_dise = get_mesh_rows(dise_data)"
   ]
  },
  {
   "cell_type": "code",
   "execution_count": 21,
   "metadata": {
    "collapsed": false
   },
   "outputs": [
    {
     "data": {
      "text/plain": [
       "MESH    12095\n",
       "dtype: int64"
      ]
     },
     "execution_count": 21,
     "metadata": {},
     "output_type": "execute_result"
    }
   ],
   "source": [
    "mesh_chem[\"id_type\"].value_counts()"
   ]
  },
  {
   "cell_type": "code",
   "execution_count": 22,
   "metadata": {
    "collapsed": false
   },
   "outputs": [
    {
     "data": {
      "text/plain": [
       "MESH    18999\n",
       "dtype: int64"
      ]
     },
     "execution_count": 22,
     "metadata": {},
     "output_type": "execute_result"
    }
   ],
   "source": [
    "mesh_dise[\"id_type\"].value_counts()"
   ]
  },
  {
   "cell_type": "markdown",
   "metadata": {},
   "source": [
    "---"
   ]
  },
  {
   "cell_type": "markdown",
   "metadata": {},
   "source": [
    "### Join into one large dataframe:"
   ]
  },
  {
   "cell_type": "code",
   "execution_count": 23,
   "metadata": {
    "collapsed": true
   },
   "outputs": [],
   "source": [
    "clean_data = pd.concat([mesh_chem, mesh_dise])"
   ]
  },
  {
   "cell_type": "code",
   "execution_count": 24,
   "metadata": {
    "collapsed": false
   },
   "outputs": [
    {
     "data": {
      "text/plain": [
       "(31094, 9)"
      ]
     },
     "execution_count": 24,
     "metadata": {},
     "output_type": "execute_result"
    }
   ],
   "source": [
    "clean_data.shape"
   ]
  },
  {
   "cell_type": "markdown",
   "metadata": {},
   "source": [
    "### Remove the \"MESH:\" part from the ids:"
   ]
  },
  {
   "cell_type": "code",
   "execution_count": 25,
   "metadata": {
    "collapsed": true
   },
   "outputs": [],
   "source": [
    "def clean_identifier(val):\n",
    "    \"\"\"\n",
    "    Some ids are compound ids joined by pipes.\n",
    "    \"\"\"\n",
    "    sub_ids = val.split(\"|\")\n",
    "    cleaned = map(lambda x: x.split(\":\")[1], sub_ids)\n",
    "    return \"|\".join(cleaned)\n",
    "\n",
    "clean_data.loc[:, \"mention_id\"] = clean_data.loc[:, \"mention_id\"].map(clean_identifier)"
   ]
  },
  {
   "cell_type": "code",
   "execution_count": 26,
   "metadata": {
    "collapsed": false
   },
   "outputs": [
    {
     "data": {
      "text/html": [
       "<div>\n",
       "<table border=\"1\" class=\"dataframe\">\n",
       "  <thead>\n",
       "    <tr style=\"text-align: right;\">\n",
       "      <th></th>\n",
       "      <th>pmid</th>\n",
       "      <th>num_sent</th>\n",
       "      <th>mention_start</th>\n",
       "      <th>mention_stop</th>\n",
       "      <th>mention_text</th>\n",
       "      <th>mention_type</th>\n",
       "      <th>mention_id</th>\n",
       "      <th>sentence_text</th>\n",
       "      <th>id_type</th>\n",
       "    </tr>\n",
       "  </thead>\n",
       "  <tbody>\n",
       "    <tr>\n",
       "      <th>2</th>\n",
       "      <td>18477409</td>\n",
       "      <td>9</td>\n",
       "      <td>160</td>\n",
       "      <td>181</td>\n",
       "      <td>eicosapentaenoic acid</td>\n",
       "      <td>Chemical</td>\n",
       "      <td>D015118</td>\n",
       "      <td>However, natural killer (NK) (CD3-CD16+CD56+) ...</td>\n",
       "      <td>MESH</td>\n",
       "    </tr>\n",
       "    <tr>\n",
       "      <th>5</th>\n",
       "      <td>16819507</td>\n",
       "      <td>0</td>\n",
       "      <td>85</td>\n",
       "      <td>96</td>\n",
       "      <td>hydroxyurea</td>\n",
       "      <td>Chemical</td>\n",
       "      <td>D006918</td>\n",
       "      <td>RNA polymerase II transcription is required fo...</td>\n",
       "      <td>MESH</td>\n",
       "    </tr>\n",
       "    <tr>\n",
       "      <th>6</th>\n",
       "      <td>16819507</td>\n",
       "      <td>4</td>\n",
       "      <td>63</td>\n",
       "      <td>74</td>\n",
       "      <td>hydroxyurea</td>\n",
       "      <td>Chemical</td>\n",
       "      <td>D006918</td>\n",
       "      <td>We found that human papillomavirus type 16 E7 ...</td>\n",
       "      <td>MESH</td>\n",
       "    </tr>\n",
       "    <tr>\n",
       "      <th>7</th>\n",
       "      <td>16819507</td>\n",
       "      <td>4</td>\n",
       "      <td>131</td>\n",
       "      <td>145</td>\n",
       "      <td>alpha-amanitin</td>\n",
       "      <td>Chemical</td>\n",
       "      <td>D053959</td>\n",
       "      <td>We found that human papillomavirus type 16 E7 ...</td>\n",
       "      <td>MESH</td>\n",
       "    </tr>\n",
       "    <tr>\n",
       "      <th>9</th>\n",
       "      <td>22280402</td>\n",
       "      <td>0</td>\n",
       "      <td>71</td>\n",
       "      <td>79</td>\n",
       "      <td>androgen</td>\n",
       "      <td>Chemical</td>\n",
       "      <td>D000728</td>\n",
       "      <td>\"True\" antiandrogens-selective non-ligand-bind...</td>\n",
       "      <td>MESH</td>\n",
       "    </tr>\n",
       "  </tbody>\n",
       "</table>\n",
       "</div>"
      ],
      "text/plain": [
       "       pmid  num_sent  mention_start  mention_stop           mention_text  \\\n",
       "2  18477409         9            160           181  eicosapentaenoic acid   \n",
       "5  16819507         0             85            96            hydroxyurea   \n",
       "6  16819507         4             63            74            hydroxyurea   \n",
       "7  16819507         4            131           145         alpha-amanitin   \n",
       "9  22280402         0             71            79               androgen   \n",
       "\n",
       "  mention_type mention_id                                      sentence_text  \\\n",
       "2     Chemical    D015118  However, natural killer (NK) (CD3-CD16+CD56+) ...   \n",
       "5     Chemical    D006918  RNA polymerase II transcription is required fo...   \n",
       "6     Chemical    D006918  We found that human papillomavirus type 16 E7 ...   \n",
       "7     Chemical    D053959  We found that human papillomavirus type 16 E7 ...   \n",
       "9     Chemical    D000728  \"True\" antiandrogens-selective non-ligand-bind...   \n",
       "\n",
       "  id_type  \n",
       "2    MESH  \n",
       "5    MESH  \n",
       "6    MESH  \n",
       "7    MESH  \n",
       "9    MESH  "
      ]
     },
     "execution_count": 26,
     "metadata": {},
     "output_type": "execute_result"
    }
   ],
   "source": [
    "clean_data.head()"
   ]
  },
  {
   "cell_type": "markdown",
   "metadata": {},
   "source": [
    "---"
   ]
  },
  {
   "cell_type": "markdown",
   "metadata": {},
   "source": [
    "### Total PMIDs in dataset:"
   ]
  },
  {
   "cell_type": "code",
   "execution_count": 27,
   "metadata": {
    "collapsed": false
   },
   "outputs": [
    {
     "data": {
      "text/plain": [
       "2756"
      ]
     },
     "execution_count": 27,
     "metadata": {},
     "output_type": "execute_result"
    }
   ],
   "source": [
    "len(clean_data[\"pmid\"].unique())"
   ]
  },
  {
   "cell_type": "markdown",
   "metadata": {},
   "source": [
    "## Generating data file for CrowdFlower:\n",
    "\n",
    "We will not use our previous data generation scheme since this time we are only working on sentences. We will need to adapt our previous work unit formatter to work only on these sentences."
   ]
  },
  {
   "cell_type": "markdown",
   "metadata": {},
   "source": [
    "To reuse our previous work unit formatter code, we need to fit Alex's data into our data_model's Sentence class. This should be relatively easy. Once we have that we can just pass things off to the <code>process_sentence_task()</code> function, which will take care of the rest."
   ]
  },
  {
   "cell_type": "markdown",
   "metadata": {},
   "source": [
    "### Converting data to Sentence objects:"
   ]
  },
  {
   "cell_type": "code",
   "execution_count": 28,
   "metadata": {
    "collapsed": false
   },
   "outputs": [],
   "source": [
    "# for each unique sentence\n",
    "# grab all concept annotations in that sentence\n",
    "# sort the annotations in order\n",
    "# convert to a Sentence object\n",
    "\n",
    "def create_annotation(row):\n",
    "    return Annotation(row[\"mention_id\"], row[\"mention_type\"],\n",
    "                      row[\"mention_text\"], row[\"mention_start\"], row[\"mention_stop\"])\n",
    "\n",
    "def create_sentences(dataframe):\n",
    "    \"\"\"\n",
    "    Given a dataframe, converts it to a batch of Sentence objects.\n",
    "    \"\"\"\n",
    "    sentences = []\n",
    "    for info, group in dataframe.groupby([\"pmid\", \"num_sent\"]):\n",
    "        # for each unique sentence\n",
    "        \n",
    "        sent_text = group[\"sentence_text\"].iloc[0]\n",
    "        \n",
    "        # each row in group is a single annotation\n",
    "        \n",
    "        # use each row to make on annotation object\n",
    "        annotations = list(group[[\"mention_id\", \"mention_type\", \"mention_text\", \"mention_start\", \"mention_stop\"]].apply(\n",
    "            create_annotation, axis = 1))\n",
    "        \n",
    "        annotations = sorted(annotations)\n",
    "        \n",
    "        sentences.append(Sentence(info[0], info[1], sent_text, 0, len(sent_text), annotations))\n",
    "        \n",
    "    return sentences"
   ]
  },
  {
   "cell_type": "code",
   "execution_count": 29,
   "metadata": {
    "collapsed": false
   },
   "outputs": [],
   "source": [
    "all_sentences = create_sentences(clean_data)"
   ]
  },
  {
   "cell_type": "code",
   "execution_count": 30,
   "metadata": {
    "collapsed": false
   },
   "outputs": [
    {
     "data": {
      "text/plain": [
       "17198"
      ]
     },
     "execution_count": 30,
     "metadata": {},
     "output_type": "execute_result"
    }
   ],
   "source": [
    "len(all_sentences)"
   ]
  },
  {
   "cell_type": "markdown",
   "metadata": {},
   "source": [
    "### Create formatted data for CrowdFlower:\n",
    "\n",
    "Now that we have Alex's data in our Sentence objects, we can use our existing data formatting code to make the tsv file for CrowdFlower."
   ]
  },
  {
   "cell_type": "code",
   "execution_count": 31,
   "metadata": {
    "collapsed": true
   },
   "outputs": [],
   "source": [
    "def add_simple_tag(tag_name, tag_class, text):\n",
    "    return \"<{0} class=\\\"{1}\\\">{2}</{0}>\".format(tag_name, tag_class, text)"
   ]
  },
  {
   "cell_type": "code",
   "execution_count": 32,
   "metadata": {
    "collapsed": true
   },
   "outputs": [],
   "source": [
    "def highlight_concepts(text, breaks):\n",
    "    \"\"\"\n",
    "    Inserts HTML tags around the pieces of text\n",
    "    which need to be highlighted in a string.\n",
    "    \"\"\"\n",
    "    breaks = sorted(breaks, key = lambda x: x[0])\n",
    "    \n",
    "    final = []\n",
    "    for i in range(len(breaks) - 1):\n",
    "        s = text[breaks[i][0] : breaks[i+1][0]]\n",
    "        if breaks[i][1] != \"n\":\n",
    "            s = add_simple_tag(\"span\", breaks[i][1], s)\n",
    "            \n",
    "        final.append(s)\n",
    "        \n",
    "    return \"\".join(final)"
   ]
  },
  {
   "cell_type": "code",
   "execution_count": 33,
   "metadata": {
    "collapsed": true
   },
   "outputs": [],
   "source": [
    "def highlight_text(text, offset, uniq_spans):\n",
    "    \"\"\"\n",
    "    Given a string and the annotations which fall\n",
    "    within this string, highlights the concepts.\n",
    "    \"\"\"\n",
    "    # index of break, type of break (n = nothing)\n",
    "    breaks = [(0, \"n\"), (len(text), \"n\")]\n",
    "    \n",
    "    for span in uniq_spans:\n",
    "        breaks.append((span.start - offset, span.stype))\n",
    "        breaks.append((span.stop - offset, \"n\"))\n",
    "            \n",
    "    return highlight_concepts(text, breaks)"
   ]
  },
  {
   "cell_type": "code",
   "execution_count": 34,
   "metadata": {
    "collapsed": true
   },
   "outputs": [],
   "source": [
    "def grab_names(annotations):\n",
    "    \"\"\"\n",
    "    Determines the unique names of the annotations.\n",
    "    \"\"\"\n",
    "    # determine the names of the concept identifiers\n",
    "    used_names = defaultdict(set) # lower case set of used names (to avoid repeats)\n",
    "    real_name = defaultdict(set) # set of unique names verbatim (to preseve capitalization)\n",
    "    for annotation in annotations:\n",
    "        if annotation.text.lower() not in used_names[annotation.stype]:\n",
    "            used_names[annotation.stype].add(annotation.text.lower())\n",
    "            real_name[annotation.stype].add(annotation.text)\n",
    "            \n",
    "    return real_name"
   ]
  },
  {
   "cell_type": "code",
   "execution_count": 35,
   "metadata": {
    "collapsed": true
   },
   "outputs": [],
   "source": [
    "def process_sentence_task(sentence, rel_pairs):\n",
    "    \"\"\"\n",
    "    Given a Sentence object, and the set of chemical-disease relation\n",
    "    identifier pairs, creates a set of sentence-level verification tasks.\n",
    "    \"\"\"\n",
    "    data = defaultdict(list)\n",
    "    for chemical_id, disease_id in rel_pairs:\n",
    "        spans = [annotation for annotation in sentence.annotations if annotation.uid in [chemical_id, disease_id]]\n",
    "        real_name = grab_names(spans)\n",
    "\n",
    "        data[\"pmid\"].append(sentence.pmid)\n",
    "        \n",
    "        data[\"form_sentence\"].append(highlight_text(sentence.text, sentence.start, spans))\n",
    "        \n",
    "        data[\"chemical_id\"].append(chemical_id)\n",
    "        data[\"disease_id\"].append(disease_id)\n",
    "        \n",
    "        data[\"chemical_name\"].append(add_simple_tag(\"span\", \"chemical\", \"/\".join(real_name[\"chemical\"])))\n",
    "        data[\"disease_name\"].append(add_simple_tag(\"span\", \"disease\", \"/\".join(real_name[\"disease\"])))\n",
    "        \n",
    "        data[\"relation_pair_id\"].append(\"{0}_{1}_{2}\".format(sentence.pmid, chemical_id, disease_id))\n",
    "        \n",
    "        data[\"sentence_id\"].append(sentence.uid)\n",
    "        \n",
    "    return pd.DataFrame(data)"
   ]
  },
  {
   "cell_type": "markdown",
   "metadata": {},
   "source": [
    "---"
   ]
  },
  {
   "cell_type": "code",
   "execution_count": 36,
   "metadata": {
    "collapsed": true
   },
   "outputs": [],
   "source": [
    "def create_work_units(dataset):\n",
    "    work_units = []\n",
    "    for sentence in dataset:\n",
    "        # process all the relations, even those we think are true due to the CID format\n",
    "        res = process_sentence_task(sentence, sentence.poss_relations[False] | sentence.poss_relations[True])\n",
    "        \n",
    "        work_units.append(res)\n",
    "        \n",
    "    work_units = pd.concat(work_units).reset_index(drop = True)\n",
    "    work_units[\"uniq_id\"] = map(lambda x: \"bcv_sentence_task_befree_{0}\".format(x), work_units.index)\n",
    "    \n",
    "    return work_units"
   ]
  },
  {
   "cell_type": "code",
   "execution_count": 37,
   "metadata": {
    "collapsed": false
   },
   "outputs": [],
   "source": [
    "work_units = create_work_units(all_sentences)"
   ]
  },
  {
   "cell_type": "code",
   "execution_count": 38,
   "metadata": {
    "collapsed": false
   },
   "outputs": [
    {
     "data": {
      "text/plain": [
       "(5160, 9)"
      ]
     },
     "execution_count": 38,
     "metadata": {},
     "output_type": "execute_result"
    }
   ],
   "source": [
    "work_units.shape"
   ]
  },
  {
   "cell_type": "code",
   "execution_count": 39,
   "metadata": {
    "collapsed": false
   },
   "outputs": [
    {
     "data": {
      "text/html": [
       "<div>\n",
       "<table border=\"1\" class=\"dataframe\">\n",
       "  <thead>\n",
       "    <tr style=\"text-align: right;\">\n",
       "      <th></th>\n",
       "      <th>chemical_id</th>\n",
       "      <th>chemical_name</th>\n",
       "      <th>disease_id</th>\n",
       "      <th>disease_name</th>\n",
       "      <th>form_sentence</th>\n",
       "      <th>pmid</th>\n",
       "      <th>relation_pair_id</th>\n",
       "      <th>sentence_id</th>\n",
       "      <th>uniq_id</th>\n",
       "    </tr>\n",
       "  </thead>\n",
       "  <tbody>\n",
       "    <tr>\n",
       "      <th>0</th>\n",
       "      <td>D016047</td>\n",
       "      <td>&lt;span class=\"chemical\"&gt;2',3'-dideoxycytidine&lt;/...</td>\n",
       "      <td>D000744</td>\n",
       "      <td>&lt;span class=\"disease\"&gt;immunodeficiency&lt;/span&gt;</td>\n",
       "      <td>Novel mutation in the human &lt;span class=\"disea...</td>\n",
       "      <td>1279198</td>\n",
       "      <td>1279198_D016047_D000744</td>\n",
       "      <td>1279198_0</td>\n",
       "      <td>bcv_sentence_task_befree_0</td>\n",
       "    </tr>\n",
       "    <tr>\n",
       "      <th>1</th>\n",
       "      <td>D016049</td>\n",
       "      <td>&lt;span class=\"chemical\"&gt;2',3'-dideoxyinosine&lt;/s...</td>\n",
       "      <td>D000744</td>\n",
       "      <td>&lt;span class=\"disease\"&gt;immunodeficiency&lt;/span&gt;</td>\n",
       "      <td>Novel mutation in the human &lt;span class=\"disea...</td>\n",
       "      <td>1279198</td>\n",
       "      <td>1279198_D016049_D000744</td>\n",
       "      <td>1279198_0</td>\n",
       "      <td>bcv_sentence_task_befree_1</td>\n",
       "    </tr>\n",
       "    <tr>\n",
       "      <th>2</th>\n",
       "      <td>D016047</td>\n",
       "      <td>&lt;span class=\"chemical\"&gt;ddC/2',3'-dideoxycytidi...</td>\n",
       "      <td>D000744</td>\n",
       "      <td>&lt;span class=\"disease\"&gt;immunodeficiency&lt;/span&gt;</td>\n",
       "      <td>We have used the technique of in vitro selecti...</td>\n",
       "      <td>1279198</td>\n",
       "      <td>1279198_D016047_D000744</td>\n",
       "      <td>1279198_1</td>\n",
       "      <td>bcv_sentence_task_befree_2</td>\n",
       "    </tr>\n",
       "    <tr>\n",
       "      <th>3</th>\n",
       "      <td>D016049</td>\n",
       "      <td>&lt;span class=\"chemical\"&gt;ddI/2',3'-dideoxyinosin...</td>\n",
       "      <td>D000744</td>\n",
       "      <td>&lt;span class=\"disease\"&gt;immunodeficiency&lt;/span&gt;</td>\n",
       "      <td>We have used the technique of in vitro selecti...</td>\n",
       "      <td>1279198</td>\n",
       "      <td>1279198_D016049_D000744</td>\n",
       "      <td>1279198_1</td>\n",
       "      <td>bcv_sentence_task_befree_3</td>\n",
       "    </tr>\n",
       "    <tr>\n",
       "      <th>4</th>\n",
       "      <td>D008274</td>\n",
       "      <td>&lt;span class=\"chemical\"&gt;magnesium&lt;/span&gt;</td>\n",
       "      <td>D009135</td>\n",
       "      <td>&lt;span class=\"disease\"&gt;muscle damage&lt;/span&gt;</td>\n",
       "      <td>This study examined the effect of &lt;span class=...</td>\n",
       "      <td>1299490</td>\n",
       "      <td>1299490_D008274_D009135</td>\n",
       "      <td>1299490_1</td>\n",
       "      <td>bcv_sentence_task_befree_4</td>\n",
       "    </tr>\n",
       "  </tbody>\n",
       "</table>\n",
       "</div>"
      ],
      "text/plain": [
       "  chemical_id                                      chemical_name disease_id  \\\n",
       "0     D016047  <span class=\"chemical\">2',3'-dideoxycytidine</...    D000744   \n",
       "1     D016049  <span class=\"chemical\">2',3'-dideoxyinosine</s...    D000744   \n",
       "2     D016047  <span class=\"chemical\">ddC/2',3'-dideoxycytidi...    D000744   \n",
       "3     D016049  <span class=\"chemical\">ddI/2',3'-dideoxyinosin...    D000744   \n",
       "4     D008274            <span class=\"chemical\">magnesium</span>    D009135   \n",
       "\n",
       "                                    disease_name  \\\n",
       "0  <span class=\"disease\">immunodeficiency</span>   \n",
       "1  <span class=\"disease\">immunodeficiency</span>   \n",
       "2  <span class=\"disease\">immunodeficiency</span>   \n",
       "3  <span class=\"disease\">immunodeficiency</span>   \n",
       "4     <span class=\"disease\">muscle damage</span>   \n",
       "\n",
       "                                       form_sentence     pmid  \\\n",
       "0  Novel mutation in the human <span class=\"disea...  1279198   \n",
       "1  Novel mutation in the human <span class=\"disea...  1279198   \n",
       "2  We have used the technique of in vitro selecti...  1279198   \n",
       "3  We have used the technique of in vitro selecti...  1279198   \n",
       "4  This study examined the effect of <span class=...  1299490   \n",
       "\n",
       "          relation_pair_id sentence_id                     uniq_id  \n",
       "0  1279198_D016047_D000744   1279198_0  bcv_sentence_task_befree_0  \n",
       "1  1279198_D016049_D000744   1279198_0  bcv_sentence_task_befree_1  \n",
       "2  1279198_D016047_D000744   1279198_1  bcv_sentence_task_befree_2  \n",
       "3  1279198_D016049_D000744   1279198_1  bcv_sentence_task_befree_3  \n",
       "4  1299490_D008274_D009135   1299490_1  bcv_sentence_task_befree_4  "
      ]
     },
     "execution_count": 39,
     "metadata": {},
     "output_type": "execute_result"
    }
   ],
   "source": [
    "work_units.head()"
   ]
  },
  {
   "cell_type": "markdown",
   "metadata": {},
   "source": [
    "So we have 5160 sentence-bound relation pairs which need to be verified by the crowd. This is roughly 4x the number of rows of job 761593, which was extracted from 200 abstracts. Thankfully the scaling is not linear, otherwise we would have 20000 relations to verify.\n",
    "\n",
    "To process such a large amount of data, we will need a lot of test questions, since that is the primary factor limiting how much work a single worker can do. We will probably also want to raise the number of rows per page so that people can do more work with the same amount of test questions."
   ]
  },
  {
   "cell_type": "markdown",
   "metadata": {},
   "source": [
    "### Add test questions to data file:"
   ]
  },
  {
   "cell_type": "code",
   "execution_count": 40,
   "metadata": {
    "collapsed": true
   },
   "outputs": [],
   "source": [
    "dev_set = pd.read_csv(\"data/crowdflower/test_questions/sent_dev_set_762850.tsv\", sep = '\\t')"
   ]
  },
  {
   "cell_type": "code",
   "execution_count": 41,
   "metadata": {
    "collapsed": true
   },
   "outputs": [],
   "source": [
    "train_set = pd.read_csv(\"data/crowdflower/test_questions/sent_train_set_revised_760841.tsv\", sep = '\\t')"
   ]
  },
  {
   "cell_type": "code",
   "execution_count": 42,
   "metadata": {
    "collapsed": true
   },
   "outputs": [],
   "source": [
    "test_ques = pd.concat([dev_set, train_set])"
   ]
  },
  {
   "cell_type": "code",
   "execution_count": 43,
   "metadata": {
    "collapsed": false
   },
   "outputs": [
    {
     "data": {
      "text/plain": [
       "(153, 12)"
      ]
     },
     "execution_count": 43,
     "metadata": {},
     "output_type": "execute_result"
    }
   ],
   "source": [
    "test_ques.shape"
   ]
  },
  {
   "cell_type": "markdown",
   "metadata": {},
   "source": [
    "CrowdFlower has a bug where if the answer to a test question has only\n",
    "one answer, and is uploaded using the batch uploader, then the job will\n",
    "not collect any judgements at all. This is due to a backend error where\n",
    "the representation of the correct answer is different depending on how\n",
    "a test question was created.\n",
    "\n",
    "The correct representation should be as a list with a single element. However when a test question is created through batch upload, the representation is as a string, and not as a list. This causes some error in their backend.\n",
    "\n",
    "I discovered this error through trial and error on 2015-08-09, and CrowdFlower has\n",
    "acknowledged this bug as of 2015-08-13. As of 2015-08-13 the bug has not been fixed.\n",
    "\n",
    "The work around I found was to do the following:\n",
    "- Create two new columns, called \"useless_gold\" and \"useless_gold_reason\" where \"useless\" is a non-existent CML element name.\n",
    "- Populate the \"useless_gold\" column with \"test\\ntest\\ntest\"\n",
    "- When this file is uploaded and processed by the batch uploader, it seems that the presence of newlines forces the representation to the list version. However, only the useless_gold column will have the list representation. The real gold column will still be a string.\n",
    "- This will allow the job to collect judgements normally. Why this works is beyond me.\n",
    "- With this bug, it is impossible to tell if the gold_reason columns are being displayed properly to the workers.\n",
    "\n",
    "CrowdFlower support wrote back saying another workaround is to:\n",
    "1. Add a single newline to the end of the single answer choice in the _gold column. This causes the representation to be a list with a single element.\n",
    "2. An alternative method is to save each test question again in the online interface. This will guarantee the correct representation internally, but is however time consuming and therefore best avoided."
   ]
  },
  {
   "cell_type": "code",
   "execution_count": 44,
   "metadata": {
    "collapsed": true
   },
   "outputs": [],
   "source": [
    "test_ques.loc[:, \"original_job_id\"] = test_ques.loc[:, \"original_job_id\"].map(int)\n",
    "\n",
    "test_ques.loc[:, \"verify_relationship_gold\"] = test_ques.loc[:, \"verify_relationship_gold\"].map(lambda x: \"{0}\\n\".format(x))\n",
    "\n",
    "test_ques[\"_golden\"] = \"TRUE\""
   ]
  },
  {
   "cell_type": "code",
   "execution_count": 45,
   "metadata": {
    "collapsed": false
   },
   "outputs": [
    {
     "data": {
      "text/html": [
       "<div>\n",
       "<table border=\"1\" class=\"dataframe\">\n",
       "  <thead>\n",
       "    <tr style=\"text-align: right;\">\n",
       "      <th></th>\n",
       "      <th>chemical_id</th>\n",
       "      <th>chemical_name</th>\n",
       "      <th>disease_id</th>\n",
       "      <th>disease_name</th>\n",
       "      <th>form_sentence</th>\n",
       "      <th>original_job_id</th>\n",
       "      <th>pmid</th>\n",
       "      <th>relation_pair_id</th>\n",
       "      <th>sentence_id</th>\n",
       "      <th>uniq_id</th>\n",
       "      <th>verify_relationship_gold</th>\n",
       "      <th>verify_relationship_gold_reason</th>\n",
       "      <th>_golden</th>\n",
       "    </tr>\n",
       "  </thead>\n",
       "  <tbody>\n",
       "    <tr>\n",
       "      <th>0</th>\n",
       "      <td>D012701</td>\n",
       "      <td>&lt;span class=\"chemical\"&gt;5-HT&lt;/span&gt;</td>\n",
       "      <td>D011605</td>\n",
       "      <td>&lt;span class=\"disease\"&gt;psychotic disorders&lt;/span&gt;</td>\n",
       "      <td>These animal models were considered to reflect...</td>\n",
       "      <td>762850</td>\n",
       "      <td>20705401</td>\n",
       "      <td>20705401_D012701_D011605</td>\n",
       "      <td>20705401_4</td>\n",
       "      <td>bcv_easy_68_sent_dev_set_762850</td>\n",
       "      <td>no_relation\\n</td>\n",
       "      <td>The receptors to 5-HT6 are related to psychoti...</td>\n",
       "      <td>TRUE</td>\n",
       "    </tr>\n",
       "    <tr>\n",
       "      <th>1</th>\n",
       "      <td>D010396</td>\n",
       "      <td>&lt;span class=\"chemical\"&gt;D-penicillamine&lt;/span&gt;</td>\n",
       "      <td>D012594</td>\n",
       "      <td>&lt;span class=\"disease\"&gt;localized scleroderma&lt;/s...</td>\n",
       "      <td>Case reports of 11 patients with severe, exten...</td>\n",
       "      <td>762850</td>\n",
       "      <td>2334179</td>\n",
       "      <td>2334179_D010396_D012594</td>\n",
       "      <td>2334179_3</td>\n",
       "      <td>bcv_easy_2399_sent_dev_set_762850</td>\n",
       "      <td>no_relation\\n</td>\n",
       "      <td>D-penicillamine was used to treat the patients.</td>\n",
       "      <td>TRUE</td>\n",
       "    </tr>\n",
       "    <tr>\n",
       "      <th>2</th>\n",
       "      <td>D015016</td>\n",
       "      <td>&lt;span class=\"chemical\"&gt;yohimbine&lt;/span&gt;</td>\n",
       "      <td>D019964</td>\n",
       "      <td>&lt;span class=\"disease\"&gt;affective disorders&lt;/span&gt;</td>\n",
       "      <td>METHOD: Six patients with either obsessive com...</td>\n",
       "      <td>762850</td>\n",
       "      <td>1535072</td>\n",
       "      <td>1535072_D015016_D019964</td>\n",
       "      <td>1535072_4</td>\n",
       "      <td>bcv_easy_642_sent_dev_set_762850</td>\n",
       "      <td>no_relation\\n</td>\n",
       "      <td>The sentence says the affective disorders were...</td>\n",
       "      <td>TRUE</td>\n",
       "    </tr>\n",
       "    <tr>\n",
       "      <th>3</th>\n",
       "      <td>D002118</td>\n",
       "      <td>&lt;span class=\"chemical\"&gt;calcium&lt;/span&gt;</td>\n",
       "      <td>D013035</td>\n",
       "      <td>&lt;span class=\"disease\"&gt;muscle spasms&lt;/span&gt;</td>\n",
       "      <td>While severe hypokalemia may cause muscle weak...</td>\n",
       "      <td>762850</td>\n",
       "      <td>8492347</td>\n",
       "      <td>8492347_D002118_D013035</td>\n",
       "      <td>8492347_2</td>\n",
       "      <td>bcv_easy_1271_sent_dev_set_762850</td>\n",
       "      <td>no_relation\\n</td>\n",
       "      <td>The sentence says calcium supplementation cann...</td>\n",
       "      <td>TRUE</td>\n",
       "    </tr>\n",
       "    <tr>\n",
       "      <th>4</th>\n",
       "      <td>D064730</td>\n",
       "      <td>&lt;span class=\"chemical\"&gt;dexrazoxane&lt;/span&gt;</td>\n",
       "      <td>D006402</td>\n",
       "      <td>&lt;span class=\"disease\"&gt;hematologic toxicity&lt;/span&gt;</td>\n",
       "      <td>Clinical trials in patients with brain metasta...</td>\n",
       "      <td>762850</td>\n",
       "      <td>15897593</td>\n",
       "      <td>15897593_D064730_D006402</td>\n",
       "      <td>15897593_8</td>\n",
       "      <td>bcv_easy_2793_sent_dev_set_762850</td>\n",
       "      <td>no_relation\\n</td>\n",
       "      <td>Dexrazoxane is being used to try and make the ...</td>\n",
       "      <td>TRUE</td>\n",
       "    </tr>\n",
       "  </tbody>\n",
       "</table>\n",
       "</div>"
      ],
      "text/plain": [
       "  chemical_id                                  chemical_name disease_id  \\\n",
       "0     D012701             <span class=\"chemical\">5-HT</span>    D011605   \n",
       "1     D010396  <span class=\"chemical\">D-penicillamine</span>    D012594   \n",
       "2     D015016        <span class=\"chemical\">yohimbine</span>    D019964   \n",
       "3     D002118          <span class=\"chemical\">calcium</span>    D013035   \n",
       "4     D064730      <span class=\"chemical\">dexrazoxane</span>    D006402   \n",
       "\n",
       "                                        disease_name  \\\n",
       "0   <span class=\"disease\">psychotic disorders</span>   \n",
       "1  <span class=\"disease\">localized scleroderma</s...   \n",
       "2   <span class=\"disease\">affective disorders</span>   \n",
       "3         <span class=\"disease\">muscle spasms</span>   \n",
       "4  <span class=\"disease\">hematologic toxicity</span>   \n",
       "\n",
       "                                       form_sentence  original_job_id  \\\n",
       "0  These animal models were considered to reflect...           762850   \n",
       "1  Case reports of 11 patients with severe, exten...           762850   \n",
       "2  METHOD: Six patients with either obsessive com...           762850   \n",
       "3  While severe hypokalemia may cause muscle weak...           762850   \n",
       "4  Clinical trials in patients with brain metasta...           762850   \n",
       "\n",
       "       pmid          relation_pair_id sentence_id  \\\n",
       "0  20705401  20705401_D012701_D011605  20705401_4   \n",
       "1   2334179   2334179_D010396_D012594   2334179_3   \n",
       "2   1535072   1535072_D015016_D019964   1535072_4   \n",
       "3   8492347   8492347_D002118_D013035   8492347_2   \n",
       "4  15897593  15897593_D064730_D006402  15897593_8   \n",
       "\n",
       "                             uniq_id verify_relationship_gold  \\\n",
       "0    bcv_easy_68_sent_dev_set_762850            no_relation\\n   \n",
       "1  bcv_easy_2399_sent_dev_set_762850            no_relation\\n   \n",
       "2   bcv_easy_642_sent_dev_set_762850            no_relation\\n   \n",
       "3  bcv_easy_1271_sent_dev_set_762850            no_relation\\n   \n",
       "4  bcv_easy_2793_sent_dev_set_762850            no_relation\\n   \n",
       "\n",
       "                     verify_relationship_gold_reason _golden  \n",
       "0  The receptors to 5-HT6 are related to psychoti...    TRUE  \n",
       "1    D-penicillamine was used to treat the patients.    TRUE  \n",
       "2  The sentence says the affective disorders were...    TRUE  \n",
       "3  The sentence says calcium supplementation cann...    TRUE  \n",
       "4  Dexrazoxane is being used to try and make the ...    TRUE  "
      ]
     },
     "execution_count": 45,
     "metadata": {},
     "output_type": "execute_result"
    }
   ],
   "source": [
    "test_ques.head()"
   ]
  },
  {
   "cell_type": "markdown",
   "metadata": {},
   "source": [
    "### Write final file to disk:"
   ]
  },
  {
   "cell_type": "code",
   "execution_count": 46,
   "metadata": {
    "collapsed": true
   },
   "outputs": [],
   "source": [
    "final_units = pd.concat([test_ques, work_units])"
   ]
  },
  {
   "cell_type": "code",
   "execution_count": 47,
   "metadata": {
    "collapsed": true
   },
   "outputs": [],
   "source": [
    "final_units.to_csv(\"data/crowdflower/data_for_befree_sentence_task.tsv\", sep = '\\t', index = False, encoding = \"utf-8\")"
   ]
  }
 ],
 "metadata": {
  "kernelspec": {
   "display_name": "Python 2",
   "language": "python",
   "name": "python2"
  },
  "language_info": {
   "codemirror_mode": {
    "name": "ipython",
    "version": 2
   },
   "file_extension": ".py",
   "mimetype": "text/x-python",
   "name": "python",
   "nbconvert_exporter": "python",
   "pygments_lexer": "ipython2",
   "version": "2.7.10"
  }
 },
 "nbformat": 4,
 "nbformat_minor": 0
}
