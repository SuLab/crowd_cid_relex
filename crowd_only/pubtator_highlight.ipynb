{
 "cells": [
  {
   "cell_type": "markdown",
   "metadata": {},
   "source": [
    "## Using pubtator"
   ]
  },
  {
   "cell_type": "markdown",
   "metadata": {},
   "source": [
    "2015-05-31 Toby"
   ]
  },
  {
   "cell_type": "code",
   "execution_count": 1,
   "metadata": {
    "collapsed": false
   },
   "outputs": [],
   "source": [
    "import sys"
   ]
  },
  {
   "cell_type": "code",
   "execution_count": 2,
   "metadata": {
    "collapsed": false
   },
   "outputs": [],
   "source": [
    "sys.path.append(\"/home/toby/Code/util/\")\n",
    "from query_pubtator import query_pubtator"
   ]
  },
  {
   "cell_type": "markdown",
   "metadata": {},
   "source": [
    "---"
   ]
  },
  {
   "cell_type": "code",
   "execution_count": 3,
   "metadata": {
    "collapsed": false
   },
   "outputs": [],
   "source": [
    "from unidecode import unidecode"
   ]
  },
  {
   "cell_type": "code",
   "execution_count": 4,
   "metadata": {
    "collapsed": false
   },
   "outputs": [],
   "source": [
    "def convert_unicode_to_code_point_list(unicode_string):\n",
    "    \"\"\"\n",
    "    Takes O(N) time to convert each letter in the given unicode\n",
    "    string to its code point.\n",
    "    \"\"\"\n",
    "    \n",
    "    if not isinstance(unicode_string, unicode):\n",
    "        raise Exception(\"Given string was not in unicode!\")\n",
    "        return\n",
    "    \n",
    "    code_points = [ord(character) for character in unicode_string]\n",
    "    return code_points\n",
    "\n",
    "def convert_code_point_list_to_ascii_string(code_points):\n",
    "    return \"\".join(map(chr, code_points))\n",
    "\n",
    "def decode_unicode_to_ascii(ascii_string):\n",
    "    return unidecode(ascii_string.decode(\"utf8\"))\n",
    "\n",
    "\n",
    "def normalize_unicode(unicode_string):\n",
    "    \"\"\"\n",
    "    Normalizes pubtator's output.\n",
    "    \"\"\"\n",
    "    \n",
    "    code_points = convert_unicode_to_code_point_list(unicode_string)\n",
    "    ascii_representation = convert_code_point_list_to_ascii_string(code_points)\n",
    "    return decode_unicode_to_ascii(ascii_representation)"
   ]
  },
  {
   "cell_type": "markdown",
   "metadata": {},
   "source": [
    "Pubtator returns the unicode code points for non-ascii characters. Python requests returns everything as a unicode string. Therefore we have to convert the unicode representation of the literal unicode code point to ascii, then convert the literal code point back into unicode, and finally give that to unidecode to convert to the nearest ascii representation."
   ]
  },
  {
   "cell_type": "code",
   "execution_count": 5,
   "metadata": {
    "collapsed": true
   },
   "outputs": [],
   "source": [
    "def work(pmid):\n",
    "    res = query_pubtator(pmid)\n",
    "    print normalize_unicode(res)"
   ]
  },
  {
   "cell_type": "code",
   "execution_count": 6,
   "metadata": {
    "collapsed": false
   },
   "outputs": [
    {
     "name": "stdout",
     "output_type": "stream",
     "text": [
      "20921890|t|An open-label tolerability study of BL-1020 antipsychotic: a novel gamma aminobutyric acid ester of perphenazine.\n",
      "20921890|a|BACKGROUND: BL-1020, a novel gamma aminobutyric acid (GABA) ester of perphenazine, is a new oral antipsychotic with a strong affinity for dopamine and serotonin receptors. Unlike first- and second-generation antipsychotics, it has agonist activity at GABA(A). OBJECTIVE: This is the first study to examine tolerability and safety of BL-1020 in schizophrenia. METHODS: This was a phase-II, open-label, multicenter, 6-week study treating patients (n = 36) with chronic schizophrenia. Dosing started at 20 mg/d and increased over 7 days to 40 mg/d. Weekly assessments were conducted. RESULTS: All but 1 patient was titrated to 30 mg/d at day 4; on day 7, 30 were titrated to 40 mg/d. Four patients discontinued the study prematurely. There was no clinically relevant increase in vital signs, sedation, dizziness, or other central nervous system effects or electrocardiogram or laboratory abnormalities and a small increase in weight. Ten patients experienced extrapyramidal symptoms (EPS) requiring treatment with an anticholinergic; 4 patients were unable to reach maximum dose because of EPS. Extrapyramidal Symptom Rating Scale did not indicate clinically significant changes in EPS. The most common adverse event was insomnia (6 patients); other frequent adverse effects (all n = 3) were extrapyramidal disorder, headache, parkinsonism, tremor, and hyperprolactinemia. There was improvement on Positive and Negative Syndrome Scale and Clinical Global Impression of Change with 22 patients showing at least 20% decrease by end point on Positive and Negative Syndrome Scale and 31 patients showing at least minimal improvement on Clinical Global Impression of Change. CONCLUSIONS: These data suggest that 20 to 40 mg/d of BL-1020 is associated with clinically relevant improvement of psychosis with no worsening of EPS and support further testing in randomized controlled trials.\n",
      "20921890\t36\t43\tBL-1020\tChemical\tC539977\n",
      "20921890\t67\t96\tgamma aminobutyric acid ester\tChemical\n",
      "20921890\t100\t112\tperphenazine\tChemical\tD010546\n",
      "20921890\t126\t133\tBL-1020\tChemical\tC539977\n",
      "20921890\t143\t166\tgamma aminobutyric acid\tChemical\tD005680\n",
      "20921890\t168\t172\tGABA\tChemical\tD005680\n",
      "20921890\t183\t195\tperphenazine\tChemical\tD010546\n",
      "20921890\t252\t260\tdopamine\tChemical\tD004298\n",
      "20921890\t265\t274\tserotonin\tChemical\tD012701\n",
      "20921890\t365\t369\tGABA\tChemical\tD005680\n",
      "20921890\t447\t454\tBL-1020\tChemical\tC539977\n",
      "20921890\t1835\t1842\tBL-1020\tChemical\tC539977\n",
      "\n"
     ]
    }
   ],
   "source": [
    "work(\"20921890\")"
   ]
  },
  {
   "cell_type": "code",
   "execution_count": null,
   "metadata": {
    "collapsed": true
   },
   "outputs": [],
   "source": []
  }
 ],
 "metadata": {
  "kernelspec": {
   "display_name": "Python 2",
   "language": "python",
   "name": "python2"
  },
  "language_info": {
   "codemirror_mode": {
    "name": "ipython",
    "version": 2
   },
   "file_extension": ".py",
   "mimetype": "text/x-python",
   "name": "python",
   "nbconvert_exporter": "python",
   "pygments_lexer": "ipython2",
   "version": "2.7.10"
  }
 },
 "nbformat": 4,
 "nbformat_minor": 0
}
