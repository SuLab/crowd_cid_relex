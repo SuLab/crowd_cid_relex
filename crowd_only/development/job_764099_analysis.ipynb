{
 "cells": [
  {
   "cell_type": "markdown",
   "metadata": {},
   "source": [
    "# Analysis of CrowdFlower job #764099: sentence-level CID verification task for training BeFree\n",
    "\n",
    "Tong Shu Li<br>\n",
    "Created on: Friday 2015-08-14<br>\n",
    "Last updated: 2015-08-14\n",
    "\n",
    "Crowdsourcing is a good method for gathering large amounts of data which can be used to train machine learning algorithms. Our collaboration with BeFree involves generating a large amount of extra training data in the hopes that this will improve BeFree's overall performance.\n",
    "\n",
    "A set of 2756 PubMed abstracts was sent to us by Alex and Laura containing annotated chemicals and diseases using tmChem and DNorm. For this dataset, a total of 17198 sentences contained 5160 unique chemical-disease identifier pairs which co-occurred within the same sentence. The 5160 relation pairs were judged by the crowd as to whether the sentence says that the chemical is causing the disease.\n",
    "\n",
    "In this notebook, we look at the results from the job and pass it off to Alex and Laura to see if it will improve BeFree's performance."
   ]
  },
  {
   "cell_type": "markdown",
   "metadata": {},
   "source": [
    "### Task Background\n",
    "\n",
    "CrowdFlower job #764099 represents a late iteration of the sentence-level CID verification task. In prior jobs (#761593, #755704), the interface and wording of the answer choices were refined. We found that the crowd was unable to determine if a highlighted concept was a chemical or disease in context. However, they were very good at determining if the two highlighted concepts were related to one another.\n",
    "\n",
    "We also found that asking the workers to rate their own confidence in their work was not terribly useful. Very few workers chose that they were not confident in their work, likely in fear that they would not be trusted as much. Therefore user rated confidence was found to be a very poor estimator of the ambiguity of a work unit.\n",
    "\n",
    "Finally, there were three choices for what is really a simple binary judgement task. The third choice \"[chemical]-induced [other disease] causes [highlighted disease]\", was originally meant to help the crowd judge that such a structure meant that the highlighted chemical was not causing the highlighted disease, as stated by the BioCreative annotation guidelines. Without such a choice, the crowd was annotating these relationships as true rather than false. However in subsequent iterations of the task it was found that only a tiny fraction of the sentences follow this structure. However, it was decided to retain the third choice as a means of making it more difficult for randomly guessing workers and computer programs to complete the job.\n",
    "\n",
    "The task was refined with increasingly large amounts of data provided by the BioCreative committee. The original testset consisted of 30 abstracts from the training data. Most of the iterations were performed on this 30 abstracts. Immediately prior to job #764099, a test on 200 abstracts from the development data was performed. This had two main advantages: it showed that the crowd was bad at performing the NER recognition task, and it also generated a large number of sentences which could be used as test questions for this task. Since the amount of work an individual worker can perform is capped by the number of unique test questions, generating the test questions is actually a non-trivial task."
   ]
  },
  {
   "cell_type": "markdown",
   "metadata": {},
   "source": [
    "### Job #764099 details\n",
    "\n",
    "Parameter | Value\n",
    "--- | ---\n",
    "Job ID | #764099\n",
    "Rows per page | 6\n",
    "Judgements per row | 5\n",
    "Payment per page | 12 cents USD\n",
    "Payment per row | 2 cents USD\n",
    "Minimum CrowdFlower contributor level | 2\n",
    "Minimum time per page | 18 seconds\n",
    "Maximum judgements per worker | No cap (limited by test questions only)\n",
    "Minimum worker accuracy threshold | 70%\n",
    "Acceptable answer distribution | yes_indirect: 0-20%, yes_direct: 0-95%, no_relation: 0-95% (monitoring begins at 20 rows)\n",
    "Number of test questions | 553 total, 2 were disabled\n",
    "Test question origin | sent_dev_set_762850, sent_train_set_revised_760841, sent_work_dev_set_761593 (see sent_test_ques_processing.ipynb for details)\n",
    "Date of launch | 12:50 pm 2015-08-14 Pacific Daylight Time\n",
    "Date of completion | 8:00 pm 2015-08-14 Pacific Daylight Time\n",
    "Total cost before bonuses | \\$763.92 USD\n",
    "Total cost after bonuses | $763.92 USD\n",
    "\n",
    "\n",
    "\n"
   ]
  },
  {
   "cell_type": "markdown",
   "metadata": {},
   "source": [
    "---"
   ]
  },
  {
   "cell_type": "code",
   "execution_count": 1,
   "metadata": {
    "collapsed": true
   },
   "outputs": [],
   "source": [
    "from collections import defaultdict\n",
    "from IPython.display import Image\n",
    "import datetime as dt\n",
    "import matplotlib as plt\n",
    "import numpy as np\n",
    "import os\n",
    "import pandas as pd\n",
    "import pycountry\n",
    "import sys"
   ]
  },
  {
   "cell_type": "code",
   "execution_count": 2,
   "metadata": {
    "collapsed": true
   },
   "outputs": [],
   "source": [
    "%matplotlib inline"
   ]
  },
  {
   "cell_type": "code",
   "execution_count": 3,
   "metadata": {
    "collapsed": true
   },
   "outputs": [],
   "source": [
    "sys.path.append(\"..\")"
   ]
  },
  {
   "cell_type": "code",
   "execution_count": 4,
   "metadata": {
    "collapsed": false
   },
   "outputs": [],
   "source": [
    "from src.filter_data import filter_data\n",
    "from src.aggregate_results import *"
   ]
  },
  {
   "cell_type": "code",
   "execution_count": 5,
   "metadata": {
    "collapsed": true
   },
   "outputs": [],
   "source": [
    "UNITS_PER_PAGE = 6\n",
    "TRUST_THRESHOLD = 0.7"
   ]
  },
  {
   "cell_type": "markdown",
   "metadata": {},
   "source": [
    "---"
   ]
  },
  {
   "cell_type": "code",
   "execution_count": 6,
   "metadata": {
    "collapsed": true
   },
   "outputs": [],
   "source": [
    "def convert_time(text):\n",
    "    \"\"\"\n",
    "    Given the time in CrowdFlower's output format,\n",
    "    convert it to a Python datetime object.\n",
    "    CrowdFlower time stamps are in UTC.\n",
    "    \n",
    "    CrowdFlower timestamps have the following format:\n",
    "    \n",
    "    month/day/year hour:minute:second\n",
    "    \n",
    "    Example:\n",
    "    \n",
    "    8/2/2015 00:26:24\n",
    "    \"\"\"\n",
    "    return dt.datetime.strptime(text, \"%m/%d/%Y %H:%M:%S\")\n",
    "\n",
    "def time_elapsed(start, stop):\n",
    "    \"\"\"\n",
    "    Given two Python datetime objects, determines the number\n",
    "    of seconds between those two times.\n",
    "    \"\"\"\n",
    "    seconds = int((stop - start).total_seconds())\n",
    "    assert seconds >= 0\n",
    "    return seconds\n",
    "\n",
    "def determine_time_taken(dataframe):\n",
    "    \"\"\"\n",
    "    Given a dataframe with the responses from one worker,\n",
    "    determines the time taken for one page of work.\n",
    "    \"\"\"\n",
    "    def time_taken_wrapper(row):\n",
    "        return time_elapsed(row[0], row[1])\n",
    "    \n",
    "    if dataframe.empty:\n",
    "        return pd.Series()\n",
    "    \n",
    "    time_taken = dataframe[[\"_started_at\", \"_created_at\"]].apply(time_taken_wrapper, axis = 1)\n",
    "    return time_taken\n",
    "\n",
    "def time_stats(time_series):\n",
    "    \"\"\"\n",
    "    Given the time taken for each individual work unit,\n",
    "    determines some stats.\n",
    "    \"\"\"\n",
    "    return (time_series.min(), time_series.median(), time_series.max())\n",
    "\n",
    "def get_country_name(code):\n",
    "    if isinstance(code, str):\n",
    "        return pycountry.countries.get(alpha3 = code).name.split(\",\")[0]\n",
    "    \n",
    "    # code is missing (NaN)\n",
    "    return \"unknown\""
   ]
  },
  {
   "cell_type": "markdown",
   "metadata": {},
   "source": [
    "## Worker analysis\n",
    "\n",
    "Before we look at the worker responses, let us examine the workers themselves."
   ]
  },
  {
   "cell_type": "code",
   "execution_count": 7,
   "metadata": {
    "collapsed": false
   },
   "outputs": [],
   "source": [
    "loc = \"../data/crowdflower/results/job_764099\"\n",
    "fname = \"job_764099_worker_summary.csv\"\n",
    "worker_data = pd.read_csv(os.path.join(loc, fname), sep = ',')"
   ]
  },
  {
   "cell_type": "code",
   "execution_count": 8,
   "metadata": {
    "collapsed": false
   },
   "outputs": [],
   "source": [
    "# add a column that tells us if a worker was flagged\n",
    "worker_data[\"flagged\"] = worker_data[\"flagged_at\"].map(lambda x: isinstance(x, str))"
   ]
  },
  {
   "cell_type": "code",
   "execution_count": 9,
   "metadata": {
    "collapsed": false
   },
   "outputs": [
    {
     "data": {
      "text/plain": [
       "(520, 19)"
      ]
     },
     "execution_count": 9,
     "metadata": {},
     "output_type": "execute_result"
    }
   ],
   "source": [
    "worker_data.shape"
   ]
  },
  {
   "cell_type": "code",
   "execution_count": 10,
   "metadata": {
    "collapsed": false,
    "scrolled": true
   },
   "outputs": [
    {
     "data": {
      "text/html": [
       "<div>\n",
       "<table border=\"1\" class=\"dataframe\">\n",
       "  <thead>\n",
       "    <tr style=\"text-align: right;\">\n",
       "      <th></th>\n",
       "      <th>worker_id</th>\n",
       "      <th>external_id</th>\n",
       "      <th>judgments_count</th>\n",
       "      <th>missed_count</th>\n",
       "      <th>golds_count</th>\n",
       "      <th>forgiven_count</th>\n",
       "      <th>channel</th>\n",
       "      <th>country</th>\n",
       "      <th>region</th>\n",
       "      <th>city</th>\n",
       "      <th>last_ip</th>\n",
       "      <th>flagged_at</th>\n",
       "      <th>rejected_at</th>\n",
       "      <th>bonus</th>\n",
       "      <th>flag_reason</th>\n",
       "      <th>trust_overall</th>\n",
       "      <th>submission_rate</th>\n",
       "      <th>level_2_contributors</th>\n",
       "      <th>flagged</th>\n",
       "    </tr>\n",
       "  </thead>\n",
       "  <tbody>\n",
       "    <tr>\n",
       "      <th>0</th>\n",
       "      <td>2253549</td>\n",
       "      <td>3174334</td>\n",
       "      <td>6</td>\n",
       "      <td>2</td>\n",
       "      <td>6</td>\n",
       "      <td>0</td>\n",
       "      <td>prodege</td>\n",
       "      <td>CAN</td>\n",
       "      <td>NaN</td>\n",
       "      <td>NaN</td>\n",
       "      <td>70.71.36.231</td>\n",
       "      <td>NaN</td>\n",
       "      <td>NaN</td>\n",
       "      <td>0</td>\n",
       "      <td>NaN</td>\n",
       "      <td>0.6667</td>\n",
       "      <td>360</td>\n",
       "      <td>1</td>\n",
       "      <td>False</td>\n",
       "    </tr>\n",
       "    <tr>\n",
       "      <th>1</th>\n",
       "      <td>3626598</td>\n",
       "      <td>94399</td>\n",
       "      <td>18</td>\n",
       "      <td>0</td>\n",
       "      <td>8</td>\n",
       "      <td>0</td>\n",
       "      <td>prodege</td>\n",
       "      <td>CAN</td>\n",
       "      <td>ON</td>\n",
       "      <td>Sault Sainte Marie</td>\n",
       "      <td>70.51.130.192</td>\n",
       "      <td>NaN</td>\n",
       "      <td>NaN</td>\n",
       "      <td>0</td>\n",
       "      <td>NaN</td>\n",
       "      <td>1.0000</td>\n",
       "      <td>360</td>\n",
       "      <td>1</td>\n",
       "      <td>False</td>\n",
       "    </tr>\n",
       "    <tr>\n",
       "      <th>2</th>\n",
       "      <td>4438583</td>\n",
       "      <td>607536</td>\n",
       "      <td>6</td>\n",
       "      <td>2</td>\n",
       "      <td>6</td>\n",
       "      <td>0</td>\n",
       "      <td>treasuretrooper</td>\n",
       "      <td>USA</td>\n",
       "      <td>GA</td>\n",
       "      <td>Hephzibah</td>\n",
       "      <td>68.217.202.244</td>\n",
       "      <td>NaN</td>\n",
       "      <td>NaN</td>\n",
       "      <td>0</td>\n",
       "      <td>NaN</td>\n",
       "      <td>0.6667</td>\n",
       "      <td>0</td>\n",
       "      <td>1</td>\n",
       "      <td>False</td>\n",
       "    </tr>\n",
       "    <tr>\n",
       "      <th>3</th>\n",
       "      <td>6329782</td>\n",
       "      <td>3430360</td>\n",
       "      <td>6</td>\n",
       "      <td>3</td>\n",
       "      <td>6</td>\n",
       "      <td>0</td>\n",
       "      <td>clixsense</td>\n",
       "      <td>IDN</td>\n",
       "      <td>04</td>\n",
       "      <td>Jakarta</td>\n",
       "      <td>114.79.28.109</td>\n",
       "      <td>NaN</td>\n",
       "      <td>NaN</td>\n",
       "      <td>0</td>\n",
       "      <td>NaN</td>\n",
       "      <td>0.5000</td>\n",
       "      <td>0</td>\n",
       "      <td>1</td>\n",
       "      <td>False</td>\n",
       "    </tr>\n",
       "    <tr>\n",
       "      <th>4</th>\n",
       "      <td>6330007</td>\n",
       "      <td>2492964</td>\n",
       "      <td>96</td>\n",
       "      <td>4</td>\n",
       "      <td>21</td>\n",
       "      <td>0</td>\n",
       "      <td>clixsense</td>\n",
       "      <td>AUS</td>\n",
       "      <td>06</td>\n",
       "      <td>Hobart</td>\n",
       "      <td>101.178.23.28</td>\n",
       "      <td>NaN</td>\n",
       "      <td>NaN</td>\n",
       "      <td>0</td>\n",
       "      <td>NaN</td>\n",
       "      <td>0.8095</td>\n",
       "      <td>360</td>\n",
       "      <td>1</td>\n",
       "      <td>False</td>\n",
       "    </tr>\n",
       "  </tbody>\n",
       "</table>\n",
       "</div>"
      ],
      "text/plain": [
       "   worker_id external_id  judgments_count  missed_count  golds_count  \\\n",
       "0    2253549     3174334                6             2            6   \n",
       "1    3626598       94399               18             0            8   \n",
       "2    4438583      607536                6             2            6   \n",
       "3    6329782     3430360                6             3            6   \n",
       "4    6330007     2492964               96             4           21   \n",
       "\n",
       "   forgiven_count          channel country region                city  \\\n",
       "0               0          prodege     CAN    NaN                 NaN   \n",
       "1               0          prodege     CAN     ON  Sault Sainte Marie   \n",
       "2               0  treasuretrooper     USA     GA           Hephzibah   \n",
       "3               0        clixsense     IDN     04             Jakarta   \n",
       "4               0        clixsense     AUS     06              Hobart   \n",
       "\n",
       "          last_ip flagged_at rejected_at  bonus flag_reason  trust_overall  \\\n",
       "0    70.71.36.231        NaN         NaN      0         NaN         0.6667   \n",
       "1   70.51.130.192        NaN         NaN      0         NaN         1.0000   \n",
       "2  68.217.202.244        NaN         NaN      0         NaN         0.6667   \n",
       "3   114.79.28.109        NaN         NaN      0         NaN         0.5000   \n",
       "4   101.178.23.28        NaN         NaN      0         NaN         0.8095   \n",
       "\n",
       "   submission_rate  level_2_contributors flagged  \n",
       "0              360                     1   False  \n",
       "1              360                     1   False  \n",
       "2                0                     1   False  \n",
       "3                0                     1   False  \n",
       "4              360                     1   False  "
      ]
     },
     "execution_count": 10,
     "metadata": {},
     "output_type": "execute_result"
    }
   ],
   "source": [
    "worker_data.head()"
   ]
  },
  {
   "cell_type": "markdown",
   "metadata": {},
   "source": [
    "### Quiz stats:\n",
    "\n",
    "How many workers made zero judgments? How many workers took the test but failed? How many workers passed the quiz?"
   ]
  },
  {
   "cell_type": "code",
   "execution_count": 11,
   "metadata": {
    "collapsed": false
   },
   "outputs": [
    {
     "data": {
      "text/plain": [
       "520"
      ]
     },
     "execution_count": 11,
     "metadata": {},
     "output_type": "execute_result"
    }
   ],
   "source": [
    "# total workers:\n",
    "len(worker_data)"
   ]
  },
  {
   "cell_type": "code",
   "execution_count": 12,
   "metadata": {
    "collapsed": false
   },
   "outputs": [
    {
     "data": {
      "text/plain": [
       "230"
      ]
     },
     "execution_count": 12,
     "metadata": {},
     "output_type": "execute_result"
    }
   ],
   "source": [
    "# zero judgments (gave up immediately?)\n",
    "len(worker_data.query(\"judgments_count == 0\"))"
   ]
  },
  {
   "cell_type": "code",
   "execution_count": 13,
   "metadata": {
    "collapsed": false
   },
   "outputs": [
    {
     "data": {
      "text/plain": [
       "290"
      ]
     },
     "execution_count": 13,
     "metadata": {},
     "output_type": "execute_result"
    }
   ],
   "source": [
    "# made at least one judgement\n",
    "len(worker_data.query(\"judgments_count > 0\"))"
   ]
  },
  {
   "cell_type": "code",
   "execution_count": 14,
   "metadata": {
    "collapsed": false
   },
   "outputs": [
    {
     "data": {
      "text/plain": [
       "134"
      ]
     },
     "execution_count": 14,
     "metadata": {},
     "output_type": "execute_result"
    }
   ],
   "source": [
    "# saw only the quiz\n",
    "len(worker_data.query(\"judgments_count == 6\"))"
   ]
  },
  {
   "cell_type": "code",
   "execution_count": 15,
   "metadata": {
    "collapsed": false
   },
   "outputs": [
    {
     "data": {
      "text/plain": [
       "156"
      ]
     },
     "execution_count": 15,
     "metadata": {},
     "output_type": "execute_result"
    }
   ],
   "source": [
    "# saw some real work (passed initial quiz)\n",
    "len(worker_data.query(\"judgments_count > 6\"))"
   ]
  },
  {
   "cell_type": "code",
   "execution_count": 16,
   "metadata": {
    "collapsed": false
   },
   "outputs": [
    {
     "data": {
      "text/plain": [
       "6"
      ]
     },
     "execution_count": 16,
     "metadata": {},
     "output_type": "execute_result"
    }
   ],
   "source": [
    "# saw only the quiz and passed, but did no real work\n",
    "len(worker_data.query(\"judgments_count == 6 and trust_overall >= 0.7\"))"
   ]
  },
  {
   "cell_type": "code",
   "execution_count": 17,
   "metadata": {
    "collapsed": false
   },
   "outputs": [
    {
     "data": {
      "text/plain": [
       "128"
      ]
     },
     "execution_count": 17,
     "metadata": {},
     "output_type": "execute_result"
    }
   ],
   "source": [
    "# failed the initial quiz\n",
    "len(worker_data.query(\"judgments_count == 6 and trust_overall < 0.7\"))"
   ]
  },
  {
   "cell_type": "code",
   "execution_count": 18,
   "metadata": {
    "collapsed": false
   },
   "outputs": [
    {
     "data": {
      "text/plain": [
       "13"
      ]
     },
     "execution_count": 18,
     "metadata": {},
     "output_type": "execute_result"
    }
   ],
   "source": [
    "# eventually failed out of the job\n",
    "len(worker_data.query(\"judgments_count > 6 and trust_overall < 0.7\"))"
   ]
  },
  {
   "cell_type": "code",
   "execution_count": 19,
   "metadata": {
    "collapsed": false
   },
   "outputs": [
    {
     "data": {
      "text/plain": [
       "9"
      ]
     },
     "execution_count": 19,
     "metadata": {},
     "output_type": "execute_result"
    }
   ],
   "source": [
    "# had good trust score but was kicked out due to weird answer distribution\n",
    "len(worker_data.query(\"judgments_count > 6 and trust_overall >= 0.7 and flagged\"))"
   ]
  },
  {
   "cell_type": "code",
   "execution_count": 20,
   "metadata": {
    "collapsed": false
   },
   "outputs": [
    {
     "name": "stdout",
     "output_type": "stream",
     "text": [
      "134\n"
     ]
    }
   ],
   "source": [
    "# had good trust score but was kicked out due to weird answer distribution\n",
    "good_workers = worker_data.query(\"judgments_count > 6 and trust_overall >= 0.7 and ~flagged\")\n",
    "print(len(good_workers))"
   ]
  },
  {
   "cell_type": "markdown",
   "metadata": {},
   "source": [
    "### Summary of worker distribution\n",
    "\n",
    "A diagram detailing how the workers were distributed is given below:\n",
    "\n",
    "<img src=\"../data/crowdflower/results/job_764099/job_764099_worker_distribution.png\">"
   ]
  },
  {
   "cell_type": "markdown",
   "metadata": {},
   "source": [
    "---"
   ]
  },
  {
   "cell_type": "markdown",
   "metadata": {},
   "source": [
    "### Statistics about the good workers"
   ]
  },
  {
   "cell_type": "code",
   "execution_count": 21,
   "metadata": {
    "collapsed": false
   },
   "outputs": [
    {
     "data": {
      "text/html": [
       "<div>\n",
       "<table border=\"1\" class=\"dataframe\">\n",
       "  <thead>\n",
       "    <tr style=\"text-align: right;\">\n",
       "      <th></th>\n",
       "      <th>worker_id</th>\n",
       "      <th>external_id</th>\n",
       "      <th>judgments_count</th>\n",
       "      <th>missed_count</th>\n",
       "      <th>golds_count</th>\n",
       "      <th>forgiven_count</th>\n",
       "      <th>channel</th>\n",
       "      <th>country</th>\n",
       "      <th>region</th>\n",
       "      <th>city</th>\n",
       "      <th>last_ip</th>\n",
       "      <th>flagged_at</th>\n",
       "      <th>rejected_at</th>\n",
       "      <th>bonus</th>\n",
       "      <th>flag_reason</th>\n",
       "      <th>trust_overall</th>\n",
       "      <th>submission_rate</th>\n",
       "      <th>level_2_contributors</th>\n",
       "      <th>flagged</th>\n",
       "    </tr>\n",
       "  </thead>\n",
       "  <tbody>\n",
       "    <tr>\n",
       "      <th>1</th>\n",
       "      <td>3626598</td>\n",
       "      <td>94399</td>\n",
       "      <td>18</td>\n",
       "      <td>0</td>\n",
       "      <td>8</td>\n",
       "      <td>0</td>\n",
       "      <td>prodege</td>\n",
       "      <td>CAN</td>\n",
       "      <td>ON</td>\n",
       "      <td>Sault Sainte Marie</td>\n",
       "      <td>70.51.130.192</td>\n",
       "      <td>NaN</td>\n",
       "      <td>NaN</td>\n",
       "      <td>0</td>\n",
       "      <td>NaN</td>\n",
       "      <td>1.0000</td>\n",
       "      <td>360</td>\n",
       "      <td>1</td>\n",
       "      <td>False</td>\n",
       "    </tr>\n",
       "    <tr>\n",
       "      <th>4</th>\n",
       "      <td>6330007</td>\n",
       "      <td>2492964</td>\n",
       "      <td>96</td>\n",
       "      <td>4</td>\n",
       "      <td>21</td>\n",
       "      <td>0</td>\n",
       "      <td>clixsense</td>\n",
       "      <td>AUS</td>\n",
       "      <td>06</td>\n",
       "      <td>Hobart</td>\n",
       "      <td>101.178.23.28</td>\n",
       "      <td>NaN</td>\n",
       "      <td>NaN</td>\n",
       "      <td>0</td>\n",
       "      <td>NaN</td>\n",
       "      <td>0.8095</td>\n",
       "      <td>360</td>\n",
       "      <td>1</td>\n",
       "      <td>False</td>\n",
       "    </tr>\n",
       "    <tr>\n",
       "      <th>9</th>\n",
       "      <td>6572540</td>\n",
       "      <td>3908965</td>\n",
       "      <td>138</td>\n",
       "      <td>1</td>\n",
       "      <td>28</td>\n",
       "      <td>0</td>\n",
       "      <td>clixsense</td>\n",
       "      <td>PRT</td>\n",
       "      <td>19</td>\n",
       "      <td>Setúbal</td>\n",
       "      <td>84.91.152.123</td>\n",
       "      <td>NaN</td>\n",
       "      <td>NaN</td>\n",
       "      <td>0</td>\n",
       "      <td>NaN</td>\n",
       "      <td>0.9643</td>\n",
       "      <td>99</td>\n",
       "      <td>1</td>\n",
       "      <td>False</td>\n",
       "    </tr>\n",
       "    <tr>\n",
       "      <th>14</th>\n",
       "      <td>9336290</td>\n",
       "      <td>4251248</td>\n",
       "      <td>414</td>\n",
       "      <td>4</td>\n",
       "      <td>74</td>\n",
       "      <td>0</td>\n",
       "      <td>clixsense</td>\n",
       "      <td>COL</td>\n",
       "      <td>NaN</td>\n",
       "      <td>NaN</td>\n",
       "      <td>181.62.183.168</td>\n",
       "      <td>NaN</td>\n",
       "      <td>NaN</td>\n",
       "      <td>0</td>\n",
       "      <td>NaN</td>\n",
       "      <td>0.9459</td>\n",
       "      <td>371</td>\n",
       "      <td>1</td>\n",
       "      <td>False</td>\n",
       "    </tr>\n",
       "    <tr>\n",
       "      <th>15</th>\n",
       "      <td>9832767</td>\n",
       "      <td>2758095</td>\n",
       "      <td>72</td>\n",
       "      <td>1</td>\n",
       "      <td>17</td>\n",
       "      <td>0</td>\n",
       "      <td>clixsense</td>\n",
       "      <td>IND</td>\n",
       "      <td>25</td>\n",
       "      <td>Sivaganga</td>\n",
       "      <td>117.206.125.9</td>\n",
       "      <td>NaN</td>\n",
       "      <td>NaN</td>\n",
       "      <td>0</td>\n",
       "      <td>NaN</td>\n",
       "      <td>0.9412</td>\n",
       "      <td>360</td>\n",
       "      <td>1</td>\n",
       "      <td>False</td>\n",
       "    </tr>\n",
       "  </tbody>\n",
       "</table>\n",
       "</div>"
      ],
      "text/plain": [
       "    worker_id external_id  judgments_count  missed_count  golds_count  \\\n",
       "1     3626598       94399               18             0            8   \n",
       "4     6330007     2492964               96             4           21   \n",
       "9     6572540     3908965              138             1           28   \n",
       "14    9336290     4251248              414             4           74   \n",
       "15    9832767     2758095               72             1           17   \n",
       "\n",
       "    forgiven_count    channel country region                city  \\\n",
       "1                0    prodege     CAN     ON  Sault Sainte Marie   \n",
       "4                0  clixsense     AUS     06              Hobart   \n",
       "9                0  clixsense     PRT     19             Setúbal   \n",
       "14               0  clixsense     COL    NaN                 NaN   \n",
       "15               0  clixsense     IND     25           Sivaganga   \n",
       "\n",
       "           last_ip flagged_at rejected_at  bonus flag_reason  trust_overall  \\\n",
       "1    70.51.130.192        NaN         NaN      0         NaN         1.0000   \n",
       "4    101.178.23.28        NaN         NaN      0         NaN         0.8095   \n",
       "9    84.91.152.123        NaN         NaN      0         NaN         0.9643   \n",
       "14  181.62.183.168        NaN         NaN      0         NaN         0.9459   \n",
       "15   117.206.125.9        NaN         NaN      0         NaN         0.9412   \n",
       "\n",
       "    submission_rate  level_2_contributors flagged  \n",
       "1               360                     1   False  \n",
       "4               360                     1   False  \n",
       "9                99                     1   False  \n",
       "14              371                     1   False  \n",
       "15              360                     1   False  "
      ]
     },
     "execution_count": 21,
     "metadata": {},
     "output_type": "execute_result"
    }
   ],
   "source": [
    "good_workers.head()"
   ]
  },
  {
   "cell_type": "code",
   "execution_count": 22,
   "metadata": {
    "collapsed": true
   },
   "outputs": [],
   "source": [
    "good_worker_ids = set(good_workers[\"worker_id\"])"
   ]
  },
  {
   "cell_type": "markdown",
   "metadata": {},
   "source": [
    "### Where did the good workers come from?"
   ]
  },
  {
   "cell_type": "code",
   "execution_count": 23,
   "metadata": {
    "collapsed": false
   },
   "outputs": [
    {
     "data": {
      "text/plain": [
       "<matplotlib.axes._subplots.AxesSubplot at 0x7fc8603b09b0>"
      ]
     },
     "execution_count": 23,
     "metadata": {},
     "output_type": "execute_result"
    },
    {
     "data": {
      "image/png": "[encoded data removed]",
      "text/plain": [
       "<matplotlib.figure.Figure at 0x7fc860390dd8>"
      ]
     },
     "metadata": {},
     "output_type": "display_data"
    }
   ],
   "source": [
    "good_workers[\"country\"].map(get_country_name).value_counts().plot(kind = \"barh\", figsize = (6, 10))"
   ]
  },
  {
   "cell_type": "markdown",
   "metadata": {
    "collapsed": true
   },
   "source": [
    "### What were their final trust scores?"
   ]
  },
  {
   "cell_type": "code",
   "execution_count": 24,
   "metadata": {
    "collapsed": false
   },
   "outputs": [
    {
     "data": {
      "text/plain": [
       "<matplotlib.text.Text at 0x7fc84334db70>"
      ]
     },
     "execution_count": 24,
     "metadata": {},
     "output_type": "execute_result"
    },
    {
     "data": {
      "image/png": "[encoded data removed]",
      "text/plain": [
       "<matplotlib.figure.Figure at 0x7fc8433abf98>"
      ]
     },
     "metadata": {},
     "output_type": "display_data"
    }
   ],
   "source": [
    "graph = good_workers[\"trust_overall\"].plot(kind = \"hist\", title = \"Final trust score for good workers\")\n",
    "graph.set_ylabel(\"Number of workers\")\n",
    "graph.set_xlabel(\"Final trust score\")"
   ]
  },
  {
   "cell_type": "markdown",
   "metadata": {
    "collapsed": true
   },
   "source": [
    "### How much work did the good workers do?"
   ]
  },
  {
   "cell_type": "code",
   "execution_count": 25,
   "metadata": {
    "collapsed": false
   },
   "outputs": [
    {
     "data": {
      "text/plain": [
       "<matplotlib.text.Text at 0x7fc843260908>"
      ]
     },
     "execution_count": 25,
     "metadata": {},
     "output_type": "execute_result"
    },
    {
     "data": {
      "image/png": "[encoded data removed]",
      "text/plain": [
       "<matplotlib.figure.Figure at 0x7fc843238eb8>"
      ]
     },
     "metadata": {},
     "output_type": "display_data"
    }
   ],
   "source": [
    "# plot the amount of work done by the good workers\n",
    "# only count real work units, not the test questions\n",
    "work_done = good_workers[[\"judgments_count\", \"golds_count\"]].apply(lambda v: v[\"judgments_count\"] - v[\"golds_count\"], axis = 1)\n",
    "\n",
    "graph = pd.Series(sorted(work_done, reverse = True)).plot(title = \"Work done by good workers\")\n",
    "graph.set_ylabel(\"Work units seen\")\n",
    "graph.set_xlabel(\"Good workers\")"
   ]
  },
  {
   "cell_type": "markdown",
   "metadata": {},
   "source": [
    "The workers deemed \"good\" here have not yet conclusively been proven to be good workers. They may be sophisticated computer programs. However, since it is unlikely that hackers have access to hundreds of different accounts, it like quite likely that all of the \"good workers\" are in fact humans. We can be confident because there was a huge amount of test questions this time, which no single worker has completely seen prior to this job."
   ]
  },
  {
   "cell_type": "markdown",
   "metadata": {
    "collapsed": true
   },
   "source": [
    "---"
   ]
  },
  {
   "cell_type": "markdown",
   "metadata": {},
   "source": [
    "## Results\n",
    "\n",
    "Now that we know a little bit about the good workers, let's look at the results."
   ]
  },
  {
   "cell_type": "markdown",
   "metadata": {},
   "source": [
    "### Read the complete set of results:"
   ]
  },
  {
   "cell_type": "code",
   "execution_count": 27,
   "metadata": {
    "collapsed": false
   },
   "outputs": [
    {
     "name": "stderr",
     "output_type": "stream",
     "text": [
      "/usr/lib/python3.4/site-packages/IPython/core/interactiveshell.py:3006: DtypeWarning: Columns (4,16,27,28) have mixed types. Specify dtype option on import or set low_memory=False.\n",
      "  if self.run_code(code, result):\n"
     ]
    }
   ],
   "source": [
    "settings = {\n",
    "    \"loc\": \"../data/crowdflower/results/job_764099\",\n",
    "    \"fname\": \"job_764099_full_with_untrusted.csv\",\n",
    "    \"data_subset\": \"all\",\n",
    "    \"min_accuracy\": 0.0,\n",
    "    \"max_accuracy\": 1.0,\n",
    "    \"dtype\": None\n",
    "}\n",
    "\n",
    "# all data collected\n",
    "all_raw_data = filter_data(settings)"
   ]
  },
  {
   "cell_type": "code",
   "execution_count": 28,
   "metadata": {
    "collapsed": false
   },
   "outputs": [
    {
     "name": "stderr",
     "output_type": "stream",
     "text": [
      "/usr/lib/python3.4/site-packages/IPython/core/interactiveshell.py:3006: DtypeWarning: Columns (4,16,27,28) have mixed types. Specify dtype option on import or set low_memory=False.\n",
      "  if self.run_code(code, result):\n"
     ]
    }
   ],
   "source": [
    "settings = {\n",
    "    \"loc\": \"../data/crowdflower/results/job_764099\",\n",
    "    \"fname\": \"job_764099_full_with_untrusted.csv\",\n",
    "    \"data_subset\": \"normal\",\n",
    "    \"min_accuracy\": 0.7,\n",
    "    \"max_accuracy\": 1.0,\n",
    "    \"dtype\": None\n",
    "}\n",
    "\n",
    "work_raw_data = filter_data(settings)"
   ]
  },
  {
   "cell_type": "markdown",
   "metadata": {
    "collapsed": true
   },
   "source": [
    "---"
   ]
  },
  {
   "cell_type": "code",
   "execution_count": 29,
   "metadata": {
    "collapsed": false
   },
   "outputs": [
    {
     "data": {
      "text/plain": [
       "(26115, 29)"
      ]
     },
     "execution_count": 29,
     "metadata": {},
     "output_type": "execute_result"
    }
   ],
   "source": [
    "work_raw_data.shape"
   ]
  },
  {
   "cell_type": "code",
   "execution_count": 30,
   "metadata": {
    "collapsed": false
   },
   "outputs": [
    {
     "data": {
      "text/html": [
       "<div>\n",
       "<table border=\"1\" class=\"dataframe\">\n",
       "  <thead>\n",
       "    <tr style=\"text-align: right;\">\n",
       "      <th></th>\n",
       "      <th>_unit_id</th>\n",
       "      <th>_created_at</th>\n",
       "      <th>_golden</th>\n",
       "      <th>_id</th>\n",
       "      <th>_missed</th>\n",
       "      <th>_started_at</th>\n",
       "      <th>_tainted</th>\n",
       "      <th>_channel</th>\n",
       "      <th>_trust</th>\n",
       "      <th>_worker_id</th>\n",
       "      <th>...</th>\n",
       "      <th>disease_id</th>\n",
       "      <th>disease_name</th>\n",
       "      <th>form_sentence</th>\n",
       "      <th>original_job_id</th>\n",
       "      <th>pmid</th>\n",
       "      <th>relation_pair_id</th>\n",
       "      <th>sentence_id</th>\n",
       "      <th>uniq_id</th>\n",
       "      <th>verify_relationship_gold</th>\n",
       "      <th>verify_relationship_gold_reason</th>\n",
       "    </tr>\n",
       "  </thead>\n",
       "  <tbody>\n",
       "    <tr>\n",
       "      <th>7049</th>\n",
       "      <td>770955926</td>\n",
       "      <td>8/14/2015 22:18:10</td>\n",
       "      <td>False</td>\n",
       "      <td>1711777499</td>\n",
       "      <td>NaN</td>\n",
       "      <td>8/14/2015 22:17:50</td>\n",
       "      <td>False</td>\n",
       "      <td>neodev</td>\n",
       "      <td>0.8736</td>\n",
       "      <td>11014811</td>\n",
       "      <td>...</td>\n",
       "      <td>D000744</td>\n",
       "      <td>&lt;span class=\"disease\"&gt;immunodeficiency&lt;/span&gt;</td>\n",
       "      <td>Novel mutation in the human &lt;span class=\"disea...</td>\n",
       "      <td>NaN</td>\n",
       "      <td>1279198</td>\n",
       "      <td>1279198_D016047_D000744</td>\n",
       "      <td>1279198_0</td>\n",
       "      <td>bcv_sentence_task_befree_0</td>\n",
       "      <td>NaN</td>\n",
       "      <td>NaN</td>\n",
       "    </tr>\n",
       "    <tr>\n",
       "      <th>7050</th>\n",
       "      <td>770955926</td>\n",
       "      <td>8/14/2015 22:18:18</td>\n",
       "      <td>False</td>\n",
       "      <td>1711777705</td>\n",
       "      <td>NaN</td>\n",
       "      <td>8/14/2015 22:17:49</td>\n",
       "      <td>False</td>\n",
       "      <td>elite</td>\n",
       "      <td>0.8407</td>\n",
       "      <td>33465739</td>\n",
       "      <td>...</td>\n",
       "      <td>D000744</td>\n",
       "      <td>&lt;span class=\"disease\"&gt;immunodeficiency&lt;/span&gt;</td>\n",
       "      <td>Novel mutation in the human &lt;span class=\"disea...</td>\n",
       "      <td>NaN</td>\n",
       "      <td>1279198</td>\n",
       "      <td>1279198_D016047_D000744</td>\n",
       "      <td>1279198_0</td>\n",
       "      <td>bcv_sentence_task_befree_0</td>\n",
       "      <td>NaN</td>\n",
       "      <td>NaN</td>\n",
       "    </tr>\n",
       "    <tr>\n",
       "      <th>7051</th>\n",
       "      <td>770955926</td>\n",
       "      <td>8/14/2015 22:18:30</td>\n",
       "      <td>False</td>\n",
       "      <td>1711777986</td>\n",
       "      <td>NaN</td>\n",
       "      <td>8/14/2015 22:17:46</td>\n",
       "      <td>False</td>\n",
       "      <td>neodev</td>\n",
       "      <td>0.8936</td>\n",
       "      <td>30441537</td>\n",
       "      <td>...</td>\n",
       "      <td>D000744</td>\n",
       "      <td>&lt;span class=\"disease\"&gt;immunodeficiency&lt;/span&gt;</td>\n",
       "      <td>Novel mutation in the human &lt;span class=\"disea...</td>\n",
       "      <td>NaN</td>\n",
       "      <td>1279198</td>\n",
       "      <td>1279198_D016047_D000744</td>\n",
       "      <td>1279198_0</td>\n",
       "      <td>bcv_sentence_task_befree_0</td>\n",
       "      <td>NaN</td>\n",
       "      <td>NaN</td>\n",
       "    </tr>\n",
       "    <tr>\n",
       "      <th>7052</th>\n",
       "      <td>770955926</td>\n",
       "      <td>8/14/2015 22:20:11</td>\n",
       "      <td>False</td>\n",
       "      <td>1711780634</td>\n",
       "      <td>NaN</td>\n",
       "      <td>8/14/2015 22:17:51</td>\n",
       "      <td>False</td>\n",
       "      <td>neodev</td>\n",
       "      <td>0.9500</td>\n",
       "      <td>32664120</td>\n",
       "      <td>...</td>\n",
       "      <td>D000744</td>\n",
       "      <td>&lt;span class=\"disease\"&gt;immunodeficiency&lt;/span&gt;</td>\n",
       "      <td>Novel mutation in the human &lt;span class=\"disea...</td>\n",
       "      <td>NaN</td>\n",
       "      <td>1279198</td>\n",
       "      <td>1279198_D016047_D000744</td>\n",
       "      <td>1279198_0</td>\n",
       "      <td>bcv_sentence_task_befree_0</td>\n",
       "      <td>NaN</td>\n",
       "      <td>NaN</td>\n",
       "    </tr>\n",
       "    <tr>\n",
       "      <th>7053</th>\n",
       "      <td>770955926</td>\n",
       "      <td>8/14/2015 22:22:41</td>\n",
       "      <td>False</td>\n",
       "      <td>1711784648</td>\n",
       "      <td>NaN</td>\n",
       "      <td>8/14/2015 22:17:42</td>\n",
       "      <td>False</td>\n",
       "      <td>neodev</td>\n",
       "      <td>0.9167</td>\n",
       "      <td>32035862</td>\n",
       "      <td>...</td>\n",
       "      <td>D000744</td>\n",
       "      <td>&lt;span class=\"disease\"&gt;immunodeficiency&lt;/span&gt;</td>\n",
       "      <td>Novel mutation in the human &lt;span class=\"disea...</td>\n",
       "      <td>NaN</td>\n",
       "      <td>1279198</td>\n",
       "      <td>1279198_D016047_D000744</td>\n",
       "      <td>1279198_0</td>\n",
       "      <td>bcv_sentence_task_befree_0</td>\n",
       "      <td>NaN</td>\n",
       "      <td>NaN</td>\n",
       "    </tr>\n",
       "  </tbody>\n",
       "</table>\n",
       "<p>5 rows × 29 columns</p>\n",
       "</div>"
      ],
      "text/plain": [
       "       _unit_id         _created_at _golden         _id _missed  \\\n",
       "7049  770955926  8/14/2015 22:18:10   False  1711777499     NaN   \n",
       "7050  770955926  8/14/2015 22:18:18   False  1711777705     NaN   \n",
       "7051  770955926  8/14/2015 22:18:30   False  1711777986     NaN   \n",
       "7052  770955926  8/14/2015 22:20:11   False  1711780634     NaN   \n",
       "7053  770955926  8/14/2015 22:22:41   False  1711784648     NaN   \n",
       "\n",
       "             _started_at _tainted _channel  _trust  _worker_id  \\\n",
       "7049  8/14/2015 22:17:50    False   neodev  0.8736    11014811   \n",
       "7050  8/14/2015 22:17:49    False    elite  0.8407    33465739   \n",
       "7051  8/14/2015 22:17:46    False   neodev  0.8936    30441537   \n",
       "7052  8/14/2015 22:17:51    False   neodev  0.9500    32664120   \n",
       "7053  8/14/2015 22:17:42    False   neodev  0.9167    32035862   \n",
       "\n",
       "                   ...               disease_id  \\\n",
       "7049               ...                  D000744   \n",
       "7050               ...                  D000744   \n",
       "7051               ...                  D000744   \n",
       "7052               ...                  D000744   \n",
       "7053               ...                  D000744   \n",
       "\n",
       "                                       disease_name  \\\n",
       "7049  <span class=\"disease\">immunodeficiency</span>   \n",
       "7050  <span class=\"disease\">immunodeficiency</span>   \n",
       "7051  <span class=\"disease\">immunodeficiency</span>   \n",
       "7052  <span class=\"disease\">immunodeficiency</span>   \n",
       "7053  <span class=\"disease\">immunodeficiency</span>   \n",
       "\n",
       "                                          form_sentence original_job_id  \\\n",
       "7049  Novel mutation in the human <span class=\"disea...             NaN   \n",
       "7050  Novel mutation in the human <span class=\"disea...             NaN   \n",
       "7051  Novel mutation in the human <span class=\"disea...             NaN   \n",
       "7052  Novel mutation in the human <span class=\"disea...             NaN   \n",
       "7053  Novel mutation in the human <span class=\"disea...             NaN   \n",
       "\n",
       "         pmid         relation_pair_id sentence_id  \\\n",
       "7049  1279198  1279198_D016047_D000744   1279198_0   \n",
       "7050  1279198  1279198_D016047_D000744   1279198_0   \n",
       "7051  1279198  1279198_D016047_D000744   1279198_0   \n",
       "7052  1279198  1279198_D016047_D000744   1279198_0   \n",
       "7053  1279198  1279198_D016047_D000744   1279198_0   \n",
       "\n",
       "                         uniq_id verify_relationship_gold  \\\n",
       "7049  bcv_sentence_task_befree_0                      NaN   \n",
       "7050  bcv_sentence_task_befree_0                      NaN   \n",
       "7051  bcv_sentence_task_befree_0                      NaN   \n",
       "7052  bcv_sentence_task_befree_0                      NaN   \n",
       "7053  bcv_sentence_task_befree_0                      NaN   \n",
       "\n",
       "     verify_relationship_gold_reason  \n",
       "7049                             NaN  \n",
       "7050                             NaN  \n",
       "7051                             NaN  \n",
       "7052                             NaN  \n",
       "7053                             NaN  \n",
       "\n",
       "[5 rows x 29 columns]"
      ]
     },
     "execution_count": 30,
     "metadata": {},
     "output_type": "execute_result"
    }
   ],
   "source": [
    "work_raw_data.head()"
   ]
  },
  {
   "cell_type": "code",
   "execution_count": 31,
   "metadata": {
    "collapsed": false
   },
   "outputs": [
    {
     "data": {
      "text/plain": [
       "False    25800\n",
       "True       315\n",
       "Name: _tainted, dtype: int64"
      ]
     },
     "execution_count": 31,
     "metadata": {},
     "output_type": "execute_result"
    }
   ],
   "source": [
    "work_raw_data[\"_tainted\"].value_counts()"
   ]
  },
  {
   "cell_type": "markdown",
   "metadata": {},
   "source": [
    "Some judgments are tainted (due to workers flunking out or being flagged due to their answer distributions). We need to remove judgments made by these workers."
   ]
  },
  {
   "cell_type": "markdown",
   "metadata": {},
   "source": [
    "### Remove tainted rows"
   ]
  },
  {
   "cell_type": "code",
   "execution_count": 32,
   "metadata": {
    "collapsed": true
   },
   "outputs": [],
   "source": [
    "work_data = work_raw_data.query(\"~_tainted\")"
   ]
  },
  {
   "cell_type": "code",
   "execution_count": 33,
   "metadata": {
    "collapsed": false
   },
   "outputs": [
    {
     "data": {
      "text/plain": [
       "(25800, 29)"
      ]
     },
     "execution_count": 33,
     "metadata": {},
     "output_type": "execute_result"
    }
   ],
   "source": [
    "work_data.shape"
   ]
  },
  {
   "cell_type": "code",
   "execution_count": 34,
   "metadata": {
    "collapsed": false
   },
   "outputs": [
    {
     "name": "stdout",
     "output_type": "stream",
     "text": [
      "Judgements 5, # of work units: 5160\n"
     ]
    }
   ],
   "source": [
    "work_votes = defaultdict(set)\n",
    "for uniq_id, group in work_data.groupby(\"uniq_id\"):\n",
    "    work_votes[len(group[\"_worker_id\"].unique())].add(uniq_id)\n",
    "    \n",
    "for votes, units in work_votes.items():\n",
    "    print(\"Judgements {0}, # of work units: {1}\".format(votes, len(units)))"
   ]
  },
  {
   "cell_type": "markdown",
   "metadata": {},
   "source": [
    "Since we had 5160 original rows, this is the correct number of judgements 25800 = 5 * 5160."
   ]
  },
  {
   "cell_type": "code",
   "execution_count": 35,
   "metadata": {
    "collapsed": false
   },
   "outputs": [
    {
     "data": {
      "text/plain": [
       "no_relation     21293\n",
       "yes_direct       4298\n",
       "yes_indirect      209\n",
       "Name: verify_relationship, dtype: int64"
      ]
     },
     "execution_count": 35,
     "metadata": {},
     "output_type": "execute_result"
    }
   ],
   "source": [
    "work_data[\"verify_relationship\"].value_counts()"
   ]
  },
  {
   "cell_type": "markdown",
   "metadata": {},
   "source": [
    "---"
   ]
  },
  {
   "cell_type": "markdown",
   "metadata": {},
   "source": [
    "### Worker trust over time:\n",
    "\n",
    "For any worker, we can observe how their trust score fluctuated over time."
   ]
  },
  {
   "cell_type": "code",
   "execution_count": 36,
   "metadata": {
    "collapsed": true
   },
   "outputs": [],
   "source": [
    "def trust_over_time(dataframe):\n",
    "    res = defaultdict(list)\n",
    "\n",
    "    list_size = 0\n",
    "    for worker_id, resp in dataframe.groupby(\"_worker_id\"):\n",
    "        cum_seen = 0\n",
    "        cum_missed = 0\n",
    "        for fin_time, page in resp.groupby(\"_created_at\"):\n",
    "            seen = page[\"_golden\"].sum()\n",
    "            missed = page[\"_missed\"].sum()\n",
    "            \n",
    "            if np.isnan(missed):\n",
    "                missed = 0\n",
    "                \n",
    "            cum_seen += seen\n",
    "            cum_missed += missed\n",
    "            res[worker_id].append(1 - cum_missed / cum_seen)\n",
    "            \n",
    "        list_size = max(list_size, len(res[worker_id]))\n",
    "        \n",
    "    temp = dict()\n",
    "    for worker_id, values in res.items():\n",
    "        temp[worker_id] = values + [np.nan] * (list_size - len(values))\n",
    "        \n",
    "    return pd.DataFrame(temp)"
   ]
  },
  {
   "cell_type": "code",
   "execution_count": 37,
   "metadata": {
    "collapsed": true
   },
   "outputs": [],
   "source": [
    "temp = all_raw_data.query(\"_worker_id in {0}\".format(list(good_worker_ids)))"
   ]
  },
  {
   "cell_type": "code",
   "execution_count": 38,
   "metadata": {
    "collapsed": false
   },
   "outputs": [
    {
     "name": "stderr",
     "output_type": "stream",
     "text": [
      "/usr/lib64/python3.4/site-packages/pandas/core/indexing.py:426: SettingWithCopyWarning: \n",
      "A value is trying to be set on a copy of a slice from a DataFrame.\n",
      "Try using .loc[row_indexer,col_indexer] = value instead\n",
      "\n",
      "See the caveats in the documentation: http://pandas.pydata.org/pandas-docs/stable/indexing.html#indexing-view-versus-copy\n",
      "  self.obj[item] = s\n"
     ]
    }
   ],
   "source": [
    "temp.loc[:, \"_created_at\"] = temp.loc[:, \"_created_at\"].map(convert_time)\n",
    "temp.loc[:, \"_started_at\"] = temp.loc[:, \"_started_at\"].map(convert_time)"
   ]
  },
  {
   "cell_type": "code",
   "execution_count": 39,
   "metadata": {
    "collapsed": false
   },
   "outputs": [],
   "source": [
    "timeres = trust_over_time(temp)"
   ]
  },
  {
   "cell_type": "code",
   "execution_count": 40,
   "metadata": {
    "collapsed": false,
    "scrolled": true
   },
   "outputs": [
    {
     "data": {
      "text/html": [
       "<div>\n",
       "<table border=\"1\" class=\"dataframe\">\n",
       "  <thead>\n",
       "    <tr style=\"text-align: right;\">\n",
       "      <th></th>\n",
       "      <th>3626598</th>\n",
       "      <th>6330007</th>\n",
       "      <th>6572540</th>\n",
       "      <th>9336290</th>\n",
       "      <th>9832767</th>\n",
       "      <th>10538176</th>\n",
       "      <th>11000920</th>\n",
       "      <th>11014811</th>\n",
       "      <th>11064916</th>\n",
       "      <th>11081436</th>\n",
       "      <th>...</th>\n",
       "      <th>33579408</th>\n",
       "      <th>33664647</th>\n",
       "      <th>33677822</th>\n",
       "      <th>33690273</th>\n",
       "      <th>33697726</th>\n",
       "      <th>33697823</th>\n",
       "      <th>33719546</th>\n",
       "      <th>33732804</th>\n",
       "      <th>33746717</th>\n",
       "      <th>33924850</th>\n",
       "    </tr>\n",
       "  </thead>\n",
       "  <tbody>\n",
       "    <tr>\n",
       "      <th>0</th>\n",
       "      <td>1</td>\n",
       "      <td>1</td>\n",
       "      <td>1</td>\n",
       "      <td>0.833333</td>\n",
       "      <td>1.000000</td>\n",
       "      <td>1</td>\n",
       "      <td>1</td>\n",
       "      <td>1.000000</td>\n",
       "      <td>0.833333</td>\n",
       "      <td>0.833333</td>\n",
       "      <td>...</td>\n",
       "      <td>1</td>\n",
       "      <td>1.000000</td>\n",
       "      <td>0.833333</td>\n",
       "      <td>1</td>\n",
       "      <td>0.833333</td>\n",
       "      <td>1</td>\n",
       "      <td>1.000000</td>\n",
       "      <td>1.000000</td>\n",
       "      <td>1</td>\n",
       "      <td>0.833333</td>\n",
       "    </tr>\n",
       "    <tr>\n",
       "      <th>1</th>\n",
       "      <td>1</td>\n",
       "      <td>1</td>\n",
       "      <td>1</td>\n",
       "      <td>0.857143</td>\n",
       "      <td>1.000000</td>\n",
       "      <td>1</td>\n",
       "      <td>1</td>\n",
       "      <td>1.000000</td>\n",
       "      <td>0.857143</td>\n",
       "      <td>0.857143</td>\n",
       "      <td>...</td>\n",
       "      <td>1</td>\n",
       "      <td>0.857143</td>\n",
       "      <td>0.857143</td>\n",
       "      <td>1</td>\n",
       "      <td>0.857143</td>\n",
       "      <td>1</td>\n",
       "      <td>0.857143</td>\n",
       "      <td>0.857143</td>\n",
       "      <td>1</td>\n",
       "      <td>0.857143</td>\n",
       "    </tr>\n",
       "    <tr>\n",
       "      <th>2</th>\n",
       "      <td>1</td>\n",
       "      <td>1</td>\n",
       "      <td>1</td>\n",
       "      <td>0.875000</td>\n",
       "      <td>1.000000</td>\n",
       "      <td>1</td>\n",
       "      <td>1</td>\n",
       "      <td>0.875000</td>\n",
       "      <td>0.875000</td>\n",
       "      <td>0.875000</td>\n",
       "      <td>...</td>\n",
       "      <td>1</td>\n",
       "      <td>NaN</td>\n",
       "      <td>0.875000</td>\n",
       "      <td>1</td>\n",
       "      <td>0.875000</td>\n",
       "      <td>1</td>\n",
       "      <td>0.875000</td>\n",
       "      <td>0.875000</td>\n",
       "      <td>1</td>\n",
       "      <td>0.875000</td>\n",
       "    </tr>\n",
       "    <tr>\n",
       "      <th>3</th>\n",
       "      <td>NaN</td>\n",
       "      <td>1</td>\n",
       "      <td>1</td>\n",
       "      <td>0.888889</td>\n",
       "      <td>0.888889</td>\n",
       "      <td>1</td>\n",
       "      <td>1</td>\n",
       "      <td>0.777778</td>\n",
       "      <td>0.888889</td>\n",
       "      <td>0.888889</td>\n",
       "      <td>...</td>\n",
       "      <td>1</td>\n",
       "      <td>NaN</td>\n",
       "      <td>0.888889</td>\n",
       "      <td>1</td>\n",
       "      <td>0.888889</td>\n",
       "      <td>1</td>\n",
       "      <td>NaN</td>\n",
       "      <td>0.777778</td>\n",
       "      <td>1</td>\n",
       "      <td>0.888889</td>\n",
       "    </tr>\n",
       "    <tr>\n",
       "      <th>4</th>\n",
       "      <td>NaN</td>\n",
       "      <td>1</td>\n",
       "      <td>1</td>\n",
       "      <td>0.900000</td>\n",
       "      <td>0.900000</td>\n",
       "      <td>1</td>\n",
       "      <td>1</td>\n",
       "      <td>0.800000</td>\n",
       "      <td>0.900000</td>\n",
       "      <td>0.800000</td>\n",
       "      <td>...</td>\n",
       "      <td>1</td>\n",
       "      <td>NaN</td>\n",
       "      <td>0.900000</td>\n",
       "      <td>1</td>\n",
       "      <td>0.900000</td>\n",
       "      <td>1</td>\n",
       "      <td>NaN</td>\n",
       "      <td>0.800000</td>\n",
       "      <td>1</td>\n",
       "      <td>0.900000</td>\n",
       "    </tr>\n",
       "  </tbody>\n",
       "</table>\n",
       "<p>5 rows × 134 columns</p>\n",
       "</div>"
      ],
      "text/plain": [
       "   3626598   6330007   6572540   9336290   9832767   10538176  11000920  \\\n",
       "0         1         1         1  0.833333  1.000000         1         1   \n",
       "1         1         1         1  0.857143  1.000000         1         1   \n",
       "2         1         1         1  0.875000  1.000000         1         1   \n",
       "3       NaN         1         1  0.888889  0.888889         1         1   \n",
       "4       NaN         1         1  0.900000  0.900000         1         1   \n",
       "\n",
       "   11014811  11064916  11081436    ...     33579408  33664647  33677822  \\\n",
       "0  1.000000  0.833333  0.833333    ...            1  1.000000  0.833333   \n",
       "1  1.000000  0.857143  0.857143    ...            1  0.857143  0.857143   \n",
       "2  0.875000  0.875000  0.875000    ...            1       NaN  0.875000   \n",
       "3  0.777778  0.888889  0.888889    ...            1       NaN  0.888889   \n",
       "4  0.800000  0.900000  0.800000    ...            1       NaN  0.900000   \n",
       "\n",
       "   33690273  33697726  33697823  33719546  33732804  33746717  33924850  \n",
       "0         1  0.833333         1  1.000000  1.000000         1  0.833333  \n",
       "1         1  0.857143         1  0.857143  0.857143         1  0.857143  \n",
       "2         1  0.875000         1  0.875000  0.875000         1  0.875000  \n",
       "3         1  0.888889         1       NaN  0.777778         1  0.888889  \n",
       "4         1  0.900000         1       NaN  0.800000         1  0.900000  \n",
       "\n",
       "[5 rows x 134 columns]"
      ]
     },
     "execution_count": 40,
     "metadata": {},
     "output_type": "execute_result"
    }
   ],
   "source": [
    "timeres.head()"
   ]
  },
  {
   "cell_type": "code",
   "execution_count": 41,
   "metadata": {
    "collapsed": false
   },
   "outputs": [
    {
     "data": {
      "text/plain": [
       "<matplotlib.text.Text at 0x7fc842da6358>"
      ]
     },
     "execution_count": 41,
     "metadata": {},
     "output_type": "execute_result"
    },
    {
     "data": {
      "image/png": "[encoded data removed]",
      "text/plain": [
       "<matplotlib.figure.Figure at 0x7fc842779a20>"
      ]
     },
     "metadata": {},
     "output_type": "display_data"
    }
   ],
   "source": [
    "graph = timeres.plot(legend = False, figsize = (8, 5),\n",
    "            title = \"All good workers' cumulative trust scores over time\")\n",
    "\n",
    "graph.set_ylim((0, 1.05))\n",
    "graph.set_xlabel(\"Consecutive pages of work\")\n",
    "graph.set_ylabel(\"Trust score\")"
   ]
  },
  {
   "cell_type": "markdown",
   "metadata": {},
   "source": [
    "### Result aggregation (no choice mapping):\n",
    "\n",
    "Before we convert yes_indirect, let's look at the results at the original choice level."
   ]
  },
  {
   "cell_type": "code",
   "execution_count": 42,
   "metadata": {
    "collapsed": false
   },
   "outputs": [
    {
     "name": "stderr",
     "output_type": "stream",
     "text": [
      "../src/aggregate_results.py:87: FutureWarning: sort(columns=....) is deprecated, use sort_values(by=.....)\n",
      "  ans = ans.sort([\"conf_score\"], ascending = False)\n"
     ]
    }
   ],
   "source": [
    "raw_res = aggregate_results(\"uniq_id\", \"verify_relationship\", work_data, \"majority_vote\",\n",
    "                        [\"pmid\", \"_unit_id\", \"chemical_id\", \"disease_id\", \"relation_pair_id\", \"sentence_id\"])"
   ]
  },
  {
   "cell_type": "code",
   "execution_count": 43,
   "metadata": {
    "collapsed": false
   },
   "outputs": [
    {
     "data": {
      "text/plain": [
       "(6905, 11)"
      ]
     },
     "execution_count": 43,
     "metadata": {},
     "output_type": "execute_result"
    }
   ],
   "source": [
    "raw_res.shape"
   ]
  },
  {
   "cell_type": "code",
   "execution_count": 44,
   "metadata": {
    "collapsed": false,
    "scrolled": true
   },
   "outputs": [
    {
     "data": {
      "text/html": [
       "<div>\n",
       "<table border=\"1\" class=\"dataframe\">\n",
       "  <thead>\n",
       "    <tr style=\"text-align: right;\">\n",
       "      <th></th>\n",
       "      <th>uniq_id</th>\n",
       "      <th>verify_relationship</th>\n",
       "      <th>conf_score</th>\n",
       "      <th>num_votes</th>\n",
       "      <th>percent_agree</th>\n",
       "      <th>pmid</th>\n",
       "      <th>unit_id</th>\n",
       "      <th>chemical_id</th>\n",
       "      <th>disease_id</th>\n",
       "      <th>relation_pair_id</th>\n",
       "      <th>sentence_id</th>\n",
       "    </tr>\n",
       "  </thead>\n",
       "  <tbody>\n",
       "    <tr>\n",
       "      <th>0</th>\n",
       "      <td>bcv_sentence_task_befree_0</td>\n",
       "      <td>no_relation</td>\n",
       "      <td>4.4746</td>\n",
       "      <td>5</td>\n",
       "      <td>1.000000</td>\n",
       "      <td>1279198</td>\n",
       "      <td>770955926</td>\n",
       "      <td>D016047</td>\n",
       "      <td>D000744</td>\n",
       "      <td>1279198_D016047_D000744</td>\n",
       "      <td>1279198_0</td>\n",
       "    </tr>\n",
       "    <tr>\n",
       "      <th>0</th>\n",
       "      <td>bcv_sentence_task_befree_1</td>\n",
       "      <td>no_relation</td>\n",
       "      <td>4.5624</td>\n",
       "      <td>5</td>\n",
       "      <td>1.000000</td>\n",
       "      <td>1279198</td>\n",
       "      <td>770955927</td>\n",
       "      <td>D016049</td>\n",
       "      <td>D000744</td>\n",
       "      <td>1279198_D016049_D000744</td>\n",
       "      <td>1279198_0</td>\n",
       "    </tr>\n",
       "    <tr>\n",
       "      <th>0</th>\n",
       "      <td>bcv_sentence_task_befree_10</td>\n",
       "      <td>no_relation</td>\n",
       "      <td>4.3854</td>\n",
       "      <td>5</td>\n",
       "      <td>1.000000</td>\n",
       "      <td>1326224</td>\n",
       "      <td>770955936</td>\n",
       "      <td>D016190</td>\n",
       "      <td>D007938</td>\n",
       "      <td>1326224_D016190_D007938</td>\n",
       "      <td>1326224_2</td>\n",
       "    </tr>\n",
       "    <tr>\n",
       "      <th>0</th>\n",
       "      <td>bcv_sentence_task_befree_100</td>\n",
       "      <td>no_relation</td>\n",
       "      <td>4.4380</td>\n",
       "      <td>5</td>\n",
       "      <td>1.000000</td>\n",
       "      <td>1653780</td>\n",
       "      <td>770956026</td>\n",
       "      <td>D013629</td>\n",
       "      <td>D064420</td>\n",
       "      <td>1653780_D013629_D064420</td>\n",
       "      <td>1653780_1</td>\n",
       "    </tr>\n",
       "    <tr>\n",
       "      <th>1</th>\n",
       "      <td>bcv_sentence_task_befree_1000</td>\n",
       "      <td>yes_direct</td>\n",
       "      <td>3.7969</td>\n",
       "      <td>4</td>\n",
       "      <td>0.803492</td>\n",
       "      <td>9808489</td>\n",
       "      <td>770956927</td>\n",
       "      <td>D020123</td>\n",
       "      <td>D064420</td>\n",
       "      <td>9808489_D020123_D064420</td>\n",
       "      <td>9808489_2</td>\n",
       "    </tr>\n",
       "  </tbody>\n",
       "</table>\n",
       "</div>"
      ],
      "text/plain": [
       "                         uniq_id verify_relationship  conf_score  num_votes  \\\n",
       "0     bcv_sentence_task_befree_0         no_relation      4.4746          5   \n",
       "0     bcv_sentence_task_befree_1         no_relation      4.5624          5   \n",
       "0    bcv_sentence_task_befree_10         no_relation      4.3854          5   \n",
       "0   bcv_sentence_task_befree_100         no_relation      4.4380          5   \n",
       "1  bcv_sentence_task_befree_1000          yes_direct      3.7969          4   \n",
       "\n",
       "   percent_agree     pmid    unit_id chemical_id disease_id  \\\n",
       "0       1.000000  1279198  770955926     D016047    D000744   \n",
       "0       1.000000  1279198  770955927     D016049    D000744   \n",
       "0       1.000000  1326224  770955936     D016190    D007938   \n",
       "0       1.000000  1653780  770956026     D013629    D064420   \n",
       "1       0.803492  9808489  770956927     D020123    D064420   \n",
       "\n",
       "          relation_pair_id sentence_id  \n",
       "0  1279198_D016047_D000744   1279198_0  \n",
       "0  1279198_D016049_D000744   1279198_0  \n",
       "0  1326224_D016190_D007938   1326224_2  \n",
       "0  1653780_D013629_D064420   1653780_1  \n",
       "1  9808489_D020123_D064420   9808489_2  "
      ]
     },
     "execution_count": 44,
     "metadata": {},
     "output_type": "execute_result"
    }
   ],
   "source": [
    "raw_res.head()"
   ]
  },
  {
   "cell_type": "code",
   "execution_count": 47,
   "metadata": {
    "collapsed": true
   },
   "outputs": [],
   "source": [
    "raw_res.to_csv(\"data/crowdflower/results/job_764099/job_764099_raw_agg_results.tsv\", sep = '\\t', index = False)"
   ]
  },
  {
   "cell_type": "markdown",
   "metadata": {},
   "source": [
    "### Did any work units have \"yes_indirect\" as the top answer?"
   ]
  },
  {
   "cell_type": "code",
   "execution_count": 45,
   "metadata": {
    "collapsed": false
   },
   "outputs": [
    {
     "name": "stdout",
     "output_type": "stream",
     "text": [
      "# of questions where yes_indirect was the top choice: 8\n"
     ]
    }
   ],
   "source": [
    "indirect_top = set()\n",
    "for uniq_id, group in raw_res.groupby(\"uniq_id\"):\n",
    "    if group[\"verify_relationship\"].iloc[0] == \"yes_indirect\":\n",
    "        indirect_top.add(uniq_id)\n",
    "        \n",
    "print(\"# of questions where yes_indirect was the top choice: {0}\".format(len(indirect_top)))\n",
    "indirect_top_data = raw_res.query(\"uniq_id in {0}\".format(list(indirect_top)))"
   ]
  },
  {
   "cell_type": "code",
   "execution_count": 46,
   "metadata": {
    "collapsed": false
   },
   "outputs": [
    {
     "data": {
      "text/plain": [
       "<matplotlib.axes._subplots.AxesSubplot at 0x7fc842b387f0>"
      ]
     },
     "execution_count": 46,
     "metadata": {},
     "output_type": "execute_result"
    },
    {
     "data": {
      "image/png": "[encoded data removed]",
      "text/plain": [
       "<matplotlib.figure.Figure at 0x7fc842adce48>"
      ]
     },
     "metadata": {},
     "output_type": "display_data"
    }
   ],
   "source": [
    "# when yes_indirect was the top answer, how many people voted for it?\n",
    "indirect_top_data.query(\"verify_relationship == 'yes_indirect'\")[\"num_votes\"].value_counts().plot(kind = 'bar')"
   ]
  },
  {
   "cell_type": "code",
   "execution_count": 48,
   "metadata": {
    "collapsed": false,
    "scrolled": true
   },
   "outputs": [
    {
     "data": {
      "text/html": [
       "<div>\n",
       "<table border=\"1\" class=\"dataframe\">\n",
       "  <thead>\n",
       "    <tr style=\"text-align: right;\">\n",
       "      <th></th>\n",
       "      <th>uniq_id</th>\n",
       "      <th>verify_relationship</th>\n",
       "      <th>conf_score</th>\n",
       "      <th>num_votes</th>\n",
       "      <th>percent_agree</th>\n",
       "      <th>pmid</th>\n",
       "      <th>unit_id</th>\n",
       "      <th>chemical_id</th>\n",
       "      <th>disease_id</th>\n",
       "      <th>relation_pair_id</th>\n",
       "      <th>sentence_id</th>\n",
       "    </tr>\n",
       "  </thead>\n",
       "  <tbody>\n",
       "    <tr>\n",
       "      <th>0</th>\n",
       "      <td>bcv_sentence_task_befree_1496</td>\n",
       "      <td>yes_indirect</td>\n",
       "      <td>4.5475</td>\n",
       "      <td>5</td>\n",
       "      <td>1.000000</td>\n",
       "      <td>11474550</td>\n",
       "      <td>770957423</td>\n",
       "      <td>D006145</td>\n",
       "      <td>D006930</td>\n",
       "      <td>11474550_D006145_D006930</td>\n",
       "      <td>11474550_10</td>\n",
       "    </tr>\n",
       "    <tr>\n",
       "      <th>0</th>\n",
       "      <td>bcv_sentence_task_befree_4428</td>\n",
       "      <td>yes_indirect</td>\n",
       "      <td>4.5142</td>\n",
       "      <td>5</td>\n",
       "      <td>1.000000</td>\n",
       "      <td>22875460</td>\n",
       "      <td>770960358</td>\n",
       "      <td>D007980</td>\n",
       "      <td>D058866</td>\n",
       "      <td>22875460_D007980_D058866</td>\n",
       "      <td>22875460_3</td>\n",
       "    </tr>\n",
       "    <tr>\n",
       "      <th>0</th>\n",
       "      <td>bcv_sentence_task_befree_4853</td>\n",
       "      <td>yes_indirect</td>\n",
       "      <td>2.8014</td>\n",
       "      <td>3</td>\n",
       "      <td>0.602490</td>\n",
       "      <td>24128810</td>\n",
       "      <td>770960784</td>\n",
       "      <td>D000241</td>\n",
       "      <td>D013575</td>\n",
       "      <td>24128810_D000241_D013575</td>\n",
       "      <td>24128810_0</td>\n",
       "    </tr>\n",
       "    <tr>\n",
       "      <th>0</th>\n",
       "      <td>bcv_sentence_task_befree_1211</td>\n",
       "      <td>yes_indirect</td>\n",
       "      <td>1.8745</td>\n",
       "      <td>2</td>\n",
       "      <td>0.411887</td>\n",
       "      <td>10642416</td>\n",
       "      <td>770957138</td>\n",
       "      <td>D017953</td>\n",
       "      <td>D001249</td>\n",
       "      <td>10642416_D017953_D001249</td>\n",
       "      <td>10642416_2</td>\n",
       "    </tr>\n",
       "    <tr>\n",
       "      <th>2</th>\n",
       "      <td>bcv_sentence_task_befree_1211</td>\n",
       "      <td>yes_direct</td>\n",
       "      <td>1.7280</td>\n",
       "      <td>2</td>\n",
       "      <td>0.379697</td>\n",
       "      <td>10642416</td>\n",
       "      <td>770957138</td>\n",
       "      <td>D017953</td>\n",
       "      <td>D001249</td>\n",
       "      <td>10642416_D017953_D001249</td>\n",
       "      <td>10642416_2</td>\n",
       "    </tr>\n",
       "    <tr>\n",
       "      <th>2</th>\n",
       "      <td>bcv_sentence_task_befree_4457</td>\n",
       "      <td>yes_direct</td>\n",
       "      <td>1.7639</td>\n",
       "      <td>2</td>\n",
       "      <td>0.389502</td>\n",
       "      <td>22972055</td>\n",
       "      <td>770960388</td>\n",
       "      <td>D004967</td>\n",
       "      <td>D006470</td>\n",
       "      <td>22972055_D004967_D006470</td>\n",
       "      <td>22972055_3</td>\n",
       "    </tr>\n",
       "    <tr>\n",
       "      <th>0</th>\n",
       "      <td>bcv_sentence_task_befree_4457</td>\n",
       "      <td>yes_indirect</td>\n",
       "      <td>1.8871</td>\n",
       "      <td>2</td>\n",
       "      <td>0.416707</td>\n",
       "      <td>22972055</td>\n",
       "      <td>770960388</td>\n",
       "      <td>D004967</td>\n",
       "      <td>D006470</td>\n",
       "      <td>22972055_D004967_D006470</td>\n",
       "      <td>22972055_3</td>\n",
       "    </tr>\n",
       "    <tr>\n",
       "      <th>2</th>\n",
       "      <td>bcv_sentence_task_befree_4328</td>\n",
       "      <td>yes_direct</td>\n",
       "      <td>1.7864</td>\n",
       "      <td>2</td>\n",
       "      <td>0.400565</td>\n",
       "      <td>22542152</td>\n",
       "      <td>770960258</td>\n",
       "      <td>D001241</td>\n",
       "      <td>D003643</td>\n",
       "      <td>22542152_D001241_D003643</td>\n",
       "      <td>22542152_6</td>\n",
       "    </tr>\n",
       "    <tr>\n",
       "      <th>0</th>\n",
       "      <td>bcv_sentence_task_befree_4328</td>\n",
       "      <td>yes_indirect</td>\n",
       "      <td>1.7953</td>\n",
       "      <td>2</td>\n",
       "      <td>0.402561</td>\n",
       "      <td>22542152</td>\n",
       "      <td>770960258</td>\n",
       "      <td>D001241</td>\n",
       "      <td>D003643</td>\n",
       "      <td>22542152_D001241_D003643</td>\n",
       "      <td>22542152_6</td>\n",
       "    </tr>\n",
       "    <tr>\n",
       "      <th>2</th>\n",
       "      <td>bcv_sentence_task_befree_2508</td>\n",
       "      <td>yes_direct</td>\n",
       "      <td>1.6996</td>\n",
       "      <td>2</td>\n",
       "      <td>0.391081</td>\n",
       "      <td>16424409</td>\n",
       "      <td>770958436</td>\n",
       "      <td>C057823</td>\n",
       "      <td>D003643</td>\n",
       "      <td>16424409_C057823_D003643</td>\n",
       "      <td>16424409_13</td>\n",
       "    </tr>\n",
       "    <tr>\n",
       "      <th>0</th>\n",
       "      <td>bcv_sentence_task_befree_2508</td>\n",
       "      <td>yes_indirect</td>\n",
       "      <td>1.8350</td>\n",
       "      <td>2</td>\n",
       "      <td>0.422237</td>\n",
       "      <td>16424409</td>\n",
       "      <td>770958436</td>\n",
       "      <td>C057823</td>\n",
       "      <td>D003643</td>\n",
       "      <td>16424409_C057823_D003643</td>\n",
       "      <td>16424409_13</td>\n",
       "    </tr>\n",
       "    <tr>\n",
       "      <th>1</th>\n",
       "      <td>bcv_sentence_task_befree_2209</td>\n",
       "      <td>no_relation</td>\n",
       "      <td>1.7309</td>\n",
       "      <td>2</td>\n",
       "      <td>0.389553</td>\n",
       "      <td>15693702</td>\n",
       "      <td>770958136</td>\n",
       "      <td>D046934</td>\n",
       "      <td>D006470</td>\n",
       "      <td>15693702_D046934_D006470</td>\n",
       "      <td>15693702_4</td>\n",
       "    </tr>\n",
       "    <tr>\n",
       "      <th>0</th>\n",
       "      <td>bcv_sentence_task_befree_2209</td>\n",
       "      <td>yes_indirect</td>\n",
       "      <td>1.8235</td>\n",
       "      <td>2</td>\n",
       "      <td>0.410393</td>\n",
       "      <td>15693702</td>\n",
       "      <td>770958136</td>\n",
       "      <td>D046934</td>\n",
       "      <td>D006470</td>\n",
       "      <td>15693702_D046934_D006470</td>\n",
       "      <td>15693702_4</td>\n",
       "    </tr>\n",
       "    <tr>\n",
       "      <th>1</th>\n",
       "      <td>bcv_sentence_task_befree_2508</td>\n",
       "      <td>no_relation</td>\n",
       "      <td>0.8113</td>\n",
       "      <td>1</td>\n",
       "      <td>0.186682</td>\n",
       "      <td>16424409</td>\n",
       "      <td>770958436</td>\n",
       "      <td>C057823</td>\n",
       "      <td>D003643</td>\n",
       "      <td>16424409_C057823_D003643</td>\n",
       "      <td>16424409_13</td>\n",
       "    </tr>\n",
       "    <tr>\n",
       "      <th>1</th>\n",
       "      <td>bcv_sentence_task_befree_4328</td>\n",
       "      <td>no_relation</td>\n",
       "      <td>0.8780</td>\n",
       "      <td>1</td>\n",
       "      <td>0.196874</td>\n",
       "      <td>22542152</td>\n",
       "      <td>770960258</td>\n",
       "      <td>D001241</td>\n",
       "      <td>D003643</td>\n",
       "      <td>22542152_D001241_D003643</td>\n",
       "      <td>22542152_6</td>\n",
       "    </tr>\n",
       "    <tr>\n",
       "      <th>2</th>\n",
       "      <td>bcv_sentence_task_befree_2209</td>\n",
       "      <td>yes_direct</td>\n",
       "      <td>0.8889</td>\n",
       "      <td>1</td>\n",
       "      <td>0.200054</td>\n",
       "      <td>15693702</td>\n",
       "      <td>770958136</td>\n",
       "      <td>D046934</td>\n",
       "      <td>D006470</td>\n",
       "      <td>15693702_D046934_D006470</td>\n",
       "      <td>15693702_4</td>\n",
       "    </tr>\n",
       "    <tr>\n",
       "      <th>1</th>\n",
       "      <td>bcv_sentence_task_befree_4457</td>\n",
       "      <td>no_relation</td>\n",
       "      <td>0.8776</td>\n",
       "      <td>1</td>\n",
       "      <td>0.193791</td>\n",
       "      <td>22972055</td>\n",
       "      <td>770960388</td>\n",
       "      <td>D004967</td>\n",
       "      <td>D006470</td>\n",
       "      <td>22972055_D004967_D006470</td>\n",
       "      <td>22972055_3</td>\n",
       "    </tr>\n",
       "    <tr>\n",
       "      <th>1</th>\n",
       "      <td>bcv_sentence_task_befree_1211</td>\n",
       "      <td>no_relation</td>\n",
       "      <td>0.9485</td>\n",
       "      <td>1</td>\n",
       "      <td>0.208416</td>\n",
       "      <td>10642416</td>\n",
       "      <td>770957138</td>\n",
       "      <td>D017953</td>\n",
       "      <td>D001249</td>\n",
       "      <td>10642416_D017953_D001249</td>\n",
       "      <td>10642416_2</td>\n",
       "    </tr>\n",
       "    <tr>\n",
       "      <th>2</th>\n",
       "      <td>bcv_sentence_task_befree_4853</td>\n",
       "      <td>yes_direct</td>\n",
       "      <td>0.9714</td>\n",
       "      <td>1</td>\n",
       "      <td>0.208917</td>\n",
       "      <td>24128810</td>\n",
       "      <td>770960784</td>\n",
       "      <td>D000241</td>\n",
       "      <td>D013575</td>\n",
       "      <td>24128810_D000241_D013575</td>\n",
       "      <td>24128810_0</td>\n",
       "    </tr>\n",
       "    <tr>\n",
       "      <th>1</th>\n",
       "      <td>bcv_sentence_task_befree_4853</td>\n",
       "      <td>no_relation</td>\n",
       "      <td>0.8769</td>\n",
       "      <td>1</td>\n",
       "      <td>0.188593</td>\n",
       "      <td>24128810</td>\n",
       "      <td>770960784</td>\n",
       "      <td>D000241</td>\n",
       "      <td>D013575</td>\n",
       "      <td>24128810_D000241_D013575</td>\n",
       "      <td>24128810_0</td>\n",
       "    </tr>\n",
       "  </tbody>\n",
       "</table>\n",
       "</div>"
      ],
      "text/plain": [
       "                         uniq_id verify_relationship  conf_score  num_votes  \\\n",
       "0  bcv_sentence_task_befree_1496        yes_indirect      4.5475          5   \n",
       "0  bcv_sentence_task_befree_4428        yes_indirect      4.5142          5   \n",
       "0  bcv_sentence_task_befree_4853        yes_indirect      2.8014          3   \n",
       "0  bcv_sentence_task_befree_1211        yes_indirect      1.8745          2   \n",
       "2  bcv_sentence_task_befree_1211          yes_direct      1.7280          2   \n",
       "2  bcv_sentence_task_befree_4457          yes_direct      1.7639          2   \n",
       "0  bcv_sentence_task_befree_4457        yes_indirect      1.8871          2   \n",
       "2  bcv_sentence_task_befree_4328          yes_direct      1.7864          2   \n",
       "0  bcv_sentence_task_befree_4328        yes_indirect      1.7953          2   \n",
       "2  bcv_sentence_task_befree_2508          yes_direct      1.6996          2   \n",
       "0  bcv_sentence_task_befree_2508        yes_indirect      1.8350          2   \n",
       "1  bcv_sentence_task_befree_2209         no_relation      1.7309          2   \n",
       "0  bcv_sentence_task_befree_2209        yes_indirect      1.8235          2   \n",
       "1  bcv_sentence_task_befree_2508         no_relation      0.8113          1   \n",
       "1  bcv_sentence_task_befree_4328         no_relation      0.8780          1   \n",
       "2  bcv_sentence_task_befree_2209          yes_direct      0.8889          1   \n",
       "1  bcv_sentence_task_befree_4457         no_relation      0.8776          1   \n",
       "1  bcv_sentence_task_befree_1211         no_relation      0.9485          1   \n",
       "2  bcv_sentence_task_befree_4853          yes_direct      0.9714          1   \n",
       "1  bcv_sentence_task_befree_4853         no_relation      0.8769          1   \n",
       "\n",
       "   percent_agree      pmid    unit_id chemical_id disease_id  \\\n",
       "0       1.000000  11474550  770957423     D006145    D006930   \n",
       "0       1.000000  22875460  770960358     D007980    D058866   \n",
       "0       0.602490  24128810  770960784     D000241    D013575   \n",
       "0       0.411887  10642416  770957138     D017953    D001249   \n",
       "2       0.379697  10642416  770957138     D017953    D001249   \n",
       "2       0.389502  22972055  770960388     D004967    D006470   \n",
       "0       0.416707  22972055  770960388     D004967    D006470   \n",
       "2       0.400565  22542152  770960258     D001241    D003643   \n",
       "0       0.402561  22542152  770960258     D001241    D003643   \n",
       "2       0.391081  16424409  770958436     C057823    D003643   \n",
       "0       0.422237  16424409  770958436     C057823    D003643   \n",
       "1       0.389553  15693702  770958136     D046934    D006470   \n",
       "0       0.410393  15693702  770958136     D046934    D006470   \n",
       "1       0.186682  16424409  770958436     C057823    D003643   \n",
       "1       0.196874  22542152  770960258     D001241    D003643   \n",
       "2       0.200054  15693702  770958136     D046934    D006470   \n",
       "1       0.193791  22972055  770960388     D004967    D006470   \n",
       "1       0.208416  10642416  770957138     D017953    D001249   \n",
       "2       0.208917  24128810  770960784     D000241    D013575   \n",
       "1       0.188593  24128810  770960784     D000241    D013575   \n",
       "\n",
       "           relation_pair_id  sentence_id  \n",
       "0  11474550_D006145_D006930  11474550_10  \n",
       "0  22875460_D007980_D058866   22875460_3  \n",
       "0  24128810_D000241_D013575   24128810_0  \n",
       "0  10642416_D017953_D001249   10642416_2  \n",
       "2  10642416_D017953_D001249   10642416_2  \n",
       "2  22972055_D004967_D006470   22972055_3  \n",
       "0  22972055_D004967_D006470   22972055_3  \n",
       "2  22542152_D001241_D003643   22542152_6  \n",
       "0  22542152_D001241_D003643   22542152_6  \n",
       "2  16424409_C057823_D003643  16424409_13  \n",
       "0  16424409_C057823_D003643  16424409_13  \n",
       "1  15693702_D046934_D006470   15693702_4  \n",
       "0  15693702_D046934_D006470   15693702_4  \n",
       "1  16424409_C057823_D003643  16424409_13  \n",
       "1  22542152_D001241_D003643   22542152_6  \n",
       "2  15693702_D046934_D006470   15693702_4  \n",
       "1  22972055_D004967_D006470   22972055_3  \n",
       "1  10642416_D017953_D001249   10642416_2  \n",
       "2  24128810_D000241_D013575   24128810_0  \n",
       "1  24128810_D000241_D013575   24128810_0  "
      ]
     },
     "execution_count": 48,
     "metadata": {},
     "output_type": "execute_result"
    }
   ],
   "source": [
    "indirect_top_data.sort_values(by = \"num_votes\", ascending = False)"
   ]
  },
  {
   "cell_type": "markdown",
   "metadata": {},
   "source": [
    "Two work units had 5/5 votes for yes_indirect as the top vote (https://crowdflower.com/jobs/764099/units/770960358 and https://crowdflower.com/jobs/764099/units/770957423). Upon manual inspection, it seems that the crowd was right for both of the work units. However, there is poor agreement among the crowd when we keep the yes_indirect choice, so we will also look at what happens when we map it to \"no_relation\"."
   ]
  },
  {
   "cell_type": "markdown",
   "metadata": {},
   "source": [
    "### Results when yes_indirect is mapped to \"no_relation\" or \"yes_direct\":"
   ]
  },
  {
   "cell_type": "code",
   "execution_count": 49,
   "metadata": {
    "collapsed": false
   },
   "outputs": [
    {
     "name": "stderr",
     "output_type": "stream",
     "text": [
      "../src/aggregate_results.py:93: FutureWarning: sort(columns=....) is deprecated, use sort_values(by=.....)\n",
      "  temp = temp.sort([\"conf_score\"], ascending = False)\n"
     ]
    }
   ],
   "source": [
    "# take positive votes only, indirect is yes\n",
    "res_pos_yes = aggregate_results(\"uniq_id\", \"verify_relationship\", work_data,\n",
    "                                    \"positive_signal_only\",\n",
    "                                     [\"pmid\", \"_unit_id\", \"chemical_id\", \"disease_id\", \"relation_pair_id\", \"sentence_id\"],\n",
    "                                    \"yes_direct\", {\"yes_indirect\" : \"yes_direct\"})"
   ]
  },
  {
   "cell_type": "code",
   "execution_count": 50,
   "metadata": {
    "collapsed": false
   },
   "outputs": [
    {
     "name": "stderr",
     "output_type": "stream",
     "text": [
      "../src/aggregate_results.py:93: FutureWarning: sort(columns=....) is deprecated, use sort_values(by=.....)\n",
      "  temp = temp.sort([\"conf_score\"], ascending = False)\n"
     ]
    }
   ],
   "source": [
    "# take positive votes only, indirect is no\n",
    "res_pos_no = aggregate_results(\"uniq_id\", \"verify_relationship\", work_data,\n",
    "                                    \"positive_signal_only\",\n",
    "                                     [\"pmid\", \"_unit_id\", \"chemical_id\", \"disease_id\", \"relation_pair_id\", \"sentence_id\"],\n",
    "                                    \"yes_direct\", {\"yes_indirect\" : \"no_relation\"})"
   ]
  },
  {
   "cell_type": "code",
   "execution_count": 51,
   "metadata": {
    "collapsed": false
   },
   "outputs": [
    {
     "data": {
      "text/plain": [
       "(10028, 11)"
      ]
     },
     "execution_count": 51,
     "metadata": {},
     "output_type": "execute_result"
    }
   ],
   "source": [
    "res_pos_yes.shape"
   ]
  },
  {
   "cell_type": "code",
   "execution_count": 52,
   "metadata": {
    "collapsed": false
   },
   "outputs": [
    {
     "data": {
      "text/plain": [
       "(10068, 11)"
      ]
     },
     "execution_count": 52,
     "metadata": {},
     "output_type": "execute_result"
    }
   ],
   "source": [
    "res_pos_no.shape"
   ]
  },
  {
   "cell_type": "code",
   "execution_count": 53,
   "metadata": {
    "collapsed": false
   },
   "outputs": [
    {
     "data": {
      "text/html": [
       "<div>\n",
       "<table border=\"1\" class=\"dataframe\">\n",
       "  <thead>\n",
       "    <tr style=\"text-align: right;\">\n",
       "      <th></th>\n",
       "      <th>uniq_id</th>\n",
       "      <th>verify_relationship</th>\n",
       "      <th>conf_score</th>\n",
       "      <th>num_votes</th>\n",
       "      <th>percent_agree</th>\n",
       "      <th>pmid</th>\n",
       "      <th>unit_id</th>\n",
       "      <th>chemical_id</th>\n",
       "      <th>disease_id</th>\n",
       "      <th>relation_pair_id</th>\n",
       "      <th>sentence_id</th>\n",
       "    </tr>\n",
       "  </thead>\n",
       "  <tbody>\n",
       "    <tr>\n",
       "      <th>0</th>\n",
       "      <td>bcv_sentence_task_befree_0</td>\n",
       "      <td>yes_direct</td>\n",
       "      <td>0.0000</td>\n",
       "      <td>0</td>\n",
       "      <td>0</td>\n",
       "      <td>1279198</td>\n",
       "      <td>770955926</td>\n",
       "      <td>D016047</td>\n",
       "      <td>D000744</td>\n",
       "      <td>1279198_D016047_D000744</td>\n",
       "      <td>1279198_0</td>\n",
       "    </tr>\n",
       "    <tr>\n",
       "      <th>0</th>\n",
       "      <td>bcv_sentence_task_befree_0</td>\n",
       "      <td>no_relation</td>\n",
       "      <td>4.4746</td>\n",
       "      <td>5</td>\n",
       "      <td>1</td>\n",
       "      <td>1279198</td>\n",
       "      <td>770955926</td>\n",
       "      <td>D016047</td>\n",
       "      <td>D000744</td>\n",
       "      <td>1279198_D016047_D000744</td>\n",
       "      <td>1279198_0</td>\n",
       "    </tr>\n",
       "    <tr>\n",
       "      <th>0</th>\n",
       "      <td>bcv_sentence_task_befree_1</td>\n",
       "      <td>yes_direct</td>\n",
       "      <td>0.0000</td>\n",
       "      <td>0</td>\n",
       "      <td>0</td>\n",
       "      <td>1279198</td>\n",
       "      <td>770955927</td>\n",
       "      <td>D016049</td>\n",
       "      <td>D000744</td>\n",
       "      <td>1279198_D016049_D000744</td>\n",
       "      <td>1279198_0</td>\n",
       "    </tr>\n",
       "    <tr>\n",
       "      <th>0</th>\n",
       "      <td>bcv_sentence_task_befree_1</td>\n",
       "      <td>no_relation</td>\n",
       "      <td>4.5624</td>\n",
       "      <td>5</td>\n",
       "      <td>1</td>\n",
       "      <td>1279198</td>\n",
       "      <td>770955927</td>\n",
       "      <td>D016049</td>\n",
       "      <td>D000744</td>\n",
       "      <td>1279198_D016049_D000744</td>\n",
       "      <td>1279198_0</td>\n",
       "    </tr>\n",
       "    <tr>\n",
       "      <th>0</th>\n",
       "      <td>bcv_sentence_task_befree_10</td>\n",
       "      <td>yes_direct</td>\n",
       "      <td>0.0000</td>\n",
       "      <td>0</td>\n",
       "      <td>0</td>\n",
       "      <td>1326224</td>\n",
       "      <td>770955936</td>\n",
       "      <td>D016190</td>\n",
       "      <td>D007938</td>\n",
       "      <td>1326224_D016190_D007938</td>\n",
       "      <td>1326224_2</td>\n",
       "    </tr>\n",
       "  </tbody>\n",
       "</table>\n",
       "</div>"
      ],
      "text/plain": [
       "                       uniq_id verify_relationship  conf_score  num_votes  \\\n",
       "0   bcv_sentence_task_befree_0          yes_direct      0.0000          0   \n",
       "0   bcv_sentence_task_befree_0         no_relation      4.4746          5   \n",
       "0   bcv_sentence_task_befree_1          yes_direct      0.0000          0   \n",
       "0   bcv_sentence_task_befree_1         no_relation      4.5624          5   \n",
       "0  bcv_sentence_task_befree_10          yes_direct      0.0000          0   \n",
       "\n",
       "   percent_agree     pmid    unit_id chemical_id disease_id  \\\n",
       "0              0  1279198  770955926     D016047    D000744   \n",
       "0              1  1279198  770955926     D016047    D000744   \n",
       "0              0  1279198  770955927     D016049    D000744   \n",
       "0              1  1279198  770955927     D016049    D000744   \n",
       "0              0  1326224  770955936     D016190    D007938   \n",
       "\n",
       "          relation_pair_id sentence_id  \n",
       "0  1279198_D016047_D000744   1279198_0  \n",
       "0  1279198_D016047_D000744   1279198_0  \n",
       "0  1279198_D016049_D000744   1279198_0  \n",
       "0  1279198_D016049_D000744   1279198_0  \n",
       "0  1326224_D016190_D007938   1326224_2  "
      ]
     },
     "execution_count": 53,
     "metadata": {},
     "output_type": "execute_result"
    }
   ],
   "source": [
    "res_pos_yes.head()"
   ]
  },
  {
   "cell_type": "code",
   "execution_count": 54,
   "metadata": {
    "collapsed": false
   },
   "outputs": [
    {
     "data": {
      "text/html": [
       "<div>\n",
       "<table border=\"1\" class=\"dataframe\">\n",
       "  <thead>\n",
       "    <tr style=\"text-align: right;\">\n",
       "      <th></th>\n",
       "      <th>uniq_id</th>\n",
       "      <th>verify_relationship</th>\n",
       "      <th>conf_score</th>\n",
       "      <th>num_votes</th>\n",
       "      <th>percent_agree</th>\n",
       "      <th>pmid</th>\n",
       "      <th>unit_id</th>\n",
       "      <th>chemical_id</th>\n",
       "      <th>disease_id</th>\n",
       "      <th>relation_pair_id</th>\n",
       "      <th>sentence_id</th>\n",
       "    </tr>\n",
       "  </thead>\n",
       "  <tbody>\n",
       "    <tr>\n",
       "      <th>0</th>\n",
       "      <td>bcv_sentence_task_befree_0</td>\n",
       "      <td>yes_direct</td>\n",
       "      <td>0.0000</td>\n",
       "      <td>0</td>\n",
       "      <td>0</td>\n",
       "      <td>1279198</td>\n",
       "      <td>770955926</td>\n",
       "      <td>D016047</td>\n",
       "      <td>D000744</td>\n",
       "      <td>1279198_D016047_D000744</td>\n",
       "      <td>1279198_0</td>\n",
       "    </tr>\n",
       "    <tr>\n",
       "      <th>0</th>\n",
       "      <td>bcv_sentence_task_befree_0</td>\n",
       "      <td>no_relation</td>\n",
       "      <td>4.4746</td>\n",
       "      <td>5</td>\n",
       "      <td>1</td>\n",
       "      <td>1279198</td>\n",
       "      <td>770955926</td>\n",
       "      <td>D016047</td>\n",
       "      <td>D000744</td>\n",
       "      <td>1279198_D016047_D000744</td>\n",
       "      <td>1279198_0</td>\n",
       "    </tr>\n",
       "    <tr>\n",
       "      <th>0</th>\n",
       "      <td>bcv_sentence_task_befree_1</td>\n",
       "      <td>yes_direct</td>\n",
       "      <td>0.0000</td>\n",
       "      <td>0</td>\n",
       "      <td>0</td>\n",
       "      <td>1279198</td>\n",
       "      <td>770955927</td>\n",
       "      <td>D016049</td>\n",
       "      <td>D000744</td>\n",
       "      <td>1279198_D016049_D000744</td>\n",
       "      <td>1279198_0</td>\n",
       "    </tr>\n",
       "    <tr>\n",
       "      <th>0</th>\n",
       "      <td>bcv_sentence_task_befree_1</td>\n",
       "      <td>no_relation</td>\n",
       "      <td>4.5624</td>\n",
       "      <td>5</td>\n",
       "      <td>1</td>\n",
       "      <td>1279198</td>\n",
       "      <td>770955927</td>\n",
       "      <td>D016049</td>\n",
       "      <td>D000744</td>\n",
       "      <td>1279198_D016049_D000744</td>\n",
       "      <td>1279198_0</td>\n",
       "    </tr>\n",
       "    <tr>\n",
       "      <th>0</th>\n",
       "      <td>bcv_sentence_task_befree_10</td>\n",
       "      <td>yes_direct</td>\n",
       "      <td>0.0000</td>\n",
       "      <td>0</td>\n",
       "      <td>0</td>\n",
       "      <td>1326224</td>\n",
       "      <td>770955936</td>\n",
       "      <td>D016190</td>\n",
       "      <td>D007938</td>\n",
       "      <td>1326224_D016190_D007938</td>\n",
       "      <td>1326224_2</td>\n",
       "    </tr>\n",
       "  </tbody>\n",
       "</table>\n",
       "</div>"
      ],
      "text/plain": [
       "                       uniq_id verify_relationship  conf_score  num_votes  \\\n",
       "0   bcv_sentence_task_befree_0          yes_direct      0.0000          0   \n",
       "0   bcv_sentence_task_befree_0         no_relation      4.4746          5   \n",
       "0   bcv_sentence_task_befree_1          yes_direct      0.0000          0   \n",
       "0   bcv_sentence_task_befree_1         no_relation      4.5624          5   \n",
       "0  bcv_sentence_task_befree_10          yes_direct      0.0000          0   \n",
       "\n",
       "   percent_agree     pmid    unit_id chemical_id disease_id  \\\n",
       "0              0  1279198  770955926     D016047    D000744   \n",
       "0              1  1279198  770955926     D016047    D000744   \n",
       "0              0  1279198  770955927     D016049    D000744   \n",
       "0              1  1279198  770955927     D016049    D000744   \n",
       "0              0  1326224  770955936     D016190    D007938   \n",
       "\n",
       "          relation_pair_id sentence_id  \n",
       "0  1279198_D016047_D000744   1279198_0  \n",
       "0  1279198_D016047_D000744   1279198_0  \n",
       "0  1279198_D016049_D000744   1279198_0  \n",
       "0  1279198_D016049_D000744   1279198_0  \n",
       "0  1326224_D016190_D007938   1326224_2  "
      ]
     },
     "execution_count": 54,
     "metadata": {},
     "output_type": "execute_result"
    }
   ],
   "source": [
    "res_pos_no.head()"
   ]
  },
  {
   "cell_type": "markdown",
   "metadata": {},
   "source": [
    "### Write results to file:"
   ]
  },
  {
   "cell_type": "code",
   "execution_count": 58,
   "metadata": {
    "collapsed": false
   },
   "outputs": [],
   "source": [
    "res_pos_yes.to_csv(\"data/crowdflower/results/job_764099/job_764099_agg_indirect_is_yes.tsv\", sep = '\\t', index = False)"
   ]
  },
  {
   "cell_type": "code",
   "execution_count": 59,
   "metadata": {
    "collapsed": true
   },
   "outputs": [],
   "source": [
    "res_pos_no.to_csv(\"data/crowdflower/results/job_764099/job_764099_agg_indirect_is_no.tsv\", sep = '\\t', index = False)"
   ]
  },
  {
   "cell_type": "markdown",
   "metadata": {},
   "source": [
    "### Look at the results for only the \"yes_direct\" choice:"
   ]
  },
  {
   "cell_type": "code",
   "execution_count": 55,
   "metadata": {
    "collapsed": true
   },
   "outputs": [],
   "source": [
    "res_pos_only_yes = res_pos_yes.query(\"verify_relationship == 'yes_direct'\")"
   ]
  },
  {
   "cell_type": "code",
   "execution_count": 56,
   "metadata": {
    "collapsed": true
   },
   "outputs": [],
   "source": [
    "res_pos_only_no = res_pos_no.query(\"verify_relationship == 'yes_direct'\")"
   ]
  },
  {
   "cell_type": "code",
   "execution_count": 57,
   "metadata": {
    "collapsed": false
   },
   "outputs": [
    {
     "data": {
      "text/plain": [
       "(5160, 11)"
      ]
     },
     "execution_count": 57,
     "metadata": {},
     "output_type": "execute_result"
    }
   ],
   "source": [
    "res_pos_only_yes.shape"
   ]
  },
  {
   "cell_type": "code",
   "execution_count": 58,
   "metadata": {
    "collapsed": false
   },
   "outputs": [
    {
     "data": {
      "text/plain": [
       "(5160, 11)"
      ]
     },
     "execution_count": 58,
     "metadata": {},
     "output_type": "execute_result"
    }
   ],
   "source": [
    "res_pos_only_no.shape"
   ]
  },
  {
   "cell_type": "code",
   "execution_count": 59,
   "metadata": {
    "collapsed": false
   },
   "outputs": [
    {
     "data": {
      "text/plain": [
       "<matplotlib.axes._subplots.AxesSubplot at 0x7fc8414c2be0>"
      ]
     },
     "execution_count": 59,
     "metadata": {},
     "output_type": "execute_result"
    },
    {
     "data": {
      "image/png": "[encoded data removed]",
      "text/plain": [
       "<matplotlib.figure.Figure at 0x7fc8429b59e8>"
      ]
     },
     "metadata": {},
     "output_type": "display_data"
    }
   ],
   "source": [
    "res_pos_only_yes[\"num_votes\"].value_counts().plot(kind = \"bar\")"
   ]
  },
  {
   "cell_type": "code",
   "execution_count": 60,
   "metadata": {
    "collapsed": false
   },
   "outputs": [
    {
     "data": {
      "text/plain": [
       "<matplotlib.axes._subplots.AxesSubplot at 0x7fc840d05198>"
      ]
     },
     "execution_count": 60,
     "metadata": {},
     "output_type": "execute_result"
    },
    {
     "data": {
      "image/png": "[encoded data removed]",
      "text/plain": [
       "<matplotlib.figure.Figure at 0x7fc840299160>"
      ]
     },
     "metadata": {},
     "output_type": "display_data"
    }
   ],
   "source": [
    "res_pos_only_no[\"num_votes\"].value_counts().plot(kind = \"bar\")"
   ]
  },
  {
   "cell_type": "code",
   "execution_count": 62,
   "metadata": {
    "collapsed": false
   },
   "outputs": [
    {
     "data": {
      "text/plain": [
       "0    0.640310\n",
       "1    0.156395\n",
       "2    0.068023\n",
       "3    0.049419\n",
       "5    0.048837\n",
       "4    0.037016\n",
       "Name: num_votes, dtype: float64"
      ]
     },
     "execution_count": 62,
     "metadata": {},
     "output_type": "execute_result"
    }
   ],
   "source": [
    "res_pos_only_no[\"num_votes\"].value_counts(normalize = True)"
   ]
  },
  {
   "cell_type": "code",
   "execution_count": 63,
   "metadata": {
    "collapsed": false
   },
   "outputs": [
    {
     "data": {
      "text/plain": [
       "0.085853"
      ]
     },
     "execution_count": 63,
     "metadata": {},
     "output_type": "execute_result"
    }
   ],
   "source": [
    "0.048837 + 0.037016"
   ]
  },
  {
   "cell_type": "code",
   "execution_count": 61,
   "metadata": {
    "collapsed": false
   },
   "outputs": [
    {
     "data": {
      "text/plain": [
       "<matplotlib.axes._subplots.AxesSubplot at 0x7fc84019ea90>"
      ]
     },
     "execution_count": 61,
     "metadata": {},
     "output_type": "execute_result"
    },
    {
     "data": {
      "image/png": "[encoded data removed]",
      "text/plain": [
       "<matplotlib.figure.Figure at 0x7fc841dfcac8>"
      ]
     },
     "metadata": {},
     "output_type": "display_data"
    }
   ],
   "source": [
    "res_pos_only_no[\"num_votes\"].value_counts(normalize = True).plot(kind = \"bar\")"
   ]
  },
  {
   "cell_type": "markdown",
   "metadata": {},
   "source": [
    "Remember that here we are plotting the positive \"yes_direct\" signal only. We see that in both mappings, the vast majority of work units had 5/5 workers agreeing on the \"no_relation\" choice. The second next largest set of work units had 4/5 workers choosing no_relation. The relations which are true seem to be equally split among 5 and 4 votes, and there are some likely ambiguous work units where the crowd had a hard time deciding whether to say it was true or not (2 and 3 votes)."
   ]
  }
 ],
 "metadata": {
  "kernelspec": {
   "display_name": "Python 3",
   "language": "python",
   "name": "python3"
  },
  "language_info": {
   "codemirror_mode": {
    "name": "ipython",
    "version": 3
   },
   "file_extension": ".py",
   "mimetype": "text/x-python",
   "name": "python",
   "nbconvert_exporter": "python",
   "pygments_lexer": "ipython3",
   "version": "3.4.2"
  }
 },
 "nbformat": 4,
 "nbformat_minor": 0
}
