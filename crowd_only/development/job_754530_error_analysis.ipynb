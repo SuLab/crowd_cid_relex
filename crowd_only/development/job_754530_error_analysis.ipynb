{
 "cells": [
  {
   "cell_type": "markdown",
   "metadata": {},
   "source": [
    "#Job 754530 error analysis"
   ]
  },
  {
   "cell_type": "markdown",
   "metadata": {},
   "source": [
    "Tong Shu Li<br>\n",
    "Created on Tuesday 2015-07-21<br>\n",
    "Last updated 2015-07-21"
   ]
  },
  {
   "cell_type": "markdown",
   "metadata": {},
   "source": [
    "We determined which work units for the abstract-level CID extraction task were false positives. In this notebook we will look through each error by hand to evaluate how well the crowd is performing."
   ]
  },
  {
   "cell_type": "markdown",
   "metadata": {},
   "source": [
    "##Remind workers in the answer choices that it's ok to annotate drug -> disease if it is part of a combination therapy"
   ]
  },
  {
   "cell_type": "markdown",
   "metadata": {},
   "source": [
    "###Update the section breaker to be agnostic of PMID\n",
    "\n",
    "E.g., make it so that I can do the section breaking \"background/methods etc\" without having to query pubmed with the pmid. Create a set of section titles that are common and follow hte format \"(section title in caps):\" and introduce breaks. This will also speed up the processing since I don't have to wait for pubmed's api."
   ]
  },
  {
   "cell_type": "markdown",
   "metadata": {},
   "source": [
    "Use https://crowdflower.com/jobs/754530/units/756359611 as an negative example.\n",
    "\n"
   ]
  },
  {
   "cell_type": "markdown",
   "metadata": {},
   "source": [
    "###False positives:"
   ]
  },
  {
   "cell_type": "markdown",
   "metadata": {},
   "source": [
    "Unit id | Remarks | Crowd is wrong?\n",
    "--- | ---\n",
    "756359610 | I think the crowd is right here: propofol does seem to cause loss of consciousness, especially since the text says \"induction of anaesthesia with propofol\". We also got unanimous agreement for this question, so it seems like the gold standard is wrong.. Drugs.com says that \"Propofol (Diprivan) slows the activity of your brain and nervous system.\" and that \"You will relax and fall asleep very quickly after propofol is injected.\" | No\n",
    "756359675 | Here it's difficult to know how the crowd treated the title of the abstract, since the title seems to imply that gentamicin has nephrotoxicity. The abstract body itself says that people who get gentamicin should be observed for nephrotoxicity, which suggests that the drug can cause the disease. Here again we received unanimous agreement, and again it's difficult to determine why the gold standard was lacking this relationship. | probably not\n",
    "756359615 | Another perfect disagreement with the gold. The concepts co-occurred in the title, and it would basically be impossible to tell the crowd that epilepsy is not inducing pilocarpine. | probably not\n",
    "756359659 | Based on the sentence \"Corticosteroids different from paramethasone also produced hypersensitivity reactions\" in these patients; however, a few of them were tolerated.\" it seems like the gold is wrong again. The title again contains the concept pair. | Probably not\n",
    "756359602 | There was one death in patients who took gemcitabine. I don't know why the gold does not include this relationship.  | Probably not\n",
    "756359677 | Same as 756359675. | probably not\n",
    "756359617 | Does \"prilocaine cause sensorineural hearing loss\"? Sensorineural hearing loss is \"Sensorineural hearing loss (SNHL) is a type of hearing loss in which the root cause lies in the vestibulocochlear nerve (cranial nerve VIII), the inner ear, or central processing centers of the brain.\" (wikipedia). Sensorineural hearing loss is a type of hearing loss. The text says that the aim was to descrive \"this hearing loss\", which might refer to sensorineural hearing loss, and not \"hearing loss\" in general. The gold standard only relates hearing loss (the general term), and does not include the more specific term (which goes against the annotation guidelines). | Probably not\n",
    "756359680 | The patient who received azithromycin had \"impaired\" renal function after drug treatment with corticosteroids. azithromycin is an antibiotic (drugs.com), and it says that some patients who receive antibiotics can get permanent renal injury. Seems like the crowd is right | Probably not\n",
    "756359611 | Here the crowd said that thiopentone induces loss of consciousness. By the rule of \"a drug by itself or in combination with other drugs\", I can see why the crowd might have picked \"yes\", but really the propofol is causing the loss of consciousness. It might be possible to teach them that thiopentone is not responsible, but it will be difficult. 2 of 5 people said No though, so maybe we need more judgements/better examples | Yes\n",
    "756359644 | Text says that decreases in systolic blood pressure were statistically but not clinically significant. The gold doesn't include this relation, but I think the crowd's answer is also ok. If we are trying to optimize to win, then we can of course include a note that the crowd should only annotate medically relevant findings, but I do not know if there are other statistically significant results that are annotated in the gold. | Ambiguous guidelines\n",
    "\n"
   ]
  },
  {
   "cell_type": "markdown",
   "metadata": {
    "collapsed": true
   },
   "source": [
    "Again, the errors seem murkier and more ambiguous as the agreement percentage drops, as expected."
   ]
  },
  {
   "cell_type": "markdown",
   "metadata": {},
   "source": [
    "Crowd is very good at finding true negatives. A large number of the true negatives (65%) had 100% agreement. A sampling of the true negatives shows that there doesn't seem to be any problems."
   ]
  },
  {
   "cell_type": "markdown",
   "metadata": {},
   "source": [
    "A sampling of the true positives shows that there doesn't seem to be any problems either."
   ]
  },
  {
   "cell_type": "markdown",
   "metadata": {},
   "source": [
    "At this point the changes to make are:\n",
    "\n",
    "1. Remove work units from the abstract-level task if the title contains a co-occurrence.\n",
    "2. Make more examples/test questions that are clear and good.\n",
    "3. Make the answer choice clear that it's ok if a drug is working as part of a combination therapy.\n",
    "4. Remove the confidence indicator. Looking at the responses, people only ever seem to choose confident and very confident, and in cases where people have conflicting responses, both people usually choose \"confident\", so the confidence doesn't really tell us anything. I think it's much better to just rely on agreement and not a self-judged confidence.\n",
    "\n",
    "The next run should probably be with a much larger dataset, since I think I have exhausted what the 30 abstracts can tell us."
   ]
  }
 ],
 "metadata": {
  "kernelspec": {
   "display_name": "Python 2",
   "language": "python",
   "name": "python2"
  },
  "language_info": {
   "codemirror_mode": {
    "name": "ipython",
    "version": 2
   },
   "file_extension": ".py",
   "mimetype": "text/x-python",
   "name": "python",
   "nbconvert_exporter": "python",
   "pygments_lexer": "ipython2",
   "version": "2.7.10"
  }
 },
 "nbformat": 4,
 "nbformat_minor": 0
}
