{
 "cells": [
  {
   "cell_type": "markdown",
   "metadata": {},
   "source": [
    "# Analysis of cleaned data from CrowdFlower job #743229"
   ]
  },
  {
   "cell_type": "markdown",
   "metadata": {},
   "source": [
    "2015-06-19 Tong Shu Li"
   ]
  },
  {
   "cell_type": "markdown",
   "metadata": {},
   "source": [
    "Now that we have finally cleaned up the data, let's see if we can get anything usable out of it."
   ]
  },
  {
   "cell_type": "markdown",
   "metadata": {},
   "source": [
    "Before moving on though, I would like to note that CrowdFlower's quiz mode has failed to work properly this time. Based on the answers of the cheaters and the answers I made for the test questions, I am forced to conclude that:\n",
    "\n",
    "1. For CML:checkboxes, as long as a worker chooses one choice that matches the gold, then that judgement is considered to be correct, regardless of how many wrong choices were made.\n",
    "2. Working faster than the minimum time limit per page does not automatically eliminate workers from your job, but rather \"flags\" them.\n",
    "\n",
    "Due to conclusion 1, we need to examine the responses by hand to determine their accuracy scores."
   ]
  },
  {
   "cell_type": "code",
   "execution_count": 1,
   "metadata": {
    "collapsed": true
   },
   "outputs": [],
   "source": [
    "from __future__ import division\n",
    "import pandas as pd"
   ]
  },
  {
   "cell_type": "code",
   "execution_count": 2,
   "metadata": {
    "collapsed": true
   },
   "outputs": [],
   "source": [
    "from src.filter_data import filter_data\n",
    "from src.aggregate_votes import aggregate_votes"
   ]
  },
  {
   "cell_type": "markdown",
   "metadata": {},
   "source": [
    "### Grab data:"
   ]
  },
  {
   "cell_type": "code",
   "execution_count": 3,
   "metadata": {
    "collapsed": true
   },
   "outputs": [],
   "source": [
    "settings = {\n",
    "    \"loc\": \"data/crowdflower\",\n",
    "    \"fname\": \"cleaned_job_743229_full.csv\",\n",
    "    \"data_subset\": \"normal\",\n",
    "    \"min_accuracy\": 0.7,\n",
    "    \"max_accuracy\": 1.0\n",
    "}\n",
    "\n",
    "cleaned_data = filter_data(settings)"
   ]
  },
  {
   "cell_type": "code",
   "execution_count": 4,
   "metadata": {
    "collapsed": false
   },
   "outputs": [
    {
     "data": {
      "text/plain": [
       "167"
      ]
     },
     "execution_count": 4,
     "metadata": {},
     "output_type": "execute_result"
    }
   ],
   "source": [
    "len(cleaned_data)"
   ]
  },
  {
   "cell_type": "markdown",
   "metadata": {},
   "source": [
    "Since it seems the CrowdFlower quiz interface is counting a judgement as correct if even one of the correct choices was chosen, we will need to determine the accuracy score of each contributor manually using two grading criteria:\n",
    "\n",
    "1. Exact match with the gold (must choose all correct choices, and chose no incorrect choices) [extremely strict]\n",
    "2. Loose match with gold (must choose no wrong answers, but any number of correct choices) [less strict]"
   ]
  },
  {
   "cell_type": "code",
   "execution_count": 5,
   "metadata": {
    "collapsed": true
   },
   "outputs": [],
   "source": [
    "settings = {\n",
    "    \"loc\": \"data/crowdflower\",\n",
    "    \"fname\": \"job_743229_full_results.csv\",\n",
    "    \"data_subset\": \"gold\",\n",
    "    \"min_accuracy\": 0.0,\n",
    "    \"max_accuracy\": 1.0\n",
    "}\n",
    "\n",
    "gold_data = filter_data(settings)"
   ]
  },
  {
   "cell_type": "code",
   "execution_count": 6,
   "metadata": {
    "collapsed": false
   },
   "outputs": [
    {
     "data": {
      "text/plain": [
       "448"
      ]
     },
     "execution_count": 6,
     "metadata": {},
     "output_type": "execute_result"
    }
   ],
   "source": [
    "len(gold_data)"
   ]
  },
  {
   "cell_type": "code",
   "execution_count": 7,
   "metadata": {
    "collapsed": true
   },
   "outputs": [],
   "source": [
    "settings = {\n",
    "    \"loc\": \"data/crowdflower\",\n",
    "    \"fname\": \"job_743229_full_results.csv\",\n",
    "    \"data_subset\": \"all\",\n",
    "    \"min_accuracy\": 0.0,\n",
    "    \"max_accuracy\": 1.0\n",
    "}\n",
    "\n",
    "all_data = filter_data(settings)"
   ]
  },
  {
   "cell_type": "code",
   "execution_count": 8,
   "metadata": {
    "collapsed": false
   },
   "outputs": [
    {
     "data": {
      "text/plain": [
       "714"
      ]
     },
     "execution_count": 8,
     "metadata": {},
     "output_type": "execute_result"
    }
   ],
   "source": [
    "len(all_data)"
   ]
  },
  {
   "cell_type": "markdown",
   "metadata": {},
   "source": [
    "---"
   ]
  },
  {
   "cell_type": "markdown",
   "metadata": {},
   "source": [
    "### For each worker who passed the quiz, evaluate their accuracy score manually:"
   ]
  },
  {
   "cell_type": "markdown",
   "metadata": {},
   "source": [
    "We can modify accuracy score even further:\n",
    "\n",
    "Each worker judgement is given a real number value from 0 to 1.\n",
    "\n",
    "\n",
    "1. In order for a judgement to be correct, it must not contain choices which are wrong. An incorrect judgement receives a score of 0.\n",
    "2. If there are N choices which are correct according to the gold standard, then the judgement is given a score of M/N where M is the number of correct choices chosen.\n",
    "\n",
    "Therefore a judgement is assigned a score of 1 if and only if the worker chose all of the correct answers and none of the incorrect answers. A score > 0 but < 1 represents a worker who chose some subset of the correct choices and none of the incorrect choices. A score of 0 represents a worker who chose a non-zero number of incorrect choices, and any number of correct choices.\n"
   ]
  },
  {
   "cell_type": "code",
   "execution_count": 9,
   "metadata": {
    "collapsed": true
   },
   "outputs": [],
   "source": [
    "def gold_responses(worker_id):\n",
    "    # given the responses to the quiz, returns the accuracy score\n",
    "    # num test questions right / num test questions seen\n",
    "    \n",
    "    res = gold_data.query(\"_worker_id == {0}\".format(worker_id))\n",
    "    for idx, response in res.iterrows():\n",
    "        correct_choices = response[\"chemical_disease_relationships_gold\"].split('\\n')\n",
    "        user_choices = response[\"chemical_disease_relationships\"].split('\\n')\n",
    "        \n",
    "        print \"correct\"\n",
    "        print correct_choices\n",
    "        print \"user\"\n",
    "        print user_choices\n",
    "        print"
   ]
  },
  {
   "cell_type": "markdown",
   "metadata": {},
   "source": [
    "### Our new accuracy score algorithm removes even more people.."
   ]
  },
  {
   "cell_type": "code",
   "execution_count": 12,
   "metadata": {
    "collapsed": true
   },
   "outputs": [],
   "source": [
    "def accuracy_score(worker_id):\n",
    "    # given the responses to the quiz, returns the accuracy score\n",
    "    # num test questions right / num test questions seen\n",
    "    \n",
    "    res = gold_data.query(\"_worker_id == {0}\".format(worker_id))\n",
    "    \n",
    "    num_correct = 0.0\n",
    "    for idx, response in res.iterrows():\n",
    "        correct_choices = set(response[\"chemical_disease_relationships_gold\"].split('\\n'))\n",
    "        user_choices = set(response[\"chemical_disease_relationships\"].split('\\n'))\n",
    "        \n",
    "        # less strict than exact match: choose any number of correct, but no wrong ones\n",
    "        if user_choices - correct_choices == set():\n",
    "            num_correct += len(user_choices) / len(correct_choices)\n",
    "            \n",
    "    return num_correct / len(res)"
   ]
  },
  {
   "cell_type": "markdown",
   "metadata": {},
   "source": [
    "### Results from new accuracy algorithm:"
   ]
  },
  {
   "cell_type": "code",
   "execution_count": 13,
   "metadata": {
    "collapsed": false
   },
   "outputs": [
    {
     "name": "stdout",
     "output_type": "stream",
     "text": [
      "31001914 6 3\n",
      "cf trust: 1.0\n",
      "toby trust: 0.833333333333\n",
      "\n",
      "31668998 7 7\n",
      "cf trust: 0.8571\n",
      "toby trust: 0.714285714286\n",
      "\n",
      "28175348 6 4\n",
      "cf trust: 1.0\n",
      "toby trust: 0.916666666667\n",
      "\n",
      "29825265 6 4\n",
      "cf trust: 0.8333\n",
      "toby trust: 0.833333333333\n",
      "\n"
     ]
    }
   ],
   "source": [
    "good_workers = dict()\n",
    "for worker_id in all_data[\"_worker_id\"].unique():\n",
    "    toby_trust = accuracy_score(worker_id)\n",
    "    \n",
    "    res = gold_data.query(\"_worker_id == {0}\".format(worker_id))\n",
    "    work_done = len(cleaned_data.query(\"_worker_id == {0}\".format(worker_id)))\n",
    "    \n",
    "    if toby_trust >= 0.7 and work_done > 0:\n",
    "        print worker_id, len(res), work_done\n",
    "        print \"cf trust:\", res[\"_trust\"].iloc[0]\n",
    "        print \"toby trust:\", toby_trust\n",
    "        print\n",
    "        \n",
    "        good_workers[worker_id] = toby_trust\n"
   ]
  },
  {
   "cell_type": "markdown",
   "metadata": {},
   "source": [
    "### Results from old accuracy algorithm:"
   ]
  },
  {
   "cell_type": "code",
   "execution_count": 11,
   "metadata": {
    "collapsed": false,
    "scrolled": false
   },
   "outputs": [
    {
     "name": "stdout",
     "output_type": "stream",
     "text": [
      "11000920 10 20\n",
      "cf trust: 0.8\n",
      "toby trust: 0.7\n",
      "\n",
      "16567674 8 12\n",
      "cf trust: 0.75\n",
      "toby trust: 0.75\n",
      "\n",
      "31001914 6 3\n",
      "cf trust: 1.0\n",
      "toby trust: 0.833333333333\n",
      "\n",
      "31668998 7 7\n",
      "cf trust: 0.8571\n",
      "toby trust: 0.714285714286\n",
      "\n",
      "28175348 6 4\n",
      "cf trust: 1.0\n",
      "toby trust: 1.0\n",
      "\n",
      "17839436 7 8\n",
      "cf trust: 0.7143\n",
      "toby trust: 0.714285714286\n",
      "\n",
      "29825265 6 4\n",
      "cf trust: 0.8333\n",
      "toby trust: 0.833333333333\n",
      "\n"
     ]
    }
   ],
   "source": [
    "good_workers = dict()\n",
    "for worker_id in all_data[\"_worker_id\"].unique():\n",
    "    toby_trust = accuracy_score(worker_id)\n",
    "    \n",
    "    res = gold_data.query(\"_worker_id == {0}\".format(worker_id))\n",
    "    work_done = len(cleaned_data.query(\"_worker_id == {0}\".format(worker_id)))\n",
    "    \n",
    "    if toby_trust >= 0.7 and work_done > 0:\n",
    "        print worker_id, len(res), work_done\n",
    "        print \"cf trust:\", res[\"_trust\"].iloc[0]\n",
    "        print \"toby trust:\", toby_trust\n",
    "        print\n",
    "        \n",
    "        good_workers[worker_id] = toby_trust\n"
   ]
  },
  {
   "cell_type": "markdown",
   "metadata": {},
   "source": [
    "### There were 7 workers who maintained 70% accuracy according to our less strict grading scheme, and performed at least one unit of actual work:"
   ]
  },
  {
   "cell_type": "code",
   "execution_count": 12,
   "metadata": {
    "collapsed": false
   },
   "outputs": [
    {
     "data": {
      "text/plain": [
       "{11000920: 0.7,\n",
       " 16567674: 0.75,\n",
       " 17839436: 0.7142857142857143,\n",
       " 28175348: 1.0,\n",
       " 29825265: 0.8333333333333334,\n",
       " 31001914: 0.8333333333333334,\n",
       " 31668998: 0.7142857142857143}"
      ]
     },
     "execution_count": 12,
     "metadata": {},
     "output_type": "execute_result"
    }
   ],
   "source": [
    "good_workers"
   ]
  },
  {
   "cell_type": "markdown",
   "metadata": {},
   "source": [
    "Now we filter the data down to the work done by these 7 people, and see if there are any useful responses:"
   ]
  },
  {
   "cell_type": "code",
   "execution_count": 13,
   "metadata": {
    "collapsed": true
   },
   "outputs": [],
   "source": [
    "final_data = cleaned_data.query(\"_worker_id in {0}\".format(good_workers.keys()))"
   ]
  },
  {
   "cell_type": "code",
   "execution_count": 14,
   "metadata": {
    "collapsed": false
   },
   "outputs": [
    {
     "data": {
      "text/plain": [
       "58"
      ]
     },
     "execution_count": 14,
     "metadata": {},
     "output_type": "execute_result"
    }
   ],
   "source": [
    "len(final_data)"
   ]
  },
  {
   "cell_type": "markdown",
   "metadata": {},
   "source": [
    "We have a total of 58 responses in the final, trustworthy data."
   ]
  },
  {
   "cell_type": "code",
   "execution_count": 15,
   "metadata": {
    "collapsed": false
   },
   "outputs": [
    {
     "data": {
      "text/html": [
       "<div style=\"max-height:1000px;max-width:1500px;overflow:auto;\">\n",
       "<table border=\"1\" class=\"dataframe\">\n",
       "  <thead>\n",
       "    <tr style=\"text-align: right;\">\n",
       "      <th></th>\n",
       "      <th>_unit_id</th>\n",
       "      <th>_created_at</th>\n",
       "      <th>_golden</th>\n",
       "      <th>_id</th>\n",
       "      <th>_missed</th>\n",
       "      <th>_started_at</th>\n",
       "      <th>_tainted</th>\n",
       "      <th>_channel</th>\n",
       "      <th>_trust</th>\n",
       "      <th>_worker_id</th>\n",
       "      <th>...</th>\n",
       "      <th>choice_2_ids</th>\n",
       "      <th>choice_2_label</th>\n",
       "      <th>choice_3_ids</th>\n",
       "      <th>choice_3_label</th>\n",
       "      <th>choice_4_ids</th>\n",
       "      <th>choice_4_label</th>\n",
       "      <th>form_abstract</th>\n",
       "      <th>form_title</th>\n",
       "      <th>pmid</th>\n",
       "      <th>uniq_id</th>\n",
       "    </tr>\n",
       "  </thead>\n",
       "  <tbody>\n",
       "    <tr>\n",
       "      <th>10</th>\n",
       "      <td>739660089</td>\n",
       "      <td>6/19/2015 00:44:51</td>\n",
       "      <td>False</td>\n",
       "      <td>1665425696</td>\n",
       "      <td>NaN</td>\n",
       "      <td>6/19/2015 00:39:14</td>\n",
       "      <td>False</td>\n",
       "      <td>clixsense</td>\n",
       "      <td>1.0000</td>\n",
       "      <td>31001914</td>\n",
       "      <td>...</td>\n",
       "      <td>D002945_induces_D003643</td>\n",
       "      <td>&lt;span class=\"chemical\"&gt;cisplatin&lt;/span&gt; contri...</td>\n",
       "      <td>D002945_induces_D009503</td>\n",
       "      <td>&lt;span class=\"chemical\"&gt;cisplatin&lt;/span&gt; contri...</td>\n",
       "      <td>D002945_induces_D002289</td>\n",
       "      <td>&lt;span class=\"chemical\"&gt;cisplatin&lt;/span&gt; contri...</td>\n",
       "      <td>&lt;p&gt;BACKGROUND: &lt;span class=\"chemical\"&gt;Cisplati...</td>\n",
       "      <td>Paclitaxel, &lt;span class=\"chemical\"&gt;cisplatin&lt;/...</td>\n",
       "      <td>11135224</td>\n",
       "      <td>bcv_id_3</td>\n",
       "    </tr>\n",
       "    <tr>\n",
       "      <th>11</th>\n",
       "      <td>739660089</td>\n",
       "      <td>6/19/2015 01:09:45</td>\n",
       "      <td>False</td>\n",
       "      <td>1665448869</td>\n",
       "      <td>NaN</td>\n",
       "      <td>6/19/2015 01:06:44</td>\n",
       "      <td>False</td>\n",
       "      <td>elite</td>\n",
       "      <td>0.8571</td>\n",
       "      <td>31668998</td>\n",
       "      <td>...</td>\n",
       "      <td>D002945_induces_D003643</td>\n",
       "      <td>&lt;span class=\"chemical\"&gt;cisplatin&lt;/span&gt; contri...</td>\n",
       "      <td>D002945_induces_D009503</td>\n",
       "      <td>&lt;span class=\"chemical\"&gt;cisplatin&lt;/span&gt; contri...</td>\n",
       "      <td>D002945_induces_D002289</td>\n",
       "      <td>&lt;span class=\"chemical\"&gt;cisplatin&lt;/span&gt; contri...</td>\n",
       "      <td>&lt;p&gt;BACKGROUND: &lt;span class=\"chemical\"&gt;Cisplati...</td>\n",
       "      <td>Paclitaxel, &lt;span class=\"chemical\"&gt;cisplatin&lt;/...</td>\n",
       "      <td>11135224</td>\n",
       "      <td>bcv_id_3</td>\n",
       "    </tr>\n",
       "    <tr>\n",
       "      <th>24</th>\n",
       "      <td>739660095</td>\n",
       "      <td>6/19/2015 00:44:51</td>\n",
       "      <td>False</td>\n",
       "      <td>1665425703</td>\n",
       "      <td>NaN</td>\n",
       "      <td>6/19/2015 00:39:14</td>\n",
       "      <td>False</td>\n",
       "      <td>clixsense</td>\n",
       "      <td>1.0000</td>\n",
       "      <td>31001914</td>\n",
       "      <td>...</td>\n",
       "      <td>D013874_induces_D010146</td>\n",
       "      <td>&lt;span class=\"chemical\"&gt;Thiopentone&lt;/span&gt; cont...</td>\n",
       "      <td>D013874_induces_D014474</td>\n",
       "      <td>&lt;span class=\"chemical\"&gt;Thiopentone&lt;/span&gt; cont...</td>\n",
       "      <td>D008012_induces_D010146</td>\n",
       "      <td>&lt;span class=\"chemical\"&gt;lidocaine&lt;/span&gt; contri...</td>\n",
       "      <td>This study investigated &lt;span class=\"chemical\"...</td>\n",
       "      <td>&lt;span class=\"chemical\"&gt;Thiopentone&lt;/span&gt; pret...</td>\n",
       "      <td>8595686</td>\n",
       "      <td>bcv_id_9</td>\n",
       "    </tr>\n",
       "    <tr>\n",
       "      <th>25</th>\n",
       "      <td>739660095</td>\n",
       "      <td>6/19/2015 01:09:45</td>\n",
       "      <td>False</td>\n",
       "      <td>1665448873</td>\n",
       "      <td>NaN</td>\n",
       "      <td>6/19/2015 01:06:44</td>\n",
       "      <td>False</td>\n",
       "      <td>elite</td>\n",
       "      <td>0.8571</td>\n",
       "      <td>31668998</td>\n",
       "      <td>...</td>\n",
       "      <td>D013874_induces_D010146</td>\n",
       "      <td>&lt;span class=\"chemical\"&gt;Thiopentone&lt;/span&gt; cont...</td>\n",
       "      <td>D013874_induces_D014474</td>\n",
       "      <td>&lt;span class=\"chemical\"&gt;Thiopentone&lt;/span&gt; cont...</td>\n",
       "      <td>D008012_induces_D010146</td>\n",
       "      <td>&lt;span class=\"chemical\"&gt;lidocaine&lt;/span&gt; contri...</td>\n",
       "      <td>This study investigated &lt;span class=\"chemical\"...</td>\n",
       "      <td>&lt;span class=\"chemical\"&gt;Thiopentone&lt;/span&gt; pret...</td>\n",
       "      <td>8595686</td>\n",
       "      <td>bcv_id_9</td>\n",
       "    </tr>\n",
       "    <tr>\n",
       "      <th>28</th>\n",
       "      <td>739660097</td>\n",
       "      <td>6/19/2015 00:29:23</td>\n",
       "      <td>False</td>\n",
       "      <td>1665411021</td>\n",
       "      <td>NaN</td>\n",
       "      <td>6/19/2015 00:27:14</td>\n",
       "      <td>False</td>\n",
       "      <td>neodev</td>\n",
       "      <td>0.8000</td>\n",
       "      <td>11000920</td>\n",
       "      <td>...</td>\n",
       "      <td>D010862_induces_D028361</td>\n",
       "      <td>&lt;span class=\"chemical\"&gt;pilocarpine&lt;/span&gt; cont...</td>\n",
       "      <td>D010862_induces_D004827</td>\n",
       "      <td>&lt;span class=\"chemical\"&gt;pilocarpine&lt;/span&gt; cont...</td>\n",
       "      <td>D010862_induces_D004833</td>\n",
       "      <td>&lt;span class=\"chemical\"&gt;pilocarpine&lt;/span&gt; cont...</td>\n",
       "      <td>&lt;span class=\"disease\"&gt;Mitochondrial abnormalit...</td>\n",
       "      <td>Investigation of mitochondrial involvement in ...</td>\n",
       "      <td>16337777</td>\n",
       "      <td>bcv_id_11</td>\n",
       "    </tr>\n",
       "  </tbody>\n",
       "</table>\n",
       "<p>5 rows × 31 columns</p>\n",
       "</div>"
      ],
      "text/plain": [
       "     _unit_id         _created_at _golden         _id  _missed  \\\n",
       "10  739660089  6/19/2015 00:44:51   False  1665425696      NaN   \n",
       "11  739660089  6/19/2015 01:09:45   False  1665448869      NaN   \n",
       "24  739660095  6/19/2015 00:44:51   False  1665425703      NaN   \n",
       "25  739660095  6/19/2015 01:09:45   False  1665448873      NaN   \n",
       "28  739660097  6/19/2015 00:29:23   False  1665411021      NaN   \n",
       "\n",
       "           _started_at _tainted   _channel  _trust  _worker_id    ...      \\\n",
       "10  6/19/2015 00:39:14    False  clixsense  1.0000    31001914    ...       \n",
       "11  6/19/2015 01:06:44    False      elite  0.8571    31668998    ...       \n",
       "24  6/19/2015 00:39:14    False  clixsense  1.0000    31001914    ...       \n",
       "25  6/19/2015 01:06:44    False      elite  0.8571    31668998    ...       \n",
       "28  6/19/2015 00:27:14    False     neodev  0.8000    11000920    ...       \n",
       "\n",
       "               choice_2_ids  \\\n",
       "10  D002945_induces_D003643   \n",
       "11  D002945_induces_D003643   \n",
       "24  D013874_induces_D010146   \n",
       "25  D013874_induces_D010146   \n",
       "28  D010862_induces_D028361   \n",
       "\n",
       "                                       choice_2_label  \\\n",
       "10  <span class=\"chemical\">cisplatin</span> contri...   \n",
       "11  <span class=\"chemical\">cisplatin</span> contri...   \n",
       "24  <span class=\"chemical\">Thiopentone</span> cont...   \n",
       "25  <span class=\"chemical\">Thiopentone</span> cont...   \n",
       "28  <span class=\"chemical\">pilocarpine</span> cont...   \n",
       "\n",
       "               choice_3_ids  \\\n",
       "10  D002945_induces_D009503   \n",
       "11  D002945_induces_D009503   \n",
       "24  D013874_induces_D014474   \n",
       "25  D013874_induces_D014474   \n",
       "28  D010862_induces_D004827   \n",
       "\n",
       "                                       choice_3_label  \\\n",
       "10  <span class=\"chemical\">cisplatin</span> contri...   \n",
       "11  <span class=\"chemical\">cisplatin</span> contri...   \n",
       "24  <span class=\"chemical\">Thiopentone</span> cont...   \n",
       "25  <span class=\"chemical\">Thiopentone</span> cont...   \n",
       "28  <span class=\"chemical\">pilocarpine</span> cont...   \n",
       "\n",
       "               choice_4_ids  \\\n",
       "10  D002945_induces_D002289   \n",
       "11  D002945_induces_D002289   \n",
       "24  D008012_induces_D010146   \n",
       "25  D008012_induces_D010146   \n",
       "28  D010862_induces_D004833   \n",
       "\n",
       "                                       choice_4_label  \\\n",
       "10  <span class=\"chemical\">cisplatin</span> contri...   \n",
       "11  <span class=\"chemical\">cisplatin</span> contri...   \n",
       "24  <span class=\"chemical\">lidocaine</span> contri...   \n",
       "25  <span class=\"chemical\">lidocaine</span> contri...   \n",
       "28  <span class=\"chemical\">pilocarpine</span> cont...   \n",
       "\n",
       "                                        form_abstract  \\\n",
       "10  <p>BACKGROUND: <span class=\"chemical\">Cisplati...   \n",
       "11  <p>BACKGROUND: <span class=\"chemical\">Cisplati...   \n",
       "24  This study investigated <span class=\"chemical\"...   \n",
       "25  This study investigated <span class=\"chemical\"...   \n",
       "28  <span class=\"disease\">Mitochondrial abnormalit...   \n",
       "\n",
       "                                           form_title      pmid    uniq_id  \n",
       "10  Paclitaxel, <span class=\"chemical\">cisplatin</...  11135224   bcv_id_3  \n",
       "11  Paclitaxel, <span class=\"chemical\">cisplatin</...  11135224   bcv_id_3  \n",
       "24  <span class=\"chemical\">Thiopentone</span> pret...   8595686   bcv_id_9  \n",
       "25  <span class=\"chemical\">Thiopentone</span> pret...   8595686   bcv_id_9  \n",
       "28  Investigation of mitochondrial involvement in ...  16337777  bcv_id_11  \n",
       "\n",
       "[5 rows x 31 columns]"
      ]
     },
     "execution_count": 15,
     "metadata": {},
     "output_type": "execute_result"
    }
   ],
   "source": [
    "final_data.head()"
   ]
  },
  {
   "cell_type": "code",
   "execution_count": 16,
   "metadata": {
    "collapsed": false
   },
   "outputs": [
    {
     "data": {
      "text/plain": [
       "24"
      ]
     },
     "execution_count": 16,
     "metadata": {},
     "output_type": "execute_result"
    }
   ],
   "source": [
    "len(final_data[\"pmid\"].unique())"
   ]
  },
  {
   "cell_type": "code",
   "execution_count": 17,
   "metadata": {
    "collapsed": false,
    "scrolled": true
   },
   "outputs": [
    {
     "data": {
      "text/plain": [
       "31"
      ]
     },
     "execution_count": 17,
     "metadata": {},
     "output_type": "execute_result"
    }
   ],
   "source": [
    "len(final_data[\"uniq_id\"].unique())"
   ]
  },
  {
   "cell_type": "markdown",
   "metadata": {},
   "source": [
    "### Replace the crowdflower trust scores with our own:"
   ]
  },
  {
   "cell_type": "code",
   "execution_count": 18,
   "metadata": {
    "collapsed": false
   },
   "outputs": [
    {
     "name": "stderr",
     "output_type": "stream",
     "text": [
      "/usr/lib64/python2.7/site-packages/pandas/core/indexing.py:407: SettingWithCopyWarning: \n",
      "A value is trying to be set on a copy of a slice from a DataFrame.\n",
      "Try using .loc[row_indexer,col_indexer] = value instead\n",
      "\n",
      "See the the caveats in the documentation: http://pandas.pydata.org/pandas-docs/stable/indexing.html#indexing-view-versus-copy\n",
      "  self.obj[item] = s\n"
     ]
    }
   ],
   "source": [
    "for idx, row in final_data.iterrows():\n",
    "    worker_id = row[\"_worker_id\"]\n",
    "    final_data.loc[idx, \"_trust\"] = good_workers[worker_id]"
   ]
  },
  {
   "cell_type": "markdown",
   "metadata": {},
   "source": [
    "### Write to file:"
   ]
  },
  {
   "cell_type": "code",
   "execution_count": 19,
   "metadata": {
    "collapsed": true
   },
   "outputs": [],
   "source": [
    "final_data.to_csv(\"data/crowdflower/job_743229_final_data.csv\", sep = \",\", index = False)"
   ]
  }
 ],
 "metadata": {
  "kernelspec": {
   "display_name": "Python 2",
   "language": "python",
   "name": "python2"
  },
  "language_info": {
   "codemirror_mode": {
    "name": "ipython",
    "version": 2
   },
   "file_extension": ".py",
   "mimetype": "text/x-python",
   "name": "python",
   "nbconvert_exporter": "python",
   "pygments_lexer": "ipython2",
   "version": "2.7.10"
  }
 },
 "nbformat": 4,
 "nbformat_minor": 0
}
