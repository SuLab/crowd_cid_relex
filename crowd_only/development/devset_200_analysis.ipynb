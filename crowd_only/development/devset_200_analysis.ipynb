{
 "cells": [
  {
   "cell_type": "markdown",
   "metadata": {},
   "source": [
    "# Results for 200 development set abstracts\n",
    "\n",
    "Tong Shu Li<br>\n",
    "Created on: 2015-08-25<br>\n",
    "Last updated: 2015-08-25\n",
    "\n",
    "In this notebook we will determine how many papers were completely finished by our crowdsourcing technique."
   ]
  },
  {
   "cell_type": "code",
   "execution_count": 1,
   "metadata": {
    "collapsed": true
   },
   "outputs": [],
   "source": [
    "from collections import defaultdict\n",
    "from IPython.display import Image\n",
    "import matplotlib.pyplot as plt\n",
    "import numpy as np\n",
    "import os\n",
    "import pandas as pd\n",
    "import pickle"
   ]
  },
  {
   "cell_type": "code",
   "execution_count": 2,
   "metadata": {
    "collapsed": true
   },
   "outputs": [],
   "source": [
    "matplotlib inline"
   ]
  },
  {
   "cell_type": "code",
   "execution_count": 3,
   "metadata": {
    "collapsed": true
   },
   "outputs": [],
   "source": [
    "from src.filter_data import filter_data\n",
    "from src.data_model import parse_input\n",
    "from src.data_model import Relation\n",
    "from src.data_model import is_MeSH_id\n",
    "from src.get_AUC_value import get_AUC_value\n",
    "from src.F_score import *\n",
    "from src.aggregate_results import *\n",
    "from src.lingpipe.file_util import read_file"
   ]
  },
  {
   "cell_type": "markdown",
   "metadata": {},
   "source": [
    "---"
   ]
  },
  {
   "cell_type": "code",
   "execution_count": 4,
   "metadata": {
    "collapsed": true
   },
   "outputs": [],
   "source": [
    "testset_pmids = {48362,\n",
    " 85485,\n",
    " 188339,\n",
    " 326460,\n",
    " 384871,\n",
    " 430165,\n",
    " 458486,\n",
    " 625456,\n",
    " 663266,\n",
    " 761833,\n",
    " 871943,\n",
    " 921394,\n",
    " 982002,\n",
    " 1255900,\n",
    " 1355091,\n",
    " 1504402,\n",
    " 1687392,\n",
    " 1899352,\n",
    " 1928887,\n",
    " 1969772,\n",
    " 2004015,\n",
    " 2021202,\n",
    " 2051906,\n",
    " 2320800,\n",
    " 2339463,\n",
    " 2435991,\n",
    " 2564649,\n",
    " 2576810,\n",
    " 2716967,\n",
    " 2722224,\n",
    " 2790457,\n",
    " 2840807,\n",
    " 2886572,\n",
    " 2893236,\n",
    " 2980315,\n",
    " 3084782,\n",
    " 3108839,\n",
    " 3115150,\n",
    " 3123611,\n",
    " 3131282,\n",
    " 3137399,\n",
    " 3183120,\n",
    " 3411101,\n",
    " 3413271,\n",
    " 3670965,\n",
    " 3686155,\n",
    " 3703509,\n",
    " 3732088,\n",
    " 3762968,\n",
    " 3769769,\n",
    " 3780697,\n",
    " 3780814,\n",
    " 3934126,\n",
    " 3950060,\n",
    " 3952818,\n",
    " 3961813,\n",
    " 3962737,\n",
    " 3973521,\n",
    " 4038130,\n",
    " 4090988,\n",
    " 6127992,\n",
    " 6150641,\n",
    " 6293644,\n",
    " 6323692,\n",
    " 6454943,\n",
    " 6540303,\n",
    " 6615052,\n",
    " 6637851,\n",
    " 6699841,\n",
    " 6732043,\n",
    " 6769133,\n",
    " 6892185,\n",
    " 7007443,\n",
    " 7053705,\n",
    " 7072798,\n",
    " 7282516,\n",
    " 7604176,\n",
    " 7619765,\n",
    " 7647582,\n",
    " 7650771,\n",
    " 7710775,\n",
    " 7752389,\n",
    " 7803371,\n",
    " 7843916,\n",
    " 8012887,\n",
    " 8106150,\n",
    " 8111719,\n",
    " 8251368,\n",
    " 8267029,\n",
    " 8268147,\n",
    " 8494478,\n",
    " 8586822,\n",
    " 8617710,\n",
    " 8766220,\n",
    " 8888541,\n",
    " 8911359,\n",
    " 8958188,\n",
    " 9098464,\n",
    " 9209318,\n",
    " 9214597,\n",
    " 9226773,\n",
    " 9305828,\n",
    " 9545159,\n",
    " 9549528,\n",
    " 9564988,\n",
    " 9672273,\n",
    " 9867728,\n",
    " 9875685,\n",
    " 9952311,\n",
    " 10074612,\n",
    " 10193809,\n",
    " 10225068,\n",
    " 10354657,\n",
    " 10411803,\n",
    " 10414674,\n",
    " 10524660,\n",
    " 10539815,\n",
    " 10565806,\n",
    " 10692744,\n",
    " 10840460,\n",
    " 11009181,\n",
    " 11063349,\n",
    " 11079278,\n",
    " 11185967,\n",
    " 11195262,\n",
    " 11208990,\n",
    " 11230490,\n",
    " 11302406,\n",
    " 11337188,\n",
    " 11694026,\n",
    " 11705128,\n",
    " 11847945,\n",
    " 11860495,\n",
    " 12013711,\n",
    " 12091028,\n",
    " 12093990,\n",
    " 12231232,\n",
    " 12448656,\n",
    " 12600698,\n",
    " 12691807,\n",
    " 12734532,\n",
    " 12739036,\n",
    " 12851669,\n",
    " 12907924,\n",
    " 14736955,\n",
    " 14975762,\n",
    " 14982270,\n",
    " 15042318,\n",
    " 15075188,\n",
    " 15096016,\n",
    " 15579441,\n",
    " 15673851,\n",
    " 15814210,\n",
    " 15867025,\n",
    " 15893386,\n",
    " 15897593,\n",
    " 15974569,\n",
    " 15985056,\n",
    " 16006300,\n",
    " 16047871,\n",
    " 16157917,\n",
    " 16418614,\n",
    " 16428827,\n",
    " 16574713,\n",
    " 16586083,\n",
    " 16710500,\n",
    " 16820346,\n",
    " 17285209,\n",
    " 17366349,\n",
    " 17490790,\n",
    " 17490864,\n",
    " 17574447,\n",
    " 17682013,\n",
    " 17786501,\n",
    " 17943461,\n",
    " 17965424,\n",
    " 18006530,\n",
    " 18086064,\n",
    " 18201582,\n",
    " 18356633,\n",
    " 18441470,\n",
    " 18483878,\n",
    " 18589141,\n",
    " 18657397,\n",
    " 18674790,\n",
    " 18997632,\n",
    " 19105845,\n",
    " 19234905,\n",
    " 19274460,\n",
    " 19674115,\n",
    " 19707748,\n",
    " 19721134,\n",
    " 19893084,\n",
    " 19940105,\n",
    " 19944736,\n",
    " 20164825,\n",
    " 20533999,\n",
    " 20552622,\n",
    " 20727411,\n",
    " 20735774}"
   ]
  },
  {
   "cell_type": "code",
   "execution_count": 5,
   "metadata": {
    "collapsed": true
   },
   "outputs": [],
   "source": [
    "def read_gold_standard(dataset, file_format = \"list\"):\n",
    "    assert dataset in [\"training\", \"development\"]\n",
    "    assert file_format in [\"list\", \"dict\"]\n",
    "    \n",
    "    fname = \"data/gold_standard/parsed_{0}_set_{1}.pickle\".format(dataset, file_format)\n",
    "    \n",
    "    if os.path.exists(fname):\n",
    "        print(\"Reading cached version of {0} set ({1})\".format(dataset, file_format))\n",
    "        \n",
    "        with open(fname, \"rb\") as fin:\n",
    "            data = pickle.load(fin)\n",
    "    else:\n",
    "        print(\"Parsing raw {0} file\".format(dataset))\n",
    "        data = parse_input(\"data/gold_standard\".format(dataset),\n",
    "                           \"CDR_{0}Set.txt\".format(dataset.capitalize()),\n",
    "                           is_gold = True,\n",
    "                           return_format = file_format,\n",
    "                          fix_acronyms = False)\n",
    "        \n",
    "        with open(fname, \"wb\") as fout:\n",
    "            pickle.dump(data, fout)\n",
    "            \n",
    "    return data"
   ]
  },
  {
   "cell_type": "code",
   "execution_count": 6,
   "metadata": {
    "collapsed": false
   },
   "outputs": [
    {
     "name": "stdout",
     "output_type": "stream",
     "text": [
      "Reading cached version of development set (dict)\n"
     ]
    }
   ],
   "source": [
    "dev_gold = read_gold_standard(\"development\", \"dict\")"
   ]
  },
  {
   "cell_type": "code",
   "execution_count": 7,
   "metadata": {
    "collapsed": true
   },
   "outputs": [],
   "source": [
    "gold_testset = {pmid : dev_gold[pmid] for pmid in testset_pmids}"
   ]
  },
  {
   "cell_type": "markdown",
   "metadata": {},
   "source": [
    "---"
   ]
  },
  {
   "cell_type": "code",
   "execution_count": 8,
   "metadata": {
    "collapsed": true
   },
   "outputs": [],
   "source": [
    "easy_units = pd.read_csv(\"data/crowdflower/data_for_easy_job_761593.tsv\", sep = '\\t')"
   ]
  },
  {
   "cell_type": "code",
   "execution_count": 9,
   "metadata": {
    "collapsed": true
   },
   "outputs": [],
   "source": [
    "hard_units = pd.read_csv(\"data/crowdflower/data_for_hard_job_758438.tsv\", sep = '\\t')"
   ]
  },
  {
   "cell_type": "code",
   "execution_count": 10,
   "metadata": {
    "collapsed": false
   },
   "outputs": [
    {
     "data": {
      "text/plain": [
       "(1333, 15)"
      ]
     },
     "execution_count": 10,
     "metadata": {},
     "output_type": "execute_result"
    }
   ],
   "source": [
    "easy_units.shape"
   ]
  },
  {
   "cell_type": "code",
   "execution_count": 11,
   "metadata": {
    "collapsed": false
   },
   "outputs": [
    {
     "data": {
      "text/plain": [
       "(1115, 13)"
      ]
     },
     "execution_count": 11,
     "metadata": {},
     "output_type": "execute_result"
    }
   ],
   "source": [
    "hard_units.shape"
   ]
  },
  {
   "cell_type": "markdown",
   "metadata": {},
   "source": [
    "---"
   ]
  },
  {
   "cell_type": "markdown",
   "metadata": {},
   "source": [
    "### Sentence-level task"
   ]
  },
  {
   "cell_type": "code",
   "execution_count": 12,
   "metadata": {
    "collapsed": true
   },
   "outputs": [],
   "source": [
    "settings = {\n",
    "    \"loc\": \"data/crowdflower/results\",\n",
    "    \"fname\": \"job_761593_full_with_untrusted.csv\",\n",
    "    \"data_subset\": \"normal\",\n",
    "    \"min_accuracy\": 0.7,\n",
    "    \"max_accuracy\": 1.0\n",
    "}\n",
    "\n",
    "sent_raw_data = filter_data(settings)"
   ]
  },
  {
   "cell_type": "code",
   "execution_count": 13,
   "metadata": {
    "collapsed": true
   },
   "outputs": [],
   "source": [
    "sent_raw_data = sent_raw_data.query(\"~_tainted\")"
   ]
  },
  {
   "cell_type": "code",
   "execution_count": 14,
   "metadata": {
    "collapsed": false
   },
   "outputs": [
    {
     "data": {
      "text/plain": [
       "(5500, 31)"
      ]
     },
     "execution_count": 14,
     "metadata": {},
     "output_type": "execute_result"
    }
   ],
   "source": [
    "sent_raw_data.shape"
   ]
  },
  {
   "cell_type": "markdown",
   "metadata": {},
   "source": [
    "### Abstract level task"
   ]
  },
  {
   "cell_type": "code",
   "execution_count": 15,
   "metadata": {
    "collapsed": true
   },
   "outputs": [],
   "source": [
    "settings = {\n",
    "    \"loc\": \"data/crowdflower/results\",\n",
    "    \"fname\": \"job_758438_full_with_untrusted.csv\",\n",
    "    \"data_subset\": \"normal\",\n",
    "    \"min_accuracy\": 0.7,\n",
    "    \"max_accuracy\": 1.0\n",
    "}\n",
    "\n",
    "abs_raw_data = filter_data(settings)"
   ]
  },
  {
   "cell_type": "code",
   "execution_count": 16,
   "metadata": {
    "collapsed": false
   },
   "outputs": [
    {
     "data": {
      "text/plain": [
       "(5315, 29)"
      ]
     },
     "execution_count": 16,
     "metadata": {},
     "output_type": "execute_result"
    }
   ],
   "source": [
    "abs_raw_data.shape"
   ]
  },
  {
   "cell_type": "code",
   "execution_count": 17,
   "metadata": {
    "collapsed": true
   },
   "outputs": [],
   "source": [
    "bad_workers = {\n",
    " 31501233,\n",
    " 31720388,\n",
    " 31720815,\n",
    " 32025293,\n",
    " 33081102,\n",
    " 33081299,\n",
    " 33081469,\n",
    " 33081531,\n",
    " 33085305,\n",
    " 33085428,\n",
    " 33238902,\n",
    " 33301062,\n",
    " 33301138,\n",
    " 33596095}"
   ]
  },
  {
   "cell_type": "code",
   "execution_count": 18,
   "metadata": {
    "collapsed": true
   },
   "outputs": [],
   "source": [
    "clean_abs_data = abs_raw_data.query(\"_worker_id not in {0}\".format(list(bad_workers)))"
   ]
  },
  {
   "cell_type": "code",
   "execution_count": 19,
   "metadata": {
    "collapsed": false
   },
   "outputs": [
    {
     "data": {
      "text/plain": [
       "(3709, 29)"
      ]
     },
     "execution_count": 19,
     "metadata": {},
     "output_type": "execute_result"
    }
   ],
   "source": [
    "clean_abs_data.shape"
   ]
  },
  {
   "cell_type": "markdown",
   "metadata": {},
   "source": [
    "---"
   ]
  },
  {
   "cell_type": "markdown",
   "metadata": {},
   "source": [
    "### Count number of judgments for each work unit"
   ]
  },
  {
   "cell_type": "code",
   "execution_count": 20,
   "metadata": {
    "collapsed": true
   },
   "outputs": [],
   "source": [
    "num_judgments = dict()\n",
    "for uniq_id, group in sent_raw_data.groupby(\"uniq_id\"):\n",
    "    num_judgments[uniq_id] = len(group)\n",
    "    \n",
    "for uniq_id, group in clean_abs_data.groupby(\"uniq_id\"):\n",
    "    num_judgments[uniq_id] = len(group)"
   ]
  },
  {
   "cell_type": "markdown",
   "metadata": {},
   "source": [
    "---"
   ]
  },
  {
   "cell_type": "code",
   "execution_count": 21,
   "metadata": {
    "collapsed": false
   },
   "outputs": [],
   "source": [
    "def all_ok(id_set):\n",
    "    for uniq_id in id_set:\n",
    "        if uniq_id not in num_judgments or num_judgments[uniq_id] < 5:\n",
    "            return False\n",
    "        \n",
    "    return True\n",
    "\n",
    "good_dataset = set()\n",
    "for pmid in testset_pmids:\n",
    "    easy_ids = set(easy_units.query(\"pmid == {0}\".format(pmid))[\"uniq_id\"])\n",
    "    hard_ids = set(hard_units.query(\"pmid == {0}\".format(pmid))[\"uniq_id\"])\n",
    "    \n",
    "    # check to see if each is done properly\n",
    "    \n",
    "    if all_ok(easy_ids):\n",
    "        good_dataset.add(pmid)\n",
    "    \n",
    "    \n",
    "    \n",
    "#     if all_ok(easy_ids) and all_ok(hard_ids):\n",
    "#         good_dataset.add(pmid)\n",
    "    \n",
    "    \n",
    "    \n",
    "    \n",
    "    \n",
    "    "
   ]
  },
  {
   "cell_type": "code",
   "execution_count": 22,
   "metadata": {
    "collapsed": false
   },
   "outputs": [
    {
     "data": {
      "text/plain": [
       "82"
      ]
     },
     "execution_count": 22,
     "metadata": {},
     "output_type": "execute_result"
    }
   ],
   "source": [
    "len(good_dataset)"
   ]
  },
  {
   "cell_type": "code",
   "execution_count": 25,
   "metadata": {
    "collapsed": false
   },
   "outputs": [
    {
     "data": {
      "text/plain": [
       "{85485,\n",
       " 871943,\n",
       " 1504402,\n",
       " 1969772,\n",
       " 2051906,\n",
       " 2980315,\n",
       " 3137399,\n",
       " 3670965,\n",
       " 3686155,\n",
       " 3762968,\n",
       " 3769769,\n",
       " 6127992,\n",
       " 7282516,\n",
       " 7619765,\n",
       " 8012887,\n",
       " 8617710,\n",
       " 10411803,\n",
       " 11705128,\n",
       " 14975762,\n",
       " 15867025,\n",
       " 16418614,\n",
       " 18441470,\n",
       " 18483878,\n",
       " 19105845,\n",
       " 19707748,\n",
       " 20552622}"
      ]
     },
     "execution_count": 25,
     "metadata": {},
     "output_type": "execute_result"
    }
   ],
   "source": [
    "good_dataset"
   ]
  },
  {
   "cell_type": "code",
   "execution_count": null,
   "metadata": {
    "collapsed": true
   },
   "outputs": [],
   "source": []
  }
 ],
 "metadata": {
  "kernelspec": {
   "display_name": "Python 3",
   "language": "python",
   "name": "python3"
  },
  "language_info": {
   "codemirror_mode": {
    "name": "ipython",
    "version": 3
   },
   "file_extension": ".py",
   "mimetype": "text/x-python",
   "name": "python",
   "nbconvert_exporter": "python",
   "pygments_lexer": "ipython3",
   "version": "3.4.2"
  }
 },
 "nbformat": 4,
 "nbformat_minor": 0
}
