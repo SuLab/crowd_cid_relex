{
 "cells": [
  {
   "cell_type": "markdown",
   "metadata": {},
   "source": [
    "#Analysis of CrowdFlower job #755704: sentence-level chemical-induced disease relationship extraction for BioCreative V"
   ]
  },
  {
   "cell_type": "markdown",
   "metadata": {},
   "source": [
    "Tong Shu Li<br>\n",
    "Created on Friday, 2015-07-24<br>\n",
    "Last updated 2015-07-28"
   ]
  },
  {
   "cell_type": "markdown",
   "metadata": {},
   "source": [
    "Previous work with CrowdFlower tasks #746297 and #748223 showed that:\n",
    "\n",
    "1. Workers performed best on relations which were sentence bound.\n",
    "2. Workers missed some relations when multiple relations were presented.\n",
    "3. Workers picked out the easiest relations to verify when multiple relations were presented.\n",
    "4. Concept name replacement with the semantic type had little influence on performance.\n",
    "\n",
    "Based on these observations, I decided to make the following changes:\n",
    "\n",
    "1. Split the task into two subtasks: one where the relation is sentence bound, and one where the relation is not sentence bound. While the underlying task is almost identical, this allows payments to be structured differently and hopefully for tasks to be processed faster.\n",
    "2. Reduce the number of relations to verify for each passage of text from five to one. This allows each judgement to be simplified to a binary judgement."
   ]
  },
  {
   "cell_type": "markdown",
   "metadata": {},
   "source": [
    "This notebook will analyze the results of the sentence-level task.\n",
    "\n",
    "Parameter | Value\n",
    "--- | ---\n",
    "Job ID | #755704\n",
    "Rows per page | 5\n",
    "Judgements per row | 5\n",
    "Payment per page | 15 cents USD\n",
    "Contributor level | 2\n",
    "Minimum time per page | 15 seconds\n",
    "Minimum accuracy threshold | 70%\n",
    "Number of test questions | 23\n",
    "Date of launch | 3:05 pm on Thursday, July 23, 2015\n",
    "Date of completion | 4:50 pm on Thursday, July 23, 2015\n",
    "Total cost before bonuses | \\$39.78 USD\n",
    "Total cost after bonuses | $39.78 USD"
   ]
  },
  {
   "cell_type": "markdown",
   "metadata": {},
   "source": [
    "---"
   ]
  },
  {
   "cell_type": "markdown",
   "metadata": {},
   "source": [
    "#Are there any sentence-bound relationships which the crowd said \"no\" for all sentences but the gold says yes? (false negatives)"
   ]
  },
  {
   "cell_type": "markdown",
   "metadata": {},
   "source": [
    "###Analysis workflow:\n",
    "\n",
    "For the sentence-based task, we took all the drug-disease id pairs from the abstract and searched for sentences where we the two terms co-occurred. We then use these individual sentences as one CrowdFlower task. Workers only ever work on the individual task level, so it is our job to reaggregate the results back together.\n",
    "\n",
    "For a single drug-disease id pair, there may exist multiple sentences where the two terms co-occur. When this happens, each sentence becomes its own separate CrowdFlower task. In order to determine whether this relationship is true at the abstract level, we assume that, if at least one sentence says that the relationship is true, then the relationship is also true at the abstract level.\n",
    "\n",
    "This assumption relies upon the fact that sentences are not working together to produce a relationship that none of they individually support. It assumes that if a sentence gets no signal saying that the relationship is true, then it likely means that either the sentence does not say anything about the relation, or the sentence says that the relation is not true.\n",
    "\n",
    "Therefore if one sentence says the relationship exists, then the relationship exists at the abstract level. If all sentences say no, then the relationship is no at the abstract level.\n",
    "\n",
    "In order to aggregate the confidence scores, we do the following:<br>\n",
    "The confidence score of a relationship at the abstract level aggregated from multiple sentence-level tasks is the maximum of the individual confidence scores of the sentence level work units. Therefore the relationship is as certain as the most certain sentence work unit.\n",
    "\n",
    "We are using the positive signal only confidence score, since the analysis of job 754530 showed that it was equivalent to (and slightly better than) majority voting, and the resulting metric is more intuitive."
   ]
  },
  {
   "cell_type": "markdown",
   "metadata": {},
   "source": [
    "---"
   ]
  },
  {
   "cell_type": "code",
   "execution_count": 1,
   "metadata": {
    "collapsed": true
   },
   "outputs": [],
   "source": [
    "from __future__ import division\n",
    "from collections import Counter\n",
    "from collections import defaultdict\n",
    "from IPython.display import Image\n",
    "from operator import add\n",
    "import matplotlib as plt\n",
    "import numpy as np\n",
    "import os\n",
    "import pandas as pd\n",
    "import pickle"
   ]
  },
  {
   "cell_type": "code",
   "execution_count": 2,
   "metadata": {
    "collapsed": true
   },
   "outputs": [],
   "source": [
    "matplotlib inline"
   ]
  },
  {
   "cell_type": "code",
   "execution_count": 3,
   "metadata": {
    "collapsed": true
   },
   "outputs": [],
   "source": [
    "%%bash\n",
    "\n",
    "rm src/get_AUC_value.pyc"
   ]
  },
  {
   "cell_type": "code",
   "execution_count": 4,
   "metadata": {
    "collapsed": true
   },
   "outputs": [],
   "source": [
    "from src.filter_data import filter_data\n",
    "from src import data_model\n",
    "from src.data_model import parse_input\n",
    "from src.data_model import Relation\n",
    "from src.get_AUC_value import get_AUC_value\n",
    "from src.F_score import *"
   ]
  },
  {
   "cell_type": "markdown",
   "metadata": {},
   "source": [
    "###Read the results of job #755704:"
   ]
  },
  {
   "cell_type": "code",
   "execution_count": 5,
   "metadata": {
    "collapsed": true
   },
   "outputs": [],
   "source": [
    "settings = {\n",
    "    \"loc\": \"data/crowdflower/results\",\n",
    "    \"fname\": \"job_755704_full_with_untrusted.csv\",\n",
    "    \"data_subset\": \"normal\",\n",
    "    \"min_accuracy\": 0.7,\n",
    "    \"max_accuracy\": 1.0\n",
    "}\n",
    "\n",
    "raw_data = filter_data(settings)"
   ]
  },
  {
   "cell_type": "code",
   "execution_count": 6,
   "metadata": {
    "collapsed": false
   },
   "outputs": [
    {
     "data": {
      "text/plain": [
       "(815, 26)"
      ]
     },
     "execution_count": 6,
     "metadata": {},
     "output_type": "execute_result"
    }
   ],
   "source": [
    "raw_data.shape"
   ]
  },
  {
   "cell_type": "code",
   "execution_count": 7,
   "metadata": {
    "collapsed": false
   },
   "outputs": [
    {
     "data": {
      "text/html": [
       "<div>\n",
       "<table border=\"1\" class=\"dataframe\">\n",
       "  <thead>\n",
       "    <tr style=\"text-align: right;\">\n",
       "      <th></th>\n",
       "      <th>_unit_id</th>\n",
       "      <th>_created_at</th>\n",
       "      <th>_golden</th>\n",
       "      <th>_id</th>\n",
       "      <th>_missed</th>\n",
       "      <th>_started_at</th>\n",
       "      <th>_tainted</th>\n",
       "      <th>_channel</th>\n",
       "      <th>_trust</th>\n",
       "      <th>_worker_id</th>\n",
       "      <th>...</th>\n",
       "      <th>worker_confidence</th>\n",
       "      <th>disease_id</th>\n",
       "      <th>disease_name</th>\n",
       "      <th>drug_id</th>\n",
       "      <th>drug_name</th>\n",
       "      <th>form_sentence</th>\n",
       "      <th>pmid</th>\n",
       "      <th>uniq_id</th>\n",
       "      <th>verify_relationship_gold</th>\n",
       "      <th>worker_confidence_gold</th>\n",
       "    </tr>\n",
       "  </thead>\n",
       "  <tbody>\n",
       "    <tr>\n",
       "      <th>0</th>\n",
       "      <td>759110536</td>\n",
       "      <td>7/23/2015 22:31:03</td>\n",
       "      <td>False</td>\n",
       "      <td>1697093814</td>\n",
       "      <td>NaN</td>\n",
       "      <td>7/23/2015 22:29:28</td>\n",
       "      <td>False</td>\n",
       "      <td>elite</td>\n",
       "      <td>0.7143</td>\n",
       "      <td>30936260</td>\n",
       "      <td>...</td>\n",
       "      <td>very_confident</td>\n",
       "      <td>D016171</td>\n",
       "      <td>&lt;span class=\"disease\"&gt;TDP&lt;/span&gt;</td>\n",
       "      <td>C063968</td>\n",
       "      <td>&lt;span class=\"chemical\"&gt;E4031&lt;/span&gt;</td>\n",
       "      <td>Four compounds known to increase QT interval a...</td>\n",
       "      <td>11569530</td>\n",
       "      <td>bcv_easy_0</td>\n",
       "      <td>NaN</td>\n",
       "      <td>NaN</td>\n",
       "    </tr>\n",
       "    <tr>\n",
       "      <th>1</th>\n",
       "      <td>759110536</td>\n",
       "      <td>7/23/2015 22:31:23</td>\n",
       "      <td>False</td>\n",
       "      <td>1697094162</td>\n",
       "      <td>NaN</td>\n",
       "      <td>7/23/2015 22:29:21</td>\n",
       "      <td>False</td>\n",
       "      <td>elite</td>\n",
       "      <td>1.0000</td>\n",
       "      <td>32708888</td>\n",
       "      <td>...</td>\n",
       "      <td>very_confident</td>\n",
       "      <td>D016171</td>\n",
       "      <td>&lt;span class=\"disease\"&gt;TDP&lt;/span&gt;</td>\n",
       "      <td>C063968</td>\n",
       "      <td>&lt;span class=\"chemical\"&gt;E4031&lt;/span&gt;</td>\n",
       "      <td>Four compounds known to increase QT interval a...</td>\n",
       "      <td>11569530</td>\n",
       "      <td>bcv_easy_0</td>\n",
       "      <td>NaN</td>\n",
       "      <td>NaN</td>\n",
       "    </tr>\n",
       "    <tr>\n",
       "      <th>2</th>\n",
       "      <td>759110536</td>\n",
       "      <td>7/23/2015 22:31:37</td>\n",
       "      <td>False</td>\n",
       "      <td>1697094429</td>\n",
       "      <td>NaN</td>\n",
       "      <td>7/23/2015 22:29:24</td>\n",
       "      <td>False</td>\n",
       "      <td>clixsense</td>\n",
       "      <td>0.7500</td>\n",
       "      <td>32958339</td>\n",
       "      <td>...</td>\n",
       "      <td>confident</td>\n",
       "      <td>D016171</td>\n",
       "      <td>&lt;span class=\"disease\"&gt;TDP&lt;/span&gt;</td>\n",
       "      <td>C063968</td>\n",
       "      <td>&lt;span class=\"chemical\"&gt;E4031&lt;/span&gt;</td>\n",
       "      <td>Four compounds known to increase QT interval a...</td>\n",
       "      <td>11569530</td>\n",
       "      <td>bcv_easy_0</td>\n",
       "      <td>NaN</td>\n",
       "      <td>NaN</td>\n",
       "    </tr>\n",
       "    <tr>\n",
       "      <th>3</th>\n",
       "      <td>759110536</td>\n",
       "      <td>7/23/2015 22:31:47</td>\n",
       "      <td>False</td>\n",
       "      <td>1697094613</td>\n",
       "      <td>NaN</td>\n",
       "      <td>7/23/2015 22:29:20</td>\n",
       "      <td>False</td>\n",
       "      <td>clixsense</td>\n",
       "      <td>0.7778</td>\n",
       "      <td>32298558</td>\n",
       "      <td>...</td>\n",
       "      <td>confident</td>\n",
       "      <td>D016171</td>\n",
       "      <td>&lt;span class=\"disease\"&gt;TDP&lt;/span&gt;</td>\n",
       "      <td>C063968</td>\n",
       "      <td>&lt;span class=\"chemical\"&gt;E4031&lt;/span&gt;</td>\n",
       "      <td>Four compounds known to increase QT interval a...</td>\n",
       "      <td>11569530</td>\n",
       "      <td>bcv_easy_0</td>\n",
       "      <td>NaN</td>\n",
       "      <td>NaN</td>\n",
       "    </tr>\n",
       "    <tr>\n",
       "      <th>4</th>\n",
       "      <td>759110536</td>\n",
       "      <td>7/23/2015 22:31:50</td>\n",
       "      <td>False</td>\n",
       "      <td>1697094647</td>\n",
       "      <td>NaN</td>\n",
       "      <td>7/23/2015 22:29:30</td>\n",
       "      <td>False</td>\n",
       "      <td>clixsense</td>\n",
       "      <td>0.7333</td>\n",
       "      <td>32471798</td>\n",
       "      <td>...</td>\n",
       "      <td>confident</td>\n",
       "      <td>D016171</td>\n",
       "      <td>&lt;span class=\"disease\"&gt;TDP&lt;/span&gt;</td>\n",
       "      <td>C063968</td>\n",
       "      <td>&lt;span class=\"chemical\"&gt;E4031&lt;/span&gt;</td>\n",
       "      <td>Four compounds known to increase QT interval a...</td>\n",
       "      <td>11569530</td>\n",
       "      <td>bcv_easy_0</td>\n",
       "      <td>NaN</td>\n",
       "      <td>NaN</td>\n",
       "    </tr>\n",
       "  </tbody>\n",
       "</table>\n",
       "<p>5 rows × 26 columns</p>\n",
       "</div>"
      ],
      "text/plain": [
       "    _unit_id         _created_at _golden         _id _missed  \\\n",
       "0  759110536  7/23/2015 22:31:03   False  1697093814     NaN   \n",
       "1  759110536  7/23/2015 22:31:23   False  1697094162     NaN   \n",
       "2  759110536  7/23/2015 22:31:37   False  1697094429     NaN   \n",
       "3  759110536  7/23/2015 22:31:47   False  1697094613     NaN   \n",
       "4  759110536  7/23/2015 22:31:50   False  1697094647     NaN   \n",
       "\n",
       "          _started_at _tainted   _channel  _trust  _worker_id  \\\n",
       "0  7/23/2015 22:29:28    False      elite  0.7143    30936260   \n",
       "1  7/23/2015 22:29:21    False      elite  1.0000    32708888   \n",
       "2  7/23/2015 22:29:24    False  clixsense  0.7500    32958339   \n",
       "3  7/23/2015 22:29:20    False  clixsense  0.7778    32298558   \n",
       "4  7/23/2015 22:29:30    False  clixsense  0.7333    32471798   \n",
       "\n",
       "           ...           worker_confidence disease_id  \\\n",
       "0          ...              very_confident    D016171   \n",
       "1          ...              very_confident    D016171   \n",
       "2          ...                   confident    D016171   \n",
       "3          ...                   confident    D016171   \n",
       "4          ...                   confident    D016171   \n",
       "\n",
       "                       disease_name  drug_id  \\\n",
       "0  <span class=\"disease\">TDP</span>  C063968   \n",
       "1  <span class=\"disease\">TDP</span>  C063968   \n",
       "2  <span class=\"disease\">TDP</span>  C063968   \n",
       "3  <span class=\"disease\">TDP</span>  C063968   \n",
       "4  <span class=\"disease\">TDP</span>  C063968   \n",
       "\n",
       "                             drug_name  \\\n",
       "0  <span class=\"chemical\">E4031</span>   \n",
       "1  <span class=\"chemical\">E4031</span>   \n",
       "2  <span class=\"chemical\">E4031</span>   \n",
       "3  <span class=\"chemical\">E4031</span>   \n",
       "4  <span class=\"chemical\">E4031</span>   \n",
       "\n",
       "                                       form_sentence      pmid     uniq_id  \\\n",
       "0  Four compounds known to increase QT interval a...  11569530  bcv_easy_0   \n",
       "1  Four compounds known to increase QT interval a...  11569530  bcv_easy_0   \n",
       "2  Four compounds known to increase QT interval a...  11569530  bcv_easy_0   \n",
       "3  Four compounds known to increase QT interval a...  11569530  bcv_easy_0   \n",
       "4  Four compounds known to increase QT interval a...  11569530  bcv_easy_0   \n",
       "\n",
       "  verify_relationship_gold worker_confidence_gold  \n",
       "0                      NaN                    NaN  \n",
       "1                      NaN                    NaN  \n",
       "2                      NaN                    NaN  \n",
       "3                      NaN                    NaN  \n",
       "4                      NaN                    NaN  \n",
       "\n",
       "[5 rows x 26 columns]"
      ]
     },
     "execution_count": 7,
     "metadata": {},
     "output_type": "execute_result"
    }
   ],
   "source": [
    "raw_data.head()"
   ]
  },
  {
   "cell_type": "markdown",
   "metadata": {},
   "source": [
    "###User comments:"
   ]
  },
  {
   "cell_type": "code",
   "execution_count": 8,
   "metadata": {
    "collapsed": false
   },
   "outputs": [
    {
     "data": {
      "text/html": [
       "<div>\n",
       "<table border=\"1\" class=\"dataframe\">\n",
       "  <thead>\n",
       "    <tr style=\"text-align: right;\">\n",
       "      <th></th>\n",
       "      <th>_unit_id</th>\n",
       "      <th>_created_at</th>\n",
       "      <th>_golden</th>\n",
       "      <th>_id</th>\n",
       "      <th>_missed</th>\n",
       "      <th>_started_at</th>\n",
       "      <th>_tainted</th>\n",
       "      <th>_channel</th>\n",
       "      <th>_trust</th>\n",
       "      <th>_worker_id</th>\n",
       "      <th>...</th>\n",
       "      <th>worker_confidence</th>\n",
       "      <th>disease_id</th>\n",
       "      <th>disease_name</th>\n",
       "      <th>drug_id</th>\n",
       "      <th>drug_name</th>\n",
       "      <th>form_sentence</th>\n",
       "      <th>pmid</th>\n",
       "      <th>uniq_id</th>\n",
       "      <th>verify_relationship_gold</th>\n",
       "      <th>worker_confidence_gold</th>\n",
       "    </tr>\n",
       "  </thead>\n",
       "  <tbody>\n",
       "    <tr>\n",
       "      <th>257</th>\n",
       "      <td>759110583</td>\n",
       "      <td>7/23/2015 22:57:33</td>\n",
       "      <td>False</td>\n",
       "      <td>1697116864</td>\n",
       "      <td>NaN</td>\n",
       "      <td>7/23/2015 22:40:51</td>\n",
       "      <td>False</td>\n",
       "      <td>clixsense</td>\n",
       "      <td>0.9091</td>\n",
       "      <td>28745592</td>\n",
       "      <td>...</td>\n",
       "      <td>not_too_confident</td>\n",
       "      <td>D007022</td>\n",
       "      <td>&lt;span class=\"disease\"&gt;hypotensive&lt;/span&gt;</td>\n",
       "      <td>D015742</td>\n",
       "      <td>&lt;span class=\"chemical\"&gt;propofol&lt;/span&gt;</td>\n",
       "      <td>We investigated the safety and efficacy of add...</td>\n",
       "      <td>10520387</td>\n",
       "      <td>bcv_easy_46</td>\n",
       "      <td>NaN</td>\n",
       "      <td>NaN</td>\n",
       "    </tr>\n",
       "    <tr>\n",
       "      <th>349</th>\n",
       "      <td>759110600</td>\n",
       "      <td>7/23/2015 22:40:48</td>\n",
       "      <td>False</td>\n",
       "      <td>1697102953</td>\n",
       "      <td>NaN</td>\n",
       "      <td>7/23/2015 22:32:11</td>\n",
       "      <td>False</td>\n",
       "      <td>clixsense</td>\n",
       "      <td>0.9091</td>\n",
       "      <td>28745592</td>\n",
       "      <td>...</td>\n",
       "      <td>not_confident</td>\n",
       "      <td>D009408</td>\n",
       "      <td>&lt;span class=\"disease\"&gt;compression neuropathy&lt;/...</td>\n",
       "      <td>D010423</td>\n",
       "      <td>&lt;span class=\"chemical\"&gt;pentazocine&lt;/span&gt;</td>\n",
       "      <td>However, &lt;span class=\"disease\"&gt;compression neu...</td>\n",
       "      <td>3800626</td>\n",
       "      <td>bcv_easy_63</td>\n",
       "      <td>NaN</td>\n",
       "      <td>NaN</td>\n",
       "    </tr>\n",
       "    <tr>\n",
       "      <th>411</th>\n",
       "      <td>759110612</td>\n",
       "      <td>7/23/2015 22:57:33</td>\n",
       "      <td>False</td>\n",
       "      <td>1697116863</td>\n",
       "      <td>NaN</td>\n",
       "      <td>7/23/2015 22:40:51</td>\n",
       "      <td>False</td>\n",
       "      <td>clixsense</td>\n",
       "      <td>0.9091</td>\n",
       "      <td>28745592</td>\n",
       "      <td>...</td>\n",
       "      <td>not_too_confident</td>\n",
       "      <td>D001523</td>\n",
       "      <td>&lt;span class=\"disease\"&gt;hallucinosis&lt;/span&gt;</td>\n",
       "      <td>C009265</td>\n",
       "      <td>&lt;span class=\"chemical\"&gt;carbidopa/levodopa&lt;/span&gt;</td>\n",
       "      <td>Two patients with similar clinical features ar...</td>\n",
       "      <td>2265898</td>\n",
       "      <td>bcv_easy_75</td>\n",
       "      <td>NaN</td>\n",
       "      <td>NaN</td>\n",
       "    </tr>\n",
       "    <tr>\n",
       "      <th>640</th>\n",
       "      <td>759110660</td>\n",
       "      <td>7/23/2015 22:49:24</td>\n",
       "      <td>False</td>\n",
       "      <td>1697110527</td>\n",
       "      <td>NaN</td>\n",
       "      <td>7/23/2015 22:43:19</td>\n",
       "      <td>False</td>\n",
       "      <td>neodev</td>\n",
       "      <td>1.0000</td>\n",
       "      <td>32591740</td>\n",
       "      <td>...</td>\n",
       "      <td>not_too_confident</td>\n",
       "      <td>D002318|D005767</td>\n",
       "      <td>&lt;span class=\"disease\"&gt;cardiovascular and gastr...</td>\n",
       "      <td>D013806</td>\n",
       "      <td>&lt;span class=\"chemical\"&gt;theophylline&lt;/span&gt;</td>\n",
       "      <td>While side effects were rare, those experience...</td>\n",
       "      <td>1835291</td>\n",
       "      <td>bcv_easy_118</td>\n",
       "      <td>NaN</td>\n",
       "      <td>NaN</td>\n",
       "    </tr>\n",
       "    <tr>\n",
       "      <th>706</th>\n",
       "      <td>759110672</td>\n",
       "      <td>7/23/2015 22:38:04</td>\n",
       "      <td>False</td>\n",
       "      <td>1697100535</td>\n",
       "      <td>NaN</td>\n",
       "      <td>7/23/2015 22:35:16</td>\n",
       "      <td>False</td>\n",
       "      <td>elite</td>\n",
       "      <td>1.0000</td>\n",
       "      <td>32708888</td>\n",
       "      <td>...</td>\n",
       "      <td>not_too_confident</td>\n",
       "      <td>D004342</td>\n",
       "      <td>&lt;span class=\"disease\"&gt;allergy&lt;/span&gt;</td>\n",
       "      <td>D010248</td>\n",
       "      <td>&lt;span class=\"chemical\"&gt;paramethasone&lt;/span&gt;</td>\n",
       "      <td>To our knowledge, this is the first report of ...</td>\n",
       "      <td>7582165</td>\n",
       "      <td>bcv_easy_130</td>\n",
       "      <td>NaN</td>\n",
       "      <td>NaN</td>\n",
       "    </tr>\n",
       "  </tbody>\n",
       "</table>\n",
       "<p>5 rows × 26 columns</p>\n",
       "</div>"
      ],
      "text/plain": [
       "      _unit_id         _created_at _golden         _id _missed  \\\n",
       "257  759110583  7/23/2015 22:57:33   False  1697116864     NaN   \n",
       "349  759110600  7/23/2015 22:40:48   False  1697102953     NaN   \n",
       "411  759110612  7/23/2015 22:57:33   False  1697116863     NaN   \n",
       "640  759110660  7/23/2015 22:49:24   False  1697110527     NaN   \n",
       "706  759110672  7/23/2015 22:38:04   False  1697100535     NaN   \n",
       "\n",
       "            _started_at _tainted   _channel  _trust  _worker_id  \\\n",
       "257  7/23/2015 22:40:51    False  clixsense  0.9091    28745592   \n",
       "349  7/23/2015 22:32:11    False  clixsense  0.9091    28745592   \n",
       "411  7/23/2015 22:40:51    False  clixsense  0.9091    28745592   \n",
       "640  7/23/2015 22:43:19    False     neodev  1.0000    32591740   \n",
       "706  7/23/2015 22:35:16    False      elite  1.0000    32708888   \n",
       "\n",
       "             ...            worker_confidence       disease_id  \\\n",
       "257          ...            not_too_confident          D007022   \n",
       "349          ...                not_confident          D009408   \n",
       "411          ...            not_too_confident          D001523   \n",
       "640          ...            not_too_confident  D002318|D005767   \n",
       "706          ...            not_too_confident          D004342   \n",
       "\n",
       "                                          disease_name  drug_id  \\\n",
       "257           <span class=\"disease\">hypotensive</span>  D015742   \n",
       "349  <span class=\"disease\">compression neuropathy</...  D010423   \n",
       "411          <span class=\"disease\">hallucinosis</span>  C009265   \n",
       "640  <span class=\"disease\">cardiovascular and gastr...  D013806   \n",
       "706               <span class=\"disease\">allergy</span>  D010248   \n",
       "\n",
       "                                            drug_name  \\\n",
       "257            <span class=\"chemical\">propofol</span>   \n",
       "349         <span class=\"chemical\">pentazocine</span>   \n",
       "411  <span class=\"chemical\">carbidopa/levodopa</span>   \n",
       "640        <span class=\"chemical\">theophylline</span>   \n",
       "706       <span class=\"chemical\">paramethasone</span>   \n",
       "\n",
       "                                         form_sentence      pmid  \\\n",
       "257  We investigated the safety and efficacy of add...  10520387   \n",
       "349  However, <span class=\"disease\">compression neu...   3800626   \n",
       "411  Two patients with similar clinical features ar...   2265898   \n",
       "640  While side effects were rare, those experience...   1835291   \n",
       "706  To our knowledge, this is the first report of ...   7582165   \n",
       "\n",
       "          uniq_id verify_relationship_gold worker_confidence_gold  \n",
       "257   bcv_easy_46                      NaN                    NaN  \n",
       "349   bcv_easy_63                      NaN                    NaN  \n",
       "411   bcv_easy_75                      NaN                    NaN  \n",
       "640  bcv_easy_118                      NaN                    NaN  \n",
       "706  bcv_easy_130                      NaN                    NaN  \n",
       "\n",
       "[5 rows x 26 columns]"
      ]
     },
     "execution_count": 8,
     "metadata": {},
     "output_type": "execute_result"
    }
   ],
   "source": [
    "raw_data[~pd.isnull(raw_data[\"comment_box\"])]"
   ]
  },
  {
   "cell_type": "code",
   "execution_count": 9,
   "metadata": {
    "collapsed": false
   },
   "outputs": [
    {
     "data": {
      "text/plain": [
       "array([nan, 'Causation was only implied. Need more context.',\n",
       "       'A little ambiguous. The statement presupposed they were indirectly related, but no clinical evidence has been reported.',\n",
       "       'The anticonvulsants carbidopa/levodopa might or might not cause hallucinosis.',\n",
       "       'This excersise makes no sense. None of the three options is correct, because the sentence talks about systems and not desease or conditions. Anyway i choose the first option, because the alleged side effect is related to the cardiovascular or gastrointestinal system',\n",
       "       \"If this is the first report of such connection EVER, than maybe, paramethasone DOESN'T cause allergy after all... Like, that was a one-time fluke, an exception, not a rule...\"], dtype=object)"
      ]
     },
     "execution_count": 9,
     "metadata": {},
     "output_type": "execute_result"
    }
   ],
   "source": [
    "raw_data[\"comment_box\"].unique()"
   ]
  },
  {
   "cell_type": "markdown",
   "metadata": {},
   "source": [
    "##Notes:\n",
    "\n",
    "Unit 759110600 PMID 3800626 is an example where the \"yes-indirect\" choice worked as intended. 4/5 workers chose the indirect relationship and correctly identified that myopathy was what was causing compression neuropathy, not the pentazocine directly. The gold has the relation between pentazocine and compression neuropathy, so we will need to look at that. This shows me that it's helpful to have this choice, and to post-process whether this is yes or no rather than having the workers decide that themselves. It gives us more flexibility.\n",
    "\n",
    "Unit 759110660 PMID 1835291. The comment correctly identified that the \"disease\" highlighted in the question is not actually a disease, but rather a set of systems.\n",
    "\n",
    "The comments are actually pretty helpful this time. In general though it will be hard to deal with the comments in an automated way."
   ]
  },
  {
   "cell_type": "markdown",
   "metadata": {},
   "source": [
    "###Contentions:\n",
    "\n",
    "This time the test question contentions did not identify any egregiously bad test questions. Most of the test questions had high passing rates. Workers rated the test question fairness as 3.5/5, which is also reasonable."
   ]
  },
  {
   "cell_type": "markdown",
   "metadata": {},
   "source": [
    "# Give the option for workers to identify incorrect NER and incorrectly split sentences?"
   ]
  },
  {
   "cell_type": "markdown",
   "metadata": {},
   "source": [
    "###Result aggregation:"
   ]
  },
  {
   "cell_type": "code",
   "execution_count": 10,
   "metadata": {
    "collapsed": true
   },
   "outputs": [],
   "source": [
    "def aggregate_votes(column_name, data_frame, mapping = None):\n",
    "    \"\"\"\n",
    "    Given all of the human responses for one work unit,\n",
    "    aggregates the results based on the column you give it.\n",
    "\n",
    "    For each possible choice, it calculates:\n",
    "        1. Total number of votes for that choice.\n",
    "        2. Sum of trust scores of people who chose that choice.\n",
    "\n",
    "    Returns an unsorted data frame of the results.\n",
    "\n",
    "    Confidence score is the sum of the trust score of\n",
    "    individual workers.\n",
    "    \n",
    "    If given a mapping, will convert answers.\n",
    "    \"\"\"\n",
    "    # number of votes and sum trust score for each unique choice\n",
    "    res = dict()\n",
    "    for value, group in data_frame.groupby(column_name):\n",
    "        conf_score = sum(group[\"_trust\"])\n",
    "        num_votes = len(group) # assuming unique workers for each work unit\n",
    "        \n",
    "        if mapping is not None and value in mapping: # only convert those which need to be changed\n",
    "            value = mapping[value]\n",
    "            \n",
    "        if value in res:\n",
    "            res[value] = map(add, res[value], [conf_score, num_votes])\n",
    "        else:\n",
    "            res[value] = [conf_score, num_votes]\n",
    "            \n",
    "    temp = [[key] + value for key, value in res.items()] # make rows of data frame\n",
    "    return pd.DataFrame(temp, columns = [column_name, \"conf_score\", \"num_votes\"])"
   ]
  },
  {
   "cell_type": "code",
   "execution_count": 11,
   "metadata": {
    "collapsed": true
   },
   "outputs": [],
   "source": [
    "\"\"\"\n",
    "Takes raw CrowdFlower data and groups data together by\n",
    "individual work units. Aggregates the votes based on\n",
    "a specific column and creates a summary data frame.\n",
    "\"\"\"\n",
    "def aggregate_results(id_column, agg_column, data, reporting_method, metadata_columns,\n",
    "                      reporting_value = None, mapping = None):\n",
    "    \"\"\"\n",
    "    Collect votes together for each individual work unit.\n",
    "    Choose one of two result reporting methods:\n",
    "        1. Majority vote\n",
    "        2. Positive signal only\n",
    "        \n",
    "    reporting_method: {\"majority_vote\", \"positive_signal_only\"}\n",
    "    if reporting_method == \"positive_signal_only\":\n",
    "        reporting_value is the label of the positive value in the aggregation column\n",
    "    \"\"\"\n",
    "    assert reporting_method in {\"majority_vote\", \"positive_signal_only\"}, \"Wrong result reporting method!\"\n",
    "    \n",
    "    result = []\n",
    "    for identifier, group in data.groupby(id_column):\n",
    "        # group the votes together and convert if necessary\n",
    "        ans = aggregate_votes(agg_column, group, mapping)\n",
    "        \n",
    "        if reporting_method == \"positive_signal_only\":\n",
    "            positive_result = ans.query(\"{0} == '{1}'\".format(agg_column, reporting_value))\n",
    "            if positive_result.empty:\n",
    "                # no worker chose the positive choice, so create an empty entry\n",
    "                temp = pd.DataFrame([[reporting_value, 0, 0]], columns = [agg_column, \"conf_score\", \"num_votes\"])\n",
    "                ans = ans.append(temp)\n",
    "        \n",
    "        # figure out what percentage of the workers chose each choice\n",
    "        total_vote_score = sum(ans[\"conf_score\"])\n",
    "        ans.loc[:, \"percent_agree\"] = ans.loc[:, \"conf_score\"] / total_vote_score\n",
    "        \n",
    "        ans.insert(0, id_column, identifier)\n",
    "        \n",
    "        # copy the metadata columns over (e.g., pmid, unit id)\n",
    "        for column_name in metadata_columns:\n",
    "            assert len(group[column_name].unique()) == 1\n",
    "            value = group[column_name].iloc[0]\n",
    "            ans.loc[:, column_name.lstrip('_')] = value\n",
    "            \n",
    "        # sort results\n",
    "        # decreasing confidence score if doing majority vote\n",
    "        # put positive result at the top if doing positive result method\n",
    "        \n",
    "        if reporting_method == \"majority_vote\":\n",
    "            ans = ans.sort([\"conf_score\"], ascending = False)\n",
    "            result.append(ans)\n",
    "        else:\n",
    "            # put positive result at the top\n",
    "            positive_result = ans.query(\"{0} == '{1}'\".format(agg_column, reporting_value))\n",
    "            temp = ans.query(\"{0} != '{1}'\".format(agg_column, reporting_value))\n",
    "            temp = temp.sort([\"conf_score\"], ascending = False)\n",
    "            \n",
    "            result.append(pd.concat([positive_result, temp]))\n",
    "\n",
    "    return pd.concat(result)"
   ]
  },
  {
   "cell_type": "code",
   "execution_count": 12,
   "metadata": {
    "collapsed": true
   },
   "outputs": [],
   "source": [
    "res = aggregate_results(\"uniq_id\", \"verify_relationship\", raw_data, \"majority_vote\", [\"pmid\", \"_unit_id\"])"
   ]
  },
  {
   "cell_type": "code",
   "execution_count": 13,
   "metadata": {
    "collapsed": false
   },
   "outputs": [
    {
     "data": {
      "text/html": [
       "<div>\n",
       "<table border=\"1\" class=\"dataframe\">\n",
       "  <thead>\n",
       "    <tr style=\"text-align: right;\">\n",
       "      <th></th>\n",
       "      <th>uniq_id</th>\n",
       "      <th>verify_relationship</th>\n",
       "      <th>conf_score</th>\n",
       "      <th>num_votes</th>\n",
       "      <th>percent_agree</th>\n",
       "      <th>pmid</th>\n",
       "      <th>unit_id</th>\n",
       "    </tr>\n",
       "  </thead>\n",
       "  <tbody>\n",
       "    <tr>\n",
       "      <th>1</th>\n",
       "      <td>bcv_easy_0</td>\n",
       "      <td>yes_direct</td>\n",
       "      <td>3.2254</td>\n",
       "      <td>4</td>\n",
       "      <td>0.81134</td>\n",
       "      <td>11569530</td>\n",
       "      <td>759110536</td>\n",
       "    </tr>\n",
       "    <tr>\n",
       "      <th>0</th>\n",
       "      <td>bcv_easy_0</td>\n",
       "      <td>yes_indirect</td>\n",
       "      <td>0.7500</td>\n",
       "      <td>1</td>\n",
       "      <td>0.18866</td>\n",
       "      <td>11569530</td>\n",
       "      <td>759110536</td>\n",
       "    </tr>\n",
       "    <tr>\n",
       "      <th>0</th>\n",
       "      <td>bcv_easy_1</td>\n",
       "      <td>yes_direct</td>\n",
       "      <td>4.1246</td>\n",
       "      <td>5</td>\n",
       "      <td>1.00000</td>\n",
       "      <td>11569530</td>\n",
       "      <td>759110537</td>\n",
       "    </tr>\n",
       "    <tr>\n",
       "      <th>0</th>\n",
       "      <td>bcv_easy_10</td>\n",
       "      <td>no_relation</td>\n",
       "      <td>4.3540</td>\n",
       "      <td>5</td>\n",
       "      <td>1.00000</td>\n",
       "      <td>11135224</td>\n",
       "      <td>759110547</td>\n",
       "    </tr>\n",
       "    <tr>\n",
       "      <th>0</th>\n",
       "      <td>bcv_easy_100</td>\n",
       "      <td>yes_direct</td>\n",
       "      <td>4.5270</td>\n",
       "      <td>5</td>\n",
       "      <td>1.00000</td>\n",
       "      <td>8590259</td>\n",
       "      <td>759110641</td>\n",
       "    </tr>\n",
       "  </tbody>\n",
       "</table>\n",
       "</div>"
      ],
      "text/plain": [
       "        uniq_id verify_relationship  conf_score  num_votes  percent_agree  \\\n",
       "1    bcv_easy_0          yes_direct      3.2254          4        0.81134   \n",
       "0    bcv_easy_0        yes_indirect      0.7500          1        0.18866   \n",
       "0    bcv_easy_1          yes_direct      4.1246          5        1.00000   \n",
       "0   bcv_easy_10         no_relation      4.3540          5        1.00000   \n",
       "0  bcv_easy_100          yes_direct      4.5270          5        1.00000   \n",
       "\n",
       "       pmid    unit_id  \n",
       "1  11569530  759110536  \n",
       "0  11569530  759110536  \n",
       "0  11569530  759110537  \n",
       "0  11135224  759110547  \n",
       "0   8590259  759110641  "
      ]
     },
     "execution_count": 13,
     "metadata": {},
     "output_type": "execute_result"
    }
   ],
   "source": [
    "res.head()"
   ]
  },
  {
   "cell_type": "markdown",
   "metadata": {},
   "source": [
    "# error: work unit 759110545 should be yes..."
   ]
  },
  {
   "cell_type": "markdown",
   "metadata": {},
   "source": [
    "#When making work units for sentences, include a unique identifier for relation pairs with the same chemical and disease ids from the same abstract. This will let me count afterwards how many sentences to combine together"
   ]
  },
  {
   "cell_type": "markdown",
   "metadata": {},
   "source": [
    "###Which units had \"yes_indirect\" as the top answer?"
   ]
  },
  {
   "cell_type": "code",
   "execution_count": 14,
   "metadata": {
    "collapsed": false,
    "scrolled": true
   },
   "outputs": [
    {
     "name": "stdout",
     "output_type": "stream",
     "text": [
      "759110566.0\n",
      "       uniq_id verify_relationship  conf_score  num_votes  percent_agree  \\\n",
      "0  bcv_easy_29        yes_indirect      2.9375          3       0.629878   \n",
      "1  bcv_easy_29          yes_direct      1.7261          2       0.370122   \n",
      "\n",
      "      pmid    unit_id  \n",
      "0  1378968  759110566  \n",
      "1  1378968  759110566  \n",
      "\n",
      "759110585.0\n",
      "       uniq_id verify_relationship  conf_score  num_votes  percent_agree  \\\n",
      "0  bcv_easy_48        yes_indirect      2.8261          3       0.605991   \n",
      "1  bcv_easy_48          yes_direct      1.8375          2       0.394009   \n",
      "\n",
      "       pmid    unit_id  \n",
      "0  10520387  759110585  \n",
      "1  10520387  759110585  \n",
      "\n",
      "759110600.0\n",
      "       uniq_id verify_relationship  conf_score  num_votes  percent_agree  \\\n",
      "0  bcv_easy_63        yes_indirect      3.6727          4       0.824344   \n",
      "1  bcv_easy_63         no_relation      0.7826          1       0.175656   \n",
      "\n",
      "      pmid    unit_id  \n",
      "0  3800626  759110600  \n",
      "1  3800626  759110600  \n",
      "\n",
      "759110674.0\n",
      "        uniq_id verify_relationship  conf_score  num_votes  percent_agree  \\\n",
      "0  bcv_easy_132        yes_indirect      3.6451          4       0.795422   \n",
      "1  bcv_easy_132          yes_direct      0.9375          1       0.204578   \n",
      "\n",
      "      pmid    unit_id  \n",
      "0  2096243  759110674  \n",
      "1  2096243  759110674  \n",
      "\n",
      "759110680.0\n",
      "        uniq_id verify_relationship  conf_score  num_votes  percent_agree  \\\n",
      "0  bcv_easy_138        yes_indirect      2.7787          3       0.615056   \n",
      "1  bcv_easy_138          yes_direct      1.7391          2       0.384944   \n",
      "\n",
      "      pmid    unit_id  \n",
      "0  2375138  759110680  \n",
      "1  2375138  759110680  \n",
      "\n",
      "759110700.0\n",
      "        uniq_id verify_relationship  conf_score  num_votes  percent_agree  \\\n",
      "0  bcv_easy_158        yes_indirect      2.3404          3       0.558448   \n",
      "1  bcv_easy_158          yes_direct      1.8505          2       0.441552   \n",
      "\n",
      "       pmid    unit_id  \n",
      "0  10835440  759110700  \n",
      "1  10835440  759110700  \n",
      "\n"
     ]
    }
   ],
   "source": [
    "for unit_id, group in res.groupby(\"unit_id\"):\n",
    "    if group[\"verify_relationship\"].iloc[0] == \"yes_indirect\":\n",
    "        print unit_id\n",
    "        print group\n",
    "        print"
   ]
  },
  {
   "cell_type": "markdown",
   "metadata": {},
   "source": [
    "There are 6 work units where the top crowd response was \"yes_indirect\". After manual review, I determined that:\n",
    "\n",
    "759110566, 759110585, 759110600, 759110674, 759110700 are indeed drug -> disease -> disease relationships.\n",
    "\n",
    "759110680 is a special case, since it can indeed be interpreted as death resulting from cardiorespiratory arrest, and not from midazolam directly.\n",
    "\n",
    "Again, I'm very happy that the crowd can identify these kinds of relationships."
   ]
  },
  {
   "cell_type": "markdown",
   "metadata": {},
   "source": [
    "###Dealing with yes_indirect relationships:\n",
    "\n",
    "1. Treating it as a \"no\" vote\n",
    "2. Treating it as a \"yes\" vote"
   ]
  },
  {
   "cell_type": "code",
   "execution_count": 15,
   "metadata": {
    "collapsed": true
   },
   "outputs": [],
   "source": [
    "res_yes = aggregate_results(\"uniq_id\", \"verify_relationship\", raw_data,\n",
    "                           \"positive_signal_only\", [\"pmid\", \"_unit_id\"], \"yes_direct\", {\"yes_indirect\" : \"yes_direct\"})\n",
    "\n",
    "res_no = aggregate_results(\"uniq_id\", \"verify_relationship\", raw_data,\n",
    "                           \"positive_signal_only\", [\"pmid\", \"_unit_id\"], \"yes_direct\", {\"yes_indirect\" : \"no_relation\"})"
   ]
  },
  {
   "cell_type": "code",
   "execution_count": 16,
   "metadata": {
    "collapsed": false
   },
   "outputs": [
    {
     "data": {
      "text/html": [
       "<div>\n",
       "<table border=\"1\" class=\"dataframe\">\n",
       "  <thead>\n",
       "    <tr style=\"text-align: right;\">\n",
       "      <th></th>\n",
       "      <th>uniq_id</th>\n",
       "      <th>verify_relationship</th>\n",
       "      <th>conf_score</th>\n",
       "      <th>num_votes</th>\n",
       "      <th>percent_agree</th>\n",
       "      <th>pmid</th>\n",
       "      <th>unit_id</th>\n",
       "    </tr>\n",
       "  </thead>\n",
       "  <tbody>\n",
       "    <tr>\n",
       "      <th>0</th>\n",
       "      <td>bcv_easy_0</td>\n",
       "      <td>yes_direct</td>\n",
       "      <td>3.9754</td>\n",
       "      <td>5</td>\n",
       "      <td>1</td>\n",
       "      <td>11569530</td>\n",
       "      <td>759110536</td>\n",
       "    </tr>\n",
       "    <tr>\n",
       "      <th>0</th>\n",
       "      <td>bcv_easy_1</td>\n",
       "      <td>yes_direct</td>\n",
       "      <td>4.1246</td>\n",
       "      <td>5</td>\n",
       "      <td>1</td>\n",
       "      <td>11569530</td>\n",
       "      <td>759110537</td>\n",
       "    </tr>\n",
       "    <tr>\n",
       "      <th>0</th>\n",
       "      <td>bcv_easy_10</td>\n",
       "      <td>yes_direct</td>\n",
       "      <td>0.0000</td>\n",
       "      <td>0</td>\n",
       "      <td>0</td>\n",
       "      <td>11135224</td>\n",
       "      <td>759110547</td>\n",
       "    </tr>\n",
       "    <tr>\n",
       "      <th>0</th>\n",
       "      <td>bcv_easy_10</td>\n",
       "      <td>no_relation</td>\n",
       "      <td>4.3540</td>\n",
       "      <td>5</td>\n",
       "      <td>1</td>\n",
       "      <td>11135224</td>\n",
       "      <td>759110547</td>\n",
       "    </tr>\n",
       "    <tr>\n",
       "      <th>0</th>\n",
       "      <td>bcv_easy_100</td>\n",
       "      <td>yes_direct</td>\n",
       "      <td>4.5270</td>\n",
       "      <td>5</td>\n",
       "      <td>1</td>\n",
       "      <td>8590259</td>\n",
       "      <td>759110641</td>\n",
       "    </tr>\n",
       "  </tbody>\n",
       "</table>\n",
       "</div>"
      ],
      "text/plain": [
       "        uniq_id verify_relationship  conf_score  num_votes  percent_agree  \\\n",
       "0    bcv_easy_0          yes_direct      3.9754          5              1   \n",
       "0    bcv_easy_1          yes_direct      4.1246          5              1   \n",
       "0   bcv_easy_10          yes_direct      0.0000          0              0   \n",
       "0   bcv_easy_10         no_relation      4.3540          5              1   \n",
       "0  bcv_easy_100          yes_direct      4.5270          5              1   \n",
       "\n",
       "       pmid    unit_id  \n",
       "0  11569530  759110536  \n",
       "0  11569530  759110537  \n",
       "0  11135224  759110547  \n",
       "0  11135224  759110547  \n",
       "0   8590259  759110641  "
      ]
     },
     "execution_count": 16,
     "metadata": {},
     "output_type": "execute_result"
    }
   ],
   "source": [
    "res_yes.head()"
   ]
  },
  {
   "cell_type": "code",
   "execution_count": 17,
   "metadata": {
    "collapsed": false
   },
   "outputs": [
    {
     "data": {
      "text/html": [
       "<div>\n",
       "<table border=\"1\" class=\"dataframe\">\n",
       "  <thead>\n",
       "    <tr style=\"text-align: right;\">\n",
       "      <th></th>\n",
       "      <th>uniq_id</th>\n",
       "      <th>verify_relationship</th>\n",
       "      <th>conf_score</th>\n",
       "      <th>num_votes</th>\n",
       "      <th>percent_agree</th>\n",
       "      <th>pmid</th>\n",
       "      <th>unit_id</th>\n",
       "    </tr>\n",
       "  </thead>\n",
       "  <tbody>\n",
       "    <tr>\n",
       "      <th>0</th>\n",
       "      <td>bcv_easy_0</td>\n",
       "      <td>yes_direct</td>\n",
       "      <td>3.2254</td>\n",
       "      <td>4</td>\n",
       "      <td>0.81134</td>\n",
       "      <td>11569530</td>\n",
       "      <td>759110536</td>\n",
       "    </tr>\n",
       "    <tr>\n",
       "      <th>1</th>\n",
       "      <td>bcv_easy_0</td>\n",
       "      <td>no_relation</td>\n",
       "      <td>0.7500</td>\n",
       "      <td>1</td>\n",
       "      <td>0.18866</td>\n",
       "      <td>11569530</td>\n",
       "      <td>759110536</td>\n",
       "    </tr>\n",
       "    <tr>\n",
       "      <th>0</th>\n",
       "      <td>bcv_easy_1</td>\n",
       "      <td>yes_direct</td>\n",
       "      <td>4.1246</td>\n",
       "      <td>5</td>\n",
       "      <td>1.00000</td>\n",
       "      <td>11569530</td>\n",
       "      <td>759110537</td>\n",
       "    </tr>\n",
       "    <tr>\n",
       "      <th>0</th>\n",
       "      <td>bcv_easy_10</td>\n",
       "      <td>yes_direct</td>\n",
       "      <td>0.0000</td>\n",
       "      <td>0</td>\n",
       "      <td>0.00000</td>\n",
       "      <td>11135224</td>\n",
       "      <td>759110547</td>\n",
       "    </tr>\n",
       "    <tr>\n",
       "      <th>0</th>\n",
       "      <td>bcv_easy_10</td>\n",
       "      <td>no_relation</td>\n",
       "      <td>4.3540</td>\n",
       "      <td>5</td>\n",
       "      <td>1.00000</td>\n",
       "      <td>11135224</td>\n",
       "      <td>759110547</td>\n",
       "    </tr>\n",
       "  </tbody>\n",
       "</table>\n",
       "</div>"
      ],
      "text/plain": [
       "       uniq_id verify_relationship  conf_score  num_votes  percent_agree  \\\n",
       "0   bcv_easy_0          yes_direct      3.2254          4        0.81134   \n",
       "1   bcv_easy_0         no_relation      0.7500          1        0.18866   \n",
       "0   bcv_easy_1          yes_direct      4.1246          5        1.00000   \n",
       "0  bcv_easy_10          yes_direct      0.0000          0        0.00000   \n",
       "0  bcv_easy_10         no_relation      4.3540          5        1.00000   \n",
       "\n",
       "       pmid    unit_id  \n",
       "0  11569530  759110536  \n",
       "1  11569530  759110536  \n",
       "0  11569530  759110537  \n",
       "0  11135224  759110547  \n",
       "0  11135224  759110547  "
      ]
     },
     "execution_count": 17,
     "metadata": {},
     "output_type": "execute_result"
    }
   ],
   "source": [
    "res_no.head()"
   ]
  },
  {
   "cell_type": "markdown",
   "metadata": {},
   "source": [
    "###Select only the positive results for subsequent analysis:"
   ]
  },
  {
   "cell_type": "code",
   "execution_count": 18,
   "metadata": {
    "collapsed": true
   },
   "outputs": [],
   "source": [
    "res_yes = res_yes.query(\"verify_relationship == 'yes_direct'\")"
   ]
  },
  {
   "cell_type": "code",
   "execution_count": 19,
   "metadata": {
    "collapsed": false
   },
   "outputs": [
    {
     "data": {
      "text/html": [
       "<div>\n",
       "<table border=\"1\" class=\"dataframe\">\n",
       "  <thead>\n",
       "    <tr style=\"text-align: right;\">\n",
       "      <th></th>\n",
       "      <th>uniq_id</th>\n",
       "      <th>verify_relationship</th>\n",
       "      <th>conf_score</th>\n",
       "      <th>num_votes</th>\n",
       "      <th>percent_agree</th>\n",
       "      <th>pmid</th>\n",
       "      <th>unit_id</th>\n",
       "    </tr>\n",
       "  </thead>\n",
       "  <tbody>\n",
       "    <tr>\n",
       "      <th>0</th>\n",
       "      <td>bcv_easy_0</td>\n",
       "      <td>yes_direct</td>\n",
       "      <td>3.9754</td>\n",
       "      <td>5</td>\n",
       "      <td>1.000000</td>\n",
       "      <td>11569530</td>\n",
       "      <td>759110536</td>\n",
       "    </tr>\n",
       "    <tr>\n",
       "      <th>0</th>\n",
       "      <td>bcv_easy_1</td>\n",
       "      <td>yes_direct</td>\n",
       "      <td>4.1246</td>\n",
       "      <td>5</td>\n",
       "      <td>1.000000</td>\n",
       "      <td>11569530</td>\n",
       "      <td>759110537</td>\n",
       "    </tr>\n",
       "    <tr>\n",
       "      <th>0</th>\n",
       "      <td>bcv_easy_10</td>\n",
       "      <td>yes_direct</td>\n",
       "      <td>0.0000</td>\n",
       "      <td>0</td>\n",
       "      <td>0.000000</td>\n",
       "      <td>11135224</td>\n",
       "      <td>759110547</td>\n",
       "    </tr>\n",
       "    <tr>\n",
       "      <th>0</th>\n",
       "      <td>bcv_easy_100</td>\n",
       "      <td>yes_direct</td>\n",
       "      <td>4.5270</td>\n",
       "      <td>5</td>\n",
       "      <td>1.000000</td>\n",
       "      <td>8590259</td>\n",
       "      <td>759110641</td>\n",
       "    </tr>\n",
       "    <tr>\n",
       "      <th>0</th>\n",
       "      <td>bcv_easy_101</td>\n",
       "      <td>yes_direct</td>\n",
       "      <td>1.6039</td>\n",
       "      <td>2</td>\n",
       "      <td>0.403964</td>\n",
       "      <td>12198388</td>\n",
       "      <td>759110642</td>\n",
       "    </tr>\n",
       "  </tbody>\n",
       "</table>\n",
       "</div>"
      ],
      "text/plain": [
       "        uniq_id verify_relationship  conf_score  num_votes  percent_agree  \\\n",
       "0    bcv_easy_0          yes_direct      3.9754          5       1.000000   \n",
       "0    bcv_easy_1          yes_direct      4.1246          5       1.000000   \n",
       "0   bcv_easy_10          yes_direct      0.0000          0       0.000000   \n",
       "0  bcv_easy_100          yes_direct      4.5270          5       1.000000   \n",
       "0  bcv_easy_101          yes_direct      1.6039          2       0.403964   \n",
       "\n",
       "       pmid    unit_id  \n",
       "0  11569530  759110536  \n",
       "0  11569530  759110537  \n",
       "0  11135224  759110547  \n",
       "0   8590259  759110641  \n",
       "0  12198388  759110642  "
      ]
     },
     "execution_count": 19,
     "metadata": {},
     "output_type": "execute_result"
    }
   ],
   "source": [
    "res_yes.head()"
   ]
  },
  {
   "cell_type": "code",
   "execution_count": 20,
   "metadata": {
    "collapsed": true
   },
   "outputs": [],
   "source": [
    "res_no = res_no.query(\"verify_relationship == 'yes_direct'\")"
   ]
  },
  {
   "cell_type": "code",
   "execution_count": 21,
   "metadata": {
    "collapsed": false
   },
   "outputs": [
    {
     "data": {
      "text/html": [
       "<div>\n",
       "<table border=\"1\" class=\"dataframe\">\n",
       "  <thead>\n",
       "    <tr style=\"text-align: right;\">\n",
       "      <th></th>\n",
       "      <th>uniq_id</th>\n",
       "      <th>verify_relationship</th>\n",
       "      <th>conf_score</th>\n",
       "      <th>num_votes</th>\n",
       "      <th>percent_agree</th>\n",
       "      <th>pmid</th>\n",
       "      <th>unit_id</th>\n",
       "    </tr>\n",
       "  </thead>\n",
       "  <tbody>\n",
       "    <tr>\n",
       "      <th>0</th>\n",
       "      <td>bcv_easy_0</td>\n",
       "      <td>yes_direct</td>\n",
       "      <td>3.2254</td>\n",
       "      <td>4</td>\n",
       "      <td>0.811340</td>\n",
       "      <td>11569530</td>\n",
       "      <td>759110536</td>\n",
       "    </tr>\n",
       "    <tr>\n",
       "      <th>0</th>\n",
       "      <td>bcv_easy_1</td>\n",
       "      <td>yes_direct</td>\n",
       "      <td>4.1246</td>\n",
       "      <td>5</td>\n",
       "      <td>1.000000</td>\n",
       "      <td>11569530</td>\n",
       "      <td>759110537</td>\n",
       "    </tr>\n",
       "    <tr>\n",
       "      <th>0</th>\n",
       "      <td>bcv_easy_10</td>\n",
       "      <td>yes_direct</td>\n",
       "      <td>0.0000</td>\n",
       "      <td>0</td>\n",
       "      <td>0.000000</td>\n",
       "      <td>11135224</td>\n",
       "      <td>759110547</td>\n",
       "    </tr>\n",
       "    <tr>\n",
       "      <th>0</th>\n",
       "      <td>bcv_easy_100</td>\n",
       "      <td>yes_direct</td>\n",
       "      <td>4.5270</td>\n",
       "      <td>5</td>\n",
       "      <td>1.000000</td>\n",
       "      <td>8590259</td>\n",
       "      <td>759110641</td>\n",
       "    </tr>\n",
       "    <tr>\n",
       "      <th>0</th>\n",
       "      <td>bcv_easy_101</td>\n",
       "      <td>yes_direct</td>\n",
       "      <td>1.6039</td>\n",
       "      <td>2</td>\n",
       "      <td>0.403964</td>\n",
       "      <td>12198388</td>\n",
       "      <td>759110642</td>\n",
       "    </tr>\n",
       "  </tbody>\n",
       "</table>\n",
       "</div>"
      ],
      "text/plain": [
       "        uniq_id verify_relationship  conf_score  num_votes  percent_agree  \\\n",
       "0    bcv_easy_0          yes_direct      3.2254          4       0.811340   \n",
       "0    bcv_easy_1          yes_direct      4.1246          5       1.000000   \n",
       "0   bcv_easy_10          yes_direct      0.0000          0       0.000000   \n",
       "0  bcv_easy_100          yes_direct      4.5270          5       1.000000   \n",
       "0  bcv_easy_101          yes_direct      1.6039          2       0.403964   \n",
       "\n",
       "       pmid    unit_id  \n",
       "0  11569530  759110536  \n",
       "0  11569530  759110537  \n",
       "0  11135224  759110547  \n",
       "0   8590259  759110641  \n",
       "0  12198388  759110642  "
      ]
     },
     "execution_count": 21,
     "metadata": {},
     "output_type": "execute_result"
    }
   ],
   "source": [
    "res_no.head()"
   ]
  },
  {
   "cell_type": "markdown",
   "metadata": {},
   "source": [
    "---"
   ]
  },
  {
   "cell_type": "markdown",
   "metadata": {},
   "source": [
    "###Read the gold standard:"
   ]
  },
  {
   "cell_type": "code",
   "execution_count": 22,
   "metadata": {
    "collapsed": false,
    "scrolled": true
   },
   "outputs": [
    {
     "name": "stdout",
     "output_type": "stream",
     "text": [
      "Reading cached version of training set\n"
     ]
    }
   ],
   "source": [
    "if os.path.exists(\"data/training/parsed_training_set.pickle\"):\n",
    "    print \"Reading cached version of training set\"\n",
    "    with open(\"data/training/parsed_training_set.pickle\", \"rb\") as fin:\n",
    "        training_data = pickle.load(fin)\n",
    "else:\n",
    "    training_data = parse_input(\"data/training\", \"CDR_TrainingSet.txt\")\n",
    "    with open(\"data/training/parsed_training_set.pickle\", \"wb\") as fout:\n",
    "        pickle.dump(training_data, fout)"
   ]
  },
  {
   "cell_type": "code",
   "execution_count": 23,
   "metadata": {
    "collapsed": false
   },
   "outputs": [],
   "source": [
    "import random\n",
    "random.seed(\"2015-06-11:14:46\")"
   ]
  },
  {
   "cell_type": "code",
   "execution_count": 24,
   "metadata": {
    "collapsed": false
   },
   "outputs": [
    {
     "data": {
      "text/plain": [
       "{1130930,\n",
       " 1378968,\n",
       " 1835291,\n",
       " 2096243,\n",
       " 2265898,\n",
       " 2375138,\n",
       " 2515254,\n",
       " 3800626,\n",
       " 6666578,\n",
       " 6692345,\n",
       " 7449470,\n",
       " 7582165,\n",
       " 8590259,\n",
       " 8595686,\n",
       " 9522143,\n",
       " 10520387,\n",
       " 10835440,\n",
       " 11135224,\n",
       " 11569530,\n",
       " 12041669,\n",
       " 12198388,\n",
       " 15602202,\n",
       " 15632880,\n",
       " 16167916,\n",
       " 16337777,\n",
       " 17241784,\n",
       " 17261653,\n",
       " 17931375,\n",
       " 18631865,\n",
       " 19269743}"
      ]
     },
     "execution_count": 24,
     "metadata": {},
     "output_type": "execute_result"
    }
   ],
   "source": [
    "TESTSET_SIZE = 30\n",
    "testset = random.sample(training_data, TESTSET_SIZE)\n",
    "\n",
    "testset_pmids = {paper.pmid for paper in testset}\n",
    "testset_pmids\n",
    "\n",
    "# print len(testset_pmids)"
   ]
  },
  {
   "cell_type": "code",
   "execution_count": 25,
   "metadata": {
    "collapsed": true
   },
   "outputs": [],
   "source": [
    "def get_subset(dataset, papers):\n",
    "    return {paper.pmid : paper for paper in papers if paper.pmid in dataset}\n",
    "\n",
    "testset = get_subset(testset_pmids, training_data)"
   ]
  },
  {
   "cell_type": "code",
   "execution_count": 26,
   "metadata": {
    "collapsed": false
   },
   "outputs": [
    {
     "data": {
      "text/plain": [
       "30"
      ]
     },
     "execution_count": 26,
     "metadata": {},
     "output_type": "execute_result"
    }
   ],
   "source": [
    "len(testset)"
   ]
  },
  {
   "cell_type": "markdown",
   "metadata": {},
   "source": [
    "---"
   ]
  },
  {
   "cell_type": "markdown",
   "metadata": {},
   "source": [
    "###Evaluate crowd performance against the gold standard:"
   ]
  },
  {
   "cell_type": "code",
   "execution_count": 27,
   "metadata": {
    "collapsed": true
   },
   "outputs": [],
   "source": [
    "def determine_truth(dataframe):\n",
    "    \"\"\"\n",
    "    Add the in_gold column to each row.\n",
    "    \"\"\"\n",
    "    def is_in_gold(uniq_id):\n",
    "        res = raw_data.query(\"uniq_id == '{0}'\".format(uniq_id))\n",
    "        chemical_id = res[\"drug_id\"].iloc[0]\n",
    "        disease_id = res[\"disease_id\"].iloc[0]\n",
    "        pmid = res[\"pmid\"].iloc[0]\n",
    "        \n",
    "        return int(testset[pmid].has_relation(Relation(chemical_id, disease_id)))\n",
    "    \n",
    "    def chem_id(uniq_id):\n",
    "        return raw_data.query(\"uniq_id == '{0}'\".format(uniq_id))[\"drug_id\"].iloc[0]\n",
    "\n",
    "    def dise_id(uniq_id):\n",
    "        return raw_data.query(\"uniq_id == '{0}'\".format(uniq_id))[\"disease_id\"].iloc[0]\n",
    "    \n",
    "    dataframe.loc[:, \"in_gold\"] = dataframe.loc[:, \"uniq_id\"].map(is_in_gold)\n",
    "    dataframe.loc[:, \"chemical_id\"] = dataframe.loc[:, \"uniq_id\"].map(chem_id)\n",
    "    dataframe.loc[:, \"disease_id\"] = dataframe.loc[:, \"uniq_id\"].map(dise_id)\n",
    "    return dataframe"
   ]
  },
  {
   "cell_type": "code",
   "execution_count": 28,
   "metadata": {
    "collapsed": true
   },
   "outputs": [],
   "source": [
    "perf_yes = determine_truth(res_yes)"
   ]
  },
  {
   "cell_type": "code",
   "execution_count": 29,
   "metadata": {
    "collapsed": false
   },
   "outputs": [
    {
     "data": {
      "text/html": [
       "<div>\n",
       "<table border=\"1\" class=\"dataframe\">\n",
       "  <thead>\n",
       "    <tr style=\"text-align: right;\">\n",
       "      <th></th>\n",
       "      <th>uniq_id</th>\n",
       "      <th>verify_relationship</th>\n",
       "      <th>conf_score</th>\n",
       "      <th>num_votes</th>\n",
       "      <th>percent_agree</th>\n",
       "      <th>pmid</th>\n",
       "      <th>unit_id</th>\n",
       "      <th>in_gold</th>\n",
       "      <th>chemical_id</th>\n",
       "      <th>disease_id</th>\n",
       "    </tr>\n",
       "  </thead>\n",
       "  <tbody>\n",
       "    <tr>\n",
       "      <th>0</th>\n",
       "      <td>bcv_easy_0</td>\n",
       "      <td>yes_direct</td>\n",
       "      <td>3.9754</td>\n",
       "      <td>5</td>\n",
       "      <td>1.000000</td>\n",
       "      <td>11569530</td>\n",
       "      <td>759110536</td>\n",
       "      <td>0</td>\n",
       "      <td>C063968</td>\n",
       "      <td>D016171</td>\n",
       "    </tr>\n",
       "    <tr>\n",
       "      <th>0</th>\n",
       "      <td>bcv_easy_1</td>\n",
       "      <td>yes_direct</td>\n",
       "      <td>4.1246</td>\n",
       "      <td>5</td>\n",
       "      <td>1.000000</td>\n",
       "      <td>11569530</td>\n",
       "      <td>759110537</td>\n",
       "      <td>1</td>\n",
       "      <td>D020117</td>\n",
       "      <td>D016171</td>\n",
       "    </tr>\n",
       "    <tr>\n",
       "      <th>0</th>\n",
       "      <td>bcv_easy_10</td>\n",
       "      <td>yes_direct</td>\n",
       "      <td>0.0000</td>\n",
       "      <td>0</td>\n",
       "      <td>0.000000</td>\n",
       "      <td>11135224</td>\n",
       "      <td>759110547</td>\n",
       "      <td>0</td>\n",
       "      <td>D017239</td>\n",
       "      <td>D002289</td>\n",
       "    </tr>\n",
       "    <tr>\n",
       "      <th>0</th>\n",
       "      <td>bcv_easy_100</td>\n",
       "      <td>yes_direct</td>\n",
       "      <td>4.5270</td>\n",
       "      <td>5</td>\n",
       "      <td>1.000000</td>\n",
       "      <td>8590259</td>\n",
       "      <td>759110641</td>\n",
       "      <td>1</td>\n",
       "      <td>C016986</td>\n",
       "      <td>D015814</td>\n",
       "    </tr>\n",
       "    <tr>\n",
       "      <th>0</th>\n",
       "      <td>bcv_easy_101</td>\n",
       "      <td>yes_direct</td>\n",
       "      <td>1.6039</td>\n",
       "      <td>2</td>\n",
       "      <td>0.403964</td>\n",
       "      <td>12198388</td>\n",
       "      <td>759110642</td>\n",
       "      <td>0</td>\n",
       "      <td>D000109</td>\n",
       "      <td>D012640</td>\n",
       "    </tr>\n",
       "  </tbody>\n",
       "</table>\n",
       "</div>"
      ],
      "text/plain": [
       "        uniq_id verify_relationship  conf_score  num_votes  percent_agree  \\\n",
       "0    bcv_easy_0          yes_direct      3.9754          5       1.000000   \n",
       "0    bcv_easy_1          yes_direct      4.1246          5       1.000000   \n",
       "0   bcv_easy_10          yes_direct      0.0000          0       0.000000   \n",
       "0  bcv_easy_100          yes_direct      4.5270          5       1.000000   \n",
       "0  bcv_easy_101          yes_direct      1.6039          2       0.403964   \n",
       "\n",
       "       pmid    unit_id  in_gold chemical_id disease_id  \n",
       "0  11569530  759110536        0     C063968    D016171  \n",
       "0  11569530  759110537        1     D020117    D016171  \n",
       "0  11135224  759110547        0     D017239    D002289  \n",
       "0   8590259  759110641        1     C016986    D015814  \n",
       "0  12198388  759110642        0     D000109    D012640  "
      ]
     },
     "execution_count": 29,
     "metadata": {},
     "output_type": "execute_result"
    }
   ],
   "source": [
    "perf_yes.head()"
   ]
  },
  {
   "cell_type": "code",
   "execution_count": 30,
   "metadata": {
    "collapsed": true
   },
   "outputs": [],
   "source": [
    "perf_no = determine_truth(res_no)"
   ]
  },
  {
   "cell_type": "code",
   "execution_count": 31,
   "metadata": {
    "collapsed": false
   },
   "outputs": [
    {
     "data": {
      "text/html": [
       "<div>\n",
       "<table border=\"1\" class=\"dataframe\">\n",
       "  <thead>\n",
       "    <tr style=\"text-align: right;\">\n",
       "      <th></th>\n",
       "      <th>uniq_id</th>\n",
       "      <th>verify_relationship</th>\n",
       "      <th>conf_score</th>\n",
       "      <th>num_votes</th>\n",
       "      <th>percent_agree</th>\n",
       "      <th>pmid</th>\n",
       "      <th>unit_id</th>\n",
       "      <th>in_gold</th>\n",
       "      <th>chemical_id</th>\n",
       "      <th>disease_id</th>\n",
       "    </tr>\n",
       "  </thead>\n",
       "  <tbody>\n",
       "    <tr>\n",
       "      <th>0</th>\n",
       "      <td>bcv_easy_0</td>\n",
       "      <td>yes_direct</td>\n",
       "      <td>3.2254</td>\n",
       "      <td>4</td>\n",
       "      <td>0.811340</td>\n",
       "      <td>11569530</td>\n",
       "      <td>759110536</td>\n",
       "      <td>0</td>\n",
       "      <td>C063968</td>\n",
       "      <td>D016171</td>\n",
       "    </tr>\n",
       "    <tr>\n",
       "      <th>0</th>\n",
       "      <td>bcv_easy_1</td>\n",
       "      <td>yes_direct</td>\n",
       "      <td>4.1246</td>\n",
       "      <td>5</td>\n",
       "      <td>1.000000</td>\n",
       "      <td>11569530</td>\n",
       "      <td>759110537</td>\n",
       "      <td>1</td>\n",
       "      <td>D020117</td>\n",
       "      <td>D016171</td>\n",
       "    </tr>\n",
       "    <tr>\n",
       "      <th>0</th>\n",
       "      <td>bcv_easy_10</td>\n",
       "      <td>yes_direct</td>\n",
       "      <td>0.0000</td>\n",
       "      <td>0</td>\n",
       "      <td>0.000000</td>\n",
       "      <td>11135224</td>\n",
       "      <td>759110547</td>\n",
       "      <td>0</td>\n",
       "      <td>D017239</td>\n",
       "      <td>D002289</td>\n",
       "    </tr>\n",
       "    <tr>\n",
       "      <th>0</th>\n",
       "      <td>bcv_easy_100</td>\n",
       "      <td>yes_direct</td>\n",
       "      <td>4.5270</td>\n",
       "      <td>5</td>\n",
       "      <td>1.000000</td>\n",
       "      <td>8590259</td>\n",
       "      <td>759110641</td>\n",
       "      <td>1</td>\n",
       "      <td>C016986</td>\n",
       "      <td>D015814</td>\n",
       "    </tr>\n",
       "    <tr>\n",
       "      <th>0</th>\n",
       "      <td>bcv_easy_101</td>\n",
       "      <td>yes_direct</td>\n",
       "      <td>1.6039</td>\n",
       "      <td>2</td>\n",
       "      <td>0.403964</td>\n",
       "      <td>12198388</td>\n",
       "      <td>759110642</td>\n",
       "      <td>0</td>\n",
       "      <td>D000109</td>\n",
       "      <td>D012640</td>\n",
       "    </tr>\n",
       "  </tbody>\n",
       "</table>\n",
       "</div>"
      ],
      "text/plain": [
       "        uniq_id verify_relationship  conf_score  num_votes  percent_agree  \\\n",
       "0    bcv_easy_0          yes_direct      3.2254          4       0.811340   \n",
       "0    bcv_easy_1          yes_direct      4.1246          5       1.000000   \n",
       "0   bcv_easy_10          yes_direct      0.0000          0       0.000000   \n",
       "0  bcv_easy_100          yes_direct      4.5270          5       1.000000   \n",
       "0  bcv_easy_101          yes_direct      1.6039          2       0.403964   \n",
       "\n",
       "       pmid    unit_id  in_gold chemical_id disease_id  \n",
       "0  11569530  759110536        0     C063968    D016171  \n",
       "0  11569530  759110537        1     D020117    D016171  \n",
       "0  11135224  759110547        0     D017239    D002289  \n",
       "0   8590259  759110641        1     C016986    D015814  \n",
       "0  12198388  759110642        0     D000109    D012640  "
      ]
     },
     "execution_count": 31,
     "metadata": {},
     "output_type": "execute_result"
    }
   ],
   "source": [
    "perf_no.head()"
   ]
  },
  {
   "cell_type": "markdown",
   "metadata": {},
   "source": [
    "---"
   ]
  },
  {
   "cell_type": "markdown",
   "metadata": {},
   "source": [
    "###Aggregate the results of the individual sentences together at the abstract level:\n",
    "\n",
    "The number of unique (pmid, chemical_id, disease_id) triples is fewer than the number of unique work units."
   ]
  },
  {
   "cell_type": "code",
   "execution_count": 32,
   "metadata": {
    "collapsed": true
   },
   "outputs": [],
   "source": [
    "def aggregate_sentences(sentence_res):\n",
    "    \"\"\"\n",
    "    Given the aggregated results at the individual work unit level,\n",
    "    this function determines which sentence-bound drug-disease relationships\n",
    "    are true at the abstract level.\n",
    "    \"\"\"\n",
    "    res = defaultdict(list)\n",
    "    for info, group in sentence_res.groupby([\"pmid\", \"chemical_id\", \"disease_id\"]):\n",
    "        norm_conf_score = group[\"percent_agree\"].max()\n",
    "        \n",
    "        res[\"pmid\"].append(info[0])\n",
    "        res[\"chemical_id\"].append(info[1])\n",
    "        res[\"disease_id\"].append(info[2])\n",
    "        \n",
    "        res[\"in_gold\"].append(group[\"in_gold\"].iloc[0])\n",
    "        \n",
    "        res[\"norm_conf_score\"].append(norm_conf_score)\n",
    "        \n",
    "        res[\"uniq_ids\"].append(\"|\".join(group[\"uniq_id\"].unique()))\n",
    "        res[\"unit_ids\"].append(\"|\".join(map(lambda x: str(int(x)), group[\"unit_id\"].unique())))\n",
    "        \n",
    "    return pd.DataFrame(res)"
   ]
  },
  {
   "cell_type": "code",
   "execution_count": 33,
   "metadata": {
    "collapsed": false
   },
   "outputs": [],
   "source": [
    "perf_yes = aggregate_sentences(perf_yes)"
   ]
  },
  {
   "cell_type": "code",
   "execution_count": 34,
   "metadata": {
    "collapsed": false,
    "scrolled": true
   },
   "outputs": [
    {
     "data": {
      "text/html": [
       "<div>\n",
       "<table border=\"1\" class=\"dataframe\">\n",
       "  <thead>\n",
       "    <tr style=\"text-align: right;\">\n",
       "      <th></th>\n",
       "      <th>chemical_id</th>\n",
       "      <th>disease_id</th>\n",
       "      <th>in_gold</th>\n",
       "      <th>norm_conf_score</th>\n",
       "      <th>pmid</th>\n",
       "      <th>uniq_ids</th>\n",
       "      <th>unit_ids</th>\n",
       "    </tr>\n",
       "  </thead>\n",
       "  <tbody>\n",
       "    <tr>\n",
       "      <th>0</th>\n",
       "      <td>D002512</td>\n",
       "      <td>D007674</td>\n",
       "      <td>0</td>\n",
       "      <td>0.815789</td>\n",
       "      <td>1130930</td>\n",
       "      <td>bcv_easy_153</td>\n",
       "      <td>759110695</td>\n",
       "    </tr>\n",
       "    <tr>\n",
       "      <th>1</th>\n",
       "      <td>D002512</td>\n",
       "      <td>D007683</td>\n",
       "      <td>1</td>\n",
       "      <td>0.831219</td>\n",
       "      <td>1130930</td>\n",
       "      <td>bcv_easy_152</td>\n",
       "      <td>759110694</td>\n",
       "    </tr>\n",
       "    <tr>\n",
       "      <th>2</th>\n",
       "      <td>D002512</td>\n",
       "      <td>D009846|D051437</td>\n",
       "      <td>1</td>\n",
       "      <td>1.000000</td>\n",
       "      <td>1130930</td>\n",
       "      <td>bcv_easy_151</td>\n",
       "      <td>759110693</td>\n",
       "    </tr>\n",
       "    <tr>\n",
       "      <th>3</th>\n",
       "      <td>D005839</td>\n",
       "      <td>D007674</td>\n",
       "      <td>0</td>\n",
       "      <td>0.812966</td>\n",
       "      <td>1130930</td>\n",
       "      <td>bcv_easy_150</td>\n",
       "      <td>759110692</td>\n",
       "    </tr>\n",
       "    <tr>\n",
       "      <th>4</th>\n",
       "      <td>D005839</td>\n",
       "      <td>D007683</td>\n",
       "      <td>1</td>\n",
       "      <td>1.000000</td>\n",
       "      <td>1130930</td>\n",
       "      <td>bcv_easy_149</td>\n",
       "      <td>759110691</td>\n",
       "    </tr>\n",
       "  </tbody>\n",
       "</table>\n",
       "</div>"
      ],
      "text/plain": [
       "  chemical_id       disease_id  in_gold  norm_conf_score     pmid  \\\n",
       "0     D002512          D007674        0         0.815789  1130930   \n",
       "1     D002512          D007683        1         0.831219  1130930   \n",
       "2     D002512  D009846|D051437        1         1.000000  1130930   \n",
       "3     D005839          D007674        0         0.812966  1130930   \n",
       "4     D005839          D007683        1         1.000000  1130930   \n",
       "\n",
       "       uniq_ids   unit_ids  \n",
       "0  bcv_easy_153  759110695  \n",
       "1  bcv_easy_152  759110694  \n",
       "2  bcv_easy_151  759110693  \n",
       "3  bcv_easy_150  759110692  \n",
       "4  bcv_easy_149  759110691  "
      ]
     },
     "execution_count": 34,
     "metadata": {},
     "output_type": "execute_result"
    }
   ],
   "source": [
    "perf_yes.head()"
   ]
  },
  {
   "cell_type": "code",
   "execution_count": 35,
   "metadata": {
    "collapsed": true
   },
   "outputs": [],
   "source": [
    "perf_no = aggregate_sentences(perf_no)"
   ]
  },
  {
   "cell_type": "code",
   "execution_count": 36,
   "metadata": {
    "collapsed": false
   },
   "outputs": [
    {
     "data": {
      "text/html": [
       "<div>\n",
       "<table border=\"1\" class=\"dataframe\">\n",
       "  <thead>\n",
       "    <tr style=\"text-align: right;\">\n",
       "      <th></th>\n",
       "      <th>chemical_id</th>\n",
       "      <th>disease_id</th>\n",
       "      <th>in_gold</th>\n",
       "      <th>norm_conf_score</th>\n",
       "      <th>pmid</th>\n",
       "      <th>uniq_ids</th>\n",
       "      <th>unit_ids</th>\n",
       "    </tr>\n",
       "  </thead>\n",
       "  <tbody>\n",
       "    <tr>\n",
       "      <th>0</th>\n",
       "      <td>D002512</td>\n",
       "      <td>D007674</td>\n",
       "      <td>0</td>\n",
       "      <td>0.815789</td>\n",
       "      <td>1130930</td>\n",
       "      <td>bcv_easy_153</td>\n",
       "      <td>759110695</td>\n",
       "    </tr>\n",
       "    <tr>\n",
       "      <th>1</th>\n",
       "      <td>D002512</td>\n",
       "      <td>D007683</td>\n",
       "      <td>1</td>\n",
       "      <td>0.831219</td>\n",
       "      <td>1130930</td>\n",
       "      <td>bcv_easy_152</td>\n",
       "      <td>759110694</td>\n",
       "    </tr>\n",
       "    <tr>\n",
       "      <th>2</th>\n",
       "      <td>D002512</td>\n",
       "      <td>D009846|D051437</td>\n",
       "      <td>1</td>\n",
       "      <td>0.818547</td>\n",
       "      <td>1130930</td>\n",
       "      <td>bcv_easy_151</td>\n",
       "      <td>759110693</td>\n",
       "    </tr>\n",
       "    <tr>\n",
       "      <th>3</th>\n",
       "      <td>D005839</td>\n",
       "      <td>D007674</td>\n",
       "      <td>0</td>\n",
       "      <td>0.812966</td>\n",
       "      <td>1130930</td>\n",
       "      <td>bcv_easy_150</td>\n",
       "      <td>759110692</td>\n",
       "    </tr>\n",
       "    <tr>\n",
       "      <th>4</th>\n",
       "      <td>D005839</td>\n",
       "      <td>D007683</td>\n",
       "      <td>1</td>\n",
       "      <td>1.000000</td>\n",
       "      <td>1130930</td>\n",
       "      <td>bcv_easy_149</td>\n",
       "      <td>759110691</td>\n",
       "    </tr>\n",
       "  </tbody>\n",
       "</table>\n",
       "</div>"
      ],
      "text/plain": [
       "  chemical_id       disease_id  in_gold  norm_conf_score     pmid  \\\n",
       "0     D002512          D007674        0         0.815789  1130930   \n",
       "1     D002512          D007683        1         0.831219  1130930   \n",
       "2     D002512  D009846|D051437        1         0.818547  1130930   \n",
       "3     D005839          D007674        0         0.812966  1130930   \n",
       "4     D005839          D007683        1         1.000000  1130930   \n",
       "\n",
       "       uniq_ids   unit_ids  \n",
       "0  bcv_easy_153  759110695  \n",
       "1  bcv_easy_152  759110694  \n",
       "2  bcv_easy_151  759110693  \n",
       "3  bcv_easy_150  759110692  \n",
       "4  bcv_easy_149  759110691  "
      ]
     },
     "execution_count": 36,
     "metadata": {},
     "output_type": "execute_result"
    }
   ],
   "source": [
    "perf_no.head()"
   ]
  },
  {
   "cell_type": "code",
   "execution_count": 37,
   "metadata": {
    "collapsed": false
   },
   "outputs": [
    {
     "data": {
      "text/plain": [
       "F_score      0.826087\n",
       "precision    0.745098\n",
       "recall       0.926829\n",
       "threshold    0.822736\n",
       "Name: 20, dtype: float64"
      ]
     },
     "execution_count": 37,
     "metadata": {},
     "output_type": "execute_result"
    }
   ],
   "source": [
    "max_F_score(\"norm_conf_score\", \"in_gold\", perf_yes)"
   ]
  },
  {
   "cell_type": "code",
   "execution_count": 38,
   "metadata": {
    "collapsed": false
   },
   "outputs": [
    {
     "data": {
      "text/plain": [
       "F_score      0.833333\n",
       "precision    0.813953\n",
       "recall       0.853659\n",
       "threshold    0.815541\n",
       "Name: 19, dtype: float64"
      ]
     },
     "execution_count": 38,
     "metadata": {},
     "output_type": "execute_result"
    }
   ],
   "source": [
    "max_F_score(\"norm_conf_score\", \"in_gold\", perf_no)"
   ]
  },
  {
   "cell_type": "code",
   "execution_count": 39,
   "metadata": {
    "collapsed": true
   },
   "outputs": [],
   "source": [
    "def plot_results(score_column, class_column, dataframe):\n",
    "    res = all_F_scores(score_column, class_column, dataframe)\n",
    "    res = res.sort(\"threshold\")\n",
    "    \n",
    "    graph = res.plot(x = \"threshold\", figsize = (7, 7))\n",
    "\n",
    "    graph.set_xlim((0, 1.1))\n",
    "    graph.set_ylim((0, 1.1))"
   ]
  },
  {
   "cell_type": "code",
   "execution_count": 40,
   "metadata": {
    "collapsed": false
   },
   "outputs": [
    {
     "data": {
      "image/png": "[encoded data removed]",
      "text/plain": [
       "<matplotlib.figure.Figure at 0x7f996ba3e190>"
      ]
     },
     "metadata": {},
     "output_type": "display_data"
    }
   ],
   "source": [
    "plot_results(\"norm_conf_score\", \"in_gold\", perf_yes)"
   ]
  },
  {
   "cell_type": "code",
   "execution_count": 41,
   "metadata": {
    "collapsed": false
   },
   "outputs": [
    {
     "data": {
      "image/png": "[encoded data removed]",
      "text/plain": [
       "<matplotlib.figure.Figure at 0x7f996df79cd0>"
      ]
     },
     "metadata": {},
     "output_type": "display_data"
    }
   ],
   "source": [
    "plot_results(\"norm_conf_score\", \"in_gold\", perf_no)"
   ]
  },
  {
   "cell_type": "markdown",
   "metadata": {},
   "source": [
    "The plots look very different depending on how you treat the indirect relationships."
   ]
  },
  {
   "cell_type": "markdown",
   "metadata": {},
   "source": [
    "---"
   ]
  },
  {
   "cell_type": "markdown",
   "metadata": {},
   "source": [
    "###Combine the results of the abstract-level task, the sentence-level task, and the automatically extracted CID relations:"
   ]
  },
  {
   "cell_type": "code",
   "execution_count": 42,
   "metadata": {
    "collapsed": true
   },
   "outputs": [],
   "source": [
    "abs_lvl_rels = pd.read_csv(\"data/abstract_level_relations.tsv\", sep = '\\t')"
   ]
  },
  {
   "cell_type": "code",
   "execution_count": 43,
   "metadata": {
    "collapsed": false,
    "scrolled": true
   },
   "outputs": [
    {
     "data": {
      "text/html": [
       "<div>\n",
       "<table border=\"1\" class=\"dataframe\">\n",
       "  <thead>\n",
       "    <tr style=\"text-align: right;\">\n",
       "      <th></th>\n",
       "      <th>uniq_id</th>\n",
       "      <th>verify_relationship</th>\n",
       "      <th>conf_score</th>\n",
       "      <th>num_votes</th>\n",
       "      <th>percent_agree</th>\n",
       "      <th>pmid</th>\n",
       "      <th>unit_id</th>\n",
       "      <th>in_gold</th>\n",
       "      <th>chemical_id</th>\n",
       "      <th>disease_id</th>\n",
       "    </tr>\n",
       "  </thead>\n",
       "  <tbody>\n",
       "    <tr>\n",
       "      <th>0</th>\n",
       "      <td>bcv_hard_0</td>\n",
       "      <td>yes_direct</td>\n",
       "      <td>0.0000</td>\n",
       "      <td>0</td>\n",
       "      <td>0.000000</td>\n",
       "      <td>11569530</td>\n",
       "      <td>756359591</td>\n",
       "      <td>0</td>\n",
       "      <td>C063968</td>\n",
       "      <td>D017180</td>\n",
       "    </tr>\n",
       "    <tr>\n",
       "      <th>1</th>\n",
       "      <td>bcv_hard_1</td>\n",
       "      <td>yes_direct</td>\n",
       "      <td>1.6904</td>\n",
       "      <td>2</td>\n",
       "      <td>0.398877</td>\n",
       "      <td>11569530</td>\n",
       "      <td>756359592</td>\n",
       "      <td>0</td>\n",
       "      <td>D020117</td>\n",
       "      <td>D017180</td>\n",
       "    </tr>\n",
       "    <tr>\n",
       "      <th>2</th>\n",
       "      <td>bcv_hard_10</td>\n",
       "      <td>yes_direct</td>\n",
       "      <td>4.4417</td>\n",
       "      <td>5</td>\n",
       "      <td>1.000000</td>\n",
       "      <td>11135224</td>\n",
       "      <td>756359601</td>\n",
       "      <td>1</td>\n",
       "      <td>C056507</td>\n",
       "      <td>D013921</td>\n",
       "    </tr>\n",
       "    <tr>\n",
       "      <th>3</th>\n",
       "      <td>bcv_hard_11</td>\n",
       "      <td>yes_direct</td>\n",
       "      <td>3.5659</td>\n",
       "      <td>4</td>\n",
       "      <td>0.819446</td>\n",
       "      <td>11135224</td>\n",
       "      <td>756359602</td>\n",
       "      <td>0</td>\n",
       "      <td>C056507</td>\n",
       "      <td>D003643</td>\n",
       "    </tr>\n",
       "    <tr>\n",
       "      <th>4</th>\n",
       "      <td>bcv_hard_12</td>\n",
       "      <td>yes_direct</td>\n",
       "      <td>3.3773</td>\n",
       "      <td>4</td>\n",
       "      <td>0.784342</td>\n",
       "      <td>11135224</td>\n",
       "      <td>756359603</td>\n",
       "      <td>1</td>\n",
       "      <td>C056507</td>\n",
       "      <td>D009503</td>\n",
       "    </tr>\n",
       "  </tbody>\n",
       "</table>\n",
       "</div>"
      ],
      "text/plain": [
       "       uniq_id verify_relationship  conf_score  num_votes  percent_agree  \\\n",
       "0   bcv_hard_0          yes_direct      0.0000          0       0.000000   \n",
       "1   bcv_hard_1          yes_direct      1.6904          2       0.398877   \n",
       "2  bcv_hard_10          yes_direct      4.4417          5       1.000000   \n",
       "3  bcv_hard_11          yes_direct      3.5659          4       0.819446   \n",
       "4  bcv_hard_12          yes_direct      3.3773          4       0.784342   \n",
       "\n",
       "       pmid    unit_id  in_gold chemical_id disease_id  \n",
       "0  11569530  756359591        0     C063968    D017180  \n",
       "1  11569530  756359592        0     D020117    D017180  \n",
       "2  11135224  756359601        1     C056507    D013921  \n",
       "3  11135224  756359602        0     C056507    D003643  \n",
       "4  11135224  756359603        1     C056507    D009503  "
      ]
     },
     "execution_count": 43,
     "metadata": {},
     "output_type": "execute_result"
    }
   ],
   "source": [
    "abs_lvl_rels.head()"
   ]
  },
  {
   "cell_type": "code",
   "execution_count": 44,
   "metadata": {
    "collapsed": false
   },
   "outputs": [],
   "source": [
    "with open(\"data/cid_relations.pickle\", \"rb\") as fin:\n",
    "    cid_relations = pickle.load(fin)"
   ]
  },
  {
   "cell_type": "code",
   "execution_count": 45,
   "metadata": {
    "collapsed": false
   },
   "outputs": [
    {
     "data": {
      "text/plain": [
       "{(1378968, 'D008094', 'D007674'),\n",
       " (1378968, 'D008094', 'D007676'),\n",
       " (2096243, 'C017367', 'D019965'),\n",
       " (2096243, 'C017367', 'D056784'),\n",
       " (3800626, 'D010423', 'D005355|D009135'),\n",
       " (3800626, 'D010423', 'D009135'),\n",
       " (6666578, 'D010396', 'D001018'),\n",
       " (12041669, 'D010396', 'D000741'),\n",
       " (15632880, 'D013148', 'D006947'),\n",
       " (15632880, 'D013148', 'D051437'),\n",
       " (17241784, 'D019821', 'D009135'),\n",
       " (17261653, 'D003000', 'D001919'),\n",
       " (19269743, 'D002211', 'D010146')}"
      ]
     },
     "execution_count": 45,
     "metadata": {},
     "output_type": "execute_result"
    }
   ],
   "source": [
    "cid_relations"
   ]
  },
  {
   "cell_type": "markdown",
   "metadata": {},
   "source": [
    "---"
   ]
  },
  {
   "cell_type": "markdown",
   "metadata": {},
   "source": [
    "My workflow decision maker isn't quite perfect, so the aggregation will be a little annoying..."
   ]
  },
  {
   "cell_type": "code",
   "execution_count": 46,
   "metadata": {
    "collapsed": false
   },
   "outputs": [],
   "source": [
    "abs_triples = set()\n",
    "for info, group in abs_lvl_rels.groupby([\"pmid\", \"chemical_id\", \"disease_id\"]):\n",
    "    abs_triples.add((int(info[0]), info[1], info[2]))"
   ]
  },
  {
   "cell_type": "code",
   "execution_count": 47,
   "metadata": {
    "collapsed": true
   },
   "outputs": [],
   "source": [
    "sentence_triples = set()\n",
    "for info, group in perf_no.groupby([\"pmid\", \"chemical_id\", \"disease_id\"]):\n",
    "    sentence_triples.add((int(info[0]), info[1], info[2]))"
   ]
  },
  {
   "cell_type": "code",
   "execution_count": 48,
   "metadata": {
    "collapsed": false
   },
   "outputs": [
    {
     "data": {
      "text/plain": [
       "{(1130930, 'D002512', 'D007674'),\n",
       " (1130930, 'D005839', 'D007674'),\n",
       " (2265898, 'C009265', 'D004827'),\n",
       " (3800626, 'D010423', 'D009408|D020425'),\n",
       " (7582165, 'D000305', 'D004342'),\n",
       " (16337777, 'D010862', 'D004827')}"
      ]
     },
     "execution_count": 48,
     "metadata": {},
     "output_type": "execute_result"
    }
   ],
   "source": [
    "abs_triples & sentence_triples"
   ]
  },
  {
   "cell_type": "code",
   "execution_count": 49,
   "metadata": {
    "collapsed": false
   },
   "outputs": [
    {
     "data": {
      "text/plain": [
       "{(1378968, 'D008094', 'D007676'), (6666578, 'D010396', 'D001018')}"
      ]
     },
     "execution_count": 49,
     "metadata": {},
     "output_type": "execute_result"
    }
   ],
   "source": [
    "cid_relations & abs_triples"
   ]
  },
  {
   "cell_type": "code",
   "execution_count": 50,
   "metadata": {
    "collapsed": false
   },
   "outputs": [
    {
     "data": {
      "text/plain": [
       "{(2096243, 'C017367', 'D019965'),\n",
       " (3800626, 'D010423', 'D005355|D009135'),\n",
       " (12041669, 'D010396', 'D000741'),\n",
       " (15632880, 'D013148', 'D006947'),\n",
       " (15632880, 'D013148', 'D051437'),\n",
       " (17241784, 'D019821', 'D009135'),\n",
       " (19269743, 'D002211', 'D010146')}"
      ]
     },
     "execution_count": 50,
     "metadata": {},
     "output_type": "execute_result"
    }
   ],
   "source": [
    "cid_relations & sentence_triples"
   ]
  },
  {
   "cell_type": "markdown",
   "metadata": {},
   "source": [
    "The decision maker is leaky. Some relationships show up multiple times, which needs to be fixed."
   ]
  },
  {
   "cell_type": "code",
   "execution_count": 51,
   "metadata": {
    "collapsed": false
   },
   "outputs": [],
   "source": [
    "# combine results\n",
    "\n",
    "total_res = defaultdict(list)\n",
    "\n",
    "for triple in cid_relations:\n",
    "    total_res[\"pmid\"].append(triple[0])\n",
    "    total_res[\"chemical_id\"].append(triple[1])\n",
    "    total_res[\"disease_id\"].append(triple[2])\n",
    "    \n",
    "    total_res[\"norm_conf_score\"].append(1.0)\n",
    "    total_res[\"in_gold\"].append(int(testset[triple[0]].has_relation(Relation(triple[1], triple[2]))))\n",
    "\n",
    "# abstract\n",
    "for triple, group in abs_lvl_rels.groupby([\"pmid\", \"chemical_id\", \"disease_id\"]):\n",
    "    total_res[\"pmid\"].append(triple[0])\n",
    "    total_res[\"chemical_id\"].append(triple[1])\n",
    "    total_res[\"disease_id\"].append(triple[2])\n",
    "    \n",
    "    assert len(group) == 1\n",
    "    total_res[\"norm_conf_score\"].append(group[\"percent_agree\"].iloc[0])\n",
    "    total_res[\"in_gold\"].append(group[\"in_gold\"].iloc[0])\n",
    "    \n",
    "# sentences\n",
    "for triple, group in perf_no.groupby([\"pmid\", \"chemical_id\", \"disease_id\"]):\n",
    "    total_res[\"pmid\"].append(triple[0])\n",
    "    total_res[\"chemical_id\"].append(triple[1])\n",
    "    total_res[\"disease_id\"].append(triple[2])\n",
    "    \n",
    "    assert len(group) == 1\n",
    "    total_res[\"norm_conf_score\"].append(group[\"norm_conf_score\"].iloc[0])\n",
    "    total_res[\"in_gold\"].append(group[\"in_gold\"].iloc[0])\n",
    "    \n",
    "total_res = pd.DataFrame(total_res)\n",
    "\n",
    "# remove duplicates\n",
    "indicies = []\n",
    "for triple, group in total_res.groupby([\"pmid\", \"chemical_id\", \"disease_id\"]):\n",
    "    group = group.sort(\"norm_conf_score\", ascending = False)\n",
    "    \n",
    "    indicies.append(group.index[0])\n",
    "    \n",
    "total_res = total_res.loc[indicies]"
   ]
  },
  {
   "cell_type": "code",
   "execution_count": 52,
   "metadata": {
    "collapsed": false
   },
   "outputs": [
    {
     "data": {
      "text/plain": [
       "63"
      ]
     },
     "execution_count": 52,
     "metadata": {},
     "output_type": "execute_result"
    }
   ],
   "source": [
    "# no more duplicates\n",
    "total_res[\"in_gold\"].sum()"
   ]
  },
  {
   "cell_type": "code",
   "execution_count": 53,
   "metadata": {
    "collapsed": false,
    "scrolled": true
   },
   "outputs": [
    {
     "data": {
      "text/html": [
       "<div>\n",
       "<table border=\"1\" class=\"dataframe\">\n",
       "  <thead>\n",
       "    <tr style=\"text-align: right;\">\n",
       "      <th></th>\n",
       "      <th>chemical_id</th>\n",
       "      <th>disease_id</th>\n",
       "      <th>in_gold</th>\n",
       "      <th>norm_conf_score</th>\n",
       "      <th>pmid</th>\n",
       "    </tr>\n",
       "  </thead>\n",
       "  <tbody>\n",
       "    <tr>\n",
       "      <th>110</th>\n",
       "      <td>D002512</td>\n",
       "      <td>D007674</td>\n",
       "      <td>0</td>\n",
       "      <td>0.815789</td>\n",
       "      <td>1130930</td>\n",
       "    </tr>\n",
       "    <tr>\n",
       "      <th>111</th>\n",
       "      <td>D002512</td>\n",
       "      <td>D007683</td>\n",
       "      <td>1</td>\n",
       "      <td>0.831219</td>\n",
       "      <td>1130930</td>\n",
       "    </tr>\n",
       "    <tr>\n",
       "      <th>112</th>\n",
       "      <td>D002512</td>\n",
       "      <td>D009846|D051437</td>\n",
       "      <td>1</td>\n",
       "      <td>0.818547</td>\n",
       "      <td>1130930</td>\n",
       "    </tr>\n",
       "    <tr>\n",
       "      <th>14</th>\n",
       "      <td>D002512</td>\n",
       "      <td>D051437</td>\n",
       "      <td>0</td>\n",
       "      <td>0.195645</td>\n",
       "      <td>1130930</td>\n",
       "    </tr>\n",
       "    <tr>\n",
       "      <th>15</th>\n",
       "      <td>D005839</td>\n",
       "      <td>D007674</td>\n",
       "      <td>0</td>\n",
       "      <td>1.000000</td>\n",
       "      <td>1130930</td>\n",
       "    </tr>\n",
       "    <tr>\n",
       "      <th>114</th>\n",
       "      <td>D005839</td>\n",
       "      <td>D007683</td>\n",
       "      <td>1</td>\n",
       "      <td>1.000000</td>\n",
       "      <td>1130930</td>\n",
       "    </tr>\n",
       "    <tr>\n",
       "      <th>115</th>\n",
       "      <td>D005839</td>\n",
       "      <td>D009846|D051437</td>\n",
       "      <td>1</td>\n",
       "      <td>1.000000</td>\n",
       "      <td>1130930</td>\n",
       "    </tr>\n",
       "    <tr>\n",
       "      <th>16</th>\n",
       "      <td>D005839</td>\n",
       "      <td>D051437</td>\n",
       "      <td>0</td>\n",
       "      <td>0.189596</td>\n",
       "      <td>1130930</td>\n",
       "    </tr>\n",
       "    <tr>\n",
       "      <th>17</th>\n",
       "      <td>D003404</td>\n",
       "      <td>D005921</td>\n",
       "      <td>0</td>\n",
       "      <td>0.000000</td>\n",
       "      <td>1378968</td>\n",
       "    </tr>\n",
       "    <tr>\n",
       "      <th>18</th>\n",
       "      <td>D003404</td>\n",
       "      <td>D006973</td>\n",
       "      <td>0</td>\n",
       "      <td>0.000000</td>\n",
       "      <td>1378968</td>\n",
       "    </tr>\n",
       "    <tr>\n",
       "      <th>19</th>\n",
       "      <td>D003404</td>\n",
       "      <td>D007674</td>\n",
       "      <td>0</td>\n",
       "      <td>0.195649</td>\n",
       "      <td>1378968</td>\n",
       "    </tr>\n",
       "    <tr>\n",
       "      <th>20</th>\n",
       "      <td>D003404</td>\n",
       "      <td>D007676</td>\n",
       "      <td>0</td>\n",
       "      <td>0.000000</td>\n",
       "      <td>1378968</td>\n",
       "    </tr>\n",
       "    <tr>\n",
       "      <th>21</th>\n",
       "      <td>D003404</td>\n",
       "      <td>D011507</td>\n",
       "      <td>0</td>\n",
       "      <td>0.000000</td>\n",
       "      <td>1378968</td>\n",
       "    </tr>\n",
       "    <tr>\n",
       "      <th>116</th>\n",
       "      <td>D003404</td>\n",
       "      <td>D051437</td>\n",
       "      <td>0</td>\n",
       "      <td>0.000000</td>\n",
       "      <td>1378968</td>\n",
       "    </tr>\n",
       "    <tr>\n",
       "      <th>117</th>\n",
       "      <td>D008094</td>\n",
       "      <td>D005921</td>\n",
       "      <td>0</td>\n",
       "      <td>0.000000</td>\n",
       "      <td>1378968</td>\n",
       "    </tr>\n",
       "    <tr>\n",
       "      <th>118</th>\n",
       "      <td>D008094</td>\n",
       "      <td>D006973</td>\n",
       "      <td>1</td>\n",
       "      <td>1.000000</td>\n",
       "      <td>1378968</td>\n",
       "    </tr>\n",
       "    <tr>\n",
       "      <th>11</th>\n",
       "      <td>D008094</td>\n",
       "      <td>D007674</td>\n",
       "      <td>0</td>\n",
       "      <td>1.000000</td>\n",
       "      <td>1378968</td>\n",
       "    </tr>\n",
       "    <tr>\n",
       "      <th>4</th>\n",
       "      <td>D008094</td>\n",
       "      <td>D007676</td>\n",
       "      <td>1</td>\n",
       "      <td>1.000000</td>\n",
       "      <td>1378968</td>\n",
       "    </tr>\n",
       "    <tr>\n",
       "      <th>119</th>\n",
       "      <td>D008094</td>\n",
       "      <td>D011507</td>\n",
       "      <td>1</td>\n",
       "      <td>1.000000</td>\n",
       "      <td>1378968</td>\n",
       "    </tr>\n",
       "    <tr>\n",
       "      <th>120</th>\n",
       "      <td>D008094</td>\n",
       "      <td>D051437</td>\n",
       "      <td>0</td>\n",
       "      <td>0.571182</td>\n",
       "      <td>1378968</td>\n",
       "    </tr>\n",
       "    <tr>\n",
       "      <th>23</th>\n",
       "      <td>D009241</td>\n",
       "      <td>D002318|D005767</td>\n",
       "      <td>0</td>\n",
       "      <td>0.630163</td>\n",
       "      <td>1835291</td>\n",
       "    </tr>\n",
       "    <tr>\n",
       "      <th>121</th>\n",
       "      <td>D009241</td>\n",
       "      <td>D029424</td>\n",
       "      <td>0</td>\n",
       "      <td>0.185582</td>\n",
       "      <td>1835291</td>\n",
       "    </tr>\n",
       "    <tr>\n",
       "      <th>122</th>\n",
       "      <td>D013806</td>\n",
       "      <td>D002318|D005767</td>\n",
       "      <td>1</td>\n",
       "      <td>0.600397</td>\n",
       "      <td>1835291</td>\n",
       "    </tr>\n",
       "    <tr>\n",
       "      <th>123</th>\n",
       "      <td>D013806</td>\n",
       "      <td>D029424</td>\n",
       "      <td>0</td>\n",
       "      <td>0.000000</td>\n",
       "      <td>1835291</td>\n",
       "    </tr>\n",
       "    <tr>\n",
       "      <th>24</th>\n",
       "      <td>C017367</td>\n",
       "      <td>D001927</td>\n",
       "      <td>0</td>\n",
       "      <td>0.425580</td>\n",
       "      <td>2096243</td>\n",
       "    </tr>\n",
       "    <tr>\n",
       "      <th>124</th>\n",
       "      <td>C017367</td>\n",
       "      <td>D010554</td>\n",
       "      <td>0</td>\n",
       "      <td>0.204578</td>\n",
       "      <td>2096243</td>\n",
       "    </tr>\n",
       "    <tr>\n",
       "      <th>5</th>\n",
       "      <td>C017367</td>\n",
       "      <td>D019965</td>\n",
       "      <td>1</td>\n",
       "      <td>1.000000</td>\n",
       "      <td>2096243</td>\n",
       "    </tr>\n",
       "    <tr>\n",
       "      <th>6</th>\n",
       "      <td>C017367</td>\n",
       "      <td>D056784</td>\n",
       "      <td>1</td>\n",
       "      <td>1.000000</td>\n",
       "      <td>2096243</td>\n",
       "    </tr>\n",
       "    <tr>\n",
       "      <th>126</th>\n",
       "      <td>C009265</td>\n",
       "      <td>D001523</td>\n",
       "      <td>0</td>\n",
       "      <td>0.792812</td>\n",
       "      <td>2265898</td>\n",
       "    </tr>\n",
       "    <tr>\n",
       "      <th>25</th>\n",
       "      <td>C009265</td>\n",
       "      <td>D004827</td>\n",
       "      <td>1</td>\n",
       "      <td>1.000000</td>\n",
       "      <td>2265898</td>\n",
       "    </tr>\n",
       "    <tr>\n",
       "      <th>...</th>\n",
       "      <td>...</td>\n",
       "      <td>...</td>\n",
       "      <td>...</td>\n",
       "      <td>...</td>\n",
       "      <td>...</td>\n",
       "    </tr>\n",
       "    <tr>\n",
       "      <th>90</th>\n",
       "      <td>D020849</td>\n",
       "      <td>D001851</td>\n",
       "      <td>0</td>\n",
       "      <td>0.000000</td>\n",
       "      <td>16167916</td>\n",
       "    </tr>\n",
       "    <tr>\n",
       "      <th>91</th>\n",
       "      <td>D020849</td>\n",
       "      <td>D010024</td>\n",
       "      <td>0</td>\n",
       "      <td>0.000000</td>\n",
       "      <td>16167916</td>\n",
       "    </tr>\n",
       "    <tr>\n",
       "      <th>193</th>\n",
       "      <td>D020849</td>\n",
       "      <td>D054556</td>\n",
       "      <td>1</td>\n",
       "      <td>1.000000</td>\n",
       "      <td>16167916</td>\n",
       "    </tr>\n",
       "    <tr>\n",
       "      <th>92</th>\n",
       "      <td>D010862</td>\n",
       "      <td>D003643</td>\n",
       "      <td>0</td>\n",
       "      <td>0.000000</td>\n",
       "      <td>16337777</td>\n",
       "    </tr>\n",
       "    <tr>\n",
       "      <th>93</th>\n",
       "      <td>D010862</td>\n",
       "      <td>D004827</td>\n",
       "      <td>0</td>\n",
       "      <td>1.000000</td>\n",
       "      <td>16337777</td>\n",
       "    </tr>\n",
       "    <tr>\n",
       "      <th>195</th>\n",
       "      <td>D010862</td>\n",
       "      <td>D004833</td>\n",
       "      <td>1</td>\n",
       "      <td>0.410119</td>\n",
       "      <td>16337777</td>\n",
       "    </tr>\n",
       "    <tr>\n",
       "      <th>196</th>\n",
       "      <td>D010862</td>\n",
       "      <td>D013226</td>\n",
       "      <td>0</td>\n",
       "      <td>0.195653</td>\n",
       "      <td>16337777</td>\n",
       "    </tr>\n",
       "    <tr>\n",
       "      <th>94</th>\n",
       "      <td>D010862</td>\n",
       "      <td>D028361</td>\n",
       "      <td>0</td>\n",
       "      <td>0.221342</td>\n",
       "      <td>16337777</td>\n",
       "    </tr>\n",
       "    <tr>\n",
       "      <th>95</th>\n",
       "      <td>D008727</td>\n",
       "      <td>D009135</td>\n",
       "      <td>0</td>\n",
       "      <td>0.188282</td>\n",
       "      <td>17241784</td>\n",
       "    </tr>\n",
       "    <tr>\n",
       "      <th>96</th>\n",
       "      <td>D008727</td>\n",
       "      <td>D009336</td>\n",
       "      <td>0</td>\n",
       "      <td>0.000000</td>\n",
       "      <td>17241784</td>\n",
       "    </tr>\n",
       "    <tr>\n",
       "      <th>97</th>\n",
       "      <td>D011239</td>\n",
       "      <td>D009135</td>\n",
       "      <td>0</td>\n",
       "      <td>0.183570</td>\n",
       "      <td>17241784</td>\n",
       "    </tr>\n",
       "    <tr>\n",
       "      <th>98</th>\n",
       "      <td>D011239</td>\n",
       "      <td>D009336</td>\n",
       "      <td>0</td>\n",
       "      <td>0.230081</td>\n",
       "      <td>17241784</td>\n",
       "    </tr>\n",
       "    <tr>\n",
       "      <th>2</th>\n",
       "      <td>D019821</td>\n",
       "      <td>D009135</td>\n",
       "      <td>1</td>\n",
       "      <td>1.000000</td>\n",
       "      <td>17241784</td>\n",
       "    </tr>\n",
       "    <tr>\n",
       "      <th>99</th>\n",
       "      <td>D019821</td>\n",
       "      <td>D009336</td>\n",
       "      <td>1</td>\n",
       "      <td>0.596415</td>\n",
       "      <td>17241784</td>\n",
       "    </tr>\n",
       "    <tr>\n",
       "      <th>100</th>\n",
       "      <td>D003000</td>\n",
       "      <td>D001145</td>\n",
       "      <td>0</td>\n",
       "      <td>0.000000</td>\n",
       "      <td>17261653</td>\n",
       "    </tr>\n",
       "    <tr>\n",
       "      <th>12</th>\n",
       "      <td>D003000</td>\n",
       "      <td>D001919</td>\n",
       "      <td>1</td>\n",
       "      <td>1.000000</td>\n",
       "      <td>17261653</td>\n",
       "    </tr>\n",
       "    <tr>\n",
       "      <th>101</th>\n",
       "      <td>D003000</td>\n",
       "      <td>D002318</td>\n",
       "      <td>0</td>\n",
       "      <td>0.000000</td>\n",
       "      <td>17261653</td>\n",
       "    </tr>\n",
       "    <tr>\n",
       "      <th>102</th>\n",
       "      <td>D003000</td>\n",
       "      <td>D003327</td>\n",
       "      <td>0</td>\n",
       "      <td>0.000000</td>\n",
       "      <td>17261653</td>\n",
       "    </tr>\n",
       "    <tr>\n",
       "      <th>103</th>\n",
       "      <td>D003000</td>\n",
       "      <td>D006333</td>\n",
       "      <td>0</td>\n",
       "      <td>0.000000</td>\n",
       "      <td>17261653</td>\n",
       "    </tr>\n",
       "    <tr>\n",
       "      <th>104</th>\n",
       "      <td>D009712</td>\n",
       "      <td>D001145</td>\n",
       "      <td>0</td>\n",
       "      <td>0.000000</td>\n",
       "      <td>17261653</td>\n",
       "    </tr>\n",
       "    <tr>\n",
       "      <th>105</th>\n",
       "      <td>D009712</td>\n",
       "      <td>D001919</td>\n",
       "      <td>0</td>\n",
       "      <td>0.000000</td>\n",
       "      <td>17261653</td>\n",
       "    </tr>\n",
       "    <tr>\n",
       "      <th>106</th>\n",
       "      <td>D009712</td>\n",
       "      <td>D002318</td>\n",
       "      <td>0</td>\n",
       "      <td>0.169507</td>\n",
       "      <td>17261653</td>\n",
       "    </tr>\n",
       "    <tr>\n",
       "      <th>107</th>\n",
       "      <td>D009712</td>\n",
       "      <td>D003327</td>\n",
       "      <td>0</td>\n",
       "      <td>0.000000</td>\n",
       "      <td>17261653</td>\n",
       "    </tr>\n",
       "    <tr>\n",
       "      <th>108</th>\n",
       "      <td>D009712</td>\n",
       "      <td>D006333</td>\n",
       "      <td>0</td>\n",
       "      <td>0.000000</td>\n",
       "      <td>17261653</td>\n",
       "    </tr>\n",
       "    <tr>\n",
       "      <th>198</th>\n",
       "      <td>D006493</td>\n",
       "      <td>D003288</td>\n",
       "      <td>1</td>\n",
       "      <td>1.000000</td>\n",
       "      <td>17931375</td>\n",
       "    </tr>\n",
       "    <tr>\n",
       "      <th>199</th>\n",
       "      <td>D006493</td>\n",
       "      <td>D010146</td>\n",
       "      <td>1</td>\n",
       "      <td>1.000000</td>\n",
       "      <td>17931375</td>\n",
       "    </tr>\n",
       "    <tr>\n",
       "      <th>109</th>\n",
       "      <td>D020123</td>\n",
       "      <td>D005921</td>\n",
       "      <td>0</td>\n",
       "      <td>0.198886</td>\n",
       "      <td>18631865</td>\n",
       "    </tr>\n",
       "    <tr>\n",
       "      <th>200</th>\n",
       "      <td>D020123</td>\n",
       "      <td>D011507</td>\n",
       "      <td>1</td>\n",
       "      <td>0.818046</td>\n",
       "      <td>18631865</td>\n",
       "    </tr>\n",
       "    <tr>\n",
       "      <th>201</th>\n",
       "      <td>D020123</td>\n",
       "      <td>D051436</td>\n",
       "      <td>0</td>\n",
       "      <td>0.212859</td>\n",
       "      <td>18631865</td>\n",
       "    </tr>\n",
       "    <tr>\n",
       "      <th>3</th>\n",
       "      <td>D002211</td>\n",
       "      <td>D010146</td>\n",
       "      <td>1</td>\n",
       "      <td>1.000000</td>\n",
       "      <td>19269743</td>\n",
       "    </tr>\n",
       "  </tbody>\n",
       "</table>\n",
       "<p>188 rows × 5 columns</p>\n",
       "</div>"
      ],
      "text/plain": [
       "    chemical_id       disease_id  in_gold  norm_conf_score      pmid\n",
       "110     D002512          D007674        0         0.815789   1130930\n",
       "111     D002512          D007683        1         0.831219   1130930\n",
       "112     D002512  D009846|D051437        1         0.818547   1130930\n",
       "14      D002512          D051437        0         0.195645   1130930\n",
       "15      D005839          D007674        0         1.000000   1130930\n",
       "114     D005839          D007683        1         1.000000   1130930\n",
       "115     D005839  D009846|D051437        1         1.000000   1130930\n",
       "16      D005839          D051437        0         0.189596   1130930\n",
       "17      D003404          D005921        0         0.000000   1378968\n",
       "18      D003404          D006973        0         0.000000   1378968\n",
       "19      D003404          D007674        0         0.195649   1378968\n",
       "20      D003404          D007676        0         0.000000   1378968\n",
       "21      D003404          D011507        0         0.000000   1378968\n",
       "116     D003404          D051437        0         0.000000   1378968\n",
       "117     D008094          D005921        0         0.000000   1378968\n",
       "118     D008094          D006973        1         1.000000   1378968\n",
       "11      D008094          D007674        0         1.000000   1378968\n",
       "4       D008094          D007676        1         1.000000   1378968\n",
       "119     D008094          D011507        1         1.000000   1378968\n",
       "120     D008094          D051437        0         0.571182   1378968\n",
       "23      D009241  D002318|D005767        0         0.630163   1835291\n",
       "121     D009241          D029424        0         0.185582   1835291\n",
       "122     D013806  D002318|D005767        1         0.600397   1835291\n",
       "123     D013806          D029424        0         0.000000   1835291\n",
       "24      C017367          D001927        0         0.425580   2096243\n",
       "124     C017367          D010554        0         0.204578   2096243\n",
       "5       C017367          D019965        1         1.000000   2096243\n",
       "6       C017367          D056784        1         1.000000   2096243\n",
       "126     C009265          D001523        0         0.792812   2265898\n",
       "25      C009265          D004827        1         1.000000   2265898\n",
       "..          ...              ...      ...              ...       ...\n",
       "90      D020849          D001851        0         0.000000  16167916\n",
       "91      D020849          D010024        0         0.000000  16167916\n",
       "193     D020849          D054556        1         1.000000  16167916\n",
       "92      D010862          D003643        0         0.000000  16337777\n",
       "93      D010862          D004827        0         1.000000  16337777\n",
       "195     D010862          D004833        1         0.410119  16337777\n",
       "196     D010862          D013226        0         0.195653  16337777\n",
       "94      D010862          D028361        0         0.221342  16337777\n",
       "95      D008727          D009135        0         0.188282  17241784\n",
       "96      D008727          D009336        0         0.000000  17241784\n",
       "97      D011239          D009135        0         0.183570  17241784\n",
       "98      D011239          D009336        0         0.230081  17241784\n",
       "2       D019821          D009135        1         1.000000  17241784\n",
       "99      D019821          D009336        1         0.596415  17241784\n",
       "100     D003000          D001145        0         0.000000  17261653\n",
       "12      D003000          D001919        1         1.000000  17261653\n",
       "101     D003000          D002318        0         0.000000  17261653\n",
       "102     D003000          D003327        0         0.000000  17261653\n",
       "103     D003000          D006333        0         0.000000  17261653\n",
       "104     D009712          D001145        0         0.000000  17261653\n",
       "105     D009712          D001919        0         0.000000  17261653\n",
       "106     D009712          D002318        0         0.169507  17261653\n",
       "107     D009712          D003327        0         0.000000  17261653\n",
       "108     D009712          D006333        0         0.000000  17261653\n",
       "198     D006493          D003288        1         1.000000  17931375\n",
       "199     D006493          D010146        1         1.000000  17931375\n",
       "109     D020123          D005921        0         0.198886  18631865\n",
       "200     D020123          D011507        1         0.818046  18631865\n",
       "201     D020123          D051436        0         0.212859  18631865\n",
       "3       D002211          D010146        1         1.000000  19269743\n",
       "\n",
       "[188 rows x 5 columns]"
      ]
     },
     "execution_count": 53,
     "metadata": {},
     "output_type": "execute_result"
    }
   ],
   "source": [
    "total_res"
   ]
  },
  {
   "cell_type": "markdown",
   "metadata": {},
   "source": [
    "##Results for all 30 abstracts of the testset with aggregated results from the sentence and abstract level tasks, including the CID relations"
   ]
  },
  {
   "cell_type": "code",
   "execution_count": 54,
   "metadata": {
    "collapsed": false
   },
   "outputs": [
    {
     "data": {
      "text/plain": [
       "F_score      0.830769\n",
       "precision    0.805970\n",
       "recall       0.857143\n",
       "threshold    0.810811\n",
       "Name: 31, dtype: float64"
      ]
     },
     "execution_count": 54,
     "metadata": {},
     "output_type": "execute_result"
    }
   ],
   "source": [
    "max_F_score(\"norm_conf_score\", \"in_gold\", total_res)"
   ]
  },
  {
   "cell_type": "code",
   "execution_count": 55,
   "metadata": {
    "collapsed": false
   },
   "outputs": [
    {
     "data": {
      "image/png": "[encoded data removed]",
      "text/plain": [
       "<matplotlib.figure.Figure at 0x7f996c7acc90>"
      ]
     },
     "metadata": {},
     "output_type": "display_data"
    }
   ],
   "source": [
    "plot_results(\"norm_conf_score\", \"in_gold\", total_res)"
   ]
  },
  {
   "cell_type": "code",
   "execution_count": 56,
   "metadata": {
    "collapsed": false
   },
   "outputs": [
    {
     "data": {
      "text/plain": [
       "0.9254603174603173"
      ]
     },
     "execution_count": 56,
     "metadata": {},
     "output_type": "execute_result"
    }
   ],
   "source": [
    "fname = \"data/roc/testset_final_results.png\"\n",
    "title = \"ROC for 30 abstracts, combined results of abstract, sentence, and CID relations\"\n",
    "get_AUC_value(total_res, \"norm_conf_score\", \"in_gold\", fname, title)"
   ]
  },
  {
   "cell_type": "code",
   "execution_count": 57,
   "metadata": {
    "collapsed": false
   },
   "outputs": [
    {
     "data": {
      "image/png": "[encoded data removed]",
      "text/plain": [
       "<IPython.core.display.Image object>"
      ]
     },
     "execution_count": 57,
     "metadata": {},
     "output_type": "execute_result"
    }
   ],
   "source": [
    "Image(fname)"
   ]
  },
  {
   "cell_type": "markdown",
   "metadata": {},
   "source": [
    "---"
   ]
  },
  {
   "cell_type": "markdown",
   "metadata": {},
   "source": [
    "###Result aggregation using majority voting:\n",
    "\n",
    "We can also aggregate the results using majority voting, and using logical OR to determine if the relation is true at the abstract level. This method does not perform as well as the other evaluation scheme."
   ]
  },
  {
   "cell_type": "markdown",
   "metadata": {},
   "source": [
    "#Rewrite the missing analysis with the old method"
   ]
  },
  {
   "cell_type": "code",
   "execution_count": 37,
   "metadata": {
    "collapsed": false
   },
   "outputs": [
    {
     "name": "stdout",
     "output_type": "stream",
     "text": [
      "true pos 40\n",
      "true neg 27\n",
      "false pos 25\n",
      "false neg 1\n",
      "\n",
      "precision 0.615384615385\n",
      "recall 0.975609756098\n",
      "F score 0.754716981132\n"
     ]
    }
   ],
   "source": [
    "perf_statistics(abs_perf_yes)"
   ]
  },
  {
   "cell_type": "code",
   "execution_count": 38,
   "metadata": {
    "collapsed": false
   },
   "outputs": [
    {
     "name": "stdout",
     "output_type": "stream",
     "text": [
      "true pos 39\n",
      "true neg 32\n",
      "false pos 20\n",
      "false neg 2\n",
      "\n",
      "precision 0.661016949153\n",
      "recall 0.951219512195\n",
      "F score 0.78\n"
     ]
    }
   ],
   "source": [
    "perf_statistics(abs_perf_no)"
   ]
  },
  {
   "cell_type": "markdown",
   "metadata": {},
   "source": [
    "---"
   ]
  },
  {
   "cell_type": "markdown",
   "metadata": {},
   "source": [
    "#Test to see if giving crowd the ability to vote on the NER is going to improve performance\n",
    "\n",
    "For example, on work unit 759110650, the \"disease\" highlighted is \"convulsants\", which is given in the gold as MeSH:D012640, which in MeSH is \"seizures\". The crowd chose \"yes direct\" relationship, but in reality convulsants isn't being used as a disease here. This was a false positive in our results, but an error in the NER. At the moment we have no ability to detect NER errors, and is required by hand.\n",
    "\n",
    "The crowd should probably be reasonable at detecting NER problems though, especially if I give them the meaning of the specific mesh id that the highlighted text is supposed to be.\n",
    "\n",
    "\n",
    ">Read this sentence. We think the highlighted term means \"mesh id name\", and that it is a disease/chemical. Does this sound correct based on the context of the sentence? yes/no answer"
   ]
  }
 ],
 "metadata": {
  "kernelspec": {
   "display_name": "Python 2",
   "language": "python",
   "name": "python2"
  },
  "language_info": {
   "codemirror_mode": {
    "name": "ipython",
    "version": 2
   },
   "file_extension": ".py",
   "mimetype": "text/x-python",
   "name": "python",
   "nbconvert_exporter": "python",
   "pygments_lexer": "ipython2",
   "version": "2.7.10"
  }
 },
 "nbformat": 4,
 "nbformat_minor": 0
}
