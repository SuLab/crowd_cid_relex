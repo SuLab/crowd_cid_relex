{
 "cells": [
  {
   "cell_type": "markdown",
   "metadata": {},
   "source": [
    "# Analysis of CrowdFlower Job 743229: determing drug induced disease relationships from a full abstract"
   ]
  },
  {
   "cell_type": "markdown",
   "metadata": {},
   "source": [
    "2015-06-18 Tong Shu Li"
   ]
  },
  {
   "cell_type": "markdown",
   "metadata": {},
   "source": [
    "CrowdFlower job 743229 was launched at 5:15 pm on Thursday 18 June 2015 and completed at 6:24 pm. 5 Rows of data were shown per page, with 5 judgements/row. Payment was 50 cents per page. Level 2 contributors were requested, and had to maintain a 70% accuracy minimum on 10 test questions while spending at least 30 seconds per page of work."
   ]
  },
  {
   "cell_type": "code",
   "execution_count": 1,
   "metadata": {
    "collapsed": true
   },
   "outputs": [],
   "source": [
    "from collections import Counter\n",
    "from collections import defaultdict\n",
    "import pandas as pd"
   ]
  },
  {
   "cell_type": "code",
   "execution_count": 2,
   "metadata": {
    "collapsed": true
   },
   "outputs": [],
   "source": [
    "from src.filter_data import filter_data"
   ]
  },
  {
   "cell_type": "code",
   "execution_count": 3,
   "metadata": {
    "collapsed": true
   },
   "outputs": [],
   "source": [
    "settings = {\n",
    "    \"loc\": \"data/crowdflower\",\n",
    "    \"fname\": \"job_743229_full_results.csv\",\n",
    "    \"data_subset\": \"normal\",\n",
    "    \"min_accuracy\": 0.7,\n",
    "    \"max_accuracy\": 1.0\n",
    "}"
   ]
  },
  {
   "cell_type": "code",
   "execution_count": 4,
   "metadata": {
    "collapsed": true
   },
   "outputs": [],
   "source": [
    "raw_data = filter_data(settings)"
   ]
  },
  {
   "cell_type": "code",
   "execution_count": 5,
   "metadata": {
    "collapsed": false
   },
   "outputs": [
    {
     "data": {
      "text/plain": [
       "255"
      ]
     },
     "execution_count": 5,
     "metadata": {},
     "output_type": "execute_result"
    }
   ],
   "source": [
    "len(raw_data)"
   ]
  },
  {
   "cell_type": "code",
   "execution_count": 6,
   "metadata": {
    "collapsed": false
   },
   "outputs": [
    {
     "data": {
      "text/html": [
       "<div style=\"max-height:1000px;max-width:1500px;overflow:auto;\">\n",
       "<table border=\"1\" class=\"dataframe\">\n",
       "  <thead>\n",
       "    <tr style=\"text-align: right;\">\n",
       "      <th></th>\n",
       "      <th>_unit_id</th>\n",
       "      <th>_created_at</th>\n",
       "      <th>_golden</th>\n",
       "      <th>_id</th>\n",
       "      <th>_missed</th>\n",
       "      <th>_started_at</th>\n",
       "      <th>_tainted</th>\n",
       "      <th>_channel</th>\n",
       "      <th>_trust</th>\n",
       "      <th>_worker_id</th>\n",
       "      <th>...</th>\n",
       "      <th>choice_2_ids</th>\n",
       "      <th>choice_2_label</th>\n",
       "      <th>choice_3_ids</th>\n",
       "      <th>choice_3_label</th>\n",
       "      <th>choice_4_ids</th>\n",
       "      <th>choice_4_label</th>\n",
       "      <th>form_abstract</th>\n",
       "      <th>form_title</th>\n",
       "      <th>pmid</th>\n",
       "      <th>uniq_id</th>\n",
       "    </tr>\n",
       "  </thead>\n",
       "  <tbody>\n",
       "    <tr>\n",
       "      <th>0</th>\n",
       "      <td>739660086</td>\n",
       "      <td>6/19/2015 00:30:20</td>\n",
       "      <td>False</td>\n",
       "      <td>1665411847</td>\n",
       "      <td>NaN</td>\n",
       "      <td>6/19/2015 00:29:42</td>\n",
       "      <td>False</td>\n",
       "      <td>neodev</td>\n",
       "      <td>0.8889</td>\n",
       "      <td>33203286</td>\n",
       "      <td>...</td>\n",
       "      <td>C063968_induces_D016171</td>\n",
       "      <td>&lt;span class=\"chemical\"&gt;E4031&lt;/span&gt; contribute...</td>\n",
       "      <td>C063968_induces_D017180</td>\n",
       "      <td>&lt;span class=\"chemical\"&gt;E4031&lt;/span&gt; contribute...</td>\n",
       "      <td>D016593_induces_D016171</td>\n",
       "      <td>&lt;span class=\"chemical\"&gt;terfenadine&lt;/span&gt; cont...</td>\n",
       "      <td>1. &lt;span class=\"disease\"&gt;Torsades de pointes&lt;/...</td>\n",
       "      <td>Pharmacokinetic/pharmacodynamic assessment of ...</td>\n",
       "      <td>11569530</td>\n",
       "      <td>bcv_id_0</td>\n",
       "    </tr>\n",
       "    <tr>\n",
       "      <th>1</th>\n",
       "      <td>739660086</td>\n",
       "      <td>6/19/2015 00:31:30</td>\n",
       "      <td>False</td>\n",
       "      <td>1665412995</td>\n",
       "      <td>NaN</td>\n",
       "      <td>6/19/2015 00:30:39</td>\n",
       "      <td>False</td>\n",
       "      <td>elite</td>\n",
       "      <td>0.7778</td>\n",
       "      <td>28769627</td>\n",
       "      <td>...</td>\n",
       "      <td>C063968_induces_D016171</td>\n",
       "      <td>&lt;span class=\"chemical\"&gt;E4031&lt;/span&gt; contribute...</td>\n",
       "      <td>C063968_induces_D017180</td>\n",
       "      <td>&lt;span class=\"chemical\"&gt;E4031&lt;/span&gt; contribute...</td>\n",
       "      <td>D016593_induces_D016171</td>\n",
       "      <td>&lt;span class=\"chemical\"&gt;terfenadine&lt;/span&gt; cont...</td>\n",
       "      <td>1. &lt;span class=\"disease\"&gt;Torsades de pointes&lt;/...</td>\n",
       "      <td>Pharmacokinetic/pharmacodynamic assessment of ...</td>\n",
       "      <td>11569530</td>\n",
       "      <td>bcv_id_0</td>\n",
       "    </tr>\n",
       "    <tr>\n",
       "      <th>2</th>\n",
       "      <td>739660086</td>\n",
       "      <td>6/19/2015 00:37:16</td>\n",
       "      <td>False</td>\n",
       "      <td>1665418608</td>\n",
       "      <td>NaN</td>\n",
       "      <td>6/19/2015 00:30:23</td>\n",
       "      <td>False</td>\n",
       "      <td>clixsense</td>\n",
       "      <td>0.8750</td>\n",
       "      <td>31178177</td>\n",
       "      <td>...</td>\n",
       "      <td>C063968_induces_D016171</td>\n",
       "      <td>&lt;span class=\"chemical\"&gt;E4031&lt;/span&gt; contribute...</td>\n",
       "      <td>C063968_induces_D017180</td>\n",
       "      <td>&lt;span class=\"chemical\"&gt;E4031&lt;/span&gt; contribute...</td>\n",
       "      <td>D016593_induces_D016171</td>\n",
       "      <td>&lt;span class=\"chemical\"&gt;terfenadine&lt;/span&gt; cont...</td>\n",
       "      <td>1. &lt;span class=\"disease\"&gt;Torsades de pointes&lt;/...</td>\n",
       "      <td>Pharmacokinetic/pharmacodynamic assessment of ...</td>\n",
       "      <td>11569530</td>\n",
       "      <td>bcv_id_0</td>\n",
       "    </tr>\n",
       "    <tr>\n",
       "      <th>3</th>\n",
       "      <td>739660086</td>\n",
       "      <td>6/19/2015 00:39:37</td>\n",
       "      <td>False</td>\n",
       "      <td>1665420942</td>\n",
       "      <td>NaN</td>\n",
       "      <td>6/19/2015 00:30:32</td>\n",
       "      <td>False</td>\n",
       "      <td>neodev</td>\n",
       "      <td>1.0000</td>\n",
       "      <td>29150840</td>\n",
       "      <td>...</td>\n",
       "      <td>C063968_induces_D016171</td>\n",
       "      <td>&lt;span class=\"chemical\"&gt;E4031&lt;/span&gt; contribute...</td>\n",
       "      <td>C063968_induces_D017180</td>\n",
       "      <td>&lt;span class=\"chemical\"&gt;E4031&lt;/span&gt; contribute...</td>\n",
       "      <td>D016593_induces_D016171</td>\n",
       "      <td>&lt;span class=\"chemical\"&gt;terfenadine&lt;/span&gt; cont...</td>\n",
       "      <td>1. &lt;span class=\"disease\"&gt;Torsades de pointes&lt;/...</td>\n",
       "      <td>Pharmacokinetic/pharmacodynamic assessment of ...</td>\n",
       "      <td>11569530</td>\n",
       "      <td>bcv_id_0</td>\n",
       "    </tr>\n",
       "    <tr>\n",
       "      <th>4</th>\n",
       "      <td>739660086</td>\n",
       "      <td>6/19/2015 00:43:00</td>\n",
       "      <td>False</td>\n",
       "      <td>1665424014</td>\n",
       "      <td>NaN</td>\n",
       "      <td>6/19/2015 00:30:35</td>\n",
       "      <td>False</td>\n",
       "      <td>clixsense</td>\n",
       "      <td>0.8333</td>\n",
       "      <td>27026688</td>\n",
       "      <td>...</td>\n",
       "      <td>C063968_induces_D016171</td>\n",
       "      <td>&lt;span class=\"chemical\"&gt;E4031&lt;/span&gt; contribute...</td>\n",
       "      <td>C063968_induces_D017180</td>\n",
       "      <td>&lt;span class=\"chemical\"&gt;E4031&lt;/span&gt; contribute...</td>\n",
       "      <td>D016593_induces_D016171</td>\n",
       "      <td>&lt;span class=\"chemical\"&gt;terfenadine&lt;/span&gt; cont...</td>\n",
       "      <td>1. &lt;span class=\"disease\"&gt;Torsades de pointes&lt;/...</td>\n",
       "      <td>Pharmacokinetic/pharmacodynamic assessment of ...</td>\n",
       "      <td>11569530</td>\n",
       "      <td>bcv_id_0</td>\n",
       "    </tr>\n",
       "  </tbody>\n",
       "</table>\n",
       "<p>5 rows × 31 columns</p>\n",
       "</div>"
      ],
      "text/plain": [
       "    _unit_id         _created_at _golden         _id _missed  \\\n",
       "0  739660086  6/19/2015 00:30:20   False  1665411847     NaN   \n",
       "1  739660086  6/19/2015 00:31:30   False  1665412995     NaN   \n",
       "2  739660086  6/19/2015 00:37:16   False  1665418608     NaN   \n",
       "3  739660086  6/19/2015 00:39:37   False  1665420942     NaN   \n",
       "4  739660086  6/19/2015 00:43:00   False  1665424014     NaN   \n",
       "\n",
       "          _started_at _tainted   _channel  _trust  _worker_id    ...     \\\n",
       "0  6/19/2015 00:29:42    False     neodev  0.8889    33203286    ...      \n",
       "1  6/19/2015 00:30:39    False      elite  0.7778    28769627    ...      \n",
       "2  6/19/2015 00:30:23    False  clixsense  0.8750    31178177    ...      \n",
       "3  6/19/2015 00:30:32    False     neodev  1.0000    29150840    ...      \n",
       "4  6/19/2015 00:30:35    False  clixsense  0.8333    27026688    ...      \n",
       "\n",
       "              choice_2_ids                                     choice_2_label  \\\n",
       "0  C063968_induces_D016171  <span class=\"chemical\">E4031</span> contribute...   \n",
       "1  C063968_induces_D016171  <span class=\"chemical\">E4031</span> contribute...   \n",
       "2  C063968_induces_D016171  <span class=\"chemical\">E4031</span> contribute...   \n",
       "3  C063968_induces_D016171  <span class=\"chemical\">E4031</span> contribute...   \n",
       "4  C063968_induces_D016171  <span class=\"chemical\">E4031</span> contribute...   \n",
       "\n",
       "              choice_3_ids                                     choice_3_label  \\\n",
       "0  C063968_induces_D017180  <span class=\"chemical\">E4031</span> contribute...   \n",
       "1  C063968_induces_D017180  <span class=\"chemical\">E4031</span> contribute...   \n",
       "2  C063968_induces_D017180  <span class=\"chemical\">E4031</span> contribute...   \n",
       "3  C063968_induces_D017180  <span class=\"chemical\">E4031</span> contribute...   \n",
       "4  C063968_induces_D017180  <span class=\"chemical\">E4031</span> contribute...   \n",
       "\n",
       "              choice_4_ids                                     choice_4_label  \\\n",
       "0  D016593_induces_D016171  <span class=\"chemical\">terfenadine</span> cont...   \n",
       "1  D016593_induces_D016171  <span class=\"chemical\">terfenadine</span> cont...   \n",
       "2  D016593_induces_D016171  <span class=\"chemical\">terfenadine</span> cont...   \n",
       "3  D016593_induces_D016171  <span class=\"chemical\">terfenadine</span> cont...   \n",
       "4  D016593_induces_D016171  <span class=\"chemical\">terfenadine</span> cont...   \n",
       "\n",
       "                                       form_abstract  \\\n",
       "0  1. <span class=\"disease\">Torsades de pointes</...   \n",
       "1  1. <span class=\"disease\">Torsades de pointes</...   \n",
       "2  1. <span class=\"disease\">Torsades de pointes</...   \n",
       "3  1. <span class=\"disease\">Torsades de pointes</...   \n",
       "4  1. <span class=\"disease\">Torsades de pointes</...   \n",
       "\n",
       "                                          form_title      pmid   uniq_id  \n",
       "0  Pharmacokinetic/pharmacodynamic assessment of ...  11569530  bcv_id_0  \n",
       "1  Pharmacokinetic/pharmacodynamic assessment of ...  11569530  bcv_id_0  \n",
       "2  Pharmacokinetic/pharmacodynamic assessment of ...  11569530  bcv_id_0  \n",
       "3  Pharmacokinetic/pharmacodynamic assessment of ...  11569530  bcv_id_0  \n",
       "4  Pharmacokinetic/pharmacodynamic assessment of ...  11569530  bcv_id_0  \n",
       "\n",
       "[5 rows x 31 columns]"
      ]
     },
     "execution_count": 6,
     "metadata": {},
     "output_type": "execute_result"
    }
   ],
   "source": [
    "raw_data.head()"
   ]
  },
  {
   "cell_type": "code",
   "execution_count": 7,
   "metadata": {
    "collapsed": false
   },
   "outputs": [
    {
     "data": {
      "text/plain": [
       "['_unit_id',\n",
       " '_created_at',\n",
       " '_golden',\n",
       " '_id',\n",
       " '_missed',\n",
       " '_started_at',\n",
       " '_tainted',\n",
       " '_channel',\n",
       " '_trust',\n",
       " '_worker_id',\n",
       " '_country',\n",
       " '_region',\n",
       " '_city',\n",
       " '_ip',\n",
       " 'chemical_disease_relationships',\n",
       " 'comment_box',\n",
       " 'chemical_disease_relationships_gold',\n",
       " 'choice_0_ids',\n",
       " 'choice_0_label',\n",
       " 'choice_1_ids',\n",
       " 'choice_1_label',\n",
       " 'choice_2_ids',\n",
       " 'choice_2_label',\n",
       " 'choice_3_ids',\n",
       " 'choice_3_label',\n",
       " 'choice_4_ids',\n",
       " 'choice_4_label',\n",
       " 'form_abstract',\n",
       " 'form_title',\n",
       " 'pmid',\n",
       " 'uniq_id']"
      ]
     },
     "execution_count": 7,
     "metadata": {},
     "output_type": "execute_result"
    }
   ],
   "source": [
    "list(raw_data.columns.values)"
   ]
  },
  {
   "cell_type": "markdown",
   "metadata": {},
   "source": [
    "### A cursory glance at the data showed that there were some cheaters and bots"
   ]
  },
  {
   "cell_type": "markdown",
   "metadata": {},
   "source": [
    "Let's look at the individual responses in depth to see if there were any that didn't make any logical sense considering the problem description.\n",
    "\n",
    "Specifically, we will see if any answers:\n",
    "1. Chose \"none of the choices are correct\" and also chose other choices.\n",
    "2. Chose any choice that was marked as empty when I specifically stated not to click those choices."
   ]
  },
  {
   "cell_type": "code",
   "execution_count": 8,
   "metadata": {
    "collapsed": true
   },
   "outputs": [],
   "source": [
    "def answer_distribution(worker_id):\n",
    "    \"\"\"\n",
    "    Examine the answer distribution for this worker.\n",
    "    \"\"\"\n",
    "    responses = raw_data.query(\"_worker_id == {0}\".format(worker_id))\n",
    "    print \"Worker {0} made {1} judgements total\".format(worker_id, len(responses))\n",
    "    \n",
    "    distribution = Counter(responses[\"chemical_disease_relationships\"])\n",
    "    print \"Worker answer distribution:\"\n",
    "    print distribution\n",
    "    print"
   ]
  },
  {
   "cell_type": "markdown",
   "metadata": {},
   "source": [
    "### A look at the answer distributions for all workers shows that most people performed the task properly, as in their answer distributions follow no discernable pattern"
   ]
  },
  {
   "cell_type": "code",
   "execution_count": 9,
   "metadata": {
    "collapsed": false,
    "scrolled": true
   },
   "outputs": [
    {
     "name": "stdout",
     "output_type": "stream",
     "text": [
      "Worker 33203286 made 16 judgements total\n",
      "Worker answer distribution:\n",
      "Counter({'choice_0\\nchoice_1\\nchoice_2\\nchoice_3\\nchoice_4\\nnone_are_true': 16})\n",
      "\n",
      "Worker 28769627 made 16 judgements total\n",
      "Worker answer distribution:\n",
      "Counter({'choice_0': 5, 'choice_0\\nchoice_1': 4, 'choice_0\\nchoice_1\\nchoice_2\\nchoice_3\\nchoice_4': 2, 'choice_0\\nchoice_2': 1, 'choice_0\\nchoice_2\\nchoice_4': 1, 'choice_0\\nchoice_3': 1, 'choice_0\\nchoice_1\\nchoice_2\\nchoice_3': 1, 'choice_1\\nchoice_2\\nchoice_3': 1})\n",
      "\n",
      "Worker 31178177 made 11 judgements total\n",
      "Worker answer distribution:\n",
      "Counter({'choice_0\\nchoice_1\\nchoice_2\\nchoice_3\\nchoice_4': 6, 'choice_0\\nchoice_1': 2, 'choice_0': 1, 'none_are_true': 1, 'choice_0\\nchoice_1\\nchoice_2': 1})\n",
      "\n",
      "Worker 29150840 made 4 judgements total\n",
      "Worker answer distribution:\n",
      "Counter({'choice_0\\nchoice_2\\nchoice_4': 1, 'choice_0\\nchoice_1\\nchoice_2\\nchoice_3': 1, 'choice_0': 1, 'none_are_true': 1})\n",
      "\n",
      "Worker 27026688 made 4 judgements total\n",
      "Worker answer distribution:\n",
      "Counter({'choice_0\\nchoice_2\\nchoice_4': 1, 'choice_0': 1, 'none_are_true': 1, 'choice_2': 1})\n",
      "\n",
      "Worker 32088050 made 20 judgements total\n",
      "Worker answer distribution:\n",
      "Counter({'choice_0\\nchoice_1\\nchoice_2\\nchoice_3\\nchoice_4\\nnone_are_true': 20})\n",
      "\n",
      "Worker 33078019 made 20 judgements total\n",
      "Worker answer distribution:\n",
      "Counter({'choice_0\\nchoice_1\\nchoice_2\\nchoice_3\\nchoice_4\\nnone_are_true': 12, 'choice_0\\nnone_are_true': 2, 'choice_0\\nchoice_1\\nchoice_2\\nnone_are_true': 2, 'choice_0\\nchoice_1\\nchoice_2\\nchoice_3\\nnone_are_true': 2, 'choice_0\\nchoice_1\\nnone_are_true': 2})\n",
      "\n",
      "Worker 32872588 made 4 judgements total\n",
      "Worker answer distribution:\n",
      "Counter({'choice_0\\nchoice_1\\nchoice_2': 2, 'choice_0\\nchoice_1\\nchoice_2\\nchoice_3\\nchoice_4': 1, 'choice_0\\nchoice_1': 1})\n",
      "\n",
      "Worker 32313654 made 4 judgements total\n",
      "Worker answer distribution:\n",
      "Counter({'choice_0\\nchoice_1\\nchoice_2': 2, 'choice_0\\nchoice_1': 1, 'choice_3': 1})\n",
      "\n",
      "Worker 27920569 made 11 judgements total\n",
      "Worker answer distribution:\n",
      "Counter({'choice_0': 3, 'choice_3': 2, 'choice_1\\nchoice_4': 1, 'choice_0\\nchoice_1\\nchoice_2\\nchoice_3': 1, 'choice_0\\nchoice_3': 1, 'choice_0\\nchoice_2': 1, 'choice_0\\nchoice_1': 1, 'choice_1': 1})\n",
      "\n",
      "Worker 31976201 made 7 judgements total\n",
      "Worker answer distribution:\n",
      "Counter({'choice_0\\nchoice_1\\nchoice_2\\nchoice_3\\nchoice_4': 3, 'choice_0': 2, 'choice_0\\nchoice_1': 1, 'choice_0\\nchoice_1\\nchoice_2': 1})\n",
      "\n",
      "Worker 31001914 made 3 judgements total\n",
      "Worker answer distribution:\n",
      "Counter({'choice_4': 1, 'choice_0\\nchoice_1': 1, 'choice_1': 1})\n",
      "\n",
      "Worker 31668998 made 7 judgements total\n",
      "Worker answer distribution:\n",
      "Counter({'choice_0': 2, 'none_are_true': 2, 'choice_1': 1, 'choice_2': 1, 'choice_3': 1})\n",
      "\n",
      "Worker 29794479 made 20 judgements total\n",
      "Worker answer distribution:\n",
      "Counter({'choice_0\\nnone_are_true': 5, 'choice_1\\nnone_are_true': 3, 'none_are_true': 2, 'choice_0\\nchoice_1': 2, 'choice_3\\nnone_are_true': 2, 'choice_0': 2, 'choice_4\\nnone_are_true': 1, 'choice_0\\nchoice_1\\nchoice_2': 1, 'choice_0\\nchoice_4': 1, 'choice_3': 1})\n",
      "\n",
      "Worker 31909029 made 20 judgements total\n",
      "Worker answer distribution:\n",
      "Counter({'choice_0\\nchoice_1\\nchoice_2\\nchoice_3\\nchoice_4': 9, 'choice_0': 5, 'choice_0\\nchoice_1\\nchoice_2\\nchoice_3': 2, 'none_are_true': 1, 'choice_0\\nchoice_1\\nchoice_2': 1, 'choice_0\\nchoice_1': 1, 'choice_1': 1})\n",
      "\n",
      "Worker 19074389 made 4 judgements total\n",
      "Worker answer distribution:\n",
      "Counter({'choice_0\\nchoice_1\\nchoice_2\\nchoice_3': 1, 'choice_0': 1, 'none_are_true': 1, 'choice_0\\nchoice_2\\nchoice_3': 1})\n",
      "\n",
      "Worker 11000920 made 20 judgements total\n",
      "Worker answer distribution:\n",
      "Counter({'none_are_true': 9, 'choice_2': 3, 'choice_0': 2, 'choice_1': 2, 'choice_4': 1, 'choice_0\\nchoice_1': 1, 'choice_3': 1, 'choice_2\\nchoice_4': 1})\n",
      "\n",
      "Worker 32939905 made 8 judgements total\n",
      "Worker answer distribution:\n",
      "Counter({'choice_2': 3, 'none_are_true': 1, 'choice_4': 1, 'choice_0\\nchoice_1': 1, 'choice_1': 1, 'choice_3': 1})\n",
      "\n",
      "Worker 31421115 made 8 judgements total\n",
      "Worker answer distribution:\n",
      "Counter({'choice_1\\nchoice_2\\nchoice_3': 2, 'choice_1\\nchoice_3': 1, 'none_are_true': 1, 'choice_4': 1, 'choice_0\\nchoice_1': 1, 'choice_0': 1, 'choice_3\\nchoice_4': 1})\n",
      "\n",
      "Worker 16567674 made 12 judgements total\n",
      "Worker answer distribution:\n",
      "Counter({'choice_0': 5, 'none_are_true': 2, 'choice_0\\nchoice_3': 1, 'choice_1': 1, 'choice_2': 1, 'choice_3': 1, 'choice_2\\nchoice_4': 1})\n",
      "\n",
      "Worker 17839436 made 8 judgements total\n",
      "Worker answer distribution:\n",
      "Counter({'choice_0': 3, 'choice_1': 2, 'choice_4': 1, 'choice_2': 1, 'none_are_true': 1})\n",
      "\n",
      "Worker 29825265 made 4 judgements total\n",
      "Worker answer distribution:\n",
      "Counter({'choice_0': 2, 'choice_0\\nchoice_1': 1, 'choice_1\\nchoice_3': 1})\n",
      "\n",
      "Worker 33008010 made 4 judgements total\n",
      "Worker answer distribution:\n",
      "Counter({'choice_0': 2, 'choice_0\\nchoice_1\\nchoice_2\\nchoice_3': 1, 'none_are_true': 1})\n",
      "\n",
      "Worker 28175348 made 4 judgements total\n",
      "Worker answer distribution:\n",
      "Counter({'none_are_true': 3, 'choice_0': 1})\n",
      "\n",
      "Worker 32189412 made 4 judgements total\n",
      "Worker answer distribution:\n",
      "Counter({'none_are_true': 2, 'choice_2': 1, 'choice_1': 1})\n",
      "\n",
      "Worker 32337300 made 4 judgements total\n",
      "Worker answer distribution:\n",
      "Counter({'choice_0\\nchoice_1\\nchoice_2\\nchoice_3\\nchoice_4\\nnone_are_true': 4})\n",
      "\n",
      "Worker 31706962 made 4 judgements total\n",
      "Worker answer distribution:\n",
      "Counter({'choice_0\\nchoice_1\\nchoice_2\\nchoice_3\\nchoice_4\\nnone_are_true': 4})\n",
      "\n",
      "Worker 29269406 made 4 judgements total\n",
      "Worker answer distribution:\n",
      "Counter({'choice_0\\nchoice_1\\nchoice_2\\nchoice_3\\nchoice_4': 1, 'choice_0\\nchoice_1\\nchoice_2\\nchoice_3\\nchoice_4\\nnone_are_true': 1, 'choice_0\\nchoice_1\\nnone_are_true': 1, 'choice_0\\nchoice_1\\nchoice_2': 1})\n",
      "\n"
     ]
    }
   ],
   "source": [
    "for worker_id in raw_data[\"_worker_id\"].unique():\n",
    "    answer_distribution(worker_id)"
   ]
  },
  {
   "cell_type": "markdown",
   "metadata": {},
   "source": [
    "### Now we will scan the data and look for odd responses:"
   ]
  },
  {
   "cell_type": "code",
   "execution_count": 10,
   "metadata": {
    "collapsed": false
   },
   "outputs": [],
   "source": [
    "bad_responses = set()\n",
    "\n",
    "for idx, row in raw_data.iterrows():\n",
    "    unit_id = row[\"_unit_id\"]\n",
    "    worker_id = row[\"_worker_id\"]\n",
    "    \n",
    "    response = row[\"chemical_disease_relationships\"].split('\\n')\n",
    "    \n",
    "    # if none are true, then it should be the only choice..\n",
    "    if \"none_are_true\" in response and len(response) > 1:\n",
    "        bad_responses.add((unit_id, worker_id))\n",
    "        \n",
    "    for i in range(5):\n",
    "        column = \"choice_{0}_ids\".format(i)\n",
    "        if (row[column] == \"empty\") and (\"choice_{0}\".format(i) in response): # clicked empty response\n",
    "            bad_responses.add((unit_id, worker_id))"
   ]
  },
  {
   "cell_type": "markdown",
   "metadata": {},
   "source": [
    "### A total of 77 judgements have been tainted:"
   ]
  },
  {
   "cell_type": "code",
   "execution_count": 11,
   "metadata": {
    "collapsed": false,
    "scrolled": true
   },
   "outputs": [
    {
     "data": {
      "text/plain": [
       "77"
      ]
     },
     "execution_count": 11,
     "metadata": {},
     "output_type": "execute_result"
    }
   ],
   "source": [
    "len(bad_responses)"
   ]
  },
  {
   "cell_type": "markdown",
   "metadata": {},
   "source": [
    "### Seven users represent all of the bad responses"
   ]
  },
  {
   "cell_type": "code",
   "execution_count": 12,
   "metadata": {
    "collapsed": false
   },
   "outputs": [
    {
     "data": {
      "text/plain": [
       "[(33078019, 20),\n",
       " (32088050, 20),\n",
       " (33203286, 16),\n",
       " (29794479, 11),\n",
       " (31706962, 4),\n",
       " (32337300, 4),\n",
       " (29269406, 2)]"
      ]
     },
     "execution_count": 12,
     "metadata": {},
     "output_type": "execute_result"
    }
   ],
   "source": [
    "# look through and count the users who made the most bad responses\n",
    "\n",
    "cheaters = defaultdict(list)\n",
    "for unit_id, worker_id in bad_responses:\n",
    "    cheaters[worker_id].append(unit_id)\n",
    "\n",
    "temp = []\n",
    "for key, val in cheaters.items():\n",
    "    temp.append((key, len(val)))\n",
    "    \n",
    "temp = sorted(temp, key = lambda x: -x[1])\n",
    "temp"
   ]
  },
  {
   "cell_type": "markdown",
   "metadata": {},
   "source": [
    "### An examination of the response each bad user made for each work unit shows a consistent pattern:"
   ]
  },
  {
   "cell_type": "code",
   "execution_count": 13,
   "metadata": {
    "collapsed": false,
    "scrolled": true
   },
   "outputs": [
    {
     "name": "stdout",
     "output_type": "stream",
     "text": [
      "# of bad responses: 20\n",
      "Worker 33078019 made 20 judgements total\n",
      "Worker answer distribution:\n",
      "Counter({'choice_0\\nchoice_1\\nchoice_2\\nchoice_3\\nchoice_4\\nnone_are_true': 12, 'choice_0\\nnone_are_true': 2, 'choice_0\\nchoice_1\\nchoice_2\\nnone_are_true': 2, 'choice_0\\nchoice_1\\nchoice_2\\nchoice_3\\nnone_are_true': 2, 'choice_0\\nchoice_1\\nnone_are_true': 2})\n",
      "\n",
      "Unit 739660126 worker 33078019 response: ['choice_0', 'choice_1', 'choice_2', 'choice_3', 'choice_4', 'none_are_true']\n",
      "Unit 739660103 worker 33078019 response: ['choice_0', 'choice_1', 'choice_2', 'choice_3', 'choice_4', 'none_are_true']\n",
      "Unit 739660111 worker 33078019 response: ['choice_0', 'choice_1', 'choice_2', 'choice_3', 'choice_4', 'none_are_true']\n",
      "Unit 739660105 worker 33078019 response: ['choice_0', 'choice_1', 'choice_2', 'choice_3', 'choice_4', 'none_are_true']\n",
      "Unit 739660124 worker 33078019 response: ['choice_0', 'choice_1', 'none_are_true']\n",
      "Unit 739660096 worker 33078019 response: ['choice_0', 'none_are_true']\n",
      "Unit 739660131 worker 33078019 response: ['choice_0', 'choice_1', 'choice_2', 'choice_3', 'choice_4', 'none_are_true']\n",
      "Unit 739660116 worker 33078019 response: ['choice_0', 'choice_1', 'choice_2', 'choice_3', 'choice_4', 'none_are_true']\n",
      "Unit 739660094 worker 33078019 response: ['choice_0', 'none_are_true']\n",
      "Unit 739660087 worker 33078019 response: ['choice_0', 'choice_1', 'choice_2', 'none_are_true']\n",
      "Unit 739881186 worker 33078019 response: ['choice_0', 'choice_1', 'choice_2', 'choice_3', 'choice_4', 'none_are_true']\n",
      "Unit 739660100 worker 33078019 response: ['choice_0', 'choice_1', 'none_are_true']\n",
      "Unit 739660133 worker 33078019 response: ['choice_0', 'choice_1', 'choice_2', 'choice_3', 'none_are_true']\n",
      "Unit 739660121 worker 33078019 response: ['choice_0', 'choice_1', 'choice_2', 'choice_3', 'choice_4', 'none_are_true']\n",
      "Unit 739660132 worker 33078019 response: ['choice_0', 'choice_1', 'choice_2', 'none_are_true']\n",
      "Unit 739713469 worker 33078019 response: ['choice_0', 'choice_1', 'choice_2', 'choice_3', 'choice_4', 'none_are_true']\n",
      "Unit 739705363 worker 33078019 response: ['choice_0', 'choice_1', 'choice_2', 'choice_3', 'none_are_true']\n",
      "Unit 739660109 worker 33078019 response: ['choice_0', 'choice_1', 'choice_2', 'choice_3', 'choice_4', 'none_are_true']\n",
      "Unit 739660092 worker 33078019 response: ['choice_0', 'choice_1', 'choice_2', 'choice_3', 'choice_4', 'none_are_true']\n",
      "Unit 739660115 worker 33078019 response: ['choice_0', 'choice_1', 'choice_2', 'choice_3', 'choice_4', 'none_are_true']\n",
      "\n",
      "-----------------------------------------------\n",
      "\n",
      "# of bad responses: 20\n",
      "Worker 32088050 made 20 judgements total\n",
      "Worker answer distribution:\n",
      "Counter({'choice_0\\nchoice_1\\nchoice_2\\nchoice_3\\nchoice_4\\nnone_are_true': 20})\n",
      "\n",
      "Unit 739705363 worker 32088050 response: ['choice_0', 'choice_1', 'choice_2', 'choice_3', 'choice_4', 'none_are_true']\n",
      "Unit 739660120 worker 32088050 response: ['choice_0', 'choice_1', 'choice_2', 'choice_3', 'choice_4', 'none_are_true']\n",
      "Unit 739660127 worker 32088050 response: ['choice_0', 'choice_1', 'choice_2', 'choice_3', 'choice_4', 'none_are_true']\n",
      "Unit 739660101 worker 32088050 response: ['choice_0', 'choice_1', 'choice_2', 'choice_3', 'choice_4', 'none_are_true']\n",
      "Unit 739660104 worker 32088050 response: ['choice_0', 'choice_1', 'choice_2', 'choice_3', 'choice_4', 'none_are_true']\n",
      "Unit 739717853 worker 32088050 response: ['choice_0', 'choice_1', 'choice_2', 'choice_3', 'choice_4', 'none_are_true']\n",
      "Unit 739660094 worker 32088050 response: ['choice_0', 'choice_1', 'choice_2', 'choice_3', 'choice_4', 'none_are_true']\n",
      "Unit 739660119 worker 32088050 response: ['choice_0', 'choice_1', 'choice_2', 'choice_3', 'choice_4', 'none_are_true']\n",
      "Unit 739660102 worker 32088050 response: ['choice_0', 'choice_1', 'choice_2', 'choice_3', 'choice_4', 'none_are_true']\n",
      "Unit 739660131 worker 32088050 response: ['choice_0', 'choice_1', 'choice_2', 'choice_3', 'choice_4', 'none_are_true']\n",
      "Unit 739660112 worker 32088050 response: ['choice_0', 'choice_1', 'choice_2', 'choice_3', 'choice_4', 'none_are_true']\n",
      "Unit 739660105 worker 32088050 response: ['choice_0', 'choice_1', 'choice_2', 'choice_3', 'choice_4', 'none_are_true']\n",
      "Unit 739660087 worker 32088050 response: ['choice_0', 'choice_1', 'choice_2', 'choice_3', 'choice_4', 'none_are_true']\n",
      "Unit 739660113 worker 32088050 response: ['choice_0', 'choice_1', 'choice_2', 'choice_3', 'choice_4', 'none_are_true']\n",
      "Unit 739660106 worker 32088050 response: ['choice_0', 'choice_1', 'choice_2', 'choice_3', 'choice_4', 'none_are_true']\n",
      "Unit 739713469 worker 32088050 response: ['choice_0', 'choice_1', 'choice_2', 'choice_3', 'choice_4', 'none_are_true']\n",
      "Unit 739660128 worker 32088050 response: ['choice_0', 'choice_1', 'choice_2', 'choice_3', 'choice_4', 'none_are_true']\n",
      "Unit 739660098 worker 32088050 response: ['choice_0', 'choice_1', 'choice_2', 'choice_3', 'choice_4', 'none_are_true']\n",
      "Unit 739660100 worker 32088050 response: ['choice_0', 'choice_1', 'choice_2', 'choice_3', 'choice_4', 'none_are_true']\n",
      "Unit 739660121 worker 32088050 response: ['choice_0', 'choice_1', 'choice_2', 'choice_3', 'choice_4', 'none_are_true']\n",
      "\n",
      "-----------------------------------------------\n",
      "\n",
      "# of bad responses: 16\n",
      "Worker 33203286 made 16 judgements total\n",
      "Worker answer distribution:\n",
      "Counter({'choice_0\\nchoice_1\\nchoice_2\\nchoice_3\\nchoice_4\\nnone_are_true': 16})\n",
      "\n",
      "Unit 739660109 worker 33203286 response: ['choice_0', 'choice_1', 'choice_2', 'choice_3', 'choice_4', 'none_are_true']\n",
      "Unit 739660124 worker 33203286 response: ['choice_0', 'choice_1', 'choice_2', 'choice_3', 'choice_4', 'none_are_true']\n",
      "Unit 739660126 worker 33203286 response: ['choice_0', 'choice_1', 'choice_2', 'choice_3', 'choice_4', 'none_are_true']\n",
      "Unit 739660115 worker 33203286 response: ['choice_0', 'choice_1', 'choice_2', 'choice_3', 'choice_4', 'none_are_true']\n",
      "Unit 739660130 worker 33203286 response: ['choice_0', 'choice_1', 'choice_2', 'choice_3', 'choice_4', 'none_are_true']\n",
      "Unit 739660132 worker 33203286 response: ['choice_0', 'choice_1', 'choice_2', 'choice_3', 'choice_4', 'none_are_true']\n",
      "Unit 739660096 worker 33203286 response: ['choice_0', 'choice_1', 'choice_2', 'choice_3', 'choice_4', 'none_are_true']\n",
      "Unit 739660111 worker 33203286 response: ['choice_0', 'choice_1', 'choice_2', 'choice_3', 'choice_4', 'none_are_true']\n",
      "Unit 739660116 worker 33203286 response: ['choice_0', 'choice_1', 'choice_2', 'choice_3', 'choice_4', 'none_are_true']\n",
      "Unit 739660086 worker 33203286 response: ['choice_0', 'choice_1', 'choice_2', 'choice_3', 'choice_4', 'none_are_true']\n",
      "Unit 739660090 worker 33203286 response: ['choice_0', 'choice_1', 'choice_2', 'choice_3', 'choice_4', 'none_are_true']\n",
      "Unit 739660133 worker 33203286 response: ['choice_0', 'choice_1', 'choice_2', 'choice_3', 'choice_4', 'none_are_true']\n",
      "Unit 739660103 worker 33203286 response: ['choice_0', 'choice_1', 'choice_2', 'choice_3', 'choice_4', 'none_are_true']\n",
      "Unit 739660117 worker 33203286 response: ['choice_0', 'choice_1', 'choice_2', 'choice_3', 'choice_4', 'none_are_true']\n",
      "Unit 739660092 worker 33203286 response: ['choice_0', 'choice_1', 'choice_2', 'choice_3', 'choice_4', 'none_are_true']\n",
      "Unit 739881186 worker 33203286 response: ['choice_0', 'choice_1', 'choice_2', 'choice_3', 'choice_4', 'none_are_true']\n",
      "\n",
      "-----------------------------------------------\n",
      "\n",
      "# of bad responses: 11\n",
      "Worker 29794479 made 20 judgements total\n",
      "Worker answer distribution:\n",
      "Counter({'choice_0\\nnone_are_true': 5, 'choice_1\\nnone_are_true': 3, 'none_are_true': 2, 'choice_0\\nchoice_1': 2, 'choice_3\\nnone_are_true': 2, 'choice_0': 2, 'choice_4\\nnone_are_true': 1, 'choice_0\\nchoice_1\\nchoice_2': 1, 'choice_0\\nchoice_4': 1, 'choice_3': 1})\n",
      "\n",
      "Unit 739660122 worker 29794479 response: ['choice_1', 'none_are_true']\n",
      "Unit 739722721 worker 29794479 response: ['choice_4', 'none_are_true']\n",
      "Unit 739660124 worker 29794479 response: ['choice_1', 'none_are_true']\n",
      "Unit 739660099 worker 29794479 response: ['choice_0', 'none_are_true']\n",
      "Unit 739660109 worker 29794479 response: ['choice_0', 'none_are_true']\n",
      "Unit 739660092 worker 29794479 response: ['choice_3', 'none_are_true']\n",
      "Unit 739660096 worker 29794479 response: ['choice_0', 'none_are_true']\n",
      "Unit 739660133 worker 29794479 response: ['choice_3', 'none_are_true']\n",
      "Unit 739660132 worker 29794479 response: ['choice_1', 'none_are_true']\n",
      "Unit 739660116 worker 29794479 response: ['choice_0', 'none_are_true']\n",
      "Unit 739881468 worker 29794479 response: ['choice_0', 'none_are_true']\n",
      "\n",
      "-----------------------------------------------\n",
      "\n",
      "# of bad responses: 4\n",
      "Worker 31706962 made 4 judgements total\n",
      "Worker answer distribution:\n",
      "Counter({'choice_0\\nchoice_1\\nchoice_2\\nchoice_3\\nchoice_4\\nnone_are_true': 4})\n",
      "\n",
      "Unit 739660125 worker 31706962 response: ['choice_0', 'choice_1', 'choice_2', 'choice_3', 'choice_4', 'none_are_true']\n",
      "Unit 739720029 worker 31706962 response: ['choice_0', 'choice_1', 'choice_2', 'choice_3', 'choice_4', 'none_are_true']\n",
      "Unit 739695311 worker 31706962 response: ['choice_0', 'choice_1', 'choice_2', 'choice_3', 'choice_4', 'none_are_true']\n",
      "Unit 739660114 worker 31706962 response: ['choice_0', 'choice_1', 'choice_2', 'choice_3', 'choice_4', 'none_are_true']\n",
      "\n",
      "-----------------------------------------------\n",
      "\n",
      "# of bad responses: 4\n",
      "Worker 32337300 made 4 judgements total\n",
      "Worker answer distribution:\n",
      "Counter({'choice_0\\nchoice_1\\nchoice_2\\nchoice_3\\nchoice_4\\nnone_are_true': 4})\n",
      "\n",
      "Unit 739695311 worker 32337300 response: ['choice_0', 'choice_1', 'choice_2', 'choice_3', 'choice_4', 'none_are_true']\n",
      "Unit 739660125 worker 32337300 response: ['choice_0', 'choice_1', 'choice_2', 'choice_3', 'choice_4', 'none_are_true']\n",
      "Unit 739720029 worker 32337300 response: ['choice_0', 'choice_1', 'choice_2', 'choice_3', 'choice_4', 'none_are_true']\n",
      "Unit 739660114 worker 32337300 response: ['choice_0', 'choice_1', 'choice_2', 'choice_3', 'choice_4', 'none_are_true']\n",
      "\n",
      "-----------------------------------------------\n",
      "\n",
      "# of bad responses: 2\n",
      "Worker 29269406 made 4 judgements total\n",
      "Worker answer distribution:\n",
      "Counter({'choice_0\\nchoice_1\\nchoice_2\\nchoice_3\\nchoice_4': 1, 'choice_0\\nchoice_1\\nchoice_2\\nchoice_3\\nchoice_4\\nnone_are_true': 1, 'choice_0\\nchoice_1\\nnone_are_true': 1, 'choice_0\\nchoice_1\\nchoice_2': 1})\n",
      "\n",
      "Unit 739720029 worker 29269406 response: ['choice_0', 'choice_1', 'none_are_true']\n",
      "Unit 739660114 worker 29269406 response: ['choice_0', 'choice_1', 'choice_2', 'choice_3', 'choice_4', 'none_are_true']\n",
      "\n",
      "-----------------------------------------------\n",
      "\n"
     ]
    }
   ],
   "source": [
    "for worker_id, num_bad_resp in temp:\n",
    "    print \"# of bad responses: {0}\".format(num_bad_resp)\n",
    "    answer_distribution(worker_id)\n",
    "    \n",
    "    # what did each worker answer for each question?\n",
    "    \n",
    "    for unit_id in cheaters[worker_id]:\n",
    "        r = raw_data.query(\"_unit_id == {0} and _worker_id == {1}\".format(unit_id, worker_id))\n",
    "        assert len(r) == 1\n",
    "        \n",
    "        print \"Unit {0} worker {1} response: {2}\".format(unit_id,\n",
    "                                                         worker_id,\n",
    "                                                         r.iloc[0][\"chemical_disease_relationships\"].split('\\n'))\n",
    "        \n",
    "    print \"\\n-----------------------------------------------\\n\"    "
   ]
  },
  {
   "cell_type": "markdown",
   "metadata": {},
   "source": [
    "### No one made a mistake and chose some normal choices, but also chose an empty choice by accident:"
   ]
  },
  {
   "cell_type": "code",
   "execution_count": 14,
   "metadata": {
    "collapsed": false
   },
   "outputs": [
    {
     "data": {
      "text/plain": [
       "set()"
      ]
     },
     "execution_count": 14,
     "metadata": {},
     "output_type": "execute_result"
    }
   ],
   "source": [
    "# did anyone click an empty response but not none of the above?\n",
    "bad_responses = set()\n",
    "\n",
    "for idx, row in raw_data.iterrows():\n",
    "    unit_id = row[\"_unit_id\"]\n",
    "    worker_id = row[\"_worker_id\"]\n",
    "    \n",
    "    response = row[\"chemical_disease_relationships\"].split('\\n')\n",
    "        \n",
    "    for i in range(5):\n",
    "        column = \"choice_{0}_ids\".format(i)\n",
    "        if (row[column] == \"empty\") and (\"choice_{0}\".format(i) in response) and (\"none_are_true\" not in response): # clicked empty response\n",
    "            bad_responses.add((unit_id, worker_id))\n",
    "            \n",
    "            \n",
    "bad_responses"
   ]
  },
  {
   "cell_type": "markdown",
   "metadata": {},
   "source": [
    "The fact that no person chose an empty choice without also choosing \"none are true\" is pretty damning. This means that everyone who was working properly followed the rules and did not choose the empty choices.\n",
    "\n",
    "Conversely, anyone who chose an empty choice also chose none of the above, which implies that they were not following the rules."
   ]
  },
  {
   "cell_type": "markdown",
   "metadata": {},
   "source": [
    "### Luckily, the cheaters were not very smart and made obvious cheating patterns. I have flagged and rejected all the work that these users performed."
   ]
  },
  {
   "cell_type": "markdown",
   "metadata": {},
   "source": [
    "The responses of these seven users: [33078019, 31706962, 29794479, 32088050, 32337300, 33203286, 29269406] will be eliminated from the data. Thankfully the tainted responses only represent 30% of the dataset. We can still perform some useful analyses."
   ]
  },
  {
   "cell_type": "code",
   "execution_count": 15,
   "metadata": {
    "collapsed": false
   },
   "outputs": [
    {
     "data": {
      "text/plain": [
       "[33078019, 31706962, 29794479, 32088050, 32337300, 33203286, 29269406]"
      ]
     },
     "execution_count": 15,
     "metadata": {},
     "output_type": "execute_result"
    }
   ],
   "source": [
    "cheaters.keys()"
   ]
  },
  {
   "cell_type": "code",
   "execution_count": 16,
   "metadata": {
    "collapsed": false
   },
   "outputs": [],
   "source": [
    "# remove all responses made by the cheaters\n",
    "\n",
    "cheater_ids = cheaters.keys()\n",
    "\n",
    "cleaned_data = raw_data.query(\"_worker_id not in {0}\".format(cheater_ids))"
   ]
  },
  {
   "cell_type": "code",
   "execution_count": 17,
   "metadata": {
    "collapsed": false
   },
   "outputs": [
    {
     "data": {
      "text/plain": [
       "167"
      ]
     },
     "execution_count": 17,
     "metadata": {},
     "output_type": "execute_result"
    }
   ],
   "source": [
    "len(cleaned_data)"
   ]
  },
  {
   "cell_type": "markdown",
   "metadata": {},
   "source": [
    "Save to file:"
   ]
  },
  {
   "cell_type": "code",
   "execution_count": 18,
   "metadata": {
    "collapsed": true
   },
   "outputs": [],
   "source": [
    "cleaned_data.to_csv(\"data/crowdflower/cleaned_job_743229_full.csv\", sep = \",\", index = False)"
   ]
  }
 ],
 "metadata": {
  "kernelspec": {
   "display_name": "Python 2",
   "language": "python",
   "name": "python2"
  },
  "language_info": {
   "codemirror_mode": {
    "name": "ipython",
    "version": 2
   },
   "file_extension": ".py",
   "mimetype": "text/x-python",
   "name": "python",
   "nbconvert_exporter": "python",
   "pygments_lexer": "ipython2",
   "version": "2.7.10"
  }
 },
 "nbformat": 4,
 "nbformat_minor": 0
}
