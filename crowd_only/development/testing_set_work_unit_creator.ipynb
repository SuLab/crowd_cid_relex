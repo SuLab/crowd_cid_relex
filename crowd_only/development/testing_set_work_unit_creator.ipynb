{
 "cells": [
  {
   "cell_type": "markdown",
   "metadata": {},
   "source": [
    "# Work unit creator for 100 abstract test\n",
    "\n",
    "Tong Shu Li<br>\n",
    "Created on: 2015-08-25\n",
    "\n",
    "Our 200 abstract run did poorly overall since we had spammers in the abstract-level task (#758438) and the sentence-level task (#761593) never completed due to a lack of test questions and worker judgment capping. Therefore we want to run one more test on another 100 abstracts so that we can discuss and compare to our official results with the evaluation dataset.\n",
    "\n",
    "We will keep everything the same as the settings and parameters we used for the 500 evaluation dataset run, so that the results are directly comparable."
   ]
  },
  {
   "cell_type": "code",
   "execution_count": 1,
   "metadata": {
    "collapsed": true
   },
   "outputs": [],
   "source": [
    "from collections import defaultdict\n",
    "import os\n",
    "import pandas as pd\n",
    "import pickle\n",
    "import random"
   ]
  },
  {
   "cell_type": "code",
   "execution_count": 2,
   "metadata": {
    "collapsed": true
   },
   "outputs": [],
   "source": [
    "from src.data_model import parse_input\n",
    "from src.make_sections import create_sections"
   ]
  },
  {
   "cell_type": "code",
   "execution_count": 3,
   "metadata": {
    "collapsed": true
   },
   "outputs": [],
   "source": [
    "def add_simple_tag(tag_name, tag_class, text):\n",
    "    return \"<{0} class=\\\"{1}\\\">{2}</{0}>\".format(tag_name, tag_class, text)"
   ]
  },
  {
   "cell_type": "markdown",
   "metadata": {},
   "source": [
    "---"
   ]
  },
  {
   "cell_type": "markdown",
   "metadata": {},
   "source": [
    "### Read the development set 100 abstracts for testing:"
   ]
  },
  {
   "cell_type": "code",
   "execution_count": 4,
   "metadata": {
    "collapsed": true
   },
   "outputs": [],
   "source": [
    "loc = \"data/devset_100_test\"\n",
    "fname = \"processed_CDR_devset.txt\"\n",
    "\n",
    "testset = parse_input(loc, fname, is_gold = False, return_format = \"list\", fix_acronyms = True)"
   ]
  },
  {
   "cell_type": "code",
   "execution_count": 5,
   "metadata": {
    "collapsed": false,
    "scrolled": true
   },
   "outputs": [
    {
     "name": "stdout",
     "output_type": "stream",
     "text": [
      "9669632\n",
      "20466178\n",
      "18006530\n",
      "7542793\n",
      "7880714\n",
      "6496797\n",
      "7651879\n",
      "15858223\n",
      "2004015\n",
      "16471092\n",
      "11063349\n",
      "3300918\n",
      "7710775\n",
      "15266362\n",
      "12911170\n",
      "8586822\n",
      "1564236\n",
      "17682013\n",
      "1535072\n",
      "19370593\n",
      "2894433\n",
      "8111719\n",
      "1969772\n",
      "18657397\n",
      "10910842\n",
      "11868798\n",
      "10328196\n",
      "9201797\n",
      "6892185\n",
      "11999899\n",
      "6454943\n",
      "11282081\n",
      "18483878\n",
      "7437994\n",
      "2598570\n",
      "10565806\n",
      "33969\n",
      "21418164\n",
      "16225977\n",
      "9041081\n",
      "10523326\n",
      "8480959\n",
      "8305357\n",
      "15096016\n",
      "3703509\n",
      "11704023\n",
      "9098464\n",
      "9875685\n",
      "20683499\n",
      "6111982\n",
      "20533999\n",
      "8686832\n",
      "2917114\n",
      "11524350\n",
      "8267029\n",
      "11705128\n",
      "9270571\n",
      "11860278\n",
      "8492347\n",
      "9564988\n",
      "20042557\n",
      "326460\n",
      "15811908\n",
      "11077455\n",
      "2826064\n",
      "3969369\n",
      "3311455\n",
      "16174948\n",
      "8424298\n",
      "1595783\n",
      "6118280\n",
      "1628552\n",
      "15893386\n",
      "10840460\n",
      "12452237\n",
      "2257294\n",
      "10743694\n",
      "19761039\n",
      "12448656\n",
      "3973521\n",
      "18356633\n",
      "2322844\n",
      "15266215\n",
      "10225068\n",
      "8800187\n",
      "803783\n",
      "19135948\n",
      "7650771\n",
      "16192988\n",
      "1610717\n",
      "3088349\n",
      "11337188\n",
      "9636837\n",
      "16596970\n",
      "7803371\n",
      "1423339\n",
      "15565293\n",
      "6150641\n",
      "982002\n",
      "3708922\n"
     ]
    }
   ],
   "source": [
    "for paper in testset:\n",
    "    print(paper.pmid)"
   ]
  },
  {
   "cell_type": "code",
   "execution_count": 35,
   "metadata": {
    "collapsed": false
   },
   "outputs": [
    {
     "data": {
      "text/plain": [
       "100"
      ]
     },
     "execution_count": 35,
     "metadata": {},
     "output_type": "execute_result"
    }
   ],
   "source": [
    "len(testset)"
   ]
  },
  {
   "cell_type": "markdown",
   "metadata": {},
   "source": [
    "### Highlighting functions:"
   ]
  },
  {
   "cell_type": "code",
   "execution_count": 6,
   "metadata": {
    "collapsed": true
   },
   "outputs": [],
   "source": [
    "def highlight_concepts(text, breaks):\n",
    "    \"\"\"\n",
    "    Inserts HTML tags around the pieces of text\n",
    "    which need to be highlighted in a string.\n",
    "    \"\"\"\n",
    "    breaks = sorted(breaks, key = lambda x: x[0])\n",
    "    \n",
    "    final = []\n",
    "    for i in range(len(breaks) - 1):\n",
    "        s = text[breaks[i][0] : breaks[i+1][0]]\n",
    "        if breaks[i][1] != \"n\":\n",
    "            s = add_simple_tag(\"span\", breaks[i][1], s)\n",
    "            \n",
    "        final.append(s)\n",
    "        \n",
    "    return \"\".join(final)"
   ]
  },
  {
   "cell_type": "code",
   "execution_count": 7,
   "metadata": {
    "collapsed": true
   },
   "outputs": [],
   "source": [
    "def highlight_text(text, offset, uniq_spans):\n",
    "    \"\"\"\n",
    "    Given a string and the annotations which fall\n",
    "    within this string, highlights the concepts.\n",
    "    \"\"\"\n",
    "    # index of break, type of break (n = nothing)\n",
    "    breaks = [(0, \"n\"), (len(text), \"n\")]\n",
    "    \n",
    "    for span in uniq_spans:\n",
    "        breaks.append((span.start - offset, span.stype))\n",
    "        breaks.append((span.stop - offset, \"n\"))\n",
    "            \n",
    "    return highlight_concepts(text, breaks)"
   ]
  },
  {
   "cell_type": "markdown",
   "metadata": {},
   "source": [
    "### Subtask processors:"
   ]
  },
  {
   "cell_type": "code",
   "execution_count": 8,
   "metadata": {
    "collapsed": true
   },
   "outputs": [],
   "source": [
    "def flat_repr(id_set):\n",
    "    \"\"\"Makes a string out of the ID frozenset.\"\"\"\n",
    "    vals = sorted([\"{0}:{1}\".format(v.uid_type, v.uid) for v in id_set])\n",
    "    return \"|\".join(vals)"
   ]
  },
  {
   "cell_type": "code",
   "execution_count": 9,
   "metadata": {
    "collapsed": true
   },
   "outputs": [],
   "source": [
    "def grab_names(annotations):\n",
    "    \"\"\"Determines the unique names of the annotations.\"\"\"\n",
    "    used_names = defaultdict(set) # lower case set of used names (to avoid repeats)\n",
    "    real_name = defaultdict(set) # set of unique names verbatim (to preseve capitalization)\n",
    "    for annotation in annotations:\n",
    "        if annotation.text.lower() not in used_names[annotation.stype]:\n",
    "            used_names[annotation.stype].add(annotation.text.lower())\n",
    "            real_name[annotation.stype].add(annotation.text)\n",
    "            \n",
    "    return real_name"
   ]
  },
  {
   "cell_type": "code",
   "execution_count": 10,
   "metadata": {
    "collapsed": true
   },
   "outputs": [],
   "source": [
    "def process_sentence_task(sentence, rel_pairs):\n",
    "    \"\"\"\n",
    "    Given a Sentence object, and the set of chemical-disease relation\n",
    "    identifier pairs, creates a set of sentence-level verification tasks.\n",
    "    \"\"\"\n",
    "    data = defaultdict(list)\n",
    "    for chemical_id, disease_id in rel_pairs:\n",
    "        spans = [annotation for annotation in sentence.annotations if annotation.uid in [chemical_id, disease_id]]\n",
    "        real_name = grab_names(spans)\n",
    "\n",
    "        data[\"pmid\"].append(sentence.pmid)\n",
    "        \n",
    "        data[\"form_sentence\"].append(highlight_text(sentence.text, sentence.start, spans))\n",
    "        \n",
    "        flat_chem_id = flat_repr(chemical_id)\n",
    "        flat_dise_id = flat_repr(disease_id)\n",
    "        \n",
    "        data[\"chemical_id\"].append(flat_chem_id)\n",
    "        data[\"disease_id\"].append(flat_dise_id)\n",
    "        \n",
    "        data[\"chemical_name\"].append(add_simple_tag(\"span\", \"chemical\", \"/\".join(real_name[\"chemical\"])))\n",
    "        data[\"disease_name\"].append(add_simple_tag(\"span\", \"disease\", \"/\".join(real_name[\"disease\"])))\n",
    "        \n",
    "        data[\"relation_pair_id\"].append(\"{0}_{1}_{2}\".format(sentence.pmid, flat_chem_id, flat_dise_id))\n",
    "        \n",
    "        data[\"sentence_id\"].append(sentence.uid)\n",
    "        \n",
    "    return pd.DataFrame(data)"
   ]
  },
  {
   "cell_type": "code",
   "execution_count": 11,
   "metadata": {
    "collapsed": true
   },
   "outputs": [],
   "source": [
    "def process_abstract_task(paper, rel_pairs):\n",
    "    \"\"\"Makes a set of abstract-level tasks for one paper.\"\"\"\n",
    "    data = defaultdict(list)\n",
    "    for chemical_id, disease_id in rel_pairs:\n",
    "        spans = [annotation for annotation in paper.annotations if annotation.uid in [chemical_id, disease_id]]\n",
    "        real_name = grab_names(spans)\n",
    "\n",
    "        form_title = highlight_text(paper.title, 0,\n",
    "                                    filter(lambda x: x.stop <= len(paper.title), spans))\n",
    "\n",
    "        form_abstract = highlight_text(paper.abstract, len(paper.title) + 1,\n",
    "                                       filter(lambda x: x.start > len(paper.title), spans))\n",
    "\n",
    "        form_abstract = create_sections(form_abstract)\n",
    "\n",
    "        data[\"pmid\"].append(paper.pmid)\n",
    "\n",
    "        data[\"form_title\"].append(form_title)\n",
    "        data[\"form_abstract\"].append(form_abstract)\n",
    "        \n",
    "        flat_chem_id = flat_repr(chemical_id)\n",
    "        flat_dise_id = flat_repr(disease_id)\n",
    "\n",
    "        data[\"chemical_id\"].append(flat_chem_id)\n",
    "        data[\"disease_id\"].append(flat_dise_id)\n",
    "        data[\"chemical_name\"].append(add_simple_tag(\"span\", \"chemical\", \"/\".join(real_name[\"chemical\"])))\n",
    "        data[\"disease_name\"].append(add_simple_tag(\"span\", \"disease\", \"/\".join(real_name[\"disease\"])))\n",
    "            \n",
    "    return pd.DataFrame(data)"
   ]
  },
  {
   "cell_type": "markdown",
   "metadata": {},
   "source": [
    "## Generate CrowdFlower work units:"
   ]
  },
  {
   "cell_type": "code",
   "execution_count": 12,
   "metadata": {
    "collapsed": true
   },
   "outputs": [],
   "source": [
    "def create_work_units(dataset):\n",
    "    \"\"\"\n",
    "    Given a list of Paper objects representing the abstracts\n",
    "    we wish to find the CID relations in, this function\n",
    "    creates the work units for the CrowdFlower tasks.\n",
    "    \n",
    "    CID relations are judged to be always true and no crowd\n",
    "    worker ever sees that relation.\n",
    "    \n",
    "    Each sentence-bound non-CID relation can create one or\n",
    "    multiple sentence-level work units, depending on how\n",
    "    many sentences in that abstract contain the relationship.\n",
    "    \n",
    "    Each non-sentence bound relation creates one abstract-level\n",
    "    work unit.\n",
    "    \n",
    "    Relation type classification is already done by the Paper\n",
    "    objects.\n",
    "    \"\"\"\n",
    "    cid_relations = dict()\n",
    "    easy_units = []\n",
    "    hard_units = []\n",
    "    for paper in dataset:\n",
    "        cid_relations[paper.pmid] = paper.poss_relations[\"CID\"]\n",
    "        \n",
    "        # create the sentence-level tasks:\n",
    "        for sentence in paper.sentences:\n",
    "            work = sentence.poss_relations[False] - paper.poss_relations[\"CID\"]\n",
    "            easy_units.append(process_sentence_task(sentence, work))\n",
    "                \n",
    "        # create the abstract-level tasks:\n",
    "        hard_units.append(process_abstract_task(paper, paper.poss_relations[\"not_sentence_bound\"]))\n",
    "            \n",
    "    # return two dataframes\n",
    "    easy_units = pd.concat(easy_units).reset_index(drop = True)\n",
    "    hard_units = pd.concat(hard_units).reset_index(drop = True)\n",
    "    \n",
    "    easy_units[\"uniq_id\"] = pd.Series([\"bcv_devset_test_100_easy_{0}\".format(i) for i in range(len(easy_units))])\n",
    "    hard_units[\"uniq_id\"] = pd.Series([\"bcv_devset_test_100_hard_{0}\".format(i) for i in range(len(hard_units))])\n",
    "    \n",
    "    return (cid_relations, easy_units, hard_units)"
   ]
  },
  {
   "cell_type": "code",
   "execution_count": 13,
   "metadata": {
    "collapsed": true
   },
   "outputs": [],
   "source": [
    "cid_relations, easy_units, hard_units = create_work_units(testset)"
   ]
  },
  {
   "cell_type": "code",
   "execution_count": 14,
   "metadata": {
    "collapsed": true
   },
   "outputs": [],
   "source": [
    "with open(\"data/devset_100_test/devset_100_cid_relations.pickle\", \"wb\") as fout:\n",
    "    pickle.dump(cid_relations, fout)"
   ]
  },
  {
   "cell_type": "markdown",
   "metadata": {},
   "source": [
    "---"
   ]
  },
  {
   "cell_type": "code",
   "execution_count": 15,
   "metadata": {
    "collapsed": false
   },
   "outputs": [
    {
     "data": {
      "text/plain": [
       "(649, 9)"
      ]
     },
     "execution_count": 15,
     "metadata": {},
     "output_type": "execute_result"
    }
   ],
   "source": [
    "easy_units.shape"
   ]
  },
  {
   "cell_type": "code",
   "execution_count": 16,
   "metadata": {
    "collapsed": false
   },
   "outputs": [
    {
     "data": {
      "text/plain": [
       "(540, 8)"
      ]
     },
     "execution_count": 16,
     "metadata": {},
     "output_type": "execute_result"
    }
   ],
   "source": [
    "hard_units.shape"
   ]
  },
  {
   "cell_type": "code",
   "execution_count": 17,
   "metadata": {
    "collapsed": false
   },
   "outputs": [
    {
     "data": {
      "text/html": [
       "<div>\n",
       "<table border=\"1\" class=\"dataframe\">\n",
       "  <thead>\n",
       "    <tr style=\"text-align: right;\">\n",
       "      <th></th>\n",
       "      <th>chemical_id</th>\n",
       "      <th>chemical_name</th>\n",
       "      <th>disease_id</th>\n",
       "      <th>disease_name</th>\n",
       "      <th>form_sentence</th>\n",
       "      <th>pmid</th>\n",
       "      <th>relation_pair_id</th>\n",
       "      <th>sentence_id</th>\n",
       "      <th>uniq_id</th>\n",
       "    </tr>\n",
       "  </thead>\n",
       "  <tbody>\n",
       "    <tr>\n",
       "      <th>0</th>\n",
       "      <td>MESH:D020117</td>\n",
       "      <td>&lt;span class=\"chemical\"&gt;cisapride&lt;/span&gt;</td>\n",
       "      <td>MESH:D043183</td>\n",
       "      <td>&lt;span class=\"disease\"&gt;irritable bowel syndrome...</td>\n",
       "      <td>Effects of &lt;span class=\"chemical\"&gt;cisapride&lt;/s...</td>\n",
       "      <td>9669632</td>\n",
       "      <td>9669632_MESH:D020117_MESH:D043183</td>\n",
       "      <td>9669632_0</td>\n",
       "      <td>bcv_devset_test_100_easy_0</td>\n",
       "    </tr>\n",
       "    <tr>\n",
       "      <th>1</th>\n",
       "      <td>MESH:D020117</td>\n",
       "      <td>&lt;span class=\"chemical\"&gt;cisapride&lt;/span&gt;</td>\n",
       "      <td>MESH:D043183</td>\n",
       "      <td>&lt;span class=\"disease\"&gt;IBS/irritable bowel synd...</td>\n",
       "      <td>Our aim was to assess the effects of long-term...</td>\n",
       "      <td>9669632</td>\n",
       "      <td>9669632_MESH:D020117_MESH:D043183</td>\n",
       "      <td>9669632_2</td>\n",
       "      <td>bcv_devset_test_100_easy_1</td>\n",
       "    </tr>\n",
       "    <tr>\n",
       "      <th>2</th>\n",
       "      <td>MESH:D020117</td>\n",
       "      <td>&lt;span class=\"chemical\"&gt;cisapride&lt;/span&gt;</td>\n",
       "      <td>MESH:D043183</td>\n",
       "      <td>&lt;span class=\"disease\"&gt;IBS&lt;/span&gt;</td>\n",
       "      <td>METHODS: Thirty-eight patients with &lt;span clas...</td>\n",
       "      <td>9669632</td>\n",
       "      <td>9669632_MESH:D020117_MESH:D043183</td>\n",
       "      <td>9669632_3</td>\n",
       "      <td>bcv_devset_test_100_easy_2</td>\n",
       "    </tr>\n",
       "    <tr>\n",
       "      <th>3</th>\n",
       "      <td>MESH:D020117</td>\n",
       "      <td>&lt;span class=\"chemical\"&gt;cisapride&lt;/span&gt;</td>\n",
       "      <td>MESH:D003967</td>\n",
       "      <td>&lt;span class=\"disease\"&gt;diarrhoea&lt;/span&gt;</td>\n",
       "      <td>METHODS: Thirty-eight patients with IBS (const...</td>\n",
       "      <td>9669632</td>\n",
       "      <td>9669632_MESH:D020117_MESH:D003967</td>\n",
       "      <td>9669632_3</td>\n",
       "      <td>bcv_devset_test_100_easy_3</td>\n",
       "    </tr>\n",
       "    <tr>\n",
       "      <th>4</th>\n",
       "      <td>MESH:D020117</td>\n",
       "      <td>&lt;span class=\"chemical\"&gt;cisapride&lt;/span&gt;</td>\n",
       "      <td>MESH:D003248</td>\n",
       "      <td>&lt;span class=\"disease\"&gt;constipation&lt;/span&gt;</td>\n",
       "      <td>METHODS: Thirty-eight patients with IBS (&lt;span...</td>\n",
       "      <td>9669632</td>\n",
       "      <td>9669632_MESH:D020117_MESH:D003248</td>\n",
       "      <td>9669632_3</td>\n",
       "      <td>bcv_devset_test_100_easy_4</td>\n",
       "    </tr>\n",
       "  </tbody>\n",
       "</table>\n",
       "</div>"
      ],
      "text/plain": [
       "    chemical_id                            chemical_name    disease_id  \\\n",
       "0  MESH:D020117  <span class=\"chemical\">cisapride</span>  MESH:D043183   \n",
       "1  MESH:D020117  <span class=\"chemical\">cisapride</span>  MESH:D043183   \n",
       "2  MESH:D020117  <span class=\"chemical\">cisapride</span>  MESH:D043183   \n",
       "3  MESH:D020117  <span class=\"chemical\">cisapride</span>  MESH:D003967   \n",
       "4  MESH:D020117  <span class=\"chemical\">cisapride</span>  MESH:D003248   \n",
       "\n",
       "                                        disease_name  \\\n",
       "0  <span class=\"disease\">irritable bowel syndrome...   \n",
       "1  <span class=\"disease\">IBS/irritable bowel synd...   \n",
       "2                   <span class=\"disease\">IBS</span>   \n",
       "3             <span class=\"disease\">diarrhoea</span>   \n",
       "4          <span class=\"disease\">constipation</span>   \n",
       "\n",
       "                                       form_sentence     pmid  \\\n",
       "0  Effects of <span class=\"chemical\">cisapride</s...  9669632   \n",
       "1  Our aim was to assess the effects of long-term...  9669632   \n",
       "2  METHODS: Thirty-eight patients with <span clas...  9669632   \n",
       "3  METHODS: Thirty-eight patients with IBS (const...  9669632   \n",
       "4  METHODS: Thirty-eight patients with IBS (<span...  9669632   \n",
       "\n",
       "                    relation_pair_id sentence_id                     uniq_id  \n",
       "0  9669632_MESH:D020117_MESH:D043183   9669632_0  bcv_devset_test_100_easy_0  \n",
       "1  9669632_MESH:D020117_MESH:D043183   9669632_2  bcv_devset_test_100_easy_1  \n",
       "2  9669632_MESH:D020117_MESH:D043183   9669632_3  bcv_devset_test_100_easy_2  \n",
       "3  9669632_MESH:D020117_MESH:D003967   9669632_3  bcv_devset_test_100_easy_3  \n",
       "4  9669632_MESH:D020117_MESH:D003248   9669632_3  bcv_devset_test_100_easy_4  "
      ]
     },
     "execution_count": 17,
     "metadata": {},
     "output_type": "execute_result"
    }
   ],
   "source": [
    "easy_units.head()"
   ]
  },
  {
   "cell_type": "code",
   "execution_count": 18,
   "metadata": {
    "collapsed": false
   },
   "outputs": [
    {
     "data": {
      "text/html": [
       "<div>\n",
       "<table border=\"1\" class=\"dataframe\">\n",
       "  <thead>\n",
       "    <tr style=\"text-align: right;\">\n",
       "      <th></th>\n",
       "      <th>chemical_id</th>\n",
       "      <th>chemical_name</th>\n",
       "      <th>disease_id</th>\n",
       "      <th>disease_name</th>\n",
       "      <th>form_abstract</th>\n",
       "      <th>form_title</th>\n",
       "      <th>pmid</th>\n",
       "      <th>uniq_id</th>\n",
       "    </tr>\n",
       "  </thead>\n",
       "  <tbody>\n",
       "    <tr>\n",
       "      <th>0</th>\n",
       "      <td>MESH:D020117</td>\n",
       "      <td>&lt;span class=\"chemical\"&gt;cisapride&lt;/span&gt;</td>\n",
       "      <td>MESH:D015746</td>\n",
       "      <td>&lt;span class=\"disease\"&gt;abdominal pain&lt;/span&gt;</td>\n",
       "      <td>&lt;p&gt;BACKGROUND: Irritable bowel syndrome is a c...</td>\n",
       "      <td>Effects of &lt;span class=\"chemical\"&gt;cisapride&lt;/s...</td>\n",
       "      <td>9669632</td>\n",
       "      <td>bcv_devset_test_100_hard_0</td>\n",
       "    </tr>\n",
       "    <tr>\n",
       "      <th>1</th>\n",
       "      <td>MESH:D020117</td>\n",
       "      <td>&lt;span class=\"chemical\"&gt;cisapride&lt;/span&gt;</td>\n",
       "      <td>MESH:D005767</td>\n",
       "      <td>&lt;span class=\"disease\"&gt;disordered gastrointesti...</td>\n",
       "      <td>&lt;p&gt;BACKGROUND: Irritable bowel syndrome is a c...</td>\n",
       "      <td>Effects of &lt;span class=\"chemical\"&gt;cisapride&lt;/s...</td>\n",
       "      <td>9669632</td>\n",
       "      <td>bcv_devset_test_100_hard_1</td>\n",
       "    </tr>\n",
       "    <tr>\n",
       "      <th>2</th>\n",
       "      <td>MESH:C117268</td>\n",
       "      <td>&lt;span class=\"chemical\"&gt;pimecrolimus&lt;/span&gt;</td>\n",
       "      <td>MESH:D003875</td>\n",
       "      <td>&lt;span class=\"disease\"&gt;eruptions&lt;/span&gt;</td>\n",
       "      <td>We describe herein 3 patients who developed ro...</td>\n",
       "      <td>Rosaceiform dermatitis associated with topical...</td>\n",
       "      <td>20466178</td>\n",
       "      <td>bcv_devset_test_100_hard_2</td>\n",
       "    </tr>\n",
       "    <tr>\n",
       "      <th>3</th>\n",
       "      <td>MESH:C117268</td>\n",
       "      <td>&lt;span class=\"chemical\"&gt;pimecrolimus&lt;/span&gt;</td>\n",
       "      <td>MESH:D012393</td>\n",
       "      <td>&lt;span class=\"disease\"&gt;rosacea&lt;/span&gt;</td>\n",
       "      <td>We describe herein 3 patients who developed &lt;s...</td>\n",
       "      <td>Rosaceiform dermatitis associated with topical...</td>\n",
       "      <td>20466178</td>\n",
       "      <td>bcv_devset_test_100_hard_3</td>\n",
       "    </tr>\n",
       "    <tr>\n",
       "      <th>4</th>\n",
       "      <td>MESH:D016559</td>\n",
       "      <td>&lt;span class=\"chemical\"&gt;tacrolimus&lt;/span&gt;</td>\n",
       "      <td>MESH:D013684</td>\n",
       "      <td>&lt;span class=\"disease\"&gt;telangiectasia&lt;/span&gt;</td>\n",
       "      <td>We describe herein 3 patients who developed ro...</td>\n",
       "      <td>Rosaceiform dermatitis associated with topical...</td>\n",
       "      <td>20466178</td>\n",
       "      <td>bcv_devset_test_100_hard_4</td>\n",
       "    </tr>\n",
       "  </tbody>\n",
       "</table>\n",
       "</div>"
      ],
      "text/plain": [
       "    chemical_id                               chemical_name    disease_id  \\\n",
       "0  MESH:D020117     <span class=\"chemical\">cisapride</span>  MESH:D015746   \n",
       "1  MESH:D020117     <span class=\"chemical\">cisapride</span>  MESH:D005767   \n",
       "2  MESH:C117268  <span class=\"chemical\">pimecrolimus</span>  MESH:D003875   \n",
       "3  MESH:C117268  <span class=\"chemical\">pimecrolimus</span>  MESH:D012393   \n",
       "4  MESH:D016559    <span class=\"chemical\">tacrolimus</span>  MESH:D013684   \n",
       "\n",
       "                                        disease_name  \\\n",
       "0        <span class=\"disease\">abdominal pain</span>   \n",
       "1  <span class=\"disease\">disordered gastrointesti...   \n",
       "2             <span class=\"disease\">eruptions</span>   \n",
       "3               <span class=\"disease\">rosacea</span>   \n",
       "4        <span class=\"disease\">telangiectasia</span>   \n",
       "\n",
       "                                       form_abstract  \\\n",
       "0  <p>BACKGROUND: Irritable bowel syndrome is a c...   \n",
       "1  <p>BACKGROUND: Irritable bowel syndrome is a c...   \n",
       "2  We describe herein 3 patients who developed ro...   \n",
       "3  We describe herein 3 patients who developed <s...   \n",
       "4  We describe herein 3 patients who developed ro...   \n",
       "\n",
       "                                          form_title      pmid  \\\n",
       "0  Effects of <span class=\"chemical\">cisapride</s...   9669632   \n",
       "1  Effects of <span class=\"chemical\">cisapride</s...   9669632   \n",
       "2  Rosaceiform dermatitis associated with topical...  20466178   \n",
       "3  Rosaceiform dermatitis associated with topical...  20466178   \n",
       "4  Rosaceiform dermatitis associated with topical...  20466178   \n",
       "\n",
       "                      uniq_id  \n",
       "0  bcv_devset_test_100_hard_0  \n",
       "1  bcv_devset_test_100_hard_1  \n",
       "2  bcv_devset_test_100_hard_2  \n",
       "3  bcv_devset_test_100_hard_3  \n",
       "4  bcv_devset_test_100_hard_4  "
      ]
     },
     "execution_count": 18,
     "metadata": {},
     "output_type": "execute_result"
    }
   ],
   "source": [
    "hard_units.head()"
   ]
  },
  {
   "cell_type": "markdown",
   "metadata": {},
   "source": [
    "---"
   ]
  },
  {
   "cell_type": "code",
   "execution_count": 19,
   "metadata": {
    "collapsed": true
   },
   "outputs": [],
   "source": [
    "abs_test_ques = pd.read_csv(\"data/crowdflower/gold_reports/job_767273_gold_report.csv\", sep = ',')"
   ]
  },
  {
   "cell_type": "code",
   "execution_count": 20,
   "metadata": {
    "collapsed": false
   },
   "outputs": [
    {
     "data": {
      "text/plain": [
       "(234, 21)"
      ]
     },
     "execution_count": 20,
     "metadata": {},
     "output_type": "execute_result"
    }
   ],
   "source": [
    "abs_test_ques.shape"
   ]
  },
  {
   "cell_type": "code",
   "execution_count": 21,
   "metadata": {
    "collapsed": true
   },
   "outputs": [],
   "source": [
    "abs_test_ques = abs_test_ques.query(\"~_hidden\")"
   ]
  },
  {
   "cell_type": "code",
   "execution_count": 22,
   "metadata": {
    "collapsed": false
   },
   "outputs": [
    {
     "data": {
      "text/plain": [
       "(228, 21)"
      ]
     },
     "execution_count": 22,
     "metadata": {},
     "output_type": "execute_result"
    }
   ],
   "source": [
    "abs_test_ques.shape"
   ]
  },
  {
   "cell_type": "code",
   "execution_count": 23,
   "metadata": {
    "collapsed": true
   },
   "outputs": [],
   "source": [
    "# columns to keep\n",
    "columns = [\"verify_relationship_gold\",\n",
    "           \"verify_relationship_gold_reason\",\n",
    "           \"chemical_id\", \"chemical_name\",\n",
    "           \"disease_id\", \"disease_name\",\n",
    "           \"form_title\", \"form_abstract\", \"original_job_id\",\n",
    "           \"pmid\", \"uniq_id\", \"old_cf_work_unit_id\"]"
   ]
  },
  {
   "cell_type": "code",
   "execution_count": 24,
   "metadata": {
    "collapsed": false
   },
   "outputs": [],
   "source": [
    "abs_test_ques = abs_test_ques[columns]"
   ]
  },
  {
   "cell_type": "code",
   "execution_count": 25,
   "metadata": {
    "collapsed": false
   },
   "outputs": [
    {
     "data": {
      "text/plain": [
       "no_relation    134\n",
       "yes_direct      94\n",
       "dtype: int64"
      ]
     },
     "execution_count": 25,
     "metadata": {},
     "output_type": "execute_result"
    }
   ],
   "source": [
    "abs_test_ques[\"verify_relationship_gold\"].value_counts()"
   ]
  },
  {
   "cell_type": "code",
   "execution_count": 26,
   "metadata": {
    "collapsed": true
   },
   "outputs": [],
   "source": [
    "sent_test_ques = pd.read_csv(\"data/crowdflower/test_questions/job_764099_test_questions.tsv\", sep = '\\t')"
   ]
  },
  {
   "cell_type": "code",
   "execution_count": 27,
   "metadata": {
    "collapsed": true
   },
   "outputs": [],
   "source": [
    "sent_test_ques.loc[:, \"original_job_id\"] = sent_test_ques.loc[:, \"original_job_id\"].map(int)\n",
    "\n",
    "sent_test_ques.loc[:, \"verify_relationship_gold\"] = sent_test_ques.loc[:, \"verify_relationship_gold\"].map(lambda x: \"{0}\\n\".format(x))\n",
    "\n",
    "sent_test_ques[\"_golden\"] = \"TRUE\""
   ]
  },
  {
   "cell_type": "code",
   "execution_count": 28,
   "metadata": {
    "collapsed": true
   },
   "outputs": [],
   "source": [
    "abs_test_ques.loc[:, \"original_job_id\"] = abs_test_ques.loc[:, \"original_job_id\"].map(int)\n",
    "\n",
    "abs_test_ques.loc[:, \"verify_relationship_gold\"] = abs_test_ques.loc[:, \"verify_relationship_gold\"].map(lambda x: \"{0}\\n\".format(x))\n",
    "\n",
    "abs_test_ques[\"_golden\"] = \"TRUE\""
   ]
  },
  {
   "cell_type": "code",
   "execution_count": 29,
   "metadata": {
    "collapsed": true
   },
   "outputs": [],
   "source": [
    "final_sent_task = pd.concat([sent_test_ques, easy_units])"
   ]
  },
  {
   "cell_type": "code",
   "execution_count": 30,
   "metadata": {
    "collapsed": true
   },
   "outputs": [],
   "source": [
    "final_abs_task = pd.concat([abs_test_ques, hard_units])"
   ]
  },
  {
   "cell_type": "code",
   "execution_count": 31,
   "metadata": {
    "collapsed": false
   },
   "outputs": [
    {
     "data": {
      "text/plain": [
       "(1200, 13)"
      ]
     },
     "execution_count": 31,
     "metadata": {},
     "output_type": "execute_result"
    }
   ],
   "source": [
    "final_sent_task.shape"
   ]
  },
  {
   "cell_type": "code",
   "execution_count": 32,
   "metadata": {
    "collapsed": false
   },
   "outputs": [
    {
     "data": {
      "text/plain": [
       "(768, 13)"
      ]
     },
     "execution_count": 32,
     "metadata": {},
     "output_type": "execute_result"
    }
   ],
   "source": [
    "final_abs_task.shape"
   ]
  },
  {
   "cell_type": "code",
   "execution_count": 33,
   "metadata": {
    "collapsed": true
   },
   "outputs": [],
   "source": [
    "final_sent_task.to_csv(\"data/crowdflower/data_for_sent_task_job_.tsv\", sep = '\\t', index = False)"
   ]
  },
  {
   "cell_type": "code",
   "execution_count": 34,
   "metadata": {
    "collapsed": true
   },
   "outputs": [],
   "source": [
    "final_abs_task.to_csv(\"data/crowdflower/data_for_abs_task_job_.tsv\", sep = '\\t', index = False)"
   ]
  },
  {
   "cell_type": "code",
   "execution_count": null,
   "metadata": {
    "collapsed": true
   },
   "outputs": [],
   "source": []
  }
 ],
 "metadata": {
  "kernelspec": {
   "display_name": "Python 3",
   "language": "python",
   "name": "python3"
  },
  "language_info": {
   "codemirror_mode": {
    "name": "ipython",
    "version": 3
   },
   "file_extension": ".py",
   "mimetype": "text/x-python",
   "name": "python",
   "nbconvert_exporter": "python",
   "pygments_lexer": "ipython3",
   "version": "3.4.2"
  }
 },
 "nbformat": 4,
 "nbformat_minor": 0
}
