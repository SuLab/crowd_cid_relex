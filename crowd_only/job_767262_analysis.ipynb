{
 "cells": [
  {
   "cell_type": "markdown",
   "metadata": {},
   "source": [
    "# Analysis of CrowdFlower job #767262: sentence-level CID verification task for BioCreative final evaluation\n",
    "\n",
    "Tong Shu Li<br>\n",
    "Created on: 2015-08-19<br>\n",
    "Last updated: 2015-10-22\n",
    "\n",
    "Here we analyze the sentence-level task of the final evaluation for BioCreative V."
   ]
  },
  {
   "cell_type": "code",
   "execution_count": 1,
   "metadata": {
    "collapsed": false
   },
   "outputs": [],
   "source": [
    "from collections import defaultdict\n",
    "from IPython.display import Image\n",
    "import datetime as dt\n",
    "import matplotlib as plt\n",
    "import numpy as np\n",
    "import os\n",
    "import pandas as pd\n",
    "import pycountry"
   ]
  },
  {
   "cell_type": "code",
   "execution_count": 2,
   "metadata": {
    "collapsed": true
   },
   "outputs": [],
   "source": [
    "NUMPY_RAND_SEED = 993402"
   ]
  },
  {
   "cell_type": "code",
   "execution_count": 3,
   "metadata": {
    "collapsed": true
   },
   "outputs": [],
   "source": [
    "matplotlib inline"
   ]
  },
  {
   "cell_type": "code",
   "execution_count": 4,
   "metadata": {
    "collapsed": true
   },
   "outputs": [],
   "source": [
    "from src.filter_data import filter_data\n",
    "from src.aggregate_results import *"
   ]
  },
  {
   "cell_type": "code",
   "execution_count": 5,
   "metadata": {
    "collapsed": true
   },
   "outputs": [],
   "source": [
    "def convert_time(text):\n",
    "    \"\"\"\n",
    "    Given the time in CrowdFlower's output format,\n",
    "    convert it to a Python datetime object.\n",
    "    CrowdFlower time stamps are in UTC.\n",
    "    \n",
    "    CrowdFlower timestamps have the following format:\n",
    "    \n",
    "    month/day/year hour:minute:second\n",
    "    \n",
    "    Example:\n",
    "    \n",
    "    8/2/2015 00:26:24\n",
    "    \"\"\"\n",
    "    return dt.datetime.strptime(text, \"%m/%d/%Y %H:%M:%S\")\n",
    "\n",
    "def time_elapsed(start, stop):\n",
    "    \"\"\"\n",
    "    Given two Python datetime objects, determines the number\n",
    "    of seconds between those two times.\n",
    "    \"\"\"\n",
    "    seconds = int((stop - start).total_seconds())\n",
    "    assert seconds >= 0\n",
    "    return seconds\n",
    "\n",
    "def determine_time_taken(dataframe):\n",
    "    \"\"\"\n",
    "    Given a dataframe with the responses from one worker,\n",
    "    determines the time taken for one page of work.\n",
    "    \"\"\"\n",
    "    def time_taken_wrapper(row):\n",
    "        return time_elapsed(row[0], row[1])\n",
    "    \n",
    "    if dataframe.empty:\n",
    "        return pd.Series()\n",
    "    \n",
    "    time_taken = dataframe[[\"_started_at\", \"_created_at\"]].apply(time_taken_wrapper, axis = 1)\n",
    "    return time_taken\n",
    "\n",
    "def time_stats(time_series):\n",
    "    \"\"\"\n",
    "    Given the time taken for each individual work unit,\n",
    "    determines some stats.\n",
    "    \"\"\"\n",
    "    return (time_series.min(), time_series.median(), time_series.max())\n",
    "\n",
    "def get_country_name(code):\n",
    "    if isinstance(code, str):\n",
    "        return pycountry.countries.get(alpha3 = code).name.split(\",\")[0]\n",
    "    \n",
    "    # code is missing (NaN)\n",
    "    return \"unknown\""
   ]
  },
  {
   "cell_type": "markdown",
   "metadata": {},
   "source": [
    "---"
   ]
  },
  {
   "cell_type": "markdown",
   "metadata": {},
   "source": [
    "### Worker analysis"
   ]
  },
  {
   "cell_type": "code",
   "execution_count": 6,
   "metadata": {
    "collapsed": false
   },
   "outputs": [],
   "source": [
    "loc = \"data/crowdflower/results\"\n",
    "fname = \"job_767262_worker_summary.csv\"\n",
    "worker_data = pd.read_csv(os.path.join(loc, fname), sep = ',')"
   ]
  },
  {
   "cell_type": "code",
   "execution_count": 7,
   "metadata": {
    "collapsed": true
   },
   "outputs": [],
   "source": [
    "# add a column that tells us if a worker was flagged\n",
    "worker_data[\"flagged\"] = worker_data[\"flagged_at\"].map(lambda x: isinstance(x, str))"
   ]
  },
  {
   "cell_type": "code",
   "execution_count": 8,
   "metadata": {
    "collapsed": false
   },
   "outputs": [
    {
     "data": {
      "text/plain": [
       "(356, 19)"
      ]
     },
     "execution_count": 8,
     "metadata": {},
     "output_type": "execute_result"
    }
   ],
   "source": [
    "worker_data.shape"
   ]
  },
  {
   "cell_type": "code",
   "execution_count": 9,
   "metadata": {
    "collapsed": false
   },
   "outputs": [
    {
     "data": {
      "text/html": [
       "<div>\n",
       "<table border=\"1\" class=\"dataframe\">\n",
       "  <thead>\n",
       "    <tr style=\"text-align: right;\">\n",
       "      <th></th>\n",
       "      <th>worker_id</th>\n",
       "      <th>external_id</th>\n",
       "      <th>judgments_count</th>\n",
       "      <th>missed_count</th>\n",
       "      <th>golds_count</th>\n",
       "      <th>forgiven_count</th>\n",
       "      <th>channel</th>\n",
       "      <th>country</th>\n",
       "      <th>region</th>\n",
       "      <th>city</th>\n",
       "      <th>last_ip</th>\n",
       "      <th>flagged_at</th>\n",
       "      <th>rejected_at</th>\n",
       "      <th>bonus</th>\n",
       "      <th>flag_reason</th>\n",
       "      <th>trust_overall</th>\n",
       "      <th>submission_rate</th>\n",
       "      <th>level_2_contributors</th>\n",
       "      <th>flagged</th>\n",
       "    </tr>\n",
       "  </thead>\n",
       "  <tbody>\n",
       "    <tr>\n",
       "      <th>0</th>\n",
       "      <td>2253549</td>\n",
       "      <td>3174334</td>\n",
       "      <td>6</td>\n",
       "      <td>3</td>\n",
       "      <td>6</td>\n",
       "      <td>0</td>\n",
       "      <td>prodege</td>\n",
       "      <td>CAN</td>\n",
       "      <td>NaN</td>\n",
       "      <td>NaN</td>\n",
       "      <td>70.71.36.231</td>\n",
       "      <td>NaN</td>\n",
       "      <td>NaN</td>\n",
       "      <td>0</td>\n",
       "      <td>NaN</td>\n",
       "      <td>0.5000</td>\n",
       "      <td>360</td>\n",
       "      <td>1</td>\n",
       "      <td>False</td>\n",
       "    </tr>\n",
       "    <tr>\n",
       "      <th>1</th>\n",
       "      <td>4688131</td>\n",
       "      <td>DanicaWong</td>\n",
       "      <td>366</td>\n",
       "      <td>2</td>\n",
       "      <td>66</td>\n",
       "      <td>0</td>\n",
       "      <td>zoombucks</td>\n",
       "      <td>CAN</td>\n",
       "      <td>BC</td>\n",
       "      <td>Vancouver</td>\n",
       "      <td>75.157.35.92</td>\n",
       "      <td>NaN</td>\n",
       "      <td>NaN</td>\n",
       "      <td>0</td>\n",
       "      <td>NaN</td>\n",
       "      <td>0.9697</td>\n",
       "      <td>439</td>\n",
       "      <td>1</td>\n",
       "      <td>False</td>\n",
       "    </tr>\n",
       "    <tr>\n",
       "      <th>2</th>\n",
       "      <td>6476374</td>\n",
       "      <td>3650690</td>\n",
       "      <td>0</td>\n",
       "      <td>0</td>\n",
       "      <td>0</td>\n",
       "      <td>0</td>\n",
       "      <td>clixsense</td>\n",
       "      <td>NaN</td>\n",
       "      <td>NaN</td>\n",
       "      <td>NaN</td>\n",
       "      <td>NaN</td>\n",
       "      <td>NaN</td>\n",
       "      <td>NaN</td>\n",
       "      <td>0</td>\n",
       "      <td>NaN</td>\n",
       "      <td>1.0000</td>\n",
       "      <td>0</td>\n",
       "      <td>1</td>\n",
       "      <td>False</td>\n",
       "    </tr>\n",
       "    <tr>\n",
       "      <th>3</th>\n",
       "      <td>6508242</td>\n",
       "      <td>3048676</td>\n",
       "      <td>6</td>\n",
       "      <td>1</td>\n",
       "      <td>6</td>\n",
       "      <td>0</td>\n",
       "      <td>clixsense</td>\n",
       "      <td>IND</td>\n",
       "      <td>36</td>\n",
       "      <td>Bareilly</td>\n",
       "      <td>117.212.12.223</td>\n",
       "      <td>NaN</td>\n",
       "      <td>NaN</td>\n",
       "      <td>0</td>\n",
       "      <td>NaN</td>\n",
       "      <td>0.8333</td>\n",
       "      <td>360</td>\n",
       "      <td>1</td>\n",
       "      <td>False</td>\n",
       "    </tr>\n",
       "    <tr>\n",
       "      <th>4</th>\n",
       "      <td>6744840</td>\n",
       "      <td>ardann</td>\n",
       "      <td>0</td>\n",
       "      <td>0</td>\n",
       "      <td>0</td>\n",
       "      <td>0</td>\n",
       "      <td>zoombucks</td>\n",
       "      <td>NaN</td>\n",
       "      <td>NaN</td>\n",
       "      <td>NaN</td>\n",
       "      <td>NaN</td>\n",
       "      <td>NaN</td>\n",
       "      <td>NaN</td>\n",
       "      <td>0</td>\n",
       "      <td>NaN</td>\n",
       "      <td>1.0000</td>\n",
       "      <td>0</td>\n",
       "      <td>1</td>\n",
       "      <td>False</td>\n",
       "    </tr>\n",
       "  </tbody>\n",
       "</table>\n",
       "</div>"
      ],
      "text/plain": [
       "   worker_id external_id  judgments_count  missed_count  golds_count  \\\n",
       "0    2253549     3174334                6             3            6   \n",
       "1    4688131  DanicaWong              366             2           66   \n",
       "2    6476374     3650690                0             0            0   \n",
       "3    6508242     3048676                6             1            6   \n",
       "4    6744840      ardann                0             0            0   \n",
       "\n",
       "   forgiven_count    channel country region       city         last_ip  \\\n",
       "0               0    prodege     CAN    NaN        NaN    70.71.36.231   \n",
       "1               0  zoombucks     CAN     BC  Vancouver    75.157.35.92   \n",
       "2               0  clixsense     NaN    NaN        NaN             NaN   \n",
       "3               0  clixsense     IND     36   Bareilly  117.212.12.223   \n",
       "4               0  zoombucks     NaN    NaN        NaN             NaN   \n",
       "\n",
       "  flagged_at rejected_at  bonus flag_reason  trust_overall  submission_rate  \\\n",
       "0        NaN         NaN      0         NaN         0.5000              360   \n",
       "1        NaN         NaN      0         NaN         0.9697              439   \n",
       "2        NaN         NaN      0         NaN         1.0000                0   \n",
       "3        NaN         NaN      0         NaN         0.8333              360   \n",
       "4        NaN         NaN      0         NaN         1.0000                0   \n",
       "\n",
       "   level_2_contributors flagged  \n",
       "0                     1   False  \n",
       "1                     1   False  \n",
       "2                     1   False  \n",
       "3                     1   False  \n",
       "4                     1   False  "
      ]
     },
     "execution_count": 9,
     "metadata": {},
     "output_type": "execute_result"
    }
   ],
   "source": [
    "worker_data.head()"
   ]
  },
  {
   "cell_type": "code",
   "execution_count": 10,
   "metadata": {
    "collapsed": false
   },
   "outputs": [
    {
     "data": {
      "text/plain": [
       "356"
      ]
     },
     "execution_count": 10,
     "metadata": {},
     "output_type": "execute_result"
    }
   ],
   "source": [
    "# total workers:\n",
    "len(worker_data)"
   ]
  },
  {
   "cell_type": "code",
   "execution_count": 11,
   "metadata": {
    "collapsed": false
   },
   "outputs": [
    {
     "data": {
      "text/plain": [
       "133"
      ]
     },
     "execution_count": 11,
     "metadata": {},
     "output_type": "execute_result"
    }
   ],
   "source": [
    "# zero judgments (gave up immediately?)\n",
    "len(worker_data.query(\"judgments_count == 0\"))"
   ]
  },
  {
   "cell_type": "code",
   "execution_count": 12,
   "metadata": {
    "collapsed": false
   },
   "outputs": [
    {
     "data": {
      "text/plain": [
       "223"
      ]
     },
     "execution_count": 12,
     "metadata": {},
     "output_type": "execute_result"
    }
   ],
   "source": [
    "# made at least one judgement\n",
    "len(worker_data.query(\"judgments_count > 0\"))"
   ]
  },
  {
   "cell_type": "code",
   "execution_count": 13,
   "metadata": {
    "collapsed": false
   },
   "outputs": [
    {
     "data": {
      "text/plain": [
       "116"
      ]
     },
     "execution_count": 13,
     "metadata": {},
     "output_type": "execute_result"
    }
   ],
   "source": [
    "# saw only the quiz\n",
    "len(worker_data.query(\"judgments_count == 6\"))"
   ]
  },
  {
   "cell_type": "code",
   "execution_count": 14,
   "metadata": {
    "collapsed": false
   },
   "outputs": [
    {
     "data": {
      "text/plain": [
       "107"
      ]
     },
     "execution_count": 14,
     "metadata": {},
     "output_type": "execute_result"
    }
   ],
   "source": [
    "# saw some real work (passed initial quiz)\n",
    "len(worker_data.query(\"judgments_count > 6\"))"
   ]
  },
  {
   "cell_type": "code",
   "execution_count": 15,
   "metadata": {
    "collapsed": false
   },
   "outputs": [
    {
     "data": {
      "text/plain": [
       "14"
      ]
     },
     "execution_count": 15,
     "metadata": {},
     "output_type": "execute_result"
    }
   ],
   "source": [
    "# saw only the quiz and passed, but did no real work\n",
    "len(worker_data.query(\"judgments_count == 6 and trust_overall >= 0.7\"))"
   ]
  },
  {
   "cell_type": "code",
   "execution_count": 16,
   "metadata": {
    "collapsed": false
   },
   "outputs": [
    {
     "data": {
      "text/plain": [
       "102"
      ]
     },
     "execution_count": 16,
     "metadata": {},
     "output_type": "execute_result"
    }
   ],
   "source": [
    "# failed the initial quiz\n",
    "len(worker_data.query(\"judgments_count == 6 and trust_overall < 0.7\"))"
   ]
  },
  {
   "cell_type": "code",
   "execution_count": 17,
   "metadata": {
    "collapsed": false
   },
   "outputs": [
    {
     "data": {
      "text/plain": [
       "12"
      ]
     },
     "execution_count": 17,
     "metadata": {},
     "output_type": "execute_result"
    }
   ],
   "source": [
    "# eventually failed out of the job\n",
    "len(worker_data.query(\"judgments_count > 6 and trust_overall < 0.7\"))"
   ]
  },
  {
   "cell_type": "code",
   "execution_count": 18,
   "metadata": {
    "collapsed": false
   },
   "outputs": [
    {
     "data": {
      "text/plain": [
       "5"
      ]
     },
     "execution_count": 18,
     "metadata": {},
     "output_type": "execute_result"
    }
   ],
   "source": [
    "# had good trust score but was kicked out due to weird answer distribution\n",
    "len(worker_data.query(\"judgments_count > 6 and trust_overall >= 0.7 and flagged\"))"
   ]
  },
  {
   "cell_type": "code",
   "execution_count": 19,
   "metadata": {
    "collapsed": false
   },
   "outputs": [
    {
     "name": "stdout",
     "output_type": "stream",
     "text": [
      "90\n"
     ]
    }
   ],
   "source": [
    "# had good trust score but was kicked out due to weird answer distribution\n",
    "good_workers = worker_data.query(\"judgments_count > 6 and trust_overall >= 0.7 and ~flagged\")\n",
    "print(len(good_workers))"
   ]
  },
  {
   "cell_type": "markdown",
   "metadata": {},
   "source": [
    "### Good worker statistics"
   ]
  },
  {
   "cell_type": "code",
   "execution_count": 20,
   "metadata": {
    "collapsed": false
   },
   "outputs": [
    {
     "data": {
      "text/html": [
       "<div>\n",
       "<table border=\"1\" class=\"dataframe\">\n",
       "  <thead>\n",
       "    <tr style=\"text-align: right;\">\n",
       "      <th></th>\n",
       "      <th>worker_id</th>\n",
       "      <th>external_id</th>\n",
       "      <th>judgments_count</th>\n",
       "      <th>missed_count</th>\n",
       "      <th>golds_count</th>\n",
       "      <th>forgiven_count</th>\n",
       "      <th>channel</th>\n",
       "      <th>country</th>\n",
       "      <th>region</th>\n",
       "      <th>city</th>\n",
       "      <th>last_ip</th>\n",
       "      <th>flagged_at</th>\n",
       "      <th>rejected_at</th>\n",
       "      <th>bonus</th>\n",
       "      <th>flag_reason</th>\n",
       "      <th>trust_overall</th>\n",
       "      <th>submission_rate</th>\n",
       "      <th>level_2_contributors</th>\n",
       "      <th>flagged</th>\n",
       "    </tr>\n",
       "  </thead>\n",
       "  <tbody>\n",
       "    <tr>\n",
       "      <th>1</th>\n",
       "      <td>4688131</td>\n",
       "      <td>DanicaWong</td>\n",
       "      <td>366</td>\n",
       "      <td>2</td>\n",
       "      <td>66</td>\n",
       "      <td>0</td>\n",
       "      <td>zoombucks</td>\n",
       "      <td>CAN</td>\n",
       "      <td>BC</td>\n",
       "      <td>Vancouver</td>\n",
       "      <td>75.157.35.92</td>\n",
       "      <td>NaN</td>\n",
       "      <td>NaN</td>\n",
       "      <td>0</td>\n",
       "      <td>NaN</td>\n",
       "      <td>0.9697</td>\n",
       "      <td>439</td>\n",
       "      <td>1</td>\n",
       "      <td>False</td>\n",
       "    </tr>\n",
       "    <tr>\n",
       "      <th>6</th>\n",
       "      <td>7281828</td>\n",
       "      <td>4059599</td>\n",
       "      <td>246</td>\n",
       "      <td>5</td>\n",
       "      <td>46</td>\n",
       "      <td>0</td>\n",
       "      <td>clixsense</td>\n",
       "      <td>PHL</td>\n",
       "      <td>D9</td>\n",
       "      <td>Mandaluyong City</td>\n",
       "      <td>121.54.32.144</td>\n",
       "      <td>NaN</td>\n",
       "      <td>NaN</td>\n",
       "      <td>0</td>\n",
       "      <td>NaN</td>\n",
       "      <td>0.8913</td>\n",
       "      <td>369</td>\n",
       "      <td>1</td>\n",
       "      <td>False</td>\n",
       "    </tr>\n",
       "    <tr>\n",
       "      <th>8</th>\n",
       "      <td>9509334</td>\n",
       "      <td>2691342</td>\n",
       "      <td>96</td>\n",
       "      <td>4</td>\n",
       "      <td>21</td>\n",
       "      <td>0</td>\n",
       "      <td>clixsense</td>\n",
       "      <td>BIH</td>\n",
       "      <td>01</td>\n",
       "      <td>Sarajevo</td>\n",
       "      <td>188.127.125.187</td>\n",
       "      <td>NaN</td>\n",
       "      <td>NaN</td>\n",
       "      <td>0</td>\n",
       "      <td>NaN</td>\n",
       "      <td>0.8095</td>\n",
       "      <td>360</td>\n",
       "      <td>1</td>\n",
       "      <td>False</td>\n",
       "    </tr>\n",
       "    <tr>\n",
       "      <th>11</th>\n",
       "      <td>11034490</td>\n",
       "      <td>A49649E23956D3B82BFA95FAD8D0CB36</td>\n",
       "      <td>30</td>\n",
       "      <td>1</td>\n",
       "      <td>10</td>\n",
       "      <td>0</td>\n",
       "      <td>neodev</td>\n",
       "      <td>PHL</td>\n",
       "      <td>D9</td>\n",
       "      <td>NaN</td>\n",
       "      <td>180.191.114.106</td>\n",
       "      <td>NaN</td>\n",
       "      <td>NaN</td>\n",
       "      <td>0</td>\n",
       "      <td>NaN</td>\n",
       "      <td>0.9000</td>\n",
       "      <td>360</td>\n",
       "      <td>1</td>\n",
       "      <td>False</td>\n",
       "    </tr>\n",
       "    <tr>\n",
       "      <th>12</th>\n",
       "      <td>11064916</td>\n",
       "      <td>F3412D40364B0E6F2BFA95FAD8D0CB36</td>\n",
       "      <td>636</td>\n",
       "      <td>17</td>\n",
       "      <td>111</td>\n",
       "      <td>0</td>\n",
       "      <td>neodev</td>\n",
       "      <td>BOL</td>\n",
       "      <td>04</td>\n",
       "      <td>La Paz</td>\n",
       "      <td>190.129.184.198</td>\n",
       "      <td>NaN</td>\n",
       "      <td>NaN</td>\n",
       "      <td>0</td>\n",
       "      <td>NaN</td>\n",
       "      <td>0.8468</td>\n",
       "      <td>250</td>\n",
       "      <td>1</td>\n",
       "      <td>False</td>\n",
       "    </tr>\n",
       "  </tbody>\n",
       "</table>\n",
       "</div>"
      ],
      "text/plain": [
       "    worker_id                       external_id  judgments_count  \\\n",
       "1     4688131                        DanicaWong              366   \n",
       "6     7281828                           4059599              246   \n",
       "8     9509334                           2691342               96   \n",
       "11   11034490  A49649E23956D3B82BFA95FAD8D0CB36               30   \n",
       "12   11064916  F3412D40364B0E6F2BFA95FAD8D0CB36              636   \n",
       "\n",
       "    missed_count  golds_count  forgiven_count    channel country region  \\\n",
       "1              2           66               0  zoombucks     CAN     BC   \n",
       "6              5           46               0  clixsense     PHL     D9   \n",
       "8              4           21               0  clixsense     BIH     01   \n",
       "11             1           10               0     neodev     PHL     D9   \n",
       "12            17          111               0     neodev     BOL     04   \n",
       "\n",
       "                city          last_ip flagged_at rejected_at  bonus  \\\n",
       "1          Vancouver     75.157.35.92        NaN         NaN      0   \n",
       "6   Mandaluyong City    121.54.32.144        NaN         NaN      0   \n",
       "8           Sarajevo  188.127.125.187        NaN         NaN      0   \n",
       "11               NaN  180.191.114.106        NaN         NaN      0   \n",
       "12            La Paz  190.129.184.198        NaN         NaN      0   \n",
       "\n",
       "   flag_reason  trust_overall  submission_rate  level_2_contributors flagged  \n",
       "1          NaN         0.9697              439                     1   False  \n",
       "6          NaN         0.8913              369                     1   False  \n",
       "8          NaN         0.8095              360                     1   False  \n",
       "11         NaN         0.9000              360                     1   False  \n",
       "12         NaN         0.8468              250                     1   False  "
      ]
     },
     "execution_count": 20,
     "metadata": {},
     "output_type": "execute_result"
    }
   ],
   "source": [
    "good_workers.head()"
   ]
  },
  {
   "cell_type": "code",
   "execution_count": 21,
   "metadata": {
    "collapsed": true
   },
   "outputs": [],
   "source": [
    "good_worker_ids = set(good_workers[\"worker_id\"])"
   ]
  },
  {
   "cell_type": "code",
   "execution_count": 22,
   "metadata": {
    "collapsed": false
   },
   "outputs": [
    {
     "data": {
      "text/plain": [
       "<matplotlib.axes._subplots.AxesSubplot at 0x7fd6e46534e0>"
      ]
     },
     "execution_count": 22,
     "metadata": {},
     "output_type": "execute_result"
    },
    {
     "data": {
      "image/png": "[encoded data removed]",
      "text/plain": [
       "<matplotlib.figure.Figure at 0x7fd6e46a8d68>"
      ]
     },
     "metadata": {},
     "output_type": "display_data"
    }
   ],
   "source": [
    "good_workers[\"country\"].map(get_country_name).value_counts().plot(kind = \"barh\", figsize = (6, 10))"
   ]
  },
  {
   "cell_type": "code",
   "execution_count": 23,
   "metadata": {
    "collapsed": false
   },
   "outputs": [
    {
     "data": {
      "text/plain": [
       "<matplotlib.text.Text at 0x7fd6cb604a58>"
      ]
     },
     "execution_count": 23,
     "metadata": {},
     "output_type": "execute_result"
    },
    {
     "data": {
      "image/png": "[encoded data removed]",
      "text/plain": [
       "<matplotlib.figure.Figure at 0x7fd6cb6012b0>"
      ]
     },
     "metadata": {},
     "output_type": "display_data"
    }
   ],
   "source": [
    "graph = good_workers[\"trust_overall\"].plot(kind = \"hist\", title = \"Final trust score for good workers\")\n",
    "graph.set_ylabel(\"Number of workers\")\n",
    "graph.set_xlabel(\"Final trust score\")"
   ]
  },
  {
   "cell_type": "code",
   "execution_count": 24,
   "metadata": {
    "collapsed": false
   },
   "outputs": [
    {
     "data": {
      "text/plain": [
       "<matplotlib.text.Text at 0x7fd6cb66a0f0>"
      ]
     },
     "execution_count": 24,
     "metadata": {},
     "output_type": "execute_result"
    },
    {
     "data": {
      "image/png": "[encoded data removed]",
      "text/plain": [
       "<matplotlib.figure.Figure at 0x7fd6cb54b630>"
      ]
     },
     "metadata": {},
     "output_type": "display_data"
    }
   ],
   "source": [
    "# plot the amount of work done by the good workers\n",
    "# only count real work units, not the test questions\n",
    "work_done = good_workers[[\"judgments_count\", \"golds_count\"]].apply(lambda v: v[\"judgments_count\"] - v[\"golds_count\"], axis = 1)\n",
    "\n",
    "graph = pd.Series(sorted(work_done, reverse = True)).plot(title = \"Work done by good workers\")\n",
    "graph.set_ylabel(\"Work units seen\")\n",
    "graph.set_xlabel(\"Good workers\")"
   ]
  },
  {
   "cell_type": "markdown",
   "metadata": {},
   "source": [
    "---"
   ]
  },
  {
   "cell_type": "markdown",
   "metadata": {},
   "source": [
    "### Reading the results:"
   ]
  },
  {
   "cell_type": "code",
   "execution_count": 25,
   "metadata": {
    "collapsed": true
   },
   "outputs": [],
   "source": [
    "settings = {\n",
    "    \"loc\": \"data/crowdflower/results\",\n",
    "    \"fname\": \"job_767262_full_with_untrusted.csv\",\n",
    "    \"data_subset\": \"all\",\n",
    "    \"min_accuracy\": 0.0,\n",
    "    \"max_accuracy\": 1.0,\n",
    "    \"dtype\": {}\n",
    "}\n",
    "\n",
    "# all data collected\n",
    "all_raw_data = filter_data(settings)"
   ]
  },
  {
   "cell_type": "code",
   "execution_count": 26,
   "metadata": {
    "collapsed": true
   },
   "outputs": [],
   "source": [
    "settings = {\n",
    "    \"loc\": \"data/crowdflower/results\",\n",
    "    \"fname\": \"job_767262_full_with_untrusted.csv\",\n",
    "    \"data_subset\": \"normal\",\n",
    "    \"min_accuracy\": 0.7,\n",
    "    \"max_accuracy\": 1.0,\n",
    "    \"dtype\": {\"pmid\": int}\n",
    "}\n",
    "\n",
    "work_raw_data = filter_data(settings)"
   ]
  },
  {
   "cell_type": "code",
   "execution_count": 27,
   "metadata": {
    "collapsed": false
   },
   "outputs": [
    {
     "data": {
      "text/plain": [
       "(14870, 29)"
      ]
     },
     "execution_count": 27,
     "metadata": {},
     "output_type": "execute_result"
    }
   ],
   "source": [
    "work_raw_data.shape"
   ]
  },
  {
   "cell_type": "code",
   "execution_count": 28,
   "metadata": {
    "collapsed": false
   },
   "outputs": [
    {
     "data": {
      "text/plain": [
       "False    14700\n",
       "True       170\n",
       "dtype: int64"
      ]
     },
     "execution_count": 28,
     "metadata": {},
     "output_type": "execute_result"
    }
   ],
   "source": [
    "work_raw_data[\"_tainted\"].value_counts()"
   ]
  },
  {
   "cell_type": "markdown",
   "metadata": {},
   "source": [
    "### Removing tainted judgments:"
   ]
  },
  {
   "cell_type": "code",
   "execution_count": 29,
   "metadata": {
    "collapsed": true
   },
   "outputs": [],
   "source": [
    "work_data = work_raw_data.query(\"~_tainted\")"
   ]
  },
  {
   "cell_type": "code",
   "execution_count": 30,
   "metadata": {
    "collapsed": false
   },
   "outputs": [
    {
     "data": {
      "text/plain": [
       "(14700, 29)"
      ]
     },
     "execution_count": 30,
     "metadata": {},
     "output_type": "execute_result"
    }
   ],
   "source": [
    "work_data.shape"
   ]
  },
  {
   "cell_type": "code",
   "execution_count": 31,
   "metadata": {
    "collapsed": false
   },
   "outputs": [
    {
     "name": "stdout",
     "output_type": "stream",
     "text": [
      "Judgements 5, # of work units: 2940\n"
     ]
    }
   ],
   "source": [
    "work_votes = defaultdict(set)\n",
    "for uniq_id, group in work_data.groupby(\"uniq_id\"):\n",
    "    work_votes[len(group[\"_worker_id\"].unique())].add(uniq_id)\n",
    "    \n",
    "for votes, units in work_votes.items():\n",
    "    print(\"Judgements {0}, # of work units: {1}\".format(votes, len(units)))"
   ]
  },
  {
   "cell_type": "code",
   "execution_count": 32,
   "metadata": {
    "collapsed": false
   },
   "outputs": [
    {
     "data": {
      "text/plain": [
       "no_relation     8636\n",
       "yes_direct      5831\n",
       "yes_indirect     233\n",
       "dtype: int64"
      ]
     },
     "execution_count": 32,
     "metadata": {},
     "output_type": "execute_result"
    }
   ],
   "source": [
    "work_data[\"verify_relationship\"].value_counts()"
   ]
  },
  {
   "cell_type": "code",
   "execution_count": 33,
   "metadata": {
    "collapsed": true
   },
   "outputs": [],
   "source": [
    "def trust_over_time(dataframe):\n",
    "    res = defaultdict(list)\n",
    "\n",
    "    list_size = 0\n",
    "    for worker_id, resp in dataframe.groupby(\"_worker_id\"):\n",
    "        cum_seen = 0\n",
    "        cum_missed = 0\n",
    "        for fin_time, page in resp.groupby(\"_created_at\"):\n",
    "            seen = page[\"_golden\"].sum()\n",
    "            missed = page[\"_missed\"].sum()\n",
    "            \n",
    "            if np.isnan(missed):\n",
    "                missed = 0\n",
    "                \n",
    "            cum_seen += seen\n",
    "            cum_missed += missed\n",
    "            res[worker_id].append(1 - cum_missed / cum_seen)\n",
    "            \n",
    "        list_size = max(list_size, len(res[worker_id]))\n",
    "        \n",
    "    temp = dict()\n",
    "    for worker_id, values in res.items():\n",
    "        temp[worker_id] = values + [np.nan] * (list_size - len(values))\n",
    "        \n",
    "    return pd.DataFrame(temp)"
   ]
  },
  {
   "cell_type": "code",
   "execution_count": 34,
   "metadata": {
    "collapsed": true
   },
   "outputs": [],
   "source": [
    "temp = all_raw_data.query(\"_worker_id in {0}\".format(list(good_worker_ids)))"
   ]
  },
  {
   "cell_type": "code",
   "execution_count": 35,
   "metadata": {
    "collapsed": false
   },
   "outputs": [
    {
     "name": "stderr",
     "output_type": "stream",
     "text": [
      "/usr/lib64/python3.4/site-packages/pandas/core/indexing.py:415: SettingWithCopyWarning: \n",
      "A value is trying to be set on a copy of a slice from a DataFrame.\n",
      "Try using .loc[row_indexer,col_indexer] = value instead\n",
      "\n",
      "See the the caveats in the documentation: http://pandas.pydata.org/pandas-docs/stable/indexing.html#indexing-view-versus-copy\n",
      "  self.obj[item] = s\n"
     ]
    }
   ],
   "source": [
    "temp.loc[:, \"_created_at\"] = temp.loc[:, \"_created_at\"].map(convert_time)\n",
    "temp.loc[:, \"_started_at\"] = temp.loc[:, \"_started_at\"].map(convert_time)"
   ]
  },
  {
   "cell_type": "code",
   "execution_count": 36,
   "metadata": {
    "collapsed": true
   },
   "outputs": [],
   "source": [
    "timeres = trust_over_time(temp)"
   ]
  },
  {
   "cell_type": "code",
   "execution_count": 37,
   "metadata": {
    "collapsed": false
   },
   "outputs": [
    {
     "data": {
      "text/html": [
       "<div>\n",
       "<table border=\"1\" class=\"dataframe\">\n",
       "  <thead>\n",
       "    <tr style=\"text-align: right;\">\n",
       "      <th></th>\n",
       "      <th>4688131</th>\n",
       "      <th>7281828</th>\n",
       "      <th>9509334</th>\n",
       "      <th>11034490</th>\n",
       "      <th>11064916</th>\n",
       "      <th>11078426</th>\n",
       "      <th>12337397</th>\n",
       "      <th>13639474</th>\n",
       "      <th>13919775</th>\n",
       "      <th>14311647</th>\n",
       "      <th>...</th>\n",
       "      <th>33387828</th>\n",
       "      <th>33404559</th>\n",
       "      <th>33547093</th>\n",
       "      <th>33555016</th>\n",
       "      <th>33697726</th>\n",
       "      <th>33706161</th>\n",
       "      <th>33746717</th>\n",
       "      <th>33857359</th>\n",
       "      <th>33924850</th>\n",
       "      <th>34062108</th>\n",
       "    </tr>\n",
       "  </thead>\n",
       "  <tbody>\n",
       "    <tr>\n",
       "      <th>0</th>\n",
       "      <td>1</td>\n",
       "      <td>1.000000</td>\n",
       "      <td>0.833333</td>\n",
       "      <td>1.000000</td>\n",
       "      <td>0.833333</td>\n",
       "      <td>0.833333</td>\n",
       "      <td>0.833333</td>\n",
       "      <td>0.833333</td>\n",
       "      <td>1</td>\n",
       "      <td>1</td>\n",
       "      <td>...</td>\n",
       "      <td>0.833333</td>\n",
       "      <td>0.833333</td>\n",
       "      <td>0.833333</td>\n",
       "      <td>0.833333</td>\n",
       "      <td>1</td>\n",
       "      <td>1</td>\n",
       "      <td>1</td>\n",
       "      <td>0.833333</td>\n",
       "      <td>1</td>\n",
       "      <td>0.833333</td>\n",
       "    </tr>\n",
       "    <tr>\n",
       "      <th>1</th>\n",
       "      <td>1</td>\n",
       "      <td>1.000000</td>\n",
       "      <td>0.857143</td>\n",
       "      <td>1.000000</td>\n",
       "      <td>0.857143</td>\n",
       "      <td>0.857143</td>\n",
       "      <td>0.857143</td>\n",
       "      <td>0.857143</td>\n",
       "      <td>1</td>\n",
       "      <td>1</td>\n",
       "      <td>...</td>\n",
       "      <td>0.857143</td>\n",
       "      <td>0.857143</td>\n",
       "      <td>0.714286</td>\n",
       "      <td>0.714286</td>\n",
       "      <td>1</td>\n",
       "      <td>1</td>\n",
       "      <td>1</td>\n",
       "      <td>0.857143</td>\n",
       "      <td>1</td>\n",
       "      <td>0.857143</td>\n",
       "    </tr>\n",
       "    <tr>\n",
       "      <th>2</th>\n",
       "      <td>1</td>\n",
       "      <td>1.000000</td>\n",
       "      <td>0.875000</td>\n",
       "      <td>0.875000</td>\n",
       "      <td>0.875000</td>\n",
       "      <td>0.875000</td>\n",
       "      <td>0.875000</td>\n",
       "      <td>0.750000</td>\n",
       "      <td>1</td>\n",
       "      <td>NaN</td>\n",
       "      <td>...</td>\n",
       "      <td>0.875000</td>\n",
       "      <td>0.875000</td>\n",
       "      <td>0.750000</td>\n",
       "      <td>0.750000</td>\n",
       "      <td>NaN</td>\n",
       "      <td>NaN</td>\n",
       "      <td>1</td>\n",
       "      <td>0.875000</td>\n",
       "      <td>1</td>\n",
       "      <td>0.750000</td>\n",
       "    </tr>\n",
       "    <tr>\n",
       "      <th>3</th>\n",
       "      <td>1</td>\n",
       "      <td>0.888889</td>\n",
       "      <td>0.888889</td>\n",
       "      <td>0.888889</td>\n",
       "      <td>0.888889</td>\n",
       "      <td>0.777778</td>\n",
       "      <td>0.888889</td>\n",
       "      <td>0.777778</td>\n",
       "      <td>1</td>\n",
       "      <td>NaN</td>\n",
       "      <td>...</td>\n",
       "      <td>0.888889</td>\n",
       "      <td>NaN</td>\n",
       "      <td>0.777778</td>\n",
       "      <td>0.777778</td>\n",
       "      <td>NaN</td>\n",
       "      <td>NaN</td>\n",
       "      <td>1</td>\n",
       "      <td>0.888889</td>\n",
       "      <td>1</td>\n",
       "      <td>0.777778</td>\n",
       "    </tr>\n",
       "    <tr>\n",
       "      <th>4</th>\n",
       "      <td>1</td>\n",
       "      <td>0.900000</td>\n",
       "      <td>0.800000</td>\n",
       "      <td>0.900000</td>\n",
       "      <td>0.900000</td>\n",
       "      <td>0.800000</td>\n",
       "      <td>0.900000</td>\n",
       "      <td>0.800000</td>\n",
       "      <td>1</td>\n",
       "      <td>NaN</td>\n",
       "      <td>...</td>\n",
       "      <td>0.900000</td>\n",
       "      <td>NaN</td>\n",
       "      <td>0.800000</td>\n",
       "      <td>0.800000</td>\n",
       "      <td>NaN</td>\n",
       "      <td>NaN</td>\n",
       "      <td>1</td>\n",
       "      <td>0.900000</td>\n",
       "      <td>1</td>\n",
       "      <td>NaN</td>\n",
       "    </tr>\n",
       "  </tbody>\n",
       "</table>\n",
       "<p>5 rows × 90 columns</p>\n",
       "</div>"
      ],
      "text/plain": [
       "   4688131   7281828   9509334   11034490  11064916  11078426  12337397  \\\n",
       "0         1  1.000000  0.833333  1.000000  0.833333  0.833333  0.833333   \n",
       "1         1  1.000000  0.857143  1.000000  0.857143  0.857143  0.857143   \n",
       "2         1  1.000000  0.875000  0.875000  0.875000  0.875000  0.875000   \n",
       "3         1  0.888889  0.888889  0.888889  0.888889  0.777778  0.888889   \n",
       "4         1  0.900000  0.800000  0.900000  0.900000  0.800000  0.900000   \n",
       "\n",
       "   13639474  13919775  14311647    ...     33387828  33404559  33547093  \\\n",
       "0  0.833333         1         1    ...     0.833333  0.833333  0.833333   \n",
       "1  0.857143         1         1    ...     0.857143  0.857143  0.714286   \n",
       "2  0.750000         1       NaN    ...     0.875000  0.875000  0.750000   \n",
       "3  0.777778         1       NaN    ...     0.888889       NaN  0.777778   \n",
       "4  0.800000         1       NaN    ...     0.900000       NaN  0.800000   \n",
       "\n",
       "   33555016  33697726  33706161  33746717  33857359  33924850  34062108  \n",
       "0  0.833333         1         1         1  0.833333         1  0.833333  \n",
       "1  0.714286         1         1         1  0.857143         1  0.857143  \n",
       "2  0.750000       NaN       NaN         1  0.875000         1  0.750000  \n",
       "3  0.777778       NaN       NaN         1  0.888889         1  0.777778  \n",
       "4  0.800000       NaN       NaN         1  0.900000         1       NaN  \n",
       "\n",
       "[5 rows x 90 columns]"
      ]
     },
     "execution_count": 37,
     "metadata": {},
     "output_type": "execute_result"
    }
   ],
   "source": [
    "timeres.head()"
   ]
  },
  {
   "cell_type": "code",
   "execution_count": 38,
   "metadata": {
    "collapsed": false
   },
   "outputs": [
    {
     "data": {
      "text/plain": [
       "<matplotlib.text.Text at 0x7fd6e4709550>"
      ]
     },
     "execution_count": 38,
     "metadata": {},
     "output_type": "execute_result"
    },
    {
     "data": {
      "image/png": "[encoded data removed]",
      "text/plain": [
       "<matplotlib.figure.Figure at 0x7fd6cb5e6ef0>"
      ]
     },
     "metadata": {},
     "output_type": "display_data"
    }
   ],
   "source": [
    "graph = timeres.plot(legend = False, figsize = (8, 5),\n",
    "            title = \"All good workers' cumulative trust scores over time\")\n",
    "\n",
    "graph.set_ylim((0, 1.05))\n",
    "graph.set_xlabel(\"Consecutive pages of work\")\n",
    "graph.set_ylabel(\"Trust score\")"
   ]
  },
  {
   "cell_type": "markdown",
   "metadata": {},
   "source": [
    "### Aggregate results:"
   ]
  },
  {
   "cell_type": "code",
   "execution_count": 39,
   "metadata": {
    "collapsed": true
   },
   "outputs": [],
   "source": [
    "raw_res = aggregate_results(\"uniq_id\", \"verify_relationship\", work_data, \"majority_vote\",\n",
    "                        [\"pmid\", \"_unit_id\", \"chemical_id\", \"disease_id\", \"relation_pair_id\", \"sentence_id\"])"
   ]
  },
  {
   "cell_type": "code",
   "execution_count": 40,
   "metadata": {
    "collapsed": false
   },
   "outputs": [
    {
     "data": {
      "text/plain": [
       "(4565, 11)"
      ]
     },
     "execution_count": 40,
     "metadata": {},
     "output_type": "execute_result"
    }
   ],
   "source": [
    "raw_res.shape"
   ]
  },
  {
   "cell_type": "code",
   "execution_count": 41,
   "metadata": {
    "collapsed": false
   },
   "outputs": [
    {
     "data": {
      "text/html": [
       "<div>\n",
       "<table border=\"1\" class=\"dataframe\">\n",
       "  <thead>\n",
       "    <tr style=\"text-align: right;\">\n",
       "      <th></th>\n",
       "      <th>uniq_id</th>\n",
       "      <th>verify_relationship</th>\n",
       "      <th>conf_score</th>\n",
       "      <th>num_votes</th>\n",
       "      <th>percent_agree</th>\n",
       "      <th>pmid</th>\n",
       "      <th>unit_id</th>\n",
       "      <th>chemical_id</th>\n",
       "      <th>disease_id</th>\n",
       "      <th>relation_pair_id</th>\n",
       "      <th>sentence_id</th>\n",
       "    </tr>\n",
       "  </thead>\n",
       "  <tbody>\n",
       "    <tr>\n",
       "      <th>0</th>\n",
       "      <td>bcv_final_eval_easy_0</td>\n",
       "      <td>yes_direct</td>\n",
       "      <td>4.5004</td>\n",
       "      <td>5</td>\n",
       "      <td>1.000000</td>\n",
       "      <td>0</td>\n",
       "      <td>773931695</td>\n",
       "      <td>MESH:D015738</td>\n",
       "      <td>MESH:D003693</td>\n",
       "      <td>0_MESH:D015738_MESH:D003693</td>\n",
       "      <td>0_0</td>\n",
       "    </tr>\n",
       "    <tr>\n",
       "      <th>0</th>\n",
       "      <td>bcv_final_eval_easy_1</td>\n",
       "      <td>no_relation</td>\n",
       "      <td>4.6655</td>\n",
       "      <td>5</td>\n",
       "      <td>1.000000</td>\n",
       "      <td>0</td>\n",
       "      <td>773931696</td>\n",
       "      <td>MESH:D006632</td>\n",
       "      <td>MESH:D014456</td>\n",
       "      <td>0_MESH:D006632_MESH:D014456</td>\n",
       "      <td>0_1</td>\n",
       "    </tr>\n",
       "    <tr>\n",
       "      <th>1</th>\n",
       "      <td>bcv_final_eval_easy_10</td>\n",
       "      <td>yes_direct</td>\n",
       "      <td>3.5427</td>\n",
       "      <td>4</td>\n",
       "      <td>0.802824</td>\n",
       "      <td>2</td>\n",
       "      <td>773931705</td>\n",
       "      <td>MESH:D000305</td>\n",
       "      <td>MESH:D007674</td>\n",
       "      <td>2_MESH:D000305_MESH:D007674</td>\n",
       "      <td>2_4</td>\n",
       "    </tr>\n",
       "    <tr>\n",
       "      <th>0</th>\n",
       "      <td>bcv_final_eval_easy_10</td>\n",
       "      <td>no_relation</td>\n",
       "      <td>0.8701</td>\n",
       "      <td>1</td>\n",
       "      <td>0.197176</td>\n",
       "      <td>2</td>\n",
       "      <td>773931705</td>\n",
       "      <td>MESH:D000305</td>\n",
       "      <td>MESH:D007674</td>\n",
       "      <td>2_MESH:D000305_MESH:D007674</td>\n",
       "      <td>2_4</td>\n",
       "    </tr>\n",
       "    <tr>\n",
       "      <th>0</th>\n",
       "      <td>bcv_final_eval_easy_100</td>\n",
       "      <td>no_relation</td>\n",
       "      <td>4.2289</td>\n",
       "      <td>5</td>\n",
       "      <td>1.000000</td>\n",
       "      <td>23</td>\n",
       "      <td>773931795</td>\n",
       "      <td>MESH:C029036</td>\n",
       "      <td>MESH:D006949</td>\n",
       "      <td>23_MESH:C029036_MESH:D006949</td>\n",
       "      <td>23_12</td>\n",
       "    </tr>\n",
       "  </tbody>\n",
       "</table>\n",
       "</div>"
      ],
      "text/plain": [
       "                   uniq_id verify_relationship  conf_score  num_votes  \\\n",
       "0    bcv_final_eval_easy_0          yes_direct      4.5004          5   \n",
       "0    bcv_final_eval_easy_1         no_relation      4.6655          5   \n",
       "1   bcv_final_eval_easy_10          yes_direct      3.5427          4   \n",
       "0   bcv_final_eval_easy_10         no_relation      0.8701          1   \n",
       "0  bcv_final_eval_easy_100         no_relation      4.2289          5   \n",
       "\n",
       "   percent_agree  pmid    unit_id   chemical_id    disease_id  \\\n",
       "0       1.000000     0  773931695  MESH:D015738  MESH:D003693   \n",
       "0       1.000000     0  773931696  MESH:D006632  MESH:D014456   \n",
       "1       0.802824     2  773931705  MESH:D000305  MESH:D007674   \n",
       "0       0.197176     2  773931705  MESH:D000305  MESH:D007674   \n",
       "0       1.000000    23  773931795  MESH:C029036  MESH:D006949   \n",
       "\n",
       "               relation_pair_id sentence_id  \n",
       "0   0_MESH:D015738_MESH:D003693         0_0  \n",
       "0   0_MESH:D006632_MESH:D014456         0_1  \n",
       "1   2_MESH:D000305_MESH:D007674         2_4  \n",
       "0   2_MESH:D000305_MESH:D007674         2_4  \n",
       "0  23_MESH:C029036_MESH:D006949       23_12  "
      ]
     },
     "execution_count": 41,
     "metadata": {},
     "output_type": "execute_result"
    }
   ],
   "source": [
    "raw_res.head()"
   ]
  },
  {
   "cell_type": "code",
   "execution_count": 42,
   "metadata": {
    "collapsed": true
   },
   "outputs": [],
   "source": [
    "raw_res.loc[:, [\"pmid\", \"unit_id\"]] = raw_res.loc[:, [\"pmid\", \"unit_id\"]].astype(int)"
   ]
  },
  {
   "cell_type": "markdown",
   "metadata": {},
   "source": [
    "### Were yes_indirect ever a top choice?"
   ]
  },
  {
   "cell_type": "code",
   "execution_count": 43,
   "metadata": {
    "collapsed": false
   },
   "outputs": [
    {
     "name": "stdout",
     "output_type": "stream",
     "text": [
      "# of questions where yes_indirect was the top choice: 12\n"
     ]
    }
   ],
   "source": [
    "indirect_top = set()\n",
    "for uniq_id, group in raw_res.groupby(\"uniq_id\"):\n",
    "    if group[\"verify_relationship\"].iloc[0] == \"yes_indirect\":\n",
    "        indirect_top.add(uniq_id)\n",
    "        \n",
    "print(\"# of questions where yes_indirect was the top choice: {0}\".format(len(indirect_top)))\n",
    "indirect_top_data = raw_res.query(\"uniq_id in {0}\".format(list(indirect_top)))"
   ]
  },
  {
   "cell_type": "code",
   "execution_count": 44,
   "metadata": {
    "collapsed": false
   },
   "outputs": [
    {
     "data": {
      "text/plain": [
       "<matplotlib.axes._subplots.AxesSubplot at 0x7fd6cb0610b8>"
      ]
     },
     "execution_count": 44,
     "metadata": {},
     "output_type": "execute_result"
    },
    {
     "data": {
      "image/png": "[encoded data removed]",
      "text/plain": [
       "<matplotlib.figure.Figure at 0x7fd6cb0f4208>"
      ]
     },
     "metadata": {},
     "output_type": "display_data"
    }
   ],
   "source": [
    "# when yes_indirect was the top answer, how many people voted for it?\n",
    "indirect_top_data.query(\"verify_relationship == 'yes_indirect'\")[\"num_votes\"].value_counts().plot(kind = 'bar')"
   ]
  },
  {
   "cell_type": "markdown",
   "metadata": {},
   "source": [
    "### Results where yes_indirect is converted to a no_relation vote:"
   ]
  },
  {
   "cell_type": "code",
   "execution_count": 45,
   "metadata": {
    "collapsed": true
   },
   "outputs": [],
   "source": [
    "# take positive votes only, indirect is no\n",
    "res_pos_no = aggregate_results(\"uniq_id\", \"verify_relationship\", work_data,\n",
    "                                    \"positive_signal_only\",\n",
    "                                     [\"pmid\", \"_unit_id\", \"chemical_id\", \"disease_id\", \"relation_pair_id\", \"sentence_id\"],\n",
    "                                    \"yes_direct\", {\"yes_indirect\" : \"no_relation\"})"
   ]
  },
  {
   "cell_type": "code",
   "execution_count": 46,
   "metadata": {
    "collapsed": false
   },
   "outputs": [
    {
     "data": {
      "text/plain": [
       "(5384, 11)"
      ]
     },
     "execution_count": 46,
     "metadata": {},
     "output_type": "execute_result"
    }
   ],
   "source": [
    "res_pos_no.shape"
   ]
  },
  {
   "cell_type": "code",
   "execution_count": 47,
   "metadata": {
    "collapsed": false,
    "scrolled": true
   },
   "outputs": [
    {
     "data": {
      "text/html": [
       "<div>\n",
       "<table border=\"1\" class=\"dataframe\">\n",
       "  <thead>\n",
       "    <tr style=\"text-align: right;\">\n",
       "      <th></th>\n",
       "      <th>uniq_id</th>\n",
       "      <th>verify_relationship</th>\n",
       "      <th>conf_score</th>\n",
       "      <th>num_votes</th>\n",
       "      <th>percent_agree</th>\n",
       "      <th>pmid</th>\n",
       "      <th>unit_id</th>\n",
       "      <th>chemical_id</th>\n",
       "      <th>disease_id</th>\n",
       "      <th>relation_pair_id</th>\n",
       "      <th>sentence_id</th>\n",
       "    </tr>\n",
       "  </thead>\n",
       "  <tbody>\n",
       "    <tr>\n",
       "      <th>0</th>\n",
       "      <td>bcv_final_eval_easy_0</td>\n",
       "      <td>yes_direct</td>\n",
       "      <td>4.5004</td>\n",
       "      <td>5</td>\n",
       "      <td>1.000000</td>\n",
       "      <td>0</td>\n",
       "      <td>773931695</td>\n",
       "      <td>MESH:D015738</td>\n",
       "      <td>MESH:D003693</td>\n",
       "      <td>0_MESH:D015738_MESH:D003693</td>\n",
       "      <td>0_0</td>\n",
       "    </tr>\n",
       "    <tr>\n",
       "      <th>0</th>\n",
       "      <td>bcv_final_eval_easy_1</td>\n",
       "      <td>yes_direct</td>\n",
       "      <td>0.0000</td>\n",
       "      <td>0</td>\n",
       "      <td>0.000000</td>\n",
       "      <td>0</td>\n",
       "      <td>773931696</td>\n",
       "      <td>MESH:D006632</td>\n",
       "      <td>MESH:D014456</td>\n",
       "      <td>0_MESH:D006632_MESH:D014456</td>\n",
       "      <td>0_1</td>\n",
       "    </tr>\n",
       "    <tr>\n",
       "      <th>0</th>\n",
       "      <td>bcv_final_eval_easy_1</td>\n",
       "      <td>no_relation</td>\n",
       "      <td>4.6655</td>\n",
       "      <td>5</td>\n",
       "      <td>1.000000</td>\n",
       "      <td>0</td>\n",
       "      <td>773931696</td>\n",
       "      <td>MESH:D006632</td>\n",
       "      <td>MESH:D014456</td>\n",
       "      <td>0_MESH:D006632_MESH:D014456</td>\n",
       "      <td>0_1</td>\n",
       "    </tr>\n",
       "    <tr>\n",
       "      <th>1</th>\n",
       "      <td>bcv_final_eval_easy_10</td>\n",
       "      <td>yes_direct</td>\n",
       "      <td>3.5427</td>\n",
       "      <td>4</td>\n",
       "      <td>0.802824</td>\n",
       "      <td>2</td>\n",
       "      <td>773931705</td>\n",
       "      <td>MESH:D000305</td>\n",
       "      <td>MESH:D007674</td>\n",
       "      <td>2_MESH:D000305_MESH:D007674</td>\n",
       "      <td>2_4</td>\n",
       "    </tr>\n",
       "    <tr>\n",
       "      <th>0</th>\n",
       "      <td>bcv_final_eval_easy_10</td>\n",
       "      <td>no_relation</td>\n",
       "      <td>0.8701</td>\n",
       "      <td>1</td>\n",
       "      <td>0.197176</td>\n",
       "      <td>2</td>\n",
       "      <td>773931705</td>\n",
       "      <td>MESH:D000305</td>\n",
       "      <td>MESH:D007674</td>\n",
       "      <td>2_MESH:D000305_MESH:D007674</td>\n",
       "      <td>2_4</td>\n",
       "    </tr>\n",
       "  </tbody>\n",
       "</table>\n",
       "</div>"
      ],
      "text/plain": [
       "                  uniq_id verify_relationship  conf_score  num_votes  \\\n",
       "0   bcv_final_eval_easy_0          yes_direct      4.5004          5   \n",
       "0   bcv_final_eval_easy_1          yes_direct      0.0000          0   \n",
       "0   bcv_final_eval_easy_1         no_relation      4.6655          5   \n",
       "1  bcv_final_eval_easy_10          yes_direct      3.5427          4   \n",
       "0  bcv_final_eval_easy_10         no_relation      0.8701          1   \n",
       "\n",
       "   percent_agree  pmid    unit_id   chemical_id    disease_id  \\\n",
       "0       1.000000     0  773931695  MESH:D015738  MESH:D003693   \n",
       "0       0.000000     0  773931696  MESH:D006632  MESH:D014456   \n",
       "0       1.000000     0  773931696  MESH:D006632  MESH:D014456   \n",
       "1       0.802824     2  773931705  MESH:D000305  MESH:D007674   \n",
       "0       0.197176     2  773931705  MESH:D000305  MESH:D007674   \n",
       "\n",
       "              relation_pair_id sentence_id  \n",
       "0  0_MESH:D015738_MESH:D003693         0_0  \n",
       "0  0_MESH:D006632_MESH:D014456         0_1  \n",
       "0  0_MESH:D006632_MESH:D014456         0_1  \n",
       "1  2_MESH:D000305_MESH:D007674         2_4  \n",
       "0  2_MESH:D000305_MESH:D007674         2_4  "
      ]
     },
     "execution_count": 47,
     "metadata": {},
     "output_type": "execute_result"
    }
   ],
   "source": [
    "res_pos_no.head()"
   ]
  },
  {
   "cell_type": "code",
   "execution_count": 48,
   "metadata": {
    "collapsed": true
   },
   "outputs": [],
   "source": [
    "res_pos_no.loc[:, [\"unit_id\", \"pmid\"]] = res_pos_no.loc[:, [\"unit_id\", \"pmid\"]].astype(int)"
   ]
  },
  {
   "cell_type": "code",
   "execution_count": 49,
   "metadata": {
    "collapsed": true
   },
   "outputs": [],
   "source": [
    "res_pos_only_no = res_pos_no.query(\"verify_relationship == 'yes_direct'\")"
   ]
  },
  {
   "cell_type": "code",
   "execution_count": 50,
   "metadata": {
    "collapsed": false
   },
   "outputs": [
    {
     "data": {
      "text/plain": [
       "(2940, 11)"
      ]
     },
     "execution_count": 50,
     "metadata": {},
     "output_type": "execute_result"
    }
   ],
   "source": [
    "res_pos_only_no.shape"
   ]
  },
  {
   "cell_type": "code",
   "execution_count": 51,
   "metadata": {
    "collapsed": false
   },
   "outputs": [
    {
     "data": {
      "text/plain": [
       "<matplotlib.axes._subplots.AxesSubplot at 0x7fd6ca004748>"
      ]
     },
     "execution_count": 51,
     "metadata": {},
     "output_type": "execute_result"
    },
    {
     "data": {
      "image/png": "[encoded data removed]",
      "text/plain": [
       "<matplotlib.figure.Figure at 0x7fd6c9f15fd0>"
      ]
     },
     "metadata": {},
     "output_type": "display_data"
    }
   ],
   "source": [
    "res_pos_only_no[\"num_votes\"].value_counts().plot(kind = \"bar\")"
   ]
  },
  {
   "cell_type": "code",
   "execution_count": 52,
   "metadata": {
    "collapsed": false
   },
   "outputs": [
    {
     "data": {
      "text/plain": [
       "<matplotlib.axes._subplots.AxesSubplot at 0x7fd6ca2d2d30>"
      ]
     },
     "execution_count": 52,
     "metadata": {},
     "output_type": "execute_result"
    },
    {
     "data": {
      "image/png": "[encoded data removed]",
      "text/plain": [
       "<matplotlib.figure.Figure at 0x7fd6ca534940>"
      ]
     },
     "metadata": {},
     "output_type": "display_data"
    }
   ],
   "source": [
    "res_pos_only_no[\"num_votes\"].value_counts(normalize = True).plot(kind = \"bar\")"
   ]
  },
  {
   "cell_type": "markdown",
   "metadata": {},
   "source": [
    "Again the majority of questions (~50%) were high consensus no_relation answers (4 or 5 votes). A big fraction was also 5/5 yes_direct, or 4/5 yes_direct. Thankfully there were relatively few ambiguous questions (~20%)."
   ]
  },
  {
   "cell_type": "code",
   "execution_count": 53,
   "metadata": {
    "collapsed": false,
    "scrolled": true
   },
   "outputs": [
    {
     "data": {
      "text/html": [
       "<div>\n",
       "<table border=\"1\" class=\"dataframe\">\n",
       "  <thead>\n",
       "    <tr style=\"text-align: right;\">\n",
       "      <th></th>\n",
       "      <th>uniq_id</th>\n",
       "      <th>verify_relationship</th>\n",
       "      <th>conf_score</th>\n",
       "      <th>num_votes</th>\n",
       "      <th>percent_agree</th>\n",
       "      <th>pmid</th>\n",
       "      <th>unit_id</th>\n",
       "      <th>chemical_id</th>\n",
       "      <th>disease_id</th>\n",
       "      <th>relation_pair_id</th>\n",
       "      <th>sentence_id</th>\n",
       "    </tr>\n",
       "  </thead>\n",
       "  <tbody>\n",
       "    <tr>\n",
       "      <th>0</th>\n",
       "      <td>bcv_final_eval_easy_0</td>\n",
       "      <td>yes_direct</td>\n",
       "      <td>4.5004</td>\n",
       "      <td>5</td>\n",
       "      <td>1.000000</td>\n",
       "      <td>0</td>\n",
       "      <td>773931695</td>\n",
       "      <td>MESH:D015738</td>\n",
       "      <td>MESH:D003693</td>\n",
       "      <td>0_MESH:D015738_MESH:D003693</td>\n",
       "      <td>0_0</td>\n",
       "    </tr>\n",
       "    <tr>\n",
       "      <th>0</th>\n",
       "      <td>bcv_final_eval_easy_1</td>\n",
       "      <td>yes_direct</td>\n",
       "      <td>0.0000</td>\n",
       "      <td>0</td>\n",
       "      <td>0.000000</td>\n",
       "      <td>0</td>\n",
       "      <td>773931696</td>\n",
       "      <td>MESH:D006632</td>\n",
       "      <td>MESH:D014456</td>\n",
       "      <td>0_MESH:D006632_MESH:D014456</td>\n",
       "      <td>0_1</td>\n",
       "    </tr>\n",
       "    <tr>\n",
       "      <th>1</th>\n",
       "      <td>bcv_final_eval_easy_10</td>\n",
       "      <td>yes_direct</td>\n",
       "      <td>3.5427</td>\n",
       "      <td>4</td>\n",
       "      <td>0.802824</td>\n",
       "      <td>2</td>\n",
       "      <td>773931705</td>\n",
       "      <td>MESH:D000305</td>\n",
       "      <td>MESH:D007674</td>\n",
       "      <td>2_MESH:D000305_MESH:D007674</td>\n",
       "      <td>2_4</td>\n",
       "    </tr>\n",
       "    <tr>\n",
       "      <th>0</th>\n",
       "      <td>bcv_final_eval_easy_100</td>\n",
       "      <td>yes_direct</td>\n",
       "      <td>0.0000</td>\n",
       "      <td>0</td>\n",
       "      <td>0.000000</td>\n",
       "      <td>23</td>\n",
       "      <td>773931795</td>\n",
       "      <td>MESH:C029036</td>\n",
       "      <td>MESH:D006949</td>\n",
       "      <td>23_MESH:C029036_MESH:D006949</td>\n",
       "      <td>23_12</td>\n",
       "    </tr>\n",
       "    <tr>\n",
       "      <th>0</th>\n",
       "      <td>bcv_final_eval_easy_1000</td>\n",
       "      <td>yes_direct</td>\n",
       "      <td>0.0000</td>\n",
       "      <td>0</td>\n",
       "      <td>0.000000</td>\n",
       "      <td>181</td>\n",
       "      <td>773932695</td>\n",
       "      <td>MESH:D006220</td>\n",
       "      <td>MESH:D003643</td>\n",
       "      <td>181_MESH:D006220_MESH:D003643</td>\n",
       "      <td>181_5</td>\n",
       "    </tr>\n",
       "  </tbody>\n",
       "</table>\n",
       "</div>"
      ],
      "text/plain": [
       "                    uniq_id verify_relationship  conf_score  num_votes  \\\n",
       "0     bcv_final_eval_easy_0          yes_direct      4.5004          5   \n",
       "0     bcv_final_eval_easy_1          yes_direct      0.0000          0   \n",
       "1    bcv_final_eval_easy_10          yes_direct      3.5427          4   \n",
       "0   bcv_final_eval_easy_100          yes_direct      0.0000          0   \n",
       "0  bcv_final_eval_easy_1000          yes_direct      0.0000          0   \n",
       "\n",
       "   percent_agree  pmid    unit_id   chemical_id    disease_id  \\\n",
       "0       1.000000     0  773931695  MESH:D015738  MESH:D003693   \n",
       "0       0.000000     0  773931696  MESH:D006632  MESH:D014456   \n",
       "1       0.802824     2  773931705  MESH:D000305  MESH:D007674   \n",
       "0       0.000000    23  773931795  MESH:C029036  MESH:D006949   \n",
       "0       0.000000   181  773932695  MESH:D006220  MESH:D003643   \n",
       "\n",
       "                relation_pair_id sentence_id  \n",
       "0    0_MESH:D015738_MESH:D003693         0_0  \n",
       "0    0_MESH:D006632_MESH:D014456         0_1  \n",
       "1    2_MESH:D000305_MESH:D007674         2_4  \n",
       "0   23_MESH:C029036_MESH:D006949       23_12  \n",
       "0  181_MESH:D006220_MESH:D003643       181_5  "
      ]
     },
     "execution_count": 53,
     "metadata": {},
     "output_type": "execute_result"
    }
   ],
   "source": [
    "res_pos_only_no.head()"
   ]
  },
  {
   "cell_type": "markdown",
   "metadata": {},
   "source": [
    "### Aggregate sentence level results to the abstract level:"
   ]
  },
  {
   "cell_type": "code",
   "execution_count": 54,
   "metadata": {
    "collapsed": true
   },
   "outputs": [],
   "source": [
    "def aggregate_sentences(sentence_res):\n",
    "    \"\"\"\n",
    "    Given the aggregated results at the individual work unit level,\n",
    "    this function determines which sentence-bound drug-disease relationships\n",
    "    are true at the abstract level.\n",
    "    \"\"\"\n",
    "    res = defaultdict(list)\n",
    "    for info, group in sentence_res.groupby([\"pmid\", \"chemical_id\", \"disease_id\"]):\n",
    "        assert len(group[\"relation_pair_id\"].unique()) == 1\n",
    "        norm_conf_score_max = group[\"percent_agree\"].max()\n",
    "        \n",
    "        res[\"pmid\"].append(info[0])\n",
    "        res[\"chemical_id\"].append(info[1])\n",
    "        res[\"disease_id\"].append(info[2])\n",
    "        \n",
    "        res[\"score_vote_max\"].append(group[\"num_votes\"].max())\n",
    "        res[\"conf_score\"].append(norm_conf_score_max)\n",
    "        \n",
    "        res[\"uniq_ids\"].append(\"|\".join(group[\"uniq_id\"].unique()))\n",
    "        res[\"unit_ids\"].append(\"|\".join(map(lambda x: str(int(x)), group[\"unit_id\"].unique())))\n",
    "        res[\"sentence_ids\"].append(\"|\".join(group[\"sentence_id\"].unique()))\n",
    "        \n",
    "    return pd.DataFrame(res)"
   ]
  },
  {
   "cell_type": "code",
   "execution_count": 55,
   "metadata": {
    "collapsed": true
   },
   "outputs": [],
   "source": [
    "perf_abs = aggregate_sentences(res_pos_only_no)"
   ]
  },
  {
   "cell_type": "code",
   "execution_count": 56,
   "metadata": {
    "collapsed": false
   },
   "outputs": [
    {
     "data": {
      "text/plain": [
       "(1966, 8)"
      ]
     },
     "execution_count": 56,
     "metadata": {},
     "output_type": "execute_result"
    }
   ],
   "source": [
    "perf_abs.shape"
   ]
  },
  {
   "cell_type": "code",
   "execution_count": 57,
   "metadata": {
    "collapsed": false
   },
   "outputs": [
    {
     "data": {
      "text/html": [
       "<div>\n",
       "<table border=\"1\" class=\"dataframe\">\n",
       "  <thead>\n",
       "    <tr style=\"text-align: right;\">\n",
       "      <th></th>\n",
       "      <th>chemical_id</th>\n",
       "      <th>conf_score</th>\n",
       "      <th>disease_id</th>\n",
       "      <th>pmid</th>\n",
       "      <th>score_vote_max</th>\n",
       "      <th>sentence_ids</th>\n",
       "      <th>uniq_ids</th>\n",
       "      <th>unit_ids</th>\n",
       "    </tr>\n",
       "  </thead>\n",
       "  <tbody>\n",
       "    <tr>\n",
       "      <th>0</th>\n",
       "      <td>MESH:D006632</td>\n",
       "      <td>0.000000</td>\n",
       "      <td>MESH:D014456</td>\n",
       "      <td>0</td>\n",
       "      <td>0</td>\n",
       "      <td>0_1</td>\n",
       "      <td>bcv_final_eval_easy_1</td>\n",
       "      <td>773931696</td>\n",
       "    </tr>\n",
       "    <tr>\n",
       "      <th>1</th>\n",
       "      <td>MESH:D015738</td>\n",
       "      <td>1.000000</td>\n",
       "      <td>MESH:D003693</td>\n",
       "      <td>0</td>\n",
       "      <td>5</td>\n",
       "      <td>0_0|0_2|0_3</td>\n",
       "      <td>bcv_final_eval_easy_0|bcv_final_eval_easy_3|bc...</td>\n",
       "      <td>773931695|773931698|773931699</td>\n",
       "    </tr>\n",
       "    <tr>\n",
       "      <th>2</th>\n",
       "      <td>MESH:D015738</td>\n",
       "      <td>0.000000</td>\n",
       "      <td>MESH:D014456</td>\n",
       "      <td>0</td>\n",
       "      <td>0</td>\n",
       "      <td>0_1</td>\n",
       "      <td>bcv_final_eval_easy_2</td>\n",
       "      <td>773931697</td>\n",
       "    </tr>\n",
       "    <tr>\n",
       "      <th>3</th>\n",
       "      <td>MESH:D012964</td>\n",
       "      <td>0.189597</td>\n",
       "      <td>MESH:D007022</td>\n",
       "      <td>1</td>\n",
       "      <td>1</td>\n",
       "      <td>1_0</td>\n",
       "      <td>bcv_final_eval_easy_5</td>\n",
       "      <td>773931700</td>\n",
       "    </tr>\n",
       "    <tr>\n",
       "      <th>4</th>\n",
       "      <td>MESH:D000305</td>\n",
       "      <td>0.802824</td>\n",
       "      <td>MESH:D007674</td>\n",
       "      <td>2</td>\n",
       "      <td>4</td>\n",
       "      <td>2_4</td>\n",
       "      <td>bcv_final_eval_easy_10</td>\n",
       "      <td>773931705</td>\n",
       "    </tr>\n",
       "  </tbody>\n",
       "</table>\n",
       "</div>"
      ],
      "text/plain": [
       "    chemical_id  conf_score    disease_id  pmid  score_vote_max sentence_ids  \\\n",
       "0  MESH:D006632    0.000000  MESH:D014456     0               0          0_1   \n",
       "1  MESH:D015738    1.000000  MESH:D003693     0               5  0_0|0_2|0_3   \n",
       "2  MESH:D015738    0.000000  MESH:D014456     0               0          0_1   \n",
       "3  MESH:D012964    0.189597  MESH:D007022     1               1          1_0   \n",
       "4  MESH:D000305    0.802824  MESH:D007674     2               4          2_4   \n",
       "\n",
       "                                            uniq_ids  \\\n",
       "0                              bcv_final_eval_easy_1   \n",
       "1  bcv_final_eval_easy_0|bcv_final_eval_easy_3|bc...   \n",
       "2                              bcv_final_eval_easy_2   \n",
       "3                              bcv_final_eval_easy_5   \n",
       "4                             bcv_final_eval_easy_10   \n",
       "\n",
       "                        unit_ids  \n",
       "0                      773931696  \n",
       "1  773931695|773931698|773931699  \n",
       "2                      773931697  \n",
       "3                      773931700  \n",
       "4                      773931705  "
      ]
     },
     "execution_count": 57,
     "metadata": {},
     "output_type": "execute_result"
    }
   ],
   "source": [
    "perf_abs.head()"
   ]
  },
  {
   "cell_type": "code",
   "execution_count": 58,
   "metadata": {
    "collapsed": false
   },
   "outputs": [
    {
     "data": {
      "text/plain": [
       "<matplotlib.axes._subplots.AxesSubplot at 0x7fd6ca534160>"
      ]
     },
     "execution_count": 58,
     "metadata": {},
     "output_type": "execute_result"
    },
    {
     "data": {
      "image/png": "[encoded data removed]",
      "text/plain": [
       "<matplotlib.figure.Figure at 0x7fd6ca3fd668>"
      ]
     },
     "metadata": {},
     "output_type": "display_data"
    }
   ],
   "source": [
    "perf_abs[\"score_vote_max\"].value_counts().plot(kind = \"bar\")"
   ]
  },
  {
   "cell_type": "markdown",
   "metadata": {},
   "source": [
    "At the abstract level, we see that there are a lot more positive results, mostly because we have combined results together. We will write this to a file for final aggregation."
   ]
  },
  {
   "cell_type": "code",
   "execution_count": 59,
   "metadata": {
    "collapsed": true
   },
   "outputs": [],
   "source": [
    "perf_abs.to_csv(\"data/final_eval/results/sentence_relation_abs_res.tsv\", sep = '\\t', index = False)"
   ]
  }
 ],
 "metadata": {
  "kernelspec": {
   "display_name": "Python 3",
   "language": "python",
   "name": "python3"
  },
  "language_info": {
   "codemirror_mode": {
    "name": "ipython",
    "version": 3
   },
   "file_extension": ".py",
   "mimetype": "text/x-python",
   "name": "python",
   "nbconvert_exporter": "python",
   "pygments_lexer": "ipython3",
   "version": "3.4.2"
  }
 },
 "nbformat": 4,
 "nbformat_minor": 0
}
