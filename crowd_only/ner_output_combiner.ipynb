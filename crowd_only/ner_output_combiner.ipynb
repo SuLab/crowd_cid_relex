{
 "cells": [
  {
   "cell_type": "markdown",
   "metadata": {},
   "source": [
    "# NER Output Combiner\n",
    "\n",
    "Tong Shu Li<br>\n",
    "Created on: Monday 2015-08-17<br>\n",
    "Last updated: 2015-08-17\n",
    "\n",
    "This notebook combines the outputs of tmChem and DNorm into one file for processing."
   ]
  },
  {
   "cell_type": "code",
   "execution_count": 1,
   "metadata": {
    "collapsed": true
   },
   "outputs": [],
   "source": [
    "from src.lingpipe.file_util import read_file"
   ]
  },
  {
   "cell_type": "code",
   "execution_count": 2,
   "metadata": {
    "collapsed": true
   },
   "outputs": [],
   "source": [
    "tmchem_fname = \"data/tmchem/tmchem_training.txt.tmChem\"\n",
    "dnorm_fname = \"data/dnorm/dnorm_training_output.txt\""
   ]
  },
  {
   "cell_type": "code",
   "execution_count": 3,
   "metadata": {
    "collapsed": true
   },
   "outputs": [],
   "source": [
    "output_fname = \"data/final_eval/training.txt\""
   ]
  },
  {
   "cell_type": "code",
   "execution_count": 7,
   "metadata": {
    "collapsed": true
   },
   "outputs": [],
   "source": [
    "def read_output(fname):\n",
    "    res = dict()\n",
    "    \n",
    "    counter = 0\n",
    "    pmid = -1\n",
    "    title = \"\"\n",
    "    abstract = \"\"\n",
    "    concepts = []\n",
    "    for line in read_file(fname):\n",
    "        if len(line) == 0:\n",
    "            res[pmid] = (title, abstract, concepts)\n",
    "            counter = 0\n",
    "            concepts = []\n",
    "        else:\n",
    "            if 0 <= counter <= 1:\n",
    "                vals = line.split(\"|\")\n",
    "                assert len(vals) == 3\n",
    "                \n",
    "                pmid = int(vals[0])\n",
    "                \n",
    "                if vals[1] == \"t\":\n",
    "                    title = vals[2]\n",
    "                elif vals[1] == \"a\":\n",
    "                    abstract = vals[2]\n",
    "            else:\n",
    "                concepts.append(line)\n",
    "            \n",
    "            counter += 1\n",
    "            \n",
    "    return res"
   ]
  },
  {
   "cell_type": "code",
   "execution_count": 10,
   "metadata": {
    "collapsed": true
   },
   "outputs": [],
   "source": [
    "chem = read_output(tmchem_fname)\n",
    "dise = read_output(dnorm_fname)"
   ]
  },
  {
   "cell_type": "code",
   "execution_count": 14,
   "metadata": {
    "collapsed": true
   },
   "outputs": [],
   "source": [
    "assert set(chem.keys()) == set(dise.keys())"
   ]
  },
  {
   "cell_type": "code",
   "execution_count": 15,
   "metadata": {
    "collapsed": true
   },
   "outputs": [],
   "source": [
    "pmids = set(chem.keys())"
   ]
  },
  {
   "cell_type": "code",
   "execution_count": 19,
   "metadata": {
    "collapsed": true
   },
   "outputs": [],
   "source": [
    "with open(output_fname, \"w\") as fout:\n",
    "    for pmid in pmids:\n",
    "        assert chem[pmid][0] == dise[pmid][0] # title same\n",
    "        assert chem[pmid][1] == dise[pmid][1] # abstract same\n",
    "        \n",
    "        title = chem[pmid][0]\n",
    "        abstract = chem[pmid][1]\n",
    "        \n",
    "        concepts = chem[pmid][2] + dise[pmid][2]\n",
    "        \n",
    "        fout.write(\"{0}|t|{1}\\n\".format(pmid, title))\n",
    "        fout.write(\"{0}|a|{1}\\n\".format(pmid, abstract))\n",
    "        fout.write(\"{0}\\n\".format(\"\\n\".join(concepts)))\n",
    "        fout.write(\"\\n\")"
   ]
  }
 ],
 "metadata": {
  "kernelspec": {
   "display_name": "Python 2",
   "language": "python",
   "name": "python2"
  },
  "language_info": {
   "codemirror_mode": {
    "name": "ipython",
    "version": 2
   },
   "file_extension": ".py",
   "mimetype": "text/x-python",
   "name": "python",
   "nbconvert_exporter": "python",
   "pygments_lexer": "ipython2",
   "version": "2.7.10"
  }
 },
 "nbformat": 4,
 "nbformat_minor": 0
}
