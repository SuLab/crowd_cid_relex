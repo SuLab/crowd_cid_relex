{
 "cells": [
  {
   "cell_type": "markdown",
   "metadata": {},
   "source": [
    "# Sentence-level task test question preprocessing for final evaluation\n",
    "\n",
    "Tong Shu Li<br>\n",
    "Last updated: 2015-08-21\n",
    "\n",
    "All the test questions used for the final evaluation were the same as the test questions used for CrowdFlower job #764099 (the BeFree sentence-level task). See <code>sent_test_ques_processing.ipynb</code> for the origin of the test questions. Job #764099's test questions were used because two test questions were found to be wrong while job #764099 was running."
   ]
  },
  {
   "cell_type": "code",
   "execution_count": 1,
   "metadata": {
    "collapsed": true
   },
   "outputs": [],
   "source": [
    "import pandas as pd"
   ]
  },
  {
   "cell_type": "code",
   "execution_count": 2,
   "metadata": {
    "collapsed": true
   },
   "outputs": [],
   "source": [
    "sent_test_ques = pd.read_csv(\"data/crowdflower/gold_reports/job_764099_gold_report.csv\", sep = ',')"
   ]
  },
  {
   "cell_type": "code",
   "execution_count": 3,
   "metadata": {
    "collapsed": false
   },
   "outputs": [
    {
     "data": {
      "text/html": [
       "<div>\n",
       "<table border=\"1\" class=\"dataframe\">\n",
       "  <thead>\n",
       "    <tr style=\"text-align: right;\">\n",
       "      <th></th>\n",
       "      <th>_id</th>\n",
       "      <th>_pct_missed</th>\n",
       "      <th>_judgments</th>\n",
       "      <th>_hidden</th>\n",
       "      <th>_contention</th>\n",
       "      <th>_pct_contested</th>\n",
       "      <th>_gold_pool</th>\n",
       "      <th>_verify_relationship</th>\n",
       "      <th>verify_relationship_gold</th>\n",
       "      <th>verify_relationship_gold_reason</th>\n",
       "      <th>...</th>\n",
       "      <th>chemical_id</th>\n",
       "      <th>chemical_name</th>\n",
       "      <th>disease_id</th>\n",
       "      <th>disease_name</th>\n",
       "      <th>form_sentence</th>\n",
       "      <th>original_job_id</th>\n",
       "      <th>pmid</th>\n",
       "      <th>relation_pair_id</th>\n",
       "      <th>sentence_id</th>\n",
       "      <th>uniq_id</th>\n",
       "    </tr>\n",
       "  </thead>\n",
       "  <tbody>\n",
       "    <tr>\n",
       "      <th>0</th>\n",
       "      <td>770955372</td>\n",
       "      <td>0.73</td>\n",
       "      <td>15</td>\n",
       "      <td>False</td>\n",
       "      <td>For the question titled &amp;amp;quot;The sentence...</td>\n",
       "      <td>0.1333</td>\n",
       "      <td>NaN</td>\n",
       "      <td>NaN</td>\n",
       "      <td>no_relation</td>\n",
       "      <td>The receptors to 5-HT6 are related to psychoti...</td>\n",
       "      <td>...</td>\n",
       "      <td>D012701</td>\n",
       "      <td>&lt;span class=\"chemical\"&gt;5-HT&lt;/span&gt;</td>\n",
       "      <td>D011605</td>\n",
       "      <td>&lt;span class=\"disease\"&gt;psychotic disorders&lt;/span&gt;</td>\n",
       "      <td>These animal models were considered to reflect...</td>\n",
       "      <td>762850</td>\n",
       "      <td>20705401</td>\n",
       "      <td>20705401_D012701_D011605</td>\n",
       "      <td>20705401_4</td>\n",
       "      <td>bcv_easy_68_sent_dev_set_762850</td>\n",
       "    </tr>\n",
       "    <tr>\n",
       "      <th>1</th>\n",
       "      <td>770955373</td>\n",
       "      <td>0.21</td>\n",
       "      <td>14</td>\n",
       "      <td>False</td>\n",
       "      <td>a fuck you</td>\n",
       "      <td>0.0714</td>\n",
       "      <td>NaN</td>\n",
       "      <td>NaN</td>\n",
       "      <td>no_relation</td>\n",
       "      <td>D-penicillamine was used to treat the patients.</td>\n",
       "      <td>...</td>\n",
       "      <td>D010396</td>\n",
       "      <td>&lt;span class=\"chemical\"&gt;D-penicillamine&lt;/span&gt;</td>\n",
       "      <td>D012594</td>\n",
       "      <td>&lt;span class=\"disease\"&gt;localized scleroderma&lt;/s...</td>\n",
       "      <td>Case reports of 11 patients with severe, exten...</td>\n",
       "      <td>762850</td>\n",
       "      <td>2334179</td>\n",
       "      <td>2334179_D010396_D012594</td>\n",
       "      <td>2334179_3</td>\n",
       "      <td>bcv_easy_2399_sent_dev_set_762850</td>\n",
       "    </tr>\n",
       "    <tr>\n",
       "      <th>2</th>\n",
       "      <td>770955374</td>\n",
       "      <td>0.13</td>\n",
       "      <td>15</td>\n",
       "      <td>False</td>\n",
       "      <td>NaN</td>\n",
       "      <td>0.0000</td>\n",
       "      <td>NaN</td>\n",
       "      <td>NaN</td>\n",
       "      <td>no_relation</td>\n",
       "      <td>The sentence says the affective disorders were...</td>\n",
       "      <td>...</td>\n",
       "      <td>D015016</td>\n",
       "      <td>&lt;span class=\"chemical\"&gt;yohimbine&lt;/span&gt;</td>\n",
       "      <td>D019964</td>\n",
       "      <td>&lt;span class=\"disease\"&gt;affective disorders&lt;/span&gt;</td>\n",
       "      <td>METHOD: Six patients with either obsessive com...</td>\n",
       "      <td>762850</td>\n",
       "      <td>1535072</td>\n",
       "      <td>1535072_D015016_D019964</td>\n",
       "      <td>1535072_4</td>\n",
       "      <td>bcv_easy_642_sent_dev_set_762850</td>\n",
       "    </tr>\n",
       "    <tr>\n",
       "      <th>3</th>\n",
       "      <td>770955375</td>\n",
       "      <td>0.06</td>\n",
       "      <td>16</td>\n",
       "      <td>False</td>\n",
       "      <td>NaN</td>\n",
       "      <td>0.0000</td>\n",
       "      <td>NaN</td>\n",
       "      <td>NaN</td>\n",
       "      <td>no_relation</td>\n",
       "      <td>The sentence says calcium supplementation cann...</td>\n",
       "      <td>...</td>\n",
       "      <td>D002118</td>\n",
       "      <td>&lt;span class=\"chemical\"&gt;calcium&lt;/span&gt;</td>\n",
       "      <td>D013035</td>\n",
       "      <td>&lt;span class=\"disease\"&gt;muscle spasms&lt;/span&gt;</td>\n",
       "      <td>While severe hypokalemia may cause muscle weak...</td>\n",
       "      <td>762850</td>\n",
       "      <td>8492347</td>\n",
       "      <td>8492347_D002118_D013035</td>\n",
       "      <td>8492347_2</td>\n",
       "      <td>bcv_easy_1271_sent_dev_set_762850</td>\n",
       "    </tr>\n",
       "    <tr>\n",
       "      <th>4</th>\n",
       "      <td>770955376</td>\n",
       "      <td>0.18</td>\n",
       "      <td>11</td>\n",
       "      <td>False</td>\n",
       "      <td>NaN</td>\n",
       "      <td>0.0000</td>\n",
       "      <td>NaN</td>\n",
       "      <td>NaN</td>\n",
       "      <td>no_relation</td>\n",
       "      <td>Dexrazoxane is being used to try and make the ...</td>\n",
       "      <td>...</td>\n",
       "      <td>D064730</td>\n",
       "      <td>&lt;span class=\"chemical\"&gt;dexrazoxane&lt;/span&gt;</td>\n",
       "      <td>D006402</td>\n",
       "      <td>&lt;span class=\"disease\"&gt;hematologic toxicity&lt;/span&gt;</td>\n",
       "      <td>Clinical trials in patients with brain metasta...</td>\n",
       "      <td>762850</td>\n",
       "      <td>15897593</td>\n",
       "      <td>15897593_D064730_D006402</td>\n",
       "      <td>15897593_8</td>\n",
       "      <td>bcv_easy_2793_sent_dev_set_762850</td>\n",
       "    </tr>\n",
       "  </tbody>\n",
       "</table>\n",
       "<p>5 rows × 21 columns</p>\n",
       "</div>"
      ],
      "text/plain": [
       "         _id  _pct_missed  _judgments _hidden  \\\n",
       "0  770955372         0.73          15   False   \n",
       "1  770955373         0.21          14   False   \n",
       "2  770955374         0.13          15   False   \n",
       "3  770955375         0.06          16   False   \n",
       "4  770955376         0.18          11   False   \n",
       "\n",
       "                                         _contention  _pct_contested  \\\n",
       "0  For the question titled &amp;quot;The sentence...          0.1333   \n",
       "1                                         a fuck you          0.0714   \n",
       "2                                                NaN          0.0000   \n",
       "3                                                NaN          0.0000   \n",
       "4                                                NaN          0.0000   \n",
       "\n",
       "   _gold_pool  _verify_relationship verify_relationship_gold  \\\n",
       "0         NaN                   NaN              no_relation   \n",
       "1         NaN                   NaN              no_relation   \n",
       "2         NaN                   NaN              no_relation   \n",
       "3         NaN                   NaN              no_relation   \n",
       "4         NaN                   NaN              no_relation   \n",
       "\n",
       "                     verify_relationship_gold_reason  \\\n",
       "0  The receptors to 5-HT6 are related to psychoti...   \n",
       "1    D-penicillamine was used to treat the patients.   \n",
       "2  The sentence says the affective disorders were...   \n",
       "3  The sentence says calcium supplementation cann...   \n",
       "4  Dexrazoxane is being used to try and make the ...   \n",
       "\n",
       "                 ...                 chemical_id  \\\n",
       "0                ...                     D012701   \n",
       "1                ...                     D010396   \n",
       "2                ...                     D015016   \n",
       "3                ...                     D002118   \n",
       "4                ...                     D064730   \n",
       "\n",
       "                                   chemical_name disease_id  \\\n",
       "0             <span class=\"chemical\">5-HT</span>    D011605   \n",
       "1  <span class=\"chemical\">D-penicillamine</span>    D012594   \n",
       "2        <span class=\"chemical\">yohimbine</span>    D019964   \n",
       "3          <span class=\"chemical\">calcium</span>    D013035   \n",
       "4      <span class=\"chemical\">dexrazoxane</span>    D006402   \n",
       "\n",
       "                                        disease_name  \\\n",
       "0   <span class=\"disease\">psychotic disorders</span>   \n",
       "1  <span class=\"disease\">localized scleroderma</s...   \n",
       "2   <span class=\"disease\">affective disorders</span>   \n",
       "3         <span class=\"disease\">muscle spasms</span>   \n",
       "4  <span class=\"disease\">hematologic toxicity</span>   \n",
       "\n",
       "                                       form_sentence original_job_id  \\\n",
       "0  These animal models were considered to reflect...          762850   \n",
       "1  Case reports of 11 patients with severe, exten...          762850   \n",
       "2  METHOD: Six patients with either obsessive com...          762850   \n",
       "3  While severe hypokalemia may cause muscle weak...          762850   \n",
       "4  Clinical trials in patients with brain metasta...          762850   \n",
       "\n",
       "       pmid          relation_pair_id sentence_id  \\\n",
       "0  20705401  20705401_D012701_D011605  20705401_4   \n",
       "1   2334179   2334179_D010396_D012594   2334179_3   \n",
       "2   1535072   1535072_D015016_D019964   1535072_4   \n",
       "3   8492347   8492347_D002118_D013035   8492347_2   \n",
       "4  15897593  15897593_D064730_D006402  15897593_8   \n",
       "\n",
       "                             uniq_id  \n",
       "0    bcv_easy_68_sent_dev_set_762850  \n",
       "1  bcv_easy_2399_sent_dev_set_762850  \n",
       "2   bcv_easy_642_sent_dev_set_762850  \n",
       "3  bcv_easy_1271_sent_dev_set_762850  \n",
       "4  bcv_easy_2793_sent_dev_set_762850  \n",
       "\n",
       "[5 rows x 21 columns]"
      ]
     },
     "execution_count": 3,
     "metadata": {},
     "output_type": "execute_result"
    }
   ],
   "source": [
    "sent_test_ques.head()"
   ]
  },
  {
   "cell_type": "code",
   "execution_count": 4,
   "metadata": {
    "collapsed": false
   },
   "outputs": [
    {
     "data": {
      "text/plain": [
       "(553, 21)"
      ]
     },
     "execution_count": 4,
     "metadata": {},
     "output_type": "execute_result"
    }
   ],
   "source": [
    "sent_test_ques.shape"
   ]
  },
  {
   "cell_type": "code",
   "execution_count": 5,
   "metadata": {
    "collapsed": false
   },
   "outputs": [],
   "source": [
    "sent_test_ques = sent_test_ques.query(\"~_hidden\")"
   ]
  },
  {
   "cell_type": "code",
   "execution_count": 6,
   "metadata": {
    "collapsed": false
   },
   "outputs": [
    {
     "data": {
      "text/plain": [
       "(551, 21)"
      ]
     },
     "execution_count": 6,
     "metadata": {},
     "output_type": "execute_result"
    }
   ],
   "source": [
    "sent_test_ques.shape"
   ]
  },
  {
   "cell_type": "code",
   "execution_count": 7,
   "metadata": {
    "collapsed": true
   },
   "outputs": [],
   "source": [
    "# columns to keep\n",
    "columns = [\"verify_relationship_gold\",\n",
    "           \"verify_relationship_gold_reason\",\n",
    "           \"chemical_id\", \"chemical_name\",\n",
    "           \"disease_id\", \"disease_name\",\n",
    "           \"form_sentence\", \"original_job_id\",\n",
    "           \"pmid\", \"relation_pair_id\", \"uniq_id\"]"
   ]
  },
  {
   "cell_type": "code",
   "execution_count": 8,
   "metadata": {
    "collapsed": true
   },
   "outputs": [],
   "source": [
    "sent_test_ques = sent_test_ques[columns]"
   ]
  },
  {
   "cell_type": "code",
   "execution_count": 9,
   "metadata": {
    "collapsed": false
   },
   "outputs": [
    {
     "data": {
      "text/plain": [
       "(551, 11)"
      ]
     },
     "execution_count": 9,
     "metadata": {},
     "output_type": "execute_result"
    }
   ],
   "source": [
    "sent_test_ques.shape"
   ]
  },
  {
   "cell_type": "code",
   "execution_count": 10,
   "metadata": {
    "collapsed": false
   },
   "outputs": [
    {
     "data": {
      "text/plain": [
       "no_relation     282\n",
       "yes_direct      266\n",
       "yes_indirect      3\n",
       "dtype: int64"
      ]
     },
     "execution_count": 10,
     "metadata": {},
     "output_type": "execute_result"
    }
   ],
   "source": [
    "sent_test_ques[\"verify_relationship_gold\"].value_counts()"
   ]
  },
  {
   "cell_type": "code",
   "execution_count": 11,
   "metadata": {
    "collapsed": true
   },
   "outputs": [],
   "source": [
    "sent_test_ques.to_csv(\"data/crowdflower/test_questions/job_764099_test_questions.tsv\", sep = '\\t', index = False)"
   ]
  }
 ],
 "metadata": {
  "kernelspec": {
   "display_name": "Python 3",
   "language": "python",
   "name": "python3"
  },
  "language_info": {
   "codemirror_mode": {
    "name": "ipython",
    "version": 3
   },
   "file_extension": ".py",
   "mimetype": "text/x-python",
   "name": "python",
   "nbconvert_exporter": "python",
   "pygments_lexer": "ipython3",
   "version": "3.4.2"
  }
 },
 "nbformat": 4,
 "nbformat_minor": 0
}
