{
 "cells": [
  {
   "cell_type": "markdown",
   "metadata": {},
   "source": [
    "# Analysis of CrowdFlower job #767273: abstract-level CID verification task for BioCreative V Task 3 final evaluation\n",
    "\n",
    "Tong Shu Li<br>\n",
    "Created on: Wednesday 2015-08-19<br>\n",
    "Last updated: 2015-08-19\n",
    "\n",
    "Here we aggregate the results of the abstract level CID verification task for the final evaluation for BioCreative V."
   ]
  },
  {
   "cell_type": "markdown",
   "metadata": {},
   "source": [
    "Job #767273 details\n",
    "\n",
    "Parameter | Value\n",
    "--- | ---\n",
    "Job ID | #767273\n",
    "Rows per page | 6\n",
    "Judgements per row | 5\n",
    "Payment per page | 24 cents USD\n",
    "Payment per row | 4 cents USD\n",
    "Minimum CrowdFlower contributor level | 2\n",
    "Minimum time per page | 60 seconds\n",
    "Maximum judgements per worker | No cap (limited by test questions only)\n",
    "Minimum worker accuracy threshold | 70%\n",
    "Acceptable answer distribution | No limits\n",
    "Number of test questions | 234 total, 6 were disabled\n",
    "Test question origin | \n",
    "Date of launch | 5:14 pm 2015-08-18 Pacific Daylight Time\n",
    "Date of completion | 12:25 am 2015-08-19 Pacific Daylight Time\n",
    "Total cost before bonuses | \\$851.04 USD\n",
    "Total cost after bonuses | $851.04 USD"
   ]
  },
  {
   "cell_type": "markdown",
   "metadata": {},
   "source": [
    "---"
   ]
  },
  {
   "cell_type": "code",
   "execution_count": 1,
   "metadata": {
    "collapsed": true
   },
   "outputs": [],
   "source": [
    "from collections import defaultdict\n",
    "from IPython.display import Image\n",
    "import datetime as dt\n",
    "import matplotlib as plt\n",
    "import numpy as np\n",
    "import os\n",
    "import pandas as pd\n",
    "import pycountry"
   ]
  },
  {
   "cell_type": "code",
   "execution_count": 2,
   "metadata": {
    "collapsed": true
   },
   "outputs": [],
   "source": [
    "matplotlib inline"
   ]
  },
  {
   "cell_type": "code",
   "execution_count": 3,
   "metadata": {
    "collapsed": true
   },
   "outputs": [],
   "source": [
    "from src.filter_data import filter_data\n",
    "from src.aggregate_results import *"
   ]
  },
  {
   "cell_type": "code",
   "execution_count": 4,
   "metadata": {
    "collapsed": true
   },
   "outputs": [],
   "source": [
    "def convert_time(text):\n",
    "    \"\"\"\n",
    "    Given the time in CrowdFlower's output format,\n",
    "    convert it to a Python datetime object.\n",
    "    CrowdFlower time stamps are in UTC.\n",
    "    \n",
    "    CrowdFlower timestamps have the following format:\n",
    "    \n",
    "    month/day/year hour:minute:second\n",
    "    \n",
    "    Example:\n",
    "    \n",
    "    8/2/2015 00:26:24\n",
    "    \"\"\"\n",
    "    return dt.datetime.strptime(text, \"%m/%d/%Y %H:%M:%S\")\n",
    "\n",
    "def time_elapsed(start, stop):\n",
    "    \"\"\"\n",
    "    Given two Python datetime objects, determines the number\n",
    "    of seconds between those two times.\n",
    "    \"\"\"\n",
    "    seconds = int((stop - start).total_seconds())\n",
    "    assert seconds >= 0\n",
    "    return seconds\n",
    "\n",
    "def determine_time_taken(dataframe):\n",
    "    \"\"\"\n",
    "    Given a dataframe with the responses from one worker,\n",
    "    determines the time taken for one page of work.\n",
    "    \"\"\"\n",
    "    def time_taken_wrapper(row):\n",
    "        return time_elapsed(row[0], row[1])\n",
    "    \n",
    "    if dataframe.empty:\n",
    "        return pd.Series()\n",
    "    \n",
    "    time_taken = dataframe[[\"_started_at\", \"_created_at\"]].apply(time_taken_wrapper, axis = 1)\n",
    "    return time_taken\n",
    "\n",
    "def time_stats(time_series):\n",
    "    \"\"\"\n",
    "    Given the time taken for each individual work unit,\n",
    "    determines some stats.\n",
    "    \"\"\"\n",
    "    return (time_series.min(), time_series.median(), time_series.max())\n",
    "\n",
    "def get_country_name(code):\n",
    "    if isinstance(code, str):\n",
    "        return pycountry.countries.get(alpha3 = code).name.split(\",\")[0]\n",
    "    \n",
    "    # code is missing (NaN)\n",
    "    return \"unknown\""
   ]
  },
  {
   "cell_type": "markdown",
   "metadata": {},
   "source": [
    "### Worker analysis"
   ]
  },
  {
   "cell_type": "code",
   "execution_count": 5,
   "metadata": {
    "collapsed": true
   },
   "outputs": [],
   "source": [
    "loc = \"data/crowdflower/results\"\n",
    "fname = \"job_767273_worker_summary.csv\"\n",
    "worker_data = pd.read_csv(os.path.join(loc, fname), sep = ',')"
   ]
  },
  {
   "cell_type": "code",
   "execution_count": 6,
   "metadata": {
    "collapsed": true
   },
   "outputs": [],
   "source": [
    "# add a column that tells us if a worker was flagged\n",
    "worker_data[\"flagged\"] = worker_data[\"flagged_at\"].map(lambda x: isinstance(x, str))"
   ]
  },
  {
   "cell_type": "code",
   "execution_count": 7,
   "metadata": {
    "collapsed": false
   },
   "outputs": [
    {
     "data": {
      "text/plain": [
       "(769, 19)"
      ]
     },
     "execution_count": 7,
     "metadata": {},
     "output_type": "execute_result"
    }
   ],
   "source": [
    "worker_data.shape"
   ]
  },
  {
   "cell_type": "code",
   "execution_count": 8,
   "metadata": {
    "collapsed": false
   },
   "outputs": [
    {
     "data": {
      "text/html": [
       "<div>\n",
       "<table border=\"1\" class=\"dataframe\">\n",
       "  <thead>\n",
       "    <tr style=\"text-align: right;\">\n",
       "      <th></th>\n",
       "      <th>worker_id</th>\n",
       "      <th>external_id</th>\n",
       "      <th>judgments_count</th>\n",
       "      <th>missed_count</th>\n",
       "      <th>golds_count</th>\n",
       "      <th>forgiven_count</th>\n",
       "      <th>channel</th>\n",
       "      <th>country</th>\n",
       "      <th>region</th>\n",
       "      <th>city</th>\n",
       "      <th>last_ip</th>\n",
       "      <th>flagged_at</th>\n",
       "      <th>rejected_at</th>\n",
       "      <th>bonus</th>\n",
       "      <th>flag_reason</th>\n",
       "      <th>trust_overall</th>\n",
       "      <th>submission_rate</th>\n",
       "      <th>level_2_contributors</th>\n",
       "      <th>flagged</th>\n",
       "    </tr>\n",
       "  </thead>\n",
       "  <tbody>\n",
       "    <tr>\n",
       "      <th>0</th>\n",
       "      <td>1899559</td>\n",
       "      <td>2166645</td>\n",
       "      <td>0</td>\n",
       "      <td>0</td>\n",
       "      <td>0</td>\n",
       "      <td>0</td>\n",
       "      <td>prodege</td>\n",
       "      <td>NaN</td>\n",
       "      <td>NaN</td>\n",
       "      <td>NaN</td>\n",
       "      <td>NaN</td>\n",
       "      <td>NaN</td>\n",
       "      <td>NaN</td>\n",
       "      <td>0</td>\n",
       "      <td>NaN</td>\n",
       "      <td>1.0000</td>\n",
       "      <td>0</td>\n",
       "      <td>1</td>\n",
       "      <td>False</td>\n",
       "    </tr>\n",
       "    <tr>\n",
       "      <th>1</th>\n",
       "      <td>2112439</td>\n",
       "      <td>3098740</td>\n",
       "      <td>18</td>\n",
       "      <td>1</td>\n",
       "      <td>8</td>\n",
       "      <td>0</td>\n",
       "      <td>prodege</td>\n",
       "      <td>USA</td>\n",
       "      <td>OK</td>\n",
       "      <td>Norman</td>\n",
       "      <td>162.228.151.72</td>\n",
       "      <td>NaN</td>\n",
       "      <td>NaN</td>\n",
       "      <td>0</td>\n",
       "      <td>NaN</td>\n",
       "      <td>0.8750</td>\n",
       "      <td>360</td>\n",
       "      <td>1</td>\n",
       "      <td>False</td>\n",
       "    </tr>\n",
       "    <tr>\n",
       "      <th>2</th>\n",
       "      <td>2253549</td>\n",
       "      <td>3174334</td>\n",
       "      <td>0</td>\n",
       "      <td>0</td>\n",
       "      <td>0</td>\n",
       "      <td>0</td>\n",
       "      <td>prodege</td>\n",
       "      <td>NaN</td>\n",
       "      <td>NaN</td>\n",
       "      <td>NaN</td>\n",
       "      <td>NaN</td>\n",
       "      <td>NaN</td>\n",
       "      <td>NaN</td>\n",
       "      <td>0</td>\n",
       "      <td>NaN</td>\n",
       "      <td>1.0000</td>\n",
       "      <td>0</td>\n",
       "      <td>1</td>\n",
       "      <td>False</td>\n",
       "    </tr>\n",
       "    <tr>\n",
       "      <th>3</th>\n",
       "      <td>3626598</td>\n",
       "      <td>94399</td>\n",
       "      <td>30</td>\n",
       "      <td>1</td>\n",
       "      <td>10</td>\n",
       "      <td>0</td>\n",
       "      <td>prodege</td>\n",
       "      <td>CAN</td>\n",
       "      <td>ON</td>\n",
       "      <td>Sault Sainte Marie</td>\n",
       "      <td>70.51.131.135</td>\n",
       "      <td>NaN</td>\n",
       "      <td>NaN</td>\n",
       "      <td>0</td>\n",
       "      <td>NaN</td>\n",
       "      <td>0.9000</td>\n",
       "      <td>360</td>\n",
       "      <td>1</td>\n",
       "      <td>False</td>\n",
       "    </tr>\n",
       "    <tr>\n",
       "      <th>4</th>\n",
       "      <td>4688131</td>\n",
       "      <td>DanicaWong</td>\n",
       "      <td>42</td>\n",
       "      <td>4</td>\n",
       "      <td>12</td>\n",
       "      <td>0</td>\n",
       "      <td>zoombucks</td>\n",
       "      <td>CAN</td>\n",
       "      <td>BC</td>\n",
       "      <td>Vancouver</td>\n",
       "      <td>75.157.35.92</td>\n",
       "      <td>NaN</td>\n",
       "      <td>NaN</td>\n",
       "      <td>0</td>\n",
       "      <td>NaN</td>\n",
       "      <td>0.6667</td>\n",
       "      <td>360</td>\n",
       "      <td>1</td>\n",
       "      <td>False</td>\n",
       "    </tr>\n",
       "  </tbody>\n",
       "</table>\n",
       "</div>"
      ],
      "text/plain": [
       "   worker_id external_id  judgments_count  missed_count  golds_count  \\\n",
       "0    1899559     2166645                0             0            0   \n",
       "1    2112439     3098740               18             1            8   \n",
       "2    2253549     3174334                0             0            0   \n",
       "3    3626598       94399               30             1           10   \n",
       "4    4688131  DanicaWong               42             4           12   \n",
       "\n",
       "   forgiven_count    channel country region                city  \\\n",
       "0               0    prodege     NaN    NaN                 NaN   \n",
       "1               0    prodege     USA     OK              Norman   \n",
       "2               0    prodege     NaN    NaN                 NaN   \n",
       "3               0    prodege     CAN     ON  Sault Sainte Marie   \n",
       "4               0  zoombucks     CAN     BC           Vancouver   \n",
       "\n",
       "          last_ip  flagged_at  rejected_at  bonus  flag_reason  trust_overall  \\\n",
       "0             NaN         NaN          NaN      0          NaN         1.0000   \n",
       "1  162.228.151.72         NaN          NaN      0          NaN         0.8750   \n",
       "2             NaN         NaN          NaN      0          NaN         1.0000   \n",
       "3   70.51.131.135         NaN          NaN      0          NaN         0.9000   \n",
       "4    75.157.35.92         NaN          NaN      0          NaN         0.6667   \n",
       "\n",
       "   submission_rate  level_2_contributors flagged  \n",
       "0                0                     1   False  \n",
       "1              360                     1   False  \n",
       "2                0                     1   False  \n",
       "3              360                     1   False  \n",
       "4              360                     1   False  "
      ]
     },
     "execution_count": 8,
     "metadata": {},
     "output_type": "execute_result"
    }
   ],
   "source": [
    "worker_data.head()"
   ]
  },
  {
   "cell_type": "markdown",
   "metadata": {},
   "source": [
    "### Quiz stats:"
   ]
  },
  {
   "cell_type": "code",
   "execution_count": 9,
   "metadata": {
    "collapsed": false
   },
   "outputs": [
    {
     "data": {
      "text/plain": [
       "769"
      ]
     },
     "execution_count": 9,
     "metadata": {},
     "output_type": "execute_result"
    }
   ],
   "source": [
    "# total workers:\n",
    "len(worker_data)"
   ]
  },
  {
   "cell_type": "code",
   "execution_count": 10,
   "metadata": {
    "collapsed": false
   },
   "outputs": [
    {
     "data": {
      "text/plain": [
       "344"
      ]
     },
     "execution_count": 10,
     "metadata": {},
     "output_type": "execute_result"
    }
   ],
   "source": [
    "# zero judgments (gave up immediately?)\n",
    "len(worker_data.query(\"judgments_count == 0\"))"
   ]
  },
  {
   "cell_type": "code",
   "execution_count": 11,
   "metadata": {
    "collapsed": false
   },
   "outputs": [
    {
     "data": {
      "text/plain": [
       "425"
      ]
     },
     "execution_count": 11,
     "metadata": {},
     "output_type": "execute_result"
    }
   ],
   "source": [
    "# made at least one judgement\n",
    "len(worker_data.query(\"judgments_count > 0\"))"
   ]
  },
  {
   "cell_type": "code",
   "execution_count": 12,
   "metadata": {
    "collapsed": false
   },
   "outputs": [
    {
     "data": {
      "text/plain": [
       "176"
      ]
     },
     "execution_count": 12,
     "metadata": {},
     "output_type": "execute_result"
    }
   ],
   "source": [
    "# saw only the quiz\n",
    "len(worker_data.query(\"judgments_count == 6\"))"
   ]
  },
  {
   "cell_type": "code",
   "execution_count": 13,
   "metadata": {
    "collapsed": false
   },
   "outputs": [
    {
     "data": {
      "text/plain": [
       "249"
      ]
     },
     "execution_count": 13,
     "metadata": {},
     "output_type": "execute_result"
    }
   ],
   "source": [
    "# saw some real work (passed initial quiz)\n",
    "len(worker_data.query(\"judgments_count > 6\"))"
   ]
  },
  {
   "cell_type": "code",
   "execution_count": 14,
   "metadata": {
    "collapsed": false
   },
   "outputs": [
    {
     "data": {
      "text/plain": [
       "27"
      ]
     },
     "execution_count": 14,
     "metadata": {},
     "output_type": "execute_result"
    }
   ],
   "source": [
    "# saw only the quiz and passed, but did no real work\n",
    "len(worker_data.query(\"judgments_count == 6 and trust_overall >= 0.7\"))"
   ]
  },
  {
   "cell_type": "code",
   "execution_count": 15,
   "metadata": {
    "collapsed": false
   },
   "outputs": [
    {
     "data": {
      "text/plain": [
       "149"
      ]
     },
     "execution_count": 15,
     "metadata": {},
     "output_type": "execute_result"
    }
   ],
   "source": [
    "# failed the initial quiz\n",
    "len(worker_data.query(\"judgments_count == 6 and trust_overall < 0.7\"))"
   ]
  },
  {
   "cell_type": "code",
   "execution_count": 16,
   "metadata": {
    "collapsed": false
   },
   "outputs": [
    {
     "data": {
      "text/plain": [
       "25"
      ]
     },
     "execution_count": 16,
     "metadata": {},
     "output_type": "execute_result"
    }
   ],
   "source": [
    "# eventually failed out of the job\n",
    "len(worker_data.query(\"judgments_count > 6 and trust_overall < 0.7\"))"
   ]
  },
  {
   "cell_type": "code",
   "execution_count": 17,
   "metadata": {
    "collapsed": false
   },
   "outputs": [
    {
     "data": {
      "text/plain": [
       "0"
      ]
     },
     "execution_count": 17,
     "metadata": {},
     "output_type": "execute_result"
    }
   ],
   "source": [
    "# had good trust score but was kicked out due to weird answer distribution\n",
    "len(worker_data.query(\"judgments_count > 6 and trust_overall >= 0.7 and flagged\"))"
   ]
  },
  {
   "cell_type": "code",
   "execution_count": 18,
   "metadata": {
    "collapsed": false
   },
   "outputs": [
    {
     "name": "stdout",
     "output_type": "stream",
     "text": [
      "224\n"
     ]
    }
   ],
   "source": [
    "# had good trust score but was kicked out due to weird answer distribution\n",
    "good_workers = worker_data.query(\"judgments_count > 6 and trust_overall >= 0.7 and ~flagged\")\n",
    "print(len(good_workers))"
   ]
  },
  {
   "cell_type": "markdown",
   "metadata": {},
   "source": [
    "---"
   ]
  },
  {
   "cell_type": "markdown",
   "metadata": {},
   "source": [
    "### Statistics about the good workers"
   ]
  },
  {
   "cell_type": "code",
   "execution_count": 19,
   "metadata": {
    "collapsed": false
   },
   "outputs": [
    {
     "data": {
      "text/html": [
       "<div>\n",
       "<table border=\"1\" class=\"dataframe\">\n",
       "  <thead>\n",
       "    <tr style=\"text-align: right;\">\n",
       "      <th></th>\n",
       "      <th>worker_id</th>\n",
       "      <th>external_id</th>\n",
       "      <th>judgments_count</th>\n",
       "      <th>missed_count</th>\n",
       "      <th>golds_count</th>\n",
       "      <th>forgiven_count</th>\n",
       "      <th>channel</th>\n",
       "      <th>country</th>\n",
       "      <th>region</th>\n",
       "      <th>city</th>\n",
       "      <th>last_ip</th>\n",
       "      <th>flagged_at</th>\n",
       "      <th>rejected_at</th>\n",
       "      <th>bonus</th>\n",
       "      <th>flag_reason</th>\n",
       "      <th>trust_overall</th>\n",
       "      <th>submission_rate</th>\n",
       "      <th>level_2_contributors</th>\n",
       "      <th>flagged</th>\n",
       "    </tr>\n",
       "  </thead>\n",
       "  <tbody>\n",
       "    <tr>\n",
       "      <th>1</th>\n",
       "      <td>2112439</td>\n",
       "      <td>3098740</td>\n",
       "      <td>18</td>\n",
       "      <td>1</td>\n",
       "      <td>8</td>\n",
       "      <td>0</td>\n",
       "      <td>prodege</td>\n",
       "      <td>USA</td>\n",
       "      <td>OK</td>\n",
       "      <td>Norman</td>\n",
       "      <td>162.228.151.72</td>\n",
       "      <td>NaN</td>\n",
       "      <td>NaN</td>\n",
       "      <td>0</td>\n",
       "      <td>NaN</td>\n",
       "      <td>0.8750</td>\n",
       "      <td>360</td>\n",
       "      <td>1</td>\n",
       "      <td>False</td>\n",
       "    </tr>\n",
       "    <tr>\n",
       "      <th>3</th>\n",
       "      <td>3626598</td>\n",
       "      <td>94399</td>\n",
       "      <td>30</td>\n",
       "      <td>1</td>\n",
       "      <td>10</td>\n",
       "      <td>0</td>\n",
       "      <td>prodege</td>\n",
       "      <td>CAN</td>\n",
       "      <td>ON</td>\n",
       "      <td>Sault Sainte Marie</td>\n",
       "      <td>70.51.131.135</td>\n",
       "      <td>NaN</td>\n",
       "      <td>NaN</td>\n",
       "      <td>0</td>\n",
       "      <td>NaN</td>\n",
       "      <td>0.9000</td>\n",
       "      <td>360</td>\n",
       "      <td>1</td>\n",
       "      <td>False</td>\n",
       "    </tr>\n",
       "    <tr>\n",
       "      <th>8</th>\n",
       "      <td>6333422</td>\n",
       "      <td>3274588</td>\n",
       "      <td>60</td>\n",
       "      <td>1</td>\n",
       "      <td>15</td>\n",
       "      <td>0</td>\n",
       "      <td>clixsense</td>\n",
       "      <td>PHL</td>\n",
       "      <td>B2</td>\n",
       "      <td>Cagayan De Oro</td>\n",
       "      <td>49.147.185.131</td>\n",
       "      <td>NaN</td>\n",
       "      <td>NaN</td>\n",
       "      <td>0</td>\n",
       "      <td>NaN</td>\n",
       "      <td>0.9333</td>\n",
       "      <td>360</td>\n",
       "      <td>1</td>\n",
       "      <td>False</td>\n",
       "    </tr>\n",
       "    <tr>\n",
       "      <th>12</th>\n",
       "      <td>6347548</td>\n",
       "      <td>3525054</td>\n",
       "      <td>30</td>\n",
       "      <td>2</td>\n",
       "      <td>10</td>\n",
       "      <td>0</td>\n",
       "      <td>clixsense</td>\n",
       "      <td>IND</td>\n",
       "      <td>28</td>\n",
       "      <td>Kolkata</td>\n",
       "      <td>116.202.201.75</td>\n",
       "      <td>NaN</td>\n",
       "      <td>NaN</td>\n",
       "      <td>0</td>\n",
       "      <td>NaN</td>\n",
       "      <td>0.8000</td>\n",
       "      <td>360</td>\n",
       "      <td>1</td>\n",
       "      <td>False</td>\n",
       "    </tr>\n",
       "    <tr>\n",
       "      <th>20</th>\n",
       "      <td>6591664</td>\n",
       "      <td>3801006</td>\n",
       "      <td>48</td>\n",
       "      <td>1</td>\n",
       "      <td>13</td>\n",
       "      <td>0</td>\n",
       "      <td>clixsense</td>\n",
       "      <td>MEX</td>\n",
       "      <td>09</td>\n",
       "      <td>Mexico</td>\n",
       "      <td>189.178.215.37</td>\n",
       "      <td>NaN</td>\n",
       "      <td>NaN</td>\n",
       "      <td>0</td>\n",
       "      <td>NaN</td>\n",
       "      <td>0.9231</td>\n",
       "      <td>360</td>\n",
       "      <td>1</td>\n",
       "      <td>False</td>\n",
       "    </tr>\n",
       "  </tbody>\n",
       "</table>\n",
       "</div>"
      ],
      "text/plain": [
       "    worker_id external_id  judgments_count  missed_count  golds_count  \\\n",
       "1     2112439     3098740               18             1            8   \n",
       "3     3626598       94399               30             1           10   \n",
       "8     6333422     3274588               60             1           15   \n",
       "12    6347548     3525054               30             2           10   \n",
       "20    6591664     3801006               48             1           13   \n",
       "\n",
       "    forgiven_count    channel country region                city  \\\n",
       "1                0    prodege     USA     OK              Norman   \n",
       "3                0    prodege     CAN     ON  Sault Sainte Marie   \n",
       "8                0  clixsense     PHL     B2      Cagayan De Oro   \n",
       "12               0  clixsense     IND     28             Kolkata   \n",
       "20               0  clixsense     MEX     09              Mexico   \n",
       "\n",
       "           last_ip  flagged_at  rejected_at  bonus  flag_reason  \\\n",
       "1   162.228.151.72         NaN          NaN      0          NaN   \n",
       "3    70.51.131.135         NaN          NaN      0          NaN   \n",
       "8   49.147.185.131         NaN          NaN      0          NaN   \n",
       "12  116.202.201.75         NaN          NaN      0          NaN   \n",
       "20  189.178.215.37         NaN          NaN      0          NaN   \n",
       "\n",
       "    trust_overall  submission_rate  level_2_contributors flagged  \n",
       "1          0.8750              360                     1   False  \n",
       "3          0.9000              360                     1   False  \n",
       "8          0.9333              360                     1   False  \n",
       "12         0.8000              360                     1   False  \n",
       "20         0.9231              360                     1   False  "
      ]
     },
     "execution_count": 19,
     "metadata": {},
     "output_type": "execute_result"
    }
   ],
   "source": [
    "good_workers.head()"
   ]
  },
  {
   "cell_type": "code",
   "execution_count": 20,
   "metadata": {
    "collapsed": true
   },
   "outputs": [],
   "source": [
    "good_worker_ids = set(good_workers[\"worker_id\"])"
   ]
  },
  {
   "cell_type": "markdown",
   "metadata": {},
   "source": [
    "### Where did the good workers come from?"
   ]
  },
  {
   "cell_type": "code",
   "execution_count": 21,
   "metadata": {
    "collapsed": false
   },
   "outputs": [
    {
     "data": {
      "text/plain": [
       "<matplotlib.axes._subplots.AxesSubplot at 0x7f8cea0219b0>"
      ]
     },
     "execution_count": 21,
     "metadata": {},
     "output_type": "execute_result"
    },
    {
     "data": {
      "image/png": "[encoded data removed]",
      "text/plain": [
       "<matplotlib.figure.Figure at 0x7f8cea089940>"
      ]
     },
     "metadata": {},
     "output_type": "display_data"
    }
   ],
   "source": [
    "good_workers[\"country\"].map(get_country_name).value_counts().plot(kind = \"barh\", figsize = (6, 10))"
   ]
  },
  {
   "cell_type": "code",
   "execution_count": 22,
   "metadata": {
    "collapsed": false
   },
   "outputs": [
    {
     "data": {
      "text/plain": [
       "<matplotlib.text.Text at 0x7f8cd8fba6d8>"
      ]
     },
     "execution_count": 22,
     "metadata": {},
     "output_type": "execute_result"
    },
    {
     "data": {
      "image/png": "[encoded data removed]",
      "text/plain": [
       "<matplotlib.figure.Figure at 0x7f8cd90027b8>"
      ]
     },
     "metadata": {},
     "output_type": "display_data"
    }
   ],
   "source": [
    "graph = good_workers[\"trust_overall\"].plot(kind = \"hist\", title = \"Final trust score for good workers\")\n",
    "graph.set_ylabel(\"Number of workers\")\n",
    "graph.set_xlabel(\"Final trust score\")"
   ]
  },
  {
   "cell_type": "code",
   "execution_count": 23,
   "metadata": {
    "collapsed": false
   },
   "outputs": [
    {
     "data": {
      "text/plain": [
       "<matplotlib.text.Text at 0x7f8cd8f94be0>"
      ]
     },
     "execution_count": 23,
     "metadata": {},
     "output_type": "execute_result"
    },
    {
     "data": {
      "image/png": "[encoded data removed]",
      "text/plain": [
       "<matplotlib.figure.Figure at 0x7f8cd8ebf358>"
      ]
     },
     "metadata": {},
     "output_type": "display_data"
    }
   ],
   "source": [
    "# plot the amount of work done by the good workers\n",
    "# only count real work units, not the test questions\n",
    "work_done = good_workers[[\"judgments_count\", \"golds_count\"]].apply(lambda v: v[\"judgments_count\"] - v[\"golds_count\"], axis = 1)\n",
    "\n",
    "graph = pd.Series(sorted(work_done, reverse = True)).plot(title = \"Work done by good workers\")\n",
    "graph.set_ylabel(\"Work units seen\")\n",
    "graph.set_xlabel(\"Good workers\")"
   ]
  },
  {
   "cell_type": "markdown",
   "metadata": {},
   "source": [
    "## Results"
   ]
  },
  {
   "cell_type": "code",
   "execution_count": 24,
   "metadata": {
    "collapsed": false
   },
   "outputs": [],
   "source": [
    "settings = {\n",
    "    \"loc\": \"data/crowdflower/results\",\n",
    "    \"fname\": \"job_767273_full_with_untrusted.csv\",\n",
    "    \"data_subset\": \"all\",\n",
    "    \"min_accuracy\": 0.0,\n",
    "    \"max_accuracy\": 1.0,\n",
    "    \"dtype\": {}\n",
    "}\n",
    "\n",
    "# all data collected\n",
    "all_raw_data = filter_data(settings)"
   ]
  },
  {
   "cell_type": "code",
   "execution_count": 25,
   "metadata": {
    "collapsed": true
   },
   "outputs": [],
   "source": [
    "settings = {\n",
    "    \"loc\": \"data/crowdflower/results\",\n",
    "    \"fname\": \"job_767273_full_with_untrusted.csv\",\n",
    "    \"data_subset\": \"normal\",\n",
    "    \"min_accuracy\": 0.7,\n",
    "    \"max_accuracy\": 1.0,\n",
    "    \"dtype\": {\"pmid\": int}\n",
    "}\n",
    "\n",
    "# all data collected\n",
    "work_raw_data = filter_data(settings)"
   ]
  },
  {
   "cell_type": "code",
   "execution_count": 26,
   "metadata": {
    "collapsed": false
   },
   "outputs": [
    {
     "data": {
      "text/plain": [
       "(13854, 29)"
      ]
     },
     "execution_count": 26,
     "metadata": {},
     "output_type": "execute_result"
    }
   ],
   "source": [
    "work_raw_data.shape"
   ]
  },
  {
   "cell_type": "code",
   "execution_count": 27,
   "metadata": {
    "collapsed": false
   },
   "outputs": [
    {
     "data": {
      "text/html": [
       "<div>\n",
       "<table border=\"1\" class=\"dataframe\">\n",
       "  <thead>\n",
       "    <tr style=\"text-align: right;\">\n",
       "      <th></th>\n",
       "      <th>_unit_id</th>\n",
       "      <th>_created_at</th>\n",
       "      <th>_golden</th>\n",
       "      <th>_id</th>\n",
       "      <th>_missed</th>\n",
       "      <th>_started_at</th>\n",
       "      <th>_tainted</th>\n",
       "      <th>_channel</th>\n",
       "      <th>_trust</th>\n",
       "      <th>_worker_id</th>\n",
       "      <th>...</th>\n",
       "      <th>disease_id</th>\n",
       "      <th>disease_name</th>\n",
       "      <th>form_abstract</th>\n",
       "      <th>form_title</th>\n",
       "      <th>old_cf_work_unit_id</th>\n",
       "      <th>original_job_id</th>\n",
       "      <th>pmid</th>\n",
       "      <th>uniq_id</th>\n",
       "      <th>verify_relationship_gold</th>\n",
       "      <th>verify_relationship_gold_reason</th>\n",
       "    </tr>\n",
       "  </thead>\n",
       "  <tbody>\n",
       "    <tr>\n",
       "      <th>3139</th>\n",
       "      <td>773935842</td>\n",
       "      <td>8/19/2015 03:02:00</td>\n",
       "      <td>False</td>\n",
       "      <td>1715159386</td>\n",
       "      <td>NaN</td>\n",
       "      <td>8/19/2015 02:59:14</td>\n",
       "      <td>False</td>\n",
       "      <td>clixsense</td>\n",
       "      <td>0.8148</td>\n",
       "      <td>9336290</td>\n",
       "      <td>...</td>\n",
       "      <td>MESH:D006948</td>\n",
       "      <td>&lt;span class=\"disease\"&gt;hyperactivity&lt;/span&gt;</td>\n",
       "      <td>We investigated the effect of repeated treatme...</td>\n",
       "      <td>Some central effects of repeated treatment wit...</td>\n",
       "      <td>NaN</td>\n",
       "      <td>767241</td>\n",
       "      <td>2576810</td>\n",
       "      <td>bcv_hard_all_data_test_ques_pos_138</td>\n",
       "      <td>yes_direct</td>\n",
       "      <td>NaN</td>\n",
       "    </tr>\n",
       "    <tr>\n",
       "      <th>3140</th>\n",
       "      <td>773935842</td>\n",
       "      <td>8/19/2015 03:16:43</td>\n",
       "      <td>False</td>\n",
       "      <td>1715165268</td>\n",
       "      <td>NaN</td>\n",
       "      <td>8/19/2015 03:00:17</td>\n",
       "      <td>False</td>\n",
       "      <td>neodev</td>\n",
       "      <td>0.9167</td>\n",
       "      <td>33254158</td>\n",
       "      <td>...</td>\n",
       "      <td>MESH:D006948</td>\n",
       "      <td>&lt;span class=\"disease\"&gt;hyperactivity&lt;/span&gt;</td>\n",
       "      <td>We investigated the effect of repeated treatme...</td>\n",
       "      <td>Some central effects of repeated treatment wit...</td>\n",
       "      <td>NaN</td>\n",
       "      <td>767241</td>\n",
       "      <td>2576810</td>\n",
       "      <td>bcv_hard_all_data_test_ques_pos_138</td>\n",
       "      <td>yes_direct</td>\n",
       "      <td>NaN</td>\n",
       "    </tr>\n",
       "    <tr>\n",
       "      <th>3197</th>\n",
       "      <td>773935846</td>\n",
       "      <td>8/19/2015 02:35:46</td>\n",
       "      <td>False</td>\n",
       "      <td>1715148852</td>\n",
       "      <td>NaN</td>\n",
       "      <td>8/19/2015 02:04:36</td>\n",
       "      <td>True</td>\n",
       "      <td>neodev</td>\n",
       "      <td>0.8000</td>\n",
       "      <td>29658778</td>\n",
       "      <td>...</td>\n",
       "      <td>MESH:D000647</td>\n",
       "      <td>&lt;span class=\"disease\"&gt;amnesia&lt;/span&gt;</td>\n",
       "      <td>The aim of this study was to assess the effica...</td>\n",
       "      <td>Antagonism of &lt;span class=\"chemical\"&gt;diazepam&lt;...</td>\n",
       "      <td>NaN</td>\n",
       "      <td>767241</td>\n",
       "      <td>3120485</td>\n",
       "      <td>bcv_hard_all_data_test_ques_pos_142</td>\n",
       "      <td>yes_direct</td>\n",
       "      <td>Diazepam is used during surgery, but it has ma...</td>\n",
       "    </tr>\n",
       "    <tr>\n",
       "      <th>5519</th>\n",
       "      <td>773935948</td>\n",
       "      <td>8/19/2015 01:42:54</td>\n",
       "      <td>False</td>\n",
       "      <td>1715104433</td>\n",
       "      <td>NaN</td>\n",
       "      <td>8/19/2015 01:40:39</td>\n",
       "      <td>False</td>\n",
       "      <td>neodev</td>\n",
       "      <td>0.9130</td>\n",
       "      <td>29847126</td>\n",
       "      <td>...</td>\n",
       "      <td>MESH:D003693</td>\n",
       "      <td>&lt;span class=\"disease\"&gt;delirium&lt;/span&gt;</td>\n",
       "      <td>Famotidine is a &lt;span class=\"chemical\"&gt;histami...</td>\n",
       "      <td>Famotidine-associated &lt;span class=\"disease\"&gt;de...</td>\n",
       "      <td>NaN</td>\n",
       "      <td>NaN</td>\n",
       "      <td>0</td>\n",
       "      <td>bcv_final_eval_hard_0</td>\n",
       "      <td>NaN</td>\n",
       "      <td>NaN</td>\n",
       "    </tr>\n",
       "    <tr>\n",
       "      <th>5520</th>\n",
       "      <td>773935948</td>\n",
       "      <td>8/19/2015 01:43:00</td>\n",
       "      <td>False</td>\n",
       "      <td>1715104563</td>\n",
       "      <td>NaN</td>\n",
       "      <td>8/19/2015 01:40:34</td>\n",
       "      <td>False</td>\n",
       "      <td>neodev</td>\n",
       "      <td>0.8182</td>\n",
       "      <td>33732804</td>\n",
       "      <td>...</td>\n",
       "      <td>MESH:D003693</td>\n",
       "      <td>&lt;span class=\"disease\"&gt;delirium&lt;/span&gt;</td>\n",
       "      <td>Famotidine is a &lt;span class=\"chemical\"&gt;histami...</td>\n",
       "      <td>Famotidine-associated &lt;span class=\"disease\"&gt;de...</td>\n",
       "      <td>NaN</td>\n",
       "      <td>NaN</td>\n",
       "      <td>0</td>\n",
       "      <td>bcv_final_eval_hard_0</td>\n",
       "      <td>NaN</td>\n",
       "      <td>NaN</td>\n",
       "    </tr>\n",
       "  </tbody>\n",
       "</table>\n",
       "<p>5 rows × 29 columns</p>\n",
       "</div>"
      ],
      "text/plain": [
       "       _unit_id         _created_at _golden         _id _missed  \\\n",
       "3139  773935842  8/19/2015 03:02:00   False  1715159386     NaN   \n",
       "3140  773935842  8/19/2015 03:16:43   False  1715165268     NaN   \n",
       "3197  773935846  8/19/2015 02:35:46   False  1715148852     NaN   \n",
       "5519  773935948  8/19/2015 01:42:54   False  1715104433     NaN   \n",
       "5520  773935948  8/19/2015 01:43:00   False  1715104563     NaN   \n",
       "\n",
       "             _started_at _tainted   _channel  _trust  _worker_id  \\\n",
       "3139  8/19/2015 02:59:14    False  clixsense  0.8148     9336290   \n",
       "3140  8/19/2015 03:00:17    False     neodev  0.9167    33254158   \n",
       "3197  8/19/2015 02:04:36     True     neodev  0.8000    29658778   \n",
       "5519  8/19/2015 01:40:39    False     neodev  0.9130    29847126   \n",
       "5520  8/19/2015 01:40:34    False     neodev  0.8182    33732804   \n",
       "\n",
       "                            ...                            disease_id  \\\n",
       "3139                        ...                          MESH:D006948   \n",
       "3140                        ...                          MESH:D006948   \n",
       "3197                        ...                          MESH:D000647   \n",
       "5519                        ...                          MESH:D003693   \n",
       "5520                        ...                          MESH:D003693   \n",
       "\n",
       "                                    disease_name  \\\n",
       "3139  <span class=\"disease\">hyperactivity</span>   \n",
       "3140  <span class=\"disease\">hyperactivity</span>   \n",
       "3197        <span class=\"disease\">amnesia</span>   \n",
       "5519       <span class=\"disease\">delirium</span>   \n",
       "5520       <span class=\"disease\">delirium</span>   \n",
       "\n",
       "                                          form_abstract  \\\n",
       "3139  We investigated the effect of repeated treatme...   \n",
       "3140  We investigated the effect of repeated treatme...   \n",
       "3197  The aim of this study was to assess the effica...   \n",
       "5519  Famotidine is a <span class=\"chemical\">histami...   \n",
       "5520  Famotidine is a <span class=\"chemical\">histami...   \n",
       "\n",
       "                                             form_title old_cf_work_unit_id  \\\n",
       "3139  Some central effects of repeated treatment wit...                 NaN   \n",
       "3140  Some central effects of repeated treatment wit...                 NaN   \n",
       "3197  Antagonism of <span class=\"chemical\">diazepam<...                 NaN   \n",
       "5519  Famotidine-associated <span class=\"disease\">de...                 NaN   \n",
       "5520  Famotidine-associated <span class=\"disease\">de...                 NaN   \n",
       "\n",
       "     original_job_id     pmid                              uniq_id  \\\n",
       "3139          767241  2576810  bcv_hard_all_data_test_ques_pos_138   \n",
       "3140          767241  2576810  bcv_hard_all_data_test_ques_pos_138   \n",
       "3197          767241  3120485  bcv_hard_all_data_test_ques_pos_142   \n",
       "5519             NaN        0                bcv_final_eval_hard_0   \n",
       "5520             NaN        0                bcv_final_eval_hard_0   \n",
       "\n",
       "     verify_relationship_gold  \\\n",
       "3139               yes_direct   \n",
       "3140               yes_direct   \n",
       "3197               yes_direct   \n",
       "5519                      NaN   \n",
       "5520                      NaN   \n",
       "\n",
       "                        verify_relationship_gold_reason  \n",
       "3139                                                NaN  \n",
       "3140                                                NaN  \n",
       "3197  Diazepam is used during surgery, but it has ma...  \n",
       "5519                                                NaN  \n",
       "5520                                                NaN  \n",
       "\n",
       "[5 rows x 29 columns]"
      ]
     },
     "execution_count": 27,
     "metadata": {},
     "output_type": "execute_result"
    }
   ],
   "source": [
    "work_raw_data.head()"
   ]
  },
  {
   "cell_type": "code",
   "execution_count": 28,
   "metadata": {
    "collapsed": false
   },
   "outputs": [
    {
     "data": {
      "text/plain": [
       "False    13853\n",
       "True         1\n",
       "dtype: int64"
      ]
     },
     "execution_count": 28,
     "metadata": {},
     "output_type": "execute_result"
    }
   ],
   "source": [
    "work_raw_data[\"_tainted\"].value_counts()"
   ]
  },
  {
   "cell_type": "code",
   "execution_count": 29,
   "metadata": {
    "collapsed": true
   },
   "outputs": [],
   "source": [
    "work_data = work_raw_data.query(\"~_tainted\")"
   ]
  },
  {
   "cell_type": "code",
   "execution_count": 30,
   "metadata": {
    "collapsed": false
   },
   "outputs": [
    {
     "data": {
      "text/plain": [
       "(13853, 29)"
      ]
     },
     "execution_count": 30,
     "metadata": {},
     "output_type": "execute_result"
    }
   ],
   "source": [
    "work_data.shape"
   ]
  },
  {
   "cell_type": "code",
   "execution_count": 31,
   "metadata": {
    "collapsed": false
   },
   "outputs": [
    {
     "name": "stdout",
     "output_type": "stream",
     "text": [
      "Judgements 2, # of work units: 1\n",
      "Judgements 5, # of work units: 2709\n",
      "Judgements 6, # of work units: 51\n"
     ]
    }
   ],
   "source": [
    "work_votes = defaultdict(set)\n",
    "for uniq_id, group in work_data.groupby(\"uniq_id\"):\n",
    "    work_votes[len(group[\"_worker_id\"].unique())].add(uniq_id)\n",
    "    \n",
    "for votes, units in work_votes.items():\n",
    "    print(\"Judgements {0}, # of work units: {1}\".format(votes, len(units)))"
   ]
  },
  {
   "cell_type": "markdown",
   "metadata": {},
   "source": [
    "The one work unit with two votes was a test question that was turned off halfway through. The ones with 5 or 6 votes are the real work units."
   ]
  },
  {
   "cell_type": "code",
   "execution_count": 32,
   "metadata": {
    "collapsed": true
   },
   "outputs": [],
   "source": [
    "work_data = work_data.query(\"uniq_id in {0}\".format(list(work_votes[5] | work_votes[6])))"
   ]
  },
  {
   "cell_type": "code",
   "execution_count": 33,
   "metadata": {
    "collapsed": false
   },
   "outputs": [
    {
     "data": {
      "text/plain": [
       "(13851, 29)"
      ]
     },
     "execution_count": 33,
     "metadata": {},
     "output_type": "execute_result"
    }
   ],
   "source": [
    "work_data.shape"
   ]
  },
  {
   "cell_type": "code",
   "execution_count": 34,
   "metadata": {
    "collapsed": false
   },
   "outputs": [
    {
     "data": {
      "text/plain": [
       "2760"
      ]
     },
     "execution_count": 34,
     "metadata": {},
     "output_type": "execute_result"
    }
   ],
   "source": [
    "len(work_data[\"uniq_id\"].unique())"
   ]
  },
  {
   "cell_type": "markdown",
   "metadata": {},
   "source": [
    "---"
   ]
  },
  {
   "cell_type": "markdown",
   "metadata": {},
   "source": [
    "### Worker trust over time"
   ]
  },
  {
   "cell_type": "code",
   "execution_count": 35,
   "metadata": {
    "collapsed": true
   },
   "outputs": [],
   "source": [
    "def trust_over_time(dataframe):\n",
    "    res = defaultdict(list)\n",
    "\n",
    "    list_size = 0\n",
    "    for worker_id, resp in dataframe.groupby(\"_worker_id\"):\n",
    "        cum_seen = 0\n",
    "        cum_missed = 0\n",
    "        for fin_time, page in resp.groupby(\"_created_at\"):\n",
    "            seen = page[\"_golden\"].sum()\n",
    "            missed = page[\"_missed\"].sum()\n",
    "            \n",
    "            if np.isnan(missed):\n",
    "                missed = 0\n",
    "                \n",
    "            cum_seen += seen\n",
    "            cum_missed += missed\n",
    "            res[worker_id].append(1 - cum_missed / cum_seen)\n",
    "            \n",
    "        list_size = max(list_size, len(res[worker_id]))\n",
    "        \n",
    "    temp = dict()\n",
    "    for worker_id, values in res.items():\n",
    "        temp[worker_id] = values + [np.nan] * (list_size - len(values))\n",
    "        \n",
    "    return pd.DataFrame(temp)"
   ]
  },
  {
   "cell_type": "code",
   "execution_count": 36,
   "metadata": {
    "collapsed": false
   },
   "outputs": [],
   "source": [
    "temp = all_raw_data.query(\"_worker_id in {0}\".format(list(good_worker_ids)))"
   ]
  },
  {
   "cell_type": "code",
   "execution_count": 37,
   "metadata": {
    "collapsed": false
   },
   "outputs": [
    {
     "name": "stderr",
     "output_type": "stream",
     "text": [
      "/usr/lib64/python3.4/site-packages/pandas/core/indexing.py:415: SettingWithCopyWarning: \n",
      "A value is trying to be set on a copy of a slice from a DataFrame.\n",
      "Try using .loc[row_indexer,col_indexer] = value instead\n",
      "\n",
      "See the the caveats in the documentation: http://pandas.pydata.org/pandas-docs/stable/indexing.html#indexing-view-versus-copy\n",
      "  self.obj[item] = s\n"
     ]
    }
   ],
   "source": [
    "temp.loc[:, \"_created_at\"] = temp.loc[:, \"_created_at\"].map(convert_time)\n",
    "temp.loc[:, \"_started_at\"] = temp.loc[:, \"_started_at\"].map(convert_time)"
   ]
  },
  {
   "cell_type": "code",
   "execution_count": 38,
   "metadata": {
    "collapsed": true
   },
   "outputs": [],
   "source": [
    "timeres = trust_over_time(temp)"
   ]
  },
  {
   "cell_type": "code",
   "execution_count": 39,
   "metadata": {
    "collapsed": false
   },
   "outputs": [
    {
     "data": {
      "text/html": [
       "<div>\n",
       "<table border=\"1\" class=\"dataframe\">\n",
       "  <thead>\n",
       "    <tr style=\"text-align: right;\">\n",
       "      <th></th>\n",
       "      <th>2112439</th>\n",
       "      <th>3626598</th>\n",
       "      <th>6333422</th>\n",
       "      <th>6347548</th>\n",
       "      <th>6591664</th>\n",
       "      <th>7690577</th>\n",
       "      <th>9336290</th>\n",
       "      <th>9383666</th>\n",
       "      <th>9559045</th>\n",
       "      <th>9832767</th>\n",
       "      <th>...</th>\n",
       "      <th>33732804</th>\n",
       "      <th>33770137</th>\n",
       "      <th>33803732</th>\n",
       "      <th>33845842</th>\n",
       "      <th>33859798</th>\n",
       "      <th>33871848</th>\n",
       "      <th>33897090</th>\n",
       "      <th>33899112</th>\n",
       "      <th>33920312</th>\n",
       "      <th>33975182</th>\n",
       "    </tr>\n",
       "  </thead>\n",
       "  <tbody>\n",
       "    <tr>\n",
       "      <th>0</th>\n",
       "      <td>0.833333</td>\n",
       "      <td>0.833333</td>\n",
       "      <td>0.833333</td>\n",
       "      <td>0.833333</td>\n",
       "      <td>1.000000</td>\n",
       "      <td>0.833333</td>\n",
       "      <td>1</td>\n",
       "      <td>0.833333</td>\n",
       "      <td>1</td>\n",
       "      <td>0.833333</td>\n",
       "      <td>...</td>\n",
       "      <td>0.833333</td>\n",
       "      <td>0.833333</td>\n",
       "      <td>1</td>\n",
       "      <td>1</td>\n",
       "      <td>1.000000</td>\n",
       "      <td>0.833333</td>\n",
       "      <td>0.833333</td>\n",
       "      <td>1</td>\n",
       "      <td>1</td>\n",
       "      <td>0.833333</td>\n",
       "    </tr>\n",
       "    <tr>\n",
       "      <th>1</th>\n",
       "      <td>0.857143</td>\n",
       "      <td>0.857143</td>\n",
       "      <td>0.857143</td>\n",
       "      <td>0.857143</td>\n",
       "      <td>1.000000</td>\n",
       "      <td>0.857143</td>\n",
       "      <td>1</td>\n",
       "      <td>0.857143</td>\n",
       "      <td>1</td>\n",
       "      <td>0.857143</td>\n",
       "      <td>...</td>\n",
       "      <td>0.857143</td>\n",
       "      <td>0.714286</td>\n",
       "      <td>1</td>\n",
       "      <td>1</td>\n",
       "      <td>0.857143</td>\n",
       "      <td>0.857143</td>\n",
       "      <td>0.857143</td>\n",
       "      <td>1</td>\n",
       "      <td>1</td>\n",
       "      <td>0.857143</td>\n",
       "    </tr>\n",
       "    <tr>\n",
       "      <th>2</th>\n",
       "      <td>0.875000</td>\n",
       "      <td>0.875000</td>\n",
       "      <td>0.875000</td>\n",
       "      <td>0.875000</td>\n",
       "      <td>0.875000</td>\n",
       "      <td>0.875000</td>\n",
       "      <td>1</td>\n",
       "      <td>0.875000</td>\n",
       "      <td>1</td>\n",
       "      <td>0.875000</td>\n",
       "      <td>...</td>\n",
       "      <td>0.875000</td>\n",
       "      <td>0.750000</td>\n",
       "      <td>1</td>\n",
       "      <td>1</td>\n",
       "      <td>0.750000</td>\n",
       "      <td>0.875000</td>\n",
       "      <td>0.875000</td>\n",
       "      <td>1</td>\n",
       "      <td>1</td>\n",
       "      <td>NaN</td>\n",
       "    </tr>\n",
       "    <tr>\n",
       "      <th>3</th>\n",
       "      <td>NaN</td>\n",
       "      <td>0.888889</td>\n",
       "      <td>0.888889</td>\n",
       "      <td>0.888889</td>\n",
       "      <td>0.888889</td>\n",
       "      <td>0.888889</td>\n",
       "      <td>1</td>\n",
       "      <td>0.777778</td>\n",
       "      <td>1</td>\n",
       "      <td>0.888889</td>\n",
       "      <td>...</td>\n",
       "      <td>0.777778</td>\n",
       "      <td>0.777778</td>\n",
       "      <td>1</td>\n",
       "      <td>1</td>\n",
       "      <td>0.777778</td>\n",
       "      <td>0.888889</td>\n",
       "      <td>NaN</td>\n",
       "      <td>1</td>\n",
       "      <td>NaN</td>\n",
       "      <td>NaN</td>\n",
       "    </tr>\n",
       "    <tr>\n",
       "      <th>4</th>\n",
       "      <td>NaN</td>\n",
       "      <td>0.900000</td>\n",
       "      <td>0.900000</td>\n",
       "      <td>0.800000</td>\n",
       "      <td>0.900000</td>\n",
       "      <td>0.800000</td>\n",
       "      <td>1</td>\n",
       "      <td>NaN</td>\n",
       "      <td>1</td>\n",
       "      <td>0.900000</td>\n",
       "      <td>...</td>\n",
       "      <td>0.800000</td>\n",
       "      <td>0.800000</td>\n",
       "      <td>1</td>\n",
       "      <td>1</td>\n",
       "      <td>0.700000</td>\n",
       "      <td>0.900000</td>\n",
       "      <td>NaN</td>\n",
       "      <td>1</td>\n",
       "      <td>NaN</td>\n",
       "      <td>NaN</td>\n",
       "    </tr>\n",
       "  </tbody>\n",
       "</table>\n",
       "<p>5 rows × 224 columns</p>\n",
       "</div>"
      ],
      "text/plain": [
       "   2112439   3626598   6333422   6347548   6591664   7690577   9336290   \\\n",
       "0  0.833333  0.833333  0.833333  0.833333  1.000000  0.833333         1   \n",
       "1  0.857143  0.857143  0.857143  0.857143  1.000000  0.857143         1   \n",
       "2  0.875000  0.875000  0.875000  0.875000  0.875000  0.875000         1   \n",
       "3       NaN  0.888889  0.888889  0.888889  0.888889  0.888889         1   \n",
       "4       NaN  0.900000  0.900000  0.800000  0.900000  0.800000         1   \n",
       "\n",
       "   9383666   9559045   9832767     ...     33732804  33770137  33803732  \\\n",
       "0  0.833333         1  0.833333    ...     0.833333  0.833333         1   \n",
       "1  0.857143         1  0.857143    ...     0.857143  0.714286         1   \n",
       "2  0.875000         1  0.875000    ...     0.875000  0.750000         1   \n",
       "3  0.777778         1  0.888889    ...     0.777778  0.777778         1   \n",
       "4       NaN         1  0.900000    ...     0.800000  0.800000         1   \n",
       "\n",
       "   33845842  33859798  33871848  33897090  33899112  33920312  33975182  \n",
       "0         1  1.000000  0.833333  0.833333         1         1  0.833333  \n",
       "1         1  0.857143  0.857143  0.857143         1         1  0.857143  \n",
       "2         1  0.750000  0.875000  0.875000         1         1       NaN  \n",
       "3         1  0.777778  0.888889       NaN         1       NaN       NaN  \n",
       "4         1  0.700000  0.900000       NaN         1       NaN       NaN  \n",
       "\n",
       "[5 rows x 224 columns]"
      ]
     },
     "execution_count": 39,
     "metadata": {},
     "output_type": "execute_result"
    }
   ],
   "source": [
    "timeres.head()"
   ]
  },
  {
   "cell_type": "code",
   "execution_count": 40,
   "metadata": {
    "collapsed": false
   },
   "outputs": [
    {
     "data": {
      "text/plain": [
       "<matplotlib.text.Text at 0x7f8cd85b64a8>"
      ]
     },
     "execution_count": 40,
     "metadata": {},
     "output_type": "execute_result"
    },
    {
     "data": {
      "image/png": "[encoded data removed]",
      "text/plain": [
       "<matplotlib.figure.Figure at 0x7f8cd8678fd0>"
      ]
     },
     "metadata": {},
     "output_type": "display_data"
    }
   ],
   "source": [
    "graph = timeres.plot(legend = False, figsize = (8, 5),\n",
    "            title = \"All good workers' cumulative trust scores over time\")\n",
    "\n",
    "graph.set_ylim((0, 1.05))\n",
    "graph.set_xlabel(\"Consecutive pages of work\")\n",
    "graph.set_ylabel(\"Trust score\")"
   ]
  },
  {
   "cell_type": "markdown",
   "metadata": {},
   "source": [
    "---"
   ]
  },
  {
   "cell_type": "markdown",
   "metadata": {},
   "source": [
    "## Result aggregation\n",
    "\n",
    "The abstract-level task was a simple binary vote of whether the shown relationship was true according to the passage. Therefore we do not need to do the vote mapping."
   ]
  },
  {
   "cell_type": "code",
   "execution_count": 41,
   "metadata": {
    "collapsed": true
   },
   "outputs": [],
   "source": [
    "# take positive votes only, indirect is no\n",
    "res = aggregate_results(\"uniq_id\", \"verify_relationship\", work_data,\n",
    "                        \"positive_signal_only\",\n",
    "                        [\"pmid\", \"_unit_id\", \"chemical_id\", \"disease_id\"],\n",
    "                        \"yes_direct\")"
   ]
  },
  {
   "cell_type": "code",
   "execution_count": 42,
   "metadata": {
    "collapsed": true
   },
   "outputs": [],
   "source": [
    "res.loc[:, [\"pmid\", \"unit_id\"]] = res.loc[:, [\"pmid\", \"unit_id\"]].astype(int)"
   ]
  },
  {
   "cell_type": "code",
   "execution_count": 43,
   "metadata": {
    "collapsed": false
   },
   "outputs": [
    {
     "data": {
      "text/plain": [
       "(5368, 9)"
      ]
     },
     "execution_count": 43,
     "metadata": {},
     "output_type": "execute_result"
    }
   ],
   "source": [
    "res.shape"
   ]
  },
  {
   "cell_type": "code",
   "execution_count": 44,
   "metadata": {
    "collapsed": false
   },
   "outputs": [
    {
     "data": {
      "text/plain": [
       "2760"
      ]
     },
     "execution_count": 44,
     "metadata": {},
     "output_type": "execute_result"
    }
   ],
   "source": [
    "len(res[\"uniq_id\"].unique())"
   ]
  },
  {
   "cell_type": "code",
   "execution_count": 45,
   "metadata": {
    "collapsed": false
   },
   "outputs": [
    {
     "data": {
      "text/html": [
       "<div>\n",
       "<table border=\"1\" class=\"dataframe\">\n",
       "  <thead>\n",
       "    <tr style=\"text-align: right;\">\n",
       "      <th></th>\n",
       "      <th>uniq_id</th>\n",
       "      <th>verify_relationship</th>\n",
       "      <th>conf_score</th>\n",
       "      <th>num_votes</th>\n",
       "      <th>percent_agree</th>\n",
       "      <th>pmid</th>\n",
       "      <th>unit_id</th>\n",
       "      <th>chemical_id</th>\n",
       "      <th>disease_id</th>\n",
       "    </tr>\n",
       "  </thead>\n",
       "  <tbody>\n",
       "    <tr>\n",
       "      <th>0</th>\n",
       "      <td>bcv_final_eval_hard_0</td>\n",
       "      <td>yes_direct</td>\n",
       "      <td>0.8182</td>\n",
       "      <td>1</td>\n",
       "      <td>0.198438</td>\n",
       "      <td>0</td>\n",
       "      <td>773935948</td>\n",
       "      <td>MESH:D006632</td>\n",
       "      <td>MESH:D003693</td>\n",
       "    </tr>\n",
       "    <tr>\n",
       "      <th>1</th>\n",
       "      <td>bcv_final_eval_hard_0</td>\n",
       "      <td>no_relation</td>\n",
       "      <td>3.3050</td>\n",
       "      <td>4</td>\n",
       "      <td>0.801562</td>\n",
       "      <td>0</td>\n",
       "      <td>773935948</td>\n",
       "      <td>MESH:D006632</td>\n",
       "      <td>MESH:D003693</td>\n",
       "    </tr>\n",
       "    <tr>\n",
       "      <th>0</th>\n",
       "      <td>bcv_final_eval_hard_1</td>\n",
       "      <td>yes_direct</td>\n",
       "      <td>0.0000</td>\n",
       "      <td>0</td>\n",
       "      <td>0.000000</td>\n",
       "      <td>1</td>\n",
       "      <td>773935949</td>\n",
       "      <td>MESH:D000809</td>\n",
       "      <td>MESH:D007022</td>\n",
       "    </tr>\n",
       "    <tr>\n",
       "      <th>0</th>\n",
       "      <td>bcv_final_eval_hard_1</td>\n",
       "      <td>no_relation</td>\n",
       "      <td>4.4691</td>\n",
       "      <td>5</td>\n",
       "      <td>1.000000</td>\n",
       "      <td>1</td>\n",
       "      <td>773935949</td>\n",
       "      <td>MESH:D000809</td>\n",
       "      <td>MESH:D007022</td>\n",
       "    </tr>\n",
       "    <tr>\n",
       "      <th>0</th>\n",
       "      <td>bcv_final_eval_hard_10</td>\n",
       "      <td>yes_direct</td>\n",
       "      <td>0.0000</td>\n",
       "      <td>0</td>\n",
       "      <td>0.000000</td>\n",
       "      <td>5</td>\n",
       "      <td>773935958</td>\n",
       "      <td>MESH:D013498</td>\n",
       "      <td>MESH:D003556</td>\n",
       "    </tr>\n",
       "  </tbody>\n",
       "</table>\n",
       "</div>"
      ],
      "text/plain": [
       "                  uniq_id verify_relationship  conf_score  num_votes  \\\n",
       "0   bcv_final_eval_hard_0          yes_direct      0.8182          1   \n",
       "1   bcv_final_eval_hard_0         no_relation      3.3050          4   \n",
       "0   bcv_final_eval_hard_1          yes_direct      0.0000          0   \n",
       "0   bcv_final_eval_hard_1         no_relation      4.4691          5   \n",
       "0  bcv_final_eval_hard_10          yes_direct      0.0000          0   \n",
       "\n",
       "   percent_agree  pmid    unit_id   chemical_id    disease_id  \n",
       "0       0.198438     0  773935948  MESH:D006632  MESH:D003693  \n",
       "1       0.801562     0  773935948  MESH:D006632  MESH:D003693  \n",
       "0       0.000000     1  773935949  MESH:D000809  MESH:D007022  \n",
       "0       1.000000     1  773935949  MESH:D000809  MESH:D007022  \n",
       "0       0.000000     5  773935958  MESH:D013498  MESH:D003556  "
      ]
     },
     "execution_count": 45,
     "metadata": {},
     "output_type": "execute_result"
    }
   ],
   "source": [
    "res.head()"
   ]
  },
  {
   "cell_type": "code",
   "execution_count": 46,
   "metadata": {
    "collapsed": true
   },
   "outputs": [],
   "source": [
    "res_pos_only = res.query(\"verify_relationship == 'yes_direct'\")"
   ]
  },
  {
   "cell_type": "code",
   "execution_count": 47,
   "metadata": {
    "collapsed": false
   },
   "outputs": [
    {
     "data": {
      "text/plain": [
       "(2760, 9)"
      ]
     },
     "execution_count": 47,
     "metadata": {},
     "output_type": "execute_result"
    }
   ],
   "source": [
    "res_pos_only.shape"
   ]
  },
  {
   "cell_type": "code",
   "execution_count": 48,
   "metadata": {
    "collapsed": false
   },
   "outputs": [
    {
     "data": {
      "text/html": [
       "<div>\n",
       "<table border=\"1\" class=\"dataframe\">\n",
       "  <thead>\n",
       "    <tr style=\"text-align: right;\">\n",
       "      <th></th>\n",
       "      <th>uniq_id</th>\n",
       "      <th>verify_relationship</th>\n",
       "      <th>conf_score</th>\n",
       "      <th>num_votes</th>\n",
       "      <th>percent_agree</th>\n",
       "      <th>pmid</th>\n",
       "      <th>unit_id</th>\n",
       "      <th>chemical_id</th>\n",
       "      <th>disease_id</th>\n",
       "    </tr>\n",
       "  </thead>\n",
       "  <tbody>\n",
       "    <tr>\n",
       "      <th>0</th>\n",
       "      <td>bcv_final_eval_hard_0</td>\n",
       "      <td>yes_direct</td>\n",
       "      <td>0.8182</td>\n",
       "      <td>1</td>\n",
       "      <td>0.198438</td>\n",
       "      <td>0</td>\n",
       "      <td>773935948</td>\n",
       "      <td>MESH:D006632</td>\n",
       "      <td>MESH:D003693</td>\n",
       "    </tr>\n",
       "    <tr>\n",
       "      <th>0</th>\n",
       "      <td>bcv_final_eval_hard_1</td>\n",
       "      <td>yes_direct</td>\n",
       "      <td>0.0000</td>\n",
       "      <td>0</td>\n",
       "      <td>0.000000</td>\n",
       "      <td>1</td>\n",
       "      <td>773935949</td>\n",
       "      <td>MESH:D000809</td>\n",
       "      <td>MESH:D007022</td>\n",
       "    </tr>\n",
       "    <tr>\n",
       "      <th>0</th>\n",
       "      <td>bcv_final_eval_hard_10</td>\n",
       "      <td>yes_direct</td>\n",
       "      <td>0.0000</td>\n",
       "      <td>0</td>\n",
       "      <td>0.000000</td>\n",
       "      <td>5</td>\n",
       "      <td>773935958</td>\n",
       "      <td>MESH:D013498</td>\n",
       "      <td>MESH:D003556</td>\n",
       "    </tr>\n",
       "    <tr>\n",
       "      <th>0</th>\n",
       "      <td>bcv_final_eval_hard_100</td>\n",
       "      <td>yes_direct</td>\n",
       "      <td>0.0000</td>\n",
       "      <td>0</td>\n",
       "      <td>0.000000</td>\n",
       "      <td>21</td>\n",
       "      <td>773936048</td>\n",
       "      <td>MESH:D000431</td>\n",
       "      <td>MESH:D012893</td>\n",
       "    </tr>\n",
       "    <tr>\n",
       "      <th>0</th>\n",
       "      <td>bcv_final_eval_hard_1000</td>\n",
       "      <td>yes_direct</td>\n",
       "      <td>0.0000</td>\n",
       "      <td>0</td>\n",
       "      <td>0.000000</td>\n",
       "      <td>200</td>\n",
       "      <td>773936948</td>\n",
       "      <td>MESH:D004837</td>\n",
       "      <td>MESH:D009202</td>\n",
       "    </tr>\n",
       "  </tbody>\n",
       "</table>\n",
       "</div>"
      ],
      "text/plain": [
       "                    uniq_id verify_relationship  conf_score  num_votes  \\\n",
       "0     bcv_final_eval_hard_0          yes_direct      0.8182          1   \n",
       "0     bcv_final_eval_hard_1          yes_direct      0.0000          0   \n",
       "0    bcv_final_eval_hard_10          yes_direct      0.0000          0   \n",
       "0   bcv_final_eval_hard_100          yes_direct      0.0000          0   \n",
       "0  bcv_final_eval_hard_1000          yes_direct      0.0000          0   \n",
       "\n",
       "   percent_agree  pmid    unit_id   chemical_id    disease_id  \n",
       "0       0.198438     0  773935948  MESH:D006632  MESH:D003693  \n",
       "0       0.000000     1  773935949  MESH:D000809  MESH:D007022  \n",
       "0       0.000000     5  773935958  MESH:D013498  MESH:D003556  \n",
       "0       0.000000    21  773936048  MESH:D000431  MESH:D012893  \n",
       "0       0.000000   200  773936948  MESH:D004837  MESH:D009202  "
      ]
     },
     "execution_count": 48,
     "metadata": {},
     "output_type": "execute_result"
    }
   ],
   "source": [
    "res_pos_only.head()"
   ]
  },
  {
   "cell_type": "markdown",
   "metadata": {},
   "source": [
    "### Internal consistency check:"
   ]
  },
  {
   "cell_type": "code",
   "execution_count": 49,
   "metadata": {
    "collapsed": false
   },
   "outputs": [
    {
     "data": {
      "text/plain": [
       "<matplotlib.text.Text at 0x7f8cd851a940>"
      ]
     },
     "execution_count": 49,
     "metadata": {},
     "output_type": "execute_result"
    },
    {
     "data": {
      "image/png": "[encoded data removed]",
      "text/plain": [
       "<matplotlib.figure.Figure at 0x7f8cd8e6b0b8>"
      ]
     },
     "metadata": {},
     "output_type": "display_data"
    }
   ],
   "source": [
    "graph = res_pos_only[\"num_votes\"].value_counts().plot(kind = \"bar\", title = \"Votes for yes_direct\")\n",
    "\n",
    "graph.set_ylabel(\"Number of work units\")\n",
    "graph.set_xlabel(\"Number of votes for yes_direct\")"
   ]
  },
  {
   "cell_type": "code",
   "execution_count": 50,
   "metadata": {
    "collapsed": false
   },
   "outputs": [
    {
     "data": {
      "text/plain": [
       "<matplotlib.text.Text at 0x7f8cd3fe1dd8>"
      ]
     },
     "execution_count": 50,
     "metadata": {},
     "output_type": "execute_result"
    },
    {
     "data": {
      "image/png": "[encoded data removed]",
      "text/plain": [
       "<matplotlib.figure.Figure at 0x7f8cd82ee828>"
      ]
     },
     "metadata": {},
     "output_type": "display_data"
    }
   ],
   "source": [
    "graph = res_pos_only[\"num_votes\"].value_counts(normalize = True).plot(kind = \"bar\", title = \"Votes for yes_direct\")\n",
    "\n",
    "graph.set_ylabel(\"Number of work units\")\n",
    "graph.set_xlabel(\"Number of votes for yes_direct\")"
   ]
  },
  {
   "cell_type": "markdown",
   "metadata": {},
   "source": [
    "Looking at the graph above shows that around 60% of the relations received 4 or 5 of 5 no_relation votes. Only 15% of the work units received 4 or more yes_direct votes. We will also be not including the ones with 2 or 3 positive votes, as those are likely to lower our F-score."
   ]
  },
  {
   "cell_type": "markdown",
   "metadata": {},
   "source": [
    "### Write results to file\n",
    "\n",
    "We will make two files: one where we write all relations with our percent_agree as the normalized confidence score, and another where we only take the ones where we had >= 4 positive votes as our set."
   ]
  },
  {
   "cell_type": "code",
   "execution_count": 51,
   "metadata": {
    "collapsed": true
   },
   "outputs": [],
   "source": [
    "res_pos_only.to_csv(\"data/final_eval/results/abstract_relation_res.tsv\", sep = '\\t', index = False)"
   ]
  }
 ],
 "metadata": {
  "kernelspec": {
   "display_name": "Python 3",
   "language": "python",
   "name": "python3"
  },
  "language_info": {
   "codemirror_mode": {
    "name": "ipython",
    "version": 3
   },
   "file_extension": ".py",
   "mimetype": "text/x-python",
   "name": "python",
   "nbconvert_exporter": "python",
   "pygments_lexer": "ipython3",
   "version": "3.4.2"
  }
 },
 "nbformat": 4,
 "nbformat_minor": 0
}
