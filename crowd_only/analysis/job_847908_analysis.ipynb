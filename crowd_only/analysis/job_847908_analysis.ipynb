{
 "cells": [
  {
   "cell_type": "markdown",
   "metadata": {},
   "source": [
    "# Analysis of CrowdFlower job #847908\n",
    "\n",
    "Tong Shu Li<br>\n",
    "Created on: 2016-01-07<br>\n",
    "Last updated: 2016-01-08\n",
    "\n",
    "Analysis of CrowdFlower job 847908: refinement after official BioCreative evaluation. In this task the sentence and abstract jobs were recombined back into one task, with cooccurring sentences highlighted to help draw worker attention. No NER processing was used; gold standard annotations were used instead to focus solely on the relation extraction. Test questions were generated automatically, and some were hand edited for consistency when the job was running.\n",
    "\n",
    "This iteration of the task design sought to eliminate errors arising from lack of context issues. Previous versions where single sentences were shown resulted in false negative errors because surrounding context was not shown. However, having to show the entire abstract for all tasks greatly increases the difficulty of the task that workers need to do, and therefore it is unknown if the performance gains are worth the increase in task complexity."
   ]
  },
  {
   "cell_type": "code",
   "execution_count": 1,
   "metadata": {
    "collapsed": true
   },
   "outputs": [],
   "source": [
    "from collections import defaultdict\n",
    "import math\n",
    "import matplotlib as plt\n",
    "import numpy as np\n",
    "import pandas as pd\n",
    "import sys"
   ]
  },
  {
   "cell_type": "code",
   "execution_count": 2,
   "metadata": {
    "collapsed": false
   },
   "outputs": [],
   "source": [
    "%matplotlib inline"
   ]
  },
  {
   "cell_type": "code",
   "execution_count": 3,
   "metadata": {
    "collapsed": true
   },
   "outputs": [],
   "source": [
    "sys.path.append(\"..\")"
   ]
  },
  {
   "cell_type": "code",
   "execution_count": 4,
   "metadata": {
    "collapsed": false
   },
   "outputs": [],
   "source": [
    "from src.filter_data import filter_data\n",
    "from src.aggregate_results import aggregate_results\n",
    "from src.lingpipe.file_util import save_file\n",
    "from src.eval_perf import official_F_score\n",
    "from src.data_model import parse_input"
   ]
  },
  {
   "cell_type": "code",
   "execution_count": 5,
   "metadata": {
    "collapsed": true
   },
   "outputs": [],
   "source": [
    "TRIPLE = [\"pmid\", \"chemical_id\", \"disease_id\"]"
   ]
  },
  {
   "cell_type": "code",
   "execution_count": 6,
   "metadata": {
    "collapsed": true
   },
   "outputs": [],
   "source": [
    "pd.set_option(\"max_colwidth\", 55)"
   ]
  },
  {
   "cell_type": "markdown",
   "metadata": {},
   "source": [
    "---"
   ]
  },
  {
   "cell_type": "markdown",
   "metadata": {},
   "source": [
    "### Read the original gold standard for the dataset"
   ]
  },
  {
   "cell_type": "code",
   "execution_count": 7,
   "metadata": {
    "collapsed": true
   },
   "outputs": [],
   "source": [
    "loc = \"../data/refinement\"\n",
    "fname = \"CDR_train_50_subset.txt\"\n",
    "\n",
    "train_sub = parse_input(loc, fname, fix_acronyms = False)"
   ]
  },
  {
   "cell_type": "code",
   "execution_count": 8,
   "metadata": {
    "collapsed": true
   },
   "outputs": [],
   "source": [
    "loc = \"../data/refinement\"\n",
    "fname = \"CDR_dev_50_subset.txt\"\n",
    "\n",
    "dev_sub = parse_input(loc, fname, fix_acronyms = False)"
   ]
  },
  {
   "cell_type": "code",
   "execution_count": 9,
   "metadata": {
    "collapsed": true
   },
   "outputs": [],
   "source": [
    "testset = train_sub.copy()\n",
    "testset.update(dev_sub)"
   ]
  },
  {
   "cell_type": "code",
   "execution_count": 10,
   "metadata": {
    "collapsed": false
   },
   "outputs": [
    {
     "data": {
      "text/plain": [
       "100"
      ]
     },
     "execution_count": 10,
     "metadata": {},
     "output_type": "execute_result"
    }
   ],
   "source": [
    "len(testset)"
   ]
  },
  {
   "cell_type": "markdown",
   "metadata": {},
   "source": [
    "### Grab the gold standard relations as triples"
   ]
  },
  {
   "cell_type": "code",
   "execution_count": 11,
   "metadata": {
    "collapsed": false
   },
   "outputs": [],
   "source": [
    "def get_gold_rels(gold_std):\n",
    "    res = set()\n",
    "    for pmid, paper in gold_std.items():\n",
    "        for rel in paper.gold_relations:\n",
    "            res.add((int(pmid), rel.chem.flat_repr, rel.dise.flat_repr))\n",
    "            \n",
    "    return res"
   ]
  },
  {
   "cell_type": "code",
   "execution_count": 12,
   "metadata": {
    "collapsed": false
   },
   "outputs": [],
   "source": [
    "gold_relations = get_gold_rels(testset)"
   ]
  },
  {
   "cell_type": "code",
   "execution_count": 13,
   "metadata": {
    "collapsed": false
   },
   "outputs": [
    {
     "data": {
      "text/plain": [
       "171"
      ]
     },
     "execution_count": 13,
     "metadata": {},
     "output_type": "execute_result"
    }
   ],
   "source": [
    "len(gold_relations)"
   ]
  },
  {
   "cell_type": "markdown",
   "metadata": {},
   "source": [
    "### Read the results of job 847908"
   ]
  },
  {
   "cell_type": "code",
   "execution_count": 14,
   "metadata": {
    "collapsed": true
   },
   "outputs": [],
   "source": [
    "settings = {\n",
    "    \"loc\": \"../data/crowdflower/results/\",\n",
    "    \"fname\": \"job_847908_full_with_untrusted.csv\",\n",
    "    \"dtype\": {},\n",
    "    \"data_subset\": \"normal\",\n",
    "    \"min_accuracy\": 0.7,\n",
    "    \"max_accuracy\": 1.0    \n",
    "}\n",
    "\n",
    "data = filter_data(settings)"
   ]
  },
  {
   "cell_type": "code",
   "execution_count": 15,
   "metadata": {
    "collapsed": false
   },
   "outputs": [
    {
     "data": {
      "text/plain": [
       "(4377, 29)"
      ]
     },
     "execution_count": 15,
     "metadata": {},
     "output_type": "execute_result"
    }
   ],
   "source": [
    "data.shape"
   ]
  },
  {
   "cell_type": "code",
   "execution_count": 16,
   "metadata": {
    "collapsed": false
   },
   "outputs": [
    {
     "data": {
      "text/html": [
       "<div>\n",
       "<table border=\"1\" class=\"dataframe\">\n",
       "  <thead>\n",
       "    <tr style=\"text-align: right;\">\n",
       "      <th></th>\n",
       "      <th>_unit_id</th>\n",
       "      <th>_created_at</th>\n",
       "      <th>_golden</th>\n",
       "      <th>_id</th>\n",
       "      <th>_missed</th>\n",
       "      <th>_started_at</th>\n",
       "      <th>_tainted</th>\n",
       "      <th>_channel</th>\n",
       "      <th>_trust</th>\n",
       "      <th>_worker_id</th>\n",
       "      <th>...</th>\n",
       "      <th>disease_id</th>\n",
       "      <th>disease_name</th>\n",
       "      <th>form_body</th>\n",
       "      <th>form_title</th>\n",
       "      <th>in_gold</th>\n",
       "      <th>pmid</th>\n",
       "      <th>rel_origin</th>\n",
       "      <th>rel_resp_gold</th>\n",
       "      <th>rel_resp_gold_reason</th>\n",
       "      <th>uniq_id</th>\n",
       "    </tr>\n",
       "  </thead>\n",
       "  <tbody>\n",
       "    <tr>\n",
       "      <th>2821</th>\n",
       "      <td>857897838</td>\n",
       "      <td>1/6/2016 18:40:12</td>\n",
       "      <td>False</td>\n",
       "      <td>1850274305</td>\n",
       "      <td>NaN</td>\n",
       "      <td>1/6/2016 18:39:23</td>\n",
       "      <td>False</td>\n",
       "      <td>neodev</td>\n",
       "      <td>0.8077</td>\n",
       "      <td>34664683</td>\n",
       "      <td>...</td>\n",
       "      <td>MESH:D003919</td>\n",
       "      <td>&lt;span class=\"disease\"&gt;diabetes-insipidus-like syndr...</td>\n",
       "      <td>The effect of amiloride on lithium-induced polydips...</td>\n",
       "      <td>Attenuation of the lithium-induced &lt;span class=\"dis...</td>\n",
       "      <td>NaN</td>\n",
       "      <td>7453952</td>\n",
       "      <td>abs</td>\n",
       "      <td>NaN</td>\n",
       "      <td>NaN</td>\n",
       "      <td>refine_try_1_0</td>\n",
       "    </tr>\n",
       "    <tr>\n",
       "      <th>2824</th>\n",
       "      <td>857897838</td>\n",
       "      <td>1/6/2016 18:45:06</td>\n",
       "      <td>False</td>\n",
       "      <td>1850277650</td>\n",
       "      <td>NaN</td>\n",
       "      <td>1/6/2016 18:42:38</td>\n",
       "      <td>False</td>\n",
       "      <td>neodev</td>\n",
       "      <td>0.8269</td>\n",
       "      <td>32867273</td>\n",
       "      <td>...</td>\n",
       "      <td>MESH:D003919</td>\n",
       "      <td>&lt;span class=\"disease\"&gt;diabetes-insipidus-like syndr...</td>\n",
       "      <td>The effect of amiloride on lithium-induced polydips...</td>\n",
       "      <td>Attenuation of the lithium-induced &lt;span class=\"dis...</td>\n",
       "      <td>NaN</td>\n",
       "      <td>7453952</td>\n",
       "      <td>abs</td>\n",
       "      <td>NaN</td>\n",
       "      <td>NaN</td>\n",
       "      <td>refine_try_1_0</td>\n",
       "    </tr>\n",
       "  </tbody>\n",
       "</table>\n",
       "<p>2 rows × 29 columns</p>\n",
       "</div>"
      ],
      "text/plain": [
       "       _unit_id        _created_at _golden         _id _missed  \\\n",
       "2821  857897838  1/6/2016 18:40:12   False  1850274305     NaN   \n",
       "2824  857897838  1/6/2016 18:45:06   False  1850277650     NaN   \n",
       "\n",
       "            _started_at _tainted _channel  _trust  _worker_id       ...        \\\n",
       "2821  1/6/2016 18:39:23    False   neodev  0.8077    34664683       ...         \n",
       "2824  1/6/2016 18:42:38    False   neodev  0.8269    32867273       ...         \n",
       "\n",
       "        disease_id                                            disease_name  \\\n",
       "2821  MESH:D003919  <span class=\"disease\">diabetes-insipidus-like syndr...   \n",
       "2824  MESH:D003919  <span class=\"disease\">diabetes-insipidus-like syndr...   \n",
       "\n",
       "                                                   form_body  \\\n",
       "2821  The effect of amiloride on lithium-induced polydips...   \n",
       "2824  The effect of amiloride on lithium-induced polydips...   \n",
       "\n",
       "                                                  form_title in_gold     pmid  \\\n",
       "2821  Attenuation of the lithium-induced <span class=\"dis...     NaN  7453952   \n",
       "2824  Attenuation of the lithium-induced <span class=\"dis...     NaN  7453952   \n",
       "\n",
       "     rel_origin rel_resp_gold rel_resp_gold_reason         uniq_id  \n",
       "2821        abs           NaN                  NaN  refine_try_1_0  \n",
       "2824        abs           NaN                  NaN  refine_try_1_0  \n",
       "\n",
       "[2 rows x 29 columns]"
      ]
     },
     "execution_count": 16,
     "metadata": {},
     "output_type": "execute_result"
    }
   ],
   "source": [
    "data.head(2)"
   ]
  },
  {
   "cell_type": "code",
   "execution_count": 17,
   "metadata": {
    "collapsed": false
   },
   "outputs": [
    {
     "data": {
      "text/plain": [
       "<matplotlib.axes._subplots.AxesSubplot at 0x7f04e5f9f4a8>"
      ]
     },
     "execution_count": 17,
     "metadata": {},
     "output_type": "execute_result"
    },
    {
     "data": {
      "image/png": "[encoded data removed]",
      "text/plain": [
       "<matplotlib.figure.Figure at 0x7f04e6042390>"
      ]
     },
     "metadata": {},
     "output_type": "display_data"
    }
   ],
   "source": [
    "data[[\"_worker_id\", \"_trust\"]].drop_duplicates()[\"_trust\"].plot(kind = \"hist\")"
   ]
  },
  {
   "cell_type": "markdown",
   "metadata": {},
   "source": [
    "### Check that the data are ok"
   ]
  },
  {
   "cell_type": "code",
   "execution_count": 18,
   "metadata": {
    "collapsed": false
   },
   "outputs": [
    {
     "data": {
      "text/plain": [
       "False    4377\n",
       "dtype: int64"
      ]
     },
     "execution_count": 18,
     "metadata": {},
     "output_type": "execute_result"
    }
   ],
   "source": [
    "data[\"_tainted\"].value_counts()"
   ]
  },
  {
   "cell_type": "code",
   "execution_count": 19,
   "metadata": {
    "collapsed": false
   },
   "outputs": [
    {
     "name": "stdout",
     "output_type": "stream",
     "text": [
      "4 1\n",
      "5 865\n",
      "6 8\n"
     ]
    }
   ],
   "source": [
    "v = defaultdict(set)\n",
    "for val, group in data.groupby(\"uniq_id\"):\n",
    "    v[len(group)].add(val)\n",
    "    \n",
    "for i, j in v.items():\n",
    "    print(i, len(j))"
   ]
  },
  {
   "cell_type": "markdown",
   "metadata": {},
   "source": [
    "There is one work unit which did not receive 5 votes, but the task had majority votes, so there is no need to worry. Everything else had 5 or more votes due to my real-time adjustments to the test questions."
   ]
  },
  {
   "cell_type": "markdown",
   "metadata": {},
   "source": [
    "### Read the cached CID relations"
   ]
  },
  {
   "cell_type": "code",
   "execution_count": 20,
   "metadata": {
    "collapsed": true
   },
   "outputs": [],
   "source": [
    "cid_rels = save_file(\"../refinement/refine_run_1_cid_rels.pickle\")"
   ]
  },
  {
   "cell_type": "code",
   "execution_count": 21,
   "metadata": {
    "collapsed": false
   },
   "outputs": [],
   "source": [
    "temp = defaultdict(list)\n",
    "for pmid, vals in cid_rels.items():\n",
    "    if vals:\n",
    "        for chem, dise in vals:\n",
    "            temp[\"pmid\"].append(pmid)\n",
    "            temp[\"chemical_id\"].append(chem.flat_repr)\n",
    "            temp[\"disease_id\"].append(dise.flat_repr)\n",
    "            temp[\"rel_origin\"].append(\"cid\")\n",
    "            temp[\"num_votes\"].append(5)\n",
    "            \n",
    "temp = pd.DataFrame(temp)"
   ]
  },
  {
   "cell_type": "code",
   "execution_count": 22,
   "metadata": {
    "collapsed": false,
    "scrolled": true
   },
   "outputs": [
    {
     "data": {
      "text/html": [
       "<div>\n",
       "<table border=\"1\" class=\"dataframe\">\n",
       "  <thead>\n",
       "    <tr style=\"text-align: right;\">\n",
       "      <th></th>\n",
       "      <th>chemical_id</th>\n",
       "      <th>disease_id</th>\n",
       "      <th>num_votes</th>\n",
       "      <th>pmid</th>\n",
       "      <th>rel_origin</th>\n",
       "    </tr>\n",
       "  </thead>\n",
       "  <tbody>\n",
       "    <tr>\n",
       "      <th>0</th>\n",
       "      <td>MESH:D008094</td>\n",
       "      <td>MESH:D003919</td>\n",
       "      <td>5</td>\n",
       "      <td>7453952</td>\n",
       "      <td>cid</td>\n",
       "    </tr>\n",
       "    <tr>\n",
       "      <th>1</th>\n",
       "      <td>MESH:D008094</td>\n",
       "      <td>MESH:D059606</td>\n",
       "      <td>5</td>\n",
       "      <td>7453952</td>\n",
       "      <td>cid</td>\n",
       "    </tr>\n",
       "  </tbody>\n",
       "</table>\n",
       "</div>"
      ],
      "text/plain": [
       "    chemical_id    disease_id  num_votes     pmid rel_origin\n",
       "0  MESH:D008094  MESH:D003919          5  7453952        cid\n",
       "1  MESH:D008094  MESH:D059606          5  7453952        cid"
      ]
     },
     "execution_count": 22,
     "metadata": {},
     "output_type": "execute_result"
    }
   ],
   "source": [
    "temp.head(2)"
   ]
  },
  {
   "cell_type": "markdown",
   "metadata": {},
   "source": [
    "### Aggregate results"
   ]
  },
  {
   "cell_type": "code",
   "execution_count": 23,
   "metadata": {
    "collapsed": false
   },
   "outputs": [],
   "source": [
    "raw_res = aggregate_results(\"uniq_id\", \"rel_resp\", data, \"positive_signal_only\",\n",
    "    [\"pmid\", \"_unit_id\", \"chemical_id\", \"disease_id\", \"rel_origin\"],\n",
    "    \"yes_direct\")"
   ]
  },
  {
   "cell_type": "code",
   "execution_count": 24,
   "metadata": {
    "collapsed": true
   },
   "outputs": [],
   "source": [
    "raw_res = raw_res.query(\"rel_resp == 'yes_direct'\")"
   ]
  },
  {
   "cell_type": "code",
   "execution_count": 25,
   "metadata": {
    "collapsed": false
   },
   "outputs": [
    {
     "data": {
      "text/html": [
       "<div>\n",
       "<table border=\"1\" class=\"dataframe\">\n",
       "  <thead>\n",
       "    <tr style=\"text-align: right;\">\n",
       "      <th></th>\n",
       "      <th>uniq_id</th>\n",
       "      <th>rel_resp</th>\n",
       "      <th>conf_score</th>\n",
       "      <th>num_votes</th>\n",
       "      <th>percent_agree</th>\n",
       "      <th>pmid</th>\n",
       "      <th>unit_id</th>\n",
       "      <th>chemical_id</th>\n",
       "      <th>disease_id</th>\n",
       "      <th>rel_origin</th>\n",
       "    </tr>\n",
       "  </thead>\n",
       "  <tbody>\n",
       "    <tr>\n",
       "      <th>0</th>\n",
       "      <td>refine_try_1_0</td>\n",
       "      <td>yes_direct</td>\n",
       "      <td>0.0000</td>\n",
       "      <td>0</td>\n",
       "      <td>0.000000</td>\n",
       "      <td>7453952</td>\n",
       "      <td>857897838</td>\n",
       "      <td>MESH:D018021</td>\n",
       "      <td>MESH:D003919</td>\n",
       "      <td>abs</td>\n",
       "    </tr>\n",
       "    <tr>\n",
       "      <th>1</th>\n",
       "      <td>refine_try_1_1</td>\n",
       "      <td>yes_direct</td>\n",
       "      <td>0.9167</td>\n",
       "      <td>1</td>\n",
       "      <td>0.218987</td>\n",
       "      <td>7453952</td>\n",
       "      <td>857897839</td>\n",
       "      <td>MESH:D011188</td>\n",
       "      <td>MESH:D011141</td>\n",
       "      <td>abs</td>\n",
       "    </tr>\n",
       "    <tr>\n",
       "      <th>1</th>\n",
       "      <td>refine_try_1_10</td>\n",
       "      <td>yes_direct</td>\n",
       "      <td>0.7619</td>\n",
       "      <td>1</td>\n",
       "      <td>0.181504</td>\n",
       "      <td>2559236</td>\n",
       "      <td>857897848</td>\n",
       "      <td>MESH:D004656</td>\n",
       "      <td>MESH:D009401</td>\n",
       "      <td>sent</td>\n",
       "    </tr>\n",
       "    <tr>\n",
       "      <th>1</th>\n",
       "      <td>refine_try_1_100</td>\n",
       "      <td>yes_direct</td>\n",
       "      <td>2.5101</td>\n",
       "      <td>3</td>\n",
       "      <td>0.619609</td>\n",
       "      <td>7910951</td>\n",
       "      <td>857897941</td>\n",
       "      <td>MESH:D000305</td>\n",
       "      <td>MESH:D012131</td>\n",
       "      <td>abs</td>\n",
       "    </tr>\n",
       "    <tr>\n",
       "      <th>1</th>\n",
       "      <td>refine_try_1_101</td>\n",
       "      <td>yes_direct</td>\n",
       "      <td>1.4643</td>\n",
       "      <td>2</td>\n",
       "      <td>0.384391</td>\n",
       "      <td>7910951</td>\n",
       "      <td>857897942</td>\n",
       "      <td>MESH:D014673</td>\n",
       "      <td>MESH:D008107</td>\n",
       "      <td>abs</td>\n",
       "    </tr>\n",
       "  </tbody>\n",
       "</table>\n",
       "</div>"
      ],
      "text/plain": [
       "            uniq_id    rel_resp  conf_score  num_votes  percent_agree  \\\n",
       "0    refine_try_1_0  yes_direct      0.0000          0       0.000000   \n",
       "1    refine_try_1_1  yes_direct      0.9167          1       0.218987   \n",
       "1   refine_try_1_10  yes_direct      0.7619          1       0.181504   \n",
       "1  refine_try_1_100  yes_direct      2.5101          3       0.619609   \n",
       "1  refine_try_1_101  yes_direct      1.4643          2       0.384391   \n",
       "\n",
       "      pmid    unit_id   chemical_id    disease_id rel_origin  \n",
       "0  7453952  857897838  MESH:D018021  MESH:D003919        abs  \n",
       "1  7453952  857897839  MESH:D011188  MESH:D011141        abs  \n",
       "1  2559236  857897848  MESH:D004656  MESH:D009401       sent  \n",
       "1  7910951  857897941  MESH:D000305  MESH:D012131        abs  \n",
       "1  7910951  857897942  MESH:D014673  MESH:D008107        abs  "
      ]
     },
     "execution_count": 25,
     "metadata": {},
     "output_type": "execute_result"
    }
   ],
   "source": [
    "raw_res.head()"
   ]
  },
  {
   "cell_type": "markdown",
   "metadata": {},
   "source": [
    "### Combine results"
   ]
  },
  {
   "cell_type": "code",
   "execution_count": 26,
   "metadata": {
    "collapsed": true
   },
   "outputs": [],
   "source": [
    "res = pd.concat([raw_res, temp])"
   ]
  },
  {
   "cell_type": "code",
   "execution_count": 27,
   "metadata": {
    "collapsed": false,
    "scrolled": true
   },
   "outputs": [
    {
     "data": {
      "text/html": [
       "<div>\n",
       "<table border=\"1\" class=\"dataframe\">\n",
       "  <thead>\n",
       "    <tr style=\"text-align: right;\">\n",
       "      <th></th>\n",
       "      <th>chemical_id</th>\n",
       "      <th>conf_score</th>\n",
       "      <th>disease_id</th>\n",
       "      <th>num_votes</th>\n",
       "      <th>percent_agree</th>\n",
       "      <th>pmid</th>\n",
       "      <th>rel_origin</th>\n",
       "      <th>rel_resp</th>\n",
       "      <th>uniq_id</th>\n",
       "      <th>unit_id</th>\n",
       "    </tr>\n",
       "  </thead>\n",
       "  <tbody>\n",
       "    <tr>\n",
       "      <th>0</th>\n",
       "      <td>MESH:D018021</td>\n",
       "      <td>0.0000</td>\n",
       "      <td>MESH:D003919</td>\n",
       "      <td>0</td>\n",
       "      <td>0.000000</td>\n",
       "      <td>7453952</td>\n",
       "      <td>abs</td>\n",
       "      <td>yes_direct</td>\n",
       "      <td>refine_try_1_0</td>\n",
       "      <td>857897838</td>\n",
       "    </tr>\n",
       "    <tr>\n",
       "      <th>1</th>\n",
       "      <td>MESH:D011188</td>\n",
       "      <td>0.9167</td>\n",
       "      <td>MESH:D011141</td>\n",
       "      <td>1</td>\n",
       "      <td>0.218987</td>\n",
       "      <td>7453952</td>\n",
       "      <td>abs</td>\n",
       "      <td>yes_direct</td>\n",
       "      <td>refine_try_1_1</td>\n",
       "      <td>857897839</td>\n",
       "    </tr>\n",
       "    <tr>\n",
       "      <th>1</th>\n",
       "      <td>MESH:D004656</td>\n",
       "      <td>0.7619</td>\n",
       "      <td>MESH:D009401</td>\n",
       "      <td>1</td>\n",
       "      <td>0.181504</td>\n",
       "      <td>2559236</td>\n",
       "      <td>sent</td>\n",
       "      <td>yes_direct</td>\n",
       "      <td>refine_try_1_10</td>\n",
       "      <td>857897848</td>\n",
       "    </tr>\n",
       "    <tr>\n",
       "      <th>1</th>\n",
       "      <td>MESH:D000305</td>\n",
       "      <td>2.5101</td>\n",
       "      <td>MESH:D012131</td>\n",
       "      <td>3</td>\n",
       "      <td>0.619609</td>\n",
       "      <td>7910951</td>\n",
       "      <td>abs</td>\n",
       "      <td>yes_direct</td>\n",
       "      <td>refine_try_1_100</td>\n",
       "      <td>857897941</td>\n",
       "    </tr>\n",
       "    <tr>\n",
       "      <th>1</th>\n",
       "      <td>MESH:D014673</td>\n",
       "      <td>1.4643</td>\n",
       "      <td>MESH:D008107</td>\n",
       "      <td>2</td>\n",
       "      <td>0.384391</td>\n",
       "      <td>7910951</td>\n",
       "      <td>abs</td>\n",
       "      <td>yes_direct</td>\n",
       "      <td>refine_try_1_101</td>\n",
       "      <td>857897942</td>\n",
       "    </tr>\n",
       "  </tbody>\n",
       "</table>\n",
       "</div>"
      ],
      "text/plain": [
       "    chemical_id  conf_score    disease_id  num_votes  percent_agree     pmid  \\\n",
       "0  MESH:D018021      0.0000  MESH:D003919          0       0.000000  7453952   \n",
       "1  MESH:D011188      0.9167  MESH:D011141          1       0.218987  7453952   \n",
       "1  MESH:D004656      0.7619  MESH:D009401          1       0.181504  2559236   \n",
       "1  MESH:D000305      2.5101  MESH:D012131          3       0.619609  7910951   \n",
       "1  MESH:D014673      1.4643  MESH:D008107          2       0.384391  7910951   \n",
       "\n",
       "  rel_origin    rel_resp           uniq_id    unit_id  \n",
       "0        abs  yes_direct    refine_try_1_0  857897838  \n",
       "1        abs  yes_direct    refine_try_1_1  857897839  \n",
       "1       sent  yes_direct   refine_try_1_10  857897848  \n",
       "1        abs  yes_direct  refine_try_1_100  857897941  \n",
       "1        abs  yes_direct  refine_try_1_101  857897942  "
      ]
     },
     "execution_count": 27,
     "metadata": {},
     "output_type": "execute_result"
    }
   ],
   "source": [
    "res.head()"
   ]
  },
  {
   "cell_type": "markdown",
   "metadata": {},
   "source": [
    "## Evaluate performance"
   ]
  },
  {
   "cell_type": "code",
   "execution_count": 28,
   "metadata": {
    "collapsed": false
   },
   "outputs": [
    {
     "data": {
      "text/html": [
       "<div>\n",
       "<table border=\"1\" class=\"dataframe\">\n",
       "  <thead>\n",
       "    <tr style=\"text-align: right;\">\n",
       "      <th></th>\n",
       "      <th>F_score</th>\n",
       "      <th>precision</th>\n",
       "      <th>recall</th>\n",
       "      <th>threshold</th>\n",
       "    </tr>\n",
       "  </thead>\n",
       "  <tbody>\n",
       "    <tr>\n",
       "      <th>0</th>\n",
       "      <td>0.311759</td>\n",
       "      <td>0.184665</td>\n",
       "      <td>1.000000</td>\n",
       "      <td>0</td>\n",
       "    </tr>\n",
       "    <tr>\n",
       "      <th>1</th>\n",
       "      <td>0.425974</td>\n",
       "      <td>0.273790</td>\n",
       "      <td>0.959064</td>\n",
       "      <td>1</td>\n",
       "    </tr>\n",
       "    <tr>\n",
       "      <th>2</th>\n",
       "      <td>0.530120</td>\n",
       "      <td>0.375610</td>\n",
       "      <td>0.900585</td>\n",
       "      <td>2</td>\n",
       "    </tr>\n",
       "    <tr>\n",
       "      <th>3</th>\n",
       "      <td>0.609244</td>\n",
       "      <td>0.475410</td>\n",
       "      <td>0.847953</td>\n",
       "      <td>3</td>\n",
       "    </tr>\n",
       "    <tr>\n",
       "      <th>4</th>\n",
       "      <td>0.628866</td>\n",
       "      <td>0.562212</td>\n",
       "      <td>0.713450</td>\n",
       "      <td>4</td>\n",
       "    </tr>\n",
       "    <tr>\n",
       "      <th>5</th>\n",
       "      <td>0.601266</td>\n",
       "      <td>0.655172</td>\n",
       "      <td>0.555556</td>\n",
       "      <td>5</td>\n",
       "    </tr>\n",
       "  </tbody>\n",
       "</table>\n",
       "</div>"
      ],
      "text/plain": [
       "    F_score  precision    recall  threshold\n",
       "0  0.311759   0.184665  1.000000          0\n",
       "1  0.425974   0.273790  0.959064          1\n",
       "2  0.530120   0.375610  0.900585          2\n",
       "3  0.609244   0.475410  0.847953          3\n",
       "4  0.628866   0.562212  0.713450          4\n",
       "5  0.601266   0.655172  0.555556          5"
      ]
     },
     "execution_count": 28,
     "metadata": {},
     "output_type": "execute_result"
    }
   ],
   "source": [
    "perf = official_F_score(\"num_votes\", gold_relations, res)\n",
    "perf"
   ]
  },
  {
   "cell_type": "code",
   "execution_count": 29,
   "metadata": {
    "collapsed": true
   },
   "outputs": [],
   "source": [
    "def plot_results(res, title, xlabel, fontsize, figsize, linewidth, fname = None):\n",
    "    res = res.sort(\"threshold\")\n",
    "    plt.rcParams.update({'font.size': fontsize})\n",
    "\n",
    "    graph = res.plot(x = \"threshold\", figsize = figsize,\n",
    "                     linewidth = linewidth, title = title)\n",
    "    graph.set_ylim((0, 1.1))\n",
    "    graph.set_xlabel(xlabel)\n",
    "    \n",
    "    if fname is not None:\n",
    "        plt.savefig(fname, bbox_inches = \"tight\")"
   ]
  },
  {
   "cell_type": "code",
   "execution_count": 30,
   "metadata": {
    "collapsed": false
   },
   "outputs": [
    {
     "data": {
      "image/png": "[encoded data removed]",
      "text/plain": [
       "<matplotlib.figure.Figure at 0x7f04e5e559b0>"
      ]
     },
     "metadata": {},
     "output_type": "display_data"
    }
   ],
   "source": [
    "plot_results(perf, \"Crowd Performance Against Gold Standard (refinement dataset)\",\n",
    "            \"Number of positive votes\", 12, (7, 7), 1)"
   ]
  },
  {
   "cell_type": "markdown",
   "metadata": {},
   "source": [
    "Performance is again middling. It's very very similar to what we were getting before, especially after NER error filtering (0.6 F range). No major improvement compared to before."
   ]
  },
  {
   "cell_type": "markdown",
   "metadata": {},
   "source": [
    "---"
   ]
  },
  {
   "cell_type": "markdown",
   "metadata": {},
   "source": [
    "## Error analysis\n",
    "\n",
    "Where did the crowd go wrong and how can we improve performance?"
   ]
  },
  {
   "cell_type": "code",
   "execution_count": 31,
   "metadata": {
    "collapsed": false
   },
   "outputs": [],
   "source": [
    "res[\"in_gold\"] = res.loc[:, TRIPLE].apply(\n",
    "    lambda r:\n",
    "        int((r[\"pmid\"], r[\"chemical_id\"], r[\"disease_id\"]) in gold_relations),\n",
    "    axis = 1\n",
    ")"
   ]
  },
  {
   "cell_type": "code",
   "execution_count": 32,
   "metadata": {
    "collapsed": false
   },
   "outputs": [
    {
     "data": {
      "text/html": [
       "<div>\n",
       "<table border=\"1\" class=\"dataframe\">\n",
       "  <thead>\n",
       "    <tr style=\"text-align: right;\">\n",
       "      <th></th>\n",
       "      <th>chemical_id</th>\n",
       "      <th>conf_score</th>\n",
       "      <th>disease_id</th>\n",
       "      <th>num_votes</th>\n",
       "      <th>percent_agree</th>\n",
       "      <th>pmid</th>\n",
       "      <th>rel_origin</th>\n",
       "      <th>rel_resp</th>\n",
       "      <th>uniq_id</th>\n",
       "      <th>unit_id</th>\n",
       "      <th>in_gold</th>\n",
       "    </tr>\n",
       "  </thead>\n",
       "  <tbody>\n",
       "    <tr>\n",
       "      <th>0</th>\n",
       "      <td>MESH:D018021</td>\n",
       "      <td>0.0000</td>\n",
       "      <td>MESH:D003919</td>\n",
       "      <td>0</td>\n",
       "      <td>0.000000</td>\n",
       "      <td>7453952</td>\n",
       "      <td>abs</td>\n",
       "      <td>yes_direct</td>\n",
       "      <td>refine_try_1_0</td>\n",
       "      <td>857897838</td>\n",
       "      <td>0</td>\n",
       "    </tr>\n",
       "    <tr>\n",
       "      <th>1</th>\n",
       "      <td>MESH:D011188</td>\n",
       "      <td>0.9167</td>\n",
       "      <td>MESH:D011141</td>\n",
       "      <td>1</td>\n",
       "      <td>0.218987</td>\n",
       "      <td>7453952</td>\n",
       "      <td>abs</td>\n",
       "      <td>yes_direct</td>\n",
       "      <td>refine_try_1_1</td>\n",
       "      <td>857897839</td>\n",
       "      <td>0</td>\n",
       "    </tr>\n",
       "    <tr>\n",
       "      <th>1</th>\n",
       "      <td>MESH:D004656</td>\n",
       "      <td>0.7619</td>\n",
       "      <td>MESH:D009401</td>\n",
       "      <td>1</td>\n",
       "      <td>0.181504</td>\n",
       "      <td>2559236</td>\n",
       "      <td>sent</td>\n",
       "      <td>yes_direct</td>\n",
       "      <td>refine_try_1_10</td>\n",
       "      <td>857897848</td>\n",
       "      <td>0</td>\n",
       "    </tr>\n",
       "    <tr>\n",
       "      <th>1</th>\n",
       "      <td>MESH:D000305</td>\n",
       "      <td>2.5101</td>\n",
       "      <td>MESH:D012131</td>\n",
       "      <td>3</td>\n",
       "      <td>0.619609</td>\n",
       "      <td>7910951</td>\n",
       "      <td>abs</td>\n",
       "      <td>yes_direct</td>\n",
       "      <td>refine_try_1_100</td>\n",
       "      <td>857897941</td>\n",
       "      <td>0</td>\n",
       "    </tr>\n",
       "    <tr>\n",
       "      <th>1</th>\n",
       "      <td>MESH:D014673</td>\n",
       "      <td>1.4643</td>\n",
       "      <td>MESH:D008107</td>\n",
       "      <td>2</td>\n",
       "      <td>0.384391</td>\n",
       "      <td>7910951</td>\n",
       "      <td>abs</td>\n",
       "      <td>yes_direct</td>\n",
       "      <td>refine_try_1_101</td>\n",
       "      <td>857897942</td>\n",
       "      <td>0</td>\n",
       "    </tr>\n",
       "  </tbody>\n",
       "</table>\n",
       "</div>"
      ],
      "text/plain": [
       "    chemical_id  conf_score    disease_id  num_votes  percent_agree     pmid  \\\n",
       "0  MESH:D018021      0.0000  MESH:D003919          0       0.000000  7453952   \n",
       "1  MESH:D011188      0.9167  MESH:D011141          1       0.218987  7453952   \n",
       "1  MESH:D004656      0.7619  MESH:D009401          1       0.181504  2559236   \n",
       "1  MESH:D000305      2.5101  MESH:D012131          3       0.619609  7910951   \n",
       "1  MESH:D014673      1.4643  MESH:D008107          2       0.384391  7910951   \n",
       "\n",
       "  rel_origin    rel_resp           uniq_id    unit_id  in_gold  \n",
       "0        abs  yes_direct    refine_try_1_0  857897838        0  \n",
       "1        abs  yes_direct    refine_try_1_1  857897839        0  \n",
       "1       sent  yes_direct   refine_try_1_10  857897848        0  \n",
       "1        abs  yes_direct  refine_try_1_100  857897941        0  \n",
       "1        abs  yes_direct  refine_try_1_101  857897942        0  "
      ]
     },
     "execution_count": 32,
     "metadata": {},
     "output_type": "execute_result"
    }
   ],
   "source": [
    "res.head()"
   ]
  },
  {
   "cell_type": "code",
   "execution_count": 33,
   "metadata": {
    "collapsed": false
   },
   "outputs": [],
   "source": [
    "res[\"cf\"] = res[\"unit_id\"].map(\n",
    "    lambda v:\n",
    "        \"https://crowdflower.com/jobs/847908/units/{}\".format(int(v) if not math.isnan(v) else v)\n",
    ")"
   ]
  },
  {
   "cell_type": "markdown",
   "metadata": {},
   "source": [
    "---"
   ]
  },
  {
   "cell_type": "code",
   "execution_count": 34,
   "metadata": {
    "collapsed": false
   },
   "outputs": [],
   "source": [
    "temp = dict()\n",
    "for vote, group in res.groupby(\"num_votes\"):\n",
    "    temp[vote] = group[\"in_gold\"].value_counts(normalize = True)\n",
    "    \n",
    "temp = pd.DataFrame(temp).T\n",
    "temp[\"threshold\"] = temp.index\n",
    "temp = temp.rename(columns = {0: \"not_gold\", 1: \"is_gold\"})\n",
    "\n",
    "temp[\"num\"] = temp[\"threshold\"].map(\n",
    "    lambda f:\n",
    "        len(res.query(\"num_votes == {}\".format(f)))\n",
    ")"
   ]
  },
  {
   "cell_type": "code",
   "execution_count": 35,
   "metadata": {
    "collapsed": false
   },
   "outputs": [
    {
     "data": {
      "text/html": [
       "<div>\n",
       "<table border=\"1\" class=\"dataframe\">\n",
       "  <thead>\n",
       "    <tr style=\"text-align: right;\">\n",
       "      <th></th>\n",
       "      <th>not_gold</th>\n",
       "      <th>is_gold</th>\n",
       "      <th>threshold</th>\n",
       "      <th>num</th>\n",
       "    </tr>\n",
       "  </thead>\n",
       "  <tbody>\n",
       "    <tr>\n",
       "      <th>0</th>\n",
       "      <td>0.978593</td>\n",
       "      <td>0.021407</td>\n",
       "      <td>0</td>\n",
       "      <td>327</td>\n",
       "    </tr>\n",
       "    <tr>\n",
       "      <th>1</th>\n",
       "      <td>0.947090</td>\n",
       "      <td>0.052910</td>\n",
       "      <td>1</td>\n",
       "      <td>189</td>\n",
       "    </tr>\n",
       "    <tr>\n",
       "      <th>2</th>\n",
       "      <td>0.914286</td>\n",
       "      <td>0.085714</td>\n",
       "      <td>2</td>\n",
       "      <td>105</td>\n",
       "    </tr>\n",
       "    <tr>\n",
       "      <th>3</th>\n",
       "      <td>0.738636</td>\n",
       "      <td>0.261364</td>\n",
       "      <td>3</td>\n",
       "      <td>88</td>\n",
       "    </tr>\n",
       "    <tr>\n",
       "      <th>4</th>\n",
       "      <td>0.625000</td>\n",
       "      <td>0.375000</td>\n",
       "      <td>4</td>\n",
       "      <td>72</td>\n",
       "    </tr>\n",
       "    <tr>\n",
       "      <th>5</th>\n",
       "      <td>0.344828</td>\n",
       "      <td>0.655172</td>\n",
       "      <td>5</td>\n",
       "      <td>145</td>\n",
       "    </tr>\n",
       "  </tbody>\n",
       "</table>\n",
       "</div>"
      ],
      "text/plain": [
       "   not_gold   is_gold  threshold  num\n",
       "0  0.978593  0.021407          0  327\n",
       "1  0.947090  0.052910          1  189\n",
       "2  0.914286  0.085714          2  105\n",
       "3  0.738636  0.261364          3   88\n",
       "4  0.625000  0.375000          4   72\n",
       "5  0.344828  0.655172          5  145"
      ]
     },
     "execution_count": 35,
     "metadata": {},
     "output_type": "execute_result"
    }
   ],
   "source": [
    "temp"
   ]
  },
  {
   "cell_type": "code",
   "execution_count": 36,
   "metadata": {
    "collapsed": false
   },
   "outputs": [
    {
     "data": {
      "text/plain": [
       "<matplotlib.axes._subplots.AxesSubplot at 0x7f04e5c4c7f0>"
      ]
     },
     "execution_count": 36,
     "metadata": {},
     "output_type": "execute_result"
    },
    {
     "data": {
      "image/png": "[encoded data removed]",
      "text/plain": [
       "<matplotlib.figure.Figure at 0x7f04e5d19c50>"
      ]
     },
     "metadata": {},
     "output_type": "display_data"
    }
   ],
   "source": [
    "temp[[\"not_gold\", \"is_gold\", \"threshold\"]].plot(x = \"threshold\")"
   ]
  },
  {
   "cell_type": "code",
   "execution_count": 37,
   "metadata": {
    "collapsed": false
   },
   "outputs": [
    {
     "data": {
      "text/plain": [
       "<matplotlib.axes._subplots.AxesSubplot at 0x7f04e5bbb518>"
      ]
     },
     "execution_count": 37,
     "metadata": {},
     "output_type": "execute_result"
    },
    {
     "data": {
      "image/png": "[encoded data removed]",
      "text/plain": [
       "<matplotlib.figure.Figure at 0x7f04e5d11d68>"
      ]
     },
     "metadata": {},
     "output_type": "display_data"
    }
   ],
   "source": [
    "temp[[\"threshold\", \"num\"]].plot(x = \"threshold\")"
   ]
  },
  {
   "cell_type": "code",
   "execution_count": 38,
   "metadata": {
    "collapsed": false
   },
   "outputs": [
    {
     "name": "stdout",
     "output_type": "stream",
     "text": [
      "votes: 0\n",
      "0    320\n",
      "1      7\n",
      "dtype: int64\n",
      "\n",
      "votes: 1\n",
      "0    179\n",
      "1     10\n",
      "dtype: int64\n",
      "\n",
      "votes: 2\n",
      "0    96\n",
      "1     9\n",
      "dtype: int64\n",
      "\n",
      "votes: 3\n",
      "0    65\n",
      "1    23\n",
      "dtype: int64\n",
      "\n",
      "votes: 4\n",
      "0    45\n",
      "1    27\n",
      "dtype: int64\n",
      "\n",
      "votes: 5\n",
      "1    95\n",
      "0    50\n",
      "dtype: int64\n",
      "\n"
     ]
    }
   ],
   "source": [
    "for i in range(6):\n",
    "    print(\"votes:\", i)\n",
    "    print(res.query(\"num_votes == {}\".format(i))[\"in_gold\"].value_counts())\n",
    "    print()"
   ]
  },
  {
   "cell_type": "code",
   "execution_count": 39,
   "metadata": {
    "collapsed": false
   },
   "outputs": [
    {
     "data": {
      "text/plain": [
       "sent    45\n",
       "cid     36\n",
       "abs     14\n",
       "dtype: int64"
      ]
     },
     "execution_count": 39,
     "metadata": {},
     "output_type": "execute_result"
    }
   ],
   "source": [
    "res.query(\"num_votes == 5 & in_gold == 1\")[\"rel_origin\"].value_counts()"
   ]
  },
  {
   "cell_type": "code",
   "execution_count": 40,
   "metadata": {
    "collapsed": false
   },
   "outputs": [
    {
     "data": {
      "text/plain": [
       "sent    25\n",
       "cid     16\n",
       "abs      9\n",
       "dtype: int64"
      ]
     },
     "execution_count": 40,
     "metadata": {},
     "output_type": "execute_result"
    }
   ],
   "source": [
    "res.query(\"num_votes == 5 & in_gold == 0\")[\"rel_origin\"].value_counts()"
   ]
  },
  {
   "cell_type": "code",
   "execution_count": 41,
   "metadata": {
    "collapsed": false
   },
   "outputs": [
    {
     "name": "stdout",
     "output_type": "stream",
     "text": [
      "    chemical_id  conf_score    disease_id  num_votes  percent_agree      pmid  \\\n",
      "0  MESH:D000431      4.1310  MESH:D064420          5              1  12842176   \n",
      "0  MESH:D005277      4.4777  MESH:D006349          5              1   9867728   \n",
      "0  MESH:D016642      4.0215  MESH:D002318          5              1  11928786   \n",
      "0  MESH:D003000      4.0454  MESH:D007022          5              1  15145918   \n",
      "0  MESH:D007654      4.2620  MESH:D003643          5              1   3101906   \n",
      "0  MESH:D002927      4.0564  MESH:D001145          5              1   8437969   \n",
      "0  MESH:D001241      4.0772  MESH:D013274          5              1   6692345   \n",
      "0  MESH:D008914      3.9235  MESH:D004194          5              1  12789195   \n",
      "0  MESH:D010862      4.0774  MESH:D001930          5              1   9305828   \n",
      "0  MESH:D001556      3.9384  MESH:D064420          5              1  12842176   \n",
      "\n",
      "  rel_origin    rel_resp           uniq_id    unit_id  in_gold  \\\n",
      "0       sent  yes_direct  refine_try_1_606  857898455        0   \n",
      "0       sent  yes_direct  refine_try_1_698  857898547        0   \n",
      "0       sent  yes_direct  refine_try_1_366  857898209        0   \n",
      "0       sent  yes_direct  refine_try_1_588  857898436        0   \n",
      "0       sent  yes_direct  refine_try_1_714  857898567        0   \n",
      "0       sent  yes_direct  refine_try_1_707  857898560        0   \n",
      "0       sent  yes_direct  refine_try_1_738  857898591        0   \n",
      "0       sent  yes_direct  refine_try_1_672  857898521        0   \n",
      "0       sent  yes_direct  refine_try_1_308  857898151        0   \n",
      "0       sent  yes_direct  refine_try_1_601  857898450        0   \n",
      "\n",
      "                                                    cf  \n",
      "0  https://crowdflower.com/jobs/847908/units/857898455  \n",
      "0  https://crowdflower.com/jobs/847908/units/857898547  \n",
      "0  https://crowdflower.com/jobs/847908/units/857898209  \n",
      "0  https://crowdflower.com/jobs/847908/units/857898436  \n",
      "0  https://crowdflower.com/jobs/847908/units/857898567  \n",
      "0  https://crowdflower.com/jobs/847908/units/857898560  \n",
      "0  https://crowdflower.com/jobs/847908/units/857898591  \n",
      "0  https://crowdflower.com/jobs/847908/units/857898521  \n",
      "0  https://crowdflower.com/jobs/847908/units/857898151  \n",
      "0  https://crowdflower.com/jobs/847908/units/857898450  \n"
     ]
    }
   ],
   "source": [
    "print(res.query(\"num_votes == 5 & in_gold == 0 & rel_origin == 'sent'\").sample(10))"
   ]
  },
  {
   "cell_type": "code",
   "execution_count": 43,
   "metadata": {
    "collapsed": false
   },
   "outputs": [
    {
     "data": {
      "text/html": [
       "<div>\n",
       "<table border=\"1\" class=\"dataframe\">\n",
       "  <thead>\n",
       "    <tr style=\"text-align: right;\">\n",
       "      <th></th>\n",
       "      <th>chemical_id</th>\n",
       "      <th>conf_score</th>\n",
       "      <th>disease_id</th>\n",
       "      <th>num_votes</th>\n",
       "      <th>percent_agree</th>\n",
       "      <th>pmid</th>\n",
       "      <th>rel_origin</th>\n",
       "      <th>rel_resp</th>\n",
       "      <th>uniq_id</th>\n",
       "      <th>unit_id</th>\n",
       "      <th>in_gold</th>\n",
       "      <th>cf</th>\n",
       "    </tr>\n",
       "  </thead>\n",
       "  <tbody>\n",
       "    <tr>\n",
       "      <th>1</th>\n",
       "      <td>MESH:D008914</td>\n",
       "      <td>2.5682</td>\n",
       "      <td>MESH:D000172</td>\n",
       "      <td>3</td>\n",
       "      <td>0.575688</td>\n",
       "      <td>12789195</td>\n",
       "      <td>abs</td>\n",
       "      <td>yes_direct</td>\n",
       "      <td>refine_try_1_668</td>\n",
       "      <td>857898517</td>\n",
       "      <td>1</td>\n",
       "      <td>https://crowdflower.com/jobs/847908/units/857898517</td>\n",
       "    </tr>\n",
       "    <tr>\n",
       "      <th>1</th>\n",
       "      <td>MESH:D008914</td>\n",
       "      <td>1.6500</td>\n",
       "      <td>MESH:D004700</td>\n",
       "      <td>2</td>\n",
       "      <td>0.402891</td>\n",
       "      <td>12789195</td>\n",
       "      <td>abs</td>\n",
       "      <td>yes_direct</td>\n",
       "      <td>refine_try_1_669</td>\n",
       "      <td>857898518</td>\n",
       "      <td>0</td>\n",
       "      <td>https://crowdflower.com/jobs/847908/units/857898518</td>\n",
       "    </tr>\n",
       "    <tr>\n",
       "      <th>1</th>\n",
       "      <td>MESH:D008914</td>\n",
       "      <td>0.9000</td>\n",
       "      <td>MESH:D006984</td>\n",
       "      <td>1</td>\n",
       "      <td>0.206730</td>\n",
       "      <td>12789195</td>\n",
       "      <td>abs</td>\n",
       "      <td>yes_direct</td>\n",
       "      <td>refine_try_1_670</td>\n",
       "      <td>857898519</td>\n",
       "      <td>0</td>\n",
       "      <td>https://crowdflower.com/jobs/847908/units/857898519</td>\n",
       "    </tr>\n",
       "    <tr>\n",
       "      <th>1</th>\n",
       "      <td>MESH:D008914</td>\n",
       "      <td>0.8269</td>\n",
       "      <td>MESH:C535610</td>\n",
       "      <td>1</td>\n",
       "      <td>0.197389</td>\n",
       "      <td>12789195</td>\n",
       "      <td>abs</td>\n",
       "      <td>yes_direct</td>\n",
       "      <td>refine_try_1_671</td>\n",
       "      <td>857898520</td>\n",
       "      <td>0</td>\n",
       "      <td>https://crowdflower.com/jobs/847908/units/857898520</td>\n",
       "    </tr>\n",
       "    <tr>\n",
       "      <th>0</th>\n",
       "      <td>MESH:D008914</td>\n",
       "      <td>3.9235</td>\n",
       "      <td>MESH:D004194</td>\n",
       "      <td>5</td>\n",
       "      <td>1.000000</td>\n",
       "      <td>12789195</td>\n",
       "      <td>sent</td>\n",
       "      <td>yes_direct</td>\n",
       "      <td>refine_try_1_672</td>\n",
       "      <td>857898521</td>\n",
       "      <td>0</td>\n",
       "      <td>https://crowdflower.com/jobs/847908/units/857898521</td>\n",
       "    </tr>\n",
       "  </tbody>\n",
       "</table>\n",
       "</div>"
      ],
      "text/plain": [
       "    chemical_id  conf_score    disease_id  num_votes  percent_agree      pmid  \\\n",
       "1  MESH:D008914      2.5682  MESH:D000172          3       0.575688  12789195   \n",
       "1  MESH:D008914      1.6500  MESH:D004700          2       0.402891  12789195   \n",
       "1  MESH:D008914      0.9000  MESH:D006984          1       0.206730  12789195   \n",
       "1  MESH:D008914      0.8269  MESH:C535610          1       0.197389  12789195   \n",
       "0  MESH:D008914      3.9235  MESH:D004194          5       1.000000  12789195   \n",
       "\n",
       "  rel_origin    rel_resp           uniq_id    unit_id  in_gold  \\\n",
       "1        abs  yes_direct  refine_try_1_668  857898517        1   \n",
       "1        abs  yes_direct  refine_try_1_669  857898518        0   \n",
       "1        abs  yes_direct  refine_try_1_670  857898519        0   \n",
       "1        abs  yes_direct  refine_try_1_671  857898520        0   \n",
       "0       sent  yes_direct  refine_try_1_672  857898521        0   \n",
       "\n",
       "                                                    cf  \n",
       "1  https://crowdflower.com/jobs/847908/units/857898517  \n",
       "1  https://crowdflower.com/jobs/847908/units/857898518  \n",
       "1  https://crowdflower.com/jobs/847908/units/857898519  \n",
       "1  https://crowdflower.com/jobs/847908/units/857898520  \n",
       "0  https://crowdflower.com/jobs/847908/units/857898521  "
      ]
     },
     "execution_count": 43,
     "metadata": {},
     "output_type": "execute_result"
    }
   ],
   "source": [
    "res.query(\"pmid == 12789195\")"
   ]
  },
  {
   "cell_type": "code",
   "execution_count": null,
   "metadata": {
    "collapsed": true
   },
   "outputs": [],
   "source": []
  }
 ],
 "metadata": {
  "kernelspec": {
   "display_name": "Python 3",
   "language": "python",
   "name": "python3"
  },
  "language_info": {
   "codemirror_mode": {
    "name": "ipython",
    "version": 3
   },
   "file_extension": ".py",
   "mimetype": "text/x-python",
   "name": "python",
   "nbconvert_exporter": "python",
   "pygments_lexer": "ipython3",
   "version": "3.4.2"
  }
 },
 "nbformat": 4,
 "nbformat_minor": 0
}
