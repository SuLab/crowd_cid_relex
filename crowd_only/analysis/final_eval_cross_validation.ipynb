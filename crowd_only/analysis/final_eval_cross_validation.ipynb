{
 "cells": [
  {
   "cell_type": "markdown",
   "metadata": {},
   "source": [
    "# Cross validation analysis of final evaluation results between different techniques\n",
    "\n",
    "Tong Shu Li<br>\n",
    "Created on: 2015-10-08<br>\n",
    "Last updated: 2015-12-07\n",
    "\n",
    "The team at UTexas was kind enough to send their final predictions for the CID task. We will compare their results to the crowd's and see where their outputs differed."
   ]
  },
  {
   "cell_type": "code",
   "execution_count": 1,
   "metadata": {
    "collapsed": false
   },
   "outputs": [],
   "source": [
    "from collections import defaultdict\n",
    "from itertools import combinations\n",
    "\n",
    "import matplotlib\n",
    "import matplotlib.pyplot as plt\n",
    "from matplotlib.patches import Patch\n",
    "from matplotlib.lines import Line2D\n",
    "\n",
    "import numpy as np\n",
    "import os\n",
    "import pandas as pd\n",
    "import pickle\n",
    "import rpy2\n",
    "import rpy2.robjects as robjects\n",
    "# import seaborn as sns\n",
    "import sys"
   ]
  },
  {
   "cell_type": "code",
   "execution_count": 2,
   "metadata": {
    "collapsed": true
   },
   "outputs": [],
   "source": [
    "RAND_KEY = np.random.RandomState(20151007)\n",
    "\n",
    "matplotlib.rcParams.update({'font.size': 12})\n",
    "TRIPLE = [\"pmid\", \"chemical_id\", \"disease_id\"]\n",
    "pd.options.mode.chained_assignment = None\n",
    "pd.set_option(\"max_colwidth\", 55)"
   ]
  },
  {
   "cell_type": "code",
   "execution_count": 3,
   "metadata": {
    "collapsed": false
   },
   "outputs": [],
   "source": [
    "%matplotlib inline\n",
    "%load_ext rpy2.ipython"
   ]
  },
  {
   "cell_type": "code",
   "execution_count": 4,
   "metadata": {
    "collapsed": false
   },
   "outputs": [],
   "source": [
    "sys.path.append(\"..\")"
   ]
  },
  {
   "cell_type": "code",
   "execution_count": 5,
   "metadata": {
    "collapsed": false
   },
   "outputs": [],
   "source": [
    "from src.lingpipe.file_util import read_file\n",
    "from src.lingpipe.file_util import save_file\n",
    "\n",
    "from src.data_model import Ontology_ID\n",
    "from src.data_model import Relation\n",
    "from src.data_model import parse_input\n",
    "from src.data_model import parse_file\n",
    "from src.data_model import Annotation\n",
    "\n",
    "from src.eval_perf import performance\n",
    "from src.eval_perf import official_F_score\n",
    "from src.parse_mesh import load_mesh\n",
    "from src.get_mesh_terms import Article\n",
    "\n",
    "from src.get_AUC_value import get_AUC_value"
   ]
  },
  {
   "cell_type": "markdown",
   "metadata": {},
   "source": [
    "---"
   ]
  },
  {
   "cell_type": "markdown",
   "metadata": {},
   "source": [
    "## Global functions"
   ]
  },
  {
   "cell_type": "code",
   "execution_count": 6,
   "metadata": {
    "collapsed": true
   },
   "outputs": [],
   "source": [
    "def make_df(triples):\n",
    "    \"\"\"Converts a given set of (pmid, chemical_id, disease_id)\n",
    "    triples into a three column dataframe.\"\"\"\n",
    "    return pd.DataFrame(list(triples), columns = TRIPLE)"
   ]
  },
  {
   "cell_type": "code",
   "execution_count": 7,
   "metadata": {
    "collapsed": true
   },
   "outputs": [],
   "source": [
    "def get_triples(dataframe):\n",
    "    return set(\n",
    "        dataframe[TRIPLE].apply(\n",
    "            lambda row: (int(row[\"pmid\"]), row[\"chemical_id\"], row[\"disease_id\"]),\n",
    "            axis = 1\n",
    "        )\n",
    "    )"
   ]
  },
  {
   "cell_type": "code",
   "execution_count": 8,
   "metadata": {
    "collapsed": true
   },
   "outputs": [],
   "source": [
    "def expand_df(column, df):\n",
    "    \"\"\"Given a dataframe where one column is a list of values,\n",
    "    expands the dataframe so that one new row is created for\n",
    "    each item in the original list.\"\"\"\n",
    "    other_columns = df.columns.difference(pd.Index([column]))    \n",
    "    \n",
    "    res = []\n",
    "    for idx, row in df.iterrows():\n",
    "        # make the list in this cell into a vertical dataframe with one column\n",
    "        vals = pd.DataFrame(row[column], columns = [column])\n",
    "        \n",
    "        # copy all the other columns over\n",
    "        for col in other_columns:\n",
    "            vals.loc[:, col] = row[col]\n",
    "            \n",
    "        res.append(vals)\n",
    "        \n",
    "    return pd.concat(res).reset_index(drop = True)"
   ]
  },
  {
   "cell_type": "markdown",
   "metadata": {},
   "source": [
    "### Read the gold standard and various solutions"
   ]
  },
  {
   "cell_type": "code",
   "execution_count": 9,
   "metadata": {
    "collapsed": true
   },
   "outputs": [],
   "source": [
    "def read_output(fname):\n",
    "    \"\"\"Read only the CID relations from a Pubtator-formatted\n",
    "    text file.\n",
    "    \"\"\"\n",
    "    temp = defaultdict(list)\n",
    "    for line in read_file(fname):\n",
    "        vals = line.split(\"\\t\")\n",
    "        \n",
    "        if len(vals) > 1 and vals[1] == \"CID\":\n",
    "            temp[\"pmid\"].append(int(vals[0]))\n",
    "            temp[\"chemical_id\"].append(Ontology_ID(vals[2]).flat_repr)\n",
    "            temp[\"disease_id\"].append(Ontology_ID(vals[3]).flat_repr)\n",
    "            \n",
    "            if len(vals) > 4:\n",
    "                temp[\"threshold\"].append(float(vals[4]))\n",
    "\n",
    "    return pd.DataFrame(temp)"
   ]
  },
  {
   "cell_type": "code",
   "execution_count": 10,
   "metadata": {
    "collapsed": true
   },
   "outputs": [],
   "source": [
    "def read_gold_standard(dataset, file_format = \"list\"):\n",
    "    assert dataset in [\"training\", \"development\", \"test\"]\n",
    "    assert file_format in [\"list\", \"dict\"]\n",
    "    \n",
    "    fname = \"parsed_{0}_set_{1}.pickle\".format(dataset, file_format)\n",
    "    \n",
    "    save_loc = os.path.abspath(os.path.join(\"..\", \"data\", \"gold_standard\", fname))\n",
    "    \n",
    "    fname = \"CDR_{0}Set.txt\".format(dataset.capitalize())\n",
    "    loc = os.path.abspath(os.path.join(\"..\", \"data\", \"gold_standard\"))\n",
    "    \n",
    "    return parse_file(save_loc, loc = loc, fname = fname,\n",
    "        is_gold = True, return_format = file_format, fix_acronyms = False)"
   ]
  },
  {
   "cell_type": "markdown",
   "metadata": {},
   "source": [
    "### Read the PMID mappings"
   ]
  },
  {
   "cell_type": "code",
   "execution_count": 11,
   "metadata": {
    "collapsed": false
   },
   "outputs": [],
   "source": [
    "paper_mapping = save_file(\"testset_mapping.pickle\")"
   ]
  },
  {
   "cell_type": "markdown",
   "metadata": {},
   "source": [
    "### Read the gold standard"
   ]
  },
  {
   "cell_type": "code",
   "execution_count": 12,
   "metadata": {
    "collapsed": true
   },
   "outputs": [],
   "source": [
    "eval_gold = read_gold_standard(\"test\", file_format = \"dict\")"
   ]
  },
  {
   "cell_type": "code",
   "execution_count": 13,
   "metadata": {
    "collapsed": false
   },
   "outputs": [],
   "source": [
    "fname = os.path.abspath(os.path.join(\"..\", \"data\", \"gold_standard\", \"CDR_TestSet.txt\"))\n",
    "gold_std = read_output(fname)"
   ]
  },
  {
   "cell_type": "markdown",
   "metadata": {},
   "source": [
    "### Read the crowd's results"
   ]
  },
  {
   "cell_type": "code",
   "execution_count": 14,
   "metadata": {
    "collapsed": true
   },
   "outputs": [],
   "source": [
    "loc = os.path.abspath(os.path.join(\"..\", \"data\", \"final_eval\", \"results\", \"crowd_testset.pickle\"))\n",
    "crowd_full = save_file(loc)\n",
    "crowd_res = save_file(\"testset_final_res.pickle\")"
   ]
  },
  {
   "cell_type": "code",
   "execution_count": 15,
   "metadata": {
    "collapsed": false
   },
   "outputs": [],
   "source": [
    "loc = os.path.abspath(os.path.join(\"..\", \"data\", \"final_eval\", \"results\", \"abstract_relation_res.tsv\"))\n",
    "\n",
    "abs_res = pd.read_csv(loc, sep = '\\t', dtype = {\"unit_id\": str})\n",
    "abs_res = abs_res.rename(columns = {\"percent_agree\": \"norm_conf_score\",\n",
    "                                   \"unit_id\": \"unit_ids\"})\n",
    "\n",
    "abs_res.loc[:, \"pmid\"] = abs_res.loc[:, \"pmid\"].map(lambda val: paper_mapping[val])\n",
    "abs_res.loc[:, \"unit_ids\"] = abs_res.loc[:, \"unit_ids\"].astype(int)"
   ]
  },
  {
   "cell_type": "code",
   "execution_count": 16,
   "metadata": {
    "collapsed": true
   },
   "outputs": [],
   "source": [
    "loc = os.path.abspath(os.path.join(\"..\", \"data\", \"final_eval\", \"results\", \"sentence_relation_abs_res.tsv\"))\n",
    "sent_res = pd.read_csv(loc, sep = '\\t', dtype = {\"unit_ids\": str})\n",
    "\n",
    "sent_res = sent_res.rename(columns = {\"conf_score\": \"norm_conf_score\",\n",
    "                                      \"score_vote_max\": \"num_votes\"})\n",
    "\n",
    "sent_res.loc[:, \"pmid\"] = sent_res.loc[:, \"pmid\"].map(lambda val: paper_mapping[val])"
   ]
  },
  {
   "cell_type": "markdown",
   "metadata": {},
   "source": [
    "### Read UTexas results"
   ]
  },
  {
   "cell_type": "code",
   "execution_count": 17,
   "metadata": {
    "collapsed": true
   },
   "outputs": [],
   "source": [
    "loc = os.path.abspath(os.path.join(\"..\", \"data\", \"utexas\", \"texas_full_testset.pickle\"))\n",
    "texas_full = save_file(loc)\n",
    "\n",
    "loc = os.path.abspath(os.path.join(\"..\", \"data\", \"utexas\", \"CDR_TestSet.BiC.V.CID.Run3.txt\"))\n",
    "ut_res = read_output(loc)"
   ]
  },
  {
   "cell_type": "markdown",
   "metadata": {},
   "source": [
    "### Read BeFree's results"
   ]
  },
  {
   "cell_type": "code",
   "execution_count": 18,
   "metadata": {
    "collapsed": true
   },
   "outputs": [],
   "source": [
    "fname = os.path.abspath(os.path.join(\"..\", \"data\", \"befree\", \"final_eval\", \"befree_testset_results.txt\"))\n",
    "befree_res = read_output(fname)\n",
    "\n",
    "befree_res.loc[:, \"pmid\"] = befree_res[\"pmid\"].map(lambda val: paper_mapping[val])\n",
    "befree_res[\"threshold\"] = 1\n",
    "\n",
    "#----------------------------------\n",
    "\n",
    "def get_befree():\n",
    "    loc = os.path.join(\"..\", \"data\", \"befree\", \"final_eval\")\n",
    "\n",
    "    save_loc = os.path.abspath(os.path.join(loc, \"befree_testset_full.pickle\"))\n",
    "    res = save_file(save_loc)\n",
    "    if res is not None:\n",
    "        return res\n",
    "\n",
    "    befree_full = parse_input(os.path.abspath(loc), \"befree_testset_results.txt\",\n",
    "                         is_gold = True, return_format = \"dict\", fix_acronyms = False)\n",
    "\n",
    "    temp = dict()\n",
    "    for pmid, paper in befree_full.items():\n",
    "        paper.pmid = paper_mapping[pmid]\n",
    "        temp[paper_mapping[pmid]] = paper\n",
    "\n",
    "    save_file(save_loc, temp)\n",
    "    return temp\n",
    "    \n",
    "befree_full = get_befree()"
   ]
  },
  {
   "cell_type": "markdown",
   "metadata": {},
   "source": [
    "---"
   ]
  },
  {
   "cell_type": "markdown",
   "metadata": {},
   "source": [
    "## Overall performance against the gold standard\n",
    "\n",
    "Using the official evaluation of the CID relation performance, how did each solution do?"
   ]
  },
  {
   "cell_type": "markdown",
   "metadata": {},
   "source": [
    "### Get the gold standard triples"
   ]
  },
  {
   "cell_type": "code",
   "execution_count": 19,
   "metadata": {
    "collapsed": true
   },
   "outputs": [],
   "source": [
    "gold_triples = get_triples(gold_std)"
   ]
  },
  {
   "cell_type": "markdown",
   "metadata": {},
   "source": [
    "### Crowd performance"
   ]
  },
  {
   "cell_type": "code",
   "execution_count": 20,
   "metadata": {
    "collapsed": false
   },
   "outputs": [],
   "source": [
    "official_res = official_F_score(\"num_votes\", gold_triples, crowd_res)"
   ]
  },
  {
   "cell_type": "code",
   "execution_count": 21,
   "metadata": {
    "collapsed": false
   },
   "outputs": [
    {
     "data": {
      "text/html": [
       "<div>\n",
       "<table border=\"1\" class=\"dataframe\">\n",
       "  <thead>\n",
       "    <tr style=\"text-align: right;\">\n",
       "      <th></th>\n",
       "      <th>F_score</th>\n",
       "      <th>precision</th>\n",
       "      <th>recall</th>\n",
       "      <th>threshold</th>\n",
       "    </tr>\n",
       "  </thead>\n",
       "  <tbody>\n",
       "    <tr>\n",
       "      <th>0</th>\n",
       "      <td>0.267624</td>\n",
       "      <td>0.162805</td>\n",
       "      <td>0.751407</td>\n",
       "      <td>0</td>\n",
       "    </tr>\n",
       "    <tr>\n",
       "      <th>1</th>\n",
       "      <td>0.356317</td>\n",
       "      <td>0.236486</td>\n",
       "      <td>0.722326</td>\n",
       "      <td>1</td>\n",
       "    </tr>\n",
       "    <tr>\n",
       "      <th>2</th>\n",
       "      <td>0.444779</td>\n",
       "      <td>0.327426</td>\n",
       "      <td>0.693246</td>\n",
       "      <td>2</td>\n",
       "    </tr>\n",
       "    <tr>\n",
       "      <th>3</th>\n",
       "      <td>0.496480</td>\n",
       "      <td>0.410288</td>\n",
       "      <td>0.628518</td>\n",
       "      <td>3</td>\n",
       "    </tr>\n",
       "    <tr>\n",
       "      <th>4</th>\n",
       "      <td>0.505929</td>\n",
       "      <td>0.475640</td>\n",
       "      <td>0.540338</td>\n",
       "      <td>4</td>\n",
       "    </tr>\n",
       "    <tr>\n",
       "      <th>5</th>\n",
       "      <td>0.465066</td>\n",
       "      <td>0.556136</td>\n",
       "      <td>0.399625</td>\n",
       "      <td>5</td>\n",
       "    </tr>\n",
       "  </tbody>\n",
       "</table>\n",
       "</div>"
      ],
      "text/plain": [
       "    F_score  precision    recall  threshold\n",
       "0  0.267624   0.162805  0.751407          0\n",
       "1  0.356317   0.236486  0.722326          1\n",
       "2  0.444779   0.327426  0.693246          2\n",
       "3  0.496480   0.410288  0.628518          3\n",
       "4  0.505929   0.475640  0.540338          4\n",
       "5  0.465066   0.556136  0.399625          5"
      ]
     },
     "execution_count": 21,
     "metadata": {},
     "output_type": "execute_result"
    }
   ],
   "source": [
    "official_res"
   ]
  },
  {
   "cell_type": "markdown",
   "metadata": {},
   "source": [
    "### Texas performance"
   ]
  },
  {
   "cell_type": "code",
   "execution_count": 22,
   "metadata": {
    "collapsed": false
   },
   "outputs": [
    {
     "data": {
      "text/html": [
       "<div>\n",
       "<table border=\"1\" class=\"dataframe\">\n",
       "  <thead>\n",
       "    <tr style=\"text-align: right;\">\n",
       "      <th></th>\n",
       "      <th>F_score</th>\n",
       "      <th>precision</th>\n",
       "      <th>recall</th>\n",
       "      <th>threshold</th>\n",
       "    </tr>\n",
       "  </thead>\n",
       "  <tbody>\n",
       "    <tr>\n",
       "      <th>0</th>\n",
       "      <td>0.570252</td>\n",
       "      <td>0.556747</td>\n",
       "      <td>0.584428</td>\n",
       "      <td>0.30</td>\n",
       "    </tr>\n",
       "    <tr>\n",
       "      <th>1</th>\n",
       "      <td>0.585269</td>\n",
       "      <td>0.618600</td>\n",
       "      <td>0.555347</td>\n",
       "      <td>0.65</td>\n",
       "    </tr>\n",
       "    <tr>\n",
       "      <th>2</th>\n",
       "      <td>0.520915</td>\n",
       "      <td>0.642366</td>\n",
       "      <td>0.438086</td>\n",
       "      <td>0.75</td>\n",
       "    </tr>\n",
       "  </tbody>\n",
       "</table>\n",
       "</div>"
      ],
      "text/plain": [
       "    F_score  precision    recall  threshold\n",
       "0  0.570252   0.556747  0.584428       0.30\n",
       "1  0.585269   0.618600  0.555347       0.65\n",
       "2  0.520915   0.642366  0.438086       0.75"
      ]
     },
     "execution_count": 22,
     "metadata": {},
     "output_type": "execute_result"
    }
   ],
   "source": [
    "official_F_score(\"threshold\", gold_triples, ut_res)"
   ]
  },
  {
   "cell_type": "markdown",
   "metadata": {},
   "source": [
    "### BeFree performance"
   ]
  },
  {
   "cell_type": "code",
   "execution_count": 23,
   "metadata": {
    "collapsed": false
   },
   "outputs": [
    {
     "data": {
      "text/html": [
       "<div>\n",
       "<table border=\"1\" class=\"dataframe\">\n",
       "  <thead>\n",
       "    <tr style=\"text-align: right;\">\n",
       "      <th></th>\n",
       "      <th>F_score</th>\n",
       "      <th>precision</th>\n",
       "      <th>recall</th>\n",
       "      <th>threshold</th>\n",
       "    </tr>\n",
       "  </thead>\n",
       "  <tbody>\n",
       "    <tr>\n",
       "      <th>0</th>\n",
       "      <td>0.428571</td>\n",
       "      <td>0.486874</td>\n",
       "      <td>0.382739</td>\n",
       "      <td>1</td>\n",
       "    </tr>\n",
       "  </tbody>\n",
       "</table>\n",
       "</div>"
      ],
      "text/plain": [
       "    F_score  precision    recall  threshold\n",
       "0  0.428571   0.486874  0.382739          1"
      ]
     },
     "execution_count": 23,
     "metadata": {},
     "output_type": "execute_result"
    }
   ],
   "source": [
    "official_F_score(\"threshold\", gold_triples, befree_res)"
   ]
  },
  {
   "cell_type": "markdown",
   "metadata": {},
   "source": [
    "My calculations show that BeFree's official published performance (F 0.4281) is slightly worse than what I have calculated, despite my method accurately reproducing both UTexas's and our results. Perhaps Alex sent me a slightly modified version of the data they submitted?"
   ]
  },
  {
   "cell_type": "code",
   "execution_count": 24,
   "metadata": {
    "collapsed": true
   },
   "outputs": [],
   "source": [
    "crowd_trip = get_triples(crowd_res.query(\"num_votes >= 4\"))\n",
    "befree_trip = get_triples(befree_res)\n",
    "texas_trip = get_triples(ut_res)"
   ]
  },
  {
   "cell_type": "markdown",
   "metadata": {},
   "source": [
    "### Venn diagram of relations for Crowd and Befree, full workflow"
   ]
  },
  {
   "cell_type": "code",
   "execution_count": 25,
   "metadata": {
    "collapsed": true
   },
   "outputs": [],
   "source": [
    "# make venn diagram for relations for the full workflow\n",
    "\n",
    "# fnames = [\"temp/gold_trips.txt\", \"temp/crowd_trips.txt\", \"temp/befree_trips.txt\", \"temp/texas_trips.txt\"]\n",
    "# dfs = [gold_std, crowd_res.query(\"num_votes >= 4\"), befree_res, ut_res]\n",
    "# for fname, df in zip(fnames, dfs):\n",
    "#     df[TRIPLE].to_csv(fname, sep = \"|\", header = False, index = False)"
   ]
  },
  {
   "cell_type": "markdown",
   "metadata": {},
   "source": [
    "### Relation comparison: full workflow for crowd, befree, and texas\n",
    "<img src=\"../data/final_eval/analysis/testset_all_cross_validation.png\" style=\"width: 350px;\">"
   ]
  },
  {
   "cell_type": "markdown",
   "metadata": {},
   "source": [
    "The full outputs of the programs are fine, but since many of these things are NER errors, it would be much better to filter those and then compare."
   ]
  },
  {
   "cell_type": "markdown",
   "metadata": {},
   "source": [
    "---"
   ]
  },
  {
   "cell_type": "markdown",
   "metadata": {},
   "source": [
    "## Performance on a subset of relations where the annotations were perfectly identified\n",
    "\n",
    "Since we have seen that NER has a huge influence on the performance, we will look backwards to see what performance was like on relations where both the chemical and disease were perfectly identified (i.e. the annotations all match the gold standard)."
   ]
  },
  {
   "cell_type": "code",
   "execution_count": 26,
   "metadata": {
    "collapsed": true
   },
   "outputs": [],
   "source": [
    "def extract_ids(annotations):\n",
    "    concepts = defaultdict(set)\n",
    "    for annot in annotations:\n",
    "        concepts[annot.stype].add(annot.uid)\n",
    "\n",
    "    return concepts\n",
    "\n",
    "def expand_set(vals):\n",
    "    res = set()\n",
    "    for v in vals:\n",
    "        res |= v\n",
    "        \n",
    "    return res"
   ]
  },
  {
   "cell_type": "code",
   "execution_count": 27,
   "metadata": {
    "collapsed": true
   },
   "outputs": [],
   "source": [
    "def find_perfect_concepts(predict, gold_std):\n",
    "    \"\"\"Finds the concepts having the exact same annotations\n",
    "    in both data sets.\n",
    "    \"\"\"\n",
    "    res = dict()\n",
    "    for pmid, gold_paper in gold_std.items():\n",
    "        paper = predict[pmid]\n",
    "\n",
    "        # annotations\n",
    "        predict_annot = set(paper.annotations)\n",
    "        gold_annot = set(gold_paper.annotations)\n",
    "        \n",
    "        shared_concepts = extract_ids(gold_annot & predict_annot)\n",
    "        missed_concepts = extract_ids(gold_annot ^ predict_annot)\n",
    "        \n",
    "        perf_chem = shared_concepts[\"chemical\"] - missed_concepts[\"chemical\"]\n",
    "        perf_dise = shared_concepts[\"disease\"] - missed_concepts[\"disease\"]\n",
    "        \n",
    "        chems = expand_set(perf_chem)\n",
    "        dises = expand_set(perf_dise)\n",
    "\n",
    "        res[pmid] = (chems, dises)\n",
    "\n",
    "    return res\n",
    "\n",
    "def get_perf_subset_triples(perf_concepts):\n",
    "    res = set()\n",
    "    for pmid, (chem, dise) in perf_concepts.items():\n",
    "        res |= set([(pmid, c.flat_repr, d.flat_repr) for c in chem for d in dise])\n",
    "        \n",
    "    return res"
   ]
  },
  {
   "cell_type": "code",
   "execution_count": 28,
   "metadata": {
    "collapsed": false
   },
   "outputs": [],
   "source": [
    "def ner_filter(predict_full, predict_df, gold_full, gold_df):\n",
    "    \"\"\"Given a dataframe of a solution's predicted CID relations,\n",
    "    applies a NER filter with the gold standard to return only those\n",
    "    relations which were generated using perfectly annotated concepts.\n",
    "    \"\"\"\n",
    "    # what were the concepts perfectly annotated by the predictions and gold std?\n",
    "    common_concepts = find_perfect_concepts(predict_full, gold_full)\n",
    "    \n",
    "    # what are all possible triples using the perfect concepts?\n",
    "    poss_good_trips = get_perf_subset_triples(common_concepts)\n",
    "    \n",
    "    poss_df = make_df(poss_good_trips)\n",
    "    \n",
    "    # filter predictions and gold standard using the set of possible triples\n",
    "    predict_sub = pd.merge(predict_df, poss_df, how = \"inner\", on = TRIPLE)\n",
    "    gold_sub = pd.merge(gold_df, poss_df, how = \"inner\", on = TRIPLE)\n",
    "    \n",
    "    return (predict_sub, gold_sub)"
   ]
  },
  {
   "cell_type": "code",
   "execution_count": 29,
   "metadata": {
    "collapsed": true
   },
   "outputs": [],
   "source": [
    "crowd_no_ner, crowd_good_gold = ner_filter(crowd_full, crowd_res, eval_gold, gold_std)"
   ]
  },
  {
   "cell_type": "code",
   "execution_count": 30,
   "metadata": {
    "collapsed": false
   },
   "outputs": [
    {
     "data": {
      "text/plain": [
       "290"
      ]
     },
     "execution_count": 30,
     "metadata": {},
     "output_type": "execute_result"
    }
   ],
   "source": [
    "len(crowd_good_gold[\"pmid\"].unique())"
   ]
  },
  {
   "cell_type": "code",
   "execution_count": 31,
   "metadata": {
    "collapsed": false
   },
   "outputs": [
    {
     "data": {
      "text/html": [
       "<div>\n",
       "<table border=\"1\" class=\"dataframe\">\n",
       "  <thead>\n",
       "    <tr style=\"text-align: right;\">\n",
       "      <th></th>\n",
       "      <th>F_score</th>\n",
       "      <th>precision</th>\n",
       "      <th>recall</th>\n",
       "      <th>threshold</th>\n",
       "    </tr>\n",
       "  </thead>\n",
       "  <tbody>\n",
       "    <tr>\n",
       "      <th>0</th>\n",
       "      <td>0.318346</td>\n",
       "      <td>0.189305</td>\n",
       "      <td>1.000000</td>\n",
       "      <td>0</td>\n",
       "    </tr>\n",
       "    <tr>\n",
       "      <th>1</th>\n",
       "      <td>0.434339</td>\n",
       "      <td>0.280240</td>\n",
       "      <td>0.964948</td>\n",
       "      <td>1</td>\n",
       "    </tr>\n",
       "    <tr>\n",
       "      <th>2</th>\n",
       "      <td>0.540541</td>\n",
       "      <td>0.381356</td>\n",
       "      <td>0.927835</td>\n",
       "      <td>2</td>\n",
       "    </tr>\n",
       "    <tr>\n",
       "      <th>3</th>\n",
       "      <td>0.615958</td>\n",
       "      <td>0.482477</td>\n",
       "      <td>0.851546</td>\n",
       "      <td>3</td>\n",
       "    </tr>\n",
       "    <tr>\n",
       "      <th>4</th>\n",
       "      <td>0.645447</td>\n",
       "      <td>0.565015</td>\n",
       "      <td>0.752577</td>\n",
       "      <td>4</td>\n",
       "    </tr>\n",
       "    <tr>\n",
       "      <th>5</th>\n",
       "      <td>0.603732</td>\n",
       "      <td>0.645540</td>\n",
       "      <td>0.567010</td>\n",
       "      <td>5</td>\n",
       "    </tr>\n",
       "  </tbody>\n",
       "</table>\n",
       "</div>"
      ],
      "text/plain": [
       "    F_score  precision    recall  threshold\n",
       "0  0.318346   0.189305  1.000000          0\n",
       "1  0.434339   0.280240  0.964948          1\n",
       "2  0.540541   0.381356  0.927835          2\n",
       "3  0.615958   0.482477  0.851546          3\n",
       "4  0.645447   0.565015  0.752577          4\n",
       "5  0.603732   0.645540  0.567010          5"
      ]
     },
     "execution_count": 31,
     "metadata": {},
     "output_type": "execute_result"
    }
   ],
   "source": [
    "crowd_no_ner_perf = official_F_score(\"num_votes\", get_triples(crowd_good_gold), crowd_no_ner)\n",
    "crowd_no_ner_perf"
   ]
  },
  {
   "cell_type": "markdown",
   "metadata": {},
   "source": [
    "These results are slightly better than the simple NER filtering that I was using before, where I only check whether the concept was identified at all in the paper. However, the performance is basically the same, still in the low 0.6 F range."
   ]
  },
  {
   "cell_type": "code",
   "execution_count": 32,
   "metadata": {
    "collapsed": false
   },
   "outputs": [
    {
     "data": {
      "text/html": [
       "<div>\n",
       "<table border=\"1\" class=\"dataframe\">\n",
       "  <thead>\n",
       "    <tr style=\"text-align: right;\">\n",
       "      <th></th>\n",
       "      <th>F_score</th>\n",
       "      <th>precision</th>\n",
       "      <th>recall</th>\n",
       "      <th>threshold</th>\n",
       "    </tr>\n",
       "  </thead>\n",
       "  <tbody>\n",
       "    <tr>\n",
       "      <th>0</th>\n",
       "      <td>0.668800</td>\n",
       "      <td>0.622951</td>\n",
       "      <td>0.721934</td>\n",
       "      <td>0.30</td>\n",
       "    </tr>\n",
       "    <tr>\n",
       "      <th>1</th>\n",
       "      <td>0.668354</td>\n",
       "      <td>0.653465</td>\n",
       "      <td>0.683938</td>\n",
       "      <td>0.65</td>\n",
       "    </tr>\n",
       "    <tr>\n",
       "      <th>2</th>\n",
       "      <td>0.600966</td>\n",
       "      <td>0.682018</td>\n",
       "      <td>0.537133</td>\n",
       "      <td>0.75</td>\n",
       "    </tr>\n",
       "  </tbody>\n",
       "</table>\n",
       "</div>"
      ],
      "text/plain": [
       "    F_score  precision    recall  threshold\n",
       "0  0.668800   0.622951  0.721934       0.30\n",
       "1  0.668354   0.653465  0.683938       0.65\n",
       "2  0.600966   0.682018  0.537133       0.75"
      ]
     },
     "execution_count": 32,
     "metadata": {},
     "output_type": "execute_result"
    }
   ],
   "source": [
    "texas_no_ner, texas_good_gold = ner_filter(texas_full, ut_res, eval_gold, gold_std)\n",
    "\n",
    "texas_no_ner_perf = official_F_score(\"threshold\", get_triples(texas_good_gold), texas_no_ner)\n",
    "texas_no_ner_perf"
   ]
  },
  {
   "cell_type": "code",
   "execution_count": 33,
   "metadata": {
    "collapsed": false
   },
   "outputs": [
    {
     "data": {
      "text/html": [
       "<div>\n",
       "<table border=\"1\" class=\"dataframe\">\n",
       "  <thead>\n",
       "    <tr style=\"text-align: right;\">\n",
       "      <th></th>\n",
       "      <th>F_score</th>\n",
       "      <th>precision</th>\n",
       "      <th>recall</th>\n",
       "      <th>threshold</th>\n",
       "    </tr>\n",
       "  </thead>\n",
       "  <tbody>\n",
       "    <tr>\n",
       "      <th>0</th>\n",
       "      <td>0.588774</td>\n",
       "      <td>0.622276</td>\n",
       "      <td>0.558696</td>\n",
       "      <td>1</td>\n",
       "    </tr>\n",
       "  </tbody>\n",
       "</table>\n",
       "</div>"
      ],
      "text/plain": [
       "    F_score  precision    recall  threshold\n",
       "0  0.588774   0.622276  0.558696          1"
      ]
     },
     "execution_count": 33,
     "metadata": {},
     "output_type": "execute_result"
    }
   ],
   "source": [
    "befree_no_ner, befree_good_gold = ner_filter(befree_full, befree_res, eval_gold, gold_std)\n",
    "\n",
    "befree_no_ner_perf = official_F_score(\"threshold\", get_triples(befree_good_gold), befree_no_ner)\n",
    "befree_no_ner_perf"
   ]
  },
  {
   "cell_type": "code",
   "execution_count": 34,
   "metadata": {
    "collapsed": true
   },
   "outputs": [],
   "source": [
    "def pair_perf_plot(df1, df2, title, xlabel, fontsize, figsize, linewidth, fname = None):\n",
    "    \"\"\"Plots two pairs of performances on the same figure.\n",
    "    \n",
    "    Colors are specified manually, as are legend values.\n",
    "    \"\"\"    \n",
    "    colors = {\n",
    "        \"f_score\": \"blue\",\n",
    "        \"precision\": \"green\",\n",
    "        \"recall\": \"red\"\n",
    "    }\n",
    "    \n",
    "    labels = {\n",
    "        \"recall\": Patch(color = colors[\"recall\"], label = \"Recall\"),\n",
    "        \"precision\": Patch(color = colors[\"precision\"], label = \"Precision\"),\n",
    "        \"f_score\": Patch(color = colors[\"f_score\"], label = \"F-score\"),\n",
    "        \"no_ner\": Line2D([], [], color = \"black\", linestyle = \"-\", linewidth = linewidth,\n",
    "                      label = \"Without NER filter\"),\n",
    "        \"yes_ner\": Line2D([], [], color = \"black\", linestyle = \"--\", linewidth = linewidth,\n",
    "                       label = \"With NER filter\")\n",
    "    }\n",
    "\n",
    "    matplotlib.rcParams.update({\"font.size\": fontsize})\n",
    "\n",
    "    # order determined by trial and error..\n",
    "    color = [colors[\"f_score\"], colors[\"precision\"], colors[\"recall\"]]\n",
    "\n",
    "    ax = df1.plot(\n",
    "        x = \"threshold\", figsize = figsize, title = title,\n",
    "        ylim = (0, 1.05), linewidth = linewidth, legend = False, color = color\n",
    "    )\n",
    "\n",
    "    ax = df2.plot(\n",
    "        ax = ax, x = \"threshold\", figsize = figsize, title = title,\n",
    "        linestyle = \"--\", ylim = (0, 1.05), linewidth = linewidth,\n",
    "        legend = False, color = color\n",
    "    )\n",
    "\n",
    "    ax.set_xlabel(xlabel)\n",
    "    \n",
    "    plt.legend(loc = \"best\", handles = [\n",
    "            labels[\"recall\"], labels[\"precision\"], labels[\"f_score\"],\n",
    "            labels[\"no_ner\"], labels[\"yes_ner\"]\n",
    "        ]\n",
    "    )\n",
    "    \n",
    "    if fname is not None:\n",
    "        plt.savefig(fname, bbox_inches = \"tight\", dpi = 300)"
   ]
  },
  {
   "cell_type": "code",
   "execution_count": 35,
   "metadata": {
    "collapsed": false
   },
   "outputs": [
    {
     "data": {
      "image/png": "[encoded data removed]",
      "text/plain": [
       "<matplotlib.figure.Figure at 0x7f13dcd2a8d0>"
      ]
     },
     "metadata": {},
     "output_type": "display_data"
    }
   ],
   "source": [
    "# official figure for database submission\n",
    "# demonstrating the effect of the NER filter on performance\n",
    "pair_perf_plot(official_res, crowd_no_ner_perf,\n",
    "    \"\",\n",
    "    \"Number of votes\", 18, (10, 10), 3, \"crowd_testset_perf.png\")"
   ]
  },
  {
   "cell_type": "markdown",
   "metadata": {},
   "source": [
    "---"
   ]
  },
  {
   "cell_type": "markdown",
   "metadata": {},
   "source": [
    "### ROC curves\n",
    "\n",
    "Because I couldn't figure out how to use my ROC R functions from the notebook itself, I had to make the ROC plot from R using text files containing the input."
   ]
  },
  {
   "cell_type": "code",
   "execution_count": 36,
   "metadata": {
    "collapsed": false
   },
   "outputs": [
    {
     "data": {
      "text/plain": [
       "0.6934884421117169"
      ]
     },
     "execution_count": 36,
     "metadata": {},
     "output_type": "execute_result"
    }
   ],
   "source": [
    "temp = pd.merge(crowd_res[TRIPLE + [\"num_votes\"]], gold_std, how = \"outer\", on = TRIPLE)\n",
    "temp.loc[:, \"num_votes\"] = temp.loc[:, \"num_votes\"].fillna(0)\n",
    "\n",
    "temp.loc[:, \"in_gold\"] = temp.loc[:, TRIPLE].apply(\n",
    "    lambda r: int((r[\"pmid\"], r[\"chemical_id\"], r[\"disease_id\"]) in gold_triples),\n",
    "    axis = 1\n",
    ")\n",
    "\n",
    "# temp.to_csv(\"true_roc.tsv\", sep = '\\t', index = False)\n",
    "\n",
    "# AUC value for no NER filtering\n",
    "get_AUC_value(temp, \"num_votes\", \"in_gold\")"
   ]
  },
  {
   "cell_type": "code",
   "execution_count": 37,
   "metadata": {
    "collapsed": false
   },
   "outputs": [
    {
     "data": {
      "text/plain": [
       "0.8763695655411006"
      ]
     },
     "execution_count": 37,
     "metadata": {},
     "output_type": "execute_result"
    }
   ],
   "source": [
    "temp = pd.merge(crowd_no_ner[TRIPLE + [\"num_votes\"]], crowd_good_gold, how = \"outer\", on = TRIPLE)\n",
    "\n",
    "sub = get_triples(crowd_good_gold)\n",
    "temp.loc[:, \"in_gold\"] = temp.loc[:, TRIPLE].apply(\n",
    "    lambda r: int((r[\"pmid\"], r[\"chemical_id\"], r[\"disease_id\"]) in sub),\n",
    "    axis = 1\n",
    ")\n",
    "\n",
    "# temp.to_csv(\"no_ner_roc.tsv\", sep = '\\t', index = False)\n",
    "\n",
    "get_AUC_value(temp, \"num_votes\", \"in_gold\")"
   ]
  },
  {
   "cell_type": "markdown",
   "metadata": {},
   "source": [
    "---"
   ]
  },
  {
   "cell_type": "markdown",
   "metadata": {},
   "source": [
    "## Venn diagram of relations with NER filter\n",
    "\n",
    "Relations generated using concepts that are perfectly annotated in all solutions with respect to gold standard."
   ]
  },
  {
   "cell_type": "code",
   "execution_count": 38,
   "metadata": {
    "collapsed": true
   },
   "outputs": [],
   "source": [
    "crowd_conc = find_perfect_concepts(crowd_full, eval_gold)\n",
    "befree_conc = find_perfect_concepts(befree_full, eval_gold)\n",
    "texas_conc = find_perfect_concepts(texas_full, eval_gold)\n",
    "\n",
    "common_conc = {\n",
    "    pmid: tuple([crowd_conc[pmid][i] & befree_conc[pmid][i] & texas_conc[pmid][i] for i in range(2)])\n",
    "    for pmid in eval_gold.keys()\n",
    "}\n",
    "\n",
    "poss_good_trips = get_perf_subset_triples(common_conc)\n",
    "poss_df = make_df(poss_good_trips)\n",
    "\n",
    "gold_sub = pd.merge(gold_std, poss_df, how = \"inner\", on = TRIPLE)\n",
    "crowd_sub = pd.merge(crowd_res, poss_df, how = \"inner\", on = TRIPLE)\n",
    "befree_sub = pd.merge(befree_res, poss_df, how = \"inner\", on = TRIPLE)\n",
    "texas_sub = pd.merge(ut_res, poss_df, how = \"inner\", on = TRIPLE)"
   ]
  },
  {
   "cell_type": "code",
   "execution_count": 39,
   "metadata": {
    "collapsed": true
   },
   "outputs": [],
   "source": [
    "# make venn diagram for relations for the full workflow\n",
    "\n",
    "# fnames = [\"temp/gold_trips.txt\", \"temp/crowd_trips.txt\", \"temp/befree_trips.txt\", \"temp/texas_trips.txt\"]\n",
    "# dfs = [gold_sub, crowd_sub.query(\"num_votes >= 4\"), befree_sub, texas_sub]\n",
    "# for fname, df in zip(fnames, dfs):\n",
    "#     df[TRIPLE].to_csv(fname, sep = \"|\", header = False, index = False)"
   ]
  },
  {
   "cell_type": "markdown",
   "metadata": {},
   "source": [
    "## Relation performance with NER errors removed\n",
    "<img src=\"../data/final_eval/analysis/testset_all_no_ner_cross_validation.png\" style=\"width: 350px;\">\n",
    "\n",
    "This is for the NER filtered output of all 3 solutions. Relations were subsetted on concepts which were perfectly matching gold in all solutions."
   ]
  },
  {
   "cell_type": "markdown",
   "metadata": {},
   "source": [
    "## Error analysis\n",
    "\n",
    "Null hypothesis: the origin of a relation is independent of the category that the relation belongs to (true positive, false positive, false negative).\n",
    "\n",
    "We use the Chi square test to determine whether the null hypothesis is true. We will group CID and sentence bound relations together."
   ]
  },
  {
   "cell_type": "code",
   "execution_count": 40,
   "metadata": {
    "collapsed": true
   },
   "outputs": [],
   "source": [
    "def converter(pmid, poss_relations):\n",
    "    return [Relation(pmid, rel[0], rel[1]) for rel in poss_relations]\n",
    "\n",
    "def rel_origin(triple, paper):\n",
    "    relation = Relation(paper.pmid, triple[1], triple[2], flat = False)\n",
    "\n",
    "    rename = {\n",
    "        \"CID\": \"sent\",\n",
    "        \"sentence_non_CID\": \"sent\",\n",
    "        \"not_sentence_bound\": \"abs\"\n",
    "    }\n",
    "    \n",
    "    ans = []\n",
    "    for key, val in paper.poss_relations.items():\n",
    "        value = converter(paper.pmid, val)\n",
    "        if relation in value:\n",
    "            ans.append(rename[key])\n",
    "\n",
    "    return \"|\".join(ans)"
   ]
  },
  {
   "cell_type": "code",
   "execution_count": 41,
   "metadata": {
    "collapsed": true
   },
   "outputs": [],
   "source": [
    "def single_triple(row):\n",
    "    return (int(row[\"pmid\"]), row[\"chemical_id\"], row[\"disease_id\"])\n",
    "\n",
    "def make_summary(predictions, gold_std):\n",
    "    temp = pd.merge(predictions[TRIPLE], gold_std[TRIPLE], how = \"outer\", on = TRIPLE)\n",
    "    \n",
    "    pred_trip = get_triples(predictions)\n",
    "    gold_trip = get_triples(gold_std)\n",
    "    \n",
    "    temp.loc[:, \"in_gold\"] = temp.loc[:, TRIPLE].apply(\n",
    "        lambda row: single_triple(row) in gold_trip, axis = 1\n",
    "    )\n",
    "    \n",
    "    temp.loc[:, \"in_predict\"] = temp.loc[:, TRIPLE].apply(\n",
    "        lambda row: single_triple(row) in pred_trip, axis = 1\n",
    "    )\n",
    "    \n",
    "    temp.loc[:, \"rel_origin\"] = temp.loc[:, TRIPLE].apply(\n",
    "        lambda row: rel_origin(single_triple(row), eval_gold[row[\"pmid\"]]), axis = 1\n",
    "    )\n",
    "    \n",
    "    temp.loc[:, \"pmid\"] = temp.loc[:, \"pmid\"].astype(int)\n",
    "    \n",
    "    return temp"
   ]
  },
  {
   "cell_type": "code",
   "execution_count": 42,
   "metadata": {
    "collapsed": true
   },
   "outputs": [],
   "source": [
    "def category_splitter(predict_res, gold_std, option = \"\"):\n",
    "    \"\"\"A generator for categories of relations.\"\"\"\n",
    "    predict = make_summary(predict_res, gold_std)\n",
    "    \n",
    "    error_type = [\"TP\", \"FP\", \"FN\"]\n",
    "    vals = [(True, True), (False, True), (True, False)] # gold, predict\n",
    "    \n",
    "    for etype, val in zip(error_type, vals):\n",
    "        sub = predict.query(\"in_gold == {} and in_predict == {}{}\".format(\n",
    "            val[0], val[1], option\n",
    "        )).dropna()\n",
    "        \n",
    "        yield (etype, sub)"
   ]
  },
  {
   "cell_type": "code",
   "execution_count": 43,
   "metadata": {
    "collapsed": true
   },
   "outputs": [],
   "source": [
    "def two_samp_test(res, test_type):\n",
    "    assert test_type in [\"t.test\", \"wilcox.test\"]\n",
    "    test = robjects.r[test_type]\n",
    "    \n",
    "    #determined empirically\n",
    "    cover = {\n",
    "        \"t.test\": 8,\n",
    "        \"wilcox.test\": 6\n",
    "    }    \n",
    "    \n",
    "    for a, b in combinations([\"TP\", \"FP\", \"FN\"], 2):\n",
    "        print(\"{} between {} and {}\".format(test_type, a, b))\n",
    "        result = test(res[a], res[b])\n",
    "        # don't print the acutal series themselves\n",
    "        # overwriting with zero suppresses superfluous output\n",
    "        result[cover[test_type]] = 0\n",
    "\n",
    "        print(result)\n",
    "        print(\"-----------------------------\")"
   ]
  },
  {
   "cell_type": "code",
   "execution_count": 44,
   "metadata": {
    "collapsed": true
   },
   "outputs": [],
   "source": [
    "def test_origin(pred_res, gold_std):\n",
    "    \"\"\"Apply the Chi-square test to see if a relation's\n",
    "    origin is independent of the category of error it\n",
    "    belongs to.\n",
    "    \"\"\"\n",
    "    chisqtest = robjects.r[\"chisq.test\"]\n",
    "    \n",
    "    res = dict()\n",
    "    for etype, sub in category_splitter(pred_res, gold_std):\n",
    "        res[etype] = sub[\"rel_origin\"].value_counts()[[\"sent\", \"abs\"]]\n",
    "        \n",
    "    res = pd.DataFrame(res).T\n",
    "    \n",
    "    print(chisqtest(res))\n",
    "    \n",
    "    return res"
   ]
  },
  {
   "cell_type": "code",
   "execution_count": 45,
   "metadata": {
    "collapsed": false
   },
   "outputs": [
    {
     "name": "stdout",
     "output_type": "stream",
     "text": [
      "\n",
      "\tPearson's Chi-squared test\n",
      "\n",
      "data:  structure(list(sent = structure(c(55L, 181L, 290L), .Dim = 3L),     abs = structure(c(65L, 100L, 74L), .Dim = 3L)), .Names = c(\"sent\", \"abs\"), row.names = c(\"FN\", \"FP\", \"TP\"), class = \"data.frame\")\n",
      "X-squared = 52.006, df = 2, p-value = 5.095e-12\n",
      "\n",
      "\n"
     ]
    },
    {
     "data": {
      "text/html": [
       "<div>\n",
       "<table border=\"1\" class=\"dataframe\">\n",
       "  <thead>\n",
       "    <tr style=\"text-align: right;\">\n",
       "      <th></th>\n",
       "      <th>sent</th>\n",
       "      <th>abs</th>\n",
       "    </tr>\n",
       "  </thead>\n",
       "  <tbody>\n",
       "    <tr>\n",
       "      <th>FN</th>\n",
       "      <td>55</td>\n",
       "      <td>65</td>\n",
       "    </tr>\n",
       "    <tr>\n",
       "      <th>FP</th>\n",
       "      <td>181</td>\n",
       "      <td>100</td>\n",
       "    </tr>\n",
       "    <tr>\n",
       "      <th>TP</th>\n",
       "      <td>290</td>\n",
       "      <td>74</td>\n",
       "    </tr>\n",
       "  </tbody>\n",
       "</table>\n",
       "</div>"
      ],
      "text/plain": [
       "    sent  abs\n",
       "FN    55   65\n",
       "FP   181  100\n",
       "TP   290   74"
      ]
     },
     "execution_count": 45,
     "metadata": {},
     "output_type": "execute_result"
    }
   ],
   "source": [
    "# hypothesis: relation origin is independent of category the relation ends up in\n",
    "\n",
    "test_origin(crowd_no_ner.query(\"num_votes >= 4\"), crowd_good_gold)\n",
    "\n",
    "# result: null hypothesis is wrong, relation origin does affect which error group a relation falls into"
   ]
  },
  {
   "cell_type": "markdown",
   "metadata": {},
   "source": [
    "---"
   ]
  },
  {
   "cell_type": "code",
   "execution_count": 72,
   "metadata": {
    "collapsed": true
   },
   "outputs": [],
   "source": [
    "crowd_summary = make_summary(crowd_no_ner.query(\"num_votes >= 4\"), crowd_good_gold)\n",
    "\n",
    "cols = crowd_summary.columns | [\"unit_ids\", \"num_votes\"]\n",
    "\n",
    "crowd_summary = pd.merge(crowd_summary,\n",
    "    pd.concat([sent_res, abs_res]), how = \"left\", on = TRIPLE)[cols]"
   ]
  },
  {
   "cell_type": "markdown",
   "metadata": {},
   "source": [
    "---"
   ]
  },
  {
   "cell_type": "markdown",
   "metadata": {},
   "source": [
    "### Parallelism test\n",
    "\n",
    "**Hypothesis**: false positives are likely to show up in sentences containing other true positives.\n",
    "\n",
    "Example: in PMID 3289726, the gold has three relations, between etoposide (D005047) and three diseases: confusion (D003221), seizure (D012640), and papilledema (D010211). The abstract states: \"Significant clinical manifestations have included confusion, papilledema, somnolence, exacerbation of motor deficits, and sharp increase in seizure activity.\"\n",
    "\n",
    "Therefore all of the mentioned diseases are related to etoposide. There should in reality be 5 relations in the gold, but one is not possible (motor deficits) because there is no corresponding MeSH term, and the other seems to be a missing relation (a mistake) in the gold standard. However, the missing relation was stated as true with high confidence by our crowd, so we can use this as a filter to find false positives by the crowd which are likely to be true."
   ]
  },
  {
   "cell_type": "code",
   "execution_count": 78,
   "metadata": {
    "collapsed": false
   },
   "outputs": [],
   "source": [
    "def get_concepts(stype, sentence):\n",
    "    res = set()\n",
    "    for annot in sentence.annotations:\n",
    "        if annot.stype == stype:\n",
    "            res |= annot.uid\n",
    "        \n",
    "    return res\n",
    "\n",
    "def count_parallel(pmid, chem, dise):\n",
    "    \"\"\"For a given relation, look at the sentence that the\n",
    "    disease is in and look for true relations using the\n",
    "    chemical and another disease in the same sentence.\n",
    "    \n",
    "    Usually there is parallelism and the list of diseases\n",
    "    in the sentence will all be true (as a list of symptoms\n",
    "    for that chemical etc.)\n",
    "    \n",
    "    Example: PMID 3289726, where one sentence contains all the\n",
    "    true relations.\n",
    "    \"\"\"\n",
    "    paper = eval_gold[pmid]\n",
    "    \n",
    "    # find the sentences containing the disease id\n",
    "    chem_id = Ontology_ID(chem)\n",
    "    dise_id = Ontology_ID(dise)   \n",
    "    \n",
    "    res = 0\n",
    "    for sentence in paper.sentences:\n",
    "        concepts = get_concepts(\"disease\", sentence)\n",
    "\n",
    "        if dise_id in concepts:\n",
    "            other = concepts - set([dise_id])\n",
    "            \n",
    "            poss = [Relation(pmid, frozenset([chem_id]),\n",
    "                frozenset([concept])) for concept in other]\n",
    "            \n",
    "            ans = [int(paper.has_relation(val)) for val in poss]\n",
    "            res += sum(ans)\n",
    "            \n",
    "    return res       "
   ]
  },
  {
   "cell_type": "code",
   "execution_count": 79,
   "metadata": {
    "collapsed": true
   },
   "outputs": [],
   "source": [
    "def test_parallel(pred_res, gold_std, gold_full, test_type):\n",
    "    \"\"\"Determine whether the category of a relation is independent\n",
    "    of the number of other parallel relations in the same sentence.\n",
    "    \"\"\"\n",
    "    res = dict()\n",
    "    for e_type, sub in category_splitter(pred_res, gold_std, \" and rel_origin == 'abs'\"):\n",
    "        res[e_type] = pd.Series(sub[TRIPLE].apply(\n",
    "            lambda r: count_parallel(r[\"pmid\"], r[\"chemical_id\"], r[\"disease_id\"]),\n",
    "            axis = 1\n",
    "        ))\n",
    "        \n",
    "    two_samp_test(res, test_type)        \n",
    "    return res"
   ]
  },
  {
   "cell_type": "code",
   "execution_count": 80,
   "metadata": {
    "collapsed": false,
    "scrolled": true
   },
   "outputs": [
    {
     "name": "stdout",
     "output_type": "stream",
     "text": [
      "t.test between TP and FP\n",
      "\n",
      "\tWelch Two Sample t-test\n",
      "\n",
      "data:  0\n",
      "t = 5.3173, df = 138.49, p-value = 4.119e-07\n",
      "alternative hypothesis: true difference in means is not equal to 0\n",
      "95 percent confidence interval:\n",
      " 0.7783989 1.6999795\n",
      "sample estimates:\n",
      "mean of x mean of y \n",
      " 1.689189  0.450000 \n",
      "\n",
      "\n",
      "-----------------------------\n",
      "t.test between TP and FN\n",
      "\n",
      "\tWelch Two Sample t-test\n",
      "\n",
      "data:  0\n",
      "t = -0.34741, df = 121.76, p-value = 0.7289\n",
      "alternative hypothesis: true difference in means is not equal to 0\n",
      "95 percent confidence interval:\n",
      " -0.7422382  0.5206165\n",
      "sample estimates:\n",
      "mean of x mean of y \n",
      " 1.689189  1.800000 \n",
      "\n",
      "\n",
      "-----------------------------\n",
      "t.test between FP and FN\n",
      "\n",
      "\tWelch Two Sample t-test\n",
      "\n",
      "data:  0\n",
      "t = -4.6709, df = 99.281, p-value = 9.427e-06\n",
      "alternative hypothesis: true difference in means is not equal to 0\n",
      "95 percent confidence interval:\n",
      " -1.9234712 -0.7765288\n",
      "sample estimates:\n",
      "mean of x mean of y \n",
      "     0.45      1.80 \n",
      "\n",
      "\n",
      "-----------------------------\n"
     ]
    }
   ],
   "source": [
    "res = test_parallel(crowd_no_ner.query(\"num_votes >= 4\"), crowd_good_gold, eval_gold, \"t.test\")"
   ]
  },
  {
   "cell_type": "code",
   "execution_count": 81,
   "metadata": {
    "collapsed": false,
    "scrolled": true
   },
   "outputs": [
    {
     "name": "stdout",
     "output_type": "stream",
     "text": [
      "wilcox.test between TP and FP\n",
      "\n",
      "\tWilcoxon rank sum test with continuity correction\n",
      "\n",
      "data:  0\n",
      "W = 5771, p-value = 1.196e-12\n",
      "alternative hypothesis: true location shift is not equal to 0\n",
      "\n",
      "\n",
      "-----------------------------\n",
      "wilcox.test between TP and FN\n",
      "\n",
      "\tWilcoxon rank sum test with continuity correction\n",
      "\n",
      "data:  0\n",
      "W = 2534, p-value = 0.5759\n",
      "alternative hypothesis: true location shift is not equal to 0\n",
      "\n",
      "\n",
      "-----------------------------\n",
      "wilcox.test between FP and FN\n",
      "\n",
      "\tWilcoxon rank sum test with continuity correction\n",
      "\n",
      "data:  0\n",
      "W = 1923.5, p-value = 9.321e-08\n",
      "alternative hypothesis: true location shift is not equal to 0\n",
      "\n",
      "\n",
      "-----------------------------\n"
     ]
    }
   ],
   "source": [
    "res = test_parallel(crowd_no_ner.query(\"num_votes >= 4\"), crowd_good_gold, eval_gold, \"wilcox.test\")"
   ]
  },
  {
   "cell_type": "code",
   "execution_count": 82,
   "metadata": {
    "collapsed": false
   },
   "outputs": [
    {
     "data": {
      "text/plain": [
       "2    21\n",
       "0    20\n",
       "1    18\n",
       "3     6\n",
       "6     4\n",
       "5     3\n",
       "4     2\n",
       "dtype: int64"
      ]
     },
     "execution_count": 82,
     "metadata": {},
     "output_type": "execute_result"
    }
   ],
   "source": [
    "res[\"TP\"].value_counts()"
   ]
  },
  {
   "cell_type": "code",
   "execution_count": 83,
   "metadata": {
    "collapsed": false
   },
   "outputs": [
    {
     "data": {
      "text/plain": [
       "0    83\n",
       "1     8\n",
       "3     4\n",
       "7     3\n",
       "2     2\n",
       "dtype: int64"
      ]
     },
     "execution_count": 83,
     "metadata": {},
     "output_type": "execute_result"
    }
   ],
   "source": [
    "res[\"FP\"].value_counts()"
   ]
  },
  {
   "cell_type": "code",
   "execution_count": 84,
   "metadata": {
    "collapsed": false
   },
   "outputs": [
    {
     "data": {
      "text/plain": [
       "0    29\n",
       "4    10\n",
       "1     8\n",
       "2     7\n",
       "5     5\n",
       "6     4\n",
       "3     2\n",
       "dtype: int64"
      ]
     },
     "execution_count": 84,
     "metadata": {},
     "output_type": "execute_result"
    }
   ],
   "source": [
    "res[\"FN\"].value_counts()"
   ]
  },
  {
   "cell_type": "code",
   "execution_count": 85,
   "metadata": {
    "collapsed": false
   },
   "outputs": [],
   "source": [
    "fps = crowd_summary.query(\"~in_gold and in_predict and rel_origin == 'abs'\")\n",
    "\n",
    "fps.loc[:, \"link\"] = fps.loc[:, \"unit_ids\"].map(lambda v: \"https://crowdflower.com/jobs/767273/units/{}\".format(v))\n",
    "\n",
    "fps.loc[:, \"parallel\"] = fps.loc[:, TRIPLE].apply(\n",
    "    lambda r: count_parallel(r[\"pmid\"], r[\"chemical_id\"], r[\"disease_id\"]),\n",
    "    axis = 1\n",
    ")"
   ]
  },
  {
   "cell_type": "code",
   "execution_count": 86,
   "metadata": {
    "collapsed": false
   },
   "outputs": [
    {
     "data": {
      "text/html": [
       "<div>\n",
       "<table border=\"1\" class=\"dataframe\">\n",
       "  <thead>\n",
       "    <tr style=\"text-align: right;\">\n",
       "      <th></th>\n",
       "      <th>chemical_id</th>\n",
       "      <th>disease_id</th>\n",
       "      <th>in_gold</th>\n",
       "      <th>in_predict</th>\n",
       "      <th>num_votes</th>\n",
       "      <th>pmid</th>\n",
       "      <th>rel_origin</th>\n",
       "      <th>unit_ids</th>\n",
       "      <th>link</th>\n",
       "      <th>parallel</th>\n",
       "    </tr>\n",
       "  </thead>\n",
       "  <tbody>\n",
       "    <tr>\n",
       "      <th>318</th>\n",
       "      <td>MESH:D016190</td>\n",
       "      <td>MESH:D060831</td>\n",
       "      <td>False</td>\n",
       "      <td>True</td>\n",
       "      <td>4</td>\n",
       "      <td>11745287</td>\n",
       "      <td>abs</td>\n",
       "      <td>773937706</td>\n",
       "      <td>https://crowdflower.com/jobs/767273/units/773937706</td>\n",
       "      <td>7</td>\n",
       "    </tr>\n",
       "    <tr>\n",
       "      <th>320</th>\n",
       "      <td>MESH:D004317</td>\n",
       "      <td>MESH:D013280</td>\n",
       "      <td>False</td>\n",
       "      <td>True</td>\n",
       "      <td>5</td>\n",
       "      <td>11745287</td>\n",
       "      <td>abs</td>\n",
       "      <td>773937712</td>\n",
       "      <td>https://crowdflower.com/jobs/767273/units/773937712</td>\n",
       "      <td>7</td>\n",
       "    </tr>\n",
       "    <tr>\n",
       "      <th>321</th>\n",
       "      <td>MESH:D004317</td>\n",
       "      <td>MESH:D060831</td>\n",
       "      <td>False</td>\n",
       "      <td>True</td>\n",
       "      <td>5</td>\n",
       "      <td>11745287</td>\n",
       "      <td>abs</td>\n",
       "      <td>773937713</td>\n",
       "      <td>https://crowdflower.com/jobs/767273/units/773937713</td>\n",
       "      <td>7</td>\n",
       "    </tr>\n",
       "    <tr>\n",
       "      <th>64</th>\n",
       "      <td>MESH:D003613</td>\n",
       "      <td>MESH:D063806</td>\n",
       "      <td>False</td>\n",
       "      <td>True</td>\n",
       "      <td>5</td>\n",
       "      <td>2358093</td>\n",
       "      <td>abs</td>\n",
       "      <td>773936830</td>\n",
       "      <td>https://crowdflower.com/jobs/767273/units/773936830</td>\n",
       "      <td>3</td>\n",
       "    </tr>\n",
       "    <tr>\n",
       "      <th>108</th>\n",
       "      <td>MESH:D005047</td>\n",
       "      <td>MESH:D006970</td>\n",
       "      <td>False</td>\n",
       "      <td>True</td>\n",
       "      <td>5</td>\n",
       "      <td>3289726</td>\n",
       "      <td>abs</td>\n",
       "      <td>773936980</td>\n",
       "      <td>https://crowdflower.com/jobs/767273/units/773936980</td>\n",
       "      <td>3</td>\n",
       "    </tr>\n",
       "    <tr>\n",
       "      <th>439</th>\n",
       "      <td>MESH:D002231</td>\n",
       "      <td>MESH:D005076</td>\n",
       "      <td>False</td>\n",
       "      <td>True</td>\n",
       "      <td>4</td>\n",
       "      <td>19263707</td>\n",
       "      <td>abs</td>\n",
       "      <td>773938382</td>\n",
       "      <td>https://crowdflower.com/jobs/767273/units/773938382</td>\n",
       "      <td>3</td>\n",
       "    </tr>\n",
       "    <tr>\n",
       "      <th>546</th>\n",
       "      <td>MESH:D014635</td>\n",
       "      <td>MESH:D001523</td>\n",
       "      <td>False</td>\n",
       "      <td>True</td>\n",
       "      <td>4</td>\n",
       "      <td>24614773</td>\n",
       "      <td>abs</td>\n",
       "      <td>773936176</td>\n",
       "      <td>https://crowdflower.com/jobs/767273/units/773936176</td>\n",
       "      <td>3</td>\n",
       "    </tr>\n",
       "  </tbody>\n",
       "</table>\n",
       "</div>"
      ],
      "text/plain": [
       "      chemical_id    disease_id in_gold in_predict  num_votes      pmid  \\\n",
       "318  MESH:D016190  MESH:D060831   False       True          4  11745287   \n",
       "320  MESH:D004317  MESH:D013280   False       True          5  11745287   \n",
       "321  MESH:D004317  MESH:D060831   False       True          5  11745287   \n",
       "64   MESH:D003613  MESH:D063806   False       True          5   2358093   \n",
       "108  MESH:D005047  MESH:D006970   False       True          5   3289726   \n",
       "439  MESH:D002231  MESH:D005076   False       True          4  19263707   \n",
       "546  MESH:D014635  MESH:D001523   False       True          4  24614773   \n",
       "\n",
       "    rel_origin   unit_ids  \\\n",
       "318        abs  773937706   \n",
       "320        abs  773937712   \n",
       "321        abs  773937713   \n",
       "64         abs  773936830   \n",
       "108        abs  773936980   \n",
       "439        abs  773938382   \n",
       "546        abs  773936176   \n",
       "\n",
       "                                                    link  parallel  \n",
       "318  https://crowdflower.com/jobs/767273/units/773937706         7  \n",
       "320  https://crowdflower.com/jobs/767273/units/773937712         7  \n",
       "321  https://crowdflower.com/jobs/767273/units/773937713         7  \n",
       "64   https://crowdflower.com/jobs/767273/units/773936830         3  \n",
       "108  https://crowdflower.com/jobs/767273/units/773936980         3  \n",
       "439  https://crowdflower.com/jobs/767273/units/773938382         3  \n",
       "546  https://crowdflower.com/jobs/767273/units/773936176         3  "
      ]
     },
     "execution_count": 86,
     "metadata": {},
     "output_type": "execute_result"
    }
   ],
   "source": [
    "fps.query(\"parallel > 2\").sort(\"parallel\", ascending = False)"
   ]
  },
  {
   "cell_type": "code",
   "execution_count": 87,
   "metadata": {
    "collapsed": false
   },
   "outputs": [
    {
     "name": "stdout",
     "output_type": "stream",
     "text": [
      "      chemical_id    disease_id in_gold in_predict  num_votes      pmid  \\\n",
      "318  MESH:D016190  MESH:D060831   False       True          4  11745287   \n",
      "320  MESH:D004317  MESH:D013280   False       True          5  11745287   \n",
      "321  MESH:D004317  MESH:D060831   False       True          5  11745287   \n",
      "64   MESH:D003613  MESH:D063806   False       True          5   2358093   \n",
      "108  MESH:D005047  MESH:D006970   False       True          5   3289726   \n",
      "439  MESH:D002231  MESH:D005076   False       True          4  19263707   \n",
      "546  MESH:D014635  MESH:D001523   False       True          4  24614773   \n",
      "\n",
      "    rel_origin   unit_ids  \\\n",
      "318        abs  773937706   \n",
      "320        abs  773937712   \n",
      "321        abs  773937713   \n",
      "64         abs  773936830   \n",
      "108        abs  773936980   \n",
      "439        abs  773938382   \n",
      "546        abs  773936176   \n",
      "\n",
      "                                                    link  parallel  \n",
      "318  https://crowdflower.com/jobs/767273/units/773937706         7  \n",
      "320  https://crowdflower.com/jobs/767273/units/773937712         7  \n",
      "321  https://crowdflower.com/jobs/767273/units/773937713         7  \n",
      "64   https://crowdflower.com/jobs/767273/units/773936830         3  \n",
      "108  https://crowdflower.com/jobs/767273/units/773936980         3  \n",
      "439  https://crowdflower.com/jobs/767273/units/773938382         3  \n",
      "546  https://crowdflower.com/jobs/767273/units/773936176         3  \n"
     ]
    }
   ],
   "source": [
    "print(fps.query(\"parallel > 2\").sort(\"parallel\", ascending = False))"
   ]
  },
  {
   "cell_type": "markdown",
   "metadata": {
    "collapsed": true
   },
   "source": [
    "Based on the data, we see that the true positive abstract-scope relations usually use diseases which occur in sentences with other diseases which also are related to the current chemical (mean 1.7 other instances). However, with the false positives, this is no longer true (mean 0.45). Based on these data, we propose using the number of parallel relations as a filter for determining errors in the gold standard. As in, relations which were left out in the gold standard, but should really be true because they are in sentences where the other relations were all related to the same chemical. We posit that these relations were missed due to human error. The list is given in the cell above."
   ]
  },
  {
   "cell_type": "markdown",
   "metadata": {},
   "source": [
    "---"
   ]
  },
  {
   "cell_type": "markdown",
   "metadata": {},
   "source": [
    "### Sentence-bound relations\n",
    "\n",
    "**Hypothesis**: for sentence-bound relations, the crowd performs better when the amount of context increases, that is, the number of tasks (sentences) that the two concepts cooccur in increases. If there is too little context, i.e. only one task (sentence) for a single relation, then we would expect the workers to do poorly because the sentence is taken out of context. In contrast, if there were multiple tasks, then we expect that it is more likely that one of the sentences will have captured the true relationship between the concepts, and therefore giving a higher probability that the crowd will identify the true relation.\n",
    "\n",
    "Therefore we expect that the category of a relation (TP, FP, FN) will not be independent of the number of sentences."
   ]
  },
  {
   "cell_type": "code",
   "execution_count": 88,
   "metadata": {
    "collapsed": true
   },
   "outputs": [],
   "source": [
    "def test_freq(summary, test_type):\n",
    "    error_type = [\"TP\", \"FP\", \"FN\"]\n",
    "    vals = [(True, True), (False, True), (True, False)] # gold, predict\n",
    "    \n",
    "    res = dict()\n",
    "    for etype, val in zip(error_type, vals):\n",
    "        sub = summary.query(\"in_gold == {} and in_predict == {} and rel_origin == 'sent'\".format(\n",
    "            val[0], val[1])\n",
    "        ).dropna() # CID relations are filtered out!\n",
    "        \n",
    "        print(etype, len(sub))\n",
    "        \n",
    "        res[etype] = pd.Series(sub[\"unit_ids\"].map(lambda v: len(v.split(\"|\"))))\n",
    "\n",
    "    two_samp_test(res, test_type)"
   ]
  },
  {
   "cell_type": "code",
   "execution_count": 89,
   "metadata": {
    "collapsed": false,
    "scrolled": true
   },
   "outputs": [
    {
     "name": "stdout",
     "output_type": "stream",
     "text": [
      "TP 188\n",
      "FP 156\n",
      "FN 55\n",
      "t.test between TP and FP\n",
      "\n",
      "\tWelch Two Sample t-test\n",
      "\n",
      "data:  0\n",
      "t = 3.3959, df = 340.99, p-value = 0.0007648\n",
      "alternative hypothesis: true difference in means is not equal to 0\n",
      "95 percent confidence interval:\n",
      " 0.1562751 0.5864964\n",
      "sample estimates:\n",
      "mean of x mean of y \n",
      " 1.845745  1.474359 \n",
      "\n",
      "\n",
      "-----------------------------\n",
      "t.test between TP and FN\n",
      "\n",
      "\tWelch Two Sample t-test\n",
      "\n",
      "data:  0\n",
      "t = 3.8217, df = 121.59, p-value = 0.0002104\n",
      "alternative hypothesis: true difference in means is not equal to 0\n",
      "95 percent confidence interval:\n",
      " 0.2411333 0.7594470\n",
      "sample estimates:\n",
      "mean of x mean of y \n",
      " 1.845745  1.345455 \n",
      "\n",
      "\n",
      "-----------------------------\n",
      "t.test between FP and FN\n",
      "\n",
      "\tWelch Two Sample t-test\n",
      "\n",
      "data:  0\n",
      "t = 0.99852, df = 114.69, p-value = 0.3201\n",
      "alternative hypothesis: true difference in means is not equal to 0\n",
      "95 percent confidence interval:\n",
      " -0.1268162  0.3846251\n",
      "sample estimates:\n",
      "mean of x mean of y \n",
      " 1.474359  1.345455 \n",
      "\n",
      "\n",
      "-----------------------------\n"
     ]
    }
   ],
   "source": [
    "test_freq(crowd_summary, \"t.test\")"
   ]
  },
  {
   "cell_type": "code",
   "execution_count": 90,
   "metadata": {
    "collapsed": false,
    "scrolled": true
   },
   "outputs": [
    {
     "name": "stdout",
     "output_type": "stream",
     "text": [
      "TP 188\n",
      "FP 156\n",
      "FN 55\n",
      "wilcox.test between TP and FP\n",
      "\n",
      "\tWilcoxon rank sum test with continuity correction\n",
      "\n",
      "data:  0\n",
      "W = 17874, p-value = 7.472e-05\n",
      "alternative hypothesis: true location shift is not equal to 0\n",
      "\n",
      "\n",
      "-----------------------------\n",
      "wilcox.test between TP and FN\n",
      "\n",
      "\tWilcoxon rank sum test with continuity correction\n",
      "\n",
      "data:  0\n",
      "W = 6680.5, p-value = 0.0002358\n",
      "alternative hypothesis: true location shift is not equal to 0\n",
      "\n",
      "\n",
      "-----------------------------\n",
      "wilcox.test between FP and FN\n",
      "\n",
      "\tWilcoxon rank sum test with continuity correction\n",
      "\n",
      "data:  0\n",
      "W = 4670.5, p-value = 0.2124\n",
      "alternative hypothesis: true location shift is not equal to 0\n",
      "\n",
      "\n",
      "-----------------------------\n"
     ]
    }
   ],
   "source": [
    "test_freq(crowd_summary, \"wilcox.test\")"
   ]
  },
  {
   "cell_type": "markdown",
   "metadata": {},
   "source": [
    "Based on the two sample t-test, it seems that there are significant differences in the number of sentence tasks between the true positives and both false positives and false negatives. There are no differences between the false positive and false negatives. From this I conclude that the null hypothesis is false, and that sentence-scoped relations with greater numbers of tasks are more likely to be classified by the crowd as true positives instead of as either type of error.\n",
    "\n",
    "Therefore it does seem that a lack of context is affecting crowd performance. When there are more sentences containing the relation pair, it is more likely to be classified properly."
   ]
  },
  {
   "cell_type": "markdown",
   "metadata": {},
   "source": [
    "---"
   ]
  },
  {
   "cell_type": "markdown",
   "metadata": {},
   "source": [
    "### Title sentences\n",
    "\n",
    "**Hypothesis**: titles are confusing sentences which are more likely to state a tested hypothesis rather than the results of testing that hypothesis. Therefore we hypothesize that the errors are more likely to contain titles than the true positives."
   ]
  },
  {
   "cell_type": "code",
   "execution_count": 91,
   "metadata": {
    "collapsed": true
   },
   "outputs": [],
   "source": [
    "def ttest_title(summary):\n",
    "    temp = pd.merge(summary, sent_res[TRIPLE + [\"sentence_ids\"]], how = \"left\", on = TRIPLE)\n",
    "    \n",
    "    error_type = [\"TP\", \"FP\", \"FN\"]\n",
    "    vals = [(True, True), (False, True), (True, False)] # gold, predict\n",
    "    \n",
    "    chisqtest = robjects.r[\"chisq.test\"]\n",
    "    \n",
    "    res = dict()\n",
    "    for etype, val in zip(error_type, vals):\n",
    "        sub = temp.query(\"in_gold == {} and in_predict == {} and rel_origin == 'sent'\".format(\n",
    "            val[0], val[1])\n",
    "        ).dropna()\n",
    "\n",
    "        sub.loc[:, \"title\"] = sub.loc[:, \"sentence_ids\"].map(\n",
    "            lambda v:\n",
    "                sum(int(val == \"0\") for val in map(lambda f: f.split(\"_\")[1], v.split(\"|\")))\n",
    "        )\n",
    "        \n",
    "        res[etype] = sub[\"title\"].value_counts()[[0, 1]]\n",
    "\n",
    "    res = pd.DataFrame(res)\n",
    "    \n",
    "    print(chisqtest(res))\n",
    "    return res"
   ]
  },
  {
   "cell_type": "code",
   "execution_count": 92,
   "metadata": {
    "collapsed": false
   },
   "outputs": [
    {
     "name": "stdout",
     "output_type": "stream",
     "text": [
      "\n",
      "\tPearson's Chi-squared test\n",
      "\n",
      "data:  structure(list(FN = structure(c(47L, 8L), .Dim = 2L), FP = structure(c(123L, 33L), .Dim = 2L), TP = structure(c(114L, 74L), .Dim = 2L)), .Names = c(\"FN\", \"FP\", \"TP\"), row.names = c(\"0\", \"1\"), class = \"data.frame\")\n",
      "X-squared = 20.116, df = 2, p-value = 4.285e-05\n",
      "\n",
      "\n"
     ]
    },
    {
     "data": {
      "text/html": [
       "<div>\n",
       "<table border=\"1\" class=\"dataframe\">\n",
       "  <thead>\n",
       "    <tr style=\"text-align: right;\">\n",
       "      <th></th>\n",
       "      <th>FN</th>\n",
       "      <th>FP</th>\n",
       "      <th>TP</th>\n",
       "    </tr>\n",
       "  </thead>\n",
       "  <tbody>\n",
       "    <tr>\n",
       "      <th>0</th>\n",
       "      <td>47</td>\n",
       "      <td>123</td>\n",
       "      <td>114</td>\n",
       "    </tr>\n",
       "    <tr>\n",
       "      <th>1</th>\n",
       "      <td>8</td>\n",
       "      <td>33</td>\n",
       "      <td>74</td>\n",
       "    </tr>\n",
       "  </tbody>\n",
       "</table>\n",
       "</div>"
      ],
      "text/plain": [
       "   FN   FP   TP\n",
       "0  47  123  114\n",
       "1   8   33   74"
      ]
     },
     "execution_count": 92,
     "metadata": {},
     "output_type": "execute_result"
    }
   ],
   "source": [
    "ttest_title(crowd_summary)"
   ]
  },
  {
   "cell_type": "markdown",
   "metadata": {},
   "source": [
    "We see a significant difference between the distributions, but it seems that this implies that the crowd does better on relations where they were showed the title as a sentence as well. However I think this really means that there were more tasks that the workers saw, which also makes it more likely that the tasks included the title as a sentence task."
   ]
  },
  {
   "cell_type": "code",
   "execution_count": 93,
   "metadata": {
    "collapsed": true
   },
   "outputs": [],
   "source": [
    "def ttest_title2(summary, test_type):\n",
    "    temp = pd.merge(summary, sent_res[TRIPLE + [\"sentence_ids\"]], how = \"left\", on = TRIPLE)\n",
    "    \n",
    "    error_type = [\"TP\", \"FP\", \"FN\"]\n",
    "    vals = [(True, True), (False, True), (True, False)] # gold, predict\n",
    "    \n",
    "    res = dict()\n",
    "    for etype, val in zip(error_type, vals):\n",
    "        sub = temp.query(\"in_gold == {} and in_predict == {} and rel_origin == 'sent'\".format(\n",
    "            val[0], val[1])\n",
    "        ).dropna()\n",
    "        \n",
    "        res[etype] = pd.Series(sub.loc[:, \"sentence_ids\"].map(\n",
    "            lambda v:\n",
    "                sum(map(lambda f: int(int(f.split(\"_\")[1]) != 0), v.split(\"|\"))) / len(v.split(\"|\"))\n",
    "        ))\n",
    "        \n",
    "    two_samp_test(res, test_type)"
   ]
  },
  {
   "cell_type": "code",
   "execution_count": 94,
   "metadata": {
    "collapsed": false,
    "scrolled": true
   },
   "outputs": [
    {
     "name": "stdout",
     "output_type": "stream",
     "text": [
      "t.test between TP and FP\n",
      "\n",
      "\tWelch Two Sample t-test\n",
      "\n",
      "data:  0\n",
      "t = -2.2956, df = 333.88, p-value = 0.02232\n",
      "alternative hypothesis: true difference in means is not equal to 0\n",
      "95 percent confidence interval:\n",
      " -0.122151721 -0.009413758\n",
      "sample estimates:\n",
      "mean of x mean of y \n",
      "0.8157801 0.8815629 \n",
      "\n",
      "\n",
      "-----------------------------\n",
      "t.test between TP and FN\n",
      "\n",
      "\tWelch Two Sample t-test\n",
      "\n",
      "data:  0\n",
      "t = -2.5979, df = 95.959, p-value = 0.01086\n",
      "alternative hypothesis: true difference in means is not equal to 0\n",
      "95 percent confidence interval:\n",
      " -0.1752987 -0.0234440\n",
      "sample estimates:\n",
      "mean of x mean of y \n",
      "0.8157801 0.9151515 \n",
      "\n",
      "\n",
      "-----------------------------\n",
      "t.test between FP and FN\n",
      "\n",
      "\tWelch Two Sample t-test\n",
      "\n",
      "data:  0\n",
      "t = -0.8633, df = 100.77, p-value = 0.39\n",
      "alternative hypothesis: true difference in means is not equal to 0\n",
      "95 percent confidence interval:\n",
      " -0.11077254  0.04359527\n",
      "sample estimates:\n",
      "mean of x mean of y \n",
      "0.8815629 0.9151515 \n",
      "\n",
      "\n",
      "-----------------------------\n"
     ]
    }
   ],
   "source": [
    "ttest_title2(crowd_summary, \"t.test\")"
   ]
  },
  {
   "cell_type": "markdown",
   "metadata": {},
   "source": [
    "These data tell us that the ratio of non-title sentences to total sentences is closer to 1 (only non-titles) in the false positives and false negatives compared to the true positives. This is the opposite of what we expect based on our original hypothesis that titles are confusing. I think that the titles are perhaps not as big of a deal as we thought, and that the more important factor is that fewer tasks = poorer performance, since there is a loss of context surrounding the sentence."
   ]
  },
  {
   "cell_type": "markdown",
   "metadata": {},
   "source": [
    "---"
   ]
  },
  {
   "cell_type": "markdown",
   "metadata": {},
   "source": [
    "## Manual error analysis"
   ]
  },
  {
   "cell_type": "code",
   "execution_count": 95,
   "metadata": {
    "collapsed": true
   },
   "outputs": [],
   "source": [
    "def format_links(df):\n",
    "    \"\"\"Format links to CrowdFlower tasks and Pubmed abstracts.\n",
    "    Expand when multiple tasks.\n",
    "    \"\"\"\n",
    "    assert \"rel_origin\" in df.columns\n",
    "    assert \"unit_ids\" in df.columns\n",
    "    \n",
    "    # split any multiplexed unit ids\n",
    "    df.loc[:, \"cf_link\"] = df.loc[:, \"unit_ids\"].map(lambda v: str(v).split(\"|\"))\n",
    "    \n",
    "    expanded = expand_df(\"cf_link\", df)\n",
    "    \n",
    "    job_id = {\n",
    "        \"abstract_task\": 767273,\n",
    "        \"sentence_task\": 767262,\n",
    "        \"abs\": 767273,\n",
    "        \"sent\": 767262,\n",
    "        \"cid_relation\": 767262\n",
    "    }\n",
    "    \n",
    "    # take the individual job ids and put them into the appropriate url\n",
    "    expanded.loc[:, \"cf_link\"] = expanded.loc[:, [\"rel_origin\", \"cf_link\"]].apply(\n",
    "        lambda v:\n",
    "            \"https://crowdflower.com/jobs/{}/units/{}\".format(\n",
    "                job_id[v[\"rel_origin\"]], v[\"cf_link\"]\n",
    "            ),\n",
    "        axis = 1\n",
    "    )\n",
    "    \n",
    "    # make a link to the pubmed page\n",
    "    expanded.loc[:, \"pubmed_link\"] = expanded.loc[:, \"pmid\"].map(\n",
    "        lambda v: \"http://ncbi.nlm.nih.gov/pubmed/?term={}\".format(int(v))\n",
    "    )\n",
    "    \n",
    "    return expanded"
   ]
  },
  {
   "cell_type": "code",
   "execution_count": 96,
   "metadata": {
    "collapsed": true
   },
   "outputs": [],
   "source": [
    "def manual_inspect(crowd_summary):\n",
    "    etypes = [\"TP\", \"FP\", \"FN\"]\n",
    "    ervals = [(True, True), (False, True), (True, False)]\n",
    "\n",
    "    res = []\n",
    "    for etype, vals in zip(etypes, ervals):\n",
    "        for origin in [\"sent\", \"abs\"]:\n",
    "            sub = crowd_summary.query(\"in_gold == {} and in_predict == {} and rel_origin == '{}'\".format(\n",
    "                vals[0], vals[1], origin)\n",
    "            ).dropna() # ignore cid relations\n",
    "\n",
    "            print(etype, origin)\n",
    "\n",
    "            samp = sub.sample(n = 15, random_state = RAND_KEY)\n",
    "            samp = format_links(samp)\n",
    "\n",
    "            samp.loc[:, \"etype\"] = etype\n",
    "\n",
    "            res.append(samp)\n",
    "\n",
    "    return pd.concat(res)"
   ]
  },
  {
   "cell_type": "code",
   "execution_count": 97,
   "metadata": {
    "collapsed": false,
    "scrolled": false
   },
   "outputs": [
    {
     "name": "stdout",
     "output_type": "stream",
     "text": [
      "TP sent\n",
      "TP abs\n",
      "FP sent\n",
      "FP abs\n",
      "FN sent\n",
      "FN abs\n"
     ]
    }
   ],
   "source": [
    "res = manual_inspect(crowd_summary)\n",
    "res[TRIPLE + [\"rel_origin\", \"num_votes\", \"pubmed_link\", \"cf_link\", \"etype\"]].to_excel(\"errors.xlsx\", index = False)"
   ]
  },
  {
   "cell_type": "markdown",
   "metadata": {},
   "source": [
    "---"
   ]
  },
  {
   "cell_type": "markdown",
   "metadata": {},
   "source": [
    "### Analysis of manual error sampling"
   ]
  },
  {
   "cell_type": "code",
   "execution_count": 262,
   "metadata": {
    "collapsed": false
   },
   "outputs": [],
   "source": [
    "loc = os.path.abspath(os.path.join(\"..\", \"data\", \"final_eval\",\n",
    "    \"analysis\", \"crowd_testset_perfect_ner_errors.xlsx\"))\n",
    "\n",
    "error_res = pd.read_excel(loc)\n",
    "\n",
    "# drop the crowdflower link column\n",
    "error_res = error_res.drop(\"cf_link\", axis = 1)\n",
    "\n",
    "error_res = error_res.drop_duplicates()"
   ]
  },
  {
   "cell_type": "code",
   "execution_count": 260,
   "metadata": {
    "collapsed": true
   },
   "outputs": [],
   "source": [
    "temp = pd.merge(error_res, total[TRIPLE + [\"chemical_name\", \"disease_name\", \"form_text\"]],\n",
    "                how = \"left\", on = TRIPLE)"
   ]
  },
  {
   "cell_type": "code",
   "execution_count": 261,
   "metadata": {
    "collapsed": true
   },
   "outputs": [],
   "source": [
    "temp.to_excel(\"testset_crowd_perfect_ner_errors_final.xlsx\", index = False)"
   ]
  },
  {
   "cell_type": "code",
   "execution_count": null,
   "metadata": {
    "collapsed": true
   },
   "outputs": [],
   "source": []
  },
  {
   "cell_type": "code",
   "execution_count": 263,
   "metadata": {
    "collapsed": false
   },
   "outputs": [
    {
     "data": {
      "text/plain": [
       "(60, 18)"
      ]
     },
     "execution_count": 263,
     "metadata": {},
     "output_type": "execute_result"
    }
   ],
   "source": [
    "error_res.shape"
   ]
  },
  {
   "cell_type": "code",
   "execution_count": 100,
   "metadata": {
    "collapsed": false
   },
   "outputs": [
    {
     "data": {
      "text/html": [
       "<div>\n",
       "<table border=\"1\" class=\"dataframe\">\n",
       "  <thead>\n",
       "    <tr style=\"text-align: right;\">\n",
       "      <th></th>\n",
       "      <th>pmid</th>\n",
       "      <th>chemical_id</th>\n",
       "      <th>disease_id</th>\n",
       "      <th>rel_origin</th>\n",
       "      <th>num_votes</th>\n",
       "      <th>pubmed_link</th>\n",
       "      <th>error_type</th>\n",
       "      <th>toby_gold_error</th>\n",
       "      <th>ben_gold_error</th>\n",
       "      <th>andrew_gold_error</th>\n",
       "      <th>final_gold_error</th>\n",
       "      <th>changed</th>\n",
       "      <th>crowd_wrong</th>\n",
       "      <th>task_limitation</th>\n",
       "      <th>error_reason</th>\n",
       "      <th>ben_comments</th>\n",
       "      <th>andrew_comments</th>\n",
       "      <th>toby_comments</th>\n",
       "    </tr>\n",
       "  </thead>\n",
       "  <tbody>\n",
       "    <tr>\n",
       "      <th>0</th>\n",
       "      <td>448423</td>\n",
       "      <td>MESH:D000614</td>\n",
       "      <td>MESH:D013345</td>\n",
       "      <td>sent</td>\n",
       "      <td>4</td>\n",
       "      <td>http://ncbi.nlm.nih.gov/pubmed/?term=448423</td>\n",
       "      <td>FP</td>\n",
       "      <td>0</td>\n",
       "      <td>NaN</td>\n",
       "      <td>NaN</td>\n",
       "      <td>0</td>\n",
       "      <td>0</td>\n",
       "      <td>0</td>\n",
       "      <td>1</td>\n",
       "      <td>lack_of_context</td>\n",
       "      <td>NaN</td>\n",
       "      <td>NaN</td>\n",
       "      <td>Aminocaproic acid and epsilon aminocaproic acid are...</td>\n",
       "    </tr>\n",
       "    <tr>\n",
       "      <th>1</th>\n",
       "      <td>1735570</td>\n",
       "      <td>MESH:D014294</td>\n",
       "      <td>MESH:D001919</td>\n",
       "      <td>sent</td>\n",
       "      <td>4</td>\n",
       "      <td>http://ncbi.nlm.nih.gov/pubmed/?term=1735570</td>\n",
       "      <td>FP</td>\n",
       "      <td>1</td>\n",
       "      <td>0</td>\n",
       "      <td>0</td>\n",
       "      <td>0</td>\n",
       "      <td>1</td>\n",
       "      <td>1</td>\n",
       "      <td>0</td>\n",
       "      <td>lack_of_comprehension</td>\n",
       "      <td>drug caused opposite 'disease' in two groups descri...</td>\n",
       "      <td>NaN</td>\n",
       "      <td>Trimethaphan caused different results depending on ...</td>\n",
       "    </tr>\n",
       "  </tbody>\n",
       "</table>\n",
       "</div>"
      ],
      "text/plain": [
       "      pmid   chemical_id    disease_id rel_origin  num_votes  \\\n",
       "0   448423  MESH:D000614  MESH:D013345       sent          4   \n",
       "1  1735570  MESH:D014294  MESH:D001919       sent          4   \n",
       "\n",
       "                                    pubmed_link error_type  toby_gold_error  \\\n",
       "0   http://ncbi.nlm.nih.gov/pubmed/?term=448423         FP                0   \n",
       "1  http://ncbi.nlm.nih.gov/pubmed/?term=1735570         FP                1   \n",
       "\n",
       "   ben_gold_error  andrew_gold_error  final_gold_error  changed  crowd_wrong  \\\n",
       "0             NaN                NaN                 0        0            0   \n",
       "1               0                  0                 0        1            1   \n",
       "\n",
       "   task_limitation           error_reason  \\\n",
       "0                1        lack_of_context   \n",
       "1                0  lack_of_comprehension   \n",
       "\n",
       "                                             ben_comments andrew_comments  \\\n",
       "0                                                     NaN             NaN   \n",
       "1  drug caused opposite 'disease' in two groups descri...             NaN   \n",
       "\n",
       "                                            toby_comments  \n",
       "0  Aminocaproic acid and epsilon aminocaproic acid are...  \n",
       "1  Trimethaphan caused different results depending on ...  "
      ]
     },
     "execution_count": 100,
     "metadata": {},
     "output_type": "execute_result"
    }
   ],
   "source": [
    "error_res.head(2)"
   ]
  },
  {
   "cell_type": "code",
   "execution_count": 101,
   "metadata": {
    "collapsed": false,
    "scrolled": true
   },
   "outputs": [
    {
     "name": "stdout",
     "output_type": "stream",
     "text": [
      "abs 30\n",
      "FN 15\n",
      "\n",
      "final_gold_error 3\n",
      "\n",
      "false_relation    3\n",
      "dtype: int64\n",
      ".....\n",
      "crowd_wrong 10\n",
      "\n",
      "lack_of_comprehension    10\n",
      "dtype: int64\n",
      ".....\n",
      "task_limitation 2\n",
      "\n",
      "not_covered_by_instructions    2\n",
      "dtype: int64\n",
      ".....\n",
      "\n",
      "\n",
      "FP 15\n",
      "\n",
      "final_gold_error 4\n",
      "\n",
      "missing_relation    4\n",
      "dtype: int64\n",
      ".....\n",
      "crowd_wrong 11\n",
      "\n",
      "lack_of_comprehension    11\n",
      "dtype: int64\n",
      ".....\n",
      "task_limitation 0\n",
      "\n",
      "Series([], dtype: int64)\n",
      ".....\n",
      "\n",
      "\n",
      "----------------\n",
      "sent 30\n",
      "FN 15\n",
      "\n",
      "final_gold_error 2\n",
      "\n",
      "false_relation    2\n",
      "dtype: int64\n",
      ".....\n",
      "crowd_wrong 4\n",
      "\n",
      "lack_of_comprehension    4\n",
      "dtype: int64\n",
      ".....\n",
      "task_limitation 9\n",
      "\n",
      "lack_of_context                8\n",
      "not_covered_by_instructions    1\n",
      "dtype: int64\n",
      ".....\n",
      "\n",
      "\n",
      "FP 15\n",
      "\n",
      "final_gold_error 5\n",
      "\n",
      "missing_relation    5\n",
      "dtype: int64\n",
      ".....\n",
      "crowd_wrong 7\n",
      "\n",
      "lack_of_comprehension    7\n",
      "dtype: int64\n",
      ".....\n",
      "task_limitation 3\n",
      "\n",
      "hierarchy_error    2\n",
      "lack_of_context    1\n",
      "dtype: int64\n",
      ".....\n",
      "\n",
      "\n",
      "----------------\n"
     ]
    }
   ],
   "source": [
    "for val, group in error_res.groupby(\"rel_origin\"):\n",
    "    print(val, len(group))\n",
    "    \n",
    "    for etype, sub in group.groupby(\"error_type\"):\n",
    "        print(etype, len(sub))\n",
    "        print()       \n",
    "    \n",
    "        for col in [\"final_gold_error\", \"crowd_wrong\", \"task_limitation\"]:\n",
    "            temp = sub.query(\"{} == 1\".format(col))\n",
    "            print(col, len(temp))\n",
    "            print()\n",
    "            \n",
    "            print(temp[\"error_reason\"].value_counts())\n",
    "            print(\".....\")\n",
    "            \n",
    "        print(\"\\n\")\n",
    "    \n",
    "    print(\"----------------\")"
   ]
  },
  {
   "cell_type": "code",
   "execution_count": 264,
   "metadata": {
    "collapsed": false
   },
   "outputs": [
    {
     "data": {
      "text/plain": [
       "(28, 18)"
      ]
     },
     "execution_count": 264,
     "metadata": {},
     "output_type": "execute_result"
    }
   ],
   "source": [
    "error_res.query(\"final_gold_error == 1 or task_limitation == 1\").shape"
   ]
  },
  {
   "cell_type": "code",
   "execution_count": 265,
   "metadata": {
    "collapsed": false
   },
   "outputs": [
    {
     "data": {
      "text/plain": [
       "0.4666666666666667"
      ]
     },
     "execution_count": 265,
     "metadata": {},
     "output_type": "execute_result"
    }
   ],
   "source": [
    "28/60"
   ]
  },
  {
   "cell_type": "code",
   "execution_count": null,
   "metadata": {
    "collapsed": true
   },
   "outputs": [],
   "source": []
  },
  {
   "cell_type": "code",
   "execution_count": null,
   "metadata": {
    "collapsed": true
   },
   "outputs": [],
   "source": []
  },
  {
   "cell_type": "code",
   "execution_count": 102,
   "metadata": {
    "collapsed": false
   },
   "outputs": [
    {
     "data": {
      "text/plain": [
       "0.2598499061913696"
      ]
     },
     "execution_count": 102,
     "metadata": {},
     "output_type": "execute_result"
    }
   ],
   "source": [
    "277/1066"
   ]
  },
  {
   "cell_type": "code",
   "execution_count": 103,
   "metadata": {
    "collapsed": false
   },
   "outputs": [
    {
     "data": {
      "text/plain": [
       "abs     0.65625\n",
       "sent    0.34375\n",
       "dtype: float64"
      ]
     },
     "execution_count": 103,
     "metadata": {},
     "output_type": "execute_result"
    }
   ],
   "source": [
    "error_res.query(\"crowd_wrong == 1\")[\"rel_origin\"].value_counts(normalize = True)"
   ]
  },
  {
   "cell_type": "code",
   "execution_count": 104,
   "metadata": {
    "collapsed": false
   },
   "outputs": [
    {
     "data": {
      "text/plain": [
       "abs     0.5\n",
       "sent    0.5\n",
       "dtype: float64"
      ]
     },
     "execution_count": 104,
     "metadata": {},
     "output_type": "execute_result"
    }
   ],
   "source": [
    "error_res.query(\"final_gold_error == 1\")[\"rel_origin\"].value_counts(normalize = True)"
   ]
  },
  {
   "cell_type": "code",
   "execution_count": 105,
   "metadata": {
    "collapsed": false
   },
   "outputs": [
    {
     "data": {
      "text/plain": [
       "missing_relation    9\n",
       "false_relation      5\n",
       "dtype: int64"
      ]
     },
     "execution_count": 105,
     "metadata": {},
     "output_type": "execute_result"
    }
   ],
   "source": [
    "error_res.query(\"final_gold_error == 1\")[\"error_reason\"].value_counts()"
   ]
  },
  {
   "cell_type": "code",
   "execution_count": 106,
   "metadata": {
    "collapsed": false
   },
   "outputs": [
    {
     "data": {
      "text/plain": [
       "missing_relation    0.642857\n",
       "false_relation      0.357143\n",
       "dtype: float64"
      ]
     },
     "execution_count": 106,
     "metadata": {},
     "output_type": "execute_result"
    }
   ],
   "source": [
    "error_res.query(\"final_gold_error == 1\")[\"error_reason\"].value_counts(normalize = True)"
   ]
  },
  {
   "cell_type": "code",
   "execution_count": 107,
   "metadata": {
    "collapsed": false
   },
   "outputs": [
    {
     "data": {
      "text/plain": [
       "Index(['pmid', 'chemical_id', 'disease_id', 'rel_origin', 'num_votes',\n",
       "       'pubmed_link', 'error_type', 'toby_gold_error', 'ben_gold_error',\n",
       "       'andrew_gold_error', 'final_gold_error', 'changed', 'crowd_wrong',\n",
       "       'task_limitation', 'error_reason', 'ben_comments', 'andrew_comments',\n",
       "       'toby_comments'],\n",
       "      dtype='object')"
      ]
     },
     "execution_count": 107,
     "metadata": {},
     "output_type": "execute_result"
    }
   ],
   "source": [
    "error_res.columns"
   ]
  },
  {
   "cell_type": "code",
   "execution_count": 108,
   "metadata": {
    "collapsed": false
   },
   "outputs": [
    {
     "data": {
      "text/plain": [
       "lack_of_context                0.642857\n",
       "not_covered_by_instructions    0.214286\n",
       "hierarchy_error                0.142857\n",
       "dtype: float64"
      ]
     },
     "execution_count": 108,
     "metadata": {},
     "output_type": "execute_result"
    }
   ],
   "source": [
    "error_res.query(\"task_limitation == 1\")[\"error_reason\"].value_counts(normalize = True)"
   ]
  },
  {
   "cell_type": "code",
   "execution_count": 109,
   "metadata": {
    "collapsed": false
   },
   "outputs": [
    {
     "data": {
      "text/plain": [
       "lack_of_context                9\n",
       "not_covered_by_instructions    3\n",
       "hierarchy_error                2\n",
       "dtype: int64"
      ]
     },
     "execution_count": 109,
     "metadata": {},
     "output_type": "execute_result"
    }
   ],
   "source": [
    "error_res.query(\"task_limitation == 1\")[\"error_reason\"].value_counts()"
   ]
  },
  {
   "cell_type": "code",
   "execution_count": 110,
   "metadata": {
    "collapsed": false
   },
   "outputs": [
    {
     "data": {
      "text/plain": [
       "0.23333333333333334"
      ]
     },
     "execution_count": 110,
     "metadata": {},
     "output_type": "execute_result"
    }
   ],
   "source": [
    "14/60"
   ]
  },
  {
   "cell_type": "code",
   "execution_count": 111,
   "metadata": {
    "collapsed": false
   },
   "outputs": [
    {
     "data": {
      "text/plain": [
       "0.5333333333333333"
      ]
     },
     "execution_count": 111,
     "metadata": {},
     "output_type": "execute_result"
    }
   ],
   "source": [
    "32/60"
   ]
  },
  {
   "cell_type": "code",
   "execution_count": 112,
   "metadata": {
    "collapsed": false
   },
   "outputs": [
    {
     "data": {
      "text/plain": [
       "0    46\n",
       "1    14\n",
       "dtype: int64"
      ]
     },
     "execution_count": 112,
     "metadata": {},
     "output_type": "execute_result"
    }
   ],
   "source": [
    "error_res[\"final_gold_error\"].value_counts()"
   ]
  },
  {
   "cell_type": "code",
   "execution_count": 113,
   "metadata": {
    "collapsed": false
   },
   "outputs": [
    {
     "data": {
      "text/plain": [
       "1    32\n",
       "0    28\n",
       "dtype: int64"
      ]
     },
     "execution_count": 113,
     "metadata": {},
     "output_type": "execute_result"
    }
   ],
   "source": [
    "error_res[\"crowd_wrong\"].value_counts()"
   ]
  },
  {
   "cell_type": "code",
   "execution_count": 114,
   "metadata": {
    "collapsed": false
   },
   "outputs": [
    {
     "data": {
      "text/plain": [
       "0    46\n",
       "1    14\n",
       "dtype: int64"
      ]
     },
     "execution_count": 114,
     "metadata": {},
     "output_type": "execute_result"
    }
   ],
   "source": [
    "error_res[\"task_limitation\"].value_counts()"
   ]
  },
  {
   "cell_type": "code",
   "execution_count": 115,
   "metadata": {
    "collapsed": false
   },
   "outputs": [
    {
     "data": {
      "text/plain": [
       "lack_of_comprehension          32\n",
       "lack_of_context                 9\n",
       "missing_relation                9\n",
       "false_relation                  5\n",
       "not_covered_by_instructions     3\n",
       "hierarchy_error                 2\n",
       "dtype: int64"
      ]
     },
     "execution_count": 115,
     "metadata": {},
     "output_type": "execute_result"
    }
   ],
   "source": [
    "error_res[\"error_reason\"].value_counts()"
   ]
  },
  {
   "cell_type": "markdown",
   "metadata": {},
   "source": [
    "### String used to build sankey diagram\n",
    "\n",
    "Used sankeymatic.com\n",
    "\n",
    "600 px by 800 px\n",
    "60 px between nodes\n",
    "\n",
    "Abs [15] FP\n",
    "Abs [15] FN\n",
    "\n",
    "FN [3] gold_error\n",
    "FN [10] crowd_wrong\n",
    "FN [2] task_limitation\n",
    "\n",
    "gold_error [3] false_relation\n",
    "\n",
    "task_limitation [2] instructions\n",
    "\n",
    "FP [4] gold_error\n",
    "FP [11] crowd_wrong\n",
    "\n",
    "gold_error [4] missing_rel\n",
    "crowd_wrong [21] comprehension\n",
    "\n",
    "\n",
    "---------------------------------\n",
    "\n",
    "600 px by 700 px\n",
    "40 px between nodes\n",
    "\n",
    "sent [15] FP\n",
    "sent [15] FN\n",
    "\n",
    "FN [2] gold_error\n",
    "FN [4] crowd_wrong\n",
    "FN [9] task_limitation\n",
    "\n",
    "FP [5] gold_error\n",
    "FP [7] crowd_wrong\n",
    "FP [3] task_limitation\n",
    "\n",
    "gold_error [2] false_relation\n",
    "gold_error [5] missing_rel\n",
    "\n",
    "crowd_wrong [11] comprehension\n",
    "\n",
    "task_limitation [2] hierarchy\n",
    "task_limitation [9] lack_context\n",
    "task_limitation [1] instructions\n"
   ]
  },
  {
   "cell_type": "markdown",
   "metadata": {},
   "source": [
    "---"
   ]
  },
  {
   "cell_type": "markdown",
   "metadata": {},
   "source": [
    "## Sampling of post-NER four way venn diagram"
   ]
  },
  {
   "cell_type": "markdown",
   "metadata": {},
   "source": [
    "### Crowd agree with gold, but no machines got the predictions"
   ]
  },
  {
   "cell_type": "code",
   "execution_count": 245,
   "metadata": {
    "collapsed": false
   },
   "outputs": [],
   "source": [
    "loc = os.path.abspath(os.path.join(\"..\", \"data\", \"final_eval\",\n",
    "    \"analysis\", \"testset_crowd_gold_no_machines_with_ner_filter.xlsx\"))\n",
    "\n",
    "error_res = pd.read_excel(loc)\n",
    "\n",
    "# drop the crowdflower link column\n",
    "error_res = error_res.drop(\"cf_link\", axis = 1)\n",
    "\n",
    "error_res = error_res.drop_duplicates()"
   ]
  },
  {
   "cell_type": "code",
   "execution_count": 246,
   "metadata": {
    "collapsed": false
   },
   "outputs": [
    {
     "data": {
      "text/html": [
       "<div>\n",
       "<table border=\"1\" class=\"dataframe\">\n",
       "  <thead>\n",
       "    <tr style=\"text-align: right;\">\n",
       "      <th></th>\n",
       "      <th>pmid</th>\n",
       "      <th>chemical_id</th>\n",
       "      <th>disease_id</th>\n",
       "      <th>in_gold</th>\n",
       "      <th>in_crowd</th>\n",
       "      <th>in_befree</th>\n",
       "      <th>in_texas</th>\n",
       "      <th>num_votes</th>\n",
       "      <th>pubmed_link</th>\n",
       "      <th>rel_origin</th>\n",
       "      <th>conjugation</th>\n",
       "      <th>explicit_claim</th>\n",
       "      <th>temporal_gap</th>\n",
       "      <th>key_words</th>\n",
       "      <th>discussion</th>\n",
       "    </tr>\n",
       "  </thead>\n",
       "  <tbody>\n",
       "    <tr>\n",
       "      <th>0</th>\n",
       "      <td>1289188</td>\n",
       "      <td>MESH:D003676</td>\n",
       "      <td>MESH:D051437</td>\n",
       "      <td>1</td>\n",
       "      <td>1</td>\n",
       "      <td>0</td>\n",
       "      <td>0</td>\n",
       "      <td>5</td>\n",
       "      <td>http://ncbi.nlm.nih.gov/pubmed/?term=1289188</td>\n",
       "      <td>abstract_task</td>\n",
       "      <td>0</td>\n",
       "      <td>1</td>\n",
       "      <td>0</td>\n",
       "      <td>toxic|caused</td>\n",
       "      <td>Relation is pretty clear, not sure why ML missed th...</td>\n",
       "    </tr>\n",
       "    <tr>\n",
       "      <th>1</th>\n",
       "      <td>1449452</td>\n",
       "      <td>MESH:D004077</td>\n",
       "      <td>MESH:D001145</td>\n",
       "      <td>1</td>\n",
       "      <td>1</td>\n",
       "      <td>0</td>\n",
       "      <td>0</td>\n",
       "      <td>5</td>\n",
       "      <td>http://ncbi.nlm.nih.gov/pubmed/?term=1449452</td>\n",
       "      <td>sentence_task</td>\n",
       "      <td>1</td>\n",
       "      <td>1</td>\n",
       "      <td>0</td>\n",
       "      <td>undesirable effects|such as|causing</td>\n",
       "      <td>Simple sentence relation using causing.</td>\n",
       "    </tr>\n",
       "  </tbody>\n",
       "</table>\n",
       "</div>"
      ],
      "text/plain": [
       "      pmid   chemical_id    disease_id  in_gold  in_crowd  in_befree  \\\n",
       "0  1289188  MESH:D003676  MESH:D051437        1         1          0   \n",
       "1  1449452  MESH:D004077  MESH:D001145        1         1          0   \n",
       "\n",
       "   in_texas  num_votes                                   pubmed_link  \\\n",
       "0         0          5  http://ncbi.nlm.nih.gov/pubmed/?term=1289188   \n",
       "1         0          5  http://ncbi.nlm.nih.gov/pubmed/?term=1449452   \n",
       "\n",
       "      rel_origin  conjugation  explicit_claim  temporal_gap  \\\n",
       "0  abstract_task            0               1             0   \n",
       "1  sentence_task            1               1             0   \n",
       "\n",
       "                             key_words  \\\n",
       "0                         toxic|caused   \n",
       "1  undesirable effects|such as|causing   \n",
       "\n",
       "                                               discussion  \n",
       "0  Relation is pretty clear, not sure why ML missed th...  \n",
       "1                 Simple sentence relation using causing.  "
      ]
     },
     "execution_count": 246,
     "metadata": {},
     "output_type": "execute_result"
    }
   ],
   "source": [
    "error_res.head(2)"
   ]
  },
  {
   "cell_type": "code",
   "execution_count": 247,
   "metadata": {
    "collapsed": false
   },
   "outputs": [
    {
     "data": {
      "text/html": [
       "<div>\n",
       "<table border=\"1\" class=\"dataframe\">\n",
       "  <thead>\n",
       "    <tr style=\"text-align: right;\">\n",
       "      <th></th>\n",
       "      <th>pmid</th>\n",
       "      <th>chemical_id</th>\n",
       "      <th>disease_id</th>\n",
       "      <th>in_gold</th>\n",
       "      <th>in_crowd</th>\n",
       "      <th>in_texas</th>\n",
       "      <th>in_befree</th>\n",
       "      <th>num_votes</th>\n",
       "      <th>rel_origin</th>\n",
       "      <th>chemical_name</th>\n",
       "      <th>disease_name</th>\n",
       "      <th>form_text</th>\n",
       "      <th>perfect_ner_crowd_only</th>\n",
       "      <th>perfect_ner_all_three_methods</th>\n",
       "    </tr>\n",
       "  </thead>\n",
       "  <tbody>\n",
       "    <tr>\n",
       "      <th>0</th>\n",
       "      <td>11105626</td>\n",
       "      <td>MESH:D015474</td>\n",
       "      <td>MESH:D000013</td>\n",
       "      <td>0</td>\n",
       "      <td>1</td>\n",
       "      <td>0</td>\n",
       "      <td>0</td>\n",
       "      <td>5</td>\n",
       "      <td>sentence_task</td>\n",
       "      <td>isotretinoin</td>\n",
       "      <td>multiple congenital anomalies</td>\n",
       "      <td>We report a newborn infant with &lt;span class=\"diseas...</td>\n",
       "      <td>0</td>\n",
       "      <td>0</td>\n",
       "    </tr>\n",
       "    <tr>\n",
       "      <th>1</th>\n",
       "      <td>18987260</td>\n",
       "      <td>MESH:D019808</td>\n",
       "      <td>MESH:D005355</td>\n",
       "      <td>0</td>\n",
       "      <td>0</td>\n",
       "      <td>0</td>\n",
       "      <td>0</td>\n",
       "      <td>1</td>\n",
       "      <td>sentence_task</td>\n",
       "      <td>losartan</td>\n",
       "      <td>fibrosis</td>\n",
       "      <td>Prolonged treatment with &lt;span class=\"chemical\"&gt;los...</td>\n",
       "      <td>0</td>\n",
       "      <td>0</td>\n",
       "    </tr>\n",
       "  </tbody>\n",
       "</table>\n",
       "</div>"
      ],
      "text/plain": [
       "       pmid   chemical_id    disease_id  in_gold  in_crowd  in_texas  \\\n",
       "0  11105626  MESH:D015474  MESH:D000013        0         1         0   \n",
       "1  18987260  MESH:D019808  MESH:D005355        0         0         0   \n",
       "\n",
       "   in_befree  num_votes     rel_origin chemical_name  \\\n",
       "0          0          5  sentence_task  isotretinoin   \n",
       "1          0          1  sentence_task      losartan   \n",
       "\n",
       "                    disease_name  \\\n",
       "0  multiple congenital anomalies   \n",
       "1                       fibrosis   \n",
       "\n",
       "                                                form_text  \\\n",
       "0  We report a newborn infant with <span class=\"diseas...   \n",
       "1  Prolonged treatment with <span class=\"chemical\">los...   \n",
       "\n",
       "   perfect_ner_crowd_only  perfect_ner_all_three_methods  \n",
       "0                       0                              0  \n",
       "1                       0                              0  "
      ]
     },
     "execution_count": 247,
     "metadata": {},
     "output_type": "execute_result"
    }
   ],
   "source": [
    "total.head(2)"
   ]
  },
  {
   "cell_type": "code",
   "execution_count": 248,
   "metadata": {
    "collapsed": true
   },
   "outputs": [],
   "source": [
    "temp = pd.merge(error_res, total[TRIPLE + [\"chemical_name\", \"disease_name\", \"form_text\"]],\n",
    "                how = \"left\", on = TRIPLE)"
   ]
  },
  {
   "cell_type": "code",
   "execution_count": 250,
   "metadata": {
    "collapsed": true
   },
   "outputs": [],
   "source": [
    "temp.to_excel(\"testset_crowd_gold_no_machines_with_ner_filter_final.xlsx\", index = False)"
   ]
  },
  {
   "cell_type": "code",
   "execution_count": null,
   "metadata": {
    "collapsed": true
   },
   "outputs": [],
   "source": []
  },
  {
   "cell_type": "code",
   "execution_count": null,
   "metadata": {
    "collapsed": true
   },
   "outputs": [],
   "source": []
  },
  {
   "cell_type": "code",
   "execution_count": null,
   "metadata": {
    "collapsed": true
   },
   "outputs": [],
   "source": []
  },
  {
   "cell_type": "code",
   "execution_count": 118,
   "metadata": {
    "collapsed": false
   },
   "outputs": [
    {
     "data": {
      "text/plain": [
       "(36, 15)"
      ]
     },
     "execution_count": 118,
     "metadata": {},
     "output_type": "execute_result"
    }
   ],
   "source": [
    "error_res.shape"
   ]
  },
  {
   "cell_type": "code",
   "execution_count": 119,
   "metadata": {
    "collapsed": false
   },
   "outputs": [
    {
     "data": {
      "text/plain": [
       "1    0.777778\n",
       "0    0.222222\n",
       "dtype: float64"
      ]
     },
     "execution_count": 119,
     "metadata": {},
     "output_type": "execute_result"
    }
   ],
   "source": [
    "error_res[\"conjugation\"].value_counts(normalize = True)"
   ]
  },
  {
   "cell_type": "code",
   "execution_count": 120,
   "metadata": {
    "collapsed": false
   },
   "outputs": [
    {
     "data": {
      "text/plain": [
       "abstract_task    0.611111\n",
       "sentence_task    0.333333\n",
       "cid_relation     0.055556\n",
       "dtype: float64"
      ]
     },
     "execution_count": 120,
     "metadata": {},
     "output_type": "execute_result"
    }
   ],
   "source": [
    "error_res[\"rel_origin\"].value_counts(normalize = True)"
   ]
  },
  {
   "cell_type": "markdown",
   "metadata": {},
   "source": [
    "### Machine agree with gold, but crowd didn't get the relations"
   ]
  },
  {
   "cell_type": "code",
   "execution_count": 251,
   "metadata": {
    "collapsed": true
   },
   "outputs": [],
   "source": [
    "loc = os.path.abspath(os.path.join(\"..\", \"data\", \"final_eval\",\n",
    "    \"analysis\", \"testset_machine_gold_no_crowd_with_ner_filter.xlsx\"))\n",
    "\n",
    "error_res = pd.read_excel(loc)\n",
    "\n",
    "# drop the crowdflower link column\n",
    "error_res = error_res.drop(\"cf_link\", axis = 1)\n",
    "\n",
    "error_res = error_res.drop_duplicates()\n",
    "\n",
    "# cols = [\"crowd_wrong\", \"task_limitation\", \"gold_rel_error\"]\n",
    "# error_res.loc[:, cols] = error_res.loc[:, cols].astype(int)"
   ]
  },
  {
   "cell_type": "code",
   "execution_count": 252,
   "metadata": {
    "collapsed": false
   },
   "outputs": [
    {
     "data": {
      "text/html": [
       "<div>\n",
       "<table border=\"1\" class=\"dataframe\">\n",
       "  <thead>\n",
       "    <tr style=\"text-align: right;\">\n",
       "      <th></th>\n",
       "      <th>pmid</th>\n",
       "      <th>chemical_id</th>\n",
       "      <th>disease_id</th>\n",
       "      <th>in_gold</th>\n",
       "      <th>in_crowd</th>\n",
       "      <th>in_befree</th>\n",
       "      <th>in_texas</th>\n",
       "      <th>num_votes</th>\n",
       "      <th>pubmed_link</th>\n",
       "      <th>rel_origin</th>\n",
       "      <th>andrew_final_decision</th>\n",
       "      <th>ben_crowd_wrong</th>\n",
       "      <th>ben_task_limitation</th>\n",
       "      <th>ben_gold_error</th>\n",
       "      <th>ben_reason</th>\n",
       "      <th>toby_crowd_wrong</th>\n",
       "      <th>toby_task_limitation</th>\n",
       "      <th>toby_gold_error</th>\n",
       "      <th>error_reason</th>\n",
       "      <th>discussion</th>\n",
       "    </tr>\n",
       "  </thead>\n",
       "  <tbody>\n",
       "    <tr>\n",
       "      <th>0</th>\n",
       "      <td>256433</td>\n",
       "      <td>MESH:D014031</td>\n",
       "      <td>MESH:D053099</td>\n",
       "      <td>1</td>\n",
       "      <td>0</td>\n",
       "      <td>1</td>\n",
       "      <td>1</td>\n",
       "      <td>0</td>\n",
       "      <td>http://ncbi.nlm.nih.gov/pubmed/?term=256433</td>\n",
       "      <td>sentence_task</td>\n",
       "      <td>NaN</td>\n",
       "      <td>0</td>\n",
       "      <td>1</td>\n",
       "      <td>0</td>\n",
       "      <td>NaN</td>\n",
       "      <td>0</td>\n",
       "      <td>1</td>\n",
       "      <td>0</td>\n",
       "      <td>lack_of_context</td>\n",
       "      <td>Sentence taken out of context. Needed to see previo...</td>\n",
       "    </tr>\n",
       "    <tr>\n",
       "      <th>1</th>\n",
       "      <td>1451544</td>\n",
       "      <td>MESH:D017275</td>\n",
       "      <td>MESH:D006261</td>\n",
       "      <td>1</td>\n",
       "      <td>0</td>\n",
       "      <td>1</td>\n",
       "      <td>1</td>\n",
       "      <td>3</td>\n",
       "      <td>http://ncbi.nlm.nih.gov/pubmed/?term=1451544</td>\n",
       "      <td>sentence_task</td>\n",
       "      <td>NaN</td>\n",
       "      <td>0</td>\n",
       "      <td>1</td>\n",
       "      <td>0</td>\n",
       "      <td>NaN</td>\n",
       "      <td>0</td>\n",
       "      <td>1</td>\n",
       "      <td>0</td>\n",
       "      <td>lack_of_context</td>\n",
       "      <td>Sentence shown to crowd does not state what was the...</td>\n",
       "    </tr>\n",
       "  </tbody>\n",
       "</table>\n",
       "</div>"
      ],
      "text/plain": [
       "      pmid   chemical_id    disease_id  in_gold  in_crowd  in_befree  \\\n",
       "0   256433  MESH:D014031  MESH:D053099        1         0          1   \n",
       "1  1451544  MESH:D017275  MESH:D006261        1         0          1   \n",
       "\n",
       "   in_texas  num_votes                                   pubmed_link  \\\n",
       "0         1          0   http://ncbi.nlm.nih.gov/pubmed/?term=256433   \n",
       "1         1          3  http://ncbi.nlm.nih.gov/pubmed/?term=1451544   \n",
       "\n",
       "      rel_origin andrew_final_decision  ben_crowd_wrong  ben_task_limitation  \\\n",
       "0  sentence_task                   NaN                0                    1   \n",
       "1  sentence_task                   NaN                0                    1   \n",
       "\n",
       "   ben_gold_error ben_reason  toby_crowd_wrong  toby_task_limitation  \\\n",
       "0               0        NaN                 0                     1   \n",
       "1               0        NaN                 0                     1   \n",
       "\n",
       "   toby_gold_error     error_reason  \\\n",
       "0                0  lack_of_context   \n",
       "1                0  lack_of_context   \n",
       "\n",
       "                                               discussion  \n",
       "0  Sentence taken out of context. Needed to see previo...  \n",
       "1  Sentence shown to crowd does not state what was the...  "
      ]
     },
     "execution_count": 252,
     "metadata": {},
     "output_type": "execute_result"
    }
   ],
   "source": [
    "error_res.head(2)"
   ]
  },
  {
   "cell_type": "code",
   "execution_count": 253,
   "metadata": {
    "collapsed": true
   },
   "outputs": [],
   "source": [
    "temp = pd.merge(error_res, total[TRIPLE + [\"chemical_name\", \"disease_name\", \"form_text\"]],\n",
    "                how = \"left\", on = TRIPLE)"
   ]
  },
  {
   "cell_type": "code",
   "execution_count": 254,
   "metadata": {
    "collapsed": true
   },
   "outputs": [],
   "source": [
    "temp.to_excel(\"testset_machine_gold_no_crowd_with_ner_filter_final.xlsx\", index = False)"
   ]
  },
  {
   "cell_type": "code",
   "execution_count": null,
   "metadata": {
    "collapsed": true
   },
   "outputs": [],
   "source": []
  },
  {
   "cell_type": "code",
   "execution_count": null,
   "metadata": {
    "collapsed": true
   },
   "outputs": [],
   "source": []
  },
  {
   "cell_type": "code",
   "execution_count": 123,
   "metadata": {
    "collapsed": false
   },
   "outputs": [
    {
     "data": {
      "text/plain": [
       "(16, 20)"
      ]
     },
     "execution_count": 123,
     "metadata": {},
     "output_type": "execute_result"
    }
   ],
   "source": [
    "error_res.shape"
   ]
  },
  {
   "cell_type": "code",
   "execution_count": 124,
   "metadata": {
    "collapsed": false,
    "scrolled": true
   },
   "outputs": [
    {
     "data": {
      "text/plain": [
       "1    0.5625\n",
       "0    0.4375\n",
       "dtype: float64"
      ]
     },
     "execution_count": 124,
     "metadata": {},
     "output_type": "execute_result"
    }
   ],
   "source": [
    "error_res[\"ben_crowd_wrong\"].value_counts(normalize = True)"
   ]
  },
  {
   "cell_type": "code",
   "execution_count": 125,
   "metadata": {
    "collapsed": false
   },
   "outputs": [
    {
     "data": {
      "text/plain": [
       "0    13\n",
       "1     3\n",
       "dtype: int64"
      ]
     },
     "execution_count": 125,
     "metadata": {},
     "output_type": "execute_result"
    }
   ],
   "source": [
    "error_res[\"ben_task_limitation\"].value_counts()"
   ]
  },
  {
   "cell_type": "code",
   "execution_count": 126,
   "metadata": {
    "collapsed": false
   },
   "outputs": [
    {
     "data": {
      "text/plain": [
       "0    12\n",
       "1     4\n",
       "dtype: int64"
      ]
     },
     "execution_count": 126,
     "metadata": {},
     "output_type": "execute_result"
    }
   ],
   "source": [
    "error_res[\"ben_gold_error\"].value_counts()"
   ]
  },
  {
   "cell_type": "code",
   "execution_count": 127,
   "metadata": {
    "collapsed": false
   },
   "outputs": [
    {
     "data": {
      "text/plain": [
       "1    9\n",
       "0    7\n",
       "dtype: int64"
      ]
     },
     "execution_count": 127,
     "metadata": {},
     "output_type": "execute_result"
    }
   ],
   "source": [
    "error_res[\"toby_crowd_wrong\"].value_counts()"
   ]
  },
  {
   "cell_type": "code",
   "execution_count": 128,
   "metadata": {
    "collapsed": false
   },
   "outputs": [
    {
     "data": {
      "text/plain": [
       "0    0.8125\n",
       "1    0.1875\n",
       "dtype: float64"
      ]
     },
     "execution_count": 128,
     "metadata": {},
     "output_type": "execute_result"
    }
   ],
   "source": [
    "error_res[\"ben_task_limitation\"].value_counts(normalize = True)"
   ]
  },
  {
   "cell_type": "code",
   "execution_count": 129,
   "metadata": {
    "collapsed": false
   },
   "outputs": [
    {
     "data": {
      "text/plain": [
       "sentence_task    0.625\n",
       "abstract_task    0.375\n",
       "dtype: float64"
      ]
     },
     "execution_count": 129,
     "metadata": {},
     "output_type": "execute_result"
    }
   ],
   "source": [
    "error_res[\"rel_origin\"].value_counts(normalize = True)"
   ]
  },
  {
   "cell_type": "code",
   "execution_count": 130,
   "metadata": {
    "collapsed": false
   },
   "outputs": [
    {
     "data": {
      "text/plain": [
       "sentence_task    4\n",
       "dtype: int64"
      ]
     },
     "execution_count": 130,
     "metadata": {},
     "output_type": "execute_result"
    }
   ],
   "source": [
    "error_res.query(\"toby_task_limitation == 1\")[\"rel_origin\"].value_counts()"
   ]
  },
  {
   "cell_type": "code",
   "execution_count": 131,
   "metadata": {
    "collapsed": false
   },
   "outputs": [
    {
     "data": {
      "text/plain": [
       "2    5\n",
       "3    3\n",
       "1    1\n",
       "dtype: int64"
      ]
     },
     "execution_count": 131,
     "metadata": {},
     "output_type": "execute_result"
    }
   ],
   "source": [
    "error_res.query(\"toby_crowd_wrong == 1\")[\"num_votes\"].value_counts()"
   ]
  },
  {
   "cell_type": "markdown",
   "metadata": {},
   "source": [
    "### False positives agreed upon by all 3 methods"
   ]
  },
  {
   "cell_type": "code",
   "execution_count": 255,
   "metadata": {
    "collapsed": true
   },
   "outputs": [],
   "source": [
    "loc = os.path.abspath(os.path.join(\"..\", \"data\", \"final_eval\",\n",
    "    \"analysis\", \"testset_all_predictions_agree_false_positives.xlsx\"))\n",
    "\n",
    "error_res = pd.read_excel(loc)\n",
    "\n",
    "# drop the crowdflower link column\n",
    "error_res = error_res.drop(\"cf_link\", axis = 1)\n",
    "error_res = error_res.drop(\"ben_comments\", axis = 1)\n",
    "\n",
    "error_res = error_res.drop_duplicates()"
   ]
  },
  {
   "cell_type": "code",
   "execution_count": 256,
   "metadata": {
    "collapsed": false
   },
   "outputs": [
    {
     "data": {
      "text/html": [
       "<div>\n",
       "<table border=\"1\" class=\"dataframe\">\n",
       "  <thead>\n",
       "    <tr style=\"text-align: right;\">\n",
       "      <th></th>\n",
       "      <th>pmid</th>\n",
       "      <th>chemical_id</th>\n",
       "      <th>disease_id</th>\n",
       "      <th>in_gold</th>\n",
       "      <th>in_crowd</th>\n",
       "      <th>in_befree</th>\n",
       "      <th>in_texas</th>\n",
       "      <th>num_votes</th>\n",
       "      <th>pubmed_link</th>\n",
       "      <th>rel_origin</th>\n",
       "      <th>toby_gold_error</th>\n",
       "      <th>ben_gold_error</th>\n",
       "      <th>andrew_gold_error</th>\n",
       "      <th>final_gold_error</th>\n",
       "      <th>covered_by_guidelines</th>\n",
       "      <th>error_reason</th>\n",
       "      <th>discussion</th>\n",
       "    </tr>\n",
       "  </thead>\n",
       "  <tbody>\n",
       "    <tr>\n",
       "      <th>0</th>\n",
       "      <td>733189</td>\n",
       "      <td>MESH:D010406</td>\n",
       "      <td>MESH:D001766</td>\n",
       "      <td>0</td>\n",
       "      <td>1</td>\n",
       "      <td>1</td>\n",
       "      <td>1</td>\n",
       "      <td>4</td>\n",
       "      <td>http://ncbi.nlm.nih.gov/pubmed/?term=733189</td>\n",
       "      <td>sentence_task</td>\n",
       "      <td>0</td>\n",
       "      <td>0</td>\n",
       "      <td>NaN</td>\n",
       "      <td>0</td>\n",
       "      <td>1</td>\n",
       "      <td>conjugation</td>\n",
       "      <td>Penicillin is used in conjugation, but the more imp...</td>\n",
       "    </tr>\n",
       "    <tr>\n",
       "      <th>1</th>\n",
       "      <td>920167</td>\n",
       "      <td>MESH:D014859</td>\n",
       "      <td>MESH:D005315</td>\n",
       "      <td>0</td>\n",
       "      <td>1</td>\n",
       "      <td>1</td>\n",
       "      <td>1</td>\n",
       "      <td>5</td>\n",
       "      <td>http://ncbi.nlm.nih.gov/pubmed/?term=920167</td>\n",
       "      <td>cid_relation</td>\n",
       "      <td>0</td>\n",
       "      <td>1</td>\n",
       "      <td>1</td>\n",
       "      <td>1</td>\n",
       "      <td>1</td>\n",
       "      <td>missing_relation</td>\n",
       "      <td>Text states two specific examples of embryopathy wh...</td>\n",
       "    </tr>\n",
       "  </tbody>\n",
       "</table>\n",
       "</div>"
      ],
      "text/plain": [
       "     pmid   chemical_id    disease_id  in_gold  in_crowd  in_befree  in_texas  \\\n",
       "0  733189  MESH:D010406  MESH:D001766        0         1          1         1   \n",
       "1  920167  MESH:D014859  MESH:D005315        0         1          1         1   \n",
       "\n",
       "   num_votes                                  pubmed_link     rel_origin  \\\n",
       "0          4  http://ncbi.nlm.nih.gov/pubmed/?term=733189  sentence_task   \n",
       "1          5  http://ncbi.nlm.nih.gov/pubmed/?term=920167   cid_relation   \n",
       "\n",
       "   toby_gold_error  ben_gold_error  andrew_gold_error  final_gold_error  \\\n",
       "0                0               0                NaN                 0   \n",
       "1                0               1                  1                 1   \n",
       "\n",
       "   covered_by_guidelines      error_reason  \\\n",
       "0                      1       conjugation   \n",
       "1                      1  missing_relation   \n",
       "\n",
       "                                               discussion  \n",
       "0  Penicillin is used in conjugation, but the more imp...  \n",
       "1  Text states two specific examples of embryopathy wh...  "
      ]
     },
     "execution_count": 256,
     "metadata": {},
     "output_type": "execute_result"
    }
   ],
   "source": [
    "error_res.head(2)"
   ]
  },
  {
   "cell_type": "code",
   "execution_count": 257,
   "metadata": {
    "collapsed": true
   },
   "outputs": [],
   "source": [
    "temp = pd.merge(error_res, total[TRIPLE + [\"chemical_name\", \"disease_name\", \"form_text\"]],\n",
    "                how = \"left\", on = TRIPLE)"
   ]
  },
  {
   "cell_type": "code",
   "execution_count": 258,
   "metadata": {
    "collapsed": true
   },
   "outputs": [],
   "source": [
    "temp.to_excel(\"testset_all_predictions_agree_false_positives_with_ner_filter_final.xlsx\", index = False)"
   ]
  },
  {
   "cell_type": "code",
   "execution_count": null,
   "metadata": {
    "collapsed": true
   },
   "outputs": [],
   "source": []
  },
  {
   "cell_type": "code",
   "execution_count": 134,
   "metadata": {
    "collapsed": false,
    "scrolled": true
   },
   "outputs": [
    {
     "data": {
      "text/plain": [
       "(25, 17)"
      ]
     },
     "execution_count": 134,
     "metadata": {},
     "output_type": "execute_result"
    }
   ],
   "source": [
    "error_res.shape"
   ]
  },
  {
   "cell_type": "code",
   "execution_count": 135,
   "metadata": {
    "collapsed": false
   },
   "outputs": [
    {
     "data": {
      "text/plain": [
       "1    14\n",
       "0    11\n",
       "dtype: int64"
      ]
     },
     "execution_count": 135,
     "metadata": {},
     "output_type": "execute_result"
    }
   ],
   "source": [
    "error_res[\"covered_by_guidelines\"].value_counts()"
   ]
  },
  {
   "cell_type": "code",
   "execution_count": 136,
   "metadata": {
    "collapsed": false
   },
   "outputs": [
    {
     "data": {
      "text/plain": [
       "1    17\n",
       "0     8\n",
       "dtype: int64"
      ]
     },
     "execution_count": 136,
     "metadata": {},
     "output_type": "execute_result"
    }
   ],
   "source": [
    "error_res[\"final_gold_error\"].value_counts()"
   ]
  },
  {
   "cell_type": "code",
   "execution_count": 137,
   "metadata": {
    "collapsed": false
   },
   "outputs": [
    {
     "data": {
      "text/plain": [
       "not_main_point     3\n",
       "hierarchy_error    2\n",
       "low_frequency      1\n",
       "conjugation        1\n",
       "ner_error          1\n",
       "dtype: int64"
      ]
     },
     "execution_count": 137,
     "metadata": {},
     "output_type": "execute_result"
    }
   ],
   "source": [
    "error_res.query(\"final_gold_error == 0\")[\"error_reason\"].value_counts()"
   ]
  },
  {
   "cell_type": "code",
   "execution_count": 138,
   "metadata": {
    "collapsed": false
   },
   "outputs": [
    {
     "data": {
      "text/plain": [
       "1    0.68\n",
       "0    0.32\n",
       "dtype: float64"
      ]
     },
     "execution_count": 138,
     "metadata": {},
     "output_type": "execute_result"
    }
   ],
   "source": [
    "error_res[\"final_gold_error\"].value_counts(normalize = True)"
   ]
  },
  {
   "cell_type": "code",
   "execution_count": 139,
   "metadata": {
    "collapsed": false
   },
   "outputs": [
    {
     "data": {
      "text/plain": [
       "missing_relation      13\n",
       "hierarchy_error        5\n",
       "not_main_point         3\n",
       "intermediate_agent     1\n",
       "low_frequency          1\n",
       "conjugation            1\n",
       "ner_error              1\n",
       "dtype: int64"
      ]
     },
     "execution_count": 139,
     "metadata": {},
     "output_type": "execute_result"
    }
   ],
   "source": [
    "error_res[\"error_reason\"].value_counts()"
   ]
  },
  {
   "cell_type": "markdown",
   "metadata": {
    "collapsed": true
   },
   "source": [
    "false negatives\n",
    "\n",
    "PMID 753803: vitamin E and muscular dystrophy. Text states that \"The authors induced myodystrophy in the rat by giving it a diet lacking in vitamin E.\" It was not clear that this kind of relation should be treated as the same as \"giving aspirin causes cancer\". Crowd missed this relation. Could probably have been extracted if we changed the wording of the choice slightly. Did not see this kind of example in the guidelines or the other data, so did not word the choice to capture this variation.\n",
    "\n",
    "PMID 24927617: telaprevir and rhabdomyolysis. This is an example of where showing the whole abstract instead of just the title would have been better, since the text clearly states that the patient developed the disease after taking the drugs. Workers only saw the title.\n",
    "\n",
    "PMID 3191389: sodium salicylate and seizures. Single sentence is not enough context. Next sentence says that the chemical converted a non-convulsant dose of pilocarpine to a convulsant one."
   ]
  },
  {
   "cell_type": "markdown",
   "metadata": {},
   "source": [
    "---"
   ]
  },
  {
   "cell_type": "markdown",
   "metadata": {},
   "source": [
    "## Making a supplementary data file"
   ]
  },
  {
   "cell_type": "code",
   "execution_count": 238,
   "metadata": {
    "collapsed": true
   },
   "outputs": [],
   "source": [
    "crowd_conc = find_perfect_concepts(crowd_full, eval_gold)\n",
    "befree_conc = find_perfect_concepts(befree_full, eval_gold)\n",
    "texas_conc = find_perfect_concepts(texas_full, eval_gold)\n",
    "\n",
    "common_conc = {\n",
    "    pmid: tuple([crowd_conc[pmid][i] & befree_conc[pmid][i] & texas_conc[pmid][i] for i in range(2)])\n",
    "    for pmid in eval_gold.keys()\n",
    "}\n",
    "\n",
    "poss_good_trips = get_perf_subset_triples(common_conc)\n",
    "poss_df = make_df(poss_good_trips)\n",
    "\n",
    "gold_sub = pd.merge(gold_std, poss_df, how = \"inner\", on = TRIPLE)\n",
    "crowd_sub = pd.merge(crowd_res, poss_df, how = \"inner\", on = TRIPLE)\n",
    "befree_sub = pd.merge(befree_res, poss_df, how = \"inner\", on = TRIPLE)\n",
    "texas_sub = pd.merge(ut_res, poss_df, how = \"inner\", on = TRIPLE)"
   ]
  },
  {
   "cell_type": "code",
   "execution_count": 141,
   "metadata": {
    "collapsed": false
   },
   "outputs": [],
   "source": [
    "all_trips = get_triples(gold_sub) | get_triples(crowd_sub.query(\"num_votes >= 4\")) | get_triples(texas_sub) | get_triples(befree_sub)\n",
    "\n",
    "venn_summary = make_df(all_trips)\n",
    "\n",
    "dsets = [get_triples(gold_sub), get_triples(crowd_sub.query(\"num_votes >= 4\")),\n",
    "         get_triples(texas_sub), get_triples(befree_sub)\n",
    "]\n",
    "\n",
    "for col, dset in zip([\"gold\", \"crowd\", \"texas\", \"befree\"], dsets):\n",
    "    venn_summary.loc[:, \"in_{}\".format(col)] = venn_summary.loc[:, TRIPLE].apply(\n",
    "        lambda r: bool(single_triple(r) in dset),\n",
    "        axis = 1\n",
    "    )"
   ]
  },
  {
   "cell_type": "code",
   "execution_count": 142,
   "metadata": {
    "collapsed": true
   },
   "outputs": [],
   "source": [
    "def grab_subset(query, df):\n",
    "    sub = df.query(query)\n",
    "    \n",
    "    print(\"number of relations:\", len(sub))\n",
    "    \n",
    "    # find out how the crowd voted\n",
    "    sub = pd.merge(sub, crowd_res[TRIPLE + [\"num_votes\", \"rel_origin\"]],\n",
    "                  how = \"left\", on = TRIPLE)\n",
    "    \n",
    "    # grab the original crowdflower work unit ids\n",
    "    all_units = pd.concat([sent_res, abs_res])\n",
    "    sub = pd.merge(sub, all_units[TRIPLE + [\"unit_ids\"]],\n",
    "                        how = \"left\", on = TRIPLE)\n",
    "    \n",
    "    # format the links for easy review\n",
    "    sub = format_links(sub)\n",
    "    \n",
    "    return sub.sort(TRIPLE + [\"rel_origin\"])"
   ]
  },
  {
   "cell_type": "code",
   "execution_count": 143,
   "metadata": {
    "collapsed": true
   },
   "outputs": [],
   "source": [
    "def print_excel(df, fname):\n",
    "    cols = [\"pmid\", \"chemical_id\", \"disease_id\", \"in_gold\", \"in_crowd\",\n",
    "           \"in_befree\", \"in_texas\", \"num_votes\", \"pubmed_link\", \"cf_link\", \"rel_origin\"]    \n",
    "    \n",
    "    df[cols].to_excel(fname, index = False)"
   ]
  },
  {
   "cell_type": "code",
   "execution_count": null,
   "metadata": {
    "collapsed": true
   },
   "outputs": [],
   "source": []
  },
  {
   "cell_type": "code",
   "execution_count": null,
   "metadata": {
    "collapsed": true
   },
   "outputs": [],
   "source": []
  },
  {
   "cell_type": "code",
   "execution_count": null,
   "metadata": {
    "collapsed": true
   },
   "outputs": [],
   "source": []
  },
  {
   "cell_type": "code",
   "execution_count": 186,
   "metadata": {
    "collapsed": true
   },
   "outputs": [],
   "source": [
    "crowd_total = crowd_res[[\"pmid\", \"chemical_id\", \"disease_id\", \"num_votes\", \"rel_origin\"]]"
   ]
  },
  {
   "cell_type": "code",
   "execution_count": 187,
   "metadata": {
    "collapsed": false
   },
   "outputs": [
    {
     "data": {
      "text/html": [
       "<div>\n",
       "<table border=\"1\" class=\"dataframe\">\n",
       "  <thead>\n",
       "    <tr style=\"text-align: right;\">\n",
       "      <th></th>\n",
       "      <th>pmid</th>\n",
       "      <th>chemical_id</th>\n",
       "      <th>disease_id</th>\n",
       "      <th>num_votes</th>\n",
       "      <th>rel_origin</th>\n",
       "    </tr>\n",
       "  </thead>\n",
       "  <tbody>\n",
       "    <tr>\n",
       "      <th>0</th>\n",
       "      <td>35781</td>\n",
       "      <td>MESH:C009695</td>\n",
       "      <td>MESH:D000699</td>\n",
       "      <td>0</td>\n",
       "      <td>sentence_task</td>\n",
       "    </tr>\n",
       "    <tr>\n",
       "      <th>1</th>\n",
       "      <td>35781</td>\n",
       "      <td>MESH:C009695</td>\n",
       "      <td>MESH:D002375</td>\n",
       "      <td>0</td>\n",
       "      <td>sentence_task</td>\n",
       "    </tr>\n",
       "    <tr>\n",
       "      <th>2</th>\n",
       "      <td>35781</td>\n",
       "      <td>MESH:D003000</td>\n",
       "      <td>MESH:D000699</td>\n",
       "      <td>0</td>\n",
       "      <td>sentence_task</td>\n",
       "    </tr>\n",
       "    <tr>\n",
       "      <th>3</th>\n",
       "      <td>35781</td>\n",
       "      <td>MESH:D009278</td>\n",
       "      <td>MESH:D002375</td>\n",
       "      <td>0</td>\n",
       "      <td>sentence_task</td>\n",
       "    </tr>\n",
       "    <tr>\n",
       "      <th>4</th>\n",
       "      <td>35781</td>\n",
       "      <td>MESH:D009638</td>\n",
       "      <td>MESH:D000699</td>\n",
       "      <td>1</td>\n",
       "      <td>abstract_task</td>\n",
       "    </tr>\n",
       "  </tbody>\n",
       "</table>\n",
       "</div>"
      ],
      "text/plain": [
       "    pmid   chemical_id    disease_id  num_votes     rel_origin\n",
       "0  35781  MESH:C009695  MESH:D000699          0  sentence_task\n",
       "1  35781  MESH:C009695  MESH:D002375          0  sentence_task\n",
       "2  35781  MESH:D003000  MESH:D000699          0  sentence_task\n",
       "3  35781  MESH:D009278  MESH:D002375          0  sentence_task\n",
       "4  35781  MESH:D009638  MESH:D000699          1  abstract_task"
      ]
     },
     "execution_count": 187,
     "metadata": {},
     "output_type": "execute_result"
    }
   ],
   "source": [
    "crowd_total.head()"
   ]
  },
  {
   "cell_type": "code",
   "execution_count": 188,
   "metadata": {
    "collapsed": true
   },
   "outputs": [],
   "source": [
    "crowd_total[\"in_crowd\"] = crowd_total.loc[:, \"num_votes\"].map(lambda v: int(v >= 4))"
   ]
  },
  {
   "cell_type": "code",
   "execution_count": 189,
   "metadata": {
    "collapsed": false
   },
   "outputs": [],
   "source": [
    "origins = pd.concat([abs_res[TRIPLE + [\"unit_ids\"]], sent_res[TRIPLE + [\"unit_ids\"]]])"
   ]
  },
  {
   "cell_type": "code",
   "execution_count": 190,
   "metadata": {
    "collapsed": true
   },
   "outputs": [],
   "source": [
    "new_crowd_total = pd.merge(crowd_total, origins, on = TRIPLE, how = \"left\")"
   ]
  },
  {
   "cell_type": "code",
   "execution_count": 191,
   "metadata": {
    "collapsed": false
   },
   "outputs": [],
   "source": [
    "sent_data = sent_data.rename(columns = {\"form_sentence\": \"form_text\"})"
   ]
  },
  {
   "cell_type": "code",
   "execution_count": 192,
   "metadata": {
    "collapsed": false
   },
   "outputs": [],
   "source": [
    "abs_data[\"form_text\"] = abs_data.loc[:, [\"form_abstract\", \"form_title\"]].apply(\n",
    "    lambda r: \"<title>{}</title><abstract>{}</abstract>\".format(r[\"form_title\"], r[\"form_abstract\"]),\n",
    "    axis = 1\n",
    ")"
   ]
  },
  {
   "cell_type": "code",
   "execution_count": 193,
   "metadata": {
    "collapsed": true
   },
   "outputs": [],
   "source": [
    "cf_orig = pd.concat([sent_data, abs_data[[\"_unit_id\", \"chemical_name\", \"disease_name\", \"form_text\"]]])"
   ]
  },
  {
   "cell_type": "code",
   "execution_count": 194,
   "metadata": {
    "collapsed": false
   },
   "outputs": [
    {
     "data": {
      "text/html": [
       "<div>\n",
       "<table border=\"1\" class=\"dataframe\">\n",
       "  <thead>\n",
       "    <tr style=\"text-align: right;\">\n",
       "      <th></th>\n",
       "      <th>_unit_id</th>\n",
       "      <th>chemical_name</th>\n",
       "      <th>disease_name</th>\n",
       "      <th>form_text</th>\n",
       "    </tr>\n",
       "  </thead>\n",
       "  <tbody>\n",
       "    <tr>\n",
       "      <th>0</th>\n",
       "      <td>773931144</td>\n",
       "      <td>&lt;span class=\"chemical\"&gt;5-HT&lt;/span&gt;</td>\n",
       "      <td>&lt;span class=\"disease\"&gt;psychotic disorders&lt;/span&gt;</td>\n",
       "      <td>These animal models were considered to reflect the ...</td>\n",
       "    </tr>\n",
       "    <tr>\n",
       "      <th>10</th>\n",
       "      <td>773931145</td>\n",
       "      <td>&lt;span class=\"chemical\"&gt;D-penicillamine&lt;/span&gt;</td>\n",
       "      <td>&lt;span class=\"disease\"&gt;localized scleroderma&lt;/span&gt;</td>\n",
       "      <td>Case reports of 11 patients with severe, extensive ...</td>\n",
       "    </tr>\n",
       "    <tr>\n",
       "      <th>17</th>\n",
       "      <td>773931146</td>\n",
       "      <td>&lt;span class=\"chemical\"&gt;yohimbine&lt;/span&gt;</td>\n",
       "      <td>&lt;span class=\"disease\"&gt;affective disorders&lt;/span&gt;</td>\n",
       "      <td>METHOD: Six patients with either obsessive compulsi...</td>\n",
       "    </tr>\n",
       "    <tr>\n",
       "      <th>28</th>\n",
       "      <td>773931147</td>\n",
       "      <td>&lt;span class=\"chemical\"&gt;calcium&lt;/span&gt;</td>\n",
       "      <td>&lt;span class=\"disease\"&gt;muscle spasms&lt;/span&gt;</td>\n",
       "      <td>While severe hypokalemia may cause muscle weakness,...</td>\n",
       "    </tr>\n",
       "    <tr>\n",
       "      <th>32</th>\n",
       "      <td>773931148</td>\n",
       "      <td>&lt;span class=\"chemical\"&gt;dexrazoxane&lt;/span&gt;</td>\n",
       "      <td>&lt;span class=\"disease\"&gt;hematologic toxicity&lt;/span&gt;</td>\n",
       "      <td>Clinical trials in patients with brain metastases c...</td>\n",
       "    </tr>\n",
       "  </tbody>\n",
       "</table>\n",
       "</div>"
      ],
      "text/plain": [
       "     _unit_id                                  chemical_name  \\\n",
       "0   773931144             <span class=\"chemical\">5-HT</span>   \n",
       "10  773931145  <span class=\"chemical\">D-penicillamine</span>   \n",
       "17  773931146        <span class=\"chemical\">yohimbine</span>   \n",
       "28  773931147          <span class=\"chemical\">calcium</span>   \n",
       "32  773931148      <span class=\"chemical\">dexrazoxane</span>   \n",
       "\n",
       "                                          disease_name  \\\n",
       "0     <span class=\"disease\">psychotic disorders</span>   \n",
       "10  <span class=\"disease\">localized scleroderma</span>   \n",
       "17    <span class=\"disease\">affective disorders</span>   \n",
       "28          <span class=\"disease\">muscle spasms</span>   \n",
       "32   <span class=\"disease\">hematologic toxicity</span>   \n",
       "\n",
       "                                                 form_text  \n",
       "0   These animal models were considered to reflect the ...  \n",
       "10  Case reports of 11 patients with severe, extensive ...  \n",
       "17  METHOD: Six patients with either obsessive compulsi...  \n",
       "28  While severe hypokalemia may cause muscle weakness,...  \n",
       "32  Clinical trials in patients with brain metastases c...  "
      ]
     },
     "execution_count": 194,
     "metadata": {},
     "output_type": "execute_result"
    }
   ],
   "source": [
    "cf_orig.head()"
   ]
  },
  {
   "cell_type": "code",
   "execution_count": 195,
   "metadata": {
    "collapsed": true
   },
   "outputs": [],
   "source": [
    "cf_orig.loc[:, \"chemical_name\"] = cf_orig.loc[:, \"chemical_name\"].map(\n",
    "    lambda v: v[23:-7]\n",
    ")"
   ]
  },
  {
   "cell_type": "code",
   "execution_count": 196,
   "metadata": {
    "collapsed": true
   },
   "outputs": [],
   "source": [
    "cf_orig.loc[:, \"disease_name\"] = cf_orig.loc[:, \"disease_name\"].map(\n",
    "    lambda v: v[22:-7]\n",
    ")"
   ]
  },
  {
   "cell_type": "code",
   "execution_count": 197,
   "metadata": {
    "collapsed": false
   },
   "outputs": [
    {
     "data": {
      "text/html": [
       "<div>\n",
       "<table border=\"1\" class=\"dataframe\">\n",
       "  <thead>\n",
       "    <tr style=\"text-align: right;\">\n",
       "      <th></th>\n",
       "      <th>_unit_id</th>\n",
       "      <th>chemical_name</th>\n",
       "      <th>disease_name</th>\n",
       "      <th>form_text</th>\n",
       "    </tr>\n",
       "  </thead>\n",
       "  <tbody>\n",
       "    <tr>\n",
       "      <th>0</th>\n",
       "      <td>773931144</td>\n",
       "      <td>5-HT</td>\n",
       "      <td>psychotic disorders</td>\n",
       "      <td>These animal models were considered to reflect the ...</td>\n",
       "    </tr>\n",
       "    <tr>\n",
       "      <th>10</th>\n",
       "      <td>773931145</td>\n",
       "      <td>D-penicillamine</td>\n",
       "      <td>localized scleroderma</td>\n",
       "      <td>Case reports of 11 patients with severe, extensive ...</td>\n",
       "    </tr>\n",
       "    <tr>\n",
       "      <th>17</th>\n",
       "      <td>773931146</td>\n",
       "      <td>yohimbine</td>\n",
       "      <td>affective disorders</td>\n",
       "      <td>METHOD: Six patients with either obsessive compulsi...</td>\n",
       "    </tr>\n",
       "    <tr>\n",
       "      <th>28</th>\n",
       "      <td>773931147</td>\n",
       "      <td>calcium</td>\n",
       "      <td>muscle spasms</td>\n",
       "      <td>While severe hypokalemia may cause muscle weakness,...</td>\n",
       "    </tr>\n",
       "    <tr>\n",
       "      <th>32</th>\n",
       "      <td>773931148</td>\n",
       "      <td>dexrazoxane</td>\n",
       "      <td>hematologic toxicity</td>\n",
       "      <td>Clinical trials in patients with brain metastases c...</td>\n",
       "    </tr>\n",
       "  </tbody>\n",
       "</table>\n",
       "</div>"
      ],
      "text/plain": [
       "     _unit_id    chemical_name           disease_name  \\\n",
       "0   773931144             5-HT    psychotic disorders   \n",
       "10  773931145  D-penicillamine  localized scleroderma   \n",
       "17  773931146        yohimbine    affective disorders   \n",
       "28  773931147          calcium          muscle spasms   \n",
       "32  773931148      dexrazoxane   hematologic toxicity   \n",
       "\n",
       "                                                 form_text  \n",
       "0   These animal models were considered to reflect the ...  \n",
       "10  Case reports of 11 patients with severe, extensive ...  \n",
       "17  METHOD: Six patients with either obsessive compulsi...  \n",
       "28  While severe hypokalemia may cause muscle weakness,...  \n",
       "32  Clinical trials in patients with brain metastases c...  "
      ]
     },
     "execution_count": 197,
     "metadata": {},
     "output_type": "execute_result"
    }
   ],
   "source": [
    "cf_orig.head()"
   ]
  },
  {
   "cell_type": "code",
   "execution_count": 198,
   "metadata": {
    "collapsed": false
   },
   "outputs": [
    {
     "data": {
      "text/html": [
       "<div>\n",
       "<table border=\"1\" class=\"dataframe\">\n",
       "  <thead>\n",
       "    <tr style=\"text-align: right;\">\n",
       "      <th></th>\n",
       "      <th>pmid</th>\n",
       "      <th>chemical_id</th>\n",
       "      <th>disease_id</th>\n",
       "      <th>num_votes</th>\n",
       "      <th>rel_origin</th>\n",
       "      <th>in_crowd</th>\n",
       "      <th>unit_ids</th>\n",
       "    </tr>\n",
       "  </thead>\n",
       "  <tbody>\n",
       "    <tr>\n",
       "      <th>0</th>\n",
       "      <td>35781</td>\n",
       "      <td>MESH:C009695</td>\n",
       "      <td>MESH:D000699</td>\n",
       "      <td>0</td>\n",
       "      <td>sentence_task</td>\n",
       "      <td>0</td>\n",
       "      <td>773932397</td>\n",
       "    </tr>\n",
       "    <tr>\n",
       "      <th>1</th>\n",
       "      <td>35781</td>\n",
       "      <td>MESH:C009695</td>\n",
       "      <td>MESH:D002375</td>\n",
       "      <td>0</td>\n",
       "      <td>sentence_task</td>\n",
       "      <td>0</td>\n",
       "      <td>773932408</td>\n",
       "    </tr>\n",
       "    <tr>\n",
       "      <th>2</th>\n",
       "      <td>35781</td>\n",
       "      <td>MESH:D003000</td>\n",
       "      <td>MESH:D000699</td>\n",
       "      <td>0</td>\n",
       "      <td>sentence_task</td>\n",
       "      <td>0</td>\n",
       "      <td>773932399</td>\n",
       "    </tr>\n",
       "    <tr>\n",
       "      <th>3</th>\n",
       "      <td>35781</td>\n",
       "      <td>MESH:D009278</td>\n",
       "      <td>MESH:D002375</td>\n",
       "      <td>0</td>\n",
       "      <td>sentence_task</td>\n",
       "      <td>0</td>\n",
       "      <td>773932407</td>\n",
       "    </tr>\n",
       "    <tr>\n",
       "      <th>4</th>\n",
       "      <td>35781</td>\n",
       "      <td>MESH:D009638</td>\n",
       "      <td>MESH:D000699</td>\n",
       "      <td>1</td>\n",
       "      <td>abstract_task</td>\n",
       "      <td>0</td>\n",
       "      <td>773936581</td>\n",
       "    </tr>\n",
       "  </tbody>\n",
       "</table>\n",
       "</div>"
      ],
      "text/plain": [
       "    pmid   chemical_id    disease_id  num_votes     rel_origin  in_crowd  \\\n",
       "0  35781  MESH:C009695  MESH:D000699          0  sentence_task         0   \n",
       "1  35781  MESH:C009695  MESH:D002375          0  sentence_task         0   \n",
       "2  35781  MESH:D003000  MESH:D000699          0  sentence_task         0   \n",
       "3  35781  MESH:D009278  MESH:D002375          0  sentence_task         0   \n",
       "4  35781  MESH:D009638  MESH:D000699          1  abstract_task         0   \n",
       "\n",
       "    unit_ids  \n",
       "0  773932397  \n",
       "1  773932408  \n",
       "2  773932399  \n",
       "3  773932407  \n",
       "4  773936581  "
      ]
     },
     "execution_count": 198,
     "metadata": {},
     "output_type": "execute_result"
    }
   ],
   "source": [
    "new_crowd_total.head()"
   ]
  },
  {
   "cell_type": "code",
   "execution_count": 199,
   "metadata": {
    "collapsed": false
   },
   "outputs": [],
   "source": [
    "new_crowd_total.loc[:, \"unit_id\"] = new_crowd_total.loc[:, \"unit_ids\"].map(\n",
    "    lambda v: str(v).split(\"|\")[0]\n",
    ")"
   ]
  },
  {
   "cell_type": "code",
   "execution_count": 200,
   "metadata": {
    "collapsed": false
   },
   "outputs": [
    {
     "data": {
      "text/html": [
       "<div>\n",
       "<table border=\"1\" class=\"dataframe\">\n",
       "  <thead>\n",
       "    <tr style=\"text-align: right;\">\n",
       "      <th></th>\n",
       "      <th>pmid</th>\n",
       "      <th>chemical_id</th>\n",
       "      <th>disease_id</th>\n",
       "      <th>num_votes</th>\n",
       "      <th>rel_origin</th>\n",
       "      <th>in_crowd</th>\n",
       "      <th>unit_ids</th>\n",
       "      <th>unit_id</th>\n",
       "    </tr>\n",
       "  </thead>\n",
       "  <tbody>\n",
       "    <tr>\n",
       "      <th>0</th>\n",
       "      <td>35781</td>\n",
       "      <td>MESH:C009695</td>\n",
       "      <td>MESH:D000699</td>\n",
       "      <td>0</td>\n",
       "      <td>sentence_task</td>\n",
       "      <td>0</td>\n",
       "      <td>773932397</td>\n",
       "      <td>773932397</td>\n",
       "    </tr>\n",
       "    <tr>\n",
       "      <th>1</th>\n",
       "      <td>35781</td>\n",
       "      <td>MESH:C009695</td>\n",
       "      <td>MESH:D002375</td>\n",
       "      <td>0</td>\n",
       "      <td>sentence_task</td>\n",
       "      <td>0</td>\n",
       "      <td>773932408</td>\n",
       "      <td>773932408</td>\n",
       "    </tr>\n",
       "  </tbody>\n",
       "</table>\n",
       "</div>"
      ],
      "text/plain": [
       "    pmid   chemical_id    disease_id  num_votes     rel_origin  in_crowd  \\\n",
       "0  35781  MESH:C009695  MESH:D000699          0  sentence_task         0   \n",
       "1  35781  MESH:C009695  MESH:D002375          0  sentence_task         0   \n",
       "\n",
       "    unit_ids    unit_id  \n",
       "0  773932397  773932397  \n",
       "1  773932408  773932408  "
      ]
     },
     "execution_count": 200,
     "metadata": {},
     "output_type": "execute_result"
    }
   ],
   "source": [
    "new_crowd_total.head(2)"
   ]
  },
  {
   "cell_type": "code",
   "execution_count": 201,
   "metadata": {
    "collapsed": true
   },
   "outputs": [],
   "source": [
    "cf_orig = cf_orig.rename(columns = {\"_unit_id\": \"unit_id\"})\n",
    "cf_orig.loc[:, \"unit_id\"] = cf_orig.loc[:, \"unit_id\"].map(str)"
   ]
  },
  {
   "cell_type": "code",
   "execution_count": 202,
   "metadata": {
    "collapsed": true
   },
   "outputs": [],
   "source": [
    "ans = pd.merge(new_crowd_total, cf_orig, how = \"left\", on = \"unit_id\")"
   ]
  },
  {
   "cell_type": "code",
   "execution_count": 203,
   "metadata": {
    "collapsed": false
   },
   "outputs": [
    {
     "data": {
      "text/html": [
       "<div>\n",
       "<table border=\"1\" class=\"dataframe\">\n",
       "  <thead>\n",
       "    <tr style=\"text-align: right;\">\n",
       "      <th></th>\n",
       "      <th>pmid</th>\n",
       "      <th>chemical_id</th>\n",
       "      <th>disease_id</th>\n",
       "      <th>num_votes</th>\n",
       "      <th>rel_origin</th>\n",
       "      <th>in_crowd</th>\n",
       "      <th>unit_ids</th>\n",
       "      <th>unit_id</th>\n",
       "      <th>chemical_name</th>\n",
       "      <th>disease_name</th>\n",
       "      <th>form_text</th>\n",
       "    </tr>\n",
       "  </thead>\n",
       "  <tbody>\n",
       "    <tr>\n",
       "      <th>0</th>\n",
       "      <td>35781</td>\n",
       "      <td>MESH:C009695</td>\n",
       "      <td>MESH:D000699</td>\n",
       "      <td>0</td>\n",
       "      <td>sentence_task</td>\n",
       "      <td>0</td>\n",
       "      <td>773932397</td>\n",
       "      <td>773932397</td>\n",
       "      <td>xylometazoline</td>\n",
       "      <td>analgesia</td>\n",
       "      <td>The effect of clonidine, naphazoline and &lt;span clas...</td>\n",
       "    </tr>\n",
       "    <tr>\n",
       "      <th>1</th>\n",
       "      <td>35781</td>\n",
       "      <td>MESH:C009695</td>\n",
       "      <td>MESH:D002375</td>\n",
       "      <td>0</td>\n",
       "      <td>sentence_task</td>\n",
       "      <td>0</td>\n",
       "      <td>773932408</td>\n",
       "      <td>773932408</td>\n",
       "      <td>xylometazoline</td>\n",
       "      <td>catalepsy</td>\n",
       "      <td>Codeine &lt;span class=\"disease\"&gt;catalepsy&lt;/span&gt; was ...</td>\n",
       "    </tr>\n",
       "    <tr>\n",
       "      <th>2</th>\n",
       "      <td>35781</td>\n",
       "      <td>MESH:D003000</td>\n",
       "      <td>MESH:D000699</td>\n",
       "      <td>0</td>\n",
       "      <td>sentence_task</td>\n",
       "      <td>0</td>\n",
       "      <td>773932399</td>\n",
       "      <td>773932399</td>\n",
       "      <td>clonidine</td>\n",
       "      <td>analgesia</td>\n",
       "      <td>The effect of &lt;span class=\"chemical\"&gt;clonidine&lt;/spa...</td>\n",
       "    </tr>\n",
       "    <tr>\n",
       "      <th>3</th>\n",
       "      <td>35781</td>\n",
       "      <td>MESH:D009278</td>\n",
       "      <td>MESH:D002375</td>\n",
       "      <td>0</td>\n",
       "      <td>sentence_task</td>\n",
       "      <td>0</td>\n",
       "      <td>773932407</td>\n",
       "      <td>773932407</td>\n",
       "      <td>naphazoline</td>\n",
       "      <td>catalepsy</td>\n",
       "      <td>Codeine &lt;span class=\"disease\"&gt;catalepsy&lt;/span&gt; was ...</td>\n",
       "    </tr>\n",
       "    <tr>\n",
       "      <th>4</th>\n",
       "      <td>35781</td>\n",
       "      <td>MESH:D009638</td>\n",
       "      <td>MESH:D000699</td>\n",
       "      <td>1</td>\n",
       "      <td>abstract_task</td>\n",
       "      <td>0</td>\n",
       "      <td>773936581</td>\n",
       "      <td>773936581</td>\n",
       "      <td>noradrenaline</td>\n",
       "      <td>analgesia</td>\n",
       "      <td>&lt;title&gt;Central action of narcotic analgesics. Part ...</td>\n",
       "    </tr>\n",
       "  </tbody>\n",
       "</table>\n",
       "</div>"
      ],
      "text/plain": [
       "    pmid   chemical_id    disease_id  num_votes     rel_origin  in_crowd  \\\n",
       "0  35781  MESH:C009695  MESH:D000699          0  sentence_task         0   \n",
       "1  35781  MESH:C009695  MESH:D002375          0  sentence_task         0   \n",
       "2  35781  MESH:D003000  MESH:D000699          0  sentence_task         0   \n",
       "3  35781  MESH:D009278  MESH:D002375          0  sentence_task         0   \n",
       "4  35781  MESH:D009638  MESH:D000699          1  abstract_task         0   \n",
       "\n",
       "    unit_ids    unit_id   chemical_name disease_name  \\\n",
       "0  773932397  773932397  xylometazoline    analgesia   \n",
       "1  773932408  773932408  xylometazoline    catalepsy   \n",
       "2  773932399  773932399       clonidine    analgesia   \n",
       "3  773932407  773932407     naphazoline    catalepsy   \n",
       "4  773936581  773936581   noradrenaline    analgesia   \n",
       "\n",
       "                                                form_text  \n",
       "0  The effect of clonidine, naphazoline and <span clas...  \n",
       "1  Codeine <span class=\"disease\">catalepsy</span> was ...  \n",
       "2  The effect of <span class=\"chemical\">clonidine</spa...  \n",
       "3  Codeine <span class=\"disease\">catalepsy</span> was ...  \n",
       "4  <title>Central action of narcotic analgesics. Part ...  "
      ]
     },
     "execution_count": 203,
     "metadata": {},
     "output_type": "execute_result"
    }
   ],
   "source": [
    "ans.head()"
   ]
  },
  {
   "cell_type": "code",
   "execution_count": 204,
   "metadata": {
    "collapsed": true
   },
   "outputs": [],
   "source": [
    "fin = ans.drop([\"unit_ids\", \"unit_id\"], axis = 1)"
   ]
  },
  {
   "cell_type": "code",
   "execution_count": 205,
   "metadata": {
    "collapsed": false
   },
   "outputs": [
    {
     "data": {
      "text/html": [
       "<div>\n",
       "<table border=\"1\" class=\"dataframe\">\n",
       "  <thead>\n",
       "    <tr style=\"text-align: right;\">\n",
       "      <th></th>\n",
       "      <th>pmid</th>\n",
       "      <th>chemical_id</th>\n",
       "      <th>disease_id</th>\n",
       "      <th>num_votes</th>\n",
       "      <th>rel_origin</th>\n",
       "      <th>in_crowd</th>\n",
       "      <th>chemical_name</th>\n",
       "      <th>disease_name</th>\n",
       "      <th>form_text</th>\n",
       "    </tr>\n",
       "  </thead>\n",
       "  <tbody>\n",
       "    <tr>\n",
       "      <th>0</th>\n",
       "      <td>35781</td>\n",
       "      <td>MESH:C009695</td>\n",
       "      <td>MESH:D000699</td>\n",
       "      <td>0</td>\n",
       "      <td>sentence_task</td>\n",
       "      <td>0</td>\n",
       "      <td>xylometazoline</td>\n",
       "      <td>analgesia</td>\n",
       "      <td>The effect of clonidine, naphazoline and &lt;span clas...</td>\n",
       "    </tr>\n",
       "    <tr>\n",
       "      <th>1</th>\n",
       "      <td>35781</td>\n",
       "      <td>MESH:C009695</td>\n",
       "      <td>MESH:D002375</td>\n",
       "      <td>0</td>\n",
       "      <td>sentence_task</td>\n",
       "      <td>0</td>\n",
       "      <td>xylometazoline</td>\n",
       "      <td>catalepsy</td>\n",
       "      <td>Codeine &lt;span class=\"disease\"&gt;catalepsy&lt;/span&gt; was ...</td>\n",
       "    </tr>\n",
       "    <tr>\n",
       "      <th>2</th>\n",
       "      <td>35781</td>\n",
       "      <td>MESH:D003000</td>\n",
       "      <td>MESH:D000699</td>\n",
       "      <td>0</td>\n",
       "      <td>sentence_task</td>\n",
       "      <td>0</td>\n",
       "      <td>clonidine</td>\n",
       "      <td>analgesia</td>\n",
       "      <td>The effect of &lt;span class=\"chemical\"&gt;clonidine&lt;/spa...</td>\n",
       "    </tr>\n",
       "    <tr>\n",
       "      <th>3</th>\n",
       "      <td>35781</td>\n",
       "      <td>MESH:D009278</td>\n",
       "      <td>MESH:D002375</td>\n",
       "      <td>0</td>\n",
       "      <td>sentence_task</td>\n",
       "      <td>0</td>\n",
       "      <td>naphazoline</td>\n",
       "      <td>catalepsy</td>\n",
       "      <td>Codeine &lt;span class=\"disease\"&gt;catalepsy&lt;/span&gt; was ...</td>\n",
       "    </tr>\n",
       "    <tr>\n",
       "      <th>4</th>\n",
       "      <td>35781</td>\n",
       "      <td>MESH:D009638</td>\n",
       "      <td>MESH:D000699</td>\n",
       "      <td>1</td>\n",
       "      <td>abstract_task</td>\n",
       "      <td>0</td>\n",
       "      <td>noradrenaline</td>\n",
       "      <td>analgesia</td>\n",
       "      <td>&lt;title&gt;Central action of narcotic analgesics. Part ...</td>\n",
       "    </tr>\n",
       "  </tbody>\n",
       "</table>\n",
       "</div>"
      ],
      "text/plain": [
       "    pmid   chemical_id    disease_id  num_votes     rel_origin  in_crowd  \\\n",
       "0  35781  MESH:C009695  MESH:D000699          0  sentence_task         0   \n",
       "1  35781  MESH:C009695  MESH:D002375          0  sentence_task         0   \n",
       "2  35781  MESH:D003000  MESH:D000699          0  sentence_task         0   \n",
       "3  35781  MESH:D009278  MESH:D002375          0  sentence_task         0   \n",
       "4  35781  MESH:D009638  MESH:D000699          1  abstract_task         0   \n",
       "\n",
       "    chemical_name disease_name  \\\n",
       "0  xylometazoline    analgesia   \n",
       "1  xylometazoline    catalepsy   \n",
       "2       clonidine    analgesia   \n",
       "3     naphazoline    catalepsy   \n",
       "4   noradrenaline    analgesia   \n",
       "\n",
       "                                                form_text  \n",
       "0  The effect of clonidine, naphazoline and <span clas...  \n",
       "1  Codeine <span class=\"disease\">catalepsy</span> was ...  \n",
       "2  The effect of <span class=\"chemical\">clonidine</spa...  \n",
       "3  Codeine <span class=\"disease\">catalepsy</span> was ...  \n",
       "4  <title>Central action of narcotic analgesics. Part ...  "
      ]
     },
     "execution_count": 205,
     "metadata": {},
     "output_type": "execute_result"
    }
   ],
   "source": [
    "fin.head()"
   ]
  },
  {
   "cell_type": "code",
   "execution_count": 206,
   "metadata": {
    "collapsed": false
   },
   "outputs": [
    {
     "data": {
      "text/html": [
       "<div>\n",
       "<table border=\"1\" class=\"dataframe\">\n",
       "  <thead>\n",
       "    <tr style=\"text-align: right;\">\n",
       "      <th></th>\n",
       "      <th>chemical_id</th>\n",
       "      <th>disease_id</th>\n",
       "      <th>norm_conf_score</th>\n",
       "      <th>num_votes</th>\n",
       "      <th>pmid</th>\n",
       "      <th>rel_origin</th>\n",
       "    </tr>\n",
       "  </thead>\n",
       "  <tbody>\n",
       "    <tr>\n",
       "      <th>0</th>\n",
       "      <td>MESH:D000157</td>\n",
       "      <td>MESH:D001145</td>\n",
       "      <td>0.375904</td>\n",
       "      <td>2</td>\n",
       "      <td>44072</td>\n",
       "      <td>sentence_task</td>\n",
       "    </tr>\n",
       "    <tr>\n",
       "      <th>1</th>\n",
       "      <td>MESH:D004837</td>\n",
       "      <td>MESH:D001145</td>\n",
       "      <td>0.607239</td>\n",
       "      <td>3</td>\n",
       "      <td>44072</td>\n",
       "      <td>sentence_task</td>\n",
       "    </tr>\n",
       "    <tr>\n",
       "      <th>2</th>\n",
       "      <td>MESH:C024986</td>\n",
       "      <td>MESH:D001145</td>\n",
       "      <td>0.824253</td>\n",
       "      <td>4</td>\n",
       "      <td>44072</td>\n",
       "      <td>sentence_task</td>\n",
       "    </tr>\n",
       "    <tr>\n",
       "      <th>3</th>\n",
       "      <td>MESH:D002725</td>\n",
       "      <td>MESH:D001145</td>\n",
       "      <td>0.793684</td>\n",
       "      <td>4</td>\n",
       "      <td>44072</td>\n",
       "      <td>sentence_task</td>\n",
       "    </tr>\n",
       "    <tr>\n",
       "      <th>4</th>\n",
       "      <td>MESH:D011433</td>\n",
       "      <td>MESH:D006973</td>\n",
       "      <td>0.430413</td>\n",
       "      <td>2</td>\n",
       "      <td>48835</td>\n",
       "      <td>abstract_task</td>\n",
       "    </tr>\n",
       "  </tbody>\n",
       "</table>\n",
       "</div>"
      ],
      "text/plain": [
       "    chemical_id    disease_id  norm_conf_score  num_votes   pmid  \\\n",
       "0  MESH:D000157  MESH:D001145         0.375904          2  44072   \n",
       "1  MESH:D004837  MESH:D001145         0.607239          3  44072   \n",
       "2  MESH:C024986  MESH:D001145         0.824253          4  44072   \n",
       "3  MESH:D002725  MESH:D001145         0.793684          4  44072   \n",
       "4  MESH:D011433  MESH:D006973         0.430413          2  48835   \n",
       "\n",
       "      rel_origin  \n",
       "0  sentence_task  \n",
       "1  sentence_task  \n",
       "2  sentence_task  \n",
       "3  sentence_task  \n",
       "4  abstract_task  "
      ]
     },
     "execution_count": 206,
     "metadata": {},
     "output_type": "execute_result"
    }
   ],
   "source": [
    "crowd_no_ner.head()"
   ]
  },
  {
   "cell_type": "code",
   "execution_count": 207,
   "metadata": {
    "collapsed": true
   },
   "outputs": [],
   "source": [
    "temp = get_triples(crowd_no_ner)"
   ]
  },
  {
   "cell_type": "code",
   "execution_count": 208,
   "metadata": {
    "collapsed": true
   },
   "outputs": [],
   "source": [
    "fin[\"perfect_ner_crowd_only\"] = fin.loc[:, TRIPLE].apply(\n",
    "    lambda r:\n",
    "        int((r[\"pmid\"], r[\"chemical_id\"], r[\"disease_id\"]) in temp),\n",
    "    axis = 1\n",
    ")"
   ]
  },
  {
   "cell_type": "code",
   "execution_count": 210,
   "metadata": {
    "collapsed": false
   },
   "outputs": [
    {
     "data": {
      "text/html": [
       "<div>\n",
       "<table border=\"1\" class=\"dataframe\">\n",
       "  <thead>\n",
       "    <tr style=\"text-align: right;\">\n",
       "      <th></th>\n",
       "      <th>pmid</th>\n",
       "      <th>chemical_id</th>\n",
       "      <th>disease_id</th>\n",
       "      <th>num_votes</th>\n",
       "      <th>rel_origin</th>\n",
       "      <th>in_crowd</th>\n",
       "      <th>chemical_name</th>\n",
       "      <th>disease_name</th>\n",
       "      <th>form_text</th>\n",
       "      <th>perfect_ner_crowd_only</th>\n",
       "    </tr>\n",
       "  </thead>\n",
       "  <tbody>\n",
       "    <tr>\n",
       "      <th>0</th>\n",
       "      <td>35781</td>\n",
       "      <td>MESH:C009695</td>\n",
       "      <td>MESH:D000699</td>\n",
       "      <td>0</td>\n",
       "      <td>sentence_task</td>\n",
       "      <td>0</td>\n",
       "      <td>xylometazoline</td>\n",
       "      <td>analgesia</td>\n",
       "      <td>The effect of clonidine, naphazoline and &lt;span clas...</td>\n",
       "      <td>0</td>\n",
       "    </tr>\n",
       "    <tr>\n",
       "      <th>1</th>\n",
       "      <td>35781</td>\n",
       "      <td>MESH:C009695</td>\n",
       "      <td>MESH:D002375</td>\n",
       "      <td>0</td>\n",
       "      <td>sentence_task</td>\n",
       "      <td>0</td>\n",
       "      <td>xylometazoline</td>\n",
       "      <td>catalepsy</td>\n",
       "      <td>Codeine &lt;span class=\"disease\"&gt;catalepsy&lt;/span&gt; was ...</td>\n",
       "      <td>0</td>\n",
       "    </tr>\n",
       "    <tr>\n",
       "      <th>2</th>\n",
       "      <td>35781</td>\n",
       "      <td>MESH:D003000</td>\n",
       "      <td>MESH:D000699</td>\n",
       "      <td>0</td>\n",
       "      <td>sentence_task</td>\n",
       "      <td>0</td>\n",
       "      <td>clonidine</td>\n",
       "      <td>analgesia</td>\n",
       "      <td>The effect of &lt;span class=\"chemical\"&gt;clonidine&lt;/spa...</td>\n",
       "      <td>0</td>\n",
       "    </tr>\n",
       "    <tr>\n",
       "      <th>3</th>\n",
       "      <td>35781</td>\n",
       "      <td>MESH:D009278</td>\n",
       "      <td>MESH:D002375</td>\n",
       "      <td>0</td>\n",
       "      <td>sentence_task</td>\n",
       "      <td>0</td>\n",
       "      <td>naphazoline</td>\n",
       "      <td>catalepsy</td>\n",
       "      <td>Codeine &lt;span class=\"disease\"&gt;catalepsy&lt;/span&gt; was ...</td>\n",
       "      <td>0</td>\n",
       "    </tr>\n",
       "    <tr>\n",
       "      <th>4</th>\n",
       "      <td>35781</td>\n",
       "      <td>MESH:D009638</td>\n",
       "      <td>MESH:D000699</td>\n",
       "      <td>1</td>\n",
       "      <td>abstract_task</td>\n",
       "      <td>0</td>\n",
       "      <td>noradrenaline</td>\n",
       "      <td>analgesia</td>\n",
       "      <td>&lt;title&gt;Central action of narcotic analgesics. Part ...</td>\n",
       "      <td>0</td>\n",
       "    </tr>\n",
       "  </tbody>\n",
       "</table>\n",
       "</div>"
      ],
      "text/plain": [
       "    pmid   chemical_id    disease_id  num_votes     rel_origin  in_crowd  \\\n",
       "0  35781  MESH:C009695  MESH:D000699          0  sentence_task         0   \n",
       "1  35781  MESH:C009695  MESH:D002375          0  sentence_task         0   \n",
       "2  35781  MESH:D003000  MESH:D000699          0  sentence_task         0   \n",
       "3  35781  MESH:D009278  MESH:D002375          0  sentence_task         0   \n",
       "4  35781  MESH:D009638  MESH:D000699          1  abstract_task         0   \n",
       "\n",
       "    chemical_name disease_name  \\\n",
       "0  xylometazoline    analgesia   \n",
       "1  xylometazoline    catalepsy   \n",
       "2       clonidine    analgesia   \n",
       "3     naphazoline    catalepsy   \n",
       "4   noradrenaline    analgesia   \n",
       "\n",
       "                                                form_text  \\\n",
       "0  The effect of clonidine, naphazoline and <span clas...   \n",
       "1  Codeine <span class=\"disease\">catalepsy</span> was ...   \n",
       "2  The effect of <span class=\"chemical\">clonidine</spa...   \n",
       "3  Codeine <span class=\"disease\">catalepsy</span> was ...   \n",
       "4  <title>Central action of narcotic analgesics. Part ...   \n",
       "\n",
       "   perfect_ner_crowd_only  \n",
       "0                       0  \n",
       "1                       0  \n",
       "2                       0  \n",
       "3                       0  \n",
       "4                       0  "
      ]
     },
     "execution_count": 210,
     "metadata": {},
     "output_type": "execute_result"
    }
   ],
   "source": [
    "fin.head()"
   ]
  },
  {
   "cell_type": "code",
   "execution_count": 226,
   "metadata": {
    "collapsed": false
   },
   "outputs": [
    {
     "data": {
      "text/plain": [
       "4920"
      ]
     },
     "execution_count": 226,
     "metadata": {},
     "output_type": "execute_result"
    }
   ],
   "source": [
    "len(get_triples(crowd_res))"
   ]
  },
  {
   "cell_type": "code",
   "execution_count": 227,
   "metadata": {
    "collapsed": true
   },
   "outputs": [],
   "source": [
    "trips = gold_triples | get_triples(crowd_res) | texas_trip | befree_trip"
   ]
  },
  {
   "cell_type": "code",
   "execution_count": 228,
   "metadata": {
    "collapsed": false
   },
   "outputs": [
    {
     "data": {
      "text/plain": [
       "5441"
      ]
     },
     "execution_count": 228,
     "metadata": {},
     "output_type": "execute_result"
    }
   ],
   "source": [
    "len(trips)"
   ]
  },
  {
   "cell_type": "code",
   "execution_count": 231,
   "metadata": {
    "collapsed": false
   },
   "outputs": [],
   "source": [
    "total = make_df(trips)"
   ]
  },
  {
   "cell_type": "code",
   "execution_count": 233,
   "metadata": {
    "collapsed": false
   },
   "outputs": [
    {
     "data": {
      "text/html": [
       "<div>\n",
       "<table border=\"1\" class=\"dataframe\">\n",
       "  <thead>\n",
       "    <tr style=\"text-align: right;\">\n",
       "      <th></th>\n",
       "      <th>pmid</th>\n",
       "      <th>chemical_id</th>\n",
       "      <th>disease_id</th>\n",
       "    </tr>\n",
       "  </thead>\n",
       "  <tbody>\n",
       "    <tr>\n",
       "      <th>0</th>\n",
       "      <td>11105626</td>\n",
       "      <td>MESH:D015474</td>\n",
       "      <td>MESH:D000013</td>\n",
       "    </tr>\n",
       "    <tr>\n",
       "      <th>1</th>\n",
       "      <td>18987260</td>\n",
       "      <td>MESH:D019808</td>\n",
       "      <td>MESH:D005355</td>\n",
       "    </tr>\n",
       "    <tr>\n",
       "      <th>2</th>\n",
       "      <td>24554916</td>\n",
       "      <td>MESH:D010758</td>\n",
       "      <td>MESH:D006505</td>\n",
       "    </tr>\n",
       "    <tr>\n",
       "      <th>3</th>\n",
       "      <td>3711722</td>\n",
       "      <td>MESH:D004317</td>\n",
       "      <td>MESH:D009410</td>\n",
       "    </tr>\n",
       "    <tr>\n",
       "      <th>4</th>\n",
       "      <td>11745287</td>\n",
       "      <td>MESH:D016190</td>\n",
       "      <td>MESH:D015431</td>\n",
       "    </tr>\n",
       "  </tbody>\n",
       "</table>\n",
       "</div>"
      ],
      "text/plain": [
       "       pmid   chemical_id    disease_id\n",
       "0  11105626  MESH:D015474  MESH:D000013\n",
       "1  18987260  MESH:D019808  MESH:D005355\n",
       "2  24554916  MESH:D010758  MESH:D006505\n",
       "3   3711722  MESH:D004317  MESH:D009410\n",
       "4  11745287  MESH:D016190  MESH:D015431"
      ]
     },
     "execution_count": 233,
     "metadata": {},
     "output_type": "execute_result"
    }
   ],
   "source": [
    "total.head()"
   ]
  },
  {
   "cell_type": "code",
   "execution_count": 234,
   "metadata": {
    "collapsed": true
   },
   "outputs": [],
   "source": [
    "for col, datum in zip([\"gold\", \"crowd\", \"texas\", \"befree\"],\n",
    "                      [gold_triples, crowd_trip, texas_trip, befree_trip]):\n",
    "    total[\"in_{}\".format(col)] = total.loc[:, TRIPLE].apply(\n",
    "        lambda v:\n",
    "            int((v[\"pmid\"], v[\"chemical_id\"], v[\"disease_id\"]) in datum),    \n",
    "        axis = 1\n",
    "    )"
   ]
  },
  {
   "cell_type": "code",
   "execution_count": 235,
   "metadata": {
    "collapsed": false
   },
   "outputs": [
    {
     "data": {
      "text/html": [
       "<div>\n",
       "<table border=\"1\" class=\"dataframe\">\n",
       "  <thead>\n",
       "    <tr style=\"text-align: right;\">\n",
       "      <th></th>\n",
       "      <th>pmid</th>\n",
       "      <th>chemical_id</th>\n",
       "      <th>disease_id</th>\n",
       "      <th>in_gold</th>\n",
       "      <th>in_crowd</th>\n",
       "      <th>in_texas</th>\n",
       "      <th>in_befree</th>\n",
       "    </tr>\n",
       "  </thead>\n",
       "  <tbody>\n",
       "    <tr>\n",
       "      <th>0</th>\n",
       "      <td>11105626</td>\n",
       "      <td>MESH:D015474</td>\n",
       "      <td>MESH:D000013</td>\n",
       "      <td>0</td>\n",
       "      <td>1</td>\n",
       "      <td>0</td>\n",
       "      <td>0</td>\n",
       "    </tr>\n",
       "    <tr>\n",
       "      <th>1</th>\n",
       "      <td>18987260</td>\n",
       "      <td>MESH:D019808</td>\n",
       "      <td>MESH:D005355</td>\n",
       "      <td>0</td>\n",
       "      <td>0</td>\n",
       "      <td>0</td>\n",
       "      <td>0</td>\n",
       "    </tr>\n",
       "    <tr>\n",
       "      <th>2</th>\n",
       "      <td>24554916</td>\n",
       "      <td>MESH:D010758</td>\n",
       "      <td>MESH:D006505</td>\n",
       "      <td>1</td>\n",
       "      <td>0</td>\n",
       "      <td>0</td>\n",
       "      <td>0</td>\n",
       "    </tr>\n",
       "    <tr>\n",
       "      <th>3</th>\n",
       "      <td>3711722</td>\n",
       "      <td>MESH:D004317</td>\n",
       "      <td>MESH:D009410</td>\n",
       "      <td>0</td>\n",
       "      <td>0</td>\n",
       "      <td>0</td>\n",
       "      <td>0</td>\n",
       "    </tr>\n",
       "    <tr>\n",
       "      <th>4</th>\n",
       "      <td>11745287</td>\n",
       "      <td>MESH:D016190</td>\n",
       "      <td>MESH:D015431</td>\n",
       "      <td>1</td>\n",
       "      <td>0</td>\n",
       "      <td>1</td>\n",
       "      <td>0</td>\n",
       "    </tr>\n",
       "  </tbody>\n",
       "</table>\n",
       "</div>"
      ],
      "text/plain": [
       "       pmid   chemical_id    disease_id  in_gold  in_crowd  in_texas  \\\n",
       "0  11105626  MESH:D015474  MESH:D000013        0         1         0   \n",
       "1  18987260  MESH:D019808  MESH:D005355        0         0         0   \n",
       "2  24554916  MESH:D010758  MESH:D006505        1         0         0   \n",
       "3   3711722  MESH:D004317  MESH:D009410        0         0         0   \n",
       "4  11745287  MESH:D016190  MESH:D015431        1         0         1   \n",
       "\n",
       "   in_befree  \n",
       "0          0  \n",
       "1          0  \n",
       "2          0  \n",
       "3          0  \n",
       "4          0  "
      ]
     },
     "execution_count": 235,
     "metadata": {},
     "output_type": "execute_result"
    }
   ],
   "source": [
    "total.head()"
   ]
  },
  {
   "cell_type": "code",
   "execution_count": 236,
   "metadata": {
    "collapsed": true
   },
   "outputs": [],
   "source": [
    "total = pd.merge(total, fin[TRIPLE + [\"num_votes\",\n",
    "                                     \"rel_origin\", \"chemical_name\", \"disease_name\",\n",
    "                                     \"form_text\", \"perfect_ner_crowd_only\"]],\n",
    "                how = \"left\", on = TRIPLE)"
   ]
  },
  {
   "cell_type": "code",
   "execution_count": 237,
   "metadata": {
    "collapsed": false
   },
   "outputs": [
    {
     "data": {
      "text/html": [
       "<div>\n",
       "<table border=\"1\" class=\"dataframe\">\n",
       "  <thead>\n",
       "    <tr style=\"text-align: right;\">\n",
       "      <th></th>\n",
       "      <th>pmid</th>\n",
       "      <th>chemical_id</th>\n",
       "      <th>disease_id</th>\n",
       "      <th>in_gold</th>\n",
       "      <th>in_crowd</th>\n",
       "      <th>in_texas</th>\n",
       "      <th>in_befree</th>\n",
       "      <th>num_votes</th>\n",
       "      <th>rel_origin</th>\n",
       "      <th>chemical_name</th>\n",
       "      <th>disease_name</th>\n",
       "      <th>form_text</th>\n",
       "      <th>perfect_ner_crowd_only</th>\n",
       "    </tr>\n",
       "  </thead>\n",
       "  <tbody>\n",
       "    <tr>\n",
       "      <th>0</th>\n",
       "      <td>11105626</td>\n",
       "      <td>MESH:D015474</td>\n",
       "      <td>MESH:D000013</td>\n",
       "      <td>0</td>\n",
       "      <td>1</td>\n",
       "      <td>0</td>\n",
       "      <td>0</td>\n",
       "      <td>5</td>\n",
       "      <td>sentence_task</td>\n",
       "      <td>isotretinoin</td>\n",
       "      <td>multiple congenital anomalies</td>\n",
       "      <td>We report a newborn infant with &lt;span class=\"diseas...</td>\n",
       "      <td>0</td>\n",
       "    </tr>\n",
       "    <tr>\n",
       "      <th>1</th>\n",
       "      <td>18987260</td>\n",
       "      <td>MESH:D019808</td>\n",
       "      <td>MESH:D005355</td>\n",
       "      <td>0</td>\n",
       "      <td>0</td>\n",
       "      <td>0</td>\n",
       "      <td>0</td>\n",
       "      <td>1</td>\n",
       "      <td>sentence_task</td>\n",
       "      <td>losartan</td>\n",
       "      <td>fibrosis</td>\n",
       "      <td>Prolonged treatment with &lt;span class=\"chemical\"&gt;los...</td>\n",
       "      <td>0</td>\n",
       "    </tr>\n",
       "    <tr>\n",
       "      <th>2</th>\n",
       "      <td>24554916</td>\n",
       "      <td>MESH:D010758</td>\n",
       "      <td>MESH:D006505</td>\n",
       "      <td>1</td>\n",
       "      <td>0</td>\n",
       "      <td>0</td>\n",
       "      <td>0</td>\n",
       "      <td>NaN</td>\n",
       "      <td>NaN</td>\n",
       "      <td>NaN</td>\n",
       "      <td>NaN</td>\n",
       "      <td>NaN</td>\n",
       "      <td>NaN</td>\n",
       "    </tr>\n",
       "    <tr>\n",
       "      <th>3</th>\n",
       "      <td>3711722</td>\n",
       "      <td>MESH:D004317</td>\n",
       "      <td>MESH:D009410</td>\n",
       "      <td>0</td>\n",
       "      <td>0</td>\n",
       "      <td>0</td>\n",
       "      <td>0</td>\n",
       "      <td>2</td>\n",
       "      <td>abstract_task</td>\n",
       "      <td>doxorubicin</td>\n",
       "      <td>myxomatous degeneration</td>\n",
       "      <td>&lt;title&gt;Human and canine ventricular vasoactive inte...</td>\n",
       "      <td>0</td>\n",
       "    </tr>\n",
       "    <tr>\n",
       "      <th>4</th>\n",
       "      <td>11745287</td>\n",
       "      <td>MESH:D016190</td>\n",
       "      <td>MESH:D015431</td>\n",
       "      <td>1</td>\n",
       "      <td>0</td>\n",
       "      <td>1</td>\n",
       "      <td>0</td>\n",
       "      <td>3</td>\n",
       "      <td>abstract_task</td>\n",
       "      <td>carboplatin</td>\n",
       "      <td>weight loss</td>\n",
       "      <td>&lt;title&gt;Phase II study of &lt;span class=\"chemical\"&gt;car...</td>\n",
       "      <td>1</td>\n",
       "    </tr>\n",
       "    <tr>\n",
       "      <th>5</th>\n",
       "      <td>1615846</td>\n",
       "      <td>MESH:D003401</td>\n",
       "      <td>MESH:D006951</td>\n",
       "      <td>0</td>\n",
       "      <td>0</td>\n",
       "      <td>0</td>\n",
       "      <td>0</td>\n",
       "      <td>0</td>\n",
       "      <td>abstract_task</td>\n",
       "      <td>creatine</td>\n",
       "      <td>hyperlipoproteinemias</td>\n",
       "      <td>&lt;title&gt;Gemfibrozil-lovastatin therapy for primary &lt;...</td>\n",
       "      <td>1</td>\n",
       "    </tr>\n",
       "    <tr>\n",
       "      <th>6</th>\n",
       "      <td>23872883</td>\n",
       "      <td>MESH:D009569</td>\n",
       "      <td>MESH:D066126</td>\n",
       "      <td>0</td>\n",
       "      <td>0</td>\n",
       "      <td>0</td>\n",
       "      <td>0</td>\n",
       "      <td>0</td>\n",
       "      <td>abstract_task</td>\n",
       "      <td>nitric oxide</td>\n",
       "      <td>cardiotoxicity</td>\n",
       "      <td>&lt;title&gt;Biochemical effects of Solidago virgaurea ex...</td>\n",
       "      <td>1</td>\n",
       "    </tr>\n",
       "    <tr>\n",
       "      <th>7</th>\n",
       "      <td>9759693</td>\n",
       "      <td>MESH:D018170</td>\n",
       "      <td>MESH:D017202</td>\n",
       "      <td>0</td>\n",
       "      <td>1</td>\n",
       "      <td>0</td>\n",
       "      <td>1</td>\n",
       "      <td>5</td>\n",
       "      <td>sentence_task</td>\n",
       "      <td>sumatriptan</td>\n",
       "      <td>myocardial ischemia</td>\n",
       "      <td>Cases have been published of coronary vasospasm, &lt;s...</td>\n",
       "      <td>1</td>\n",
       "    </tr>\n",
       "    <tr>\n",
       "      <th>8</th>\n",
       "      <td>19392810</td>\n",
       "      <td>MESH:D003932</td>\n",
       "      <td>MESH:D007238</td>\n",
       "      <td>0</td>\n",
       "      <td>1</td>\n",
       "      <td>0</td>\n",
       "      <td>0</td>\n",
       "      <td>4</td>\n",
       "      <td>abstract_task</td>\n",
       "      <td>heroin</td>\n",
       "      <td>ischemic infarction</td>\n",
       "      <td>&lt;title&gt;Rhabdomyolysis and brain ischemic stroke in ...</td>\n",
       "      <td>0</td>\n",
       "    </tr>\n",
       "    <tr>\n",
       "      <th>9</th>\n",
       "      <td>9889429</td>\n",
       "      <td>MESH:D009543</td>\n",
       "      <td>MESH:D006973</td>\n",
       "      <td>0</td>\n",
       "      <td>0</td>\n",
       "      <td>0</td>\n",
       "      <td>0</td>\n",
       "      <td>1</td>\n",
       "      <td>sentence_task</td>\n",
       "      <td>nifedipine</td>\n",
       "      <td>hypertension</td>\n",
       "      <td>Long-term efficacy and adverse event of &lt;span class...</td>\n",
       "      <td>1</td>\n",
       "    </tr>\n",
       "    <tr>\n",
       "      <th>10</th>\n",
       "      <td>17297207</td>\n",
       "      <td>MESH:D005947</td>\n",
       "      <td>MESH:D008288</td>\n",
       "      <td>0</td>\n",
       "      <td>0</td>\n",
       "      <td>0</td>\n",
       "      <td>0</td>\n",
       "      <td>0</td>\n",
       "      <td>sentence_task</td>\n",
       "      <td>dextrose</td>\n",
       "      <td>malaria</td>\n",
       "      <td>On admission, laboratory examination showed Plasmod...</td>\n",
       "      <td>0</td>\n",
       "    </tr>\n",
       "    <tr>\n",
       "      <th>11</th>\n",
       "      <td>17297207</td>\n",
       "      <td>MESH:D011803</td>\n",
       "      <td>MESH:D014839</td>\n",
       "      <td>0</td>\n",
       "      <td>0</td>\n",
       "      <td>1</td>\n",
       "      <td>0</td>\n",
       "      <td>1</td>\n",
       "      <td>sentence_task</td>\n",
       "      <td>quinine</td>\n",
       "      <td>vomiting</td>\n",
       "      <td>Administration of parenteral &lt;span class=\"chemical\"...</td>\n",
       "      <td>0</td>\n",
       "    </tr>\n",
       "    <tr>\n",
       "      <th>12</th>\n",
       "      <td>24438483</td>\n",
       "      <td>MESH:D015742</td>\n",
       "      <td>MESH:D002318</td>\n",
       "      <td>0</td>\n",
       "      <td>0</td>\n",
       "      <td>0</td>\n",
       "      <td>0</td>\n",
       "      <td>2</td>\n",
       "      <td>sentence_task</td>\n",
       "      <td>propofol</td>\n",
       "      <td>cardiovascular depression</td>\n",
       "      <td>Pre-treatment of bupivacaine-induced &lt;span class=\"d...</td>\n",
       "      <td>1</td>\n",
       "    </tr>\n",
       "    <tr>\n",
       "      <th>13</th>\n",
       "      <td>20959502</td>\n",
       "      <td>MESH:D010068</td>\n",
       "      <td>MESH:D016470</td>\n",
       "      <td>0</td>\n",
       "      <td>0</td>\n",
       "      <td>0</td>\n",
       "      <td>0</td>\n",
       "      <td>1</td>\n",
       "      <td>abstract_task</td>\n",
       "      <td>oxacillin</td>\n",
       "      <td>bacteremia</td>\n",
       "      <td>&lt;title&gt;Cerebrospinal fluid penetration of high-dose...</td>\n",
       "      <td>0</td>\n",
       "    </tr>\n",
       "    <tr>\n",
       "      <th>14</th>\n",
       "      <td>7644931</td>\n",
       "      <td>MESH:D017239</td>\n",
       "      <td>MESH:D012678</td>\n",
       "      <td>1</td>\n",
       "      <td>0</td>\n",
       "      <td>0</td>\n",
       "      <td>0</td>\n",
       "      <td>NaN</td>\n",
       "      <td>NaN</td>\n",
       "      <td>NaN</td>\n",
       "      <td>NaN</td>\n",
       "      <td>NaN</td>\n",
       "      <td>NaN</td>\n",
       "    </tr>\n",
       "    <tr>\n",
       "      <th>15</th>\n",
       "      <td>7644931</td>\n",
       "      <td>MESH:D017239</td>\n",
       "      <td>MESH:D064420</td>\n",
       "      <td>0</td>\n",
       "      <td>0</td>\n",
       "      <td>0</td>\n",
       "      <td>1</td>\n",
       "      <td>0</td>\n",
       "      <td>sentence_task</td>\n",
       "      <td>paclitaxel</td>\n",
       "      <td>Toxicities</td>\n",
       "      <td>&lt;span class=\"disease\"&gt;Toxicities&lt;/span&gt; were compar...</td>\n",
       "      <td>1</td>\n",
       "    </tr>\n",
       "    <tr>\n",
       "      <th>16</th>\n",
       "      <td>17554526</td>\n",
       "      <td>MESH:D018817</td>\n",
       "      <td>MESH:D003072</td>\n",
       "      <td>0</td>\n",
       "      <td>0</td>\n",
       "      <td>0</td>\n",
       "      <td>0</td>\n",
       "      <td>1</td>\n",
       "      <td>abstract_task</td>\n",
       "      <td>ecstasy</td>\n",
       "      <td>impaired fear recognition accuracy/Impaired fear re...</td>\n",
       "      <td>&lt;title&gt;&lt;span class=\"disease\"&gt;Impaired fear recognit...</td>\n",
       "      <td>0</td>\n",
       "    </tr>\n",
       "    <tr>\n",
       "      <th>17</th>\n",
       "      <td>19967075</td>\n",
       "      <td>MESH:D012964</td>\n",
       "      <td>MESH:D007674</td>\n",
       "      <td>0</td>\n",
       "      <td>0</td>\n",
       "      <td>0</td>\n",
       "      <td>0</td>\n",
       "      <td>2</td>\n",
       "      <td>sentence_task</td>\n",
       "      <td>Na</td>\n",
       "      <td>Nephropathy</td>\n",
       "      <td>Decreased Expression of &lt;span class=\"chemical\"&gt;Na&lt;/...</td>\n",
       "      <td>0</td>\n",
       "    </tr>\n",
       "    <tr>\n",
       "      <th>18</th>\n",
       "      <td>18422462</td>\n",
       "      <td>MESH:D000409</td>\n",
       "      <td>MESH:D007565</td>\n",
       "      <td>0</td>\n",
       "      <td>0</td>\n",
       "      <td>0</td>\n",
       "      <td>0</td>\n",
       "      <td>0</td>\n",
       "      <td>sentence_task</td>\n",
       "      <td>alanine</td>\n",
       "      <td>jaundice</td>\n",
       "      <td>Clinically significant anemia (hemoglobin &lt;7 g/dL) ...</td>\n",
       "      <td>1</td>\n",
       "    </tr>\n",
       "    <tr>\n",
       "      <th>19</th>\n",
       "      <td>20589632</td>\n",
       "      <td>MESH:D013420</td>\n",
       "      <td>MESH:D006461</td>\n",
       "      <td>0</td>\n",
       "      <td>0</td>\n",
       "      <td>0</td>\n",
       "      <td>0</td>\n",
       "      <td>0</td>\n",
       "      <td>abstract_task</td>\n",
       "      <td>sulfamethoxazole</td>\n",
       "      <td>hemolysis</td>\n",
       "      <td>&lt;title&gt;Trimethoprim-induced immune hemolytic anemia...</td>\n",
       "      <td>0</td>\n",
       "    </tr>\n",
       "    <tr>\n",
       "      <th>20</th>\n",
       "      <td>3439580</td>\n",
       "      <td>MESH:D007099</td>\n",
       "      <td>MESH:D009447</td>\n",
       "      <td>0</td>\n",
       "      <td>1</td>\n",
       "      <td>0</td>\n",
       "      <td>1</td>\n",
       "      <td>4</td>\n",
       "      <td>sentence_task</td>\n",
       "      <td>imipramine</td>\n",
       "      <td>neuroblastoma</td>\n",
       "      <td>Hypertension in &lt;span class=\"disease\"&gt;neuroblastoma...</td>\n",
       "      <td>1</td>\n",
       "    </tr>\n",
       "    <tr>\n",
       "      <th>21</th>\n",
       "      <td>24088636</td>\n",
       "      <td>MESH:C098010</td>\n",
       "      <td>MESH:D014376</td>\n",
       "      <td>0</td>\n",
       "      <td>0</td>\n",
       "      <td>0</td>\n",
       "      <td>0</td>\n",
       "      <td>0</td>\n",
       "      <td>sentence_task</td>\n",
       "      <td>linezolid</td>\n",
       "      <td>tuberculous</td>\n",
       "      <td>A 45-year-old male patient who was on treatment wit...</td>\n",
       "      <td>0</td>\n",
       "    </tr>\n",
       "    <tr>\n",
       "      <th>22</th>\n",
       "      <td>8819482</td>\n",
       "      <td>MESH:D004110</td>\n",
       "      <td>MESH:D017202</td>\n",
       "      <td>0</td>\n",
       "      <td>0</td>\n",
       "      <td>0</td>\n",
       "      <td>0</td>\n",
       "      <td>1</td>\n",
       "      <td>sentence_task</td>\n",
       "      <td>diltiazem</td>\n",
       "      <td>myocardial ischemia</td>\n",
       "      <td>Effects of CD-832 on isoproterenol (ISO)-induced &lt;s...</td>\n",
       "      <td>1</td>\n",
       "    </tr>\n",
       "    <tr>\n",
       "      <th>23</th>\n",
       "      <td>4010471</td>\n",
       "      <td>MESH:D009538</td>\n",
       "      <td>MESH:D012640</td>\n",
       "      <td>1</td>\n",
       "      <td>1</td>\n",
       "      <td>1</td>\n",
       "      <td>1</td>\n",
       "      <td>5</td>\n",
       "      <td>cid_relation</td>\n",
       "      <td>NaN</td>\n",
       "      <td>NaN</td>\n",
       "      <td>NaN</td>\n",
       "      <td>1</td>\n",
       "    </tr>\n",
       "    <tr>\n",
       "      <th>24</th>\n",
       "      <td>3323259</td>\n",
       "      <td>MESH:D004110</td>\n",
       "      <td>MESH:D004244</td>\n",
       "      <td>0</td>\n",
       "      <td>0</td>\n",
       "      <td>1</td>\n",
       "      <td>0</td>\n",
       "      <td>3</td>\n",
       "      <td>abstract_task</td>\n",
       "      <td>diltiazem</td>\n",
       "      <td>dizziness</td>\n",
       "      <td>&lt;title&gt;Differential effects of 1,4-dihydropyridine ...</td>\n",
       "      <td>1</td>\n",
       "    </tr>\n",
       "    <tr>\n",
       "      <th>25</th>\n",
       "      <td>3323259</td>\n",
       "      <td>MESH:D009553</td>\n",
       "      <td>MESH:D006261</td>\n",
       "      <td>0</td>\n",
       "      <td>0</td>\n",
       "      <td>0</td>\n",
       "      <td>0</td>\n",
       "      <td>2</td>\n",
       "      <td>abstract_task</td>\n",
       "      <td>nimodipine</td>\n",
       "      <td>headache</td>\n",
       "      <td>&lt;title&gt;Differential effects of 1,4-dihydropyridine ...</td>\n",
       "      <td>1</td>\n",
       "    </tr>\n",
       "    <tr>\n",
       "      <th>26</th>\n",
       "      <td>19263707</td>\n",
       "      <td>MESH:D002231</td>\n",
       "      <td>MESH:D014657</td>\n",
       "      <td>0</td>\n",
       "      <td>1</td>\n",
       "      <td>1</td>\n",
       "      <td>1</td>\n",
       "      <td>5</td>\n",
       "      <td>cid_relation</td>\n",
       "      <td>NaN</td>\n",
       "      <td>NaN</td>\n",
       "      <td>NaN</td>\n",
       "      <td>0</td>\n",
       "    </tr>\n",
       "    <tr>\n",
       "      <th>27</th>\n",
       "      <td>15815446</td>\n",
       "      <td>MESH:D010656</td>\n",
       "      <td>MESH:D020244</td>\n",
       "      <td>0</td>\n",
       "      <td>0</td>\n",
       "      <td>0</td>\n",
       "      <td>0</td>\n",
       "      <td>1</td>\n",
       "      <td>sentence_task</td>\n",
       "      <td>phenylephrine</td>\n",
       "      <td>temporary middle cerebral artery occlusion</td>\n",
       "      <td>After 180 min of &lt;span class=\"disease\"&gt;temporary mi...</td>\n",
       "      <td>0</td>\n",
       "    </tr>\n",
       "    <tr>\n",
       "      <th>28</th>\n",
       "      <td>17879100</td>\n",
       "      <td>MESH:D013256</td>\n",
       "      <td>MESH:D011507</td>\n",
       "      <td>0</td>\n",
       "      <td>0</td>\n",
       "      <td>0</td>\n",
       "      <td>0</td>\n",
       "      <td>0</td>\n",
       "      <td>abstract_task</td>\n",
       "      <td>steroids</td>\n",
       "      <td>proteinuria</td>\n",
       "      <td>&lt;title&gt;Non-steroidal anti-inflammatory drugs-associ...</td>\n",
       "      <td>1</td>\n",
       "    </tr>\n",
       "    <tr>\n",
       "      <th>29</th>\n",
       "      <td>19293073</td>\n",
       "      <td>MESH:D001241</td>\n",
       "      <td>MESH:D006471</td>\n",
       "      <td>1</td>\n",
       "      <td>0</td>\n",
       "      <td>1</td>\n",
       "      <td>0</td>\n",
       "      <td>NaN</td>\n",
       "      <td>NaN</td>\n",
       "      <td>NaN</td>\n",
       "      <td>NaN</td>\n",
       "      <td>NaN</td>\n",
       "      <td>NaN</td>\n",
       "    </tr>\n",
       "    <tr>\n",
       "      <th>...</th>\n",
       "      <td>...</td>\n",
       "      <td>...</td>\n",
       "      <td>...</td>\n",
       "      <td>...</td>\n",
       "      <td>...</td>\n",
       "      <td>...</td>\n",
       "      <td>...</td>\n",
       "      <td>...</td>\n",
       "      <td>...</td>\n",
       "      <td>...</td>\n",
       "      <td>...</td>\n",
       "      <td>...</td>\n",
       "      <td>...</td>\n",
       "    </tr>\n",
       "    <tr>\n",
       "      <th>5411</th>\n",
       "      <td>24911645</td>\n",
       "      <td>MESH:C573355</td>\n",
       "      <td>MESH:D012640</td>\n",
       "      <td>0</td>\n",
       "      <td>1</td>\n",
       "      <td>0</td>\n",
       "      <td>0</td>\n",
       "      <td>4</td>\n",
       "      <td>sentence_task</td>\n",
       "      <td>GFC</td>\n",
       "      <td>seizures/seizure</td>\n",
       "      <td>The present study aimed to evaluate the &lt;span class...</td>\n",
       "      <td>0</td>\n",
       "    </tr>\n",
       "    <tr>\n",
       "      <th>5412</th>\n",
       "      <td>25951420</td>\n",
       "      <td>MESH:D010126</td>\n",
       "      <td>MESH:D010300</td>\n",
       "      <td>1</td>\n",
       "      <td>1</td>\n",
       "      <td>1</td>\n",
       "      <td>1</td>\n",
       "      <td>4</td>\n",
       "      <td>sentence_task</td>\n",
       "      <td>Ozone</td>\n",
       "      <td>Parkinson's Disease</td>\n",
       "      <td>Associations of &lt;span class=\"chemical\"&gt;Ozone&lt;/span&gt;...</td>\n",
       "      <td>1</td>\n",
       "    </tr>\n",
       "    <tr>\n",
       "      <th>5413</th>\n",
       "      <td>24434397</td>\n",
       "      <td>MESH:D014148</td>\n",
       "      <td>MESH:D006470</td>\n",
       "      <td>0</td>\n",
       "      <td>0</td>\n",
       "      <td>0</td>\n",
       "      <td>0</td>\n",
       "      <td>0</td>\n",
       "      <td>sentence_task</td>\n",
       "      <td>Tranexamic acid</td>\n",
       "      <td>bleeding</td>\n",
       "      <td>&lt;span class=\"chemical\"&gt;Tranexamic acid&lt;/span&gt; (TNA)...</td>\n",
       "      <td>0</td>\n",
       "    </tr>\n",
       "    <tr>\n",
       "      <th>5414</th>\n",
       "      <td>6585590</td>\n",
       "      <td>MESH:D004317</td>\n",
       "      <td>MESH:D009202</td>\n",
       "      <td>0</td>\n",
       "      <td>0</td>\n",
       "      <td>0</td>\n",
       "      <td>0</td>\n",
       "      <td>0</td>\n",
       "      <td>abstract_task</td>\n",
       "      <td>doxorubicin</td>\n",
       "      <td>cardiomyopathy</td>\n",
       "      <td>&lt;title&gt;Antitumor effect, cardiotoxicity, and nephro...</td>\n",
       "      <td>1</td>\n",
       "    </tr>\n",
       "    <tr>\n",
       "      <th>5415</th>\n",
       "      <td>20009434</td>\n",
       "      <td>MESH:D008727</td>\n",
       "      <td>MESH:D007674</td>\n",
       "      <td>0</td>\n",
       "      <td>1</td>\n",
       "      <td>0</td>\n",
       "      <td>0</td>\n",
       "      <td>5</td>\n",
       "      <td>sentence_task</td>\n",
       "      <td>methotrexate/MTX</td>\n",
       "      <td>renal toxicity</td>\n",
       "      <td>High-dose &lt;span class=\"chemical\"&gt;methotrexate&lt;/span...</td>\n",
       "      <td>0</td>\n",
       "    </tr>\n",
       "    <tr>\n",
       "      <th>5416</th>\n",
       "      <td>9323412</td>\n",
       "      <td>MESH:D017294</td>\n",
       "      <td>MESH:D003866</td>\n",
       "      <td>0</td>\n",
       "      <td>0</td>\n",
       "      <td>1</td>\n",
       "      <td>1</td>\n",
       "      <td>NaN</td>\n",
       "      <td>NaN</td>\n",
       "      <td>NaN</td>\n",
       "      <td>NaN</td>\n",
       "      <td>NaN</td>\n",
       "      <td>NaN</td>\n",
       "    </tr>\n",
       "    <tr>\n",
       "      <th>5417</th>\n",
       "      <td>946593</td>\n",
       "      <td>MESH:D008727</td>\n",
       "      <td>MESH:D010264</td>\n",
       "      <td>1</td>\n",
       "      <td>1</td>\n",
       "      <td>1</td>\n",
       "      <td>1</td>\n",
       "      <td>5</td>\n",
       "      <td>sentence_task</td>\n",
       "      <td>methotrexate</td>\n",
       "      <td>Paraplegia</td>\n",
       "      <td>&lt;span class=\"disease\"&gt;Paraplegia&lt;/span&gt; following i...</td>\n",
       "      <td>0</td>\n",
       "    </tr>\n",
       "    <tr>\n",
       "      <th>5418</th>\n",
       "      <td>19681452</td>\n",
       "      <td>MESH:D000431</td>\n",
       "      <td>MESH:D002544</td>\n",
       "      <td>1</td>\n",
       "      <td>0</td>\n",
       "      <td>0</td>\n",
       "      <td>0</td>\n",
       "      <td>NaN</td>\n",
       "      <td>NaN</td>\n",
       "      <td>NaN</td>\n",
       "      <td>NaN</td>\n",
       "      <td>NaN</td>\n",
       "      <td>NaN</td>\n",
       "    </tr>\n",
       "    <tr>\n",
       "      <th>5419</th>\n",
       "      <td>23666265</td>\n",
       "      <td>MESH:D003520</td>\n",
       "      <td>MESH:D010146</td>\n",
       "      <td>1</td>\n",
       "      <td>1</td>\n",
       "      <td>1</td>\n",
       "      <td>0</td>\n",
       "      <td>5</td>\n",
       "      <td>sentence_task</td>\n",
       "      <td>Cyclophosphamide</td>\n",
       "      <td>pain behaviors</td>\n",
       "      <td>RESULTS: &lt;span class=\"chemical\"&gt;Cyclophosphamide&lt;/s...</td>\n",
       "      <td>0</td>\n",
       "    </tr>\n",
       "    <tr>\n",
       "      <th>5420</th>\n",
       "      <td>2400986</td>\n",
       "      <td>MESH:D002066</td>\n",
       "      <td>MESH:D020258</td>\n",
       "      <td>0</td>\n",
       "      <td>1</td>\n",
       "      <td>0</td>\n",
       "      <td>0</td>\n",
       "      <td>5</td>\n",
       "      <td>sentence_task</td>\n",
       "      <td>busulfan</td>\n",
       "      <td>neurotoxicity</td>\n",
       "      <td>Dose-dependent &lt;span class=\"disease\"&gt;neurotoxicity&lt;...</td>\n",
       "      <td>0</td>\n",
       "    </tr>\n",
       "    <tr>\n",
       "      <th>5421</th>\n",
       "      <td>8312343</td>\n",
       "      <td>MESH:D004317</td>\n",
       "      <td>MESH:D006973</td>\n",
       "      <td>0</td>\n",
       "      <td>0</td>\n",
       "      <td>0</td>\n",
       "      <td>1</td>\n",
       "      <td>0</td>\n",
       "      <td>abstract_task</td>\n",
       "      <td>doxorubicin</td>\n",
       "      <td>hypertension</td>\n",
       "      <td>&lt;title&gt;Pediatric heart transplantation without chro...</td>\n",
       "      <td>1</td>\n",
       "    </tr>\n",
       "    <tr>\n",
       "      <th>5422</th>\n",
       "      <td>3083835</td>\n",
       "      <td>MESH:D010406</td>\n",
       "      <td>MESH:D000707</td>\n",
       "      <td>1</td>\n",
       "      <td>1</td>\n",
       "      <td>1</td>\n",
       "      <td>1</td>\n",
       "      <td>4</td>\n",
       "      <td>sentence_task</td>\n",
       "      <td>Penicillin</td>\n",
       "      <td>anaphylaxis</td>\n",
       "      <td>&lt;span class=\"chemical\"&gt;Penicillin&lt;/span&gt; &lt;span clas...</td>\n",
       "      <td>1</td>\n",
       "    </tr>\n",
       "    <tr>\n",
       "      <th>5423</th>\n",
       "      <td>9578276</td>\n",
       "      <td>MESH:D010121</td>\n",
       "      <td>MESH:D006473</td>\n",
       "      <td>0</td>\n",
       "      <td>0</td>\n",
       "      <td>0</td>\n",
       "      <td>0</td>\n",
       "      <td>2</td>\n",
       "      <td>abstract_task</td>\n",
       "      <td>oxytocin</td>\n",
       "      <td>blood loss</td>\n",
       "      <td>&lt;title&gt;Ascending dose tolerance study of intramuscu...</td>\n",
       "      <td>1</td>\n",
       "    </tr>\n",
       "    <tr>\n",
       "      <th>5424</th>\n",
       "      <td>24234943</td>\n",
       "      <td>MESH:D012964</td>\n",
       "      <td>MESH:D001008</td>\n",
       "      <td>0</td>\n",
       "      <td>0</td>\n",
       "      <td>0</td>\n",
       "      <td>0</td>\n",
       "      <td>1</td>\n",
       "      <td>abstract_task</td>\n",
       "      <td>sodium</td>\n",
       "      <td>anxiety</td>\n",
       "      <td>&lt;title&gt;Syndrome of inappropriate antidiuretic hormo...</td>\n",
       "      <td>1</td>\n",
       "    </tr>\n",
       "    <tr>\n",
       "      <th>5425</th>\n",
       "      <td>6806735</td>\n",
       "      <td>MESH:C034868</td>\n",
       "      <td>MESH:D005767</td>\n",
       "      <td>1</td>\n",
       "      <td>0</td>\n",
       "      <td>0</td>\n",
       "      <td>0</td>\n",
       "      <td>NaN</td>\n",
       "      <td>NaN</td>\n",
       "      <td>NaN</td>\n",
       "      <td>NaN</td>\n",
       "      <td>NaN</td>\n",
       "      <td>NaN</td>\n",
       "    </tr>\n",
       "    <tr>\n",
       "      <th>5426</th>\n",
       "      <td>10939760</td>\n",
       "      <td>MESH:D013411</td>\n",
       "      <td>MESH:D007669</td>\n",
       "      <td>1</td>\n",
       "      <td>1</td>\n",
       "      <td>1</td>\n",
       "      <td>1</td>\n",
       "      <td>5</td>\n",
       "      <td>sentence_task</td>\n",
       "      <td>sulfadiazine</td>\n",
       "      <td>renal calculi</td>\n",
       "      <td>Under treatment with &lt;span class=\"chemical\"&gt;sulfadi...</td>\n",
       "      <td>1</td>\n",
       "    </tr>\n",
       "    <tr>\n",
       "      <th>5427</th>\n",
       "      <td>16920333</td>\n",
       "      <td>MESH:D002220</td>\n",
       "      <td>MESH:D012640</td>\n",
       "      <td>0</td>\n",
       "      <td>0</td>\n",
       "      <td>0</td>\n",
       "      <td>0</td>\n",
       "      <td>0</td>\n",
       "      <td>abstract_task</td>\n",
       "      <td>CBZ/carbamazepine</td>\n",
       "      <td>seizures/seizure</td>\n",
       "      <td>&lt;title&gt;Anticonvulsant effect of eslicarbazepine ace...</td>\n",
       "      <td>1</td>\n",
       "    </tr>\n",
       "    <tr>\n",
       "      <th>5428</th>\n",
       "      <td>19108278</td>\n",
       "      <td>MESH:D005230</td>\n",
       "      <td>MESH:D009135</td>\n",
       "      <td>0</td>\n",
       "      <td>0</td>\n",
       "      <td>0</td>\n",
       "      <td>0</td>\n",
       "      <td>1</td>\n",
       "      <td>abstract_task</td>\n",
       "      <td>free fatty acids</td>\n",
       "      <td>atrial muscle</td>\n",
       "      <td>&lt;title&gt;The biological properties of the optical iso...</td>\n",
       "      <td>0</td>\n",
       "    </tr>\n",
       "    <tr>\n",
       "      <th>5429</th>\n",
       "      <td>6806735</td>\n",
       "      <td>MESH:D003520</td>\n",
       "      <td>MESH:D000740</td>\n",
       "      <td>0</td>\n",
       "      <td>1</td>\n",
       "      <td>1</td>\n",
       "      <td>0</td>\n",
       "      <td>4</td>\n",
       "      <td>abstract_task</td>\n",
       "      <td>cyclophosphamide</td>\n",
       "      <td>anemia</td>\n",
       "      <td>&lt;title&gt;Treatment of ovarian cancer with a combinati...</td>\n",
       "      <td>1</td>\n",
       "    </tr>\n",
       "    <tr>\n",
       "      <th>5430</th>\n",
       "      <td>7477981</td>\n",
       "      <td>MESH:D001058</td>\n",
       "      <td>MESH:D004409</td>\n",
       "      <td>1</td>\n",
       "      <td>1</td>\n",
       "      <td>1</td>\n",
       "      <td>0</td>\n",
       "      <td>5</td>\n",
       "      <td>cid_relation</td>\n",
       "      <td>NaN</td>\n",
       "      <td>NaN</td>\n",
       "      <td>NaN</td>\n",
       "      <td>0</td>\n",
       "    </tr>\n",
       "    <tr>\n",
       "      <th>5431</th>\n",
       "      <td>7644931</td>\n",
       "      <td>MESH:D016190</td>\n",
       "      <td>MESH:D002289</td>\n",
       "      <td>0</td>\n",
       "      <td>0</td>\n",
       "      <td>0</td>\n",
       "      <td>0</td>\n",
       "      <td>0</td>\n",
       "      <td>sentence_task</td>\n",
       "      <td>carboplatin</td>\n",
       "      <td>non-small cell lung cancer</td>\n",
       "      <td>Paclitaxel (Taxol; Bristol-Myers Squibb Company, Pr...</td>\n",
       "      <td>1</td>\n",
       "    </tr>\n",
       "    <tr>\n",
       "      <th>5432</th>\n",
       "      <td>25084821</td>\n",
       "      <td>MESH:C069541</td>\n",
       "      <td>MESH:D001714</td>\n",
       "      <td>0</td>\n",
       "      <td>0</td>\n",
       "      <td>0</td>\n",
       "      <td>0</td>\n",
       "      <td>0</td>\n",
       "      <td>sentence_task</td>\n",
       "      <td>Quetiapine</td>\n",
       "      <td>bipolar</td>\n",
       "      <td>&lt;span class=\"chemical\"&gt;Quetiapine&lt;/span&gt;-induced ne...</td>\n",
       "      <td>1</td>\n",
       "    </tr>\n",
       "    <tr>\n",
       "      <th>5433</th>\n",
       "      <td>1837756</td>\n",
       "      <td>MESH:D004298</td>\n",
       "      <td>MESH:D001523</td>\n",
       "      <td>0</td>\n",
       "      <td>0</td>\n",
       "      <td>0</td>\n",
       "      <td>0</td>\n",
       "      <td>0</td>\n",
       "      <td>abstract_task</td>\n",
       "      <td>dopamine</td>\n",
       "      <td>psychiatric</td>\n",
       "      <td>&lt;title&gt;Serotonin reuptake inhibitors, paranoia, and...</td>\n",
       "      <td>0</td>\n",
       "    </tr>\n",
       "    <tr>\n",
       "      <th>5434</th>\n",
       "      <td>24675088</td>\n",
       "      <td>MESH:D004317</td>\n",
       "      <td>MESH:D006984</td>\n",
       "      <td>0</td>\n",
       "      <td>0</td>\n",
       "      <td>0</td>\n",
       "      <td>0</td>\n",
       "      <td>3</td>\n",
       "      <td>abstract_task</td>\n",
       "      <td>doxorubicin/DOX</td>\n",
       "      <td>hypertrophy</td>\n",
       "      <td>&lt;title&gt;An integrated characterization of serologica...</td>\n",
       "      <td>1</td>\n",
       "    </tr>\n",
       "    <tr>\n",
       "      <th>5435</th>\n",
       "      <td>15229250</td>\n",
       "      <td>MESH:D008694</td>\n",
       "      <td>MESH:D001930</td>\n",
       "      <td>1</td>\n",
       "      <td>1</td>\n",
       "      <td>0</td>\n",
       "      <td>0</td>\n",
       "      <td>5</td>\n",
       "      <td>abstract_task</td>\n",
       "      <td>methamphetamine</td>\n",
       "      <td>Hippocampal deficits/brain injury</td>\n",
       "      <td>&lt;title&gt;Structural abnormalities in the brains of hu...</td>\n",
       "      <td>0</td>\n",
       "    </tr>\n",
       "    <tr>\n",
       "      <th>5436</th>\n",
       "      <td>1615846</td>\n",
       "      <td>MESH:D008148</td>\n",
       "      <td>MESH:D012206</td>\n",
       "      <td>0</td>\n",
       "      <td>0</td>\n",
       "      <td>0</td>\n",
       "      <td>0</td>\n",
       "      <td>0</td>\n",
       "      <td>abstract_task</td>\n",
       "      <td>lovastatin</td>\n",
       "      <td>rhabdomyolysis</td>\n",
       "      <td>&lt;title&gt;Gemfibrozil-&lt;span class=\"chemical\"&gt;lovastati...</td>\n",
       "      <td>0</td>\n",
       "    </tr>\n",
       "    <tr>\n",
       "      <th>5437</th>\n",
       "      <td>6310832</td>\n",
       "      <td>MESH:D016572</td>\n",
       "      <td>MESH:D020031</td>\n",
       "      <td>0</td>\n",
       "      <td>1</td>\n",
       "      <td>0</td>\n",
       "      <td>0</td>\n",
       "      <td>4</td>\n",
       "      <td>sentence_task</td>\n",
       "      <td>cyclosporine</td>\n",
       "      <td>Epstein Barr Virus infection</td>\n",
       "      <td>Serological evidence for &lt;span class=\"disease\"&gt;Epst...</td>\n",
       "      <td>0</td>\n",
       "    </tr>\n",
       "    <tr>\n",
       "      <th>5438</th>\n",
       "      <td>17297207</td>\n",
       "      <td>MESH:D011803</td>\n",
       "      <td>MESH:D014883</td>\n",
       "      <td>0</td>\n",
       "      <td>0</td>\n",
       "      <td>0</td>\n",
       "      <td>0</td>\n",
       "      <td>0</td>\n",
       "      <td>sentence_task</td>\n",
       "      <td>quinine</td>\n",
       "      <td>electrolyte disorder</td>\n",
       "      <td>Administration of parenteral &lt;span class=\"chemical\"...</td>\n",
       "      <td>1</td>\n",
       "    </tr>\n",
       "    <tr>\n",
       "      <th>5439</th>\n",
       "      <td>24438483</td>\n",
       "      <td>MESH:D007649</td>\n",
       "      <td>MESH:D066126</td>\n",
       "      <td>0</td>\n",
       "      <td>0</td>\n",
       "      <td>0</td>\n",
       "      <td>0</td>\n",
       "      <td>0</td>\n",
       "      <td>abstract_task</td>\n",
       "      <td>ketamine</td>\n",
       "      <td>cardiotoxic/cardiotoxicity</td>\n",
       "      <td>&lt;title&gt;Pre-treatment of bupivacaine-induced cardiov...</td>\n",
       "      <td>1</td>\n",
       "    </tr>\n",
       "    <tr>\n",
       "      <th>5440</th>\n",
       "      <td>24209900</td>\n",
       "      <td>MESH:D007069</td>\n",
       "      <td>MESH:D012509</td>\n",
       "      <td>0</td>\n",
       "      <td>0</td>\n",
       "      <td>0</td>\n",
       "      <td>0</td>\n",
       "      <td>0</td>\n",
       "      <td>sentence_task</td>\n",
       "      <td>Ifosfamide</td>\n",
       "      <td>sarcomas</td>\n",
       "      <td>BACKGROUND: &lt;span class=\"chemical\"&gt;Ifosfamide&lt;/span...</td>\n",
       "      <td>1</td>\n",
       "    </tr>\n",
       "  </tbody>\n",
       "</table>\n",
       "<p>5441 rows × 13 columns</p>\n",
       "</div>"
      ],
      "text/plain": [
       "          pmid   chemical_id    disease_id  in_gold  in_crowd  in_texas  \\\n",
       "0     11105626  MESH:D015474  MESH:D000013        0         1         0   \n",
       "1     18987260  MESH:D019808  MESH:D005355        0         0         0   \n",
       "2     24554916  MESH:D010758  MESH:D006505        1         0         0   \n",
       "3      3711722  MESH:D004317  MESH:D009410        0         0         0   \n",
       "4     11745287  MESH:D016190  MESH:D015431        1         0         1   \n",
       "5      1615846  MESH:D003401  MESH:D006951        0         0         0   \n",
       "6     23872883  MESH:D009569  MESH:D066126        0         0         0   \n",
       "7      9759693  MESH:D018170  MESH:D017202        0         1         0   \n",
       "8     19392810  MESH:D003932  MESH:D007238        0         1         0   \n",
       "9      9889429  MESH:D009543  MESH:D006973        0         0         0   \n",
       "10    17297207  MESH:D005947  MESH:D008288        0         0         0   \n",
       "11    17297207  MESH:D011803  MESH:D014839        0         0         1   \n",
       "12    24438483  MESH:D015742  MESH:D002318        0         0         0   \n",
       "13    20959502  MESH:D010068  MESH:D016470        0         0         0   \n",
       "14     7644931  MESH:D017239  MESH:D012678        1         0         0   \n",
       "15     7644931  MESH:D017239  MESH:D064420        0         0         0   \n",
       "16    17554526  MESH:D018817  MESH:D003072        0         0         0   \n",
       "17    19967075  MESH:D012964  MESH:D007674        0         0         0   \n",
       "18    18422462  MESH:D000409  MESH:D007565        0         0         0   \n",
       "19    20589632  MESH:D013420  MESH:D006461        0         0         0   \n",
       "20     3439580  MESH:D007099  MESH:D009447        0         1         0   \n",
       "21    24088636  MESH:C098010  MESH:D014376        0         0         0   \n",
       "22     8819482  MESH:D004110  MESH:D017202        0         0         0   \n",
       "23     4010471  MESH:D009538  MESH:D012640        1         1         1   \n",
       "24     3323259  MESH:D004110  MESH:D004244        0         0         1   \n",
       "25     3323259  MESH:D009553  MESH:D006261        0         0         0   \n",
       "26    19263707  MESH:D002231  MESH:D014657        0         1         1   \n",
       "27    15815446  MESH:D010656  MESH:D020244        0         0         0   \n",
       "28    17879100  MESH:D013256  MESH:D011507        0         0         0   \n",
       "29    19293073  MESH:D001241  MESH:D006471        1         0         1   \n",
       "...        ...           ...           ...      ...       ...       ...   \n",
       "5411  24911645  MESH:C573355  MESH:D012640        0         1         0   \n",
       "5412  25951420  MESH:D010126  MESH:D010300        1         1         1   \n",
       "5413  24434397  MESH:D014148  MESH:D006470        0         0         0   \n",
       "5414   6585590  MESH:D004317  MESH:D009202        0         0         0   \n",
       "5415  20009434  MESH:D008727  MESH:D007674        0         1         0   \n",
       "5416   9323412  MESH:D017294  MESH:D003866        0         0         1   \n",
       "5417    946593  MESH:D008727  MESH:D010264        1         1         1   \n",
       "5418  19681452  MESH:D000431  MESH:D002544        1         0         0   \n",
       "5419  23666265  MESH:D003520  MESH:D010146        1         1         1   \n",
       "5420   2400986  MESH:D002066  MESH:D020258        0         1         0   \n",
       "5421   8312343  MESH:D004317  MESH:D006973        0         0         0   \n",
       "5422   3083835  MESH:D010406  MESH:D000707        1         1         1   \n",
       "5423   9578276  MESH:D010121  MESH:D006473        0         0         0   \n",
       "5424  24234943  MESH:D012964  MESH:D001008        0         0         0   \n",
       "5425   6806735  MESH:C034868  MESH:D005767        1         0         0   \n",
       "5426  10939760  MESH:D013411  MESH:D007669        1         1         1   \n",
       "5427  16920333  MESH:D002220  MESH:D012640        0         0         0   \n",
       "5428  19108278  MESH:D005230  MESH:D009135        0         0         0   \n",
       "5429   6806735  MESH:D003520  MESH:D000740        0         1         1   \n",
       "5430   7477981  MESH:D001058  MESH:D004409        1         1         1   \n",
       "5431   7644931  MESH:D016190  MESH:D002289        0         0         0   \n",
       "5432  25084821  MESH:C069541  MESH:D001714        0         0         0   \n",
       "5433   1837756  MESH:D004298  MESH:D001523        0         0         0   \n",
       "5434  24675088  MESH:D004317  MESH:D006984        0         0         0   \n",
       "5435  15229250  MESH:D008694  MESH:D001930        1         1         0   \n",
       "5436   1615846  MESH:D008148  MESH:D012206        0         0         0   \n",
       "5437   6310832  MESH:D016572  MESH:D020031        0         1         0   \n",
       "5438  17297207  MESH:D011803  MESH:D014883        0         0         0   \n",
       "5439  24438483  MESH:D007649  MESH:D066126        0         0         0   \n",
       "5440  24209900  MESH:D007069  MESH:D012509        0         0         0   \n",
       "\n",
       "      in_befree  num_votes     rel_origin      chemical_name  \\\n",
       "0             0          5  sentence_task       isotretinoin   \n",
       "1             0          1  sentence_task           losartan   \n",
       "2             0        NaN            NaN                NaN   \n",
       "3             0          2  abstract_task        doxorubicin   \n",
       "4             0          3  abstract_task        carboplatin   \n",
       "5             0          0  abstract_task           creatine   \n",
       "6             0          0  abstract_task       nitric oxide   \n",
       "7             1          5  sentence_task        sumatriptan   \n",
       "8             0          4  abstract_task             heroin   \n",
       "9             0          1  sentence_task         nifedipine   \n",
       "10            0          0  sentence_task           dextrose   \n",
       "11            0          1  sentence_task            quinine   \n",
       "12            0          2  sentence_task           propofol   \n",
       "13            0          1  abstract_task          oxacillin   \n",
       "14            0        NaN            NaN                NaN   \n",
       "15            1          0  sentence_task         paclitaxel   \n",
       "16            0          1  abstract_task            ecstasy   \n",
       "17            0          2  sentence_task                 Na   \n",
       "18            0          0  sentence_task            alanine   \n",
       "19            0          0  abstract_task   sulfamethoxazole   \n",
       "20            1          4  sentence_task         imipramine   \n",
       "21            0          0  sentence_task          linezolid   \n",
       "22            0          1  sentence_task          diltiazem   \n",
       "23            1          5   cid_relation                NaN   \n",
       "24            0          3  abstract_task          diltiazem   \n",
       "25            0          2  abstract_task         nimodipine   \n",
       "26            1          5   cid_relation                NaN   \n",
       "27            0          1  sentence_task      phenylephrine   \n",
       "28            0          0  abstract_task           steroids   \n",
       "29            0        NaN            NaN                NaN   \n",
       "...         ...        ...            ...                ...   \n",
       "5411          0          4  sentence_task                GFC   \n",
       "5412          1          4  sentence_task              Ozone   \n",
       "5413          0          0  sentence_task    Tranexamic acid   \n",
       "5414          0          0  abstract_task        doxorubicin   \n",
       "5415          0          5  sentence_task   methotrexate/MTX   \n",
       "5416          1        NaN            NaN                NaN   \n",
       "5417          1          5  sentence_task       methotrexate   \n",
       "5418          0        NaN            NaN                NaN   \n",
       "5419          0          5  sentence_task   Cyclophosphamide   \n",
       "5420          0          5  sentence_task           busulfan   \n",
       "5421          1          0  abstract_task        doxorubicin   \n",
       "5422          1          4  sentence_task         Penicillin   \n",
       "5423          0          2  abstract_task           oxytocin   \n",
       "5424          0          1  abstract_task             sodium   \n",
       "5425          0        NaN            NaN                NaN   \n",
       "5426          1          5  sentence_task       sulfadiazine   \n",
       "5427          0          0  abstract_task  CBZ/carbamazepine   \n",
       "5428          0          1  abstract_task   free fatty acids   \n",
       "5429          0          4  abstract_task   cyclophosphamide   \n",
       "5430          0          5   cid_relation                NaN   \n",
       "5431          0          0  sentence_task        carboplatin   \n",
       "5432          0          0  sentence_task         Quetiapine   \n",
       "5433          0          0  abstract_task           dopamine   \n",
       "5434          0          3  abstract_task    doxorubicin/DOX   \n",
       "5435          0          5  abstract_task    methamphetamine   \n",
       "5436          0          0  abstract_task         lovastatin   \n",
       "5437          0          4  sentence_task       cyclosporine   \n",
       "5438          0          0  sentence_task            quinine   \n",
       "5439          0          0  abstract_task           ketamine   \n",
       "5440          0          0  sentence_task         Ifosfamide   \n",
       "\n",
       "                                                disease_name  \\\n",
       "0                              multiple congenital anomalies   \n",
       "1                                                   fibrosis   \n",
       "2                                                        NaN   \n",
       "3                                    myxomatous degeneration   \n",
       "4                                                weight loss   \n",
       "5                                      hyperlipoproteinemias   \n",
       "6                                             cardiotoxicity   \n",
       "7                                        myocardial ischemia   \n",
       "8                                        ischemic infarction   \n",
       "9                                               hypertension   \n",
       "10                                                   malaria   \n",
       "11                                                  vomiting   \n",
       "12                                 cardiovascular depression   \n",
       "13                                                bacteremia   \n",
       "14                                                       NaN   \n",
       "15                                                Toxicities   \n",
       "16    impaired fear recognition accuracy/Impaired fear re...   \n",
       "17                                               Nephropathy   \n",
       "18                                                  jaundice   \n",
       "19                                                 hemolysis   \n",
       "20                                             neuroblastoma   \n",
       "21                                               tuberculous   \n",
       "22                                       myocardial ischemia   \n",
       "23                                                       NaN   \n",
       "24                                                 dizziness   \n",
       "25                                                  headache   \n",
       "26                                                       NaN   \n",
       "27                temporary middle cerebral artery occlusion   \n",
       "28                                               proteinuria   \n",
       "29                                                       NaN   \n",
       "...                                                      ...   \n",
       "5411                                        seizures/seizure   \n",
       "5412                                     Parkinson's Disease   \n",
       "5413                                                bleeding   \n",
       "5414                                          cardiomyopathy   \n",
       "5415                                          renal toxicity   \n",
       "5416                                                     NaN   \n",
       "5417                                              Paraplegia   \n",
       "5418                                                     NaN   \n",
       "5419                                          pain behaviors   \n",
       "5420                                           neurotoxicity   \n",
       "5421                                            hypertension   \n",
       "5422                                             anaphylaxis   \n",
       "5423                                              blood loss   \n",
       "5424                                                 anxiety   \n",
       "5425                                                     NaN   \n",
       "5426                                           renal calculi   \n",
       "5427                                        seizures/seizure   \n",
       "5428                                           atrial muscle   \n",
       "5429                                                  anemia   \n",
       "5430                                                     NaN   \n",
       "5431                              non-small cell lung cancer   \n",
       "5432                                                 bipolar   \n",
       "5433                                             psychiatric   \n",
       "5434                                             hypertrophy   \n",
       "5435                       Hippocampal deficits/brain injury   \n",
       "5436                                          rhabdomyolysis   \n",
       "5437                            Epstein Barr Virus infection   \n",
       "5438                                    electrolyte disorder   \n",
       "5439                              cardiotoxic/cardiotoxicity   \n",
       "5440                                                sarcomas   \n",
       "\n",
       "                                                   form_text  \\\n",
       "0     We report a newborn infant with <span class=\"diseas...   \n",
       "1     Prolonged treatment with <span class=\"chemical\">los...   \n",
       "2                                                        NaN   \n",
       "3     <title>Human and canine ventricular vasoactive inte...   \n",
       "4     <title>Phase II study of <span class=\"chemical\">car...   \n",
       "5     <title>Gemfibrozil-lovastatin therapy for primary <...   \n",
       "6     <title>Biochemical effects of Solidago virgaurea ex...   \n",
       "7     Cases have been published of coronary vasospasm, <s...   \n",
       "8     <title>Rhabdomyolysis and brain ischemic stroke in ...   \n",
       "9     Long-term efficacy and adverse event of <span class...   \n",
       "10    On admission, laboratory examination showed Plasmod...   \n",
       "11    Administration of parenteral <span class=\"chemical\"...   \n",
       "12    Pre-treatment of bupivacaine-induced <span class=\"d...   \n",
       "13    <title>Cerebrospinal fluid penetration of high-dose...   \n",
       "14                                                       NaN   \n",
       "15    <span class=\"disease\">Toxicities</span> were compar...   \n",
       "16    <title><span class=\"disease\">Impaired fear recognit...   \n",
       "17    Decreased Expression of <span class=\"chemical\">Na</...   \n",
       "18    Clinically significant anemia (hemoglobin <7 g/dL) ...   \n",
       "19    <title>Trimethoprim-induced immune hemolytic anemia...   \n",
       "20    Hypertension in <span class=\"disease\">neuroblastoma...   \n",
       "21    A 45-year-old male patient who was on treatment wit...   \n",
       "22    Effects of CD-832 on isoproterenol (ISO)-induced <s...   \n",
       "23                                                       NaN   \n",
       "24    <title>Differential effects of 1,4-dihydropyridine ...   \n",
       "25    <title>Differential effects of 1,4-dihydropyridine ...   \n",
       "26                                                       NaN   \n",
       "27    After 180 min of <span class=\"disease\">temporary mi...   \n",
       "28    <title>Non-steroidal anti-inflammatory drugs-associ...   \n",
       "29                                                       NaN   \n",
       "...                                                      ...   \n",
       "5411  The present study aimed to evaluate the <span class...   \n",
       "5412  Associations of <span class=\"chemical\">Ozone</span>...   \n",
       "5413  <span class=\"chemical\">Tranexamic acid</span> (TNA)...   \n",
       "5414  <title>Antitumor effect, cardiotoxicity, and nephro...   \n",
       "5415  High-dose <span class=\"chemical\">methotrexate</span...   \n",
       "5416                                                     NaN   \n",
       "5417  <span class=\"disease\">Paraplegia</span> following i...   \n",
       "5418                                                     NaN   \n",
       "5419  RESULTS: <span class=\"chemical\">Cyclophosphamide</s...   \n",
       "5420  Dose-dependent <span class=\"disease\">neurotoxicity<...   \n",
       "5421  <title>Pediatric heart transplantation without chro...   \n",
       "5422  <span class=\"chemical\">Penicillin</span> <span clas...   \n",
       "5423  <title>Ascending dose tolerance study of intramuscu...   \n",
       "5424  <title>Syndrome of inappropriate antidiuretic hormo...   \n",
       "5425                                                     NaN   \n",
       "5426  Under treatment with <span class=\"chemical\">sulfadi...   \n",
       "5427  <title>Anticonvulsant effect of eslicarbazepine ace...   \n",
       "5428  <title>The biological properties of the optical iso...   \n",
       "5429  <title>Treatment of ovarian cancer with a combinati...   \n",
       "5430                                                     NaN   \n",
       "5431  Paclitaxel (Taxol; Bristol-Myers Squibb Company, Pr...   \n",
       "5432  <span class=\"chemical\">Quetiapine</span>-induced ne...   \n",
       "5433  <title>Serotonin reuptake inhibitors, paranoia, and...   \n",
       "5434  <title>An integrated characterization of serologica...   \n",
       "5435  <title>Structural abnormalities in the brains of hu...   \n",
       "5436  <title>Gemfibrozil-<span class=\"chemical\">lovastati...   \n",
       "5437  Serological evidence for <span class=\"disease\">Epst...   \n",
       "5438  Administration of parenteral <span class=\"chemical\"...   \n",
       "5439  <title>Pre-treatment of bupivacaine-induced cardiov...   \n",
       "5440  BACKGROUND: <span class=\"chemical\">Ifosfamide</span...   \n",
       "\n",
       "      perfect_ner_crowd_only  \n",
       "0                          0  \n",
       "1                          0  \n",
       "2                        NaN  \n",
       "3                          0  \n",
       "4                          1  \n",
       "5                          1  \n",
       "6                          1  \n",
       "7                          1  \n",
       "8                          0  \n",
       "9                          1  \n",
       "10                         0  \n",
       "11                         0  \n",
       "12                         1  \n",
       "13                         0  \n",
       "14                       NaN  \n",
       "15                         1  \n",
       "16                         0  \n",
       "17                         0  \n",
       "18                         1  \n",
       "19                         0  \n",
       "20                         1  \n",
       "21                         0  \n",
       "22                         1  \n",
       "23                         1  \n",
       "24                         1  \n",
       "25                         1  \n",
       "26                         0  \n",
       "27                         0  \n",
       "28                         1  \n",
       "29                       NaN  \n",
       "...                      ...  \n",
       "5411                       0  \n",
       "5412                       1  \n",
       "5413                       0  \n",
       "5414                       1  \n",
       "5415                       0  \n",
       "5416                     NaN  \n",
       "5417                       0  \n",
       "5418                     NaN  \n",
       "5419                       0  \n",
       "5420                       0  \n",
       "5421                       1  \n",
       "5422                       1  \n",
       "5423                       1  \n",
       "5424                       1  \n",
       "5425                     NaN  \n",
       "5426                       1  \n",
       "5427                       1  \n",
       "5428                       0  \n",
       "5429                       1  \n",
       "5430                       0  \n",
       "5431                       1  \n",
       "5432                       1  \n",
       "5433                       0  \n",
       "5434                       1  \n",
       "5435                       0  \n",
       "5436                       0  \n",
       "5437                       0  \n",
       "5438                       1  \n",
       "5439                       1  \n",
       "5440                       1  \n",
       "\n",
       "[5441 rows x 13 columns]"
      ]
     },
     "execution_count": 237,
     "metadata": {},
     "output_type": "execute_result"
    }
   ],
   "source": [
    "total"
   ]
  },
  {
   "cell_type": "code",
   "execution_count": 240,
   "metadata": {
    "collapsed": true
   },
   "outputs": [],
   "source": [
    "total[\"perfect_ner_all_three_methods\"] = total.loc[:, TRIPLE].apply(\n",
    "    lambda r: int((r[\"pmid\"], r[\"chemical_id\"], r[\"disease_id\"]) in poss_good_trips),\n",
    "    axis = 1\n",
    ")"
   ]
  },
  {
   "cell_type": "code",
   "execution_count": 241,
   "metadata": {
    "collapsed": false
   },
   "outputs": [
    {
     "data": {
      "text/html": [
       "<div>\n",
       "<table border=\"1\" class=\"dataframe\">\n",
       "  <thead>\n",
       "    <tr style=\"text-align: right;\">\n",
       "      <th></th>\n",
       "      <th>pmid</th>\n",
       "      <th>chemical_id</th>\n",
       "      <th>disease_id</th>\n",
       "      <th>in_gold</th>\n",
       "      <th>in_crowd</th>\n",
       "      <th>in_texas</th>\n",
       "      <th>in_befree</th>\n",
       "      <th>num_votes</th>\n",
       "      <th>rel_origin</th>\n",
       "      <th>chemical_name</th>\n",
       "      <th>disease_name</th>\n",
       "      <th>form_text</th>\n",
       "      <th>perfect_ner_crowd_only</th>\n",
       "      <th>perfect_ner_all_three_methods</th>\n",
       "    </tr>\n",
       "  </thead>\n",
       "  <tbody>\n",
       "    <tr>\n",
       "      <th>0</th>\n",
       "      <td>11105626</td>\n",
       "      <td>MESH:D015474</td>\n",
       "      <td>MESH:D000013</td>\n",
       "      <td>0</td>\n",
       "      <td>1</td>\n",
       "      <td>0</td>\n",
       "      <td>0</td>\n",
       "      <td>5</td>\n",
       "      <td>sentence_task</td>\n",
       "      <td>isotretinoin</td>\n",
       "      <td>multiple congenital anomalies</td>\n",
       "      <td>We report a newborn infant with &lt;span class=\"diseas...</td>\n",
       "      <td>0</td>\n",
       "      <td>0</td>\n",
       "    </tr>\n",
       "    <tr>\n",
       "      <th>1</th>\n",
       "      <td>18987260</td>\n",
       "      <td>MESH:D019808</td>\n",
       "      <td>MESH:D005355</td>\n",
       "      <td>0</td>\n",
       "      <td>0</td>\n",
       "      <td>0</td>\n",
       "      <td>0</td>\n",
       "      <td>1</td>\n",
       "      <td>sentence_task</td>\n",
       "      <td>losartan</td>\n",
       "      <td>fibrosis</td>\n",
       "      <td>Prolonged treatment with &lt;span class=\"chemical\"&gt;los...</td>\n",
       "      <td>0</td>\n",
       "      <td>0</td>\n",
       "    </tr>\n",
       "    <tr>\n",
       "      <th>2</th>\n",
       "      <td>24554916</td>\n",
       "      <td>MESH:D010758</td>\n",
       "      <td>MESH:D006505</td>\n",
       "      <td>1</td>\n",
       "      <td>0</td>\n",
       "      <td>0</td>\n",
       "      <td>0</td>\n",
       "      <td>NaN</td>\n",
       "      <td>NaN</td>\n",
       "      <td>NaN</td>\n",
       "      <td>NaN</td>\n",
       "      <td>NaN</td>\n",
       "      <td>NaN</td>\n",
       "      <td>0</td>\n",
       "    </tr>\n",
       "    <tr>\n",
       "      <th>3</th>\n",
       "      <td>3711722</td>\n",
       "      <td>MESH:D004317</td>\n",
       "      <td>MESH:D009410</td>\n",
       "      <td>0</td>\n",
       "      <td>0</td>\n",
       "      <td>0</td>\n",
       "      <td>0</td>\n",
       "      <td>2</td>\n",
       "      <td>abstract_task</td>\n",
       "      <td>doxorubicin</td>\n",
       "      <td>myxomatous degeneration</td>\n",
       "      <td>&lt;title&gt;Human and canine ventricular vasoactive inte...</td>\n",
       "      <td>0</td>\n",
       "      <td>0</td>\n",
       "    </tr>\n",
       "    <tr>\n",
       "      <th>4</th>\n",
       "      <td>11745287</td>\n",
       "      <td>MESH:D016190</td>\n",
       "      <td>MESH:D015431</td>\n",
       "      <td>1</td>\n",
       "      <td>0</td>\n",
       "      <td>1</td>\n",
       "      <td>0</td>\n",
       "      <td>3</td>\n",
       "      <td>abstract_task</td>\n",
       "      <td>carboplatin</td>\n",
       "      <td>weight loss</td>\n",
       "      <td>&lt;title&gt;Phase II study of &lt;span class=\"chemical\"&gt;car...</td>\n",
       "      <td>1</td>\n",
       "      <td>1</td>\n",
       "    </tr>\n",
       "    <tr>\n",
       "      <th>5</th>\n",
       "      <td>1615846</td>\n",
       "      <td>MESH:D003401</td>\n",
       "      <td>MESH:D006951</td>\n",
       "      <td>0</td>\n",
       "      <td>0</td>\n",
       "      <td>0</td>\n",
       "      <td>0</td>\n",
       "      <td>0</td>\n",
       "      <td>abstract_task</td>\n",
       "      <td>creatine</td>\n",
       "      <td>hyperlipoproteinemias</td>\n",
       "      <td>&lt;title&gt;Gemfibrozil-lovastatin therapy for primary &lt;...</td>\n",
       "      <td>1</td>\n",
       "      <td>1</td>\n",
       "    </tr>\n",
       "    <tr>\n",
       "      <th>6</th>\n",
       "      <td>23872883</td>\n",
       "      <td>MESH:D009569</td>\n",
       "      <td>MESH:D066126</td>\n",
       "      <td>0</td>\n",
       "      <td>0</td>\n",
       "      <td>0</td>\n",
       "      <td>0</td>\n",
       "      <td>0</td>\n",
       "      <td>abstract_task</td>\n",
       "      <td>nitric oxide</td>\n",
       "      <td>cardiotoxicity</td>\n",
       "      <td>&lt;title&gt;Biochemical effects of Solidago virgaurea ex...</td>\n",
       "      <td>1</td>\n",
       "      <td>1</td>\n",
       "    </tr>\n",
       "    <tr>\n",
       "      <th>7</th>\n",
       "      <td>9759693</td>\n",
       "      <td>MESH:D018170</td>\n",
       "      <td>MESH:D017202</td>\n",
       "      <td>0</td>\n",
       "      <td>1</td>\n",
       "      <td>0</td>\n",
       "      <td>1</td>\n",
       "      <td>5</td>\n",
       "      <td>sentence_task</td>\n",
       "      <td>sumatriptan</td>\n",
       "      <td>myocardial ischemia</td>\n",
       "      <td>Cases have been published of coronary vasospasm, &lt;s...</td>\n",
       "      <td>1</td>\n",
       "      <td>1</td>\n",
       "    </tr>\n",
       "    <tr>\n",
       "      <th>8</th>\n",
       "      <td>19392810</td>\n",
       "      <td>MESH:D003932</td>\n",
       "      <td>MESH:D007238</td>\n",
       "      <td>0</td>\n",
       "      <td>1</td>\n",
       "      <td>0</td>\n",
       "      <td>0</td>\n",
       "      <td>4</td>\n",
       "      <td>abstract_task</td>\n",
       "      <td>heroin</td>\n",
       "      <td>ischemic infarction</td>\n",
       "      <td>&lt;title&gt;Rhabdomyolysis and brain ischemic stroke in ...</td>\n",
       "      <td>0</td>\n",
       "      <td>0</td>\n",
       "    </tr>\n",
       "    <tr>\n",
       "      <th>9</th>\n",
       "      <td>9889429</td>\n",
       "      <td>MESH:D009543</td>\n",
       "      <td>MESH:D006973</td>\n",
       "      <td>0</td>\n",
       "      <td>0</td>\n",
       "      <td>0</td>\n",
       "      <td>0</td>\n",
       "      <td>1</td>\n",
       "      <td>sentence_task</td>\n",
       "      <td>nifedipine</td>\n",
       "      <td>hypertension</td>\n",
       "      <td>Long-term efficacy and adverse event of &lt;span class...</td>\n",
       "      <td>1</td>\n",
       "      <td>0</td>\n",
       "    </tr>\n",
       "    <tr>\n",
       "      <th>10</th>\n",
       "      <td>17297207</td>\n",
       "      <td>MESH:D005947</td>\n",
       "      <td>MESH:D008288</td>\n",
       "      <td>0</td>\n",
       "      <td>0</td>\n",
       "      <td>0</td>\n",
       "      <td>0</td>\n",
       "      <td>0</td>\n",
       "      <td>sentence_task</td>\n",
       "      <td>dextrose</td>\n",
       "      <td>malaria</td>\n",
       "      <td>On admission, laboratory examination showed Plasmod...</td>\n",
       "      <td>0</td>\n",
       "      <td>0</td>\n",
       "    </tr>\n",
       "    <tr>\n",
       "      <th>11</th>\n",
       "      <td>17297207</td>\n",
       "      <td>MESH:D011803</td>\n",
       "      <td>MESH:D014839</td>\n",
       "      <td>0</td>\n",
       "      <td>0</td>\n",
       "      <td>1</td>\n",
       "      <td>0</td>\n",
       "      <td>1</td>\n",
       "      <td>sentence_task</td>\n",
       "      <td>quinine</td>\n",
       "      <td>vomiting</td>\n",
       "      <td>Administration of parenteral &lt;span class=\"chemical\"...</td>\n",
       "      <td>0</td>\n",
       "      <td>0</td>\n",
       "    </tr>\n",
       "    <tr>\n",
       "      <th>12</th>\n",
       "      <td>24438483</td>\n",
       "      <td>MESH:D015742</td>\n",
       "      <td>MESH:D002318</td>\n",
       "      <td>0</td>\n",
       "      <td>0</td>\n",
       "      <td>0</td>\n",
       "      <td>0</td>\n",
       "      <td>2</td>\n",
       "      <td>sentence_task</td>\n",
       "      <td>propofol</td>\n",
       "      <td>cardiovascular depression</td>\n",
       "      <td>Pre-treatment of bupivacaine-induced &lt;span class=\"d...</td>\n",
       "      <td>1</td>\n",
       "      <td>0</td>\n",
       "    </tr>\n",
       "    <tr>\n",
       "      <th>13</th>\n",
       "      <td>20959502</td>\n",
       "      <td>MESH:D010068</td>\n",
       "      <td>MESH:D016470</td>\n",
       "      <td>0</td>\n",
       "      <td>0</td>\n",
       "      <td>0</td>\n",
       "      <td>0</td>\n",
       "      <td>1</td>\n",
       "      <td>abstract_task</td>\n",
       "      <td>oxacillin</td>\n",
       "      <td>bacteremia</td>\n",
       "      <td>&lt;title&gt;Cerebrospinal fluid penetration of high-dose...</td>\n",
       "      <td>0</td>\n",
       "      <td>0</td>\n",
       "    </tr>\n",
       "    <tr>\n",
       "      <th>14</th>\n",
       "      <td>7644931</td>\n",
       "      <td>MESH:D017239</td>\n",
       "      <td>MESH:D012678</td>\n",
       "      <td>1</td>\n",
       "      <td>0</td>\n",
       "      <td>0</td>\n",
       "      <td>0</td>\n",
       "      <td>NaN</td>\n",
       "      <td>NaN</td>\n",
       "      <td>NaN</td>\n",
       "      <td>NaN</td>\n",
       "      <td>NaN</td>\n",
       "      <td>NaN</td>\n",
       "      <td>0</td>\n",
       "    </tr>\n",
       "    <tr>\n",
       "      <th>15</th>\n",
       "      <td>7644931</td>\n",
       "      <td>MESH:D017239</td>\n",
       "      <td>MESH:D064420</td>\n",
       "      <td>0</td>\n",
       "      <td>0</td>\n",
       "      <td>0</td>\n",
       "      <td>1</td>\n",
       "      <td>0</td>\n",
       "      <td>sentence_task</td>\n",
       "      <td>paclitaxel</td>\n",
       "      <td>Toxicities</td>\n",
       "      <td>&lt;span class=\"disease\"&gt;Toxicities&lt;/span&gt; were compar...</td>\n",
       "      <td>1</td>\n",
       "      <td>0</td>\n",
       "    </tr>\n",
       "    <tr>\n",
       "      <th>16</th>\n",
       "      <td>17554526</td>\n",
       "      <td>MESH:D018817</td>\n",
       "      <td>MESH:D003072</td>\n",
       "      <td>0</td>\n",
       "      <td>0</td>\n",
       "      <td>0</td>\n",
       "      <td>0</td>\n",
       "      <td>1</td>\n",
       "      <td>abstract_task</td>\n",
       "      <td>ecstasy</td>\n",
       "      <td>impaired fear recognition accuracy/Impaired fear re...</td>\n",
       "      <td>&lt;title&gt;&lt;span class=\"disease\"&gt;Impaired fear recognit...</td>\n",
       "      <td>0</td>\n",
       "      <td>0</td>\n",
       "    </tr>\n",
       "    <tr>\n",
       "      <th>17</th>\n",
       "      <td>19967075</td>\n",
       "      <td>MESH:D012964</td>\n",
       "      <td>MESH:D007674</td>\n",
       "      <td>0</td>\n",
       "      <td>0</td>\n",
       "      <td>0</td>\n",
       "      <td>0</td>\n",
       "      <td>2</td>\n",
       "      <td>sentence_task</td>\n",
       "      <td>Na</td>\n",
       "      <td>Nephropathy</td>\n",
       "      <td>Decreased Expression of &lt;span class=\"chemical\"&gt;Na&lt;/...</td>\n",
       "      <td>0</td>\n",
       "      <td>0</td>\n",
       "    </tr>\n",
       "    <tr>\n",
       "      <th>18</th>\n",
       "      <td>18422462</td>\n",
       "      <td>MESH:D000409</td>\n",
       "      <td>MESH:D007565</td>\n",
       "      <td>0</td>\n",
       "      <td>0</td>\n",
       "      <td>0</td>\n",
       "      <td>0</td>\n",
       "      <td>0</td>\n",
       "      <td>sentence_task</td>\n",
       "      <td>alanine</td>\n",
       "      <td>jaundice</td>\n",
       "      <td>Clinically significant anemia (hemoglobin &lt;7 g/dL) ...</td>\n",
       "      <td>1</td>\n",
       "      <td>1</td>\n",
       "    </tr>\n",
       "    <tr>\n",
       "      <th>19</th>\n",
       "      <td>20589632</td>\n",
       "      <td>MESH:D013420</td>\n",
       "      <td>MESH:D006461</td>\n",
       "      <td>0</td>\n",
       "      <td>0</td>\n",
       "      <td>0</td>\n",
       "      <td>0</td>\n",
       "      <td>0</td>\n",
       "      <td>abstract_task</td>\n",
       "      <td>sulfamethoxazole</td>\n",
       "      <td>hemolysis</td>\n",
       "      <td>&lt;title&gt;Trimethoprim-induced immune hemolytic anemia...</td>\n",
       "      <td>0</td>\n",
       "      <td>0</td>\n",
       "    </tr>\n",
       "    <tr>\n",
       "      <th>20</th>\n",
       "      <td>3439580</td>\n",
       "      <td>MESH:D007099</td>\n",
       "      <td>MESH:D009447</td>\n",
       "      <td>0</td>\n",
       "      <td>1</td>\n",
       "      <td>0</td>\n",
       "      <td>1</td>\n",
       "      <td>4</td>\n",
       "      <td>sentence_task</td>\n",
       "      <td>imipramine</td>\n",
       "      <td>neuroblastoma</td>\n",
       "      <td>Hypertension in &lt;span class=\"disease\"&gt;neuroblastoma...</td>\n",
       "      <td>1</td>\n",
       "      <td>1</td>\n",
       "    </tr>\n",
       "    <tr>\n",
       "      <th>21</th>\n",
       "      <td>24088636</td>\n",
       "      <td>MESH:C098010</td>\n",
       "      <td>MESH:D014376</td>\n",
       "      <td>0</td>\n",
       "      <td>0</td>\n",
       "      <td>0</td>\n",
       "      <td>0</td>\n",
       "      <td>0</td>\n",
       "      <td>sentence_task</td>\n",
       "      <td>linezolid</td>\n",
       "      <td>tuberculous</td>\n",
       "      <td>A 45-year-old male patient who was on treatment wit...</td>\n",
       "      <td>0</td>\n",
       "      <td>0</td>\n",
       "    </tr>\n",
       "    <tr>\n",
       "      <th>22</th>\n",
       "      <td>8819482</td>\n",
       "      <td>MESH:D004110</td>\n",
       "      <td>MESH:D017202</td>\n",
       "      <td>0</td>\n",
       "      <td>0</td>\n",
       "      <td>0</td>\n",
       "      <td>0</td>\n",
       "      <td>1</td>\n",
       "      <td>sentence_task</td>\n",
       "      <td>diltiazem</td>\n",
       "      <td>myocardial ischemia</td>\n",
       "      <td>Effects of CD-832 on isoproterenol (ISO)-induced &lt;s...</td>\n",
       "      <td>1</td>\n",
       "      <td>1</td>\n",
       "    </tr>\n",
       "    <tr>\n",
       "      <th>23</th>\n",
       "      <td>4010471</td>\n",
       "      <td>MESH:D009538</td>\n",
       "      <td>MESH:D012640</td>\n",
       "      <td>1</td>\n",
       "      <td>1</td>\n",
       "      <td>1</td>\n",
       "      <td>1</td>\n",
       "      <td>5</td>\n",
       "      <td>cid_relation</td>\n",
       "      <td>NaN</td>\n",
       "      <td>NaN</td>\n",
       "      <td>NaN</td>\n",
       "      <td>1</td>\n",
       "      <td>1</td>\n",
       "    </tr>\n",
       "    <tr>\n",
       "      <th>24</th>\n",
       "      <td>3323259</td>\n",
       "      <td>MESH:D004110</td>\n",
       "      <td>MESH:D004244</td>\n",
       "      <td>0</td>\n",
       "      <td>0</td>\n",
       "      <td>1</td>\n",
       "      <td>0</td>\n",
       "      <td>3</td>\n",
       "      <td>abstract_task</td>\n",
       "      <td>diltiazem</td>\n",
       "      <td>dizziness</td>\n",
       "      <td>&lt;title&gt;Differential effects of 1,4-dihydropyridine ...</td>\n",
       "      <td>1</td>\n",
       "      <td>1</td>\n",
       "    </tr>\n",
       "    <tr>\n",
       "      <th>25</th>\n",
       "      <td>3323259</td>\n",
       "      <td>MESH:D009553</td>\n",
       "      <td>MESH:D006261</td>\n",
       "      <td>0</td>\n",
       "      <td>0</td>\n",
       "      <td>0</td>\n",
       "      <td>0</td>\n",
       "      <td>2</td>\n",
       "      <td>abstract_task</td>\n",
       "      <td>nimodipine</td>\n",
       "      <td>headache</td>\n",
       "      <td>&lt;title&gt;Differential effects of 1,4-dihydropyridine ...</td>\n",
       "      <td>1</td>\n",
       "      <td>1</td>\n",
       "    </tr>\n",
       "    <tr>\n",
       "      <th>26</th>\n",
       "      <td>19263707</td>\n",
       "      <td>MESH:D002231</td>\n",
       "      <td>MESH:D014657</td>\n",
       "      <td>0</td>\n",
       "      <td>1</td>\n",
       "      <td>1</td>\n",
       "      <td>1</td>\n",
       "      <td>5</td>\n",
       "      <td>cid_relation</td>\n",
       "      <td>NaN</td>\n",
       "      <td>NaN</td>\n",
       "      <td>NaN</td>\n",
       "      <td>0</td>\n",
       "      <td>0</td>\n",
       "    </tr>\n",
       "    <tr>\n",
       "      <th>27</th>\n",
       "      <td>15815446</td>\n",
       "      <td>MESH:D010656</td>\n",
       "      <td>MESH:D020244</td>\n",
       "      <td>0</td>\n",
       "      <td>0</td>\n",
       "      <td>0</td>\n",
       "      <td>0</td>\n",
       "      <td>1</td>\n",
       "      <td>sentence_task</td>\n",
       "      <td>phenylephrine</td>\n",
       "      <td>temporary middle cerebral artery occlusion</td>\n",
       "      <td>After 180 min of &lt;span class=\"disease\"&gt;temporary mi...</td>\n",
       "      <td>0</td>\n",
       "      <td>0</td>\n",
       "    </tr>\n",
       "    <tr>\n",
       "      <th>28</th>\n",
       "      <td>17879100</td>\n",
       "      <td>MESH:D013256</td>\n",
       "      <td>MESH:D011507</td>\n",
       "      <td>0</td>\n",
       "      <td>0</td>\n",
       "      <td>0</td>\n",
       "      <td>0</td>\n",
       "      <td>0</td>\n",
       "      <td>abstract_task</td>\n",
       "      <td>steroids</td>\n",
       "      <td>proteinuria</td>\n",
       "      <td>&lt;title&gt;Non-steroidal anti-inflammatory drugs-associ...</td>\n",
       "      <td>1</td>\n",
       "      <td>1</td>\n",
       "    </tr>\n",
       "    <tr>\n",
       "      <th>29</th>\n",
       "      <td>19293073</td>\n",
       "      <td>MESH:D001241</td>\n",
       "      <td>MESH:D006471</td>\n",
       "      <td>1</td>\n",
       "      <td>0</td>\n",
       "      <td>1</td>\n",
       "      <td>0</td>\n",
       "      <td>NaN</td>\n",
       "      <td>NaN</td>\n",
       "      <td>NaN</td>\n",
       "      <td>NaN</td>\n",
       "      <td>NaN</td>\n",
       "      <td>NaN</td>\n",
       "      <td>0</td>\n",
       "    </tr>\n",
       "    <tr>\n",
       "      <th>...</th>\n",
       "      <td>...</td>\n",
       "      <td>...</td>\n",
       "      <td>...</td>\n",
       "      <td>...</td>\n",
       "      <td>...</td>\n",
       "      <td>...</td>\n",
       "      <td>...</td>\n",
       "      <td>...</td>\n",
       "      <td>...</td>\n",
       "      <td>...</td>\n",
       "      <td>...</td>\n",
       "      <td>...</td>\n",
       "      <td>...</td>\n",
       "      <td>...</td>\n",
       "    </tr>\n",
       "    <tr>\n",
       "      <th>5411</th>\n",
       "      <td>24911645</td>\n",
       "      <td>MESH:C573355</td>\n",
       "      <td>MESH:D012640</td>\n",
       "      <td>0</td>\n",
       "      <td>1</td>\n",
       "      <td>0</td>\n",
       "      <td>0</td>\n",
       "      <td>4</td>\n",
       "      <td>sentence_task</td>\n",
       "      <td>GFC</td>\n",
       "      <td>seizures/seizure</td>\n",
       "      <td>The present study aimed to evaluate the &lt;span class...</td>\n",
       "      <td>0</td>\n",
       "      <td>0</td>\n",
       "    </tr>\n",
       "    <tr>\n",
       "      <th>5412</th>\n",
       "      <td>25951420</td>\n",
       "      <td>MESH:D010126</td>\n",
       "      <td>MESH:D010300</td>\n",
       "      <td>1</td>\n",
       "      <td>1</td>\n",
       "      <td>1</td>\n",
       "      <td>1</td>\n",
       "      <td>4</td>\n",
       "      <td>sentence_task</td>\n",
       "      <td>Ozone</td>\n",
       "      <td>Parkinson's Disease</td>\n",
       "      <td>Associations of &lt;span class=\"chemical\"&gt;Ozone&lt;/span&gt;...</td>\n",
       "      <td>1</td>\n",
       "      <td>1</td>\n",
       "    </tr>\n",
       "    <tr>\n",
       "      <th>5413</th>\n",
       "      <td>24434397</td>\n",
       "      <td>MESH:D014148</td>\n",
       "      <td>MESH:D006470</td>\n",
       "      <td>0</td>\n",
       "      <td>0</td>\n",
       "      <td>0</td>\n",
       "      <td>0</td>\n",
       "      <td>0</td>\n",
       "      <td>sentence_task</td>\n",
       "      <td>Tranexamic acid</td>\n",
       "      <td>bleeding</td>\n",
       "      <td>&lt;span class=\"chemical\"&gt;Tranexamic acid&lt;/span&gt; (TNA)...</td>\n",
       "      <td>0</td>\n",
       "      <td>0</td>\n",
       "    </tr>\n",
       "    <tr>\n",
       "      <th>5414</th>\n",
       "      <td>6585590</td>\n",
       "      <td>MESH:D004317</td>\n",
       "      <td>MESH:D009202</td>\n",
       "      <td>0</td>\n",
       "      <td>0</td>\n",
       "      <td>0</td>\n",
       "      <td>0</td>\n",
       "      <td>0</td>\n",
       "      <td>abstract_task</td>\n",
       "      <td>doxorubicin</td>\n",
       "      <td>cardiomyopathy</td>\n",
       "      <td>&lt;title&gt;Antitumor effect, cardiotoxicity, and nephro...</td>\n",
       "      <td>1</td>\n",
       "      <td>1</td>\n",
       "    </tr>\n",
       "    <tr>\n",
       "      <th>5415</th>\n",
       "      <td>20009434</td>\n",
       "      <td>MESH:D008727</td>\n",
       "      <td>MESH:D007674</td>\n",
       "      <td>0</td>\n",
       "      <td>1</td>\n",
       "      <td>0</td>\n",
       "      <td>0</td>\n",
       "      <td>5</td>\n",
       "      <td>sentence_task</td>\n",
       "      <td>methotrexate/MTX</td>\n",
       "      <td>renal toxicity</td>\n",
       "      <td>High-dose &lt;span class=\"chemical\"&gt;methotrexate&lt;/span...</td>\n",
       "      <td>0</td>\n",
       "      <td>0</td>\n",
       "    </tr>\n",
       "    <tr>\n",
       "      <th>5416</th>\n",
       "      <td>9323412</td>\n",
       "      <td>MESH:D017294</td>\n",
       "      <td>MESH:D003866</td>\n",
       "      <td>0</td>\n",
       "      <td>0</td>\n",
       "      <td>1</td>\n",
       "      <td>1</td>\n",
       "      <td>NaN</td>\n",
       "      <td>NaN</td>\n",
       "      <td>NaN</td>\n",
       "      <td>NaN</td>\n",
       "      <td>NaN</td>\n",
       "      <td>NaN</td>\n",
       "      <td>0</td>\n",
       "    </tr>\n",
       "    <tr>\n",
       "      <th>5417</th>\n",
       "      <td>946593</td>\n",
       "      <td>MESH:D008727</td>\n",
       "      <td>MESH:D010264</td>\n",
       "      <td>1</td>\n",
       "      <td>1</td>\n",
       "      <td>1</td>\n",
       "      <td>1</td>\n",
       "      <td>5</td>\n",
       "      <td>sentence_task</td>\n",
       "      <td>methotrexate</td>\n",
       "      <td>Paraplegia</td>\n",
       "      <td>&lt;span class=\"disease\"&gt;Paraplegia&lt;/span&gt; following i...</td>\n",
       "      <td>0</td>\n",
       "      <td>0</td>\n",
       "    </tr>\n",
       "    <tr>\n",
       "      <th>5418</th>\n",
       "      <td>19681452</td>\n",
       "      <td>MESH:D000431</td>\n",
       "      <td>MESH:D002544</td>\n",
       "      <td>1</td>\n",
       "      <td>0</td>\n",
       "      <td>0</td>\n",
       "      <td>0</td>\n",
       "      <td>NaN</td>\n",
       "      <td>NaN</td>\n",
       "      <td>NaN</td>\n",
       "      <td>NaN</td>\n",
       "      <td>NaN</td>\n",
       "      <td>NaN</td>\n",
       "      <td>0</td>\n",
       "    </tr>\n",
       "    <tr>\n",
       "      <th>5419</th>\n",
       "      <td>23666265</td>\n",
       "      <td>MESH:D003520</td>\n",
       "      <td>MESH:D010146</td>\n",
       "      <td>1</td>\n",
       "      <td>1</td>\n",
       "      <td>1</td>\n",
       "      <td>0</td>\n",
       "      <td>5</td>\n",
       "      <td>sentence_task</td>\n",
       "      <td>Cyclophosphamide</td>\n",
       "      <td>pain behaviors</td>\n",
       "      <td>RESULTS: &lt;span class=\"chemical\"&gt;Cyclophosphamide&lt;/s...</td>\n",
       "      <td>0</td>\n",
       "      <td>0</td>\n",
       "    </tr>\n",
       "    <tr>\n",
       "      <th>5420</th>\n",
       "      <td>2400986</td>\n",
       "      <td>MESH:D002066</td>\n",
       "      <td>MESH:D020258</td>\n",
       "      <td>0</td>\n",
       "      <td>1</td>\n",
       "      <td>0</td>\n",
       "      <td>0</td>\n",
       "      <td>5</td>\n",
       "      <td>sentence_task</td>\n",
       "      <td>busulfan</td>\n",
       "      <td>neurotoxicity</td>\n",
       "      <td>Dose-dependent &lt;span class=\"disease\"&gt;neurotoxicity&lt;...</td>\n",
       "      <td>0</td>\n",
       "      <td>0</td>\n",
       "    </tr>\n",
       "    <tr>\n",
       "      <th>5421</th>\n",
       "      <td>8312343</td>\n",
       "      <td>MESH:D004317</td>\n",
       "      <td>MESH:D006973</td>\n",
       "      <td>0</td>\n",
       "      <td>0</td>\n",
       "      <td>0</td>\n",
       "      <td>1</td>\n",
       "      <td>0</td>\n",
       "      <td>abstract_task</td>\n",
       "      <td>doxorubicin</td>\n",
       "      <td>hypertension</td>\n",
       "      <td>&lt;title&gt;Pediatric heart transplantation without chro...</td>\n",
       "      <td>1</td>\n",
       "      <td>1</td>\n",
       "    </tr>\n",
       "    <tr>\n",
       "      <th>5422</th>\n",
       "      <td>3083835</td>\n",
       "      <td>MESH:D010406</td>\n",
       "      <td>MESH:D000707</td>\n",
       "      <td>1</td>\n",
       "      <td>1</td>\n",
       "      <td>1</td>\n",
       "      <td>1</td>\n",
       "      <td>4</td>\n",
       "      <td>sentence_task</td>\n",
       "      <td>Penicillin</td>\n",
       "      <td>anaphylaxis</td>\n",
       "      <td>&lt;span class=\"chemical\"&gt;Penicillin&lt;/span&gt; &lt;span clas...</td>\n",
       "      <td>1</td>\n",
       "      <td>0</td>\n",
       "    </tr>\n",
       "    <tr>\n",
       "      <th>5423</th>\n",
       "      <td>9578276</td>\n",
       "      <td>MESH:D010121</td>\n",
       "      <td>MESH:D006473</td>\n",
       "      <td>0</td>\n",
       "      <td>0</td>\n",
       "      <td>0</td>\n",
       "      <td>0</td>\n",
       "      <td>2</td>\n",
       "      <td>abstract_task</td>\n",
       "      <td>oxytocin</td>\n",
       "      <td>blood loss</td>\n",
       "      <td>&lt;title&gt;Ascending dose tolerance study of intramuscu...</td>\n",
       "      <td>1</td>\n",
       "      <td>0</td>\n",
       "    </tr>\n",
       "    <tr>\n",
       "      <th>5424</th>\n",
       "      <td>24234943</td>\n",
       "      <td>MESH:D012964</td>\n",
       "      <td>MESH:D001008</td>\n",
       "      <td>0</td>\n",
       "      <td>0</td>\n",
       "      <td>0</td>\n",
       "      <td>0</td>\n",
       "      <td>1</td>\n",
       "      <td>abstract_task</td>\n",
       "      <td>sodium</td>\n",
       "      <td>anxiety</td>\n",
       "      <td>&lt;title&gt;Syndrome of inappropriate antidiuretic hormo...</td>\n",
       "      <td>1</td>\n",
       "      <td>1</td>\n",
       "    </tr>\n",
       "    <tr>\n",
       "      <th>5425</th>\n",
       "      <td>6806735</td>\n",
       "      <td>MESH:C034868</td>\n",
       "      <td>MESH:D005767</td>\n",
       "      <td>1</td>\n",
       "      <td>0</td>\n",
       "      <td>0</td>\n",
       "      <td>0</td>\n",
       "      <td>NaN</td>\n",
       "      <td>NaN</td>\n",
       "      <td>NaN</td>\n",
       "      <td>NaN</td>\n",
       "      <td>NaN</td>\n",
       "      <td>NaN</td>\n",
       "      <td>0</td>\n",
       "    </tr>\n",
       "    <tr>\n",
       "      <th>5426</th>\n",
       "      <td>10939760</td>\n",
       "      <td>MESH:D013411</td>\n",
       "      <td>MESH:D007669</td>\n",
       "      <td>1</td>\n",
       "      <td>1</td>\n",
       "      <td>1</td>\n",
       "      <td>1</td>\n",
       "      <td>5</td>\n",
       "      <td>sentence_task</td>\n",
       "      <td>sulfadiazine</td>\n",
       "      <td>renal calculi</td>\n",
       "      <td>Under treatment with &lt;span class=\"chemical\"&gt;sulfadi...</td>\n",
       "      <td>1</td>\n",
       "      <td>1</td>\n",
       "    </tr>\n",
       "    <tr>\n",
       "      <th>5427</th>\n",
       "      <td>16920333</td>\n",
       "      <td>MESH:D002220</td>\n",
       "      <td>MESH:D012640</td>\n",
       "      <td>0</td>\n",
       "      <td>0</td>\n",
       "      <td>0</td>\n",
       "      <td>0</td>\n",
       "      <td>0</td>\n",
       "      <td>abstract_task</td>\n",
       "      <td>CBZ/carbamazepine</td>\n",
       "      <td>seizures/seizure</td>\n",
       "      <td>&lt;title&gt;Anticonvulsant effect of eslicarbazepine ace...</td>\n",
       "      <td>1</td>\n",
       "      <td>0</td>\n",
       "    </tr>\n",
       "    <tr>\n",
       "      <th>5428</th>\n",
       "      <td>19108278</td>\n",
       "      <td>MESH:D005230</td>\n",
       "      <td>MESH:D009135</td>\n",
       "      <td>0</td>\n",
       "      <td>0</td>\n",
       "      <td>0</td>\n",
       "      <td>0</td>\n",
       "      <td>1</td>\n",
       "      <td>abstract_task</td>\n",
       "      <td>free fatty acids</td>\n",
       "      <td>atrial muscle</td>\n",
       "      <td>&lt;title&gt;The biological properties of the optical iso...</td>\n",
       "      <td>0</td>\n",
       "      <td>0</td>\n",
       "    </tr>\n",
       "    <tr>\n",
       "      <th>5429</th>\n",
       "      <td>6806735</td>\n",
       "      <td>MESH:D003520</td>\n",
       "      <td>MESH:D000740</td>\n",
       "      <td>0</td>\n",
       "      <td>1</td>\n",
       "      <td>1</td>\n",
       "      <td>0</td>\n",
       "      <td>4</td>\n",
       "      <td>abstract_task</td>\n",
       "      <td>cyclophosphamide</td>\n",
       "      <td>anemia</td>\n",
       "      <td>&lt;title&gt;Treatment of ovarian cancer with a combinati...</td>\n",
       "      <td>1</td>\n",
       "      <td>1</td>\n",
       "    </tr>\n",
       "    <tr>\n",
       "      <th>5430</th>\n",
       "      <td>7477981</td>\n",
       "      <td>MESH:D001058</td>\n",
       "      <td>MESH:D004409</td>\n",
       "      <td>1</td>\n",
       "      <td>1</td>\n",
       "      <td>1</td>\n",
       "      <td>0</td>\n",
       "      <td>5</td>\n",
       "      <td>cid_relation</td>\n",
       "      <td>NaN</td>\n",
       "      <td>NaN</td>\n",
       "      <td>NaN</td>\n",
       "      <td>0</td>\n",
       "      <td>0</td>\n",
       "    </tr>\n",
       "    <tr>\n",
       "      <th>5431</th>\n",
       "      <td>7644931</td>\n",
       "      <td>MESH:D016190</td>\n",
       "      <td>MESH:D002289</td>\n",
       "      <td>0</td>\n",
       "      <td>0</td>\n",
       "      <td>0</td>\n",
       "      <td>0</td>\n",
       "      <td>0</td>\n",
       "      <td>sentence_task</td>\n",
       "      <td>carboplatin</td>\n",
       "      <td>non-small cell lung cancer</td>\n",
       "      <td>Paclitaxel (Taxol; Bristol-Myers Squibb Company, Pr...</td>\n",
       "      <td>1</td>\n",
       "      <td>1</td>\n",
       "    </tr>\n",
       "    <tr>\n",
       "      <th>5432</th>\n",
       "      <td>25084821</td>\n",
       "      <td>MESH:C069541</td>\n",
       "      <td>MESH:D001714</td>\n",
       "      <td>0</td>\n",
       "      <td>0</td>\n",
       "      <td>0</td>\n",
       "      <td>0</td>\n",
       "      <td>0</td>\n",
       "      <td>sentence_task</td>\n",
       "      <td>Quetiapine</td>\n",
       "      <td>bipolar</td>\n",
       "      <td>&lt;span class=\"chemical\"&gt;Quetiapine&lt;/span&gt;-induced ne...</td>\n",
       "      <td>1</td>\n",
       "      <td>1</td>\n",
       "    </tr>\n",
       "    <tr>\n",
       "      <th>5433</th>\n",
       "      <td>1837756</td>\n",
       "      <td>MESH:D004298</td>\n",
       "      <td>MESH:D001523</td>\n",
       "      <td>0</td>\n",
       "      <td>0</td>\n",
       "      <td>0</td>\n",
       "      <td>0</td>\n",
       "      <td>0</td>\n",
       "      <td>abstract_task</td>\n",
       "      <td>dopamine</td>\n",
       "      <td>psychiatric</td>\n",
       "      <td>&lt;title&gt;Serotonin reuptake inhibitors, paranoia, and...</td>\n",
       "      <td>0</td>\n",
       "      <td>0</td>\n",
       "    </tr>\n",
       "    <tr>\n",
       "      <th>5434</th>\n",
       "      <td>24675088</td>\n",
       "      <td>MESH:D004317</td>\n",
       "      <td>MESH:D006984</td>\n",
       "      <td>0</td>\n",
       "      <td>0</td>\n",
       "      <td>0</td>\n",
       "      <td>0</td>\n",
       "      <td>3</td>\n",
       "      <td>abstract_task</td>\n",
       "      <td>doxorubicin/DOX</td>\n",
       "      <td>hypertrophy</td>\n",
       "      <td>&lt;title&gt;An integrated characterization of serologica...</td>\n",
       "      <td>1</td>\n",
       "      <td>1</td>\n",
       "    </tr>\n",
       "    <tr>\n",
       "      <th>5435</th>\n",
       "      <td>15229250</td>\n",
       "      <td>MESH:D008694</td>\n",
       "      <td>MESH:D001930</td>\n",
       "      <td>1</td>\n",
       "      <td>1</td>\n",
       "      <td>0</td>\n",
       "      <td>0</td>\n",
       "      <td>5</td>\n",
       "      <td>abstract_task</td>\n",
       "      <td>methamphetamine</td>\n",
       "      <td>Hippocampal deficits/brain injury</td>\n",
       "      <td>&lt;title&gt;Structural abnormalities in the brains of hu...</td>\n",
       "      <td>0</td>\n",
       "      <td>0</td>\n",
       "    </tr>\n",
       "    <tr>\n",
       "      <th>5436</th>\n",
       "      <td>1615846</td>\n",
       "      <td>MESH:D008148</td>\n",
       "      <td>MESH:D012206</td>\n",
       "      <td>0</td>\n",
       "      <td>0</td>\n",
       "      <td>0</td>\n",
       "      <td>0</td>\n",
       "      <td>0</td>\n",
       "      <td>abstract_task</td>\n",
       "      <td>lovastatin</td>\n",
       "      <td>rhabdomyolysis</td>\n",
       "      <td>&lt;title&gt;Gemfibrozil-&lt;span class=\"chemical\"&gt;lovastati...</td>\n",
       "      <td>0</td>\n",
       "      <td>0</td>\n",
       "    </tr>\n",
       "    <tr>\n",
       "      <th>5437</th>\n",
       "      <td>6310832</td>\n",
       "      <td>MESH:D016572</td>\n",
       "      <td>MESH:D020031</td>\n",
       "      <td>0</td>\n",
       "      <td>1</td>\n",
       "      <td>0</td>\n",
       "      <td>0</td>\n",
       "      <td>4</td>\n",
       "      <td>sentence_task</td>\n",
       "      <td>cyclosporine</td>\n",
       "      <td>Epstein Barr Virus infection</td>\n",
       "      <td>Serological evidence for &lt;span class=\"disease\"&gt;Epst...</td>\n",
       "      <td>0</td>\n",
       "      <td>0</td>\n",
       "    </tr>\n",
       "    <tr>\n",
       "      <th>5438</th>\n",
       "      <td>17297207</td>\n",
       "      <td>MESH:D011803</td>\n",
       "      <td>MESH:D014883</td>\n",
       "      <td>0</td>\n",
       "      <td>0</td>\n",
       "      <td>0</td>\n",
       "      <td>0</td>\n",
       "      <td>0</td>\n",
       "      <td>sentence_task</td>\n",
       "      <td>quinine</td>\n",
       "      <td>electrolyte disorder</td>\n",
       "      <td>Administration of parenteral &lt;span class=\"chemical\"...</td>\n",
       "      <td>1</td>\n",
       "      <td>0</td>\n",
       "    </tr>\n",
       "    <tr>\n",
       "      <th>5439</th>\n",
       "      <td>24438483</td>\n",
       "      <td>MESH:D007649</td>\n",
       "      <td>MESH:D066126</td>\n",
       "      <td>0</td>\n",
       "      <td>0</td>\n",
       "      <td>0</td>\n",
       "      <td>0</td>\n",
       "      <td>0</td>\n",
       "      <td>abstract_task</td>\n",
       "      <td>ketamine</td>\n",
       "      <td>cardiotoxic/cardiotoxicity</td>\n",
       "      <td>&lt;title&gt;Pre-treatment of bupivacaine-induced cardiov...</td>\n",
       "      <td>1</td>\n",
       "      <td>1</td>\n",
       "    </tr>\n",
       "    <tr>\n",
       "      <th>5440</th>\n",
       "      <td>24209900</td>\n",
       "      <td>MESH:D007069</td>\n",
       "      <td>MESH:D012509</td>\n",
       "      <td>0</td>\n",
       "      <td>0</td>\n",
       "      <td>0</td>\n",
       "      <td>0</td>\n",
       "      <td>0</td>\n",
       "      <td>sentence_task</td>\n",
       "      <td>Ifosfamide</td>\n",
       "      <td>sarcomas</td>\n",
       "      <td>BACKGROUND: &lt;span class=\"chemical\"&gt;Ifosfamide&lt;/span...</td>\n",
       "      <td>1</td>\n",
       "      <td>1</td>\n",
       "    </tr>\n",
       "  </tbody>\n",
       "</table>\n",
       "<p>5441 rows × 14 columns</p>\n",
       "</div>"
      ],
      "text/plain": [
       "          pmid   chemical_id    disease_id  in_gold  in_crowd  in_texas  \\\n",
       "0     11105626  MESH:D015474  MESH:D000013        0         1         0   \n",
       "1     18987260  MESH:D019808  MESH:D005355        0         0         0   \n",
       "2     24554916  MESH:D010758  MESH:D006505        1         0         0   \n",
       "3      3711722  MESH:D004317  MESH:D009410        0         0         0   \n",
       "4     11745287  MESH:D016190  MESH:D015431        1         0         1   \n",
       "5      1615846  MESH:D003401  MESH:D006951        0         0         0   \n",
       "6     23872883  MESH:D009569  MESH:D066126        0         0         0   \n",
       "7      9759693  MESH:D018170  MESH:D017202        0         1         0   \n",
       "8     19392810  MESH:D003932  MESH:D007238        0         1         0   \n",
       "9      9889429  MESH:D009543  MESH:D006973        0         0         0   \n",
       "10    17297207  MESH:D005947  MESH:D008288        0         0         0   \n",
       "11    17297207  MESH:D011803  MESH:D014839        0         0         1   \n",
       "12    24438483  MESH:D015742  MESH:D002318        0         0         0   \n",
       "13    20959502  MESH:D010068  MESH:D016470        0         0         0   \n",
       "14     7644931  MESH:D017239  MESH:D012678        1         0         0   \n",
       "15     7644931  MESH:D017239  MESH:D064420        0         0         0   \n",
       "16    17554526  MESH:D018817  MESH:D003072        0         0         0   \n",
       "17    19967075  MESH:D012964  MESH:D007674        0         0         0   \n",
       "18    18422462  MESH:D000409  MESH:D007565        0         0         0   \n",
       "19    20589632  MESH:D013420  MESH:D006461        0         0         0   \n",
       "20     3439580  MESH:D007099  MESH:D009447        0         1         0   \n",
       "21    24088636  MESH:C098010  MESH:D014376        0         0         0   \n",
       "22     8819482  MESH:D004110  MESH:D017202        0         0         0   \n",
       "23     4010471  MESH:D009538  MESH:D012640        1         1         1   \n",
       "24     3323259  MESH:D004110  MESH:D004244        0         0         1   \n",
       "25     3323259  MESH:D009553  MESH:D006261        0         0         0   \n",
       "26    19263707  MESH:D002231  MESH:D014657        0         1         1   \n",
       "27    15815446  MESH:D010656  MESH:D020244        0         0         0   \n",
       "28    17879100  MESH:D013256  MESH:D011507        0         0         0   \n",
       "29    19293073  MESH:D001241  MESH:D006471        1         0         1   \n",
       "...        ...           ...           ...      ...       ...       ...   \n",
       "5411  24911645  MESH:C573355  MESH:D012640        0         1         0   \n",
       "5412  25951420  MESH:D010126  MESH:D010300        1         1         1   \n",
       "5413  24434397  MESH:D014148  MESH:D006470        0         0         0   \n",
       "5414   6585590  MESH:D004317  MESH:D009202        0         0         0   \n",
       "5415  20009434  MESH:D008727  MESH:D007674        0         1         0   \n",
       "5416   9323412  MESH:D017294  MESH:D003866        0         0         1   \n",
       "5417    946593  MESH:D008727  MESH:D010264        1         1         1   \n",
       "5418  19681452  MESH:D000431  MESH:D002544        1         0         0   \n",
       "5419  23666265  MESH:D003520  MESH:D010146        1         1         1   \n",
       "5420   2400986  MESH:D002066  MESH:D020258        0         1         0   \n",
       "5421   8312343  MESH:D004317  MESH:D006973        0         0         0   \n",
       "5422   3083835  MESH:D010406  MESH:D000707        1         1         1   \n",
       "5423   9578276  MESH:D010121  MESH:D006473        0         0         0   \n",
       "5424  24234943  MESH:D012964  MESH:D001008        0         0         0   \n",
       "5425   6806735  MESH:C034868  MESH:D005767        1         0         0   \n",
       "5426  10939760  MESH:D013411  MESH:D007669        1         1         1   \n",
       "5427  16920333  MESH:D002220  MESH:D012640        0         0         0   \n",
       "5428  19108278  MESH:D005230  MESH:D009135        0         0         0   \n",
       "5429   6806735  MESH:D003520  MESH:D000740        0         1         1   \n",
       "5430   7477981  MESH:D001058  MESH:D004409        1         1         1   \n",
       "5431   7644931  MESH:D016190  MESH:D002289        0         0         0   \n",
       "5432  25084821  MESH:C069541  MESH:D001714        0         0         0   \n",
       "5433   1837756  MESH:D004298  MESH:D001523        0         0         0   \n",
       "5434  24675088  MESH:D004317  MESH:D006984        0         0         0   \n",
       "5435  15229250  MESH:D008694  MESH:D001930        1         1         0   \n",
       "5436   1615846  MESH:D008148  MESH:D012206        0         0         0   \n",
       "5437   6310832  MESH:D016572  MESH:D020031        0         1         0   \n",
       "5438  17297207  MESH:D011803  MESH:D014883        0         0         0   \n",
       "5439  24438483  MESH:D007649  MESH:D066126        0         0         0   \n",
       "5440  24209900  MESH:D007069  MESH:D012509        0         0         0   \n",
       "\n",
       "      in_befree  num_votes     rel_origin      chemical_name  \\\n",
       "0             0          5  sentence_task       isotretinoin   \n",
       "1             0          1  sentence_task           losartan   \n",
       "2             0        NaN            NaN                NaN   \n",
       "3             0          2  abstract_task        doxorubicin   \n",
       "4             0          3  abstract_task        carboplatin   \n",
       "5             0          0  abstract_task           creatine   \n",
       "6             0          0  abstract_task       nitric oxide   \n",
       "7             1          5  sentence_task        sumatriptan   \n",
       "8             0          4  abstract_task             heroin   \n",
       "9             0          1  sentence_task         nifedipine   \n",
       "10            0          0  sentence_task           dextrose   \n",
       "11            0          1  sentence_task            quinine   \n",
       "12            0          2  sentence_task           propofol   \n",
       "13            0          1  abstract_task          oxacillin   \n",
       "14            0        NaN            NaN                NaN   \n",
       "15            1          0  sentence_task         paclitaxel   \n",
       "16            0          1  abstract_task            ecstasy   \n",
       "17            0          2  sentence_task                 Na   \n",
       "18            0          0  sentence_task            alanine   \n",
       "19            0          0  abstract_task   sulfamethoxazole   \n",
       "20            1          4  sentence_task         imipramine   \n",
       "21            0          0  sentence_task          linezolid   \n",
       "22            0          1  sentence_task          diltiazem   \n",
       "23            1          5   cid_relation                NaN   \n",
       "24            0          3  abstract_task          diltiazem   \n",
       "25            0          2  abstract_task         nimodipine   \n",
       "26            1          5   cid_relation                NaN   \n",
       "27            0          1  sentence_task      phenylephrine   \n",
       "28            0          0  abstract_task           steroids   \n",
       "29            0        NaN            NaN                NaN   \n",
       "...         ...        ...            ...                ...   \n",
       "5411          0          4  sentence_task                GFC   \n",
       "5412          1          4  sentence_task              Ozone   \n",
       "5413          0          0  sentence_task    Tranexamic acid   \n",
       "5414          0          0  abstract_task        doxorubicin   \n",
       "5415          0          5  sentence_task   methotrexate/MTX   \n",
       "5416          1        NaN            NaN                NaN   \n",
       "5417          1          5  sentence_task       methotrexate   \n",
       "5418          0        NaN            NaN                NaN   \n",
       "5419          0          5  sentence_task   Cyclophosphamide   \n",
       "5420          0          5  sentence_task           busulfan   \n",
       "5421          1          0  abstract_task        doxorubicin   \n",
       "5422          1          4  sentence_task         Penicillin   \n",
       "5423          0          2  abstract_task           oxytocin   \n",
       "5424          0          1  abstract_task             sodium   \n",
       "5425          0        NaN            NaN                NaN   \n",
       "5426          1          5  sentence_task       sulfadiazine   \n",
       "5427          0          0  abstract_task  CBZ/carbamazepine   \n",
       "5428          0          1  abstract_task   free fatty acids   \n",
       "5429          0          4  abstract_task   cyclophosphamide   \n",
       "5430          0          5   cid_relation                NaN   \n",
       "5431          0          0  sentence_task        carboplatin   \n",
       "5432          0          0  sentence_task         Quetiapine   \n",
       "5433          0          0  abstract_task           dopamine   \n",
       "5434          0          3  abstract_task    doxorubicin/DOX   \n",
       "5435          0          5  abstract_task    methamphetamine   \n",
       "5436          0          0  abstract_task         lovastatin   \n",
       "5437          0          4  sentence_task       cyclosporine   \n",
       "5438          0          0  sentence_task            quinine   \n",
       "5439          0          0  abstract_task           ketamine   \n",
       "5440          0          0  sentence_task         Ifosfamide   \n",
       "\n",
       "                                                disease_name  \\\n",
       "0                              multiple congenital anomalies   \n",
       "1                                                   fibrosis   \n",
       "2                                                        NaN   \n",
       "3                                    myxomatous degeneration   \n",
       "4                                                weight loss   \n",
       "5                                      hyperlipoproteinemias   \n",
       "6                                             cardiotoxicity   \n",
       "7                                        myocardial ischemia   \n",
       "8                                        ischemic infarction   \n",
       "9                                               hypertension   \n",
       "10                                                   malaria   \n",
       "11                                                  vomiting   \n",
       "12                                 cardiovascular depression   \n",
       "13                                                bacteremia   \n",
       "14                                                       NaN   \n",
       "15                                                Toxicities   \n",
       "16    impaired fear recognition accuracy/Impaired fear re...   \n",
       "17                                               Nephropathy   \n",
       "18                                                  jaundice   \n",
       "19                                                 hemolysis   \n",
       "20                                             neuroblastoma   \n",
       "21                                               tuberculous   \n",
       "22                                       myocardial ischemia   \n",
       "23                                                       NaN   \n",
       "24                                                 dizziness   \n",
       "25                                                  headache   \n",
       "26                                                       NaN   \n",
       "27                temporary middle cerebral artery occlusion   \n",
       "28                                               proteinuria   \n",
       "29                                                       NaN   \n",
       "...                                                      ...   \n",
       "5411                                        seizures/seizure   \n",
       "5412                                     Parkinson's Disease   \n",
       "5413                                                bleeding   \n",
       "5414                                          cardiomyopathy   \n",
       "5415                                          renal toxicity   \n",
       "5416                                                     NaN   \n",
       "5417                                              Paraplegia   \n",
       "5418                                                     NaN   \n",
       "5419                                          pain behaviors   \n",
       "5420                                           neurotoxicity   \n",
       "5421                                            hypertension   \n",
       "5422                                             anaphylaxis   \n",
       "5423                                              blood loss   \n",
       "5424                                                 anxiety   \n",
       "5425                                                     NaN   \n",
       "5426                                           renal calculi   \n",
       "5427                                        seizures/seizure   \n",
       "5428                                           atrial muscle   \n",
       "5429                                                  anemia   \n",
       "5430                                                     NaN   \n",
       "5431                              non-small cell lung cancer   \n",
       "5432                                                 bipolar   \n",
       "5433                                             psychiatric   \n",
       "5434                                             hypertrophy   \n",
       "5435                       Hippocampal deficits/brain injury   \n",
       "5436                                          rhabdomyolysis   \n",
       "5437                            Epstein Barr Virus infection   \n",
       "5438                                    electrolyte disorder   \n",
       "5439                              cardiotoxic/cardiotoxicity   \n",
       "5440                                                sarcomas   \n",
       "\n",
       "                                                   form_text  \\\n",
       "0     We report a newborn infant with <span class=\"diseas...   \n",
       "1     Prolonged treatment with <span class=\"chemical\">los...   \n",
       "2                                                        NaN   \n",
       "3     <title>Human and canine ventricular vasoactive inte...   \n",
       "4     <title>Phase II study of <span class=\"chemical\">car...   \n",
       "5     <title>Gemfibrozil-lovastatin therapy for primary <...   \n",
       "6     <title>Biochemical effects of Solidago virgaurea ex...   \n",
       "7     Cases have been published of coronary vasospasm, <s...   \n",
       "8     <title>Rhabdomyolysis and brain ischemic stroke in ...   \n",
       "9     Long-term efficacy and adverse event of <span class...   \n",
       "10    On admission, laboratory examination showed Plasmod...   \n",
       "11    Administration of parenteral <span class=\"chemical\"...   \n",
       "12    Pre-treatment of bupivacaine-induced <span class=\"d...   \n",
       "13    <title>Cerebrospinal fluid penetration of high-dose...   \n",
       "14                                                       NaN   \n",
       "15    <span class=\"disease\">Toxicities</span> were compar...   \n",
       "16    <title><span class=\"disease\">Impaired fear recognit...   \n",
       "17    Decreased Expression of <span class=\"chemical\">Na</...   \n",
       "18    Clinically significant anemia (hemoglobin <7 g/dL) ...   \n",
       "19    <title>Trimethoprim-induced immune hemolytic anemia...   \n",
       "20    Hypertension in <span class=\"disease\">neuroblastoma...   \n",
       "21    A 45-year-old male patient who was on treatment wit...   \n",
       "22    Effects of CD-832 on isoproterenol (ISO)-induced <s...   \n",
       "23                                                       NaN   \n",
       "24    <title>Differential effects of 1,4-dihydropyridine ...   \n",
       "25    <title>Differential effects of 1,4-dihydropyridine ...   \n",
       "26                                                       NaN   \n",
       "27    After 180 min of <span class=\"disease\">temporary mi...   \n",
       "28    <title>Non-steroidal anti-inflammatory drugs-associ...   \n",
       "29                                                       NaN   \n",
       "...                                                      ...   \n",
       "5411  The present study aimed to evaluate the <span class...   \n",
       "5412  Associations of <span class=\"chemical\">Ozone</span>...   \n",
       "5413  <span class=\"chemical\">Tranexamic acid</span> (TNA)...   \n",
       "5414  <title>Antitumor effect, cardiotoxicity, and nephro...   \n",
       "5415  High-dose <span class=\"chemical\">methotrexate</span...   \n",
       "5416                                                     NaN   \n",
       "5417  <span class=\"disease\">Paraplegia</span> following i...   \n",
       "5418                                                     NaN   \n",
       "5419  RESULTS: <span class=\"chemical\">Cyclophosphamide</s...   \n",
       "5420  Dose-dependent <span class=\"disease\">neurotoxicity<...   \n",
       "5421  <title>Pediatric heart transplantation without chro...   \n",
       "5422  <span class=\"chemical\">Penicillin</span> <span clas...   \n",
       "5423  <title>Ascending dose tolerance study of intramuscu...   \n",
       "5424  <title>Syndrome of inappropriate antidiuretic hormo...   \n",
       "5425                                                     NaN   \n",
       "5426  Under treatment with <span class=\"chemical\">sulfadi...   \n",
       "5427  <title>Anticonvulsant effect of eslicarbazepine ace...   \n",
       "5428  <title>The biological properties of the optical iso...   \n",
       "5429  <title>Treatment of ovarian cancer with a combinati...   \n",
       "5430                                                     NaN   \n",
       "5431  Paclitaxel (Taxol; Bristol-Myers Squibb Company, Pr...   \n",
       "5432  <span class=\"chemical\">Quetiapine</span>-induced ne...   \n",
       "5433  <title>Serotonin reuptake inhibitors, paranoia, and...   \n",
       "5434  <title>An integrated characterization of serologica...   \n",
       "5435  <title>Structural abnormalities in the brains of hu...   \n",
       "5436  <title>Gemfibrozil-<span class=\"chemical\">lovastati...   \n",
       "5437  Serological evidence for <span class=\"disease\">Epst...   \n",
       "5438  Administration of parenteral <span class=\"chemical\"...   \n",
       "5439  <title>Pre-treatment of bupivacaine-induced cardiov...   \n",
       "5440  BACKGROUND: <span class=\"chemical\">Ifosfamide</span...   \n",
       "\n",
       "      perfect_ner_crowd_only  perfect_ner_all_three_methods  \n",
       "0                          0                              0  \n",
       "1                          0                              0  \n",
       "2                        NaN                              0  \n",
       "3                          0                              0  \n",
       "4                          1                              1  \n",
       "5                          1                              1  \n",
       "6                          1                              1  \n",
       "7                          1                              1  \n",
       "8                          0                              0  \n",
       "9                          1                              0  \n",
       "10                         0                              0  \n",
       "11                         0                              0  \n",
       "12                         1                              0  \n",
       "13                         0                              0  \n",
       "14                       NaN                              0  \n",
       "15                         1                              0  \n",
       "16                         0                              0  \n",
       "17                         0                              0  \n",
       "18                         1                              1  \n",
       "19                         0                              0  \n",
       "20                         1                              1  \n",
       "21                         0                              0  \n",
       "22                         1                              1  \n",
       "23                         1                              1  \n",
       "24                         1                              1  \n",
       "25                         1                              1  \n",
       "26                         0                              0  \n",
       "27                         0                              0  \n",
       "28                         1                              1  \n",
       "29                       NaN                              0  \n",
       "...                      ...                            ...  \n",
       "5411                       0                              0  \n",
       "5412                       1                              1  \n",
       "5413                       0                              0  \n",
       "5414                       1                              1  \n",
       "5415                       0                              0  \n",
       "5416                     NaN                              0  \n",
       "5417                       0                              0  \n",
       "5418                     NaN                              0  \n",
       "5419                       0                              0  \n",
       "5420                       0                              0  \n",
       "5421                       1                              1  \n",
       "5422                       1                              0  \n",
       "5423                       1                              0  \n",
       "5424                       1                              1  \n",
       "5425                     NaN                              0  \n",
       "5426                       1                              1  \n",
       "5427                       1                              0  \n",
       "5428                       0                              0  \n",
       "5429                       1                              1  \n",
       "5430                       0                              0  \n",
       "5431                       1                              1  \n",
       "5432                       1                              1  \n",
       "5433                       0                              0  \n",
       "5434                       1                              1  \n",
       "5435                       0                              0  \n",
       "5436                       0                              0  \n",
       "5437                       0                              0  \n",
       "5438                       1                              0  \n",
       "5439                       1                              1  \n",
       "5440                       1                              1  \n",
       "\n",
       "[5441 rows x 14 columns]"
      ]
     },
     "execution_count": 241,
     "metadata": {},
     "output_type": "execute_result"
    }
   ],
   "source": [
    "total"
   ]
  },
  {
   "cell_type": "code",
   "execution_count": 242,
   "metadata": {
    "collapsed": true
   },
   "outputs": [],
   "source": [
    "lel = total.query(\"in_crowd == 1 and in_texas == 1 and in_befree == 1 and in_gold == 1 and perfect_ner_all_three_methods == 1\")"
   ]
  },
  {
   "cell_type": "code",
   "execution_count": 243,
   "metadata": {
    "collapsed": false
   },
   "outputs": [
    {
     "data": {
      "text/plain": [
       "(155, 14)"
      ]
     },
     "execution_count": 243,
     "metadata": {},
     "output_type": "execute_result"
    }
   ],
   "source": [
    "lel.shape"
   ]
  },
  {
   "cell_type": "code",
   "execution_count": 244,
   "metadata": {
    "collapsed": true
   },
   "outputs": [],
   "source": [
    "total.to_excel(\"jej.xlsx\", index = False)"
   ]
  },
  {
   "cell_type": "code",
   "execution_count": null,
   "metadata": {
    "collapsed": true
   },
   "outputs": [],
   "source": []
  },
  {
   "cell_type": "code",
   "execution_count": null,
   "metadata": {
    "collapsed": true
   },
   "outputs": [],
   "source": []
  },
  {
   "cell_type": "code",
   "execution_count": null,
   "metadata": {
    "collapsed": true
   },
   "outputs": [],
   "source": []
  },
  {
   "cell_type": "code",
   "execution_count": null,
   "metadata": {
    "collapsed": true
   },
   "outputs": [],
   "source": []
  },
  {
   "cell_type": "code",
   "execution_count": null,
   "metadata": {
    "collapsed": true
   },
   "outputs": [],
   "source": []
  },
  {
   "cell_type": "code",
   "execution_count": null,
   "metadata": {
    "collapsed": true
   },
   "outputs": [],
   "source": []
  },
  {
   "cell_type": "code",
   "execution_count": null,
   "metadata": {
    "collapsed": true
   },
   "outputs": [],
   "source": []
  },
  {
   "cell_type": "code",
   "execution_count": null,
   "metadata": {
    "collapsed": true
   },
   "outputs": [],
   "source": []
  },
  {
   "cell_type": "code",
   "execution_count": null,
   "metadata": {
    "collapsed": true
   },
   "outputs": [],
   "source": []
  },
  {
   "cell_type": "code",
   "execution_count": null,
   "metadata": {
    "collapsed": true
   },
   "outputs": [],
   "source": []
  },
  {
   "cell_type": "code",
   "execution_count": null,
   "metadata": {
    "collapsed": true
   },
   "outputs": [],
   "source": []
  },
  {
   "cell_type": "code",
   "execution_count": null,
   "metadata": {
    "collapsed": true
   },
   "outputs": [],
   "source": []
  },
  {
   "cell_type": "code",
   "execution_count": null,
   "metadata": {
    "collapsed": true
   },
   "outputs": [],
   "source": []
  },
  {
   "cell_type": "code",
   "execution_count": null,
   "metadata": {
    "collapsed": true
   },
   "outputs": [],
   "source": []
  },
  {
   "cell_type": "code",
   "execution_count": 153,
   "metadata": {
    "collapsed": false
   },
   "outputs": [
    {
     "data": {
      "text/html": [
       "<div>\n",
       "<table border=\"1\" class=\"dataframe\">\n",
       "  <thead>\n",
       "    <tr style=\"text-align: right;\">\n",
       "      <th></th>\n",
       "      <th>pmid</th>\n",
       "      <th>chemical_id</th>\n",
       "      <th>disease_id</th>\n",
       "      <th>in_gold</th>\n",
       "      <th>in_crowd</th>\n",
       "      <th>in_texas</th>\n",
       "      <th>in_befree</th>\n",
       "    </tr>\n",
       "  </thead>\n",
       "  <tbody>\n",
       "    <tr>\n",
       "      <th>0</th>\n",
       "      <td>8659767</td>\n",
       "      <td>MESH:D004837</td>\n",
       "      <td>MESH:D017180</td>\n",
       "      <td>True</td>\n",
       "      <td>True</td>\n",
       "      <td>True</td>\n",
       "      <td>False</td>\n",
       "    </tr>\n",
       "    <tr>\n",
       "      <th>1</th>\n",
       "      <td>7739955</td>\n",
       "      <td>MESH:D002220</td>\n",
       "      <td>MESH:D007022</td>\n",
       "      <td>False</td>\n",
       "      <td>False</td>\n",
       "      <td>True</td>\n",
       "      <td>False</td>\n",
       "    </tr>\n",
       "    <tr>\n",
       "      <th>2</th>\n",
       "      <td>3708328</td>\n",
       "      <td>MESH:D010862</td>\n",
       "      <td>MESH:D004833</td>\n",
       "      <td>False</td>\n",
       "      <td>True</td>\n",
       "      <td>True</td>\n",
       "      <td>False</td>\n",
       "    </tr>\n",
       "    <tr>\n",
       "      <th>3</th>\n",
       "      <td>17035713</td>\n",
       "      <td>MESH:D000171</td>\n",
       "      <td>MESH:D009369</td>\n",
       "      <td>False</td>\n",
       "      <td>False</td>\n",
       "      <td>False</td>\n",
       "      <td>True</td>\n",
       "    </tr>\n",
       "    <tr>\n",
       "      <th>4</th>\n",
       "      <td>2358093</td>\n",
       "      <td>MESH:D003613</td>\n",
       "      <td>MESH:D063806</td>\n",
       "      <td>False</td>\n",
       "      <td>True</td>\n",
       "      <td>False</td>\n",
       "      <td>False</td>\n",
       "    </tr>\n",
       "  </tbody>\n",
       "</table>\n",
       "</div>"
      ],
      "text/plain": [
       "       pmid   chemical_id    disease_id in_gold in_crowd in_texas in_befree\n",
       "0   8659767  MESH:D004837  MESH:D017180    True     True     True     False\n",
       "1   7739955  MESH:D002220  MESH:D007022   False    False     True     False\n",
       "2   3708328  MESH:D010862  MESH:D004833   False     True     True     False\n",
       "3  17035713  MESH:D000171  MESH:D009369   False    False    False      True\n",
       "4   2358093  MESH:D003613  MESH:D063806   False     True    False     False"
      ]
     },
     "execution_count": 153,
     "metadata": {},
     "output_type": "execute_result"
    }
   ],
   "source": [
    "venn_summary.head()"
   ]
  },
  {
   "cell_type": "code",
   "execution_count": 154,
   "metadata": {
    "collapsed": false
   },
   "outputs": [
    {
     "data": {
      "text/plain": [
       "(705, 7)"
      ]
     },
     "execution_count": 154,
     "metadata": {},
     "output_type": "execute_result"
    }
   ],
   "source": [
    "venn_summary.shape"
   ]
  },
  {
   "cell_type": "code",
   "execution_count": null,
   "metadata": {
    "collapsed": true
   },
   "outputs": [],
   "source": []
  },
  {
   "cell_type": "code",
   "execution_count": null,
   "metadata": {
    "collapsed": true
   },
   "outputs": [],
   "source": []
  },
  {
   "cell_type": "code",
   "execution_count": null,
   "metadata": {
    "collapsed": true
   },
   "outputs": [],
   "source": []
  },
  {
   "cell_type": "code",
   "execution_count": null,
   "metadata": {
    "collapsed": true
   },
   "outputs": [],
   "source": []
  },
  {
   "cell_type": "code",
   "execution_count": null,
   "metadata": {
    "collapsed": true
   },
   "outputs": [],
   "source": []
  },
  {
   "cell_type": "code",
   "execution_count": null,
   "metadata": {
    "collapsed": true
   },
   "outputs": [],
   "source": []
  },
  {
   "cell_type": "code",
   "execution_count": null,
   "metadata": {
    "collapsed": true
   },
   "outputs": [],
   "source": []
  },
  {
   "cell_type": "code",
   "execution_count": 117,
   "metadata": {
    "collapsed": false
   },
   "outputs": [
    {
     "name": "stdout",
     "output_type": "stream",
     "text": [
      "number of relations: 16\n"
     ]
    }
   ],
   "source": [
    "# relations which both machine learning methods got but our crowd didn't\n",
    "\n",
    "query = \"in_gold and ~in_crowd and in_texas and in_befree\"\n",
    "ml_only = grab_subset(query, venn_summary)\n",
    "print_excel(ml_only, \"machine_gold_no_crowd.xlsx\")"
   ]
  },
  {
   "cell_type": "code",
   "execution_count": 118,
   "metadata": {
    "collapsed": false
   },
   "outputs": [
    {
     "name": "stdout",
     "output_type": "stream",
     "text": [
      "number of relations: 36\n"
     ]
    }
   ],
   "source": [
    "# relations which both machine learning methods missed but our crowd got\n",
    "\n",
    "query = \"in_gold and in_crowd and ~in_texas and ~in_befree\"\n",
    "crowd_only = grab_subset(query, venn_summary)\n",
    "print_excel(crowd_only, \"crowd_gold_no_machines.xlsx\")"
   ]
  },
  {
   "cell_type": "code",
   "execution_count": 123,
   "metadata": {
    "collapsed": false
   },
   "outputs": [
    {
     "name": "stdout",
     "output_type": "stream",
     "text": [
      "number of relations: 25\n"
     ]
    }
   ],
   "source": [
    "# relations which all three methods predicted but is not in gold standard\n",
    "\n",
    "query = \"~in_gold and in_crowd and in_texas and in_befree\"\n",
    "all_fp = grab_subset(query, venn_summary)\n",
    "print_excel(all_fp, \"all_false_pos.xlsx\")"
   ]
  },
  {
   "cell_type": "code",
   "execution_count": null,
   "metadata": {
    "collapsed": true
   },
   "outputs": [],
   "source": []
  },
  {
   "cell_type": "code",
   "execution_count": null,
   "metadata": {
    "collapsed": true
   },
   "outputs": [],
   "source": []
  },
  {
   "cell_type": "code",
   "execution_count": null,
   "metadata": {
    "collapsed": true
   },
   "outputs": [],
   "source": []
  },
  {
   "cell_type": "code",
   "execution_count": null,
   "metadata": {
    "collapsed": true
   },
   "outputs": [],
   "source": []
  },
  {
   "cell_type": "code",
   "execution_count": null,
   "metadata": {
    "collapsed": true
   },
   "outputs": [],
   "source": []
  },
  {
   "cell_type": "code",
   "execution_count": null,
   "metadata": {
    "collapsed": true
   },
   "outputs": [],
   "source": []
  },
  {
   "cell_type": "code",
   "execution_count": null,
   "metadata": {
    "collapsed": true
   },
   "outputs": [],
   "source": []
  },
  {
   "cell_type": "code",
   "execution_count": null,
   "metadata": {
    "collapsed": true
   },
   "outputs": [],
   "source": []
  },
  {
   "cell_type": "markdown",
   "metadata": {},
   "source": [
    "## Concept Venn diagrams\n",
    "\n",
    "What chemical and disease concepts were identified by each solution?"
   ]
  },
  {
   "cell_type": "code",
   "execution_count": 101,
   "metadata": {
    "collapsed": false
   },
   "outputs": [],
   "source": [
    "# what were the MeSH ids of annotations for all papers in the testset?\n",
    "\n",
    "concepts = defaultdict(lambda: defaultdict(set))\n",
    "\n",
    "for method, dataset in zip([\"gold\", \"crowd\", \"befree\"], [eval_gold, crowd_full, befree_full]):\n",
    "    for pmid, paper in dataset.items():\n",
    "        for annot in paper.annotations:\n",
    "            concepts[method][annot.stype] |= set(annot.uid)\n",
    "            \n",
    "names = [\"gold\", \"crowd\", \"befree\"]\n",
    "for name in names:\n",
    "    for concept in [\"chemical\", \"disease\"]:\n",
    "        vals = {val.flat_repr for val in concepts[name][concept]}\n",
    "        print_to_file(\"temp/{}_{}.txt\".format(name, concept), format_set(vals))"
   ]
  },
  {
   "cell_type": "markdown",
   "metadata": {},
   "source": [
    "This analysis allows us to determine the performance for each of the NER methods. There may have been some concepts which the NER was never able to recognize properly.\n",
    "\n",
    "### Chemical MeSH ID overlap for all annotations\n",
    "<img src=\"../data/notebook/testset_chemical_id_venn.png\" style=\"width: 500px;\">\n",
    "\n",
    "### Disease MeSH ID overlap for all annotations\n",
    "<img src=\"../data/notebook/testset_disease_id_venn.png\" style=\"width: 500px;\">\n",
    "\n",
    "\n",
    "What we thankfully see is that the vast majority of the chemicals and diseases were identified by all three solutions. However, there exist small numbers of both chemicals and diseases for which the solutions could not come into agreement."
   ]
  },
  {
   "cell_type": "markdown",
   "metadata": {},
   "source": [
    "### Visualizing the terms in each section of the venn diagrams above\n",
    "\n",
    "To look at the actual concepts, we can use word clouds where the size represents the frequency of the concept in the annotations of the testset."
   ]
  },
  {
   "cell_type": "code",
   "execution_count": 102,
   "metadata": {
    "collapsed": true
   },
   "outputs": [],
   "source": [
    "mesh_name, hierarchy = load_mesh(\"hierarchy\")\n",
    "mesh_supp = load_mesh(\"supp\")\n",
    "\n",
    "assert set(mesh_name.keys()).isdisjoint(set(mesh_supp.keys()))\n",
    "# join the names together\n",
    "mesh_name.update(mesh_supp)"
   ]
  },
  {
   "cell_type": "code",
   "execution_count": 103,
   "metadata": {
    "collapsed": true
   },
   "outputs": [],
   "source": [
    "def word_map_prep(concepts, reference):\n",
    "    \"\"\"Given a set of concepts, map them to their names\n",
    "    and output for word cloud generation.\n",
    "    \"\"\"\n",
    "    snippets = []\n",
    "    for pmid, paper in reference.items():\n",
    "        for annot in paper.annotations:\n",
    "            common = annot.uid & concepts\n",
    "            if len(common) > 0:\n",
    "                for concept in common:\n",
    "                    if concept.uid_type == \"MESH\":\n",
    "                        snippets.append(mesh_name[concept.uid])\n",
    "                    else:\n",
    "                        snippets.append(annot.text)\n",
    "                \n",
    "    return snippets"
   ]
  },
  {
   "cell_type": "markdown",
   "metadata": {},
   "source": [
    "For UTexas, sometimes the MeSH ID doesn't match the stated semantic type. For example, in PMID 20009434, \"HD\" is identified as a disease but is assigned the id D008727 for methotrexate. When finding the frequencies, I am using the identifiers, and not verifying the semantic type. May need to adjust this."
   ]
  },
  {
   "cell_type": "code",
   "execution_count": 104,
   "metadata": {
    "collapsed": false
   },
   "outputs": [],
   "source": [
    "# generate word clouds with worditout, using the table feature for precise control over concepts\n",
    "# have to save to kemxjr@gmail.com account, then download (watch out for the watermark)\n",
    "\n",
    "common = concepts[\"befree\"][\"chemical\"] & concepts[\"crowd\"][\"chemical\"] - concepts[\"gold\"][\"chemical\"]\n",
    "\n",
    "res = word_map_prep(common, crowd_full)\n",
    "\n",
    "counts = pd.DataFrame(pd.Series(res).value_counts())\n",
    "counts.to_csv(\"temp/counts.txt\", sep = \":\", index = True, header = False)"
   ]
  },
  {
   "cell_type": "markdown",
   "metadata": {
    "collapsed": true
   },
   "source": [
    "---"
   ]
  },
  {
   "cell_type": "markdown",
   "metadata": {},
   "source": [
    "### Venn diagram of relations"
   ]
  },
  {
   "cell_type": "code",
   "execution_count": 105,
   "metadata": {
    "collapsed": true
   },
   "outputs": [],
   "source": [
    "# format triples to make venn diagrams using:\n",
    "# bioinformatics.lu/venn.php\n",
    "# bioinfogp.cnb.csic.es/tools/venny\n",
    "        \n",
    "names = [\"gold\", \"crowd\", \"befree\"]\n",
    "data = [gold_triples, crowd_trip, befree_trip]\n",
    "    \n",
    "for fname, dataset in zip(names, data):\n",
    "    print_to_file(\"{}.txt\".format(fname), format_set(dataset))"
   ]
  },
  {
   "cell_type": "code",
   "execution_count": 106,
   "metadata": {
    "collapsed": false
   },
   "outputs": [
    {
     "ename": "NameError",
     "evalue": "name 'crowd_good_gold' is not defined",
     "output_type": "error",
     "traceback": [
      "\u001b[1;31m---------------------------------------------------------------------------\u001b[0m",
      "\u001b[1;31mNameError\u001b[0m                                 Traceback (most recent call last)",
      "\u001b[1;32m<ipython-input-106-b33b55e64e63>\u001b[0m in \u001b[0;36m<module>\u001b[1;34m()\u001b[0m\n\u001b[0;32m      1\u001b[0m \u001b[1;31m# venn diagram when using only relations with perfect annotations\u001b[0m\u001b[1;33m\u001b[0m\u001b[1;33m\u001b[0m\u001b[0m\n\u001b[0;32m      2\u001b[0m \u001b[1;33m\u001b[0m\u001b[0m\n\u001b[1;32m----> 3\u001b[1;33m \u001b[0mcommon_gold\u001b[0m \u001b[1;33m=\u001b[0m \u001b[0mget_triples\u001b[0m\u001b[1;33m(\u001b[0m\u001b[0mcrowd_good_gold\u001b[0m\u001b[1;33m)\u001b[0m \u001b[1;33m|\u001b[0m \u001b[0mget_triples\u001b[0m\u001b[1;33m(\u001b[0m\u001b[0mbefree_good_gold\u001b[0m\u001b[1;33m)\u001b[0m\u001b[1;33m\u001b[0m\u001b[0m\n\u001b[0m\u001b[0;32m      4\u001b[0m \u001b[1;33m\u001b[0m\u001b[0m\n\u001b[0;32m      5\u001b[0m \u001b[0mnames\u001b[0m \u001b[1;33m=\u001b[0m \u001b[1;33m[\u001b[0m\u001b[1;34m\"gold\"\u001b[0m\u001b[1;33m,\u001b[0m \u001b[1;34m\"crowd\"\u001b[0m\u001b[1;33m,\u001b[0m \u001b[1;34m\"befree\"\u001b[0m\u001b[1;33m]\u001b[0m\u001b[1;33m\u001b[0m\u001b[0m\n",
      "\u001b[1;31mNameError\u001b[0m: name 'crowd_good_gold' is not defined"
     ]
    }
   ],
   "source": [
    "# venn diagram when using only relations with perfect annotations\n",
    "\n",
    "common_gold = get_triples(crowd_good_gold) | get_triples(befree_good_gold)\n",
    "\n",
    "names = [\"gold\", \"crowd\", \"befree\"]\n",
    "data = [common_gold, get_triples(crowd_no_ner.query(\"num_votes >= 4\")), get_triples(befree_no_ner)]\n",
    "    \n",
    "for fname, dataset in zip(names, data):\n",
    "    print_to_file(\"{}.txt\".format(fname), format_set(dataset))"
   ]
  },
  {
   "cell_type": "markdown",
   "metadata": {},
   "source": [
    "### Gold, crowd, and texas only\n",
    "<img src=\"../data/notebook/better_testset_cross_validation.png\" style=\"width: 500px;\">\n",
    "\n",
    "### Gold, crowd, texas, and befree\n",
    "<img src=\"../data/notebook/testset_all_cross_validation.png\" style=\"width: 500px;\">\n",
    "\n",
    "### Overlap using relations which had perfect annotations w.r.t. gold\n",
    "<img src=\"../data/notebook/testset_all_no_ner_cross_validation.png\", style=\"width: 500px;\">"
   ]
  },
  {
   "cell_type": "markdown",
   "metadata": {},
   "source": [
    "---"
   ]
  },
  {
   "cell_type": "markdown",
   "metadata": {},
   "source": [
    "### Percent relations in each subset with ids missing in gold standard"
   ]
  },
  {
   "cell_type": "code",
   "execution_count": null,
   "metadata": {
    "collapsed": true
   },
   "outputs": [],
   "source": [
    "def missing_stats(triples, reference):\n",
    "    df = make_df(triples)\n",
    "    df = check_exists(df, reference)\n",
    "    \n",
    "    ans = dict()\n",
    "    for col in [\"chem\", \"dise\"]:\n",
    "        cname = \"{}_exists\".format(col)\n",
    "        norm = df[cname].value_counts(normalize = True)\n",
    "        res = norm.loc[False] if False in norm.keys() else 0\n",
    "        ans[col] = res * 100\n",
    "        \n",
    "    ans[\"any\"] = len(df.query(\"~chem_exists or ~dise_exists\")) / len(df) * 100\n",
    "    return ans"
   ]
  },
  {
   "cell_type": "markdown",
   "metadata": {},
   "source": [
    "---"
   ]
  },
  {
   "cell_type": "markdown",
   "metadata": {},
   "source": [
    "### Abstract vs sentence relations"
   ]
  },
  {
   "cell_type": "code",
   "execution_count": null,
   "metadata": {
    "collapsed": true
   },
   "outputs": [],
   "source": [
    "def rel_origin(triple, paper):\n",
    "    relation = Relation(paper.pmid, triple[1], triple[2], flat = False)\n",
    "\n",
    "    rename = {\n",
    "        \"CID\": \"CID\",\n",
    "        \"sentence_non_CID\": \"sent\",\n",
    "        \"not_sentence_bound\": \"abs\"\n",
    "    }\n",
    "    \n",
    "    ans = []\n",
    "    for key, val in paper.poss_relations.items():\n",
    "        value = converter(paper.pmid, val)\n",
    "        if relation in value:\n",
    "            ans.append(rename[key])\n",
    "\n",
    "    return ans\n",
    "\n",
    "def triple_origin(triples, reference, return_res = False):\n",
    "    lengths = []\n",
    "    vals = []\n",
    "    for trip in triples:\n",
    "        pmid = trip[0]\n",
    "        res = rel_origin(trip, reference[pmid])\n",
    "        \n",
    "        vals += res\n",
    "        lengths.append(len(res))\n",
    "        \n",
    "    if return_res:\n",
    "        return pd.Series(vals).value_counts(normalize = True) * 100    \n",
    "        \n",
    "    print(\"For this triple set of length {}\".format(len(triples)))\n",
    "    print(\"Origin group lengths:\")\n",
    "    print(pd.Series(lengths).value_counts())\n",
    "    print()\n",
    "    print(\"Origin counts:\")\n",
    "    print(pd.Series(vals).value_counts(normalize = True) * 100)"
   ]
  },
  {
   "cell_type": "markdown",
   "metadata": {},
   "source": [
    "### Relation co-occurrence for each dataset separately\n",
    "\n",
    "For each technique where did the predicted relations come from?"
   ]
  },
  {
   "cell_type": "code",
   "execution_count": null,
   "metadata": {
    "collapsed": false
   },
   "outputs": [],
   "source": [
    "a = triple_origin(gold_triples, eval_gold, return_res = True)\n",
    "b = triple_origin(crowd_trip, crowd_full, return_res = True)\n",
    "c = triple_origin(befree_trip, befree_full, return_res = True)\n",
    "\n",
    "rel_origins = pd.DataFrame([a, b, c], index = [\"gold\", \"crowd\", \"befree\"])\n",
    "\n",
    "ax = rel_origins.T.plot(kind = \"bar\", figsize = (5, 7),\n",
    "                    title = \"Origin for gold standard, crowd, and texas relations\")\n",
    "ax.set_ylabel(\"Percent relations\")\n",
    "rel_origins"
   ]
  },
  {
   "cell_type": "markdown",
   "metadata": {},
   "source": [
    "---"
   ]
  },
  {
   "cell_type": "markdown",
   "metadata": {},
   "source": [
    "### Make one comprehensive dataframe for easier analysis"
   ]
  },
  {
   "cell_type": "code",
   "execution_count": 53,
   "metadata": {
    "collapsed": true
   },
   "outputs": [],
   "source": [
    "def new_check_exists(df, reference, ref_name):\n",
    "    triple = [\"pmid\", \"chemical_id\", \"disease_id\"]\n",
    "    for col in [\"chemical\", \"disease\"]:\n",
    "        col_name = \"{0}_in_{1}\".format(col[:4], ref_name)\n",
    "        \n",
    "        df.loc[:, col_name] = df[triple].apply(\n",
    "            lambda row: has_concept(reference[int(row[\"pmid\"])], row[\"{}_id\".format(col)]), axis = 1)\n",
    "        \n",
    "    return df"
   ]
  },
  {
   "cell_type": "code",
   "execution_count": 54,
   "metadata": {
    "collapsed": true
   },
   "outputs": [],
   "source": [
    "def single_triple_origin(pmid, chemical_id, disease_id, reference):\n",
    "    triple = (pmid, chemical_id, disease_id)\n",
    "    \n",
    "    res = rel_origin(triple, reference[pmid])\n",
    "    return \"|\".join(sorted(res))"
   ]
  },
  {
   "cell_type": "code",
   "execution_count": 55,
   "metadata": {
    "collapsed": true
   },
   "outputs": [],
   "source": [
    "def num_times_cooccur(pmid, chemical_id, disease_id, rel_origin, reference):\n",
    "    \"\"\"Given a relation triple and a reference Paper object,\n",
    "    determines how many times the relation cooccurs (a sentence\n",
    "    if CID or sentence, and 1 otherwise (abstract)).\n",
    "    \"\"\"\n",
    "    if not rel_origin:\n",
    "        # was not found using this solution\n",
    "        return np.nan\n",
    "    \n",
    "    if rel_origin == \"abs\":\n",
    "        return 1\n",
    "    \n",
    "    paper = reference[pmid]\n",
    "    \n",
    "    rel = Relation(pmid, chemical_id, disease_id, flat = False)\n",
    "        \n",
    "    ans = 0\n",
    "    for sentence in paper.sentences:\n",
    "        all_rels = sentence.poss_relations[rel_origin == \"CID\"]\n",
    "        all_rels = [Relation(pmid, chem_set, dise_set) for chem_set, dise_set in all_rels]\n",
    "        ans += int(rel in all_rels)\n",
    "        \n",
    "    return ans"
   ]
  },
  {
   "cell_type": "code",
   "execution_count": 56,
   "metadata": {
    "collapsed": false
   },
   "outputs": [
    {
     "ename": "NameError",
     "evalue": "name 'gold_triples' is not defined",
     "output_type": "error",
     "traceback": [
      "\u001b[1;31m---------------------------------------------------------------------------\u001b[0m",
      "\u001b[1;31mNameError\u001b[0m                                 Traceback (most recent call last)",
      "\u001b[1;32m<ipython-input-56-bd5d2f647cb5>\u001b[0m in \u001b[0;36m<module>\u001b[1;34m()\u001b[0m\n\u001b[0;32m      1\u001b[0m \u001b[1;31m# creating one comprehensive dataframe for easy result aggregation and querying\u001b[0m\u001b[1;33m\u001b[0m\u001b[1;33m\u001b[0m\u001b[0m\n\u001b[0;32m      2\u001b[0m \u001b[1;33m\u001b[0m\u001b[0m\n\u001b[1;32m----> 3\u001b[1;33m \u001b[0mall_trips\u001b[0m \u001b[1;33m=\u001b[0m \u001b[0mgold_triples\u001b[0m \u001b[1;33m|\u001b[0m \u001b[0mcrowd_trip\u001b[0m \u001b[1;33m|\u001b[0m \u001b[0mbefree_trip\u001b[0m\u001b[1;33m\u001b[0m\u001b[0m\n\u001b[0m\u001b[0;32m      4\u001b[0m \u001b[0mall_df\u001b[0m \u001b[1;33m=\u001b[0m \u001b[0mmake_df\u001b[0m\u001b[1;33m(\u001b[0m\u001b[0mall_trips\u001b[0m\u001b[1;33m)\u001b[0m\u001b[1;33m\u001b[0m\u001b[0m\n\u001b[0;32m      5\u001b[0m \u001b[1;33m\u001b[0m\u001b[0m\n",
      "\u001b[1;31mNameError\u001b[0m: name 'gold_triples' is not defined"
     ]
    }
   ],
   "source": [
    "# creating one comprehensive dataframe for easy result aggregation and querying\n",
    "\n",
    "all_trips = gold_triples | crowd_trip | befree_trip\n",
    "all_df = make_df(all_trips)\n",
    "\n",
    "triple = [\"pmid\", \"chemical_id\", \"disease_id\"]\n",
    "\n",
    "# which triple was found by which solution?\n",
    "for name, reference in zip([\"gold\", \"crowd\", \"befree\"], [gold_triples, crowd_trip, befree_trip]):\n",
    "    all_df.loc[:, \"in_{}\".format(name)] = all_df.loc[:, triple].apply(\n",
    "        lambda row: (row[\"pmid\"], row[\"chemical_id\"], row[\"disease_id\"]) in reference,\n",
    "        axis = 1\n",
    "    )\n",
    "    \n",
    "# were the concepts present in each dataset's concepts?\n",
    "for name, reference in zip([\"gold\", \"crowd\", \"befree\"], [eval_gold, crowd_full, befree_full]):\n",
    "    all_df = new_check_exists(all_df, reference, name)\n",
    "\n",
    "# was the relation sentence bound or abstract level?\n",
    "for name, reference in zip([\"gold\", \"crowd\", \"befree\"], [eval_gold, crowd_full, befree_full]):\n",
    "    colname = \"rel_orig_{}\".format(name)\n",
    "    \n",
    "    all_df.loc[:, colname] = all_df.loc[:, triple].apply(\n",
    "        lambda row: single_triple_origin(row[\"pmid\"], row[\"chemical_id\"], row[\"disease_id\"], reference),\n",
    "        axis = 1\n",
    "    )\n",
    "    \n",
    "# how many times did the two concepts cooccur within the paper?    \n",
    "for name, reference in zip([\"gold\", \"crowd\", \"befree\"], [eval_gold, crowd_full, befree_full]):    \n",
    "    colname = \"cooccur_{}\".format(name)\n",
    "    rel_orig = \"rel_orig_{}\".format(name)\n",
    "    \n",
    "    all_df.loc[:, colname] = all_df.loc[:, triple + [rel_orig]].apply(\n",
    "        lambda row: num_times_cooccur(row[\"pmid\"], row[\"chemical_id\"], row[\"disease_id\"],\n",
    "                                     row[rel_orig], reference),\n",
    "        axis = 1\n",
    "    )"
   ]
  },
  {
   "cell_type": "code",
   "execution_count": null,
   "metadata": {
    "collapsed": false
   },
   "outputs": [],
   "source": [
    "all_df.head()"
   ]
  },
  {
   "cell_type": "code",
   "execution_count": null,
   "metadata": {
    "collapsed": false
   },
   "outputs": [],
   "source": [
    "lel = all_df.query(\"~in_gold and in_crowd and ~in_befree\")"
   ]
  },
  {
   "cell_type": "code",
   "execution_count": null,
   "metadata": {
    "collapsed": false
   },
   "outputs": [],
   "source": [
    "lel.shape"
   ]
  },
  {
   "cell_type": "code",
   "execution_count": null,
   "metadata": {
    "collapsed": false
   },
   "outputs": [],
   "source": [
    "lel.query(\"~chem_in_gold or ~dise_in_gold\").shape"
   ]
  },
  {
   "cell_type": "code",
   "execution_count": null,
   "metadata": {
    "collapsed": false
   },
   "outputs": [],
   "source": [
    "162/517"
   ]
  },
  {
   "cell_type": "code",
   "execution_count": null,
   "metadata": {
    "collapsed": true
   },
   "outputs": [],
   "source": [
    "lel = all_df.query(\"~in_gold and ~in_crowd and in_befree\")"
   ]
  },
  {
   "cell_type": "code",
   "execution_count": null,
   "metadata": {
    "collapsed": false
   },
   "outputs": [],
   "source": [
    "lel.shape"
   ]
  },
  {
   "cell_type": "code",
   "execution_count": null,
   "metadata": {
    "collapsed": false
   },
   "outputs": [],
   "source": [
    "lel.query(\"~chem_in_gold or ~dise_in_gold\").shape"
   ]
  },
  {
   "cell_type": "code",
   "execution_count": null,
   "metadata": {
    "collapsed": false,
    "scrolled": true
   },
   "outputs": [],
   "source": [
    "150/312"
   ]
  },
  {
   "cell_type": "code",
   "execution_count": null,
   "metadata": {
    "collapsed": true
   },
   "outputs": [],
   "source": [
    "lel = all_df.query(\"~in_gold and in_crowd and ~in_befree and chem_in_gold and dise_in_gold\")"
   ]
  },
  {
   "cell_type": "code",
   "execution_count": null,
   "metadata": {
    "collapsed": false
   },
   "outputs": [],
   "source": [
    "lel.shape"
   ]
  },
  {
   "cell_type": "code",
   "execution_count": null,
   "metadata": {
    "collapsed": true
   },
   "outputs": [],
   "source": []
  },
  {
   "cell_type": "code",
   "execution_count": null,
   "metadata": {
    "collapsed": true
   },
   "outputs": [],
   "source": []
  },
  {
   "cell_type": "markdown",
   "metadata": {},
   "source": [
    "---"
   ]
  },
  {
   "cell_type": "markdown",
   "metadata": {},
   "source": [
    "### How many of the sentence and abstract relations did each method find? What was the precision?"
   ]
  },
  {
   "cell_type": "code",
   "execution_count": 107,
   "metadata": {
    "collapsed": false
   },
   "outputs": [],
   "source": [
    "def found_stats():\n",
    "    recall = dict()\n",
    "    precision = dict()\n",
    "    for method in [\"crowd\", \"befree\"]:\n",
    "        rec_temp = dict()\n",
    "        pre_temp = dict()\n",
    "        for rel_type in [\"CID\", \"sent\", \"abs\"]:\n",
    "            sub = all_df.query(\"in_gold and rel_orig_gold == '{}'\".format(rel_type))\n",
    "            total = len(sub)\n",
    "            found = len(sub.query(\"in_{}\".format(method)))\n",
    "            \n",
    "            guesses = all_df.query(\"in_{0} and rel_orig_{0} == '{1}'\".format(method, rel_type))\n",
    "            guesses = len(guesses)\n",
    "            \n",
    "            rec_temp[rel_type] = found / total * 100\n",
    "            pre_temp[rel_type] = found / guesses * 100\n",
    "            \n",
    "        recall[method] = rec_temp\n",
    "        precision[method] = pre_temp\n",
    "        \n",
    "    print(recall)\n",
    "        \n",
    "    return (pd.DataFrame(recall), pd.DataFrame(precision))"
   ]
  },
  {
   "cell_type": "code",
   "execution_count": 108,
   "metadata": {
    "collapsed": false
   },
   "outputs": [
    {
     "ename": "NameError",
     "evalue": "name 'all_df' is not defined",
     "output_type": "error",
     "traceback": [
      "\u001b[1;31m---------------------------------------------------------------------------\u001b[0m",
      "\u001b[1;31mNameError\u001b[0m                                 Traceback (most recent call last)",
      "\u001b[1;32m<ipython-input-108-6502dbd4c791>\u001b[0m in \u001b[0;36m<module>\u001b[1;34m()\u001b[0m\n\u001b[1;32m----> 1\u001b[1;33m \u001b[0mrecall\u001b[0m\u001b[1;33m,\u001b[0m \u001b[0mprecision\u001b[0m \u001b[1;33m=\u001b[0m \u001b[0mfound_stats\u001b[0m\u001b[1;33m(\u001b[0m\u001b[1;33m)\u001b[0m\u001b[1;33m\u001b[0m\u001b[0m\n\u001b[0m",
      "\u001b[1;32m<ipython-input-107-d03de00dad3f>\u001b[0m in \u001b[0;36mfound_stats\u001b[1;34m()\u001b[0m\n\u001b[0;32m      6\u001b[0m         \u001b[0mpre_temp\u001b[0m \u001b[1;33m=\u001b[0m \u001b[0mdict\u001b[0m\u001b[1;33m(\u001b[0m\u001b[1;33m)\u001b[0m\u001b[1;33m\u001b[0m\u001b[0m\n\u001b[0;32m      7\u001b[0m         \u001b[1;32mfor\u001b[0m \u001b[0mrel_type\u001b[0m \u001b[1;32min\u001b[0m \u001b[1;33m[\u001b[0m\u001b[1;34m\"CID\"\u001b[0m\u001b[1;33m,\u001b[0m \u001b[1;34m\"sent\"\u001b[0m\u001b[1;33m,\u001b[0m \u001b[1;34m\"abs\"\u001b[0m\u001b[1;33m]\u001b[0m\u001b[1;33m:\u001b[0m\u001b[1;33m\u001b[0m\u001b[0m\n\u001b[1;32m----> 8\u001b[1;33m             \u001b[0msub\u001b[0m \u001b[1;33m=\u001b[0m \u001b[0mall_df\u001b[0m\u001b[1;33m.\u001b[0m\u001b[0mquery\u001b[0m\u001b[1;33m(\u001b[0m\u001b[1;34m\"in_gold and rel_orig_gold == '{}'\"\u001b[0m\u001b[1;33m.\u001b[0m\u001b[0mformat\u001b[0m\u001b[1;33m(\u001b[0m\u001b[0mrel_type\u001b[0m\u001b[1;33m)\u001b[0m\u001b[1;33m)\u001b[0m\u001b[1;33m\u001b[0m\u001b[0m\n\u001b[0m\u001b[0;32m      9\u001b[0m             \u001b[0mtotal\u001b[0m \u001b[1;33m=\u001b[0m \u001b[0mlen\u001b[0m\u001b[1;33m(\u001b[0m\u001b[0msub\u001b[0m\u001b[1;33m)\u001b[0m\u001b[1;33m\u001b[0m\u001b[0m\n\u001b[0;32m     10\u001b[0m             \u001b[0mfound\u001b[0m \u001b[1;33m=\u001b[0m \u001b[0mlen\u001b[0m\u001b[1;33m(\u001b[0m\u001b[0msub\u001b[0m\u001b[1;33m.\u001b[0m\u001b[0mquery\u001b[0m\u001b[1;33m(\u001b[0m\u001b[1;34m\"in_{}\"\u001b[0m\u001b[1;33m.\u001b[0m\u001b[0mformat\u001b[0m\u001b[1;33m(\u001b[0m\u001b[0mmethod\u001b[0m\u001b[1;33m)\u001b[0m\u001b[1;33m)\u001b[0m\u001b[1;33m)\u001b[0m\u001b[1;33m\u001b[0m\u001b[0m\n",
      "\u001b[1;31mNameError\u001b[0m: name 'all_df' is not defined"
     ]
    }
   ],
   "source": [
    "recall, precision = found_stats()"
   ]
  },
  {
   "cell_type": "code",
   "execution_count": 109,
   "metadata": {
    "collapsed": false
   },
   "outputs": [],
   "source": [
    "recall"
   ]
  },
  {
   "cell_type": "code",
   "execution_count": null,
   "metadata": {
    "collapsed": true
   },
   "outputs": [],
   "source": [
    "  etype origin  crowd_wrong  task_limitation  hierarchy_error  \\\n",
    "0    FN    abs     0.666667         0.133333         0.000000   \n",
    "1    FN   sent     0.333333         0.733333         0.000000   \n",
    "2    FP    abs     0.266667         0.133333         0.000000   \n",
    "3    FP   sent     0.333333         0.200000         0.133333   \n",
    "\n",
    "   implicit_relation  lack_of_context  ambiguous  lack_of_comprehension  \\\n",
    "0           0.133333         0.000000   0.000000               0.666667   \n",
    "1           0.000000         0.600000   0.000000               0.133333   \n",
    "2           0.000000         0.000000   0.000000               0.266667   \n",
    "3           0.000000         0.066667   0.066667               0.133333   \n",
    "\n",
    "   ner_error  gold_inconsistent  not_covered_by_instructions  gold_error  \n",
    "0   0.000000           0.000000                     0.000000    0.200000  \n",
    "1   0.000000           0.000000                     0.133333    0.133333  \n",
    "2   0.000000           0.000000                     0.000000    0.733333  \n",
    "3   0.066667           0.066667                     0.000000    0.466667  "
   ]
  },
  {
   "cell_type": "code",
   "execution_count": 110,
   "metadata": {
    "collapsed": false
   },
   "outputs": [
    {
     "ename": "NameError",
     "evalue": "name 'recall' is not defined",
     "output_type": "error",
     "traceback": [
      "\u001b[1;31m---------------------------------------------------------------------------\u001b[0m",
      "\u001b[1;31mNameError\u001b[0m                                 Traceback (most recent call last)",
      "\u001b[1;32m<ipython-input-110-371df507b184>\u001b[0m in \u001b[0;36m<module>\u001b[1;34m()\u001b[0m\n\u001b[1;32m----> 1\u001b[1;33m ax = recall.plot(kind = \"bar\", figsize = (4, 5),\n\u001b[0m\u001b[0;32m      2\u001b[0m         title = \"Gold relation recall by relation category\")\n\u001b[0;32m      3\u001b[0m \u001b[1;33m\u001b[0m\u001b[0m\n\u001b[0;32m      4\u001b[0m \u001b[0max\u001b[0m\u001b[1;33m.\u001b[0m\u001b[0mset_ylabel\u001b[0m\u001b[1;33m(\u001b[0m\u001b[1;34m\"Percent gold relations found\"\u001b[0m\u001b[1;33m)\u001b[0m\u001b[1;33m\u001b[0m\u001b[0m\n\u001b[0;32m      5\u001b[0m \u001b[1;33m\u001b[0m\u001b[0m\n",
      "\u001b[1;31mNameError\u001b[0m: name 'recall' is not defined"
     ]
    }
   ],
   "source": [
    "ax = recall.plot(kind = \"bar\", figsize = (4, 5),\n",
    "        title = \"Gold relation recall by relation category\")\n",
    "\n",
    "ax.set_ylabel(\"Percent gold relations found\")\n",
    "\n",
    "recall"
   ]
  },
  {
   "cell_type": "code",
   "execution_count": 111,
   "metadata": {
    "collapsed": false
   },
   "outputs": [
    {
     "ename": "NameError",
     "evalue": "name 'precision' is not defined",
     "output_type": "error",
     "traceback": [
      "\u001b[1;31m---------------------------------------------------------------------------\u001b[0m",
      "\u001b[1;31mNameError\u001b[0m                                 Traceback (most recent call last)",
      "\u001b[1;32m<ipython-input-111-cd5cd04b1e77>\u001b[0m in \u001b[0;36m<module>\u001b[1;34m()\u001b[0m\n\u001b[1;32m----> 1\u001b[1;33m ax = precision.plot(kind = \"bar\", figsize = (4, 5),\n\u001b[0m\u001b[0;32m      2\u001b[0m         title = \"Gold relation precision by relation category\")\n\u001b[0;32m      3\u001b[0m \u001b[1;33m\u001b[0m\u001b[0m\n\u001b[0;32m      4\u001b[0m \u001b[0max\u001b[0m\u001b[1;33m.\u001b[0m\u001b[0mset_ylabel\u001b[0m\u001b[1;33m(\u001b[0m\u001b[1;34m\"Precision of guesses\"\u001b[0m\u001b[1;33m)\u001b[0m\u001b[1;33m\u001b[0m\u001b[0m\n\u001b[0;32m      5\u001b[0m \u001b[1;33m\u001b[0m\u001b[0m\n",
      "\u001b[1;31mNameError\u001b[0m: name 'precision' is not defined"
     ]
    }
   ],
   "source": [
    "ax = precision.plot(kind = \"bar\", figsize = (4, 5),\n",
    "        title = \"Gold relation precision by relation category\")\n",
    "\n",
    "ax.set_ylabel(\"Precision of guesses\")\n",
    "\n",
    "precision"
   ]
  },
  {
   "cell_type": "markdown",
   "metadata": {},
   "source": [
    "The two solutions found similar fractions of CID and abstract relations. The Texas solution found more sentence relations, but their predictions also contained more sentence-level relations overall. This is bad.. We are showing in different ways why the automated solution was better than our crowd.."
   ]
  },
  {
   "cell_type": "markdown",
   "metadata": {},
   "source": [
    "### Of the relations which neither technique got, why did we not get them?"
   ]
  },
  {
   "cell_type": "code",
   "execution_count": 112,
   "metadata": {
    "collapsed": false
   },
   "outputs": [
    {
     "ename": "NameError",
     "evalue": "name 'missing_stats' is not defined",
     "output_type": "error",
     "traceback": [
      "\u001b[1;31m---------------------------------------------------------------------------\u001b[0m",
      "\u001b[1;31mNameError\u001b[0m                                 Traceback (most recent call last)",
      "\u001b[1;32m<ipython-input-112-816abef7845d>\u001b[0m in \u001b[0;36m<module>\u001b[1;34m()\u001b[0m\n\u001b[0;32m      1\u001b[0m \u001b[0munfound\u001b[0m \u001b[1;33m=\u001b[0m \u001b[0mgold_triples\u001b[0m \u001b[1;33m-\u001b[0m \u001b[0mcrowd_trip\u001b[0m \u001b[1;33m-\u001b[0m \u001b[0mbefree_trip\u001b[0m\u001b[1;33m\u001b[0m\u001b[0m\n\u001b[0;32m      2\u001b[0m \u001b[1;33m\u001b[0m\u001b[0m\n\u001b[1;32m----> 3\u001b[1;33m \u001b[0mcrowd_miss\u001b[0m \u001b[1;33m=\u001b[0m \u001b[0mmissing_stats\u001b[0m\u001b[1;33m(\u001b[0m\u001b[0munfound\u001b[0m\u001b[1;33m,\u001b[0m \u001b[0mcrowd_full\u001b[0m\u001b[1;33m)\u001b[0m\u001b[1;33m\u001b[0m\u001b[0m\n\u001b[0m\u001b[0;32m      4\u001b[0m \u001b[0mut_miss\u001b[0m \u001b[1;33m=\u001b[0m \u001b[0mmissing_stats\u001b[0m\u001b[1;33m(\u001b[0m\u001b[0munfound\u001b[0m\u001b[1;33m,\u001b[0m \u001b[0mbefree_full\u001b[0m\u001b[1;33m)\u001b[0m\u001b[1;33m\u001b[0m\u001b[0m\n\u001b[0;32m      5\u001b[0m \u001b[1;33m\u001b[0m\u001b[0m\n",
      "\u001b[1;31mNameError\u001b[0m: name 'missing_stats' is not defined"
     ]
    }
   ],
   "source": [
    "unfound = gold_triples - crowd_trip - befree_trip\n",
    "\n",
    "crowd_miss = missing_stats(unfound, crowd_full)\n",
    "ut_miss = missing_stats(unfound, befree_full)\n",
    "\n",
    "missing = pd.DataFrame([crowd_miss, ut_miss], index = [\"crowd\", \"befree\"])\n",
    "\n",
    "ax = missing.T.plot(kind = \"bar\", figsize = (7, 7),\n",
    "             title = \"Percent of unfound relations using unknown identifiers\")\n",
    "\n",
    "ax.set_ylabel(\"Percent of concepts in gold relations with unknown IDs\")\n",
    "missing"
   ]
  },
  {
   "cell_type": "markdown",
   "metadata": {},
   "source": [
    "So a vast majority of the missed gold relations were unfound mainly because they used an ID which did not appear anywhere in the NER output for that paper.\n",
    "\n",
    "For the relations which were indexed, what was the scope of the relation?"
   ]
  },
  {
   "cell_type": "code",
   "execution_count": 113,
   "metadata": {
    "collapsed": false
   },
   "outputs": [
    {
     "ename": "NameError",
     "evalue": "name 'all_df' is not defined",
     "output_type": "error",
     "traceback": [
      "\u001b[1;31m---------------------------------------------------------------------------\u001b[0m",
      "\u001b[1;31mNameError\u001b[0m                                 Traceback (most recent call last)",
      "\u001b[1;32m<ipython-input-113-f4e65d21219e>\u001b[0m in \u001b[0;36m<module>\u001b[1;34m()\u001b[0m\n\u001b[1;32m----> 1\u001b[1;33m \u001b[0munfound\u001b[0m \u001b[1;33m=\u001b[0m \u001b[0mall_df\u001b[0m\u001b[1;33m.\u001b[0m\u001b[0mquery\u001b[0m\u001b[1;33m(\u001b[0m\u001b[1;34m\"in_gold and ~in_crowd and ~in_texas\"\u001b[0m\u001b[1;33m)\u001b[0m\u001b[1;33m\u001b[0m\u001b[0m\n\u001b[0m\u001b[0;32m      2\u001b[0m \u001b[0mcrowd_miss\u001b[0m \u001b[1;33m=\u001b[0m \u001b[0munfound\u001b[0m\u001b[1;33m.\u001b[0m\u001b[0mquery\u001b[0m\u001b[1;33m(\u001b[0m\u001b[1;34m\"chem_in_crowd and dise_in_crowd\"\u001b[0m\u001b[1;33m)\u001b[0m\u001b[1;33m[\u001b[0m\u001b[1;34m\"rel_orig_gold\"\u001b[0m\u001b[1;33m]\u001b[0m\u001b[1;33m.\u001b[0m\u001b[0mvalue_counts\u001b[0m\u001b[1;33m(\u001b[0m\u001b[0mnormalize\u001b[0m \u001b[1;33m=\u001b[0m \u001b[1;32mTrue\u001b[0m\u001b[1;33m)\u001b[0m \u001b[1;33m*\u001b[0m \u001b[1;36m100\u001b[0m\u001b[1;33m\u001b[0m\u001b[0m\n\u001b[0;32m      3\u001b[0m \u001b[0mtexas_miss\u001b[0m \u001b[1;33m=\u001b[0m \u001b[0munfound\u001b[0m\u001b[1;33m.\u001b[0m\u001b[0mquery\u001b[0m\u001b[1;33m(\u001b[0m\u001b[1;34m\"chem_in_texas and dise_in_texas\"\u001b[0m\u001b[1;33m)\u001b[0m\u001b[1;33m[\u001b[0m\u001b[1;34m\"rel_orig_gold\"\u001b[0m\u001b[1;33m]\u001b[0m\u001b[1;33m.\u001b[0m\u001b[0mvalue_counts\u001b[0m\u001b[1;33m(\u001b[0m\u001b[0mnormalize\u001b[0m \u001b[1;33m=\u001b[0m \u001b[1;32mTrue\u001b[0m\u001b[1;33m)\u001b[0m \u001b[1;33m*\u001b[0m \u001b[1;36m100\u001b[0m\u001b[1;33m\u001b[0m\u001b[0m\n\u001b[0;32m      4\u001b[0m \u001b[1;33m\u001b[0m\u001b[0m\n\u001b[0;32m      5\u001b[0m \u001b[0mmissed\u001b[0m \u001b[1;33m=\u001b[0m \u001b[0mpd\u001b[0m\u001b[1;33m.\u001b[0m\u001b[0mDataFrame\u001b[0m\u001b[1;33m(\u001b[0m\u001b[1;33m[\u001b[0m\u001b[0mcrowd_miss\u001b[0m\u001b[1;33m,\u001b[0m \u001b[0mtexas_miss\u001b[0m\u001b[1;33m]\u001b[0m\u001b[1;33m,\u001b[0m \u001b[0mindex\u001b[0m \u001b[1;33m=\u001b[0m \u001b[1;33m[\u001b[0m\u001b[1;34m\"crowd\"\u001b[0m\u001b[1;33m,\u001b[0m \u001b[1;34m\"texas\"\u001b[0m\u001b[1;33m]\u001b[0m\u001b[1;33m)\u001b[0m\u001b[1;33m\u001b[0m\u001b[0m\n",
      "\u001b[1;31mNameError\u001b[0m: name 'all_df' is not defined"
     ]
    }
   ],
   "source": [
    "unfound = all_df.query(\"in_gold and ~in_crowd and ~in_texas\")\n",
    "crowd_miss = unfound.query(\"chem_in_crowd and dise_in_crowd\")[\"rel_orig_gold\"].value_counts(normalize = True) * 100\n",
    "texas_miss = unfound.query(\"chem_in_texas and dise_in_texas\")[\"rel_orig_gold\"].value_counts(normalize = True) * 100\n",
    "\n",
    "missed = pd.DataFrame([crowd_miss, texas_miss], index = [\"crowd\", \"texas\"])\n",
    "\n",
    "ax = missed.T.plot(kind = \"bar\", figsize = (6, 6),\n",
    "                title = \"Relation scope for indexable but missed gold relations\")\n",
    "\n",
    "ax.set_ylabel(\"Percent of gold relations\")\n",
    "missed"
   ]
  },
  {
   "cell_type": "markdown",
   "metadata": {},
   "source": [
    "For both solutions, at least half of the indexable, missed gold relations were abstract scoped, and therefore likely harder to determine correctly. Texas's solution seems to have a slight bias for the abstract scoped relations, but the different is probably not significant."
   ]
  },
  {
   "cell_type": "markdown",
   "metadata": {},
   "source": [
    "---"
   ]
  },
  {
   "cell_type": "markdown",
   "metadata": {},
   "source": [
    "### For the relations which were false positives, what percentage were due to NER errors?"
   ]
  },
  {
   "cell_type": "code",
   "execution_count": 114,
   "metadata": {
    "collapsed": false
   },
   "outputs": [
    {
     "ename": "NameError",
     "evalue": "name 'missing_stats' is not defined",
     "output_type": "error",
     "traceback": [
      "\u001b[1;31m---------------------------------------------------------------------------\u001b[0m",
      "\u001b[1;31mNameError\u001b[0m                                 Traceback (most recent call last)",
      "\u001b[1;32m<ipython-input-114-bc0c1a3a4bdb>\u001b[0m in \u001b[0;36m<module>\u001b[1;34m()\u001b[0m\n\u001b[0;32m      3\u001b[0m \u001b[0mcrowd_befree\u001b[0m \u001b[1;33m=\u001b[0m \u001b[0mcrowd_trip\u001b[0m \u001b[1;33m&\u001b[0m \u001b[0mbefree_trip\u001b[0m \u001b[1;33m-\u001b[0m \u001b[0mgold_triples\u001b[0m\u001b[1;33m\u001b[0m\u001b[0m\n\u001b[0;32m      4\u001b[0m \u001b[1;33m\u001b[0m\u001b[0m\n\u001b[1;32m----> 5\u001b[1;33m \u001b[0mcr_miss\u001b[0m \u001b[1;33m=\u001b[0m \u001b[0mmissing_stats\u001b[0m\u001b[1;33m(\u001b[0m\u001b[0mcrowd_only\u001b[0m\u001b[1;33m,\u001b[0m \u001b[0meval_gold\u001b[0m\u001b[1;33m)\u001b[0m\u001b[1;33m\u001b[0m\u001b[0m\n\u001b[0m\u001b[0;32m      6\u001b[0m \u001b[0mbefree_miss\u001b[0m \u001b[1;33m=\u001b[0m \u001b[0mmissing_stats\u001b[0m\u001b[1;33m(\u001b[0m\u001b[0mbefree_only\u001b[0m\u001b[1;33m,\u001b[0m \u001b[0meval_gold\u001b[0m\u001b[1;33m)\u001b[0m\u001b[1;33m\u001b[0m\u001b[0m\n\u001b[0;32m      7\u001b[0m \u001b[0mboth_miss\u001b[0m \u001b[1;33m=\u001b[0m \u001b[0mmissing_stats\u001b[0m\u001b[1;33m(\u001b[0m\u001b[0mcrowd_befree\u001b[0m\u001b[1;33m,\u001b[0m \u001b[0meval_gold\u001b[0m\u001b[1;33m)\u001b[0m\u001b[1;33m\u001b[0m\u001b[0m\n",
      "\u001b[1;31mNameError\u001b[0m: name 'missing_stats' is not defined"
     ]
    }
   ],
   "source": [
    "crowd_only = crowd_trip - gold_triples - befree_trip\n",
    "befree_only = befree_trip - gold_triples - crowd_trip\n",
    "crowd_befree = crowd_trip & befree_trip - gold_triples\n",
    "\n",
    "cr_miss = missing_stats(crowd_only, eval_gold)\n",
    "befree_miss = missing_stats(befree_only, eval_gold)\n",
    "both_miss = missing_stats(crowd_befree, eval_gold)\n",
    "\n",
    "missing = pd.DataFrame([cr_miss, befree_miss, both_miss], index = [\"crowd_only\", \"befree_only\", \"crowd_and_befree\"])\n",
    "\n",
    "ax = missing.T.plot(kind = \"bar\", figsize = (7, 7),\n",
    "                   title = \"Percent of false positive relations\\nusing IDs not included in gold standard\")\n",
    "ax.set_ylabel(\"Percent of relations using IDs nonexistent in gold\")\n",
    "missing"
   ]
  },
  {
   "cell_type": "markdown",
   "metadata": {},
   "source": [
    "A significant number of the false positives for both solutions separately were a result of using MeSH IDs which did not occur in the gold standard. However, the false positives identified by both solutions have a significantly lower rate of NER error, suggesting that these were likely to be real relations which the gold does not include for some reason."
   ]
  },
  {
   "cell_type": "markdown",
   "metadata": {},
   "source": [
    "---"
   ]
  },
  {
   "cell_type": "markdown",
   "metadata": {},
   "source": [
    "### For the gold relations which one solution got but the other missed, why did each solution miss the relations and what kind of relations are they?"
   ]
  },
  {
   "cell_type": "code",
   "execution_count": 115,
   "metadata": {
    "collapsed": false
   },
   "outputs": [
    {
     "ename": "NameError",
     "evalue": "name 'all_df' is not defined",
     "output_type": "error",
     "traceback": [
      "\u001b[1;31m---------------------------------------------------------------------------\u001b[0m",
      "\u001b[1;31mNameError\u001b[0m                                 Traceback (most recent call last)",
      "\u001b[1;32m<ipython-input-115-9673a240f55e>\u001b[0m in \u001b[0;36m<module>\u001b[1;34m()\u001b[0m\n\u001b[1;32m----> 1\u001b[1;33m \u001b[0mcrowd_gold\u001b[0m \u001b[1;33m=\u001b[0m \u001b[0mall_df\u001b[0m\u001b[1;33m.\u001b[0m\u001b[0mquery\u001b[0m\u001b[1;33m(\u001b[0m\u001b[1;34m\"in_gold and in_crowd and ~in_befree\"\u001b[0m\u001b[1;33m)\u001b[0m\u001b[1;33m\u001b[0m\u001b[0m\n\u001b[0m\u001b[0;32m      2\u001b[0m \u001b[0mbefree_gold\u001b[0m \u001b[1;33m=\u001b[0m \u001b[0mall_df\u001b[0m\u001b[1;33m.\u001b[0m\u001b[0mquery\u001b[0m\u001b[1;33m(\u001b[0m\u001b[1;34m\"in_gold and in_befree and ~in_crowd\"\u001b[0m\u001b[1;33m)\u001b[0m\u001b[1;33m\u001b[0m\u001b[0m\n\u001b[0;32m      3\u001b[0m \u001b[1;33m\u001b[0m\u001b[0m\n\u001b[0;32m      4\u001b[0m \u001b[0mcrowd_gold\u001b[0m \u001b[1;33m=\u001b[0m \u001b[0mget_triples\u001b[0m\u001b[1;33m(\u001b[0m\u001b[0mcrowd_gold\u001b[0m\u001b[1;33m)\u001b[0m\u001b[1;33m\u001b[0m\u001b[0m\n\u001b[0;32m      5\u001b[0m \u001b[0mbefree_gold\u001b[0m \u001b[1;33m=\u001b[0m \u001b[0mget_triples\u001b[0m\u001b[1;33m(\u001b[0m\u001b[0mbefree_gold\u001b[0m\u001b[1;33m)\u001b[0m\u001b[1;33m\u001b[0m\u001b[0m\n",
      "\u001b[1;31mNameError\u001b[0m: name 'all_df' is not defined"
     ]
    }
   ],
   "source": [
    "crowd_gold = all_df.query(\"in_gold and in_crowd and ~in_befree\")\n",
    "befree_gold = all_df.query(\"in_gold and in_befree and ~in_crowd\")\n",
    "\n",
    "crowd_gold = get_triples(crowd_gold)\n",
    "befree_gold = get_triples(befree_gold)\n",
    "\n",
    "# unindexable by texas, and by crowd\n",
    "miss_by_befree = missing_stats(crowd_gold, befree_full)\n",
    "miss_by_cr = missing_stats(befree_gold, crowd_full)\n",
    "\n",
    "missing = pd.DataFrame([miss_by_befree, miss_by_cr],\n",
    "                       index = [\"crowd_rels_missed_by_befree\", \"texas_rels_missed_by_crowd\"])\n",
    "ax = missing.plot(kind = \"bar\", figsize = (7, 7),\n",
    "                 title = \"Percentage relations found by one solution but\\n\"\n",
    "                 \"missing in the other due to unindexed concept IDs\")\n",
    "ax.set_ylabel(\"Percent of relations using IDs\\nnot indexable by other method\")\n",
    "ax.set_xticklabels(missing.index, rotation = 0)\n",
    "missing"
   ]
  },
  {
   "cell_type": "markdown",
   "metadata": {},
   "source": [
    "Based on the graph above, we see that the relations which our crowd got but Texas didn't only contained a small subset where the relations contained IDs which were not indexed by Texas. In contrast, a lot of the relations (40%) that Texas got but the crowd didn't were because the IDs were never found, not because the crowd is bad at relation extraction."
   ]
  },
  {
   "cell_type": "markdown",
   "metadata": {},
   "source": [
    "---"
   ]
  }
 ],
 "metadata": {
  "kernelspec": {
   "display_name": "Python 3",
   "language": "python",
   "name": "python3"
  },
  "language_info": {
   "codemirror_mode": {
    "name": "ipython",
    "version": 3
   },
   "file_extension": ".py",
   "mimetype": "text/x-python",
   "name": "python",
   "nbconvert_exporter": "python",
   "pygments_lexer": "ipython3",
   "version": "3.4.2"
  }
 },
 "nbformat": 4,
 "nbformat_minor": 0
}
