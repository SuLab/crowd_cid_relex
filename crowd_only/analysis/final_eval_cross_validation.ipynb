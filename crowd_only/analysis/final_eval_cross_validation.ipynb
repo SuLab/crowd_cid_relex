{
 "cells": [
  {
   "cell_type": "markdown",
   "metadata": {},
   "source": [
    "# Cross validation analysis of final evaluation results between different techniques\n",
    "\n",
    "Tong Shu Li<br>\n",
    "Created on: 2015-10-08<br>\n",
    "Last updated: 2015-11-24\n",
    "\n",
    "The team at UTexas was kind enough to send their final predictions for the CID task. We will compare their results to the crowd's and see where their outputs differed."
   ]
  },
  {
   "cell_type": "code",
   "execution_count": 1,
   "metadata": {
    "collapsed": false
   },
   "outputs": [],
   "source": [
    "from collections import defaultdict\n",
    "from itertools import combinations\n",
    "\n",
    "import matplotlib\n",
    "import matplotlib.pyplot as plt\n",
    "from matplotlib.patches import Patch\n",
    "from matplotlib.lines import Line2D\n",
    "\n",
    "import numpy as np\n",
    "import os\n",
    "import pandas as pd\n",
    "import pickle\n",
    "import rpy2\n",
    "import rpy2.robjects as robjects\n",
    "import seaborn as sns\n",
    "import sys"
   ]
  },
  {
   "cell_type": "code",
   "execution_count": 2,
   "metadata": {
    "collapsed": true
   },
   "outputs": [],
   "source": [
    "RAND_KEY = np.random.RandomState(20151007)\n",
    "\n",
    "matplotlib.rcParams.update({'font.size': 12})\n",
    "TRIPLE = [\"pmid\", \"chemical_id\", \"disease_id\"]\n",
    "pd.options.mode.chained_assignment = None\n",
    "pd.set_option(\"max_colwidth\", 55)"
   ]
  },
  {
   "cell_type": "code",
   "execution_count": 3,
   "metadata": {
    "collapsed": false
   },
   "outputs": [],
   "source": [
    "%matplotlib inline\n",
    "%load_ext rpy2.ipython"
   ]
  },
  {
   "cell_type": "code",
   "execution_count": 4,
   "metadata": {
    "collapsed": false
   },
   "outputs": [],
   "source": [
    "sys.path.append(\"..\")"
   ]
  },
  {
   "cell_type": "code",
   "execution_count": 5,
   "metadata": {
    "collapsed": false
   },
   "outputs": [],
   "source": [
    "from src.lingpipe.file_util import read_file\n",
    "from src.lingpipe.file_util import save_file\n",
    "\n",
    "from src.data_model import Ontology_ID\n",
    "from src.data_model import Relation\n",
    "from src.data_model import parse_input\n",
    "from src.data_model import parse_file\n",
    "from src.data_model import Annotation\n",
    "\n",
    "from src.eval_perf import performance\n",
    "from src.eval_perf import official_F_score\n",
    "from src.parse_mesh import load_mesh\n",
    "from src.get_mesh_terms import Article\n",
    "\n",
    "from src.get_AUC_value import get_AUC_value"
   ]
  },
  {
   "cell_type": "markdown",
   "metadata": {},
   "source": [
    "---"
   ]
  },
  {
   "cell_type": "markdown",
   "metadata": {},
   "source": [
    "## Global functions"
   ]
  },
  {
   "cell_type": "code",
   "execution_count": 6,
   "metadata": {
    "collapsed": true
   },
   "outputs": [],
   "source": [
    "def make_df(triples):\n",
    "    \"\"\"Converts a given set of (pmid, chemical_id, disease_id)\n",
    "    triples into a three column dataframe.\"\"\"\n",
    "    return pd.DataFrame(list(triples), columns = TRIPLE)"
   ]
  },
  {
   "cell_type": "code",
   "execution_count": 7,
   "metadata": {
    "collapsed": true
   },
   "outputs": [],
   "source": [
    "def get_triples(dataframe):\n",
    "    return set(\n",
    "        dataframe[TRIPLE].apply(\n",
    "            lambda row: (int(row[\"pmid\"]), row[\"chemical_id\"], row[\"disease_id\"]),\n",
    "            axis = 1\n",
    "        )\n",
    "    )"
   ]
  },
  {
   "cell_type": "code",
   "execution_count": 8,
   "metadata": {
    "collapsed": true
   },
   "outputs": [],
   "source": [
    "def expand_df(column, df):\n",
    "    \"\"\"Given a dataframe where one column is a list of values,\n",
    "    expands the dataframe so that one new row is created for\n",
    "    each item in the original list.\"\"\"\n",
    "    other_columns = df.columns.difference(pd.Index([column]))    \n",
    "    \n",
    "    res = []\n",
    "    for idx, row in df.iterrows():\n",
    "        # make the list in this cell into a vertical dataframe with one column\n",
    "        vals = pd.DataFrame(row[column], columns = [column])\n",
    "        \n",
    "        # copy all the other columns over\n",
    "        for col in other_columns:\n",
    "            vals.loc[:, col] = row[col]\n",
    "            \n",
    "        res.append(vals)\n",
    "        \n",
    "    return pd.concat(res).reset_index(drop = True)"
   ]
  },
  {
   "cell_type": "markdown",
   "metadata": {},
   "source": [
    "### Read the gold standard and various solutions"
   ]
  },
  {
   "cell_type": "code",
   "execution_count": 9,
   "metadata": {
    "collapsed": true
   },
   "outputs": [],
   "source": [
    "def read_output(fname):\n",
    "    \"\"\"Read only the CID relations from a Pubtator-formatted\n",
    "    text file.\n",
    "    \"\"\"\n",
    "    temp = defaultdict(list)\n",
    "    for line in read_file(fname):\n",
    "        vals = line.split(\"\\t\")\n",
    "        \n",
    "        if len(vals) > 1 and vals[1] == \"CID\":\n",
    "            temp[\"pmid\"].append(int(vals[0]))\n",
    "            temp[\"chemical_id\"].append(Ontology_ID(vals[2]).flat_repr)\n",
    "            temp[\"disease_id\"].append(Ontology_ID(vals[3]).flat_repr)\n",
    "            \n",
    "            if len(vals) > 4:\n",
    "                temp[\"threshold\"].append(float(vals[4]))\n",
    "\n",
    "    return pd.DataFrame(temp)"
   ]
  },
  {
   "cell_type": "code",
   "execution_count": 10,
   "metadata": {
    "collapsed": true
   },
   "outputs": [],
   "source": [
    "def read_gold_standard(dataset, file_format = \"list\"):\n",
    "    assert dataset in [\"training\", \"development\", \"test\"]\n",
    "    assert file_format in [\"list\", \"dict\"]\n",
    "    \n",
    "    fname = \"parsed_{0}_set_{1}.pickle\".format(dataset, file_format)\n",
    "    \n",
    "    save_loc = os.path.abspath(os.path.join(\"..\", \"data\", \"gold_standard\", fname))\n",
    "    \n",
    "    fname = \"CDR_{0}Set.txt\".format(dataset.capitalize())\n",
    "    loc = os.path.abspath(os.path.join(\"..\", \"data\", \"gold_standard\"))\n",
    "    \n",
    "    return parse_file(save_loc, loc = loc, fname = fname,\n",
    "        is_gold = True, return_format = file_format, fix_acronyms = False)"
   ]
  },
  {
   "cell_type": "code",
   "execution_count": 11,
   "metadata": {
    "collapsed": true
   },
   "outputs": [],
   "source": [
    "def has_concept(paper, concept_id):\n",
    "    concepts = set()\n",
    "    for annot in paper.annotations:\n",
    "        concepts |= set([iden.flat_repr for iden in annot.uid if iden.uid_type == \"MESH\"])\n",
    "    \n",
    "    return concept_id in concepts"
   ]
  },
  {
   "cell_type": "code",
   "execution_count": 12,
   "metadata": {
    "collapsed": true
   },
   "outputs": [],
   "source": [
    "def check_exists(df, reference):\n",
    "    for col in [\"chemical\", \"disease\"]:\n",
    "        df.loc[:, \"{}_exists\".format(col[:4])] = df[TRIPLE].apply(\n",
    "            lambda row: has_concept(reference[int(row[\"pmid\"])], row[\"{}_id\".format(col)]), axis = 1)\n",
    "        \n",
    "    return df"
   ]
  },
  {
   "cell_type": "markdown",
   "metadata": {},
   "source": [
    "### Read the PMID mappings"
   ]
  },
  {
   "cell_type": "code",
   "execution_count": 13,
   "metadata": {
    "collapsed": false
   },
   "outputs": [],
   "source": [
    "paper_mapping = save_file(\"testset_mapping.pickle\")"
   ]
  },
  {
   "cell_type": "markdown",
   "metadata": {},
   "source": [
    "### Read the gold standard"
   ]
  },
  {
   "cell_type": "code",
   "execution_count": 14,
   "metadata": {
    "collapsed": true
   },
   "outputs": [],
   "source": [
    "eval_gold = read_gold_standard(\"test\", file_format = \"dict\")"
   ]
  },
  {
   "cell_type": "code",
   "execution_count": 15,
   "metadata": {
    "collapsed": false
   },
   "outputs": [],
   "source": [
    "fname = os.path.abspath(os.path.join(\"..\", \"data\", \"gold_standard\", \"CDR_TestSet.txt\"))\n",
    "gold_std = read_output(fname)"
   ]
  },
  {
   "cell_type": "markdown",
   "metadata": {},
   "source": [
    "### Grab the official MeSH terms for the testset and save to pickle"
   ]
  },
  {
   "cell_type": "code",
   "execution_count": 16,
   "metadata": {
    "collapsed": true
   },
   "outputs": [],
   "source": [
    "def grab_mesh(papers):\n",
    "    loc = os.path.abspath(os.path.join(\"..\", \"data\", \"gold_standard\", \"testset_mesh_terms.pickle\"))\n",
    "\n",
    "    res = save_file(loc)\n",
    "    if res is not None:\n",
    "        return res\n",
    "    \n",
    "    res = dict()\n",
    "    for pmid in papers:\n",
    "        res[pmid] = Article(pmid)\n",
    "        \n",
    "    save_file(loc, res)\n",
    "    return res"
   ]
  },
  {
   "cell_type": "code",
   "execution_count": 17,
   "metadata": {
    "collapsed": false
   },
   "outputs": [],
   "source": [
    "mesh_terms = grab_mesh(set(eval_gold.keys()))"
   ]
  },
  {
   "cell_type": "markdown",
   "metadata": {},
   "source": [
    "### Read the crowd's results"
   ]
  },
  {
   "cell_type": "code",
   "execution_count": 18,
   "metadata": {
    "collapsed": true
   },
   "outputs": [],
   "source": [
    "loc = os.path.abspath(os.path.join(\"..\", \"data\", \"final_eval\", \"results\", \"crowd_testset.pickle\"))\n",
    "crowd_full = save_file(loc)\n",
    "crowd_res = save_file(\"testset_final_res.pickle\")"
   ]
  },
  {
   "cell_type": "code",
   "execution_count": 19,
   "metadata": {
    "collapsed": false
   },
   "outputs": [],
   "source": [
    "loc = os.path.abspath(os.path.join(\"..\", \"data\", \"final_eval\", \"results\", \"abstract_relation_res.tsv\"))\n",
    "\n",
    "abs_res = pd.read_csv(loc, sep = '\\t', dtype = {\"unit_id\": str})\n",
    "abs_res = abs_res.rename(columns = {\"percent_agree\": \"norm_conf_score\",\n",
    "                                   \"unit_id\": \"unit_ids\"})\n",
    "\n",
    "abs_res.loc[:, \"pmid\"] = abs_res.loc[:, \"pmid\"].map(lambda val: paper_mapping[val])\n",
    "abs_res.loc[:, \"unit_ids\"] = abs_res.loc[:, \"unit_ids\"].astype(int)"
   ]
  },
  {
   "cell_type": "code",
   "execution_count": 20,
   "metadata": {
    "collapsed": true
   },
   "outputs": [],
   "source": [
    "loc = os.path.abspath(os.path.join(\"..\", \"data\", \"final_eval\", \"results\", \"sentence_relation_abs_res.tsv\"))\n",
    "sent_res = pd.read_csv(loc, sep = '\\t', dtype = {\"unit_ids\": str})\n",
    "\n",
    "sent_res = sent_res.rename(columns = {\"conf_score\": \"norm_conf_score\",\n",
    "                                      \"score_vote_max\": \"num_votes\"})\n",
    "\n",
    "sent_res.loc[:, \"pmid\"] = sent_res.loc[:, \"pmid\"].map(lambda val: paper_mapping[val])"
   ]
  },
  {
   "cell_type": "markdown",
   "metadata": {},
   "source": [
    "### Read UTexas results"
   ]
  },
  {
   "cell_type": "code",
   "execution_count": 21,
   "metadata": {
    "collapsed": true
   },
   "outputs": [],
   "source": [
    "loc = os.path.abspath(os.path.join(\"..\", \"data\", \"utexas\", \"texas_full_testset.pickle\"))\n",
    "texas_full = save_file(loc)\n",
    "\n",
    "loc = os.path.abspath(os.path.join(\"..\", \"data\", \"utexas\", \"CDR_TestSet.BiC.V.CID.Run3.txt\"))\n",
    "ut_res = read_output(loc)"
   ]
  },
  {
   "cell_type": "markdown",
   "metadata": {},
   "source": [
    "### Read BeFree's results"
   ]
  },
  {
   "cell_type": "code",
   "execution_count": 22,
   "metadata": {
    "collapsed": true
   },
   "outputs": [],
   "source": [
    "fname = os.path.abspath(os.path.join(\"..\", \"data\", \"befree\", \"final_eval\", \"befree_testset_results.txt\"))\n",
    "befree_res = read_output(fname)\n",
    "\n",
    "befree_res.loc[:, \"pmid\"] = befree_res[\"pmid\"].map(lambda val: paper_mapping[val])\n",
    "befree_res[\"threshold\"] = 1\n",
    "\n",
    "#----------------------------------\n",
    "\n",
    "def get_befree():\n",
    "    loc = os.path.join(\"..\", \"data\", \"befree\", \"final_eval\")\n",
    "\n",
    "    save_loc = os.path.abspath(os.path.join(loc, \"befree_testset_full.pickle\"))\n",
    "    res = save_file(save_loc)\n",
    "    if res is not None:\n",
    "        return res\n",
    "\n",
    "    befree_full = parse_input(os.path.abspath(loc), \"befree_testset_results.txt\",\n",
    "                         is_gold = True, return_format = \"dict\", fix_acronyms = False)\n",
    "\n",
    "    temp = dict()\n",
    "    for pmid, paper in befree_full.items():\n",
    "        paper.pmid = paper_mapping[pmid]\n",
    "        temp[paper_mapping[pmid]] = paper\n",
    "\n",
    "    save_file(save_loc, temp)\n",
    "    return temp\n",
    "    \n",
    "befree_full = get_befree()"
   ]
  },
  {
   "cell_type": "markdown",
   "metadata": {},
   "source": [
    "---"
   ]
  },
  {
   "cell_type": "markdown",
   "metadata": {},
   "source": [
    "## Overall performance against the gold standard\n",
    "\n",
    "Using the official evaluation of the CID relation performance, how did each solution do?"
   ]
  },
  {
   "cell_type": "markdown",
   "metadata": {},
   "source": [
    "### Get the gold standard triples"
   ]
  },
  {
   "cell_type": "code",
   "execution_count": 23,
   "metadata": {
    "collapsed": true
   },
   "outputs": [],
   "source": [
    "gold_triples = get_triples(gold_std)"
   ]
  },
  {
   "cell_type": "markdown",
   "metadata": {},
   "source": [
    "### Crowd performance"
   ]
  },
  {
   "cell_type": "code",
   "execution_count": 24,
   "metadata": {
    "collapsed": false
   },
   "outputs": [],
   "source": [
    "official_res = official_F_score(\"num_votes\", gold_triples, crowd_res)"
   ]
  },
  {
   "cell_type": "code",
   "execution_count": 25,
   "metadata": {
    "collapsed": false
   },
   "outputs": [
    {
     "data": {
      "text/html": [
       "<div>\n",
       "<table border=\"1\" class=\"dataframe\">\n",
       "  <thead>\n",
       "    <tr style=\"text-align: right;\">\n",
       "      <th></th>\n",
       "      <th>F_score</th>\n",
       "      <th>precision</th>\n",
       "      <th>recall</th>\n",
       "      <th>threshold</th>\n",
       "    </tr>\n",
       "  </thead>\n",
       "  <tbody>\n",
       "    <tr>\n",
       "      <th>0</th>\n",
       "      <td>0.267624</td>\n",
       "      <td>0.162805</td>\n",
       "      <td>0.751407</td>\n",
       "      <td>0</td>\n",
       "    </tr>\n",
       "    <tr>\n",
       "      <th>1</th>\n",
       "      <td>0.356317</td>\n",
       "      <td>0.236486</td>\n",
       "      <td>0.722326</td>\n",
       "      <td>1</td>\n",
       "    </tr>\n",
       "    <tr>\n",
       "      <th>2</th>\n",
       "      <td>0.444779</td>\n",
       "      <td>0.327426</td>\n",
       "      <td>0.693246</td>\n",
       "      <td>2</td>\n",
       "    </tr>\n",
       "    <tr>\n",
       "      <th>3</th>\n",
       "      <td>0.496480</td>\n",
       "      <td>0.410288</td>\n",
       "      <td>0.628518</td>\n",
       "      <td>3</td>\n",
       "    </tr>\n",
       "    <tr>\n",
       "      <th>4</th>\n",
       "      <td>0.505929</td>\n",
       "      <td>0.475640</td>\n",
       "      <td>0.540338</td>\n",
       "      <td>4</td>\n",
       "    </tr>\n",
       "    <tr>\n",
       "      <th>5</th>\n",
       "      <td>0.465066</td>\n",
       "      <td>0.556136</td>\n",
       "      <td>0.399625</td>\n",
       "      <td>5</td>\n",
       "    </tr>\n",
       "  </tbody>\n",
       "</table>\n",
       "</div>"
      ],
      "text/plain": [
       "    F_score  precision    recall  threshold\n",
       "0  0.267624   0.162805  0.751407          0\n",
       "1  0.356317   0.236486  0.722326          1\n",
       "2  0.444779   0.327426  0.693246          2\n",
       "3  0.496480   0.410288  0.628518          3\n",
       "4  0.505929   0.475640  0.540338          4\n",
       "5  0.465066   0.556136  0.399625          5"
      ]
     },
     "execution_count": 25,
     "metadata": {},
     "output_type": "execute_result"
    }
   ],
   "source": [
    "official_res"
   ]
  },
  {
   "cell_type": "markdown",
   "metadata": {},
   "source": [
    "### Texas performance"
   ]
  },
  {
   "cell_type": "code",
   "execution_count": 26,
   "metadata": {
    "collapsed": false
   },
   "outputs": [
    {
     "data": {
      "text/html": [
       "<div>\n",
       "<table border=\"1\" class=\"dataframe\">\n",
       "  <thead>\n",
       "    <tr style=\"text-align: right;\">\n",
       "      <th></th>\n",
       "      <th>F_score</th>\n",
       "      <th>precision</th>\n",
       "      <th>recall</th>\n",
       "      <th>threshold</th>\n",
       "    </tr>\n",
       "  </thead>\n",
       "  <tbody>\n",
       "    <tr>\n",
       "      <th>0</th>\n",
       "      <td>0.570252</td>\n",
       "      <td>0.556747</td>\n",
       "      <td>0.584428</td>\n",
       "      <td>0.30</td>\n",
       "    </tr>\n",
       "    <tr>\n",
       "      <th>1</th>\n",
       "      <td>0.585269</td>\n",
       "      <td>0.618600</td>\n",
       "      <td>0.555347</td>\n",
       "      <td>0.65</td>\n",
       "    </tr>\n",
       "    <tr>\n",
       "      <th>2</th>\n",
       "      <td>0.520915</td>\n",
       "      <td>0.642366</td>\n",
       "      <td>0.438086</td>\n",
       "      <td>0.75</td>\n",
       "    </tr>\n",
       "  </tbody>\n",
       "</table>\n",
       "</div>"
      ],
      "text/plain": [
       "    F_score  precision    recall  threshold\n",
       "0  0.570252   0.556747  0.584428       0.30\n",
       "1  0.585269   0.618600  0.555347       0.65\n",
       "2  0.520915   0.642366  0.438086       0.75"
      ]
     },
     "execution_count": 26,
     "metadata": {},
     "output_type": "execute_result"
    }
   ],
   "source": [
    "official_F_score(\"threshold\", gold_triples, ut_res)"
   ]
  },
  {
   "cell_type": "markdown",
   "metadata": {},
   "source": [
    "### BeFree performance"
   ]
  },
  {
   "cell_type": "code",
   "execution_count": 27,
   "metadata": {
    "collapsed": false
   },
   "outputs": [
    {
     "data": {
      "text/html": [
       "<div>\n",
       "<table border=\"1\" class=\"dataframe\">\n",
       "  <thead>\n",
       "    <tr style=\"text-align: right;\">\n",
       "      <th></th>\n",
       "      <th>F_score</th>\n",
       "      <th>precision</th>\n",
       "      <th>recall</th>\n",
       "      <th>threshold</th>\n",
       "    </tr>\n",
       "  </thead>\n",
       "  <tbody>\n",
       "    <tr>\n",
       "      <th>0</th>\n",
       "      <td>0.428571</td>\n",
       "      <td>0.486874</td>\n",
       "      <td>0.382739</td>\n",
       "      <td>1</td>\n",
       "    </tr>\n",
       "  </tbody>\n",
       "</table>\n",
       "</div>"
      ],
      "text/plain": [
       "    F_score  precision    recall  threshold\n",
       "0  0.428571   0.486874  0.382739          1"
      ]
     },
     "execution_count": 27,
     "metadata": {},
     "output_type": "execute_result"
    }
   ],
   "source": [
    "official_F_score(\"threshold\", gold_triples, befree_res)"
   ]
  },
  {
   "cell_type": "markdown",
   "metadata": {},
   "source": [
    "My calculations show that BeFree's official published performance (F 0.4281) is slightly worse than what I have calculated, despite my method accurately reproducing both UTexas's and our results. Perhaps Alex sent me a slightly modified version of the data they submitted?"
   ]
  },
  {
   "cell_type": "code",
   "execution_count": 28,
   "metadata": {
    "collapsed": true
   },
   "outputs": [],
   "source": [
    "crowd_trip = get_triples(crowd_res.query(\"num_votes >= 4\"))\n",
    "befree_trip = get_triples(befree_res)\n",
    "texas_trip = get_triples(ut_res)"
   ]
  },
  {
   "cell_type": "markdown",
   "metadata": {},
   "source": [
    "### Venn diagram of relations for Crowd and Befree, full workflow"
   ]
  },
  {
   "cell_type": "code",
   "execution_count": 29,
   "metadata": {
    "collapsed": true
   },
   "outputs": [],
   "source": [
    "# make venn diagram for relations for the full workflow\n",
    "\n",
    "# fnames = [\"temp/gold_trips.txt\", \"temp/crowd_trips.txt\", \"temp/befree_trips.txt\", \"temp/texas_trips.txt\"]\n",
    "# dfs = [gold_std, crowd_res.query(\"num_votes >= 4\"), befree_res, ut_res]\n",
    "# for fname, df in zip(fnames, dfs):\n",
    "#     df[TRIPLE].to_csv(fname, sep = \"|\", header = False, index = False)"
   ]
  },
  {
   "cell_type": "markdown",
   "metadata": {},
   "source": [
    "### Relation comparison: full workflow for crowd and befree\n",
    "<img src=\"../data/final_eval/analysis/testset_crowd_befree_relations.png\" style=\"width: 500px;\">\n",
    "\n",
    "This is for the full workflow output of both BeFree and the crowd. Crowd relations are filtered to only those with >= 4 votes.\n",
    "\n",
    "### Relation comparison: full workflow for crowd, befree, and texas\n",
    "<img src=\"../data/notebook/testset_all_cross_validation.png\" style=\"width: 500px;\">"
   ]
  },
  {
   "cell_type": "markdown",
   "metadata": {},
   "source": [
    "The full outputs of the programs are fine, but since many of these things are NER errors, it would be much better to filter those and then compare."
   ]
  },
  {
   "cell_type": "markdown",
   "metadata": {},
   "source": [
    "---"
   ]
  },
  {
   "cell_type": "markdown",
   "metadata": {},
   "source": [
    "## Performance on a subset of relations where the annotations were perfectly identified\n",
    "\n",
    "Since we have seen that NER has a huge influence on the performance, we will look backwards to see what performance was like on relations where both the chemical and disease were perfectly identified (i.e. the annotations all match the gold standard)."
   ]
  },
  {
   "cell_type": "code",
   "execution_count": 30,
   "metadata": {
    "collapsed": true
   },
   "outputs": [],
   "source": [
    "def extract_ids(annotations):\n",
    "    concepts = defaultdict(set)\n",
    "    for annot in annotations:\n",
    "        concepts[annot.stype].add(annot.uid)\n",
    "\n",
    "    return concepts\n",
    "\n",
    "def expand_set(vals):\n",
    "    res = set()\n",
    "    for v in vals:\n",
    "        res |= v\n",
    "        \n",
    "    return res"
   ]
  },
  {
   "cell_type": "code",
   "execution_count": 31,
   "metadata": {
    "collapsed": true
   },
   "outputs": [],
   "source": [
    "def find_perfect_concepts(predict, gold_std):\n",
    "    \"\"\"Finds the concepts having the exact same annotations\n",
    "    in both data sets.\n",
    "    \"\"\"\n",
    "    res = dict()\n",
    "    for pmid, gold_paper in gold_std.items():\n",
    "        paper = predict[pmid]\n",
    "\n",
    "        # annotations\n",
    "        predict_annot = set(paper.annotations)\n",
    "        gold_annot = set(gold_paper.annotations)\n",
    "        \n",
    "        shared_concepts = extract_ids(gold_annot & predict_annot)\n",
    "        missed_concepts = extract_ids(gold_annot ^ predict_annot)\n",
    "        \n",
    "        perf_chem = shared_concepts[\"chemical\"] - missed_concepts[\"chemical\"]\n",
    "        perf_dise = shared_concepts[\"disease\"] - missed_concepts[\"disease\"]\n",
    "        \n",
    "        chems = expand_set(perf_chem)\n",
    "        dises = expand_set(perf_dise)\n",
    "\n",
    "        res[pmid] = (chems, dises)\n",
    "\n",
    "    return res\n",
    "\n",
    "def get_perf_subset_triples(perf_concepts):\n",
    "    res = set()\n",
    "    for pmid, (chem, dise) in perf_concepts.items():\n",
    "        res |= set([(pmid, c.flat_repr, d.flat_repr) for c in chem for d in dise])\n",
    "        \n",
    "    return res"
   ]
  },
  {
   "cell_type": "code",
   "execution_count": 32,
   "metadata": {
    "collapsed": false
   },
   "outputs": [],
   "source": [
    "def ner_filter(predict_full, predict_df, gold_full, gold_df):\n",
    "    \"\"\"Given a dataframe of a solution's predicted CID relations,\n",
    "    applies a NER filter with the gold standard to return only those\n",
    "    relations which were generated using perfectly annotated concepts.\n",
    "    \"\"\"\n",
    "    # what were the concepts perfectly annotated by the predictions and gold std?\n",
    "    common_concepts = find_perfect_concepts(predict_full, gold_full)\n",
    "    \n",
    "    # what are all possible triples using the perfect concepts?\n",
    "    poss_good_trips = get_perf_subset_triples(common_concepts)\n",
    "    \n",
    "    poss_df = make_df(poss_good_trips)\n",
    "    \n",
    "    # filter predictions and gold standard using the set of possible triples\n",
    "    predict_sub = pd.merge(predict_df, poss_df, how = \"inner\", on = TRIPLE)\n",
    "    gold_sub = pd.merge(gold_df, poss_df, how = \"inner\", on = TRIPLE)\n",
    "    \n",
    "    return (predict_sub, gold_sub)"
   ]
  },
  {
   "cell_type": "code",
   "execution_count": 33,
   "metadata": {
    "collapsed": true
   },
   "outputs": [],
   "source": [
    "crowd_no_ner, crowd_good_gold = ner_filter(crowd_full, crowd_res, eval_gold, gold_std)"
   ]
  },
  {
   "cell_type": "code",
   "execution_count": 34,
   "metadata": {
    "collapsed": false
   },
   "outputs": [
    {
     "data": {
      "text/plain": [
       "290"
      ]
     },
     "execution_count": 34,
     "metadata": {},
     "output_type": "execute_result"
    }
   ],
   "source": [
    "len(crowd_good_gold[\"pmid\"].unique())"
   ]
  },
  {
   "cell_type": "code",
   "execution_count": 35,
   "metadata": {
    "collapsed": false
   },
   "outputs": [
    {
     "data": {
      "text/html": [
       "<div>\n",
       "<table border=\"1\" class=\"dataframe\">\n",
       "  <thead>\n",
       "    <tr style=\"text-align: right;\">\n",
       "      <th></th>\n",
       "      <th>F_score</th>\n",
       "      <th>precision</th>\n",
       "      <th>recall</th>\n",
       "      <th>threshold</th>\n",
       "    </tr>\n",
       "  </thead>\n",
       "  <tbody>\n",
       "    <tr>\n",
       "      <th>0</th>\n",
       "      <td>0.318346</td>\n",
       "      <td>0.189305</td>\n",
       "      <td>1.000000</td>\n",
       "      <td>0</td>\n",
       "    </tr>\n",
       "    <tr>\n",
       "      <th>1</th>\n",
       "      <td>0.434339</td>\n",
       "      <td>0.280240</td>\n",
       "      <td>0.964948</td>\n",
       "      <td>1</td>\n",
       "    </tr>\n",
       "    <tr>\n",
       "      <th>2</th>\n",
       "      <td>0.540541</td>\n",
       "      <td>0.381356</td>\n",
       "      <td>0.927835</td>\n",
       "      <td>2</td>\n",
       "    </tr>\n",
       "    <tr>\n",
       "      <th>3</th>\n",
       "      <td>0.615958</td>\n",
       "      <td>0.482477</td>\n",
       "      <td>0.851546</td>\n",
       "      <td>3</td>\n",
       "    </tr>\n",
       "    <tr>\n",
       "      <th>4</th>\n",
       "      <td>0.645447</td>\n",
       "      <td>0.565015</td>\n",
       "      <td>0.752577</td>\n",
       "      <td>4</td>\n",
       "    </tr>\n",
       "    <tr>\n",
       "      <th>5</th>\n",
       "      <td>0.603732</td>\n",
       "      <td>0.645540</td>\n",
       "      <td>0.567010</td>\n",
       "      <td>5</td>\n",
       "    </tr>\n",
       "  </tbody>\n",
       "</table>\n",
       "</div>"
      ],
      "text/plain": [
       "    F_score  precision    recall  threshold\n",
       "0  0.318346   0.189305  1.000000          0\n",
       "1  0.434339   0.280240  0.964948          1\n",
       "2  0.540541   0.381356  0.927835          2\n",
       "3  0.615958   0.482477  0.851546          3\n",
       "4  0.645447   0.565015  0.752577          4\n",
       "5  0.603732   0.645540  0.567010          5"
      ]
     },
     "execution_count": 35,
     "metadata": {},
     "output_type": "execute_result"
    }
   ],
   "source": [
    "crowd_no_ner_perf = official_F_score(\"num_votes\", get_triples(crowd_good_gold), crowd_no_ner)\n",
    "crowd_no_ner_perf"
   ]
  },
  {
   "cell_type": "markdown",
   "metadata": {},
   "source": [
    "These results are slightly better than the simple NER filtering that I was using before, where I only check whether the concept was identified at all in the paper. However, the performance is basically the same, still in the low 0.6 F range."
   ]
  },
  {
   "cell_type": "code",
   "execution_count": 36,
   "metadata": {
    "collapsed": false
   },
   "outputs": [
    {
     "data": {
      "text/html": [
       "<div>\n",
       "<table border=\"1\" class=\"dataframe\">\n",
       "  <thead>\n",
       "    <tr style=\"text-align: right;\">\n",
       "      <th></th>\n",
       "      <th>F_score</th>\n",
       "      <th>precision</th>\n",
       "      <th>recall</th>\n",
       "      <th>threshold</th>\n",
       "    </tr>\n",
       "  </thead>\n",
       "  <tbody>\n",
       "    <tr>\n",
       "      <th>0</th>\n",
       "      <td>0.668800</td>\n",
       "      <td>0.622951</td>\n",
       "      <td>0.721934</td>\n",
       "      <td>0.30</td>\n",
       "    </tr>\n",
       "    <tr>\n",
       "      <th>1</th>\n",
       "      <td>0.668354</td>\n",
       "      <td>0.653465</td>\n",
       "      <td>0.683938</td>\n",
       "      <td>0.65</td>\n",
       "    </tr>\n",
       "    <tr>\n",
       "      <th>2</th>\n",
       "      <td>0.600966</td>\n",
       "      <td>0.682018</td>\n",
       "      <td>0.537133</td>\n",
       "      <td>0.75</td>\n",
       "    </tr>\n",
       "  </tbody>\n",
       "</table>\n",
       "</div>"
      ],
      "text/plain": [
       "    F_score  precision    recall  threshold\n",
       "0  0.668800   0.622951  0.721934       0.30\n",
       "1  0.668354   0.653465  0.683938       0.65\n",
       "2  0.600966   0.682018  0.537133       0.75"
      ]
     },
     "execution_count": 36,
     "metadata": {},
     "output_type": "execute_result"
    }
   ],
   "source": [
    "texas_no_ner, texas_good_gold = ner_filter(texas_full, ut_res, eval_gold, gold_std)\n",
    "\n",
    "texas_no_ner_perf = official_F_score(\"threshold\", get_triples(texas_good_gold), texas_no_ner)\n",
    "texas_no_ner_perf"
   ]
  },
  {
   "cell_type": "code",
   "execution_count": 37,
   "metadata": {
    "collapsed": false
   },
   "outputs": [
    {
     "data": {
      "text/html": [
       "<div>\n",
       "<table border=\"1\" class=\"dataframe\">\n",
       "  <thead>\n",
       "    <tr style=\"text-align: right;\">\n",
       "      <th></th>\n",
       "      <th>F_score</th>\n",
       "      <th>precision</th>\n",
       "      <th>recall</th>\n",
       "      <th>threshold</th>\n",
       "    </tr>\n",
       "  </thead>\n",
       "  <tbody>\n",
       "    <tr>\n",
       "      <th>0</th>\n",
       "      <td>0.588774</td>\n",
       "      <td>0.622276</td>\n",
       "      <td>0.558696</td>\n",
       "      <td>1</td>\n",
       "    </tr>\n",
       "  </tbody>\n",
       "</table>\n",
       "</div>"
      ],
      "text/plain": [
       "    F_score  precision    recall  threshold\n",
       "0  0.588774   0.622276  0.558696          1"
      ]
     },
     "execution_count": 37,
     "metadata": {},
     "output_type": "execute_result"
    }
   ],
   "source": [
    "befree_no_ner, befree_good_gold = ner_filter(befree_full, befree_res, eval_gold, gold_std)\n",
    "\n",
    "befree_no_ner_perf = official_F_score(\"threshold\", get_triples(befree_good_gold), befree_no_ner)\n",
    "befree_no_ner_perf"
   ]
  },
  {
   "cell_type": "code",
   "execution_count": 38,
   "metadata": {
    "collapsed": true
   },
   "outputs": [],
   "source": [
    "def pair_perf_plot(df1, df2, title, xlabel, fontsize, figsize, linewidth, fname = None):\n",
    "    \"\"\"Plots two pairs of performances on the same figure.\n",
    "    \n",
    "    Colors are specified manually, as are legend values.\n",
    "    \"\"\"    \n",
    "    colors = {\n",
    "        \"f_score\": \"blue\",\n",
    "        \"precision\": \"green\",\n",
    "        \"recall\": \"red\"\n",
    "    }\n",
    "    \n",
    "    labels = {\n",
    "        \"recall\": Patch(color = colors[\"recall\"], label = \"Recall\"),\n",
    "        \"precision\": Patch(color = colors[\"precision\"], label = \"Precision\"),\n",
    "        \"f_score\": Patch(color = colors[\"f_score\"], label = \"F-score\"),\n",
    "        \"no_ner\": Line2D([], [], color = \"black\", linestyle = \"-\", linewidth = linewidth,\n",
    "                      label = \"Without NER filter\"),\n",
    "        \"yes_ner\": Line2D([], [], color = \"black\", linestyle = \"--\", linewidth = linewidth,\n",
    "                       label = \"With NER filter\")\n",
    "    }\n",
    "\n",
    "    matplotlib.rcParams.update({\"font.size\": fontsize})\n",
    "\n",
    "    # order determined by trial and error..\n",
    "    color = [colors[\"f_score\"], colors[\"precision\"], colors[\"recall\"]]\n",
    "\n",
    "    ax = df1.plot(\n",
    "        x = \"threshold\", figsize = figsize, title = title,\n",
    "        ylim = (0, 1.05), linewidth = linewidth, legend = False, color = color\n",
    "    )\n",
    "\n",
    "    ax = df2.plot(\n",
    "        ax = ax, x = \"threshold\", figsize = figsize, title = title,\n",
    "        linestyle = \"--\", ylim = (0, 1.05), linewidth = linewidth,\n",
    "        legend = False, color = color\n",
    "    )\n",
    "\n",
    "    ax.set_xlabel(xlabel)\n",
    "    \n",
    "    plt.legend(loc = \"best\", handles = [\n",
    "            labels[\"recall\"], labels[\"precision\"], labels[\"f_score\"],\n",
    "            labels[\"no_ner\"], labels[\"yes_ner\"]\n",
    "        ]\n",
    "    )\n",
    "    \n",
    "    if fname is not None:\n",
    "        plt.savefig(fname, bbox_inches = \"tight\")"
   ]
  },
  {
   "cell_type": "code",
   "execution_count": 39,
   "metadata": {
    "collapsed": false
   },
   "outputs": [
    {
     "data": {
      "image/png": "[encoded data removed]",
      "text/plain": [
       "<matplotlib.figure.Figure at 0x7fdb5aad25f8>"
      ]
     },
     "metadata": {},
     "output_type": "display_data"
    }
   ],
   "source": [
    "# official figure for database submission\n",
    "# demonstrating the effect of the NER filter on performance\n",
    "pair_perf_plot(official_res, crowd_no_ner_perf,\n",
    "    \"\",\n",
    "    \"Number of votes\", 18, (10, 10), 3, \"crowd_testset_perf.png\")"
   ]
  },
  {
   "cell_type": "markdown",
   "metadata": {},
   "source": [
    "### ROC curves"
   ]
  },
  {
   "cell_type": "code",
   "execution_count": 40,
   "metadata": {
    "collapsed": false
   },
   "outputs": [],
   "source": [
    "temp = pd.merge(crowd_res[TRIPLE + [\"num_votes\"]], gold_std, how = \"outer\", on = TRIPLE)"
   ]
  },
  {
   "cell_type": "code",
   "execution_count": 41,
   "metadata": {
    "collapsed": false
   },
   "outputs": [],
   "source": [
    "temp.loc[:, \"num_votes\"] = temp.loc[:, \"num_votes\"].fillna(0)"
   ]
  },
  {
   "cell_type": "code",
   "execution_count": 42,
   "metadata": {
    "collapsed": true
   },
   "outputs": [],
   "source": [
    "temp.loc[:, \"in_gold\"] = temp.loc[:, TRIPLE].apply(\n",
    "    lambda r: int((r[\"pmid\"], r[\"chemical_id\"], r[\"disease_id\"]) in gold_triples),\n",
    "    axis = 1\n",
    ")"
   ]
  },
  {
   "cell_type": "code",
   "execution_count": 43,
   "metadata": {
    "collapsed": true
   },
   "outputs": [],
   "source": [
    "# temp.to_csv(\"true_roc.tsv\", sep = '\\t', index = False)"
   ]
  },
  {
   "cell_type": "code",
   "execution_count": 44,
   "metadata": {
    "collapsed": false
   },
   "outputs": [
    {
     "data": {
      "text/plain": [
       "0.6934884421117169"
      ]
     },
     "execution_count": 44,
     "metadata": {},
     "output_type": "execute_result"
    }
   ],
   "source": [
    "# AUC value for no NER filtering\n",
    "get_AUC_value(temp, \"num_votes\", \"in_gold\")"
   ]
  },
  {
   "cell_type": "code",
   "execution_count": 45,
   "metadata": {
    "collapsed": true
   },
   "outputs": [],
   "source": [
    "temp = pd.merge(crowd_no_ner[TRIPLE + [\"num_votes\"]], crowd_good_gold, how = \"outer\", on = TRIPLE)"
   ]
  },
  {
   "cell_type": "code",
   "execution_count": 46,
   "metadata": {
    "collapsed": true
   },
   "outputs": [],
   "source": [
    "sub = get_triples(crowd_good_gold)\n",
    "temp.loc[:, \"in_gold\"] = temp.loc[:, TRIPLE].apply(\n",
    "    lambda r: int((r[\"pmid\"], r[\"chemical_id\"], r[\"disease_id\"]) in sub),\n",
    "    axis = 1\n",
    ")"
   ]
  },
  {
   "cell_type": "code",
   "execution_count": 47,
   "metadata": {
    "collapsed": true
   },
   "outputs": [],
   "source": [
    "# temp.to_csv(\"no_ner_roc.tsv\", sep = '\\t', index = False)"
   ]
  },
  {
   "cell_type": "code",
   "execution_count": 48,
   "metadata": {
    "collapsed": false
   },
   "outputs": [
    {
     "data": {
      "text/plain": [
       "0.8763695655411006"
      ]
     },
     "execution_count": 48,
     "metadata": {},
     "output_type": "execute_result"
    }
   ],
   "source": [
    "get_AUC_value(temp, \"num_votes\", \"in_gold\")"
   ]
  },
  {
   "cell_type": "markdown",
   "metadata": {},
   "source": [
    "**Actual paired ROC curve was generated using R script.**"
   ]
  },
  {
   "cell_type": "markdown",
   "metadata": {},
   "source": [
    "---"
   ]
  },
  {
   "cell_type": "markdown",
   "metadata": {},
   "source": [
    "## Venn diagram of relations with NER filter\n",
    "\n",
    "Relations generated using concepts that are perfectly annotated in all solutions with respect to gold standard."
   ]
  },
  {
   "cell_type": "code",
   "execution_count": 49,
   "metadata": {
    "collapsed": true
   },
   "outputs": [],
   "source": [
    "crowd_conc = find_perfect_concepts(crowd_full, eval_gold)\n",
    "befree_conc = find_perfect_concepts(befree_full, eval_gold)\n",
    "texas_conc = find_perfect_concepts(texas_full, eval_gold)\n",
    "\n",
    "common_conc = {\n",
    "    pmid: tuple([crowd_conc[pmid][i] & befree_conc[pmid][i] & texas_conc[pmid][i] for i in range(2)])\n",
    "    for pmid in eval_gold.keys()\n",
    "}\n",
    "\n",
    "poss_good_trips = get_perf_subset_triples(common_conc)\n",
    "poss_df = make_df(poss_good_trips)\n",
    "\n",
    "gold_sub = pd.merge(gold_std, poss_df, how = \"inner\", on = TRIPLE)\n",
    "crowd_sub = pd.merge(crowd_res, poss_df, how = \"inner\", on = TRIPLE)\n",
    "befree_sub = pd.merge(befree_res, poss_df, how = \"inner\", on = TRIPLE)\n",
    "texas_sub = pd.merge(ut_res, poss_df, how = \"inner\", on = TRIPLE)"
   ]
  },
  {
   "cell_type": "code",
   "execution_count": 50,
   "metadata": {
    "collapsed": true
   },
   "outputs": [],
   "source": [
    "# make venn diagram for relations for the full workflow\n",
    "\n",
    "# fnames = [\"temp/gold_trips.txt\", \"temp/crowd_trips.txt\", \"temp/befree_trips.txt\", \"temp/texas_trips.txt\"]\n",
    "# dfs = [gold_sub, crowd_sub.query(\"num_votes >= 4\"), befree_sub, texas_sub]\n",
    "# for fname, df in zip(fnames, dfs):\n",
    "#     df[TRIPLE].to_csv(fname, sep = \"|\", header = False, index = False)"
   ]
  },
  {
   "cell_type": "markdown",
   "metadata": {},
   "source": [
    "<img src=\"../data/final_eval/analysis/testset_crowd_befree_common_filtered_relations.png\" style=\"width: 500px;\">\n",
    "\n",
    "This is for the NER filtered output of BeFree and crowd. Relations were subsetted on concepts which were perfectly matching gold in both solutions.\n",
    "\n",
    "<img src=\"../data/final_eval/analysis/testset_all_no_ner_cross_validation.png\" style=\"width: 500px;\">\n",
    "\n",
    "This is for the NER filtered output of all 3 solutions. Relations were subsetted on concepts which were perfectly matching gold in all solutions."
   ]
  },
  {
   "cell_type": "markdown",
   "metadata": {},
   "source": [
    "## Error analysis\n",
    "\n",
    "Null hypothesis: the origin of a relation is independent of the category that the relation belongs to (true positive, false positive, false negative).\n",
    "\n",
    "We use the Chi square test to determine whether the null hypothesis is true. We will group CID and sentence bound relations together."
   ]
  },
  {
   "cell_type": "code",
   "execution_count": 51,
   "metadata": {
    "collapsed": true
   },
   "outputs": [],
   "source": [
    "def converter(pmid, poss_relations):\n",
    "    return [Relation(pmid, rel[0], rel[1]) for rel in poss_relations]\n",
    "\n",
    "def rel_origin(triple, paper):\n",
    "    relation = Relation(paper.pmid, triple[1], triple[2], flat = False)\n",
    "\n",
    "    rename = {\n",
    "        \"CID\": \"sent\",\n",
    "        \"sentence_non_CID\": \"sent\",\n",
    "        \"not_sentence_bound\": \"abs\"\n",
    "    }\n",
    "    \n",
    "    ans = []\n",
    "    for key, val in paper.poss_relations.items():\n",
    "        value = converter(paper.pmid, val)\n",
    "        if relation in value:\n",
    "            ans.append(rename[key])\n",
    "\n",
    "    return \"|\".join(ans)"
   ]
  },
  {
   "cell_type": "code",
   "execution_count": 52,
   "metadata": {
    "collapsed": true
   },
   "outputs": [],
   "source": [
    "def single_triple(row):\n",
    "    return (int(row[\"pmid\"]), row[\"chemical_id\"], row[\"disease_id\"])\n",
    "\n",
    "def make_summary(predictions, gold_std):\n",
    "    temp = pd.merge(predictions[TRIPLE], gold_std[TRIPLE], how = \"outer\", on = TRIPLE)\n",
    "    \n",
    "    pred_trip = get_triples(predictions)\n",
    "    gold_trip = get_triples(gold_std)\n",
    "    \n",
    "    temp.loc[:, \"in_gold\"] = temp.loc[:, TRIPLE].apply(\n",
    "        lambda row: single_triple(row) in gold_trip, axis = 1\n",
    "    )\n",
    "    \n",
    "    temp.loc[:, \"in_predict\"] = temp.loc[:, TRIPLE].apply(\n",
    "        lambda row: single_triple(row) in pred_trip, axis = 1\n",
    "    )\n",
    "    \n",
    "    temp.loc[:, \"rel_origin\"] = temp.loc[:, TRIPLE].apply(\n",
    "        lambda row: rel_origin(single_triple(row), eval_gold[row[\"pmid\"]]), axis = 1\n",
    "    )\n",
    "    \n",
    "    temp.loc[:, \"pmid\"] = temp.loc[:, \"pmid\"].astype(int)\n",
    "    \n",
    "    return temp"
   ]
  },
  {
   "cell_type": "code",
   "execution_count": 53,
   "metadata": {
    "collapsed": true
   },
   "outputs": [],
   "source": [
    "def category_splitter(predict_res, gold_std, option = \"\"):\n",
    "    \"\"\"A generator for categories of relations.\"\"\"\n",
    "    predict = make_summary(predict_res, gold_std)\n",
    "    \n",
    "    error_type = [\"TP\", \"FP\", \"FN\"]\n",
    "    vals = [(True, True), (False, True), (True, False)] # gold, predict\n",
    "    \n",
    "    for etype, val in zip(error_type, vals):\n",
    "        sub = predict.query(\"in_gold == {} and in_predict == {}{}\".format(\n",
    "            val[0], val[1], option\n",
    "        )).dropna()\n",
    "        \n",
    "        yield (etype, sub)"
   ]
  },
  {
   "cell_type": "code",
   "execution_count": 54,
   "metadata": {
    "collapsed": true
   },
   "outputs": [],
   "source": [
    "def two_samp_test(res, test_type):\n",
    "    assert test_type in [\"t.test\", \"wilcox.test\"]\n",
    "    test = robjects.r[test_type]\n",
    "    \n",
    "    #determined empirically\n",
    "    cover = {\n",
    "        \"t.test\": 8,\n",
    "        \"wilcox.test\": 6\n",
    "    }    \n",
    "    \n",
    "    for a, b in combinations([\"TP\", \"FP\", \"FN\"], 2):\n",
    "        print(\"{} between {} and {}\".format(test_type, a, b))\n",
    "        result = test(res[a], res[b])\n",
    "        # don't print the acutal series themselves\n",
    "        # overwriting with zero suppresses superfluous output\n",
    "        result[cover[test_type]] = 0\n",
    "\n",
    "        print(result)\n",
    "        print(\"-----------------------------\")"
   ]
  },
  {
   "cell_type": "code",
   "execution_count": 55,
   "metadata": {
    "collapsed": true
   },
   "outputs": [],
   "source": [
    "def test_origin(pred_res, gold_std):\n",
    "    \"\"\"Apply the Chi-square test to see if a relation's\n",
    "    origin is independent of the category of error it\n",
    "    belongs to.\n",
    "    \"\"\"\n",
    "    chisqtest = robjects.r[\"chisq.test\"]\n",
    "    \n",
    "    res = dict()\n",
    "    for etype, sub in category_splitter(pred_res, gold_std):\n",
    "        res[etype] = sub[\"rel_origin\"].value_counts()[[\"sent\", \"abs\"]]\n",
    "        \n",
    "    res = pd.DataFrame(res).T\n",
    "    \n",
    "    print(chisqtest(res))\n",
    "    \n",
    "    return res"
   ]
  },
  {
   "cell_type": "code",
   "execution_count": 56,
   "metadata": {
    "collapsed": false
   },
   "outputs": [
    {
     "name": "stdout",
     "output_type": "stream",
     "text": [
      "\n",
      "\tPearson's Chi-squared test\n",
      "\n",
      "data:  structure(list(sent = structure(c(55L, 181L, 290L), .Dim = 3L),     abs = structure(c(65L, 100L, 74L), .Dim = 3L)), .Names = c(\"sent\", \"abs\"), row.names = c(\"FN\", \"FP\", \"TP\"), class = \"data.frame\")\n",
      "X-squared = 52.006, df = 2, p-value = 5.095e-12\n",
      "\n",
      "\n"
     ]
    },
    {
     "data": {
      "text/html": [
       "<div>\n",
       "<table border=\"1\" class=\"dataframe\">\n",
       "  <thead>\n",
       "    <tr style=\"text-align: right;\">\n",
       "      <th></th>\n",
       "      <th>sent</th>\n",
       "      <th>abs</th>\n",
       "    </tr>\n",
       "  </thead>\n",
       "  <tbody>\n",
       "    <tr>\n",
       "      <th>FN</th>\n",
       "      <td>55</td>\n",
       "      <td>65</td>\n",
       "    </tr>\n",
       "    <tr>\n",
       "      <th>FP</th>\n",
       "      <td>181</td>\n",
       "      <td>100</td>\n",
       "    </tr>\n",
       "    <tr>\n",
       "      <th>TP</th>\n",
       "      <td>290</td>\n",
       "      <td>74</td>\n",
       "    </tr>\n",
       "  </tbody>\n",
       "</table>\n",
       "</div>"
      ],
      "text/plain": [
       "    sent  abs\n",
       "FN    55   65\n",
       "FP   181  100\n",
       "TP   290   74"
      ]
     },
     "execution_count": 56,
     "metadata": {},
     "output_type": "execute_result"
    }
   ],
   "source": [
    "# hypothesis: relation origin is independent of category the relation ends up in\n",
    "\n",
    "test_origin(crowd_no_ner.query(\"num_votes >= 4\"), crowd_good_gold)\n",
    "\n",
    "# result: null hypothesis is wrong, relation origin does affect which error group a relation falls into"
   ]
  },
  {
   "cell_type": "markdown",
   "metadata": {},
   "source": [
    "---"
   ]
  },
  {
   "cell_type": "markdown",
   "metadata": {},
   "source": [
    "### Does the article type affect performance?"
   ]
  },
  {
   "cell_type": "code",
   "execution_count": 57,
   "metadata": {
    "collapsed": true
   },
   "outputs": [],
   "source": [
    "loc = os.path.abspath(os.path.join(\"..\", \"data\", \"final_eval\", \"analysis\", \"testset_article_types.pickle\"))\n",
    "pub_types = save_file(loc)"
   ]
  },
  {
   "cell_type": "code",
   "execution_count": 58,
   "metadata": {
    "collapsed": false
   },
   "outputs": [
    {
     "data": {
      "text/html": [
       "<div>\n",
       "<table border=\"1\" class=\"dataframe\">\n",
       "  <thead>\n",
       "    <tr style=\"text-align: right;\">\n",
       "      <th></th>\n",
       "      <th>pmid</th>\n",
       "      <th>regular</th>\n",
       "      <th>case_report</th>\n",
       "      <th>clinical_trial</th>\n",
       "    </tr>\n",
       "  </thead>\n",
       "  <tbody>\n",
       "    <tr>\n",
       "      <th>0</th>\n",
       "      <td>23433219</td>\n",
       "      <td>True</td>\n",
       "      <td>False</td>\n",
       "      <td>False</td>\n",
       "    </tr>\n",
       "    <tr>\n",
       "      <th>1</th>\n",
       "      <td>1360900</td>\n",
       "      <td>True</td>\n",
       "      <td>False</td>\n",
       "      <td>False</td>\n",
       "    </tr>\n",
       "    <tr>\n",
       "      <th>2</th>\n",
       "      <td>733189</td>\n",
       "      <td>False</td>\n",
       "      <td>True</td>\n",
       "      <td>False</td>\n",
       "    </tr>\n",
       "    <tr>\n",
       "      <th>3</th>\n",
       "      <td>11745287</td>\n",
       "      <td>False</td>\n",
       "      <td>False</td>\n",
       "      <td>True</td>\n",
       "    </tr>\n",
       "    <tr>\n",
       "      <th>4</th>\n",
       "      <td>25907210</td>\n",
       "      <td>True</td>\n",
       "      <td>False</td>\n",
       "      <td>False</td>\n",
       "    </tr>\n",
       "  </tbody>\n",
       "</table>\n",
       "</div>"
      ],
      "text/plain": [
       "       pmid regular case_report clinical_trial\n",
       "0  23433219    True       False          False\n",
       "1   1360900    True       False          False\n",
       "2    733189   False        True          False\n",
       "3  11745287   False       False           True\n",
       "4  25907210    True       False          False"
      ]
     },
     "execution_count": 58,
     "metadata": {},
     "output_type": "execute_result"
    }
   ],
   "source": [
    "pub_types.head()"
   ]
  },
  {
   "cell_type": "code",
   "execution_count": 59,
   "metadata": {
    "collapsed": true
   },
   "outputs": [],
   "source": [
    "crowd_conc = find_perfect_concepts(crowd_full, eval_gold)\n",
    "befree_conc = find_perfect_concepts(befree_full, eval_gold)\n",
    "texas_conc = find_perfect_concepts(texas_full, eval_gold)\n",
    "\n",
    "common_conc = {\n",
    "    pmid: tuple([crowd_conc[pmid][i] & befree_conc[pmid][i] & texas_conc[pmid][i] for i in range(2)])\n",
    "    for pmid in eval_gold.keys()\n",
    "}\n",
    "\n",
    "poss_good_trips = get_perf_subset_triples(common_conc)\n",
    "poss_df = make_df(poss_good_trips)\n",
    "\n",
    "gold_sub = pd.merge(gold_std, poss_df, how = \"inner\", on = TRIPLE)\n",
    "crowd_sub = pd.merge(crowd_res, poss_df, how = \"inner\", on = TRIPLE)\n",
    "befree_sub = pd.merge(befree_res, poss_df, how = \"inner\", on = TRIPLE)\n",
    "texas_sub = pd.merge(ut_res, poss_df, how = \"inner\", on = TRIPLE)"
   ]
  },
  {
   "cell_type": "code",
   "execution_count": 60,
   "metadata": {
    "collapsed": true
   },
   "outputs": [],
   "source": [
    "def best_F(method, results):\n",
    "    assert method in {\"crowd\", \"befree\", \"texas\"}\n",
    "    \n",
    "    threshold = {\n",
    "        \"crowd\": 4,\n",
    "        \"befree\": 1,\n",
    "        \"texas\": 0.30\n",
    "    }\n",
    "    \n",
    "    return results.query(\"threshold == {}\".format(threshold[method]))"
   ]
  },
  {
   "cell_type": "code",
   "execution_count": 61,
   "metadata": {
    "collapsed": false
   },
   "outputs": [
    {
     "name": "stdout",
     "output_type": "stream",
     "text": [
      "regular\n",
      "# gold triples: 192\n",
      "# articles: 136\n",
      "crowd\n",
      "    F_score  precision    recall  threshold\n",
      "0  0.430493   0.274286  1.000000          0\n",
      "1  0.549550   0.386076  0.953125          1\n",
      "2  0.667910   0.520349  0.932292          2\n",
      "3  0.740741   0.636704  0.885417          3\n",
      "4  0.765000   0.735577  0.796875          4\n",
      "5  0.694362   0.806897  0.609375          5\n",
      "\n",
      "texas\n",
      "    F_score  precision    recall  threshold\n",
      "0  0.715000   0.687500  0.744792       0.30\n",
      "1  0.718499   0.740331  0.697917       0.65\n",
      "2  0.658824   0.756757  0.583333       0.75\n",
      "\n",
      "befree\n",
      "    F_score  precision    recall  threshold\n",
      "0  0.720461   0.806452  0.651042          1\n",
      "\n",
      "-----------------------\n",
      "case_report\n",
      "# gold triples: 105\n",
      "# articles: 63\n",
      "crowd\n",
      "    F_score  precision    recall  threshold\n",
      "0  0.435685   0.278515  1.000000          0\n",
      "1  0.532637   0.366906  0.971429          1\n",
      "2  0.585366   0.430493  0.914286          2\n",
      "3  0.635714   0.508571  0.847619          3\n",
      "4  0.697095   0.617647  0.800000          4\n",
      "5  0.647059   0.666667  0.628571          5\n",
      "\n",
      "texas\n",
      "    F_score  precision    recall  threshold\n",
      "0  0.715686   0.737374  0.695238       0.30\n",
      "1  0.696970   0.741935  0.657143       0.65\n",
      "2  0.691892   0.800000  0.609524       0.75\n",
      "\n",
      "befree\n",
      "    F_score  precision    recall  threshold\n",
      "0  0.573099   0.742424  0.466667          1\n",
      "\n",
      "-----------------------\n",
      "clinical_trial\n",
      "# gold triples: 60\n",
      "# articles: 26\n",
      "crowd\n",
      "    F_score  precision    recall  threshold\n",
      "0  0.631579   0.461538  1.000000          0\n",
      "1  0.756410   0.614583  0.983333          1\n",
      "2  0.817518   0.727273  0.933333          2\n",
      "3  0.762712   0.775862  0.750000          3\n",
      "4  0.693069   0.853659  0.583333          4\n",
      "5  0.463415   0.863636  0.316667          5\n",
      "\n",
      "texas\n",
      "    F_score  precision    recall  threshold\n",
      "0  0.807339   0.897959  0.733333       0.30\n",
      "1  0.796296   0.895833  0.716667       0.65\n",
      "2  0.528736   0.851852  0.383333       0.75\n",
      "\n",
      "befree\n",
      "    F_score  precision    recall  threshold\n",
      "0  0.449438   0.689655  0.333333          1\n",
      "\n",
      "-----------------------\n"
     ]
    }
   ],
   "source": [
    "paper_info = pd.merge(gold_sub, pub_types, how = \"inner\", on = \"pmid\")\n",
    "\n",
    "temp = defaultdict(list)\n",
    "for col in [\"regular\", \"case_report\", \"clinical_trial\"]:\n",
    "    pub_group = paper_info.query(\"{} == True\".format(col))\n",
    "    paper_ids = pd.Series(list(set(pub_group[\"pmid\"]))).to_frame(\"pmid\")\n",
    "    \n",
    "    print(col)\n",
    "    print(\"# gold triples:\", len(pub_group))\n",
    "    print(\"# articles:\", len(pub_group[\"pmid\"].unique()))\n",
    "    \n",
    "    value = {\n",
    "        \"crowd\": \"num_votes\",\n",
    "        \"befree\": \"threshold\",\n",
    "        \"texas\": \"threshold\"\n",
    "    }    \n",
    "    \n",
    "    for method, data in zip([\"crowd\", \"texas\", \"befree\"], [crowd_sub, texas_sub, befree_sub]):\n",
    "        pred_sub = pd.merge(data, paper_ids, how = \"inner\", on = \"pmid\")\n",
    "        score = official_F_score(value[method], get_triples(pub_group), pred_sub)\n",
    "\n",
    "        print(method)\n",
    "        print(score)\n",
    "        print()\n",
    "        \n",
    "        best = best_F(method, score)\n",
    "        temp[\"pub_type\"].append(col)\n",
    "        temp[\"method\"].append(method)\n",
    "        for colname in best.columns:\n",
    "            temp[colname].append(best[colname].iloc[0])\n",
    "    \n",
    "    print(\"-----------------------\")\n",
    "    \n",
    "temp = pd.DataFrame(temp)    "
   ]
  },
  {
   "cell_type": "code",
   "execution_count": 62,
   "metadata": {
    "collapsed": false
   },
   "outputs": [
    {
     "data": {
      "text/html": [
       "<div>\n",
       "<table border=\"1\" class=\"dataframe\">\n",
       "  <thead>\n",
       "    <tr style=\"text-align: right;\">\n",
       "      <th></th>\n",
       "      <th>F_score</th>\n",
       "      <th>method</th>\n",
       "      <th>precision</th>\n",
       "      <th>pub_type</th>\n",
       "      <th>recall</th>\n",
       "      <th>threshold</th>\n",
       "    </tr>\n",
       "  </thead>\n",
       "  <tbody>\n",
       "    <tr>\n",
       "      <th>0</th>\n",
       "      <td>0.765000</td>\n",
       "      <td>crowd</td>\n",
       "      <td>0.735577</td>\n",
       "      <td>regular</td>\n",
       "      <td>0.796875</td>\n",
       "      <td>4.0</td>\n",
       "    </tr>\n",
       "    <tr>\n",
       "      <th>1</th>\n",
       "      <td>0.715000</td>\n",
       "      <td>texas</td>\n",
       "      <td>0.687500</td>\n",
       "      <td>regular</td>\n",
       "      <td>0.744792</td>\n",
       "      <td>0.3</td>\n",
       "    </tr>\n",
       "    <tr>\n",
       "      <th>2</th>\n",
       "      <td>0.720461</td>\n",
       "      <td>befree</td>\n",
       "      <td>0.806452</td>\n",
       "      <td>regular</td>\n",
       "      <td>0.651042</td>\n",
       "      <td>1.0</td>\n",
       "    </tr>\n",
       "    <tr>\n",
       "      <th>3</th>\n",
       "      <td>0.697095</td>\n",
       "      <td>crowd</td>\n",
       "      <td>0.617647</td>\n",
       "      <td>case_report</td>\n",
       "      <td>0.800000</td>\n",
       "      <td>4.0</td>\n",
       "    </tr>\n",
       "    <tr>\n",
       "      <th>4</th>\n",
       "      <td>0.715686</td>\n",
       "      <td>texas</td>\n",
       "      <td>0.737374</td>\n",
       "      <td>case_report</td>\n",
       "      <td>0.695238</td>\n",
       "      <td>0.3</td>\n",
       "    </tr>\n",
       "    <tr>\n",
       "      <th>5</th>\n",
       "      <td>0.573099</td>\n",
       "      <td>befree</td>\n",
       "      <td>0.742424</td>\n",
       "      <td>case_report</td>\n",
       "      <td>0.466667</td>\n",
       "      <td>1.0</td>\n",
       "    </tr>\n",
       "    <tr>\n",
       "      <th>6</th>\n",
       "      <td>0.693069</td>\n",
       "      <td>crowd</td>\n",
       "      <td>0.853659</td>\n",
       "      <td>clinical_trial</td>\n",
       "      <td>0.583333</td>\n",
       "      <td>4.0</td>\n",
       "    </tr>\n",
       "    <tr>\n",
       "      <th>7</th>\n",
       "      <td>0.807339</td>\n",
       "      <td>texas</td>\n",
       "      <td>0.897959</td>\n",
       "      <td>clinical_trial</td>\n",
       "      <td>0.733333</td>\n",
       "      <td>0.3</td>\n",
       "    </tr>\n",
       "    <tr>\n",
       "      <th>8</th>\n",
       "      <td>0.449438</td>\n",
       "      <td>befree</td>\n",
       "      <td>0.689655</td>\n",
       "      <td>clinical_trial</td>\n",
       "      <td>0.333333</td>\n",
       "      <td>1.0</td>\n",
       "    </tr>\n",
       "  </tbody>\n",
       "</table>\n",
       "</div>"
      ],
      "text/plain": [
       "    F_score  method  precision        pub_type    recall  threshold\n",
       "0  0.765000   crowd   0.735577         regular  0.796875        4.0\n",
       "1  0.715000   texas   0.687500         regular  0.744792        0.3\n",
       "2  0.720461  befree   0.806452         regular  0.651042        1.0\n",
       "3  0.697095   crowd   0.617647     case_report  0.800000        4.0\n",
       "4  0.715686   texas   0.737374     case_report  0.695238        0.3\n",
       "5  0.573099  befree   0.742424     case_report  0.466667        1.0\n",
       "6  0.693069   crowd   0.853659  clinical_trial  0.583333        4.0\n",
       "7  0.807339   texas   0.897959  clinical_trial  0.733333        0.3\n",
       "8  0.449438  befree   0.689655  clinical_trial  0.333333        1.0"
      ]
     },
     "execution_count": 62,
     "metadata": {},
     "output_type": "execute_result"
    }
   ],
   "source": [
    "temp"
   ]
  },
  {
   "cell_type": "code",
   "execution_count": 84,
   "metadata": {
    "collapsed": false
   },
   "outputs": [
    {
     "data": {
      "text/plain": [
       "<matplotlib.text.Text at 0x7fdb422ccf60>"
      ]
     },
     "execution_count": 84,
     "metadata": {},
     "output_type": "execute_result"
    },
    {
     "data": {
      "image/png": "[encoded data removed]",
      "text/plain": [
       "<matplotlib.figure.Figure at 0x7fdb5ad85d30>"
      ]
     },
     "metadata": {},
     "output_type": "display_data"
    }
   ],
   "source": [
    "sns.set(font_scale = 1.5)\n",
    "sns.set_style(\"darkgrid\")\n",
    "sns.set_palette(\"muted\")\n",
    "\n",
    "fig, ax = plt.subplots(figsize = (10, 10))\n",
    "ax = sns.barplot(y = \"F_score\", x = \"method\", hue = \"pub_type\", data = temp, ax = ax)\n",
    "ax.set_ylabel(\"Microaverage F Score\")\n",
    "ax.set_xlabel(\"Predictive method\")"
   ]
  },
  {
   "cell_type": "code",
   "execution_count": 86,
   "metadata": {
    "collapsed": false
   },
   "outputs": [
    {
     "data": {
      "text/plain": [
       "<matplotlib.text.Text at 0x7fdb421a37b8>"
      ]
     },
     "execution_count": 86,
     "metadata": {},
     "output_type": "execute_result"
    },
    {
     "data": {
      "image/png": "[encoded data removed]",
      "text/plain": [
       "<matplotlib.figure.Figure at 0x7fdb5b33be80>"
      ]
     },
     "metadata": {},
     "output_type": "display_data"
    }
   ],
   "source": [
    "sns.set(font_scale = 1.5)\n",
    "sns.set_style(\"darkgrid\")\n",
    "sns.set_palette(\"muted\")\n",
    "\n",
    "fig, ax = plt.subplots(figsize = (10, 10))\n",
    "ax = sns.barplot(y = \"F_score\", x = \"pub_type\", hue = \"method\", data = temp, ax = ax)\n",
    "ax.set_ylabel(\"Microaverage F Score\")\n",
    "ax.set_xlabel(\"Publication type\")"
   ]
  },
  {
   "cell_type": "markdown",
   "metadata": {
    "collapsed": true
   },
   "source": [
    "---"
   ]
  },
  {
   "cell_type": "code",
   "execution_count": 57,
   "metadata": {
    "collapsed": true
   },
   "outputs": [],
   "source": [
    "common = gold_triples & crowd_trip & texas_trip & befree_trip"
   ]
  },
  {
   "cell_type": "code",
   "execution_count": 58,
   "metadata": {
    "collapsed": false
   },
   "outputs": [
    {
     "data": {
      "text/plain": [
       "277"
      ]
     },
     "execution_count": 58,
     "metadata": {},
     "output_type": "execute_result"
    }
   ],
   "source": [
    "len(common)"
   ]
  },
  {
   "cell_type": "code",
   "execution_count": 59,
   "metadata": {
    "collapsed": true
   },
   "outputs": [],
   "source": [
    "common = make_df(common)"
   ]
  },
  {
   "cell_type": "code",
   "execution_count": 60,
   "metadata": {
    "collapsed": false
   },
   "outputs": [
    {
     "data": {
      "text/html": [
       "<div>\n",
       "<table border=\"1\" class=\"dataframe\">\n",
       "  <thead>\n",
       "    <tr style=\"text-align: right;\">\n",
       "      <th></th>\n",
       "      <th>pmid</th>\n",
       "      <th>chemical_id</th>\n",
       "      <th>disease_id</th>\n",
       "    </tr>\n",
       "  </thead>\n",
       "  <tbody>\n",
       "    <tr>\n",
       "      <th>0</th>\n",
       "      <td>3833372</td>\n",
       "      <td>MESH:D006852</td>\n",
       "      <td>MESH:D004244</td>\n",
       "    </tr>\n",
       "    <tr>\n",
       "      <th>1</th>\n",
       "      <td>12865514</td>\n",
       "      <td>MESH:D007980</td>\n",
       "      <td>MESH:D004409</td>\n",
       "    </tr>\n",
       "    <tr>\n",
       "      <th>2</th>\n",
       "      <td>1158089</td>\n",
       "      <td>MESH:D013752</td>\n",
       "      <td>MESH:D005234</td>\n",
       "    </tr>\n",
       "    <tr>\n",
       "      <th>3</th>\n",
       "      <td>16801510</td>\n",
       "      <td>MESH:D008691</td>\n",
       "      <td>MESH:D008133</td>\n",
       "    </tr>\n",
       "    <tr>\n",
       "      <th>4</th>\n",
       "      <td>3191389</td>\n",
       "      <td>MESH:D010862</td>\n",
       "      <td>MESH:D012640</td>\n",
       "    </tr>\n",
       "  </tbody>\n",
       "</table>\n",
       "</div>"
      ],
      "text/plain": [
       "       pmid   chemical_id    disease_id\n",
       "0   3833372  MESH:D006852  MESH:D004244\n",
       "1  12865514  MESH:D007980  MESH:D004409\n",
       "2   1158089  MESH:D013752  MESH:D005234\n",
       "3  16801510  MESH:D008691  MESH:D008133\n",
       "4   3191389  MESH:D010862  MESH:D012640"
      ]
     },
     "execution_count": 60,
     "metadata": {},
     "output_type": "execute_result"
    }
   ],
   "source": [
    "common.head()"
   ]
  },
  {
   "cell_type": "code",
   "execution_count": 61,
   "metadata": {
    "collapsed": true
   },
   "outputs": [],
   "source": [
    "common.loc[:, \"rel_origin\"] = common.loc[:, TRIPLE].apply(\n",
    "    lambda row: rel_origin(single_triple(row), eval_gold[row[\"pmid\"]]), axis = 1\n",
    ")"
   ]
  },
  {
   "cell_type": "code",
   "execution_count": 62,
   "metadata": {
    "collapsed": false
   },
   "outputs": [
    {
     "data": {
      "text/html": [
       "<div>\n",
       "<table border=\"1\" class=\"dataframe\">\n",
       "  <thead>\n",
       "    <tr style=\"text-align: right;\">\n",
       "      <th></th>\n",
       "      <th>pmid</th>\n",
       "      <th>chemical_id</th>\n",
       "      <th>disease_id</th>\n",
       "      <th>rel_origin</th>\n",
       "    </tr>\n",
       "  </thead>\n",
       "  <tbody>\n",
       "    <tr>\n",
       "      <th>0</th>\n",
       "      <td>3833372</td>\n",
       "      <td>MESH:D006852</td>\n",
       "      <td>MESH:D004244</td>\n",
       "      <td>abs</td>\n",
       "    </tr>\n",
       "    <tr>\n",
       "      <th>1</th>\n",
       "      <td>12865514</td>\n",
       "      <td>MESH:D007980</td>\n",
       "      <td>MESH:D004409</td>\n",
       "      <td>sent</td>\n",
       "    </tr>\n",
       "    <tr>\n",
       "      <th>2</th>\n",
       "      <td>1158089</td>\n",
       "      <td>MESH:D013752</td>\n",
       "      <td>MESH:D005234</td>\n",
       "      <td>sent</td>\n",
       "    </tr>\n",
       "    <tr>\n",
       "      <th>3</th>\n",
       "      <td>16801510</td>\n",
       "      <td>MESH:D008691</td>\n",
       "      <td>MESH:D008133</td>\n",
       "      <td>sent</td>\n",
       "    </tr>\n",
       "    <tr>\n",
       "      <th>4</th>\n",
       "      <td>3191389</td>\n",
       "      <td>MESH:D010862</td>\n",
       "      <td>MESH:D012640</td>\n",
       "      <td>sent</td>\n",
       "    </tr>\n",
       "  </tbody>\n",
       "</table>\n",
       "</div>"
      ],
      "text/plain": [
       "       pmid   chemical_id    disease_id rel_origin\n",
       "0   3833372  MESH:D006852  MESH:D004244        abs\n",
       "1  12865514  MESH:D007980  MESH:D004409       sent\n",
       "2   1158089  MESH:D013752  MESH:D005234       sent\n",
       "3  16801510  MESH:D008691  MESH:D008133       sent\n",
       "4   3191389  MESH:D010862  MESH:D012640       sent"
      ]
     },
     "execution_count": 62,
     "metadata": {},
     "output_type": "execute_result"
    }
   ],
   "source": [
    "common.head()"
   ]
  },
  {
   "cell_type": "code",
   "execution_count": 63,
   "metadata": {
    "collapsed": false
   },
   "outputs": [
    {
     "data": {
      "text/plain": [
       "sent         252\n",
       "abs           22\n",
       "sent|sent      3\n",
       "dtype: int64"
      ]
     },
     "execution_count": 63,
     "metadata": {},
     "output_type": "execute_result"
    }
   ],
   "source": [
    "common[\"rel_origin\"].value_counts()"
   ]
  },
  {
   "cell_type": "code",
   "execution_count": 64,
   "metadata": {
    "collapsed": false
   },
   "outputs": [
    {
     "data": {
      "text/html": [
       "<div>\n",
       "<table border=\"1\" class=\"dataframe\">\n",
       "  <thead>\n",
       "    <tr style=\"text-align: right;\">\n",
       "      <th></th>\n",
       "      <th>pmid</th>\n",
       "      <th>chemical_id</th>\n",
       "      <th>disease_id</th>\n",
       "      <th>rel_origin</th>\n",
       "    </tr>\n",
       "  </thead>\n",
       "  <tbody>\n",
       "    <tr>\n",
       "      <th>62</th>\n",
       "      <td>10726030</td>\n",
       "      <td>MESH:D006493</td>\n",
       "      <td>MESH:D013921</td>\n",
       "      <td>sent|sent</td>\n",
       "    </tr>\n",
       "    <tr>\n",
       "      <th>79</th>\n",
       "      <td>24733133</td>\n",
       "      <td>MESH:D006493</td>\n",
       "      <td>MESH:D013921</td>\n",
       "      <td>sent|sent</td>\n",
       "    </tr>\n",
       "    <tr>\n",
       "      <th>127</th>\n",
       "      <td>7739955</td>\n",
       "      <td>MESH:D002220</td>\n",
       "      <td>MESH:D009205</td>\n",
       "      <td>sent|sent</td>\n",
       "    </tr>\n",
       "  </tbody>\n",
       "</table>\n",
       "</div>"
      ],
      "text/plain": [
       "         pmid   chemical_id    disease_id rel_origin\n",
       "62   10726030  MESH:D006493  MESH:D013921  sent|sent\n",
       "79   24733133  MESH:D006493  MESH:D013921  sent|sent\n",
       "127   7739955  MESH:D002220  MESH:D009205  sent|sent"
      ]
     },
     "execution_count": 64,
     "metadata": {},
     "output_type": "execute_result"
    }
   ],
   "source": [
    "common.query(\"rel_origin == 'sent|sent'\")"
   ]
  },
  {
   "cell_type": "code",
   "execution_count": 65,
   "metadata": {
    "collapsed": false
   },
   "outputs": [
    {
     "data": {
      "text/plain": [
       "0.9205776173285198"
      ]
     },
     "execution_count": 65,
     "metadata": {},
     "output_type": "execute_result"
    }
   ],
   "source": [
    "255/277"
   ]
  },
  {
   "cell_type": "code",
   "execution_count": 66,
   "metadata": {
    "collapsed": true
   },
   "outputs": [],
   "source": [
    "def converter(pmid, poss_relations):\n",
    "    return [Relation(pmid, rel[0], rel[1]) for rel in poss_relations]\n",
    "\n",
    "def rel_origin(triple, paper):\n",
    "    relation = Relation(paper.pmid, triple[1], triple[2], flat = False)\n",
    "\n",
    "    rename = {\n",
    "        \"CID\": \"CID\",\n",
    "        \"sentence_non_CID\": \"sent\",\n",
    "        \"not_sentence_bound\": \"abs\"\n",
    "    }\n",
    "    \n",
    "    ans = []\n",
    "    for key, val in paper.poss_relations.items():\n",
    "        value = converter(paper.pmid, val)\n",
    "        if relation in value:\n",
    "            ans.append(rename[key])\n",
    "\n",
    "    return \"|\".join(ans)"
   ]
  },
  {
   "cell_type": "code",
   "execution_count": 67,
   "metadata": {
    "collapsed": false
   },
   "outputs": [
    {
     "data": {
      "text/plain": [
       "'CID|sent'"
      ]
     },
     "execution_count": 67,
     "metadata": {},
     "output_type": "execute_result"
    }
   ],
   "source": [
    "rel_origin((7739955, \"MESH:D002220\", \"MESH:D009205\"), eval_gold[7739955])"
   ]
  },
  {
   "cell_type": "code",
   "execution_count": null,
   "metadata": {
    "collapsed": true
   },
   "outputs": [],
   "source": []
  },
  {
   "cell_type": "code",
   "execution_count": null,
   "metadata": {
    "collapsed": true
   },
   "outputs": [],
   "source": []
  },
  {
   "cell_type": "code",
   "execution_count": 68,
   "metadata": {
    "collapsed": true
   },
   "outputs": [],
   "source": [
    "crowd_summary = make_summary(crowd_no_ner.query(\"num_votes >= 4\"), crowd_good_gold)\n",
    "\n",
    "cols = crowd_summary.columns | [\"unit_ids\", \"num_votes\"]\n",
    "\n",
    "crowd_summary = pd.merge(crowd_summary,\n",
    "    pd.concat([sent_res, abs_res]), how = \"left\", on = TRIPLE)[cols]"
   ]
  },
  {
   "cell_type": "markdown",
   "metadata": {},
   "source": [
    "### T-test of length for abstract scope errors\n",
    "\n",
    "For the relations which are abstract scoped, does crowd performance depend upon how long the abstracts are? I.e., do workers perform worse on longer abstracts because there's more reading?"
   ]
  },
  {
   "cell_type": "code",
   "execution_count": 69,
   "metadata": {
    "collapsed": true
   },
   "outputs": [],
   "source": [
    "def test_length(pred_res, gold_std, gold_full, test, test_type):\n",
    "    \"\"\"Apply the Student's t-test to see if the category an\n",
    "    abstract relation falls into is determined by the length\n",
    "    of the abstract or the number of sentences.\n",
    "    \"\"\"\n",
    "    assert test in [\"length\", \"sentences\"]\n",
    "    \n",
    "    res = dict()    \n",
    "    for e_type, sub in category_splitter(pred_res, gold_std, \" and rel_origin == 'abs'\"):\n",
    "        papers = list(sub[\"pmid\"])\n",
    "        if test == \"length\":\n",
    "            res[e_type] = pd.Series([\n",
    "                len(gold_full[pmid].title) + len(gold_full[pmid].abstract) + 1\n",
    "                for pmid in papers\n",
    "            ])\n",
    "        elif test == \"sentences\":\n",
    "            res[e_type] = pd.Series([\n",
    "                len(gold_full[pmid].sentences) for pmid in papers\n",
    "            ])\n",
    "        \n",
    "    two_samp_test(res, test_type)"
   ]
  },
  {
   "cell_type": "code",
   "execution_count": 70,
   "metadata": {
    "collapsed": false,
    "scrolled": true
   },
   "outputs": [
    {
     "name": "stdout",
     "output_type": "stream",
     "text": [
      "t.test between TP and FP\n",
      "\n",
      "\tWelch Two Sample t-test\n",
      "\n",
      "data:  0\n",
      "t = 1.4014, df = 159.92, p-value = 0.163\n",
      "alternative hypothesis: true difference in means is not equal to 0\n",
      "95 percent confidence interval:\n",
      " -41.2189 242.6632\n",
      "sample estimates:\n",
      "mean of x mean of y \n",
      " 1364.662  1263.940 \n",
      "\n",
      "\n",
      "-----------------------------\n",
      "t.test between TP and FN\n",
      "\n",
      "\tWelch Two Sample t-test\n",
      "\n",
      "data:  0\n",
      "t = -1.9551, df = 129.78, p-value = 0.05272\n",
      "alternative hypothesis: true difference in means is not equal to 0\n",
      "95 percent confidence interval:\n",
      " -328.40695    1.94666\n",
      "sample estimates:\n",
      "mean of x mean of y \n",
      " 1364.662  1527.892 \n",
      "\n",
      "\n",
      "-----------------------------\n",
      "t.test between FP and FN\n",
      "\n",
      "\tWelch Two Sample t-test\n",
      "\n",
      "data:  0\n",
      "t = -3.3129, df = 129.25, p-value = 0.001198\n",
      "alternative hypothesis: true difference in means is not equal to 0\n",
      "95 percent confidence interval:\n",
      " -421.5881 -106.3165\n",
      "sample estimates:\n",
      "mean of x mean of y \n",
      " 1263.940  1527.892 \n",
      "\n",
      "\n",
      "-----------------------------\n"
     ]
    }
   ],
   "source": [
    "test_length(crowd_no_ner.query(\"num_votes >= 4\"), crowd_good_gold, eval_gold, \"length\", \"t.test\")"
   ]
  },
  {
   "cell_type": "code",
   "execution_count": 71,
   "metadata": {
    "collapsed": false,
    "scrolled": true
   },
   "outputs": [
    {
     "name": "stdout",
     "output_type": "stream",
     "text": [
      "wilcox.test between TP and FP\n",
      "\n",
      "\tWilcoxon rank sum test with continuity correction\n",
      "\n",
      "data:  0\n",
      "W = 4182, p-value = 0.1425\n",
      "alternative hypothesis: true location shift is not equal to 0\n",
      "\n",
      "\n",
      "-----------------------------\n",
      "wilcox.test between TP and FN\n",
      "\n",
      "\tWilcoxon rank sum test with continuity correction\n",
      "\n",
      "data:  0\n",
      "W = 2004.5, p-value = 0.09099\n",
      "alternative hypothesis: true location shift is not equal to 0\n",
      "\n",
      "\n",
      "-----------------------------\n",
      "wilcox.test between FP and FN\n",
      "\n",
      "\tWilcoxon rank sum test with continuity correction\n",
      "\n",
      "data:  0\n",
      "W = 2300.5, p-value = 0.001543\n",
      "alternative hypothesis: true location shift is not equal to 0\n",
      "\n",
      "\n",
      "-----------------------------\n"
     ]
    }
   ],
   "source": [
    "test_length(crowd_no_ner.query(\"num_votes >= 4\"), crowd_good_gold, eval_gold, \"length\", \"wilcox.test\")"
   ]
  },
  {
   "cell_type": "code",
   "execution_count": 72,
   "metadata": {
    "collapsed": false,
    "scrolled": true
   },
   "outputs": [
    {
     "name": "stdout",
     "output_type": "stream",
     "text": [
      "t.test between TP and FP\n",
      "\n",
      "\tWelch Two Sample t-test\n",
      "\n",
      "data:  0\n",
      "t = 0.75537, df = 165.67, p-value = 0.4511\n",
      "alternative hypothesis: true difference in means is not equal to 0\n",
      "95 percent confidence interval:\n",
      " -0.6210935  1.3908233\n",
      "sample estimates:\n",
      "mean of x mean of y \n",
      " 9.864865  9.480000 \n",
      "\n",
      "\n",
      "-----------------------------\n",
      "t.test between TP and FN\n",
      "\n",
      "\tWelch Two Sample t-test\n",
      "\n",
      "data:  0\n",
      "t = -1.8031, df = 122.4, p-value = 0.07384\n",
      "alternative hypothesis: true difference in means is not equal to 0\n",
      "95 percent confidence interval:\n",
      " -2.3168117  0.1080799\n",
      "sample estimates:\n",
      "mean of x mean of y \n",
      " 9.864865 10.969231 \n",
      "\n",
      "\n",
      "-----------------------------\n",
      "t.test between FP and FN\n",
      "\n",
      "\tWelch Two Sample t-test\n",
      "\n",
      "data:  0\n",
      "t = -2.4676, df = 125.71, p-value = 0.01495\n",
      "alternative hypothesis: true difference in means is not equal to 0\n",
      "95 percent confidence interval:\n",
      " -2.6835931 -0.2948684\n",
      "sample estimates:\n",
      "mean of x mean of y \n",
      "  9.48000  10.96923 \n",
      "\n",
      "\n",
      "-----------------------------\n"
     ]
    }
   ],
   "source": [
    "test_length(crowd_no_ner.query(\"num_votes >= 4\"), crowd_good_gold, eval_gold, \"sentences\", \"t.test\")"
   ]
  },
  {
   "cell_type": "code",
   "execution_count": 73,
   "metadata": {
    "collapsed": false,
    "scrolled": true
   },
   "outputs": [
    {
     "name": "stdout",
     "output_type": "stream",
     "text": [
      "t.test between TP and FP\n",
      "\n",
      "\tWelch Two Sample t-test\n",
      "\n",
      "data:  0\n",
      "t = -1.3116, df = 80.476, p-value = 0.1934\n",
      "alternative hypothesis: true difference in means is not equal to 0\n",
      "95 percent confidence interval:\n",
      " -275.64730   56.63352\n",
      "sample estimates:\n",
      "mean of x mean of y \n",
      " 1447.822  1557.329 \n",
      "\n",
      "\n",
      "-----------------------------\n",
      "t.test between TP and FN\n",
      "\n",
      "\tWelch Two Sample t-test\n",
      "\n",
      "data:  0\n",
      "t = -0.23017, df = 104.82, p-value = 0.8184\n",
      "alternative hypothesis: true difference in means is not equal to 0\n",
      "95 percent confidence interval:\n",
      " -204.0291  161.5875\n",
      "sample estimates:\n",
      "mean of x mean of y \n",
      " 1447.822  1469.043 \n",
      "\n",
      "\n",
      "-----------------------------\n",
      "t.test between FP and FN\n",
      "\n",
      "\tWelch Two Sample t-test\n",
      "\n",
      "data:  0\n",
      "t = 1.1763, df = 164.1, p-value = 0.2412\n",
      "alternative hypothesis: true difference in means is not equal to 0\n",
      "95 percent confidence interval:\n",
      " -59.91545 236.48766\n",
      "sample estimates:\n",
      "mean of x mean of y \n",
      " 1557.329  1469.043 \n",
      "\n",
      "\n",
      "-----------------------------\n"
     ]
    }
   ],
   "source": [
    "test_length(befree_no_ner, befree_good_gold, eval_gold, \"length\", \"t.test\")"
   ]
  },
  {
   "cell_type": "markdown",
   "metadata": {},
   "source": [
    "#### Crowd:\n",
    "\n",
    "**Hypothesis**: Workers are more likely to have difficulty with long abstracts due to the amount of reading and long-distance word dependencies.\n",
    "\n",
    "Based on the t-test results, it seems that there is no difference in length between the true positives and false positives or false negatives. However, there does seem to be a difference in length between the false positives and the false negatives. The false positives were significantly more likely to arise from abstracts which were shorter in length, while the false negatives were more likely to be in longer abstracts.\n",
    "\n",
    "We see no such evidence of such a dependency in both of the machine learning approaches. Length of the abstract has no bearing on what kind of category the relation will fall into.\n",
    "\n",
    "Number of sentences has no effect either.\n",
    "\n",
    "I think that the last result supports the hypothesis that workers are more likely to miss relations in longer abstracts due to more reading and long scale word dependency."
   ]
  },
  {
   "cell_type": "markdown",
   "metadata": {},
   "source": [
    "---"
   ]
  },
  {
   "cell_type": "markdown",
   "metadata": {},
   "source": [
    "### Parallelism test\n",
    "\n",
    "**Hypothesis**: false positives are likely to show up in sentences containing other true positives.\n",
    "\n",
    "Example: in PMID 3289726, the gold has three relations, between etoposide (D005047) and three diseases: confusion (D003221), seizure (D012640), and papilledema (D010211). The abstract states: \"Significant clinical manifestations have included confusion, papilledema, somnolence, exacerbation of motor deficits, and sharp increase in seizure activity.\"\n",
    "\n",
    "Therefore all of the mentioned diseases are related to etoposide. There should in reality be 5 relations in the gold, but one is not possible (motor deficits) because there is no corresponding MeSH term, and the other seems to be a missing relation (a mistake) in the gold standard. However, the missing relation was stated as true with high confidence by our crowd, so we can use this as a filter to find false positives by the crowd which are likely to be true."
   ]
  },
  {
   "cell_type": "code",
   "execution_count": 74,
   "metadata": {
    "collapsed": false
   },
   "outputs": [],
   "source": [
    "def get_concepts(stype, sentence):\n",
    "    res = set()\n",
    "    for annot in sentence.annotations:\n",
    "        if annot.stype == stype:\n",
    "            res |= annot.uid\n",
    "        \n",
    "    return res\n",
    "\n",
    "def count_parallel(pmid, chem, dise):\n",
    "    \"\"\"For a given relation, look at the sentence that the\n",
    "    disease is in and look for true relations using the\n",
    "    chemical and another disease in the same sentence.\n",
    "    \n",
    "    Usually there is parallelism and the list of diseases\n",
    "    in the sentence will all be true (as a list of symptoms\n",
    "    for that chemical etc.)\n",
    "    \n",
    "    Example: PMID 3289726, where one sentence contains all the\n",
    "    true relations.\n",
    "    \"\"\"\n",
    "    paper = eval_gold[pmid]\n",
    "    \n",
    "    # find the sentences containing the disease id\n",
    "    chem_id = Ontology_ID(chem)\n",
    "    dise_id = Ontology_ID(dise)   \n",
    "    \n",
    "    res = 0\n",
    "    for sentence in paper.sentences:\n",
    "        concepts = get_concepts(\"disease\", sentence)\n",
    "\n",
    "        if dise_id in concepts:\n",
    "            other = concepts - set([dise_id])\n",
    "            \n",
    "            poss = [Relation(pmid, frozenset([chem_id]),\n",
    "                frozenset([concept])) for concept in other]\n",
    "            \n",
    "            ans = [int(paper.has_relation(val)) for val in poss]\n",
    "            res += sum(ans)\n",
    "            \n",
    "    return res       "
   ]
  },
  {
   "cell_type": "code",
   "execution_count": 75,
   "metadata": {
    "collapsed": true
   },
   "outputs": [],
   "source": [
    "def test_parallel(pred_res, gold_std, gold_full, test_type):\n",
    "    \"\"\"Determine whether the category of a relation is independent\n",
    "    of the number of other parallel relations in the same sentence.\n",
    "    \"\"\"\n",
    "    res = dict()\n",
    "    for e_type, sub in category_splitter(pred_res, gold_std, \" and rel_origin == 'abs'\"):\n",
    "        res[e_type] = pd.Series(sub[TRIPLE].apply(\n",
    "            lambda r: count_parallel(r[\"pmid\"], r[\"chemical_id\"], r[\"disease_id\"]),\n",
    "            axis = 1\n",
    "        ))\n",
    "        \n",
    "    two_samp_test(res, test_type)        \n",
    "    return res"
   ]
  },
  {
   "cell_type": "code",
   "execution_count": 76,
   "metadata": {
    "collapsed": false,
    "scrolled": true
   },
   "outputs": [
    {
     "name": "stdout",
     "output_type": "stream",
     "text": [
      "t.test between TP and FP\n",
      "\n",
      "\tWelch Two Sample t-test\n",
      "\n",
      "data:  0\n",
      "t = 5.3173, df = 138.49, p-value = 4.119e-07\n",
      "alternative hypothesis: true difference in means is not equal to 0\n",
      "95 percent confidence interval:\n",
      " 0.7783989 1.6999795\n",
      "sample estimates:\n",
      "mean of x mean of y \n",
      " 1.689189  0.450000 \n",
      "\n",
      "\n",
      "-----------------------------\n",
      "t.test between TP and FN\n",
      "\n",
      "\tWelch Two Sample t-test\n",
      "\n",
      "data:  0\n",
      "t = -0.34741, df = 121.76, p-value = 0.7289\n",
      "alternative hypothesis: true difference in means is not equal to 0\n",
      "95 percent confidence interval:\n",
      " -0.7422382  0.5206165\n",
      "sample estimates:\n",
      "mean of x mean of y \n",
      " 1.689189  1.800000 \n",
      "\n",
      "\n",
      "-----------------------------\n",
      "t.test between FP and FN\n",
      "\n",
      "\tWelch Two Sample t-test\n",
      "\n",
      "data:  0\n",
      "t = -4.6709, df = 99.281, p-value = 9.427e-06\n",
      "alternative hypothesis: true difference in means is not equal to 0\n",
      "95 percent confidence interval:\n",
      " -1.9234712 -0.7765288\n",
      "sample estimates:\n",
      "mean of x mean of y \n",
      "     0.45      1.80 \n",
      "\n",
      "\n",
      "-----------------------------\n"
     ]
    }
   ],
   "source": [
    "res = test_parallel(crowd_no_ner.query(\"num_votes >= 4\"), crowd_good_gold, eval_gold, \"t.test\")"
   ]
  },
  {
   "cell_type": "code",
   "execution_count": 77,
   "metadata": {
    "collapsed": false,
    "scrolled": true
   },
   "outputs": [
    {
     "name": "stdout",
     "output_type": "stream",
     "text": [
      "wilcox.test between TP and FP\n",
      "\n",
      "\tWilcoxon rank sum test with continuity correction\n",
      "\n",
      "data:  0\n",
      "W = 5771, p-value = 1.196e-12\n",
      "alternative hypothesis: true location shift is not equal to 0\n",
      "\n",
      "\n",
      "-----------------------------\n",
      "wilcox.test between TP and FN\n",
      "\n",
      "\tWilcoxon rank sum test with continuity correction\n",
      "\n",
      "data:  0\n",
      "W = 2534, p-value = 0.5759\n",
      "alternative hypothesis: true location shift is not equal to 0\n",
      "\n",
      "\n",
      "-----------------------------\n",
      "wilcox.test between FP and FN\n",
      "\n",
      "\tWilcoxon rank sum test with continuity correction\n",
      "\n",
      "data:  0\n",
      "W = 1923.5, p-value = 9.321e-08\n",
      "alternative hypothesis: true location shift is not equal to 0\n",
      "\n",
      "\n",
      "-----------------------------\n"
     ]
    }
   ],
   "source": [
    "res = test_parallel(crowd_no_ner.query(\"num_votes >= 4\"), crowd_good_gold, eval_gold, \"wilcox.test\")"
   ]
  },
  {
   "cell_type": "code",
   "execution_count": 78,
   "metadata": {
    "collapsed": false
   },
   "outputs": [
    {
     "data": {
      "text/plain": [
       "2    21\n",
       "0    20\n",
       "1    18\n",
       "3     6\n",
       "6     4\n",
       "5     3\n",
       "4     2\n",
       "dtype: int64"
      ]
     },
     "execution_count": 78,
     "metadata": {},
     "output_type": "execute_result"
    }
   ],
   "source": [
    "res[\"TP\"].value_counts()"
   ]
  },
  {
   "cell_type": "code",
   "execution_count": 79,
   "metadata": {
    "collapsed": false
   },
   "outputs": [
    {
     "data": {
      "text/plain": [
       "0    83\n",
       "1     8\n",
       "3     4\n",
       "7     3\n",
       "2     2\n",
       "dtype: int64"
      ]
     },
     "execution_count": 79,
     "metadata": {},
     "output_type": "execute_result"
    }
   ],
   "source": [
    "res[\"FP\"].value_counts()"
   ]
  },
  {
   "cell_type": "code",
   "execution_count": 80,
   "metadata": {
    "collapsed": false
   },
   "outputs": [
    {
     "data": {
      "text/plain": [
       "0    29\n",
       "4    10\n",
       "1     8\n",
       "2     7\n",
       "5     5\n",
       "6     4\n",
       "3     2\n",
       "dtype: int64"
      ]
     },
     "execution_count": 80,
     "metadata": {},
     "output_type": "execute_result"
    }
   ],
   "source": [
    "res[\"FN\"].value_counts()"
   ]
  },
  {
   "cell_type": "code",
   "execution_count": 81,
   "metadata": {
    "collapsed": false
   },
   "outputs": [],
   "source": [
    "fps = crowd_summary.query(\"~in_gold and in_predict and rel_origin == 'abs'\")\n",
    "\n",
    "fps.loc[:, \"link\"] = fps.loc[:, \"unit_ids\"].map(lambda v: \"https://crowdflower.com/jobs/767273/units/{}\".format(v))\n",
    "\n",
    "fps.loc[:, \"parallel\"] = fps.loc[:, TRIPLE].apply(\n",
    "    lambda r: count_parallel(r[\"pmid\"], r[\"chemical_id\"], r[\"disease_id\"]),\n",
    "    axis = 1\n",
    ")"
   ]
  },
  {
   "cell_type": "code",
   "execution_count": 82,
   "metadata": {
    "collapsed": false
   },
   "outputs": [
    {
     "data": {
      "text/html": [
       "<div>\n",
       "<table border=\"1\" class=\"dataframe\">\n",
       "  <thead>\n",
       "    <tr style=\"text-align: right;\">\n",
       "      <th></th>\n",
       "      <th>chemical_id</th>\n",
       "      <th>disease_id</th>\n",
       "      <th>in_gold</th>\n",
       "      <th>in_predict</th>\n",
       "      <th>num_votes</th>\n",
       "      <th>pmid</th>\n",
       "      <th>rel_origin</th>\n",
       "      <th>unit_ids</th>\n",
       "      <th>link</th>\n",
       "      <th>parallel</th>\n",
       "    </tr>\n",
       "  </thead>\n",
       "  <tbody>\n",
       "    <tr>\n",
       "      <th>318</th>\n",
       "      <td>MESH:D016190</td>\n",
       "      <td>MESH:D060831</td>\n",
       "      <td>False</td>\n",
       "      <td>True</td>\n",
       "      <td>4</td>\n",
       "      <td>11745287</td>\n",
       "      <td>abs</td>\n",
       "      <td>773937706</td>\n",
       "      <td>https://crowdflower.com/jobs/767273/units/773937706</td>\n",
       "      <td>7</td>\n",
       "    </tr>\n",
       "    <tr>\n",
       "      <th>320</th>\n",
       "      <td>MESH:D004317</td>\n",
       "      <td>MESH:D013280</td>\n",
       "      <td>False</td>\n",
       "      <td>True</td>\n",
       "      <td>5</td>\n",
       "      <td>11745287</td>\n",
       "      <td>abs</td>\n",
       "      <td>773937712</td>\n",
       "      <td>https://crowdflower.com/jobs/767273/units/773937712</td>\n",
       "      <td>7</td>\n",
       "    </tr>\n",
       "    <tr>\n",
       "      <th>321</th>\n",
       "      <td>MESH:D004317</td>\n",
       "      <td>MESH:D060831</td>\n",
       "      <td>False</td>\n",
       "      <td>True</td>\n",
       "      <td>5</td>\n",
       "      <td>11745287</td>\n",
       "      <td>abs</td>\n",
       "      <td>773937713</td>\n",
       "      <td>https://crowdflower.com/jobs/767273/units/773937713</td>\n",
       "      <td>7</td>\n",
       "    </tr>\n",
       "    <tr>\n",
       "      <th>64</th>\n",
       "      <td>MESH:D003613</td>\n",
       "      <td>MESH:D063806</td>\n",
       "      <td>False</td>\n",
       "      <td>True</td>\n",
       "      <td>5</td>\n",
       "      <td>2358093</td>\n",
       "      <td>abs</td>\n",
       "      <td>773936830</td>\n",
       "      <td>https://crowdflower.com/jobs/767273/units/773936830</td>\n",
       "      <td>3</td>\n",
       "    </tr>\n",
       "    <tr>\n",
       "      <th>108</th>\n",
       "      <td>MESH:D005047</td>\n",
       "      <td>MESH:D006970</td>\n",
       "      <td>False</td>\n",
       "      <td>True</td>\n",
       "      <td>5</td>\n",
       "      <td>3289726</td>\n",
       "      <td>abs</td>\n",
       "      <td>773936980</td>\n",
       "      <td>https://crowdflower.com/jobs/767273/units/773936980</td>\n",
       "      <td>3</td>\n",
       "    </tr>\n",
       "    <tr>\n",
       "      <th>439</th>\n",
       "      <td>MESH:D002231</td>\n",
       "      <td>MESH:D005076</td>\n",
       "      <td>False</td>\n",
       "      <td>True</td>\n",
       "      <td>4</td>\n",
       "      <td>19263707</td>\n",
       "      <td>abs</td>\n",
       "      <td>773938382</td>\n",
       "      <td>https://crowdflower.com/jobs/767273/units/773938382</td>\n",
       "      <td>3</td>\n",
       "    </tr>\n",
       "    <tr>\n",
       "      <th>546</th>\n",
       "      <td>MESH:D014635</td>\n",
       "      <td>MESH:D001523</td>\n",
       "      <td>False</td>\n",
       "      <td>True</td>\n",
       "      <td>4</td>\n",
       "      <td>24614773</td>\n",
       "      <td>abs</td>\n",
       "      <td>773936176</td>\n",
       "      <td>https://crowdflower.com/jobs/767273/units/773936176</td>\n",
       "      <td>3</td>\n",
       "    </tr>\n",
       "  </tbody>\n",
       "</table>\n",
       "</div>"
      ],
      "text/plain": [
       "      chemical_id    disease_id in_gold in_predict  num_votes      pmid  \\\n",
       "318  MESH:D016190  MESH:D060831   False       True          4  11745287   \n",
       "320  MESH:D004317  MESH:D013280   False       True          5  11745287   \n",
       "321  MESH:D004317  MESH:D060831   False       True          5  11745287   \n",
       "64   MESH:D003613  MESH:D063806   False       True          5   2358093   \n",
       "108  MESH:D005047  MESH:D006970   False       True          5   3289726   \n",
       "439  MESH:D002231  MESH:D005076   False       True          4  19263707   \n",
       "546  MESH:D014635  MESH:D001523   False       True          4  24614773   \n",
       "\n",
       "    rel_origin   unit_ids  \\\n",
       "318        abs  773937706   \n",
       "320        abs  773937712   \n",
       "321        abs  773937713   \n",
       "64         abs  773936830   \n",
       "108        abs  773936980   \n",
       "439        abs  773938382   \n",
       "546        abs  773936176   \n",
       "\n",
       "                                                    link  parallel  \n",
       "318  https://crowdflower.com/jobs/767273/units/773937706         7  \n",
       "320  https://crowdflower.com/jobs/767273/units/773937712         7  \n",
       "321  https://crowdflower.com/jobs/767273/units/773937713         7  \n",
       "64   https://crowdflower.com/jobs/767273/units/773936830         3  \n",
       "108  https://crowdflower.com/jobs/767273/units/773936980         3  \n",
       "439  https://crowdflower.com/jobs/767273/units/773938382         3  \n",
       "546  https://crowdflower.com/jobs/767273/units/773936176         3  "
      ]
     },
     "execution_count": 82,
     "metadata": {},
     "output_type": "execute_result"
    }
   ],
   "source": [
    "fps.query(\"parallel > 2\").sort(\"parallel\", ascending = False)"
   ]
  },
  {
   "cell_type": "code",
   "execution_count": 83,
   "metadata": {
    "collapsed": false
   },
   "outputs": [
    {
     "name": "stdout",
     "output_type": "stream",
     "text": [
      "      chemical_id    disease_id in_gold in_predict  num_votes      pmid  \\\n",
      "318  MESH:D016190  MESH:D060831   False       True          4  11745287   \n",
      "320  MESH:D004317  MESH:D013280   False       True          5  11745287   \n",
      "321  MESH:D004317  MESH:D060831   False       True          5  11745287   \n",
      "64   MESH:D003613  MESH:D063806   False       True          5   2358093   \n",
      "108  MESH:D005047  MESH:D006970   False       True          5   3289726   \n",
      "439  MESH:D002231  MESH:D005076   False       True          4  19263707   \n",
      "546  MESH:D014635  MESH:D001523   False       True          4  24614773   \n",
      "\n",
      "    rel_origin   unit_ids  \\\n",
      "318        abs  773937706   \n",
      "320        abs  773937712   \n",
      "321        abs  773937713   \n",
      "64         abs  773936830   \n",
      "108        abs  773936980   \n",
      "439        abs  773938382   \n",
      "546        abs  773936176   \n",
      "\n",
      "                                                    link  parallel  \n",
      "318  https://crowdflower.com/jobs/767273/units/773937706         7  \n",
      "320  https://crowdflower.com/jobs/767273/units/773937712         7  \n",
      "321  https://crowdflower.com/jobs/767273/units/773937713         7  \n",
      "64   https://crowdflower.com/jobs/767273/units/773936830         3  \n",
      "108  https://crowdflower.com/jobs/767273/units/773936980         3  \n",
      "439  https://crowdflower.com/jobs/767273/units/773938382         3  \n",
      "546  https://crowdflower.com/jobs/767273/units/773936176         3  \n"
     ]
    }
   ],
   "source": [
    "print(fps.query(\"parallel > 2\").sort(\"parallel\", ascending = False))"
   ]
  },
  {
   "cell_type": "markdown",
   "metadata": {
    "collapsed": true
   },
   "source": [
    "Based on the data, we see that the true positive abstract-scope relations usually use diseases which occur in sentences with other diseases which also are related to the current chemical (mean 1.7 other instances). However, with the false positives, this is no longer true (mean 0.45). Based on these data, we propose using the number of parallel relations as a filter for determining errors in the gold standard. As in, relations which were left out in the gold standard, but should really be true because they are in sentences where the other relations were all related to the same chemical. We posit that these relations were missed due to human error. The list is given in the cell above."
   ]
  },
  {
   "cell_type": "markdown",
   "metadata": {},
   "source": [
    "---"
   ]
  },
  {
   "cell_type": "markdown",
   "metadata": {},
   "source": [
    "### Sentence-bound relations\n",
    "\n",
    "**Hypothesis**: for sentence-bound relations, the crowd performs better when the amount of context increases, that is, the number of tasks (sentences) that the two concepts cooccur in increases. If there is too little context, i.e. only one task (sentence) for a single relation, then we would expect the workers to do poorly because the sentence is taken out of context. In contrast, if there were multiple tasks, then we expect that it is more likely that one of the sentences will have captured the true relationship between the concepts, and therefore giving a higher probability that the crowd will identify the true relation.\n",
    "\n",
    "Therefore we expect that the category of a relation (TP, FP, FN) will not be independent of the number of sentences."
   ]
  },
  {
   "cell_type": "code",
   "execution_count": 84,
   "metadata": {
    "collapsed": true
   },
   "outputs": [],
   "source": [
    "def test_freq(summary, test_type):\n",
    "    error_type = [\"TP\", \"FP\", \"FN\"]\n",
    "    vals = [(True, True), (False, True), (True, False)] # gold, predict\n",
    "    \n",
    "    res = dict()\n",
    "    for etype, val in zip(error_type, vals):\n",
    "        sub = summary.query(\"in_gold == {} and in_predict == {} and rel_origin == 'sent'\".format(\n",
    "            val[0], val[1])\n",
    "        ).dropna() # CID relations are filtered out!\n",
    "        \n",
    "        print(etype, len(sub))\n",
    "        \n",
    "        res[etype] = pd.Series(sub[\"unit_ids\"].map(lambda v: len(v.split(\"|\"))))\n",
    "\n",
    "    two_samp_test(res, test_type)"
   ]
  },
  {
   "cell_type": "code",
   "execution_count": 85,
   "metadata": {
    "collapsed": false,
    "scrolled": true
   },
   "outputs": [
    {
     "name": "stdout",
     "output_type": "stream",
     "text": [
      "TP 188\n",
      "FP 156\n",
      "FN 55\n",
      "t.test between TP and FP\n",
      "\n",
      "\tWelch Two Sample t-test\n",
      "\n",
      "data:  0\n",
      "t = 3.3959, df = 340.99, p-value = 0.0007648\n",
      "alternative hypothesis: true difference in means is not equal to 0\n",
      "95 percent confidence interval:\n",
      " 0.1562751 0.5864964\n",
      "sample estimates:\n",
      "mean of x mean of y \n",
      " 1.845745  1.474359 \n",
      "\n",
      "\n",
      "-----------------------------\n",
      "t.test between TP and FN\n",
      "\n",
      "\tWelch Two Sample t-test\n",
      "\n",
      "data:  0\n",
      "t = 3.8217, df = 121.59, p-value = 0.0002104\n",
      "alternative hypothesis: true difference in means is not equal to 0\n",
      "95 percent confidence interval:\n",
      " 0.2411333 0.7594470\n",
      "sample estimates:\n",
      "mean of x mean of y \n",
      " 1.845745  1.345455 \n",
      "\n",
      "\n",
      "-----------------------------\n",
      "t.test between FP and FN\n",
      "\n",
      "\tWelch Two Sample t-test\n",
      "\n",
      "data:  0\n",
      "t = 0.99852, df = 114.69, p-value = 0.3201\n",
      "alternative hypothesis: true difference in means is not equal to 0\n",
      "95 percent confidence interval:\n",
      " -0.1268162  0.3846251\n",
      "sample estimates:\n",
      "mean of x mean of y \n",
      " 1.474359  1.345455 \n",
      "\n",
      "\n",
      "-----------------------------\n"
     ]
    }
   ],
   "source": [
    "test_freq(crowd_summary, \"t.test\")"
   ]
  },
  {
   "cell_type": "code",
   "execution_count": 86,
   "metadata": {
    "collapsed": false,
    "scrolled": true
   },
   "outputs": [
    {
     "name": "stdout",
     "output_type": "stream",
     "text": [
      "TP 188\n",
      "FP 156\n",
      "FN 55\n",
      "wilcox.test between TP and FP\n",
      "\n",
      "\tWilcoxon rank sum test with continuity correction\n",
      "\n",
      "data:  0\n",
      "W = 17874, p-value = 7.472e-05\n",
      "alternative hypothesis: true location shift is not equal to 0\n",
      "\n",
      "\n",
      "-----------------------------\n",
      "wilcox.test between TP and FN\n",
      "\n",
      "\tWilcoxon rank sum test with continuity correction\n",
      "\n",
      "data:  0\n",
      "W = 6680.5, p-value = 0.0002358\n",
      "alternative hypothesis: true location shift is not equal to 0\n",
      "\n",
      "\n",
      "-----------------------------\n",
      "wilcox.test between FP and FN\n",
      "\n",
      "\tWilcoxon rank sum test with continuity correction\n",
      "\n",
      "data:  0\n",
      "W = 4670.5, p-value = 0.2124\n",
      "alternative hypothesis: true location shift is not equal to 0\n",
      "\n",
      "\n",
      "-----------------------------\n"
     ]
    }
   ],
   "source": [
    "test_freq(crowd_summary, \"wilcox.test\")"
   ]
  },
  {
   "cell_type": "markdown",
   "metadata": {},
   "source": [
    "Based on the two sample t-test, it seems that there are significant differences in the number of sentence tasks between the true positives and both false positives and false negatives. There are no differences between the false positive and false negatives. From this I conclude that the null hypothesis is false, and that sentence-scoped relations with greater numbers of tasks are more likely to be classified by the crowd as true positives instead of as either type of error.\n",
    "\n",
    "Therefore it does seem that a lack of context is affecting crowd performance. When there are more sentences containing the relation pair, it is more likely to be classified properly."
   ]
  },
  {
   "cell_type": "markdown",
   "metadata": {},
   "source": [
    "---"
   ]
  },
  {
   "cell_type": "markdown",
   "metadata": {},
   "source": [
    "### Title sentences\n",
    "\n",
    "**Hypothesis**: titles are confusing sentences which are more likely to state a tested hypothesis rather than the results of testing that hypothesis. Therefore we hypothesize that the errors are more likely to contain titles than the true positives."
   ]
  },
  {
   "cell_type": "code",
   "execution_count": 87,
   "metadata": {
    "collapsed": true
   },
   "outputs": [],
   "source": [
    "def ttest_title(summary):\n",
    "    temp = pd.merge(summary, sent_res[TRIPLE + [\"sentence_ids\"]], how = \"left\", on = TRIPLE)\n",
    "    \n",
    "    error_type = [\"TP\", \"FP\", \"FN\"]\n",
    "    vals = [(True, True), (False, True), (True, False)] # gold, predict\n",
    "    \n",
    "    chisqtest = robjects.r[\"chisq.test\"]\n",
    "    \n",
    "    res = dict()\n",
    "    for etype, val in zip(error_type, vals):\n",
    "        sub = temp.query(\"in_gold == {} and in_predict == {} and rel_origin == 'sent'\".format(\n",
    "            val[0], val[1])\n",
    "        ).dropna()\n",
    "\n",
    "        sub.loc[:, \"title\"] = sub.loc[:, \"sentence_ids\"].map(\n",
    "            lambda v:\n",
    "                sum(int(val == \"0\") for val in map(lambda f: f.split(\"_\")[1], v.split(\"|\")))\n",
    "        )\n",
    "        \n",
    "        res[etype] = sub[\"title\"].value_counts()[[0, 1]]\n",
    "\n",
    "    res = pd.DataFrame(res)\n",
    "    \n",
    "    print(chisqtest(res))\n",
    "    return res"
   ]
  },
  {
   "cell_type": "code",
   "execution_count": 88,
   "metadata": {
    "collapsed": false
   },
   "outputs": [
    {
     "name": "stdout",
     "output_type": "stream",
     "text": [
      "\n",
      "\tPearson's Chi-squared test\n",
      "\n",
      "data:  structure(list(FN = structure(c(47L, 8L), .Dim = 2L), FP = structure(c(123L, 33L), .Dim = 2L), TP = structure(c(114L, 74L), .Dim = 2L)), .Names = c(\"FN\", \"FP\", \"TP\"), row.names = c(\"0\", \"1\"), class = \"data.frame\")\n",
      "X-squared = 20.116, df = 2, p-value = 4.285e-05\n",
      "\n",
      "\n"
     ]
    },
    {
     "data": {
      "text/html": [
       "<div>\n",
       "<table border=\"1\" class=\"dataframe\">\n",
       "  <thead>\n",
       "    <tr style=\"text-align: right;\">\n",
       "      <th></th>\n",
       "      <th>FN</th>\n",
       "      <th>FP</th>\n",
       "      <th>TP</th>\n",
       "    </tr>\n",
       "  </thead>\n",
       "  <tbody>\n",
       "    <tr>\n",
       "      <th>0</th>\n",
       "      <td>47</td>\n",
       "      <td>123</td>\n",
       "      <td>114</td>\n",
       "    </tr>\n",
       "    <tr>\n",
       "      <th>1</th>\n",
       "      <td>8</td>\n",
       "      <td>33</td>\n",
       "      <td>74</td>\n",
       "    </tr>\n",
       "  </tbody>\n",
       "</table>\n",
       "</div>"
      ],
      "text/plain": [
       "   FN   FP   TP\n",
       "0  47  123  114\n",
       "1   8   33   74"
      ]
     },
     "execution_count": 88,
     "metadata": {},
     "output_type": "execute_result"
    }
   ],
   "source": [
    "ttest_title(crowd_summary)"
   ]
  },
  {
   "cell_type": "markdown",
   "metadata": {},
   "source": [
    "We see a significant difference between the distributions, but it seems that this implies that the crowd does better on relations where they were showed the title as a sentence as well. However I think this really means that there were more tasks that the workers saw, which also makes it more likely that the tasks included the title as a sentence task."
   ]
  },
  {
   "cell_type": "code",
   "execution_count": 89,
   "metadata": {
    "collapsed": true
   },
   "outputs": [],
   "source": [
    "def ttest_title2(summary, test_type):\n",
    "    temp = pd.merge(summary, sent_res[TRIPLE + [\"sentence_ids\"]], how = \"left\", on = TRIPLE)\n",
    "    \n",
    "    error_type = [\"TP\", \"FP\", \"FN\"]\n",
    "    vals = [(True, True), (False, True), (True, False)] # gold, predict\n",
    "    \n",
    "    res = dict()\n",
    "    for etype, val in zip(error_type, vals):\n",
    "        sub = temp.query(\"in_gold == {} and in_predict == {} and rel_origin == 'sent'\".format(\n",
    "            val[0], val[1])\n",
    "        ).dropna()\n",
    "        \n",
    "        res[etype] = pd.Series(sub.loc[:, \"sentence_ids\"].map(\n",
    "            lambda v:\n",
    "                sum(map(lambda f: int(int(f.split(\"_\")[1]) != 0), v.split(\"|\"))) / len(v.split(\"|\"))\n",
    "        ))\n",
    "        \n",
    "    two_samp_test(res, test_type)"
   ]
  },
  {
   "cell_type": "code",
   "execution_count": 90,
   "metadata": {
    "collapsed": false,
    "scrolled": true
   },
   "outputs": [
    {
     "name": "stdout",
     "output_type": "stream",
     "text": [
      "t.test between TP and FP\n",
      "\n",
      "\tWelch Two Sample t-test\n",
      "\n",
      "data:  0\n",
      "t = -2.2956, df = 333.88, p-value = 0.02232\n",
      "alternative hypothesis: true difference in means is not equal to 0\n",
      "95 percent confidence interval:\n",
      " -0.122151721 -0.009413758\n",
      "sample estimates:\n",
      "mean of x mean of y \n",
      "0.8157801 0.8815629 \n",
      "\n",
      "\n",
      "-----------------------------\n",
      "t.test between TP and FN\n",
      "\n",
      "\tWelch Two Sample t-test\n",
      "\n",
      "data:  0\n",
      "t = -2.5979, df = 95.959, p-value = 0.01086\n",
      "alternative hypothesis: true difference in means is not equal to 0\n",
      "95 percent confidence interval:\n",
      " -0.1752987 -0.0234440\n",
      "sample estimates:\n",
      "mean of x mean of y \n",
      "0.8157801 0.9151515 \n",
      "\n",
      "\n",
      "-----------------------------\n",
      "t.test between FP and FN\n",
      "\n",
      "\tWelch Two Sample t-test\n",
      "\n",
      "data:  0\n",
      "t = -0.8633, df = 100.77, p-value = 0.39\n",
      "alternative hypothesis: true difference in means is not equal to 0\n",
      "95 percent confidence interval:\n",
      " -0.11077254  0.04359527\n",
      "sample estimates:\n",
      "mean of x mean of y \n",
      "0.8815629 0.9151515 \n",
      "\n",
      "\n",
      "-----------------------------\n"
     ]
    }
   ],
   "source": [
    "ttest_title2(crowd_summary, \"t.test\")"
   ]
  },
  {
   "cell_type": "markdown",
   "metadata": {},
   "source": [
    "These data tell us that the ratio of non-title sentences to total sentences is closer to 1 (only non-titles) in the false positives and false negatives compared to the true positives. This is the opposite of what we expect based on our original hypothesis that titles are confusing. I think that the titles are perhaps not as big of a deal as we thought, and that the more important factor is that fewer tasks = poorer performance, since there is a loss of context surrounding the sentence."
   ]
  },
  {
   "cell_type": "markdown",
   "metadata": {},
   "source": [
    "---"
   ]
  },
  {
   "cell_type": "markdown",
   "metadata": {},
   "source": [
    "## Manual error analysis"
   ]
  },
  {
   "cell_type": "code",
   "execution_count": 91,
   "metadata": {
    "collapsed": true
   },
   "outputs": [],
   "source": [
    "def format_links(df):\n",
    "    \"\"\"Format links to CrowdFlower tasks and Pubmed abstracts.\n",
    "    Expand when multiple tasks.\n",
    "    \"\"\"\n",
    "    assert \"rel_origin\" in df.columns\n",
    "    assert \"unit_ids\" in df.columns\n",
    "    \n",
    "    # split any multiplexed unit ids\n",
    "    df.loc[:, \"cf_link\"] = df.loc[:, \"unit_ids\"].map(lambda v: str(v).split(\"|\"))\n",
    "    \n",
    "    expanded = expand_df(\"cf_link\", df)\n",
    "    \n",
    "    job_id = {\n",
    "        \"abstract_task\": 767273,\n",
    "        \"sentence_task\": 767262,\n",
    "        \"abs\": 767273,\n",
    "        \"sent\": 767262,\n",
    "        \"cid_relation\": 767262\n",
    "    }\n",
    "    \n",
    "    # take the individual job ids and put them into the appropriate url\n",
    "    expanded.loc[:, \"cf_link\"] = expanded.loc[:, [\"rel_origin\", \"cf_link\"]].apply(\n",
    "        lambda v:\n",
    "            \"https://crowdflower.com/jobs/{}/units/{}\".format(\n",
    "                job_id[v[\"rel_origin\"]], v[\"cf_link\"]\n",
    "            ),\n",
    "        axis = 1\n",
    "    )\n",
    "    \n",
    "    # make a link to the pubmed page\n",
    "    expanded.loc[:, \"pubmed_link\"] = expanded.loc[:, \"pmid\"].map(\n",
    "        lambda v: \"http://ncbi.nlm.nih.gov/pubmed/?term={}\".format(int(v))\n",
    "    )\n",
    "    \n",
    "    return expanded"
   ]
  },
  {
   "cell_type": "code",
   "execution_count": 92,
   "metadata": {
    "collapsed": true
   },
   "outputs": [],
   "source": [
    "def manual_inspect(crowd_summary):\n",
    "    etypes = [\"TP\", \"FP\", \"FN\"]\n",
    "    ervals = [(True, True), (False, True), (True, False)]\n",
    "\n",
    "    res = []\n",
    "    for etype, vals in zip(etypes, ervals):\n",
    "        for origin in [\"sent\", \"abs\"]:\n",
    "            sub = crowd_summary.query(\"in_gold == {} and in_predict == {} and rel_origin == '{}'\".format(\n",
    "                vals[0], vals[1], origin)\n",
    "            ).dropna() # ignore cid relations\n",
    "\n",
    "            print(etype, origin)\n",
    "\n",
    "            samp = sub.sample(n = 15, random_state = RAND_KEY)\n",
    "            samp = format_links(samp)\n",
    "\n",
    "            samp.loc[:, \"etype\"] = etype\n",
    "\n",
    "            res.append(samp)\n",
    "\n",
    "    return pd.concat(res)"
   ]
  },
  {
   "cell_type": "code",
   "execution_count": 93,
   "metadata": {
    "collapsed": false,
    "scrolled": false
   },
   "outputs": [
    {
     "name": "stdout",
     "output_type": "stream",
     "text": [
      "TP sent\n",
      "TP abs\n",
      "FP sent\n",
      "FP abs\n",
      "FN sent\n",
      "FN abs\n"
     ]
    }
   ],
   "source": [
    "res = manual_inspect(crowd_summary)\n",
    "res[TRIPLE + [\"rel_origin\", \"num_votes\", \"pubmed_link\", \"cf_link\", \"etype\"]].to_excel(\"errors.xlsx\", index = False)"
   ]
  },
  {
   "cell_type": "markdown",
   "metadata": {},
   "source": [
    "---"
   ]
  },
  {
   "cell_type": "markdown",
   "metadata": {},
   "source": [
    "### Analysis of manual error sampling"
   ]
  },
  {
   "cell_type": "code",
   "execution_count": 94,
   "metadata": {
    "collapsed": false
   },
   "outputs": [],
   "source": [
    "loc = os.path.abspath(os.path.join(\"..\", \"data\", \"final_eval\",\n",
    "    \"analysis\", \"crowd_testset_perfect_ner_errors.xlsx\"))\n",
    "\n",
    "error_res = pd.read_excel(loc)\n",
    "\n",
    "# drop the crowdflower link column\n",
    "error_res = error_res.drop(\"link\", axis = 1)\n",
    "\n",
    "error_res = error_res.query(\"etype != 'TP'\")\n",
    "error_res = error_res.drop_duplicates()\n",
    "\n",
    "cols = [\"crowd_wrong\", \"task_limitation\", \"gold_rel_error\"]\n",
    "error_res.loc[:, cols] = error_res.loc[:, cols].astype(int)"
   ]
  },
  {
   "cell_type": "code",
   "execution_count": 95,
   "metadata": {
    "collapsed": false
   },
   "outputs": [
    {
     "data": {
      "text/html": [
       "<div>\n",
       "<table border=\"1\" class=\"dataframe\">\n",
       "  <thead>\n",
       "    <tr style=\"text-align: right;\">\n",
       "      <th></th>\n",
       "      <th>pmid</th>\n",
       "      <th>chemical_id</th>\n",
       "      <th>disease_id</th>\n",
       "      <th>rel_origin</th>\n",
       "      <th>num_votes</th>\n",
       "      <th>etype</th>\n",
       "      <th>crowd_wrong</th>\n",
       "      <th>task_limitation</th>\n",
       "      <th>gold_rel_error</th>\n",
       "      <th>error_reason</th>\n",
       "      <th>discussion</th>\n",
       "    </tr>\n",
       "  </thead>\n",
       "  <tbody>\n",
       "    <tr>\n",
       "      <th>44</th>\n",
       "      <td>448423</td>\n",
       "      <td>MESH:D000614</td>\n",
       "      <td>MESH:D013345</td>\n",
       "      <td>sent</td>\n",
       "      <td>4</td>\n",
       "      <td>FP</td>\n",
       "      <td>0</td>\n",
       "      <td>1</td>\n",
       "      <td>0</td>\n",
       "      <td>lack_of_context</td>\n",
       "      <td>Aminocaproic acid and epsilon aminocaproic acid are...</td>\n",
       "    </tr>\n",
       "    <tr>\n",
       "      <th>45</th>\n",
       "      <td>1735570</td>\n",
       "      <td>MESH:D014294</td>\n",
       "      <td>MESH:D001919</td>\n",
       "      <td>sent</td>\n",
       "      <td>4</td>\n",
       "      <td>FP</td>\n",
       "      <td>0</td>\n",
       "      <td>0</td>\n",
       "      <td>1</td>\n",
       "      <td>missing_relation</td>\n",
       "      <td>Trimethaphan caused different results depending on ...</td>\n",
       "    </tr>\n",
       "    <tr>\n",
       "      <th>46</th>\n",
       "      <td>2907577</td>\n",
       "      <td>MESH:D013806</td>\n",
       "      <td>MESH:D058186</td>\n",
       "      <td>sent</td>\n",
       "      <td>4</td>\n",
       "      <td>FP</td>\n",
       "      <td>1</td>\n",
       "      <td>0</td>\n",
       "      <td>0</td>\n",
       "      <td>lack_of_comprehension</td>\n",
       "      <td>This is both a failure of the crowd's comprehension...</td>\n",
       "    </tr>\n",
       "    <tr>\n",
       "      <th>47</th>\n",
       "      <td>3975902</td>\n",
       "      <td>MESH:D001464</td>\n",
       "      <td>MESH:D004342</td>\n",
       "      <td>sent</td>\n",
       "      <td>4</td>\n",
       "      <td>FP</td>\n",
       "      <td>1</td>\n",
       "      <td>0</td>\n",
       "      <td>0</td>\n",
       "      <td>lack_of_comprehension</td>\n",
       "      <td>Disagreement with the gold arises from whether “hyp...</td>\n",
       "    </tr>\n",
       "    <tr>\n",
       "      <th>49</th>\n",
       "      <td>3987172</td>\n",
       "      <td>MESH:D010665</td>\n",
       "      <td>MESH:D002543</td>\n",
       "      <td>sent</td>\n",
       "      <td>5</td>\n",
       "      <td>FP</td>\n",
       "      <td>0</td>\n",
       "      <td>0</td>\n",
       "      <td>1</td>\n",
       "      <td>missing_relation</td>\n",
       "      <td>Gold is missing relation.</td>\n",
       "    </tr>\n",
       "  </tbody>\n",
       "</table>\n",
       "</div>"
      ],
      "text/plain": [
       "       pmid   chemical_id    disease_id rel_origin  num_votes etype  \\\n",
       "44   448423  MESH:D000614  MESH:D013345       sent          4    FP   \n",
       "45  1735570  MESH:D014294  MESH:D001919       sent          4    FP   \n",
       "46  2907577  MESH:D013806  MESH:D058186       sent          4    FP   \n",
       "47  3975902  MESH:D001464  MESH:D004342       sent          4    FP   \n",
       "49  3987172  MESH:D010665  MESH:D002543       sent          5    FP   \n",
       "\n",
       "    crowd_wrong  task_limitation  gold_rel_error           error_reason  \\\n",
       "44            0                1               0        lack_of_context   \n",
       "45            0                0               1       missing_relation   \n",
       "46            1                0               0  lack_of_comprehension   \n",
       "47            1                0               0  lack_of_comprehension   \n",
       "49            0                0               1       missing_relation   \n",
       "\n",
       "                                                discussion  \n",
       "44  Aminocaproic acid and epsilon aminocaproic acid are...  \n",
       "45  Trimethaphan caused different results depending on ...  \n",
       "46  This is both a failure of the crowd's comprehension...  \n",
       "47  Disagreement with the gold arises from whether “hyp...  \n",
       "49                               Gold is missing relation.  "
      ]
     },
     "execution_count": 95,
     "metadata": {},
     "output_type": "execute_result"
    }
   ],
   "source": [
    "error_res.head()"
   ]
  },
  {
   "cell_type": "code",
   "execution_count": 96,
   "metadata": {
    "collapsed": false
   },
   "outputs": [
    {
     "data": {
      "text/plain": [
       "FN    8\n",
       "FP    1\n",
       "dtype: int64"
      ]
     },
     "execution_count": 96,
     "metadata": {},
     "output_type": "execute_result"
    }
   ],
   "source": [
    "error_res.query(\"error_reason == 'lack_of_context'\")[\"etype\"].value_counts()"
   ]
  },
  {
   "cell_type": "code",
   "execution_count": 97,
   "metadata": {
    "collapsed": true
   },
   "outputs": [],
   "source": [
    "lel = error_res.query(\"gold_rel_error == 1\")"
   ]
  },
  {
   "cell_type": "code",
   "execution_count": 98,
   "metadata": {
    "collapsed": false
   },
   "outputs": [
    {
     "data": {
      "text/plain": [
       "(23, 11)"
      ]
     },
     "execution_count": 98,
     "metadata": {},
     "output_type": "execute_result"
    }
   ],
   "source": [
    "lel.shape"
   ]
  },
  {
   "cell_type": "code",
   "execution_count": 99,
   "metadata": {
    "collapsed": false
   },
   "outputs": [
    {
     "data": {
      "text/plain": [
       "{('abs', 'FN'): [106, 108, 112],\n",
       " ('abs', 'FP'): [69, 70, 71, 72, 73, 74, 75, 76, 77, 81, 82],\n",
       " ('sent', 'FN'): [85, 103],\n",
       " ('sent', 'FP'): [45, 49, 52, 55, 56, 58, 66]}"
      ]
     },
     "execution_count": 99,
     "metadata": {},
     "output_type": "execute_result"
    }
   ],
   "source": [
    "lel.groupby([\"rel_origin\", \"etype\"]).groups"
   ]
  },
  {
   "cell_type": "code",
   "execution_count": 100,
   "metadata": {
    "collapsed": false
   },
   "outputs": [
    {
     "name": "stdout",
     "output_type": "stream",
     "text": [
      "('sent', 'FP')\n",
      "0.30434782608695654\n",
      "('abs', 'FP')\n",
      "0.4782608695652174\n",
      "('abs', 'FN')\n",
      "0.13043478260869565\n",
      "('sent', 'FN')\n",
      "0.08695652173913043\n"
     ]
    }
   ],
   "source": [
    "for key, val in lel.groupby([\"rel_origin\", \"etype\"]).groups.items():\n",
    "    print(key)\n",
    "    print(len(val) / 23)"
   ]
  },
  {
   "cell_type": "code",
   "execution_count": 101,
   "metadata": {
    "collapsed": false
   },
   "outputs": [
    {
     "name": "stdout",
     "output_type": "stream",
     "text": [
      "\n",
      "\tPearson's Chi-squared test\n",
      "\n",
      "data:  structure(list(sent = structure(c(55L, 156L, 188L), .Dim = 3L),     abs = structure(c(65L, 100L, 74L), .Dim = 3L)), .Names = c(\"sent\", \"abs\"), row.names = c(\"FN\", \"FP\", \"TP\"), class = \"data.frame\")\n",
      "X-squared = 24.075, df = 2, p-value = 5.918e-06\n",
      "\n",
      "\n"
     ]
    }
   ],
   "source": [
    "kek = test_origin(crowd_no_ner.query(\"num_votes >= 4\"), crowd_good_gold)"
   ]
  },
  {
   "cell_type": "code",
   "execution_count": 102,
   "metadata": {
    "collapsed": false,
    "scrolled": true
   },
   "outputs": [
    {
     "name": "stdout",
     "output_type": "stream",
     "text": [
      "('sent', 'FP')\n",
      "156\n",
      "47.4782608696\n",
      "\n",
      "\n",
      "('abs', 'FP')\n",
      "100\n",
      "47.8260869565\n",
      "\n",
      "\n",
      "('abs', 'FN')\n",
      "65\n",
      "8.47826086957\n",
      "\n",
      "\n",
      "('sent', 'FN')\n",
      "55\n",
      "4.78260869565\n",
      "\n",
      "\n",
      "108.565217391\n"
     ]
    }
   ],
   "source": [
    "total = 0\n",
    "for key, val in lel.groupby([\"rel_origin\", \"etype\"]).groups.items():\n",
    "    print(key)\n",
    "    \n",
    "    v = kek.loc[key[1], key[0]]\n",
    "    p = len(val) / 23\n",
    "    print(v)\n",
    "    print(v * p)\n",
    "    total += v * p\n",
    "    print(\"\\n\")\n",
    "    \n",
    "print(total)"
   ]
  },
  {
   "cell_type": "code",
   "execution_count": 103,
   "metadata": {
    "collapsed": false
   },
   "outputs": [
    {
     "data": {
      "text/plain": [
       "0.2892768079800499"
      ]
     },
     "execution_count": 103,
     "metadata": {},
     "output_type": "execute_result"
    }
   ],
   "source": [
    "116/401"
   ]
  },
  {
   "cell_type": "code",
   "execution_count": 104,
   "metadata": {
    "collapsed": false
   },
   "outputs": [
    {
     "data": {
      "text/plain": [
       "abs     14\n",
       "sent     9\n",
       "dtype: int64"
      ]
     },
     "execution_count": 104,
     "metadata": {},
     "output_type": "execute_result"
    }
   ],
   "source": [
    "error_res.query(\"crowd_wrong == 1\")[\"rel_origin\"].value_counts()"
   ]
  },
  {
   "cell_type": "code",
   "execution_count": 105,
   "metadata": {
    "collapsed": false
   },
   "outputs": [
    {
     "data": {
      "text/plain": [
       "abs     0.608696\n",
       "sent    0.391304\n",
       "dtype: float64"
      ]
     },
     "execution_count": 105,
     "metadata": {},
     "output_type": "execute_result"
    }
   ],
   "source": [
    "error_res.query(\"crowd_wrong == 1\")[\"rel_origin\"].value_counts(normalize = True)"
   ]
  },
  {
   "cell_type": "code",
   "execution_count": 106,
   "metadata": {
    "collapsed": false
   },
   "outputs": [
    {
     "data": {
      "text/plain": [
       "sent    12\n",
       "abs      2\n",
       "dtype: int64"
      ]
     },
     "execution_count": 106,
     "metadata": {},
     "output_type": "execute_result"
    }
   ],
   "source": [
    "error_res.query(\"task_limitation == 1\")[\"rel_origin\"].value_counts()"
   ]
  },
  {
   "cell_type": "code",
   "execution_count": 107,
   "metadata": {
    "collapsed": false
   },
   "outputs": [
    {
     "data": {
      "text/plain": [
       "sent    0.857143\n",
       "abs     0.142857\n",
       "dtype: float64"
      ]
     },
     "execution_count": 107,
     "metadata": {},
     "output_type": "execute_result"
    }
   ],
   "source": [
    "error_res.query(\"task_limitation == 1\")[\"rel_origin\"].value_counts(normalize = True)"
   ]
  },
  {
   "cell_type": "code",
   "execution_count": 108,
   "metadata": {
    "collapsed": false
   },
   "outputs": [
    {
     "data": {
      "text/plain": [
       "abs     14\n",
       "sent     9\n",
       "dtype: int64"
      ]
     },
     "execution_count": 108,
     "metadata": {},
     "output_type": "execute_result"
    }
   ],
   "source": [
    "error_res.query(\"gold_rel_error == 1\")[\"rel_origin\"].value_counts()"
   ]
  },
  {
   "cell_type": "code",
   "execution_count": 109,
   "metadata": {
    "collapsed": false
   },
   "outputs": [
    {
     "name": "stdout",
     "output_type": "stream",
     "text": [
      "crowd_wrong\n",
      "lack_of_comprehension          22\n",
      "not_covered_by_instructions     1\n",
      "dtype: int64\n",
      "----\n",
      "lack_of_comprehension          0.956522\n",
      "not_covered_by_instructions    0.043478\n",
      "dtype: float64\n",
      "\n",
      "\n",
      "task_limitation\n",
      "lack_of_context                9\n",
      "not_covered_by_instructions    3\n",
      "hierarchy_error                2\n",
      "dtype: int64\n",
      "----\n",
      "lack_of_context                0.642857\n",
      "not_covered_by_instructions    0.214286\n",
      "hierarchy_error                0.142857\n",
      "dtype: float64\n",
      "\n",
      "\n",
      "gold_rel_error\n",
      "missing_relation    18\n",
      "false_relation       5\n",
      "dtype: int64\n",
      "----\n",
      "missing_relation    0.782609\n",
      "false_relation      0.217391\n",
      "dtype: float64\n",
      "\n",
      "\n"
     ]
    }
   ],
   "source": [
    "for col in [\"crowd_wrong\", \"task_limitation\", \"gold_rel_error\"]:\n",
    "    sub = error_res.query(\"{} == 1\".format(col))\n",
    "    print(col)\n",
    "    \n",
    "    print(sub[\"error_reason\"].value_counts())\n",
    "    print(\"----\")\n",
    "    print(sub[\"error_reason\"].value_counts(normalize = True))\n",
    "    print(\"\\n\")"
   ]
  },
  {
   "cell_type": "code",
   "execution_count": 110,
   "metadata": {
    "collapsed": false
   },
   "outputs": [
    {
     "data": {
      "text/plain": [
       "(60, 11)"
      ]
     },
     "execution_count": 110,
     "metadata": {},
     "output_type": "execute_result"
    }
   ],
   "source": [
    "error_res.shape"
   ]
  },
  {
   "cell_type": "code",
   "execution_count": 111,
   "metadata": {
    "collapsed": false
   },
   "outputs": [
    {
     "data": {
      "text/plain": [
       "23"
      ]
     },
     "execution_count": 111,
     "metadata": {},
     "output_type": "execute_result"
    }
   ],
   "source": [
    "error_res[\"gold_rel_error\"].sum()"
   ]
  },
  {
   "cell_type": "code",
   "execution_count": 112,
   "metadata": {
    "collapsed": false
   },
   "outputs": [
    {
     "data": {
      "text/plain": [
       "23"
      ]
     },
     "execution_count": 112,
     "metadata": {},
     "output_type": "execute_result"
    }
   ],
   "source": [
    "error_res[\"crowd_wrong\"].sum()"
   ]
  },
  {
   "cell_type": "code",
   "execution_count": 113,
   "metadata": {
    "collapsed": false
   },
   "outputs": [
    {
     "data": {
      "text/plain": [
       "14"
      ]
     },
     "execution_count": 113,
     "metadata": {},
     "output_type": "execute_result"
    }
   ],
   "source": [
    "error_res[\"task_limitation\"].sum()"
   ]
  },
  {
   "cell_type": "code",
   "execution_count": 114,
   "metadata": {
    "collapsed": false
   },
   "outputs": [
    {
     "data": {
      "text/plain": [
       "lack_of_comprehension          22\n",
       "missing_relation               18\n",
       "lack_of_context                 9\n",
       "false_relation                  5\n",
       "not_covered_by_instructions     4\n",
       "hierarchy_error                 2\n",
       "dtype: int64"
      ]
     },
     "execution_count": 114,
     "metadata": {},
     "output_type": "execute_result"
    }
   ],
   "source": [
    "error_res[\"error_reason\"].value_counts()"
   ]
  },
  {
   "cell_type": "markdown",
   "metadata": {},
   "source": [
    "---"
   ]
  },
  {
   "cell_type": "code",
   "execution_count": 120,
   "metadata": {
    "collapsed": true
   },
   "outputs": [],
   "source": [
    "# loc = os.path.abspath(os.path.join(\"..\", \"data\", \"final_eval\",\n",
    "#     \"analysis\", \"crowd_testset_perfect_ner_errors.xlsx\"))\n",
    "\n",
    "loc = \"toby_all_three_agree_false_pos.xlsx\"\n",
    "\n",
    "\n",
    "error_res = pd.read_excel(loc)\n",
    "\n",
    "# drop the crowdflower link column\n",
    "error_res = error_res.drop(\"cf_link\", axis = 1)\n",
    "\n",
    "error_res = error_res.drop_duplicates()\n",
    "\n",
    "# cols = [\"crowd_wrong\", \"task_limitation\", \"gold_rel_error\"]\n",
    "# error_res.loc[:, cols] = error_res.loc[:, cols].astype(int)"
   ]
  },
  {
   "cell_type": "code",
   "execution_count": 121,
   "metadata": {
    "collapsed": false
   },
   "outputs": [
    {
     "data": {
      "text/html": [
       "<div>\n",
       "<table border=\"1\" class=\"dataframe\">\n",
       "  <thead>\n",
       "    <tr style=\"text-align: right;\">\n",
       "      <th></th>\n",
       "      <th>pmid</th>\n",
       "      <th>chemical_id</th>\n",
       "      <th>disease_id</th>\n",
       "      <th>in_gold</th>\n",
       "      <th>in_crowd</th>\n",
       "      <th>in_befree</th>\n",
       "      <th>in_texas</th>\n",
       "      <th>num_votes</th>\n",
       "      <th>pubmed_link</th>\n",
       "      <th>rel_origin</th>\n",
       "      <th>covered_by_guidelines</th>\n",
       "      <th>gold_error</th>\n",
       "      <th>error_reason</th>\n",
       "      <th>discussion</th>\n",
       "    </tr>\n",
       "  </thead>\n",
       "  <tbody>\n",
       "    <tr>\n",
       "      <th>0</th>\n",
       "      <td>733189</td>\n",
       "      <td>MESH:D010406</td>\n",
       "      <td>MESH:D001766</td>\n",
       "      <td>0</td>\n",
       "      <td>1</td>\n",
       "      <td>1</td>\n",
       "      <td>1</td>\n",
       "      <td>4</td>\n",
       "      <td>http://ncbi.nlm.nih.gov/pubmed/?term=733189</td>\n",
       "      <td>sentence_task</td>\n",
       "      <td>1</td>\n",
       "      <td>0</td>\n",
       "      <td>conjugation</td>\n",
       "      <td>Penicillin is used in conjugation, but the more imp...</td>\n",
       "    </tr>\n",
       "    <tr>\n",
       "      <th>1</th>\n",
       "      <td>920167</td>\n",
       "      <td>MESH:D014859</td>\n",
       "      <td>MESH:D005315</td>\n",
       "      <td>0</td>\n",
       "      <td>1</td>\n",
       "      <td>1</td>\n",
       "      <td>1</td>\n",
       "      <td>5</td>\n",
       "      <td>http://ncbi.nlm.nih.gov/pubmed/?term=920167</td>\n",
       "      <td>cid_relation</td>\n",
       "      <td>1</td>\n",
       "      <td>0</td>\n",
       "      <td>hierarchy_error</td>\n",
       "      <td>Text states two specific examples of embryopathy wh...</td>\n",
       "    </tr>\n",
       "    <tr>\n",
       "      <th>2</th>\n",
       "      <td>1289188</td>\n",
       "      <td>MESH:D003676</td>\n",
       "      <td>MESH:D058186</td>\n",
       "      <td>0</td>\n",
       "      <td>1</td>\n",
       "      <td>1</td>\n",
       "      <td>1</td>\n",
       "      <td>5</td>\n",
       "      <td>http://ncbi.nlm.nih.gov/pubmed/?term=1289188</td>\n",
       "      <td>sentence_task</td>\n",
       "      <td>1</td>\n",
       "      <td>1</td>\n",
       "      <td>hierarchy_error</td>\n",
       "      <td>Gold uses renal insufficiency instead of acute rena...</td>\n",
       "    </tr>\n",
       "    <tr>\n",
       "      <th>4</th>\n",
       "      <td>1905439</td>\n",
       "      <td>MESH:D016595</td>\n",
       "      <td>MESH:D006261</td>\n",
       "      <td>0</td>\n",
       "      <td>1</td>\n",
       "      <td>1</td>\n",
       "      <td>1</td>\n",
       "      <td>5</td>\n",
       "      <td>http://ncbi.nlm.nih.gov/pubmed/?term=1905439</td>\n",
       "      <td>sentence_task</td>\n",
       "      <td>0</td>\n",
       "      <td>0</td>\n",
       "      <td>not_main_point</td>\n",
       "      <td>Intro summarizes known research which is not the ma...</td>\n",
       "    </tr>\n",
       "    <tr>\n",
       "      <th>5</th>\n",
       "      <td>2553470</td>\n",
       "      <td>MESH:D008094</td>\n",
       "      <td>MESH:D012640</td>\n",
       "      <td>0</td>\n",
       "      <td>1</td>\n",
       "      <td>1</td>\n",
       "      <td>1</td>\n",
       "      <td>5</td>\n",
       "      <td>http://ncbi.nlm.nih.gov/pubmed/?term=2553470</td>\n",
       "      <td>sentence_task</td>\n",
       "      <td>1</td>\n",
       "      <td>0</td>\n",
       "      <td>hierarchy_error</td>\n",
       "      <td>The crux here is whether seizures is a different di...</td>\n",
       "    </tr>\n",
       "    <tr>\n",
       "      <th>9</th>\n",
       "      <td>3109094</td>\n",
       "      <td>MESH:D003520</td>\n",
       "      <td>MESH:D003556</td>\n",
       "      <td>0</td>\n",
       "      <td>1</td>\n",
       "      <td>1</td>\n",
       "      <td>1</td>\n",
       "      <td>5</td>\n",
       "      <td>http://ncbi.nlm.nih.gov/pubmed/?term=3109094</td>\n",
       "      <td>cid_relation</td>\n",
       "      <td>1</td>\n",
       "      <td>1</td>\n",
       "      <td>hierarchy_error</td>\n",
       "      <td>Gold used lesions of the urinary bladder instead of...</td>\n",
       "    </tr>\n",
       "    <tr>\n",
       "      <th>10</th>\n",
       "      <td>3538855</td>\n",
       "      <td>MESH:D000617</td>\n",
       "      <td>MESH:D058186</td>\n",
       "      <td>0</td>\n",
       "      <td>1</td>\n",
       "      <td>1</td>\n",
       "      <td>1</td>\n",
       "      <td>5</td>\n",
       "      <td>http://ncbi.nlm.nih.gov/pubmed/?term=3538855</td>\n",
       "      <td>sentence_task</td>\n",
       "      <td>1</td>\n",
       "      <td>1</td>\n",
       "      <td>hierarchy_error</td>\n",
       "      <td>Gold seems to have used a less specific disease her...</td>\n",
       "    </tr>\n",
       "    <tr>\n",
       "      <th>11</th>\n",
       "      <td>3895875</td>\n",
       "      <td>MESH:D008012</td>\n",
       "      <td>MESH:D006323</td>\n",
       "      <td>0</td>\n",
       "      <td>1</td>\n",
       "      <td>1</td>\n",
       "      <td>1</td>\n",
       "      <td>5</td>\n",
       "      <td>http://ncbi.nlm.nih.gov/pubmed/?term=3895875</td>\n",
       "      <td>sentence_task</td>\n",
       "      <td>0</td>\n",
       "      <td>1</td>\n",
       "      <td>missing_relation</td>\n",
       "      <td>Seems like relation is missing in gold here. The on...</td>\n",
       "    </tr>\n",
       "    <tr>\n",
       "      <th>12</th>\n",
       "      <td>7173007</td>\n",
       "      <td>MESH:D003973</td>\n",
       "      <td>MESH:D015746</td>\n",
       "      <td>0</td>\n",
       "      <td>1</td>\n",
       "      <td>1</td>\n",
       "      <td>1</td>\n",
       "      <td>5</td>\n",
       "      <td>http://ncbi.nlm.nih.gov/pubmed/?term=7173007</td>\n",
       "      <td>abstract_task</td>\n",
       "      <td>0</td>\n",
       "      <td>0</td>\n",
       "      <td>ner_error</td>\n",
       "      <td>Endografine and diatrizoate are annotated as two di...</td>\n",
       "    </tr>\n",
       "    <tr>\n",
       "      <th>13</th>\n",
       "      <td>8308951</td>\n",
       "      <td>MESH:D014859</td>\n",
       "      <td>MESH:D001778</td>\n",
       "      <td>0</td>\n",
       "      <td>1</td>\n",
       "      <td>1</td>\n",
       "      <td>1</td>\n",
       "      <td>5</td>\n",
       "      <td>http://ncbi.nlm.nih.gov/pubmed/?term=8308951</td>\n",
       "      <td>cid_relation</td>\n",
       "      <td>0</td>\n",
       "      <td>0</td>\n",
       "      <td>intermediate_agent</td>\n",
       "      <td>This is an example of the drug-induced disease dise...</td>\n",
       "    </tr>\n",
       "    <tr>\n",
       "      <th>14</th>\n",
       "      <td>9759693</td>\n",
       "      <td>MESH:D018170</td>\n",
       "      <td>MESH:D003329</td>\n",
       "      <td>0</td>\n",
       "      <td>1</td>\n",
       "      <td>1</td>\n",
       "      <td>1</td>\n",
       "      <td>5</td>\n",
       "      <td>http://ncbi.nlm.nih.gov/pubmed/?term=9759693</td>\n",
       "      <td>sentence_task</td>\n",
       "      <td>0</td>\n",
       "      <td>0</td>\n",
       "      <td>not_main_point</td>\n",
       "      <td>The abstract summarizes the results of other papers...</td>\n",
       "    </tr>\n",
       "    <tr>\n",
       "      <th>15</th>\n",
       "      <td>9759693</td>\n",
       "      <td>MESH:D018170</td>\n",
       "      <td>MESH:D009203</td>\n",
       "      <td>0</td>\n",
       "      <td>1</td>\n",
       "      <td>1</td>\n",
       "      <td>1</td>\n",
       "      <td>5</td>\n",
       "      <td>http://ncbi.nlm.nih.gov/pubmed/?term=9759693</td>\n",
       "      <td>sentence_task</td>\n",
       "      <td>0</td>\n",
       "      <td>0</td>\n",
       "      <td>not_main_point</td>\n",
       "      <td>The abstract summarizes the results of other papers...</td>\n",
       "    </tr>\n",
       "    <tr>\n",
       "      <th>16</th>\n",
       "      <td>10939760</td>\n",
       "      <td>MESH:D013411</td>\n",
       "      <td>MESH:D051437</td>\n",
       "      <td>0</td>\n",
       "      <td>1</td>\n",
       "      <td>1</td>\n",
       "      <td>1</td>\n",
       "      <td>5</td>\n",
       "      <td>http://ncbi.nlm.nih.gov/pubmed/?term=10939760</td>\n",
       "      <td>sentence_task</td>\n",
       "      <td>1</td>\n",
       "      <td>0</td>\n",
       "      <td>hierarchy_error</td>\n",
       "      <td>Acute nephrotoxicity is a more specific disease tha...</td>\n",
       "    </tr>\n",
       "    <tr>\n",
       "      <th>17</th>\n",
       "      <td>11380496</td>\n",
       "      <td>MESH:D011441</td>\n",
       "      <td>MESH:D014657</td>\n",
       "      <td>0</td>\n",
       "      <td>1</td>\n",
       "      <td>1</td>\n",
       "      <td>1</td>\n",
       "      <td>5</td>\n",
       "      <td>http://ncbi.nlm.nih.gov/pubmed/?term=11380496</td>\n",
       "      <td>sentence_task</td>\n",
       "      <td>0</td>\n",
       "      <td>0</td>\n",
       "      <td>not_main_point</td>\n",
       "      <td>The abstract begins by saying that previous reports...</td>\n",
       "    </tr>\n",
       "    <tr>\n",
       "      <th>21</th>\n",
       "      <td>12359538</td>\n",
       "      <td>MESH:D003042</td>\n",
       "      <td>MESH:D002637</td>\n",
       "      <td>0</td>\n",
       "      <td>1</td>\n",
       "      <td>1</td>\n",
       "      <td>1</td>\n",
       "      <td>5</td>\n",
       "      <td>http://ncbi.nlm.nih.gov/pubmed/?term=12359538</td>\n",
       "      <td>sentence_task</td>\n",
       "      <td>1</td>\n",
       "      <td>0</td>\n",
       "      <td>hierarchy_error</td>\n",
       "      <td>It is previously known that cocaine causes general ...</td>\n",
       "    </tr>\n",
       "    <tr>\n",
       "      <th>25</th>\n",
       "      <td>12523489</td>\n",
       "      <td>MESH:D003042</td>\n",
       "      <td>MESH:D006948</td>\n",
       "      <td>0</td>\n",
       "      <td>1</td>\n",
       "      <td>1</td>\n",
       "      <td>1</td>\n",
       "      <td>5</td>\n",
       "      <td>http://ncbi.nlm.nih.gov/pubmed/?term=12523489</td>\n",
       "      <td>cid_relation</td>\n",
       "      <td>0</td>\n",
       "      <td>0</td>\n",
       "      <td>not_main_point</td>\n",
       "      <td>Whether statements stating that a link exists shoul...</td>\n",
       "    </tr>\n",
       "    <tr>\n",
       "      <th>26</th>\n",
       "      <td>12828076</td>\n",
       "      <td>MESH:D000082</td>\n",
       "      <td>MESH:D062787</td>\n",
       "      <td>0</td>\n",
       "      <td>1</td>\n",
       "      <td>1</td>\n",
       "      <td>1</td>\n",
       "      <td>4</td>\n",
       "      <td>http://ncbi.nlm.nih.gov/pubmed/?term=12828076</td>\n",
       "      <td>sentence_task</td>\n",
       "      <td>0</td>\n",
       "      <td>0</td>\n",
       "      <td>not_main_point</td>\n",
       "      <td>The main point of the paper is to determine the rol...</td>\n",
       "    </tr>\n",
       "    <tr>\n",
       "      <th>28</th>\n",
       "      <td>16801510</td>\n",
       "      <td>MESH:D008691</td>\n",
       "      <td>MESH:D016171</td>\n",
       "      <td>0</td>\n",
       "      <td>1</td>\n",
       "      <td>1</td>\n",
       "      <td>1</td>\n",
       "      <td>5</td>\n",
       "      <td>http://ncbi.nlm.nih.gov/pubmed/?term=16801510</td>\n",
       "      <td>sentence_task</td>\n",
       "      <td>1</td>\n",
       "      <td>1</td>\n",
       "      <td>missing_relation</td>\n",
       "      <td>Text states that six patients receiving methadone p...</td>\n",
       "    </tr>\n",
       "    <tr>\n",
       "      <th>29</th>\n",
       "      <td>17035713</td>\n",
       "      <td>MESH:C004656</td>\n",
       "      <td>MESH:D009336</td>\n",
       "      <td>0</td>\n",
       "      <td>1</td>\n",
       "      <td>1</td>\n",
       "      <td>1</td>\n",
       "      <td>4</td>\n",
       "      <td>http://ncbi.nlm.nih.gov/pubmed/?term=17035713</td>\n",
       "      <td>sentence_task</td>\n",
       "      <td>1</td>\n",
       "      <td>0</td>\n",
       "      <td>ner_error</td>\n",
       "      <td>Necrosis is marked as a disease, but in context is ...</td>\n",
       "    </tr>\n",
       "    <tr>\n",
       "      <th>31</th>\n",
       "      <td>19681452</td>\n",
       "      <td>MESH:D003042</td>\n",
       "      <td>MESH:D001145</td>\n",
       "      <td>0</td>\n",
       "      <td>1</td>\n",
       "      <td>1</td>\n",
       "      <td>1</td>\n",
       "      <td>5</td>\n",
       "      <td>http://ncbi.nlm.nih.gov/pubmed/?term=19681452</td>\n",
       "      <td>sentence_task</td>\n",
       "      <td>0</td>\n",
       "      <td>0</td>\n",
       "      <td>not_main_point</td>\n",
       "      <td>Text does suggest that cocaine is related to cardia...</td>\n",
       "    </tr>\n",
       "    <tr>\n",
       "      <th>32</th>\n",
       "      <td>24309294</td>\n",
       "      <td>MESH:D009020</td>\n",
       "      <td>MESH:D008569</td>\n",
       "      <td>0</td>\n",
       "      <td>1</td>\n",
       "      <td>1</td>\n",
       "      <td>1</td>\n",
       "      <td>5</td>\n",
       "      <td>http://ncbi.nlm.nih.gov/pubmed/?term=24309294</td>\n",
       "      <td>cid_relation</td>\n",
       "      <td>1</td>\n",
       "      <td>0</td>\n",
       "      <td>hierarchy_error</td>\n",
       "      <td>Memory impairment is a direct ancestor of the more ...</td>\n",
       "    </tr>\n",
       "    <tr>\n",
       "      <th>33</th>\n",
       "      <td>24618873</td>\n",
       "      <td>MESH:D008614</td>\n",
       "      <td>MESH:D012640</td>\n",
       "      <td>0</td>\n",
       "      <td>1</td>\n",
       "      <td>1</td>\n",
       "      <td>1</td>\n",
       "      <td>5</td>\n",
       "      <td>http://ncbi.nlm.nih.gov/pubmed/?term=24618873</td>\n",
       "      <td>sentence_task</td>\n",
       "      <td>0</td>\n",
       "      <td>0</td>\n",
       "      <td>intermediate_agent</td>\n",
       "      <td>Pethidine works through an intermediate metabolite ...</td>\n",
       "    </tr>\n",
       "    <tr>\n",
       "      <th>34</th>\n",
       "      <td>24664478</td>\n",
       "      <td>MESH:C104457</td>\n",
       "      <td>MESH:D020258</td>\n",
       "      <td>0</td>\n",
       "      <td>1</td>\n",
       "      <td>1</td>\n",
       "      <td>1</td>\n",
       "      <td>5</td>\n",
       "      <td>http://ncbi.nlm.nih.gov/pubmed/?term=24664478</td>\n",
       "      <td>sentence_task</td>\n",
       "      <td>1</td>\n",
       "      <td>0</td>\n",
       "      <td>hierarchy_error</td>\n",
       "      <td>Seems like gold is using peripheral neuropathy as a...</td>\n",
       "    </tr>\n",
       "    <tr>\n",
       "      <th>37</th>\n",
       "      <td>25071004</td>\n",
       "      <td>MESH:C039726</td>\n",
       "      <td>MESH:D000740</td>\n",
       "      <td>0</td>\n",
       "      <td>1</td>\n",
       "      <td>1</td>\n",
       "      <td>1</td>\n",
       "      <td>4</td>\n",
       "      <td>http://ncbi.nlm.nih.gov/pubmed/?term=25071004</td>\n",
       "      <td>sentence_task</td>\n",
       "      <td>1</td>\n",
       "      <td>0</td>\n",
       "      <td>hierarchy_error</td>\n",
       "      <td>Hemolytic anemia is more specific than anemia, and ...</td>\n",
       "    </tr>\n",
       "    <tr>\n",
       "      <th>38</th>\n",
       "      <td>26002693</td>\n",
       "      <td>MESH:C031763</td>\n",
       "      <td>MESH:D015464</td>\n",
       "      <td>0</td>\n",
       "      <td>1</td>\n",
       "      <td>1</td>\n",
       "      <td>1</td>\n",
       "      <td>4</td>\n",
       "      <td>http://ncbi.nlm.nih.gov/pubmed/?term=26002693</td>\n",
       "      <td>sentence_task</td>\n",
       "      <td>1</td>\n",
       "      <td>1</td>\n",
       "      <td>missing_relation</td>\n",
       "      <td>First sentence says that the relation is not clear,...</td>\n",
       "    </tr>\n",
       "  </tbody>\n",
       "</table>\n",
       "</div>"
      ],
      "text/plain": [
       "        pmid   chemical_id    disease_id  in_gold  in_crowd  in_befree  \\\n",
       "0     733189  MESH:D010406  MESH:D001766        0         1          1   \n",
       "1     920167  MESH:D014859  MESH:D005315        0         1          1   \n",
       "2    1289188  MESH:D003676  MESH:D058186        0         1          1   \n",
       "4    1905439  MESH:D016595  MESH:D006261        0         1          1   \n",
       "5    2553470  MESH:D008094  MESH:D012640        0         1          1   \n",
       "9    3109094  MESH:D003520  MESH:D003556        0         1          1   \n",
       "10   3538855  MESH:D000617  MESH:D058186        0         1          1   \n",
       "11   3895875  MESH:D008012  MESH:D006323        0         1          1   \n",
       "12   7173007  MESH:D003973  MESH:D015746        0         1          1   \n",
       "13   8308951  MESH:D014859  MESH:D001778        0         1          1   \n",
       "14   9759693  MESH:D018170  MESH:D003329        0         1          1   \n",
       "15   9759693  MESH:D018170  MESH:D009203        0         1          1   \n",
       "16  10939760  MESH:D013411  MESH:D051437        0         1          1   \n",
       "17  11380496  MESH:D011441  MESH:D014657        0         1          1   \n",
       "21  12359538  MESH:D003042  MESH:D002637        0         1          1   \n",
       "25  12523489  MESH:D003042  MESH:D006948        0         1          1   \n",
       "26  12828076  MESH:D000082  MESH:D062787        0         1          1   \n",
       "28  16801510  MESH:D008691  MESH:D016171        0         1          1   \n",
       "29  17035713  MESH:C004656  MESH:D009336        0         1          1   \n",
       "31  19681452  MESH:D003042  MESH:D001145        0         1          1   \n",
       "32  24309294  MESH:D009020  MESH:D008569        0         1          1   \n",
       "33  24618873  MESH:D008614  MESH:D012640        0         1          1   \n",
       "34  24664478  MESH:C104457  MESH:D020258        0         1          1   \n",
       "37  25071004  MESH:C039726  MESH:D000740        0         1          1   \n",
       "38  26002693  MESH:C031763  MESH:D015464        0         1          1   \n",
       "\n",
       "    in_texas  num_votes                                    pubmed_link  \\\n",
       "0          1          4    http://ncbi.nlm.nih.gov/pubmed/?term=733189   \n",
       "1          1          5    http://ncbi.nlm.nih.gov/pubmed/?term=920167   \n",
       "2          1          5   http://ncbi.nlm.nih.gov/pubmed/?term=1289188   \n",
       "4          1          5   http://ncbi.nlm.nih.gov/pubmed/?term=1905439   \n",
       "5          1          5   http://ncbi.nlm.nih.gov/pubmed/?term=2553470   \n",
       "9          1          5   http://ncbi.nlm.nih.gov/pubmed/?term=3109094   \n",
       "10         1          5   http://ncbi.nlm.nih.gov/pubmed/?term=3538855   \n",
       "11         1          5   http://ncbi.nlm.nih.gov/pubmed/?term=3895875   \n",
       "12         1          5   http://ncbi.nlm.nih.gov/pubmed/?term=7173007   \n",
       "13         1          5   http://ncbi.nlm.nih.gov/pubmed/?term=8308951   \n",
       "14         1          5   http://ncbi.nlm.nih.gov/pubmed/?term=9759693   \n",
       "15         1          5   http://ncbi.nlm.nih.gov/pubmed/?term=9759693   \n",
       "16         1          5  http://ncbi.nlm.nih.gov/pubmed/?term=10939760   \n",
       "17         1          5  http://ncbi.nlm.nih.gov/pubmed/?term=11380496   \n",
       "21         1          5  http://ncbi.nlm.nih.gov/pubmed/?term=12359538   \n",
       "25         1          5  http://ncbi.nlm.nih.gov/pubmed/?term=12523489   \n",
       "26         1          4  http://ncbi.nlm.nih.gov/pubmed/?term=12828076   \n",
       "28         1          5  http://ncbi.nlm.nih.gov/pubmed/?term=16801510   \n",
       "29         1          4  http://ncbi.nlm.nih.gov/pubmed/?term=17035713   \n",
       "31         1          5  http://ncbi.nlm.nih.gov/pubmed/?term=19681452   \n",
       "32         1          5  http://ncbi.nlm.nih.gov/pubmed/?term=24309294   \n",
       "33         1          5  http://ncbi.nlm.nih.gov/pubmed/?term=24618873   \n",
       "34         1          5  http://ncbi.nlm.nih.gov/pubmed/?term=24664478   \n",
       "37         1          4  http://ncbi.nlm.nih.gov/pubmed/?term=25071004   \n",
       "38         1          4  http://ncbi.nlm.nih.gov/pubmed/?term=26002693   \n",
       "\n",
       "       rel_origin  covered_by_guidelines  gold_error        error_reason  \\\n",
       "0   sentence_task                      1           0         conjugation   \n",
       "1    cid_relation                      1           0     hierarchy_error   \n",
       "2   sentence_task                      1           1     hierarchy_error   \n",
       "4   sentence_task                      0           0      not_main_point   \n",
       "5   sentence_task                      1           0     hierarchy_error   \n",
       "9    cid_relation                      1           1     hierarchy_error   \n",
       "10  sentence_task                      1           1     hierarchy_error   \n",
       "11  sentence_task                      0           1    missing_relation   \n",
       "12  abstract_task                      0           0           ner_error   \n",
       "13   cid_relation                      0           0  intermediate_agent   \n",
       "14  sentence_task                      0           0      not_main_point   \n",
       "15  sentence_task                      0           0      not_main_point   \n",
       "16  sentence_task                      1           0     hierarchy_error   \n",
       "17  sentence_task                      0           0      not_main_point   \n",
       "21  sentence_task                      1           0     hierarchy_error   \n",
       "25   cid_relation                      0           0      not_main_point   \n",
       "26  sentence_task                      0           0      not_main_point   \n",
       "28  sentence_task                      1           1    missing_relation   \n",
       "29  sentence_task                      1           0           ner_error   \n",
       "31  sentence_task                      0           0      not_main_point   \n",
       "32   cid_relation                      1           0     hierarchy_error   \n",
       "33  sentence_task                      0           0  intermediate_agent   \n",
       "34  sentence_task                      1           0     hierarchy_error   \n",
       "37  sentence_task                      1           0     hierarchy_error   \n",
       "38  sentence_task                      1           1    missing_relation   \n",
       "\n",
       "                                                discussion  \n",
       "0   Penicillin is used in conjugation, but the more imp...  \n",
       "1   Text states two specific examples of embryopathy wh...  \n",
       "2   Gold uses renal insufficiency instead of acute rena...  \n",
       "4   Intro summarizes known research which is not the ma...  \n",
       "5   The crux here is whether seizures is a different di...  \n",
       "9   Gold used lesions of the urinary bladder instead of...  \n",
       "10  Gold seems to have used a less specific disease her...  \n",
       "11  Seems like relation is missing in gold here. The on...  \n",
       "12  Endografine and diatrizoate are annotated as two di...  \n",
       "13  This is an example of the drug-induced disease dise...  \n",
       "14  The abstract summarizes the results of other papers...  \n",
       "15  The abstract summarizes the results of other papers...  \n",
       "16  Acute nephrotoxicity is a more specific disease tha...  \n",
       "17  The abstract begins by saying that previous reports...  \n",
       "21  It is previously known that cocaine causes general ...  \n",
       "25  Whether statements stating that a link exists shoul...  \n",
       "26  The main point of the paper is to determine the rol...  \n",
       "28  Text states that six patients receiving methadone p...  \n",
       "29  Necrosis is marked as a disease, but in context is ...  \n",
       "31  Text does suggest that cocaine is related to cardia...  \n",
       "32  Memory impairment is a direct ancestor of the more ...  \n",
       "33  Pethidine works through an intermediate metabolite ...  \n",
       "34  Seems like gold is using peripheral neuropathy as a...  \n",
       "37  Hemolytic anemia is more specific than anemia, and ...  \n",
       "38  First sentence says that the relation is not clear,...  "
      ]
     },
     "execution_count": 121,
     "metadata": {},
     "output_type": "execute_result"
    }
   ],
   "source": [
    "error_res"
   ]
  },
  {
   "cell_type": "code",
   "execution_count": 122,
   "metadata": {
    "collapsed": false
   },
   "outputs": [
    {
     "data": {
      "text/plain": [
       "(25, 14)"
      ]
     },
     "execution_count": 122,
     "metadata": {},
     "output_type": "execute_result"
    }
   ],
   "source": [
    "error_res.shape"
   ]
  },
  {
   "cell_type": "code",
   "execution_count": 123,
   "metadata": {
    "collapsed": false
   },
   "outputs": [
    {
     "data": {
      "text/plain": [
       "1    14\n",
       "0    11\n",
       "dtype: int64"
      ]
     },
     "execution_count": 123,
     "metadata": {},
     "output_type": "execute_result"
    }
   ],
   "source": [
    "error_res[\"covered_by_guidelines\"].value_counts()"
   ]
  },
  {
   "cell_type": "code",
   "execution_count": 124,
   "metadata": {
    "collapsed": false
   },
   "outputs": [
    {
     "data": {
      "text/plain": [
       "hierarchy_error       10\n",
       "not_main_point         7\n",
       "missing_relation       3\n",
       "ner_error              2\n",
       "intermediate_agent     2\n",
       "conjugation            1\n",
       "dtype: int64"
      ]
     },
     "execution_count": 124,
     "metadata": {},
     "output_type": "execute_result"
    }
   ],
   "source": [
    "error_res[\"error_reason\"].value_counts()"
   ]
  },
  {
   "cell_type": "code",
   "execution_count": 125,
   "metadata": {
    "collapsed": false
   },
   "outputs": [
    {
     "data": {
      "text/plain": [
       "0    19\n",
       "1     6\n",
       "dtype: int64"
      ]
     },
     "execution_count": 125,
     "metadata": {},
     "output_type": "execute_result"
    }
   ],
   "source": [
    "error_res[\"gold_error\"].value_counts()"
   ]
  },
  {
   "cell_type": "code",
   "execution_count": 126,
   "metadata": {
    "collapsed": true
   },
   "outputs": [],
   "source": [
    "loc = os.path.abspath(os.path.join(\"..\", \"data\", \"final_eval\",\n",
    "    \"analysis\", \"testset_machine_gold_no_crowd_with_ner_filter.xlsx\"))\n",
    "\n",
    "error_res = pd.read_excel(loc)\n",
    "\n",
    "# drop the crowdflower link column\n",
    "error_res = error_res.drop(\"cf_link\", axis = 1)\n",
    "\n",
    "error_res = error_res.drop_duplicates()\n",
    "\n",
    "# cols = [\"crowd_wrong\", \"task_limitation\", \"gold_rel_error\"]\n",
    "# error_res.loc[:, cols] = error_res.loc[:, cols].astype(int)"
   ]
  },
  {
   "cell_type": "code",
   "execution_count": 127,
   "metadata": {
    "collapsed": false
   },
   "outputs": [
    {
     "data": {
      "text/plain": [
       "(16, 15)"
      ]
     },
     "execution_count": 127,
     "metadata": {},
     "output_type": "execute_result"
    }
   ],
   "source": [
    "error_res.shape"
   ]
  },
  {
   "cell_type": "code",
   "execution_count": 128,
   "metadata": {
    "collapsed": false
   },
   "outputs": [
    {
     "data": {
      "text/plain": [
       "1    9\n",
       "0    7\n",
       "dtype: int64"
      ]
     },
     "execution_count": 128,
     "metadata": {},
     "output_type": "execute_result"
    }
   ],
   "source": [
    "error_res[\"crowd_wrong\"].value_counts()"
   ]
  },
  {
   "cell_type": "code",
   "execution_count": 129,
   "metadata": {
    "collapsed": false
   },
   "outputs": [
    {
     "data": {
      "text/plain": [
       "0    12\n",
       "1     4\n",
       "dtype: int64"
      ]
     },
     "execution_count": 129,
     "metadata": {},
     "output_type": "execute_result"
    }
   ],
   "source": [
    "error_res[\"task_limitation\"].value_counts()"
   ]
  },
  {
   "cell_type": "code",
   "execution_count": 130,
   "metadata": {
    "collapsed": false
   },
   "outputs": [
    {
     "data": {
      "text/plain": [
       "0    13\n",
       "1     3\n",
       "dtype: int64"
      ]
     },
     "execution_count": 130,
     "metadata": {},
     "output_type": "execute_result"
    }
   ],
   "source": [
    "error_res[\"gold_error\"].value_counts()"
   ]
  },
  {
   "cell_type": "code",
   "execution_count": 131,
   "metadata": {
    "collapsed": false
   },
   "outputs": [
    {
     "data": {
      "text/plain": [
       "sentence_task    10\n",
       "abstract_task     6\n",
       "dtype: int64"
      ]
     },
     "execution_count": 131,
     "metadata": {},
     "output_type": "execute_result"
    }
   ],
   "source": [
    "error_res[\"rel_origin\"].value_counts()"
   ]
  },
  {
   "cell_type": "code",
   "execution_count": 132,
   "metadata": {
    "collapsed": false
   },
   "outputs": [
    {
     "data": {
      "text/plain": [
       "sentence_task    6\n",
       "abstract_task    3\n",
       "dtype: int64"
      ]
     },
     "execution_count": 132,
     "metadata": {},
     "output_type": "execute_result"
    }
   ],
   "source": [
    "error_res.query(\"crowd_wrong == 1\")[\"rel_origin\"].value_counts()"
   ]
  },
  {
   "cell_type": "code",
   "execution_count": 133,
   "metadata": {
    "collapsed": false
   },
   "outputs": [
    {
     "data": {
      "text/plain": [
       "3.114498549761701"
      ]
     },
     "execution_count": 133,
     "metadata": {},
     "output_type": "execute_result"
    }
   ],
   "source": [
    "(5*9*65000/12)/78263"
   ]
  },
  {
   "cell_type": "code",
   "execution_count": 134,
   "metadata": {
    "collapsed": false
   },
   "outputs": [
    {
     "data": {
      "text/plain": [
       "1.56"
      ]
     },
     "execution_count": 134,
     "metadata": {},
     "output_type": "execute_result"
    }
   ],
   "source": [
    "13*60/500"
   ]
  },
  {
   "cell_type": "code",
   "execution_count": 138,
   "metadata": {
    "collapsed": false,
    "scrolled": true
   },
   "outputs": [
    {
     "data": {
      "text/plain": [
       "97650"
      ]
     },
     "execution_count": 138,
     "metadata": {},
     "output_type": "execute_result"
    }
   ],
   "source": [
    "70 * 9 * 31 * 5"
   ]
  },
  {
   "cell_type": "code",
   "execution_count": 139,
   "metadata": {
    "collapsed": false
   },
   "outputs": [
    {
     "data": {
      "text/plain": [
       "0.84"
      ]
     },
     "execution_count": 139,
     "metadata": {},
     "output_type": "execute_result"
    }
   ],
   "source": [
    "7 * 60 / 500"
   ]
  },
  {
   "cell_type": "code",
   "execution_count": null,
   "metadata": {
    "collapsed": true
   },
   "outputs": [],
   "source": []
  },
  {
   "cell_type": "code",
   "execution_count": null,
   "metadata": {
    "collapsed": true
   },
   "outputs": [],
   "source": []
  },
  {
   "cell_type": "markdown",
   "metadata": {},
   "source": [
    "### String used to build sankey diagram\n",
    "\n",
    "Used sankeymatic.com\n",
    "\n",
    "Relations [30] FP\n",
    "Relations [30] FN\n",
    "\n",
    "FP [15] Abstract scoped\n",
    "FP [15] Sentence scoped\n",
    "FN [15] Abstract scoped\n",
    "FN [15] Sentence scoped\n",
    "\n",
    "Sentence scoped [9] Crowd wrong\n",
    "Abstract scoped [14] Crowd wrong\n",
    "\n",
    "Sentence scoped [12] Task limitation\n",
    "Abstract scoped [2] Task limitation\n",
    "\n",
    "Sentence scoped [9] Gold mistake\n",
    "Abstract scoped [14] Gold mistake\n",
    "\n",
    "Crowd wrong [22] Lack of comprehension\n",
    "Crowd wrong [1] No instructions\n",
    "\n",
    "Task limitation [9] Lack of context\n",
    "Task limitation [3] No instructions\n",
    "Task limitation [2] Hierarchy error\n",
    "\n",
    "Gold mistake [18] Missing relation\n",
    "Gold mistake [5] False relation"
   ]
  },
  {
   "cell_type": "markdown",
   "metadata": {
    "collapsed": true
   },
   "source": [
    "false negatives\n",
    "\n",
    "PMID 753803: vitamin E and muscular dystrophy. Text states that \"The authors induced myodystrophy in the rat by giving it a diet lacking in vitamin E.\" It was not clear that this kind of relation should be treated as the same as \"giving aspirin causes cancer\". Crowd missed this relation. Could probably have been extracted if we changed the wording of the choice slightly. Did not see this kind of example in the guidelines or the other data, so did not word the choice to capture this variation.\n",
    "\n",
    "PMID 24927617: telaprevir and rhabdomyolysis. This is an example of where showing the whole abstract instead of just the title would have been better, since the text clearly states that the patient developed the disease after taking the drugs. Workers only saw the title.\n",
    "\n",
    "PMID 3191389: sodium salicylate and seizures. Single sentence is not enough context. Next sentence says that the chemical converted a non-convulsant dose of pilocarpine to a convulsant one."
   ]
  },
  {
   "cell_type": "markdown",
   "metadata": {},
   "source": [
    "---"
   ]
  },
  {
   "cell_type": "markdown",
   "metadata": {},
   "source": [
    "## Making a supplementary data file"
   ]
  },
  {
   "cell_type": "code",
   "execution_count": 113,
   "metadata": {
    "collapsed": true
   },
   "outputs": [],
   "source": [
    "crowd_conc = find_perfect_concepts(crowd_full, eval_gold)\n",
    "befree_conc = find_perfect_concepts(befree_full, eval_gold)\n",
    "texas_conc = find_perfect_concepts(texas_full, eval_gold)\n",
    "\n",
    "common_conc = {\n",
    "    pmid: tuple([crowd_conc[pmid][i] & befree_conc[pmid][i] & texas_conc[pmid][i] for i in range(2)])\n",
    "    for pmid in eval_gold.keys()\n",
    "}\n",
    "\n",
    "poss_good_trips = get_perf_subset_triples(common_conc)\n",
    "poss_df = make_df(poss_good_trips)\n",
    "\n",
    "gold_sub = pd.merge(gold_std, poss_df, how = \"inner\", on = TRIPLE)\n",
    "crowd_sub = pd.merge(crowd_res, poss_df, how = \"inner\", on = TRIPLE)\n",
    "befree_sub = pd.merge(befree_res, poss_df, how = \"inner\", on = TRIPLE)\n",
    "texas_sub = pd.merge(ut_res, poss_df, how = \"inner\", on = TRIPLE)"
   ]
  },
  {
   "cell_type": "code",
   "execution_count": 114,
   "metadata": {
    "collapsed": false
   },
   "outputs": [],
   "source": [
    "all_trips = get_triples(gold_sub) | get_triples(crowd_sub.query(\"num_votes >= 4\")) | get_triples(texas_sub) | get_triples(befree_sub)\n",
    "\n",
    "venn_summary = make_df(all_trips)\n",
    "\n",
    "dsets = [get_triples(gold_sub), get_triples(crowd_sub.query(\"num_votes >= 4\")),\n",
    "         get_triples(texas_sub), get_triples(befree_sub)\n",
    "]\n",
    "\n",
    "for col, dset in zip([\"gold\", \"crowd\", \"texas\", \"befree\"], dsets):\n",
    "    venn_summary.loc[:, \"in_{}\".format(col)] = venn_summary.loc[:, TRIPLE].apply(\n",
    "        lambda r: bool(single_triple(r) in dset),\n",
    "        axis = 1\n",
    "    )"
   ]
  },
  {
   "cell_type": "code",
   "execution_count": 115,
   "metadata": {
    "collapsed": true
   },
   "outputs": [],
   "source": [
    "def grab_subset(query, df):\n",
    "    sub = df.query(query)\n",
    "    \n",
    "    print(\"number of relations:\", len(sub))\n",
    "    \n",
    "    # find out how the crowd voted\n",
    "    sub = pd.merge(sub, crowd_res[TRIPLE + [\"num_votes\", \"rel_origin\"]],\n",
    "                  how = \"left\", on = TRIPLE)\n",
    "    \n",
    "    # grab the original crowdflower work unit ids\n",
    "    all_units = pd.concat([sent_res, abs_res])\n",
    "    sub = pd.merge(sub, all_units[TRIPLE + [\"unit_ids\"]],\n",
    "                        how = \"left\", on = TRIPLE)\n",
    "    \n",
    "    # format the links for easy review\n",
    "    sub = format_links(sub)\n",
    "    \n",
    "    return sub.sort(TRIPLE + [\"rel_origin\"])"
   ]
  },
  {
   "cell_type": "code",
   "execution_count": 116,
   "metadata": {
    "collapsed": true
   },
   "outputs": [],
   "source": [
    "def print_excel(df, fname):\n",
    "    cols = [\"pmid\", \"chemical_id\", \"disease_id\", \"in_gold\", \"in_crowd\",\n",
    "           \"in_befree\", \"in_texas\", \"num_votes\", \"pubmed_link\", \"cf_link\", \"rel_origin\"]    \n",
    "    \n",
    "    df[cols].to_excel(fname, index = False)"
   ]
  },
  {
   "cell_type": "code",
   "execution_count": 117,
   "metadata": {
    "collapsed": false
   },
   "outputs": [
    {
     "name": "stdout",
     "output_type": "stream",
     "text": [
      "number of relations: 16\n"
     ]
    }
   ],
   "source": [
    "# relations which both machine learning methods got but our crowd didn't\n",
    "\n",
    "query = \"in_gold and ~in_crowd and in_texas and in_befree\"\n",
    "ml_only = grab_subset(query, venn_summary)\n",
    "print_excel(ml_only, \"machine_gold_no_crowd.xlsx\")"
   ]
  },
  {
   "cell_type": "code",
   "execution_count": 118,
   "metadata": {
    "collapsed": false
   },
   "outputs": [
    {
     "name": "stdout",
     "output_type": "stream",
     "text": [
      "number of relations: 36\n"
     ]
    }
   ],
   "source": [
    "# relations which both machine learning methods missed but our crowd got\n",
    "\n",
    "query = \"in_gold and in_crowd and ~in_texas and ~in_befree\"\n",
    "crowd_only = grab_subset(query, venn_summary)\n",
    "print_excel(crowd_only, \"crowd_gold_no_machines.xlsx\")"
   ]
  },
  {
   "cell_type": "code",
   "execution_count": 123,
   "metadata": {
    "collapsed": false
   },
   "outputs": [
    {
     "name": "stdout",
     "output_type": "stream",
     "text": [
      "number of relations: 25\n"
     ]
    }
   ],
   "source": [
    "# relations which all three methods predicted but is not in gold standard\n",
    "\n",
    "query = \"~in_gold and in_crowd and in_texas and in_befree\"\n",
    "all_fp = grab_subset(query, venn_summary)\n",
    "print_excel(all_fp, \"all_false_pos.xlsx\")"
   ]
  },
  {
   "cell_type": "code",
   "execution_count": null,
   "metadata": {
    "collapsed": true
   },
   "outputs": [],
   "source": []
  },
  {
   "cell_type": "code",
   "execution_count": null,
   "metadata": {
    "collapsed": true
   },
   "outputs": [],
   "source": []
  },
  {
   "cell_type": "code",
   "execution_count": null,
   "metadata": {
    "collapsed": true
   },
   "outputs": [],
   "source": []
  },
  {
   "cell_type": "code",
   "execution_count": null,
   "metadata": {
    "collapsed": true
   },
   "outputs": [],
   "source": []
  },
  {
   "cell_type": "code",
   "execution_count": null,
   "metadata": {
    "collapsed": true
   },
   "outputs": [],
   "source": []
  },
  {
   "cell_type": "code",
   "execution_count": null,
   "metadata": {
    "collapsed": true
   },
   "outputs": [],
   "source": []
  },
  {
   "cell_type": "code",
   "execution_count": null,
   "metadata": {
    "collapsed": true
   },
   "outputs": [],
   "source": []
  },
  {
   "cell_type": "code",
   "execution_count": null,
   "metadata": {
    "collapsed": true
   },
   "outputs": [],
   "source": []
  },
  {
   "cell_type": "markdown",
   "metadata": {},
   "source": [
    "## Concept Venn diagrams\n",
    "\n",
    "What chemical and disease concepts were identified by each solution?"
   ]
  },
  {
   "cell_type": "code",
   "execution_count": 101,
   "metadata": {
    "collapsed": false
   },
   "outputs": [],
   "source": [
    "# what were the MeSH ids of annotations for all papers in the testset?\n",
    "\n",
    "concepts = defaultdict(lambda: defaultdict(set))\n",
    "\n",
    "for method, dataset in zip([\"gold\", \"crowd\", \"befree\"], [eval_gold, crowd_full, befree_full]):\n",
    "    for pmid, paper in dataset.items():\n",
    "        for annot in paper.annotations:\n",
    "            concepts[method][annot.stype] |= set(annot.uid)\n",
    "            \n",
    "names = [\"gold\", \"crowd\", \"befree\"]\n",
    "for name in names:\n",
    "    for concept in [\"chemical\", \"disease\"]:\n",
    "        vals = {val.flat_repr for val in concepts[name][concept]}\n",
    "        print_to_file(\"temp/{}_{}.txt\".format(name, concept), format_set(vals))"
   ]
  },
  {
   "cell_type": "markdown",
   "metadata": {},
   "source": [
    "This analysis allows us to determine the performance for each of the NER methods. There may have been some concepts which the NER was never able to recognize properly.\n",
    "\n",
    "### Chemical MeSH ID overlap for all annotations\n",
    "<img src=\"../data/notebook/testset_chemical_id_venn.png\" style=\"width: 500px;\">\n",
    "\n",
    "### Disease MeSH ID overlap for all annotations\n",
    "<img src=\"../data/notebook/testset_disease_id_venn.png\" style=\"width: 500px;\">\n",
    "\n",
    "\n",
    "What we thankfully see is that the vast majority of the chemicals and diseases were identified by all three solutions. However, there exist small numbers of both chemicals and diseases for which the solutions could not come into agreement."
   ]
  },
  {
   "cell_type": "markdown",
   "metadata": {},
   "source": [
    "### Visualizing the terms in each section of the venn diagrams above\n",
    "\n",
    "To look at the actual concepts, we can use word clouds where the size represents the frequency of the concept in the annotations of the testset."
   ]
  },
  {
   "cell_type": "code",
   "execution_count": 102,
   "metadata": {
    "collapsed": true
   },
   "outputs": [],
   "source": [
    "mesh_name, hierarchy = load_mesh(\"hierarchy\")\n",
    "mesh_supp = load_mesh(\"supp\")\n",
    "\n",
    "assert set(mesh_name.keys()).isdisjoint(set(mesh_supp.keys()))\n",
    "# join the names together\n",
    "mesh_name.update(mesh_supp)"
   ]
  },
  {
   "cell_type": "code",
   "execution_count": 103,
   "metadata": {
    "collapsed": true
   },
   "outputs": [],
   "source": [
    "def word_map_prep(concepts, reference):\n",
    "    \"\"\"Given a set of concepts, map them to their names\n",
    "    and output for word cloud generation.\n",
    "    \"\"\"\n",
    "    snippets = []\n",
    "    for pmid, paper in reference.items():\n",
    "        for annot in paper.annotations:\n",
    "            common = annot.uid & concepts\n",
    "            if len(common) > 0:\n",
    "                for concept in common:\n",
    "                    if concept.uid_type == \"MESH\":\n",
    "                        snippets.append(mesh_name[concept.uid])\n",
    "                    else:\n",
    "                        snippets.append(annot.text)\n",
    "                \n",
    "    return snippets"
   ]
  },
  {
   "cell_type": "markdown",
   "metadata": {},
   "source": [
    "For UTexas, sometimes the MeSH ID doesn't match the stated semantic type. For example, in PMID 20009434, \"HD\" is identified as a disease but is assigned the id D008727 for methotrexate. When finding the frequencies, I am using the identifiers, and not verifying the semantic type. May need to adjust this."
   ]
  },
  {
   "cell_type": "code",
   "execution_count": 104,
   "metadata": {
    "collapsed": false
   },
   "outputs": [],
   "source": [
    "# generate word clouds with worditout, using the table feature for precise control over concepts\n",
    "# have to save to kemxjr@gmail.com account, then download (watch out for the watermark)\n",
    "\n",
    "common = concepts[\"befree\"][\"chemical\"] & concepts[\"crowd\"][\"chemical\"] - concepts[\"gold\"][\"chemical\"]\n",
    "\n",
    "res = word_map_prep(common, crowd_full)\n",
    "\n",
    "counts = pd.DataFrame(pd.Series(res).value_counts())\n",
    "counts.to_csv(\"temp/counts.txt\", sep = \":\", index = True, header = False)"
   ]
  },
  {
   "cell_type": "markdown",
   "metadata": {
    "collapsed": true
   },
   "source": [
    "---"
   ]
  },
  {
   "cell_type": "markdown",
   "metadata": {},
   "source": [
    "### Venn diagram of relations"
   ]
  },
  {
   "cell_type": "code",
   "execution_count": 105,
   "metadata": {
    "collapsed": true
   },
   "outputs": [],
   "source": [
    "# format triples to make venn diagrams using:\n",
    "# bioinformatics.lu/venn.php\n",
    "# bioinfogp.cnb.csic.es/tools/venny\n",
    "        \n",
    "names = [\"gold\", \"crowd\", \"befree\"]\n",
    "data = [gold_triples, crowd_trip, befree_trip]\n",
    "    \n",
    "for fname, dataset in zip(names, data):\n",
    "    print_to_file(\"{}.txt\".format(fname), format_set(dataset))"
   ]
  },
  {
   "cell_type": "code",
   "execution_count": 106,
   "metadata": {
    "collapsed": false
   },
   "outputs": [
    {
     "ename": "NameError",
     "evalue": "name 'crowd_good_gold' is not defined",
     "output_type": "error",
     "traceback": [
      "\u001b[1;31m---------------------------------------------------------------------------\u001b[0m",
      "\u001b[1;31mNameError\u001b[0m                                 Traceback (most recent call last)",
      "\u001b[1;32m<ipython-input-106-b33b55e64e63>\u001b[0m in \u001b[0;36m<module>\u001b[1;34m()\u001b[0m\n\u001b[0;32m      1\u001b[0m \u001b[1;31m# venn diagram when using only relations with perfect annotations\u001b[0m\u001b[1;33m\u001b[0m\u001b[1;33m\u001b[0m\u001b[0m\n\u001b[0;32m      2\u001b[0m \u001b[1;33m\u001b[0m\u001b[0m\n\u001b[1;32m----> 3\u001b[1;33m \u001b[0mcommon_gold\u001b[0m \u001b[1;33m=\u001b[0m \u001b[0mget_triples\u001b[0m\u001b[1;33m(\u001b[0m\u001b[0mcrowd_good_gold\u001b[0m\u001b[1;33m)\u001b[0m \u001b[1;33m|\u001b[0m \u001b[0mget_triples\u001b[0m\u001b[1;33m(\u001b[0m\u001b[0mbefree_good_gold\u001b[0m\u001b[1;33m)\u001b[0m\u001b[1;33m\u001b[0m\u001b[0m\n\u001b[0m\u001b[0;32m      4\u001b[0m \u001b[1;33m\u001b[0m\u001b[0m\n\u001b[0;32m      5\u001b[0m \u001b[0mnames\u001b[0m \u001b[1;33m=\u001b[0m \u001b[1;33m[\u001b[0m\u001b[1;34m\"gold\"\u001b[0m\u001b[1;33m,\u001b[0m \u001b[1;34m\"crowd\"\u001b[0m\u001b[1;33m,\u001b[0m \u001b[1;34m\"befree\"\u001b[0m\u001b[1;33m]\u001b[0m\u001b[1;33m\u001b[0m\u001b[0m\n",
      "\u001b[1;31mNameError\u001b[0m: name 'crowd_good_gold' is not defined"
     ]
    }
   ],
   "source": [
    "# venn diagram when using only relations with perfect annotations\n",
    "\n",
    "common_gold = get_triples(crowd_good_gold) | get_triples(befree_good_gold)\n",
    "\n",
    "names = [\"gold\", \"crowd\", \"befree\"]\n",
    "data = [common_gold, get_triples(crowd_no_ner.query(\"num_votes >= 4\")), get_triples(befree_no_ner)]\n",
    "    \n",
    "for fname, dataset in zip(names, data):\n",
    "    print_to_file(\"{}.txt\".format(fname), format_set(dataset))"
   ]
  },
  {
   "cell_type": "markdown",
   "metadata": {},
   "source": [
    "### Gold, crowd, and texas only\n",
    "<img src=\"../data/notebook/better_testset_cross_validation.png\" style=\"width: 500px;\">\n",
    "\n",
    "### Gold, crowd, texas, and befree\n",
    "<img src=\"../data/notebook/testset_all_cross_validation.png\" style=\"width: 500px;\">\n",
    "\n",
    "### Overlap using relations which had perfect annotations w.r.t. gold\n",
    "<img src=\"../data/notebook/testset_all_no_ner_cross_validation.png\", style=\"width: 500px;\">"
   ]
  },
  {
   "cell_type": "markdown",
   "metadata": {},
   "source": [
    "---"
   ]
  },
  {
   "cell_type": "markdown",
   "metadata": {},
   "source": [
    "### Percent relations in each subset with ids missing in gold standard"
   ]
  },
  {
   "cell_type": "code",
   "execution_count": null,
   "metadata": {
    "collapsed": true
   },
   "outputs": [],
   "source": [
    "def missing_stats(triples, reference):\n",
    "    df = make_df(triples)\n",
    "    df = check_exists(df, reference)\n",
    "    \n",
    "    ans = dict()\n",
    "    for col in [\"chem\", \"dise\"]:\n",
    "        cname = \"{}_exists\".format(col)\n",
    "        norm = df[cname].value_counts(normalize = True)\n",
    "        res = norm.loc[False] if False in norm.keys() else 0\n",
    "        ans[col] = res * 100\n",
    "        \n",
    "    ans[\"any\"] = len(df.query(\"~chem_exists or ~dise_exists\")) / len(df) * 100\n",
    "    return ans"
   ]
  },
  {
   "cell_type": "markdown",
   "metadata": {},
   "source": [
    "---"
   ]
  },
  {
   "cell_type": "markdown",
   "metadata": {},
   "source": [
    "### Abstract vs sentence relations"
   ]
  },
  {
   "cell_type": "code",
   "execution_count": null,
   "metadata": {
    "collapsed": true
   },
   "outputs": [],
   "source": [
    "def rel_origin(triple, paper):\n",
    "    relation = Relation(paper.pmid, triple[1], triple[2], flat = False)\n",
    "\n",
    "    rename = {\n",
    "        \"CID\": \"CID\",\n",
    "        \"sentence_non_CID\": \"sent\",\n",
    "        \"not_sentence_bound\": \"abs\"\n",
    "    }\n",
    "    \n",
    "    ans = []\n",
    "    for key, val in paper.poss_relations.items():\n",
    "        value = converter(paper.pmid, val)\n",
    "        if relation in value:\n",
    "            ans.append(rename[key])\n",
    "\n",
    "    return ans\n",
    "\n",
    "def triple_origin(triples, reference, return_res = False):\n",
    "    lengths = []\n",
    "    vals = []\n",
    "    for trip in triples:\n",
    "        pmid = trip[0]\n",
    "        res = rel_origin(trip, reference[pmid])\n",
    "        \n",
    "        vals += res\n",
    "        lengths.append(len(res))\n",
    "        \n",
    "    if return_res:\n",
    "        return pd.Series(vals).value_counts(normalize = True) * 100    \n",
    "        \n",
    "    print(\"For this triple set of length {}\".format(len(triples)))\n",
    "    print(\"Origin group lengths:\")\n",
    "    print(pd.Series(lengths).value_counts())\n",
    "    print()\n",
    "    print(\"Origin counts:\")\n",
    "    print(pd.Series(vals).value_counts(normalize = True) * 100)"
   ]
  },
  {
   "cell_type": "markdown",
   "metadata": {},
   "source": [
    "### Relation co-occurrence for each dataset separately\n",
    "\n",
    "For each technique where did the predicted relations come from?"
   ]
  },
  {
   "cell_type": "code",
   "execution_count": null,
   "metadata": {
    "collapsed": false
   },
   "outputs": [],
   "source": [
    "a = triple_origin(gold_triples, eval_gold, return_res = True)\n",
    "b = triple_origin(crowd_trip, crowd_full, return_res = True)\n",
    "c = triple_origin(befree_trip, befree_full, return_res = True)\n",
    "\n",
    "rel_origins = pd.DataFrame([a, b, c], index = [\"gold\", \"crowd\", \"befree\"])\n",
    "\n",
    "ax = rel_origins.T.plot(kind = \"bar\", figsize = (5, 7),\n",
    "                    title = \"Origin for gold standard, crowd, and texas relations\")\n",
    "ax.set_ylabel(\"Percent relations\")\n",
    "rel_origins"
   ]
  },
  {
   "cell_type": "markdown",
   "metadata": {},
   "source": [
    "---"
   ]
  },
  {
   "cell_type": "markdown",
   "metadata": {},
   "source": [
    "### Make one comprehensive dataframe for easier analysis"
   ]
  },
  {
   "cell_type": "code",
   "execution_count": null,
   "metadata": {
    "collapsed": true
   },
   "outputs": [],
   "source": [
    "def new_check_exists(df, reference, ref_name):\n",
    "    triple = [\"pmid\", \"chemical_id\", \"disease_id\"]\n",
    "    for col in [\"chemical\", \"disease\"]:\n",
    "        col_name = \"{0}_in_{1}\".format(col[:4], ref_name)\n",
    "        \n",
    "        df.loc[:, col_name] = df[triple].apply(\n",
    "            lambda row: has_concept(reference[int(row[\"pmid\"])], row[\"{}_id\".format(col)]), axis = 1)\n",
    "        \n",
    "    return df"
   ]
  },
  {
   "cell_type": "code",
   "execution_count": null,
   "metadata": {
    "collapsed": true
   },
   "outputs": [],
   "source": [
    "def single_triple_origin(pmid, chemical_id, disease_id, reference):\n",
    "    triple = (pmid, chemical_id, disease_id)\n",
    "    \n",
    "    res = rel_origin(triple, reference[pmid])\n",
    "    return \"|\".join(sorted(res))"
   ]
  },
  {
   "cell_type": "code",
   "execution_count": null,
   "metadata": {
    "collapsed": true
   },
   "outputs": [],
   "source": [
    "def num_times_cooccur(pmid, chemical_id, disease_id, rel_origin, reference):\n",
    "    \"\"\"Given a relation triple and a reference Paper object,\n",
    "    determines how many times the relation cooccurs (a sentence\n",
    "    if CID or sentence, and 1 otherwise (abstract)).\n",
    "    \"\"\"\n",
    "    if not rel_origin:\n",
    "        # was not found using this solution\n",
    "        return np.nan\n",
    "    \n",
    "    if rel_origin == \"abs\":\n",
    "        return 1\n",
    "    \n",
    "    paper = reference[pmid]\n",
    "    \n",
    "    rel = Relation(pmid, chemical_id, disease_id, flat = False)\n",
    "        \n",
    "    ans = 0\n",
    "    for sentence in paper.sentences:\n",
    "        all_rels = sentence.poss_relations[rel_origin == \"CID\"]\n",
    "        all_rels = [Relation(pmid, chem_set, dise_set) for chem_set, dise_set in all_rels]\n",
    "        ans += int(rel in all_rels)\n",
    "        \n",
    "    return ans"
   ]
  },
  {
   "cell_type": "code",
   "execution_count": null,
   "metadata": {
    "collapsed": false
   },
   "outputs": [],
   "source": [
    "# creating one comprehensive dataframe for easy result aggregation and querying\n",
    "\n",
    "all_trips = gold_triples | crowd_trip | befree_trip\n",
    "all_df = make_df(all_trips)\n",
    "\n",
    "triple = [\"pmid\", \"chemical_id\", \"disease_id\"]\n",
    "\n",
    "# which triple was found by which solution?\n",
    "for name, reference in zip([\"gold\", \"crowd\", \"befree\"], [gold_triples, crowd_trip, befree_trip]):\n",
    "    all_df.loc[:, \"in_{}\".format(name)] = all_df.loc[:, triple].apply(\n",
    "        lambda row: (row[\"pmid\"], row[\"chemical_id\"], row[\"disease_id\"]) in reference,\n",
    "        axis = 1\n",
    "    )\n",
    "    \n",
    "# were the concepts present in each dataset's concepts?\n",
    "for name, reference in zip([\"gold\", \"crowd\", \"befree\"], [eval_gold, crowd_full, befree_full]):\n",
    "    all_df = new_check_exists(all_df, reference, name)\n",
    "\n",
    "# was the relation sentence bound or abstract level?\n",
    "for name, reference in zip([\"gold\", \"crowd\", \"befree\"], [eval_gold, crowd_full, befree_full]):\n",
    "    colname = \"rel_orig_{}\".format(name)\n",
    "    \n",
    "    all_df.loc[:, colname] = all_df.loc[:, triple].apply(\n",
    "        lambda row: single_triple_origin(row[\"pmid\"], row[\"chemical_id\"], row[\"disease_id\"], reference),\n",
    "        axis = 1\n",
    "    )\n",
    "    \n",
    "# how many times did the two concepts cooccur within the paper?    \n",
    "for name, reference in zip([\"gold\", \"crowd\", \"befree\"], [eval_gold, crowd_full, befree_full]):    \n",
    "    colname = \"cooccur_{}\".format(name)\n",
    "    rel_orig = \"rel_orig_{}\".format(name)\n",
    "    \n",
    "    all_df.loc[:, colname] = all_df.loc[:, triple + [rel_orig]].apply(\n",
    "        lambda row: num_times_cooccur(row[\"pmid\"], row[\"chemical_id\"], row[\"disease_id\"],\n",
    "                                     row[rel_orig], reference),\n",
    "        axis = 1\n",
    "    )"
   ]
  },
  {
   "cell_type": "code",
   "execution_count": null,
   "metadata": {
    "collapsed": false
   },
   "outputs": [],
   "source": [
    "all_df.head()"
   ]
  },
  {
   "cell_type": "code",
   "execution_count": null,
   "metadata": {
    "collapsed": false
   },
   "outputs": [],
   "source": [
    "lel = all_df.query(\"~in_gold and in_crowd and ~in_befree\")"
   ]
  },
  {
   "cell_type": "code",
   "execution_count": null,
   "metadata": {
    "collapsed": false
   },
   "outputs": [],
   "source": [
    "lel.shape"
   ]
  },
  {
   "cell_type": "code",
   "execution_count": null,
   "metadata": {
    "collapsed": false
   },
   "outputs": [],
   "source": [
    "lel.query(\"~chem_in_gold or ~dise_in_gold\").shape"
   ]
  },
  {
   "cell_type": "code",
   "execution_count": null,
   "metadata": {
    "collapsed": false
   },
   "outputs": [],
   "source": [
    "162/517"
   ]
  },
  {
   "cell_type": "code",
   "execution_count": null,
   "metadata": {
    "collapsed": true
   },
   "outputs": [],
   "source": [
    "lel = all_df.query(\"~in_gold and ~in_crowd and in_befree\")"
   ]
  },
  {
   "cell_type": "code",
   "execution_count": null,
   "metadata": {
    "collapsed": false
   },
   "outputs": [],
   "source": [
    "lel.shape"
   ]
  },
  {
   "cell_type": "code",
   "execution_count": null,
   "metadata": {
    "collapsed": false
   },
   "outputs": [],
   "source": [
    "lel.query(\"~chem_in_gold or ~dise_in_gold\").shape"
   ]
  },
  {
   "cell_type": "code",
   "execution_count": null,
   "metadata": {
    "collapsed": false,
    "scrolled": true
   },
   "outputs": [],
   "source": [
    "150/312"
   ]
  },
  {
   "cell_type": "code",
   "execution_count": null,
   "metadata": {
    "collapsed": true
   },
   "outputs": [],
   "source": [
    "lel = all_df.query(\"~in_gold and in_crowd and ~in_befree and chem_in_gold and dise_in_gold\")"
   ]
  },
  {
   "cell_type": "code",
   "execution_count": null,
   "metadata": {
    "collapsed": false
   },
   "outputs": [],
   "source": [
    "lel.shape"
   ]
  },
  {
   "cell_type": "code",
   "execution_count": null,
   "metadata": {
    "collapsed": true
   },
   "outputs": [],
   "source": []
  },
  {
   "cell_type": "code",
   "execution_count": null,
   "metadata": {
    "collapsed": true
   },
   "outputs": [],
   "source": []
  },
  {
   "cell_type": "markdown",
   "metadata": {},
   "source": [
    "---"
   ]
  },
  {
   "cell_type": "markdown",
   "metadata": {},
   "source": [
    "### How many of the sentence and abstract relations did each method find? What was the precision?"
   ]
  },
  {
   "cell_type": "code",
   "execution_count": 107,
   "metadata": {
    "collapsed": false
   },
   "outputs": [],
   "source": [
    "def found_stats():\n",
    "    recall = dict()\n",
    "    precision = dict()\n",
    "    for method in [\"crowd\", \"befree\"]:\n",
    "        rec_temp = dict()\n",
    "        pre_temp = dict()\n",
    "        for rel_type in [\"CID\", \"sent\", \"abs\"]:\n",
    "            sub = all_df.query(\"in_gold and rel_orig_gold == '{}'\".format(rel_type))\n",
    "            total = len(sub)\n",
    "            found = len(sub.query(\"in_{}\".format(method)))\n",
    "            \n",
    "            guesses = all_df.query(\"in_{0} and rel_orig_{0} == '{1}'\".format(method, rel_type))\n",
    "            guesses = len(guesses)\n",
    "            \n",
    "            rec_temp[rel_type] = found / total * 100\n",
    "            pre_temp[rel_type] = found / guesses * 100\n",
    "            \n",
    "        recall[method] = rec_temp\n",
    "        precision[method] = pre_temp\n",
    "        \n",
    "    print(recall)\n",
    "        \n",
    "    return (pd.DataFrame(recall), pd.DataFrame(precision))"
   ]
  },
  {
   "cell_type": "code",
   "execution_count": 108,
   "metadata": {
    "collapsed": false
   },
   "outputs": [
    {
     "ename": "NameError",
     "evalue": "name 'all_df' is not defined",
     "output_type": "error",
     "traceback": [
      "\u001b[1;31m---------------------------------------------------------------------------\u001b[0m",
      "\u001b[1;31mNameError\u001b[0m                                 Traceback (most recent call last)",
      "\u001b[1;32m<ipython-input-108-6502dbd4c791>\u001b[0m in \u001b[0;36m<module>\u001b[1;34m()\u001b[0m\n\u001b[1;32m----> 1\u001b[1;33m \u001b[0mrecall\u001b[0m\u001b[1;33m,\u001b[0m \u001b[0mprecision\u001b[0m \u001b[1;33m=\u001b[0m \u001b[0mfound_stats\u001b[0m\u001b[1;33m(\u001b[0m\u001b[1;33m)\u001b[0m\u001b[1;33m\u001b[0m\u001b[0m\n\u001b[0m",
      "\u001b[1;32m<ipython-input-107-d03de00dad3f>\u001b[0m in \u001b[0;36mfound_stats\u001b[1;34m()\u001b[0m\n\u001b[0;32m      6\u001b[0m         \u001b[0mpre_temp\u001b[0m \u001b[1;33m=\u001b[0m \u001b[0mdict\u001b[0m\u001b[1;33m(\u001b[0m\u001b[1;33m)\u001b[0m\u001b[1;33m\u001b[0m\u001b[0m\n\u001b[0;32m      7\u001b[0m         \u001b[1;32mfor\u001b[0m \u001b[0mrel_type\u001b[0m \u001b[1;32min\u001b[0m \u001b[1;33m[\u001b[0m\u001b[1;34m\"CID\"\u001b[0m\u001b[1;33m,\u001b[0m \u001b[1;34m\"sent\"\u001b[0m\u001b[1;33m,\u001b[0m \u001b[1;34m\"abs\"\u001b[0m\u001b[1;33m]\u001b[0m\u001b[1;33m:\u001b[0m\u001b[1;33m\u001b[0m\u001b[0m\n\u001b[1;32m----> 8\u001b[1;33m             \u001b[0msub\u001b[0m \u001b[1;33m=\u001b[0m \u001b[0mall_df\u001b[0m\u001b[1;33m.\u001b[0m\u001b[0mquery\u001b[0m\u001b[1;33m(\u001b[0m\u001b[1;34m\"in_gold and rel_orig_gold == '{}'\"\u001b[0m\u001b[1;33m.\u001b[0m\u001b[0mformat\u001b[0m\u001b[1;33m(\u001b[0m\u001b[0mrel_type\u001b[0m\u001b[1;33m)\u001b[0m\u001b[1;33m)\u001b[0m\u001b[1;33m\u001b[0m\u001b[0m\n\u001b[0m\u001b[0;32m      9\u001b[0m             \u001b[0mtotal\u001b[0m \u001b[1;33m=\u001b[0m \u001b[0mlen\u001b[0m\u001b[1;33m(\u001b[0m\u001b[0msub\u001b[0m\u001b[1;33m)\u001b[0m\u001b[1;33m\u001b[0m\u001b[0m\n\u001b[0;32m     10\u001b[0m             \u001b[0mfound\u001b[0m \u001b[1;33m=\u001b[0m \u001b[0mlen\u001b[0m\u001b[1;33m(\u001b[0m\u001b[0msub\u001b[0m\u001b[1;33m.\u001b[0m\u001b[0mquery\u001b[0m\u001b[1;33m(\u001b[0m\u001b[1;34m\"in_{}\"\u001b[0m\u001b[1;33m.\u001b[0m\u001b[0mformat\u001b[0m\u001b[1;33m(\u001b[0m\u001b[0mmethod\u001b[0m\u001b[1;33m)\u001b[0m\u001b[1;33m)\u001b[0m\u001b[1;33m)\u001b[0m\u001b[1;33m\u001b[0m\u001b[0m\n",
      "\u001b[1;31mNameError\u001b[0m: name 'all_df' is not defined"
     ]
    }
   ],
   "source": [
    "recall, precision = found_stats()"
   ]
  },
  {
   "cell_type": "code",
   "execution_count": 109,
   "metadata": {
    "collapsed": false
   },
   "outputs": [],
   "source": [
    "recall"
   ]
  },
  {
   "cell_type": "code",
   "execution_count": null,
   "metadata": {
    "collapsed": true
   },
   "outputs": [],
   "source": [
    "  etype origin  crowd_wrong  task_limitation  hierarchy_error  \\\n",
    "0    FN    abs     0.666667         0.133333         0.000000   \n",
    "1    FN   sent     0.333333         0.733333         0.000000   \n",
    "2    FP    abs     0.266667         0.133333         0.000000   \n",
    "3    FP   sent     0.333333         0.200000         0.133333   \n",
    "\n",
    "   implicit_relation  lack_of_context  ambiguous  lack_of_comprehension  \\\n",
    "0           0.133333         0.000000   0.000000               0.666667   \n",
    "1           0.000000         0.600000   0.000000               0.133333   \n",
    "2           0.000000         0.000000   0.000000               0.266667   \n",
    "3           0.000000         0.066667   0.066667               0.133333   \n",
    "\n",
    "   ner_error  gold_inconsistent  not_covered_by_instructions  gold_error  \n",
    "0   0.000000           0.000000                     0.000000    0.200000  \n",
    "1   0.000000           0.000000                     0.133333    0.133333  \n",
    "2   0.000000           0.000000                     0.000000    0.733333  \n",
    "3   0.066667           0.066667                     0.000000    0.466667  "
   ]
  },
  {
   "cell_type": "code",
   "execution_count": 110,
   "metadata": {
    "collapsed": false
   },
   "outputs": [
    {
     "ename": "NameError",
     "evalue": "name 'recall' is not defined",
     "output_type": "error",
     "traceback": [
      "\u001b[1;31m---------------------------------------------------------------------------\u001b[0m",
      "\u001b[1;31mNameError\u001b[0m                                 Traceback (most recent call last)",
      "\u001b[1;32m<ipython-input-110-371df507b184>\u001b[0m in \u001b[0;36m<module>\u001b[1;34m()\u001b[0m\n\u001b[1;32m----> 1\u001b[1;33m ax = recall.plot(kind = \"bar\", figsize = (4, 5),\n\u001b[0m\u001b[0;32m      2\u001b[0m         title = \"Gold relation recall by relation category\")\n\u001b[0;32m      3\u001b[0m \u001b[1;33m\u001b[0m\u001b[0m\n\u001b[0;32m      4\u001b[0m \u001b[0max\u001b[0m\u001b[1;33m.\u001b[0m\u001b[0mset_ylabel\u001b[0m\u001b[1;33m(\u001b[0m\u001b[1;34m\"Percent gold relations found\"\u001b[0m\u001b[1;33m)\u001b[0m\u001b[1;33m\u001b[0m\u001b[0m\n\u001b[0;32m      5\u001b[0m \u001b[1;33m\u001b[0m\u001b[0m\n",
      "\u001b[1;31mNameError\u001b[0m: name 'recall' is not defined"
     ]
    }
   ],
   "source": [
    "ax = recall.plot(kind = \"bar\", figsize = (4, 5),\n",
    "        title = \"Gold relation recall by relation category\")\n",
    "\n",
    "ax.set_ylabel(\"Percent gold relations found\")\n",
    "\n",
    "recall"
   ]
  },
  {
   "cell_type": "code",
   "execution_count": 111,
   "metadata": {
    "collapsed": false
   },
   "outputs": [
    {
     "ename": "NameError",
     "evalue": "name 'precision' is not defined",
     "output_type": "error",
     "traceback": [
      "\u001b[1;31m---------------------------------------------------------------------------\u001b[0m",
      "\u001b[1;31mNameError\u001b[0m                                 Traceback (most recent call last)",
      "\u001b[1;32m<ipython-input-111-cd5cd04b1e77>\u001b[0m in \u001b[0;36m<module>\u001b[1;34m()\u001b[0m\n\u001b[1;32m----> 1\u001b[1;33m ax = precision.plot(kind = \"bar\", figsize = (4, 5),\n\u001b[0m\u001b[0;32m      2\u001b[0m         title = \"Gold relation precision by relation category\")\n\u001b[0;32m      3\u001b[0m \u001b[1;33m\u001b[0m\u001b[0m\n\u001b[0;32m      4\u001b[0m \u001b[0max\u001b[0m\u001b[1;33m.\u001b[0m\u001b[0mset_ylabel\u001b[0m\u001b[1;33m(\u001b[0m\u001b[1;34m\"Precision of guesses\"\u001b[0m\u001b[1;33m)\u001b[0m\u001b[1;33m\u001b[0m\u001b[0m\n\u001b[0;32m      5\u001b[0m \u001b[1;33m\u001b[0m\u001b[0m\n",
      "\u001b[1;31mNameError\u001b[0m: name 'precision' is not defined"
     ]
    }
   ],
   "source": [
    "ax = precision.plot(kind = \"bar\", figsize = (4, 5),\n",
    "        title = \"Gold relation precision by relation category\")\n",
    "\n",
    "ax.set_ylabel(\"Precision of guesses\")\n",
    "\n",
    "precision"
   ]
  },
  {
   "cell_type": "markdown",
   "metadata": {},
   "source": [
    "The two solutions found similar fractions of CID and abstract relations. The Texas solution found more sentence relations, but their predictions also contained more sentence-level relations overall. This is bad.. We are showing in different ways why the automated solution was better than our crowd.."
   ]
  },
  {
   "cell_type": "markdown",
   "metadata": {},
   "source": [
    "### Of the relations which neither technique got, why did we not get them?"
   ]
  },
  {
   "cell_type": "code",
   "execution_count": 112,
   "metadata": {
    "collapsed": false
   },
   "outputs": [
    {
     "ename": "NameError",
     "evalue": "name 'missing_stats' is not defined",
     "output_type": "error",
     "traceback": [
      "\u001b[1;31m---------------------------------------------------------------------------\u001b[0m",
      "\u001b[1;31mNameError\u001b[0m                                 Traceback (most recent call last)",
      "\u001b[1;32m<ipython-input-112-816abef7845d>\u001b[0m in \u001b[0;36m<module>\u001b[1;34m()\u001b[0m\n\u001b[0;32m      1\u001b[0m \u001b[0munfound\u001b[0m \u001b[1;33m=\u001b[0m \u001b[0mgold_triples\u001b[0m \u001b[1;33m-\u001b[0m \u001b[0mcrowd_trip\u001b[0m \u001b[1;33m-\u001b[0m \u001b[0mbefree_trip\u001b[0m\u001b[1;33m\u001b[0m\u001b[0m\n\u001b[0;32m      2\u001b[0m \u001b[1;33m\u001b[0m\u001b[0m\n\u001b[1;32m----> 3\u001b[1;33m \u001b[0mcrowd_miss\u001b[0m \u001b[1;33m=\u001b[0m \u001b[0mmissing_stats\u001b[0m\u001b[1;33m(\u001b[0m\u001b[0munfound\u001b[0m\u001b[1;33m,\u001b[0m \u001b[0mcrowd_full\u001b[0m\u001b[1;33m)\u001b[0m\u001b[1;33m\u001b[0m\u001b[0m\n\u001b[0m\u001b[0;32m      4\u001b[0m \u001b[0mut_miss\u001b[0m \u001b[1;33m=\u001b[0m \u001b[0mmissing_stats\u001b[0m\u001b[1;33m(\u001b[0m\u001b[0munfound\u001b[0m\u001b[1;33m,\u001b[0m \u001b[0mbefree_full\u001b[0m\u001b[1;33m)\u001b[0m\u001b[1;33m\u001b[0m\u001b[0m\n\u001b[0;32m      5\u001b[0m \u001b[1;33m\u001b[0m\u001b[0m\n",
      "\u001b[1;31mNameError\u001b[0m: name 'missing_stats' is not defined"
     ]
    }
   ],
   "source": [
    "unfound = gold_triples - crowd_trip - befree_trip\n",
    "\n",
    "crowd_miss = missing_stats(unfound, crowd_full)\n",
    "ut_miss = missing_stats(unfound, befree_full)\n",
    "\n",
    "missing = pd.DataFrame([crowd_miss, ut_miss], index = [\"crowd\", \"befree\"])\n",
    "\n",
    "ax = missing.T.plot(kind = \"bar\", figsize = (7, 7),\n",
    "             title = \"Percent of unfound relations using unknown identifiers\")\n",
    "\n",
    "ax.set_ylabel(\"Percent of concepts in gold relations with unknown IDs\")\n",
    "missing"
   ]
  },
  {
   "cell_type": "markdown",
   "metadata": {},
   "source": [
    "So a vast majority of the missed gold relations were unfound mainly because they used an ID which did not appear anywhere in the NER output for that paper.\n",
    "\n",
    "For the relations which were indexed, what was the scope of the relation?"
   ]
  },
  {
   "cell_type": "code",
   "execution_count": 113,
   "metadata": {
    "collapsed": false
   },
   "outputs": [
    {
     "ename": "NameError",
     "evalue": "name 'all_df' is not defined",
     "output_type": "error",
     "traceback": [
      "\u001b[1;31m---------------------------------------------------------------------------\u001b[0m",
      "\u001b[1;31mNameError\u001b[0m                                 Traceback (most recent call last)",
      "\u001b[1;32m<ipython-input-113-f4e65d21219e>\u001b[0m in \u001b[0;36m<module>\u001b[1;34m()\u001b[0m\n\u001b[1;32m----> 1\u001b[1;33m \u001b[0munfound\u001b[0m \u001b[1;33m=\u001b[0m \u001b[0mall_df\u001b[0m\u001b[1;33m.\u001b[0m\u001b[0mquery\u001b[0m\u001b[1;33m(\u001b[0m\u001b[1;34m\"in_gold and ~in_crowd and ~in_texas\"\u001b[0m\u001b[1;33m)\u001b[0m\u001b[1;33m\u001b[0m\u001b[0m\n\u001b[0m\u001b[0;32m      2\u001b[0m \u001b[0mcrowd_miss\u001b[0m \u001b[1;33m=\u001b[0m \u001b[0munfound\u001b[0m\u001b[1;33m.\u001b[0m\u001b[0mquery\u001b[0m\u001b[1;33m(\u001b[0m\u001b[1;34m\"chem_in_crowd and dise_in_crowd\"\u001b[0m\u001b[1;33m)\u001b[0m\u001b[1;33m[\u001b[0m\u001b[1;34m\"rel_orig_gold\"\u001b[0m\u001b[1;33m]\u001b[0m\u001b[1;33m.\u001b[0m\u001b[0mvalue_counts\u001b[0m\u001b[1;33m(\u001b[0m\u001b[0mnormalize\u001b[0m \u001b[1;33m=\u001b[0m \u001b[1;32mTrue\u001b[0m\u001b[1;33m)\u001b[0m \u001b[1;33m*\u001b[0m \u001b[1;36m100\u001b[0m\u001b[1;33m\u001b[0m\u001b[0m\n\u001b[0;32m      3\u001b[0m \u001b[0mtexas_miss\u001b[0m \u001b[1;33m=\u001b[0m \u001b[0munfound\u001b[0m\u001b[1;33m.\u001b[0m\u001b[0mquery\u001b[0m\u001b[1;33m(\u001b[0m\u001b[1;34m\"chem_in_texas and dise_in_texas\"\u001b[0m\u001b[1;33m)\u001b[0m\u001b[1;33m[\u001b[0m\u001b[1;34m\"rel_orig_gold\"\u001b[0m\u001b[1;33m]\u001b[0m\u001b[1;33m.\u001b[0m\u001b[0mvalue_counts\u001b[0m\u001b[1;33m(\u001b[0m\u001b[0mnormalize\u001b[0m \u001b[1;33m=\u001b[0m \u001b[1;32mTrue\u001b[0m\u001b[1;33m)\u001b[0m \u001b[1;33m*\u001b[0m \u001b[1;36m100\u001b[0m\u001b[1;33m\u001b[0m\u001b[0m\n\u001b[0;32m      4\u001b[0m \u001b[1;33m\u001b[0m\u001b[0m\n\u001b[0;32m      5\u001b[0m \u001b[0mmissed\u001b[0m \u001b[1;33m=\u001b[0m \u001b[0mpd\u001b[0m\u001b[1;33m.\u001b[0m\u001b[0mDataFrame\u001b[0m\u001b[1;33m(\u001b[0m\u001b[1;33m[\u001b[0m\u001b[0mcrowd_miss\u001b[0m\u001b[1;33m,\u001b[0m \u001b[0mtexas_miss\u001b[0m\u001b[1;33m]\u001b[0m\u001b[1;33m,\u001b[0m \u001b[0mindex\u001b[0m \u001b[1;33m=\u001b[0m \u001b[1;33m[\u001b[0m\u001b[1;34m\"crowd\"\u001b[0m\u001b[1;33m,\u001b[0m \u001b[1;34m\"texas\"\u001b[0m\u001b[1;33m]\u001b[0m\u001b[1;33m)\u001b[0m\u001b[1;33m\u001b[0m\u001b[0m\n",
      "\u001b[1;31mNameError\u001b[0m: name 'all_df' is not defined"
     ]
    }
   ],
   "source": [
    "unfound = all_df.query(\"in_gold and ~in_crowd and ~in_texas\")\n",
    "crowd_miss = unfound.query(\"chem_in_crowd and dise_in_crowd\")[\"rel_orig_gold\"].value_counts(normalize = True) * 100\n",
    "texas_miss = unfound.query(\"chem_in_texas and dise_in_texas\")[\"rel_orig_gold\"].value_counts(normalize = True) * 100\n",
    "\n",
    "missed = pd.DataFrame([crowd_miss, texas_miss], index = [\"crowd\", \"texas\"])\n",
    "\n",
    "ax = missed.T.plot(kind = \"bar\", figsize = (6, 6),\n",
    "                title = \"Relation scope for indexable but missed gold relations\")\n",
    "\n",
    "ax.set_ylabel(\"Percent of gold relations\")\n",
    "missed"
   ]
  },
  {
   "cell_type": "markdown",
   "metadata": {},
   "source": [
    "For both solutions, at least half of the indexable, missed gold relations were abstract scoped, and therefore likely harder to determine correctly. Texas's solution seems to have a slight bias for the abstract scoped relations, but the different is probably not significant."
   ]
  },
  {
   "cell_type": "markdown",
   "metadata": {},
   "source": [
    "---"
   ]
  },
  {
   "cell_type": "markdown",
   "metadata": {},
   "source": [
    "### For the relations which were false positives, what percentage were due to NER errors?"
   ]
  },
  {
   "cell_type": "code",
   "execution_count": 114,
   "metadata": {
    "collapsed": false
   },
   "outputs": [
    {
     "ename": "NameError",
     "evalue": "name 'missing_stats' is not defined",
     "output_type": "error",
     "traceback": [
      "\u001b[1;31m---------------------------------------------------------------------------\u001b[0m",
      "\u001b[1;31mNameError\u001b[0m                                 Traceback (most recent call last)",
      "\u001b[1;32m<ipython-input-114-bc0c1a3a4bdb>\u001b[0m in \u001b[0;36m<module>\u001b[1;34m()\u001b[0m\n\u001b[0;32m      3\u001b[0m \u001b[0mcrowd_befree\u001b[0m \u001b[1;33m=\u001b[0m \u001b[0mcrowd_trip\u001b[0m \u001b[1;33m&\u001b[0m \u001b[0mbefree_trip\u001b[0m \u001b[1;33m-\u001b[0m \u001b[0mgold_triples\u001b[0m\u001b[1;33m\u001b[0m\u001b[0m\n\u001b[0;32m      4\u001b[0m \u001b[1;33m\u001b[0m\u001b[0m\n\u001b[1;32m----> 5\u001b[1;33m \u001b[0mcr_miss\u001b[0m \u001b[1;33m=\u001b[0m \u001b[0mmissing_stats\u001b[0m\u001b[1;33m(\u001b[0m\u001b[0mcrowd_only\u001b[0m\u001b[1;33m,\u001b[0m \u001b[0meval_gold\u001b[0m\u001b[1;33m)\u001b[0m\u001b[1;33m\u001b[0m\u001b[0m\n\u001b[0m\u001b[0;32m      6\u001b[0m \u001b[0mbefree_miss\u001b[0m \u001b[1;33m=\u001b[0m \u001b[0mmissing_stats\u001b[0m\u001b[1;33m(\u001b[0m\u001b[0mbefree_only\u001b[0m\u001b[1;33m,\u001b[0m \u001b[0meval_gold\u001b[0m\u001b[1;33m)\u001b[0m\u001b[1;33m\u001b[0m\u001b[0m\n\u001b[0;32m      7\u001b[0m \u001b[0mboth_miss\u001b[0m \u001b[1;33m=\u001b[0m \u001b[0mmissing_stats\u001b[0m\u001b[1;33m(\u001b[0m\u001b[0mcrowd_befree\u001b[0m\u001b[1;33m,\u001b[0m \u001b[0meval_gold\u001b[0m\u001b[1;33m)\u001b[0m\u001b[1;33m\u001b[0m\u001b[0m\n",
      "\u001b[1;31mNameError\u001b[0m: name 'missing_stats' is not defined"
     ]
    }
   ],
   "source": [
    "crowd_only = crowd_trip - gold_triples - befree_trip\n",
    "befree_only = befree_trip - gold_triples - crowd_trip\n",
    "crowd_befree = crowd_trip & befree_trip - gold_triples\n",
    "\n",
    "cr_miss = missing_stats(crowd_only, eval_gold)\n",
    "befree_miss = missing_stats(befree_only, eval_gold)\n",
    "both_miss = missing_stats(crowd_befree, eval_gold)\n",
    "\n",
    "missing = pd.DataFrame([cr_miss, befree_miss, both_miss], index = [\"crowd_only\", \"befree_only\", \"crowd_and_befree\"])\n",
    "\n",
    "ax = missing.T.plot(kind = \"bar\", figsize = (7, 7),\n",
    "                   title = \"Percent of false positive relations\\nusing IDs not included in gold standard\")\n",
    "ax.set_ylabel(\"Percent of relations using IDs nonexistent in gold\")\n",
    "missing"
   ]
  },
  {
   "cell_type": "markdown",
   "metadata": {},
   "source": [
    "A significant number of the false positives for both solutions separately were a result of using MeSH IDs which did not occur in the gold standard. However, the false positives identified by both solutions have a significantly lower rate of NER error, suggesting that these were likely to be real relations which the gold does not include for some reason."
   ]
  },
  {
   "cell_type": "markdown",
   "metadata": {},
   "source": [
    "---"
   ]
  },
  {
   "cell_type": "markdown",
   "metadata": {},
   "source": [
    "### For the gold relations which one solution got but the other missed, why did each solution miss the relations and what kind of relations are they?"
   ]
  },
  {
   "cell_type": "code",
   "execution_count": 115,
   "metadata": {
    "collapsed": false
   },
   "outputs": [
    {
     "ename": "NameError",
     "evalue": "name 'all_df' is not defined",
     "output_type": "error",
     "traceback": [
      "\u001b[1;31m---------------------------------------------------------------------------\u001b[0m",
      "\u001b[1;31mNameError\u001b[0m                                 Traceback (most recent call last)",
      "\u001b[1;32m<ipython-input-115-9673a240f55e>\u001b[0m in \u001b[0;36m<module>\u001b[1;34m()\u001b[0m\n\u001b[1;32m----> 1\u001b[1;33m \u001b[0mcrowd_gold\u001b[0m \u001b[1;33m=\u001b[0m \u001b[0mall_df\u001b[0m\u001b[1;33m.\u001b[0m\u001b[0mquery\u001b[0m\u001b[1;33m(\u001b[0m\u001b[1;34m\"in_gold and in_crowd and ~in_befree\"\u001b[0m\u001b[1;33m)\u001b[0m\u001b[1;33m\u001b[0m\u001b[0m\n\u001b[0m\u001b[0;32m      2\u001b[0m \u001b[0mbefree_gold\u001b[0m \u001b[1;33m=\u001b[0m \u001b[0mall_df\u001b[0m\u001b[1;33m.\u001b[0m\u001b[0mquery\u001b[0m\u001b[1;33m(\u001b[0m\u001b[1;34m\"in_gold and in_befree and ~in_crowd\"\u001b[0m\u001b[1;33m)\u001b[0m\u001b[1;33m\u001b[0m\u001b[0m\n\u001b[0;32m      3\u001b[0m \u001b[1;33m\u001b[0m\u001b[0m\n\u001b[0;32m      4\u001b[0m \u001b[0mcrowd_gold\u001b[0m \u001b[1;33m=\u001b[0m \u001b[0mget_triples\u001b[0m\u001b[1;33m(\u001b[0m\u001b[0mcrowd_gold\u001b[0m\u001b[1;33m)\u001b[0m\u001b[1;33m\u001b[0m\u001b[0m\n\u001b[0;32m      5\u001b[0m \u001b[0mbefree_gold\u001b[0m \u001b[1;33m=\u001b[0m \u001b[0mget_triples\u001b[0m\u001b[1;33m(\u001b[0m\u001b[0mbefree_gold\u001b[0m\u001b[1;33m)\u001b[0m\u001b[1;33m\u001b[0m\u001b[0m\n",
      "\u001b[1;31mNameError\u001b[0m: name 'all_df' is not defined"
     ]
    }
   ],
   "source": [
    "crowd_gold = all_df.query(\"in_gold and in_crowd and ~in_befree\")\n",
    "befree_gold = all_df.query(\"in_gold and in_befree and ~in_crowd\")\n",
    "\n",
    "crowd_gold = get_triples(crowd_gold)\n",
    "befree_gold = get_triples(befree_gold)\n",
    "\n",
    "# unindexable by texas, and by crowd\n",
    "miss_by_befree = missing_stats(crowd_gold, befree_full)\n",
    "miss_by_cr = missing_stats(befree_gold, crowd_full)\n",
    "\n",
    "missing = pd.DataFrame([miss_by_befree, miss_by_cr],\n",
    "                       index = [\"crowd_rels_missed_by_befree\", \"texas_rels_missed_by_crowd\"])\n",
    "ax = missing.plot(kind = \"bar\", figsize = (7, 7),\n",
    "                 title = \"Percentage relations found by one solution but\\n\"\n",
    "                 \"missing in the other due to unindexed concept IDs\")\n",
    "ax.set_ylabel(\"Percent of relations using IDs\\nnot indexable by other method\")\n",
    "ax.set_xticklabels(missing.index, rotation = 0)\n",
    "missing"
   ]
  },
  {
   "cell_type": "markdown",
   "metadata": {},
   "source": [
    "Based on the graph above, we see that the relations which our crowd got but Texas didn't only contained a small subset where the relations contained IDs which were not indexed by Texas. In contrast, a lot of the relations (40%) that Texas got but the crowd didn't were because the IDs were never found, not because the crowd is bad at relation extraction."
   ]
  },
  {
   "cell_type": "markdown",
   "metadata": {},
   "source": [
    "---"
   ]
  }
 ],
 "metadata": {
  "kernelspec": {
   "display_name": "Python 3",
   "language": "python",
   "name": "python3"
  },
  "language_info": {
   "codemirror_mode": {
    "name": "ipython",
    "version": 3
   },
   "file_extension": ".py",
   "mimetype": "text/x-python",
   "name": "python",
   "nbconvert_exporter": "python",
   "pygments_lexer": "ipython3",
   "version": "3.4.2"
  }
 },
 "nbformat": 4,
 "nbformat_minor": 0
}
