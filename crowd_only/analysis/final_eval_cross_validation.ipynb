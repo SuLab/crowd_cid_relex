{
 "cells": [
  {
   "cell_type": "markdown",
   "metadata": {},
   "source": [
    "# Cross validation analysis of final evaluation results between different techniques\n",
    "\n",
    "Tong Shu Li<br>\n",
    "Created on: 2015-10-08<br>\n",
    "Last updated: 2015-10-20\n",
    "\n",
    "The team at UTexas was kind enough to send their final predictions for the CID task. We will compare their results to the crowd's and see where their outputs differed."
   ]
  },
  {
   "cell_type": "code",
   "execution_count": 1,
   "metadata": {
    "collapsed": true
   },
   "outputs": [],
   "source": [
    "from collections import defaultdict\n",
    "from itertools import permutations\n",
    "import matplotlib\n",
    "import matplotlib.pyplot as plt\n",
    "import numpy as np\n",
    "import os\n",
    "import pandas as pd\n",
    "import pickle\n",
    "import sys"
   ]
  },
  {
   "cell_type": "code",
   "execution_count": 2,
   "metadata": {
    "collapsed": true
   },
   "outputs": [],
   "source": [
    "RAND_KEY = np.random.RandomState(20151007)"
   ]
  },
  {
   "cell_type": "code",
   "execution_count": 3,
   "metadata": {
    "collapsed": true
   },
   "outputs": [],
   "source": [
    "%matplotlib inline"
   ]
  },
  {
   "cell_type": "code",
   "execution_count": 4,
   "metadata": {
    "collapsed": false
   },
   "outputs": [],
   "source": [
    "matplotlib.rcParams.update({'font.size': 12})"
   ]
  },
  {
   "cell_type": "code",
   "execution_count": 5,
   "metadata": {
    "collapsed": true
   },
   "outputs": [],
   "source": [
    "sys.path.append(\"..\")"
   ]
  },
  {
   "cell_type": "code",
   "execution_count": 6,
   "metadata": {
    "collapsed": false
   },
   "outputs": [],
   "source": [
    "from src.lingpipe.file_util import read_file\n",
    "from src.lingpipe.file_util import save_file\n",
    "\n",
    "from src.data_model import Ontology_ID\n",
    "from src.data_model import Relation\n",
    "from src.data_model import parse_input\n",
    "from src.data_model import parse_file\n",
    "from src.data_model import Annotation\n",
    "\n",
    "from src.eval_perf import performance\n",
    "from src.parse_mesh import load_mesh\n",
    "from src.get_mesh_terms import Article"
   ]
  },
  {
   "cell_type": "code",
   "execution_count": 7,
   "metadata": {
    "collapsed": true
   },
   "outputs": [],
   "source": [
    "TRIPLE = [\"pmid\", \"chemical_id\", \"disease_id\"]"
   ]
  },
  {
   "cell_type": "markdown",
   "metadata": {},
   "source": [
    "---"
   ]
  },
  {
   "cell_type": "markdown",
   "metadata": {},
   "source": [
    "## Global functions"
   ]
  },
  {
   "cell_type": "code",
   "execution_count": 8,
   "metadata": {
    "collapsed": true
   },
   "outputs": [],
   "source": [
    "def make_df(triples):\n",
    "    \"\"\"Converts a given set of (pmid, chemical_id, disease_id)\n",
    "    triples into a three column dataframe.\"\"\"\n",
    "    return pd.DataFrame(list(triples), columns = TRIPLE)"
   ]
  },
  {
   "cell_type": "code",
   "execution_count": 9,
   "metadata": {
    "collapsed": true
   },
   "outputs": [],
   "source": [
    "def get_triples(dataframe):\n",
    "    return set(dataframe[TRIPLE].apply(\n",
    "                lambda row: (int(row[\"pmid\"]), row[\"chemical_id\"], row[\"disease_id\"]), axis = 1))"
   ]
  },
  {
   "cell_type": "code",
   "execution_count": 10,
   "metadata": {
    "collapsed": true
   },
   "outputs": [],
   "source": [
    "def format_set(v):\n",
    "    return \"\\n\".join(map(str, v))\n",
    "\n",
    "def print_to_file(fname, dataset):\n",
    "    with open(fname, \"w\") as fout:\n",
    "        fout.write(dataset)"
   ]
  },
  {
   "cell_type": "markdown",
   "metadata": {},
   "source": [
    "### Read the gold standard and various solutions"
   ]
  },
  {
   "cell_type": "code",
   "execution_count": 11,
   "metadata": {
    "collapsed": true
   },
   "outputs": [],
   "source": [
    "def read_output(fname):\n",
    "    \"\"\"Read only the CID relations from a Pubtator-formatted\n",
    "    text file.\n",
    "    \"\"\"\n",
    "    temp = defaultdict(list)\n",
    "    for line in read_file(fname):\n",
    "        vals = line.split(\"\\t\")\n",
    "        \n",
    "        if len(vals) > 1 and vals[1] == \"CID\":\n",
    "            temp[\"pmid\"].append(int(vals[0]))\n",
    "            temp[\"chemical_id\"].append(Ontology_ID(vals[2]).flat_repr)\n",
    "            temp[\"disease_id\"].append(Ontology_ID(vals[3]).flat_repr)\n",
    "            \n",
    "            if len(vals) > 4:\n",
    "                temp[\"threshold\"].append(float(vals[4]))\n",
    "\n",
    "    return pd.DataFrame(temp)"
   ]
  },
  {
   "cell_type": "code",
   "execution_count": 12,
   "metadata": {
    "collapsed": true
   },
   "outputs": [],
   "source": [
    "def read_gold_standard(dataset, file_format = \"list\"):\n",
    "    assert dataset in [\"training\", \"development\", \"test\"]\n",
    "    assert file_format in [\"list\", \"dict\"]\n",
    "    \n",
    "    fname = \"parsed_{0}_set_{1}.pickle\".format(dataset, file_format)\n",
    "    \n",
    "    save_loc = os.path.abspath(os.path.join(\"..\", \"data\", \"gold_standard\", fname))\n",
    "    \n",
    "    fname = \"CDR_{0}Set.txt\".format(dataset.capitalize())\n",
    "    loc = os.path.abspath(os.path.join(\"..\", \"data\", \"gold_standard\"))\n",
    "    \n",
    "    return parse_file(save_loc, loc = loc, fname = fname,\n",
    "        is_gold = True, return_format = file_format, fix_acronyms = False)"
   ]
  },
  {
   "cell_type": "code",
   "execution_count": 13,
   "metadata": {
    "collapsed": true
   },
   "outputs": [],
   "source": [
    "def has_concept(paper, concept_id):\n",
    "    concepts = set()\n",
    "    for annot in paper.annotations:\n",
    "        concepts |= set([iden.flat_repr for iden in annot.uid if iden.uid_type == \"MESH\"])\n",
    "    \n",
    "    return concept_id in concepts"
   ]
  },
  {
   "cell_type": "code",
   "execution_count": 14,
   "metadata": {
    "collapsed": true
   },
   "outputs": [],
   "source": [
    "def check_exists(df, reference):\n",
    "    for col in [\"chemical\", \"disease\"]:\n",
    "        df.loc[:, \"{}_exists\".format(col[:4])] = df[TRIPLE].apply(\n",
    "            lambda row: has_concept(reference[int(row[\"pmid\"])], row[\"{}_id\".format(col)]), axis = 1)\n",
    "        \n",
    "    return df"
   ]
  },
  {
   "cell_type": "markdown",
   "metadata": {},
   "source": [
    "### Read the PMID mappings"
   ]
  },
  {
   "cell_type": "code",
   "execution_count": 15,
   "metadata": {
    "collapsed": false
   },
   "outputs": [],
   "source": [
    "paper_mapping = save_file(\"testset_mapping.pickle\")"
   ]
  },
  {
   "cell_type": "markdown",
   "metadata": {},
   "source": [
    "### Read the gold standard"
   ]
  },
  {
   "cell_type": "code",
   "execution_count": 16,
   "metadata": {
    "collapsed": true
   },
   "outputs": [],
   "source": [
    "eval_gold = read_gold_standard(\"test\", file_format = \"dict\")"
   ]
  },
  {
   "cell_type": "code",
   "execution_count": 17,
   "metadata": {
    "collapsed": false
   },
   "outputs": [],
   "source": [
    "fname = os.path.abspath(os.path.join(\"..\", \"data\", \"gold_standard\", \"CDR_TestSet.txt\"))\n",
    "gold_std = read_output(fname)"
   ]
  },
  {
   "cell_type": "markdown",
   "metadata": {},
   "source": [
    "### Grab the official MeSH terms for the testset and save to pickle"
   ]
  },
  {
   "cell_type": "code",
   "execution_count": 18,
   "metadata": {
    "collapsed": true
   },
   "outputs": [],
   "source": [
    "def grab_mesh(papers):\n",
    "    loc = os.path.abspath(os.path.join(\"..\", \"data\", \"gold_standard\", \"testset_mesh_terms.pickle\"))\n",
    "\n",
    "    res = save_file(loc)\n",
    "    if res is not None:\n",
    "        return res\n",
    "    \n",
    "    res = dict()\n",
    "    for pmid in papers:\n",
    "        res[pmid] = Article(pmid)\n",
    "        \n",
    "    save_file(loc, res)\n",
    "    return res"
   ]
  },
  {
   "cell_type": "code",
   "execution_count": 19,
   "metadata": {
    "collapsed": false
   },
   "outputs": [],
   "source": [
    "mesh_terms = grab_mesh(set(eval_gold.keys()))"
   ]
  },
  {
   "cell_type": "markdown",
   "metadata": {},
   "source": [
    "### Read UTexas's results"
   ]
  },
  {
   "cell_type": "code",
   "execution_count": 20,
   "metadata": {
    "collapsed": false
   },
   "outputs": [],
   "source": [
    "fname = os.path.abspath(os.path.join(\"..\", \"data\", \"utexas\", \"CDR_TestSet.BiC.V.CID.Run3.txt\"))\n",
    "ut_res = read_output(fname)\n",
    "\n",
    "ut_res = check_exists(ut_res, eval_gold)\n",
    "\n",
    "# fully parsed results\n",
    "save_loc = os.path.abspath(os.path.join(\"..\", \"data\", \"utexas\", \"texas_full_testset.pickle\"))\n",
    "loc = os.path.abspath(os.path.join(\"..\", \"data\", \"utexas\"))\n",
    "ut_full = parse_file(save_loc, loc = loc, fname = \"CDR_TestSet.BiC.V.CID.Run3.txt\",\n",
    "    is_gold = True, return_format = \"dict\", fix_acronyms = False)"
   ]
  },
  {
   "cell_type": "markdown",
   "metadata": {},
   "source": [
    "### Read the crowd's results"
   ]
  },
  {
   "cell_type": "code",
   "execution_count": 21,
   "metadata": {
    "collapsed": true
   },
   "outputs": [],
   "source": [
    "loc = os.path.abspath(os.path.join(\"..\", \"data\", \"final_eval\", \"results\", \"crowd_testset.pickle\"))\n",
    "crowd_full = save_file(loc)\n",
    "crowd_res = save_file(\"testset_final_res.pickle\")"
   ]
  },
  {
   "cell_type": "markdown",
   "metadata": {},
   "source": [
    "### Read BeFree's results"
   ]
  },
  {
   "cell_type": "code",
   "execution_count": 22,
   "metadata": {
    "collapsed": true
   },
   "outputs": [],
   "source": [
    "fname = os.path.abspath(os.path.join(\"..\", \"data\", \"befree\", \"final_eval\", \"befree_testset_results.txt\"))\n",
    "befree_res = read_output(fname)\n",
    "\n",
    "befree_res.loc[:, \"pmid\"] = befree_res[\"pmid\"].map(lambda val: paper_mapping[val])\n",
    "befree_res[\"threshold\"] = 1\n",
    "\n",
    "befree_res = check_exists(befree_res, eval_gold)\n",
    "\n",
    "#----------------------------------\n",
    "\n",
    "def get_befree():\n",
    "    loc = os.path.join(\"..\", \"data\", \"befree\", \"final_eval\")\n",
    "\n",
    "    save_loc = os.path.abspath(os.path.join(loc, \"befree_testset_full.pickle\"))\n",
    "    res = save_file(save_loc)\n",
    "    if res is not None:\n",
    "        return res\n",
    "\n",
    "    befree_full = parse_input(os.path.abspath(loc), \"befree_testset_results.txt\",\n",
    "                         is_gold = True, return_format = \"dict\", fix_acronyms = False)\n",
    "\n",
    "    temp = dict()\n",
    "    for pmid, paper in befree_full.items():\n",
    "        paper.pmid = paper_mapping[pmid]\n",
    "        temp[paper_mapping[pmid]] = paper\n",
    "\n",
    "    save_file(save_loc, temp)\n",
    "    return temp\n",
    "    \n",
    "befree_full = get_befree()"
   ]
  },
  {
   "cell_type": "code",
   "execution_count": 23,
   "metadata": {
    "collapsed": false
   },
   "outputs": [
    {
     "data": {
      "text/html": [
       "<div>\n",
       "<table border=\"1\" class=\"dataframe\">\n",
       "  <thead>\n",
       "    <tr style=\"text-align: right;\">\n",
       "      <th></th>\n",
       "      <th>chemical_id</th>\n",
       "      <th>disease_id</th>\n",
       "      <th>pmid</th>\n",
       "    </tr>\n",
       "  </thead>\n",
       "  <tbody>\n",
       "    <tr>\n",
       "      <th>0</th>\n",
       "      <td>MESH:D015738</td>\n",
       "      <td>MESH:D003693</td>\n",
       "      <td>8701013</td>\n",
       "    </tr>\n",
       "    <tr>\n",
       "      <th>1</th>\n",
       "      <td>MESH:D007213</td>\n",
       "      <td>MESH:D007022</td>\n",
       "      <td>439781</td>\n",
       "    </tr>\n",
       "    <tr>\n",
       "      <th>2</th>\n",
       "      <td>MESH:D016572</td>\n",
       "      <td>MESH:D057049</td>\n",
       "      <td>22836123</td>\n",
       "    </tr>\n",
       "    <tr>\n",
       "      <th>3</th>\n",
       "      <td>MESH:D000305</td>\n",
       "      <td>MESH:D012595</td>\n",
       "      <td>22836123</td>\n",
       "    </tr>\n",
       "    <tr>\n",
       "      <th>4</th>\n",
       "      <td>MESH:D016559</td>\n",
       "      <td>MESH:D012595</td>\n",
       "      <td>22836123</td>\n",
       "    </tr>\n",
       "  </tbody>\n",
       "</table>\n",
       "</div>"
      ],
      "text/plain": [
       "    chemical_id    disease_id      pmid\n",
       "0  MESH:D015738  MESH:D003693   8701013\n",
       "1  MESH:D007213  MESH:D007022    439781\n",
       "2  MESH:D016572  MESH:D057049  22836123\n",
       "3  MESH:D000305  MESH:D012595  22836123\n",
       "4  MESH:D016559  MESH:D012595  22836123"
      ]
     },
     "execution_count": 23,
     "metadata": {},
     "output_type": "execute_result"
    }
   ],
   "source": [
    "gold_std.head()"
   ]
  },
  {
   "cell_type": "code",
   "execution_count": 24,
   "metadata": {
    "collapsed": false
   },
   "outputs": [
    {
     "data": {
      "text/html": [
       "<div>\n",
       "<table border=\"1\" class=\"dataframe\">\n",
       "  <thead>\n",
       "    <tr style=\"text-align: right;\">\n",
       "      <th></th>\n",
       "      <th>chemical_id</th>\n",
       "      <th>disease_id</th>\n",
       "      <th>pmid</th>\n",
       "      <th>threshold</th>\n",
       "      <th>chem_exists</th>\n",
       "      <th>dise_exists</th>\n",
       "    </tr>\n",
       "  </thead>\n",
       "  <tbody>\n",
       "    <tr>\n",
       "      <th>0</th>\n",
       "      <td>MESH:D015738</td>\n",
       "      <td>MESH:D003693</td>\n",
       "      <td>8701013</td>\n",
       "      <td>0.75</td>\n",
       "      <td>True</td>\n",
       "      <td>True</td>\n",
       "    </tr>\n",
       "    <tr>\n",
       "      <th>1</th>\n",
       "      <td>MESH:D015738</td>\n",
       "      <td>MESH:D014456</td>\n",
       "      <td>8701013</td>\n",
       "      <td>0.65</td>\n",
       "      <td>True</td>\n",
       "      <td>True</td>\n",
       "    </tr>\n",
       "    <tr>\n",
       "      <th>2</th>\n",
       "      <td>MESH:D007213</td>\n",
       "      <td>MESH:D007022</td>\n",
       "      <td>439781</td>\n",
       "      <td>0.75</td>\n",
       "      <td>True</td>\n",
       "      <td>True</td>\n",
       "    </tr>\n",
       "    <tr>\n",
       "      <th>3</th>\n",
       "      <td>MESH:D016572</td>\n",
       "      <td>MESH:D057049</td>\n",
       "      <td>22836123</td>\n",
       "      <td>0.75</td>\n",
       "      <td>True</td>\n",
       "      <td>True</td>\n",
       "    </tr>\n",
       "    <tr>\n",
       "      <th>4</th>\n",
       "      <td>MESH:D016559</td>\n",
       "      <td>MESH:D057049</td>\n",
       "      <td>22836123</td>\n",
       "      <td>0.65</td>\n",
       "      <td>True</td>\n",
       "      <td>True</td>\n",
       "    </tr>\n",
       "  </tbody>\n",
       "</table>\n",
       "</div>"
      ],
      "text/plain": [
       "    chemical_id    disease_id      pmid  threshold chem_exists dise_exists\n",
       "0  MESH:D015738  MESH:D003693   8701013       0.75        True        True\n",
       "1  MESH:D015738  MESH:D014456   8701013       0.65        True        True\n",
       "2  MESH:D007213  MESH:D007022    439781       0.75        True        True\n",
       "3  MESH:D016572  MESH:D057049  22836123       0.75        True        True\n",
       "4  MESH:D016559  MESH:D057049  22836123       0.65        True        True"
      ]
     },
     "execution_count": 24,
     "metadata": {},
     "output_type": "execute_result"
    }
   ],
   "source": [
    "ut_res.head()"
   ]
  },
  {
   "cell_type": "code",
   "execution_count": 25,
   "metadata": {
    "collapsed": false
   },
   "outputs": [
    {
     "data": {
      "text/html": [
       "<div>\n",
       "<table border=\"1\" class=\"dataframe\">\n",
       "  <thead>\n",
       "    <tr style=\"text-align: right;\">\n",
       "      <th></th>\n",
       "      <th>chemical_id</th>\n",
       "      <th>disease_id</th>\n",
       "      <th>norm_conf_score</th>\n",
       "      <th>num_votes</th>\n",
       "      <th>pmid</th>\n",
       "      <th>rel_origin</th>\n",
       "    </tr>\n",
       "  </thead>\n",
       "  <tbody>\n",
       "    <tr>\n",
       "      <th>0</th>\n",
       "      <td>MESH:D006632</td>\n",
       "      <td>MESH:D003693</td>\n",
       "      <td>0.198438</td>\n",
       "      <td>1</td>\n",
       "      <td>8701013</td>\n",
       "      <td>abstract_task</td>\n",
       "    </tr>\n",
       "    <tr>\n",
       "      <th>0</th>\n",
       "      <td>MESH:D006632</td>\n",
       "      <td>MESH:D014456</td>\n",
       "      <td>0.000000</td>\n",
       "      <td>0</td>\n",
       "      <td>8701013</td>\n",
       "      <td>sentence_task</td>\n",
       "    </tr>\n",
       "    <tr>\n",
       "      <th>1</th>\n",
       "      <td>MESH:D015738</td>\n",
       "      <td>MESH:D003693</td>\n",
       "      <td>1.000000</td>\n",
       "      <td>5</td>\n",
       "      <td>8701013</td>\n",
       "      <td>sentence_task</td>\n",
       "    </tr>\n",
       "    <tr>\n",
       "      <th>2</th>\n",
       "      <td>MESH:D015738</td>\n",
       "      <td>MESH:D014456</td>\n",
       "      <td>0.000000</td>\n",
       "      <td>0</td>\n",
       "      <td>8701013</td>\n",
       "      <td>sentence_task</td>\n",
       "    </tr>\n",
       "    <tr>\n",
       "      <th>1</th>\n",
       "      <td>MESH:D000809</td>\n",
       "      <td>MESH:D007022</td>\n",
       "      <td>0.000000</td>\n",
       "      <td>0</td>\n",
       "      <td>439781</td>\n",
       "      <td>abstract_task</td>\n",
       "    </tr>\n",
       "  </tbody>\n",
       "</table>\n",
       "</div>"
      ],
      "text/plain": [
       "    chemical_id    disease_id  norm_conf_score  num_votes     pmid  \\\n",
       "0  MESH:D006632  MESH:D003693         0.198438          1  8701013   \n",
       "0  MESH:D006632  MESH:D014456         0.000000          0  8701013   \n",
       "1  MESH:D015738  MESH:D003693         1.000000          5  8701013   \n",
       "2  MESH:D015738  MESH:D014456         0.000000          0  8701013   \n",
       "1  MESH:D000809  MESH:D007022         0.000000          0   439781   \n",
       "\n",
       "      rel_origin  \n",
       "0  abstract_task  \n",
       "0  sentence_task  \n",
       "1  sentence_task  \n",
       "2  sentence_task  \n",
       "1  abstract_task  "
      ]
     },
     "execution_count": 25,
     "metadata": {},
     "output_type": "execute_result"
    }
   ],
   "source": [
    "crowd_res.head()"
   ]
  },
  {
   "cell_type": "code",
   "execution_count": 26,
   "metadata": {
    "collapsed": false
   },
   "outputs": [
    {
     "data": {
      "text/html": [
       "<div>\n",
       "<table border=\"1\" class=\"dataframe\">\n",
       "  <thead>\n",
       "    <tr style=\"text-align: right;\">\n",
       "      <th></th>\n",
       "      <th>chemical_id</th>\n",
       "      <th>disease_id</th>\n",
       "      <th>pmid</th>\n",
       "      <th>threshold</th>\n",
       "      <th>chem_exists</th>\n",
       "      <th>dise_exists</th>\n",
       "    </tr>\n",
       "  </thead>\n",
       "  <tbody>\n",
       "    <tr>\n",
       "      <th>0</th>\n",
       "      <td>MESH:D015738</td>\n",
       "      <td>MESH:D003693</td>\n",
       "      <td>8701013</td>\n",
       "      <td>1</td>\n",
       "      <td>True</td>\n",
       "      <td>True</td>\n",
       "    </tr>\n",
       "    <tr>\n",
       "      <th>1</th>\n",
       "      <td>MESH:D007213</td>\n",
       "      <td>MESH:D007022</td>\n",
       "      <td>439781</td>\n",
       "      <td>1</td>\n",
       "      <td>True</td>\n",
       "      <td>True</td>\n",
       "    </tr>\n",
       "    <tr>\n",
       "      <th>2</th>\n",
       "      <td>MESH:D016559</td>\n",
       "      <td>MESH:D045743</td>\n",
       "      <td>22836123</td>\n",
       "      <td>1</td>\n",
       "      <td>True</td>\n",
       "      <td>False</td>\n",
       "    </tr>\n",
       "    <tr>\n",
       "      <th>3</th>\n",
       "      <td>MESH:D008694</td>\n",
       "      <td>MESH:D011618</td>\n",
       "      <td>23433219</td>\n",
       "      <td>1</td>\n",
       "      <td>True</td>\n",
       "      <td>False</td>\n",
       "    </tr>\n",
       "    <tr>\n",
       "      <th>4</th>\n",
       "      <td>MESH:D007980</td>\n",
       "      <td>MESH:D004409</td>\n",
       "      <td>23535177</td>\n",
       "      <td>1</td>\n",
       "      <td>True</td>\n",
       "      <td>True</td>\n",
       "    </tr>\n",
       "  </tbody>\n",
       "</table>\n",
       "</div>"
      ],
      "text/plain": [
       "    chemical_id    disease_id      pmid  threshold chem_exists dise_exists\n",
       "0  MESH:D015738  MESH:D003693   8701013          1        True        True\n",
       "1  MESH:D007213  MESH:D007022    439781          1        True        True\n",
       "2  MESH:D016559  MESH:D045743  22836123          1        True       False\n",
       "3  MESH:D008694  MESH:D011618  23433219          1        True       False\n",
       "4  MESH:D007980  MESH:D004409  23535177          1        True        True"
      ]
     },
     "execution_count": 26,
     "metadata": {},
     "output_type": "execute_result"
    }
   ],
   "source": [
    "befree_res.head()"
   ]
  },
  {
   "cell_type": "markdown",
   "metadata": {},
   "source": [
    "---"
   ]
  },
  {
   "cell_type": "markdown",
   "metadata": {},
   "source": [
    "## Analysis functions"
   ]
  },
  {
   "cell_type": "code",
   "execution_count": 27,
   "metadata": {
    "collapsed": true
   },
   "outputs": [],
   "source": [
    "def individual_perf(triples):\n",
    "    df = make_df(triples)\n",
    "\n",
    "    res = defaultdict(list)\n",
    "    for pmid, group in gold_std.groupby(\"pmid\"):\n",
    "        gold_sub = get_triples(group)\n",
    "        \n",
    "        predict_sub = get_triples(df.query(\"pmid == {}\".format(pmid)))\n",
    "        \n",
    "        precision, recall, f1 = performance(gold_sub, predict_sub)\n",
    "        \n",
    "        res[\"pmid\"].append(pmid)\n",
    "        res[\"precision\"].append(precision)\n",
    "        res[\"recall\"].append(recall)\n",
    "        res[\"F_score\"].append(f1)\n",
    "        \n",
    "    return pd.DataFrame(res)"
   ]
  },
  {
   "cell_type": "markdown",
   "metadata": {},
   "source": [
    "## Overall performance against the gold standard\n",
    "\n",
    "Using the official evaluation of the CID relation performance, how did each solution do?"
   ]
  },
  {
   "cell_type": "code",
   "execution_count": 28,
   "metadata": {
    "collapsed": true
   },
   "outputs": [],
   "source": [
    "def official_F_score(score_column, gold_rel_set, dataframe):\n",
    "    EPSILON = 0.0000001\n",
    "    \n",
    "    res = defaultdict(list)\n",
    "    for threshold in dataframe[score_column].unique():\n",
    "        sub = dataframe.query(\"{0} > {1} or -{2} <= {0} - {1} <= {2}\".format(score_column, threshold, EPSILON))\n",
    "        \n",
    "        # grab the relation ids we guessed\n",
    "        predict = get_triples(sub)\n",
    "        \n",
    "        precision, recall, f1 = performance(gold_rel_set, predict)\n",
    "        \n",
    "        res[\"recall\"].append(recall)\n",
    "        res[\"precision\"].append(precision)\n",
    "        res[\"threshold\"].append(threshold)\n",
    "        res[\"F_score\"].append(f1)\n",
    "        \n",
    "    return pd.DataFrame(res).sort(\"threshold\")"
   ]
  },
  {
   "cell_type": "markdown",
   "metadata": {},
   "source": [
    "### Get the gold standard triples"
   ]
  },
  {
   "cell_type": "code",
   "execution_count": 29,
   "metadata": {
    "collapsed": true
   },
   "outputs": [],
   "source": [
    "gold_triples = get_triples(gold_std)"
   ]
  },
  {
   "cell_type": "markdown",
   "metadata": {},
   "source": [
    "### University of Texas performance"
   ]
  },
  {
   "cell_type": "code",
   "execution_count": 30,
   "metadata": {
    "collapsed": false
   },
   "outputs": [
    {
     "data": {
      "text/html": [
       "<div>\n",
       "<table border=\"1\" class=\"dataframe\">\n",
       "  <thead>\n",
       "    <tr style=\"text-align: right;\">\n",
       "      <th></th>\n",
       "      <th>F_score</th>\n",
       "      <th>precision</th>\n",
       "      <th>recall</th>\n",
       "      <th>threshold</th>\n",
       "    </tr>\n",
       "  </thead>\n",
       "  <tbody>\n",
       "    <tr>\n",
       "      <th>2</th>\n",
       "      <td>0.570252</td>\n",
       "      <td>0.556747</td>\n",
       "      <td>0.584428</td>\n",
       "      <td>0.30</td>\n",
       "    </tr>\n",
       "    <tr>\n",
       "      <th>1</th>\n",
       "      <td>0.585269</td>\n",
       "      <td>0.618600</td>\n",
       "      <td>0.555347</td>\n",
       "      <td>0.65</td>\n",
       "    </tr>\n",
       "    <tr>\n",
       "      <th>0</th>\n",
       "      <td>0.520915</td>\n",
       "      <td>0.642366</td>\n",
       "      <td>0.438086</td>\n",
       "      <td>0.75</td>\n",
       "    </tr>\n",
       "  </tbody>\n",
       "</table>\n",
       "</div>"
      ],
      "text/plain": [
       "    F_score  precision    recall  threshold\n",
       "2  0.570252   0.556747  0.584428       0.30\n",
       "1  0.585269   0.618600  0.555347       0.65\n",
       "0  0.520915   0.642366  0.438086       0.75"
      ]
     },
     "execution_count": 30,
     "metadata": {},
     "output_type": "execute_result"
    }
   ],
   "source": [
    "official_F_score(\"threshold\", gold_triples, ut_res)"
   ]
  },
  {
   "cell_type": "markdown",
   "metadata": {},
   "source": [
    "These results match exactly the published results. Note that the system would have done even better if it set its threshold to the middle value of 0.65 instead of the lowest value of 0.30."
   ]
  },
  {
   "cell_type": "markdown",
   "metadata": {},
   "source": [
    "### Crowd performance"
   ]
  },
  {
   "cell_type": "code",
   "execution_count": 31,
   "metadata": {
    "collapsed": false
   },
   "outputs": [
    {
     "data": {
      "text/html": [
       "<div>\n",
       "<table border=\"1\" class=\"dataframe\">\n",
       "  <thead>\n",
       "    <tr style=\"text-align: right;\">\n",
       "      <th></th>\n",
       "      <th>F_score</th>\n",
       "      <th>precision</th>\n",
       "      <th>recall</th>\n",
       "      <th>threshold</th>\n",
       "    </tr>\n",
       "  </thead>\n",
       "  <tbody>\n",
       "    <tr>\n",
       "      <th>1</th>\n",
       "      <td>0.267624</td>\n",
       "      <td>0.162805</td>\n",
       "      <td>0.751407</td>\n",
       "      <td>0</td>\n",
       "    </tr>\n",
       "    <tr>\n",
       "      <th>0</th>\n",
       "      <td>0.356317</td>\n",
       "      <td>0.236486</td>\n",
       "      <td>0.722326</td>\n",
       "      <td>1</td>\n",
       "    </tr>\n",
       "    <tr>\n",
       "      <th>3</th>\n",
       "      <td>0.444779</td>\n",
       "      <td>0.327426</td>\n",
       "      <td>0.693246</td>\n",
       "      <td>2</td>\n",
       "    </tr>\n",
       "    <tr>\n",
       "      <th>4</th>\n",
       "      <td>0.496480</td>\n",
       "      <td>0.410288</td>\n",
       "      <td>0.628518</td>\n",
       "      <td>3</td>\n",
       "    </tr>\n",
       "    <tr>\n",
       "      <th>5</th>\n",
       "      <td>0.505929</td>\n",
       "      <td>0.475640</td>\n",
       "      <td>0.540338</td>\n",
       "      <td>4</td>\n",
       "    </tr>\n",
       "    <tr>\n",
       "      <th>2</th>\n",
       "      <td>0.465066</td>\n",
       "      <td>0.556136</td>\n",
       "      <td>0.399625</td>\n",
       "      <td>5</td>\n",
       "    </tr>\n",
       "    <tr>\n",
       "      <th>6</th>\n",
       "      <td>0.003742</td>\n",
       "      <td>0.666667</td>\n",
       "      <td>0.001876</td>\n",
       "      <td>6</td>\n",
       "    </tr>\n",
       "  </tbody>\n",
       "</table>\n",
       "</div>"
      ],
      "text/plain": [
       "    F_score  precision    recall  threshold\n",
       "1  0.267624   0.162805  0.751407          0\n",
       "0  0.356317   0.236486  0.722326          1\n",
       "3  0.444779   0.327426  0.693246          2\n",
       "4  0.496480   0.410288  0.628518          3\n",
       "5  0.505929   0.475640  0.540338          4\n",
       "2  0.465066   0.556136  0.399625          5\n",
       "6  0.003742   0.666667  0.001876          6"
      ]
     },
     "execution_count": 31,
     "metadata": {},
     "output_type": "execute_result"
    }
   ],
   "source": [
    "official_F_score(\"num_votes\", gold_triples, crowd_res)"
   ]
  },
  {
   "cell_type": "markdown",
   "metadata": {},
   "source": [
    "### BeFree performance"
   ]
  },
  {
   "cell_type": "code",
   "execution_count": 32,
   "metadata": {
    "collapsed": false
   },
   "outputs": [
    {
     "data": {
      "text/html": [
       "<div>\n",
       "<table border=\"1\" class=\"dataframe\">\n",
       "  <thead>\n",
       "    <tr style=\"text-align: right;\">\n",
       "      <th></th>\n",
       "      <th>F_score</th>\n",
       "      <th>precision</th>\n",
       "      <th>recall</th>\n",
       "      <th>threshold</th>\n",
       "    </tr>\n",
       "  </thead>\n",
       "  <tbody>\n",
       "    <tr>\n",
       "      <th>0</th>\n",
       "      <td>0.428571</td>\n",
       "      <td>0.486874</td>\n",
       "      <td>0.382739</td>\n",
       "      <td>1</td>\n",
       "    </tr>\n",
       "  </tbody>\n",
       "</table>\n",
       "</div>"
      ],
      "text/plain": [
       "    F_score  precision    recall  threshold\n",
       "0  0.428571   0.486874  0.382739          1"
      ]
     },
     "execution_count": 32,
     "metadata": {},
     "output_type": "execute_result"
    }
   ],
   "source": [
    "official_F_score(\"threshold\", gold_triples, befree_res)"
   ]
  },
  {
   "cell_type": "markdown",
   "metadata": {},
   "source": [
    "My calculations show that BeFree's official published performance (F 0.4281) is slightly worse than what I have calculated, despite my method accurately reproducing both UTexas's and our results. Perhaps Alex sent me a slightly modified version of the data they submitted?"
   ]
  },
  {
   "cell_type": "code",
   "execution_count": 33,
   "metadata": {
    "collapsed": true
   },
   "outputs": [],
   "source": [
    "ut_trip = get_triples(ut_res)\n",
    "crowd_trip = get_triples(crowd_res.query(\"num_votes >= 4\"))\n",
    "befree_trip = get_triples(befree_res)"
   ]
  },
  {
   "cell_type": "markdown",
   "metadata": {},
   "source": [
    "---"
   ]
  },
  {
   "cell_type": "markdown",
   "metadata": {},
   "source": [
    "## Performance on a subset of relations where the annotations were perfectly identified\n",
    "\n",
    "Since we have seen that NER has a huge influence on the performance, we will look backwards to see what performance was like on relations where both the chemical and disease were perfectly identified (i.e. the annotations all match the gold standard)."
   ]
  },
  {
   "cell_type": "code",
   "execution_count": 34,
   "metadata": {
    "collapsed": false
   },
   "outputs": [],
   "source": [
    "def extract_ids(annotations):\n",
    "    concepts = defaultdict(set)\n",
    "    for annot in annotations:\n",
    "        concepts[annot.stype].add(annot.uid)\n",
    "        \n",
    "    return concepts\n",
    "\n",
    "def find_perfect_subset(reference, gold_std):\n",
    "    \"\"\"Given a gold standard, the predictions, and the triple sets,\n",
    "    removes relations which used concepts that had annotation mismatches\n",
    "    between the predictions and the gold.\n",
    "    \"\"\"\n",
    "    good_trips = set()\n",
    "    for pmid, gold_paper in gold_std.items():\n",
    "        paper = reference[pmid]\n",
    "\n",
    "        # annotations\n",
    "        predict_annot = set(paper.annotations)\n",
    "        gold_annot = set(gold_paper.annotations)\n",
    "        \n",
    "        shared_concepts = extract_ids(gold_annot & predict_annot)\n",
    "        missed_concepts = extract_ids(gold_annot ^ predict_annot)\n",
    "        \n",
    "        perf_chem = shared_concepts[\"chemical\"] - missed_concepts[\"chemical\"]\n",
    "        perf_dise = shared_concepts[\"disease\"] - missed_concepts[\"disease\"]\n",
    "        \n",
    "        chems = set()\n",
    "        dises = set()\n",
    "        for val in perf_chem:\n",
    "            chems |= val\n",
    "            \n",
    "        for val in perf_dise:\n",
    "            dises |= val\n",
    "            \n",
    "        good_trips |= set([(pmid, chem.flat_repr, dise.flat_repr) for chem in chems for dise in dises])\n",
    "\n",
    "    return good_trips\n",
    "\n",
    "def perfect_perf(predict_full, orig_df, threshold, gold_std, gold_trip):\n",
    "    poss_good_trips = find_perfect_subset(predict_full, gold_std)\n",
    "    \n",
    "    # all pmids where there was at least one (chemical, disease) pair\n",
    "    # where both concepts were annotated perfectly between the gold\n",
    "    # and the method's NER outputs\n",
    "    good_pmids = {val[0] for val in poss_good_trips}\n",
    "    \n",
    "    predict_trip = get_triples(orig_df)    \n",
    "    \n",
    "    # filter gold standard relations and predicted relations by\n",
    "    # whether both concepts were perfectly annotated in both gold\n",
    "    # and the predictions\n",
    "    good_pred_trip = poss_good_trips & predict_trip\n",
    "    good_gold_trip = poss_good_trips & gold_trip\n",
    "    \n",
    "    assert good_pmids >= {v[0] for v in good_pred_trip} | {v[0] for v in good_gold_trip}\n",
    "    \n",
    "    print(\"# of gold triples {}\".format(len(good_gold_trip)))\n",
    "    \n",
    "    # subset the original predictions down to those with perfect\n",
    "    # annotations\n",
    "    good_pred_df = make_df(good_pred_trip)\n",
    "    pred_sub = pd.merge(good_pred_df, orig_df, how = \"left\", on = [\"pmid\", \"chemical_id\", \"disease_id\"])\n",
    "    \n",
    "    return (pred_sub, official_F_score(threshold, good_gold_trip, pred_sub),\n",
    "            make_df(good_gold_trip))"
   ]
  },
  {
   "cell_type": "code",
   "execution_count": 35,
   "metadata": {
    "collapsed": false,
    "scrolled": true
   },
   "outputs": [
    {
     "name": "stdout",
     "output_type": "stream",
     "text": [
      "# of gold triples 485\n"
     ]
    }
   ],
   "source": [
    "crowd_no_ner, crowd_no_ner_perf, crowd_good_gold = perfect_perf(crowd_full,\n",
    "                                crowd_res, \"num_votes\", eval_gold, gold_triples)"
   ]
  },
  {
   "cell_type": "code",
   "execution_count": 36,
   "metadata": {
    "collapsed": false
   },
   "outputs": [
    {
     "data": {
      "text/plain": [
       "310"
      ]
     },
     "execution_count": 36,
     "metadata": {},
     "output_type": "execute_result"
    }
   ],
   "source": [
    "len(crowd_no_ner.query(\"num_votes >= 4\")[\"pmid\"].unique())"
   ]
  },
  {
   "cell_type": "code",
   "execution_count": 37,
   "metadata": {
    "collapsed": false
   },
   "outputs": [
    {
     "data": {
      "text/html": [
       "<div>\n",
       "<table border=\"1\" class=\"dataframe\">\n",
       "  <thead>\n",
       "    <tr style=\"text-align: right;\">\n",
       "      <th></th>\n",
       "      <th>F_score</th>\n",
       "      <th>precision</th>\n",
       "      <th>recall</th>\n",
       "      <th>threshold</th>\n",
       "    </tr>\n",
       "  </thead>\n",
       "  <tbody>\n",
       "    <tr>\n",
       "      <th>0</th>\n",
       "      <td>0.318346</td>\n",
       "      <td>0.189305</td>\n",
       "      <td>1.000000</td>\n",
       "      <td>0</td>\n",
       "    </tr>\n",
       "    <tr>\n",
       "      <th>3</th>\n",
       "      <td>0.434339</td>\n",
       "      <td>0.280240</td>\n",
       "      <td>0.964948</td>\n",
       "      <td>1</td>\n",
       "    </tr>\n",
       "    <tr>\n",
       "      <th>4</th>\n",
       "      <td>0.540541</td>\n",
       "      <td>0.381356</td>\n",
       "      <td>0.927835</td>\n",
       "      <td>2</td>\n",
       "    </tr>\n",
       "    <tr>\n",
       "      <th>1</th>\n",
       "      <td>0.615958</td>\n",
       "      <td>0.482477</td>\n",
       "      <td>0.851546</td>\n",
       "      <td>3</td>\n",
       "    </tr>\n",
       "    <tr>\n",
       "      <th>5</th>\n",
       "      <td>0.645447</td>\n",
       "      <td>0.565015</td>\n",
       "      <td>0.752577</td>\n",
       "      <td>4</td>\n",
       "    </tr>\n",
       "    <tr>\n",
       "      <th>2</th>\n",
       "      <td>0.603732</td>\n",
       "      <td>0.645540</td>\n",
       "      <td>0.567010</td>\n",
       "      <td>5</td>\n",
       "    </tr>\n",
       "    <tr>\n",
       "      <th>6</th>\n",
       "      <td>0.008214</td>\n",
       "      <td>1.000000</td>\n",
       "      <td>0.004124</td>\n",
       "      <td>6</td>\n",
       "    </tr>\n",
       "  </tbody>\n",
       "</table>\n",
       "</div>"
      ],
      "text/plain": [
       "    F_score  precision    recall  threshold\n",
       "0  0.318346   0.189305  1.000000          0\n",
       "3  0.434339   0.280240  0.964948          1\n",
       "4  0.540541   0.381356  0.927835          2\n",
       "1  0.615958   0.482477  0.851546          3\n",
       "5  0.645447   0.565015  0.752577          4\n",
       "2  0.603732   0.645540  0.567010          5\n",
       "6  0.008214   1.000000  0.004124          6"
      ]
     },
     "execution_count": 37,
     "metadata": {},
     "output_type": "execute_result"
    }
   ],
   "source": [
    "crowd_no_ner_perf"
   ]
  },
  {
   "cell_type": "markdown",
   "metadata": {},
   "source": [
    "These results are slightly better than the simple NER filtering that I was using before, where I only check whether the concept was identified at all in the paper. However, the performance is basically the same, still in the low 0.6 F range."
   ]
  },
  {
   "cell_type": "code",
   "execution_count": 38,
   "metadata": {
    "collapsed": false,
    "scrolled": true
   },
   "outputs": [
    {
     "name": "stdout",
     "output_type": "stream",
     "text": [
      "# of gold triples 579\n"
     ]
    }
   ],
   "source": [
    "texas_no_ner, texas_no_ner_perf, ut_good_gold = perfect_perf(ut_full, ut_res, \"threshold\", eval_gold, gold_triples)"
   ]
  },
  {
   "cell_type": "code",
   "execution_count": 39,
   "metadata": {
    "collapsed": false
   },
   "outputs": [
    {
     "data": {
      "text/html": [
       "<div>\n",
       "<table border=\"1\" class=\"dataframe\">\n",
       "  <thead>\n",
       "    <tr style=\"text-align: right;\">\n",
       "      <th></th>\n",
       "      <th>F_score</th>\n",
       "      <th>precision</th>\n",
       "      <th>recall</th>\n",
       "      <th>threshold</th>\n",
       "    </tr>\n",
       "  </thead>\n",
       "  <tbody>\n",
       "    <tr>\n",
       "      <th>2</th>\n",
       "      <td>0.668800</td>\n",
       "      <td>0.622951</td>\n",
       "      <td>0.721934</td>\n",
       "      <td>0.30</td>\n",
       "    </tr>\n",
       "    <tr>\n",
       "      <th>1</th>\n",
       "      <td>0.668354</td>\n",
       "      <td>0.653465</td>\n",
       "      <td>0.683938</td>\n",
       "      <td>0.65</td>\n",
       "    </tr>\n",
       "    <tr>\n",
       "      <th>0</th>\n",
       "      <td>0.600966</td>\n",
       "      <td>0.682018</td>\n",
       "      <td>0.537133</td>\n",
       "      <td>0.75</td>\n",
       "    </tr>\n",
       "  </tbody>\n",
       "</table>\n",
       "</div>"
      ],
      "text/plain": [
       "    F_score  precision    recall  threshold\n",
       "2  0.668800   0.622951  0.721934       0.30\n",
       "1  0.668354   0.653465  0.683938       0.65\n",
       "0  0.600966   0.682018  0.537133       0.75"
      ]
     },
     "execution_count": 39,
     "metadata": {},
     "output_type": "execute_result"
    }
   ],
   "source": [
    "texas_no_ner_perf"
   ]
  },
  {
   "cell_type": "markdown",
   "metadata": {},
   "source": [
    "The UTexas solution still performs better than our crowd, although more gold relations comes from a smaller number of abstracts."
   ]
  },
  {
   "cell_type": "code",
   "execution_count": 40,
   "metadata": {
    "collapsed": false
   },
   "outputs": [
    {
     "name": "stdout",
     "output_type": "stream",
     "text": [
      "# of gold triples 460\n"
     ]
    }
   ],
   "source": [
    "befree_no_ner, befree_no_ner_perf, befree_good_gold = perfect_perf(befree_full, befree_res, \"threshold\", eval_gold, gold_triples)"
   ]
  },
  {
   "cell_type": "code",
   "execution_count": 41,
   "metadata": {
    "collapsed": false
   },
   "outputs": [
    {
     "data": {
      "text/plain": [
       "272"
      ]
     },
     "execution_count": 41,
     "metadata": {},
     "output_type": "execute_result"
    }
   ],
   "source": [
    "len(befree_no_ner[\"pmid\"].unique())"
   ]
  },
  {
   "cell_type": "code",
   "execution_count": 42,
   "metadata": {
    "collapsed": false
   },
   "outputs": [
    {
     "data": {
      "text/html": [
       "<div>\n",
       "<table border=\"1\" class=\"dataframe\">\n",
       "  <thead>\n",
       "    <tr style=\"text-align: right;\">\n",
       "      <th></th>\n",
       "      <th>F_score</th>\n",
       "      <th>precision</th>\n",
       "      <th>recall</th>\n",
       "      <th>threshold</th>\n",
       "    </tr>\n",
       "  </thead>\n",
       "  <tbody>\n",
       "    <tr>\n",
       "      <th>0</th>\n",
       "      <td>0.588774</td>\n",
       "      <td>0.622276</td>\n",
       "      <td>0.558696</td>\n",
       "      <td>1</td>\n",
       "    </tr>\n",
       "  </tbody>\n",
       "</table>\n",
       "</div>"
      ],
      "text/plain": [
       "    F_score  precision    recall  threshold\n",
       "0  0.588774   0.622276  0.558696          1"
      ]
     },
     "execution_count": 42,
     "metadata": {},
     "output_type": "execute_result"
    }
   ],
   "source": [
    "befree_no_ner_perf"
   ]
  },
  {
   "cell_type": "markdown",
   "metadata": {},
   "source": [
    "## Concept Venn diagrams\n",
    "\n",
    "What chemical and disease concepts were identified by each solution?"
   ]
  },
  {
   "cell_type": "code",
   "execution_count": 43,
   "metadata": {
    "collapsed": false
   },
   "outputs": [],
   "source": [
    "# what were the MeSH ids of annotations for all papers in the testset?\n",
    "\n",
    "concepts = defaultdict(lambda: defaultdict(set))\n",
    "\n",
    "for method, dataset in zip([\"gold\", \"crowd\", \"texas\"], [eval_gold, crowd_full, ut_full]):\n",
    "    for pmid, paper in dataset.items():\n",
    "        for annot in paper.annotations:\n",
    "            concepts[method][annot.stype] |= set(annot.uid)\n",
    "            \n",
    "names = [\"gold\", \"crowd\", \"texas\"]\n",
    "for name in names:\n",
    "    for concept in [\"chemical\", \"disease\"]:\n",
    "        vals = {val.flat_repr for val in concepts[name][concept]}\n",
    "        print_to_file(\"temp/{}_{}.txt\".format(name, concept), format_set(vals))"
   ]
  },
  {
   "cell_type": "markdown",
   "metadata": {},
   "source": [
    "This analysis allows us to determine the performance for each of the NER methods. There may have been some concepts which the NER was never able to recognize properly.\n",
    "\n",
    "### Chemical MeSH ID overlap for all annotations\n",
    "<img src=\"../data/notebook/testset_chemical_id_venn.png\" style=\"width: 500px;\">\n",
    "\n",
    "### Disease MeSH ID overlap for all annotations\n",
    "<img src=\"../data/notebook/testset_disease_id_venn.png\" style=\"width: 500px;\">\n",
    "\n",
    "\n",
    "What we thankfully see is that the vast majority of the chemicals and diseases were identified by all three solutions. However, there exist small numbers of both chemicals and diseases for which the solutions could not come into agreement."
   ]
  },
  {
   "cell_type": "markdown",
   "metadata": {},
   "source": [
    "### Visualizing the terms in each section of the venn diagrams above\n",
    "\n",
    "To look at the actual concepts, we can use word clouds where the size represents the frequency of the concept in the annotations of the testset."
   ]
  },
  {
   "cell_type": "code",
   "execution_count": 44,
   "metadata": {
    "collapsed": true
   },
   "outputs": [],
   "source": [
    "mesh_name, hierarchy = load_mesh(\"hierarchy\")\n",
    "mesh_supp = load_mesh(\"supp\")\n",
    "\n",
    "assert set(mesh_name.keys()).isdisjoint(set(mesh_supp.keys()))\n",
    "# join the names together\n",
    "mesh_name.update(mesh_supp)"
   ]
  },
  {
   "cell_type": "code",
   "execution_count": 45,
   "metadata": {
    "collapsed": true
   },
   "outputs": [],
   "source": [
    "def word_map_prep(concepts, reference):\n",
    "    \"\"\"Given a set of concepts, map them to their names\n",
    "    and output for word cloud generation.\n",
    "    \"\"\"\n",
    "    snippets = []\n",
    "    for pmid, paper in reference.items():\n",
    "        for annot in paper.annotations:\n",
    "            common = annot.uid & concepts\n",
    "            if len(common) > 0:\n",
    "                for concept in common:\n",
    "                    if concept.uid_type == \"MESH\":\n",
    "                        snippets.append(mesh_name[concept.uid])\n",
    "                    else:\n",
    "                        snippets.append(annot.text)\n",
    "                \n",
    "    return snippets"
   ]
  },
  {
   "cell_type": "markdown",
   "metadata": {},
   "source": [
    "For UTexas, sometimes the MeSH ID doesn't match the stated semantic type. For example, in PMID 20009434, \"HD\" is identified as a disease but is assigned the id D008727 for methotrexate. When finding the frequencies, I am using the identifiers, and not verifying the semantic type. May need to adjust this."
   ]
  },
  {
   "cell_type": "code",
   "execution_count": 46,
   "metadata": {
    "collapsed": false
   },
   "outputs": [],
   "source": [
    "# generate word clouds with worditout, using the table feature for precise control over concepts\n",
    "# have to save to kemxjr@gmail.com account, then download (watch out for the watermark)\n",
    "\n",
    "common = concepts[\"texas\"][\"chemical\"] & concepts[\"crowd\"][\"chemical\"] - concepts[\"gold\"][\"chemical\"]\n",
    "\n",
    "res = word_map_prep(common, crowd_full)\n",
    "\n",
    "counts = pd.DataFrame(pd.Series(res).value_counts())\n",
    "counts.to_csv(\"temp/counts.txt\", sep = \":\", index = True, header = False)"
   ]
  },
  {
   "cell_type": "markdown",
   "metadata": {
    "collapsed": true
   },
   "source": [
    "---"
   ]
  },
  {
   "cell_type": "markdown",
   "metadata": {},
   "source": [
    "### Performance for each paper individually"
   ]
  },
  {
   "cell_type": "code",
   "execution_count": 47,
   "metadata": {
    "collapsed": false
   },
   "outputs": [],
   "source": [
    "ind_res = {\n",
    "    \"crowd\": individual_perf(crowd_trip),\n",
    "    \"texas\": individual_perf(ut_trip),\n",
    "    \"befree\": individual_perf(befree_trip)\n",
    "}"
   ]
  },
  {
   "cell_type": "code",
   "execution_count": 48,
   "metadata": {
    "collapsed": true
   },
   "outputs": [],
   "source": [
    "def individual_perf_plot(dfs):\n",
    "    \"\"\"Plots the precision, recall, and F_score for\n",
    "    the papers individually by solution.\n",
    "    \"\"\"\n",
    "    N = len(dfs.keys())\n",
    "    fig, ax = plt.subplots(3, N, figsize = (6 * N, 16))\n",
    "    fig.tight_layout(pad = 5)\n",
    "    \n",
    "    for j, info in enumerate(dfs.items()):\n",
    "        method, df = info\n",
    "        for i, metric in enumerate([\"F_score\", \"recall\", \"precision\"]):\n",
    "            hist, bins = np.histogram(df[metric])\n",
    "\n",
    "            ax[i][j].bar(bins[:-1], hist.astype(np.float32) / hist.sum(),\n",
    "                     width = (bins[1] - bins[0]))\n",
    "\n",
    "            ax[i][j].set_title(\"{} distribution of individual\\nabstracts for {} on testset\".format(\n",
    "                metric, method))\n",
    "            ax[i][j].set_xlabel(metric)\n",
    "            ax[i][j].set_ylabel(\"Percentage of dataset\")\n",
    "            ax[i][j].set_ylim((0, 0.55))"
   ]
  },
  {
   "cell_type": "code",
   "execution_count": 49,
   "metadata": {
    "collapsed": false
   },
   "outputs": [
    {
     "data": {
      "image/png": "[encoded data removed]",
      "text/plain": [
       "<matplotlib.figure.Figure at 0x7ff5ab31fb00>"
      ]
     },
     "metadata": {},
     "output_type": "display_data"
    }
   ],
   "source": [
    "individual_perf_plot(ind_res)"
   ]
  },
  {
   "cell_type": "markdown",
   "metadata": {},
   "source": [
    "Based on these plots, it seems that all three solutions shared a pattern of doing perfectly on some papers (F score = 1) and doing very poorly (F score = 0) on other papers. The two groups by far represent the largest parts of the distribution. Interestingly, we also see in all three solutions an increasing distribution as the F-score improves."
   ]
  },
  {
   "cell_type": "markdown",
   "metadata": {},
   "source": [
    "### Official MeSH terms for the top and worst performing abstracts for each method\n",
    "\n",
    "Does the content of a paper determine whether the different techniques will perform better or worse?"
   ]
  },
  {
   "cell_type": "code",
   "execution_count": 50,
   "metadata": {
    "collapsed": false
   },
   "outputs": [],
   "source": [
    "# generate all the mesh terms for the different subgroups\n",
    "\n",
    "res_mesh_terms = defaultdict(lambda: defaultdict(set))\n",
    "for method, df in ind_res.items():\n",
    "    for state, threshold in zip([\"good\", \"bad\"], [(0.9, 1.0), (0.0, 0.1)]):\n",
    "        pmids = set(df.query(\"{} <= F_score <= {}\".format(threshold[0], threshold[1]))[\"pmid\"])\n",
    "        temp = []\n",
    "        for pmid in pmids:\n",
    "            mesh_terms[pmid].mesh_terms[\"pmid\"] = pmid\n",
    "            temp.append(mesh_terms[pmid].mesh_terms)\n",
    "\n",
    "        res_mesh_terms[method][state] = pd.concat(temp)"
   ]
  },
  {
   "cell_type": "code",
   "execution_count": 51,
   "metadata": {
    "collapsed": false
   },
   "outputs": [],
   "source": [
    "# print to file so that we can make word clouds\n",
    "\n",
    "for method in [\"crowd\", \"texas\", \"befree\"]:\n",
    "    for state in [\"good\", \"bad\"]:\n",
    "        for major in [\"all\", \"major\"]:\n",
    "            sub = res_mesh_terms[method][state]\n",
    "            if major == \"major\":\n",
    "                sub = sub.query(\"major_topic == True\")\n",
    "            \n",
    "            # just the descriptors for now...\n",
    "            terms = pd.DataFrame(sub[\"desc_name\"].value_counts())\n",
    "            fname = \"temp/{}_{}_{}.txt\".format(method, state, major)\n",
    "            \n",
    "            terms.to_csv(fname, sep = \":\", index = True, header = False)"
   ]
  },
  {
   "cell_type": "markdown",
   "metadata": {},
   "source": [
    "For acutal visualization purposes only the major MeSH terms for each paper was used to generate the word clouds, since the top concepts for all mesh terms are very similar (Man, human, etc)."
   ]
  },
  {
   "cell_type": "markdown",
   "metadata": {},
   "source": [
    "---"
   ]
  },
  {
   "cell_type": "markdown",
   "metadata": {},
   "source": [
    "### Individual abstract performance for the perfectly annotated subset"
   ]
  },
  {
   "cell_type": "code",
   "execution_count": 52,
   "metadata": {
    "collapsed": false
   },
   "outputs": [],
   "source": [
    "def individual_perf2(df, gold_std):\n",
    "    res = defaultdict(list)\n",
    "    for pmid, group in gold_std.groupby(\"pmid\"):\n",
    "        # for all papers where gold has at least one relation\n",
    "        gold_sub = get_triples(group)\n",
    "        \n",
    "        predict_sub = get_triples(df.query(\"pmid == {}\".format(pmid)))\n",
    "        \n",
    "        precision, recall, f1 = performance(gold_sub, predict_sub)\n",
    "        \n",
    "        res[\"pmid\"].append(pmid)\n",
    "        res[\"precision\"].append(precision)\n",
    "        res[\"recall\"].append(recall)\n",
    "        res[\"F_score\"].append(f1)\n",
    "        \n",
    "    # for all papers where no gold relations but we made a prediction (all false positives)\n",
    "    # if using F score, would get 0/0 for recall\n",
    "    temp = defaultdict(list)\n",
    "    for pmid in set(df[\"pmid\"]) - set(gold_std[\"pmid\"]):\n",
    "        temp[\"pmid\"].append(pmid)\n",
    "        temp[\"false_pos\"].append(len(df.query(\"pmid == {}\".format(pmid))))\n",
    "        \n",
    "    return (pd.DataFrame(res), pd.DataFrame(temp))"
   ]
  },
  {
   "cell_type": "code",
   "execution_count": 53,
   "metadata": {
    "collapsed": false
   },
   "outputs": [],
   "source": [
    "ind_res_no_ner = {\n",
    "    \"crowd\": individual_perf2(crowd_no_ner.query(\"num_votes >= 4\"), crowd_good_gold),\n",
    "    \"texas\": individual_perf2(texas_no_ner, ut_good_gold),\n",
    "    \"befree\": individual_perf2(befree_no_ner, befree_good_gold)\n",
    "}"
   ]
  },
  {
   "cell_type": "code",
   "execution_count": 54,
   "metadata": {
    "collapsed": true
   },
   "outputs": [],
   "source": [
    "def individual_perf_plot2(dfs):\n",
    "    \"\"\"Plots the precision, recall, and F_score for\n",
    "    the papers individually by solution.\n",
    "    \"\"\"\n",
    "    N = len(dfs.keys())\n",
    "    fig, ax = plt.subplots(3, N, figsize = (6 * N, 16))\n",
    "    fig.tight_layout(pad = 5)\n",
    "    \n",
    "    for j, info in enumerate(dfs.items()):\n",
    "        method, df = info\n",
    "        df = df[0]\n",
    "        for i, metric in enumerate([\"F_score\", \"recall\", \"precision\"]):\n",
    "            hist, bins = np.histogram(df[metric])\n",
    "\n",
    "            ax[i][j].bar(bins[:-1], hist.astype(np.float32) / hist.sum(),\n",
    "                     width = (bins[1] - bins[0]))\n",
    "\n",
    "            ax[i][j].set_title(\"{} distribution of individual\\nabstracts for {} on testset\".format(\n",
    "                metric, method))\n",
    "            ax[i][j].set_xlabel(metric)\n",
    "            ax[i][j].set_ylabel(\"Percentage of dataset\")\n",
    "            ax[i][j].set_ylim((0, 0.75))"
   ]
  },
  {
   "cell_type": "code",
   "execution_count": 55,
   "metadata": {
    "collapsed": false
   },
   "outputs": [
    {
     "name": "stdout",
     "output_type": "stream",
     "text": [
      "crowd\n",
      "number of papers with false positives: 44\n",
      "total number of false positives: 85\n",
      "---\n",
      "texas\n",
      "number of papers with false positives: 48\n",
      "total number of false positives: 75\n",
      "---\n",
      "befree\n",
      "number of papers with false positives: 36\n",
      "total number of false positives: 75\n",
      "---\n"
     ]
    }
   ],
   "source": [
    "for method, vals in ind_res_no_ner.items():\n",
    "    _, fps = vals\n",
    "    print(method)\n",
    "    print(\"number of papers with false positives:\", len(fps))\n",
    "    print(\"total number of false positives:\", fps[\"false_pos\"].sum())\n",
    "    print(\"---\")"
   ]
  },
  {
   "cell_type": "code",
   "execution_count": 56,
   "metadata": {
    "collapsed": false
   },
   "outputs": [
    {
     "data": {
      "image/png": "[encoded data removed]",
      "text/plain": [
       "<matplotlib.figure.Figure at 0x7ff5be8b9ac8>"
      ]
     },
     "metadata": {},
     "output_type": "display_data"
    }
   ],
   "source": [
    "individual_perf_plot2(ind_res_no_ner)"
   ]
  },
  {
   "cell_type": "markdown",
   "metadata": {},
   "source": [
    "---"
   ]
  },
  {
   "cell_type": "markdown",
   "metadata": {},
   "source": [
    "### Venn diagram of relations"
   ]
  },
  {
   "cell_type": "code",
   "execution_count": 57,
   "metadata": {
    "collapsed": true
   },
   "outputs": [],
   "source": [
    "# format triples to make venn diagrams using:\n",
    "# bioinformatics.lu/venn.php\n",
    "# bioinfogp.cnb.csic.es/tools/venny\n",
    "        \n",
    "names = [\"gold\", \"crowd\", \"utexas\", \"befree\"]\n",
    "data = [gold_triples, crowd_trip, ut_trip, befree_trip]\n",
    "    \n",
    "for fname, dataset in zip(names, data):\n",
    "    print_to_file(\"{}.txt\".format(fname), format_set(dataset))"
   ]
  },
  {
   "cell_type": "markdown",
   "metadata": {},
   "source": [
    "### Gold, crowd, and texas only\n",
    "<img src=\"../data/notebook/better_testset_cross_validation.png\" style=\"width: 500px;\">\n",
    "\n",
    "### Gold, crowd, texas, and befree\n",
    "<img src=\"../data/notebook/testset_all_cross_validation.png\" style=\"width: 500px;\">"
   ]
  },
  {
   "cell_type": "markdown",
   "metadata": {},
   "source": [
    "---"
   ]
  },
  {
   "cell_type": "markdown",
   "metadata": {},
   "source": [
    "### Percent relations in each subset with ids missing in gold standard"
   ]
  },
  {
   "cell_type": "code",
   "execution_count": 58,
   "metadata": {
    "collapsed": true
   },
   "outputs": [],
   "source": [
    "def missing_stats(triples, reference):\n",
    "    df = make_df(triples)\n",
    "    df = check_exists(df, reference)\n",
    "    \n",
    "    ans = dict()\n",
    "    for col in [\"chem\", \"dise\"]:\n",
    "        cname = \"{}_exists\".format(col)\n",
    "        norm = df[cname].value_counts(normalize = True)\n",
    "        res = norm.loc[False] if False in norm.keys() else 0\n",
    "        ans[col] = res * 100\n",
    "        \n",
    "    ans[\"any\"] = len(df.query(\"~chem_exists or ~dise_exists\")) / len(df) * 100\n",
    "    return ans"
   ]
  },
  {
   "cell_type": "markdown",
   "metadata": {},
   "source": [
    "---"
   ]
  },
  {
   "cell_type": "markdown",
   "metadata": {},
   "source": [
    "### Abstract vs sentence relations"
   ]
  },
  {
   "cell_type": "code",
   "execution_count": 59,
   "metadata": {
    "collapsed": true
   },
   "outputs": [],
   "source": [
    "def converter(pmid, poss_relations):\n",
    "    return [Relation(pmid, rel[0], rel[1]) for rel in poss_relations]\n",
    "\n",
    "def rel_origin(triple, paper):\n",
    "    relation = Relation(paper.pmid, triple[1], triple[2], flat = False)\n",
    "\n",
    "    rename = {\n",
    "        \"CID\": \"CID\",\n",
    "        \"sentence_non_CID\": \"sent\",\n",
    "        \"not_sentence_bound\": \"abs\"\n",
    "    }\n",
    "    \n",
    "    ans = []\n",
    "    for key, val in paper.poss_relations.items():\n",
    "        value = converter(paper.pmid, val)\n",
    "        if relation in value:\n",
    "            ans.append(rename[key])\n",
    "\n",
    "    return ans\n",
    "\n",
    "def triple_origin(triples, reference, return_res = False):\n",
    "    lengths = []\n",
    "    vals = []\n",
    "    for trip in triples:\n",
    "        pmid = trip[0]\n",
    "        res = rel_origin(trip, reference[pmid])\n",
    "        \n",
    "        vals += res\n",
    "        lengths.append(len(res))\n",
    "        \n",
    "    if return_res:\n",
    "        return pd.Series(vals).value_counts(normalize = True) * 100    \n",
    "        \n",
    "    print(\"For this triple set of length {}\".format(len(triples)))\n",
    "    print(\"Origin group lengths:\")\n",
    "    print(pd.Series(lengths).value_counts())\n",
    "    print()\n",
    "    print(\"Origin counts:\")\n",
    "    print(pd.Series(vals).value_counts(normalize = True) * 100)"
   ]
  },
  {
   "cell_type": "markdown",
   "metadata": {},
   "source": [
    "### Relation co-occurrence for each dataset separately\n",
    "\n",
    "For each technique where did the predicted relations come from?"
   ]
  },
  {
   "cell_type": "code",
   "execution_count": 60,
   "metadata": {
    "collapsed": false
   },
   "outputs": [
    {
     "data": {
      "text/html": [
       "<div>\n",
       "<table border=\"1\" class=\"dataframe\">\n",
       "  <thead>\n",
       "    <tr style=\"text-align: right;\">\n",
       "      <th></th>\n",
       "      <th>sent</th>\n",
       "      <th>abs</th>\n",
       "      <th>CID</th>\n",
       "    </tr>\n",
       "  </thead>\n",
       "  <tbody>\n",
       "    <tr>\n",
       "      <th>gold</th>\n",
       "      <td>54.562384</td>\n",
       "      <td>29.888268</td>\n",
       "      <td>15.549348</td>\n",
       "    </tr>\n",
       "    <tr>\n",
       "      <th>crowd</th>\n",
       "      <td>52.848885</td>\n",
       "      <td>31.131296</td>\n",
       "      <td>16.019818</td>\n",
       "    </tr>\n",
       "    <tr>\n",
       "      <th>texas</th>\n",
       "      <td>64.343164</td>\n",
       "      <td>21.000894</td>\n",
       "      <td>14.655943</td>\n",
       "    </tr>\n",
       "  </tbody>\n",
       "</table>\n",
       "</div>"
      ],
      "text/plain": [
       "            sent        abs        CID\n",
       "gold   54.562384  29.888268  15.549348\n",
       "crowd  52.848885  31.131296  16.019818\n",
       "texas  64.343164  21.000894  14.655943"
      ]
     },
     "execution_count": 60,
     "metadata": {},
     "output_type": "execute_result"
    },
    {
     "data": {
      "image/png": "[encoded data removed]",
      "text/plain": [
       "<matplotlib.figure.Figure at 0x7ff5bc9e5ef0>"
      ]
     },
     "metadata": {},
     "output_type": "display_data"
    }
   ],
   "source": [
    "a = triple_origin(gold_triples, eval_gold, return_res = True)\n",
    "b = triple_origin(crowd_trip, crowd_full, return_res = True)\n",
    "c = triple_origin(ut_trip, ut_full, return_res = True)\n",
    "\n",
    "rel_origins = pd.DataFrame([a, b, c], index = [\"gold\", \"crowd\", \"texas\"])\n",
    "\n",
    "ax = rel_origins.T.plot(kind = \"bar\", figsize = (5, 7),\n",
    "                    title = \"Origin for gold standard, crowd, and texas relations\")\n",
    "ax.set_ylabel(\"Percent relations\")\n",
    "rel_origins"
   ]
  },
  {
   "cell_type": "markdown",
   "metadata": {},
   "source": [
    "Seems like the crowd's answer response distribution is much closer to that of the gold's. The UTexas solution seems to prefer sentence-bound relations."
   ]
  },
  {
   "cell_type": "markdown",
   "metadata": {},
   "source": [
    "---"
   ]
  },
  {
   "cell_type": "markdown",
   "metadata": {},
   "source": [
    "### Make one comprehensive dataframe for easier analysis"
   ]
  },
  {
   "cell_type": "code",
   "execution_count": 61,
   "metadata": {
    "collapsed": true
   },
   "outputs": [],
   "source": [
    "def new_check_exists(df, reference, ref_name):\n",
    "    triple = [\"pmid\", \"chemical_id\", \"disease_id\"]\n",
    "    for col in [\"chemical\", \"disease\"]:\n",
    "        col_name = \"{0}_in_{1}\".format(col[:4], ref_name)\n",
    "        \n",
    "        df.loc[:, col_name] = df[triple].apply(\n",
    "            lambda row: has_concept(reference[int(row[\"pmid\"])], row[\"{}_id\".format(col)]), axis = 1)\n",
    "        \n",
    "    return df"
   ]
  },
  {
   "cell_type": "code",
   "execution_count": 62,
   "metadata": {
    "collapsed": true
   },
   "outputs": [],
   "source": [
    "def single_triple_origin(pmid, chemical_id, disease_id, reference):\n",
    "    triple = (pmid, chemical_id, disease_id)\n",
    "    \n",
    "    res = rel_origin(triple, reference[pmid])\n",
    "    return \"|\".join(sorted(res))"
   ]
  },
  {
   "cell_type": "code",
   "execution_count": 63,
   "metadata": {
    "collapsed": true
   },
   "outputs": [],
   "source": [
    "def num_times_cooccur(pmid, chemical_id, disease_id, rel_origin, reference):\n",
    "    \"\"\"Given a relation triple and a reference Paper object,\n",
    "    determines how many times the relation cooccurs (a sentence\n",
    "    if CID or sentence, and 1 otherwise (abstract)).\n",
    "    \"\"\"\n",
    "    if not rel_origin:\n",
    "        # was not found using this solution\n",
    "        return np.nan\n",
    "    \n",
    "    if rel_origin == \"abs\":\n",
    "        return 1\n",
    "    \n",
    "    paper = reference[pmid]\n",
    "    \n",
    "    rel = Relation(pmid, chemical_id, disease_id, flat = False)\n",
    "        \n",
    "    ans = 0\n",
    "    for sentence in paper.sentences:\n",
    "        all_rels = sentence.poss_relations[rel_origin == \"CID\"]\n",
    "        all_rels = [Relation(pmid, chem_set, dise_set) for chem_set, dise_set in all_rels]\n",
    "        ans += int(rel in all_rels)\n",
    "        \n",
    "    return ans"
   ]
  },
  {
   "cell_type": "code",
   "execution_count": 64,
   "metadata": {
    "collapsed": false
   },
   "outputs": [],
   "source": [
    "# creating one comprehensive dataframe for easy result aggregation and querying\n",
    "\n",
    "all_trips = gold_triples | crowd_trip | ut_trip\n",
    "all_df = make_df(all_trips)\n",
    "\n",
    "triple = [\"pmid\", \"chemical_id\", \"disease_id\"]\n",
    "\n",
    "# which triple was found by which solution?\n",
    "for name, reference in zip([\"gold\", \"crowd\", \"texas\"], [gold_triples, crowd_trip, ut_trip]):\n",
    "    all_df.loc[:, \"in_{}\".format(name)] = all_df.loc[:, triple].apply(\n",
    "        lambda row: (row[\"pmid\"], row[\"chemical_id\"], row[\"disease_id\"]) in reference,\n",
    "        axis = 1\n",
    "    )\n",
    "    \n",
    "# were the concepts present in each dataset's concepts?\n",
    "for name, reference in zip([\"gold\", \"crowd\", \"texas\"], [eval_gold, crowd_full, ut_full]):\n",
    "    all_df = new_check_exists(all_df, reference, name)\n",
    "\n",
    "# was the relation sentence bound or abstract level?\n",
    "for name, reference in zip([\"gold\", \"crowd\", \"texas\"], [eval_gold, crowd_full, ut_full]):\n",
    "    colname = \"rel_orig_{}\".format(name)\n",
    "    \n",
    "    all_df.loc[:, colname] = all_df.loc[:, triple].apply(\n",
    "        lambda row: single_triple_origin(row[\"pmid\"], row[\"chemical_id\"], row[\"disease_id\"], reference),\n",
    "        axis = 1\n",
    "    )\n",
    "    \n",
    "# how many times did the two concepts cooccur within the paper?    \n",
    "for name, reference in zip([\"gold\", \"crowd\", \"texas\"], [eval_gold, crowd_full, ut_full]):    \n",
    "    colname = \"cooccur_{}\".format(name)\n",
    "    rel_orig = \"rel_orig_{}\".format(name)\n",
    "    \n",
    "    all_df.loc[:, colname] = all_df.loc[:, triple + [rel_orig]].apply(\n",
    "        lambda row: num_times_cooccur(row[\"pmid\"], row[\"chemical_id\"], row[\"disease_id\"],\n",
    "                                     row[rel_orig], reference),\n",
    "        axis = 1\n",
    "    )"
   ]
  },
  {
   "cell_type": "code",
   "execution_count": 65,
   "metadata": {
    "collapsed": false
   },
   "outputs": [
    {
     "data": {
      "text/html": [
       "<div>\n",
       "<table border=\"1\" class=\"dataframe\">\n",
       "  <thead>\n",
       "    <tr style=\"text-align: right;\">\n",
       "      <th></th>\n",
       "      <th>pmid</th>\n",
       "      <th>chemical_id</th>\n",
       "      <th>disease_id</th>\n",
       "      <th>in_gold</th>\n",
       "      <th>in_crowd</th>\n",
       "      <th>in_texas</th>\n",
       "      <th>chem_in_gold</th>\n",
       "      <th>dise_in_gold</th>\n",
       "      <th>chem_in_crowd</th>\n",
       "      <th>dise_in_crowd</th>\n",
       "      <th>chem_in_texas</th>\n",
       "      <th>dise_in_texas</th>\n",
       "      <th>rel_orig_gold</th>\n",
       "      <th>rel_orig_crowd</th>\n",
       "      <th>rel_orig_texas</th>\n",
       "      <th>cooccur_gold</th>\n",
       "      <th>cooccur_crowd</th>\n",
       "      <th>cooccur_texas</th>\n",
       "    </tr>\n",
       "  </thead>\n",
       "  <tbody>\n",
       "    <tr>\n",
       "      <th>0</th>\n",
       "      <td>11425091</td>\n",
       "      <td>MESH:D003042</td>\n",
       "      <td>MESH:D007235</td>\n",
       "      <td>True</td>\n",
       "      <td>False</td>\n",
       "      <td>False</td>\n",
       "      <td>True</td>\n",
       "      <td>True</td>\n",
       "      <td>True</td>\n",
       "      <td>False</td>\n",
       "      <td>True</td>\n",
       "      <td>False</td>\n",
       "      <td>sent</td>\n",
       "      <td></td>\n",
       "      <td></td>\n",
       "      <td>3</td>\n",
       "      <td>NaN</td>\n",
       "      <td>NaN</td>\n",
       "    </tr>\n",
       "    <tr>\n",
       "      <th>1</th>\n",
       "      <td>8511251</td>\n",
       "      <td>MESH:D003042</td>\n",
       "      <td>MESH:D007511</td>\n",
       "      <td>False</td>\n",
       "      <td>True</td>\n",
       "      <td>False</td>\n",
       "      <td>True</td>\n",
       "      <td>True</td>\n",
       "      <td>True</td>\n",
       "      <td>True</td>\n",
       "      <td>True</td>\n",
       "      <td>True</td>\n",
       "      <td>abs</td>\n",
       "      <td>abs</td>\n",
       "      <td>abs</td>\n",
       "      <td>1</td>\n",
       "      <td>1</td>\n",
       "      <td>1</td>\n",
       "    </tr>\n",
       "    <tr>\n",
       "      <th>2</th>\n",
       "      <td>19184102</td>\n",
       "      <td>MESH:D014635</td>\n",
       "      <td>MESH:D009765</td>\n",
       "      <td>True</td>\n",
       "      <td>True</td>\n",
       "      <td>True</td>\n",
       "      <td>True</td>\n",
       "      <td>True</td>\n",
       "      <td>True</td>\n",
       "      <td>True</td>\n",
       "      <td>True</td>\n",
       "      <td>True</td>\n",
       "      <td>sent</td>\n",
       "      <td>sent</td>\n",
       "      <td>sent</td>\n",
       "      <td>2</td>\n",
       "      <td>2</td>\n",
       "      <td>2</td>\n",
       "    </tr>\n",
       "    <tr>\n",
       "      <th>3</th>\n",
       "      <td>23892921</td>\n",
       "      <td>MESH:D003907</td>\n",
       "      <td>MESH:D001855</td>\n",
       "      <td>True</td>\n",
       "      <td>False</td>\n",
       "      <td>False</td>\n",
       "      <td>True</td>\n",
       "      <td>True</td>\n",
       "      <td>True</td>\n",
       "      <td>False</td>\n",
       "      <td>True</td>\n",
       "      <td>True</td>\n",
       "      <td>abs</td>\n",
       "      <td></td>\n",
       "      <td>abs</td>\n",
       "      <td>1</td>\n",
       "      <td>NaN</td>\n",
       "      <td>1</td>\n",
       "    </tr>\n",
       "    <tr>\n",
       "      <th>4</th>\n",
       "      <td>3711722</td>\n",
       "      <td>MESH:D003035</td>\n",
       "      <td>MESH:D009202</td>\n",
       "      <td>True</td>\n",
       "      <td>False</td>\n",
       "      <td>True</td>\n",
       "      <td>True</td>\n",
       "      <td>True</td>\n",
       "      <td>True</td>\n",
       "      <td>True</td>\n",
       "      <td>True</td>\n",
       "      <td>True</td>\n",
       "      <td>sent</td>\n",
       "      <td>sent</td>\n",
       "      <td>sent</td>\n",
       "      <td>1</td>\n",
       "      <td>1</td>\n",
       "      <td>1</td>\n",
       "    </tr>\n",
       "  </tbody>\n",
       "</table>\n",
       "</div>"
      ],
      "text/plain": [
       "       pmid   chemical_id    disease_id in_gold in_crowd in_texas  \\\n",
       "0  11425091  MESH:D003042  MESH:D007235    True    False    False   \n",
       "1   8511251  MESH:D003042  MESH:D007511   False     True    False   \n",
       "2  19184102  MESH:D014635  MESH:D009765    True     True     True   \n",
       "3  23892921  MESH:D003907  MESH:D001855    True    False    False   \n",
       "4   3711722  MESH:D003035  MESH:D009202    True    False     True   \n",
       "\n",
       "  chem_in_gold dise_in_gold chem_in_crowd dise_in_crowd chem_in_texas  \\\n",
       "0         True         True          True         False          True   \n",
       "1         True         True          True          True          True   \n",
       "2         True         True          True          True          True   \n",
       "3         True         True          True         False          True   \n",
       "4         True         True          True          True          True   \n",
       "\n",
       "  dise_in_texas rel_orig_gold rel_orig_crowd rel_orig_texas  cooccur_gold  \\\n",
       "0         False          sent                                           3   \n",
       "1          True           abs            abs            abs             1   \n",
       "2          True          sent           sent           sent             2   \n",
       "3          True           abs                           abs             1   \n",
       "4          True          sent           sent           sent             1   \n",
       "\n",
       "   cooccur_crowd  cooccur_texas  \n",
       "0            NaN            NaN  \n",
       "1              1              1  \n",
       "2              2              2  \n",
       "3            NaN              1  \n",
       "4              1              1  "
      ]
     },
     "execution_count": 65,
     "metadata": {},
     "output_type": "execute_result"
    }
   ],
   "source": [
    "all_df.head()"
   ]
  },
  {
   "cell_type": "markdown",
   "metadata": {},
   "source": [
    "---"
   ]
  },
  {
   "cell_type": "markdown",
   "metadata": {},
   "source": [
    "### How many of the sentence and abstract relations did each method find? What was the precision?"
   ]
  },
  {
   "cell_type": "code",
   "execution_count": 66,
   "metadata": {
    "collapsed": false
   },
   "outputs": [],
   "source": [
    "def found_stats():\n",
    "    recall = dict()\n",
    "    precision = dict()\n",
    "    for method in [\"crowd\", \"texas\"]:\n",
    "        rec_temp = dict()\n",
    "        pre_temp = dict()\n",
    "        for rel_type in [\"CID\", \"sent\", \"abs\"]:\n",
    "            sub = all_df.query(\"in_gold and rel_orig_gold == '{}'\".format(rel_type))\n",
    "            total = len(sub)\n",
    "            found = len(sub.query(\"in_{}\".format(method)))\n",
    "            \n",
    "            guesses = all_df.query(\"in_{0} and rel_orig_{0} == '{1}'\".format(method, rel_type))\n",
    "            guesses = len(guesses)\n",
    "            \n",
    "            rec_temp[rel_type] = found / total * 100\n",
    "            pre_temp[rel_type] = found / guesses * 100\n",
    "            \n",
    "        recall[method] = rec_temp\n",
    "        precision[method] = pre_temp\n",
    "        \n",
    "    return (pd.DataFrame(recall), pd.DataFrame(precision))"
   ]
  },
  {
   "cell_type": "code",
   "execution_count": 67,
   "metadata": {
    "collapsed": false
   },
   "outputs": [],
   "source": [
    "recall, precision = found_stats()"
   ]
  },
  {
   "cell_type": "code",
   "execution_count": 68,
   "metadata": {
    "collapsed": false
   },
   "outputs": [
    {
     "data": {
      "text/html": [
       "<div>\n",
       "<table border=\"1\" class=\"dataframe\">\n",
       "  <thead>\n",
       "    <tr style=\"text-align: right;\">\n",
       "      <th></th>\n",
       "      <th>crowd</th>\n",
       "      <th>texas</th>\n",
       "    </tr>\n",
       "  </thead>\n",
       "  <tbody>\n",
       "    <tr>\n",
       "      <th>CID</th>\n",
       "      <td>87.116564</td>\n",
       "      <td>83.435583</td>\n",
       "    </tr>\n",
       "    <tr>\n",
       "      <th>abs</th>\n",
       "      <td>36.392405</td>\n",
       "      <td>35.443038</td>\n",
       "    </tr>\n",
       "    <tr>\n",
       "      <th>sent</th>\n",
       "      <td>54.058722</td>\n",
       "      <td>63.903282</td>\n",
       "    </tr>\n",
       "  </tbody>\n",
       "</table>\n",
       "</div>"
      ],
      "text/plain": [
       "          crowd      texas\n",
       "CID   87.116564  83.435583\n",
       "abs   36.392405  35.443038\n",
       "sent  54.058722  63.903282"
      ]
     },
     "execution_count": 68,
     "metadata": {},
     "output_type": "execute_result"
    },
    {
     "data": {
      "image/png": "[encoded data removed]",
      "text/plain": [
       "<matplotlib.figure.Figure at 0x7ff5be7e2da0>"
      ]
     },
     "metadata": {},
     "output_type": "display_data"
    }
   ],
   "source": [
    "ax = recall.plot(kind = \"bar\", figsize = (4, 5),\n",
    "        title = \"Gold relation recall by relation category\")\n",
    "\n",
    "ax.set_ylabel(\"Percent gold relations found\")\n",
    "\n",
    "recall"
   ]
  },
  {
   "cell_type": "code",
   "execution_count": 69,
   "metadata": {
    "collapsed": false
   },
   "outputs": [
    {
     "data": {
      "text/html": [
       "<div>\n",
       "<table border=\"1\" class=\"dataframe\">\n",
       "  <thead>\n",
       "    <tr style=\"text-align: right;\">\n",
       "      <th></th>\n",
       "      <th>crowd</th>\n",
       "      <th>texas</th>\n",
       "    </tr>\n",
       "  </thead>\n",
       "  <tbody>\n",
       "    <tr>\n",
       "      <th>CID</th>\n",
       "      <td>73.195876</td>\n",
       "      <td>82.926829</td>\n",
       "    </tr>\n",
       "    <tr>\n",
       "      <th>abs</th>\n",
       "      <td>30.503979</td>\n",
       "      <td>47.659574</td>\n",
       "    </tr>\n",
       "    <tr>\n",
       "      <th>sent</th>\n",
       "      <td>48.906250</td>\n",
       "      <td>51.388889</td>\n",
       "    </tr>\n",
       "  </tbody>\n",
       "</table>\n",
       "</div>"
      ],
      "text/plain": [
       "          crowd      texas\n",
       "CID   73.195876  82.926829\n",
       "abs   30.503979  47.659574\n",
       "sent  48.906250  51.388889"
      ]
     },
     "execution_count": 69,
     "metadata": {},
     "output_type": "execute_result"
    },
    {
     "data": {
      "image/png": "[encoded data removed]",
      "text/plain": [
       "<matplotlib.figure.Figure at 0x7ff5a8c3da20>"
      ]
     },
     "metadata": {},
     "output_type": "display_data"
    }
   ],
   "source": [
    "ax = precision.plot(kind = \"bar\", figsize = (4, 5),\n",
    "        title = \"Gold relation precision by relation category\")\n",
    "\n",
    "ax.set_ylabel(\"Precision of guesses\")\n",
    "\n",
    "precision"
   ]
  },
  {
   "cell_type": "markdown",
   "metadata": {},
   "source": [
    "The two solutions found similar fractions of CID and abstract relations. The Texas solution found more sentence relations, but their predictions also contained more sentence-level relations overall. This is bad.. We are showing in different ways why the automated solution was better than our crowd.."
   ]
  },
  {
   "cell_type": "markdown",
   "metadata": {},
   "source": [
    "### Of the relations which neither technique got, why did we not get them?"
   ]
  },
  {
   "cell_type": "code",
   "execution_count": 70,
   "metadata": {
    "collapsed": false
   },
   "outputs": [
    {
     "data": {
      "text/html": [
       "<div>\n",
       "<table border=\"1\" class=\"dataframe\">\n",
       "  <thead>\n",
       "    <tr style=\"text-align: right;\">\n",
       "      <th></th>\n",
       "      <th>any</th>\n",
       "      <th>chem</th>\n",
       "      <th>dise</th>\n",
       "    </tr>\n",
       "  </thead>\n",
       "  <tbody>\n",
       "    <tr>\n",
       "      <th>crowd</th>\n",
       "      <td>63.888889</td>\n",
       "      <td>19.097222</td>\n",
       "      <td>49.652778</td>\n",
       "    </tr>\n",
       "    <tr>\n",
       "      <th>texas</th>\n",
       "      <td>56.944444</td>\n",
       "      <td>17.013889</td>\n",
       "      <td>42.708333</td>\n",
       "    </tr>\n",
       "  </tbody>\n",
       "</table>\n",
       "</div>"
      ],
      "text/plain": [
       "             any       chem       dise\n",
       "crowd  63.888889  19.097222  49.652778\n",
       "texas  56.944444  17.013889  42.708333"
      ]
     },
     "execution_count": 70,
     "metadata": {},
     "output_type": "execute_result"
    },
    {
     "data": {
      "image/png": "[encoded data removed]",
      "text/plain": [
       "<matplotlib.figure.Figure at 0x7ff5a8c729e8>"
      ]
     },
     "metadata": {},
     "output_type": "display_data"
    }
   ],
   "source": [
    "unfound = gold_triples - crowd_trip - ut_trip\n",
    "\n",
    "crowd_miss = missing_stats(unfound, crowd_full)\n",
    "ut_miss = missing_stats(unfound, ut_full)\n",
    "\n",
    "missing = pd.DataFrame([crowd_miss, ut_miss], index = [\"crowd\", \"texas\"])\n",
    "\n",
    "ax = missing.T.plot(kind = \"bar\", figsize = (7, 7),\n",
    "             title = \"Percent of unfound relations using unknown identifiers\")\n",
    "\n",
    "ax.set_ylabel(\"Percent of concepts in gold relations with unknown IDs\")\n",
    "missing"
   ]
  },
  {
   "cell_type": "markdown",
   "metadata": {},
   "source": [
    "So a vast majority of the missed gold relations were unfound mainly because they used an ID which did not appear anywhere in the NER output for that paper.\n",
    "\n",
    "For the relations which were indexed, what was the scope of the relation?"
   ]
  },
  {
   "cell_type": "code",
   "execution_count": 71,
   "metadata": {
    "collapsed": false
   },
   "outputs": [
    {
     "data": {
      "text/html": [
       "<div>\n",
       "<table border=\"1\" class=\"dataframe\">\n",
       "  <thead>\n",
       "    <tr style=\"text-align: right;\">\n",
       "      <th></th>\n",
       "      <th>abs</th>\n",
       "      <th>sent</th>\n",
       "    </tr>\n",
       "  </thead>\n",
       "  <tbody>\n",
       "    <tr>\n",
       "      <th>crowd</th>\n",
       "      <td>55.769231</td>\n",
       "      <td>44.230769</td>\n",
       "    </tr>\n",
       "    <tr>\n",
       "      <th>texas</th>\n",
       "      <td>60.483871</td>\n",
       "      <td>39.516129</td>\n",
       "    </tr>\n",
       "  </tbody>\n",
       "</table>\n",
       "</div>"
      ],
      "text/plain": [
       "             abs       sent\n",
       "crowd  55.769231  44.230769\n",
       "texas  60.483871  39.516129"
      ]
     },
     "execution_count": 71,
     "metadata": {},
     "output_type": "execute_result"
    },
    {
     "data": {
      "image/png": "[encoded data removed]",
      "text/plain": [
       "<matplotlib.figure.Figure at 0x7ff5a8bf6f28>"
      ]
     },
     "metadata": {},
     "output_type": "display_data"
    }
   ],
   "source": [
    "unfound = all_df.query(\"in_gold and ~in_crowd and ~in_texas\")\n",
    "crowd_miss = unfound.query(\"chem_in_crowd and dise_in_crowd\")[\"rel_orig_gold\"].value_counts(normalize = True) * 100\n",
    "texas_miss = unfound.query(\"chem_in_texas and dise_in_texas\")[\"rel_orig_gold\"].value_counts(normalize = True) * 100\n",
    "\n",
    "missed = pd.DataFrame([crowd_miss, texas_miss], index = [\"crowd\", \"texas\"])\n",
    "\n",
    "ax = missed.T.plot(kind = \"bar\", figsize = (6, 6),\n",
    "                title = \"Relation scope for indexable but missed gold relations\")\n",
    "\n",
    "ax.set_ylabel(\"Percent of gold relations\")\n",
    "missed"
   ]
  },
  {
   "cell_type": "markdown",
   "metadata": {},
   "source": [
    "For both solutions, at least half of the indexable, missed gold relations were abstract scoped, and therefore likely harder to determine correctly. Texas's solution seems to have a slight bias for the abstract scoped relations, but the different is probably not significant."
   ]
  },
  {
   "cell_type": "markdown",
   "metadata": {},
   "source": [
    "---"
   ]
  },
  {
   "cell_type": "markdown",
   "metadata": {},
   "source": [
    "### For the relations which were false positives, what percentage were due to NER errors?"
   ]
  },
  {
   "cell_type": "code",
   "execution_count": 72,
   "metadata": {
    "collapsed": false
   },
   "outputs": [
    {
     "data": {
      "text/html": [
       "<div>\n",
       "<table border=\"1\" class=\"dataframe\">\n",
       "  <thead>\n",
       "    <tr style=\"text-align: right;\">\n",
       "      <th></th>\n",
       "      <th>any</th>\n",
       "      <th>chem</th>\n",
       "      <th>dise</th>\n",
       "    </tr>\n",
       "  </thead>\n",
       "  <tbody>\n",
       "    <tr>\n",
       "      <th>crowd_only</th>\n",
       "      <td>34.435798</td>\n",
       "      <td>5.058366</td>\n",
       "      <td>30.350195</td>\n",
       "    </tr>\n",
       "    <tr>\n",
       "      <th>texas_only</th>\n",
       "      <td>24.800000</td>\n",
       "      <td>8.800000</td>\n",
       "      <td>16.533333</td>\n",
       "    </tr>\n",
       "    <tr>\n",
       "      <th>crowd_and_texas</th>\n",
       "      <td>9.090909</td>\n",
       "      <td>1.652893</td>\n",
       "      <td>7.438017</td>\n",
       "    </tr>\n",
       "  </tbody>\n",
       "</table>\n",
       "</div>"
      ],
      "text/plain": [
       "                       any      chem       dise\n",
       "crowd_only       34.435798  5.058366  30.350195\n",
       "texas_only       24.800000  8.800000  16.533333\n",
       "crowd_and_texas   9.090909  1.652893   7.438017"
      ]
     },
     "execution_count": 72,
     "metadata": {},
     "output_type": "execute_result"
    },
    {
     "data": {
      "image/png": "[encoded data removed]",
      "text/plain": [
       "<matplotlib.figure.Figure at 0x7ff5a8b68d30>"
      ]
     },
     "metadata": {},
     "output_type": "display_data"
    }
   ],
   "source": [
    "crowd_only = crowd_trip - gold_triples - ut_trip\n",
    "texas_only = ut_trip - gold_triples - crowd_trip\n",
    "crowd_ut = crowd_trip & ut_trip - gold_triples\n",
    "\n",
    "cr_miss = missing_stats(crowd_only, eval_gold)\n",
    "ut_miss = missing_stats(texas_only, eval_gold)\n",
    "both_miss = missing_stats(crowd_ut, eval_gold)\n",
    "\n",
    "missing = pd.DataFrame([cr_miss, ut_miss, both_miss], index = [\"crowd_only\", \"texas_only\", \"crowd_and_texas\"])\n",
    "\n",
    "ax = missing.T.plot(kind = \"bar\", figsize = (7, 7),\n",
    "                   title = \"Percent of false positive relations\\nusing IDs not included in gold standard\")\n",
    "ax.set_ylabel(\"Percent of relations using IDs nonexistent in gold\")\n",
    "missing"
   ]
  },
  {
   "cell_type": "markdown",
   "metadata": {},
   "source": [
    "A significant number of the false positives for both solutions separately were a result of using MeSH IDs which did not occur in the gold standard. However, the false positives identified by both solutions have a significantly lower rate of NER error, suggesting that these were likely to be real relations which the gold does not include for some reason."
   ]
  },
  {
   "cell_type": "markdown",
   "metadata": {},
   "source": [
    "---"
   ]
  },
  {
   "cell_type": "markdown",
   "metadata": {},
   "source": [
    "### For the gold relations which one solution got but the other missed, why did each solution miss the relations and what kind of relations are they?"
   ]
  },
  {
   "cell_type": "code",
   "execution_count": 73,
   "metadata": {
    "collapsed": false
   },
   "outputs": [
    {
     "data": {
      "text/html": [
       "<div>\n",
       "<table border=\"1\" class=\"dataframe\">\n",
       "  <thead>\n",
       "    <tr style=\"text-align: right;\">\n",
       "      <th></th>\n",
       "      <th>any</th>\n",
       "      <th>chem</th>\n",
       "      <th>dise</th>\n",
       "    </tr>\n",
       "  </thead>\n",
       "  <tbody>\n",
       "    <tr>\n",
       "      <th>crowd_rels_missed_by_texas</th>\n",
       "      <td>20.645161</td>\n",
       "      <td>3.225806</td>\n",
       "      <td>17.419355</td>\n",
       "    </tr>\n",
       "    <tr>\n",
       "      <th>texas_rels_missed_by_crowd</th>\n",
       "      <td>40.099010</td>\n",
       "      <td>14.851485</td>\n",
       "      <td>28.217822</td>\n",
       "    </tr>\n",
       "  </tbody>\n",
       "</table>\n",
       "</div>"
      ],
      "text/plain": [
       "                                  any       chem       dise\n",
       "crowd_rels_missed_by_texas  20.645161   3.225806  17.419355\n",
       "texas_rels_missed_by_crowd  40.099010  14.851485  28.217822"
      ]
     },
     "execution_count": 73,
     "metadata": {},
     "output_type": "execute_result"
    },
    {
     "data": {
      "image/png": "[encoded data removed]",
      "text/plain": [
       "<matplotlib.figure.Figure at 0x7ff5a8ad3ba8>"
      ]
     },
     "metadata": {},
     "output_type": "display_data"
    }
   ],
   "source": [
    "crowd_gold = all_df.query(\"in_gold and in_crowd and ~in_texas\")\n",
    "texas_gold = all_df.query(\"in_gold and in_texas and ~in_crowd\")\n",
    "\n",
    "crowd_gold = get_triples(crowd_gold)\n",
    "texas_gold = get_triples(texas_gold)\n",
    "\n",
    "# unindexable by texas, and by crowd\n",
    "miss_by_ut = missing_stats(crowd_gold, ut_full)\n",
    "miss_by_cr = missing_stats(texas_gold, crowd_full)\n",
    "\n",
    "missing = pd.DataFrame([miss_by_ut, miss_by_cr],\n",
    "                       index = [\"crowd_rels_missed_by_texas\", \"texas_rels_missed_by_crowd\"])\n",
    "ax = missing.plot(kind = \"bar\", figsize = (7, 7),\n",
    "                 title = \"Percentage relations found by one solution but\\n\"\n",
    "                 \"missing in the other due to unindexed concept IDs\")\n",
    "ax.set_ylabel(\"Percent of relations using IDs\\nnot indexable by other method\")\n",
    "ax.set_xticklabels(missing.index, rotation = 0)\n",
    "missing"
   ]
  },
  {
   "cell_type": "markdown",
   "metadata": {},
   "source": [
    "Based on the graph above, we see that the relations which our crowd got but Texas didn't only contained a small subset where the relations contained IDs which were not indexed by Texas. In contrast, a lot of the relations (40%) that Texas got but the crowd didn't were because the IDs were never found, not because the crowd is bad at relation extraction."
   ]
  },
  {
   "cell_type": "markdown",
   "metadata": {},
   "source": [
    "---"
   ]
  }
 ],
 "metadata": {
  "kernelspec": {
   "display_name": "Python 3",
   "language": "python",
   "name": "python3"
  },
  "language_info": {
   "codemirror_mode": {
    "name": "ipython",
    "version": 3
   },
   "file_extension": ".py",
   "mimetype": "text/x-python",
   "name": "python",
   "nbconvert_exporter": "python",
   "pygments_lexer": "ipython3",
   "version": "3.4.2"
  }
 },
 "nbformat": 4,
 "nbformat_minor": 0
}
