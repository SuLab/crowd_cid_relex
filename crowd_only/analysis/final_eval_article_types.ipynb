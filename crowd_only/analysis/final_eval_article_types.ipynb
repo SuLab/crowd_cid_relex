{
 "cells": [
  {
   "cell_type": "markdown",
   "metadata": {},
   "source": [
    "# Article type analysis for BioCreative test set\n",
    "\n",
    "Tong Shu Li<br>\n",
    "Created on: 2015-11-23<br>\n",
    "Last updated: 2015-11-24\n",
    "\n",
    "Do the types of PubMed abstracts affect the performance of the crowd and machine learning systems? Is the gold standard more consistent for some types of articles?"
   ]
  },
  {
   "cell_type": "code",
   "execution_count": 1,
   "metadata": {
    "collapsed": true
   },
   "outputs": [],
   "source": [
    "from collections import defaultdict\n",
    "import os\n",
    "import pandas as pd\n",
    "import pickle\n",
    "import sys"
   ]
  },
  {
   "cell_type": "code",
   "execution_count": 2,
   "metadata": {
    "collapsed": true
   },
   "outputs": [],
   "source": [
    "sys.path.append(\"..\")"
   ]
  },
  {
   "cell_type": "code",
   "execution_count": 3,
   "metadata": {
    "collapsed": true
   },
   "outputs": [],
   "source": [
    "from src.get_mesh_terms import Article\n",
    "\n",
    "from src.data_model import parse_file\n",
    "\n",
    "from src.lingpipe.file_util import save_file"
   ]
  },
  {
   "cell_type": "markdown",
   "metadata": {},
   "source": [
    "---"
   ]
  },
  {
   "cell_type": "markdown",
   "metadata": {},
   "source": [
    "## Grab all PMIDs and get their summaries from PubMed"
   ]
  },
  {
   "cell_type": "code",
   "execution_count": 4,
   "metadata": {
    "collapsed": true
   },
   "outputs": [],
   "source": [
    "def read_gold_standard(dataset, file_format = \"list\"):\n",
    "    assert dataset in [\"training\", \"development\", \"test\"]\n",
    "    assert file_format in [\"list\", \"dict\"]\n",
    "    \n",
    "    fname = \"parsed_{0}_set_{1}.pickle\".format(dataset, file_format)\n",
    "    \n",
    "    save_loc = os.path.abspath(os.path.join(\"..\", \"data\", \"gold_standard\", fname))\n",
    "    \n",
    "    fname = \"CDR_{0}Set.txt\".format(dataset.capitalize())\n",
    "    loc = os.path.abspath(os.path.join(\"..\", \"data\", \"gold_standard\"))\n",
    "    \n",
    "    return parse_file(save_loc, loc = loc, fname = fname,\n",
    "        is_gold = True, return_format = file_format, fix_acronyms = False)"
   ]
  },
  {
   "cell_type": "code",
   "execution_count": 5,
   "metadata": {
    "collapsed": false
   },
   "outputs": [],
   "source": [
    "eval_gold = read_gold_standard(\"test\", file_format = \"dict\")"
   ]
  },
  {
   "cell_type": "code",
   "execution_count": 6,
   "metadata": {
    "collapsed": true
   },
   "outputs": [],
   "source": [
    "def grab_mesh(papers):\n",
    "    loc = os.path.abspath(os.path.join(\"..\", \"data\", \"gold_standard\", \"testset_mesh_terms.pickle\"))\n",
    "\n",
    "    res = save_file(loc)\n",
    "    if res is not None:\n",
    "        return res\n",
    "    \n",
    "    res = dict()\n",
    "    for pmid in papers:\n",
    "        res[pmid] = Article(pmid)\n",
    "        \n",
    "    save_file(loc, res)\n",
    "    return res"
   ]
  },
  {
   "cell_type": "code",
   "execution_count": 7,
   "metadata": {
    "collapsed": false
   },
   "outputs": [],
   "source": [
    "mesh_terms = grab_mesh(set(eval_gold.keys()))"
   ]
  },
  {
   "cell_type": "markdown",
   "metadata": {},
   "source": [
    "---"
   ]
  },
  {
   "cell_type": "markdown",
   "metadata": {},
   "source": [
    "### Combine publication type information into one dataframe"
   ]
  },
  {
   "cell_type": "code",
   "execution_count": 8,
   "metadata": {
    "collapsed": true
   },
   "outputs": [],
   "source": [
    "pub_types = []\n",
    "for pmid, article in mesh_terms.items():\n",
    "    article.pub_type[\"pmid\"] = pmid\n",
    "    \n",
    "    pub_types.append(article.pub_type)\n",
    "    \n",
    "pub_types = pd.concat(pub_types)"
   ]
  },
  {
   "cell_type": "code",
   "execution_count": 9,
   "metadata": {
    "collapsed": false
   },
   "outputs": [
    {
     "data": {
      "text/html": [
       "<div>\n",
       "<table border=\"1\" class=\"dataframe\">\n",
       "  <thead>\n",
       "    <tr style=\"text-align: right;\">\n",
       "      <th></th>\n",
       "      <th>pub_name</th>\n",
       "      <th>pub_type</th>\n",
       "      <th>pmid</th>\n",
       "    </tr>\n",
       "  </thead>\n",
       "  <tbody>\n",
       "    <tr>\n",
       "      <th>0</th>\n",
       "      <td>Journal Article</td>\n",
       "      <td>D016428</td>\n",
       "      <td>23433219</td>\n",
       "    </tr>\n",
       "    <tr>\n",
       "      <th>1</th>\n",
       "      <td>Research Support, Non-U.S. Gov't</td>\n",
       "      <td>D013485</td>\n",
       "      <td>23433219</td>\n",
       "    </tr>\n",
       "    <tr>\n",
       "      <th>0</th>\n",
       "      <td>Journal Article</td>\n",
       "      <td>D016428</td>\n",
       "      <td>1360900</td>\n",
       "    </tr>\n",
       "    <tr>\n",
       "      <th>1</th>\n",
       "      <td>Research Support, Non-U.S. Gov't</td>\n",
       "      <td>D013485</td>\n",
       "      <td>1360900</td>\n",
       "    </tr>\n",
       "    <tr>\n",
       "      <th>0</th>\n",
       "      <td>Case Reports</td>\n",
       "      <td>D002363</td>\n",
       "      <td>733189</td>\n",
       "    </tr>\n",
       "  </tbody>\n",
       "</table>\n",
       "</div>"
      ],
      "text/plain": [
       "                           pub_name pub_type      pmid\n",
       "0                   Journal Article  D016428  23433219\n",
       "1  Research Support, Non-U.S. Gov't  D013485  23433219\n",
       "0                   Journal Article  D016428   1360900\n",
       "1  Research Support, Non-U.S. Gov't  D013485   1360900\n",
       "0                      Case Reports  D002363    733189"
      ]
     },
     "execution_count": 9,
     "metadata": {},
     "output_type": "execute_result"
    }
   ],
   "source": [
    "pub_types.head()"
   ]
  },
  {
   "cell_type": "code",
   "execution_count": 10,
   "metadata": {
    "collapsed": false
   },
   "outputs": [
    {
     "data": {
      "text/plain": [
       "Journal Article                             495\n",
       "Research Support, Non-U.S. Gov't            156\n",
       "Case Reports                                140\n",
       "Comparative Study                            46\n",
       "Clinical Trial                               43\n",
       "Research Support, U.S. Gov't, P.H.S.         40\n",
       "Randomized Controlled Trial                  29\n",
       "Review                                       20\n",
       "Research Support, N.I.H., Extramural         16\n",
       "Multicenter Study                             9\n",
       "Controlled Clinical Trial                     8\n",
       "Clinical Trial, Phase II                      8\n",
       "Research Support, U.S. Gov't, Non-P.H.S.      6\n",
       "Observational Study                           3\n",
       "JOURNAL ARTICLE                               3\n",
       "Research Support, N.I.H., Intramural          3\n",
       "Meta-Analysis                                 2\n",
       "Clinical Trial, Phase I                       2\n",
       "Evaluation Studies                            2\n",
       "Letter                                        1\n",
       "Newspaper Article                             1\n",
       "dtype: int64"
      ]
     },
     "execution_count": 10,
     "metadata": {},
     "output_type": "execute_result"
    }
   ],
   "source": [
    "pub_types[\"pub_name\"].value_counts()"
   ]
  },
  {
   "cell_type": "code",
   "execution_count": 11,
   "metadata": {
    "collapsed": false
   },
   "outputs": [
    {
     "data": {
      "text/plain": [
       "2    268\n",
       "1    124\n",
       "3     71\n",
       "4     28\n",
       "5      6\n",
       "6      3\n",
       "dtype: int64"
      ]
     },
     "execution_count": 11,
     "metadata": {},
     "output_type": "execute_result"
    }
   ],
   "source": [
    "# how many different labels does each paper have?\n",
    "pd.Series([len(x) for x in pub_types.groupby(\"pmid\").groups.values()]).value_counts()"
   ]
  },
  {
   "cell_type": "code",
   "execution_count": 12,
   "metadata": {
    "collapsed": false,
    "scrolled": true
   },
   "outputs": [
    {
     "name": "stdout",
     "output_type": "stream",
     "text": [
      "Case Reports\n",
      "['D002363']\n",
      "Clinical Trial\n",
      "['D016430']\n",
      "Clinical Trial, Phase I\n",
      "['D017426']\n",
      "Clinical Trial, Phase II\n",
      "['D017427']\n",
      "Comparative Study\n",
      "['D003160']\n",
      "Controlled Clinical Trial\n",
      "['D018848']\n",
      "Evaluation Studies\n",
      "['D023362']\n",
      "JOURNAL ARTICLE\n",
      "['']\n",
      "Journal Article\n",
      "['D016428']\n",
      "Letter\n",
      "['D016422']\n",
      "Meta-Analysis\n",
      "['D017418']\n",
      "Multicenter Study\n",
      "['D016448']\n",
      "Newspaper Article\n",
      "['D018431']\n",
      "Observational Study\n",
      "['D064888']\n",
      "Randomized Controlled Trial\n",
      "['D016449']\n",
      "Research Support, N.I.H., Extramural\n",
      "['D052061']\n",
      "Research Support, N.I.H., Intramural\n",
      "['D052060']\n",
      "Research Support, Non-U.S. Gov't\n",
      "['D013485']\n",
      "Research Support, U.S. Gov't, Non-P.H.S.\n",
      "['D013486']\n",
      "Research Support, U.S. Gov't, P.H.S.\n",
      "['D013487']\n",
      "Review\n",
      "['D016454']\n"
     ]
    }
   ],
   "source": [
    "for i, group in pub_types.groupby(\"pub_name\"):\n",
    "    print(i)\n",
    "    print(group[\"pub_type\"].unique())"
   ]
  },
  {
   "cell_type": "code",
   "execution_count": 13,
   "metadata": {
    "collapsed": true
   },
   "outputs": [],
   "source": [
    "# convert \"JOURNAL ARTICLE\" with no MeSH id to Journal Article D016428\n",
    "pub_types.loc[pub_types[\"pub_name\"] == 'JOURNAL ARTICLE', \"pub_type\"] = \"D016428\"\n",
    "pub_types.loc[pub_types[\"pub_name\"] == 'JOURNAL ARTICLE', \"pub_name\"] = \"Journal Article\""
   ]
  },
  {
   "cell_type": "markdown",
   "metadata": {},
   "source": [
    "### We want to divide the 500 papers into distinct categories"
   ]
  },
  {
   "cell_type": "markdown",
   "metadata": {},
   "source": [
    "Source of research money is not an interesting feature in terms of the structure of the text or content. Therefore we will disregard this information."
   ]
  },
  {
   "cell_type": "code",
   "execution_count": 14,
   "metadata": {
    "collapsed": true
   },
   "outputs": [],
   "source": [
    "pub_types[\"research_support\"] = pub_types.loc[:, \"pub_name\"].map(lambda s: s.startswith(\"Research Support\"))"
   ]
  },
  {
   "cell_type": "code",
   "execution_count": 15,
   "metadata": {
    "collapsed": true
   },
   "outputs": [],
   "source": [
    "pub_types = pub_types.query(\"~research_support\")"
   ]
  },
  {
   "cell_type": "code",
   "execution_count": 16,
   "metadata": {
    "collapsed": true
   },
   "outputs": [],
   "source": [
    "pub_types = pub_types.query(\"pub_name != 'Multicenter Study'\")"
   ]
  },
  {
   "cell_type": "code",
   "execution_count": 17,
   "metadata": {
    "collapsed": false
   },
   "outputs": [
    {
     "data": {
      "text/plain": [
       "Journal Article                498\n",
       "Case Reports                   140\n",
       "Comparative Study               46\n",
       "Clinical Trial                  43\n",
       "Randomized Controlled Trial     29\n",
       "Review                          20\n",
       "Controlled Clinical Trial        8\n",
       "Clinical Trial, Phase II         8\n",
       "Observational Study              3\n",
       "Evaluation Studies               2\n",
       "Meta-Analysis                    2\n",
       "Clinical Trial, Phase I          2\n",
       "Letter                           1\n",
       "Newspaper Article                1\n",
       "dtype: int64"
      ]
     },
     "execution_count": 17,
     "metadata": {},
     "output_type": "execute_result"
    }
   ],
   "source": [
    "pub_types[\"pub_name\"].value_counts()"
   ]
  },
  {
   "cell_type": "code",
   "execution_count": 18,
   "metadata": {
    "collapsed": true
   },
   "outputs": [],
   "source": [
    "pub_types[\"clinical_trial\"] = pub_types.loc[:, \"pub_name\"].map(lambda s: \"Trial\" in s)"
   ]
  },
  {
   "cell_type": "code",
   "execution_count": 19,
   "metadata": {
    "collapsed": false
   },
   "outputs": [
    {
     "data": {
      "text/html": [
       "<div>\n",
       "<table border=\"1\" class=\"dataframe\">\n",
       "  <thead>\n",
       "    <tr style=\"text-align: right;\">\n",
       "      <th></th>\n",
       "      <th>pub_name</th>\n",
       "      <th>pub_type</th>\n",
       "      <th>pmid</th>\n",
       "      <th>research_support</th>\n",
       "      <th>clinical_trial</th>\n",
       "    </tr>\n",
       "  </thead>\n",
       "  <tbody>\n",
       "    <tr>\n",
       "      <th>0</th>\n",
       "      <td>Journal Article</td>\n",
       "      <td>D016428</td>\n",
       "      <td>23433219</td>\n",
       "      <td>False</td>\n",
       "      <td>False</td>\n",
       "    </tr>\n",
       "    <tr>\n",
       "      <th>0</th>\n",
       "      <td>Journal Article</td>\n",
       "      <td>D016428</td>\n",
       "      <td>1360900</td>\n",
       "      <td>False</td>\n",
       "      <td>False</td>\n",
       "    </tr>\n",
       "    <tr>\n",
       "      <th>0</th>\n",
       "      <td>Case Reports</td>\n",
       "      <td>D002363</td>\n",
       "      <td>733189</td>\n",
       "      <td>False</td>\n",
       "      <td>False</td>\n",
       "    </tr>\n",
       "    <tr>\n",
       "      <th>1</th>\n",
       "      <td>Journal Article</td>\n",
       "      <td>D016428</td>\n",
       "      <td>733189</td>\n",
       "      <td>False</td>\n",
       "      <td>False</td>\n",
       "    </tr>\n",
       "    <tr>\n",
       "      <th>0</th>\n",
       "      <td>Clinical Trial</td>\n",
       "      <td>D016430</td>\n",
       "      <td>11745287</td>\n",
       "      <td>False</td>\n",
       "      <td>True</td>\n",
       "    </tr>\n",
       "  </tbody>\n",
       "</table>\n",
       "</div>"
      ],
      "text/plain": [
       "          pub_name pub_type      pmid research_support clinical_trial\n",
       "0  Journal Article  D016428  23433219            False          False\n",
       "0  Journal Article  D016428   1360900            False          False\n",
       "0     Case Reports  D002363    733189            False          False\n",
       "1  Journal Article  D016428    733189            False          False\n",
       "0   Clinical Trial  D016430  11745287            False           True"
      ]
     },
     "execution_count": 19,
     "metadata": {},
     "output_type": "execute_result"
    }
   ],
   "source": [
    "pub_types.head()"
   ]
  },
  {
   "cell_type": "markdown",
   "metadata": {},
   "source": [
    "---"
   ]
  },
  {
   "cell_type": "markdown",
   "metadata": {},
   "source": [
    "## Create three distinct categories and save info to file"
   ]
  },
  {
   "cell_type": "code",
   "execution_count": 20,
   "metadata": {
    "collapsed": true
   },
   "outputs": [],
   "source": [
    "case_reports = set(pub_types.query(\"pub_name == 'Case Reports'\")[\"pmid\"])\n",
    "clin_trials = set(pub_types.query(\"clinical_trial == True\")[\"pmid\"])"
   ]
  },
  {
   "cell_type": "code",
   "execution_count": 21,
   "metadata": {
    "collapsed": false
   },
   "outputs": [
    {
     "data": {
      "text/plain": [
       "140"
      ]
     },
     "execution_count": 21,
     "metadata": {},
     "output_type": "execute_result"
    }
   ],
   "source": [
    "len(case_reports)"
   ]
  },
  {
   "cell_type": "code",
   "execution_count": 22,
   "metadata": {
    "collapsed": false
   },
   "outputs": [
    {
     "data": {
      "text/plain": [
       "51"
      ]
     },
     "execution_count": 22,
     "metadata": {},
     "output_type": "execute_result"
    }
   ],
   "source": [
    "len(clin_trials)"
   ]
  },
  {
   "cell_type": "code",
   "execution_count": 23,
   "metadata": {
    "collapsed": false
   },
   "outputs": [
    {
     "data": {
      "text/plain": [
       "1"
      ]
     },
     "execution_count": 23,
     "metadata": {},
     "output_type": "execute_result"
    }
   ],
   "source": [
    "len(clin_trials & case_reports)"
   ]
  },
  {
   "cell_type": "code",
   "execution_count": 24,
   "metadata": {
    "collapsed": false
   },
   "outputs": [
    {
     "data": {
      "text/plain": [
       "{11988250}"
      ]
     },
     "execution_count": 24,
     "metadata": {},
     "output_type": "execute_result"
    }
   ],
   "source": [
    "clin_trials & case_reports"
   ]
  },
  {
   "cell_type": "code",
   "execution_count": 25,
   "metadata": {
    "collapsed": true
   },
   "outputs": [],
   "source": [
    "regular_articles = set(eval_gold.keys()) - case_reports - clin_trials"
   ]
  },
  {
   "cell_type": "code",
   "execution_count": 26,
   "metadata": {
    "collapsed": false
   },
   "outputs": [
    {
     "data": {
      "text/plain": [
       "310"
      ]
     },
     "execution_count": 26,
     "metadata": {},
     "output_type": "execute_result"
    }
   ],
   "source": [
    "len(regular_articles)"
   ]
  },
  {
   "cell_type": "code",
   "execution_count": 27,
   "metadata": {
    "collapsed": true
   },
   "outputs": [],
   "source": [
    "res = pd.Series(list(eval_gold.keys())).to_frame(\"pmid\")"
   ]
  },
  {
   "cell_type": "code",
   "execution_count": 28,
   "metadata": {
    "collapsed": true
   },
   "outputs": [],
   "source": [
    "res[\"regular\"] = res[\"pmid\"].map(lambda v: v in regular_articles)\n",
    "res[\"case_report\"] = res[\"pmid\"].map(lambda v: v in case_reports)\n",
    "res[\"clinical_trial\"] = res[\"pmid\"].map(lambda v: v in clin_trials)"
   ]
  },
  {
   "cell_type": "code",
   "execution_count": 29,
   "metadata": {
    "collapsed": false
   },
   "outputs": [
    {
     "data": {
      "text/html": [
       "<div>\n",
       "<table border=\"1\" class=\"dataframe\">\n",
       "  <thead>\n",
       "    <tr style=\"text-align: right;\">\n",
       "      <th></th>\n",
       "      <th>pmid</th>\n",
       "      <th>regular</th>\n",
       "      <th>case_report</th>\n",
       "      <th>clinical_trial</th>\n",
       "    </tr>\n",
       "  </thead>\n",
       "  <tbody>\n",
       "    <tr>\n",
       "      <th>0</th>\n",
       "      <td>23433219</td>\n",
       "      <td>True</td>\n",
       "      <td>False</td>\n",
       "      <td>False</td>\n",
       "    </tr>\n",
       "    <tr>\n",
       "      <th>1</th>\n",
       "      <td>1360900</td>\n",
       "      <td>True</td>\n",
       "      <td>False</td>\n",
       "      <td>False</td>\n",
       "    </tr>\n",
       "    <tr>\n",
       "      <th>2</th>\n",
       "      <td>733189</td>\n",
       "      <td>False</td>\n",
       "      <td>True</td>\n",
       "      <td>False</td>\n",
       "    </tr>\n",
       "    <tr>\n",
       "      <th>3</th>\n",
       "      <td>11745287</td>\n",
       "      <td>False</td>\n",
       "      <td>False</td>\n",
       "      <td>True</td>\n",
       "    </tr>\n",
       "    <tr>\n",
       "      <th>4</th>\n",
       "      <td>25907210</td>\n",
       "      <td>True</td>\n",
       "      <td>False</td>\n",
       "      <td>False</td>\n",
       "    </tr>\n",
       "  </tbody>\n",
       "</table>\n",
       "</div>"
      ],
      "text/plain": [
       "       pmid regular case_report clinical_trial\n",
       "0  23433219    True       False          False\n",
       "1   1360900    True       False          False\n",
       "2    733189   False        True          False\n",
       "3  11745287   False       False           True\n",
       "4  25907210    True       False          False"
      ]
     },
     "execution_count": 29,
     "metadata": {},
     "output_type": "execute_result"
    }
   ],
   "source": [
    "res.head()"
   ]
  },
  {
   "cell_type": "code",
   "execution_count": 30,
   "metadata": {
    "collapsed": true
   },
   "outputs": [],
   "source": [
    "loc = os.path.abspath(os.path.join(\"..\", \"data\", \"final_eval\", \"analysis\", \"testset_article_types.pickle\"))\n",
    "save_file(loc, res)"
   ]
  }
 ],
 "metadata": {
  "kernelspec": {
   "display_name": "Python 3",
   "language": "python",
   "name": "python3"
  },
  "language_info": {
   "codemirror_mode": {
    "name": "ipython",
    "version": 3
   },
   "file_extension": ".py",
   "mimetype": "text/x-python",
   "name": "python",
   "nbconvert_exporter": "python",
   "pygments_lexer": "ipython3",
   "version": "3.4.2"
  }
 },
 "nbformat": 4,
 "nbformat_minor": 0
}
