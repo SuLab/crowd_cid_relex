{
 "cells": [
  {
   "cell_type": "markdown",
   "metadata": {},
   "source": [
    "# Confusion matrix for BioCreative Database paper\n",
    "\n",
    "Tong Shu Li<br>\n",
    "Created on: 2016-01-21<br>\n",
    "Last updated: 2016-01-21\n",
    "\n",
    "We need to generate the confusion matrix at the request of the reviewers."
   ]
  },
  {
   "cell_type": "code",
   "execution_count": 1,
   "metadata": {
    "collapsed": true
   },
   "outputs": [],
   "source": [
    "from collections import defaultdict\n",
    "import os\n",
    "import pandas as pd\n",
    "import sys"
   ]
  },
  {
   "cell_type": "code",
   "execution_count": 2,
   "metadata": {
    "collapsed": true
   },
   "outputs": [],
   "source": [
    "sys.path.append(\"..\")"
   ]
  },
  {
   "cell_type": "code",
   "execution_count": 3,
   "metadata": {
    "collapsed": true
   },
   "outputs": [],
   "source": [
    "from src.data_model import *\n",
    "from src.eval_perf import official_F_score"
   ]
  },
  {
   "cell_type": "code",
   "execution_count": 4,
   "metadata": {
    "collapsed": true
   },
   "outputs": [],
   "source": [
    "TRIPLE = [\"pmid\", \"chemical_id\", \"disease_id\"]"
   ]
  },
  {
   "cell_type": "markdown",
   "metadata": {},
   "source": [
    "---"
   ]
  },
  {
   "cell_type": "code",
   "execution_count": 5,
   "metadata": {
    "collapsed": true
   },
   "outputs": [],
   "source": [
    "def get_triples(dataframe):\n",
    "    return set(\n",
    "        dataframe[TRIPLE].apply(\n",
    "            lambda row: (int(row[\"pmid\"]), row[\"chemical_id\"], row[\"disease_id\"]),\n",
    "            axis = 1\n",
    "        )\n",
    "    )"
   ]
  },
  {
   "cell_type": "markdown",
   "metadata": {},
   "source": [
    "## Read the original crowd results"
   ]
  },
  {
   "cell_type": "code",
   "execution_count": 6,
   "metadata": {
    "collapsed": true
   },
   "outputs": [],
   "source": [
    "paper_mapping = save_file(\"testset_mapping.pickle\")"
   ]
  },
  {
   "cell_type": "code",
   "execution_count": 7,
   "metadata": {
    "collapsed": true
   },
   "outputs": [],
   "source": [
    "def remap(papers):\n",
    "    res = dict()\n",
    "    for uid, paper in papers.items():\n",
    "        paper.pmid = paper_mapping[uid]\n",
    "        res[paper_mapping[uid]] = paper\n",
    "        \n",
    "    return res"
   ]
  },
  {
   "cell_type": "code",
   "execution_count": 8,
   "metadata": {
    "collapsed": true
   },
   "outputs": [],
   "source": [
    "def read_orig():\n",
    "    save_loc = os.path.join(\"..\", \"data\", \"final_eval\", \"results\", \"new_crowd_all_rels.pickle\")\n",
    "    res = save_file(save_loc)\n",
    "    \n",
    "    if res is not None:\n",
    "        return res\n",
    "    \n",
    "    loc = os.path.join(\"..\", \"data\", \"final_eval\", \"results\")    \n",
    "    res = parse_input(loc, \"crowd_all_relations.txt\", fix_acronyms = True)\n",
    "    \n",
    "    res = remap(res)\n",
    "    \n",
    "    save_file(save_loc, res)\n",
    "    return res"
   ]
  },
  {
   "cell_type": "code",
   "execution_count": 9,
   "metadata": {
    "collapsed": false,
    "scrolled": true
   },
   "outputs": [],
   "source": [
    "crowd_full = read_orig()"
   ]
  },
  {
   "cell_type": "markdown",
   "metadata": {},
   "source": [
    "---"
   ]
  },
  {
   "cell_type": "markdown",
   "metadata": {},
   "source": [
    "## Read the gold standard"
   ]
  },
  {
   "cell_type": "code",
   "execution_count": 10,
   "metadata": {
    "collapsed": true
   },
   "outputs": [],
   "source": [
    "save_loc = os.path.join(\"..\", \"data\", \"gold_standard\", \"new_test_gold.pickle\")\n",
    "loc = os.path.join(\"..\", \"data\", \"gold_standard\")\n",
    "eval_gold = parse_file(save_loc, loc = loc, fname = \"CDR_TestSet.txt\", fix_acronyms = False)"
   ]
  },
  {
   "cell_type": "markdown",
   "metadata": {},
   "source": [
    "---"
   ]
  },
  {
   "cell_type": "markdown",
   "metadata": {},
   "source": [
    "## Read the crowdsourcing responses"
   ]
  },
  {
   "cell_type": "code",
   "execution_count": 11,
   "metadata": {
    "collapsed": true
   },
   "outputs": [],
   "source": [
    "loc = os.path.abspath(os.path.join(\"..\", \"data\", \"final_eval\", \"results\", \"abstract_relation_res.tsv\"))\n",
    "\n",
    "abs_res = pd.read_csv(loc, sep = '\\t')\n",
    "abs_res = abs_res.rename(columns = {\"percent_agree\": \"norm_conf_score\"})"
   ]
  },
  {
   "cell_type": "code",
   "execution_count": 12,
   "metadata": {
    "collapsed": true
   },
   "outputs": [],
   "source": [
    "loc = os.path.abspath(os.path.join(\"..\", \"data\", \"final_eval\", \"results\", \"sentence_relation_abs_res.tsv\"))\n",
    "sent_res = pd.read_csv(loc, sep = '\\t')\n",
    "\n",
    "sent_res = sent_res.rename(columns = {\"conf_score\": \"norm_conf_score\",\n",
    "                                      \"score_vote_max\": \"num_votes\"})"
   ]
  },
  {
   "cell_type": "code",
   "execution_count": 13,
   "metadata": {
    "collapsed": true
   },
   "outputs": [],
   "source": [
    "abs_res.loc[:, \"pmid\"] = abs_res.loc[:, \"pmid\"].map(lambda val: paper_mapping[val])"
   ]
  },
  {
   "cell_type": "code",
   "execution_count": 14,
   "metadata": {
    "collapsed": true
   },
   "outputs": [],
   "source": [
    "sent_res.loc[:, \"pmid\"] = sent_res.loc[:, \"pmid\"].map(lambda val: paper_mapping[val])"
   ]
  },
  {
   "cell_type": "code",
   "execution_count": 15,
   "metadata": {
    "collapsed": false
   },
   "outputs": [],
   "source": [
    "cid_rels = {pmid: paper.poss_relations[\"CID\"] for pmid, paper in crowd_full.items()}"
   ]
  },
  {
   "cell_type": "code",
   "execution_count": 16,
   "metadata": {
    "collapsed": true
   },
   "outputs": [],
   "source": [
    "def merge_results():\n",
    "    temp = []    \n",
    "    cols = [\"pmid\", \"chemical_id\", \"disease_id\", \"num_votes\"]\n",
    "    \n",
    "    sub = abs_res.loc[:, cols]\n",
    "    sub.loc[:, \"rel_origin\"] = \"abstract_task\"\n",
    "    temp.append(sub)\n",
    "\n",
    "    sub = sent_res.loc[:, cols]\n",
    "    sub.loc[:, \"rel_origin\"] = \"sentence_task\"\n",
    "    temp.append(sub)\n",
    "    \n",
    "    things = defaultdict(list)\n",
    "    for pmid, rels in cid_rels.items():\n",
    "        for cid_relation in rels:\n",
    "            things[\"pmid\"].append(pmid)\n",
    "            things[\"chemical_id\"].append(cid_relation[0].flat_repr)\n",
    "            things[\"disease_id\"].append(cid_relation[1].flat_repr)\n",
    "            \n",
    "    things = pd.DataFrame(things)\n",
    "    things.loc[:, \"num_votes\"] = 5\n",
    "    things.loc[:, \"rel_origin\"] = \"cid_relation\"\n",
    "    temp.append(things)\n",
    "    \n",
    "    ans = pd.concat(temp).sort([\"pmid\", \"num_votes\", \"rel_origin\",\n",
    "                                \"chemical_id\", \"disease_id\"]).reset_index(drop = True)\n",
    "    \n",
    "    ans.loc[:, \"num_votes\"] = ans.num_votes.map(\n",
    "        lambda v: 5 if v > 5 else v\n",
    "    )\n",
    "    \n",
    "    return ans"
   ]
  },
  {
   "cell_type": "code",
   "execution_count": 17,
   "metadata": {
    "collapsed": false
   },
   "outputs": [
    {
     "name": "stderr",
     "output_type": "stream",
     "text": [
      "/usr/lib/python3.4/site-packages/ipykernel/__main__.py:26: FutureWarning: sort(columns=....) is deprecated, use sort_values(by=.....)\n"
     ]
    }
   ],
   "source": [
    "crowd_res = merge_results()"
   ]
  },
  {
   "cell_type": "code",
   "execution_count": 18,
   "metadata": {
    "collapsed": false
   },
   "outputs": [
    {
     "data": {
      "text/html": [
       "<div>\n",
       "<table border=\"1\" class=\"dataframe\">\n",
       "  <thead>\n",
       "    <tr style=\"text-align: right;\">\n",
       "      <th></th>\n",
       "      <th>chemical_id</th>\n",
       "      <th>disease_id</th>\n",
       "      <th>num_votes</th>\n",
       "      <th>pmid</th>\n",
       "      <th>rel_origin</th>\n",
       "    </tr>\n",
       "  </thead>\n",
       "  <tbody>\n",
       "    <tr>\n",
       "      <th>0</th>\n",
       "      <td>MESH:C009695</td>\n",
       "      <td>MESH:D000699</td>\n",
       "      <td>0</td>\n",
       "      <td>35781</td>\n",
       "      <td>sentence_task</td>\n",
       "    </tr>\n",
       "    <tr>\n",
       "      <th>1</th>\n",
       "      <td>MESH:C009695</td>\n",
       "      <td>MESH:D002375</td>\n",
       "      <td>0</td>\n",
       "      <td>35781</td>\n",
       "      <td>sentence_task</td>\n",
       "    </tr>\n",
       "    <tr>\n",
       "      <th>2</th>\n",
       "      <td>MESH:D003000</td>\n",
       "      <td>MESH:D000699</td>\n",
       "      <td>0</td>\n",
       "      <td>35781</td>\n",
       "      <td>sentence_task</td>\n",
       "    </tr>\n",
       "    <tr>\n",
       "      <th>3</th>\n",
       "      <td>MESH:D009278</td>\n",
       "      <td>MESH:D002375</td>\n",
       "      <td>0</td>\n",
       "      <td>35781</td>\n",
       "      <td>sentence_task</td>\n",
       "    </tr>\n",
       "    <tr>\n",
       "      <th>4</th>\n",
       "      <td>MESH:D009638</td>\n",
       "      <td>MESH:D000699</td>\n",
       "      <td>1</td>\n",
       "      <td>35781</td>\n",
       "      <td>abstract_task</td>\n",
       "    </tr>\n",
       "  </tbody>\n",
       "</table>\n",
       "</div>"
      ],
      "text/plain": [
       "    chemical_id    disease_id  num_votes   pmid     rel_origin\n",
       "0  MESH:C009695  MESH:D000699          0  35781  sentence_task\n",
       "1  MESH:C009695  MESH:D002375          0  35781  sentence_task\n",
       "2  MESH:D003000  MESH:D000699          0  35781  sentence_task\n",
       "3  MESH:D009278  MESH:D002375          0  35781  sentence_task\n",
       "4  MESH:D009638  MESH:D000699          1  35781  abstract_task"
      ]
     },
     "execution_count": 18,
     "metadata": {},
     "output_type": "execute_result"
    }
   ],
   "source": [
    "crowd_res.head()"
   ]
  },
  {
   "cell_type": "markdown",
   "metadata": {},
   "source": [
    "---"
   ]
  },
  {
   "cell_type": "code",
   "execution_count": 19,
   "metadata": {
    "collapsed": true
   },
   "outputs": [],
   "source": [
    "def get_gold_rels(gold_std):\n",
    "    res = set()\n",
    "    for pmid, paper in gold_std.items():\n",
    "        for rel in paper.gold_relations:\n",
    "            res.add((int(pmid), rel.chem.flat_repr, rel.dise.flat_repr))\n",
    "            \n",
    "    return res"
   ]
  },
  {
   "cell_type": "code",
   "execution_count": 20,
   "metadata": {
    "collapsed": false
   },
   "outputs": [],
   "source": [
    "gold_relations = get_gold_rels(eval_gold)"
   ]
  },
  {
   "cell_type": "code",
   "execution_count": 21,
   "metadata": {
    "collapsed": false
   },
   "outputs": [
    {
     "data": {
      "text/plain": [
       "1066"
      ]
     },
     "execution_count": 21,
     "metadata": {},
     "output_type": "execute_result"
    }
   ],
   "source": [
    "len(gold_relations)"
   ]
  },
  {
   "cell_type": "code",
   "execution_count": 22,
   "metadata": {
    "collapsed": false
   },
   "outputs": [
    {
     "name": "stderr",
     "output_type": "stream",
     "text": [
      "../src/eval_perf.py:93: FutureWarning: sort(columns=....) is deprecated, use sort_values(by=.....)\n",
      "  return pd.DataFrame(res).sort(\"threshold\").reset_index(drop = True)\n"
     ]
    },
    {
     "data": {
      "text/html": [
       "<div>\n",
       "<table border=\"1\" class=\"dataframe\">\n",
       "  <thead>\n",
       "    <tr style=\"text-align: right;\">\n",
       "      <th></th>\n",
       "      <th>F_score</th>\n",
       "      <th>precision</th>\n",
       "      <th>recall</th>\n",
       "      <th>threshold</th>\n",
       "    </tr>\n",
       "  </thead>\n",
       "  <tbody>\n",
       "    <tr>\n",
       "      <th>0</th>\n",
       "      <td>0.267624</td>\n",
       "      <td>0.162805</td>\n",
       "      <td>0.751407</td>\n",
       "      <td>0</td>\n",
       "    </tr>\n",
       "    <tr>\n",
       "      <th>1</th>\n",
       "      <td>0.356317</td>\n",
       "      <td>0.236486</td>\n",
       "      <td>0.722326</td>\n",
       "      <td>1</td>\n",
       "    </tr>\n",
       "    <tr>\n",
       "      <th>2</th>\n",
       "      <td>0.444779</td>\n",
       "      <td>0.327426</td>\n",
       "      <td>0.693246</td>\n",
       "      <td>2</td>\n",
       "    </tr>\n",
       "    <tr>\n",
       "      <th>3</th>\n",
       "      <td>0.496480</td>\n",
       "      <td>0.410288</td>\n",
       "      <td>0.628518</td>\n",
       "      <td>3</td>\n",
       "    </tr>\n",
       "    <tr>\n",
       "      <th>4</th>\n",
       "      <td>0.505929</td>\n",
       "      <td>0.475640</td>\n",
       "      <td>0.540338</td>\n",
       "      <td>4</td>\n",
       "    </tr>\n",
       "    <tr>\n",
       "      <th>5</th>\n",
       "      <td>0.465066</td>\n",
       "      <td>0.556136</td>\n",
       "      <td>0.399625</td>\n",
       "      <td>5</td>\n",
       "    </tr>\n",
       "  </tbody>\n",
       "</table>\n",
       "</div>"
      ],
      "text/plain": [
       "    F_score  precision    recall  threshold\n",
       "0  0.267624   0.162805  0.751407          0\n",
       "1  0.356317   0.236486  0.722326          1\n",
       "2  0.444779   0.327426  0.693246          2\n",
       "3  0.496480   0.410288  0.628518          3\n",
       "4  0.505929   0.475640  0.540338          4\n",
       "5  0.465066   0.556136  0.399625          5"
      ]
     },
     "execution_count": 22,
     "metadata": {},
     "output_type": "execute_result"
    }
   ],
   "source": [
    "official_F_score(\"num_votes\", gold_relations, crowd_res)"
   ]
  },
  {
   "cell_type": "markdown",
   "metadata": {},
   "source": [
    "Results are reproducible, so let's continue.."
   ]
  },
  {
   "cell_type": "markdown",
   "metadata": {},
   "source": [
    "---"
   ]
  },
  {
   "cell_type": "code",
   "execution_count": 23,
   "metadata": {
    "collapsed": true
   },
   "outputs": [],
   "source": [
    "def make_df(triples):\n",
    "    \"\"\"Converts a given set of (pmid, chemical_id, disease_id)\n",
    "    triples into a three column dataframe.\"\"\"\n",
    "    return pd.DataFrame(list(triples), columns = TRIPLE)"
   ]
  },
  {
   "cell_type": "code",
   "execution_count": 24,
   "metadata": {
    "collapsed": true
   },
   "outputs": [],
   "source": [
    "gold_std = make_df(gold_relations)"
   ]
  },
  {
   "cell_type": "code",
   "execution_count": 25,
   "metadata": {
    "collapsed": false
   },
   "outputs": [
    {
     "data": {
      "text/html": [
       "<div>\n",
       "<table border=\"1\" class=\"dataframe\">\n",
       "  <thead>\n",
       "    <tr style=\"text-align: right;\">\n",
       "      <th></th>\n",
       "      <th>pmid</th>\n",
       "      <th>chemical_id</th>\n",
       "      <th>disease_id</th>\n",
       "    </tr>\n",
       "  </thead>\n",
       "  <tbody>\n",
       "    <tr>\n",
       "      <th>0</th>\n",
       "      <td>24100257</td>\n",
       "      <td>MESH:C089750</td>\n",
       "      <td>MESH:D054549</td>\n",
       "    </tr>\n",
       "    <tr>\n",
       "      <th>1</th>\n",
       "      <td>17255138</td>\n",
       "      <td>MESH:D000894</td>\n",
       "      <td>MESH:D006471</td>\n",
       "    </tr>\n",
       "    <tr>\n",
       "      <th>2</th>\n",
       "      <td>20495512</td>\n",
       "      <td>MESH:D006493</td>\n",
       "      <td>MESH:D013921</td>\n",
       "    </tr>\n",
       "    <tr>\n",
       "      <th>3</th>\n",
       "      <td>12119460</td>\n",
       "      <td>MESH:D016685</td>\n",
       "      <td>MESH:D007970</td>\n",
       "    </tr>\n",
       "    <tr>\n",
       "      <th>4</th>\n",
       "      <td>7479194</td>\n",
       "      <td>MESH:D015662</td>\n",
       "      <td>MESH:D013262</td>\n",
       "    </tr>\n",
       "  </tbody>\n",
       "</table>\n",
       "</div>"
      ],
      "text/plain": [
       "       pmid   chemical_id    disease_id\n",
       "0  24100257  MESH:C089750  MESH:D054549\n",
       "1  17255138  MESH:D000894  MESH:D006471\n",
       "2  20495512  MESH:D006493  MESH:D013921\n",
       "3  12119460  MESH:D016685  MESH:D007970\n",
       "4   7479194  MESH:D015662  MESH:D013262"
      ]
     },
     "execution_count": 25,
     "metadata": {},
     "output_type": "execute_result"
    }
   ],
   "source": [
    "gold_std.head()"
   ]
  },
  {
   "cell_type": "code",
   "execution_count": 26,
   "metadata": {
    "collapsed": true
   },
   "outputs": [],
   "source": [
    "def extract_ids(annotations):\n",
    "    concepts = defaultdict(set)\n",
    "    for annot in annotations:\n",
    "        concepts[annot.stype].add(annot.uid.uid)\n",
    "\n",
    "    return concepts\n",
    "\n",
    "def expand_set(vals):\n",
    "    res = set()\n",
    "    for v in vals:\n",
    "        res |= v\n",
    "        \n",
    "    return res"
   ]
  },
  {
   "cell_type": "code",
   "execution_count": 27,
   "metadata": {
    "collapsed": true
   },
   "outputs": [],
   "source": [
    "def find_perfect_concepts(predict, gold_std):\n",
    "    \"\"\"Finds the concepts having the exact same annotations\n",
    "    in both data sets.\n",
    "    \"\"\"\n",
    "    res = dict()\n",
    "    for pmid, gold_paper in gold_std.items():\n",
    "        paper = predict[pmid]\n",
    "\n",
    "        # annotations\n",
    "        predict_annot = set(paper.annotations)\n",
    "        gold_annot = set(gold_paper.annotations)\n",
    "        \n",
    "        shared_concepts = extract_ids(gold_annot & predict_annot)\n",
    "        missed_concepts = extract_ids(gold_annot ^ predict_annot)\n",
    "        \n",
    "        perf_chem = shared_concepts[\"chemical\"] - missed_concepts[\"chemical\"]\n",
    "        perf_dise = shared_concepts[\"disease\"] - missed_concepts[\"disease\"]\n",
    "        \n",
    "        chems = expand_set(perf_chem)\n",
    "        dises = expand_set(perf_dise)\n",
    "\n",
    "        res[pmid] = (chems, dises)\n",
    "\n",
    "    return res\n",
    "\n",
    "def get_perf_subset_triples(perf_concepts):\n",
    "    res = set()\n",
    "    for pmid, (chem, dise) in perf_concepts.items():\n",
    "        res |= set([(pmid, c.flat_repr, d.flat_repr) for c in chem for d in dise])\n",
    "        \n",
    "    return res"
   ]
  },
  {
   "cell_type": "code",
   "execution_count": 28,
   "metadata": {
    "collapsed": true
   },
   "outputs": [],
   "source": [
    "def ner_filter(predict_full, predict_df, gold_full, gold_df):\n",
    "    \"\"\"Given a dataframe of a solution's predicted CID relations,\n",
    "    applies a NER filter with the gold standard to return only those\n",
    "    relations which were generated using perfectly annotated concepts.\n",
    "    \"\"\"\n",
    "    # what were the concepts perfectly annotated by the predictions and gold std?\n",
    "    common_concepts = find_perfect_concepts(predict_full, gold_full)\n",
    "    \n",
    "    # what are all possible triples using the perfect concepts?\n",
    "    poss_good_trips = get_perf_subset_triples(common_concepts)\n",
    "    \n",
    "    print(len(poss_good_trips))\n",
    "    \n",
    "    poss_df = make_df(poss_good_trips)\n",
    "    \n",
    "    # filter predictions and gold standard using the set of possible triples\n",
    "    predict_sub = pd.merge(predict_df, poss_df, how = \"inner\", on = TRIPLE)\n",
    "    gold_sub = pd.merge(gold_df, poss_df, how = \"inner\", on = TRIPLE)\n",
    "    \n",
    "    return (predict_sub, gold_sub)"
   ]
  },
  {
   "cell_type": "code",
   "execution_count": 29,
   "metadata": {
    "collapsed": false
   },
   "outputs": [
    {
     "name": "stdout",
     "output_type": "stream",
     "text": [
      "2569\n"
     ]
    }
   ],
   "source": [
    "crowd_no_ner, crowd_good_gold = ner_filter(crowd_full, crowd_res, eval_gold, gold_std)"
   ]
  },
  {
   "cell_type": "code",
   "execution_count": 30,
   "metadata": {
    "collapsed": false
   },
   "outputs": [
    {
     "data": {
      "text/plain": [
       "290"
      ]
     },
     "execution_count": 30,
     "metadata": {},
     "output_type": "execute_result"
    }
   ],
   "source": [
    "len(crowd_good_gold[\"pmid\"].unique())"
   ]
  },
  {
   "cell_type": "code",
   "execution_count": 31,
   "metadata": {
    "collapsed": false
   },
   "outputs": [
    {
     "name": "stderr",
     "output_type": "stream",
     "text": [
      "../src/eval_perf.py:93: FutureWarning: sort(columns=....) is deprecated, use sort_values(by=.....)\n",
      "  return pd.DataFrame(res).sort(\"threshold\").reset_index(drop = True)\n"
     ]
    },
    {
     "data": {
      "text/html": [
       "<div>\n",
       "<table border=\"1\" class=\"dataframe\">\n",
       "  <thead>\n",
       "    <tr style=\"text-align: right;\">\n",
       "      <th></th>\n",
       "      <th>F_score</th>\n",
       "      <th>precision</th>\n",
       "      <th>recall</th>\n",
       "      <th>threshold</th>\n",
       "    </tr>\n",
       "  </thead>\n",
       "  <tbody>\n",
       "    <tr>\n",
       "      <th>0</th>\n",
       "      <td>0.318346</td>\n",
       "      <td>0.189305</td>\n",
       "      <td>1.000000</td>\n",
       "      <td>0</td>\n",
       "    </tr>\n",
       "    <tr>\n",
       "      <th>1</th>\n",
       "      <td>0.434339</td>\n",
       "      <td>0.280240</td>\n",
       "      <td>0.964948</td>\n",
       "      <td>1</td>\n",
       "    </tr>\n",
       "    <tr>\n",
       "      <th>2</th>\n",
       "      <td>0.540541</td>\n",
       "      <td>0.381356</td>\n",
       "      <td>0.927835</td>\n",
       "      <td>2</td>\n",
       "    </tr>\n",
       "    <tr>\n",
       "      <th>3</th>\n",
       "      <td>0.615958</td>\n",
       "      <td>0.482477</td>\n",
       "      <td>0.851546</td>\n",
       "      <td>3</td>\n",
       "    </tr>\n",
       "    <tr>\n",
       "      <th>4</th>\n",
       "      <td>0.645447</td>\n",
       "      <td>0.565015</td>\n",
       "      <td>0.752577</td>\n",
       "      <td>4</td>\n",
       "    </tr>\n",
       "    <tr>\n",
       "      <th>5</th>\n",
       "      <td>0.603732</td>\n",
       "      <td>0.645540</td>\n",
       "      <td>0.567010</td>\n",
       "      <td>5</td>\n",
       "    </tr>\n",
       "  </tbody>\n",
       "</table>\n",
       "</div>"
      ],
      "text/plain": [
       "    F_score  precision    recall  threshold\n",
       "0  0.318346   0.189305  1.000000          0\n",
       "1  0.434339   0.280240  0.964948          1\n",
       "2  0.540541   0.381356  0.927835          2\n",
       "3  0.615958   0.482477  0.851546          3\n",
       "4  0.645447   0.565015  0.752577          4\n",
       "5  0.603732   0.645540  0.567010          5"
      ]
     },
     "execution_count": 31,
     "metadata": {},
     "output_type": "execute_result"
    }
   ],
   "source": [
    "crowd_no_ner_perf = official_F_score(\"num_votes\", get_triples(crowd_good_gold), crowd_no_ner)\n",
    "crowd_no_ner_perf"
   ]
  },
  {
   "cell_type": "code",
   "execution_count": 32,
   "metadata": {
    "collapsed": false,
    "scrolled": true
   },
   "outputs": [
    {
     "data": {
      "text/plain": [
       "485"
      ]
     },
     "execution_count": 32,
     "metadata": {},
     "output_type": "execute_result"
    }
   ],
   "source": [
    "len(crowd_good_gold)"
   ]
  },
  {
   "cell_type": "markdown",
   "metadata": {},
   "source": [
    "---"
   ]
  },
  {
   "cell_type": "code",
   "execution_count": 33,
   "metadata": {
    "collapsed": false
   },
   "outputs": [
    {
     "data": {
      "text/html": [
       "<div>\n",
       "<table border=\"1\" class=\"dataframe\">\n",
       "  <thead>\n",
       "    <tr style=\"text-align: right;\">\n",
       "      <th></th>\n",
       "      <th>pmid</th>\n",
       "      <th>chemical_id</th>\n",
       "      <th>disease_id</th>\n",
       "    </tr>\n",
       "  </thead>\n",
       "  <tbody>\n",
       "    <tr>\n",
       "      <th>0</th>\n",
       "      <td>24100257</td>\n",
       "      <td>MESH:C089750</td>\n",
       "      <td>MESH:D054549</td>\n",
       "    </tr>\n",
       "    <tr>\n",
       "      <th>1</th>\n",
       "      <td>17255138</td>\n",
       "      <td>MESH:D000894</td>\n",
       "      <td>MESH:D006471</td>\n",
       "    </tr>\n",
       "    <tr>\n",
       "      <th>2</th>\n",
       "      <td>20495512</td>\n",
       "      <td>MESH:D006493</td>\n",
       "      <td>MESH:D013921</td>\n",
       "    </tr>\n",
       "    <tr>\n",
       "      <th>3</th>\n",
       "      <td>12119460</td>\n",
       "      <td>MESH:D016685</td>\n",
       "      <td>MESH:D007970</td>\n",
       "    </tr>\n",
       "    <tr>\n",
       "      <th>4</th>\n",
       "      <td>7479194</td>\n",
       "      <td>MESH:D015662</td>\n",
       "      <td>MESH:D013262</td>\n",
       "    </tr>\n",
       "  </tbody>\n",
       "</table>\n",
       "</div>"
      ],
      "text/plain": [
       "       pmid   chemical_id    disease_id\n",
       "0  24100257  MESH:C089750  MESH:D054549\n",
       "1  17255138  MESH:D000894  MESH:D006471\n",
       "2  20495512  MESH:D006493  MESH:D013921\n",
       "3  12119460  MESH:D016685  MESH:D007970\n",
       "4   7479194  MESH:D015662  MESH:D013262"
      ]
     },
     "execution_count": 33,
     "metadata": {},
     "output_type": "execute_result"
    }
   ],
   "source": [
    "gold_std.head()"
   ]
  },
  {
   "cell_type": "code",
   "execution_count": 34,
   "metadata": {
    "collapsed": true
   },
   "outputs": [],
   "source": [
    "temp = pd.merge(crowd_res, gold_std, how = \"inner\", on = TRIPLE)"
   ]
  },
  {
   "cell_type": "code",
   "execution_count": 35,
   "metadata": {
    "collapsed": false
   },
   "outputs": [
    {
     "data": {
      "text/plain": [
       "(801, 5)"
      ]
     },
     "execution_count": 35,
     "metadata": {},
     "output_type": "execute_result"
    }
   ],
   "source": [
    "temp.shape"
   ]
  },
  {
   "cell_type": "code",
   "execution_count": 36,
   "metadata": {
    "collapsed": false
   },
   "outputs": [
    {
     "data": {
      "text/html": [
       "<div>\n",
       "<table border=\"1\" class=\"dataframe\">\n",
       "  <thead>\n",
       "    <tr style=\"text-align: right;\">\n",
       "      <th></th>\n",
       "      <th>chemical_id</th>\n",
       "      <th>disease_id</th>\n",
       "      <th>num_votes</th>\n",
       "      <th>pmid</th>\n",
       "      <th>rel_origin</th>\n",
       "    </tr>\n",
       "  </thead>\n",
       "  <tbody>\n",
       "    <tr>\n",
       "      <th>0</th>\n",
       "      <td>MESH:C009695</td>\n",
       "      <td>MESH:D002375</td>\n",
       "      <td>0</td>\n",
       "      <td>35781</td>\n",
       "      <td>sentence_task</td>\n",
       "    </tr>\n",
       "    <tr>\n",
       "      <th>1</th>\n",
       "      <td>MESH:D009278</td>\n",
       "      <td>MESH:D002375</td>\n",
       "      <td>0</td>\n",
       "      <td>35781</td>\n",
       "      <td>sentence_task</td>\n",
       "    </tr>\n",
       "    <tr>\n",
       "      <th>2</th>\n",
       "      <td>MESH:D003061</td>\n",
       "      <td>MESH:D002375</td>\n",
       "      <td>2</td>\n",
       "      <td>35781</td>\n",
       "      <td>sentence_task</td>\n",
       "    </tr>\n",
       "    <tr>\n",
       "      <th>3</th>\n",
       "      <td>MESH:D009020</td>\n",
       "      <td>MESH:D002375</td>\n",
       "      <td>3</td>\n",
       "      <td>35781</td>\n",
       "      <td>sentence_task</td>\n",
       "    </tr>\n",
       "    <tr>\n",
       "      <th>4</th>\n",
       "      <td>MESH:D003000</td>\n",
       "      <td>MESH:D002375</td>\n",
       "      <td>5</td>\n",
       "      <td>35781</td>\n",
       "      <td>sentence_task</td>\n",
       "    </tr>\n",
       "  </tbody>\n",
       "</table>\n",
       "</div>"
      ],
      "text/plain": [
       "    chemical_id    disease_id  num_votes   pmid     rel_origin\n",
       "0  MESH:C009695  MESH:D002375          0  35781  sentence_task\n",
       "1  MESH:D009278  MESH:D002375          0  35781  sentence_task\n",
       "2  MESH:D003061  MESH:D002375          2  35781  sentence_task\n",
       "3  MESH:D009020  MESH:D002375          3  35781  sentence_task\n",
       "4  MESH:D003000  MESH:D002375          5  35781  sentence_task"
      ]
     },
     "execution_count": 36,
     "metadata": {},
     "output_type": "execute_result"
    }
   ],
   "source": [
    "temp.head()"
   ]
  },
  {
   "cell_type": "code",
   "execution_count": 37,
   "metadata": {
    "collapsed": false
   },
   "outputs": [
    {
     "data": {
      "text/plain": [
       "sentence_task    301\n",
       "cid_relation     143\n",
       "abstract_task    132\n",
       "dtype: int64"
      ]
     },
     "execution_count": 37,
     "metadata": {},
     "output_type": "execute_result"
    }
   ],
   "source": [
    "temp.query(\"num_votes >= 4\")[\"rel_origin\"].value_counts()"
   ]
  },
  {
   "cell_type": "code",
   "execution_count": 38,
   "metadata": {
    "collapsed": false
   },
   "outputs": [
    {
     "data": {
      "text/plain": [
       "(576, 5)"
      ]
     },
     "execution_count": 38,
     "metadata": {},
     "output_type": "execute_result"
    }
   ],
   "source": [
    "temp.query(\"num_votes >= 4\").shape"
   ]
  },
  {
   "cell_type": "code",
   "execution_count": 39,
   "metadata": {
    "collapsed": true
   },
   "outputs": [],
   "source": [
    "temp = pd.merge(crowd_res, gold_std, how = \"right\", on = TRIPLE)"
   ]
  },
  {
   "cell_type": "code",
   "execution_count": 40,
   "metadata": {
    "collapsed": false
   },
   "outputs": [
    {
     "data": {
      "text/plain": [
       "(1066, 5)"
      ]
     },
     "execution_count": 40,
     "metadata": {},
     "output_type": "execute_result"
    }
   ],
   "source": [
    "temp.shape"
   ]
  },
  {
   "cell_type": "code",
   "execution_count": 41,
   "metadata": {
    "collapsed": false
   },
   "outputs": [
    {
     "data": {
      "text/plain": [
       "(225, 5)"
      ]
     },
     "execution_count": 41,
     "metadata": {},
     "output_type": "execute_result"
    }
   ],
   "source": [
    "temp.query(\"num_votes <= 3\").shape"
   ]
  },
  {
   "cell_type": "code",
   "execution_count": 42,
   "metadata": {
    "collapsed": false
   },
   "outputs": [
    {
     "data": {
      "text/plain": [
       "sentence_task    123\n",
       "abstract_task    102\n",
       "dtype: int64"
      ]
     },
     "execution_count": 42,
     "metadata": {},
     "output_type": "execute_result"
    }
   ],
   "source": [
    "temp.query(\"num_votes <= 3\")[\"rel_origin\"].value_counts()"
   ]
  },
  {
   "cell_type": "code",
   "execution_count": 43,
   "metadata": {
    "collapsed": true
   },
   "outputs": [],
   "source": [
    "crowd_res[\"in_gold\"] = crowd_res.loc[:, TRIPLE].apply(\n",
    "    lambda r: (int(r[\"pmid\"]), r[\"chemical_id\"], r[\"disease_id\"]) in gold_relations,\n",
    "    axis = 1\n",
    ")"
   ]
  },
  {
   "cell_type": "code",
   "execution_count": 44,
   "metadata": {
    "collapsed": false
   },
   "outputs": [
    {
     "data": {
      "text/plain": [
       "False    4119\n",
       "True      801\n",
       "dtype: int64"
      ]
     },
     "execution_count": 44,
     "metadata": {},
     "output_type": "execute_result"
    }
   ],
   "source": [
    "crowd_res[\"in_gold\"].value_counts()"
   ]
  },
  {
   "cell_type": "code",
   "execution_count": 45,
   "metadata": {
    "collapsed": false
   },
   "outputs": [
    {
     "data": {
      "text/plain": [
       "(225, 6)"
      ]
     },
     "execution_count": 45,
     "metadata": {},
     "output_type": "execute_result"
    }
   ],
   "source": [
    "crowd_res.query(\"in_gold & num_votes <= 3\").shape"
   ]
  },
  {
   "cell_type": "code",
   "execution_count": 46,
   "metadata": {
    "collapsed": false
   },
   "outputs": [
    {
     "data": {
      "text/plain": [
       "(635, 6)"
      ]
     },
     "execution_count": 46,
     "metadata": {},
     "output_type": "execute_result"
    }
   ],
   "source": [
    "crowd_res.query(\"~in_gold & num_votes >= 4\").shape"
   ]
  },
  {
   "cell_type": "code",
   "execution_count": 47,
   "metadata": {
    "collapsed": false
   },
   "outputs": [
    {
     "data": {
      "text/plain": [
       "sentence_task    339\n",
       "abstract_task    245\n",
       "cid_relation      51\n",
       "dtype: int64"
      ]
     },
     "execution_count": 47,
     "metadata": {},
     "output_type": "execute_result"
    }
   ],
   "source": [
    "crowd_res.query(\"~in_gold & num_votes >= 4\")[\"rel_origin\"].value_counts()"
   ]
  },
  {
   "cell_type": "code",
   "execution_count": 48,
   "metadata": {
    "collapsed": false
   },
   "outputs": [
    {
     "data": {
      "text/plain": [
       "(3484, 6)"
      ]
     },
     "execution_count": 48,
     "metadata": {},
     "output_type": "execute_result"
    }
   ],
   "source": [
    "crowd_res.query(\"~in_gold & num_votes < 4\").shape"
   ]
  },
  {
   "cell_type": "code",
   "execution_count": 49,
   "metadata": {
    "collapsed": false
   },
   "outputs": [
    {
     "data": {
      "text/plain": [
       "abstract_task    2281\n",
       "sentence_task    1203\n",
       "dtype: int64"
      ]
     },
     "execution_count": 49,
     "metadata": {},
     "output_type": "execute_result"
    }
   ],
   "source": [
    "crowd_res.query(\"~in_gold & num_votes < 4\")[\"rel_origin\"].value_counts()"
   ]
  },
  {
   "cell_type": "markdown",
   "metadata": {},
   "source": [
    "---"
   ]
  },
  {
   "cell_type": "code",
   "execution_count": 50,
   "metadata": {
    "collapsed": false
   },
   "outputs": [
    {
     "data": {
      "text/html": [
       "<div>\n",
       "<table border=\"1\" class=\"dataframe\">\n",
       "  <thead>\n",
       "    <tr style=\"text-align: right;\">\n",
       "      <th></th>\n",
       "      <th>chemical_id</th>\n",
       "      <th>disease_id</th>\n",
       "      <th>num_votes</th>\n",
       "      <th>pmid</th>\n",
       "      <th>rel_origin</th>\n",
       "    </tr>\n",
       "  </thead>\n",
       "  <tbody>\n",
       "    <tr>\n",
       "      <th>0</th>\n",
       "      <td>MESH:D000157</td>\n",
       "      <td>MESH:D001145</td>\n",
       "      <td>2</td>\n",
       "      <td>44072</td>\n",
       "      <td>sentence_task</td>\n",
       "    </tr>\n",
       "    <tr>\n",
       "      <th>1</th>\n",
       "      <td>MESH:D004837</td>\n",
       "      <td>MESH:D001145</td>\n",
       "      <td>3</td>\n",
       "      <td>44072</td>\n",
       "      <td>sentence_task</td>\n",
       "    </tr>\n",
       "    <tr>\n",
       "      <th>2</th>\n",
       "      <td>MESH:C024986</td>\n",
       "      <td>MESH:D001145</td>\n",
       "      <td>4</td>\n",
       "      <td>44072</td>\n",
       "      <td>sentence_task</td>\n",
       "    </tr>\n",
       "    <tr>\n",
       "      <th>3</th>\n",
       "      <td>MESH:D002725</td>\n",
       "      <td>MESH:D001145</td>\n",
       "      <td>4</td>\n",
       "      <td>44072</td>\n",
       "      <td>sentence_task</td>\n",
       "    </tr>\n",
       "    <tr>\n",
       "      <th>4</th>\n",
       "      <td>MESH:D011433</td>\n",
       "      <td>MESH:D006973</td>\n",
       "      <td>2</td>\n",
       "      <td>48835</td>\n",
       "      <td>abstract_task</td>\n",
       "    </tr>\n",
       "  </tbody>\n",
       "</table>\n",
       "</div>"
      ],
      "text/plain": [
       "    chemical_id    disease_id  num_votes   pmid     rel_origin\n",
       "0  MESH:D000157  MESH:D001145          2  44072  sentence_task\n",
       "1  MESH:D004837  MESH:D001145          3  44072  sentence_task\n",
       "2  MESH:C024986  MESH:D001145          4  44072  sentence_task\n",
       "3  MESH:D002725  MESH:D001145          4  44072  sentence_task\n",
       "4  MESH:D011433  MESH:D006973          2  48835  abstract_task"
      ]
     },
     "execution_count": 50,
     "metadata": {},
     "output_type": "execute_result"
    }
   ],
   "source": [
    "crowd_no_ner.head()"
   ]
  },
  {
   "cell_type": "code",
   "execution_count": 51,
   "metadata": {
    "collapsed": false
   },
   "outputs": [
    {
     "data": {
      "text/html": [
       "<div>\n",
       "<table border=\"1\" class=\"dataframe\">\n",
       "  <thead>\n",
       "    <tr style=\"text-align: right;\">\n",
       "      <th></th>\n",
       "      <th>pmid</th>\n",
       "      <th>chemical_id</th>\n",
       "      <th>disease_id</th>\n",
       "    </tr>\n",
       "  </thead>\n",
       "  <tbody>\n",
       "    <tr>\n",
       "      <th>0</th>\n",
       "      <td>3925479</td>\n",
       "      <td>MESH:D006220</td>\n",
       "      <td>MESH:D002375</td>\n",
       "    </tr>\n",
       "    <tr>\n",
       "      <th>1</th>\n",
       "      <td>11745287</td>\n",
       "      <td>MESH:D004317</td>\n",
       "      <td>MESH:D009325</td>\n",
       "    </tr>\n",
       "    <tr>\n",
       "      <th>2</th>\n",
       "      <td>24739405</td>\n",
       "      <td>MESH:D006220</td>\n",
       "      <td>MESH:D002375</td>\n",
       "    </tr>\n",
       "    <tr>\n",
       "      <th>3</th>\n",
       "      <td>19108278</td>\n",
       "      <td>MESH:D004837</td>\n",
       "      <td>MESH:D001145</td>\n",
       "    </tr>\n",
       "    <tr>\n",
       "      <th>4</th>\n",
       "      <td>1158089</td>\n",
       "      <td>MESH:D013752</td>\n",
       "      <td>MESH:D005234</td>\n",
       "    </tr>\n",
       "  </tbody>\n",
       "</table>\n",
       "</div>"
      ],
      "text/plain": [
       "       pmid   chemical_id    disease_id\n",
       "0   3925479  MESH:D006220  MESH:D002375\n",
       "1  11745287  MESH:D004317  MESH:D009325\n",
       "2  24739405  MESH:D006220  MESH:D002375\n",
       "3  19108278  MESH:D004837  MESH:D001145\n",
       "4   1158089  MESH:D013752  MESH:D005234"
      ]
     },
     "execution_count": 51,
     "metadata": {},
     "output_type": "execute_result"
    }
   ],
   "source": [
    "crowd_good_gold.head()"
   ]
  },
  {
   "cell_type": "code",
   "execution_count": 52,
   "metadata": {
    "collapsed": false
   },
   "outputs": [
    {
     "data": {
      "text/plain": [
       "(485, 3)"
      ]
     },
     "execution_count": 52,
     "metadata": {},
     "output_type": "execute_result"
    }
   ],
   "source": [
    "crowd_good_gold.shape"
   ]
  },
  {
   "cell_type": "code",
   "execution_count": 53,
   "metadata": {
    "collapsed": true
   },
   "outputs": [],
   "source": [
    "temp = pd.merge(crowd_no_ner, crowd_good_gold, on = TRIPLE, how = \"inner\")"
   ]
  },
  {
   "cell_type": "code",
   "execution_count": 54,
   "metadata": {
    "collapsed": false
   },
   "outputs": [
    {
     "data": {
      "text/plain": [
       "(485, 5)"
      ]
     },
     "execution_count": 54,
     "metadata": {},
     "output_type": "execute_result"
    }
   ],
   "source": [
    "temp.shape"
   ]
  },
  {
   "cell_type": "code",
   "execution_count": 55,
   "metadata": {
    "collapsed": false
   },
   "outputs": [
    {
     "data": {
      "text/html": [
       "<div>\n",
       "<table border=\"1\" class=\"dataframe\">\n",
       "  <thead>\n",
       "    <tr style=\"text-align: right;\">\n",
       "      <th></th>\n",
       "      <th>chemical_id</th>\n",
       "      <th>disease_id</th>\n",
       "      <th>num_votes</th>\n",
       "      <th>pmid</th>\n",
       "      <th>rel_origin</th>\n",
       "    </tr>\n",
       "  </thead>\n",
       "  <tbody>\n",
       "    <tr>\n",
       "      <th>0</th>\n",
       "      <td>MESH:D000157</td>\n",
       "      <td>MESH:D001145</td>\n",
       "      <td>2</td>\n",
       "      <td>44072</td>\n",
       "      <td>sentence_task</td>\n",
       "    </tr>\n",
       "    <tr>\n",
       "      <th>1</th>\n",
       "      <td>MESH:D004837</td>\n",
       "      <td>MESH:D001145</td>\n",
       "      <td>3</td>\n",
       "      <td>44072</td>\n",
       "      <td>sentence_task</td>\n",
       "    </tr>\n",
       "    <tr>\n",
       "      <th>2</th>\n",
       "      <td>MESH:C024986</td>\n",
       "      <td>MESH:D001145</td>\n",
       "      <td>4</td>\n",
       "      <td>44072</td>\n",
       "      <td>sentence_task</td>\n",
       "    </tr>\n",
       "    <tr>\n",
       "      <th>3</th>\n",
       "      <td>MESH:D002725</td>\n",
       "      <td>MESH:D001145</td>\n",
       "      <td>4</td>\n",
       "      <td>44072</td>\n",
       "      <td>sentence_task</td>\n",
       "    </tr>\n",
       "    <tr>\n",
       "      <th>4</th>\n",
       "      <td>MESH:D011433</td>\n",
       "      <td>MESH:D006973</td>\n",
       "      <td>2</td>\n",
       "      <td>48835</td>\n",
       "      <td>abstract_task</td>\n",
       "    </tr>\n",
       "  </tbody>\n",
       "</table>\n",
       "</div>"
      ],
      "text/plain": [
       "    chemical_id    disease_id  num_votes   pmid     rel_origin\n",
       "0  MESH:D000157  MESH:D001145          2  44072  sentence_task\n",
       "1  MESH:D004837  MESH:D001145          3  44072  sentence_task\n",
       "2  MESH:C024986  MESH:D001145          4  44072  sentence_task\n",
       "3  MESH:D002725  MESH:D001145          4  44072  sentence_task\n",
       "4  MESH:D011433  MESH:D006973          2  48835  abstract_task"
      ]
     },
     "execution_count": 55,
     "metadata": {},
     "output_type": "execute_result"
    }
   ],
   "source": [
    "temp.head()"
   ]
  },
  {
   "cell_type": "code",
   "execution_count": 56,
   "metadata": {
    "collapsed": false
   },
   "outputs": [
    {
     "data": {
      "text/plain": [
       "(365, 5)"
      ]
     },
     "execution_count": 56,
     "metadata": {},
     "output_type": "execute_result"
    }
   ],
   "source": [
    "temp.query(\"num_votes >= 4\").shape"
   ]
  },
  {
   "cell_type": "code",
   "execution_count": 57,
   "metadata": {
    "collapsed": false
   },
   "outputs": [
    {
     "data": {
      "text/plain": [
       "sentence_task    188\n",
       "cid_relation     102\n",
       "abstract_task     75\n",
       "dtype: int64"
      ]
     },
     "execution_count": 57,
     "metadata": {},
     "output_type": "execute_result"
    }
   ],
   "source": [
    "temp.query(\"num_votes >= 4\")[\"rel_origin\"].value_counts()"
   ]
  },
  {
   "cell_type": "code",
   "execution_count": 58,
   "metadata": {
    "collapsed": false
   },
   "outputs": [
    {
     "data": {
      "text/plain": [
       "(120, 5)"
      ]
     },
     "execution_count": 58,
     "metadata": {},
     "output_type": "execute_result"
    }
   ],
   "source": [
    "temp.query(\"num_votes < 4\").shape"
   ]
  },
  {
   "cell_type": "code",
   "execution_count": 59,
   "metadata": {
    "collapsed": false
   },
   "outputs": [
    {
     "data": {
      "text/plain": [
       "abstract_task    65\n",
       "sentence_task    55\n",
       "dtype: int64"
      ]
     },
     "execution_count": 59,
     "metadata": {},
     "output_type": "execute_result"
    }
   ],
   "source": [
    "temp.query(\"num_votes < 4\")[\"rel_origin\"].value_counts()"
   ]
  },
  {
   "cell_type": "code",
   "execution_count": 61,
   "metadata": {
    "collapsed": true
   },
   "outputs": [],
   "source": [
    "crowd_no_ner[\"in_gold\"] = crowd_no_ner.loc[:, TRIPLE].apply(\n",
    "    lambda r: (int(r[\"pmid\"]), r[\"chemical_id\"], r[\"disease_id\"]) in gold_relations,\n",
    "    axis = 1\n",
    ")"
   ]
  },
  {
   "cell_type": "code",
   "execution_count": 62,
   "metadata": {
    "collapsed": false
   },
   "outputs": [
    {
     "data": {
      "text/plain": [
       "(2562, 6)"
      ]
     },
     "execution_count": 62,
     "metadata": {},
     "output_type": "execute_result"
    }
   ],
   "source": [
    "crowd_no_ner.shape"
   ]
  },
  {
   "cell_type": "code",
   "execution_count": 63,
   "metadata": {
    "collapsed": false
   },
   "outputs": [
    {
     "data": {
      "text/plain": [
       "(281, 6)"
      ]
     },
     "execution_count": 63,
     "metadata": {},
     "output_type": "execute_result"
    }
   ],
   "source": [
    "crowd_no_ner.query(\"~in_gold & num_votes >= 4\").shape"
   ]
  },
  {
   "cell_type": "code",
   "execution_count": 64,
   "metadata": {
    "collapsed": false
   },
   "outputs": [
    {
     "data": {
      "text/plain": [
       "sentence_task    156\n",
       "abstract_task    100\n",
       "cid_relation      25\n",
       "dtype: int64"
      ]
     },
     "execution_count": 64,
     "metadata": {},
     "output_type": "execute_result"
    }
   ],
   "source": [
    "crowd_no_ner.query(\"~in_gold & num_votes >= 4\")[\"rel_origin\"].value_counts()"
   ]
  },
  {
   "cell_type": "code",
   "execution_count": 65,
   "metadata": {
    "collapsed": false
   },
   "outputs": [
    {
     "data": {
      "text/plain": [
       "(1796, 6)"
      ]
     },
     "execution_count": 65,
     "metadata": {},
     "output_type": "execute_result"
    }
   ],
   "source": [
    "crowd_no_ner.query(\"~in_gold & num_votes < 4\").shape"
   ]
  },
  {
   "cell_type": "code",
   "execution_count": 66,
   "metadata": {
    "collapsed": false
   },
   "outputs": [
    {
     "data": {
      "text/plain": [
       "abstract_task    1221\n",
       "sentence_task     575\n",
       "dtype: int64"
      ]
     },
     "execution_count": 66,
     "metadata": {},
     "output_type": "execute_result"
    }
   ],
   "source": [
    "crowd_no_ner.query(\"~in_gold & num_votes < 4\")[\"rel_origin\"].value_counts()"
   ]
  },
  {
   "cell_type": "code",
   "execution_count": null,
   "metadata": {
    "collapsed": true
   },
   "outputs": [],
   "source": []
  }
 ],
 "metadata": {
  "kernelspec": {
   "display_name": "Python 3",
   "language": "python",
   "name": "python3"
  },
  "language_info": {
   "codemirror_mode": {
    "name": "ipython",
    "version": 3
   },
   "file_extension": ".py",
   "mimetype": "text/x-python",
   "name": "python",
   "nbconvert_exporter": "python",
   "pygments_lexer": "ipython3",
   "version": "3.4.2"
  }
 },
 "nbformat": 4,
 "nbformat_minor": 0
}
