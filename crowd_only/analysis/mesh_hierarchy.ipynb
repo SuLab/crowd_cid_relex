{
 "cells": [
  {
   "cell_type": "markdown",
   "metadata": {},
   "source": [
    "# MeSH processor\n",
    "\n",
    "Tong Shu Li<br>\n",
    "Created on: 2015-09-01<br>\n",
    "Last updated: 2015-10-05\n",
    "\n",
    "We explore the MeSH ontology in this notebook."
   ]
  },
  {
   "cell_type": "markdown",
   "metadata": {},
   "source": [
    "Based on an error analysis of the 100 abstracts, it's not clear that a MeSH ontology post-processing would improve F-score, since many of the errors do not arise as a result of different identifiers in the ontology hierarchy. Most of the error arise as a result of relations missing in the gold or NER not identifying the correct concepts for the crowd to validate."
   ]
  },
  {
   "cell_type": "code",
   "execution_count": 8,
   "metadata": {
    "collapsed": true
   },
   "outputs": [],
   "source": [
    "def check(A, B):\n",
    "    print(concept_name[A], hierarchy[A])\n",
    "    print(concept_name[B], hierarchy[B])"
   ]
  },
  {
   "cell_type": "code",
   "execution_count": 9,
   "metadata": {
    "collapsed": false
   },
   "outputs": [
    {
     "name": "stdout",
     "output_type": "stream",
     "text": [
      "Kidney Failure, Chronic ['C12.777.419.780.750.500', 'C13.351.968.419.780.750.500']\n",
      "Renal Dialysis ['E02.870.300', 'E02.912.800']\n"
     ]
    }
   ],
   "source": [
    "check(\"D007676\", \"D006435\")"
   ]
  },
  {
   "cell_type": "code",
   "execution_count": 10,
   "metadata": {
    "collapsed": false
   },
   "outputs": [
    {
     "name": "stdout",
     "output_type": "stream",
     "text": [
      "Kidney Failure, Chronic ['C12.777.419.780.750.500', 'C13.351.968.419.780.750.500']\n",
      "Uremia ['C12.777.419.936', 'C13.351.968.419.936']\n"
     ]
    }
   ],
   "source": [
    "check(\"D007676\", \"D014511\")"
   ]
  },
  {
   "cell_type": "code",
   "execution_count": 11,
   "metadata": {
    "collapsed": false
   },
   "outputs": [
    {
     "name": "stdout",
     "output_type": "stream",
     "text": [
      "Kidney Failure, Chronic ['C12.777.419.780.750.500', 'C13.351.968.419.780.750.500']\n",
      "Kidney Diseases ['C12.777.419', 'C13.351.968.419']\n"
     ]
    }
   ],
   "source": [
    "check(\"D007676\", \"D007674\")"
   ]
  },
  {
   "cell_type": "code",
   "execution_count": 12,
   "metadata": {
    "collapsed": false
   },
   "outputs": [
    {
     "name": "stdout",
     "output_type": "stream",
     "text": [
      "Drug-Related Side Effects and Adverse Reactions ['C25.100']\n",
      "Neurotoxicity Syndromes ['C10.720', 'C25.723.705']\n"
     ]
    }
   ],
   "source": [
    "check(\"D064420\", \"D020258\")"
   ]
  },
  {
   "cell_type": "code",
   "execution_count": 13,
   "metadata": {
    "collapsed": false
   },
   "outputs": [
    {
     "name": "stdout",
     "output_type": "stream",
     "text": [
      "Hallucinations ['C10.597.606.762.300', 'C23.888.592.604.764.300', 'F01.700.750.300']\n",
      "Neurotoxicity Syndromes ['C10.720', 'C25.723.705']\n"
     ]
    }
   ],
   "source": [
    "check(\"D006212\", \"D020258\")"
   ]
  },
  {
   "cell_type": "code",
   "execution_count": 14,
   "metadata": {
    "collapsed": false
   },
   "outputs": [
    {
     "name": "stdout",
     "output_type": "stream",
     "text": [
      "Myalgia ['C05.651.542', 'C10.597.617.231.249', 'C10.668.491.525', 'F02.830.816.353.500', 'G11.561.600.810.353.500']\n",
      "Pain, Postoperative ['C23.550.767.700', 'C23.888.646.530']\n"
     ]
    }
   ],
   "source": [
    "check(\"D063806\", \"D010149\")"
   ]
  },
  {
   "cell_type": "code",
   "execution_count": 15,
   "metadata": {
    "collapsed": false
   },
   "outputs": [
    {
     "name": "stdout",
     "output_type": "stream",
     "text": [
      "Delirium ['C10.597.606.337.500', 'C23.888.592.604.339.500', 'F01.700.250.500', 'F03.087.350']\n",
      "Postoperative Complications ['C23.550.767']\n"
     ]
    }
   ],
   "source": [
    "check(\"D003693\", \"D011183\")"
   ]
  },
  {
   "cell_type": "code",
   "execution_count": 16,
   "metadata": {
    "collapsed": false
   },
   "outputs": [
    {
     "name": "stdout",
     "output_type": "stream",
     "text": [
      "Acute Kidney Injury ['C12.777.419.780.050', 'C13.351.968.419.780.050']\n",
      "Renal Insufficiency ['C12.777.419.780', 'C13.351.968.419.780']\n"
     ]
    }
   ],
   "source": [
    "check(\"D058186\", \"D051437\")"
   ]
  },
  {
   "cell_type": "code",
   "execution_count": 17,
   "metadata": {
    "collapsed": false
   },
   "outputs": [
    {
     "name": "stdout",
     "output_type": "stream",
     "text": [
      "Kidney Failure, Chronic ['C12.777.419.780.750.500', 'C13.351.968.419.780.750.500']\n",
      "Kidney Diseases ['C12.777.419', 'C13.351.968.419']\n"
     ]
    }
   ],
   "source": [
    "check(\"D007676\", \"D007674\")"
   ]
  },
  {
   "cell_type": "code",
   "execution_count": 18,
   "metadata": {
    "collapsed": false
   },
   "outputs": [
    {
     "name": "stdout",
     "output_type": "stream",
     "text": [
      "Acute Kidney Injury ['C12.777.419.780.050', 'C13.351.968.419.780.050']\n",
      "Neutropenia ['C15.378.553.546.184.564']\n"
     ]
    }
   ],
   "source": [
    "check(\"D058186\", \"D009503\")"
   ]
  }
 ],
 "metadata": {
  "kernelspec": {
   "display_name": "Python 3",
   "language": "python",
   "name": "python3"
  },
  "language_info": {
   "codemirror_mode": {
    "name": "ipython",
    "version": 3
   },
   "file_extension": ".py",
   "mimetype": "text/x-python",
   "name": "python",
   "nbconvert_exporter": "python",
   "pygments_lexer": "ipython3",
   "version": "3.4.2"
  }
 },
 "nbformat": 4,
 "nbformat_minor": 0
}
