{
 "cells": [
  {
   "cell_type": "markdown",
   "metadata": {},
   "source": [
    "# Analysis of 100 abstracts from development set\n",
    "\n",
    "Tong Shu Li<br>\n",
    "Created on: 2015-08-26<br>\n",
    "Last updated: 2015-12-01\n",
    "\n",
    "CrowdFlower jobs 771158 and 771159 were used to run the 100 abstracts from the development set in the same manner as the 500 abstracts from the evaluation set. Here we will look at how well the crowd did.\n",
    "\n",
    "Job settings (sentence and abstract jobs respectively):\n",
    "\n",
    "Parameter | Value\n",
    "--- | ---\n",
    "Job ID | #771159, #771158\n",
    "Rows per page | 6\n",
    "Judgements per row | 5\n",
    "Payment per page | 12, 24 cents USD\n",
    "Contributor level | 2\n",
    "Minimum time per page | 18, 60 seconds\n",
    "Minimum accuracy threshold | 70%\n",
    "Number of test questions | 551, 228\n",
    "Date of launch | 9:21 pm on 2015-08-25\n",
    "Date of completion | 12:20 and 12:05 am on 2015-08-26\n",
    "Total cost before bonuses | \\$98.35, \\$162.72 USD\n",
    "Total cost after bonuses | \\$98.35, \\$162.72 USD"
   ]
  },
  {
   "cell_type": "code",
   "execution_count": 1,
   "metadata": {
    "collapsed": true
   },
   "outputs": [],
   "source": [
    "from collections import defaultdict\n",
    "from itertools import groupby\n",
    "import matplotlib\n",
    "import matplotlib.pyplot as plt\n",
    "import numpy as np\n",
    "import os\n",
    "import pandas as pd\n",
    "import pickle\n",
    "import sys"
   ]
  },
  {
   "cell_type": "code",
   "execution_count": 2,
   "metadata": {
    "collapsed": true
   },
   "outputs": [],
   "source": [
    "sys.path.append(\"..\")"
   ]
  },
  {
   "cell_type": "code",
   "execution_count": 3,
   "metadata": {
    "collapsed": false
   },
   "outputs": [],
   "source": [
    "%matplotlib inline"
   ]
  },
  {
   "cell_type": "code",
   "execution_count": 4,
   "metadata": {
    "collapsed": false
   },
   "outputs": [],
   "source": [
    "from src.filter_data import filter_data\n",
    "from src.data_model import *\n",
    "from src.F_score import *\n",
    "from src.aggregate_results import *\n",
    "from src.lingpipe.file_util import read_file\n",
    "from src.mesh_filter import filter_relations"
   ]
  },
  {
   "cell_type": "markdown",
   "metadata": {},
   "source": [
    "---"
   ]
  },
  {
   "cell_type": "markdown",
   "metadata": {},
   "source": [
    "### Read the gold standard:"
   ]
  },
  {
   "cell_type": "code",
   "execution_count": 5,
   "metadata": {
    "collapsed": true
   },
   "outputs": [],
   "source": [
    "def read_gold_standard(dataset, file_format = \"list\"):\n",
    "    assert dataset in [\"training\", \"development\"]\n",
    "    assert file_format in [\"list\", \"dict\"]\n",
    "    \n",
    "    fname = \"parsed_{0}_set_{1}.pickle\".format(dataset, file_format)\n",
    "    fname = os.path.abspath(os.path.join(\"..\", \"data\", \"gold_standard\", fname))\n",
    "\n",
    "    if os.path.exists(fname):\n",
    "        print(\"Reading cached version of {0} set ({1})\".format(dataset, file_format))\n",
    "        \n",
    "        with open(fname, \"rb\") as fin:\n",
    "            data = pickle.load(fin)\n",
    "    else:\n",
    "        print(\"Parsing raw {0} file\".format(dataset))\n",
    "        \n",
    "        data = parse_input(os.path.abspath(os.path.join(\"..\", \"data\", \"gold_standard\")),\n",
    "                          \"CDR_{0}Set.txt\".format(dataset.capitalize()),\n",
    "                          is_gold = True, return_format = file_format, fix_acronyms = False)\n",
    "        \n",
    "        with open(fname, \"wb\") as fout:\n",
    "            pickle.dump(data, fout)\n",
    "            \n",
    "    return data"
   ]
  },
  {
   "cell_type": "code",
   "execution_count": 6,
   "metadata": {
    "collapsed": false
   },
   "outputs": [
    {
     "name": "stdout",
     "output_type": "stream",
     "text": [
      "Reading cached version of development set (dict)\n"
     ]
    }
   ],
   "source": [
    "dev_gold = read_gold_standard(\"development\", \"dict\")"
   ]
  },
  {
   "cell_type": "markdown",
   "metadata": {},
   "source": [
    "### Read the tmChem/DNorm processed testset"
   ]
  },
  {
   "cell_type": "code",
   "execution_count": 7,
   "metadata": {
    "collapsed": false
   },
   "outputs": [],
   "source": [
    "dev_testset = parse_input(os.path.abspath(os.path.join(\"..\", \"data\", \"devset_100_test\")),\n",
    "                          \"processed_CDR_devset.txt\", is_gold = False,\n",
    "                          return_format = \"dict\", fix_acronyms = True)"
   ]
  },
  {
   "cell_type": "code",
   "execution_count": 8,
   "metadata": {
    "collapsed": false
   },
   "outputs": [
    {
     "data": {
      "text/plain": [
       "100"
      ]
     },
     "execution_count": 8,
     "metadata": {},
     "output_type": "execute_result"
    }
   ],
   "source": [
    "len(dev_testset.keys())"
   ]
  },
  {
   "cell_type": "code",
   "execution_count": 9,
   "metadata": {
    "collapsed": true
   },
   "outputs": [],
   "source": [
    "testset_pmids = set(dev_testset.keys())"
   ]
  },
  {
   "cell_type": "code",
   "execution_count": 10,
   "metadata": {
    "collapsed": false,
    "scrolled": true
   },
   "outputs": [
    {
     "data": {
      "text/plain": [
       "{33969,\n",
       " 326460,\n",
       " 803783,\n",
       " 982002,\n",
       " 1423339,\n",
       " 1535072,\n",
       " 1564236,\n",
       " 1595783,\n",
       " 1610717,\n",
       " 1628552,\n",
       " 1969772,\n",
       " 2004015,\n",
       " 2257294,\n",
       " 2322844,\n",
       " 2598570,\n",
       " 2826064,\n",
       " 2894433,\n",
       " 2917114,\n",
       " 3088349,\n",
       " 3300918,\n",
       " 3311455,\n",
       " 3703509,\n",
       " 3708922,\n",
       " 3969369,\n",
       " 3973521,\n",
       " 6111982,\n",
       " 6118280,\n",
       " 6150641,\n",
       " 6454943,\n",
       " 6496797,\n",
       " 6892185,\n",
       " 7437994,\n",
       " 7542793,\n",
       " 7650771,\n",
       " 7651879,\n",
       " 7710775,\n",
       " 7803371,\n",
       " 7880714,\n",
       " 8111719,\n",
       " 8267029,\n",
       " 8305357,\n",
       " 8424298,\n",
       " 8480959,\n",
       " 8492347,\n",
       " 8586822,\n",
       " 8686832,\n",
       " 8800187,\n",
       " 9041081,\n",
       " 9098464,\n",
       " 9201797,\n",
       " 9270571,\n",
       " 9564988,\n",
       " 9636837,\n",
       " 9669632,\n",
       " 9875685,\n",
       " 10225068,\n",
       " 10328196,\n",
       " 10523326,\n",
       " 10565806,\n",
       " 10743694,\n",
       " 10840460,\n",
       " 10910842,\n",
       " 11063349,\n",
       " 11077455,\n",
       " 11282081,\n",
       " 11337188,\n",
       " 11524350,\n",
       " 11704023,\n",
       " 11705128,\n",
       " 11860278,\n",
       " 11868798,\n",
       " 11999899,\n",
       " 12448656,\n",
       " 12452237,\n",
       " 12911170,\n",
       " 15096016,\n",
       " 15266215,\n",
       " 15266362,\n",
       " 15565293,\n",
       " 15811908,\n",
       " 15858223,\n",
       " 15893386,\n",
       " 16174948,\n",
       " 16192988,\n",
       " 16225977,\n",
       " 16471092,\n",
       " 16596970,\n",
       " 17682013,\n",
       " 18006530,\n",
       " 18356633,\n",
       " 18483878,\n",
       " 18657397,\n",
       " 19135948,\n",
       " 19370593,\n",
       " 19761039,\n",
       " 20042557,\n",
       " 20466178,\n",
       " 20533999,\n",
       " 20683499,\n",
       " 21418164}"
      ]
     },
     "execution_count": 10,
     "metadata": {},
     "output_type": "execute_result"
    }
   ],
   "source": [
    "testset_pmids"
   ]
  },
  {
   "cell_type": "markdown",
   "metadata": {},
   "source": [
    "### Look at how well the NER performed:"
   ]
  },
  {
   "cell_type": "code",
   "execution_count": 11,
   "metadata": {
    "collapsed": false
   },
   "outputs": [],
   "source": [
    "def performance(gold, predict):\n",
    "    \"\"\"Calculates precision, recall, and F1 score.\n",
    "    \n",
    "    Given two sets of data objects, calculates as follows:\n",
    "    \n",
    "    A = gold, P = predict\n",
    "    \n",
    "    tp=|A∩P|\n",
    "    fp=|P-A|\n",
    "    fn=|A-P|\n",
    "    The precision (p), recall (r) and f-score (f) are calculated using the typical definitions:\n",
    "\n",
    "    p=tp/(tp+fp)\n",
    "    r=tp/(tp+fn)\n",
    "    f=(2∙p∙r)/(p+r)\n",
    "    \"\"\"\n",
    "    \n",
    "    tp = gold & predict\n",
    "    fp = predict - gold\n",
    "    fn = gold - predict\n",
    "    \n",
    "    precision = len(tp) / (len(tp) + len(fp))\n",
    "    recall = len(tp) / (len(tp) + len(fn))\n",
    "    f1 = F_score(precision, recall)\n",
    "    \n",
    "    return (precision, recall, f1)"
   ]
  },
  {
   "cell_type": "code",
   "execution_count": 12,
   "metadata": {
    "collapsed": true
   },
   "outputs": [],
   "source": [
    "def parse_annots(papers):\n",
    "    ans = set()\n",
    "    for pmid, paper in papers.items():\n",
    "        for annot in paper.annotations:\n",
    "            ans.add((pmid, annot))\n",
    "            \n",
    "    return ans"
   ]
  },
  {
   "cell_type": "code",
   "execution_count": 13,
   "metadata": {
    "collapsed": false
   },
   "outputs": [
    {
     "data": {
      "text/plain": [
       "(0.9313371192565824, 0.9069884364002011, 0.9190015282730515)"
      ]
     },
     "execution_count": 13,
     "metadata": {},
     "output_type": "execute_result"
    }
   ],
   "source": [
    "predict = parse_annots(dev_testset)\n",
    "temp = {pmid: paper for pmid, paper in dev_gold.items() if pmid in testset_pmids}\n",
    "gold = parse_annots(temp)\n",
    "\n",
    "performance(gold, predict)"
   ]
  },
  {
   "cell_type": "markdown",
   "metadata": {},
   "source": [
    "---"
   ]
  },
  {
   "cell_type": "markdown",
   "metadata": {},
   "source": [
    "### Abstract-level task performance:"
   ]
  },
  {
   "cell_type": "code",
   "execution_count": 14,
   "metadata": {
    "collapsed": false
   },
   "outputs": [],
   "source": [
    "settings = {\n",
    "    \"loc\": os.path.abspath(os.path.join(\"..\", \"data\", \"crowdflower\", \"results\")),\n",
    "    \"fname\": \"job_771158_full_with_untrusted.csv\",\n",
    "    \"data_subset\": \"normal\",\n",
    "    \"min_accuracy\": 0.7,\n",
    "    \"max_accuracy\": 1.0,\n",
    "    \"dtype\": {}\n",
    "}\n",
    "\n",
    "abs_work_raw_data = filter_data(settings)"
   ]
  },
  {
   "cell_type": "code",
   "execution_count": 15,
   "metadata": {
    "collapsed": false
   },
   "outputs": [
    {
     "data": {
      "text/plain": [
       "(2700, 30)"
      ]
     },
     "execution_count": 15,
     "metadata": {},
     "output_type": "execute_result"
    }
   ],
   "source": [
    "abs_work_raw_data.shape"
   ]
  },
  {
   "cell_type": "code",
   "execution_count": 16,
   "metadata": {
    "collapsed": false
   },
   "outputs": [
    {
     "data": {
      "text/html": [
       "<div>\n",
       "<table border=\"1\" class=\"dataframe\">\n",
       "  <thead>\n",
       "    <tr style=\"text-align: right;\">\n",
       "      <th></th>\n",
       "      <th>_unit_id</th>\n",
       "      <th>_created_at</th>\n",
       "      <th>_golden</th>\n",
       "      <th>_id</th>\n",
       "      <th>_missed</th>\n",
       "      <th>_started_at</th>\n",
       "      <th>_tainted</th>\n",
       "      <th>_channel</th>\n",
       "      <th>_trust</th>\n",
       "      <th>_worker_id</th>\n",
       "      <th>...</th>\n",
       "      <th>disease_id</th>\n",
       "      <th>disease_name</th>\n",
       "      <th>form_abstract</th>\n",
       "      <th>form_title</th>\n",
       "      <th>old_cf_work_unit_id</th>\n",
       "      <th>original_job_id</th>\n",
       "      <th>pmid</th>\n",
       "      <th>uniq_id</th>\n",
       "      <th>verify_relationship_gold</th>\n",
       "      <th>verify_relationship_gold_reason</th>\n",
       "    </tr>\n",
       "  </thead>\n",
       "  <tbody>\n",
       "    <tr>\n",
       "      <th>1381</th>\n",
       "      <td>778101077</td>\n",
       "      <td>8/26/2015 05:16:59</td>\n",
       "      <td>False</td>\n",
       "      <td>1721349910</td>\n",
       "      <td>NaN</td>\n",
       "      <td>8/26/2015 05:15:54</td>\n",
       "      <td>False</td>\n",
       "      <td>neodev</td>\n",
       "      <td>0.9091</td>\n",
       "      <td>27790533</td>\n",
       "      <td>...</td>\n",
       "      <td>MESH:D015746</td>\n",
       "      <td>&lt;span class=\"disease\"&gt;abdominal pain&lt;/span&gt;</td>\n",
       "      <td>&lt;p&gt;BACKGROUND: Irritable bowel syndrome is a c...</td>\n",
       "      <td>Effects of &lt;span class=\"chemical\"&gt;cisapride&lt;/s...</td>\n",
       "      <td>NaN</td>\n",
       "      <td>NaN</td>\n",
       "      <td>9669632</td>\n",
       "      <td>bcv_devset_test_100_hard_0</td>\n",
       "      <td>NaN</td>\n",
       "      <td>NaN</td>\n",
       "    </tr>\n",
       "    <tr>\n",
       "      <th>1382</th>\n",
       "      <td>778101077</td>\n",
       "      <td>8/26/2015 05:18:02</td>\n",
       "      <td>False</td>\n",
       "      <td>1721350185</td>\n",
       "      <td>NaN</td>\n",
       "      <td>8/26/2015 05:16:52</td>\n",
       "      <td>False</td>\n",
       "      <td>clixsense</td>\n",
       "      <td>1.0000</td>\n",
       "      <td>17209680</td>\n",
       "      <td>...</td>\n",
       "      <td>MESH:D015746</td>\n",
       "      <td>&lt;span class=\"disease\"&gt;abdominal pain&lt;/span&gt;</td>\n",
       "      <td>&lt;p&gt;BACKGROUND: Irritable bowel syndrome is a c...</td>\n",
       "      <td>Effects of &lt;span class=\"chemical\"&gt;cisapride&lt;/s...</td>\n",
       "      <td>NaN</td>\n",
       "      <td>NaN</td>\n",
       "      <td>9669632</td>\n",
       "      <td>bcv_devset_test_100_hard_0</td>\n",
       "      <td>NaN</td>\n",
       "      <td>NaN</td>\n",
       "    </tr>\n",
       "    <tr>\n",
       "      <th>1383</th>\n",
       "      <td>778101077</td>\n",
       "      <td>8/26/2015 05:21:32</td>\n",
       "      <td>False</td>\n",
       "      <td>1721351833</td>\n",
       "      <td>NaN</td>\n",
       "      <td>8/26/2015 05:16:52</td>\n",
       "      <td>False</td>\n",
       "      <td>neodev</td>\n",
       "      <td>0.8400</td>\n",
       "      <td>33870718</td>\n",
       "      <td>...</td>\n",
       "      <td>MESH:D015746</td>\n",
       "      <td>&lt;span class=\"disease\"&gt;abdominal pain&lt;/span&gt;</td>\n",
       "      <td>&lt;p&gt;BACKGROUND: Irritable bowel syndrome is a c...</td>\n",
       "      <td>Effects of &lt;span class=\"chemical\"&gt;cisapride&lt;/s...</td>\n",
       "      <td>NaN</td>\n",
       "      <td>NaN</td>\n",
       "      <td>9669632</td>\n",
       "      <td>bcv_devset_test_100_hard_0</td>\n",
       "      <td>NaN</td>\n",
       "      <td>NaN</td>\n",
       "    </tr>\n",
       "    <tr>\n",
       "      <th>1384</th>\n",
       "      <td>778101077</td>\n",
       "      <td>8/26/2015 05:22:09</td>\n",
       "      <td>False</td>\n",
       "      <td>1721352160</td>\n",
       "      <td>NaN</td>\n",
       "      <td>8/26/2015 05:16:24</td>\n",
       "      <td>False</td>\n",
       "      <td>neodev</td>\n",
       "      <td>0.9231</td>\n",
       "      <td>33498392</td>\n",
       "      <td>...</td>\n",
       "      <td>MESH:D015746</td>\n",
       "      <td>&lt;span class=\"disease\"&gt;abdominal pain&lt;/span&gt;</td>\n",
       "      <td>&lt;p&gt;BACKGROUND: Irritable bowel syndrome is a c...</td>\n",
       "      <td>Effects of &lt;span class=\"chemical\"&gt;cisapride&lt;/s...</td>\n",
       "      <td>NaN</td>\n",
       "      <td>NaN</td>\n",
       "      <td>9669632</td>\n",
       "      <td>bcv_devset_test_100_hard_0</td>\n",
       "      <td>NaN</td>\n",
       "      <td>NaN</td>\n",
       "    </tr>\n",
       "    <tr>\n",
       "      <th>1385</th>\n",
       "      <td>778101077</td>\n",
       "      <td>8/26/2015 05:23:38</td>\n",
       "      <td>False</td>\n",
       "      <td>1721353023</td>\n",
       "      <td>NaN</td>\n",
       "      <td>8/26/2015 05:16:40</td>\n",
       "      <td>False</td>\n",
       "      <td>clixsense</td>\n",
       "      <td>0.8000</td>\n",
       "      <td>17652709</td>\n",
       "      <td>...</td>\n",
       "      <td>MESH:D015746</td>\n",
       "      <td>&lt;span class=\"disease\"&gt;abdominal pain&lt;/span&gt;</td>\n",
       "      <td>&lt;p&gt;BACKGROUND: Irritable bowel syndrome is a c...</td>\n",
       "      <td>Effects of &lt;span class=\"chemical\"&gt;cisapride&lt;/s...</td>\n",
       "      <td>NaN</td>\n",
       "      <td>NaN</td>\n",
       "      <td>9669632</td>\n",
       "      <td>bcv_devset_test_100_hard_0</td>\n",
       "      <td>NaN</td>\n",
       "      <td>NaN</td>\n",
       "    </tr>\n",
       "  </tbody>\n",
       "</table>\n",
       "<p>5 rows × 30 columns</p>\n",
       "</div>"
      ],
      "text/plain": [
       "       _unit_id         _created_at _golden         _id _missed  \\\n",
       "1381  778101077  8/26/2015 05:16:59   False  1721349910     NaN   \n",
       "1382  778101077  8/26/2015 05:18:02   False  1721350185     NaN   \n",
       "1383  778101077  8/26/2015 05:21:32   False  1721351833     NaN   \n",
       "1384  778101077  8/26/2015 05:22:09   False  1721352160     NaN   \n",
       "1385  778101077  8/26/2015 05:23:38   False  1721353023     NaN   \n",
       "\n",
       "             _started_at _tainted   _channel  _trust  _worker_id  \\\n",
       "1381  8/26/2015 05:15:54    False     neodev  0.9091    27790533   \n",
       "1382  8/26/2015 05:16:52    False  clixsense  1.0000    17209680   \n",
       "1383  8/26/2015 05:16:52    False     neodev  0.8400    33870718   \n",
       "1384  8/26/2015 05:16:24    False     neodev  0.9231    33498392   \n",
       "1385  8/26/2015 05:16:40    False  clixsense  0.8000    17652709   \n",
       "\n",
       "                   ...                  disease_id  \\\n",
       "1381               ...                MESH:D015746   \n",
       "1382               ...                MESH:D015746   \n",
       "1383               ...                MESH:D015746   \n",
       "1384               ...                MESH:D015746   \n",
       "1385               ...                MESH:D015746   \n",
       "\n",
       "                                     disease_name  \\\n",
       "1381  <span class=\"disease\">abdominal pain</span>   \n",
       "1382  <span class=\"disease\">abdominal pain</span>   \n",
       "1383  <span class=\"disease\">abdominal pain</span>   \n",
       "1384  <span class=\"disease\">abdominal pain</span>   \n",
       "1385  <span class=\"disease\">abdominal pain</span>   \n",
       "\n",
       "                                          form_abstract  \\\n",
       "1381  <p>BACKGROUND: Irritable bowel syndrome is a c...   \n",
       "1382  <p>BACKGROUND: Irritable bowel syndrome is a c...   \n",
       "1383  <p>BACKGROUND: Irritable bowel syndrome is a c...   \n",
       "1384  <p>BACKGROUND: Irritable bowel syndrome is a c...   \n",
       "1385  <p>BACKGROUND: Irritable bowel syndrome is a c...   \n",
       "\n",
       "                                             form_title  old_cf_work_unit_id  \\\n",
       "1381  Effects of <span class=\"chemical\">cisapride</s...                  NaN   \n",
       "1382  Effects of <span class=\"chemical\">cisapride</s...                  NaN   \n",
       "1383  Effects of <span class=\"chemical\">cisapride</s...                  NaN   \n",
       "1384  Effects of <span class=\"chemical\">cisapride</s...                  NaN   \n",
       "1385  Effects of <span class=\"chemical\">cisapride</s...                  NaN   \n",
       "\n",
       "     original_job_id     pmid                     uniq_id  \\\n",
       "1381             NaN  9669632  bcv_devset_test_100_hard_0   \n",
       "1382             NaN  9669632  bcv_devset_test_100_hard_0   \n",
       "1383             NaN  9669632  bcv_devset_test_100_hard_0   \n",
       "1384             NaN  9669632  bcv_devset_test_100_hard_0   \n",
       "1385             NaN  9669632  bcv_devset_test_100_hard_0   \n",
       "\n",
       "     verify_relationship_gold verify_relationship_gold_reason  \n",
       "1381                      NaN                             NaN  \n",
       "1382                      NaN                             NaN  \n",
       "1383                      NaN                             NaN  \n",
       "1384                      NaN                             NaN  \n",
       "1385                      NaN                             NaN  \n",
       "\n",
       "[5 rows x 30 columns]"
      ]
     },
     "execution_count": 16,
     "metadata": {},
     "output_type": "execute_result"
    }
   ],
   "source": [
    "abs_work_raw_data.head()"
   ]
  },
  {
   "cell_type": "code",
   "execution_count": 17,
   "metadata": {
    "collapsed": false
   },
   "outputs": [
    {
     "data": {
      "text/plain": [
       "False    2700\n",
       "dtype: int64"
      ]
     },
     "execution_count": 17,
     "metadata": {},
     "output_type": "execute_result"
    }
   ],
   "source": [
    "abs_work_raw_data[\"_tainted\"].value_counts()"
   ]
  },
  {
   "cell_type": "code",
   "execution_count": 18,
   "metadata": {
    "collapsed": false
   },
   "outputs": [
    {
     "data": {
      "text/plain": [
       "no_relation    0.716667\n",
       "yes_direct     0.283333\n",
       "dtype: float64"
      ]
     },
     "execution_count": 18,
     "metadata": {},
     "output_type": "execute_result"
    }
   ],
   "source": [
    "abs_work_raw_data[\"verify_relationship\"].value_counts(normalize = True)"
   ]
  },
  {
   "cell_type": "code",
   "execution_count": 19,
   "metadata": {
    "collapsed": true
   },
   "outputs": [],
   "source": [
    "def judgments(dataframe):\n",
    "    votes = defaultdict(set)\n",
    "    for uniq_id, group in dataframe.groupby(\"uniq_id\"):\n",
    "        votes[len(group[\"_worker_id\"].unique())].add(uniq_id)\n",
    "\n",
    "    for vote, units in votes.items():\n",
    "        print(\"Judgements {0}, # of work units: {1}\".format(vote, len(units)))"
   ]
  },
  {
   "cell_type": "code",
   "execution_count": 20,
   "metadata": {
    "collapsed": false
   },
   "outputs": [
    {
     "name": "stdout",
     "output_type": "stream",
     "text": [
      "Judgements 5, # of work units: 540\n"
     ]
    }
   ],
   "source": [
    "judgments(abs_work_raw_data)"
   ]
  },
  {
   "cell_type": "markdown",
   "metadata": {},
   "source": [
    "### Abstract-task result aggregation"
   ]
  },
  {
   "cell_type": "code",
   "execution_count": 21,
   "metadata": {
    "collapsed": true
   },
   "outputs": [],
   "source": [
    "abs_res = aggregate_results(\"uniq_id\", \"verify_relationship\", abs_work_raw_data,\n",
    "                        \"positive_signal_only\",\n",
    "                        [\"pmid\", \"_unit_id\", \"chemical_id\", \"disease_id\"],\n",
    "                        \"yes_direct\")"
   ]
  },
  {
   "cell_type": "code",
   "execution_count": 22,
   "metadata": {
    "collapsed": false
   },
   "outputs": [
    {
     "data": {
      "text/plain": [
       "(1046, 9)"
      ]
     },
     "execution_count": 22,
     "metadata": {},
     "output_type": "execute_result"
    }
   ],
   "source": [
    "abs_res.shape"
   ]
  },
  {
   "cell_type": "code",
   "execution_count": 23,
   "metadata": {
    "collapsed": false
   },
   "outputs": [
    {
     "data": {
      "text/html": [
       "<div>\n",
       "<table border=\"1\" class=\"dataframe\">\n",
       "  <thead>\n",
       "    <tr style=\"text-align: right;\">\n",
       "      <th></th>\n",
       "      <th>uniq_id</th>\n",
       "      <th>verify_relationship</th>\n",
       "      <th>conf_score</th>\n",
       "      <th>num_votes</th>\n",
       "      <th>percent_agree</th>\n",
       "      <th>pmid</th>\n",
       "      <th>unit_id</th>\n",
       "      <th>chemical_id</th>\n",
       "      <th>disease_id</th>\n",
       "    </tr>\n",
       "  </thead>\n",
       "  <tbody>\n",
       "    <tr>\n",
       "      <th>1</th>\n",
       "      <td>bcv_devset_test_100_hard_0</td>\n",
       "      <td>yes_direct</td>\n",
       "      <td>0.9091</td>\n",
       "      <td>1</td>\n",
       "      <td>0.203278</td>\n",
       "      <td>9669632</td>\n",
       "      <td>778101077</td>\n",
       "      <td>MESH:D020117</td>\n",
       "      <td>MESH:D015746</td>\n",
       "    </tr>\n",
       "    <tr>\n",
       "      <th>0</th>\n",
       "      <td>bcv_devset_test_100_hard_0</td>\n",
       "      <td>no_relation</td>\n",
       "      <td>3.5631</td>\n",
       "      <td>4</td>\n",
       "      <td>0.796722</td>\n",
       "      <td>9669632</td>\n",
       "      <td>778101077</td>\n",
       "      <td>MESH:D020117</td>\n",
       "      <td>MESH:D015746</td>\n",
       "    </tr>\n",
       "    <tr>\n",
       "      <th>1</th>\n",
       "      <td>bcv_devset_test_100_hard_1</td>\n",
       "      <td>yes_direct</td>\n",
       "      <td>1.9091</td>\n",
       "      <td>2</td>\n",
       "      <td>0.423201</td>\n",
       "      <td>9669632</td>\n",
       "      <td>778101078</td>\n",
       "      <td>MESH:D020117</td>\n",
       "      <td>MESH:D005767</td>\n",
       "    </tr>\n",
       "    <tr>\n",
       "      <th>0</th>\n",
       "      <td>bcv_devset_test_100_hard_1</td>\n",
       "      <td>no_relation</td>\n",
       "      <td>2.6020</td>\n",
       "      <td>3</td>\n",
       "      <td>0.576799</td>\n",
       "      <td>9669632</td>\n",
       "      <td>778101078</td>\n",
       "      <td>MESH:D020117</td>\n",
       "      <td>MESH:D005767</td>\n",
       "    </tr>\n",
       "    <tr>\n",
       "      <th>0</th>\n",
       "      <td>bcv_devset_test_100_hard_10</td>\n",
       "      <td>yes_direct</td>\n",
       "      <td>0.0000</td>\n",
       "      <td>0</td>\n",
       "      <td>0.000000</td>\n",
       "      <td>7880714</td>\n",
       "      <td>778101087</td>\n",
       "      <td>MESH:D002045</td>\n",
       "      <td>MESH:D006311</td>\n",
       "    </tr>\n",
       "  </tbody>\n",
       "</table>\n",
       "</div>"
      ],
      "text/plain": [
       "                       uniq_id verify_relationship  conf_score  num_votes  \\\n",
       "1   bcv_devset_test_100_hard_0          yes_direct      0.9091          1   \n",
       "0   bcv_devset_test_100_hard_0         no_relation      3.5631          4   \n",
       "1   bcv_devset_test_100_hard_1          yes_direct      1.9091          2   \n",
       "0   bcv_devset_test_100_hard_1         no_relation      2.6020          3   \n",
       "0  bcv_devset_test_100_hard_10          yes_direct      0.0000          0   \n",
       "\n",
       "   percent_agree     pmid    unit_id   chemical_id    disease_id  \n",
       "1       0.203278  9669632  778101077  MESH:D020117  MESH:D015746  \n",
       "0       0.796722  9669632  778101077  MESH:D020117  MESH:D015746  \n",
       "1       0.423201  9669632  778101078  MESH:D020117  MESH:D005767  \n",
       "0       0.576799  9669632  778101078  MESH:D020117  MESH:D005767  \n",
       "0       0.000000  7880714  778101087  MESH:D002045  MESH:D006311  "
      ]
     },
     "execution_count": 23,
     "metadata": {},
     "output_type": "execute_result"
    }
   ],
   "source": [
    "abs_res.head()"
   ]
  },
  {
   "cell_type": "code",
   "execution_count": 24,
   "metadata": {
    "collapsed": true
   },
   "outputs": [],
   "source": [
    "abs_res = abs_res.query(\"verify_relationship == 'yes_direct'\")"
   ]
  },
  {
   "cell_type": "code",
   "execution_count": 25,
   "metadata": {
    "collapsed": false
   },
   "outputs": [
    {
     "data": {
      "text/plain": [
       "(540, 9)"
      ]
     },
     "execution_count": 25,
     "metadata": {},
     "output_type": "execute_result"
    }
   ],
   "source": [
    "abs_res.shape"
   ]
  },
  {
   "cell_type": "code",
   "execution_count": 26,
   "metadata": {
    "collapsed": true
   },
   "outputs": [],
   "source": [
    "abs_res = abs_res.rename(columns = {\"percent_agree\":\"norm_conf_score\"})"
   ]
  },
  {
   "cell_type": "code",
   "execution_count": 27,
   "metadata": {
    "collapsed": false
   },
   "outputs": [
    {
     "data": {
      "text/html": [
       "<div>\n",
       "<table border=\"1\" class=\"dataframe\">\n",
       "  <thead>\n",
       "    <tr style=\"text-align: right;\">\n",
       "      <th></th>\n",
       "      <th>uniq_id</th>\n",
       "      <th>verify_relationship</th>\n",
       "      <th>conf_score</th>\n",
       "      <th>num_votes</th>\n",
       "      <th>norm_conf_score</th>\n",
       "      <th>pmid</th>\n",
       "      <th>unit_id</th>\n",
       "      <th>chemical_id</th>\n",
       "      <th>disease_id</th>\n",
       "    </tr>\n",
       "  </thead>\n",
       "  <tbody>\n",
       "    <tr>\n",
       "      <th>1</th>\n",
       "      <td>bcv_devset_test_100_hard_0</td>\n",
       "      <td>yes_direct</td>\n",
       "      <td>0.9091</td>\n",
       "      <td>1</td>\n",
       "      <td>0.203278</td>\n",
       "      <td>9669632</td>\n",
       "      <td>778101077</td>\n",
       "      <td>MESH:D020117</td>\n",
       "      <td>MESH:D015746</td>\n",
       "    </tr>\n",
       "    <tr>\n",
       "      <th>1</th>\n",
       "      <td>bcv_devset_test_100_hard_1</td>\n",
       "      <td>yes_direct</td>\n",
       "      <td>1.9091</td>\n",
       "      <td>2</td>\n",
       "      <td>0.423201</td>\n",
       "      <td>9669632</td>\n",
       "      <td>778101078</td>\n",
       "      <td>MESH:D020117</td>\n",
       "      <td>MESH:D005767</td>\n",
       "    </tr>\n",
       "    <tr>\n",
       "      <th>0</th>\n",
       "      <td>bcv_devset_test_100_hard_10</td>\n",
       "      <td>yes_direct</td>\n",
       "      <td>0.0000</td>\n",
       "      <td>0</td>\n",
       "      <td>0.000000</td>\n",
       "      <td>7880714</td>\n",
       "      <td>778101087</td>\n",
       "      <td>MESH:D002045</td>\n",
       "      <td>MESH:D006311</td>\n",
       "    </tr>\n",
       "    <tr>\n",
       "      <th>0</th>\n",
       "      <td>bcv_devset_test_100_hard_100</td>\n",
       "      <td>yes_direct</td>\n",
       "      <td>0.0000</td>\n",
       "      <td>0</td>\n",
       "      <td>0.000000</td>\n",
       "      <td>19370593</td>\n",
       "      <td>778101177</td>\n",
       "      <td>MESH:D011372</td>\n",
       "      <td>MESH:D002318</td>\n",
       "    </tr>\n",
       "    <tr>\n",
       "      <th>0</th>\n",
       "      <td>bcv_devset_test_100_hard_101</td>\n",
       "      <td>yes_direct</td>\n",
       "      <td>0.0000</td>\n",
       "      <td>0</td>\n",
       "      <td>0.000000</td>\n",
       "      <td>19370593</td>\n",
       "      <td>778101178</td>\n",
       "      <td>MESH:D011372</td>\n",
       "      <td>MESH:D050723</td>\n",
       "    </tr>\n",
       "  </tbody>\n",
       "</table>\n",
       "</div>"
      ],
      "text/plain": [
       "                        uniq_id verify_relationship  conf_score  num_votes  \\\n",
       "1    bcv_devset_test_100_hard_0          yes_direct      0.9091          1   \n",
       "1    bcv_devset_test_100_hard_1          yes_direct      1.9091          2   \n",
       "0   bcv_devset_test_100_hard_10          yes_direct      0.0000          0   \n",
       "0  bcv_devset_test_100_hard_100          yes_direct      0.0000          0   \n",
       "0  bcv_devset_test_100_hard_101          yes_direct      0.0000          0   \n",
       "\n",
       "   norm_conf_score      pmid    unit_id   chemical_id    disease_id  \n",
       "1         0.203278   9669632  778101077  MESH:D020117  MESH:D015746  \n",
       "1         0.423201   9669632  778101078  MESH:D020117  MESH:D005767  \n",
       "0         0.000000   7880714  778101087  MESH:D002045  MESH:D006311  \n",
       "0         0.000000  19370593  778101177  MESH:D011372  MESH:D002318  \n",
       "0         0.000000  19370593  778101178  MESH:D011372  MESH:D050723  "
      ]
     },
     "execution_count": 27,
     "metadata": {},
     "output_type": "execute_result"
    }
   ],
   "source": [
    "abs_res.head()"
   ]
  },
  {
   "cell_type": "markdown",
   "metadata": {},
   "source": [
    "---"
   ]
  },
  {
   "cell_type": "markdown",
   "metadata": {},
   "source": [
    "### Sentence task performance:"
   ]
  },
  {
   "cell_type": "code",
   "execution_count": 28,
   "metadata": {
    "collapsed": false
   },
   "outputs": [],
   "source": [
    "settings = {\n",
    "    \"loc\": os.path.abspath(os.path.join(\"..\", \"data\", \"crowdflower\", \"results\")),\n",
    "    \"fname\": \"job_771159_full_with_untrusted.csv\",\n",
    "    \"data_subset\": \"normal\",\n",
    "    \"min_accuracy\": 0.7,\n",
    "    \"max_accuracy\": 1.0,\n",
    "    \"dtype\": {}\n",
    "}\n",
    "\n",
    "sent_raw_data = filter_data(settings)"
   ]
  },
  {
   "cell_type": "code",
   "execution_count": 29,
   "metadata": {
    "collapsed": false
   },
   "outputs": [
    {
     "data": {
      "text/plain": [
       "(3300, 30)"
      ]
     },
     "execution_count": 29,
     "metadata": {},
     "output_type": "execute_result"
    }
   ],
   "source": [
    "sent_raw_data.shape"
   ]
  },
  {
   "cell_type": "code",
   "execution_count": 30,
   "metadata": {
    "collapsed": false
   },
   "outputs": [
    {
     "data": {
      "text/plain": [
       "False    3245\n",
       "True       55\n",
       "dtype: int64"
      ]
     },
     "execution_count": 30,
     "metadata": {},
     "output_type": "execute_result"
    }
   ],
   "source": [
    "sent_raw_data[\"_tainted\"].value_counts()"
   ]
  },
  {
   "cell_type": "code",
   "execution_count": 31,
   "metadata": {
    "collapsed": true
   },
   "outputs": [],
   "source": [
    "sent_raw_data = sent_raw_data.query(\"~_tainted\")"
   ]
  },
  {
   "cell_type": "code",
   "execution_count": 32,
   "metadata": {
    "collapsed": false
   },
   "outputs": [
    {
     "data": {
      "text/plain": [
       "(3245, 30)"
      ]
     },
     "execution_count": 32,
     "metadata": {},
     "output_type": "execute_result"
    }
   ],
   "source": [
    "sent_raw_data.shape"
   ]
  },
  {
   "cell_type": "code",
   "execution_count": 33,
   "metadata": {
    "collapsed": false
   },
   "outputs": [
    {
     "name": "stdout",
     "output_type": "stream",
     "text": [
      "Judgements 5, # of work units: 649\n"
     ]
    }
   ],
   "source": [
    "judgments(sent_raw_data)"
   ]
  },
  {
   "cell_type": "markdown",
   "metadata": {},
   "source": [
    "### Aggregate results at sentence level:"
   ]
  },
  {
   "cell_type": "code",
   "execution_count": 34,
   "metadata": {
    "collapsed": false
   },
   "outputs": [],
   "source": [
    "# take positive votes only, indirect is no\n",
    "sent_lvl_res = aggregate_results(\"uniq_id\", \"verify_relationship\",\n",
    "                                 sent_raw_data, \"positive_signal_only\",\n",
    "                                 [\"pmid\", \"_unit_id\", \"chemical_id\", \"disease_id\", \"relation_pair_id\", \"sentence_id\"],\n",
    "                                 \"yes_direct\", {\"yes_indirect\" : \"no_relation\"})"
   ]
  },
  {
   "cell_type": "code",
   "execution_count": 35,
   "metadata": {
    "collapsed": false
   },
   "outputs": [
    {
     "data": {
      "text/plain": [
       "(1159, 11)"
      ]
     },
     "execution_count": 35,
     "metadata": {},
     "output_type": "execute_result"
    }
   ],
   "source": [
    "sent_lvl_res.shape"
   ]
  },
  {
   "cell_type": "code",
   "execution_count": 36,
   "metadata": {
    "collapsed": false,
    "scrolled": true
   },
   "outputs": [
    {
     "data": {
      "text/html": [
       "<div>\n",
       "<table border=\"1\" class=\"dataframe\">\n",
       "  <thead>\n",
       "    <tr style=\"text-align: right;\">\n",
       "      <th></th>\n",
       "      <th>uniq_id</th>\n",
       "      <th>verify_relationship</th>\n",
       "      <th>conf_score</th>\n",
       "      <th>num_votes</th>\n",
       "      <th>percent_agree</th>\n",
       "      <th>pmid</th>\n",
       "      <th>unit_id</th>\n",
       "      <th>chemical_id</th>\n",
       "      <th>disease_id</th>\n",
       "      <th>relation_pair_id</th>\n",
       "      <th>sentence_id</th>\n",
       "    </tr>\n",
       "  </thead>\n",
       "  <tbody>\n",
       "    <tr>\n",
       "      <th>1</th>\n",
       "      <td>bcv_devset_test_100_easy_0</td>\n",
       "      <td>yes_direct</td>\n",
       "      <td>1.7002</td>\n",
       "      <td>2</td>\n",
       "      <td>0.367611</td>\n",
       "      <td>9669632</td>\n",
       "      <td>778102225</td>\n",
       "      <td>MESH:D020117</td>\n",
       "      <td>MESH:D043183</td>\n",
       "      <td>9669632_MESH:D020117_MESH:D043183</td>\n",
       "      <td>9669632_0</td>\n",
       "    </tr>\n",
       "    <tr>\n",
       "      <th>0</th>\n",
       "      <td>bcv_devset_test_100_easy_0</td>\n",
       "      <td>no_relation</td>\n",
       "      <td>2.9248</td>\n",
       "      <td>3</td>\n",
       "      <td>0.632389</td>\n",
       "      <td>9669632</td>\n",
       "      <td>778102225</td>\n",
       "      <td>MESH:D020117</td>\n",
       "      <td>MESH:D043183</td>\n",
       "      <td>9669632_MESH:D020117_MESH:D043183</td>\n",
       "      <td>9669632_0</td>\n",
       "    </tr>\n",
       "    <tr>\n",
       "      <th>1</th>\n",
       "      <td>bcv_devset_test_100_easy_1</td>\n",
       "      <td>yes_direct</td>\n",
       "      <td>1.7002</td>\n",
       "      <td>2</td>\n",
       "      <td>0.378875</td>\n",
       "      <td>9669632</td>\n",
       "      <td>778102226</td>\n",
       "      <td>MESH:D020117</td>\n",
       "      <td>MESH:D043183</td>\n",
       "      <td>9669632_MESH:D020117_MESH:D043183</td>\n",
       "      <td>9669632_2</td>\n",
       "    </tr>\n",
       "    <tr>\n",
       "      <th>0</th>\n",
       "      <td>bcv_devset_test_100_easy_1</td>\n",
       "      <td>no_relation</td>\n",
       "      <td>2.7873</td>\n",
       "      <td>3</td>\n",
       "      <td>0.621125</td>\n",
       "      <td>9669632</td>\n",
       "      <td>778102226</td>\n",
       "      <td>MESH:D020117</td>\n",
       "      <td>MESH:D043183</td>\n",
       "      <td>9669632_MESH:D020117_MESH:D043183</td>\n",
       "      <td>9669632_2</td>\n",
       "    </tr>\n",
       "    <tr>\n",
       "      <th>1</th>\n",
       "      <td>bcv_devset_test_100_easy_10</td>\n",
       "      <td>yes_direct</td>\n",
       "      <td>1.8824</td>\n",
       "      <td>2</td>\n",
       "      <td>0.407808</td>\n",
       "      <td>9669632</td>\n",
       "      <td>778102235</td>\n",
       "      <td>MESH:D020117</td>\n",
       "      <td>MESH:D043183</td>\n",
       "      <td>9669632_MESH:D020117_MESH:D043183</td>\n",
       "      <td>9669632_9</td>\n",
       "    </tr>\n",
       "  </tbody>\n",
       "</table>\n",
       "</div>"
      ],
      "text/plain": [
       "                       uniq_id verify_relationship  conf_score  num_votes  \\\n",
       "1   bcv_devset_test_100_easy_0          yes_direct      1.7002          2   \n",
       "0   bcv_devset_test_100_easy_0         no_relation      2.9248          3   \n",
       "1   bcv_devset_test_100_easy_1          yes_direct      1.7002          2   \n",
       "0   bcv_devset_test_100_easy_1         no_relation      2.7873          3   \n",
       "1  bcv_devset_test_100_easy_10          yes_direct      1.8824          2   \n",
       "\n",
       "   percent_agree     pmid    unit_id   chemical_id    disease_id  \\\n",
       "1       0.367611  9669632  778102225  MESH:D020117  MESH:D043183   \n",
       "0       0.632389  9669632  778102225  MESH:D020117  MESH:D043183   \n",
       "1       0.378875  9669632  778102226  MESH:D020117  MESH:D043183   \n",
       "0       0.621125  9669632  778102226  MESH:D020117  MESH:D043183   \n",
       "1       0.407808  9669632  778102235  MESH:D020117  MESH:D043183   \n",
       "\n",
       "                    relation_pair_id sentence_id  \n",
       "1  9669632_MESH:D020117_MESH:D043183   9669632_0  \n",
       "0  9669632_MESH:D020117_MESH:D043183   9669632_0  \n",
       "1  9669632_MESH:D020117_MESH:D043183   9669632_2  \n",
       "0  9669632_MESH:D020117_MESH:D043183   9669632_2  \n",
       "1  9669632_MESH:D020117_MESH:D043183   9669632_9  "
      ]
     },
     "execution_count": 36,
     "metadata": {},
     "output_type": "execute_result"
    }
   ],
   "source": [
    "sent_lvl_res.head()"
   ]
  },
  {
   "cell_type": "code",
   "execution_count": 37,
   "metadata": {
    "collapsed": true
   },
   "outputs": [],
   "source": [
    "sent_lvl_res = sent_lvl_res.query(\"verify_relationship == 'yes_direct'\")"
   ]
  },
  {
   "cell_type": "code",
   "execution_count": 38,
   "metadata": {
    "collapsed": false
   },
   "outputs": [
    {
     "data": {
      "text/plain": [
       "(649, 11)"
      ]
     },
     "execution_count": 38,
     "metadata": {},
     "output_type": "execute_result"
    }
   ],
   "source": [
    "sent_lvl_res.shape"
   ]
  },
  {
   "cell_type": "code",
   "execution_count": 39,
   "metadata": {
    "collapsed": false
   },
   "outputs": [
    {
     "data": {
      "text/html": [
       "<div>\n",
       "<table border=\"1\" class=\"dataframe\">\n",
       "  <thead>\n",
       "    <tr style=\"text-align: right;\">\n",
       "      <th></th>\n",
       "      <th>uniq_id</th>\n",
       "      <th>verify_relationship</th>\n",
       "      <th>conf_score</th>\n",
       "      <th>num_votes</th>\n",
       "      <th>percent_agree</th>\n",
       "      <th>pmid</th>\n",
       "      <th>unit_id</th>\n",
       "      <th>chemical_id</th>\n",
       "      <th>disease_id</th>\n",
       "      <th>relation_pair_id</th>\n",
       "      <th>sentence_id</th>\n",
       "    </tr>\n",
       "  </thead>\n",
       "  <tbody>\n",
       "    <tr>\n",
       "      <th>1</th>\n",
       "      <td>bcv_devset_test_100_easy_0</td>\n",
       "      <td>yes_direct</td>\n",
       "      <td>1.7002</td>\n",
       "      <td>2</td>\n",
       "      <td>0.367611</td>\n",
       "      <td>9669632</td>\n",
       "      <td>778102225</td>\n",
       "      <td>MESH:D020117</td>\n",
       "      <td>MESH:D043183</td>\n",
       "      <td>9669632_MESH:D020117_MESH:D043183</td>\n",
       "      <td>9669632_0</td>\n",
       "    </tr>\n",
       "    <tr>\n",
       "      <th>1</th>\n",
       "      <td>bcv_devset_test_100_easy_1</td>\n",
       "      <td>yes_direct</td>\n",
       "      <td>1.7002</td>\n",
       "      <td>2</td>\n",
       "      <td>0.378875</td>\n",
       "      <td>9669632</td>\n",
       "      <td>778102226</td>\n",
       "      <td>MESH:D020117</td>\n",
       "      <td>MESH:D043183</td>\n",
       "      <td>9669632_MESH:D020117_MESH:D043183</td>\n",
       "      <td>9669632_2</td>\n",
       "    </tr>\n",
       "    <tr>\n",
       "      <th>1</th>\n",
       "      <td>bcv_devset_test_100_easy_10</td>\n",
       "      <td>yes_direct</td>\n",
       "      <td>1.8824</td>\n",
       "      <td>2</td>\n",
       "      <td>0.407808</td>\n",
       "      <td>9669632</td>\n",
       "      <td>778102235</td>\n",
       "      <td>MESH:D020117</td>\n",
       "      <td>MESH:D043183</td>\n",
       "      <td>9669632_MESH:D020117_MESH:D043183</td>\n",
       "      <td>9669632_9</td>\n",
       "    </tr>\n",
       "    <tr>\n",
       "      <th>0</th>\n",
       "      <td>bcv_devset_test_100_easy_100</td>\n",
       "      <td>yes_direct</td>\n",
       "      <td>4.2931</td>\n",
       "      <td>5</td>\n",
       "      <td>1.000000</td>\n",
       "      <td>17682013</td>\n",
       "      <td>778102325</td>\n",
       "      <td>MESH:D008727</td>\n",
       "      <td>MESH:D056784</td>\n",
       "      <td>17682013_MESH:D008727_MESH:D056784</td>\n",
       "      <td>17682013_6</td>\n",
       "    </tr>\n",
       "    <tr>\n",
       "      <th>1</th>\n",
       "      <td>bcv_devset_test_100_easy_101</td>\n",
       "      <td>yes_direct</td>\n",
       "      <td>3.6849</td>\n",
       "      <td>4</td>\n",
       "      <td>0.815929</td>\n",
       "      <td>17682013</td>\n",
       "      <td>778102326</td>\n",
       "      <td>MESH:D005472</td>\n",
       "      <td>MESH:D056784</td>\n",
       "      <td>17682013_MESH:D005472_MESH:D056784</td>\n",
       "      <td>17682013_6</td>\n",
       "    </tr>\n",
       "  </tbody>\n",
       "</table>\n",
       "</div>"
      ],
      "text/plain": [
       "                        uniq_id verify_relationship  conf_score  num_votes  \\\n",
       "1    bcv_devset_test_100_easy_0          yes_direct      1.7002          2   \n",
       "1    bcv_devset_test_100_easy_1          yes_direct      1.7002          2   \n",
       "1   bcv_devset_test_100_easy_10          yes_direct      1.8824          2   \n",
       "0  bcv_devset_test_100_easy_100          yes_direct      4.2931          5   \n",
       "1  bcv_devset_test_100_easy_101          yes_direct      3.6849          4   \n",
       "\n",
       "   percent_agree      pmid    unit_id   chemical_id    disease_id  \\\n",
       "1       0.367611   9669632  778102225  MESH:D020117  MESH:D043183   \n",
       "1       0.378875   9669632  778102226  MESH:D020117  MESH:D043183   \n",
       "1       0.407808   9669632  778102235  MESH:D020117  MESH:D043183   \n",
       "0       1.000000  17682013  778102325  MESH:D008727  MESH:D056784   \n",
       "1       0.815929  17682013  778102326  MESH:D005472  MESH:D056784   \n",
       "\n",
       "                     relation_pair_id sentence_id  \n",
       "1   9669632_MESH:D020117_MESH:D043183   9669632_0  \n",
       "1   9669632_MESH:D020117_MESH:D043183   9669632_2  \n",
       "1   9669632_MESH:D020117_MESH:D043183   9669632_9  \n",
       "0  17682013_MESH:D008727_MESH:D056784  17682013_6  \n",
       "1  17682013_MESH:D005472_MESH:D056784  17682013_6  "
      ]
     },
     "execution_count": 39,
     "metadata": {},
     "output_type": "execute_result"
    }
   ],
   "source": [
    "sent_lvl_res.head()"
   ]
  },
  {
   "cell_type": "markdown",
   "metadata": {},
   "source": [
    "### Aggregate at abstract level:"
   ]
  },
  {
   "cell_type": "code",
   "execution_count": 40,
   "metadata": {
    "collapsed": true
   },
   "outputs": [],
   "source": [
    "def aggregate_sentences(sentence_res):\n",
    "    \"\"\"\n",
    "    Given the aggregated results at the individual work unit level,\n",
    "    this function determines which sentence-bound drug-disease relationships\n",
    "    are true at the abstract level.\n",
    "    \"\"\"\n",
    "    res = defaultdict(list)\n",
    "    for info, group in sentence_res.groupby([\"pmid\", \"chemical_id\", \"disease_id\"]):\n",
    "        assert len(group[\"relation_pair_id\"].unique()) == 1\n",
    "        norm_conf_score_max = group[\"percent_agree\"].max()\n",
    "        \n",
    "        res[\"pmid\"].append(info[0])\n",
    "        res[\"chemical_id\"].append(info[1])\n",
    "        res[\"disease_id\"].append(info[2])\n",
    "        \n",
    "        res[\"num_votes\"].append(group[\"num_votes\"].max())\n",
    "        res[\"norm_conf_score\"].append(norm_conf_score_max)\n",
    "        \n",
    "        res[\"uniq_ids\"].append(\"|\".join(group[\"uniq_id\"].unique()))\n",
    "        res[\"unit_ids\"].append(\"|\".join(map(lambda x: str(int(x)), group[\"unit_id\"].unique())))\n",
    "        res[\"sentence_ids\"].append(\"|\".join(group[\"sentence_id\"].unique()))\n",
    "        \n",
    "    return pd.DataFrame(res)"
   ]
  },
  {
   "cell_type": "code",
   "execution_count": 41,
   "metadata": {
    "collapsed": true
   },
   "outputs": [],
   "source": [
    "sent_perf_abs = aggregate_sentences(sent_lvl_res)"
   ]
  },
  {
   "cell_type": "code",
   "execution_count": 42,
   "metadata": {
    "collapsed": false
   },
   "outputs": [
    {
     "data": {
      "text/plain": [
       "(426, 8)"
      ]
     },
     "execution_count": 42,
     "metadata": {},
     "output_type": "execute_result"
    }
   ],
   "source": [
    "sent_perf_abs.shape"
   ]
  },
  {
   "cell_type": "code",
   "execution_count": 43,
   "metadata": {
    "collapsed": false
   },
   "outputs": [
    {
     "data": {
      "text/html": [
       "<div>\n",
       "<table border=\"1\" class=\"dataframe\">\n",
       "  <thead>\n",
       "    <tr style=\"text-align: right;\">\n",
       "      <th></th>\n",
       "      <th>chemical_id</th>\n",
       "      <th>disease_id</th>\n",
       "      <th>norm_conf_score</th>\n",
       "      <th>num_votes</th>\n",
       "      <th>pmid</th>\n",
       "      <th>sentence_ids</th>\n",
       "      <th>uniq_ids</th>\n",
       "      <th>unit_ids</th>\n",
       "    </tr>\n",
       "  </thead>\n",
       "  <tbody>\n",
       "    <tr>\n",
       "      <th>0</th>\n",
       "      <td>MESH:C017610</td>\n",
       "      <td>MESH:D010302</td>\n",
       "      <td>0.609304</td>\n",
       "      <td>3</td>\n",
       "      <td>33969</td>\n",
       "      <td>33969_1</td>\n",
       "      <td>bcv_devset_test_100_easy_279</td>\n",
       "      <td>778102504</td>\n",
       "    </tr>\n",
       "    <tr>\n",
       "      <th>1</th>\n",
       "      <td>MESH:C017610</td>\n",
       "      <td>MESH:D012559</td>\n",
       "      <td>0.000000</td>\n",
       "      <td>0</td>\n",
       "      <td>33969</td>\n",
       "      <td>33969_1</td>\n",
       "      <td>bcv_devset_test_100_easy_275</td>\n",
       "      <td>778102500</td>\n",
       "    </tr>\n",
       "    <tr>\n",
       "      <th>2</th>\n",
       "      <td>MESH:C084820</td>\n",
       "      <td>MESH:D001008</td>\n",
       "      <td>0.815284</td>\n",
       "      <td>4</td>\n",
       "      <td>33969</td>\n",
       "      <td>33969_3</td>\n",
       "      <td>bcv_devset_test_100_easy_285</td>\n",
       "      <td>778102510</td>\n",
       "    </tr>\n",
       "    <tr>\n",
       "      <th>3</th>\n",
       "      <td>MESH:C084820</td>\n",
       "      <td>MESH:D003866</td>\n",
       "      <td>0.225109</td>\n",
       "      <td>1</td>\n",
       "      <td>33969</td>\n",
       "      <td>33969_3</td>\n",
       "      <td>bcv_devset_test_100_easy_283</td>\n",
       "      <td>778102508</td>\n",
       "    </tr>\n",
       "    <tr>\n",
       "      <th>4</th>\n",
       "      <td>MESH:C084820</td>\n",
       "      <td>MESH:D004409</td>\n",
       "      <td>0.000000</td>\n",
       "      <td>0</td>\n",
       "      <td>33969</td>\n",
       "      <td>33969_3</td>\n",
       "      <td>bcv_devset_test_100_easy_284</td>\n",
       "      <td>778102509</td>\n",
       "    </tr>\n",
       "  </tbody>\n",
       "</table>\n",
       "</div>"
      ],
      "text/plain": [
       "    chemical_id    disease_id  norm_conf_score  num_votes   pmid sentence_ids  \\\n",
       "0  MESH:C017610  MESH:D010302         0.609304          3  33969      33969_1   \n",
       "1  MESH:C017610  MESH:D012559         0.000000          0  33969      33969_1   \n",
       "2  MESH:C084820  MESH:D001008         0.815284          4  33969      33969_3   \n",
       "3  MESH:C084820  MESH:D003866         0.225109          1  33969      33969_3   \n",
       "4  MESH:C084820  MESH:D004409         0.000000          0  33969      33969_3   \n",
       "\n",
       "                       uniq_ids   unit_ids  \n",
       "0  bcv_devset_test_100_easy_279  778102504  \n",
       "1  bcv_devset_test_100_easy_275  778102500  \n",
       "2  bcv_devset_test_100_easy_285  778102510  \n",
       "3  bcv_devset_test_100_easy_283  778102508  \n",
       "4  bcv_devset_test_100_easy_284  778102509  "
      ]
     },
     "execution_count": 43,
     "metadata": {},
     "output_type": "execute_result"
    }
   ],
   "source": [
    "sent_perf_abs.head()"
   ]
  },
  {
   "cell_type": "code",
   "execution_count": 44,
   "metadata": {
    "collapsed": true
   },
   "outputs": [],
   "source": [
    "loc = os.path.abspath(os.path.join(\"..\", \"data\", \"devset_100_test\", \"devset_100_cid_relations.pickle\"))\n",
    "with open(loc, \"rb\") as fin:\n",
    "    cid_relations = pickle.load(fin)"
   ]
  },
  {
   "cell_type": "markdown",
   "metadata": {},
   "source": [
    "### Combine results from all three tracks together:"
   ]
  },
  {
   "cell_type": "code",
   "execution_count": 45,
   "metadata": {
    "collapsed": true
   },
   "outputs": [],
   "source": [
    "def get_data(dataframe, pmid):\n",
    "    temp = dataframe.query(\"pmid == {0}\".format(pmid))\n",
    "    if temp.empty:\n",
    "        return \"empty\"\n",
    "    \n",
    "    return temp[[\"pmid\", \"chemical_id\", \"disease_id\", \"norm_conf_score\", \"num_votes\"]]\n",
    "\n",
    "def get_final_res(sent_res, abs_res, datamodel):\n",
    "    final_ans = []\n",
    "    for pmid in testset_pmids:\n",
    "        this_paper_rels = []\n",
    "        \n",
    "        # abstract relations\n",
    "        temp = get_data(abs_res, pmid)\n",
    "        if not isinstance(temp, str):\n",
    "            temp[\"rel_origin\"] = \"abstract_task\"\n",
    "            this_paper_rels.append(temp)\n",
    "            \n",
    "        # sentence relations\n",
    "        temp = get_data(sent_res, pmid)\n",
    "        if not isinstance(temp, str):\n",
    "            temp[\"rel_origin\"] = \"sentence_task\"\n",
    "            this_paper_rels.append(temp)\n",
    "            \n",
    "        things = defaultdict(list)\n",
    "        paper_cid_rels = datamodel[pmid].poss_relations[\"CID\"]\n",
    "        if paper_cid_rels: # not empty\n",
    "            for cid_relation in paper_cid_rels:\n",
    "                for chem in cid_relation[0]:\n",
    "                    for dise in cid_relation[1]:\n",
    "                        things[\"pmid\"].append(pmid)\n",
    "                        things[\"chemical_id\"].append(chem.flat_repr)\n",
    "                        things[\"disease_id\"].append(dise.flat_repr)\n",
    "                        things[\"norm_conf_score\"].append(1)\n",
    "                        things[\"num_votes\"].append(5)\n",
    "                        things[\"rel_origin\"].append(\"cid_relation\")\n",
    "                \n",
    "            this_paper_rels.append(pd.DataFrame(things))\n",
    "            \n",
    "        if len(this_paper_rels) > 0:\n",
    "            # some papers have no detectable relations (eg, pmid 250)\n",
    "            final_ans.append(pd.concat(this_paper_rels))\n",
    "        \n",
    "    return pd.concat(final_ans)"
   ]
  },
  {
   "cell_type": "code",
   "execution_count": 46,
   "metadata": {
    "collapsed": false
   },
   "outputs": [],
   "source": [
    "# check stored CID relations are the same as the parsed dataset's\n",
    "for pmid, paper in dev_testset.items():\n",
    "    assert paper.poss_relations[\"CID\"] == cid_relations[pmid]"
   ]
  },
  {
   "cell_type": "code",
   "execution_count": 47,
   "metadata": {
    "collapsed": false
   },
   "outputs": [],
   "source": [
    "final_res = get_final_res(sent_perf_abs, abs_res, dev_testset)"
   ]
  },
  {
   "cell_type": "code",
   "execution_count": 48,
   "metadata": {
    "collapsed": false,
    "scrolled": false
   },
   "outputs": [
    {
     "data": {
      "text/html": [
       "<div>\n",
       "<table border=\"1\" class=\"dataframe\">\n",
       "  <thead>\n",
       "    <tr style=\"text-align: right;\">\n",
       "      <th></th>\n",
       "      <th>chemical_id</th>\n",
       "      <th>disease_id</th>\n",
       "      <th>norm_conf_score</th>\n",
       "      <th>num_votes</th>\n",
       "      <th>pmid</th>\n",
       "      <th>rel_origin</th>\n",
       "    </tr>\n",
       "  </thead>\n",
       "  <tbody>\n",
       "    <tr>\n",
       "      <th>1</th>\n",
       "      <td>MESH:D020117</td>\n",
       "      <td>MESH:D015746</td>\n",
       "      <td>0.203278</td>\n",
       "      <td>1</td>\n",
       "      <td>9669632</td>\n",
       "      <td>abstract_task</td>\n",
       "    </tr>\n",
       "    <tr>\n",
       "      <th>1</th>\n",
       "      <td>MESH:D020117</td>\n",
       "      <td>MESH:D005767</td>\n",
       "      <td>0.423201</td>\n",
       "      <td>2</td>\n",
       "      <td>9669632</td>\n",
       "      <td>abstract_task</td>\n",
       "    </tr>\n",
       "    <tr>\n",
       "      <th>212</th>\n",
       "      <td>MESH:D020117</td>\n",
       "      <td>MESH:D003248</td>\n",
       "      <td>0.212550</td>\n",
       "      <td>1</td>\n",
       "      <td>9669632</td>\n",
       "      <td>sentence_task</td>\n",
       "    </tr>\n",
       "    <tr>\n",
       "      <th>213</th>\n",
       "      <td>MESH:D020117</td>\n",
       "      <td>MESH:D003967</td>\n",
       "      <td>0.377915</td>\n",
       "      <td>2</td>\n",
       "      <td>9669632</td>\n",
       "      <td>sentence_task</td>\n",
       "    </tr>\n",
       "    <tr>\n",
       "      <th>214</th>\n",
       "      <td>MESH:D020117</td>\n",
       "      <td>MESH:D010146</td>\n",
       "      <td>1.000000</td>\n",
       "      <td>5</td>\n",
       "      <td>9669632</td>\n",
       "      <td>sentence_task</td>\n",
       "    </tr>\n",
       "  </tbody>\n",
       "</table>\n",
       "</div>"
      ],
      "text/plain": [
       "      chemical_id    disease_id  norm_conf_score  num_votes     pmid  \\\n",
       "1    MESH:D020117  MESH:D015746         0.203278          1  9669632   \n",
       "1    MESH:D020117  MESH:D005767         0.423201          2  9669632   \n",
       "212  MESH:D020117  MESH:D003248         0.212550          1  9669632   \n",
       "213  MESH:D020117  MESH:D003967         0.377915          2  9669632   \n",
       "214  MESH:D020117  MESH:D010146         1.000000          5  9669632   \n",
       "\n",
       "        rel_origin  \n",
       "1    abstract_task  \n",
       "1    abstract_task  \n",
       "212  sentence_task  \n",
       "213  sentence_task  \n",
       "214  sentence_task  "
      ]
     },
     "execution_count": 48,
     "metadata": {},
     "output_type": "execute_result"
    }
   ],
   "source": [
    "final_res.head()"
   ]
  },
  {
   "cell_type": "markdown",
   "metadata": {},
   "source": [
    "# Evaluation using the official method"
   ]
  },
  {
   "cell_type": "code",
   "execution_count": 49,
   "metadata": {
    "collapsed": true
   },
   "outputs": [],
   "source": [
    "def simple_repr(id_set):\n",
    "    assert len(id_set) == 1\n",
    "    temp = sorted([ont_id.flat_repr for ont_id in id_set])\n",
    "    return \"|\".join(temp)\n",
    "\n",
    "def get_gold_rels(pmid_set, gold_std):\n",
    "    res = set()\n",
    "    for pmid in pmid_set:\n",
    "        paper = gold_std[pmid]\n",
    "        for rel in paper.gold_relations:\n",
    "            res.add((int(pmid), simple_repr(rel.chemical_id), simple_repr(rel.disease_id)))\n",
    "            \n",
    "    return res"
   ]
  },
  {
   "cell_type": "code",
   "execution_count": 50,
   "metadata": {
    "collapsed": false
   },
   "outputs": [],
   "source": [
    "gold_relations = get_gold_rels(dev_testset, dev_gold)"
   ]
  },
  {
   "cell_type": "code",
   "execution_count": 51,
   "metadata": {
    "collapsed": false
   },
   "outputs": [
    {
     "data": {
      "text/plain": [
       "{(33969, 'MESH:C017610', 'MESH:D010302'),\n",
       " (33969, 'MESH:D001590', 'MESH:D001008'),\n",
       " (33969, 'MESH:D001590', 'MESH:D003866'),\n",
       " (33969, 'MESH:D001590', 'MESH:D004409'),\n",
       " (326460, 'MESH:D001539', 'MESH:D007008'),\n",
       " (803783, 'MESH:D010121', 'MESH:D014869'),\n",
       " (982002, 'MESH:D012293', 'MESH:D058186'),\n",
       " (1423339, 'MESH:D011433', 'MESH:D000647'),\n",
       " (1535072, 'MESH:D002997', 'MESH:D020018'),\n",
       " (1564236, 'MESH:D004176', 'MESH:D006940'),\n",
       " (1595783, 'MESH:D000638', 'MESH:D004342'),\n",
       " (1595783, 'MESH:D000638', 'MESH:D011014'),\n",
       " (1610717, 'MESH:D003042', 'MESH:D012640'),\n",
       " (1628552, 'MESH:D002738', 'MESH:D001766'),\n",
       " (1628552, 'MESH:D002738', 'MESH:D002037'),\n",
       " (1628552, 'MESH:D002738', 'MESH:D004244'),\n",
       " (1628552, 'MESH:D002738', 'MESH:D004417'),\n",
       " (1628552, 'MESH:D002738', 'MESH:D005221'),\n",
       " (1628552, 'MESH:D002738', 'MESH:D006333'),\n",
       " (1628552, 'MESH:D002738', 'MESH:D012164'),\n",
       " (1628552, 'MESH:D002738', 'MESH:D013575'),\n",
       " (1969772, 'MESH:D006221', 'MESH:D007022'),\n",
       " (1969772, 'MESH:D009599', 'MESH:D007022'),\n",
       " (1969772, 'MESH:D018818', 'MESH:D007022'),\n",
       " (2004015, 'MESH:D015215', 'MESH:D000740'),\n",
       " (2257294, 'MESH:D015215', 'MESH:D000740'),\n",
       " (2257294, 'MESH:D015215', 'MESH:D001855'),\n",
       " (2257294, 'MESH:D015215', 'MESH:D007970'),\n",
       " (2322844, 'MESH:D015230', 'MESH:D006930'),\n",
       " (2322844, 'MESH:D015232', 'MESH:D006930'),\n",
       " (2598570, 'MESH:D013496', 'MESH:D021501'),\n",
       " (2826064, 'MESH:D013726', 'MESH:D007008'),\n",
       " (2894433, 'MESH:D003975', 'MESH:D001919'),\n",
       " (2894433, 'MESH:D004837', 'MESH:D001919'),\n",
       " (2917114, 'MESH:D004491', 'MESH:D001919'),\n",
       " (3088349, 'MESH:D000661', 'MESH:D009069'),\n",
       " (3300918, 'MESH:D004876', 'MESH:D008881'),\n",
       " (3300918, 'MESH:D008784', 'MESH:D014652'),\n",
       " (3311455, 'MESH:D016572', 'MESH:D007674'),\n",
       " (3703509, 'MESH:D011241', 'MESH:D000140'),\n",
       " (3703509, 'MESH:D011241', 'MESH:D003128'),\n",
       " (3703509, 'MESH:D011241', 'MESH:D006943'),\n",
       " (3703509, 'MESH:D011241', 'MESH:D007022'),\n",
       " (3703509, 'MESH:D011241', 'MESH:D007662'),\n",
       " (3708922, 'MESH:D016572', 'MESH:D007674'),\n",
       " (3969369, 'MESH:D013739', 'MESH:D011471'),\n",
       " (3969369, 'MESH:D013739', 'MESH:D011472'),\n",
       " (3973521, 'MESH:C027278', 'MESH:D007022'),\n",
       " (3973521, 'MESH:C027278', 'MESH:D008133'),\n",
       " (6111982, 'MESH:D010042', 'MESH:D001145'),\n",
       " (6118280, 'MESH:D009118', 'MESH:D009207'),\n",
       " (6150641, 'MESH:D002927', 'MESH:D007172'),\n",
       " (6454943, 'MESH:D011692', 'MESH:D011507'),\n",
       " (6496797, 'MESH:D014196', 'MESH:D006327'),\n",
       " (6892185, 'MESH:D002217', 'MESH:D004830'),\n",
       " (6892185, 'MESH:D002217', 'MESH:D014202'),\n",
       " (6892185, 'MESH:D002217', 'MESH:D015878'),\n",
       " (6892185, 'MESH:D010830', 'MESH:D004830'),\n",
       " (6892185, 'MESH:D010830', 'MESH:D014202'),\n",
       " (6892185, 'MESH:D010830', 'MESH:D015878'),\n",
       " (7437994, 'MESH:D008094', 'MESH:D011141'),\n",
       " (7542793, 'MESH:D016559', 'MESH:D007674'),\n",
       " (7542793, 'MESH:D016572', 'MESH:D007674'),\n",
       " (7650771, 'MESH:D004456', 'MESH:D018908'),\n",
       " (7651879, 'MESH:D005442', 'MESH:D012640'),\n",
       " (7710775, 'MESH:D008315', 'MESH:D002545'),\n",
       " (7803371, 'MESH:D003915', 'MESH:D003072'),\n",
       " (7880714, 'MESH:D002045', 'MESH:D034381'),\n",
       " (7880714, 'MESH:D004837', 'MESH:D034381'),\n",
       " (8111719, 'MESH:D007069', 'MESH:D006212'),\n",
       " (8267029, 'MESH:D010396', 'MESH:D005921'),\n",
       " (8305357, 'MESH:D003630', 'MESH:D009503'),\n",
       " (8424298, 'MESH:D007530', 'MESH:D007022'),\n",
       " (8424298, 'MESH:D007741', 'MESH:D007022'),\n",
       " (8480959, 'MESH:D008148', 'MESH:D009135'),\n",
       " (8492347, 'MESH:D005665', 'MESH:D012206'),\n",
       " (8492347, 'MESH:D005665', 'MESH:D013746'),\n",
       " (8586822, 'MESH:D017673', 'MESH:D006973'),\n",
       " (8686832, 'MESH:D008012', 'MESH:D001416'),\n",
       " (8800187, 'MESH:D002122', 'MESH:D001145'),\n",
       " (8800187, 'MESH:D003891', 'MESH:D001145'),\n",
       " (8800187, 'MESH:D003891', 'MESH:D001919'),\n",
       " (8800187, 'MESH:D003891', 'MESH:D007022'),\n",
       " (9041081, 'MESH:D000305', 'MESH:D009798'),\n",
       " (9098464, 'MESH:D005473', 'MESH:D006966'),\n",
       " (9098464, 'MESH:D005473', 'MESH:D062788'),\n",
       " (9201797, 'MESH:D006220', 'MESH:D002375'),\n",
       " (9270571, 'MESH:D007980', 'MESH:D004409'),\n",
       " (9270571, 'MESH:D015632', 'MESH:D020734'),\n",
       " (9564988, 'MESH:D064704', 'MESH:D003967'),\n",
       " (9564988, 'MESH:D064704', 'MESH:D005414'),\n",
       " (9564988, 'MESH:D064704', 'MESH:D009325'),\n",
       " (9636837, 'MESH:D002945', 'MESH:D010523'),\n",
       " (9636837, 'MESH:D016190', 'MESH:D010523'),\n",
       " (9669632, 'MESH:D020117', 'MESH:D015746'),\n",
       " (9875685, 'MESH:D014031', 'MESH:D034381'),\n",
       " (10225068, 'MESH:D008012', 'MESH:D011128'),\n",
       " (10328196, 'MESH:D020123', 'MESH:D019559'),\n",
       " (10523326, 'MESH:D007854', 'MESH:D006973'),\n",
       " (10565806, 'MESH:C076029', 'MESH:D001714'),\n",
       " (10743694, 'MESH:D016559', 'MESH:D000743'),\n",
       " (10743694, 'MESH:D016559', 'MESH:D003922'),\n",
       " (10743694, 'MESH:D016559', 'MESH:D005767'),\n",
       " (10743694, 'MESH:D016559', 'MESH:D007674'),\n",
       " (10743694, 'MESH:D016559', 'MESH:D008232'),\n",
       " (10743694, 'MESH:D016559', 'MESH:D009202'),\n",
       " (10743694, 'MESH:D016559', 'MESH:D011537'),\n",
       " (10743694, 'MESH:D016559', 'MESH:D020258'),\n",
       " (10743694, 'MESH:D016559', 'MESH:D056486'),\n",
       " (10840460, 'MESH:D000171', 'MESH:D010146'),\n",
       " (10840460, 'MESH:D003520', 'MESH:D003556'),\n",
       " (10840460, 'MESH:D003520', 'MESH:D010146'),\n",
       " (10910842, 'MESH:D011239', 'MESH:D009133'),\n",
       " (10910842, 'MESH:D011239', 'MESH:D018908'),\n",
       " (11063349, 'MESH:D016559', 'MESH:D007674'),\n",
       " (11063349, 'MESH:D016572', 'MESH:D007674'),\n",
       " (11077455, 'MESH:D020888', 'MESH:D014786'),\n",
       " (11282081, 'MESH:D014700', 'MESH:D001281'),\n",
       " (11337188, 'MESH:D000305', 'MESH:D018366'),\n",
       " (11337188, 'MESH:D000305', 'MESH:D051437'),\n",
       " (11337188, 'MESH:D010068', 'MESH:D018366'),\n",
       " (11337188, 'MESH:D010068', 'MESH:D051437'),\n",
       " (11524350, 'MESH:C037663', 'MESH:D001145'),\n",
       " (11524350, 'MESH:C037663', 'MESH:D006323'),\n",
       " (11524350, 'MESH:C037663', 'MESH:D012640'),\n",
       " (11524350, 'MESH:C476513', 'MESH:D001145'),\n",
       " (11524350, 'MESH:C476513', 'MESH:D006323'),\n",
       " (11524350, 'MESH:C476513', 'MESH:D012640'),\n",
       " (11704023, 'MESH:D013999', 'MESH:D001919'),\n",
       " (11705128, 'MESH:D012254', 'MESH:D000743'),\n",
       " (11705128, 'MESH:D016898', 'MESH:D000743'),\n",
       " (11860278, 'MESH:D007608', 'MESH:D012640'),\n",
       " (11860278, 'MESH:D010862', 'MESH:D012640'),\n",
       " (11868798, 'MESH:D000666', 'MESH:D007008'),\n",
       " (11999899, 'MESH:D012110', 'MESH:D002375'),\n",
       " (11999899, 'MESH:D012110', 'MESH:D004409'),\n",
       " (11999899, 'MESH:D012110', 'MESH:D014202'),\n",
       " (12448656, 'MESH:D013792', 'MESH:D003248'),\n",
       " (12448656, 'MESH:D013792', 'MESH:D006970'),\n",
       " (12452237, 'MESH:D013390', 'MESH:D005207'),\n",
       " (12452237, 'MESH:D013390', 'MESH:D010149'),\n",
       " (12911170, 'MESH:D002939', 'MESH:D000743'),\n",
       " (12911170, 'MESH:D002939', 'MESH:D007676'),\n",
       " (12911170, 'MESH:D002939', 'MESH:D009395'),\n",
       " (15096016, 'MESH:D007980', 'MESH:D004409'),\n",
       " (15266215, 'MESH:D001241', 'MESH:D013927'),\n",
       " (15266362, 'MESH:D004280', 'MESH:D004342'),\n",
       " (15266362, 'MESH:D004280', 'MESH:D004802'),\n",
       " (15266362, 'MESH:D004280', 'MESH:D009205'),\n",
       " (15565293, 'MESH:D004977', 'MESH:D009901'),\n",
       " (15565293, 'MESH:D004977', 'MESH:D014786'),\n",
       " (15811908, 'MESH:C012052', 'MESH:D006261'),\n",
       " (15811908, 'MESH:C012052', 'MESH:D006973'),\n",
       " (15811908, 'MESH:C012052', 'MESH:D014839'),\n",
       " (15811908, 'MESH:D063325', 'MESH:D006261'),\n",
       " (15811908, 'MESH:D063325', 'MESH:D006973'),\n",
       " (15811908, 'MESH:D063325', 'MESH:D014839'),\n",
       " (15858223, 'MESH:C075750', 'MESH:D056486'),\n",
       " (15858223, 'MESH:D008054', 'MESH:D056486'),\n",
       " (15858223, 'MESH:D014635', 'MESH:D005234'),\n",
       " (15858223, 'MESH:D014635', 'MESH:D009336'),\n",
       " (15858223, 'MESH:D014635', 'MESH:D056486'),\n",
       " (15858223, 'MESH:D017392', 'MESH:D056486'),\n",
       " (15893386, 'MESH:D013390', 'MESH:D014313'),\n",
       " (16174948, 'MESH:D003042', 'MESH:D013345'),\n",
       " (16174948, 'MESH:D003042', 'MESH:D017542'),\n",
       " (16192988, 'MESH:D008694', 'MESH:D001523'),\n",
       " (16225977, 'MESH:C012052', 'MESH:D013981'),\n",
       " (16471092, 'MESH:C099041', 'MESH:D014987'),\n",
       " (16596970, 'MESH:D010862', 'MESH:D001308'),\n",
       " (16596970, 'MESH:D010862', 'MESH:D013226'),\n",
       " (17682013, 'MESH:C017367', 'MESH:D056784'),\n",
       " (17682013, 'MESH:C110904', 'MESH:D056784'),\n",
       " (17682013, 'MESH:D005472', 'MESH:D056784'),\n",
       " (17682013, 'MESH:D008727', 'MESH:D056784'),\n",
       " (18006530, 'MESH:D015742', 'MESH:D010146'),\n",
       " (18356633, 'MESH:D000583', 'MESH:D007674'),\n",
       " (18483878, 'MESH:D003520', 'MESH:D003556'),\n",
       " (18657397, 'MESH:D010400', 'MESH:D004827'),\n",
       " (19135948, 'MESH:C107135', 'MESH:D006504'),\n",
       " (19135948, 'MESH:C107135', 'MESH:D014652'),\n",
       " (19135948, 'MESH:C107135', 'MESH:D058186'),\n",
       " (19135948, 'MESH:D016559', 'MESH:D006504'),\n",
       " (19135948, 'MESH:D016559', 'MESH:D014652'),\n",
       " (19135948, 'MESH:D016559', 'MESH:D058186'),\n",
       " (19370593, 'MESH:D004967', 'MESH:D003704'),\n",
       " (19370593, 'MESH:D004967', 'MESH:D005705'),\n",
       " (19370593, 'MESH:D004967', 'MESH:D020521'),\n",
       " (19370593, 'MESH:D004967', 'MESH:D054556'),\n",
       " (19370593, 'MESH:D011374', 'MESH:D003704'),\n",
       " (19370593, 'MESH:D011374', 'MESH:D054556'),\n",
       " (19761039, 'MESH:D012110', 'MESH:D004409'),\n",
       " (20042557, 'MESH:D015742', 'MESH:D003693'),\n",
       " (20042557, 'MESH:D015742', 'MESH:D011183'),\n",
       " (20466178, 'MESH:C117268', 'MESH:D003872'),\n",
       " (20466178, 'MESH:C117268', 'MESH:D003875'),\n",
       " (20466178, 'MESH:C117268', 'MESH:D013684'),\n",
       " (20533999, 'MESH:D008694', 'MESH:D020258'),\n",
       " (20683499, 'MESH:D013311', 'MESH:D000544'),\n",
       " (20683499, 'MESH:D013311', 'MESH:D003072'),\n",
       " (21418164, 'MESH:D008130', 'MESH:D000740'),\n",
       " (21418164, 'MESH:D008130', 'MESH:D005767'),\n",
       " (21418164, 'MESH:D008130', 'MESH:D007674'),\n",
       " (21418164, 'MESH:D008130', 'MESH:D009503'),\n",
       " (21418164, 'MESH:D008130', 'MESH:D013921'),\n",
       " (21418164, 'MESH:D008130', 'MESH:D014839'),\n",
       " (21418164, 'MESH:D008130', 'MESH:D017093')}"
      ]
     },
     "execution_count": 51,
     "metadata": {},
     "output_type": "execute_result"
    }
   ],
   "source": [
    "gold_relations"
   ]
  },
  {
   "cell_type": "code",
   "execution_count": 52,
   "metadata": {
    "collapsed": true
   },
   "outputs": [],
   "source": [
    "def expand_dataframe(final_res):\n",
    "    temp = defaultdict(list)\n",
    "    \n",
    "    # split up the crowd results with complexed ids\n",
    "    for idx, row in final_res.iterrows():\n",
    "        chem_ids = row[\"chemical_id\"].split(\"|\")\n",
    "        dise_ids = row[\"disease_id\"].split(\"|\")\n",
    "\n",
    "        cols = [\"norm_conf_score\", \"rel_origin\"]\n",
    "\n",
    "        for chem in chem_ids:\n",
    "            for dise in dise_ids:\n",
    "                temp[\"chemical_id\"].append(chem)\n",
    "                temp[\"disease_id\"].append(dise)\n",
    "\n",
    "                for val in cols:\n",
    "                    temp[val].append(row[val])\n",
    "                    \n",
    "                for val in [\"pmid\", \"num_votes\"]:\n",
    "                    temp[val].append(int(row[val]))\n",
    "                \n",
    "    return pd.DataFrame(temp)"
   ]
  },
  {
   "cell_type": "code",
   "execution_count": 53,
   "metadata": {
    "collapsed": false
   },
   "outputs": [],
   "source": [
    "final_res = expand_dataframe(final_res)"
   ]
  },
  {
   "cell_type": "code",
   "execution_count": 54,
   "metadata": {
    "collapsed": false
   },
   "outputs": [
    {
     "data": {
      "text/html": [
       "<div>\n",
       "<table border=\"1\" class=\"dataframe\">\n",
       "  <thead>\n",
       "    <tr style=\"text-align: right;\">\n",
       "      <th></th>\n",
       "      <th>chemical_id</th>\n",
       "      <th>disease_id</th>\n",
       "      <th>norm_conf_score</th>\n",
       "      <th>num_votes</th>\n",
       "      <th>pmid</th>\n",
       "      <th>rel_origin</th>\n",
       "    </tr>\n",
       "  </thead>\n",
       "  <tbody>\n",
       "    <tr>\n",
       "      <th>0</th>\n",
       "      <td>MESH:D020117</td>\n",
       "      <td>MESH:D015746</td>\n",
       "      <td>0.203278</td>\n",
       "      <td>1</td>\n",
       "      <td>9669632</td>\n",
       "      <td>abstract_task</td>\n",
       "    </tr>\n",
       "    <tr>\n",
       "      <th>1</th>\n",
       "      <td>MESH:D020117</td>\n",
       "      <td>MESH:D005767</td>\n",
       "      <td>0.423201</td>\n",
       "      <td>2</td>\n",
       "      <td>9669632</td>\n",
       "      <td>abstract_task</td>\n",
       "    </tr>\n",
       "    <tr>\n",
       "      <th>2</th>\n",
       "      <td>MESH:D020117</td>\n",
       "      <td>MESH:D003248</td>\n",
       "      <td>0.212550</td>\n",
       "      <td>1</td>\n",
       "      <td>9669632</td>\n",
       "      <td>sentence_task</td>\n",
       "    </tr>\n",
       "    <tr>\n",
       "      <th>3</th>\n",
       "      <td>MESH:D020117</td>\n",
       "      <td>MESH:D003967</td>\n",
       "      <td>0.377915</td>\n",
       "      <td>2</td>\n",
       "      <td>9669632</td>\n",
       "      <td>sentence_task</td>\n",
       "    </tr>\n",
       "    <tr>\n",
       "      <th>4</th>\n",
       "      <td>MESH:D020117</td>\n",
       "      <td>MESH:D010146</td>\n",
       "      <td>1.000000</td>\n",
       "      <td>5</td>\n",
       "      <td>9669632</td>\n",
       "      <td>sentence_task</td>\n",
       "    </tr>\n",
       "  </tbody>\n",
       "</table>\n",
       "</div>"
      ],
      "text/plain": [
       "    chemical_id    disease_id  norm_conf_score  num_votes     pmid  \\\n",
       "0  MESH:D020117  MESH:D015746         0.203278          1  9669632   \n",
       "1  MESH:D020117  MESH:D005767         0.423201          2  9669632   \n",
       "2  MESH:D020117  MESH:D003248         0.212550          1  9669632   \n",
       "3  MESH:D020117  MESH:D003967         0.377915          2  9669632   \n",
       "4  MESH:D020117  MESH:D010146         1.000000          5  9669632   \n",
       "\n",
       "      rel_origin  \n",
       "0  abstract_task  \n",
       "1  abstract_task  \n",
       "2  sentence_task  \n",
       "3  sentence_task  \n",
       "4  sentence_task  "
      ]
     },
     "execution_count": 54,
     "metadata": {},
     "output_type": "execute_result"
    }
   ],
   "source": [
    "final_res.head()"
   ]
  },
  {
   "cell_type": "code",
   "execution_count": 55,
   "metadata": {
    "collapsed": false
   },
   "outputs": [],
   "source": [
    "def official_F_score(score_column, gold_rel_set, dataframe, apply_mesh_filter = False):\n",
    "    def apply_filter(predict):\n",
    "        # filter using mesh ontology\n",
    "        res = set()\n",
    "        \n",
    "        # group by pmid\n",
    "        temp = sorted(list(predict), key = lambda val: val[0])\n",
    "        for pmid, group in groupby(temp, lambda val: val[0]):            \n",
    "            rels = [Simple_Rel(pmid, Ontology_ID(chem), Ontology_ID(dise)) for info, chem, dise in group]\n",
    "            filtered = filter_relations(rels)\n",
    "            filtered = [(rel.pmid, rel.chemical.flat_repr, rel.disease.flat_repr) for rel in filtered]\n",
    "            \n",
    "            res |= set(filtered)\n",
    "            \n",
    "        return res\n",
    "    \n",
    "    EPSILON = 0.0000001\n",
    "    \n",
    "    res = defaultdict(list)\n",
    "    for threshold in dataframe[score_column].unique():\n",
    "        sub = dataframe.query(\"{0} > {1} or -{2} <= {0} - {1} <= {2}\".format(score_column, threshold, EPSILON))\n",
    "        \n",
    "        # grab the relation ids we guessed\n",
    "        predict = set(sub[[\"pmid\", \"chemical_id\", \"disease_id\"]].apply(\n",
    "                lambda row: (int(row[\"pmid\"]), row[\"chemical_id\"], row[\"disease_id\"]), axis = 1))\n",
    "        \n",
    "        if apply_mesh_filter:\n",
    "            predict = apply_filter(predict)\n",
    "        \n",
    "        precision, recall, f1 = performance(gold_rel_set, predict)\n",
    "        \n",
    "        res[\"recall\"].append(recall)\n",
    "        res[\"precision\"].append(precision)\n",
    "        res[\"threshold\"].append(threshold)\n",
    "        res[\"F_score\"].append(f1)\n",
    "        \n",
    "    return pd.DataFrame(res)"
   ]
  },
  {
   "cell_type": "code",
   "execution_count": 56,
   "metadata": {
    "collapsed": false
   },
   "outputs": [],
   "source": [
    "official_res_vote = official_F_score(\"num_votes\", gold_relations, final_res).sort(\"threshold\")"
   ]
  },
  {
   "cell_type": "code",
   "execution_count": 57,
   "metadata": {
    "collapsed": false
   },
   "outputs": [
    {
     "data": {
      "text/html": [
       "<div>\n",
       "<table border=\"1\" class=\"dataframe\">\n",
       "  <thead>\n",
       "    <tr style=\"text-align: right;\">\n",
       "      <th></th>\n",
       "      <th>F_score</th>\n",
       "      <th>precision</th>\n",
       "      <th>recall</th>\n",
       "      <th>threshold</th>\n",
       "    </tr>\n",
       "  </thead>\n",
       "  <tbody>\n",
       "    <tr>\n",
       "      <th>5</th>\n",
       "      <td>0.293683</td>\n",
       "      <td>0.176877</td>\n",
       "      <td>0.864734</td>\n",
       "      <td>0</td>\n",
       "    </tr>\n",
       "    <tr>\n",
       "      <th>0</th>\n",
       "      <td>0.385650</td>\n",
       "      <td>0.251095</td>\n",
       "      <td>0.830918</td>\n",
       "      <td>1</td>\n",
       "    </tr>\n",
       "    <tr>\n",
       "      <th>1</th>\n",
       "      <td>0.483871</td>\n",
       "      <td>0.347368</td>\n",
       "      <td>0.797101</td>\n",
       "      <td>2</td>\n",
       "    </tr>\n",
       "    <tr>\n",
       "      <th>3</th>\n",
       "      <td>0.554174</td>\n",
       "      <td>0.438202</td>\n",
       "      <td>0.753623</td>\n",
       "      <td>3</td>\n",
       "    </tr>\n",
       "    <tr>\n",
       "      <th>4</th>\n",
       "      <td>0.587983</td>\n",
       "      <td>0.528958</td>\n",
       "      <td>0.661836</td>\n",
       "      <td>4</td>\n",
       "    </tr>\n",
       "    <tr>\n",
       "      <th>2</th>\n",
       "      <td>0.533333</td>\n",
       "      <td>0.568306</td>\n",
       "      <td>0.502415</td>\n",
       "      <td>5</td>\n",
       "    </tr>\n",
       "  </tbody>\n",
       "</table>\n",
       "</div>"
      ],
      "text/plain": [
       "    F_score  precision    recall  threshold\n",
       "5  0.293683   0.176877  0.864734          0\n",
       "0  0.385650   0.251095  0.830918          1\n",
       "1  0.483871   0.347368  0.797101          2\n",
       "3  0.554174   0.438202  0.753623          3\n",
       "4  0.587983   0.528958  0.661836          4\n",
       "2  0.533333   0.568306  0.502415          5"
      ]
     },
     "execution_count": 57,
     "metadata": {},
     "output_type": "execute_result"
    }
   ],
   "source": [
    "official_res_vote"
   ]
  },
  {
   "cell_type": "code",
   "execution_count": 58,
   "metadata": {
    "collapsed": true
   },
   "outputs": [],
   "source": [
    "def plot_results(res, title, xlabel, fontsize, figsize, linewidth, fname = None):\n",
    "    res = res.sort(\"threshold\")\n",
    "    matplotlib.rcParams.update({'font.size': fontsize})\n",
    "\n",
    "    graph = res.plot(x = \"threshold\", figsize = figsize,\n",
    "                     linewidth = linewidth, title = title)\n",
    "    graph.set_ylim((0, 1.1))\n",
    "    graph.set_xlabel(xlabel)\n",
    "    \n",
    "    if fname is not None:\n",
    "        plt.savefig(fname, bbox_inches = \"tight\")"
   ]
  },
  {
   "cell_type": "code",
   "execution_count": 59,
   "metadata": {
    "collapsed": false
   },
   "outputs": [
    {
     "data": {
      "image/png": "[encoded data removed]",
      "text/plain": [
       "<matplotlib.figure.Figure at 0x7fb30148ae10>"
      ]
     },
     "metadata": {},
     "output_type": "display_data"
    }
   ],
   "source": [
    "plot_results(official_res_vote, \"Crowd Performance Against Gold Standard\",\n",
    "            \"Number of positive votes\", 12, (7, 7), 1)"
   ]
  },
  {
   "cell_type": "markdown",
   "metadata": {
    "collapsed": true
   },
   "source": [
    "---"
   ]
  },
  {
   "cell_type": "markdown",
   "metadata": {},
   "source": [
    "### Results if redundant relations are removed"
   ]
  },
  {
   "cell_type": "code",
   "execution_count": 60,
   "metadata": {
    "collapsed": false
   },
   "outputs": [],
   "source": [
    "filtered_res = official_F_score(\"num_votes\", gold_relations, final_res, True).sort(\"threshold\")"
   ]
  },
  {
   "cell_type": "code",
   "execution_count": 61,
   "metadata": {
    "collapsed": false
   },
   "outputs": [
    {
     "data": {
      "text/html": [
       "<div>\n",
       "<table border=\"1\" class=\"dataframe\">\n",
       "  <thead>\n",
       "    <tr style=\"text-align: right;\">\n",
       "      <th></th>\n",
       "      <th>F_score</th>\n",
       "      <th>precision</th>\n",
       "      <th>recall</th>\n",
       "      <th>threshold</th>\n",
       "    </tr>\n",
       "  </thead>\n",
       "  <tbody>\n",
       "    <tr>\n",
       "      <th>5</th>\n",
       "      <td>0.308386</td>\n",
       "      <td>0.189579</td>\n",
       "      <td>0.826087</td>\n",
       "      <td>0</td>\n",
       "    </tr>\n",
       "    <tr>\n",
       "      <th>0</th>\n",
       "      <td>0.396135</td>\n",
       "      <td>0.264090</td>\n",
       "      <td>0.792271</td>\n",
       "      <td>1</td>\n",
       "    </tr>\n",
       "    <tr>\n",
       "      <th>1</th>\n",
       "      <td>0.490625</td>\n",
       "      <td>0.362587</td>\n",
       "      <td>0.758454</td>\n",
       "      <td>2</td>\n",
       "    </tr>\n",
       "    <tr>\n",
       "      <th>3</th>\n",
       "      <td>0.564972</td>\n",
       "      <td>0.462963</td>\n",
       "      <td>0.724638</td>\n",
       "      <td>3</td>\n",
       "    </tr>\n",
       "    <tr>\n",
       "      <th>4</th>\n",
       "      <td>0.602679</td>\n",
       "      <td>0.560166</td>\n",
       "      <td>0.652174</td>\n",
       "      <td>4</td>\n",
       "    </tr>\n",
       "    <tr>\n",
       "      <th>2</th>\n",
       "      <td>0.539683</td>\n",
       "      <td>0.596491</td>\n",
       "      <td>0.492754</td>\n",
       "      <td>5</td>\n",
       "    </tr>\n",
       "  </tbody>\n",
       "</table>\n",
       "</div>"
      ],
      "text/plain": [
       "    F_score  precision    recall  threshold\n",
       "5  0.308386   0.189579  0.826087          0\n",
       "0  0.396135   0.264090  0.792271          1\n",
       "1  0.490625   0.362587  0.758454          2\n",
       "3  0.564972   0.462963  0.724638          3\n",
       "4  0.602679   0.560166  0.652174          4\n",
       "2  0.539683   0.596491  0.492754          5"
      ]
     },
     "execution_count": 61,
     "metadata": {},
     "output_type": "execute_result"
    }
   ],
   "source": [
    "filtered_res"
   ]
  },
  {
   "cell_type": "code",
   "execution_count": 62,
   "metadata": {
    "collapsed": true
   },
   "outputs": [],
   "source": [
    "def pair_plot(df1, df2, title, xlabel, fontsize, figsize, linewidth, fname = None):\n",
    "    matplotlib.rcParams.update({\"font.size\": fontsize})\n",
    "\n",
    "    ax = df1.plot(x = \"threshold\", figsize = figsize,\n",
    "                  title = title, ylim = (0, 1.05), linewidth = linewidth)\n",
    "\n",
    "    ax = df2.plot(ax = ax, x = \"threshold\", linestyle = \"--\", linewidth = linewidth)\n",
    "    ax.set_xlabel(xlabel)\n",
    "\n",
    "    if fname is not None:\n",
    "        plt.savefig(fname, bbox_inches = \"tight\")"
   ]
  },
  {
   "cell_type": "code",
   "execution_count": 63,
   "metadata": {
    "collapsed": false
   },
   "outputs": [
    {
     "data": {
      "image/png": "[encoded data removed]",
      "text/plain": [
       "<matplotlib.figure.Figure at 0x7fb301b72940>"
      ]
     },
     "metadata": {},
     "output_type": "display_data"
    }
   ],
   "source": [
    "pair_plot(official_res_vote, filtered_res, \"Performance on 100 abstracts with MeSH filter\",\n",
    "          \"Number of votes\", 12, (7, 7), 2)"
   ]
  },
  {
   "cell_type": "markdown",
   "metadata": {},
   "source": [
    "## Performance with NER step excluded\n",
    "\n",
    "Due to the NER step, some concept annotations will be missed or mismapped. When this happens, any relation which uses these concepts will automatically be counted as false positives or false negatives. To look at crowd performance on the relation extraction task only, we need to remove these relations.\n",
    "\n",
    "However this seems like a more convoluted way of measuring performance instead of running the job over again, but using the gold standard annotations (which we were doing anyways). Hope the reviewers don't catch this.."
   ]
  },
  {
   "cell_type": "code",
   "execution_count": 64,
   "metadata": {
    "collapsed": true
   },
   "outputs": [],
   "source": [
    "def has_concept(paper, concept_id):\n",
    "    concepts = set()\n",
    "    for annot in paper.annotations:\n",
    "        concepts |= set([iden.flat_repr for iden in annot.uid if iden.uid_type == \"MESH\"])\n",
    "    \n",
    "    return concept_id in concepts"
   ]
  },
  {
   "cell_type": "code",
   "execution_count": 65,
   "metadata": {
    "collapsed": false
   },
   "outputs": [],
   "source": [
    "final_res[\"chem_exists\"] = final_res[[\"pmid\", \"chemical_id\"]].apply(lambda row: has_concept(dev_gold[int(row[\"pmid\"])], row[\"chemical_id\"]), axis = 1)\n",
    "\n",
    "final_res[\"dise_exists\"] = final_res[[\"pmid\", \"disease_id\"]].apply(lambda row: has_concept(dev_gold[int(row[\"pmid\"])], row[\"disease_id\"]), axis = 1)"
   ]
  },
  {
   "cell_type": "code",
   "execution_count": 66,
   "metadata": {
    "collapsed": false
   },
   "outputs": [
    {
     "data": {
      "text/html": [
       "<div>\n",
       "<table border=\"1\" class=\"dataframe\">\n",
       "  <thead>\n",
       "    <tr style=\"text-align: right;\">\n",
       "      <th></th>\n",
       "      <th>chemical_id</th>\n",
       "      <th>disease_id</th>\n",
       "      <th>norm_conf_score</th>\n",
       "      <th>num_votes</th>\n",
       "      <th>pmid</th>\n",
       "      <th>rel_origin</th>\n",
       "      <th>chem_exists</th>\n",
       "      <th>dise_exists</th>\n",
       "    </tr>\n",
       "  </thead>\n",
       "  <tbody>\n",
       "    <tr>\n",
       "      <th>0</th>\n",
       "      <td>MESH:D020117</td>\n",
       "      <td>MESH:D015746</td>\n",
       "      <td>0.203278</td>\n",
       "      <td>1</td>\n",
       "      <td>9669632</td>\n",
       "      <td>abstract_task</td>\n",
       "      <td>True</td>\n",
       "      <td>True</td>\n",
       "    </tr>\n",
       "    <tr>\n",
       "      <th>1</th>\n",
       "      <td>MESH:D020117</td>\n",
       "      <td>MESH:D005767</td>\n",
       "      <td>0.423201</td>\n",
       "      <td>2</td>\n",
       "      <td>9669632</td>\n",
       "      <td>abstract_task</td>\n",
       "      <td>True</td>\n",
       "      <td>True</td>\n",
       "    </tr>\n",
       "    <tr>\n",
       "      <th>2</th>\n",
       "      <td>MESH:D020117</td>\n",
       "      <td>MESH:D003248</td>\n",
       "      <td>0.212550</td>\n",
       "      <td>1</td>\n",
       "      <td>9669632</td>\n",
       "      <td>sentence_task</td>\n",
       "      <td>True</td>\n",
       "      <td>True</td>\n",
       "    </tr>\n",
       "    <tr>\n",
       "      <th>3</th>\n",
       "      <td>MESH:D020117</td>\n",
       "      <td>MESH:D003967</td>\n",
       "      <td>0.377915</td>\n",
       "      <td>2</td>\n",
       "      <td>9669632</td>\n",
       "      <td>sentence_task</td>\n",
       "      <td>True</td>\n",
       "      <td>True</td>\n",
       "    </tr>\n",
       "    <tr>\n",
       "      <th>4</th>\n",
       "      <td>MESH:D020117</td>\n",
       "      <td>MESH:D010146</td>\n",
       "      <td>1.000000</td>\n",
       "      <td>5</td>\n",
       "      <td>9669632</td>\n",
       "      <td>sentence_task</td>\n",
       "      <td>True</td>\n",
       "      <td>True</td>\n",
       "    </tr>\n",
       "  </tbody>\n",
       "</table>\n",
       "</div>"
      ],
      "text/plain": [
       "    chemical_id    disease_id  norm_conf_score  num_votes     pmid  \\\n",
       "0  MESH:D020117  MESH:D015746         0.203278          1  9669632   \n",
       "1  MESH:D020117  MESH:D005767         0.423201          2  9669632   \n",
       "2  MESH:D020117  MESH:D003248         0.212550          1  9669632   \n",
       "3  MESH:D020117  MESH:D003967         0.377915          2  9669632   \n",
       "4  MESH:D020117  MESH:D010146         1.000000          5  9669632   \n",
       "\n",
       "      rel_origin chem_exists dise_exists  \n",
       "0  abstract_task        True        True  \n",
       "1  abstract_task        True        True  \n",
       "2  sentence_task        True        True  \n",
       "3  sentence_task        True        True  \n",
       "4  sentence_task        True        True  "
      ]
     },
     "execution_count": 66,
     "metadata": {},
     "output_type": "execute_result"
    }
   ],
   "source": [
    "final_res.head()"
   ]
  },
  {
   "cell_type": "code",
   "execution_count": 67,
   "metadata": {
    "collapsed": false,
    "scrolled": true
   },
   "outputs": [
    {
     "data": {
      "text/html": [
       "<div>\n",
       "<table border=\"1\" class=\"dataframe\">\n",
       "  <thead>\n",
       "    <tr style=\"text-align: right;\">\n",
       "      <th></th>\n",
       "      <th>chemical_id</th>\n",
       "      <th>disease_id</th>\n",
       "      <th>norm_conf_score</th>\n",
       "      <th>num_votes</th>\n",
       "      <th>pmid</th>\n",
       "      <th>rel_origin</th>\n",
       "      <th>chem_exists</th>\n",
       "      <th>dise_exists</th>\n",
       "    </tr>\n",
       "  </thead>\n",
       "  <tbody>\n",
       "    <tr>\n",
       "      <th>38</th>\n",
       "      <td>MESH:C535011</td>\n",
       "      <td>MESH:D007249</td>\n",
       "      <td>0.578724</td>\n",
       "      <td>3</td>\n",
       "      <td>15858223</td>\n",
       "      <td>abstract_task</td>\n",
       "      <td>False</td>\n",
       "      <td>True</td>\n",
       "    </tr>\n",
       "    <tr>\n",
       "      <th>42</th>\n",
       "      <td>MESH:C535011</td>\n",
       "      <td>MESH:D056486</td>\n",
       "      <td>0.000000</td>\n",
       "      <td>0</td>\n",
       "      <td>15858223</td>\n",
       "      <td>abstract_task</td>\n",
       "      <td>False</td>\n",
       "      <td>True</td>\n",
       "    </tr>\n",
       "    <tr>\n",
       "      <th>54</th>\n",
       "      <td>MESH:C535011</td>\n",
       "      <td>MESH:D005234</td>\n",
       "      <td>0.387268</td>\n",
       "      <td>2</td>\n",
       "      <td>15858223</td>\n",
       "      <td>sentence_task</td>\n",
       "      <td>False</td>\n",
       "      <td>True</td>\n",
       "    </tr>\n",
       "    <tr>\n",
       "      <th>56</th>\n",
       "      <td>MESH:C535011</td>\n",
       "      <td>MESH:D009336</td>\n",
       "      <td>0.606375</td>\n",
       "      <td>3</td>\n",
       "      <td>15858223</td>\n",
       "      <td>sentence_task</td>\n",
       "      <td>False</td>\n",
       "      <td>True</td>\n",
       "    </tr>\n",
       "    <tr>\n",
       "      <th>65</th>\n",
       "      <td>MESH:C030299</td>\n",
       "      <td>MESH:D007153</td>\n",
       "      <td>0.000000</td>\n",
       "      <td>0</td>\n",
       "      <td>2004015</td>\n",
       "      <td>abstract_task</td>\n",
       "      <td>True</td>\n",
       "      <td>False</td>\n",
       "    </tr>\n",
       "    <tr>\n",
       "      <th>68</th>\n",
       "      <td>MESH:D015215</td>\n",
       "      <td>MESH:D007153</td>\n",
       "      <td>0.000000</td>\n",
       "      <td>0</td>\n",
       "      <td>2004015</td>\n",
       "      <td>sentence_task</td>\n",
       "      <td>True</td>\n",
       "      <td>False</td>\n",
       "    </tr>\n",
       "    <tr>\n",
       "      <th>85</th>\n",
       "      <td>MESH:D016572</td>\n",
       "      <td>MESH:D014456</td>\n",
       "      <td>0.179383</td>\n",
       "      <td>1</td>\n",
       "      <td>11063349</td>\n",
       "      <td>abstract_task</td>\n",
       "      <td>True</td>\n",
       "      <td>False</td>\n",
       "    </tr>\n",
       "    <tr>\n",
       "      <th>88</th>\n",
       "      <td>MESH:D020123</td>\n",
       "      <td>MESH:C565579</td>\n",
       "      <td>0.576151</td>\n",
       "      <td>3</td>\n",
       "      <td>11063349</td>\n",
       "      <td>abstract_task</td>\n",
       "      <td>True</td>\n",
       "      <td>False</td>\n",
       "    </tr>\n",
       "    <tr>\n",
       "      <th>92</th>\n",
       "      <td>MESH:D016559</td>\n",
       "      <td>MESH:D014456</td>\n",
       "      <td>0.000000</td>\n",
       "      <td>0</td>\n",
       "      <td>11063349</td>\n",
       "      <td>abstract_task</td>\n",
       "      <td>True</td>\n",
       "      <td>False</td>\n",
       "    </tr>\n",
       "    <tr>\n",
       "      <th>95</th>\n",
       "      <td>MESH:D003404</td>\n",
       "      <td>MESH:C565579</td>\n",
       "      <td>0.583801</td>\n",
       "      <td>3</td>\n",
       "      <td>11063349</td>\n",
       "      <td>abstract_task</td>\n",
       "      <td>True</td>\n",
       "      <td>False</td>\n",
       "    </tr>\n",
       "    <tr>\n",
       "      <th>97</th>\n",
       "      <td>MESH:D003404</td>\n",
       "      <td>MESH:D014456</td>\n",
       "      <td>0.389802</td>\n",
       "      <td>2</td>\n",
       "      <td>11063349</td>\n",
       "      <td>abstract_task</td>\n",
       "      <td>True</td>\n",
       "      <td>False</td>\n",
       "    </tr>\n",
       "    <tr>\n",
       "      <th>98</th>\n",
       "      <td>MESH:D016559</td>\n",
       "      <td>MESH:C565579</td>\n",
       "      <td>0.382261</td>\n",
       "      <td>2</td>\n",
       "      <td>11063349</td>\n",
       "      <td>sentence_task</td>\n",
       "      <td>True</td>\n",
       "      <td>False</td>\n",
       "    </tr>\n",
       "    <tr>\n",
       "      <th>101</th>\n",
       "      <td>MESH:D016572</td>\n",
       "      <td>MESH:C565579</td>\n",
       "      <td>0.000000</td>\n",
       "      <td>0</td>\n",
       "      <td>11063349</td>\n",
       "      <td>sentence_task</td>\n",
       "      <td>True</td>\n",
       "      <td>False</td>\n",
       "    </tr>\n",
       "    <tr>\n",
       "      <th>107</th>\n",
       "      <td>MESH:D020123</td>\n",
       "      <td>MESH:D014456</td>\n",
       "      <td>1.000000</td>\n",
       "      <td>5</td>\n",
       "      <td>11063349</td>\n",
       "      <td>sentence_task</td>\n",
       "      <td>True</td>\n",
       "      <td>False</td>\n",
       "    </tr>\n",
       "    <tr>\n",
       "      <th>110</th>\n",
       "      <td>MESH:D002118</td>\n",
       "      <td>MESH:D020301</td>\n",
       "      <td>0.000000</td>\n",
       "      <td>0</td>\n",
       "      <td>3300918</td>\n",
       "      <td>abstract_task</td>\n",
       "      <td>True</td>\n",
       "      <td>False</td>\n",
       "    </tr>\n",
       "    <tr>\n",
       "      <th>111</th>\n",
       "      <td>MESH:D008784</td>\n",
       "      <td>MESH:D006261</td>\n",
       "      <td>0.382890</td>\n",
       "      <td>2</td>\n",
       "      <td>3300918</td>\n",
       "      <td>abstract_task</td>\n",
       "      <td>True</td>\n",
       "      <td>False</td>\n",
       "    </tr>\n",
       "    <tr>\n",
       "      <th>112</th>\n",
       "      <td>MESH:D002118</td>\n",
       "      <td>MESH:D006261</td>\n",
       "      <td>0.000000</td>\n",
       "      <td>0</td>\n",
       "      <td>3300918</td>\n",
       "      <td>abstract_task</td>\n",
       "      <td>True</td>\n",
       "      <td>False</td>\n",
       "    </tr>\n",
       "    <tr>\n",
       "      <th>115</th>\n",
       "      <td>MESH:D008784</td>\n",
       "      <td>MESH:D020301</td>\n",
       "      <td>0.807965</td>\n",
       "      <td>4</td>\n",
       "      <td>3300918</td>\n",
       "      <td>sentence_task</td>\n",
       "      <td>True</td>\n",
       "      <td>False</td>\n",
       "    </tr>\n",
       "    <tr>\n",
       "      <th>131</th>\n",
       "      <td>MESH:D004280</td>\n",
       "      <td>MESH:D051437</td>\n",
       "      <td>0.000000</td>\n",
       "      <td>0</td>\n",
       "      <td>15266362</td>\n",
       "      <td>sentence_task</td>\n",
       "      <td>True</td>\n",
       "      <td>False</td>\n",
       "    </tr>\n",
       "    <tr>\n",
       "      <th>185</th>\n",
       "      <td>MESH:D011372</td>\n",
       "      <td>MESH:D002318</td>\n",
       "      <td>0.000000</td>\n",
       "      <td>0</td>\n",
       "      <td>19370593</td>\n",
       "      <td>abstract_task</td>\n",
       "      <td>False</td>\n",
       "      <td>True</td>\n",
       "    </tr>\n",
       "    <tr>\n",
       "      <th>186</th>\n",
       "      <td>MESH:D011372</td>\n",
       "      <td>MESH:D050723</td>\n",
       "      <td>0.000000</td>\n",
       "      <td>0</td>\n",
       "      <td>19370593</td>\n",
       "      <td>abstract_task</td>\n",
       "      <td>False</td>\n",
       "      <td>True</td>\n",
       "    </tr>\n",
       "    <tr>\n",
       "      <th>187</th>\n",
       "      <td>MESH:D011372</td>\n",
       "      <td>MESH:D005705</td>\n",
       "      <td>0.000000</td>\n",
       "      <td>0</td>\n",
       "      <td>19370593</td>\n",
       "      <td>abstract_task</td>\n",
       "      <td>False</td>\n",
       "      <td>True</td>\n",
       "    </tr>\n",
       "    <tr>\n",
       "      <th>188</th>\n",
       "      <td>MESH:D011372</td>\n",
       "      <td>MESH:D009369</td>\n",
       "      <td>0.184196</td>\n",
       "      <td>1</td>\n",
       "      <td>19370593</td>\n",
       "      <td>abstract_task</td>\n",
       "      <td>False</td>\n",
       "      <td>True</td>\n",
       "    </tr>\n",
       "    <tr>\n",
       "      <th>189</th>\n",
       "      <td>MESH:D011372</td>\n",
       "      <td>MESH:D054556</td>\n",
       "      <td>0.213250</td>\n",
       "      <td>1</td>\n",
       "      <td>19370593</td>\n",
       "      <td>abstract_task</td>\n",
       "      <td>False</td>\n",
       "      <td>True</td>\n",
       "    </tr>\n",
       "    <tr>\n",
       "      <th>190</th>\n",
       "      <td>MESH:D011372</td>\n",
       "      <td>MESH:D003110</td>\n",
       "      <td>0.000000</td>\n",
       "      <td>0</td>\n",
       "      <td>19370593</td>\n",
       "      <td>abstract_task</td>\n",
       "      <td>False</td>\n",
       "      <td>True</td>\n",
       "    </tr>\n",
       "    <tr>\n",
       "      <th>191</th>\n",
       "      <td>MESH:D011372</td>\n",
       "      <td>MESH:D020521</td>\n",
       "      <td>0.213976</td>\n",
       "      <td>1</td>\n",
       "      <td>19370593</td>\n",
       "      <td>abstract_task</td>\n",
       "      <td>False</td>\n",
       "      <td>True</td>\n",
       "    </tr>\n",
       "    <tr>\n",
       "      <th>192</th>\n",
       "      <td>MESH:D011372</td>\n",
       "      <td>MESH:D003704</td>\n",
       "      <td>0.609873</td>\n",
       "      <td>3</td>\n",
       "      <td>19370593</td>\n",
       "      <td>abstract_task</td>\n",
       "      <td>False</td>\n",
       "      <td>True</td>\n",
       "    </tr>\n",
       "    <tr>\n",
       "      <th>193</th>\n",
       "      <td>MESH:D011372</td>\n",
       "      <td>MESH:D001943</td>\n",
       "      <td>0.000000</td>\n",
       "      <td>0</td>\n",
       "      <td>19370593</td>\n",
       "      <td>abstract_task</td>\n",
       "      <td>False</td>\n",
       "      <td>True</td>\n",
       "    </tr>\n",
       "    <tr>\n",
       "      <th>194</th>\n",
       "      <td>MESH:D011372</td>\n",
       "      <td>MESH:D010024</td>\n",
       "      <td>0.000000</td>\n",
       "      <td>0</td>\n",
       "      <td>19370593</td>\n",
       "      <td>abstract_task</td>\n",
       "      <td>False</td>\n",
       "      <td>True</td>\n",
       "    </tr>\n",
       "    <tr>\n",
       "      <th>195</th>\n",
       "      <td>MESH:D011372</td>\n",
       "      <td>MESH:D008599</td>\n",
       "      <td>0.000000</td>\n",
       "      <td>0</td>\n",
       "      <td>19370593</td>\n",
       "      <td>abstract_task</td>\n",
       "      <td>False</td>\n",
       "      <td>True</td>\n",
       "    </tr>\n",
       "    <tr>\n",
       "      <th>...</th>\n",
       "      <td>...</td>\n",
       "      <td>...</td>\n",
       "      <td>...</td>\n",
       "      <td>...</td>\n",
       "      <td>...</td>\n",
       "      <td>...</td>\n",
       "      <td>...</td>\n",
       "      <td>...</td>\n",
       "    </tr>\n",
       "    <tr>\n",
       "      <th>581</th>\n",
       "      <td>MESH:C095427</td>\n",
       "      <td>MESH:D010302</td>\n",
       "      <td>0.177347</td>\n",
       "      <td>1</td>\n",
       "      <td>9270571</td>\n",
       "      <td>sentence_task</td>\n",
       "      <td>True</td>\n",
       "      <td>False</td>\n",
       "    </tr>\n",
       "    <tr>\n",
       "      <th>583</th>\n",
       "      <td>MESH:C416545</td>\n",
       "      <td>MESH:D010302</td>\n",
       "      <td>0.189936</td>\n",
       "      <td>1</td>\n",
       "      <td>9270571</td>\n",
       "      <td>sentence_task</td>\n",
       "      <td>True</td>\n",
       "      <td>False</td>\n",
       "    </tr>\n",
       "    <tr>\n",
       "      <th>587</th>\n",
       "      <td>MESH:D007980</td>\n",
       "      <td>MESH:D010302</td>\n",
       "      <td>0.187133</td>\n",
       "      <td>1</td>\n",
       "      <td>9270571</td>\n",
       "      <td>sentence_task</td>\n",
       "      <td>True</td>\n",
       "      <td>False</td>\n",
       "    </tr>\n",
       "    <tr>\n",
       "      <th>590</th>\n",
       "      <td>MESH:D015632</td>\n",
       "      <td>MESH:D010302</td>\n",
       "      <td>1.000000</td>\n",
       "      <td>5</td>\n",
       "      <td>9270571</td>\n",
       "      <td>cid_relation</td>\n",
       "      <td>True</td>\n",
       "      <td>False</td>\n",
       "    </tr>\n",
       "    <tr>\n",
       "      <th>687</th>\n",
       "      <td>MESH:D013739</td>\n",
       "      <td>MESH:D053448</td>\n",
       "      <td>1.000000</td>\n",
       "      <td>5</td>\n",
       "      <td>3969369</td>\n",
       "      <td>sentence_task</td>\n",
       "      <td>True</td>\n",
       "      <td>False</td>\n",
       "    </tr>\n",
       "    <tr>\n",
       "      <th>689</th>\n",
       "      <td>MESH:D003042</td>\n",
       "      <td>MESH:D000783</td>\n",
       "      <td>0.621125</td>\n",
       "      <td>3</td>\n",
       "      <td>16174948</td>\n",
       "      <td>sentence_task</td>\n",
       "      <td>True</td>\n",
       "      <td>False</td>\n",
       "    </tr>\n",
       "    <tr>\n",
       "      <th>728</th>\n",
       "      <td>MESH:D002738</td>\n",
       "      <td>MESH:D014786</td>\n",
       "      <td>1.000000</td>\n",
       "      <td>5</td>\n",
       "      <td>1628552</td>\n",
       "      <td>sentence_task</td>\n",
       "      <td>True</td>\n",
       "      <td>False</td>\n",
       "    </tr>\n",
       "    <tr>\n",
       "      <th>795</th>\n",
       "      <td>MESH:C467484</td>\n",
       "      <td>MESH:D003248</td>\n",
       "      <td>0.195653</td>\n",
       "      <td>1</td>\n",
       "      <td>12448656</td>\n",
       "      <td>abstract_task</td>\n",
       "      <td>False</td>\n",
       "      <td>True</td>\n",
       "    </tr>\n",
       "    <tr>\n",
       "      <th>796</th>\n",
       "      <td>MESH:C467484</td>\n",
       "      <td>MESH:D009362</td>\n",
       "      <td>0.186620</td>\n",
       "      <td>1</td>\n",
       "      <td>12448656</td>\n",
       "      <td>abstract_task</td>\n",
       "      <td>False</td>\n",
       "      <td>True</td>\n",
       "    </tr>\n",
       "    <tr>\n",
       "      <th>797</th>\n",
       "      <td>MESH:C467484</td>\n",
       "      <td>MESH:D002292</td>\n",
       "      <td>0.000000</td>\n",
       "      <td>0</td>\n",
       "      <td>12448656</td>\n",
       "      <td>abstract_task</td>\n",
       "      <td>False</td>\n",
       "      <td>True</td>\n",
       "    </tr>\n",
       "    <tr>\n",
       "      <th>798</th>\n",
       "      <td>MESH:C467484</td>\n",
       "      <td>MESH:D064420</td>\n",
       "      <td>0.193000</td>\n",
       "      <td>1</td>\n",
       "      <td>12448656</td>\n",
       "      <td>abstract_task</td>\n",
       "      <td>False</td>\n",
       "      <td>True</td>\n",
       "    </tr>\n",
       "    <tr>\n",
       "      <th>799</th>\n",
       "      <td>MESH:C467484</td>\n",
       "      <td>MESH:D007680</td>\n",
       "      <td>0.000000</td>\n",
       "      <td>0</td>\n",
       "      <td>12448656</td>\n",
       "      <td>abstract_task</td>\n",
       "      <td>False</td>\n",
       "      <td>False</td>\n",
       "    </tr>\n",
       "    <tr>\n",
       "      <th>800</th>\n",
       "      <td>MESH:C467484</td>\n",
       "      <td>MESH:D006970</td>\n",
       "      <td>0.168102</td>\n",
       "      <td>1</td>\n",
       "      <td>12448656</td>\n",
       "      <td>abstract_task</td>\n",
       "      <td>False</td>\n",
       "      <td>True</td>\n",
       "    </tr>\n",
       "    <tr>\n",
       "      <th>805</th>\n",
       "      <td>MESH:D013792</td>\n",
       "      <td>MESH:D007680</td>\n",
       "      <td>0.000000</td>\n",
       "      <td>0</td>\n",
       "      <td>12448656</td>\n",
       "      <td>sentence_task</td>\n",
       "      <td>True</td>\n",
       "      <td>False</td>\n",
       "    </tr>\n",
       "    <tr>\n",
       "      <th>810</th>\n",
       "      <td>MESH:D003404</td>\n",
       "      <td>MESH:D064147</td>\n",
       "      <td>0.000000</td>\n",
       "      <td>0</td>\n",
       "      <td>18356633</td>\n",
       "      <td>abstract_task</td>\n",
       "      <td>True</td>\n",
       "      <td>False</td>\n",
       "    </tr>\n",
       "    <tr>\n",
       "      <th>814</th>\n",
       "      <td>MESH:D000583</td>\n",
       "      <td>MESH:D064147</td>\n",
       "      <td>0.000000</td>\n",
       "      <td>0</td>\n",
       "      <td>18356633</td>\n",
       "      <td>sentence_task</td>\n",
       "      <td>True</td>\n",
       "      <td>False</td>\n",
       "    </tr>\n",
       "    <tr>\n",
       "      <th>817</th>\n",
       "      <td>MESH:D000617</td>\n",
       "      <td>MESH:D064147</td>\n",
       "      <td>0.000000</td>\n",
       "      <td>0</td>\n",
       "      <td>18356633</td>\n",
       "      <td>sentence_task</td>\n",
       "      <td>True</td>\n",
       "      <td>False</td>\n",
       "    </tr>\n",
       "    <tr>\n",
       "      <th>823</th>\n",
       "      <td>MESH:D010400</td>\n",
       "      <td>MESH:D010146</td>\n",
       "      <td>0.000000</td>\n",
       "      <td>0</td>\n",
       "      <td>2322844</td>\n",
       "      <td>abstract_task</td>\n",
       "      <td>False</td>\n",
       "      <td>True</td>\n",
       "    </tr>\n",
       "    <tr>\n",
       "      <th>826</th>\n",
       "      <td>MESH:D010400</td>\n",
       "      <td>MESH:D006930</td>\n",
       "      <td>0.586071</td>\n",
       "      <td>3</td>\n",
       "      <td>2322844</td>\n",
       "      <td>sentence_task</td>\n",
       "      <td>False</td>\n",
       "      <td>True</td>\n",
       "    </tr>\n",
       "    <tr>\n",
       "      <th>896</th>\n",
       "      <td>MESH:D008727</td>\n",
       "      <td>MESH:D057049</td>\n",
       "      <td>0.172988</td>\n",
       "      <td>1</td>\n",
       "      <td>19135948</td>\n",
       "      <td>abstract_task</td>\n",
       "      <td>True</td>\n",
       "      <td>False</td>\n",
       "    </tr>\n",
       "    <tr>\n",
       "      <th>900</th>\n",
       "      <td>MESH:D020123</td>\n",
       "      <td>MESH:D057049</td>\n",
       "      <td>0.000000</td>\n",
       "      <td>0</td>\n",
       "      <td>19135948</td>\n",
       "      <td>abstract_task</td>\n",
       "      <td>True</td>\n",
       "      <td>False</td>\n",
       "    </tr>\n",
       "    <tr>\n",
       "      <th>908</th>\n",
       "      <td>MESH:C107135</td>\n",
       "      <td>MESH:D057049</td>\n",
       "      <td>1.000000</td>\n",
       "      <td>5</td>\n",
       "      <td>19135948</td>\n",
       "      <td>sentence_task</td>\n",
       "      <td>True</td>\n",
       "      <td>False</td>\n",
       "    </tr>\n",
       "    <tr>\n",
       "      <th>914</th>\n",
       "      <td>MESH:D016559</td>\n",
       "      <td>MESH:D057049</td>\n",
       "      <td>1.000000</td>\n",
       "      <td>5</td>\n",
       "      <td>19135948</td>\n",
       "      <td>sentence_task</td>\n",
       "      <td>True</td>\n",
       "      <td>False</td>\n",
       "    </tr>\n",
       "    <tr>\n",
       "      <th>923</th>\n",
       "      <td>MESH:D000661</td>\n",
       "      <td>MESH:D001927</td>\n",
       "      <td>0.785182</td>\n",
       "      <td>4</td>\n",
       "      <td>3088349</td>\n",
       "      <td>sentence_task</td>\n",
       "      <td>True</td>\n",
       "      <td>False</td>\n",
       "    </tr>\n",
       "    <tr>\n",
       "      <th>925</th>\n",
       "      <td>MESH:D016627</td>\n",
       "      <td>MESH:D001927</td>\n",
       "      <td>1.000000</td>\n",
       "      <td>5</td>\n",
       "      <td>3088349</td>\n",
       "      <td>cid_relation</td>\n",
       "      <td>True</td>\n",
       "      <td>False</td>\n",
       "    </tr>\n",
       "    <tr>\n",
       "      <th>943</th>\n",
       "      <td>MESH:D000305</td>\n",
       "      <td>MESH:D014657</td>\n",
       "      <td>0.000000</td>\n",
       "      <td>0</td>\n",
       "      <td>11337188</td>\n",
       "      <td>abstract_task</td>\n",
       "      <td>True</td>\n",
       "      <td>False</td>\n",
       "    </tr>\n",
       "    <tr>\n",
       "      <th>948</th>\n",
       "      <td>MESH:D010068</td>\n",
       "      <td>MESH:D014657</td>\n",
       "      <td>1.000000</td>\n",
       "      <td>5</td>\n",
       "      <td>11337188</td>\n",
       "      <td>sentence_task</td>\n",
       "      <td>True</td>\n",
       "      <td>False</td>\n",
       "    </tr>\n",
       "    <tr>\n",
       "      <th>964</th>\n",
       "      <td>MESH:D007981</td>\n",
       "      <td>MESH:D009759</td>\n",
       "      <td>1.000000</td>\n",
       "      <td>5</td>\n",
       "      <td>7803371</td>\n",
       "      <td>abstract_task</td>\n",
       "      <td>True</td>\n",
       "      <td>False</td>\n",
       "    </tr>\n",
       "    <tr>\n",
       "      <th>975</th>\n",
       "      <td>MESH:D003915</td>\n",
       "      <td>MESH:D009759</td>\n",
       "      <td>1.000000</td>\n",
       "      <td>5</td>\n",
       "      <td>7803371</td>\n",
       "      <td>abstract_task</td>\n",
       "      <td>True</td>\n",
       "      <td>False</td>\n",
       "    </tr>\n",
       "    <tr>\n",
       "      <th>981</th>\n",
       "      <td>MESH:D004977</td>\n",
       "      <td>MESH:D007674</td>\n",
       "      <td>0.000000</td>\n",
       "      <td>0</td>\n",
       "      <td>15565293</td>\n",
       "      <td>sentence_task</td>\n",
       "      <td>True</td>\n",
       "      <td>False</td>\n",
       "    </tr>\n",
       "  </tbody>\n",
       "</table>\n",
       "<p>84 rows × 8 columns</p>\n",
       "</div>"
      ],
      "text/plain": [
       "      chemical_id    disease_id  norm_conf_score  num_votes      pmid  \\\n",
       "38   MESH:C535011  MESH:D007249         0.578724          3  15858223   \n",
       "42   MESH:C535011  MESH:D056486         0.000000          0  15858223   \n",
       "54   MESH:C535011  MESH:D005234         0.387268          2  15858223   \n",
       "56   MESH:C535011  MESH:D009336         0.606375          3  15858223   \n",
       "65   MESH:C030299  MESH:D007153         0.000000          0   2004015   \n",
       "68   MESH:D015215  MESH:D007153         0.000000          0   2004015   \n",
       "85   MESH:D016572  MESH:D014456         0.179383          1  11063349   \n",
       "88   MESH:D020123  MESH:C565579         0.576151          3  11063349   \n",
       "92   MESH:D016559  MESH:D014456         0.000000          0  11063349   \n",
       "95   MESH:D003404  MESH:C565579         0.583801          3  11063349   \n",
       "97   MESH:D003404  MESH:D014456         0.389802          2  11063349   \n",
       "98   MESH:D016559  MESH:C565579         0.382261          2  11063349   \n",
       "101  MESH:D016572  MESH:C565579         0.000000          0  11063349   \n",
       "107  MESH:D020123  MESH:D014456         1.000000          5  11063349   \n",
       "110  MESH:D002118  MESH:D020301         0.000000          0   3300918   \n",
       "111  MESH:D008784  MESH:D006261         0.382890          2   3300918   \n",
       "112  MESH:D002118  MESH:D006261         0.000000          0   3300918   \n",
       "115  MESH:D008784  MESH:D020301         0.807965          4   3300918   \n",
       "131  MESH:D004280  MESH:D051437         0.000000          0  15266362   \n",
       "185  MESH:D011372  MESH:D002318         0.000000          0  19370593   \n",
       "186  MESH:D011372  MESH:D050723         0.000000          0  19370593   \n",
       "187  MESH:D011372  MESH:D005705         0.000000          0  19370593   \n",
       "188  MESH:D011372  MESH:D009369         0.184196          1  19370593   \n",
       "189  MESH:D011372  MESH:D054556         0.213250          1  19370593   \n",
       "190  MESH:D011372  MESH:D003110         0.000000          0  19370593   \n",
       "191  MESH:D011372  MESH:D020521         0.213976          1  19370593   \n",
       "192  MESH:D011372  MESH:D003704         0.609873          3  19370593   \n",
       "193  MESH:D011372  MESH:D001943         0.000000          0  19370593   \n",
       "194  MESH:D011372  MESH:D010024         0.000000          0  19370593   \n",
       "195  MESH:D011372  MESH:D008599         0.000000          0  19370593   \n",
       "..            ...           ...              ...        ...       ...   \n",
       "581  MESH:C095427  MESH:D010302         0.177347          1   9270571   \n",
       "583  MESH:C416545  MESH:D010302         0.189936          1   9270571   \n",
       "587  MESH:D007980  MESH:D010302         0.187133          1   9270571   \n",
       "590  MESH:D015632  MESH:D010302         1.000000          5   9270571   \n",
       "687  MESH:D013739  MESH:D053448         1.000000          5   3969369   \n",
       "689  MESH:D003042  MESH:D000783         0.621125          3  16174948   \n",
       "728  MESH:D002738  MESH:D014786         1.000000          5   1628552   \n",
       "795  MESH:C467484  MESH:D003248         0.195653          1  12448656   \n",
       "796  MESH:C467484  MESH:D009362         0.186620          1  12448656   \n",
       "797  MESH:C467484  MESH:D002292         0.000000          0  12448656   \n",
       "798  MESH:C467484  MESH:D064420         0.193000          1  12448656   \n",
       "799  MESH:C467484  MESH:D007680         0.000000          0  12448656   \n",
       "800  MESH:C467484  MESH:D006970         0.168102          1  12448656   \n",
       "805  MESH:D013792  MESH:D007680         0.000000          0  12448656   \n",
       "810  MESH:D003404  MESH:D064147         0.000000          0  18356633   \n",
       "814  MESH:D000583  MESH:D064147         0.000000          0  18356633   \n",
       "817  MESH:D000617  MESH:D064147         0.000000          0  18356633   \n",
       "823  MESH:D010400  MESH:D010146         0.000000          0   2322844   \n",
       "826  MESH:D010400  MESH:D006930         0.586071          3   2322844   \n",
       "896  MESH:D008727  MESH:D057049         0.172988          1  19135948   \n",
       "900  MESH:D020123  MESH:D057049         0.000000          0  19135948   \n",
       "908  MESH:C107135  MESH:D057049         1.000000          5  19135948   \n",
       "914  MESH:D016559  MESH:D057049         1.000000          5  19135948   \n",
       "923  MESH:D000661  MESH:D001927         0.785182          4   3088349   \n",
       "925  MESH:D016627  MESH:D001927         1.000000          5   3088349   \n",
       "943  MESH:D000305  MESH:D014657         0.000000          0  11337188   \n",
       "948  MESH:D010068  MESH:D014657         1.000000          5  11337188   \n",
       "964  MESH:D007981  MESH:D009759         1.000000          5   7803371   \n",
       "975  MESH:D003915  MESH:D009759         1.000000          5   7803371   \n",
       "981  MESH:D004977  MESH:D007674         0.000000          0  15565293   \n",
       "\n",
       "        rel_origin chem_exists dise_exists  \n",
       "38   abstract_task       False        True  \n",
       "42   abstract_task       False        True  \n",
       "54   sentence_task       False        True  \n",
       "56   sentence_task       False        True  \n",
       "65   abstract_task        True       False  \n",
       "68   sentence_task        True       False  \n",
       "85   abstract_task        True       False  \n",
       "88   abstract_task        True       False  \n",
       "92   abstract_task        True       False  \n",
       "95   abstract_task        True       False  \n",
       "97   abstract_task        True       False  \n",
       "98   sentence_task        True       False  \n",
       "101  sentence_task        True       False  \n",
       "107  sentence_task        True       False  \n",
       "110  abstract_task        True       False  \n",
       "111  abstract_task        True       False  \n",
       "112  abstract_task        True       False  \n",
       "115  sentence_task        True       False  \n",
       "131  sentence_task        True       False  \n",
       "185  abstract_task       False        True  \n",
       "186  abstract_task       False        True  \n",
       "187  abstract_task       False        True  \n",
       "188  abstract_task       False        True  \n",
       "189  abstract_task       False        True  \n",
       "190  abstract_task       False        True  \n",
       "191  abstract_task       False        True  \n",
       "192  abstract_task       False        True  \n",
       "193  abstract_task       False        True  \n",
       "194  abstract_task       False        True  \n",
       "195  abstract_task       False        True  \n",
       "..             ...         ...         ...  \n",
       "581  sentence_task        True       False  \n",
       "583  sentence_task        True       False  \n",
       "587  sentence_task        True       False  \n",
       "590   cid_relation        True       False  \n",
       "687  sentence_task        True       False  \n",
       "689  sentence_task        True       False  \n",
       "728  sentence_task        True       False  \n",
       "795  abstract_task       False        True  \n",
       "796  abstract_task       False        True  \n",
       "797  abstract_task       False        True  \n",
       "798  abstract_task       False        True  \n",
       "799  abstract_task       False       False  \n",
       "800  abstract_task       False        True  \n",
       "805  sentence_task        True       False  \n",
       "810  abstract_task        True       False  \n",
       "814  sentence_task        True       False  \n",
       "817  sentence_task        True       False  \n",
       "823  abstract_task       False        True  \n",
       "826  sentence_task       False        True  \n",
       "896  abstract_task        True       False  \n",
       "900  abstract_task        True       False  \n",
       "908  sentence_task        True       False  \n",
       "914  sentence_task        True       False  \n",
       "923  sentence_task        True       False  \n",
       "925   cid_relation        True       False  \n",
       "943  abstract_task        True       False  \n",
       "948  sentence_task        True       False  \n",
       "964  abstract_task        True       False  \n",
       "975  abstract_task        True       False  \n",
       "981  sentence_task        True       False  \n",
       "\n",
       "[84 rows x 8 columns]"
      ]
     },
     "execution_count": 67,
     "metadata": {},
     "output_type": "execute_result"
    }
   ],
   "source": [
    "final_res.query(\"~chem_exists or ~dise_exists\")"
   ]
  },
  {
   "cell_type": "code",
   "execution_count": 68,
   "metadata": {
    "collapsed": false
   },
   "outputs": [
    {
     "data": {
      "text/plain": [
       "True     989\n",
       "False     23\n",
       "dtype: int64"
      ]
     },
     "execution_count": 68,
     "metadata": {},
     "output_type": "execute_result"
    }
   ],
   "source": [
    "final_res[\"chem_exists\"].value_counts()"
   ]
  },
  {
   "cell_type": "code",
   "execution_count": 69,
   "metadata": {
    "collapsed": false
   },
   "outputs": [
    {
     "data": {
      "text/plain": [
       "True     950\n",
       "False     62\n",
       "dtype: int64"
      ]
     },
     "execution_count": 69,
     "metadata": {},
     "output_type": "execute_result"
    }
   ],
   "source": [
    "final_res[\"dise_exists\"].value_counts()"
   ]
  },
  {
   "cell_type": "code",
   "execution_count": 70,
   "metadata": {
    "collapsed": false,
    "scrolled": true
   },
   "outputs": [
    {
     "data": {
      "text/plain": [
       "(84, 8)"
      ]
     },
     "execution_count": 70,
     "metadata": {},
     "output_type": "execute_result"
    }
   ],
   "source": [
    "final_res.query(\"~chem_exists or ~dise_exists\").shape"
   ]
  },
  {
   "cell_type": "code",
   "execution_count": 71,
   "metadata": {
    "collapsed": true
   },
   "outputs": [],
   "source": [
    "def filter_gold(gold_rels, dataframe):\n",
    "    concepts = defaultdict(set)\n",
    "    for pmid, group in dataframe.groupby(\"pmid\"):\n",
    "        concepts[pmid] |= set(group[\"chemical_id\"]) | set(group[\"disease_id\"])\n",
    "        \n",
    "    res = set()\n",
    "    for pmid, chem, dise in gold_rels:\n",
    "        if set([chem, dise]) <= concepts[pmid]:\n",
    "            res.add((pmid, chem, dise))\n",
    "            \n",
    "    return res"
   ]
  },
  {
   "cell_type": "code",
   "execution_count": 72,
   "metadata": {
    "collapsed": true
   },
   "outputs": [],
   "source": [
    "indexable = final_res.query(\"chem_exists and dise_exists\")\n",
    "common_gold = filter_gold(gold_relations, indexable)"
   ]
  },
  {
   "cell_type": "code",
   "execution_count": 73,
   "metadata": {
    "collapsed": true
   },
   "outputs": [],
   "source": [
    "no_ner_res = official_F_score(\"num_votes\", common_gold, indexable).sort(\"threshold\")"
   ]
  },
  {
   "cell_type": "code",
   "execution_count": 74,
   "metadata": {
    "collapsed": false
   },
   "outputs": [
    {
     "data": {
      "text/html": [
       "<div>\n",
       "<table border=\"1\" class=\"dataframe\">\n",
       "  <thead>\n",
       "    <tr style=\"text-align: right;\">\n",
       "      <th></th>\n",
       "      <th>F_score</th>\n",
       "      <th>precision</th>\n",
       "      <th>recall</th>\n",
       "      <th>threshold</th>\n",
       "    </tr>\n",
       "  </thead>\n",
       "  <tbody>\n",
       "    <tr>\n",
       "      <th>5</th>\n",
       "      <td>0.323397</td>\n",
       "      <td>0.192888</td>\n",
       "      <td>1.000000</td>\n",
       "      <td>0</td>\n",
       "    </tr>\n",
       "    <tr>\n",
       "      <th>0</th>\n",
       "      <td>0.420538</td>\n",
       "      <td>0.269171</td>\n",
       "      <td>0.960894</td>\n",
       "      <td>1</td>\n",
       "    </tr>\n",
       "    <tr>\n",
       "      <th>1</th>\n",
       "      <td>0.528000</td>\n",
       "      <td>0.369955</td>\n",
       "      <td>0.921788</td>\n",
       "      <td>2</td>\n",
       "    </tr>\n",
       "    <tr>\n",
       "      <th>3</th>\n",
       "      <td>0.610568</td>\n",
       "      <td>0.469880</td>\n",
       "      <td>0.871508</td>\n",
       "      <td>3</td>\n",
       "    </tr>\n",
       "    <tr>\n",
       "      <th>4</th>\n",
       "      <td>0.647754</td>\n",
       "      <td>0.561475</td>\n",
       "      <td>0.765363</td>\n",
       "      <td>4</td>\n",
       "    </tr>\n",
       "    <tr>\n",
       "      <th>2</th>\n",
       "      <td>0.595989</td>\n",
       "      <td>0.611765</td>\n",
       "      <td>0.581006</td>\n",
       "      <td>5</td>\n",
       "    </tr>\n",
       "  </tbody>\n",
       "</table>\n",
       "</div>"
      ],
      "text/plain": [
       "    F_score  precision    recall  threshold\n",
       "5  0.323397   0.192888  1.000000          0\n",
       "0  0.420538   0.269171  0.960894          1\n",
       "1  0.528000   0.369955  0.921788          2\n",
       "3  0.610568   0.469880  0.871508          3\n",
       "4  0.647754   0.561475  0.765363          4\n",
       "2  0.595989   0.611765  0.581006          5"
      ]
     },
     "execution_count": 74,
     "metadata": {},
     "output_type": "execute_result"
    }
   ],
   "source": [
    "no_ner_res"
   ]
  },
  {
   "cell_type": "code",
   "execution_count": 75,
   "metadata": {
    "collapsed": false
   },
   "outputs": [
    {
     "data": {
      "image/png": "[encoded data removed]",
      "text/plain": [
       "<matplotlib.figure.Figure at 0x7fb301bf8470>"
      ]
     },
     "metadata": {},
     "output_type": "display_data"
    }
   ],
   "source": [
    "pair_plot(official_res_vote, no_ner_res, \"Performance on 100 abstracts with NER removed\",\n",
    "          \"Number of votes\", 12, (7, 7), 2)"
   ]
  },
  {
   "cell_type": "code",
   "execution_count": 76,
   "metadata": {
    "collapsed": false
   },
   "outputs": [],
   "source": [
    "no_ner_filtered = official_F_score(\"num_votes\", common_gold, indexable, True).sort(\"threshold\")"
   ]
  },
  {
   "cell_type": "code",
   "execution_count": 77,
   "metadata": {
    "collapsed": false
   },
   "outputs": [
    {
     "data": {
      "text/html": [
       "<div>\n",
       "<table border=\"1\" class=\"dataframe\">\n",
       "  <thead>\n",
       "    <tr style=\"text-align: right;\">\n",
       "      <th></th>\n",
       "      <th>F_score</th>\n",
       "      <th>precision</th>\n",
       "      <th>recall</th>\n",
       "      <th>threshold</th>\n",
       "    </tr>\n",
       "  </thead>\n",
       "  <tbody>\n",
       "    <tr>\n",
       "      <th>5</th>\n",
       "      <td>0.337255</td>\n",
       "      <td>0.204518</td>\n",
       "      <td>0.960894</td>\n",
       "      <td>0</td>\n",
       "    </tr>\n",
       "    <tr>\n",
       "      <th>0</th>\n",
       "      <td>0.432503</td>\n",
       "      <td>0.282534</td>\n",
       "      <td>0.921788</td>\n",
       "      <td>1</td>\n",
       "    </tr>\n",
       "    <tr>\n",
       "      <th>1</th>\n",
       "      <td>0.534687</td>\n",
       "      <td>0.383495</td>\n",
       "      <td>0.882682</td>\n",
       "      <td>2</td>\n",
       "    </tr>\n",
       "    <tr>\n",
       "      <th>3</th>\n",
       "      <td>0.618557</td>\n",
       "      <td>0.490196</td>\n",
       "      <td>0.837989</td>\n",
       "      <td>3</td>\n",
       "    </tr>\n",
       "    <tr>\n",
       "      <th>4</th>\n",
       "      <td>0.661765</td>\n",
       "      <td>0.589520</td>\n",
       "      <td>0.754190</td>\n",
       "      <td>4</td>\n",
       "    </tr>\n",
       "    <tr>\n",
       "      <th>2</th>\n",
       "      <td>0.601770</td>\n",
       "      <td>0.637500</td>\n",
       "      <td>0.569832</td>\n",
       "      <td>5</td>\n",
       "    </tr>\n",
       "  </tbody>\n",
       "</table>\n",
       "</div>"
      ],
      "text/plain": [
       "    F_score  precision    recall  threshold\n",
       "5  0.337255   0.204518  0.960894          0\n",
       "0  0.432503   0.282534  0.921788          1\n",
       "1  0.534687   0.383495  0.882682          2\n",
       "3  0.618557   0.490196  0.837989          3\n",
       "4  0.661765   0.589520  0.754190          4\n",
       "2  0.601770   0.637500  0.569832          5"
      ]
     },
     "execution_count": 77,
     "metadata": {},
     "output_type": "execute_result"
    }
   ],
   "source": [
    "no_ner_filtered"
   ]
  },
  {
   "cell_type": "code",
   "execution_count": 78,
   "metadata": {
    "collapsed": false
   },
   "outputs": [
    {
     "data": {
      "image/png": "[encoded data removed]",
      "text/plain": [
       "<matplotlib.figure.Figure at 0x7fb30143ef60>"
      ]
     },
     "metadata": {},
     "output_type": "display_data"
    }
   ],
   "source": [
    "pair_plot(no_ner_res, no_ner_filtered, \"Performance on 100 abstracts: no NER and MeSH filter\",\n",
    "          \"Number of votes\", 12, (7, 7), 2)"
   ]
  },
  {
   "cell_type": "markdown",
   "metadata": {},
   "source": [
    "## Error analysis\n",
    "\n",
    "PMID | Chemical | disease | Origin | Discussion\n",
    "--- | ---\n",
    "3088349 | D016627 | D001927 | CID | Id mismatch. Gold has no id for \"substantia nigra lesion\", whereas we mapped it to \"D001927\", \"brain diseases\". Not a mistake in the regex. Missing id in gold.\n",
    "9270571 | D015632 | D010302 | CID | For \"MPTP-induced parkinsonism\", gold mapped \"parkinsonism\" to D020734 but we mapped it to D010300. Not a regex mistake. ID mismatch.\n",
    "8267029 | D010396 | C538458 | CID | Gold used \"glomerulonephritis\" instead of \"rapidly progressive glomerulonephritis\" with \"penicillamine\". Term was not a disease according to the gold. ID mismatch.\n",
    "10910842 | D011239 | D009135 | CID | Mismatch in IDs for \"muscle dysfunction\". We used \"D009135\" instead of D018908. ID mismatch.\n",
    "8111719 | D007096 | D020258 | CID | \"ifosfamide-induced neurotoxicity\". Gold used hallucination instead of the more general neurotoxicity. Not a regex error. Hierarchy error.\n",
    "18657397 | D010406 | D004827 | CID | \"penicillin induced epileptiform activity\". Gold used \"penicillin G potassium\" instead of \"penicillin\". ID mismatch\n",
    "9041081 | D013256 | D009798 | CID | \"steroid induced elevated intraocular pressure\". Gold used \"corticosteriod\" instead of \"steroid\". Hierarchy mismatch.\n",
    "20533999 | D008694 | D064420, D009461 | CID | \"methamphetamine induced (toxicity and dopaminergic deficits)\". Gold only used neurotoxicity, which is a more specific form of toxicity. Hierarchy mismatch\n",
    "1595783 | D000638 | D008171 | CID | \"amiodarone-induced pulmonary toxicity\" Gold does not include this relation, preferring hypersensitivity pneumonitis instead.\n",
    "12452237 | D013390 | D063806 | CID | \"succinylcholine induced myalgia\". Gold contains \"succinylcholine induced postoperative myalgia\", but not regular \"myalgia\" (different identifiers).\n",
    "16192988 | D008694 | D006948 | CID | \"meth-induced hyperactivity\". This relation was never included in the gold, but the pattern was found correctly.\n",
    "3708922 | D016572 | D064420 | CID | \"CSA induced toxicity\". Gold only contains \"CSA induced nephrotoxicity\". However, it seems like Gentamicin should also be related to nephrotoxicity since \"Gentamicin increased CSA nephrotoxicity\". NER never found \"nephrotoxicity\" in the same sentence as gentamicin (but annotated renal toxicity with the same ID), and therefore we missed this relation.\n",
    "\n",
    "\n",
    "\n",
    "\n"
   ]
  },
  {
   "cell_type": "markdown",
   "metadata": {},
   "source": [
    "Error analysis: sentences in gold but crowd said no (<= 1 positive vote)\n",
    "\n",
    "PMID | Chemical | Disease | Origin | Discussion\n",
    "--- | ---\n",
    "7710775 | D008315 | D002545 | sentence | \"malondialdehyde and cerebral ischemia\". IDs were successfully mapped. The text states that cerebral ischemia in a rat model was caused by clamping the carotid artery. They then sampled the blood for malondialdehyde and found that it increased in concentration starting 5 min after ischemia. The gold standard lists malondialdehyde as causing ischemia, whereas the abstract suggests that the relation is more of a correlation. Seems like gold is wrong here.. Crowd said 0/5 true, only saw the title.\n",
    "20042557 | D015742 | D003693, D011183 | sentence | \"propofol and delirium, postoperative delirium\". We missed 2 gold relations. The gold is correct in stating that propofol leads to postoperative delirium when used in high concentrations. In the last sentence, where propofol and postoperative delirium is mentioned together, the sentence says using \"light propofol sedation\" decreases the prevalance of \"postoperative delirium\" compared with deep sedation (high propofol concentration). The crowd is not wrong here in saying that the sentence doesn't support a CID relation. The task formulation removed the larger context. Gold is right.\n",
    "10840460 | D003520 | D010146 | sentence | \"cyclophosphamide and painful syndromes\". Crowd only saw the concluding sentence, and therefore had no information about what the \"painful syndromes\" referred to. If anything this is bad form on the gold's part, because the individual syndromes should have been annotated, and not \"painful syndromes\" in general.\n",
    "\n",
    "\n"
   ]
  },
  {
   "cell_type": "markdown",
   "metadata": {},
   "source": [
    "Error analysis: sentences not in gold but crowd said yes (5/5 positive votes)\n",
    "\n",
    "PMID | Chemical | Disease | Origin | conclusion | Discussion\n",
    "--- | ---\n",
    "982002 | D012293 | D051437 | sentence | hierarchy error | \"rifampicin and renal failure\". Gold only contained \"acute renal failure\". Hierarchy problem. Can be fixed using MeSH (high overlap)\n",
    "1423339 | D011433 | D000544, D064420 | sentence | ner error | propranolol and Alzheimer, toxicity. Gold only contained \"amnestic syndrome\". Alzheimer is a NER error, since it should be \"Alzheimer-like subacute dementia\". The toxicity one is more vague, since the text says \"propranolol toxicity\".\n",
    "1535072 | D012701 | D020018 | sentence | ner error | \"serotonin and sexual side effects\". This is a result of poor NER highlighting. Serotonin is a chemical, but it was always used as \"serotonin reuptake blockers\", which is a completely different class of drug. The gold suffered from this too, since it annotated \"serotonin\" as a chemical many times instead of \"serotonin reuptake blockers\". We have previously seen that crowd performs very poorly at distinguishing NER errors when they are told the highlighted concept is a chemical/disease. Not much we could have done here without doing extraction de novo.\n",
    "1535072 | D015016 | D001008 | sentence | gold missing relation | \"yohimbine and anxiety\". Abstract says \"Side effects of yohimbine included excessive sweating, increased anxiety, and a wound-up feeling in some patients.\" Seems like gold is missing some relations? NER also never picked up \"excessive sweating\" or \"wound-up feeling\".\n",
    "1628552 | D002738 | D014786 | sentence | ner error | \"chloroquine and deterioration of vision\". NER error. Gold annotated deterioration of vision as D015354, and has the relation.\n",
    "1628552 | D002738 | D006327 | sentence | gold missing relation? | \"chloroquine and heart block\". Correct ids, but relation missing from gold. Title says \"Chloroquine related complete heart block with blindness: case report\". Gold error?\n",
    "2257294 | D014529 | D064420 | sentence | gold missing relation | \"uridine and toxicity\". Text says \"Because of the clinical toxicities associated with chronic Urd administration\". Seems like gold is wrong?\n",
    "3088349 | D016627 | D009069 | sentence | crowd likely wrong | \"6-OHDA and contralateral rotation\". Ids match but gold is missing relation. Seems like this should have been yes_indirect instead of yes_direct.\n",
    "\n"
   ]
  }
 ],
 "metadata": {
  "kernelspec": {
   "display_name": "Python 3",
   "language": "python",
   "name": "python3"
  },
  "language_info": {
   "codemirror_mode": {
    "name": "ipython",
    "version": 3
   },
   "file_extension": ".py",
   "mimetype": "text/x-python",
   "name": "python",
   "nbconvert_exporter": "python",
   "pygments_lexer": "ipython3",
   "version": "3.4.2"
  }
 },
 "nbformat": 4,
 "nbformat_minor": 0
}
