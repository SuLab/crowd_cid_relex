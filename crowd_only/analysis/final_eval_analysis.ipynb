{
 "cells": [
  {
   "cell_type": "markdown",
   "metadata": {},
   "source": [
    "# Analysis of performance on the BioCreative V evaluation dataset\n",
    "\n",
    "Tong Shu Li<br>\n",
    "Created on: 2015-10-06<br>\n",
    "Last updated: 2015-10-29\n",
    "\n",
    "Now that the gold standard for the final evaluation dataset has been released, we can perform a more detailed analysis of our results and see where we went wrong."
   ]
  },
  {
   "cell_type": "code",
   "execution_count": 1,
   "metadata": {
    "collapsed": true
   },
   "outputs": [],
   "source": [
    "from collections import defaultdict\n",
    "from itertools import groupby\n",
    "import matplotlib\n",
    "import matplotlib.pyplot as plt\n",
    "import numpy as np\n",
    "import os\n",
    "import pandas as pd\n",
    "import pickle\n",
    "import sys"
   ]
  },
  {
   "cell_type": "code",
   "execution_count": 2,
   "metadata": {
    "collapsed": true
   },
   "outputs": [],
   "source": [
    "%matplotlib inline"
   ]
  },
  {
   "cell_type": "code",
   "execution_count": 3,
   "metadata": {
    "collapsed": true
   },
   "outputs": [],
   "source": [
    "sys.path.append(\"..\")"
   ]
  },
  {
   "cell_type": "code",
   "execution_count": 4,
   "metadata": {
    "collapsed": true
   },
   "outputs": [],
   "source": [
    "from src.lingpipe.file_util import read_file\n",
    "from src.lingpipe.file_util import save_file\n",
    "\n",
    "from src.eval_perf import performance\n",
    "\n",
    "from src.data_model import *\n",
    "from src.F_score import F_score\n",
    "from src.mesh_filter import filter_relations"
   ]
  },
  {
   "cell_type": "code",
   "execution_count": 5,
   "metadata": {
    "collapsed": false
   },
   "outputs": [],
   "source": [
    "from src.eval_perf import official_F_score"
   ]
  },
  {
   "cell_type": "markdown",
   "metadata": {},
   "source": [
    "---"
   ]
  },
  {
   "cell_type": "markdown",
   "metadata": {},
   "source": [
    "### First we need to de-anonymize the paper identifiers"
   ]
  },
  {
   "cell_type": "code",
   "execution_count": 6,
   "metadata": {
    "collapsed": false
   },
   "outputs": [],
   "source": [
    "def read_orig_ids(fname):\n",
    "    title = dict()\n",
    "    for line in read_file(fname):\n",
    "        vals = line.split(\"|\")\n",
    "        if len(vals) == 3 and vals[1] == \"t\":\n",
    "            title[vals[2]] = int(vals[0])\n",
    "            \n",
    "    return title"
   ]
  },
  {
   "cell_type": "code",
   "execution_count": 7,
   "metadata": {
    "collapsed": false
   },
   "outputs": [],
   "source": [
    "fname = os.path.abspath(os.path.join(\"..\", \"data\", \"final_eval\", \"orig_data\", \"CDR_TestSet.txt\"))\n",
    "masked_titles = read_orig_ids(fname)\n",
    "\n",
    "fname = os.path.abspath(os.path.join(\"..\", \"data\", \"gold_standard\", \"CDR_TestSet.txt\"))\n",
    "real_titles = read_orig_ids(fname)"
   ]
  },
  {
   "cell_type": "code",
   "execution_count": 8,
   "metadata": {
    "collapsed": true
   },
   "outputs": [],
   "source": [
    "assert masked_titles.keys() == real_titles.keys()"
   ]
  },
  {
   "cell_type": "code",
   "execution_count": 9,
   "metadata": {
    "collapsed": true
   },
   "outputs": [],
   "source": [
    "paper_mapping = {masked_titles[title] : real_titles[title] for title in real_titles.keys()}\n",
    "save_file(\"testset_mapping.pickle\", paper_mapping)"
   ]
  },
  {
   "cell_type": "markdown",
   "metadata": {},
   "source": [
    "---"
   ]
  },
  {
   "cell_type": "markdown",
   "metadata": {},
   "source": [
    "### Read the gold standard"
   ]
  },
  {
   "cell_type": "code",
   "execution_count": 10,
   "metadata": {
    "collapsed": true
   },
   "outputs": [],
   "source": [
    "def read_gold_standard(dataset, file_format = \"list\"):\n",
    "    assert dataset in [\"training\", \"development\", \"test\"]\n",
    "    assert file_format in [\"list\", \"dict\"]\n",
    "    \n",
    "    fname = \"parsed_{0}_set_{1}.pickle\".format(dataset, file_format)\n",
    "    \n",
    "    save_loc = os.path.abspath(os.path.join(\"..\", \"data\", \"gold_standard\", fname))\n",
    "    \n",
    "    fname = \"CDR_{0}Set.txt\".format(dataset.capitalize())\n",
    "    loc = os.path.abspath(os.path.join(\"..\", \"data\", \"gold_standard\"))\n",
    "    \n",
    "    return parse_file(save_loc, loc = loc, fname = fname,\n",
    "        is_gold = True, return_format = file_format, fix_acronyms = False)"
   ]
  },
  {
   "cell_type": "code",
   "execution_count": 11,
   "metadata": {
    "collapsed": false,
    "scrolled": true
   },
   "outputs": [],
   "source": [
    "eval_gold = read_gold_standard(\"test\", file_format = \"dict\")"
   ]
  },
  {
   "cell_type": "markdown",
   "metadata": {},
   "source": [
    "### Read the original NER output"
   ]
  },
  {
   "cell_type": "code",
   "execution_count": 12,
   "metadata": {
    "collapsed": true
   },
   "outputs": [],
   "source": [
    "save_loc = loc = os.path.abspath(os.path.join(\"..\", \"data\", \"final_eval\", \"results\", \"crowd_testset.pickle\"))\n",
    "loc = os.path.abspath(os.path.join(\"..\", \"data\", \"final_eval\", \"results\", \"crowd_all_relations.txt\"))\n",
    "testset = parse_file(save_loc, loc = loc, fname = \"CDR_TestSet.txt\",\n",
    "                    is_gold = False, return_format = \"dict\", fix_acronyms = False)"
   ]
  },
  {
   "cell_type": "code",
   "execution_count": 13,
   "metadata": {
    "collapsed": true
   },
   "outputs": [],
   "source": [
    "def remap(papers):\n",
    "    res = dict()\n",
    "    for uid, paper in papers.items():\n",
    "        paper.pmid = paper_mapping[uid]\n",
    "        res[paper_mapping[uid]] = paper\n",
    "        \n",
    "    return res"
   ]
  },
  {
   "cell_type": "code",
   "execution_count": 14,
   "metadata": {
    "collapsed": false
   },
   "outputs": [],
   "source": [
    "if 0 in set(testset.keys()):\n",
    "    testset = remap(testset)\n",
    "    save_file(save_loc, testset)"
   ]
  },
  {
   "cell_type": "markdown",
   "metadata": {},
   "source": [
    "---"
   ]
  },
  {
   "cell_type": "markdown",
   "metadata": {},
   "source": [
    "### Read the crowd results"
   ]
  },
  {
   "cell_type": "code",
   "execution_count": 15,
   "metadata": {
    "collapsed": true
   },
   "outputs": [],
   "source": [
    "loc = os.path.abspath(os.path.join(\"..\", \"data\", \"final_eval\", \"results\", \"abstract_relation_res.tsv\"))\n",
    "\n",
    "abs_res = pd.read_csv(loc, sep = '\\t')\n",
    "abs_res = abs_res.rename(columns = {\"percent_agree\": \"norm_conf_score\"})"
   ]
  },
  {
   "cell_type": "code",
   "execution_count": 16,
   "metadata": {
    "collapsed": true
   },
   "outputs": [],
   "source": [
    "loc = os.path.abspath(os.path.join(\"..\", \"data\", \"final_eval\", \"results\", \"sentence_relation_abs_res.tsv\"))\n",
    "sent_res = pd.read_csv(loc, sep = '\\t')\n",
    "\n",
    "sent_res = sent_res.rename(columns = {\"conf_score\": \"norm_conf_score\",\n",
    "                                      \"score_vote_max\": \"num_votes\"})"
   ]
  },
  {
   "cell_type": "code",
   "execution_count": 17,
   "metadata": {
    "collapsed": true
   },
   "outputs": [],
   "source": [
    "abs_res.loc[:, \"pmid\"] = abs_res.loc[:, \"pmid\"].map(lambda val: paper_mapping[val])"
   ]
  },
  {
   "cell_type": "code",
   "execution_count": 18,
   "metadata": {
    "collapsed": true
   },
   "outputs": [],
   "source": [
    "sent_res.loc[:, \"pmid\"] = sent_res.loc[:, \"pmid\"].map(lambda val: paper_mapping[val])"
   ]
  },
  {
   "cell_type": "code",
   "execution_count": 19,
   "metadata": {
    "collapsed": false
   },
   "outputs": [
    {
     "data": {
      "text/html": [
       "<div>\n",
       "<table border=\"1\" class=\"dataframe\">\n",
       "  <thead>\n",
       "    <tr style=\"text-align: right;\">\n",
       "      <th></th>\n",
       "      <th>uniq_id</th>\n",
       "      <th>verify_relationship</th>\n",
       "      <th>conf_score</th>\n",
       "      <th>num_votes</th>\n",
       "      <th>norm_conf_score</th>\n",
       "      <th>pmid</th>\n",
       "      <th>unit_id</th>\n",
       "      <th>chemical_id</th>\n",
       "      <th>disease_id</th>\n",
       "    </tr>\n",
       "  </thead>\n",
       "  <tbody>\n",
       "    <tr>\n",
       "      <th>0</th>\n",
       "      <td>bcv_final_eval_hard_0</td>\n",
       "      <td>yes_direct</td>\n",
       "      <td>0.8182</td>\n",
       "      <td>1</td>\n",
       "      <td>0.198438</td>\n",
       "      <td>8701013</td>\n",
       "      <td>773935948</td>\n",
       "      <td>MESH:D006632</td>\n",
       "      <td>MESH:D003693</td>\n",
       "    </tr>\n",
       "    <tr>\n",
       "      <th>1</th>\n",
       "      <td>bcv_final_eval_hard_1</td>\n",
       "      <td>yes_direct</td>\n",
       "      <td>0.0000</td>\n",
       "      <td>0</td>\n",
       "      <td>0.000000</td>\n",
       "      <td>439781</td>\n",
       "      <td>773935949</td>\n",
       "      <td>MESH:D000809</td>\n",
       "      <td>MESH:D007022</td>\n",
       "    </tr>\n",
       "    <tr>\n",
       "      <th>2</th>\n",
       "      <td>bcv_final_eval_hard_10</td>\n",
       "      <td>yes_direct</td>\n",
       "      <td>0.0000</td>\n",
       "      <td>0</td>\n",
       "      <td>0.000000</td>\n",
       "      <td>23666265</td>\n",
       "      <td>773935958</td>\n",
       "      <td>MESH:D013498</td>\n",
       "      <td>MESH:D003556</td>\n",
       "    </tr>\n",
       "    <tr>\n",
       "      <th>3</th>\n",
       "      <td>bcv_final_eval_hard_100</td>\n",
       "      <td>yes_direct</td>\n",
       "      <td>0.0000</td>\n",
       "      <td>0</td>\n",
       "      <td>0.000000</td>\n",
       "      <td>24114426</td>\n",
       "      <td>773936048</td>\n",
       "      <td>MESH:D000431</td>\n",
       "      <td>MESH:D012893</td>\n",
       "    </tr>\n",
       "    <tr>\n",
       "      <th>4</th>\n",
       "      <td>bcv_final_eval_hard_1000</td>\n",
       "      <td>yes_direct</td>\n",
       "      <td>0.0000</td>\n",
       "      <td>0</td>\n",
       "      <td>0.000000</td>\n",
       "      <td>3155884</td>\n",
       "      <td>773936948</td>\n",
       "      <td>MESH:D004837</td>\n",
       "      <td>MESH:D009202</td>\n",
       "    </tr>\n",
       "  </tbody>\n",
       "</table>\n",
       "</div>"
      ],
      "text/plain": [
       "                    uniq_id verify_relationship  conf_score  num_votes  \\\n",
       "0     bcv_final_eval_hard_0          yes_direct      0.8182          1   \n",
       "1     bcv_final_eval_hard_1          yes_direct      0.0000          0   \n",
       "2    bcv_final_eval_hard_10          yes_direct      0.0000          0   \n",
       "3   bcv_final_eval_hard_100          yes_direct      0.0000          0   \n",
       "4  bcv_final_eval_hard_1000          yes_direct      0.0000          0   \n",
       "\n",
       "   norm_conf_score      pmid    unit_id   chemical_id    disease_id  \n",
       "0         0.198438   8701013  773935948  MESH:D006632  MESH:D003693  \n",
       "1         0.000000    439781  773935949  MESH:D000809  MESH:D007022  \n",
       "2         0.000000  23666265  773935958  MESH:D013498  MESH:D003556  \n",
       "3         0.000000  24114426  773936048  MESH:D000431  MESH:D012893  \n",
       "4         0.000000   3155884  773936948  MESH:D004837  MESH:D009202  "
      ]
     },
     "execution_count": 19,
     "metadata": {},
     "output_type": "execute_result"
    }
   ],
   "source": [
    "abs_res.head()"
   ]
  },
  {
   "cell_type": "code",
   "execution_count": 20,
   "metadata": {
    "collapsed": false
   },
   "outputs": [
    {
     "data": {
      "text/html": [
       "<div>\n",
       "<table border=\"1\" class=\"dataframe\">\n",
       "  <thead>\n",
       "    <tr style=\"text-align: right;\">\n",
       "      <th></th>\n",
       "      <th>chemical_id</th>\n",
       "      <th>norm_conf_score</th>\n",
       "      <th>disease_id</th>\n",
       "      <th>pmid</th>\n",
       "      <th>num_votes</th>\n",
       "      <th>sentence_ids</th>\n",
       "      <th>uniq_ids</th>\n",
       "      <th>unit_ids</th>\n",
       "    </tr>\n",
       "  </thead>\n",
       "  <tbody>\n",
       "    <tr>\n",
       "      <th>0</th>\n",
       "      <td>MESH:D006632</td>\n",
       "      <td>0.000000</td>\n",
       "      <td>MESH:D014456</td>\n",
       "      <td>8701013</td>\n",
       "      <td>0</td>\n",
       "      <td>0_1</td>\n",
       "      <td>bcv_final_eval_easy_1</td>\n",
       "      <td>773931696</td>\n",
       "    </tr>\n",
       "    <tr>\n",
       "      <th>1</th>\n",
       "      <td>MESH:D015738</td>\n",
       "      <td>1.000000</td>\n",
       "      <td>MESH:D003693</td>\n",
       "      <td>8701013</td>\n",
       "      <td>5</td>\n",
       "      <td>0_0|0_2|0_3</td>\n",
       "      <td>bcv_final_eval_easy_0|bcv_final_eval_easy_3|bc...</td>\n",
       "      <td>773931695|773931698|773931699</td>\n",
       "    </tr>\n",
       "    <tr>\n",
       "      <th>2</th>\n",
       "      <td>MESH:D015738</td>\n",
       "      <td>0.000000</td>\n",
       "      <td>MESH:D014456</td>\n",
       "      <td>8701013</td>\n",
       "      <td>0</td>\n",
       "      <td>0_1</td>\n",
       "      <td>bcv_final_eval_easy_2</td>\n",
       "      <td>773931697</td>\n",
       "    </tr>\n",
       "    <tr>\n",
       "      <th>3</th>\n",
       "      <td>MESH:D012964</td>\n",
       "      <td>0.189597</td>\n",
       "      <td>MESH:D007022</td>\n",
       "      <td>439781</td>\n",
       "      <td>1</td>\n",
       "      <td>1_0</td>\n",
       "      <td>bcv_final_eval_easy_5</td>\n",
       "      <td>773931700</td>\n",
       "    </tr>\n",
       "    <tr>\n",
       "      <th>4</th>\n",
       "      <td>MESH:D000305</td>\n",
       "      <td>0.802824</td>\n",
       "      <td>MESH:D007674</td>\n",
       "      <td>22836123</td>\n",
       "      <td>4</td>\n",
       "      <td>2_4</td>\n",
       "      <td>bcv_final_eval_easy_10</td>\n",
       "      <td>773931705</td>\n",
       "    </tr>\n",
       "  </tbody>\n",
       "</table>\n",
       "</div>"
      ],
      "text/plain": [
       "    chemical_id  norm_conf_score    disease_id      pmid  num_votes  \\\n",
       "0  MESH:D006632         0.000000  MESH:D014456   8701013          0   \n",
       "1  MESH:D015738         1.000000  MESH:D003693   8701013          5   \n",
       "2  MESH:D015738         0.000000  MESH:D014456   8701013          0   \n",
       "3  MESH:D012964         0.189597  MESH:D007022    439781          1   \n",
       "4  MESH:D000305         0.802824  MESH:D007674  22836123          4   \n",
       "\n",
       "  sentence_ids                                           uniq_ids  \\\n",
       "0          0_1                              bcv_final_eval_easy_1   \n",
       "1  0_0|0_2|0_3  bcv_final_eval_easy_0|bcv_final_eval_easy_3|bc...   \n",
       "2          0_1                              bcv_final_eval_easy_2   \n",
       "3          1_0                              bcv_final_eval_easy_5   \n",
       "4          2_4                             bcv_final_eval_easy_10   \n",
       "\n",
       "                        unit_ids  \n",
       "0                      773931696  \n",
       "1  773931695|773931698|773931699  \n",
       "2                      773931697  \n",
       "3                      773931700  \n",
       "4                      773931705  "
      ]
     },
     "execution_count": 20,
     "metadata": {},
     "output_type": "execute_result"
    }
   ],
   "source": [
    "sent_res.head()"
   ]
  },
  {
   "cell_type": "code",
   "execution_count": 21,
   "metadata": {
    "collapsed": true
   },
   "outputs": [],
   "source": [
    "loc = os.path.abspath(os.path.join(\"..\", \"data\", \"final_eval\", \"cid_relations.pickle\"))\n",
    "cid_rels = save_file(loc)\n",
    "\n",
    "cid_rels = {paper_mapping[pmid] : rels for pmid, rels in cid_rels.items()}"
   ]
  },
  {
   "cell_type": "markdown",
   "metadata": {},
   "source": [
    "## Combine all results together"
   ]
  },
  {
   "cell_type": "code",
   "execution_count": 22,
   "metadata": {
    "collapsed": true
   },
   "outputs": [],
   "source": [
    "def flat_repr(id_set):\n",
    "    vals = [\"{0}:{1}\".format(v.uid_type, v.uid) for v in id_set]\n",
    "    return \"|\".join(sorted(vals))"
   ]
  },
  {
   "cell_type": "code",
   "execution_count": 23,
   "metadata": {
    "collapsed": true
   },
   "outputs": [],
   "source": [
    "def merge_results():\n",
    "    temp = []    \n",
    "    cols = [\"pmid\", \"chemical_id\", \"disease_id\", \"norm_conf_score\", \"num_votes\"]\n",
    "    \n",
    "    sub = abs_res.loc[:, cols]\n",
    "    sub.loc[:, \"rel_origin\"] = \"abstract_task\"\n",
    "    temp.append(sub)\n",
    "\n",
    "    sub = sent_res.loc[:, cols]\n",
    "    sub.loc[:, \"rel_origin\"] = \"sentence_task\"\n",
    "    temp.append(sub)\n",
    "    \n",
    "    things = defaultdict(list)\n",
    "    for pmid, rels in cid_rels.items():\n",
    "        for cid_relation in rels:\n",
    "            things[\"pmid\"].append(pmid)\n",
    "            things[\"chemical_id\"].append(flat_repr(cid_relation[0]))\n",
    "            things[\"disease_id\"].append(flat_repr(cid_relation[1]))\n",
    "            \n",
    "    things = pd.DataFrame(things)\n",
    "    things.loc[:, \"norm_conf_score\"] = 1\n",
    "    things.loc[:, \"num_votes\"] = 5\n",
    "    things.loc[:, \"rel_origin\"] = \"cid_relation\"\n",
    "    temp.append(things)\n",
    "    \n",
    "    return pd.concat(temp).sort([\"pmid\", \"num_votes\", \"rel_origin\",\n",
    "                                \"chemical_id\", \"disease_id\"]).reset_index(drop = True)"
   ]
  },
  {
   "cell_type": "code",
   "execution_count": 24,
   "metadata": {
    "collapsed": true
   },
   "outputs": [],
   "source": [
    "final_results = merge_results()"
   ]
  },
  {
   "cell_type": "code",
   "execution_count": 25,
   "metadata": {
    "collapsed": false
   },
   "outputs": [
    {
     "data": {
      "text/html": [
       "<div>\n",
       "<table border=\"1\" class=\"dataframe\">\n",
       "  <thead>\n",
       "    <tr style=\"text-align: right;\">\n",
       "      <th></th>\n",
       "      <th>chemical_id</th>\n",
       "      <th>disease_id</th>\n",
       "      <th>norm_conf_score</th>\n",
       "      <th>num_votes</th>\n",
       "      <th>pmid</th>\n",
       "      <th>rel_origin</th>\n",
       "    </tr>\n",
       "  </thead>\n",
       "  <tbody>\n",
       "    <tr>\n",
       "      <th>0</th>\n",
       "      <td>MESH:C009695</td>\n",
       "      <td>MESH:D000699</td>\n",
       "      <td>0.000000</td>\n",
       "      <td>0</td>\n",
       "      <td>35781</td>\n",
       "      <td>sentence_task</td>\n",
       "    </tr>\n",
       "    <tr>\n",
       "      <th>1</th>\n",
       "      <td>MESH:C009695</td>\n",
       "      <td>MESH:D002375</td>\n",
       "      <td>0.000000</td>\n",
       "      <td>0</td>\n",
       "      <td>35781</td>\n",
       "      <td>sentence_task</td>\n",
       "    </tr>\n",
       "    <tr>\n",
       "      <th>2</th>\n",
       "      <td>MESH:D003000</td>\n",
       "      <td>MESH:D000699</td>\n",
       "      <td>0.000000</td>\n",
       "      <td>0</td>\n",
       "      <td>35781</td>\n",
       "      <td>sentence_task</td>\n",
       "    </tr>\n",
       "    <tr>\n",
       "      <th>3</th>\n",
       "      <td>MESH:D009278</td>\n",
       "      <td>MESH:D002375</td>\n",
       "      <td>0.000000</td>\n",
       "      <td>0</td>\n",
       "      <td>35781</td>\n",
       "      <td>sentence_task</td>\n",
       "    </tr>\n",
       "    <tr>\n",
       "      <th>4</th>\n",
       "      <td>MESH:D009638</td>\n",
       "      <td>MESH:D000699</td>\n",
       "      <td>0.185347</td>\n",
       "      <td>1</td>\n",
       "      <td>35781</td>\n",
       "      <td>abstract_task</td>\n",
       "    </tr>\n",
       "  </tbody>\n",
       "</table>\n",
       "</div>"
      ],
      "text/plain": [
       "    chemical_id    disease_id  norm_conf_score  num_votes   pmid  \\\n",
       "0  MESH:C009695  MESH:D000699         0.000000          0  35781   \n",
       "1  MESH:C009695  MESH:D002375         0.000000          0  35781   \n",
       "2  MESH:D003000  MESH:D000699         0.000000          0  35781   \n",
       "3  MESH:D009278  MESH:D002375         0.000000          0  35781   \n",
       "4  MESH:D009638  MESH:D000699         0.185347          1  35781   \n",
       "\n",
       "      rel_origin  \n",
       "0  sentence_task  \n",
       "1  sentence_task  \n",
       "2  sentence_task  \n",
       "3  sentence_task  \n",
       "4  abstract_task  "
      ]
     },
     "execution_count": 25,
     "metadata": {},
     "output_type": "execute_result"
    }
   ],
   "source": [
    "final_results.head()"
   ]
  },
  {
   "cell_type": "code",
   "execution_count": 26,
   "metadata": {
    "collapsed": false
   },
   "outputs": [
    {
     "data": {
      "text/plain": [
       "(4920, 6)"
      ]
     },
     "execution_count": 26,
     "metadata": {},
     "output_type": "execute_result"
    }
   ],
   "source": [
    "final_results.shape"
   ]
  },
  {
   "cell_type": "code",
   "execution_count": 27,
   "metadata": {
    "collapsed": true
   },
   "outputs": [],
   "source": [
    "save_file(\"testset_final_res.pickle\", final_results)"
   ]
  },
  {
   "cell_type": "code",
   "execution_count": 28,
   "metadata": {
    "collapsed": false
   },
   "outputs": [],
   "source": [
    "# change 6 votes to 5 votes for the purposes of evaluation\n",
    "final_results.loc[:, \"num_votes\"] = final_results.num_votes.map(\n",
    "    lambda v: 5 if v > 5 else v\n",
    ")"
   ]
  },
  {
   "cell_type": "code",
   "execution_count": 29,
   "metadata": {
    "collapsed": false
   },
   "outputs": [
    {
     "data": {
      "text/plain": [
       "0    1664\n",
       "1     999\n",
       "5     766\n",
       "2     624\n",
       "4     445\n",
       "3     422\n",
       "dtype: int64"
      ]
     },
     "execution_count": 29,
     "metadata": {},
     "output_type": "execute_result"
    }
   ],
   "source": [
    "final_results[\"num_votes\"].value_counts()"
   ]
  },
  {
   "cell_type": "markdown",
   "metadata": {},
   "source": [
    "---"
   ]
  },
  {
   "cell_type": "markdown",
   "metadata": {},
   "source": [
    "## Performance"
   ]
  },
  {
   "cell_type": "code",
   "execution_count": 28,
   "metadata": {
    "collapsed": true
   },
   "outputs": [],
   "source": [
    "def parse_annots(papers):\n",
    "    ans = set()\n",
    "    for pmid, paper in papers.items():\n",
    "        for annot in paper.annotations:\n",
    "            ans.add((pmid, annot))\n",
    "            \n",
    "    return ans"
   ]
  },
  {
   "cell_type": "markdown",
   "metadata": {},
   "source": [
    "### NER performance by tmChem and DNorm"
   ]
  },
  {
   "cell_type": "code",
   "execution_count": 29,
   "metadata": {
    "collapsed": false
   },
   "outputs": [
    {
     "name": "stdout",
     "output_type": "stream",
     "text": [
      "# True pos: 7684\n",
      "# False pos: 1645\n",
      "# False neg: 2125\n",
      "Precision: 0.8236681316325437\n",
      "Recall: 0.7833622183708839\n",
      "F-score: 0.803009718883896\n"
     ]
    }
   ],
   "source": [
    "predict = parse_annots(testset)\n",
    "performance(parse_annots(eval_gold), predict, human_readable = True)"
   ]
  },
  {
   "cell_type": "markdown",
   "metadata": {},
   "source": [
    "F-score on the NER is only 0.803, which is good but not terribly great. Not bad for an out of the box configuration though."
   ]
  },
  {
   "cell_type": "markdown",
   "metadata": {},
   "source": [
    "### CID relation performance"
   ]
  },
  {
   "cell_type": "code",
   "execution_count": 30,
   "metadata": {
    "collapsed": true
   },
   "outputs": [],
   "source": [
    "def official_F_score(score_column, gold_rel_set, dataframe, apply_mesh_filter = False):\n",
    "    def apply_filter(predict):\n",
    "        # filter using mesh ontology\n",
    "        res = set()\n",
    "        \n",
    "        # group by pmid\n",
    "        temp = sorted(list(predict), key = lambda val: val[0])\n",
    "        for pmid, group in groupby(temp, lambda val: val[0]):            \n",
    "            rels = [Simple_Rel(pmid, Ontology_ID(chem), Ontology_ID(dise)) for info, chem, dise in group]\n",
    "            filtered = filter_relations(rels)\n",
    "            filtered = [(rel.pmid, rel.chemical.flat_repr, rel.disease.flat_repr) for rel in filtered]\n",
    "            \n",
    "            res |= set(filtered)\n",
    "            \n",
    "        return res\n",
    "    \n",
    "    EPSILON = 0.0000001\n",
    "    \n",
    "    res = defaultdict(list)\n",
    "    for threshold in dataframe[score_column].unique():\n",
    "        sub = dataframe.query(\"{0} > {1} or -{2} <= {0} - {1} <= {2}\".format(score_column, threshold, EPSILON))\n",
    "        \n",
    "        # grab the relation ids we guessed\n",
    "        predict = set(sub[[\"pmid\", \"chemical_id\", \"disease_id\"]].apply(\n",
    "                lambda row: (int(row[\"pmid\"]), row[\"chemical_id\"], row[\"disease_id\"]), axis = 1))\n",
    "        \n",
    "        if apply_mesh_filter:\n",
    "            predict = apply_filter(predict)\n",
    "        \n",
    "        precision, recall, f1 = performance(gold_rel_set, predict)\n",
    "        \n",
    "        res[\"recall\"].append(recall)\n",
    "        res[\"precision\"].append(precision)\n",
    "        res[\"threshold\"].append(threshold)\n",
    "        res[\"F_score\"].append(f1)\n",
    "        \n",
    "    return pd.DataFrame(res)"
   ]
  },
  {
   "cell_type": "code",
   "execution_count": 31,
   "metadata": {
    "collapsed": true
   },
   "outputs": [],
   "source": [
    "def simple_repr(id_set):\n",
    "    assert len(id_set) == 1\n",
    "    return list(id_set)[0].flat_repr\n",
    "\n",
    "def get_gold_rels(gold_std):\n",
    "    res = set()\n",
    "    for pmid, paper in gold_std.items():\n",
    "        for rel in paper.gold_relations:\n",
    "            res.add((int(pmid), simple_repr(rel.chemical_id), simple_repr(rel.disease_id)))\n",
    "            \n",
    "    return res"
   ]
  },
  {
   "cell_type": "code",
   "execution_count": 32,
   "metadata": {
    "collapsed": false
   },
   "outputs": [],
   "source": [
    "gold_relations = get_gold_rels(eval_gold)"
   ]
  },
  {
   "cell_type": "code",
   "execution_count": 33,
   "metadata": {
    "collapsed": false
   },
   "outputs": [
    {
     "data": {
      "text/plain": [
       "1066"
      ]
     },
     "execution_count": 33,
     "metadata": {},
     "output_type": "execute_result"
    }
   ],
   "source": [
    "len(gold_relations)"
   ]
  },
  {
   "cell_type": "code",
   "execution_count": 34,
   "metadata": {
    "collapsed": true
   },
   "outputs": [],
   "source": [
    "official_res = official_F_score(\"num_votes\", gold_relations, final_results, apply_mesh_filter = False).sort(\"threshold\")"
   ]
  },
  {
   "cell_type": "code",
   "execution_count": 35,
   "metadata": {
    "collapsed": false
   },
   "outputs": [
    {
     "data": {
      "text/html": [
       "<div>\n",
       "<table border=\"1\" class=\"dataframe\">\n",
       "  <thead>\n",
       "    <tr style=\"text-align: right;\">\n",
       "      <th></th>\n",
       "      <th>F_score</th>\n",
       "      <th>precision</th>\n",
       "      <th>recall</th>\n",
       "      <th>threshold</th>\n",
       "    </tr>\n",
       "  </thead>\n",
       "  <tbody>\n",
       "    <tr>\n",
       "      <th>0</th>\n",
       "      <td>0.267624</td>\n",
       "      <td>0.162805</td>\n",
       "      <td>0.751407</td>\n",
       "      <td>0</td>\n",
       "    </tr>\n",
       "    <tr>\n",
       "      <th>1</th>\n",
       "      <td>0.356317</td>\n",
       "      <td>0.236486</td>\n",
       "      <td>0.722326</td>\n",
       "      <td>1</td>\n",
       "    </tr>\n",
       "    <tr>\n",
       "      <th>2</th>\n",
       "      <td>0.444779</td>\n",
       "      <td>0.327426</td>\n",
       "      <td>0.693246</td>\n",
       "      <td>2</td>\n",
       "    </tr>\n",
       "    <tr>\n",
       "      <th>3</th>\n",
       "      <td>0.496480</td>\n",
       "      <td>0.410288</td>\n",
       "      <td>0.628518</td>\n",
       "      <td>3</td>\n",
       "    </tr>\n",
       "    <tr>\n",
       "      <th>4</th>\n",
       "      <td>0.505929</td>\n",
       "      <td>0.475640</td>\n",
       "      <td>0.540338</td>\n",
       "      <td>4</td>\n",
       "    </tr>\n",
       "    <tr>\n",
       "      <th>5</th>\n",
       "      <td>0.465066</td>\n",
       "      <td>0.556136</td>\n",
       "      <td>0.399625</td>\n",
       "      <td>5</td>\n",
       "    </tr>\n",
       "    <tr>\n",
       "      <th>6</th>\n",
       "      <td>0.003742</td>\n",
       "      <td>0.666667</td>\n",
       "      <td>0.001876</td>\n",
       "      <td>6</td>\n",
       "    </tr>\n",
       "  </tbody>\n",
       "</table>\n",
       "</div>"
      ],
      "text/plain": [
       "    F_score  precision    recall  threshold\n",
       "0  0.267624   0.162805  0.751407          0\n",
       "1  0.356317   0.236486  0.722326          1\n",
       "2  0.444779   0.327426  0.693246          2\n",
       "3  0.496480   0.410288  0.628518          3\n",
       "4  0.505929   0.475640  0.540338          4\n",
       "5  0.465066   0.556136  0.399625          5\n",
       "6  0.003742   0.666667  0.001876          6"
      ]
     },
     "execution_count": 35,
     "metadata": {},
     "output_type": "execute_result"
    }
   ],
   "source": [
    "official_res"
   ]
  },
  {
   "cell_type": "markdown",
   "metadata": {},
   "source": [
    "These results exactly match what Yifan sent us for the official evaluations. This is good, because it means that I reproduced things correctly."
   ]
  },
  {
   "cell_type": "code",
   "execution_count": 36,
   "metadata": {
    "collapsed": true
   },
   "outputs": [],
   "source": [
    "def plot_results(res, title, xlabel, fontsize, figsize, linewidth, fname = None):\n",
    "    res = res.sort(\"threshold\")\n",
    "    matplotlib.rcParams.update({'font.size': fontsize})\n",
    "\n",
    "    graph = res.plot(x = \"threshold\", figsize = figsize,\n",
    "                     linewidth = linewidth, title = title)\n",
    "    graph.set_ylim((0, 1.1))\n",
    "    graph.set_xlabel(xlabel)\n",
    "    \n",
    "    if fname is not None:\n",
    "        plt.savefig(fname, bbox_inches = \"tight\")"
   ]
  },
  {
   "cell_type": "code",
   "execution_count": 37,
   "metadata": {
    "collapsed": false
   },
   "outputs": [
    {
     "data": {
      "image/png": "[encoded data removed]",
      "text/plain": [
       "<matplotlib.figure.Figure at 0x7feb31955668>"
      ]
     },
     "metadata": {},
     "output_type": "display_data"
    }
   ],
   "source": [
    "plot_results(official_res, \"Crowd Performance Against Gold Standard (evaluation dataset)\",\n",
    "            \"Number of positive votes\", 12, (7, 7), 1)"
   ]
  },
  {
   "cell_type": "markdown",
   "metadata": {},
   "source": [
    "### Performance with MeSH filtering"
   ]
  },
  {
   "cell_type": "code",
   "execution_count": 38,
   "metadata": {
    "collapsed": false
   },
   "outputs": [],
   "source": [
    "filtered_res = official_F_score(\"num_votes\", gold_relations, final_results, apply_mesh_filter = True).sort(\"threshold\")"
   ]
  },
  {
   "cell_type": "code",
   "execution_count": 39,
   "metadata": {
    "collapsed": false
   },
   "outputs": [
    {
     "data": {
      "text/html": [
       "<div>\n",
       "<table border=\"1\" class=\"dataframe\">\n",
       "  <thead>\n",
       "    <tr style=\"text-align: right;\">\n",
       "      <th></th>\n",
       "      <th>F_score</th>\n",
       "      <th>precision</th>\n",
       "      <th>recall</th>\n",
       "      <th>threshold</th>\n",
       "    </tr>\n",
       "  </thead>\n",
       "  <tbody>\n",
       "    <tr>\n",
       "      <th>0</th>\n",
       "      <td>0.290285</td>\n",
       "      <td>0.182678</td>\n",
       "      <td>0.706379</td>\n",
       "      <td>0</td>\n",
       "    </tr>\n",
       "    <tr>\n",
       "      <th>1</th>\n",
       "      <td>0.375514</td>\n",
       "      <td>0.258682</td>\n",
       "      <td>0.684803</td>\n",
       "      <td>1</td>\n",
       "    </tr>\n",
       "    <tr>\n",
       "      <th>2</th>\n",
       "      <td>0.460281</td>\n",
       "      <td>0.353236</td>\n",
       "      <td>0.660413</td>\n",
       "      <td>2</td>\n",
       "    </tr>\n",
       "    <tr>\n",
       "      <th>3</th>\n",
       "      <td>0.509680</td>\n",
       "      <td>0.440273</td>\n",
       "      <td>0.605066</td>\n",
       "      <td>3</td>\n",
       "    </tr>\n",
       "    <tr>\n",
       "      <th>4</th>\n",
       "      <td>0.514049</td>\n",
       "      <td>0.504977</td>\n",
       "      <td>0.523452</td>\n",
       "      <td>4</td>\n",
       "    </tr>\n",
       "    <tr>\n",
       "      <th>5</th>\n",
       "      <td>0.464907</td>\n",
       "      <td>0.579021</td>\n",
       "      <td>0.388368</td>\n",
       "      <td>5</td>\n",
       "    </tr>\n",
       "    <tr>\n",
       "      <th>6</th>\n",
       "      <td>0.003742</td>\n",
       "      <td>0.666667</td>\n",
       "      <td>0.001876</td>\n",
       "      <td>6</td>\n",
       "    </tr>\n",
       "  </tbody>\n",
       "</table>\n",
       "</div>"
      ],
      "text/plain": [
       "    F_score  precision    recall  threshold\n",
       "0  0.290285   0.182678  0.706379          0\n",
       "1  0.375514   0.258682  0.684803          1\n",
       "2  0.460281   0.353236  0.660413          2\n",
       "3  0.509680   0.440273  0.605066          3\n",
       "4  0.514049   0.504977  0.523452          4\n",
       "5  0.464907   0.579021  0.388368          5\n",
       "6  0.003742   0.666667  0.001876          6"
      ]
     },
     "execution_count": 39,
     "metadata": {},
     "output_type": "execute_result"
    }
   ],
   "source": [
    "filtered_res"
   ]
  },
  {
   "cell_type": "code",
   "execution_count": 40,
   "metadata": {
    "collapsed": true
   },
   "outputs": [],
   "source": [
    "def pair_plot(df1, df2, title, xlabel, fontsize, figsize, linewidth, fname = None):\n",
    "    matplotlib.rcParams.update({\"font.size\": fontsize})\n",
    "\n",
    "    ax = df1.plot(x = \"threshold\", figsize = figsize,\n",
    "                  title = title, ylim = (0, 1.05), linewidth = linewidth)\n",
    "\n",
    "    ax = df2.plot(ax = ax, x = \"threshold\", linestyle = \"--\", linewidth = linewidth)\n",
    "    ax.set_xlabel(xlabel)\n",
    "\n",
    "    if fname is not None:\n",
    "        plt.savefig(fname, bbox_inches = \"tight\")"
   ]
  },
  {
   "cell_type": "code",
   "execution_count": 41,
   "metadata": {
    "collapsed": false
   },
   "outputs": [
    {
     "data": {
      "image/png": "[encoded data removed]",
      "text/plain": [
       "<matplotlib.figure.Figure at 0x7fd3180bac50>"
      ]
     },
     "metadata": {},
     "output_type": "display_data"
    }
   ],
   "source": [
    "pair_plot(official_res, filtered_res, \"Performance on evaluation dataset with MeSH filter\",\n",
    "          \"Number of votes\", 12, (7, 7), 2)"
   ]
  },
  {
   "cell_type": "markdown",
   "metadata": {},
   "source": [
    "---"
   ]
  },
  {
   "cell_type": "markdown",
   "metadata": {},
   "source": [
    "### Performance with NER mistakes filtered out"
   ]
  },
  {
   "cell_type": "code",
   "execution_count": 42,
   "metadata": {
    "collapsed": true
   },
   "outputs": [],
   "source": [
    "def has_concept(paper, concept_id):\n",
    "    concepts = set()\n",
    "    for annot in paper.annotations:\n",
    "        concepts |= set([iden.flat_repr for iden in annot.uid if iden.uid_type == \"MESH\"])\n",
    "    \n",
    "    return concept_id in concepts"
   ]
  },
  {
   "cell_type": "code",
   "execution_count": 43,
   "metadata": {
    "collapsed": false
   },
   "outputs": [],
   "source": [
    "final_results[\"chem_exists\"] = final_results[[\"pmid\", \"chemical_id\"]].apply(lambda row: has_concept(eval_gold[int(row[\"pmid\"])], row[\"chemical_id\"]), axis = 1)\n",
    "\n",
    "final_results[\"dise_exists\"] = final_results[[\"pmid\", \"disease_id\"]].apply(lambda row: has_concept(eval_gold[int(row[\"pmid\"])], row[\"disease_id\"]), axis = 1)"
   ]
  },
  {
   "cell_type": "code",
   "execution_count": 44,
   "metadata": {
    "collapsed": false
   },
   "outputs": [
    {
     "data": {
      "text/html": [
       "<div>\n",
       "<table border=\"1\" class=\"dataframe\">\n",
       "  <thead>\n",
       "    <tr style=\"text-align: right;\">\n",
       "      <th></th>\n",
       "      <th>chemical_id</th>\n",
       "      <th>disease_id</th>\n",
       "      <th>norm_conf_score</th>\n",
       "      <th>num_votes</th>\n",
       "      <th>pmid</th>\n",
       "      <th>rel_origin</th>\n",
       "      <th>chem_exists</th>\n",
       "      <th>dise_exists</th>\n",
       "    </tr>\n",
       "  </thead>\n",
       "  <tbody>\n",
       "    <tr>\n",
       "      <th>0</th>\n",
       "      <td>MESH:C009695</td>\n",
       "      <td>MESH:D000699</td>\n",
       "      <td>0.000000</td>\n",
       "      <td>0</td>\n",
       "      <td>35781</td>\n",
       "      <td>sentence_task</td>\n",
       "      <td>True</td>\n",
       "      <td>False</td>\n",
       "    </tr>\n",
       "    <tr>\n",
       "      <th>1</th>\n",
       "      <td>MESH:C009695</td>\n",
       "      <td>MESH:D002375</td>\n",
       "      <td>0.000000</td>\n",
       "      <td>0</td>\n",
       "      <td>35781</td>\n",
       "      <td>sentence_task</td>\n",
       "      <td>True</td>\n",
       "      <td>True</td>\n",
       "    </tr>\n",
       "    <tr>\n",
       "      <th>2</th>\n",
       "      <td>MESH:D003000</td>\n",
       "      <td>MESH:D000699</td>\n",
       "      <td>0.000000</td>\n",
       "      <td>0</td>\n",
       "      <td>35781</td>\n",
       "      <td>sentence_task</td>\n",
       "      <td>True</td>\n",
       "      <td>False</td>\n",
       "    </tr>\n",
       "    <tr>\n",
       "      <th>3</th>\n",
       "      <td>MESH:D009278</td>\n",
       "      <td>MESH:D002375</td>\n",
       "      <td>0.000000</td>\n",
       "      <td>0</td>\n",
       "      <td>35781</td>\n",
       "      <td>sentence_task</td>\n",
       "      <td>True</td>\n",
       "      <td>True</td>\n",
       "    </tr>\n",
       "    <tr>\n",
       "      <th>4</th>\n",
       "      <td>MESH:D009638</td>\n",
       "      <td>MESH:D000699</td>\n",
       "      <td>0.185347</td>\n",
       "      <td>1</td>\n",
       "      <td>35781</td>\n",
       "      <td>abstract_task</td>\n",
       "      <td>True</td>\n",
       "      <td>False</td>\n",
       "    </tr>\n",
       "  </tbody>\n",
       "</table>\n",
       "</div>"
      ],
      "text/plain": [
       "    chemical_id    disease_id  norm_conf_score  num_votes   pmid  \\\n",
       "0  MESH:C009695  MESH:D000699         0.000000          0  35781   \n",
       "1  MESH:C009695  MESH:D002375         0.000000          0  35781   \n",
       "2  MESH:D003000  MESH:D000699         0.000000          0  35781   \n",
       "3  MESH:D009278  MESH:D002375         0.000000          0  35781   \n",
       "4  MESH:D009638  MESH:D000699         0.185347          1  35781   \n",
       "\n",
       "      rel_origin chem_exists dise_exists  \n",
       "0  sentence_task        True       False  \n",
       "1  sentence_task        True        True  \n",
       "2  sentence_task        True       False  \n",
       "3  sentence_task        True        True  \n",
       "4  abstract_task        True       False  "
      ]
     },
     "execution_count": 44,
     "metadata": {},
     "output_type": "execute_result"
    }
   ],
   "source": [
    "final_results.head()"
   ]
  },
  {
   "cell_type": "code",
   "execution_count": 45,
   "metadata": {
    "collapsed": false
   },
   "outputs": [
    {
     "data": {
      "text/plain": [
       "True     4787\n",
       "False     133\n",
       "dtype: int64"
      ]
     },
     "execution_count": 45,
     "metadata": {},
     "output_type": "execute_result"
    }
   ],
   "source": [
    "final_results[\"chem_exists\"].value_counts()"
   ]
  },
  {
   "cell_type": "code",
   "execution_count": 46,
   "metadata": {
    "collapsed": false
   },
   "outputs": [
    {
     "data": {
      "text/plain": [
       "True     4029\n",
       "False     891\n",
       "dtype: int64"
      ]
     },
     "execution_count": 46,
     "metadata": {},
     "output_type": "execute_result"
    }
   ],
   "source": [
    "final_results[\"dise_exists\"].value_counts()"
   ]
  },
  {
   "cell_type": "code",
   "execution_count": 47,
   "metadata": {
    "collapsed": true
   },
   "outputs": [],
   "source": [
    "def filter_gold(gold_rels, dataframe):\n",
    "    concepts = defaultdict(set)\n",
    "    for pmid, group in dataframe.groupby(\"pmid\"):\n",
    "        concepts[pmid] |= set(group[\"chemical_id\"]) | set(group[\"disease_id\"])\n",
    "        \n",
    "    res = set()\n",
    "    for pmid, chem, dise in gold_rels:\n",
    "        if set([chem, dise]) <= concepts[pmid]:\n",
    "            res.add((pmid, chem, dise))\n",
    "            \n",
    "    return res"
   ]
  },
  {
   "cell_type": "code",
   "execution_count": 48,
   "metadata": {
    "collapsed": true
   },
   "outputs": [],
   "source": [
    "indexable = final_results.query(\"chem_exists and dise_exists\")\n",
    "common_gold = filter_gold(gold_relations, indexable)"
   ]
  },
  {
   "cell_type": "code",
   "execution_count": 49,
   "metadata": {
    "collapsed": false
   },
   "outputs": [
    {
     "data": {
      "text/plain": [
       "801"
      ]
     },
     "execution_count": 49,
     "metadata": {},
     "output_type": "execute_result"
    }
   ],
   "source": [
    "len(common_gold)"
   ]
  },
  {
   "cell_type": "code",
   "execution_count": 50,
   "metadata": {
    "collapsed": true
   },
   "outputs": [],
   "source": [
    "no_ner_res = official_F_score(\"num_votes\", common_gold, indexable).sort(\"threshold\")"
   ]
  },
  {
   "cell_type": "code",
   "execution_count": 51,
   "metadata": {
    "collapsed": false
   },
   "outputs": [
    {
     "data": {
      "text/html": [
       "<div>\n",
       "<table border=\"1\" class=\"dataframe\">\n",
       "  <thead>\n",
       "    <tr style=\"text-align: right;\">\n",
       "      <th></th>\n",
       "      <th>F_score</th>\n",
       "      <th>precision</th>\n",
       "      <th>recall</th>\n",
       "      <th>threshold</th>\n",
       "    </tr>\n",
       "  </thead>\n",
       "  <tbody>\n",
       "    <tr>\n",
       "      <th>0</th>\n",
       "      <td>0.339551</td>\n",
       "      <td>0.204493</td>\n",
       "      <td>1.000000</td>\n",
       "      <td>0</td>\n",
       "    </tr>\n",
       "    <tr>\n",
       "      <th>1</th>\n",
       "      <td>0.447935</td>\n",
       "      <td>0.291998</td>\n",
       "      <td>0.961298</td>\n",
       "      <td>1</td>\n",
       "    </tr>\n",
       "    <tr>\n",
       "      <th>2</th>\n",
       "      <td>0.554181</td>\n",
       "      <td>0.396034</td>\n",
       "      <td>0.922597</td>\n",
       "      <td>2</td>\n",
       "    </tr>\n",
       "    <tr>\n",
       "      <th>3</th>\n",
       "      <td>0.618366</td>\n",
       "      <td>0.490483</td>\n",
       "      <td>0.836454</td>\n",
       "      <td>3</td>\n",
       "    </tr>\n",
       "    <tr>\n",
       "      <th>5</th>\n",
       "      <td>0.631579</td>\n",
       "      <td>0.563050</td>\n",
       "      <td>0.719101</td>\n",
       "      <td>4</td>\n",
       "    </tr>\n",
       "    <tr>\n",
       "      <th>4</th>\n",
       "      <td>0.581570</td>\n",
       "      <td>0.641566</td>\n",
       "      <td>0.531835</td>\n",
       "      <td>5</td>\n",
       "    </tr>\n",
       "    <tr>\n",
       "      <th>6</th>\n",
       "      <td>0.004975</td>\n",
       "      <td>0.666667</td>\n",
       "      <td>0.002497</td>\n",
       "      <td>6</td>\n",
       "    </tr>\n",
       "  </tbody>\n",
       "</table>\n",
       "</div>"
      ],
      "text/plain": [
       "    F_score  precision    recall  threshold\n",
       "0  0.339551   0.204493  1.000000          0\n",
       "1  0.447935   0.291998  0.961298          1\n",
       "2  0.554181   0.396034  0.922597          2\n",
       "3  0.618366   0.490483  0.836454          3\n",
       "5  0.631579   0.563050  0.719101          4\n",
       "4  0.581570   0.641566  0.531835          5\n",
       "6  0.004975   0.666667  0.002497          6"
      ]
     },
     "execution_count": 51,
     "metadata": {},
     "output_type": "execute_result"
    }
   ],
   "source": [
    "no_ner_res"
   ]
  },
  {
   "cell_type": "code",
   "execution_count": 52,
   "metadata": {
    "collapsed": false
   },
   "outputs": [
    {
     "data": {
      "image/png": "[encoded data removed]",
      "text/plain": [
       "<matplotlib.figure.Figure at 0x7fd317da0048>"
      ]
     },
     "metadata": {},
     "output_type": "display_data"
    }
   ],
   "source": [
    "pair_plot(official_res, no_ner_res, \"Performance on evaluation dataset with NER removed\",\n",
    "          \"Number of votes\", 12, (7, 7), 2)"
   ]
  },
  {
   "cell_type": "code",
   "execution_count": 53,
   "metadata": {
    "collapsed": true
   },
   "outputs": [],
   "source": [
    "no_ner_filtered = official_F_score(\"num_votes\", common_gold, indexable, True).sort(\"threshold\")"
   ]
  },
  {
   "cell_type": "code",
   "execution_count": 54,
   "metadata": {
    "collapsed": false
   },
   "outputs": [
    {
     "data": {
      "text/html": [
       "<div>\n",
       "<table border=\"1\" class=\"dataframe\">\n",
       "  <thead>\n",
       "    <tr style=\"text-align: right;\">\n",
       "      <th></th>\n",
       "      <th>F_score</th>\n",
       "      <th>precision</th>\n",
       "      <th>recall</th>\n",
       "      <th>threshold</th>\n",
       "    </tr>\n",
       "  </thead>\n",
       "  <tbody>\n",
       "    <tr>\n",
       "      <th>0</th>\n",
       "      <td>0.362122</td>\n",
       "      <td>0.223692</td>\n",
       "      <td>0.950062</td>\n",
       "      <td>0</td>\n",
       "    </tr>\n",
       "    <tr>\n",
       "      <th>1</th>\n",
       "      <td>0.465588</td>\n",
       "      <td>0.312075</td>\n",
       "      <td>0.916355</td>\n",
       "      <td>1</td>\n",
       "    </tr>\n",
       "    <tr>\n",
       "      <th>2</th>\n",
       "      <td>0.567535</td>\n",
       "      <td>0.417946</td>\n",
       "      <td>0.883895</td>\n",
       "      <td>2</td>\n",
       "    </tr>\n",
       "    <tr>\n",
       "      <th>3</th>\n",
       "      <td>0.630709</td>\n",
       "      <td>0.516309</td>\n",
       "      <td>0.810237</td>\n",
       "      <td>3</td>\n",
       "    </tr>\n",
       "    <tr>\n",
       "      <th>5</th>\n",
       "      <td>0.635588</td>\n",
       "      <td>0.583507</td>\n",
       "      <td>0.697878</td>\n",
       "      <td>4</td>\n",
       "    </tr>\n",
       "    <tr>\n",
       "      <th>4</th>\n",
       "      <td>0.580014</td>\n",
       "      <td>0.658730</td>\n",
       "      <td>0.518102</td>\n",
       "      <td>5</td>\n",
       "    </tr>\n",
       "    <tr>\n",
       "      <th>6</th>\n",
       "      <td>0.004975</td>\n",
       "      <td>0.666667</td>\n",
       "      <td>0.002497</td>\n",
       "      <td>6</td>\n",
       "    </tr>\n",
       "  </tbody>\n",
       "</table>\n",
       "</div>"
      ],
      "text/plain": [
       "    F_score  precision    recall  threshold\n",
       "0  0.362122   0.223692  0.950062          0\n",
       "1  0.465588   0.312075  0.916355          1\n",
       "2  0.567535   0.417946  0.883895          2\n",
       "3  0.630709   0.516309  0.810237          3\n",
       "5  0.635588   0.583507  0.697878          4\n",
       "4  0.580014   0.658730  0.518102          5\n",
       "6  0.004975   0.666667  0.002497          6"
      ]
     },
     "execution_count": 54,
     "metadata": {},
     "output_type": "execute_result"
    }
   ],
   "source": [
    "no_ner_filtered"
   ]
  },
  {
   "cell_type": "code",
   "execution_count": 55,
   "metadata": {
    "collapsed": false
   },
   "outputs": [
    {
     "data": {
      "image/png": "[encoded data removed]",
      "text/plain": [
       "<matplotlib.figure.Figure at 0x7fd3178bf4e0>"
      ]
     },
     "metadata": {},
     "output_type": "display_data"
    }
   ],
   "source": [
    "pair_plot(no_ner_res, no_ner_filtered, \"Performance on evaluation dataset: no NER and MeSH filter\",\n",
    "          \"Number of votes\", 12, (7, 7), 2)"
   ]
  },
  {
   "cell_type": "markdown",
   "metadata": {},
   "source": [
    "Based on these data we see that the crowd behaves almost exactly like our experiment with the 100 abstracts. The MeSH filtering as currently implemented makes almost no difference in terms of F-score, especially if we remove problems with NER. The different is slightly larger when applied normally.\n",
    "\n",
    "When we remove NER related errors, we see that our result on 500 unseen abstracts was almost exactly the same as our results for the 100 abstracts from the development set. Without a sense of what the expert inter-annotator agreement looks like, it is difficult to say what the upper bound on performance is. A detailed manual error analysis is now necessary to determine where we went wrong."
   ]
  },
  {
   "cell_type": "markdown",
   "metadata": {
    "collapsed": true
   },
   "source": [
    "---"
   ]
  },
  {
   "cell_type": "markdown",
   "metadata": {},
   "source": [
    "## Manual error analysis\n",
    "\n",
    "We now look at the errors which occur post-NER and MeSH filtering and try to determine how these errors arose."
   ]
  },
  {
   "cell_type": "code",
   "execution_count": 56,
   "metadata": {
    "collapsed": false
   },
   "outputs": [
    {
     "data": {
      "text/plain": [
       "abstract_task    0.544294\n",
       "sentence_task    0.410263\n",
       "cid_relation     0.045443\n",
       "dtype: float64"
      ]
     },
     "execution_count": 56,
     "metadata": {},
     "output_type": "execute_result"
    }
   ],
   "source": [
    "indexable[\"rel_origin\"].value_counts(normalize = True)"
   ]
  },
  {
   "cell_type": "markdown",
   "metadata": {},
   "source": [
    "It seems that most of the positive CID relations came from the sentence tasks. Let's look at those first."
   ]
  },
  {
   "cell_type": "markdown",
   "metadata": {},
   "source": [
    "### Create an easy to edit spreadsheet of the sentence relations"
   ]
  },
  {
   "cell_type": "code",
   "execution_count": 57,
   "metadata": {
    "collapsed": false,
    "scrolled": true
   },
   "outputs": [],
   "source": [
    "sent_rel = indexable.query(\"rel_origin == 'sentence_task'\")"
   ]
  },
  {
   "cell_type": "code",
   "execution_count": 58,
   "metadata": {
    "collapsed": true
   },
   "outputs": [],
   "source": [
    "p = sent_rel[[\"pmid\", \"chemical_id\", \"disease_id\", \"num_votes\", \"rel_origin\"]]\n",
    "q = sent_res[[\"pmid\", \"chemical_id\", \"disease_id\", \"unit_ids\"]]\n",
    "\n",
    "result = pd.merge(p, q, how = \"inner\", on = [\"pmid\", \"chemical_id\", \"disease_id\"])"
   ]
  },
  {
   "cell_type": "code",
   "execution_count": 59,
   "metadata": {
    "collapsed": false
   },
   "outputs": [],
   "source": [
    "def check(row):\n",
    "    return int((row[\"pmid\"], row[\"chemical_id\"], row[\"disease_id\"]) in gold_relations)\n",
    "\n",
    "def grab_names(paper):\n",
    "    name = defaultdict(set)\n",
    "    for annot in paper.annotations:\n",
    "        assert len(annot.uid) == 1\n",
    "        name[annot.flat_repr].add(annot.text.lower())\n",
    "        \n",
    "    return {uid : \"|\".join(vals) for uid, vals in name.items()}\n",
    "\n",
    "\n",
    "names = dict()\n",
    "for pmid, paper in testset.items():\n",
    "    names[pmid] = grab_names(paper)\n",
    "   \n",
    "result.loc[:, \"in_gold\"] = result[[\"pmid\", \"chemical_id\", \"disease_id\"]].apply(check, axis = 1)\n",
    "\n",
    "result.loc[:, \"chemical_name\"] = result[[\"pmid\", \"chemical_id\"]].apply(lambda row: names[row[\"pmid\"]][row[\"chemical_id\"]], axis = 1)\n",
    "result.loc[:, \"disease_name\"] = result[[\"pmid\", \"disease_id\"]].apply(lambda row: names[row[\"pmid\"]][row[\"disease_id\"]], axis = 1)\n",
    "\n",
    "result.loc[:, \"crowd_right\"] = np.nan\n",
    "result.loc[:, \"conclusion\"] = np.nan\n",
    "result.loc[:, \"description\"] = np.nan"
   ]
  },
  {
   "cell_type": "code",
   "execution_count": 60,
   "metadata": {
    "collapsed": false
   },
   "outputs": [
    {
     "data": {
      "text/html": [
       "<div>\n",
       "<table border=\"1\" class=\"dataframe\">\n",
       "  <thead>\n",
       "    <tr style=\"text-align: right;\">\n",
       "      <th></th>\n",
       "      <th>pmid</th>\n",
       "      <th>chemical_id</th>\n",
       "      <th>disease_id</th>\n",
       "      <th>num_votes</th>\n",
       "      <th>rel_origin</th>\n",
       "      <th>unit_ids</th>\n",
       "      <th>in_gold</th>\n",
       "      <th>chemical_name</th>\n",
       "      <th>disease_name</th>\n",
       "      <th>crowd_right</th>\n",
       "      <th>conclusion</th>\n",
       "      <th>description</th>\n",
       "    </tr>\n",
       "  </thead>\n",
       "  <tbody>\n",
       "    <tr>\n",
       "      <th>0</th>\n",
       "      <td>35781</td>\n",
       "      <td>MESH:C009695</td>\n",
       "      <td>MESH:D002375</td>\n",
       "      <td>0</td>\n",
       "      <td>sentence_task</td>\n",
       "      <td>773932408</td>\n",
       "      <td>1</td>\n",
       "      <td>xylometazoline</td>\n",
       "      <td>catalepsy</td>\n",
       "      <td>NaN</td>\n",
       "      <td>NaN</td>\n",
       "      <td>NaN</td>\n",
       "    </tr>\n",
       "    <tr>\n",
       "      <th>1</th>\n",
       "      <td>35781</td>\n",
       "      <td>MESH:D009278</td>\n",
       "      <td>MESH:D002375</td>\n",
       "      <td>0</td>\n",
       "      <td>sentence_task</td>\n",
       "      <td>773932407</td>\n",
       "      <td>1</td>\n",
       "      <td>naphazoline</td>\n",
       "      <td>catalepsy</td>\n",
       "      <td>NaN</td>\n",
       "      <td>NaN</td>\n",
       "      <td>NaN</td>\n",
       "    </tr>\n",
       "    <tr>\n",
       "      <th>2</th>\n",
       "      <td>35781</td>\n",
       "      <td>MESH:D003061</td>\n",
       "      <td>MESH:D002375</td>\n",
       "      <td>2</td>\n",
       "      <td>sentence_task</td>\n",
       "      <td>773932406</td>\n",
       "      <td>1</td>\n",
       "      <td>codeine</td>\n",
       "      <td>catalepsy</td>\n",
       "      <td>NaN</td>\n",
       "      <td>NaN</td>\n",
       "      <td>NaN</td>\n",
       "    </tr>\n",
       "    <tr>\n",
       "      <th>3</th>\n",
       "      <td>35781</td>\n",
       "      <td>MESH:D009020</td>\n",
       "      <td>MESH:D002375</td>\n",
       "      <td>3</td>\n",
       "      <td>sentence_task</td>\n",
       "      <td>773932405</td>\n",
       "      <td>1</td>\n",
       "      <td>morphine</td>\n",
       "      <td>catalepsy</td>\n",
       "      <td>NaN</td>\n",
       "      <td>NaN</td>\n",
       "      <td>NaN</td>\n",
       "    </tr>\n",
       "    <tr>\n",
       "      <th>4</th>\n",
       "      <td>35781</td>\n",
       "      <td>MESH:D003000</td>\n",
       "      <td>MESH:D002375</td>\n",
       "      <td>5</td>\n",
       "      <td>sentence_task</td>\n",
       "      <td>773932409</td>\n",
       "      <td>1</td>\n",
       "      <td>clonidine</td>\n",
       "      <td>catalepsy</td>\n",
       "      <td>NaN</td>\n",
       "      <td>NaN</td>\n",
       "      <td>NaN</td>\n",
       "    </tr>\n",
       "  </tbody>\n",
       "</table>\n",
       "</div>"
      ],
      "text/plain": [
       "    pmid   chemical_id    disease_id  num_votes     rel_origin   unit_ids  \\\n",
       "0  35781  MESH:C009695  MESH:D002375          0  sentence_task  773932408   \n",
       "1  35781  MESH:D009278  MESH:D002375          0  sentence_task  773932407   \n",
       "2  35781  MESH:D003061  MESH:D002375          2  sentence_task  773932406   \n",
       "3  35781  MESH:D009020  MESH:D002375          3  sentence_task  773932405   \n",
       "4  35781  MESH:D003000  MESH:D002375          5  sentence_task  773932409   \n",
       "\n",
       "   in_gold   chemical_name disease_name  crowd_right  conclusion  description  \n",
       "0        1  xylometazoline    catalepsy          NaN         NaN          NaN  \n",
       "1        1     naphazoline    catalepsy          NaN         NaN          NaN  \n",
       "2        1         codeine    catalepsy          NaN         NaN          NaN  \n",
       "3        1        morphine    catalepsy          NaN         NaN          NaN  \n",
       "4        1       clonidine    catalepsy          NaN         NaN          NaN  "
      ]
     },
     "execution_count": 60,
     "metadata": {},
     "output_type": "execute_result"
    }
   ],
   "source": [
    "result.head()"
   ]
  },
  {
   "cell_type": "markdown",
   "metadata": {},
   "source": [
    "Now that we have a comprehensive dataframe, we can look at the false positives and false negatives separately."
   ]
  },
  {
   "cell_type": "markdown",
   "metadata": {},
   "source": [
    "---"
   ]
  },
  {
   "cell_type": "markdown",
   "metadata": {},
   "source": [
    "### Sentence-task false positives"
   ]
  },
  {
   "cell_type": "code",
   "execution_count": 61,
   "metadata": {
    "collapsed": false
   },
   "outputs": [],
   "source": [
    "false_pos = result.query(\"num_votes >= 4 and in_gold == 0\")"
   ]
  },
  {
   "cell_type": "code",
   "execution_count": 62,
   "metadata": {
    "collapsed": false
   },
   "outputs": [
    {
     "data": {
      "text/plain": [
       "(246, 12)"
      ]
     },
     "execution_count": 62,
     "metadata": {},
     "output_type": "execute_result"
    }
   ],
   "source": [
    "false_pos.shape"
   ]
  },
  {
   "cell_type": "code",
   "execution_count": 63,
   "metadata": {
    "collapsed": false
   },
   "outputs": [
    {
     "data": {
      "text/html": [
       "<div>\n",
       "<table border=\"1\" class=\"dataframe\">\n",
       "  <thead>\n",
       "    <tr style=\"text-align: right;\">\n",
       "      <th></th>\n",
       "      <th>pmid</th>\n",
       "      <th>chemical_id</th>\n",
       "      <th>disease_id</th>\n",
       "      <th>num_votes</th>\n",
       "      <th>rel_origin</th>\n",
       "      <th>unit_ids</th>\n",
       "      <th>in_gold</th>\n",
       "      <th>chemical_name</th>\n",
       "      <th>disease_name</th>\n",
       "      <th>crowd_right</th>\n",
       "      <th>conclusion</th>\n",
       "      <th>description</th>\n",
       "    </tr>\n",
       "  </thead>\n",
       "  <tbody>\n",
       "    <tr>\n",
       "      <th>12</th>\n",
       "      <td>146391</td>\n",
       "      <td>MESH:D010672</td>\n",
       "      <td>MESH:D005076</td>\n",
       "      <td>5</td>\n",
       "      <td>sentence_task</td>\n",
       "      <td>773932416|773932418|773932422</td>\n",
       "      <td>0</td>\n",
       "      <td>diphenylhydantoin</td>\n",
       "      <td>skin rash</td>\n",
       "      <td>NaN</td>\n",
       "      <td>NaN</td>\n",
       "      <td>NaN</td>\n",
       "    </tr>\n",
       "    <tr>\n",
       "      <th>29</th>\n",
       "      <td>448423</td>\n",
       "      <td>MESH:D000614</td>\n",
       "      <td>MESH:D013345</td>\n",
       "      <td>4</td>\n",
       "      <td>sentence_task</td>\n",
       "      <td>773932432</td>\n",
       "      <td>0</td>\n",
       "      <td>aminocaproic acid</td>\n",
       "      <td>subarachnoid hemorrhage|sah</td>\n",
       "      <td>NaN</td>\n",
       "      <td>NaN</td>\n",
       "      <td>NaN</td>\n",
       "    </tr>\n",
       "    <tr>\n",
       "      <th>37</th>\n",
       "      <td>611664</td>\n",
       "      <td>MESH:D009638</td>\n",
       "      <td>MESH:D004342</td>\n",
       "      <td>5</td>\n",
       "      <td>sentence_task</td>\n",
       "      <td>773932452</td>\n",
       "      <td>0</td>\n",
       "      <td>norepinephrine</td>\n",
       "      <td>hypersensitivity</td>\n",
       "      <td>NaN</td>\n",
       "      <td>NaN</td>\n",
       "      <td>NaN</td>\n",
       "    </tr>\n",
       "    <tr>\n",
       "      <th>43</th>\n",
       "      <td>733189</td>\n",
       "      <td>MESH:D010406</td>\n",
       "      <td>MESH:D001766</td>\n",
       "      <td>4</td>\n",
       "      <td>sentence_task</td>\n",
       "      <td>773932459</td>\n",
       "      <td>0</td>\n",
       "      <td>penicillin</td>\n",
       "      <td>blindness</td>\n",
       "      <td>NaN</td>\n",
       "      <td>NaN</td>\n",
       "      <td>NaN</td>\n",
       "    </tr>\n",
       "    <tr>\n",
       "      <th>55</th>\n",
       "      <td>891494</td>\n",
       "      <td>MESH:D010672</td>\n",
       "      <td>MESH:D012640</td>\n",
       "      <td>5</td>\n",
       "      <td>sentence_task</td>\n",
       "      <td>773932475|773932478</td>\n",
       "      <td>0</td>\n",
       "      <td>phenytoin|dph</td>\n",
       "      <td>seizures</td>\n",
       "      <td>NaN</td>\n",
       "      <td>NaN</td>\n",
       "      <td>NaN</td>\n",
       "    </tr>\n",
       "  </tbody>\n",
       "</table>\n",
       "</div>"
      ],
      "text/plain": [
       "      pmid   chemical_id    disease_id  num_votes     rel_origin  \\\n",
       "12  146391  MESH:D010672  MESH:D005076          5  sentence_task   \n",
       "29  448423  MESH:D000614  MESH:D013345          4  sentence_task   \n",
       "37  611664  MESH:D009638  MESH:D004342          5  sentence_task   \n",
       "43  733189  MESH:D010406  MESH:D001766          4  sentence_task   \n",
       "55  891494  MESH:D010672  MESH:D012640          5  sentence_task   \n",
       "\n",
       "                         unit_ids  in_gold      chemical_name  \\\n",
       "12  773932416|773932418|773932422        0  diphenylhydantoin   \n",
       "29                      773932432        0  aminocaproic acid   \n",
       "37                      773932452        0     norepinephrine   \n",
       "43                      773932459        0         penicillin   \n",
       "55            773932475|773932478        0      phenytoin|dph   \n",
       "\n",
       "                   disease_name  crowd_right  conclusion  description  \n",
       "12                    skin rash          NaN         NaN          NaN  \n",
       "29  subarachnoid hemorrhage|sah          NaN         NaN          NaN  \n",
       "37             hypersensitivity          NaN         NaN          NaN  \n",
       "43                    blindness          NaN         NaN          NaN  \n",
       "55                     seizures          NaN         NaN          NaN  "
      ]
     },
     "execution_count": 63,
     "metadata": {},
     "output_type": "execute_result"
    }
   ],
   "source": [
    "false_pos.head()"
   ]
  },
  {
   "cell_type": "markdown",
   "metadata": {},
   "source": [
    "Since 250 relations is too many to verify by hand, we will take a random sample of the results."
   ]
  },
  {
   "cell_type": "code",
   "execution_count": 64,
   "metadata": {
    "collapsed": false
   },
   "outputs": [],
   "source": [
    "rand_key = np.random.RandomState(20151007)"
   ]
  },
  {
   "cell_type": "code",
   "execution_count": 65,
   "metadata": {
    "collapsed": false
   },
   "outputs": [],
   "source": [
    "fp_sample = false_pos.sample(n = 50, random_state = rand_key)"
   ]
  },
  {
   "cell_type": "code",
   "execution_count": 66,
   "metadata": {
    "collapsed": false
   },
   "outputs": [
    {
     "data": {
      "text/plain": [
       "(50, 12)"
      ]
     },
     "execution_count": 66,
     "metadata": {},
     "output_type": "execute_result"
    }
   ],
   "source": [
    "fp_sample.shape"
   ]
  },
  {
   "cell_type": "code",
   "execution_count": 67,
   "metadata": {
    "collapsed": false,
    "scrolled": true
   },
   "outputs": [
    {
     "data": {
      "text/html": [
       "<div>\n",
       "<table border=\"1\" class=\"dataframe\">\n",
       "  <thead>\n",
       "    <tr style=\"text-align: right;\">\n",
       "      <th></th>\n",
       "      <th>pmid</th>\n",
       "      <th>chemical_id</th>\n",
       "      <th>disease_id</th>\n",
       "      <th>num_votes</th>\n",
       "      <th>rel_origin</th>\n",
       "      <th>unit_ids</th>\n",
       "      <th>in_gold</th>\n",
       "      <th>chemical_name</th>\n",
       "      <th>disease_name</th>\n",
       "      <th>crowd_right</th>\n",
       "      <th>conclusion</th>\n",
       "      <th>description</th>\n",
       "    </tr>\n",
       "  </thead>\n",
       "  <tbody>\n",
       "    <tr>\n",
       "      <th>177</th>\n",
       "      <td>2553470</td>\n",
       "      <td>MESH:D010862</td>\n",
       "      <td>MESH:D012640</td>\n",
       "      <td>4</td>\n",
       "      <td>sentence_task</td>\n",
       "      <td>773932660|773932664|773932667|773932671|773932675</td>\n",
       "      <td>0</td>\n",
       "      <td>pilocarpine</td>\n",
       "      <td>seizure|seizures</td>\n",
       "      <td>NaN</td>\n",
       "      <td>NaN</td>\n",
       "      <td>NaN</td>\n",
       "    </tr>\n",
       "    <tr>\n",
       "      <th>432</th>\n",
       "      <td>7248895</td>\n",
       "      <td>MESH:D003520</td>\n",
       "      <td>MESH:D003556</td>\n",
       "      <td>5</td>\n",
       "      <td>sentence_task</td>\n",
       "      <td>773932328</td>\n",
       "      <td>0</td>\n",
       "      <td>cyclophosphamide</td>\n",
       "      <td>hemorrhagic cystitis</td>\n",
       "      <td>NaN</td>\n",
       "      <td>NaN</td>\n",
       "      <td>NaN</td>\n",
       "    </tr>\n",
       "    <tr>\n",
       "      <th>871</th>\n",
       "      <td>15096374</td>\n",
       "      <td>MESH:D013256</td>\n",
       "      <td>MESH:D012393</td>\n",
       "      <td>4</td>\n",
       "      <td>sentence_task</td>\n",
       "      <td>773933891</td>\n",
       "      <td>0</td>\n",
       "      <td>steroid</td>\n",
       "      <td>rosacea</td>\n",
       "      <td>NaN</td>\n",
       "      <td>NaN</td>\n",
       "      <td>NaN</td>\n",
       "    </tr>\n",
       "    <tr>\n",
       "      <th>959</th>\n",
       "      <td>16801510</td>\n",
       "      <td>MESH:D011188</td>\n",
       "      <td>MESH:D008133</td>\n",
       "      <td>4</td>\n",
       "      <td>sentence_task</td>\n",
       "      <td>773934061</td>\n",
       "      <td>0</td>\n",
       "      <td>potassium</td>\n",
       "      <td>long qt syndrome|qt prolongation|qtc prolongation</td>\n",
       "      <td>NaN</td>\n",
       "      <td>NaN</td>\n",
       "      <td>NaN</td>\n",
       "    </tr>\n",
       "    <tr>\n",
       "      <th>639</th>\n",
       "      <td>9725303</td>\n",
       "      <td>MESH:D019469</td>\n",
       "      <td>MESH:D052878</td>\n",
       "      <td>4</td>\n",
       "      <td>sentence_task</td>\n",
       "      <td>773933469</td>\n",
       "      <td>0</td>\n",
       "      <td>indinavir</td>\n",
       "      <td>urolithiasis</td>\n",
       "      <td>NaN</td>\n",
       "      <td>NaN</td>\n",
       "      <td>NaN</td>\n",
       "    </tr>\n",
       "    <tr>\n",
       "      <th>755</th>\n",
       "      <td>11425091</td>\n",
       "      <td>MESH:D003042</td>\n",
       "      <td>MESH:D006470</td>\n",
       "      <td>5</td>\n",
       "      <td>sentence_task</td>\n",
       "      <td>773933691</td>\n",
       "      <td>0</td>\n",
       "      <td>cocaine</td>\n",
       "      <td>subependymal hemorrhage</td>\n",
       "      <td>NaN</td>\n",
       "      <td>NaN</td>\n",
       "      <td>NaN</td>\n",
       "    </tr>\n",
       "    <tr>\n",
       "      <th>901</th>\n",
       "      <td>15627798</td>\n",
       "      <td>MESH:D005839</td>\n",
       "      <td>MESH:D005355</td>\n",
       "      <td>4</td>\n",
       "      <td>sentence_task</td>\n",
       "      <td>773933949</td>\n",
       "      <td>0</td>\n",
       "      <td>gentamicin</td>\n",
       "      <td>fibrosis</td>\n",
       "      <td>NaN</td>\n",
       "      <td>NaN</td>\n",
       "      <td>NaN</td>\n",
       "    </tr>\n",
       "    <tr>\n",
       "      <th>258</th>\n",
       "      <td>3289726</td>\n",
       "      <td>MESH:D005047</td>\n",
       "      <td>MESH:D064420</td>\n",
       "      <td>4</td>\n",
       "      <td>sentence_task</td>\n",
       "      <td>773932805</td>\n",
       "      <td>0</td>\n",
       "      <td>vp-16-213|etoposide</td>\n",
       "      <td>toxicity</td>\n",
       "      <td>NaN</td>\n",
       "      <td>NaN</td>\n",
       "      <td>NaN</td>\n",
       "    </tr>\n",
       "    <tr>\n",
       "      <th>1177</th>\n",
       "      <td>19681452</td>\n",
       "      <td>MESH:D003042</td>\n",
       "      <td>MESH:D001145</td>\n",
       "      <td>5</td>\n",
       "      <td>sentence_task</td>\n",
       "      <td>773932376</td>\n",
       "      <td>0</td>\n",
       "      <td>cocaine</td>\n",
       "      <td>cardiac arrhythmia</td>\n",
       "      <td>NaN</td>\n",
       "      <td>NaN</td>\n",
       "      <td>NaN</td>\n",
       "    </tr>\n",
       "    <tr>\n",
       "      <th>512</th>\n",
       "      <td>8308951</td>\n",
       "      <td>MESH:D010894</td>\n",
       "      <td>MESH:D001778</td>\n",
       "      <td>5</td>\n",
       "      <td>sentence_task</td>\n",
       "      <td>773933245</td>\n",
       "      <td>0</td>\n",
       "      <td>piroxicam</td>\n",
       "      <td>coagulopathy</td>\n",
       "      <td>NaN</td>\n",
       "      <td>NaN</td>\n",
       "      <td>NaN</td>\n",
       "    </tr>\n",
       "    <tr>\n",
       "      <th>1091</th>\n",
       "      <td>18801087</td>\n",
       "      <td>MESH:D000638</td>\n",
       "      <td>MESH:D011507</td>\n",
       "      <td>5</td>\n",
       "      <td>sentence_task</td>\n",
       "      <td>773934294</td>\n",
       "      <td>0</td>\n",
       "      <td>amiodarone</td>\n",
       "      <td>proteinuria</td>\n",
       "      <td>NaN</td>\n",
       "      <td>NaN</td>\n",
       "      <td>NaN</td>\n",
       "    </tr>\n",
       "    <tr>\n",
       "      <th>352</th>\n",
       "      <td>3987172</td>\n",
       "      <td>MESH:D010665</td>\n",
       "      <td>MESH:D002543</td>\n",
       "      <td>5</td>\n",
       "      <td>sentence_task</td>\n",
       "      <td>773932965</td>\n",
       "      <td>0</td>\n",
       "      <td>ppa|phenylpropanolamine</td>\n",
       "      <td>intracerebral hemorrhage</td>\n",
       "      <td>NaN</td>\n",
       "      <td>NaN</td>\n",
       "      <td>NaN</td>\n",
       "    </tr>\n",
       "    <tr>\n",
       "      <th>298</th>\n",
       "      <td>3439580</td>\n",
       "      <td>MESH:D007099</td>\n",
       "      <td>MESH:D009447</td>\n",
       "      <td>4</td>\n",
       "      <td>sentence_task</td>\n",
       "      <td>773932866|773932868</td>\n",
       "      <td>0</td>\n",
       "      <td>imipramine</td>\n",
       "      <td>neuroblastoma</td>\n",
       "      <td>NaN</td>\n",
       "      <td>NaN</td>\n",
       "      <td>NaN</td>\n",
       "    </tr>\n",
       "    <tr>\n",
       "      <th>739</th>\n",
       "      <td>11229942</td>\n",
       "      <td>MESH:C066444</td>\n",
       "      <td>MESH:D066126</td>\n",
       "      <td>5</td>\n",
       "      <td>sentence_task</td>\n",
       "      <td>773933663|773933664</td>\n",
       "      <td>0</td>\n",
       "      <td>cocaethylene</td>\n",
       "      <td>cardiac toxicity|cardiotoxicity|cardiotoxity</td>\n",
       "      <td>NaN</td>\n",
       "      <td>NaN</td>\n",
       "      <td>NaN</td>\n",
       "    </tr>\n",
       "    <tr>\n",
       "      <th>841</th>\n",
       "      <td>12828076</td>\n",
       "      <td>MESH:D000082</td>\n",
       "      <td>MESH:D062787</td>\n",
       "      <td>4</td>\n",
       "      <td>sentence_task</td>\n",
       "      <td>773933843|773933846</td>\n",
       "      <td>0</td>\n",
       "      <td>paracetamol</td>\n",
       "      <td>overdose</td>\n",
       "      <td>NaN</td>\n",
       "      <td>NaN</td>\n",
       "      <td>NaN</td>\n",
       "    </tr>\n",
       "    <tr>\n",
       "      <th>91</th>\n",
       "      <td>1420650</td>\n",
       "      <td>MESH:D008094</td>\n",
       "      <td>MESH:D020258</td>\n",
       "      <td>4</td>\n",
       "      <td>sentence_task</td>\n",
       "      <td>773932534</td>\n",
       "      <td>0</td>\n",
       "      <td>lithium</td>\n",
       "      <td>neurotoxicity</td>\n",
       "      <td>NaN</td>\n",
       "      <td>NaN</td>\n",
       "      <td>NaN</td>\n",
       "    </tr>\n",
       "    <tr>\n",
       "      <th>485</th>\n",
       "      <td>7931490</td>\n",
       "      <td>MESH:D017829</td>\n",
       "      <td>MESH:D014839</td>\n",
       "      <td>5</td>\n",
       "      <td>sentence_task</td>\n",
       "      <td>773933188|773933191|773933193|773933195</td>\n",
       "      <td>0</td>\n",
       "      <td>granisetron</td>\n",
       "      <td>vomiting</td>\n",
       "      <td>NaN</td>\n",
       "      <td>NaN</td>\n",
       "      <td>NaN</td>\n",
       "    </tr>\n",
       "    <tr>\n",
       "      <th>1173</th>\n",
       "      <td>19681452</td>\n",
       "      <td>MESH:D000431</td>\n",
       "      <td>MESH:D002543</td>\n",
       "      <td>4</td>\n",
       "      <td>sentence_task</td>\n",
       "      <td>773932362|773932372</td>\n",
       "      <td>0</td>\n",
       "      <td>alcohol|ethanol</td>\n",
       "      <td>haemorrhagic infarction|cerebral hypoperfusion</td>\n",
       "      <td>NaN</td>\n",
       "      <td>NaN</td>\n",
       "      <td>NaN</td>\n",
       "    </tr>\n",
       "    <tr>\n",
       "      <th>1581</th>\n",
       "      <td>25084821</td>\n",
       "      <td>MESH:D003024</td>\n",
       "      <td>MESH:D009503</td>\n",
       "      <td>4</td>\n",
       "      <td>sentence_task</td>\n",
       "      <td>773932228</td>\n",
       "      <td>0</td>\n",
       "      <td>clozapine</td>\n",
       "      <td>neutropenia</td>\n",
       "      <td>NaN</td>\n",
       "      <td>NaN</td>\n",
       "      <td>NaN</td>\n",
       "    </tr>\n",
       "    <tr>\n",
       "      <th>1192</th>\n",
       "      <td>20009434</td>\n",
       "      <td>MESH:D008727</td>\n",
       "      <td>MESH:D007674</td>\n",
       "      <td>5</td>\n",
       "      <td>sentence_task</td>\n",
       "      <td>773932379</td>\n",
       "      <td>0</td>\n",
       "      <td>methotrexate|mtx</td>\n",
       "      <td>renal toxicity|ptld|post-transplantation lymph...</td>\n",
       "      <td>NaN</td>\n",
       "      <td>NaN</td>\n",
       "      <td>NaN</td>\n",
       "    </tr>\n",
       "    <tr>\n",
       "      <th>1159</th>\n",
       "      <td>19531695</td>\n",
       "      <td>MESH:D005424</td>\n",
       "      <td>MESH:D064420</td>\n",
       "      <td>5</td>\n",
       "      <td>sentence_task</td>\n",
       "      <td>773934436</td>\n",
       "      <td>0</td>\n",
       "      <td>flecainide</td>\n",
       "      <td>toxicity</td>\n",
       "      <td>NaN</td>\n",
       "      <td>NaN</td>\n",
       "      <td>NaN</td>\n",
       "    </tr>\n",
       "    <tr>\n",
       "      <th>370</th>\n",
       "      <td>6310832</td>\n",
       "      <td>MESH:D016572</td>\n",
       "      <td>MESH:D020031</td>\n",
       "      <td>4</td>\n",
       "      <td>sentence_task</td>\n",
       "      <td>773933000</td>\n",
       "      <td>0</td>\n",
       "      <td>cyclosporine</td>\n",
       "      <td>epstein barr virus infection</td>\n",
       "      <td>NaN</td>\n",
       "      <td>NaN</td>\n",
       "      <td>NaN</td>\n",
       "    </tr>\n",
       "    <tr>\n",
       "      <th>1425</th>\n",
       "      <td>24665854</td>\n",
       "      <td>MESH:D014635</td>\n",
       "      <td>MESH:D001927</td>\n",
       "      <td>4</td>\n",
       "      <td>sentence_task</td>\n",
       "      <td>773931962|773931963</td>\n",
       "      <td>0</td>\n",
       "      <td>valproate</td>\n",
       "      <td>encephalopathy</td>\n",
       "      <td>NaN</td>\n",
       "      <td>NaN</td>\n",
       "      <td>NaN</td>\n",
       "    </tr>\n",
       "    <tr>\n",
       "      <th>123</th>\n",
       "      <td>1735570</td>\n",
       "      <td>MESH:D014294</td>\n",
       "      <td>MESH:D001919</td>\n",
       "      <td>4</td>\n",
       "      <td>sentence_task</td>\n",
       "      <td>773932578</td>\n",
       "      <td>0</td>\n",
       "      <td>trimethaphan</td>\n",
       "      <td>bradycardia</td>\n",
       "      <td>NaN</td>\n",
       "      <td>NaN</td>\n",
       "      <td>NaN</td>\n",
       "    </tr>\n",
       "    <tr>\n",
       "      <th>1436</th>\n",
       "      <td>24684312</td>\n",
       "      <td>MESH:D018698</td>\n",
       "      <td>MESH:D006930</td>\n",
       "      <td>5</td>\n",
       "      <td>sentence_task</td>\n",
       "      <td>773931984|773931987|773931989|773931994</td>\n",
       "      <td>0</td>\n",
       "      <td>glutamate</td>\n",
       "      <td>hyperalgesia|hyperalgesic|allodynia</td>\n",
       "      <td>NaN</td>\n",
       "      <td>NaN</td>\n",
       "      <td>NaN</td>\n",
       "    </tr>\n",
       "    <tr>\n",
       "      <th>301</th>\n",
       "      <td>3475563</td>\n",
       "      <td>MESH:D001507</td>\n",
       "      <td>MESH:D002177</td>\n",
       "      <td>5</td>\n",
       "      <td>sentence_task</td>\n",
       "      <td>773932875</td>\n",
       "      <td>0</td>\n",
       "      <td>beclomethasone|beclomethasone dipropionate</td>\n",
       "      <td>candidiasis</td>\n",
       "      <td>NaN</td>\n",
       "      <td>NaN</td>\n",
       "      <td>NaN</td>\n",
       "    </tr>\n",
       "    <tr>\n",
       "      <th>1384</th>\n",
       "      <td>24554916</td>\n",
       "      <td>MESH:D010758</td>\n",
       "      <td>MESH:D056486</td>\n",
       "      <td>4</td>\n",
       "      <td>sentence_task</td>\n",
       "      <td>773931898</td>\n",
       "      <td>0</td>\n",
       "      <td>phosphorus</td>\n",
       "      <td>hepatitis</td>\n",
       "      <td>NaN</td>\n",
       "      <td>NaN</td>\n",
       "      <td>NaN</td>\n",
       "    </tr>\n",
       "    <tr>\n",
       "      <th>1470</th>\n",
       "      <td>24739405</td>\n",
       "      <td>MESH:D003687</td>\n",
       "      <td>MESH:D002375</td>\n",
       "      <td>4</td>\n",
       "      <td>sentence_task</td>\n",
       "      <td>773932045</td>\n",
       "      <td>0</td>\n",
       "      <td>dhea|dehydroepiandrosterone</td>\n",
       "      <td>catalepsy</td>\n",
       "      <td>NaN</td>\n",
       "      <td>NaN</td>\n",
       "      <td>NaN</td>\n",
       "    </tr>\n",
       "    <tr>\n",
       "      <th>294</th>\n",
       "      <td>3383127</td>\n",
       "      <td>MESH:D005472</td>\n",
       "      <td>MESH:D066126</td>\n",
       "      <td>5</td>\n",
       "      <td>sentence_task</td>\n",
       "      <td>773932852|773932860</td>\n",
       "      <td>0</td>\n",
       "      <td>5-fluorouracil|5-fu</td>\n",
       "      <td>cardiotoxicity</td>\n",
       "      <td>NaN</td>\n",
       "      <td>NaN</td>\n",
       "      <td>NaN</td>\n",
       "    </tr>\n",
       "    <tr>\n",
       "      <th>1579</th>\n",
       "      <td>25084821</td>\n",
       "      <td>MESH:C069541</td>\n",
       "      <td>MESH:D006528</td>\n",
       "      <td>4</td>\n",
       "      <td>sentence_task</td>\n",
       "      <td>773932225|773932229</td>\n",
       "      <td>0</td>\n",
       "      <td>quetiapine</td>\n",
       "      <td>hepatocellular carcinoma</td>\n",
       "      <td>NaN</td>\n",
       "      <td>NaN</td>\n",
       "      <td>NaN</td>\n",
       "    </tr>\n",
       "    <tr>\n",
       "      <th>390</th>\n",
       "      <td>6615679</td>\n",
       "      <td>MESH:D006221</td>\n",
       "      <td>MESH:D007022</td>\n",
       "      <td>5</td>\n",
       "      <td>sentence_task</td>\n",
       "      <td>773933036|773933042</td>\n",
       "      <td>0</td>\n",
       "      <td>halothane</td>\n",
       "      <td>hypotension|hypotensive</td>\n",
       "      <td>NaN</td>\n",
       "      <td>NaN</td>\n",
       "      <td>NaN</td>\n",
       "    </tr>\n",
       "    <tr>\n",
       "      <th>876</th>\n",
       "      <td>15265979</td>\n",
       "      <td>MESH:D000638</td>\n",
       "      <td>MESH:D015431</td>\n",
       "      <td>5</td>\n",
       "      <td>sentence_task</td>\n",
       "      <td>773933901</td>\n",
       "      <td>0</td>\n",
       "      <td>amiodarone</td>\n",
       "      <td>weight loss</td>\n",
       "      <td>NaN</td>\n",
       "      <td>NaN</td>\n",
       "      <td>NaN</td>\n",
       "    </tr>\n",
       "    <tr>\n",
       "      <th>459</th>\n",
       "      <td>7479194</td>\n",
       "      <td>MESH:D002506</td>\n",
       "      <td>MESH:D064420</td>\n",
       "      <td>5</td>\n",
       "      <td>sentence_task</td>\n",
       "      <td>773933140|773933152</td>\n",
       "      <td>0</td>\n",
       "      <td>cephalexin</td>\n",
       "      <td>drug toxicity|toxic epidermal necrolysis</td>\n",
       "      <td>NaN</td>\n",
       "      <td>NaN</td>\n",
       "      <td>NaN</td>\n",
       "    </tr>\n",
       "    <tr>\n",
       "      <th>566</th>\n",
       "      <td>8755612</td>\n",
       "      <td>MESH:D004967</td>\n",
       "      <td>MESH:D010911</td>\n",
       "      <td>4</td>\n",
       "      <td>sentence_task</td>\n",
       "      <td>773933319</td>\n",
       "      <td>0</td>\n",
       "      <td>estrogen</td>\n",
       "      <td>pituitary tumors</td>\n",
       "      <td>NaN</td>\n",
       "      <td>NaN</td>\n",
       "      <td>NaN</td>\n",
       "    </tr>\n",
       "    <tr>\n",
       "      <th>1406</th>\n",
       "      <td>24618873</td>\n",
       "      <td>MESH:D008614</td>\n",
       "      <td>MESH:D012640</td>\n",
       "      <td>5</td>\n",
       "      <td>sentence_task</td>\n",
       "      <td>773931934</td>\n",
       "      <td>0</td>\n",
       "      <td>pethidine</td>\n",
       "      <td>seizure</td>\n",
       "      <td>NaN</td>\n",
       "      <td>NaN</td>\n",
       "      <td>NaN</td>\n",
       "    </tr>\n",
       "    <tr>\n",
       "      <th>542</th>\n",
       "      <td>8659767</td>\n",
       "      <td>MESH:D004837</td>\n",
       "      <td>MESH:D001145</td>\n",
       "      <td>5</td>\n",
       "      <td>sentence_task</td>\n",
       "      <td>773933277|773933287</td>\n",
       "      <td>0</td>\n",
       "      <td>epinephrine</td>\n",
       "      <td>dysrhythmias|postinfarct dysrhythmias</td>\n",
       "      <td>NaN</td>\n",
       "      <td>NaN</td>\n",
       "      <td>NaN</td>\n",
       "    </tr>\n",
       "    <tr>\n",
       "      <th>863</th>\n",
       "      <td>14748761</td>\n",
       "      <td>MESH:D005472</td>\n",
       "      <td>MESH:D006331</td>\n",
       "      <td>4</td>\n",
       "      <td>sentence_task</td>\n",
       "      <td>773933875</td>\n",
       "      <td>0</td>\n",
       "      <td>fluorouracil</td>\n",
       "      <td>cardiac events|cardiac diseases</td>\n",
       "      <td>NaN</td>\n",
       "      <td>NaN</td>\n",
       "      <td>NaN</td>\n",
       "    </tr>\n",
       "    <tr>\n",
       "      <th>297</th>\n",
       "      <td>3409843</td>\n",
       "      <td>MESH:D002220</td>\n",
       "      <td>MESH:D001855</td>\n",
       "      <td>5</td>\n",
       "      <td>sentence_task</td>\n",
       "      <td>773932864</td>\n",
       "      <td>0</td>\n",
       "      <td>carbamazepine</td>\n",
       "      <td>marrow toxicity</td>\n",
       "      <td>NaN</td>\n",
       "      <td>NaN</td>\n",
       "      <td>NaN</td>\n",
       "    </tr>\n",
       "    <tr>\n",
       "      <th>380</th>\n",
       "      <td>6517710</td>\n",
       "      <td>MESH:D011796</td>\n",
       "      <td>MESH:D013927</td>\n",
       "      <td>5</td>\n",
       "      <td>sentence_task</td>\n",
       "      <td>773933017|773933018|773933019</td>\n",
       "      <td>0</td>\n",
       "      <td>quinacrine hydrochloride</td>\n",
       "      <td>atrial thrombosis|thrombosis</td>\n",
       "      <td>NaN</td>\n",
       "      <td>NaN</td>\n",
       "      <td>NaN</td>\n",
       "    </tr>\n",
       "    <tr>\n",
       "      <th>805</th>\n",
       "      <td>12359538</td>\n",
       "      <td>MESH:D003042</td>\n",
       "      <td>MESH:D002637</td>\n",
       "      <td>5</td>\n",
       "      <td>sentence_task</td>\n",
       "      <td>773933776|773933779|773933781|773933784</td>\n",
       "      <td>0</td>\n",
       "      <td>cocaine</td>\n",
       "      <td>chest pain</td>\n",
       "      <td>NaN</td>\n",
       "      <td>NaN</td>\n",
       "      <td>NaN</td>\n",
       "    </tr>\n",
       "    <tr>\n",
       "      <th>1380</th>\n",
       "      <td>24535067</td>\n",
       "      <td>MESH:D005045</td>\n",
       "      <td>MESH:D010146</td>\n",
       "      <td>5</td>\n",
       "      <td>sentence_task</td>\n",
       "      <td>773931894</td>\n",
       "      <td>0</td>\n",
       "      <td>etomidate</td>\n",
       "      <td>pain</td>\n",
       "      <td>NaN</td>\n",
       "      <td>NaN</td>\n",
       "      <td>NaN</td>\n",
       "    </tr>\n",
       "    <tr>\n",
       "      <th>60</th>\n",
       "      <td>931801</td>\n",
       "      <td>MESH:D007612</td>\n",
       "      <td>MESH:D051437</td>\n",
       "      <td>5</td>\n",
       "      <td>sentence_task</td>\n",
       "      <td>773932481</td>\n",
       "      <td>0</td>\n",
       "      <td>kanamycin</td>\n",
       "      <td>renal failure</td>\n",
       "      <td>NaN</td>\n",
       "      <td>NaN</td>\n",
       "      <td>NaN</td>\n",
       "    </tr>\n",
       "    <tr>\n",
       "      <th>1232</th>\n",
       "      <td>20566328</td>\n",
       "      <td>MESH:D003042</td>\n",
       "      <td>MESH:D018487</td>\n",
       "      <td>4</td>\n",
       "      <td>sentence_task</td>\n",
       "      <td>773934566</td>\n",
       "      <td>0</td>\n",
       "      <td>cocaine</td>\n",
       "      <td>left ventricular dysfunction</td>\n",
       "      <td>NaN</td>\n",
       "      <td>NaN</td>\n",
       "      <td>NaN</td>\n",
       "    </tr>\n",
       "    <tr>\n",
       "      <th>1371</th>\n",
       "      <td>24459006</td>\n",
       "      <td>MESH:D015725</td>\n",
       "      <td>MESH:D001855</td>\n",
       "      <td>5</td>\n",
       "      <td>sentence_task</td>\n",
       "      <td>773931884</td>\n",
       "      <td>0</td>\n",
       "      <td>fluconazole</td>\n",
       "      <td>bone marrow suppression</td>\n",
       "      <td>NaN</td>\n",
       "      <td>NaN</td>\n",
       "      <td>NaN</td>\n",
       "    </tr>\n",
       "    <tr>\n",
       "      <th>163</th>\n",
       "      <td>2400986</td>\n",
       "      <td>MESH:D002066</td>\n",
       "      <td>MESH:D020258</td>\n",
       "      <td>5</td>\n",
       "      <td>sentence_task</td>\n",
       "      <td>773932633|773932634|773932638|773932641|773932643</td>\n",
       "      <td>0</td>\n",
       "      <td>busulfan</td>\n",
       "      <td>neurotoxicity|increased neurotoxicity|neurotoxic</td>\n",
       "      <td>NaN</td>\n",
       "      <td>NaN</td>\n",
       "      <td>NaN</td>\n",
       "    </tr>\n",
       "    <tr>\n",
       "      <th>1147</th>\n",
       "      <td>19392810</td>\n",
       "      <td>MESH:D003932</td>\n",
       "      <td>MESH:D002544</td>\n",
       "      <td>5</td>\n",
       "      <td>sentence_task</td>\n",
       "      <td>773934412|773934415|773934419</td>\n",
       "      <td>0</td>\n",
       "      <td>heroin</td>\n",
       "      <td>ischemic stroke</td>\n",
       "      <td>NaN</td>\n",
       "      <td>NaN</td>\n",
       "      <td>NaN</td>\n",
       "    </tr>\n",
       "    <tr>\n",
       "      <th>1175</th>\n",
       "      <td>19681452</td>\n",
       "      <td>MESH:D000431</td>\n",
       "      <td>MESH:D001145</td>\n",
       "      <td>5</td>\n",
       "      <td>sentence_task</td>\n",
       "      <td>773932375</td>\n",
       "      <td>0</td>\n",
       "      <td>alcohol|ethanol</td>\n",
       "      <td>cardiac arrhythmia</td>\n",
       "      <td>NaN</td>\n",
       "      <td>NaN</td>\n",
       "      <td>NaN</td>\n",
       "    </tr>\n",
       "    <tr>\n",
       "      <th>384</th>\n",
       "      <td>6529939</td>\n",
       "      <td>MESH:D011433</td>\n",
       "      <td>MESH:D019955</td>\n",
       "      <td>5</td>\n",
       "      <td>sentence_task</td>\n",
       "      <td>773933023</td>\n",
       "      <td>0</td>\n",
       "      <td>propranolol</td>\n",
       "      <td>conduction disorder</td>\n",
       "      <td>NaN</td>\n",
       "      <td>NaN</td>\n",
       "      <td>NaN</td>\n",
       "    </tr>\n",
       "    <tr>\n",
       "      <th>976</th>\n",
       "      <td>17028363</td>\n",
       "      <td>MESH:D004008</td>\n",
       "      <td>MESH:D007674</td>\n",
       "      <td>5</td>\n",
       "      <td>sentence_task</td>\n",
       "      <td>773934092</td>\n",
       "      <td>0</td>\n",
       "      <td>diclofenac</td>\n",
       "      <td>renal injury|nephropathy</td>\n",
       "      <td>NaN</td>\n",
       "      <td>NaN</td>\n",
       "      <td>NaN</td>\n",
       "    </tr>\n",
       "    <tr>\n",
       "      <th>898</th>\n",
       "      <td>15614572</td>\n",
       "      <td>MESH:D012701</td>\n",
       "      <td>MESH:D002375</td>\n",
       "      <td>4</td>\n",
       "      <td>sentence_task</td>\n",
       "      <td>773933943</td>\n",
       "      <td>0</td>\n",
       "      <td>5-ht|5-hydroxytryptamine</td>\n",
       "      <td>catalepsy</td>\n",
       "      <td>NaN</td>\n",
       "      <td>NaN</td>\n",
       "      <td>NaN</td>\n",
       "    </tr>\n",
       "  </tbody>\n",
       "</table>\n",
       "</div>"
      ],
      "text/plain": [
       "          pmid   chemical_id    disease_id  num_votes     rel_origin  \\\n",
       "177    2553470  MESH:D010862  MESH:D012640          4  sentence_task   \n",
       "432    7248895  MESH:D003520  MESH:D003556          5  sentence_task   \n",
       "871   15096374  MESH:D013256  MESH:D012393          4  sentence_task   \n",
       "959   16801510  MESH:D011188  MESH:D008133          4  sentence_task   \n",
       "639    9725303  MESH:D019469  MESH:D052878          4  sentence_task   \n",
       "755   11425091  MESH:D003042  MESH:D006470          5  sentence_task   \n",
       "901   15627798  MESH:D005839  MESH:D005355          4  sentence_task   \n",
       "258    3289726  MESH:D005047  MESH:D064420          4  sentence_task   \n",
       "1177  19681452  MESH:D003042  MESH:D001145          5  sentence_task   \n",
       "512    8308951  MESH:D010894  MESH:D001778          5  sentence_task   \n",
       "1091  18801087  MESH:D000638  MESH:D011507          5  sentence_task   \n",
       "352    3987172  MESH:D010665  MESH:D002543          5  sentence_task   \n",
       "298    3439580  MESH:D007099  MESH:D009447          4  sentence_task   \n",
       "739   11229942  MESH:C066444  MESH:D066126          5  sentence_task   \n",
       "841   12828076  MESH:D000082  MESH:D062787          4  sentence_task   \n",
       "91     1420650  MESH:D008094  MESH:D020258          4  sentence_task   \n",
       "485    7931490  MESH:D017829  MESH:D014839          5  sentence_task   \n",
       "1173  19681452  MESH:D000431  MESH:D002543          4  sentence_task   \n",
       "1581  25084821  MESH:D003024  MESH:D009503          4  sentence_task   \n",
       "1192  20009434  MESH:D008727  MESH:D007674          5  sentence_task   \n",
       "1159  19531695  MESH:D005424  MESH:D064420          5  sentence_task   \n",
       "370    6310832  MESH:D016572  MESH:D020031          4  sentence_task   \n",
       "1425  24665854  MESH:D014635  MESH:D001927          4  sentence_task   \n",
       "123    1735570  MESH:D014294  MESH:D001919          4  sentence_task   \n",
       "1436  24684312  MESH:D018698  MESH:D006930          5  sentence_task   \n",
       "301    3475563  MESH:D001507  MESH:D002177          5  sentence_task   \n",
       "1384  24554916  MESH:D010758  MESH:D056486          4  sentence_task   \n",
       "1470  24739405  MESH:D003687  MESH:D002375          4  sentence_task   \n",
       "294    3383127  MESH:D005472  MESH:D066126          5  sentence_task   \n",
       "1579  25084821  MESH:C069541  MESH:D006528          4  sentence_task   \n",
       "390    6615679  MESH:D006221  MESH:D007022          5  sentence_task   \n",
       "876   15265979  MESH:D000638  MESH:D015431          5  sentence_task   \n",
       "459    7479194  MESH:D002506  MESH:D064420          5  sentence_task   \n",
       "566    8755612  MESH:D004967  MESH:D010911          4  sentence_task   \n",
       "1406  24618873  MESH:D008614  MESH:D012640          5  sentence_task   \n",
       "542    8659767  MESH:D004837  MESH:D001145          5  sentence_task   \n",
       "863   14748761  MESH:D005472  MESH:D006331          4  sentence_task   \n",
       "297    3409843  MESH:D002220  MESH:D001855          5  sentence_task   \n",
       "380    6517710  MESH:D011796  MESH:D013927          5  sentence_task   \n",
       "805   12359538  MESH:D003042  MESH:D002637          5  sentence_task   \n",
       "1380  24535067  MESH:D005045  MESH:D010146          5  sentence_task   \n",
       "60      931801  MESH:D007612  MESH:D051437          5  sentence_task   \n",
       "1232  20566328  MESH:D003042  MESH:D018487          4  sentence_task   \n",
       "1371  24459006  MESH:D015725  MESH:D001855          5  sentence_task   \n",
       "163    2400986  MESH:D002066  MESH:D020258          5  sentence_task   \n",
       "1147  19392810  MESH:D003932  MESH:D002544          5  sentence_task   \n",
       "1175  19681452  MESH:D000431  MESH:D001145          5  sentence_task   \n",
       "384    6529939  MESH:D011433  MESH:D019955          5  sentence_task   \n",
       "976   17028363  MESH:D004008  MESH:D007674          5  sentence_task   \n",
       "898   15614572  MESH:D012701  MESH:D002375          4  sentence_task   \n",
       "\n",
       "                                               unit_ids  in_gold  \\\n",
       "177   773932660|773932664|773932667|773932671|773932675        0   \n",
       "432                                           773932328        0   \n",
       "871                                           773933891        0   \n",
       "959                                           773934061        0   \n",
       "639                                           773933469        0   \n",
       "755                                           773933691        0   \n",
       "901                                           773933949        0   \n",
       "258                                           773932805        0   \n",
       "1177                                          773932376        0   \n",
       "512                                           773933245        0   \n",
       "1091                                          773934294        0   \n",
       "352                                           773932965        0   \n",
       "298                                 773932866|773932868        0   \n",
       "739                                 773933663|773933664        0   \n",
       "841                                 773933843|773933846        0   \n",
       "91                                            773932534        0   \n",
       "485             773933188|773933191|773933193|773933195        0   \n",
       "1173                                773932362|773932372        0   \n",
       "1581                                          773932228        0   \n",
       "1192                                          773932379        0   \n",
       "1159                                          773934436        0   \n",
       "370                                           773933000        0   \n",
       "1425                                773931962|773931963        0   \n",
       "123                                           773932578        0   \n",
       "1436            773931984|773931987|773931989|773931994        0   \n",
       "301                                           773932875        0   \n",
       "1384                                          773931898        0   \n",
       "1470                                          773932045        0   \n",
       "294                                 773932852|773932860        0   \n",
       "1579                                773932225|773932229        0   \n",
       "390                                 773933036|773933042        0   \n",
       "876                                           773933901        0   \n",
       "459                                 773933140|773933152        0   \n",
       "566                                           773933319        0   \n",
       "1406                                          773931934        0   \n",
       "542                                 773933277|773933287        0   \n",
       "863                                           773933875        0   \n",
       "297                                           773932864        0   \n",
       "380                       773933017|773933018|773933019        0   \n",
       "805             773933776|773933779|773933781|773933784        0   \n",
       "1380                                          773931894        0   \n",
       "60                                            773932481        0   \n",
       "1232                                          773934566        0   \n",
       "1371                                          773931884        0   \n",
       "163   773932633|773932634|773932638|773932641|773932643        0   \n",
       "1147                      773934412|773934415|773934419        0   \n",
       "1175                                          773932375        0   \n",
       "384                                           773933023        0   \n",
       "976                                           773934092        0   \n",
       "898                                           773933943        0   \n",
       "\n",
       "                                   chemical_name  \\\n",
       "177                                  pilocarpine   \n",
       "432                             cyclophosphamide   \n",
       "871                                      steroid   \n",
       "959                                    potassium   \n",
       "639                                    indinavir   \n",
       "755                                      cocaine   \n",
       "901                                   gentamicin   \n",
       "258                          vp-16-213|etoposide   \n",
       "1177                                     cocaine   \n",
       "512                                    piroxicam   \n",
       "1091                                  amiodarone   \n",
       "352                      ppa|phenylpropanolamine   \n",
       "298                                   imipramine   \n",
       "739                                 cocaethylene   \n",
       "841                                  paracetamol   \n",
       "91                                       lithium   \n",
       "485                                  granisetron   \n",
       "1173                             alcohol|ethanol   \n",
       "1581                                   clozapine   \n",
       "1192                            methotrexate|mtx   \n",
       "1159                                  flecainide   \n",
       "370                                 cyclosporine   \n",
       "1425                                   valproate   \n",
       "123                                 trimethaphan   \n",
       "1436                                   glutamate   \n",
       "301   beclomethasone|beclomethasone dipropionate   \n",
       "1384                                  phosphorus   \n",
       "1470                 dhea|dehydroepiandrosterone   \n",
       "294                          5-fluorouracil|5-fu   \n",
       "1579                                  quetiapine   \n",
       "390                                    halothane   \n",
       "876                                   amiodarone   \n",
       "459                                   cephalexin   \n",
       "566                                     estrogen   \n",
       "1406                                   pethidine   \n",
       "542                                  epinephrine   \n",
       "863                                 fluorouracil   \n",
       "297                                carbamazepine   \n",
       "380                     quinacrine hydrochloride   \n",
       "805                                      cocaine   \n",
       "1380                                   etomidate   \n",
       "60                                     kanamycin   \n",
       "1232                                     cocaine   \n",
       "1371                                 fluconazole   \n",
       "163                                     busulfan   \n",
       "1147                                      heroin   \n",
       "1175                             alcohol|ethanol   \n",
       "384                                  propranolol   \n",
       "976                                   diclofenac   \n",
       "898                     5-ht|5-hydroxytryptamine   \n",
       "\n",
       "                                           disease_name  crowd_right  \\\n",
       "177                                    seizure|seizures          NaN   \n",
       "432                                hemorrhagic cystitis          NaN   \n",
       "871                                             rosacea          NaN   \n",
       "959   long qt syndrome|qt prolongation|qtc prolongation          NaN   \n",
       "639                                        urolithiasis          NaN   \n",
       "755                             subependymal hemorrhage          NaN   \n",
       "901                                            fibrosis          NaN   \n",
       "258                                            toxicity          NaN   \n",
       "1177                                 cardiac arrhythmia          NaN   \n",
       "512                                        coagulopathy          NaN   \n",
       "1091                                        proteinuria          NaN   \n",
       "352                            intracerebral hemorrhage          NaN   \n",
       "298                                       neuroblastoma          NaN   \n",
       "739        cardiac toxicity|cardiotoxicity|cardiotoxity          NaN   \n",
       "841                                            overdose          NaN   \n",
       "91                                        neurotoxicity          NaN   \n",
       "485                                            vomiting          NaN   \n",
       "1173     haemorrhagic infarction|cerebral hypoperfusion          NaN   \n",
       "1581                                        neutropenia          NaN   \n",
       "1192  renal toxicity|ptld|post-transplantation lymph...          NaN   \n",
       "1159                                           toxicity          NaN   \n",
       "370                        epstein barr virus infection          NaN   \n",
       "1425                                     encephalopathy          NaN   \n",
       "123                                         bradycardia          NaN   \n",
       "1436                hyperalgesia|hyperalgesic|allodynia          NaN   \n",
       "301                                         candidiasis          NaN   \n",
       "1384                                          hepatitis          NaN   \n",
       "1470                                          catalepsy          NaN   \n",
       "294                                      cardiotoxicity          NaN   \n",
       "1579                           hepatocellular carcinoma          NaN   \n",
       "390                             hypotension|hypotensive          NaN   \n",
       "876                                         weight loss          NaN   \n",
       "459            drug toxicity|toxic epidermal necrolysis          NaN   \n",
       "566                                    pituitary tumors          NaN   \n",
       "1406                                            seizure          NaN   \n",
       "542               dysrhythmias|postinfarct dysrhythmias          NaN   \n",
       "863                     cardiac events|cardiac diseases          NaN   \n",
       "297                                     marrow toxicity          NaN   \n",
       "380                        atrial thrombosis|thrombosis          NaN   \n",
       "805                                          chest pain          NaN   \n",
       "1380                                               pain          NaN   \n",
       "60                                        renal failure          NaN   \n",
       "1232                       left ventricular dysfunction          NaN   \n",
       "1371                            bone marrow suppression          NaN   \n",
       "163    neurotoxicity|increased neurotoxicity|neurotoxic          NaN   \n",
       "1147                                    ischemic stroke          NaN   \n",
       "1175                                 cardiac arrhythmia          NaN   \n",
       "384                                 conduction disorder          NaN   \n",
       "976                            renal injury|nephropathy          NaN   \n",
       "898                                           catalepsy          NaN   \n",
       "\n",
       "      conclusion  description  \n",
       "177          NaN          NaN  \n",
       "432          NaN          NaN  \n",
       "871          NaN          NaN  \n",
       "959          NaN          NaN  \n",
       "639          NaN          NaN  \n",
       "755          NaN          NaN  \n",
       "901          NaN          NaN  \n",
       "258          NaN          NaN  \n",
       "1177         NaN          NaN  \n",
       "512          NaN          NaN  \n",
       "1091         NaN          NaN  \n",
       "352          NaN          NaN  \n",
       "298          NaN          NaN  \n",
       "739          NaN          NaN  \n",
       "841          NaN          NaN  \n",
       "91           NaN          NaN  \n",
       "485          NaN          NaN  \n",
       "1173         NaN          NaN  \n",
       "1581         NaN          NaN  \n",
       "1192         NaN          NaN  \n",
       "1159         NaN          NaN  \n",
       "370          NaN          NaN  \n",
       "1425         NaN          NaN  \n",
       "123          NaN          NaN  \n",
       "1436         NaN          NaN  \n",
       "301          NaN          NaN  \n",
       "1384         NaN          NaN  \n",
       "1470         NaN          NaN  \n",
       "294          NaN          NaN  \n",
       "1579         NaN          NaN  \n",
       "390          NaN          NaN  \n",
       "876          NaN          NaN  \n",
       "459          NaN          NaN  \n",
       "566          NaN          NaN  \n",
       "1406         NaN          NaN  \n",
       "542          NaN          NaN  \n",
       "863          NaN          NaN  \n",
       "297          NaN          NaN  \n",
       "380          NaN          NaN  \n",
       "805          NaN          NaN  \n",
       "1380         NaN          NaN  \n",
       "60           NaN          NaN  \n",
       "1232         NaN          NaN  \n",
       "1371         NaN          NaN  \n",
       "163          NaN          NaN  \n",
       "1147         NaN          NaN  \n",
       "1175         NaN          NaN  \n",
       "384          NaN          NaN  \n",
       "976          NaN          NaN  \n",
       "898          NaN          NaN  "
      ]
     },
     "execution_count": 67,
     "metadata": {},
     "output_type": "execute_result"
    }
   ],
   "source": [
    "fp_sample"
   ]
  },
  {
   "cell_type": "code",
   "execution_count": 68,
   "metadata": {
    "collapsed": true
   },
   "outputs": [],
   "source": [
    "fp_sample.to_csv(\"evalset_false_pos_sample.tsv\", sep = '\\t', index = False)"
   ]
  },
  {
   "cell_type": "markdown",
   "metadata": {},
   "source": [
    "### Example of missing sentence relation\n",
    "\n",
    "MESH:D010672\t1\tMESH:D005076\t146391\t5\t124_1|124_3|124_6\tbcv_final_eval_easy_721|bcv_final_eval_easy_72...\t773932416|773932418|773932422"
   ]
  },
  {
   "cell_type": "code",
   "execution_count": null,
   "metadata": {
    "collapsed": true
   },
   "outputs": [],
   "source": []
  }
 ],
 "metadata": {
  "kernelspec": {
   "display_name": "Python 3",
   "language": "python",
   "name": "python3"
  },
  "language_info": {
   "codemirror_mode": {
    "name": "ipython",
    "version": 3
   },
   "file_extension": ".py",
   "mimetype": "text/x-python",
   "name": "python",
   "nbconvert_exporter": "python",
   "pygments_lexer": "ipython3",
   "version": "3.4.2"
  }
 },
 "nbformat": 4,
 "nbformat_minor": 0
}
