{
 "cells": [
  {
   "cell_type": "markdown",
   "metadata": {},
   "source": [
    "# Analysis of performance on the BioCreative V evaluation dataset\n",
    "\n",
    "Tong Shu Li<br>\n",
    "Created on: 2015-10-06<br>\n",
    "Last updated: 2015-12-07\n",
    "\n",
    "Now that the gold standard for the final evaluation dataset has been released, we can perform a more detailed analysis of our results and see where we went wrong."
   ]
  },
  {
   "cell_type": "code",
   "execution_count": 1,
   "metadata": {
    "collapsed": true
   },
   "outputs": [],
   "source": [
    "from collections import defaultdict\n",
    "from itertools import groupby\n",
    "import matplotlib\n",
    "import matplotlib.pyplot as plt\n",
    "import numpy as np\n",
    "import os\n",
    "import pandas as pd\n",
    "import pickle\n",
    "import sys"
   ]
  },
  {
   "cell_type": "code",
   "execution_count": 2,
   "metadata": {
    "collapsed": true
   },
   "outputs": [],
   "source": [
    "%matplotlib inline"
   ]
  },
  {
   "cell_type": "code",
   "execution_count": 3,
   "metadata": {
    "collapsed": true
   },
   "outputs": [],
   "source": [
    "sys.path.append(\"..\")"
   ]
  },
  {
   "cell_type": "code",
   "execution_count": 4,
   "metadata": {
    "collapsed": true
   },
   "outputs": [],
   "source": [
    "from src.lingpipe.file_util import read_file\n",
    "from src.lingpipe.file_util import save_file\n",
    "\n",
    "from src.eval_perf import performance\n",
    "from src.eval_perf import official_F_score\n",
    "\n",
    "from src.data_model import *\n",
    "from src.F_score import F_score\n",
    "from src.mesh_filter import filter_relations"
   ]
  },
  {
   "cell_type": "markdown",
   "metadata": {},
   "source": [
    "---"
   ]
  },
  {
   "cell_type": "markdown",
   "metadata": {},
   "source": [
    "### First we need to de-anonymize the paper identifiers"
   ]
  },
  {
   "cell_type": "code",
   "execution_count": 5,
   "metadata": {
    "collapsed": false
   },
   "outputs": [],
   "source": [
    "def read_orig_ids(fname):\n",
    "    title = dict()\n",
    "    for line in read_file(fname):\n",
    "        vals = line.split(\"|\")\n",
    "        if len(vals) == 3 and vals[1] == \"t\":\n",
    "            title[vals[2]] = int(vals[0])\n",
    "            \n",
    "    return title"
   ]
  },
  {
   "cell_type": "code",
   "execution_count": 6,
   "metadata": {
    "collapsed": false
   },
   "outputs": [],
   "source": [
    "fname = os.path.abspath(os.path.join(\"..\", \"data\", \"final_eval\", \"orig_data\", \"CDR_TestSet.txt\"))\n",
    "masked_titles = read_orig_ids(fname)\n",
    "\n",
    "fname = os.path.abspath(os.path.join(\"..\", \"data\", \"gold_standard\", \"CDR_TestSet.txt\"))\n",
    "real_titles = read_orig_ids(fname)"
   ]
  },
  {
   "cell_type": "code",
   "execution_count": 7,
   "metadata": {
    "collapsed": true
   },
   "outputs": [],
   "source": [
    "assert masked_titles.keys() == real_titles.keys()"
   ]
  },
  {
   "cell_type": "code",
   "execution_count": 8,
   "metadata": {
    "collapsed": true
   },
   "outputs": [],
   "source": [
    "paper_mapping = {masked_titles[title] : real_titles[title] for title in real_titles.keys()}\n",
    "save_file(\"testset_mapping.pickle\", paper_mapping)"
   ]
  },
  {
   "cell_type": "markdown",
   "metadata": {},
   "source": [
    "---"
   ]
  },
  {
   "cell_type": "markdown",
   "metadata": {},
   "source": [
    "### Read the gold standard"
   ]
  },
  {
   "cell_type": "code",
   "execution_count": 9,
   "metadata": {
    "collapsed": true
   },
   "outputs": [],
   "source": [
    "def read_gold_standard(dataset, file_format = \"list\"):\n",
    "    assert dataset in [\"training\", \"development\", \"test\"]\n",
    "    assert file_format in [\"list\", \"dict\"]\n",
    "    \n",
    "    fname = \"parsed_{0}_set_{1}.pickle\".format(dataset, file_format)\n",
    "    \n",
    "    save_loc = os.path.abspath(os.path.join(\"..\", \"data\", \"gold_standard\", fname))\n",
    "    \n",
    "    fname = \"CDR_{0}Set.txt\".format(dataset.capitalize())\n",
    "    loc = os.path.abspath(os.path.join(\"..\", \"data\", \"gold_standard\"))\n",
    "    \n",
    "    return parse_file(save_loc, loc = loc, fname = fname,\n",
    "        is_gold = True, return_format = file_format, fix_acronyms = False)"
   ]
  },
  {
   "cell_type": "code",
   "execution_count": 10,
   "metadata": {
    "collapsed": false,
    "scrolled": true
   },
   "outputs": [],
   "source": [
    "eval_gold = read_gold_standard(\"test\", file_format = \"dict\")"
   ]
  },
  {
   "cell_type": "markdown",
   "metadata": {},
   "source": [
    "### Read the original NER output"
   ]
  },
  {
   "cell_type": "code",
   "execution_count": 11,
   "metadata": {
    "collapsed": true
   },
   "outputs": [],
   "source": [
    "save_loc = loc = os.path.abspath(os.path.join(\"..\", \"data\", \"final_eval\", \"results\", \"crowd_testset.pickle\"))\n",
    "loc = os.path.abspath(os.path.join(\"..\", \"data\", \"final_eval\", \"results\", \"crowd_all_relations.txt\"))\n",
    "testset = parse_file(save_loc, loc = loc, fname = \"CDR_TestSet.txt\",\n",
    "                    is_gold = False, return_format = \"dict\", fix_acronyms = False)"
   ]
  },
  {
   "cell_type": "code",
   "execution_count": 12,
   "metadata": {
    "collapsed": true
   },
   "outputs": [],
   "source": [
    "def remap(papers):\n",
    "    res = dict()\n",
    "    for uid, paper in papers.items():\n",
    "        paper.pmid = paper_mapping[uid]\n",
    "        res[paper_mapping[uid]] = paper\n",
    "        \n",
    "    return res"
   ]
  },
  {
   "cell_type": "code",
   "execution_count": 13,
   "metadata": {
    "collapsed": false
   },
   "outputs": [],
   "source": [
    "if 0 in set(testset.keys()):\n",
    "    testset = remap(testset)\n",
    "    save_file(save_loc, testset)"
   ]
  },
  {
   "cell_type": "markdown",
   "metadata": {},
   "source": [
    "---"
   ]
  },
  {
   "cell_type": "markdown",
   "metadata": {},
   "source": [
    "### Read the crowd results"
   ]
  },
  {
   "cell_type": "code",
   "execution_count": 14,
   "metadata": {
    "collapsed": true
   },
   "outputs": [],
   "source": [
    "loc = os.path.abspath(os.path.join(\"..\", \"data\", \"final_eval\", \"results\", \"abstract_relation_res.tsv\"))\n",
    "\n",
    "abs_res = pd.read_csv(loc, sep = '\\t')\n",
    "abs_res = abs_res.rename(columns = {\"percent_agree\": \"norm_conf_score\"})"
   ]
  },
  {
   "cell_type": "code",
   "execution_count": 15,
   "metadata": {
    "collapsed": true
   },
   "outputs": [],
   "source": [
    "loc = os.path.abspath(os.path.join(\"..\", \"data\", \"final_eval\", \"results\", \"sentence_relation_abs_res.tsv\"))\n",
    "sent_res = pd.read_csv(loc, sep = '\\t')\n",
    "\n",
    "sent_res = sent_res.rename(columns = {\"conf_score\": \"norm_conf_score\",\n",
    "                                      \"score_vote_max\": \"num_votes\"})"
   ]
  },
  {
   "cell_type": "code",
   "execution_count": 16,
   "metadata": {
    "collapsed": true
   },
   "outputs": [],
   "source": [
    "abs_res.loc[:, \"pmid\"] = abs_res.loc[:, \"pmid\"].map(lambda val: paper_mapping[val])"
   ]
  },
  {
   "cell_type": "code",
   "execution_count": 17,
   "metadata": {
    "collapsed": true
   },
   "outputs": [],
   "source": [
    "sent_res.loc[:, \"pmid\"] = sent_res.loc[:, \"pmid\"].map(lambda val: paper_mapping[val])"
   ]
  },
  {
   "cell_type": "code",
   "execution_count": 18,
   "metadata": {
    "collapsed": false
   },
   "outputs": [
    {
     "data": {
      "text/html": [
       "<div>\n",
       "<table border=\"1\" class=\"dataframe\">\n",
       "  <thead>\n",
       "    <tr style=\"text-align: right;\">\n",
       "      <th></th>\n",
       "      <th>uniq_id</th>\n",
       "      <th>verify_relationship</th>\n",
       "      <th>conf_score</th>\n",
       "      <th>num_votes</th>\n",
       "      <th>norm_conf_score</th>\n",
       "      <th>pmid</th>\n",
       "      <th>unit_id</th>\n",
       "      <th>chemical_id</th>\n",
       "      <th>disease_id</th>\n",
       "    </tr>\n",
       "  </thead>\n",
       "  <tbody>\n",
       "    <tr>\n",
       "      <th>0</th>\n",
       "      <td>bcv_final_eval_hard_0</td>\n",
       "      <td>yes_direct</td>\n",
       "      <td>0.8182</td>\n",
       "      <td>1</td>\n",
       "      <td>0.198438</td>\n",
       "      <td>8701013</td>\n",
       "      <td>773935948</td>\n",
       "      <td>MESH:D006632</td>\n",
       "      <td>MESH:D003693</td>\n",
       "    </tr>\n",
       "    <tr>\n",
       "      <th>1</th>\n",
       "      <td>bcv_final_eval_hard_1</td>\n",
       "      <td>yes_direct</td>\n",
       "      <td>0.0000</td>\n",
       "      <td>0</td>\n",
       "      <td>0.000000</td>\n",
       "      <td>439781</td>\n",
       "      <td>773935949</td>\n",
       "      <td>MESH:D000809</td>\n",
       "      <td>MESH:D007022</td>\n",
       "    </tr>\n",
       "    <tr>\n",
       "      <th>2</th>\n",
       "      <td>bcv_final_eval_hard_10</td>\n",
       "      <td>yes_direct</td>\n",
       "      <td>0.0000</td>\n",
       "      <td>0</td>\n",
       "      <td>0.000000</td>\n",
       "      <td>23666265</td>\n",
       "      <td>773935958</td>\n",
       "      <td>MESH:D013498</td>\n",
       "      <td>MESH:D003556</td>\n",
       "    </tr>\n",
       "    <tr>\n",
       "      <th>3</th>\n",
       "      <td>bcv_final_eval_hard_100</td>\n",
       "      <td>yes_direct</td>\n",
       "      <td>0.0000</td>\n",
       "      <td>0</td>\n",
       "      <td>0.000000</td>\n",
       "      <td>24114426</td>\n",
       "      <td>773936048</td>\n",
       "      <td>MESH:D000431</td>\n",
       "      <td>MESH:D012893</td>\n",
       "    </tr>\n",
       "    <tr>\n",
       "      <th>4</th>\n",
       "      <td>bcv_final_eval_hard_1000</td>\n",
       "      <td>yes_direct</td>\n",
       "      <td>0.0000</td>\n",
       "      <td>0</td>\n",
       "      <td>0.000000</td>\n",
       "      <td>3155884</td>\n",
       "      <td>773936948</td>\n",
       "      <td>MESH:D004837</td>\n",
       "      <td>MESH:D009202</td>\n",
       "    </tr>\n",
       "  </tbody>\n",
       "</table>\n",
       "</div>"
      ],
      "text/plain": [
       "                    uniq_id verify_relationship  conf_score  num_votes  \\\n",
       "0     bcv_final_eval_hard_0          yes_direct      0.8182          1   \n",
       "1     bcv_final_eval_hard_1          yes_direct      0.0000          0   \n",
       "2    bcv_final_eval_hard_10          yes_direct      0.0000          0   \n",
       "3   bcv_final_eval_hard_100          yes_direct      0.0000          0   \n",
       "4  bcv_final_eval_hard_1000          yes_direct      0.0000          0   \n",
       "\n",
       "   norm_conf_score      pmid    unit_id   chemical_id    disease_id  \n",
       "0         0.198438   8701013  773935948  MESH:D006632  MESH:D003693  \n",
       "1         0.000000    439781  773935949  MESH:D000809  MESH:D007022  \n",
       "2         0.000000  23666265  773935958  MESH:D013498  MESH:D003556  \n",
       "3         0.000000  24114426  773936048  MESH:D000431  MESH:D012893  \n",
       "4         0.000000   3155884  773936948  MESH:D004837  MESH:D009202  "
      ]
     },
     "execution_count": 18,
     "metadata": {},
     "output_type": "execute_result"
    }
   ],
   "source": [
    "abs_res.head()"
   ]
  },
  {
   "cell_type": "code",
   "execution_count": 19,
   "metadata": {
    "collapsed": false
   },
   "outputs": [
    {
     "data": {
      "text/html": [
       "<div>\n",
       "<table border=\"1\" class=\"dataframe\">\n",
       "  <thead>\n",
       "    <tr style=\"text-align: right;\">\n",
       "      <th></th>\n",
       "      <th>chemical_id</th>\n",
       "      <th>norm_conf_score</th>\n",
       "      <th>disease_id</th>\n",
       "      <th>pmid</th>\n",
       "      <th>num_votes</th>\n",
       "      <th>sentence_ids</th>\n",
       "      <th>uniq_ids</th>\n",
       "      <th>unit_ids</th>\n",
       "    </tr>\n",
       "  </thead>\n",
       "  <tbody>\n",
       "    <tr>\n",
       "      <th>0</th>\n",
       "      <td>MESH:D006632</td>\n",
       "      <td>0.000000</td>\n",
       "      <td>MESH:D014456</td>\n",
       "      <td>8701013</td>\n",
       "      <td>0</td>\n",
       "      <td>0_1</td>\n",
       "      <td>bcv_final_eval_easy_1</td>\n",
       "      <td>773931696</td>\n",
       "    </tr>\n",
       "    <tr>\n",
       "      <th>1</th>\n",
       "      <td>MESH:D015738</td>\n",
       "      <td>1.000000</td>\n",
       "      <td>MESH:D003693</td>\n",
       "      <td>8701013</td>\n",
       "      <td>5</td>\n",
       "      <td>0_0|0_2|0_3</td>\n",
       "      <td>bcv_final_eval_easy_0|bcv_final_eval_easy_3|bc...</td>\n",
       "      <td>773931695|773931698|773931699</td>\n",
       "    </tr>\n",
       "    <tr>\n",
       "      <th>2</th>\n",
       "      <td>MESH:D015738</td>\n",
       "      <td>0.000000</td>\n",
       "      <td>MESH:D014456</td>\n",
       "      <td>8701013</td>\n",
       "      <td>0</td>\n",
       "      <td>0_1</td>\n",
       "      <td>bcv_final_eval_easy_2</td>\n",
       "      <td>773931697</td>\n",
       "    </tr>\n",
       "    <tr>\n",
       "      <th>3</th>\n",
       "      <td>MESH:D012964</td>\n",
       "      <td>0.189597</td>\n",
       "      <td>MESH:D007022</td>\n",
       "      <td>439781</td>\n",
       "      <td>1</td>\n",
       "      <td>1_0</td>\n",
       "      <td>bcv_final_eval_easy_5</td>\n",
       "      <td>773931700</td>\n",
       "    </tr>\n",
       "    <tr>\n",
       "      <th>4</th>\n",
       "      <td>MESH:D000305</td>\n",
       "      <td>0.802824</td>\n",
       "      <td>MESH:D007674</td>\n",
       "      <td>22836123</td>\n",
       "      <td>4</td>\n",
       "      <td>2_4</td>\n",
       "      <td>bcv_final_eval_easy_10</td>\n",
       "      <td>773931705</td>\n",
       "    </tr>\n",
       "  </tbody>\n",
       "</table>\n",
       "</div>"
      ],
      "text/plain": [
       "    chemical_id  norm_conf_score    disease_id      pmid  num_votes  \\\n",
       "0  MESH:D006632         0.000000  MESH:D014456   8701013          0   \n",
       "1  MESH:D015738         1.000000  MESH:D003693   8701013          5   \n",
       "2  MESH:D015738         0.000000  MESH:D014456   8701013          0   \n",
       "3  MESH:D012964         0.189597  MESH:D007022    439781          1   \n",
       "4  MESH:D000305         0.802824  MESH:D007674  22836123          4   \n",
       "\n",
       "  sentence_ids                                           uniq_ids  \\\n",
       "0          0_1                              bcv_final_eval_easy_1   \n",
       "1  0_0|0_2|0_3  bcv_final_eval_easy_0|bcv_final_eval_easy_3|bc...   \n",
       "2          0_1                              bcv_final_eval_easy_2   \n",
       "3          1_0                              bcv_final_eval_easy_5   \n",
       "4          2_4                             bcv_final_eval_easy_10   \n",
       "\n",
       "                        unit_ids  \n",
       "0                      773931696  \n",
       "1  773931695|773931698|773931699  \n",
       "2                      773931697  \n",
       "3                      773931700  \n",
       "4                      773931705  "
      ]
     },
     "execution_count": 19,
     "metadata": {},
     "output_type": "execute_result"
    }
   ],
   "source": [
    "sent_res.head()"
   ]
  },
  {
   "cell_type": "code",
   "execution_count": 20,
   "metadata": {
    "collapsed": true
   },
   "outputs": [],
   "source": [
    "loc = os.path.abspath(os.path.join(\"..\", \"data\", \"final_eval\", \"cid_relations.pickle\"))\n",
    "cid_rels = save_file(loc)\n",
    "\n",
    "cid_rels = {paper_mapping[pmid] : rels for pmid, rels in cid_rels.items()}"
   ]
  },
  {
   "cell_type": "markdown",
   "metadata": {},
   "source": [
    "## Combine all results together"
   ]
  },
  {
   "cell_type": "code",
   "execution_count": 21,
   "metadata": {
    "collapsed": true
   },
   "outputs": [],
   "source": [
    "def flat_repr(id_set):\n",
    "    vals = [\"{0}:{1}\".format(v.uid_type, v.uid) for v in id_set]\n",
    "    return \"|\".join(sorted(vals))"
   ]
  },
  {
   "cell_type": "code",
   "execution_count": 22,
   "metadata": {
    "collapsed": true
   },
   "outputs": [],
   "source": [
    "def merge_results():\n",
    "    temp = []    \n",
    "    cols = [\"pmid\", \"chemical_id\", \"disease_id\", \"norm_conf_score\", \"num_votes\"]\n",
    "    \n",
    "    sub = abs_res.loc[:, cols]\n",
    "    sub.loc[:, \"rel_origin\"] = \"abstract_task\"\n",
    "    temp.append(sub)\n",
    "\n",
    "    sub = sent_res.loc[:, cols]\n",
    "    sub.loc[:, \"rel_origin\"] = \"sentence_task\"\n",
    "    temp.append(sub)\n",
    "    \n",
    "    things = defaultdict(list)\n",
    "    for pmid, rels in cid_rels.items():\n",
    "        for cid_relation in rels:\n",
    "            things[\"pmid\"].append(pmid)\n",
    "            things[\"chemical_id\"].append(flat_repr(cid_relation[0]))\n",
    "            things[\"disease_id\"].append(flat_repr(cid_relation[1]))\n",
    "            \n",
    "    things = pd.DataFrame(things)\n",
    "    things.loc[:, \"norm_conf_score\"] = 1\n",
    "    things.loc[:, \"num_votes\"] = 5\n",
    "    things.loc[:, \"rel_origin\"] = \"cid_relation\"\n",
    "    temp.append(things)\n",
    "    \n",
    "    return pd.concat(temp).sort([\"pmid\", \"num_votes\", \"rel_origin\",\n",
    "                                \"chemical_id\", \"disease_id\"]).reset_index(drop = True)"
   ]
  },
  {
   "cell_type": "code",
   "execution_count": 23,
   "metadata": {
    "collapsed": true
   },
   "outputs": [],
   "source": [
    "final_results = merge_results()"
   ]
  },
  {
   "cell_type": "code",
   "execution_count": 24,
   "metadata": {
    "collapsed": false
   },
   "outputs": [
    {
     "data": {
      "text/html": [
       "<div>\n",
       "<table border=\"1\" class=\"dataframe\">\n",
       "  <thead>\n",
       "    <tr style=\"text-align: right;\">\n",
       "      <th></th>\n",
       "      <th>chemical_id</th>\n",
       "      <th>disease_id</th>\n",
       "      <th>norm_conf_score</th>\n",
       "      <th>num_votes</th>\n",
       "      <th>pmid</th>\n",
       "      <th>rel_origin</th>\n",
       "    </tr>\n",
       "  </thead>\n",
       "  <tbody>\n",
       "    <tr>\n",
       "      <th>0</th>\n",
       "      <td>MESH:C009695</td>\n",
       "      <td>MESH:D000699</td>\n",
       "      <td>0.000000</td>\n",
       "      <td>0</td>\n",
       "      <td>35781</td>\n",
       "      <td>sentence_task</td>\n",
       "    </tr>\n",
       "    <tr>\n",
       "      <th>1</th>\n",
       "      <td>MESH:C009695</td>\n",
       "      <td>MESH:D002375</td>\n",
       "      <td>0.000000</td>\n",
       "      <td>0</td>\n",
       "      <td>35781</td>\n",
       "      <td>sentence_task</td>\n",
       "    </tr>\n",
       "    <tr>\n",
       "      <th>2</th>\n",
       "      <td>MESH:D003000</td>\n",
       "      <td>MESH:D000699</td>\n",
       "      <td>0.000000</td>\n",
       "      <td>0</td>\n",
       "      <td>35781</td>\n",
       "      <td>sentence_task</td>\n",
       "    </tr>\n",
       "    <tr>\n",
       "      <th>3</th>\n",
       "      <td>MESH:D009278</td>\n",
       "      <td>MESH:D002375</td>\n",
       "      <td>0.000000</td>\n",
       "      <td>0</td>\n",
       "      <td>35781</td>\n",
       "      <td>sentence_task</td>\n",
       "    </tr>\n",
       "    <tr>\n",
       "      <th>4</th>\n",
       "      <td>MESH:D009638</td>\n",
       "      <td>MESH:D000699</td>\n",
       "      <td>0.185347</td>\n",
       "      <td>1</td>\n",
       "      <td>35781</td>\n",
       "      <td>abstract_task</td>\n",
       "    </tr>\n",
       "  </tbody>\n",
       "</table>\n",
       "</div>"
      ],
      "text/plain": [
       "    chemical_id    disease_id  norm_conf_score  num_votes   pmid  \\\n",
       "0  MESH:C009695  MESH:D000699         0.000000          0  35781   \n",
       "1  MESH:C009695  MESH:D002375         0.000000          0  35781   \n",
       "2  MESH:D003000  MESH:D000699         0.000000          0  35781   \n",
       "3  MESH:D009278  MESH:D002375         0.000000          0  35781   \n",
       "4  MESH:D009638  MESH:D000699         0.185347          1  35781   \n",
       "\n",
       "      rel_origin  \n",
       "0  sentence_task  \n",
       "1  sentence_task  \n",
       "2  sentence_task  \n",
       "3  sentence_task  \n",
       "4  abstract_task  "
      ]
     },
     "execution_count": 24,
     "metadata": {},
     "output_type": "execute_result"
    }
   ],
   "source": [
    "final_results.head()"
   ]
  },
  {
   "cell_type": "code",
   "execution_count": 25,
   "metadata": {
    "collapsed": false
   },
   "outputs": [
    {
     "data": {
      "text/plain": [
       "(4920, 6)"
      ]
     },
     "execution_count": 25,
     "metadata": {},
     "output_type": "execute_result"
    }
   ],
   "source": [
    "final_results.shape"
   ]
  },
  {
   "cell_type": "code",
   "execution_count": 26,
   "metadata": {
    "collapsed": false
   },
   "outputs": [],
   "source": [
    "# change 6 votes to 5 votes for the purposes of evaluation\n",
    "final_results.loc[:, \"num_votes\"] = final_results.num_votes.map(\n",
    "    lambda v: 5 if v > 5 else v\n",
    ")"
   ]
  },
  {
   "cell_type": "code",
   "execution_count": 27,
   "metadata": {
    "collapsed": true
   },
   "outputs": [],
   "source": [
    "save_file(\"testset_final_res.pickle\", final_results)"
   ]
  },
  {
   "cell_type": "markdown",
   "metadata": {},
   "source": [
    "---"
   ]
  },
  {
   "cell_type": "markdown",
   "metadata": {},
   "source": [
    "### NER performance by tmChem and DNorm"
   ]
  },
  {
   "cell_type": "code",
   "execution_count": 28,
   "metadata": {
    "collapsed": true
   },
   "outputs": [],
   "source": [
    "def parse_annots(papers, stype = [\"chemical\", \"disease\"]):\n",
    "    ans = set()\n",
    "    for pmid, paper in papers.items():\n",
    "        for annot in paper.annotations:\n",
    "            if annot.stype in stype:\n",
    "                for uid in annot.uid:\n",
    "                    if uid.uid_type == \"MESH\":\n",
    "                        ans.add((int(pmid), uid.flat_repr))\n",
    "\n",
    "    return ans"
   ]
  },
  {
   "cell_type": "code",
   "execution_count": 29,
   "metadata": {
    "collapsed": false
   },
   "outputs": [
    {
     "name": "stdout",
     "output_type": "stream",
     "text": [
      "gold\n",
      "# True pos: 1270\n",
      "# False pos: 35\n",
      "# False neg: 164\n",
      "Precision: 0.9731800766283525\n",
      "Recall: 0.8856345885634589\n",
      "F-score: 0.9273457466228551\n"
     ]
    }
   ],
   "source": [
    "predict = parse_annots(testset, [\"chemical\"])\n",
    "print(\"gold\")\n",
    "gold = parse_annots(eval_gold, \"chemical\")\n",
    "performance(gold, predict, human_readable = True)"
   ]
  },
  {
   "cell_type": "code",
   "execution_count": 30,
   "metadata": {
    "collapsed": false
   },
   "outputs": [
    {
     "name": "stdout",
     "output_type": "stream",
     "text": [
      "# True pos: 1595\n",
      "# False pos: 374\n",
      "# False neg: 393\n",
      "Precision: 0.8100558659217877\n",
      "Recall: 0.8023138832997988\n",
      "F-score: 0.8061662875916098\n"
     ]
    }
   ],
   "source": [
    "predict = parse_annots(testset, [\"disease\"])\n",
    "gold = parse_annots(eval_gold, \"disease\")\n",
    "performance(gold, predict, human_readable = True)"
   ]
  },
  {
   "cell_type": "code",
   "execution_count": 31,
   "metadata": {
    "collapsed": false
   },
   "outputs": [
    {
     "name": "stdout",
     "output_type": "stream",
     "text": [
      "# True pos: 2865\n",
      "# False pos: 409\n",
      "# False neg: 557\n",
      "Precision: 0.8750763591936469\n",
      "Recall: 0.8372296902396259\n",
      "F-score: 0.8557347670250894\n"
     ]
    }
   ],
   "source": [
    "predict = parse_annots(testset)\n",
    "gold = parse_annots(eval_gold)\n",
    "performance(gold, predict, human_readable = True)"
   ]
  },
  {
   "cell_type": "markdown",
   "metadata": {},
   "source": [
    "## CID relation performance"
   ]
  },
  {
   "cell_type": "code",
   "execution_count": 32,
   "metadata": {
    "collapsed": true
   },
   "outputs": [],
   "source": [
    "def simple_repr(id_set):\n",
    "    assert len(id_set) == 1\n",
    "    return list(id_set)[0].flat_repr\n",
    "\n",
    "def get_gold_rels(gold_std):\n",
    "    res = set()\n",
    "    for pmid, paper in gold_std.items():\n",
    "        for rel in paper.gold_relations:\n",
    "            res.add((int(pmid), simple_repr(rel.chemical_id), simple_repr(rel.disease_id)))\n",
    "            \n",
    "    return res"
   ]
  },
  {
   "cell_type": "code",
   "execution_count": 33,
   "metadata": {
    "collapsed": false
   },
   "outputs": [],
   "source": [
    "gold_relations = get_gold_rels(eval_gold)"
   ]
  },
  {
   "cell_type": "code",
   "execution_count": 34,
   "metadata": {
    "collapsed": false
   },
   "outputs": [
    {
     "data": {
      "text/plain": [
       "1066"
      ]
     },
     "execution_count": 34,
     "metadata": {},
     "output_type": "execute_result"
    }
   ],
   "source": [
    "len(gold_relations)"
   ]
  },
  {
   "cell_type": "code",
   "execution_count": 35,
   "metadata": {
    "collapsed": true
   },
   "outputs": [],
   "source": [
    "official_res = official_F_score(\"num_votes\", gold_relations, final_results, apply_mesh_filter = False).sort(\"threshold\")"
   ]
  },
  {
   "cell_type": "code",
   "execution_count": 36,
   "metadata": {
    "collapsed": false
   },
   "outputs": [
    {
     "data": {
      "text/html": [
       "<div>\n",
       "<table border=\"1\" class=\"dataframe\">\n",
       "  <thead>\n",
       "    <tr style=\"text-align: right;\">\n",
       "      <th></th>\n",
       "      <th>F_score</th>\n",
       "      <th>precision</th>\n",
       "      <th>recall</th>\n",
       "      <th>threshold</th>\n",
       "    </tr>\n",
       "  </thead>\n",
       "  <tbody>\n",
       "    <tr>\n",
       "      <th>0</th>\n",
       "      <td>0.267624</td>\n",
       "      <td>0.162805</td>\n",
       "      <td>0.751407</td>\n",
       "      <td>0</td>\n",
       "    </tr>\n",
       "    <tr>\n",
       "      <th>1</th>\n",
       "      <td>0.356317</td>\n",
       "      <td>0.236486</td>\n",
       "      <td>0.722326</td>\n",
       "      <td>1</td>\n",
       "    </tr>\n",
       "    <tr>\n",
       "      <th>2</th>\n",
       "      <td>0.444779</td>\n",
       "      <td>0.327426</td>\n",
       "      <td>0.693246</td>\n",
       "      <td>2</td>\n",
       "    </tr>\n",
       "    <tr>\n",
       "      <th>3</th>\n",
       "      <td>0.496480</td>\n",
       "      <td>0.410288</td>\n",
       "      <td>0.628518</td>\n",
       "      <td>3</td>\n",
       "    </tr>\n",
       "    <tr>\n",
       "      <th>4</th>\n",
       "      <td>0.505929</td>\n",
       "      <td>0.475640</td>\n",
       "      <td>0.540338</td>\n",
       "      <td>4</td>\n",
       "    </tr>\n",
       "    <tr>\n",
       "      <th>5</th>\n",
       "      <td>0.465066</td>\n",
       "      <td>0.556136</td>\n",
       "      <td>0.399625</td>\n",
       "      <td>5</td>\n",
       "    </tr>\n",
       "  </tbody>\n",
       "</table>\n",
       "</div>"
      ],
      "text/plain": [
       "    F_score  precision    recall  threshold\n",
       "0  0.267624   0.162805  0.751407          0\n",
       "1  0.356317   0.236486  0.722326          1\n",
       "2  0.444779   0.327426  0.693246          2\n",
       "3  0.496480   0.410288  0.628518          3\n",
       "4  0.505929   0.475640  0.540338          4\n",
       "5  0.465066   0.556136  0.399625          5"
      ]
     },
     "execution_count": 36,
     "metadata": {},
     "output_type": "execute_result"
    }
   ],
   "source": [
    "official_res"
   ]
  },
  {
   "cell_type": "markdown",
   "metadata": {},
   "source": [
    "These results exactly match what Yifan sent us for the official evaluations. This is good, because it means that I reproduced things correctly."
   ]
  },
  {
   "cell_type": "code",
   "execution_count": 37,
   "metadata": {
    "collapsed": true
   },
   "outputs": [],
   "source": [
    "def plot_results(res, title, xlabel, fontsize, figsize, linewidth, fname = None):\n",
    "    res = res.sort(\"threshold\")\n",
    "    matplotlib.rcParams.update({'font.size': fontsize})\n",
    "\n",
    "    graph = res.plot(x = \"threshold\", figsize = figsize,\n",
    "                     linewidth = linewidth, title = title)\n",
    "    graph.set_ylim((0, 1.1))\n",
    "    graph.set_xlabel(xlabel)\n",
    "    \n",
    "    if fname is not None:\n",
    "        plt.savefig(fname, bbox_inches = \"tight\")"
   ]
  },
  {
   "cell_type": "code",
   "execution_count": 38,
   "metadata": {
    "collapsed": false
   },
   "outputs": [
    {
     "data": {
      "image/png": "[encoded data removed]",
      "text/plain": [
       "<matplotlib.figure.Figure at 0x7f4f167f04a8>"
      ]
     },
     "metadata": {},
     "output_type": "display_data"
    }
   ],
   "source": [
    "plot_results(official_res, \"Crowd Performance Against Gold Standard (evaluation dataset)\",\n",
    "            \"Number of positive votes\", 12, (7, 7), 1)"
   ]
  },
  {
   "cell_type": "markdown",
   "metadata": {},
   "source": [
    "### Performance with MeSH filtering"
   ]
  },
  {
   "cell_type": "code",
   "execution_count": 39,
   "metadata": {
    "collapsed": false
   },
   "outputs": [],
   "source": [
    "filtered_res = official_F_score(\"num_votes\", gold_relations, final_results, apply_mesh_filter = True).sort(\"threshold\")"
   ]
  },
  {
   "cell_type": "code",
   "execution_count": 40,
   "metadata": {
    "collapsed": false
   },
   "outputs": [
    {
     "data": {
      "text/html": [
       "<div>\n",
       "<table border=\"1\" class=\"dataframe\">\n",
       "  <thead>\n",
       "    <tr style=\"text-align: right;\">\n",
       "      <th></th>\n",
       "      <th>F_score</th>\n",
       "      <th>precision</th>\n",
       "      <th>recall</th>\n",
       "      <th>threshold</th>\n",
       "    </tr>\n",
       "  </thead>\n",
       "  <tbody>\n",
       "    <tr>\n",
       "      <th>0</th>\n",
       "      <td>0.290285</td>\n",
       "      <td>0.182678</td>\n",
       "      <td>0.706379</td>\n",
       "      <td>0</td>\n",
       "    </tr>\n",
       "    <tr>\n",
       "      <th>1</th>\n",
       "      <td>0.375514</td>\n",
       "      <td>0.258682</td>\n",
       "      <td>0.684803</td>\n",
       "      <td>1</td>\n",
       "    </tr>\n",
       "    <tr>\n",
       "      <th>2</th>\n",
       "      <td>0.460281</td>\n",
       "      <td>0.353236</td>\n",
       "      <td>0.660413</td>\n",
       "      <td>2</td>\n",
       "    </tr>\n",
       "    <tr>\n",
       "      <th>3</th>\n",
       "      <td>0.509680</td>\n",
       "      <td>0.440273</td>\n",
       "      <td>0.605066</td>\n",
       "      <td>3</td>\n",
       "    </tr>\n",
       "    <tr>\n",
       "      <th>4</th>\n",
       "      <td>0.514049</td>\n",
       "      <td>0.504977</td>\n",
       "      <td>0.523452</td>\n",
       "      <td>4</td>\n",
       "    </tr>\n",
       "    <tr>\n",
       "      <th>5</th>\n",
       "      <td>0.464907</td>\n",
       "      <td>0.579021</td>\n",
       "      <td>0.388368</td>\n",
       "      <td>5</td>\n",
       "    </tr>\n",
       "  </tbody>\n",
       "</table>\n",
       "</div>"
      ],
      "text/plain": [
       "    F_score  precision    recall  threshold\n",
       "0  0.290285   0.182678  0.706379          0\n",
       "1  0.375514   0.258682  0.684803          1\n",
       "2  0.460281   0.353236  0.660413          2\n",
       "3  0.509680   0.440273  0.605066          3\n",
       "4  0.514049   0.504977  0.523452          4\n",
       "5  0.464907   0.579021  0.388368          5"
      ]
     },
     "execution_count": 40,
     "metadata": {},
     "output_type": "execute_result"
    }
   ],
   "source": [
    "filtered_res"
   ]
  },
  {
   "cell_type": "code",
   "execution_count": 41,
   "metadata": {
    "collapsed": true
   },
   "outputs": [],
   "source": [
    "def pair_plot(df1, df2, title, xlabel, fontsize, figsize, linewidth, fname = None):\n",
    "    matplotlib.rcParams.update({\"font.size\": fontsize})\n",
    "\n",
    "    ax = df1.plot(x = \"threshold\", figsize = figsize,\n",
    "                  title = title, ylim = (0, 1.05), linewidth = linewidth)\n",
    "\n",
    "    ax = df2.plot(ax = ax, x = \"threshold\", linestyle = \"--\", linewidth = linewidth)\n",
    "    ax.set_xlabel(xlabel)\n",
    "\n",
    "    if fname is not None:\n",
    "        plt.savefig(fname, bbox_inches = \"tight\")"
   ]
  },
  {
   "cell_type": "code",
   "execution_count": 42,
   "metadata": {
    "collapsed": false
   },
   "outputs": [
    {
     "data": {
      "image/png": "[encoded data removed]",
      "text/plain": [
       "<matplotlib.figure.Figure at 0x7f4f14c6ebe0>"
      ]
     },
     "metadata": {},
     "output_type": "display_data"
    }
   ],
   "source": [
    "pair_plot(official_res, filtered_res, \"Performance on evaluation dataset with MeSH filter\",\n",
    "          \"Number of votes\", 12, (7, 7), 2)"
   ]
  }
 ],
 "metadata": {
  "kernelspec": {
   "display_name": "Python 3",
   "language": "python",
   "name": "python3"
  },
  "language_info": {
   "codemirror_mode": {
    "name": "ipython",
    "version": 3
   },
   "file_extension": ".py",
   "mimetype": "text/x-python",
   "name": "python",
   "nbconvert_exporter": "python",
   "pygments_lexer": "ipython3",
   "version": "3.4.2"
  }
 },
 "nbformat": 4,
 "nbformat_minor": 0
}
