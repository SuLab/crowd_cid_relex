{
 "cells": [
  {
   "cell_type": "markdown",
   "metadata": {},
   "source": [
    "# Analysis of performance on the BioCreative V evaluation dataset\n",
    "\n",
    "Tong Shu Li<br>\n",
    "Created on: 2015-10-06<br>\n",
    "Last updated: 2015-12-07\n",
    "\n",
    "Now that the gold standard for the final evaluation dataset has been released, we can perform a more detailed analysis of our results and see where we went wrong."
   ]
  },
  {
   "cell_type": "code",
   "execution_count": 1,
   "metadata": {
    "collapsed": true
   },
   "outputs": [],
   "source": [
    "from collections import defaultdict\n",
    "from itertools import groupby\n",
    "import matplotlib\n",
    "import matplotlib.pyplot as plt\n",
    "import numpy as np\n",
    "import os\n",
    "import pandas as pd\n",
    "import pickle\n",
    "import sys"
   ]
  },
  {
   "cell_type": "code",
   "execution_count": 2,
   "metadata": {
    "collapsed": true
   },
   "outputs": [],
   "source": [
    "%matplotlib inline"
   ]
  },
  {
   "cell_type": "code",
   "execution_count": 3,
   "metadata": {
    "collapsed": true
   },
   "outputs": [],
   "source": [
    "sys.path.append(\"..\")"
   ]
  },
  {
   "cell_type": "code",
   "execution_count": 4,
   "metadata": {
    "collapsed": true
   },
   "outputs": [],
   "source": [
    "from src.lingpipe.file_util import read_file\n",
    "from src.lingpipe.file_util import save_file\n",
    "\n",
    "from src.eval_perf import performance\n",
    "from src.eval_perf import official_F_score\n",
    "\n",
    "from src.data_model import *\n",
    "from src.F_score import F_score\n",
    "from src.mesh_filter import filter_relations"
   ]
  },
  {
   "cell_type": "markdown",
   "metadata": {},
   "source": [
    "---"
   ]
  },
  {
   "cell_type": "markdown",
   "metadata": {},
   "source": [
    "### First we need to de-anonymize the paper identifiers"
   ]
  },
  {
   "cell_type": "code",
   "execution_count": 5,
   "metadata": {
    "collapsed": false
   },
   "outputs": [],
   "source": [
    "def read_orig_ids(fname):\n",
    "    title = dict()\n",
    "    for line in read_file(fname):\n",
    "        vals = line.split(\"|\")\n",
    "        if len(vals) == 3 and vals[1] == \"t\":\n",
    "            title[vals[2]] = int(vals[0])\n",
    "            \n",
    "    return title"
   ]
  },
  {
   "cell_type": "code",
   "execution_count": 6,
   "metadata": {
    "collapsed": false
   },
   "outputs": [],
   "source": [
    "fname = os.path.abspath(os.path.join(\"..\", \"data\", \"final_eval\", \"orig_data\", \"CDR_TestSet.txt\"))\n",
    "masked_titles = read_orig_ids(fname)\n",
    "\n",
    "fname = os.path.abspath(os.path.join(\"..\", \"data\", \"gold_standard\", \"CDR_TestSet.txt\"))\n",
    "real_titles = read_orig_ids(fname)"
   ]
  },
  {
   "cell_type": "code",
   "execution_count": 7,
   "metadata": {
    "collapsed": true
   },
   "outputs": [],
   "source": [
    "assert masked_titles.keys() == real_titles.keys()"
   ]
  },
  {
   "cell_type": "code",
   "execution_count": 8,
   "metadata": {
    "collapsed": true
   },
   "outputs": [],
   "source": [
    "paper_mapping = {masked_titles[title] : real_titles[title] for title in real_titles.keys()}\n",
    "save_file(\"testset_mapping.pickle\", paper_mapping)"
   ]
  },
  {
   "cell_type": "markdown",
   "metadata": {},
   "source": [
    "---"
   ]
  },
  {
   "cell_type": "markdown",
   "metadata": {},
   "source": [
    "### Read the gold standard"
   ]
  },
  {
   "cell_type": "code",
   "execution_count": 9,
   "metadata": {
    "collapsed": true
   },
   "outputs": [],
   "source": [
    "def read_gold_standard(dataset, file_format = \"list\"):\n",
    "    assert dataset in [\"training\", \"development\", \"test\"]\n",
    "    assert file_format in [\"list\", \"dict\"]\n",
    "    \n",
    "    fname = \"parsed_{0}_set_{1}.pickle\".format(dataset, file_format)\n",
    "    \n",
    "    save_loc = os.path.abspath(os.path.join(\"..\", \"data\", \"gold_standard\", fname))\n",
    "    \n",
    "    fname = \"CDR_{0}Set.txt\".format(dataset.capitalize())\n",
    "    loc = os.path.abspath(os.path.join(\"..\", \"data\", \"gold_standard\"))\n",
    "    \n",
    "    return parse_file(save_loc, loc = loc, fname = fname,\n",
    "        is_gold = True, return_format = file_format, fix_acronyms = False)"
   ]
  },
  {
   "cell_type": "code",
   "execution_count": 10,
   "metadata": {
    "collapsed": false,
    "scrolled": true
   },
   "outputs": [],
   "source": [
    "eval_gold = read_gold_standard(\"test\", file_format = \"dict\")"
   ]
  },
  {
   "cell_type": "markdown",
   "metadata": {},
   "source": [
    "### Read the original NER output"
   ]
  },
  {
   "cell_type": "code",
   "execution_count": 11,
   "metadata": {
    "collapsed": false,
    "scrolled": true
   },
   "outputs": [
    {
     "name": "stdout",
     "output_type": "stream",
     "text": [
      "Annotation overlap! PMID:4\n",
      "'levodopa'(221-229) and 'levodopa-induced dyskinesias'(221-249)\n",
      "Annotation overlap! PMID:42\n",
      "'phosphorus'(35-45) and 'phosphorus poisoning'(35-55)\n",
      "Annotation overlap! PMID:42\n",
      "'phosphorus'(343-353) and 'phosphorus poisoning'(343-363)\n",
      "Annotation overlap! PMID:64\n",
      "'heparin'(96-103) and 'heparin-induced thrombocytopenia with thrombosis'(96-144)\n",
      "Annotation overlap! PMID:64\n",
      "'heparin'(201-208) and 'heparin-induced thrombocytopenia with thrombosis'(201-249)\n",
      "Annotation overlap! PMID:65\n",
      "'DHEA'(1486-1490) and 'DHEA reduced locomotor activity'(1486-1517)\n",
      "Annotation overlap! PMID:71\n",
      "'metronidazole'(430-443) and 'metronidazole toxicity'(430-452)\n",
      "Annotation overlap! PMID:105\n",
      "'high dose inhaled salbutamol'(84-112) and 'salbutamol'(102-112)\n",
      "Annotation overlap! PMID:105\n",
      "'high dose inhaled salbutamol'(428-456) and 'salbutamol'(446-456)\n",
      "Annotation overlap! PMID:105\n",
      "'high dose inhaled salbutamol'(619-647) and 'salbutamol'(637-647)\n",
      "Annotation overlap! PMID:105\n",
      "'HDS'(1520-1523) and 'HDS'(1520-1523)\n",
      "Annotation overlap! PMID:111\n",
      "'cocaine'(916-923) and 'cocaine toxicity'(916-932)\n",
      "Annotation overlap! PMID:117\n",
      "'alcohol'(75-82) and 'alcohol intoxication'(75-95)\n",
      "Annotation overlap! PMID:137\n",
      "'folate'(949-955) and 'folate deficiency'(949-966)\n",
      "Annotation overlap! PMID:139\n",
      "'elevated glucose tolerance curve'(214-246) and 'glucose'(223-230)\n",
      "Annotation overlap! PMID:161\n",
      "'PHN'(1094-1097) and 'PHN'(1094-1097)\n",
      "Annotation overlap! PMID:200\n",
      "'blood glucose'(662-675) and 'glucose'(668-675)\n",
      "Annotation overlap! PMID:258\n",
      "'Post-suxamethonium pains'(0-24) and 'suxamethonium'(5-18)\n",
      "Annotation overlap! PMID:266\n",
      "'cocaine'(845-852) and 'cocaine toxicity'(845-861)\n",
      "Annotation overlap! PMID:289\n",
      "'serotonin'(84-93) and 'serotonin syndrome spectrum disorders'(84-121)\n",
      "Annotation overlap! PMID:289\n",
      "'serotonin'(359-368) and 'serotonin syndrome'(359-377)\n",
      "Annotation overlap! PMID:293\n",
      "'cortical malondialdehyde content, or glomerular or tubulointerstitial damage'(1588-1664) and 'malondialdehyde'(1597-1612)\n",
      "Annotation overlap! PMID:310\n",
      "'cocaine'(1101-1108) and 'cocaine intoxication'(1101-1121)\n",
      "Annotation overlap! PMID:315\n",
      "'gamma-aminobutyric acid'(777-800) and 'acid-ergic deficiency'(796-817)\n",
      "Annotation overlap! PMID:329\n",
      "'PPH'(264-267) and 'PPH'(264-267)\n",
      "Annotation overlap! PMID:329\n",
      "'PPH'(823-826) and 'PPH'(823-826)\n",
      "Annotation overlap! PMID:329\n",
      "'PPH'(1022-1025) and 'PPH'(1022-1025)\n",
      "Annotation overlap! PMID:329\n",
      "'PPH'(1281-1284) and 'PPH'(1281-1284)\n",
      "Annotation overlap! PMID:329\n",
      "'PPH'(1680-1683) and 'PPH'(1680-1683)\n",
      "Annotation overlap! PMID:329\n",
      "'PPH'(1875-1878) and 'PPH'(1875-1878)\n",
      "Annotation overlap! PMID:340\n",
      "'isotretinoin'(10-22) and 'isotretinoin embryopathy'(10-34)\n",
      "Annotation overlap! PMID:350\n",
      "'cocaine'(725-732) and 'cocaine abuse'(725-738)\n",
      "Annotation overlap! PMID:409\n",
      "'renal malondialdehyde'(712-733) and 'malondialdehyde'(718-733)\n",
      "Annotation overlap! PMID:409\n",
      "'decreased renal MDA'(973-992) and 'MDA'(989-992)\n",
      "Annotation overlap! PMID:411\n",
      "'triglycerides'(264-277) and 'triglycerides'(264-277)\n",
      "Annotation overlap! PMID:412\n",
      "'alpha-fluoro-beta-alanine'(41-66) and 'alpha-fluoro-beta-alanine'(41-66)\n",
      "Annotation overlap! PMID:412\n",
      "'alpha-fluoro-beta-alanine'(284-309) and 'alpha-fluoro-beta-alanine'(284-309)\n",
      "Annotation overlap! PMID:412\n",
      "'FBAL'(311-315) and 'FBAL'(311-315)\n",
      "Annotation overlap! PMID:412\n",
      "'FBAL'(700-704) and 'FBAL'(700-704)\n",
      "Annotation overlap! PMID:412\n",
      "'FBAL'(1230-1234) and 'FBAL'(1230-1234)\n",
      "Annotation overlap! PMID:412\n",
      "'FBAL'(1246-1250) and 'FBAL'(1246-1250)\n",
      "Annotation overlap! PMID:412\n",
      "'FBAL'(1597-1601) and 'FBAL'(1597-1601)\n",
      "Annotation overlap! PMID:456\n",
      "'Losartan'(1404-1412) and 'Losartan reduced uraemia'(1404-1428)\n",
      "Annotation overlap! PMID:465\n",
      "'heparin'(97-104) and 'heparin-induced thrombocytopenia'(97-129)\n",
      "Annotation overlap! PMID:465\n",
      "'heparin'(249-256) and 'heparin-induced thrombocytopenia'(249-281)\n",
      "Annotation overlap! PMID:466\n",
      "'heroin'(164-170) and 'heroin abuse'(164-176)\n",
      "Annotation overlap! PMID:469\n",
      "'Citrate'(1290-1297) and 'Citrate dialysate'(1290-1307)\n",
      "Annotation overlap! PMID:475\n",
      "'FHF'(782-785) and 'FHF'(782-785)\n",
      "Annotation overlap! PMID:489\n",
      "'Heparin'(0-7) and 'Heparin-induced thrombocytopenia'(0-32)\n",
      "Annotation overlap! PMID:489\n",
      "'Heparin'(54-61) and 'Heparin-induced thrombocytopenia'(54-86)\n",
      "Annotation overlap! PMID:491\n",
      "'cocaine'(288-295) and 'cocaine abuse'(288-301)\n",
      "Annotation overlap! PMID:499\n",
      "'galactose'(688-697) and 'galactose induce memory deterioration'(688-725)\n",
      "Annotation overlap! PMID:499\n",
      "'galactose'(1482-1491) and 'galactose in the blood'(1482-1504)\n",
      "Annotation overlap! PMID:499\n",
      "'Oral galactose exposure'(1673-1696) and 'galactose'(1678-1687)\n"
     ]
    }
   ],
   "source": [
    "save_loc = loc = os.path.abspath(os.path.join(\"..\", \"data\", \"final_eval\", \"results\", \"crowd_testset.pickle\"))\n",
    "loc = os.path.abspath(os.path.join(\"..\", \"data\", \"final_eval\", \"results\"))\n",
    "testset = parse_file(save_loc, loc = loc, fname = \"crowd_all_relations.txt\", fix_acronyms = False)"
   ]
  },
  {
   "cell_type": "code",
   "execution_count": null,
   "metadata": {
    "collapsed": false,
    "scrolled": true
   },
   "outputs": [],
   "source": [
    "# save_loc = loc = os.path.abspath(os.path.join(\"..\", \"data\", \"final_eval\", \"results\", \"crowd_testset.pickle\"))\n",
    "# loc = os.path.abspath(os.path.join(\"..\", \"data\", \"final_eval\", \"results\", \"crowd_all_relations.txt\"))\n",
    "# testset = parse_file(save_loc, loc = loc, fname = \"CDR_TestSet.txt\",\n",
    "#                     is_gold = False, return_format = \"dict\", fix_acronyms = False)"
   ]
  },
  {
   "cell_type": "code",
   "execution_count": 12,
   "metadata": {
    "collapsed": true
   },
   "outputs": [],
   "source": [
    "def remap(papers):\n",
    "    res = dict()\n",
    "    for uid, paper in papers.items():\n",
    "        paper.pmid = paper_mapping[uid]\n",
    "        res[paper_mapping[uid]] = paper\n",
    "        \n",
    "    return res"
   ]
  },
  {
   "cell_type": "code",
   "execution_count": 13,
   "metadata": {
    "collapsed": false
   },
   "outputs": [],
   "source": [
    "if 0 in set(testset.keys()):\n",
    "    testset = remap(testset)\n",
    "    save_file(save_loc, testset)"
   ]
  },
  {
   "cell_type": "markdown",
   "metadata": {},
   "source": [
    "---"
   ]
  },
  {
   "cell_type": "markdown",
   "metadata": {},
   "source": [
    "### Read the crowd results"
   ]
  },
  {
   "cell_type": "code",
   "execution_count": 14,
   "metadata": {
    "collapsed": true
   },
   "outputs": [],
   "source": [
    "loc = os.path.abspath(os.path.join(\"..\", \"data\", \"final_eval\", \"results\", \"abstract_relation_res.tsv\"))\n",
    "\n",
    "abs_res = pd.read_csv(loc, sep = '\\t')\n",
    "abs_res = abs_res.rename(columns = {\"percent_agree\": \"norm_conf_score\"})"
   ]
  },
  {
   "cell_type": "code",
   "execution_count": 15,
   "metadata": {
    "collapsed": true
   },
   "outputs": [],
   "source": [
    "loc = os.path.abspath(os.path.join(\"..\", \"data\", \"final_eval\", \"results\", \"sentence_relation_abs_res.tsv\"))\n",
    "sent_res = pd.read_csv(loc, sep = '\\t')\n",
    "\n",
    "sent_res = sent_res.rename(columns = {\"conf_score\": \"norm_conf_score\",\n",
    "                                      \"score_vote_max\": \"num_votes\"})"
   ]
  },
  {
   "cell_type": "code",
   "execution_count": 16,
   "metadata": {
    "collapsed": true
   },
   "outputs": [],
   "source": [
    "abs_res.loc[:, \"pmid\"] = abs_res.loc[:, \"pmid\"].map(lambda val: paper_mapping[val])"
   ]
  },
  {
   "cell_type": "code",
   "execution_count": 17,
   "metadata": {
    "collapsed": true
   },
   "outputs": [],
   "source": [
    "sent_res.loc[:, \"pmid\"] = sent_res.loc[:, \"pmid\"].map(lambda val: paper_mapping[val])"
   ]
  },
  {
   "cell_type": "code",
   "execution_count": 18,
   "metadata": {
    "collapsed": false
   },
   "outputs": [
    {
     "data": {
      "text/html": [
       "<div>\n",
       "<table border=\"1\" class=\"dataframe\">\n",
       "  <thead>\n",
       "    <tr style=\"text-align: right;\">\n",
       "      <th></th>\n",
       "      <th>uniq_id</th>\n",
       "      <th>verify_relationship</th>\n",
       "      <th>conf_score</th>\n",
       "      <th>num_votes</th>\n",
       "      <th>norm_conf_score</th>\n",
       "      <th>pmid</th>\n",
       "      <th>unit_id</th>\n",
       "      <th>chemical_id</th>\n",
       "      <th>disease_id</th>\n",
       "    </tr>\n",
       "  </thead>\n",
       "  <tbody>\n",
       "    <tr>\n",
       "      <th>0</th>\n",
       "      <td>bcv_final_eval_hard_0</td>\n",
       "      <td>yes_direct</td>\n",
       "      <td>0.8182</td>\n",
       "      <td>1</td>\n",
       "      <td>0.198438</td>\n",
       "      <td>8701013</td>\n",
       "      <td>773935948</td>\n",
       "      <td>MESH:D006632</td>\n",
       "      <td>MESH:D003693</td>\n",
       "    </tr>\n",
       "    <tr>\n",
       "      <th>1</th>\n",
       "      <td>bcv_final_eval_hard_1</td>\n",
       "      <td>yes_direct</td>\n",
       "      <td>0.0000</td>\n",
       "      <td>0</td>\n",
       "      <td>0.000000</td>\n",
       "      <td>439781</td>\n",
       "      <td>773935949</td>\n",
       "      <td>MESH:D000809</td>\n",
       "      <td>MESH:D007022</td>\n",
       "    </tr>\n",
       "    <tr>\n",
       "      <th>2</th>\n",
       "      <td>bcv_final_eval_hard_10</td>\n",
       "      <td>yes_direct</td>\n",
       "      <td>0.0000</td>\n",
       "      <td>0</td>\n",
       "      <td>0.000000</td>\n",
       "      <td>23666265</td>\n",
       "      <td>773935958</td>\n",
       "      <td>MESH:D013498</td>\n",
       "      <td>MESH:D003556</td>\n",
       "    </tr>\n",
       "    <tr>\n",
       "      <th>3</th>\n",
       "      <td>bcv_final_eval_hard_100</td>\n",
       "      <td>yes_direct</td>\n",
       "      <td>0.0000</td>\n",
       "      <td>0</td>\n",
       "      <td>0.000000</td>\n",
       "      <td>24114426</td>\n",
       "      <td>773936048</td>\n",
       "      <td>MESH:D000431</td>\n",
       "      <td>MESH:D012893</td>\n",
       "    </tr>\n",
       "    <tr>\n",
       "      <th>4</th>\n",
       "      <td>bcv_final_eval_hard_1000</td>\n",
       "      <td>yes_direct</td>\n",
       "      <td>0.0000</td>\n",
       "      <td>0</td>\n",
       "      <td>0.000000</td>\n",
       "      <td>3155884</td>\n",
       "      <td>773936948</td>\n",
       "      <td>MESH:D004837</td>\n",
       "      <td>MESH:D009202</td>\n",
       "    </tr>\n",
       "  </tbody>\n",
       "</table>\n",
       "</div>"
      ],
      "text/plain": [
       "                    uniq_id verify_relationship  conf_score  num_votes  \\\n",
       "0     bcv_final_eval_hard_0          yes_direct      0.8182          1   \n",
       "1     bcv_final_eval_hard_1          yes_direct      0.0000          0   \n",
       "2    bcv_final_eval_hard_10          yes_direct      0.0000          0   \n",
       "3   bcv_final_eval_hard_100          yes_direct      0.0000          0   \n",
       "4  bcv_final_eval_hard_1000          yes_direct      0.0000          0   \n",
       "\n",
       "   norm_conf_score      pmid    unit_id   chemical_id    disease_id  \n",
       "0         0.198438   8701013  773935948  MESH:D006632  MESH:D003693  \n",
       "1         0.000000    439781  773935949  MESH:D000809  MESH:D007022  \n",
       "2         0.000000  23666265  773935958  MESH:D013498  MESH:D003556  \n",
       "3         0.000000  24114426  773936048  MESH:D000431  MESH:D012893  \n",
       "4         0.000000   3155884  773936948  MESH:D004837  MESH:D009202  "
      ]
     },
     "execution_count": 18,
     "metadata": {},
     "output_type": "execute_result"
    }
   ],
   "source": [
    "abs_res.head()"
   ]
  },
  {
   "cell_type": "code",
   "execution_count": 19,
   "metadata": {
    "collapsed": false
   },
   "outputs": [
    {
     "data": {
      "text/html": [
       "<div>\n",
       "<table border=\"1\" class=\"dataframe\">\n",
       "  <thead>\n",
       "    <tr style=\"text-align: right;\">\n",
       "      <th></th>\n",
       "      <th>chemical_id</th>\n",
       "      <th>norm_conf_score</th>\n",
       "      <th>disease_id</th>\n",
       "      <th>pmid</th>\n",
       "      <th>num_votes</th>\n",
       "      <th>sentence_ids</th>\n",
       "      <th>uniq_ids</th>\n",
       "      <th>unit_ids</th>\n",
       "    </tr>\n",
       "  </thead>\n",
       "  <tbody>\n",
       "    <tr>\n",
       "      <th>0</th>\n",
       "      <td>MESH:D006632</td>\n",
       "      <td>0.000000</td>\n",
       "      <td>MESH:D014456</td>\n",
       "      <td>8701013</td>\n",
       "      <td>0</td>\n",
       "      <td>0_1</td>\n",
       "      <td>bcv_final_eval_easy_1</td>\n",
       "      <td>773931696</td>\n",
       "    </tr>\n",
       "    <tr>\n",
       "      <th>1</th>\n",
       "      <td>MESH:D015738</td>\n",
       "      <td>1.000000</td>\n",
       "      <td>MESH:D003693</td>\n",
       "      <td>8701013</td>\n",
       "      <td>5</td>\n",
       "      <td>0_0|0_2|0_3</td>\n",
       "      <td>bcv_final_eval_easy_0|bcv_final_eval_easy_3|bc...</td>\n",
       "      <td>773931695|773931698|773931699</td>\n",
       "    </tr>\n",
       "    <tr>\n",
       "      <th>2</th>\n",
       "      <td>MESH:D015738</td>\n",
       "      <td>0.000000</td>\n",
       "      <td>MESH:D014456</td>\n",
       "      <td>8701013</td>\n",
       "      <td>0</td>\n",
       "      <td>0_1</td>\n",
       "      <td>bcv_final_eval_easy_2</td>\n",
       "      <td>773931697</td>\n",
       "    </tr>\n",
       "    <tr>\n",
       "      <th>3</th>\n",
       "      <td>MESH:D012964</td>\n",
       "      <td>0.189597</td>\n",
       "      <td>MESH:D007022</td>\n",
       "      <td>439781</td>\n",
       "      <td>1</td>\n",
       "      <td>1_0</td>\n",
       "      <td>bcv_final_eval_easy_5</td>\n",
       "      <td>773931700</td>\n",
       "    </tr>\n",
       "    <tr>\n",
       "      <th>4</th>\n",
       "      <td>MESH:D000305</td>\n",
       "      <td>0.802824</td>\n",
       "      <td>MESH:D007674</td>\n",
       "      <td>22836123</td>\n",
       "      <td>4</td>\n",
       "      <td>2_4</td>\n",
       "      <td>bcv_final_eval_easy_10</td>\n",
       "      <td>773931705</td>\n",
       "    </tr>\n",
       "  </tbody>\n",
       "</table>\n",
       "</div>"
      ],
      "text/plain": [
       "    chemical_id  norm_conf_score    disease_id      pmid  num_votes  \\\n",
       "0  MESH:D006632         0.000000  MESH:D014456   8701013          0   \n",
       "1  MESH:D015738         1.000000  MESH:D003693   8701013          5   \n",
       "2  MESH:D015738         0.000000  MESH:D014456   8701013          0   \n",
       "3  MESH:D012964         0.189597  MESH:D007022    439781          1   \n",
       "4  MESH:D000305         0.802824  MESH:D007674  22836123          4   \n",
       "\n",
       "  sentence_ids                                           uniq_ids  \\\n",
       "0          0_1                              bcv_final_eval_easy_1   \n",
       "1  0_0|0_2|0_3  bcv_final_eval_easy_0|bcv_final_eval_easy_3|bc...   \n",
       "2          0_1                              bcv_final_eval_easy_2   \n",
       "3          1_0                              bcv_final_eval_easy_5   \n",
       "4          2_4                             bcv_final_eval_easy_10   \n",
       "\n",
       "                        unit_ids  \n",
       "0                      773931696  \n",
       "1  773931695|773931698|773931699  \n",
       "2                      773931697  \n",
       "3                      773931700  \n",
       "4                      773931705  "
      ]
     },
     "execution_count": 19,
     "metadata": {},
     "output_type": "execute_result"
    }
   ],
   "source": [
    "sent_res.head()"
   ]
  },
  {
   "cell_type": "code",
   "execution_count": 20,
   "metadata": {
    "collapsed": false
   },
   "outputs": [
    {
     "ename": "AttributeError",
     "evalue": "Can't get attribute 'Ontology_ID' on <module 'src.data_model' from '../src/data_model.py'>",
     "output_type": "error",
     "traceback": [
      "\u001b[1;31m---------------------------------------------------------------------------\u001b[0m",
      "\u001b[1;31mAttributeError\u001b[0m                            Traceback (most recent call last)",
      "\u001b[1;32m<ipython-input-20-e31484b08098>\u001b[0m in \u001b[0;36m<module>\u001b[1;34m()\u001b[0m\n\u001b[0;32m      1\u001b[0m \u001b[0mloc\u001b[0m \u001b[1;33m=\u001b[0m \u001b[0mos\u001b[0m\u001b[1;33m.\u001b[0m\u001b[0mpath\u001b[0m\u001b[1;33m.\u001b[0m\u001b[0mabspath\u001b[0m\u001b[1;33m(\u001b[0m\u001b[0mos\u001b[0m\u001b[1;33m.\u001b[0m\u001b[0mpath\u001b[0m\u001b[1;33m.\u001b[0m\u001b[0mjoin\u001b[0m\u001b[1;33m(\u001b[0m\u001b[1;34m\"..\"\u001b[0m\u001b[1;33m,\u001b[0m \u001b[1;34m\"data\"\u001b[0m\u001b[1;33m,\u001b[0m \u001b[1;34m\"final_eval\"\u001b[0m\u001b[1;33m,\u001b[0m \u001b[1;34m\"cid_relations.pickle\"\u001b[0m\u001b[1;33m)\u001b[0m\u001b[1;33m)\u001b[0m\u001b[1;33m\u001b[0m\u001b[0m\n\u001b[1;32m----> 2\u001b[1;33m \u001b[0mcid_rels\u001b[0m \u001b[1;33m=\u001b[0m \u001b[0msave_file\u001b[0m\u001b[1;33m(\u001b[0m\u001b[0mloc\u001b[0m\u001b[1;33m)\u001b[0m\u001b[1;33m\u001b[0m\u001b[0m\n\u001b[0m\u001b[0;32m      3\u001b[0m \u001b[1;33m\u001b[0m\u001b[0m\n\u001b[0;32m      4\u001b[0m \u001b[0mcid_rels\u001b[0m \u001b[1;33m=\u001b[0m \u001b[1;33m{\u001b[0m\u001b[0mpaper_mapping\u001b[0m\u001b[1;33m[\u001b[0m\u001b[0mpmid\u001b[0m\u001b[1;33m]\u001b[0m \u001b[1;33m:\u001b[0m \u001b[0mrels\u001b[0m \u001b[1;32mfor\u001b[0m \u001b[0mpmid\u001b[0m\u001b[1;33m,\u001b[0m \u001b[0mrels\u001b[0m \u001b[1;32min\u001b[0m \u001b[0mcid_rels\u001b[0m\u001b[1;33m.\u001b[0m\u001b[0mitems\u001b[0m\u001b[1;33m(\u001b[0m\u001b[1;33m)\u001b[0m\u001b[1;33m}\u001b[0m\u001b[1;33m\u001b[0m\u001b[0m\n",
      "\u001b[1;32m/home/toby/Research/Projects/biocreativeV/crowdbefree/crowd_only/src/lingpipe/file_util.py\u001b[0m in \u001b[0;36msave_file\u001b[1;34m(location, value)\u001b[0m\n\u001b[0;32m     37\u001b[0m \u001b[1;33m\u001b[0m\u001b[0m\n\u001b[0;32m     38\u001b[0m         \u001b[1;32mwith\u001b[0m \u001b[0mopen\u001b[0m\u001b[1;33m(\u001b[0m\u001b[0mlocation\u001b[0m\u001b[1;33m,\u001b[0m \u001b[1;34m\"rb\"\u001b[0m\u001b[1;33m)\u001b[0m \u001b[1;32mas\u001b[0m \u001b[0mfin\u001b[0m\u001b[1;33m:\u001b[0m\u001b[1;33m\u001b[0m\u001b[0m\n\u001b[1;32m---> 39\u001b[1;33m             \u001b[0mres\u001b[0m \u001b[1;33m=\u001b[0m \u001b[0mpickle\u001b[0m\u001b[1;33m.\u001b[0m\u001b[0mload\u001b[0m\u001b[1;33m(\u001b[0m\u001b[0mfin\u001b[0m\u001b[1;33m)\u001b[0m\u001b[1;33m\u001b[0m\u001b[0m\n\u001b[0m\u001b[0;32m     40\u001b[0m \u001b[1;33m\u001b[0m\u001b[0m\n\u001b[0;32m     41\u001b[0m         \u001b[1;32mreturn\u001b[0m \u001b[0mres\u001b[0m\u001b[1;33m\u001b[0m\u001b[0m\n",
      "\u001b[1;31mAttributeError\u001b[0m: Can't get attribute 'Ontology_ID' on <module 'src.data_model' from '../src/data_model.py'>"
     ]
    }
   ],
   "source": [
    "loc = os.path.abspath(os.path.join(\"..\", \"data\", \"final_eval\", \"cid_relations.pickle\"))\n",
    "cid_rels = save_file(loc)\n",
    "\n",
    "cid_rels = {paper_mapping[pmid] : rels for pmid, rels in cid_rels.items()}"
   ]
  },
  {
   "cell_type": "markdown",
   "metadata": {},
   "source": [
    "## Combine all results together"
   ]
  },
  {
   "cell_type": "code",
   "execution_count": null,
   "metadata": {
    "collapsed": true
   },
   "outputs": [],
   "source": [
    "def flat_repr(id_set):\n",
    "    vals = [\"{0}:{1}\".format(v.uid_type, v.uid) for v in id_set]\n",
    "    return \"|\".join(sorted(vals))"
   ]
  },
  {
   "cell_type": "code",
   "execution_count": null,
   "metadata": {
    "collapsed": true
   },
   "outputs": [],
   "source": [
    "def merge_results():\n",
    "    temp = []    \n",
    "    cols = [\"pmid\", \"chemical_id\", \"disease_id\", \"norm_conf_score\", \"num_votes\"]\n",
    "    \n",
    "    sub = abs_res.loc[:, cols]\n",
    "    sub.loc[:, \"rel_origin\"] = \"abstract_task\"\n",
    "    temp.append(sub)\n",
    "\n",
    "    sub = sent_res.loc[:, cols]\n",
    "    sub.loc[:, \"rel_origin\"] = \"sentence_task\"\n",
    "    temp.append(sub)\n",
    "    \n",
    "    things = defaultdict(list)\n",
    "    for pmid, rels in cid_rels.items():\n",
    "        for cid_relation in rels:\n",
    "            things[\"pmid\"].append(pmid)\n",
    "            things[\"chemical_id\"].append(flat_repr(cid_relation[0]))\n",
    "            things[\"disease_id\"].append(flat_repr(cid_relation[1]))\n",
    "            \n",
    "    things = pd.DataFrame(things)\n",
    "    things.loc[:, \"norm_conf_score\"] = 1\n",
    "    things.loc[:, \"num_votes\"] = 5\n",
    "    things.loc[:, \"rel_origin\"] = \"cid_relation\"\n",
    "    temp.append(things)\n",
    "    \n",
    "    return pd.concat(temp).sort([\"pmid\", \"num_votes\", \"rel_origin\",\n",
    "                                \"chemical_id\", \"disease_id\"]).reset_index(drop = True)"
   ]
  },
  {
   "cell_type": "code",
   "execution_count": null,
   "metadata": {
    "collapsed": true
   },
   "outputs": [],
   "source": [
    "final_results = merge_results()"
   ]
  },
  {
   "cell_type": "code",
   "execution_count": null,
   "metadata": {
    "collapsed": false
   },
   "outputs": [],
   "source": [
    "final_results.head()"
   ]
  },
  {
   "cell_type": "code",
   "execution_count": null,
   "metadata": {
    "collapsed": false
   },
   "outputs": [],
   "source": [
    "final_results.shape"
   ]
  },
  {
   "cell_type": "code",
   "execution_count": null,
   "metadata": {
    "collapsed": false
   },
   "outputs": [],
   "source": [
    "# change 6 votes to 5 votes for the purposes of evaluation\n",
    "final_results.loc[:, \"num_votes\"] = final_results.num_votes.map(\n",
    "    lambda v: 5 if v > 5 else v\n",
    ")"
   ]
  },
  {
   "cell_type": "code",
   "execution_count": null,
   "metadata": {
    "collapsed": true
   },
   "outputs": [],
   "source": [
    "save_file(\"testset_final_res.pickle\", final_results)"
   ]
  },
  {
   "cell_type": "markdown",
   "metadata": {},
   "source": [
    "---"
   ]
  },
  {
   "cell_type": "markdown",
   "metadata": {},
   "source": [
    "### NER performance by tmChem and DNorm"
   ]
  },
  {
   "cell_type": "code",
   "execution_count": null,
   "metadata": {
    "collapsed": true
   },
   "outputs": [],
   "source": [
    "def parse_annots(papers, stype = [\"chemical\", \"disease\"]):\n",
    "    ans = set()\n",
    "    for pmid, paper in papers.items():\n",
    "        for annot in paper.annotations:\n",
    "            if annot.stype in stype:\n",
    "                for uid in annot.uid:\n",
    "                    if uid.uid_type == \"MESH\":\n",
    "                        ans.add((int(pmid), uid.flat_repr))\n",
    "\n",
    "    return ans"
   ]
  },
  {
   "cell_type": "code",
   "execution_count": null,
   "metadata": {
    "collapsed": false
   },
   "outputs": [],
   "source": [
    "predict = parse_annots(testset, [\"chemical\"])\n",
    "print(\"gold\")\n",
    "gold = parse_annots(eval_gold, \"chemical\")\n",
    "performance(gold, predict, human_readable = True)"
   ]
  },
  {
   "cell_type": "code",
   "execution_count": null,
   "metadata": {
    "collapsed": false
   },
   "outputs": [],
   "source": [
    "predict = parse_annots(testset, [\"disease\"])\n",
    "gold = parse_annots(eval_gold, \"disease\")\n",
    "performance(gold, predict, human_readable = True)"
   ]
  },
  {
   "cell_type": "code",
   "execution_count": null,
   "metadata": {
    "collapsed": false
   },
   "outputs": [],
   "source": [
    "predict = parse_annots(testset)\n",
    "gold = parse_annots(eval_gold)\n",
    "performance(gold, predict, human_readable = True)"
   ]
  },
  {
   "cell_type": "markdown",
   "metadata": {},
   "source": [
    "## CID relation performance"
   ]
  },
  {
   "cell_type": "code",
   "execution_count": null,
   "metadata": {
    "collapsed": true
   },
   "outputs": [],
   "source": [
    "def simple_repr(id_set):\n",
    "    assert len(id_set) == 1\n",
    "    return list(id_set)[0].flat_repr\n",
    "\n",
    "def get_gold_rels(gold_std):\n",
    "    res = set()\n",
    "    for pmid, paper in gold_std.items():\n",
    "        for rel in paper.gold_relations:\n",
    "            res.add((int(pmid), simple_repr(rel.chemical_id), simple_repr(rel.disease_id)))\n",
    "            \n",
    "    return res"
   ]
  },
  {
   "cell_type": "code",
   "execution_count": null,
   "metadata": {
    "collapsed": false
   },
   "outputs": [],
   "source": [
    "gold_relations = get_gold_rels(eval_gold)"
   ]
  },
  {
   "cell_type": "code",
   "execution_count": null,
   "metadata": {
    "collapsed": false
   },
   "outputs": [],
   "source": [
    "len(gold_relations)"
   ]
  },
  {
   "cell_type": "code",
   "execution_count": null,
   "metadata": {
    "collapsed": true
   },
   "outputs": [],
   "source": [
    "official_res = official_F_score(\"num_votes\", gold_relations, final_results, apply_mesh_filter = False).sort(\"threshold\")"
   ]
  },
  {
   "cell_type": "code",
   "execution_count": null,
   "metadata": {
    "collapsed": false
   },
   "outputs": [],
   "source": [
    "official_res"
   ]
  },
  {
   "cell_type": "markdown",
   "metadata": {},
   "source": [
    "These results exactly match what Yifan sent us for the official evaluations. This is good, because it means that I reproduced things correctly."
   ]
  },
  {
   "cell_type": "code",
   "execution_count": null,
   "metadata": {
    "collapsed": true
   },
   "outputs": [],
   "source": [
    "def plot_results(res, title, xlabel, fontsize, figsize, linewidth, fname = None):\n",
    "    res = res.sort(\"threshold\")\n",
    "    matplotlib.rcParams.update({'font.size': fontsize})\n",
    "\n",
    "    graph = res.plot(x = \"threshold\", figsize = figsize,\n",
    "                     linewidth = linewidth, title = title)\n",
    "    graph.set_ylim((0, 1.1))\n",
    "    graph.set_xlabel(xlabel)\n",
    "    \n",
    "    if fname is not None:\n",
    "        plt.savefig(fname, bbox_inches = \"tight\")"
   ]
  },
  {
   "cell_type": "code",
   "execution_count": null,
   "metadata": {
    "collapsed": false
   },
   "outputs": [],
   "source": [
    "plot_results(official_res, \"Crowd Performance Against Gold Standard (evaluation dataset)\",\n",
    "            \"Number of positive votes\", 12, (7, 7), 1)"
   ]
  },
  {
   "cell_type": "markdown",
   "metadata": {},
   "source": [
    "### Performance with MeSH filtering"
   ]
  },
  {
   "cell_type": "code",
   "execution_count": null,
   "metadata": {
    "collapsed": false
   },
   "outputs": [],
   "source": [
    "filtered_res = official_F_score(\"num_votes\", gold_relations, final_results, apply_mesh_filter = True).sort(\"threshold\")"
   ]
  },
  {
   "cell_type": "code",
   "execution_count": null,
   "metadata": {
    "collapsed": false
   },
   "outputs": [],
   "source": [
    "filtered_res"
   ]
  },
  {
   "cell_type": "code",
   "execution_count": null,
   "metadata": {
    "collapsed": true
   },
   "outputs": [],
   "source": [
    "def pair_plot(df1, df2, title, xlabel, fontsize, figsize, linewidth, fname = None):\n",
    "    matplotlib.rcParams.update({\"font.size\": fontsize})\n",
    "\n",
    "    ax = df1.plot(x = \"threshold\", figsize = figsize,\n",
    "                  title = title, ylim = (0, 1.05), linewidth = linewidth)\n",
    "\n",
    "    ax = df2.plot(ax = ax, x = \"threshold\", linestyle = \"--\", linewidth = linewidth)\n",
    "    ax.set_xlabel(xlabel)\n",
    "\n",
    "    if fname is not None:\n",
    "        plt.savefig(fname, bbox_inches = \"tight\")"
   ]
  },
  {
   "cell_type": "code",
   "execution_count": null,
   "metadata": {
    "collapsed": false
   },
   "outputs": [],
   "source": [
    "pair_plot(official_res, filtered_res, \"Performance on evaluation dataset with MeSH filter\",\n",
    "          \"Number of votes\", 12, (7, 7), 2)"
   ]
  }
 ],
 "metadata": {
  "kernelspec": {
   "display_name": "Python 3",
   "language": "python",
   "name": "python3"
  },
  "language_info": {
   "codemirror_mode": {
    "name": "ipython",
    "version": 3
   },
   "file_extension": ".py",
   "mimetype": "text/x-python",
   "name": "python",
   "nbconvert_exporter": "python",
   "pygments_lexer": "ipython3",
   "version": "3.4.2"
  }
 },
 "nbformat": 4,
 "nbformat_minor": 0
}
