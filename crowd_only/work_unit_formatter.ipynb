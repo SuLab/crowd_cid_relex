{
 "cells": [
  {
   "cell_type": "markdown",
   "metadata": {},
   "source": [
    "#BioCreative V Task 3b CrowdFlower Work Unit Formatter"
   ]
  },
  {
   "cell_type": "markdown",
   "metadata": {},
   "source": [
    "Tong Shu Li<br>\n",
    "Created on 2015-07-02<br>\n",
    "Last updated 2015-07-30"
   ]
  },
  {
   "cell_type": "markdown",
   "metadata": {},
   "source": [
    "From our preliminary experiments with making the crowd perform the chemical-induced disease relation extraction task at the abstract level (jobs #746297, #746647, #748223), we saw that the crowd performed very well on relationships which existed within the same sentence, and performed poorly on relations which spanned the whole abstract.\n",
    "\n",
    "We will now divide the task up into two parts:\n",
    "1. The simpler, sentence-level task will involve verifying one relationship from one sentence in which both concepts co-occur.\n",
    "2. The harder, abstract-level task will involve verifying one relationship from the entire abstract when the two concepts never co-occur within any sentence."
   ]
  },
  {
   "cell_type": "markdown",
   "metadata": {},
   "source": [
    "---"
   ]
  },
  {
   "cell_type": "markdown",
   "metadata": {},
   "source": [
    "The <code>classify_relations()</code> routine of the <code>Sentence</code> and <code>Paper</code> objects have already separated all possible chemical-disease relation pairs into three disjoint categories:\n",
    "\n",
    "1. Relations which follow the \"[chemical]-induced [disease]\" (CID) structure.\n",
    "2. Relations which co-occur within a sentence but do not follow the CID structure.\n",
    "3. Relations which do not co-occur within any sentences.\n",
    "\n",
    "This notebook takes the relation pairs in each category and generates the information needed for the CrowdFlower interface. No decision making about which category each relation belong to is performed here."
   ]
  },
  {
   "cell_type": "markdown",
   "metadata": {},
   "source": [
    "---"
   ]
  },
  {
   "cell_type": "markdown",
   "metadata": {},
   "source": [
    "This work unit formatter also supports the batch upload of test questions. To batch upload test questions, the following are needed:\n",
    "\n",
    "1. A \"_golden\" column that contains \"TRUE\" for all test questions that need to be uploaded.\n",
    "2. A \"_gold\" and \"_gold_reason\" column appended to each CML question that needs an answer.\n",
    "3. The CML tag \"gold=true\" for each CML question.\n",
    "4. The regular data of course for the test questions."
   ]
  },
  {
   "cell_type": "markdown",
   "metadata": {},
   "source": [
    "---"
   ]
  },
  {
   "cell_type": "code",
   "execution_count": 1,
   "metadata": {
    "collapsed": true
   },
   "outputs": [],
   "source": [
    "from collections import defaultdict\n",
    "import os\n",
    "import pandas as pd\n",
    "import pickle\n",
    "import random"
   ]
  },
  {
   "cell_type": "code",
   "execution_count": 2,
   "metadata": {
    "collapsed": true
   },
   "outputs": [],
   "source": [
    "# old random seed for original 30 abstract testset:\n",
    "# random.seed(\"2015-06-11:14:46\")\n",
    "\n",
    "# new random seed\n",
    "random.seed(\"2015-08-01:14:07\")"
   ]
  },
  {
   "cell_type": "code",
   "execution_count": 3,
   "metadata": {
    "collapsed": false
   },
   "outputs": [],
   "source": [
    "from src.data_model import parse_input\n",
    "from src.make_sections import create_sections"
   ]
  },
  {
   "cell_type": "code",
   "execution_count": 4,
   "metadata": {
    "collapsed": true
   },
   "outputs": [],
   "source": [
    "def add_simple_tag(tag_name, tag_class, text):\n",
    "    return \"<{0} class=\\\"{1}\\\">{2}</{0}>\".format(tag_name, tag_class, text)"
   ]
  },
  {
   "cell_type": "markdown",
   "metadata": {},
   "source": [
    "---"
   ]
  },
  {
   "cell_type": "markdown",
   "metadata": {},
   "source": [
    "###Read the gold standard training data:"
   ]
  },
  {
   "cell_type": "code",
   "execution_count": 5,
   "metadata": {
    "collapsed": false
   },
   "outputs": [
    {
     "name": "stdout",
     "output_type": "stream",
     "text": [
      "Reading cached version of training set\n"
     ]
    }
   ],
   "source": [
    "if os.path.exists(\"data/training/parsed_training_set.pickle\"):\n",
    "    print \"Reading cached version of training set\"\n",
    "    with open(\"data/training/parsed_training_set.pickle\", \"rb\") as fin:\n",
    "        training_data = pickle.load(fin)\n",
    "else:\n",
    "    training_data = parse_input(\"data/training\", \"CDR_TrainingSet.txt\")\n",
    "    with open(\"data/training/parsed_training_set.pickle\", \"wb\") as fout:\n",
    "        pickle.dump(training_data, fout)"
   ]
  },
  {
   "cell_type": "code",
   "execution_count": 6,
   "metadata": {
    "collapsed": false
   },
   "outputs": [
    {
     "data": {
      "text/plain": [
       "500"
      ]
     },
     "execution_count": 6,
     "metadata": {},
     "output_type": "execute_result"
    }
   ],
   "source": [
    "len(training_data)"
   ]
  },
  {
   "cell_type": "code",
   "execution_count": 7,
   "metadata": {
    "collapsed": true
   },
   "outputs": [],
   "source": [
    "development_data = parse_input(\"data/development\", \"CDR_DevelopmentSet.txt\")"
   ]
  },
  {
   "cell_type": "markdown",
   "metadata": {},
   "source": [
    "###Check for errors:"
   ]
  },
  {
   "cell_type": "markdown",
   "metadata": {},
   "source": [
    "The Paper objects already checked that each relation only joins two MeSH ids during the parsing process."
   ]
  },
  {
   "cell_type": "markdown",
   "metadata": {},
   "source": [
    "The Paper objects are inspected to ensure that the annotations match the text positions during loading."
   ]
  },
  {
   "cell_type": "markdown",
   "metadata": {},
   "source": [
    "---"
   ]
  },
  {
   "cell_type": "markdown",
   "metadata": {},
   "source": [
    "### Choose a random sample of papers as the testset:"
   ]
  },
  {
   "cell_type": "code",
   "execution_count": 8,
   "metadata": {
    "collapsed": false
   },
   "outputs": [
    {
     "name": "stdout",
     "output_type": "stream",
     "text": [
      "15579441\n",
      "18006530\n",
      "3732088\n",
      "11208990\n",
      "19721134\n",
      "20552622\n",
      "625456\n",
      "17366349\n",
      "7282516\n",
      "16428827\n",
      "16820346\n",
      "3703509\n",
      "15673851\n",
      "16418614\n",
      "10411803\n",
      "8766220\n",
      "458486\n",
      "2051906\n",
      "11847945\n",
      "18997632\n",
      "10565806\n",
      "11230490\n",
      "12013711\n",
      "2021202\n",
      "11195262\n",
      "2980315\n",
      "11705128\n",
      "7072798\n",
      "8958188\n",
      "11009181\n",
      "18657397\n",
      "8012887\n",
      "921394\n",
      "9226773\n",
      "19234905\n",
      "17786501\n",
      "871943\n",
      "2339463\n",
      "2004015\n",
      "20727411\n",
      "3115150\n",
      "12093990\n",
      "3769769\n",
      "9545159\n",
      "3670965\n",
      "20164825\n",
      "663266\n",
      "4090988\n",
      "3962737\n",
      "12739036\n",
      "11337188\n",
      "9672273\n",
      "16574713\n",
      "2886572\n",
      "10840460\n",
      "19893084\n",
      "6150641\n",
      "12691807\n",
      "982002\n",
      "16710500\n",
      "7007443\n",
      "3131282\n",
      "6323692\n",
      "85485\n",
      "12448656\n",
      "3123611\n",
      "10225068\n",
      "326460\n",
      "4038130\n",
      "12907924\n",
      "2320800\n",
      "15974569\n",
      "188339\n",
      "2435991\n",
      "8911359\n",
      "2893236\n",
      "8251368\n",
      "761833\n",
      "6127992\n",
      "3183120\n",
      "3973521\n",
      "12231232\n",
      "7752389\n",
      "6540303\n",
      "3950060\n",
      "18589141\n",
      "2840807\n",
      "8267029\n",
      "17943461\n",
      "1969772\n",
      "1928887\n",
      "14975762\n",
      "3961813\n",
      "20735774\n",
      "7843916\n",
      "18441470\n",
      "11302406\n",
      "14982270\n",
      "7619765\n",
      "3686155\n",
      "1899352\n",
      "11185967\n",
      "384871\n",
      "19274460\n",
      "2722224\n",
      "6454943\n",
      "430165\n",
      "12734532\n",
      "10524660\n",
      "11063349\n",
      "19944736\n",
      "11694026\n",
      "12851669\n",
      "19674115\n",
      "3084782\n",
      "9564988\n",
      "2790457\n",
      "18483878\n",
      "18356633\n",
      "16006300\n",
      "3780814\n",
      "3762968\n",
      "2716967\n",
      "10539815\n",
      "17490790\n",
      "17682013\n",
      "3780697\n",
      "9214597\n",
      "9952311\n",
      "3108839\n",
      "7604176\n",
      "15985056\n",
      "6293644\n",
      "8268147\n",
      "19105845\n",
      "10193809\n",
      "15096016\n",
      "8494478\n",
      "3413271\n",
      "1687392\n",
      "18674790\n",
      "18201582\n",
      "9549528\n",
      "10414674\n",
      "9209318\n",
      "7647582\n",
      "17965424\n",
      "6769133\n",
      "7710775\n",
      "15897593\n",
      "10692744\n",
      "12091028\n",
      "3952818\n",
      "19707748\n",
      "16157917\n",
      "6637851\n",
      "18086064\n",
      "9875685\n",
      "9098464\n",
      "6892185\n",
      "15867025\n",
      "1255900\n",
      "1355091\n",
      "10074612\n",
      "15075188\n",
      "8888541\n",
      "17490864\n",
      "8106150\n",
      "10354657\n",
      "3934126\n",
      "16586083\n",
      "15042318\n",
      "48362\n",
      "6732043\n",
      "2564649\n",
      "7650771\n",
      "9867728\n",
      "17285209\n",
      "2576810\n",
      "14736955\n",
      "16047871\n",
      "11079278\n",
      "8586822\n",
      "8617710\n",
      "3137399\n",
      "17574447\n",
      "1504402\n",
      "7053705\n",
      "3411101\n",
      "9305828\n",
      "15893386\n",
      "11860495\n",
      "19940105\n",
      "7803371\n",
      "6699841\n",
      "15814210\n",
      "12600698\n",
      "20533999\n",
      "8111719\n",
      "6615052\n"
     ]
    }
   ],
   "source": [
    "TESTSET_SIZE = 200\n",
    "testset = random.sample(development_data, TESTSET_SIZE)\n",
    "\n",
    "for paper in testset:\n",
    "    print paper.pmid"
   ]
  },
  {
   "cell_type": "markdown",
   "metadata": {},
   "source": [
    "---"
   ]
  },
  {
   "cell_type": "markdown",
   "metadata": {},
   "source": [
    "###Highlighting functions:"
   ]
  },
  {
   "cell_type": "code",
   "execution_count": 9,
   "metadata": {
    "collapsed": true
   },
   "outputs": [],
   "source": [
    "def highlight_concepts(text, breaks):\n",
    "    \"\"\"\n",
    "    Inserts HTML tags around the pieces of text\n",
    "    which need to be highlighted in a string.\n",
    "    \"\"\"\n",
    "    breaks = sorted(breaks, key = lambda x: x[0])\n",
    "    \n",
    "    final = []\n",
    "    for i in range(len(breaks) - 1):\n",
    "        s = text[breaks[i][0] : breaks[i+1][0]]\n",
    "        if breaks[i][1] != \"n\":\n",
    "            s = add_simple_tag(\"span\", breaks[i][1], s)\n",
    "            \n",
    "        final.append(s)\n",
    "        \n",
    "    return \"\".join(final)"
   ]
  },
  {
   "cell_type": "code",
   "execution_count": 10,
   "metadata": {
    "collapsed": true
   },
   "outputs": [],
   "source": [
    "def highlight_text(text, offset, uniq_spans):\n",
    "    \"\"\"\n",
    "    Given a string and the annotations which fall\n",
    "    within this string, highlights the concepts.\n",
    "    \"\"\"\n",
    "    # index of break, type of break (n = nothing)\n",
    "    breaks = [(0, \"n\"), (len(text), \"n\")]\n",
    "    \n",
    "    for span in uniq_spans:\n",
    "        breaks.append((span.start - offset, span.stype))\n",
    "        breaks.append((span.stop - offset, \"n\"))\n",
    "            \n",
    "    return highlight_concepts(text, breaks)"
   ]
  },
  {
   "cell_type": "markdown",
   "metadata": {},
   "source": [
    "---"
   ]
  },
  {
   "cell_type": "markdown",
   "metadata": {},
   "source": [
    "###Processors for each of the subtasks:"
   ]
  },
  {
   "cell_type": "code",
   "execution_count": 11,
   "metadata": {
    "collapsed": true
   },
   "outputs": [],
   "source": [
    "def grab_names(annotations):\n",
    "    \"\"\"\n",
    "    Determines the unique names of the annotations.\n",
    "    \"\"\"\n",
    "    # determine the names of the concept identifiers\n",
    "    used_names = defaultdict(set) # lower case set of used names (to avoid repeats)\n",
    "    real_name = defaultdict(set) # set of unique names verbatim (to preseve capitalization)\n",
    "    for annotation in annotations:\n",
    "        if annotation.text.lower() not in used_names[annotation.stype]:\n",
    "            used_names[annotation.stype].add(annotation.text.lower())\n",
    "            real_name[annotation.stype].add(annotation.text)\n",
    "            \n",
    "    return real_name"
   ]
  },
  {
   "cell_type": "code",
   "execution_count": 12,
   "metadata": {
    "collapsed": true
   },
   "outputs": [],
   "source": [
    "def process_sentence_task(sentence, rel_pairs):\n",
    "    \"\"\"\n",
    "    Given a Sentence object, and the set of chemical-disease relation\n",
    "    identifier pairs, creates a set of sentence-level verification tasks.\n",
    "    \"\"\"\n",
    "    data = defaultdict(list)\n",
    "    for chemical_id, disease_id in rel_pairs:\n",
    "        spans = [annotation for annotation in sentence.annotations if annotation.uid in [chemical_id, disease_id]]\n",
    "        real_name = grab_names(spans)\n",
    "\n",
    "        data[\"pmid\"].append(sentence.pmid)\n",
    "        \n",
    "        data[\"form_sentence\"].append(highlight_text(sentence.text, sentence.start, spans))\n",
    "        \n",
    "        data[\"chemical_id\"].append(chemical_id)\n",
    "        data[\"disease_id\"].append(disease_id)\n",
    "        \n",
    "        data[\"chemical_name\"].append(add_simple_tag(\"span\", \"chemical\", \"/\".join(real_name[\"chemical\"])))\n",
    "        data[\"disease_name\"].append(add_simple_tag(\"span\", \"disease\", \"/\".join(real_name[\"disease\"])))\n",
    "        \n",
    "        data[\"relation_pair_id\"].append(\"{0}_{1}_{2}\".format(sentence.pmid, chemical_id, disease_id))\n",
    "        \n",
    "    return pd.DataFrame(data)"
   ]
  },
  {
   "cell_type": "code",
   "execution_count": 13,
   "metadata": {
    "collapsed": true
   },
   "outputs": [],
   "source": [
    "def process_abstract_task(paper, rel_pairs):\n",
    "    \"\"\"\n",
    "    Makes a set of abstract-level tasks for one paper.\n",
    "    \"\"\"\n",
    "    data = defaultdict(list)\n",
    "    for chemical_id, disease_id in rel_pairs:\n",
    "        spans = [annotation for annotation in paper.annotations if annotation.uid in [chemical_id, disease_id]]\n",
    "        real_name = grab_names(spans)\n",
    "\n",
    "        form_title = highlight_text(paper.title, 0,\n",
    "                                    filter(lambda x: x.stop <= len(paper.title), spans))\n",
    "\n",
    "        form_abstract = highlight_text(paper.abstract, len(paper.title) + 1,\n",
    "                                       filter(lambda x: x.start > len(paper.title), spans))\n",
    "\n",
    "        form_abstract = create_sections(form_abstract)\n",
    "\n",
    "        data[\"pmid\"].append(paper.pmid)\n",
    "\n",
    "        data[\"form_title\"].append(form_title)\n",
    "        data[\"form_abstract\"].append(form_abstract)\n",
    "\n",
    "        data[\"chemical_id\"].append(chemical_id)\n",
    "        data[\"disease_id\"].append(disease_id)\n",
    "        data[\"chemical_name\"].append(add_simple_tag(\"span\", \"chemical\", \"/\".join(real_name[\"chemical\"])))\n",
    "        data[\"disease_name\"].append(add_simple_tag(\"span\", \"disease\", \"/\".join(real_name[\"disease\"])))\n",
    "            \n",
    "    return pd.DataFrame(data)"
   ]
  },
  {
   "cell_type": "markdown",
   "metadata": {},
   "source": [
    "---"
   ]
  },
  {
   "cell_type": "code",
   "execution_count": 14,
   "metadata": {
    "collapsed": true
   },
   "outputs": [],
   "source": [
    "def create_work_units(dataset):\n",
    "    \"\"\"\n",
    "    Given a list of Paper objects representing the abstracts\n",
    "    we wish to find the CID relations in, this function\n",
    "    creates the work units for the CrowdFlower tasks.\n",
    "    \n",
    "    CID relations are judged to be always true and no crowd\n",
    "    worker ever sees that relation.\n",
    "    \n",
    "    Each sentence-bound non-CID relation can create one or\n",
    "    multiple sentence-level work units, depending on how\n",
    "    many sentences in that abstract contain the relationship.\n",
    "    \n",
    "    Each non-sentence bound relation creates one abstract-level\n",
    "    work unit.\n",
    "    \n",
    "    Relation type classification is already done by the Paper\n",
    "    objects.\n",
    "    \"\"\"\n",
    "    cid_relations = dict()\n",
    "    easy_units = []\n",
    "    hard_units = []\n",
    "    for paper in dataset:\n",
    "        cid_relations[paper.pmid] = paper.poss_relations[\"CID\"]\n",
    "        \n",
    "        # create the sentence-level tasks:\n",
    "        for sentence in paper.sentences:\n",
    "            work = sentence.poss_relations[False] - paper.poss_relations[\"CID\"]\n",
    "            easy_units.append(process_sentence_task(sentence, work))\n",
    "                \n",
    "        # create the abstract-level tasks:\n",
    "        hard_units.append(process_abstract_task(paper, paper.poss_relations[\"not_sentence_bound\"]))\n",
    "            \n",
    "    # return two dataframes\n",
    "    easy_units = pd.concat(easy_units).reset_index(drop = True)\n",
    "    hard_units = pd.concat(hard_units).reset_index(drop = True)\n",
    "    \n",
    "    easy_units[\"uniq_id\"] = pd.Series([\"bcv_easy_{0}\".format(i) for i in range(len(easy_units))])\n",
    "    hard_units[\"uniq_id\"] = pd.Series([\"bcv_hard_{0}\".format(i) for i in range(len(hard_units))])\n",
    "    \n",
    "    return (cid_relations, easy_units, hard_units)"
   ]
  },
  {
   "cell_type": "markdown",
   "metadata": {},
   "source": [
    "---"
   ]
  },
  {
   "cell_type": "markdown",
   "metadata": {},
   "source": [
    "###Generate the work units and print to file:"
   ]
  },
  {
   "cell_type": "code",
   "execution_count": 15,
   "metadata": {
    "collapsed": false
   },
   "outputs": [],
   "source": [
    "cid_relations, easy_units, hard_units = create_work_units(testset)"
   ]
  },
  {
   "cell_type": "code",
   "execution_count": 16,
   "metadata": {
    "collapsed": false
   },
   "outputs": [
    {
     "data": {
      "text/plain": [
       "{48362: set(),\n",
       " 85485: set(),\n",
       " 188339: set(),\n",
       " 326460: {('D001539', 'D007008')},\n",
       " 384871: set(),\n",
       " 430165: set(),\n",
       " 458486: {('D007980', 'D004409')},\n",
       " 625456: set(),\n",
       " 663266: set(),\n",
       " 761833: set(),\n",
       " 871943: set(),\n",
       " 921394: {('D007649', 'D013610')},\n",
       " 982002: set(),\n",
       " 1255900: set(),\n",
       " 1355091: set(),\n",
       " 1504402: {('D007741', 'D056486')},\n",
       " 1687392: {('D013469', 'D002375')},\n",
       " 1899352: set(),\n",
       " 1928887: {('D002216', 'D007022')},\n",
       " 1969772: {('D009599', 'D007022'), ('D018818', 'D007022')},\n",
       " 2004015: {('D015215', 'D000740')},\n",
       " 2021202: {('D007530', 'D007022')},\n",
       " 2051906: {('D001379', 'D002779')},\n",
       " 2320800: set(),\n",
       " 2339463: set(),\n",
       " 2435991: {('D004837', 'D001145')},\n",
       " 2564649: {('D005283', 'D009127')},\n",
       " 2576810: {('D000661', 'D006948')},\n",
       " 2716967: {('D009020', 'D000699')},\n",
       " 2722224: {('D006854', 'D006973')},\n",
       " 2790457: {('D003042', 'D012640')},\n",
       " 2840807: set(),\n",
       " 2886572: {('D004837', 'D006973')},\n",
       " 2893236: set(),\n",
       " 2980315: set(),\n",
       " 3084782: set(),\n",
       " 3108839: set(),\n",
       " 3115150: {('D015760', 'D009127')},\n",
       " 3123611: {('D000661', 'D002819')},\n",
       " 3131282: {('D002083', 'D013274'), ('D002083', 'D017573')},\n",
       " 3137399: set(),\n",
       " 3183120: set(),\n",
       " 3411101: set(),\n",
       " 3413271: {('D004837', 'D007511')},\n",
       " 3670965: set(),\n",
       " 3686155: set(),\n",
       " 3703509: set(),\n",
       " 3732088: set(),\n",
       " 3762968: {('D014042', 'D014899')},\n",
       " 3769769: set(),\n",
       " 3780697: set(),\n",
       " 3780814: set(),\n",
       " 3934126: set(),\n",
       " 3950060: set(),\n",
       " 3952818: set(),\n",
       " 3961813: {('C025541', 'D009422')},\n",
       " 3962737: set(),\n",
       " 3973521: set(),\n",
       " 4038130: set(),\n",
       " 4090988: set(),\n",
       " 6127992: set(),\n",
       " 6150641: set(),\n",
       " 6293644: {('D001058', 'D006948'), ('D006220', 'D002375')},\n",
       " 6323692: set(),\n",
       " 6454943: {('D011692', 'D011507')},\n",
       " 6540303: {('D007649', 'D002389')},\n",
       " 6615052: {('D006493', 'D013921')},\n",
       " 6637851: set(),\n",
       " 6699841: set(),\n",
       " 6732043: set(),\n",
       " 6769133: {('D018943', 'D009202')},\n",
       " 6892185: set(),\n",
       " 7007443: set(),\n",
       " 7053705: set(),\n",
       " 7072798: set(),\n",
       " 7282516: set(),\n",
       " 7604176: set(),\n",
       " 7619765: set(),\n",
       " 7647582: set(),\n",
       " 7650771: set(),\n",
       " 7710775: set(),\n",
       " 7752389: {('D015232', 'D053201')},\n",
       " 7803371: set(),\n",
       " 7843916: {('D003907', 'D009798')},\n",
       " 8012887: {('D006493', 'D001791'), ('D006493', 'D013927')},\n",
       " 8106150: {('D007980', 'D004409')},\n",
       " 8111719: {('D007069', 'D006212'), ('D007069', 'D020258')},\n",
       " 8251368: set(),\n",
       " 8267029: set(),\n",
       " 8268147: set(),\n",
       " 8494478: {('D002939', 'D007674'), ('D002939', 'D058186')},\n",
       " 8586822: {('D017673', 'D006973')},\n",
       " 8617710: set(),\n",
       " 8766220: set(),\n",
       " 8888541: set(),\n",
       " 8911359: set(),\n",
       " 8958188: set(),\n",
       " 9098464: set(),\n",
       " 9209318: {('D015215', 'D000748')},\n",
       " 9214597: {('D004967', 'D009369'), ('D004967', 'D010911')},\n",
       " 9226773: {('D008094', 'D018500')},\n",
       " 9305828: set(),\n",
       " 9545159: set(),\n",
       " 9549528: {('D007980', 'D004409')},\n",
       " 9564988: set(),\n",
       " 9672273: set(),\n",
       " 9867728: set(),\n",
       " 9875685: set(),\n",
       " 9952311: {('D004317', 'D009202')},\n",
       " 10074612: set(),\n",
       " 10193809: set(),\n",
       " 10225068: set(),\n",
       " 10354657: set(),\n",
       " 10411803: {('D015313', 'D000743')},\n",
       " 10414674: set(),\n",
       " 10524660: {('D005996', 'D006261')},\n",
       " 10539815: set(),\n",
       " 10565806: set(),\n",
       " 10692744: {('D000086', 'D005862')},\n",
       " 10840460: {('D003520', 'D003556')},\n",
       " 11009181: {('D007980', 'D004409')},\n",
       " 11063349: set(),\n",
       " 11079278: {('D004280', 'D017202')},\n",
       " 11185967: set(),\n",
       " 11195262: set(),\n",
       " 11208990: {('D004317', 'D007674'), ('D004317', 'D009401')},\n",
       " 11230490: set(),\n",
       " 11302406: {('D015725', 'D016171')},\n",
       " 11337188: set(),\n",
       " 11694026: {('D000894', 'D000799'), ('D000894', 'D014581')},\n",
       " 11705128: {('D012254', 'D000743')},\n",
       " 11847945: set(),\n",
       " 11860495: {('D012601', 'D000647')},\n",
       " 12013711: set(),\n",
       " 12091028: set(),\n",
       " 12093990: set(),\n",
       " 12231232: {('D006220', 'D009127')},\n",
       " 12448656: set(),\n",
       " 12600698: {('D013307', 'D015837')},\n",
       " 12691807: {('D007980', 'D004409'), ('D007980', 'D008538')},\n",
       " 12734532: {('D010665', 'D009202')},\n",
       " 12739036: {('D002738', 'D009135')},\n",
       " 12851669: set(),\n",
       " 12907924: {('D008774', 'D009771')},\n",
       " 14736955: {('D004317', 'D007674')},\n",
       " 14975762: set(),\n",
       " 14982270: {('D008713', 'D002779'), ('D008713', 'D041781')},\n",
       " 15042318: set(),\n",
       " 15075188: {('D011692', 'D009404')},\n",
       " 15096016: {('D007980', 'D004409')},\n",
       " 15579441: {('D011692', 'D009404')},\n",
       " 15673851: {('D009020', 'D020336')},\n",
       " 15814210: set(),\n",
       " 15867025: set(),\n",
       " 15893386: {('D013390', 'D014313')},\n",
       " 15897593: {('D018943', 'D066126')},\n",
       " 15974569: {('D002211', 'D006930'), ('D002351', 'D006930')},\n",
       " 15985056: set(),\n",
       " 16006300: {('D002119', 'D006934')},\n",
       " 16047871: {('D014859', 'C535509')},\n",
       " 16157917: set(),\n",
       " 16418614: set(),\n",
       " 16428827: {('D012601', 'D000647'), ('D012601', 'D007859|D008569')},\n",
       " 16574713: {('D018817', 'D020258')},\n",
       " 16586083: set(),\n",
       " 16710500: set(),\n",
       " 16820346: {('D003907', 'D006973')},\n",
       " 17285209: set(),\n",
       " 17366349: set(),\n",
       " 17490790: {('D007505', 'D009410')},\n",
       " 17490864: {('D000661', 'D006948')},\n",
       " 17574447: set(),\n",
       " 17682013: set(),\n",
       " 17786501: set(),\n",
       " 17943461: {('D015215', 'D009202')},\n",
       " 17965424: set(),\n",
       " 18006530: set(),\n",
       " 18086064: set(),\n",
       " 18201582: set(),\n",
       " 18356633: set(),\n",
       " 18441470: set(),\n",
       " 18483878: {('D003520', 'D003556')},\n",
       " 18589141: {('D006493', 'D001791'), ('D006493', 'D013921')},\n",
       " 18657397: {('D010406', 'D004827')},\n",
       " 18674790: {('D004317', 'D066126')},\n",
       " 18997632: set(),\n",
       " 19105845: {('D016642', 'D012640')},\n",
       " 19234905: {('D007980', 'D004409')},\n",
       " 19274460: set(),\n",
       " 19674115: set(),\n",
       " 19707748: {('D064704', 'D012640')},\n",
       " 19721134: set(),\n",
       " 19893084: set(),\n",
       " 19940105: {('D006220', 'D002375')},\n",
       " 19944736: set(),\n",
       " 20164825: {('D005839', 'D007674')},\n",
       " 20533999: {('D008694', 'D009461'),\n",
       "  ('D008694', 'D020258'),\n",
       "  ('D008694', 'D064420')},\n",
       " 20552622: set(),\n",
       " 20727411: set(),\n",
       " 20735774: {('D000082', 'D017114'), ('D000082', 'D056486')}}"
      ]
     },
     "execution_count": 16,
     "metadata": {},
     "output_type": "execute_result"
    }
   ],
   "source": [
    "cid_relations"
   ]
  },
  {
   "cell_type": "markdown",
   "metadata": {},
   "source": [
    "---"
   ]
  },
  {
   "cell_type": "markdown",
   "metadata": {},
   "source": [
    "### Write the CID relations to a file for later aggregation:"
   ]
  },
  {
   "cell_type": "code",
   "execution_count": 17,
   "metadata": {
    "collapsed": false
   },
   "outputs": [],
   "source": [
    "with open(\"data/cid_relations.pickle\", \"wb\") as fout:\n",
    "    pickle.dump(cid_relations, fout)"
   ]
  },
  {
   "cell_type": "markdown",
   "metadata": {},
   "source": [
    "---"
   ]
  },
  {
   "cell_type": "code",
   "execution_count": 18,
   "metadata": {
    "collapsed": false
   },
   "outputs": [
    {
     "data": {
      "text/html": [
       "<div>\n",
       "<table border=\"1\" class=\"dataframe\">\n",
       "  <thead>\n",
       "    <tr style=\"text-align: right;\">\n",
       "      <th></th>\n",
       "      <th>chemical_id</th>\n",
       "      <th>chemical_name</th>\n",
       "      <th>disease_id</th>\n",
       "      <th>disease_name</th>\n",
       "      <th>form_sentence</th>\n",
       "      <th>pmid</th>\n",
       "      <th>relation_pair_id</th>\n",
       "      <th>uniq_id</th>\n",
       "    </tr>\n",
       "  </thead>\n",
       "  <tbody>\n",
       "    <tr>\n",
       "      <th>0</th>\n",
       "      <td>D011692</td>\n",
       "      <td>&lt;span class=\"chemical\"&gt;puromycin aminonucleosi...</td>\n",
       "      <td>D000860</td>\n",
       "      <td>&lt;span class=\"disease\"&gt;hypoxia&lt;/span&gt;</td>\n",
       "      <td>With this model, we were able to identify diff...</td>\n",
       "      <td>15579441</td>\n",
       "      <td>15579441_D011692_D000860</td>\n",
       "      <td>bcv_easy_0</td>\n",
       "    </tr>\n",
       "    <tr>\n",
       "      <th>1</th>\n",
       "      <td>D011692</td>\n",
       "      <td>&lt;span class=\"chemical\"&gt;puromycin aminonucleosi...</td>\n",
       "      <td>D000860</td>\n",
       "      <td>&lt;span class=\"disease\"&gt;hypoxia&lt;/span&gt;</td>\n",
       "      <td>Expression of the &lt;span class=\"disease\"&gt;hypoxi...</td>\n",
       "      <td>15579441</td>\n",
       "      <td>15579441_D011692_D000860</td>\n",
       "      <td>bcv_easy_1</td>\n",
       "    </tr>\n",
       "    <tr>\n",
       "      <th>2</th>\n",
       "      <td>D015742</td>\n",
       "      <td>&lt;span class=\"chemical\"&gt;propofol&lt;/span&gt;</td>\n",
       "      <td>D010146</td>\n",
       "      <td>&lt;span class=\"disease\"&gt;pain&lt;/span&gt;</td>\n",
       "      <td>Reduction of &lt;span class=\"disease\"&gt;pain&lt;/span&gt;...</td>\n",
       "      <td>18006530</td>\n",
       "      <td>18006530_D015742_D010146</td>\n",
       "      <td>bcv_easy_2</td>\n",
       "    </tr>\n",
       "    <tr>\n",
       "      <th>3</th>\n",
       "      <td>C071741</td>\n",
       "      <td>&lt;span class=\"chemical\"&gt;remifentanil&lt;/span&gt;</td>\n",
       "      <td>D010146</td>\n",
       "      <td>&lt;span class=\"disease\"&gt;pain&lt;/span&gt;</td>\n",
       "      <td>Reduction of &lt;span class=\"disease\"&gt;pain&lt;/span&gt;...</td>\n",
       "      <td>18006530</td>\n",
       "      <td>18006530_C071741_D010146</td>\n",
       "      <td>bcv_easy_3</td>\n",
       "    </tr>\n",
       "    <tr>\n",
       "      <th>4</th>\n",
       "      <td>D015742</td>\n",
       "      <td>&lt;span class=\"chemical\"&gt;propofol&lt;/span&gt;</td>\n",
       "      <td>D010146</td>\n",
       "      <td>&lt;span class=\"disease\"&gt;Pain&lt;/span&gt;</td>\n",
       "      <td>BACKGROUND: &lt;span class=\"disease\"&gt;Pain&lt;/span&gt; ...</td>\n",
       "      <td>18006530</td>\n",
       "      <td>18006530_D015742_D010146</td>\n",
       "      <td>bcv_easy_4</td>\n",
       "    </tr>\n",
       "  </tbody>\n",
       "</table>\n",
       "</div>"
      ],
      "text/plain": [
       "  chemical_id                                      chemical_name disease_id  \\\n",
       "0     D011692  <span class=\"chemical\">puromycin aminonucleosi...    D000860   \n",
       "1     D011692  <span class=\"chemical\">puromycin aminonucleosi...    D000860   \n",
       "2     D015742             <span class=\"chemical\">propofol</span>    D010146   \n",
       "3     C071741         <span class=\"chemical\">remifentanil</span>    D010146   \n",
       "4     D015742             <span class=\"chemical\">propofol</span>    D010146   \n",
       "\n",
       "                           disease_name  \\\n",
       "0  <span class=\"disease\">hypoxia</span>   \n",
       "1  <span class=\"disease\">hypoxia</span>   \n",
       "2     <span class=\"disease\">pain</span>   \n",
       "3     <span class=\"disease\">pain</span>   \n",
       "4     <span class=\"disease\">Pain</span>   \n",
       "\n",
       "                                       form_sentence      pmid  \\\n",
       "0  With this model, we were able to identify diff...  15579441   \n",
       "1  Expression of the <span class=\"disease\">hypoxi...  15579441   \n",
       "2  Reduction of <span class=\"disease\">pain</span>...  18006530   \n",
       "3  Reduction of <span class=\"disease\">pain</span>...  18006530   \n",
       "4  BACKGROUND: <span class=\"disease\">Pain</span> ...  18006530   \n",
       "\n",
       "           relation_pair_id     uniq_id  \n",
       "0  15579441_D011692_D000860  bcv_easy_0  \n",
       "1  15579441_D011692_D000860  bcv_easy_1  \n",
       "2  18006530_D015742_D010146  bcv_easy_2  \n",
       "3  18006530_C071741_D010146  bcv_easy_3  \n",
       "4  18006530_D015742_D010146  bcv_easy_4  "
      ]
     },
     "execution_count": 18,
     "metadata": {},
     "output_type": "execute_result"
    }
   ],
   "source": [
    "easy_units.head()"
   ]
  },
  {
   "cell_type": "code",
   "execution_count": 19,
   "metadata": {
    "collapsed": false
   },
   "outputs": [
    {
     "data": {
      "text/html": [
       "<div>\n",
       "<table border=\"1\" class=\"dataframe\">\n",
       "  <thead>\n",
       "    <tr style=\"text-align: right;\">\n",
       "      <th></th>\n",
       "      <th>chemical_id</th>\n",
       "      <th>chemical_name</th>\n",
       "      <th>disease_id</th>\n",
       "      <th>disease_name</th>\n",
       "      <th>form_abstract</th>\n",
       "      <th>form_title</th>\n",
       "      <th>pmid</th>\n",
       "      <th>uniq_id</th>\n",
       "    </tr>\n",
       "  </thead>\n",
       "  <tbody>\n",
       "    <tr>\n",
       "      <th>0</th>\n",
       "      <td>D011692</td>\n",
       "      <td>&lt;span class=\"chemical\"&gt;puromycin aminonucleosi...</td>\n",
       "      <td>D011507</td>\n",
       "      <td>&lt;span class=\"disease\"&gt;proteinuria&lt;/span&gt;</td>\n",
       "      <td>Despite the increasing need to identify and qu...</td>\n",
       "      <td>Hypoxia in renal disease with &lt;span class=\"dis...</td>\n",
       "      <td>15579441</td>\n",
       "      <td>bcv_hard_0</td>\n",
       "    </tr>\n",
       "    <tr>\n",
       "      <th>1</th>\n",
       "      <td>D011692</td>\n",
       "      <td>&lt;span class=\"chemical\"&gt;puromycin aminonucleosi...</td>\n",
       "      <td>D007674</td>\n",
       "      <td>&lt;span class=\"disease\"&gt;diseased kidney/glomerul...</td>\n",
       "      <td>Despite the increasing need to identify and qu...</td>\n",
       "      <td>Hypoxia in &lt;span class=\"disease\"&gt;renal disease...</td>\n",
       "      <td>15579441</td>\n",
       "      <td>bcv_hard_1</td>\n",
       "    </tr>\n",
       "    <tr>\n",
       "      <th>2</th>\n",
       "      <td>D011692</td>\n",
       "      <td>&lt;span class=\"chemical\"&gt;puromycin aminonucleosi...</td>\n",
       "      <td>D006973</td>\n",
       "      <td>&lt;span class=\"disease\"&gt;hypertension&lt;/span&gt;</td>\n",
       "      <td>Despite the increasing need to identify and qu...</td>\n",
       "      <td>Hypoxia in renal disease with proteinuria and/...</td>\n",
       "      <td>15579441</td>\n",
       "      <td>bcv_hard_2</td>\n",
       "    </tr>\n",
       "    <tr>\n",
       "      <th>3</th>\n",
       "      <td>D002752</td>\n",
       "      <td>&lt;span class=\"chemical\"&gt;chlorthalidone&lt;/span&gt;</td>\n",
       "      <td>D003327</td>\n",
       "      <td>&lt;span class=\"disease\"&gt;coronary disease&lt;/span&gt;</td>\n",
       "      <td>It has been proposed that modest changes in pl...</td>\n",
       "      <td>Diuretics, potassium and arrhythmias in hypert...</td>\n",
       "      <td>3732088</td>\n",
       "      <td>bcv_hard_3</td>\n",
       "    </tr>\n",
       "    <tr>\n",
       "      <th>4</th>\n",
       "      <td>D002752</td>\n",
       "      <td>&lt;span class=\"chemical\"&gt;chlorthalidone&lt;/span&gt;</td>\n",
       "      <td>D017202</td>\n",
       "      <td>&lt;span class=\"disease\"&gt;ischaemic heart disease&lt;...</td>\n",
       "      <td>It has been proposed that modest changes in pl...</td>\n",
       "      <td>Diuretics, potassium and arrhythmias in hypert...</td>\n",
       "      <td>3732088</td>\n",
       "      <td>bcv_hard_4</td>\n",
       "    </tr>\n",
       "  </tbody>\n",
       "</table>\n",
       "</div>"
      ],
      "text/plain": [
       "  chemical_id                                      chemical_name disease_id  \\\n",
       "0     D011692  <span class=\"chemical\">puromycin aminonucleosi...    D011507   \n",
       "1     D011692  <span class=\"chemical\">puromycin aminonucleosi...    D007674   \n",
       "2     D011692  <span class=\"chemical\">puromycin aminonucleosi...    D006973   \n",
       "3     D002752       <span class=\"chemical\">chlorthalidone</span>    D003327   \n",
       "4     D002752       <span class=\"chemical\">chlorthalidone</span>    D017202   \n",
       "\n",
       "                                        disease_name  \\\n",
       "0           <span class=\"disease\">proteinuria</span>   \n",
       "1  <span class=\"disease\">diseased kidney/glomerul...   \n",
       "2          <span class=\"disease\">hypertension</span>   \n",
       "3      <span class=\"disease\">coronary disease</span>   \n",
       "4  <span class=\"disease\">ischaemic heart disease<...   \n",
       "\n",
       "                                       form_abstract  \\\n",
       "0  Despite the increasing need to identify and qu...   \n",
       "1  Despite the increasing need to identify and qu...   \n",
       "2  Despite the increasing need to identify and qu...   \n",
       "3  It has been proposed that modest changes in pl...   \n",
       "4  It has been proposed that modest changes in pl...   \n",
       "\n",
       "                                          form_title      pmid     uniq_id  \n",
       "0  Hypoxia in renal disease with <span class=\"dis...  15579441  bcv_hard_0  \n",
       "1  Hypoxia in <span class=\"disease\">renal disease...  15579441  bcv_hard_1  \n",
       "2  Hypoxia in renal disease with proteinuria and/...  15579441  bcv_hard_2  \n",
       "3  Diuretics, potassium and arrhythmias in hypert...   3732088  bcv_hard_3  \n",
       "4  Diuretics, potassium and arrhythmias in hypert...   3732088  bcv_hard_4  "
      ]
     },
     "execution_count": 19,
     "metadata": {},
     "output_type": "execute_result"
    }
   ],
   "source": [
    "hard_units.head()"
   ]
  },
  {
   "cell_type": "markdown",
   "metadata": {},
   "source": [
    "---"
   ]
  },
  {
   "cell_type": "code",
   "execution_count": 20,
   "metadata": {
    "collapsed": false
   },
   "outputs": [
    {
     "data": {
      "text/plain": [
       "(1279, 8)"
      ]
     },
     "execution_count": 20,
     "metadata": {},
     "output_type": "execute_result"
    }
   ],
   "source": [
    "easy_units.shape"
   ]
  },
  {
   "cell_type": "code",
   "execution_count": 21,
   "metadata": {
    "collapsed": false
   },
   "outputs": [
    {
     "data": {
      "text/plain": [
       "(1063, 8)"
      ]
     },
     "execution_count": 21,
     "metadata": {},
     "output_type": "execute_result"
    }
   ],
   "source": [
    "hard_units.shape"
   ]
  },
  {
   "cell_type": "markdown",
   "metadata": {},
   "source": [
    "###Add the test questions:"
   ]
  },
  {
   "cell_type": "code",
   "execution_count": 22,
   "metadata": {
    "collapsed": true
   },
   "outputs": [],
   "source": [
    "abs_test_ques = pd.read_csv(\"data/crowdflower/test_questions/final_abstract_test_questions.tsv\", sep = '\\t')"
   ]
  },
  {
   "cell_type": "code",
   "execution_count": 23,
   "metadata": {
    "collapsed": false
   },
   "outputs": [],
   "source": [
    "hard_units = hard_units.append(abs_test_ques)"
   ]
  },
  {
   "cell_type": "code",
   "execution_count": 24,
   "metadata": {
    "collapsed": false
   },
   "outputs": [
    {
     "data": {
      "text/plain": [
       "(1115, 13)"
      ]
     },
     "execution_count": 24,
     "metadata": {},
     "output_type": "execute_result"
    }
   ],
   "source": [
    "hard_units.shape"
   ]
  },
  {
   "cell_type": "markdown",
   "metadata": {},
   "source": [
    "###Write work units to file"
   ]
  },
  {
   "cell_type": "code",
   "execution_count": 25,
   "metadata": {
    "collapsed": true
   },
   "outputs": [],
   "source": [
    "easy_units.to_csv(\"data/crowdflower/data_for_easy_job_.tsv\", sep = '\\t', index = False)"
   ]
  },
  {
   "cell_type": "code",
   "execution_count": 26,
   "metadata": {
    "collapsed": true
   },
   "outputs": [],
   "source": [
    "hard_units.to_csv(\"data/crowdflower/data_for_hard_job_.tsv\", sep = '\\t', index = False)"
   ]
  }
 ],
 "metadata": {
  "kernelspec": {
   "display_name": "Python 2",
   "language": "python",
   "name": "python2"
  },
  "language_info": {
   "codemirror_mode": {
    "name": "ipython",
    "version": 2
   },
   "file_extension": ".py",
   "mimetype": "text/x-python",
   "name": "python",
   "nbconvert_exporter": "python",
   "pygments_lexer": "ipython2",
   "version": "2.7.10"
  }
 },
 "nbformat": 4,
 "nbformat_minor": 0
}
