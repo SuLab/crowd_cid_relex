{
 "cells": [
  {
   "cell_type": "markdown",
   "metadata": {},
   "source": [
    "# Analysis of CrowdFlower job 746297: Finding drug-induced-disease relationships for Biocreative V task 3b (version 2)"
   ]
  },
  {
   "cell_type": "markdown",
   "metadata": {},
   "source": [
    "2015-06-22 Tong Shu Li"
   ]
  },
  {
   "cell_type": "markdown",
   "metadata": {},
   "source": [
    "Last updated 2015-06-25"
   ]
  },
  {
   "cell_type": "markdown",
   "metadata": {},
   "source": [
    "Crowdflower job 746297 is the second iteration of the chemical-induced-disease relationship extraction task for Biocreative V. Version 1.0 (job 743229) did not have proper test question validation, and was therefore plagued with spammers.\n",
    "\n",
    "This version had proper elimination of workers who chose the wrong choices.\n",
    "\n",
    "Job 746297 was launched at 3:24 pm, Monday June 21, 2015, and completed at 8:05 pm on Monday June 21, 2015. The total cost was $54.66 USD.\n",
    "\n",
    "Settings:\n",
    "- 5 rows per page\n",
    "- 5 judgements per row\n",
    "- 50 cents per page\n",
    "- level 1 contributor\n",
    "- 50 seconds minimum per page\n",
    "- worker has to maintain 70% minimum accuracy\n",
    "- there were 11 test questions\n",
    "- Responses to the test questions had to match exactly (all correct choices chosen, no incorrect choice chosen) in order to count as being correct"
   ]
  },
  {
   "cell_type": "code",
   "execution_count": 1,
   "metadata": {
    "collapsed": true
   },
   "outputs": [],
   "source": [
    "from __future__ import division\n",
    "from collections import defaultdict\n",
    "from IPython.display import Image\n",
    "import pandas as pd\n",
    "import matplotlib as plt"
   ]
  },
  {
   "cell_type": "code",
   "execution_count": 2,
   "metadata": {
    "collapsed": true
   },
   "outputs": [],
   "source": [
    "%matplotlib inline"
   ]
  },
  {
   "cell_type": "code",
   "execution_count": 3,
   "metadata": {
    "collapsed": false
   },
   "outputs": [],
   "source": [
    "from src.filter_data import filter_data\n",
    "from src.parse_gold import parse_input\n",
    "from src.parse_gold import Relation\n",
    "from src.get_AUC_value import get_AUC_value\n",
    "from src.aggregate_votes import aggregate_votes"
   ]
  },
  {
   "cell_type": "markdown",
   "metadata": {},
   "source": [
    "### Read the results of job 746297:"
   ]
  },
  {
   "cell_type": "code",
   "execution_count": 4,
   "metadata": {
    "collapsed": true
   },
   "outputs": [],
   "source": [
    "settings = {\n",
    "    \"loc\": \"data/crowdflower/results\",\n",
    "    \"fname\": \"job_746297_full_with_untrusted.csv\",\n",
    "    \"data_subset\": \"normal\",\n",
    "    \"min_accuracy\": 0.7,\n",
    "    \"max_accuracy\": 1.0\n",
    "}\n",
    "\n",
    "raw_data = filter_data(settings)"
   ]
  },
  {
   "cell_type": "markdown",
   "metadata": {},
   "source": [
    "Total number of judgements collected:"
   ]
  },
  {
   "cell_type": "code",
   "execution_count": 5,
   "metadata": {
    "collapsed": false
   },
   "outputs": [
    {
     "data": {
      "text/plain": [
       "255"
      ]
     },
     "execution_count": 5,
     "metadata": {},
     "output_type": "execute_result"
    }
   ],
   "source": [
    "len(raw_data)"
   ]
  },
  {
   "cell_type": "code",
   "execution_count": 6,
   "metadata": {
    "collapsed": false
   },
   "outputs": [
    {
     "data": {
      "text/html": [
       "<div style=\"max-height:1000px;max-width:1500px;overflow:auto;\">\n",
       "<table border=\"1\" class=\"dataframe\">\n",
       "  <thead>\n",
       "    <tr style=\"text-align: right;\">\n",
       "      <th></th>\n",
       "      <th>_unit_id</th>\n",
       "      <th>_created_at</th>\n",
       "      <th>_golden</th>\n",
       "      <th>_id</th>\n",
       "      <th>_missed</th>\n",
       "      <th>_started_at</th>\n",
       "      <th>_tainted</th>\n",
       "      <th>_channel</th>\n",
       "      <th>_trust</th>\n",
       "      <th>_worker_id</th>\n",
       "      <th>...</th>\n",
       "      <th>choice_2_ids</th>\n",
       "      <th>choice_2_label</th>\n",
       "      <th>choice_3_ids</th>\n",
       "      <th>choice_3_label</th>\n",
       "      <th>choice_4_ids</th>\n",
       "      <th>choice_4_label</th>\n",
       "      <th>form_abstract</th>\n",
       "      <th>form_title</th>\n",
       "      <th>pmid</th>\n",
       "      <th>uniq_id</th>\n",
       "    </tr>\n",
       "  </thead>\n",
       "  <tbody>\n",
       "    <tr>\n",
       "      <th>0</th>\n",
       "      <td>741091284</td>\n",
       "      <td>6/22/2015 22:44:33</td>\n",
       "      <td>False</td>\n",
       "      <td>1667877616</td>\n",
       "      <td>NaN</td>\n",
       "      <td>6/22/2015 22:43:35</td>\n",
       "      <td>False</td>\n",
       "      <td>neodev</td>\n",
       "      <td>0.7273</td>\n",
       "      <td>32824409</td>\n",
       "      <td>...</td>\n",
       "      <td>C063968_induces_D016171</td>\n",
       "      <td>&lt;span class=\"chemical\"&gt;E4031&lt;/span&gt; contribute...</td>\n",
       "      <td>C063968_induces_D017180</td>\n",
       "      <td>&lt;span class=\"chemical\"&gt;E4031&lt;/span&gt; contribute...</td>\n",
       "      <td>D016593_induces_D016171</td>\n",
       "      <td>&lt;span class=\"chemical\"&gt;terfenadine&lt;/span&gt; cont...</td>\n",
       "      <td>1. &lt;span class=\"disease\"&gt;Torsades de pointes&lt;/...</td>\n",
       "      <td>Pharmacokinetic/pharmacodynamic assessment of ...</td>\n",
       "      <td>11569530</td>\n",
       "      <td>bcv_id_0</td>\n",
       "    </tr>\n",
       "    <tr>\n",
       "      <th>1</th>\n",
       "      <td>741091284</td>\n",
       "      <td>6/22/2015 23:10:22</td>\n",
       "      <td>False</td>\n",
       "      <td>1667886309</td>\n",
       "      <td>NaN</td>\n",
       "      <td>6/22/2015 23:07:02</td>\n",
       "      <td>False</td>\n",
       "      <td>elite</td>\n",
       "      <td>0.9091</td>\n",
       "      <td>30936260</td>\n",
       "      <td>...</td>\n",
       "      <td>C063968_induces_D016171</td>\n",
       "      <td>&lt;span class=\"chemical\"&gt;E4031&lt;/span&gt; contribute...</td>\n",
       "      <td>C063968_induces_D017180</td>\n",
       "      <td>&lt;span class=\"chemical\"&gt;E4031&lt;/span&gt; contribute...</td>\n",
       "      <td>D016593_induces_D016171</td>\n",
       "      <td>&lt;span class=\"chemical\"&gt;terfenadine&lt;/span&gt; cont...</td>\n",
       "      <td>1. &lt;span class=\"disease\"&gt;Torsades de pointes&lt;/...</td>\n",
       "      <td>Pharmacokinetic/pharmacodynamic assessment of ...</td>\n",
       "      <td>11569530</td>\n",
       "      <td>bcv_id_0</td>\n",
       "    </tr>\n",
       "    <tr>\n",
       "      <th>2</th>\n",
       "      <td>741091284</td>\n",
       "      <td>6/22/2015 23:10:53</td>\n",
       "      <td>False</td>\n",
       "      <td>1667886491</td>\n",
       "      <td>NaN</td>\n",
       "      <td>6/22/2015 23:08:45</td>\n",
       "      <td>False</td>\n",
       "      <td>neodev</td>\n",
       "      <td>0.7273</td>\n",
       "      <td>11064916</td>\n",
       "      <td>...</td>\n",
       "      <td>C063968_induces_D016171</td>\n",
       "      <td>&lt;span class=\"chemical\"&gt;E4031&lt;/span&gt; contribute...</td>\n",
       "      <td>C063968_induces_D017180</td>\n",
       "      <td>&lt;span class=\"chemical\"&gt;E4031&lt;/span&gt; contribute...</td>\n",
       "      <td>D016593_induces_D016171</td>\n",
       "      <td>&lt;span class=\"chemical\"&gt;terfenadine&lt;/span&gt; cont...</td>\n",
       "      <td>1. &lt;span class=\"disease\"&gt;Torsades de pointes&lt;/...</td>\n",
       "      <td>Pharmacokinetic/pharmacodynamic assessment of ...</td>\n",
       "      <td>11569530</td>\n",
       "      <td>bcv_id_0</td>\n",
       "    </tr>\n",
       "    <tr>\n",
       "      <th>3</th>\n",
       "      <td>741091284</td>\n",
       "      <td>6/22/2015 23:27:32</td>\n",
       "      <td>False</td>\n",
       "      <td>1667891825</td>\n",
       "      <td>NaN</td>\n",
       "      <td>6/22/2015 23:13:27</td>\n",
       "      <td>False</td>\n",
       "      <td>neodev</td>\n",
       "      <td>0.7143</td>\n",
       "      <td>11029942</td>\n",
       "      <td>...</td>\n",
       "      <td>C063968_induces_D016171</td>\n",
       "      <td>&lt;span class=\"chemical\"&gt;E4031&lt;/span&gt; contribute...</td>\n",
       "      <td>C063968_induces_D017180</td>\n",
       "      <td>&lt;span class=\"chemical\"&gt;E4031&lt;/span&gt; contribute...</td>\n",
       "      <td>D016593_induces_D016171</td>\n",
       "      <td>&lt;span class=\"chemical\"&gt;terfenadine&lt;/span&gt; cont...</td>\n",
       "      <td>1. &lt;span class=\"disease\"&gt;Torsades de pointes&lt;/...</td>\n",
       "      <td>Pharmacokinetic/pharmacodynamic assessment of ...</td>\n",
       "      <td>11569530</td>\n",
       "      <td>bcv_id_0</td>\n",
       "    </tr>\n",
       "    <tr>\n",
       "      <th>4</th>\n",
       "      <td>741091284</td>\n",
       "      <td>6/22/2015 23:38:33</td>\n",
       "      <td>False</td>\n",
       "      <td>1667895583</td>\n",
       "      <td>NaN</td>\n",
       "      <td>6/22/2015 23:37:10</td>\n",
       "      <td>False</td>\n",
       "      <td>prizerebel</td>\n",
       "      <td>0.8750</td>\n",
       "      <td>28853816</td>\n",
       "      <td>...</td>\n",
       "      <td>C063968_induces_D016171</td>\n",
       "      <td>&lt;span class=\"chemical\"&gt;E4031&lt;/span&gt; contribute...</td>\n",
       "      <td>C063968_induces_D017180</td>\n",
       "      <td>&lt;span class=\"chemical\"&gt;E4031&lt;/span&gt; contribute...</td>\n",
       "      <td>D016593_induces_D016171</td>\n",
       "      <td>&lt;span class=\"chemical\"&gt;terfenadine&lt;/span&gt; cont...</td>\n",
       "      <td>1. &lt;span class=\"disease\"&gt;Torsades de pointes&lt;/...</td>\n",
       "      <td>Pharmacokinetic/pharmacodynamic assessment of ...</td>\n",
       "      <td>11569530</td>\n",
       "      <td>bcv_id_0</td>\n",
       "    </tr>\n",
       "  </tbody>\n",
       "</table>\n",
       "<p>5 rows × 31 columns</p>\n",
       "</div>"
      ],
      "text/plain": [
       "    _unit_id         _created_at _golden         _id _missed  \\\n",
       "0  741091284  6/22/2015 22:44:33   False  1667877616     NaN   \n",
       "1  741091284  6/22/2015 23:10:22   False  1667886309     NaN   \n",
       "2  741091284  6/22/2015 23:10:53   False  1667886491     NaN   \n",
       "3  741091284  6/22/2015 23:27:32   False  1667891825     NaN   \n",
       "4  741091284  6/22/2015 23:38:33   False  1667895583     NaN   \n",
       "\n",
       "          _started_at _tainted    _channel  _trust  _worker_id    ...     \\\n",
       "0  6/22/2015 22:43:35    False      neodev  0.7273    32824409    ...      \n",
       "1  6/22/2015 23:07:02    False       elite  0.9091    30936260    ...      \n",
       "2  6/22/2015 23:08:45    False      neodev  0.7273    11064916    ...      \n",
       "3  6/22/2015 23:13:27    False      neodev  0.7143    11029942    ...      \n",
       "4  6/22/2015 23:37:10    False  prizerebel  0.8750    28853816    ...      \n",
       "\n",
       "              choice_2_ids                                     choice_2_label  \\\n",
       "0  C063968_induces_D016171  <span class=\"chemical\">E4031</span> contribute...   \n",
       "1  C063968_induces_D016171  <span class=\"chemical\">E4031</span> contribute...   \n",
       "2  C063968_induces_D016171  <span class=\"chemical\">E4031</span> contribute...   \n",
       "3  C063968_induces_D016171  <span class=\"chemical\">E4031</span> contribute...   \n",
       "4  C063968_induces_D016171  <span class=\"chemical\">E4031</span> contribute...   \n",
       "\n",
       "              choice_3_ids                                     choice_3_label  \\\n",
       "0  C063968_induces_D017180  <span class=\"chemical\">E4031</span> contribute...   \n",
       "1  C063968_induces_D017180  <span class=\"chemical\">E4031</span> contribute...   \n",
       "2  C063968_induces_D017180  <span class=\"chemical\">E4031</span> contribute...   \n",
       "3  C063968_induces_D017180  <span class=\"chemical\">E4031</span> contribute...   \n",
       "4  C063968_induces_D017180  <span class=\"chemical\">E4031</span> contribute...   \n",
       "\n",
       "              choice_4_ids                                     choice_4_label  \\\n",
       "0  D016593_induces_D016171  <span class=\"chemical\">terfenadine</span> cont...   \n",
       "1  D016593_induces_D016171  <span class=\"chemical\">terfenadine</span> cont...   \n",
       "2  D016593_induces_D016171  <span class=\"chemical\">terfenadine</span> cont...   \n",
       "3  D016593_induces_D016171  <span class=\"chemical\">terfenadine</span> cont...   \n",
       "4  D016593_induces_D016171  <span class=\"chemical\">terfenadine</span> cont...   \n",
       "\n",
       "                                       form_abstract  \\\n",
       "0  1. <span class=\"disease\">Torsades de pointes</...   \n",
       "1  1. <span class=\"disease\">Torsades de pointes</...   \n",
       "2  1. <span class=\"disease\">Torsades de pointes</...   \n",
       "3  1. <span class=\"disease\">Torsades de pointes</...   \n",
       "4  1. <span class=\"disease\">Torsades de pointes</...   \n",
       "\n",
       "                                          form_title      pmid   uniq_id  \n",
       "0  Pharmacokinetic/pharmacodynamic assessment of ...  11569530  bcv_id_0  \n",
       "1  Pharmacokinetic/pharmacodynamic assessment of ...  11569530  bcv_id_0  \n",
       "2  Pharmacokinetic/pharmacodynamic assessment of ...  11569530  bcv_id_0  \n",
       "3  Pharmacokinetic/pharmacodynamic assessment of ...  11569530  bcv_id_0  \n",
       "4  Pharmacokinetic/pharmacodynamic assessment of ...  11569530  bcv_id_0  \n",
       "\n",
       "[5 rows x 31 columns]"
      ]
     },
     "execution_count": 6,
     "metadata": {},
     "output_type": "execute_result"
    }
   ],
   "source": [
    "raw_data.head()"
   ]
  },
  {
   "cell_type": "markdown",
   "metadata": {},
   "source": [
    "### Cleaning the data:"
   ]
  },
  {
   "cell_type": "markdown",
   "metadata": {},
   "source": [
    "Before we can aggregate the individual votes, we need to ensure that the responses make sense.\n",
    "\n",
    "- \"None are true\" should be the only choice if selected.\n",
    "- No empty choices should have been selected."
   ]
  },
  {
   "cell_type": "code",
   "execution_count": 7,
   "metadata": {
    "collapsed": true
   },
   "outputs": [],
   "source": [
    "def check_data(data_frame):\n",
    "    bad_responses = set()\n",
    "\n",
    "    for idx, row in data_frame.iterrows():\n",
    "        unit_id = row[\"_unit_id\"]\n",
    "        worker_id = row[\"_worker_id\"]\n",
    "\n",
    "        response = set(row[\"chemical_disease_relationships\"].split('\\n'))\n",
    "\n",
    "        # if none are true, then it should be the only choice..\n",
    "        if \"none_are_true\" in response and len(response) > 1:\n",
    "            bad_responses.add((unit_id, worker_id))\n",
    "\n",
    "        for i in range(5):\n",
    "            column = \"choice_{0}_ids\".format(i)\n",
    "            if (row[column] == \"empty\") and (\"choice_{0}\".format(i) in response): # clicked empty response\n",
    "                bad_responses.add((unit_id, worker_id))\n",
    "                \n",
    "    return bad_responses"
   ]
  },
  {
   "cell_type": "code",
   "execution_count": 8,
   "metadata": {
    "collapsed": false,
    "scrolled": true
   },
   "outputs": [
    {
     "data": {
      "text/plain": [
       "{(741091304, 30936260)}"
      ]
     },
     "execution_count": 8,
     "metadata": {},
     "output_type": "execute_result"
    }
   ],
   "source": [
    "check_data(raw_data)"
   ]
  },
  {
   "cell_type": "markdown",
   "metadata": {},
   "source": [
    "Great, there was only one response that had an answer which didn't make sense. We can look at this answer and choose the result manually."
   ]
  },
  {
   "cell_type": "code",
   "execution_count": 9,
   "metadata": {
    "collapsed": false
   },
   "outputs": [
    {
     "data": {
      "text/html": [
       "<div style=\"max-height:1000px;max-width:1500px;overflow:auto;\">\n",
       "<table border=\"1\" class=\"dataframe\">\n",
       "  <thead>\n",
       "    <tr style=\"text-align: right;\">\n",
       "      <th></th>\n",
       "      <th>_unit_id</th>\n",
       "      <th>_created_at</th>\n",
       "      <th>_golden</th>\n",
       "      <th>_id</th>\n",
       "      <th>_missed</th>\n",
       "      <th>_started_at</th>\n",
       "      <th>_tainted</th>\n",
       "      <th>_channel</th>\n",
       "      <th>_trust</th>\n",
       "      <th>_worker_id</th>\n",
       "      <th>...</th>\n",
       "      <th>choice_2_ids</th>\n",
       "      <th>choice_2_label</th>\n",
       "      <th>choice_3_ids</th>\n",
       "      <th>choice_3_label</th>\n",
       "      <th>choice_4_ids</th>\n",
       "      <th>choice_4_label</th>\n",
       "      <th>form_abstract</th>\n",
       "      <th>form_title</th>\n",
       "      <th>pmid</th>\n",
       "      <th>uniq_id</th>\n",
       "    </tr>\n",
       "  </thead>\n",
       "  <tbody>\n",
       "    <tr>\n",
       "      <th>101</th>\n",
       "      <td>741091304</td>\n",
       "      <td>6/22/2015 22:55:07</td>\n",
       "      <td>False</td>\n",
       "      <td>1667881387</td>\n",
       "      <td>NaN</td>\n",
       "      <td>6/22/2015 22:49:15</td>\n",
       "      <td>False</td>\n",
       "      <td>elite</td>\n",
       "      <td>0.9091</td>\n",
       "      <td>30936260</td>\n",
       "      <td>...</td>\n",
       "      <td>D025101_induces_D007676</td>\n",
       "      <td>&lt;span class=\"chemical\"&gt;vitamin B6&lt;/span&gt; contr...</td>\n",
       "      <td>empty</td>\n",
       "      <td>&lt;strong&gt;Do not&lt;/strong&gt; choose this choice.</td>\n",
       "      <td>empty</td>\n",
       "      <td>&lt;strong&gt;Do not&lt;/strong&gt; choose this choice.</td>\n",
       "      <td>Two patients with similar clinical features ar...</td>\n",
       "      <td>Serial &lt;span class=\"disease\"&gt;epilepsy&lt;/span&gt; c...</td>\n",
       "      <td>2265898</td>\n",
       "      <td>bcv_id_20</td>\n",
       "    </tr>\n",
       "  </tbody>\n",
       "</table>\n",
       "<p>1 rows × 31 columns</p>\n",
       "</div>"
      ],
      "text/plain": [
       "      _unit_id         _created_at _golden         _id _missed  \\\n",
       "101  741091304  6/22/2015 22:55:07   False  1667881387     NaN   \n",
       "\n",
       "            _started_at _tainted _channel  _trust  _worker_id    ...      \\\n",
       "101  6/22/2015 22:49:15    False    elite  0.9091    30936260    ...       \n",
       "\n",
       "                choice_2_ids  \\\n",
       "101  D025101_induces_D007676   \n",
       "\n",
       "                                        choice_2_label choice_3_ids  \\\n",
       "101  <span class=\"chemical\">vitamin B6</span> contr...        empty   \n",
       "\n",
       "                                  choice_3_label choice_4_ids  \\\n",
       "101  <strong>Do not</strong> choose this choice.        empty   \n",
       "\n",
       "                                  choice_4_label  \\\n",
       "101  <strong>Do not</strong> choose this choice.   \n",
       "\n",
       "                                         form_abstract  \\\n",
       "101  Two patients with similar clinical features ar...   \n",
       "\n",
       "                                            form_title     pmid    uniq_id  \n",
       "101  Serial <span class=\"disease\">epilepsy</span> c...  2265898  bcv_id_20  \n",
       "\n",
       "[1 rows x 31 columns]"
      ]
     },
     "execution_count": 9,
     "metadata": {},
     "output_type": "execute_result"
    }
   ],
   "source": [
    "raw_data.query(\"_unit_id == 741091304 and _worker_id == 30936260\")"
   ]
  },
  {
   "cell_type": "code",
   "execution_count": 10,
   "metadata": {
    "collapsed": false
   },
   "outputs": [
    {
     "data": {
      "text/plain": [
       "'choice_1\\nnone_are_true'"
      ]
     },
     "execution_count": 10,
     "metadata": {},
     "output_type": "execute_result"
    }
   ],
   "source": [
    "raw_data.loc[101][\"chemical_disease_relationships\"]"
   ]
  },
  {
   "cell_type": "markdown",
   "metadata": {},
   "source": [
    "This contributor chose both \"none are true\" and the second choice, so we will manually change it to \"none are true\" because that overrides the other choice."
   ]
  },
  {
   "cell_type": "code",
   "execution_count": 11,
   "metadata": {
    "collapsed": true
   },
   "outputs": [],
   "source": [
    "raw_data.loc[101, \"chemical_disease_relationships\"] = \"none_are_true\""
   ]
  },
  {
   "cell_type": "code",
   "execution_count": 12,
   "metadata": {
    "collapsed": false
   },
   "outputs": [
    {
     "data": {
      "text/plain": [
       "'none_are_true'"
      ]
     },
     "execution_count": 12,
     "metadata": {},
     "output_type": "execute_result"
    }
   ],
   "source": [
    "raw_data.loc[101][\"chemical_disease_relationships\"]"
   ]
  },
  {
   "cell_type": "code",
   "execution_count": 13,
   "metadata": {
    "collapsed": false
   },
   "outputs": [
    {
     "data": {
      "text/plain": [
       "set()"
      ]
     },
     "execution_count": 13,
     "metadata": {},
     "output_type": "execute_result"
    }
   ],
   "source": [
    "check_data(raw_data)"
   ]
  },
  {
   "cell_type": "markdown",
   "metadata": {},
   "source": [
    "Now that the data have been cleaned up, we can proceed to the analysis."
   ]
  },
  {
   "cell_type": "markdown",
   "metadata": {},
   "source": [
    "## Aggregation scheme:\n",
    "\n",
    "1. Aggregate on unique id (one subset of the N x M expansion of all drug-disease pairs). Normalize scores by the total trust score of all workers who worked on that work unit.\n",
    "2. Aggregate above results on PMID\n",
    "3. Return a ranked list of drug-disease pairs for each PMID\n",
    "4. Perform ROC analysis on ranked list using normalized threshold."
   ]
  },
  {
   "cell_type": "markdown",
   "metadata": {},
   "source": [
    "Consider the case where we have M choices voted upon by N people. One of the M choices is that \"None of the given choices are true\". How do we aggregate votes?\n",
    "\n",
    "Since the M choices represent the set of all possible drug-disease relationships in an abstract, we want a list of the possible relationships for any one work unit, with a score of how confident we are that that relationship might be true. Notice that picking the top answer is not the right approach because we would lose lots of information.\n",
    "\n",
    "With these considerations in mind, the voting scheme will be as follows:\n",
    "1. Choices which a person does not select are untouched.\n",
    "2. Choices which a person explicitly picks gets their trust score added to that choice.\n",
    "3. The \"none of the above\" choice applies the negative trust score to every other choice.\n",
    "\n",
    "Finally, all the choices are sorted by decreasing score. Negative scores represent cases where more people said that choice was wrong than people who said it was right."
   ]
  },
  {
   "cell_type": "code",
   "execution_count": 14,
   "metadata": {
    "collapsed": true
   },
   "outputs": [],
   "source": [
    "def generate_results(data_frame, penalize_unchosen = False):\n",
    "    results = []\n",
    "    for pmid, pmid_group in data_frame.groupby(\"pmid\"):\n",
    "        temp = []\n",
    "        for uniq_id, group in pmid_group.groupby(\"uniq_id\"):\n",
    "            scores = aggregate_votes(uniq_id, group, penalize_unchosen)\n",
    "            temp.append(scores)\n",
    "\n",
    "        df = pd.concat(temp)\n",
    "        if not df.empty:\n",
    "            df = df.sort(\"normalized_score\", axis = 0, ascending = False)\n",
    "            df[\"pmid\"] = pmid\n",
    "            results.append(df)\n",
    "            \n",
    "    return pd.concat(results)"
   ]
  },
  {
   "cell_type": "code",
   "execution_count": 15,
   "metadata": {
    "collapsed": false
   },
   "outputs": [],
   "source": [
    "results = generate_results(raw_data)"
   ]
  },
  {
   "cell_type": "code",
   "execution_count": 16,
   "metadata": {
    "collapsed": false
   },
   "outputs": [
    {
     "data": {
      "text/html": [
       "<div style=\"max-height:1000px;max-width:1500px;overflow:auto;\">\n",
       "<table border=\"1\" class=\"dataframe\">\n",
       "  <thead>\n",
       "    <tr style=\"text-align: right;\">\n",
       "      <th></th>\n",
       "      <th>id_pair</th>\n",
       "      <th>normalized_score</th>\n",
       "      <th>uniq_id</th>\n",
       "      <th>unit_id</th>\n",
       "      <th>pmid</th>\n",
       "    </tr>\n",
       "  </thead>\n",
       "  <tbody>\n",
       "    <tr>\n",
       "      <th>3</th>\n",
       "      <td>D005839_induces_D007674</td>\n",
       "      <td>0.794784</td>\n",
       "      <td>bcv_id_45</td>\n",
       "      <td>741091329</td>\n",
       "      <td>1130930</td>\n",
       "    </tr>\n",
       "    <tr>\n",
       "      <th>1</th>\n",
       "      <td>D002512_induces_D007674</td>\n",
       "      <td>0.770023</td>\n",
       "      <td>bcv_id_46</td>\n",
       "      <td>741091330</td>\n",
       "      <td>1130930</td>\n",
       "    </tr>\n",
       "    <tr>\n",
       "      <th>2</th>\n",
       "      <td>D005839_induces_D007683</td>\n",
       "      <td>0.605403</td>\n",
       "      <td>bcv_id_45</td>\n",
       "      <td>741091329</td>\n",
       "      <td>1130930</td>\n",
       "    </tr>\n",
       "    <tr>\n",
       "      <th>0</th>\n",
       "      <td>D002512_induces_D007683</td>\n",
       "      <td>0.594662</td>\n",
       "      <td>bcv_id_46</td>\n",
       "      <td>741091330</td>\n",
       "      <td>1130930</td>\n",
       "    </tr>\n",
       "    <tr>\n",
       "      <th>1</th>\n",
       "      <td>D005839_induces_D009846|D051437</td>\n",
       "      <td>0.420701</td>\n",
       "      <td>bcv_id_45</td>\n",
       "      <td>741091329</td>\n",
       "      <td>1130930</td>\n",
       "    </tr>\n",
       "  </tbody>\n",
       "</table>\n",
       "</div>"
      ],
      "text/plain": [
       "                           id_pair  normalized_score    uniq_id    unit_id  \\\n",
       "3          D005839_induces_D007674          0.794784  bcv_id_45  741091329   \n",
       "1          D002512_induces_D007674          0.770023  bcv_id_46  741091330   \n",
       "2          D005839_induces_D007683          0.605403  bcv_id_45  741091329   \n",
       "0          D002512_induces_D007683          0.594662  bcv_id_46  741091330   \n",
       "1  D005839_induces_D009846|D051437          0.420701  bcv_id_45  741091329   \n",
       "\n",
       "      pmid  \n",
       "3  1130930  \n",
       "1  1130930  \n",
       "2  1130930  \n",
       "0  1130930  \n",
       "1  1130930  "
      ]
     },
     "execution_count": 16,
     "metadata": {},
     "output_type": "execute_result"
    }
   ],
   "source": [
    "results.head()"
   ]
  },
  {
   "cell_type": "code",
   "execution_count": 17,
   "metadata": {
    "collapsed": true
   },
   "outputs": [],
   "source": [
    "results_penalized = generate_results(raw_data, penalize_unchosen = True)"
   ]
  },
  {
   "cell_type": "code",
   "execution_count": 18,
   "metadata": {
    "collapsed": false
   },
   "outputs": [
    {
     "data": {
      "text/html": [
       "<div style=\"max-height:1000px;max-width:1500px;overflow:auto;\">\n",
       "<table border=\"1\" class=\"dataframe\">\n",
       "  <thead>\n",
       "    <tr style=\"text-align: right;\">\n",
       "      <th></th>\n",
       "      <th>id_pair</th>\n",
       "      <th>normalized_score</th>\n",
       "      <th>uniq_id</th>\n",
       "      <th>unit_id</th>\n",
       "      <th>pmid</th>\n",
       "    </tr>\n",
       "  </thead>\n",
       "  <tbody>\n",
       "    <tr>\n",
       "      <th>3</th>\n",
       "      <td>D005839_induces_D007674</td>\n",
       "      <td>0.589568</td>\n",
       "      <td>bcv_id_45</td>\n",
       "      <td>741091329</td>\n",
       "      <td>1130930</td>\n",
       "    </tr>\n",
       "    <tr>\n",
       "      <th>1</th>\n",
       "      <td>D002512_induces_D007674</td>\n",
       "      <td>0.540046</td>\n",
       "      <td>bcv_id_46</td>\n",
       "      <td>741091330</td>\n",
       "      <td>1130930</td>\n",
       "    </tr>\n",
       "    <tr>\n",
       "      <th>2</th>\n",
       "      <td>D005839_induces_D007683</td>\n",
       "      <td>0.210806</td>\n",
       "      <td>bcv_id_45</td>\n",
       "      <td>741091329</td>\n",
       "      <td>1130930</td>\n",
       "    </tr>\n",
       "    <tr>\n",
       "      <th>0</th>\n",
       "      <td>D002512_induces_D007683</td>\n",
       "      <td>0.189325</td>\n",
       "      <td>bcv_id_46</td>\n",
       "      <td>741091330</td>\n",
       "      <td>1130930</td>\n",
       "    </tr>\n",
       "    <tr>\n",
       "      <th>1</th>\n",
       "      <td>D005839_induces_D009846|D051437</td>\n",
       "      <td>-0.158597</td>\n",
       "      <td>bcv_id_45</td>\n",
       "      <td>741091329</td>\n",
       "      <td>1130930</td>\n",
       "    </tr>\n",
       "  </tbody>\n",
       "</table>\n",
       "</div>"
      ],
      "text/plain": [
       "                           id_pair  normalized_score    uniq_id    unit_id  \\\n",
       "3          D005839_induces_D007674          0.589568  bcv_id_45  741091329   \n",
       "1          D002512_induces_D007674          0.540046  bcv_id_46  741091330   \n",
       "2          D005839_induces_D007683          0.210806  bcv_id_45  741091329   \n",
       "0          D002512_induces_D007683          0.189325  bcv_id_46  741091330   \n",
       "1  D005839_induces_D009846|D051437         -0.158597  bcv_id_45  741091329   \n",
       "\n",
       "      pmid  \n",
       "3  1130930  \n",
       "1  1130930  \n",
       "2  1130930  \n",
       "0  1130930  \n",
       "1  1130930  "
      ]
     },
     "execution_count": 18,
     "metadata": {},
     "output_type": "execute_result"
    }
   ],
   "source": [
    "results_penalized.head()"
   ]
  },
  {
   "cell_type": "markdown",
   "metadata": {},
   "source": [
    "We want to see if the aggregation scheme makes a difference on our F-score."
   ]
  },
  {
   "cell_type": "markdown",
   "metadata": {},
   "source": [
    "Now that we have our results table, listing the drug-disease relationships with a confidence score, we can perform a ROC analysis on the score as a predictor. To generate our ROC curve, we will:\n",
    "\n",
    "1. Use the gold standard to look up whether each disease pair id was a true positive or not.\n",
    "2. Use the R ROCR package to generate the ROC curve."
   ]
  },
  {
   "cell_type": "code",
   "execution_count": 19,
   "metadata": {
    "collapsed": true
   },
   "outputs": [],
   "source": [
    "training_data = parse_input(\"data/training\", \"CDR_TrainingSet.txt\")"
   ]
  },
  {
   "cell_type": "code",
   "execution_count": 20,
   "metadata": {
    "collapsed": false
   },
   "outputs": [
    {
     "name": "stdout",
     "output_type": "stream",
     "text": [
      "30\n"
     ]
    },
    {
     "data": {
      "text/plain": [
       "{1130930,\n",
       " 1378968,\n",
       " 1835291,\n",
       " 2096243,\n",
       " 2265898,\n",
       " 2375138,\n",
       " 2515254,\n",
       " 3800626,\n",
       " 6666578,\n",
       " 6692345,\n",
       " 7449470,\n",
       " 7582165,\n",
       " 8590259,\n",
       " 8595686,\n",
       " 9522143,\n",
       " 10520387,\n",
       " 10835440,\n",
       " 11135224,\n",
       " 11569530,\n",
       " 12041669,\n",
       " 12198388,\n",
       " 15602202,\n",
       " 15632880,\n",
       " 16167916,\n",
       " 16337777,\n",
       " 17241784,\n",
       " 17261653,\n",
       " 17931375,\n",
       " 18631865,\n",
       " 19269743}"
      ]
     },
     "execution_count": 20,
     "metadata": {},
     "output_type": "execute_result"
    }
   ],
   "source": [
    "used_pmids = set(raw_data[\"pmid\"].unique())\n",
    "print len(used_pmids)\n",
    "used_pmids"
   ]
  },
  {
   "cell_type": "markdown",
   "metadata": {},
   "source": [
    "### Generate the gold relations:"
   ]
  },
  {
   "cell_type": "code",
   "execution_count": 21,
   "metadata": {
    "collapsed": false
   },
   "outputs": [],
   "source": [
    "gold_relations = dict()\n",
    "for paper in training_data:\n",
    "    if int(paper.pmid) in used_pmids:\n",
    "        gold_relations[paper.pmid] = paper.relations"
   ]
  },
  {
   "cell_type": "markdown",
   "metadata": {},
   "source": [
    "Total number of gold relationships for the 30 papers:"
   ]
  },
  {
   "cell_type": "code",
   "execution_count": 22,
   "metadata": {
    "collapsed": false
   },
   "outputs": [
    {
     "data": {
      "text/plain": [
       "64"
      ]
     },
     "execution_count": 22,
     "metadata": {},
     "output_type": "execute_result"
    }
   ],
   "source": [
    "sum(map(len, gold_relations.values()))"
   ]
  },
  {
   "cell_type": "code",
   "execution_count": 23,
   "metadata": {
    "collapsed": true
   },
   "outputs": [],
   "source": [
    "def in_gold(pmid, annot):\n",
    "    \"\"\"\n",
    "    Sometimes a drug-disease relationship will contain\n",
    "    only one identifier for each concept, and the id\n",
    "    won't show up by itself in the annotations, but as\n",
    "    part of a complex annotation.\n",
    "    \n",
    "    For example, in PMID 1130930, there is a relation\n",
    "    between D002512 and D009846, but D009846 is not the\n",
    "    identifier for any annotation. The only annotation\n",
    "    with D009846 is D009846|D051437, and therefore an\n",
    "    exact match is not the right way to check for equality.\n",
    "    \"\"\"\n",
    "    drug_ids = set(annot.drug.split('|'))\n",
    "    disease_ids = set(annot.disease.split('|'))\n",
    "    for gold_rel in gold_relations[str(pmid)]:\n",
    "        if gold_rel.drug in drug_ids and gold_rel.disease in disease_ids:\n",
    "            return True\n",
    "        \n",
    "    return False"
   ]
  },
  {
   "cell_type": "code",
   "execution_count": 24,
   "metadata": {
    "collapsed": false
   },
   "outputs": [],
   "source": [
    "def determine_truth(data_frame):\n",
    "    \"\"\"\n",
    "    Determines if each choice is in the gold.\n",
    "    \"\"\"\n",
    "    is_in_gold = []\n",
    "    for idx, row in results.iterrows():\n",
    "        pmid = row[\"pmid\"]\n",
    "        temp = row[\"id_pair\"].split(\"_induces_\")\n",
    "        annot = Relation(temp[0], temp[1])\n",
    "\n",
    "        is_in_gold.append(int(in_gold(pmid, annot)))\n",
    "        \n",
    "    return is_in_gold"
   ]
  },
  {
   "cell_type": "code",
   "execution_count": 25,
   "metadata": {
    "collapsed": true
   },
   "outputs": [],
   "source": [
    "results[\"in_gold\"] = determine_truth(results)"
   ]
  },
  {
   "cell_type": "code",
   "execution_count": 26,
   "metadata": {
    "collapsed": false
   },
   "outputs": [],
   "source": [
    "results_penalized[\"in_gold\"] = determine_truth(results_penalized)"
   ]
  },
  {
   "cell_type": "code",
   "execution_count": 27,
   "metadata": {
    "collapsed": false,
    "scrolled": false
   },
   "outputs": [
    {
     "data": {
      "text/html": [
       "<div style=\"max-height:1000px;max-width:1500px;overflow:auto;\">\n",
       "<table border=\"1\" class=\"dataframe\">\n",
       "  <thead>\n",
       "    <tr style=\"text-align: right;\">\n",
       "      <th></th>\n",
       "      <th>id_pair</th>\n",
       "      <th>normalized_score</th>\n",
       "      <th>uniq_id</th>\n",
       "      <th>unit_id</th>\n",
       "      <th>pmid</th>\n",
       "      <th>in_gold</th>\n",
       "    </tr>\n",
       "  </thead>\n",
       "  <tbody>\n",
       "    <tr>\n",
       "      <th>3</th>\n",
       "      <td>D005839_induces_D007674</td>\n",
       "      <td>0.794784</td>\n",
       "      <td>bcv_id_45</td>\n",
       "      <td>741091329</td>\n",
       "      <td>1130930</td>\n",
       "      <td>0</td>\n",
       "    </tr>\n",
       "    <tr>\n",
       "      <th>1</th>\n",
       "      <td>D002512_induces_D007674</td>\n",
       "      <td>0.770023</td>\n",
       "      <td>bcv_id_46</td>\n",
       "      <td>741091330</td>\n",
       "      <td>1130930</td>\n",
       "      <td>0</td>\n",
       "    </tr>\n",
       "    <tr>\n",
       "      <th>2</th>\n",
       "      <td>D005839_induces_D007683</td>\n",
       "      <td>0.605403</td>\n",
       "      <td>bcv_id_45</td>\n",
       "      <td>741091329</td>\n",
       "      <td>1130930</td>\n",
       "      <td>1</td>\n",
       "    </tr>\n",
       "    <tr>\n",
       "      <th>0</th>\n",
       "      <td>D002512_induces_D007683</td>\n",
       "      <td>0.594662</td>\n",
       "      <td>bcv_id_46</td>\n",
       "      <td>741091330</td>\n",
       "      <td>1130930</td>\n",
       "      <td>1</td>\n",
       "    </tr>\n",
       "    <tr>\n",
       "      <th>1</th>\n",
       "      <td>D005839_induces_D009846|D051437</td>\n",
       "      <td>0.420701</td>\n",
       "      <td>bcv_id_45</td>\n",
       "      <td>741091329</td>\n",
       "      <td>1130930</td>\n",
       "      <td>1</td>\n",
       "    </tr>\n",
       "    <tr>\n",
       "      <th>0</th>\n",
       "      <td>D002512_induces_D009846|D051437</td>\n",
       "      <td>0.389918</td>\n",
       "      <td>bcv_id_45</td>\n",
       "      <td>741091329</td>\n",
       "      <td>1130930</td>\n",
       "      <td>1</td>\n",
       "    </tr>\n",
       "    <tr>\n",
       "      <th>2</th>\n",
       "      <td>D002512_induces_D051437</td>\n",
       "      <td>0.180698</td>\n",
       "      <td>bcv_id_46</td>\n",
       "      <td>741091330</td>\n",
       "      <td>1130930</td>\n",
       "      <td>0</td>\n",
       "    </tr>\n",
       "    <tr>\n",
       "      <th>4</th>\n",
       "      <td>D005839_induces_D051437</td>\n",
       "      <td>0.000000</td>\n",
       "      <td>bcv_id_45</td>\n",
       "      <td>741091329</td>\n",
       "      <td>1130930</td>\n",
       "      <td>0</td>\n",
       "    </tr>\n",
       "    <tr>\n",
       "      <th>0</th>\n",
       "      <td>D008094_induces_D007674</td>\n",
       "      <td>0.816750</td>\n",
       "      <td>bcv_id_6</td>\n",
       "      <td>741091290</td>\n",
       "      <td>1378968</td>\n",
       "      <td>0</td>\n",
       "    </tr>\n",
       "    <tr>\n",
       "      <th>2</th>\n",
       "      <td>D008094_induces_D006973</td>\n",
       "      <td>0.816750</td>\n",
       "      <td>bcv_id_6</td>\n",
       "      <td>741091290</td>\n",
       "      <td>1378968</td>\n",
       "      <td>1</td>\n",
       "    </tr>\n",
       "    <tr>\n",
       "      <th>3</th>\n",
       "      <td>D008094_induces_D011507</td>\n",
       "      <td>0.816750</td>\n",
       "      <td>bcv_id_6</td>\n",
       "      <td>741091290</td>\n",
       "      <td>1378968</td>\n",
       "      <td>1</td>\n",
       "    </tr>\n",
       "    <tr>\n",
       "      <th>0</th>\n",
       "      <td>D008094_induces_D007676</td>\n",
       "      <td>0.608863</td>\n",
       "      <td>bcv_id_7</td>\n",
       "      <td>741091291</td>\n",
       "      <td>1378968</td>\n",
       "      <td>1</td>\n",
       "    </tr>\n",
       "    <tr>\n",
       "      <th>4</th>\n",
       "      <td>D008094_induces_D051437</td>\n",
       "      <td>0.251959</td>\n",
       "      <td>bcv_id_6</td>\n",
       "      <td>741091290</td>\n",
       "      <td>1378968</td>\n",
       "      <td>0</td>\n",
       "    </tr>\n",
       "    <tr>\n",
       "      <th>1</th>\n",
       "      <td>D003404_induces_D005921</td>\n",
       "      <td>0.000000</td>\n",
       "      <td>bcv_id_6</td>\n",
       "      <td>741091290</td>\n",
       "      <td>1378968</td>\n",
       "      <td>0</td>\n",
       "    </tr>\n",
       "    <tr>\n",
       "      <th>1</th>\n",
       "      <td>D008094_induces_D005921</td>\n",
       "      <td>-0.195569</td>\n",
       "      <td>bcv_id_7</td>\n",
       "      <td>741091291</td>\n",
       "      <td>1378968</td>\n",
       "      <td>0</td>\n",
       "    </tr>\n",
       "    <tr>\n",
       "      <th>0</th>\n",
       "      <td>D003404_induces_D007676</td>\n",
       "      <td>-0.639585</td>\n",
       "      <td>bcv_id_5</td>\n",
       "      <td>741091289</td>\n",
       "      <td>1378968</td>\n",
       "      <td>0</td>\n",
       "    </tr>\n",
       "    <tr>\n",
       "      <th>1</th>\n",
       "      <td>D003404_induces_D006973</td>\n",
       "      <td>-0.819792</td>\n",
       "      <td>bcv_id_5</td>\n",
       "      <td>741091289</td>\n",
       "      <td>1378968</td>\n",
       "      <td>0</td>\n",
       "    </tr>\n",
       "    <tr>\n",
       "      <th>2</th>\n",
       "      <td>D003404_induces_D011507</td>\n",
       "      <td>-0.819792</td>\n",
       "      <td>bcv_id_5</td>\n",
       "      <td>741091289</td>\n",
       "      <td>1378968</td>\n",
       "      <td>0</td>\n",
       "    </tr>\n",
       "    <tr>\n",
       "      <th>3</th>\n",
       "      <td>D003404_induces_D051437</td>\n",
       "      <td>-0.819792</td>\n",
       "      <td>bcv_id_5</td>\n",
       "      <td>741091289</td>\n",
       "      <td>1378968</td>\n",
       "      <td>0</td>\n",
       "    </tr>\n",
       "    <tr>\n",
       "      <th>4</th>\n",
       "      <td>D003404_induces_D007674</td>\n",
       "      <td>-0.819792</td>\n",
       "      <td>bcv_id_5</td>\n",
       "      <td>741091289</td>\n",
       "      <td>1378968</td>\n",
       "      <td>0</td>\n",
       "    </tr>\n",
       "    <tr>\n",
       "      <th>0</th>\n",
       "      <td>D013806_induces_D002318|D005767</td>\n",
       "      <td>0.821600</td>\n",
       "      <td>bcv_id_33</td>\n",
       "      <td>741091317</td>\n",
       "      <td>1835291</td>\n",
       "      <td>1</td>\n",
       "    </tr>\n",
       "    <tr>\n",
       "      <th>1</th>\n",
       "      <td>D013806_induces_D029424</td>\n",
       "      <td>0.401393</td>\n",
       "      <td>bcv_id_33</td>\n",
       "      <td>741091317</td>\n",
       "      <td>1835291</td>\n",
       "      <td>0</td>\n",
       "    </tr>\n",
       "    <tr>\n",
       "      <th>3</th>\n",
       "      <td>D009241_induces_D029424</td>\n",
       "      <td>0.401393</td>\n",
       "      <td>bcv_id_33</td>\n",
       "      <td>741091317</td>\n",
       "      <td>1835291</td>\n",
       "      <td>0</td>\n",
       "    </tr>\n",
       "    <tr>\n",
       "      <th>2</th>\n",
       "      <td>D009241_induces_D002318|D005767</td>\n",
       "      <td>0.000000</td>\n",
       "      <td>bcv_id_33</td>\n",
       "      <td>741091317</td>\n",
       "      <td>1835291</td>\n",
       "      <td>0</td>\n",
       "    </tr>\n",
       "    <tr>\n",
       "      <th>3</th>\n",
       "      <td>C017367_induces_D019965</td>\n",
       "      <td>0.820725</td>\n",
       "      <td>bcv_id_37</td>\n",
       "      <td>741091321</td>\n",
       "      <td>2096243</td>\n",
       "      <td>1</td>\n",
       "    </tr>\n",
       "    <tr>\n",
       "      <th>1</th>\n",
       "      <td>C017367_induces_D056784</td>\n",
       "      <td>0.605043</td>\n",
       "      <td>bcv_id_37</td>\n",
       "      <td>741091321</td>\n",
       "      <td>2096243</td>\n",
       "      <td>1</td>\n",
       "    </tr>\n",
       "    <tr>\n",
       "      <th>0</th>\n",
       "      <td>C017367_induces_D001927</td>\n",
       "      <td>0.000000</td>\n",
       "      <td>bcv_id_37</td>\n",
       "      <td>741091321</td>\n",
       "      <td>2096243</td>\n",
       "      <td>0</td>\n",
       "    </tr>\n",
       "    <tr>\n",
       "      <th>2</th>\n",
       "      <td>C017367_induces_D010554</td>\n",
       "      <td>0.000000</td>\n",
       "      <td>bcv_id_37</td>\n",
       "      <td>741091321</td>\n",
       "      <td>2096243</td>\n",
       "      <td>0</td>\n",
       "    </tr>\n",
       "    <tr>\n",
       "      <th>3</th>\n",
       "      <td>C009265_induces_D004827</td>\n",
       "      <td>0.635173</td>\n",
       "      <td>bcv_id_19</td>\n",
       "      <td>741091303</td>\n",
       "      <td>2265898</td>\n",
       "      <td>1</td>\n",
       "    </tr>\n",
       "    <tr>\n",
       "      <th>1</th>\n",
       "      <td>C009265_induces_D001523</td>\n",
       "      <td>0.273607</td>\n",
       "      <td>bcv_id_19</td>\n",
       "      <td>741091303</td>\n",
       "      <td>2265898</td>\n",
       "      <td>0</td>\n",
       "    </tr>\n",
       "    <tr>\n",
       "      <th>...</th>\n",
       "      <td>...</td>\n",
       "      <td>...</td>\n",
       "      <td>...</td>\n",
       "      <td>...</td>\n",
       "      <td>...</td>\n",
       "      <td>...</td>\n",
       "    </tr>\n",
       "    <tr>\n",
       "      <th>0</th>\n",
       "      <td>D002118_induces_D010024</td>\n",
       "      <td>-0.541888</td>\n",
       "      <td>bcv_id_50</td>\n",
       "      <td>741091334</td>\n",
       "      <td>16167916</td>\n",
       "      <td>0</td>\n",
       "    </tr>\n",
       "    <tr>\n",
       "      <th>1</th>\n",
       "      <td>D002118_induces_D054556</td>\n",
       "      <td>-0.770944</td>\n",
       "      <td>bcv_id_50</td>\n",
       "      <td>741091334</td>\n",
       "      <td>16167916</td>\n",
       "      <td>0</td>\n",
       "    </tr>\n",
       "    <tr>\n",
       "      <th>2</th>\n",
       "      <td>D002118_induces_D001851</td>\n",
       "      <td>-0.770944</td>\n",
       "      <td>bcv_id_50</td>\n",
       "      <td>741091334</td>\n",
       "      <td>16167916</td>\n",
       "      <td>0</td>\n",
       "    </tr>\n",
       "    <tr>\n",
       "      <th>4</th>\n",
       "      <td>D010862_induces_D004827</td>\n",
       "      <td>0.635173</td>\n",
       "      <td>bcv_id_11</td>\n",
       "      <td>741091295</td>\n",
       "      <td>16337777</td>\n",
       "      <td>0</td>\n",
       "    </tr>\n",
       "    <tr>\n",
       "      <th>0</th>\n",
       "      <td>D010862_induces_D004833</td>\n",
       "      <td>0.452760</td>\n",
       "      <td>bcv_id_11</td>\n",
       "      <td>741091295</td>\n",
       "      <td>16337777</td>\n",
       "      <td>1</td>\n",
       "    </tr>\n",
       "    <tr>\n",
       "      <th>1</th>\n",
       "      <td>D010862_induces_D013226</td>\n",
       "      <td>-0.003261</td>\n",
       "      <td>bcv_id_11</td>\n",
       "      <td>741091295</td>\n",
       "      <td>16337777</td>\n",
       "      <td>0</td>\n",
       "    </tr>\n",
       "    <tr>\n",
       "      <th>2</th>\n",
       "      <td>D010862_induces_D003643</td>\n",
       "      <td>-0.182413</td>\n",
       "      <td>bcv_id_11</td>\n",
       "      <td>741091295</td>\n",
       "      <td>16337777</td>\n",
       "      <td>0</td>\n",
       "    </tr>\n",
       "    <tr>\n",
       "      <th>3</th>\n",
       "      <td>D010862_induces_D028361</td>\n",
       "      <td>-0.182413</td>\n",
       "      <td>bcv_id_11</td>\n",
       "      <td>741091295</td>\n",
       "      <td>16337777</td>\n",
       "      <td>0</td>\n",
       "    </tr>\n",
       "    <tr>\n",
       "      <th>3</th>\n",
       "      <td>D019821_induces_D009135</td>\n",
       "      <td>1.000000</td>\n",
       "      <td>bcv_id_17</td>\n",
       "      <td>741091301</td>\n",
       "      <td>17241784</td>\n",
       "      <td>1</td>\n",
       "    </tr>\n",
       "    <tr>\n",
       "      <th>4</th>\n",
       "      <td>D019821_induces_D009336</td>\n",
       "      <td>0.387474</td>\n",
       "      <td>bcv_id_17</td>\n",
       "      <td>741091301</td>\n",
       "      <td>17241784</td>\n",
       "      <td>1</td>\n",
       "    </tr>\n",
       "    <tr>\n",
       "      <th>0</th>\n",
       "      <td>D011239_induces_D009135</td>\n",
       "      <td>0.000000</td>\n",
       "      <td>bcv_id_17</td>\n",
       "      <td>741091301</td>\n",
       "      <td>17241784</td>\n",
       "      <td>0</td>\n",
       "    </tr>\n",
       "    <tr>\n",
       "      <th>1</th>\n",
       "      <td>D008727_induces_D009135</td>\n",
       "      <td>0.000000</td>\n",
       "      <td>bcv_id_17</td>\n",
       "      <td>741091301</td>\n",
       "      <td>17241784</td>\n",
       "      <td>0</td>\n",
       "    </tr>\n",
       "    <tr>\n",
       "      <th>2</th>\n",
       "      <td>D008727_induces_D009336</td>\n",
       "      <td>0.000000</td>\n",
       "      <td>bcv_id_17</td>\n",
       "      <td>741091301</td>\n",
       "      <td>17241784</td>\n",
       "      <td>0</td>\n",
       "    </tr>\n",
       "    <tr>\n",
       "      <th>0</th>\n",
       "      <td>D011239_induces_D009336</td>\n",
       "      <td>-0.554013</td>\n",
       "      <td>bcv_id_18</td>\n",
       "      <td>741091302</td>\n",
       "      <td>17241784</td>\n",
       "      <td>0</td>\n",
       "    </tr>\n",
       "    <tr>\n",
       "      <th>0</th>\n",
       "      <td>D003000_induces_D001919</td>\n",
       "      <td>0.640051</td>\n",
       "      <td>bcv_id_42</td>\n",
       "      <td>741091326</td>\n",
       "      <td>17261653</td>\n",
       "      <td>1</td>\n",
       "    </tr>\n",
       "    <tr>\n",
       "      <th>1</th>\n",
       "      <td>D003000_induces_D001145</td>\n",
       "      <td>0.049082</td>\n",
       "      <td>bcv_id_42</td>\n",
       "      <td>741091326</td>\n",
       "      <td>17261653</td>\n",
       "      <td>0</td>\n",
       "    </tr>\n",
       "    <tr>\n",
       "      <th>2</th>\n",
       "      <td>D003000_induces_D002318</td>\n",
       "      <td>0.049082</td>\n",
       "      <td>bcv_id_42</td>\n",
       "      <td>741091326</td>\n",
       "      <td>17261653</td>\n",
       "      <td>0</td>\n",
       "    </tr>\n",
       "    <tr>\n",
       "      <th>3</th>\n",
       "      <td>D003000_induces_D006333</td>\n",
       "      <td>0.049082</td>\n",
       "      <td>bcv_id_42</td>\n",
       "      <td>741091326</td>\n",
       "      <td>17261653</td>\n",
       "      <td>0</td>\n",
       "    </tr>\n",
       "    <tr>\n",
       "      <th>4</th>\n",
       "      <td>D003000_induces_D003327</td>\n",
       "      <td>0.049082</td>\n",
       "      <td>bcv_id_42</td>\n",
       "      <td>741091326</td>\n",
       "      <td>17261653</td>\n",
       "      <td>0</td>\n",
       "    </tr>\n",
       "    <tr>\n",
       "      <th>0</th>\n",
       "      <td>D009712_induces_D001919</td>\n",
       "      <td>-1.000000</td>\n",
       "      <td>bcv_id_43</td>\n",
       "      <td>741091327</td>\n",
       "      <td>17261653</td>\n",
       "      <td>0</td>\n",
       "    </tr>\n",
       "    <tr>\n",
       "      <th>1</th>\n",
       "      <td>D009712_induces_D001145</td>\n",
       "      <td>-1.000000</td>\n",
       "      <td>bcv_id_43</td>\n",
       "      <td>741091327</td>\n",
       "      <td>17261653</td>\n",
       "      <td>0</td>\n",
       "    </tr>\n",
       "    <tr>\n",
       "      <th>2</th>\n",
       "      <td>D009712_induces_D002318</td>\n",
       "      <td>-1.000000</td>\n",
       "      <td>bcv_id_43</td>\n",
       "      <td>741091327</td>\n",
       "      <td>17261653</td>\n",
       "      <td>0</td>\n",
       "    </tr>\n",
       "    <tr>\n",
       "      <th>3</th>\n",
       "      <td>D009712_induces_D006333</td>\n",
       "      <td>-1.000000</td>\n",
       "      <td>bcv_id_43</td>\n",
       "      <td>741091327</td>\n",
       "      <td>17261653</td>\n",
       "      <td>0</td>\n",
       "    </tr>\n",
       "    <tr>\n",
       "      <th>4</th>\n",
       "      <td>D009712_induces_D003327</td>\n",
       "      <td>-1.000000</td>\n",
       "      <td>bcv_id_43</td>\n",
       "      <td>741091327</td>\n",
       "      <td>17261653</td>\n",
       "      <td>0</td>\n",
       "    </tr>\n",
       "    <tr>\n",
       "      <th>0</th>\n",
       "      <td>D006493_induces_D003288</td>\n",
       "      <td>1.000000</td>\n",
       "      <td>bcv_id_14</td>\n",
       "      <td>741091298</td>\n",
       "      <td>17931375</td>\n",
       "      <td>1</td>\n",
       "    </tr>\n",
       "    <tr>\n",
       "      <th>1</th>\n",
       "      <td>D006493_induces_D010146</td>\n",
       "      <td>1.000000</td>\n",
       "      <td>bcv_id_14</td>\n",
       "      <td>741091298</td>\n",
       "      <td>17931375</td>\n",
       "      <td>1</td>\n",
       "    </tr>\n",
       "    <tr>\n",
       "      <th>2</th>\n",
       "      <td>D020123_induces_D011507</td>\n",
       "      <td>0.189700</td>\n",
       "      <td>bcv_id_44</td>\n",
       "      <td>741091328</td>\n",
       "      <td>18631865</td>\n",
       "      <td>1</td>\n",
       "    </tr>\n",
       "    <tr>\n",
       "      <th>0</th>\n",
       "      <td>D020123_induces_D005921</td>\n",
       "      <td>-0.202575</td>\n",
       "      <td>bcv_id_44</td>\n",
       "      <td>741091328</td>\n",
       "      <td>18631865</td>\n",
       "      <td>0</td>\n",
       "    </tr>\n",
       "    <tr>\n",
       "      <th>1</th>\n",
       "      <td>D020123_induces_D051436</td>\n",
       "      <td>-0.405150</td>\n",
       "      <td>bcv_id_44</td>\n",
       "      <td>741091328</td>\n",
       "      <td>18631865</td>\n",
       "      <td>0</td>\n",
       "    </tr>\n",
       "    <tr>\n",
       "      <th>0</th>\n",
       "      <td>D002211_induces_D010146</td>\n",
       "      <td>1.000000</td>\n",
       "      <td>bcv_id_8</td>\n",
       "      <td>741091292</td>\n",
       "      <td>19269743</td>\n",
       "      <td>1</td>\n",
       "    </tr>\n",
       "  </tbody>\n",
       "</table>\n",
       "<p>188 rows × 6 columns</p>\n",
       "</div>"
      ],
      "text/plain": [
       "                            id_pair  normalized_score    uniq_id    unit_id  \\\n",
       "3           D005839_induces_D007674          0.794784  bcv_id_45  741091329   \n",
       "1           D002512_induces_D007674          0.770023  bcv_id_46  741091330   \n",
       "2           D005839_induces_D007683          0.605403  bcv_id_45  741091329   \n",
       "0           D002512_induces_D007683          0.594662  bcv_id_46  741091330   \n",
       "1   D005839_induces_D009846|D051437          0.420701  bcv_id_45  741091329   \n",
       "0   D002512_induces_D009846|D051437          0.389918  bcv_id_45  741091329   \n",
       "2           D002512_induces_D051437          0.180698  bcv_id_46  741091330   \n",
       "4           D005839_induces_D051437          0.000000  bcv_id_45  741091329   \n",
       "0           D008094_induces_D007674          0.816750   bcv_id_6  741091290   \n",
       "2           D008094_induces_D006973          0.816750   bcv_id_6  741091290   \n",
       "3           D008094_induces_D011507          0.816750   bcv_id_6  741091290   \n",
       "0           D008094_induces_D007676          0.608863   bcv_id_7  741091291   \n",
       "4           D008094_induces_D051437          0.251959   bcv_id_6  741091290   \n",
       "1           D003404_induces_D005921          0.000000   bcv_id_6  741091290   \n",
       "1           D008094_induces_D005921         -0.195569   bcv_id_7  741091291   \n",
       "0           D003404_induces_D007676         -0.639585   bcv_id_5  741091289   \n",
       "1           D003404_induces_D006973         -0.819792   bcv_id_5  741091289   \n",
       "2           D003404_induces_D011507         -0.819792   bcv_id_5  741091289   \n",
       "3           D003404_induces_D051437         -0.819792   bcv_id_5  741091289   \n",
       "4           D003404_induces_D007674         -0.819792   bcv_id_5  741091289   \n",
       "0   D013806_induces_D002318|D005767          0.821600  bcv_id_33  741091317   \n",
       "1           D013806_induces_D029424          0.401393  bcv_id_33  741091317   \n",
       "3           D009241_induces_D029424          0.401393  bcv_id_33  741091317   \n",
       "2   D009241_induces_D002318|D005767          0.000000  bcv_id_33  741091317   \n",
       "3           C017367_induces_D019965          0.820725  bcv_id_37  741091321   \n",
       "1           C017367_induces_D056784          0.605043  bcv_id_37  741091321   \n",
       "0           C017367_induces_D001927          0.000000  bcv_id_37  741091321   \n",
       "2           C017367_induces_D010554          0.000000  bcv_id_37  741091321   \n",
       "3           C009265_induces_D004827          0.635173  bcv_id_19  741091303   \n",
       "1           C009265_induces_D001523          0.273607  bcv_id_19  741091303   \n",
       "..                              ...               ...        ...        ...   \n",
       "0           D002118_induces_D010024         -0.541888  bcv_id_50  741091334   \n",
       "1           D002118_induces_D054556         -0.770944  bcv_id_50  741091334   \n",
       "2           D002118_induces_D001851         -0.770944  bcv_id_50  741091334   \n",
       "4           D010862_induces_D004827          0.635173  bcv_id_11  741091295   \n",
       "0           D010862_induces_D004833          0.452760  bcv_id_11  741091295   \n",
       "1           D010862_induces_D013226         -0.003261  bcv_id_11  741091295   \n",
       "2           D010862_induces_D003643         -0.182413  bcv_id_11  741091295   \n",
       "3           D010862_induces_D028361         -0.182413  bcv_id_11  741091295   \n",
       "3           D019821_induces_D009135          1.000000  bcv_id_17  741091301   \n",
       "4           D019821_induces_D009336          0.387474  bcv_id_17  741091301   \n",
       "0           D011239_induces_D009135          0.000000  bcv_id_17  741091301   \n",
       "1           D008727_induces_D009135          0.000000  bcv_id_17  741091301   \n",
       "2           D008727_induces_D009336          0.000000  bcv_id_17  741091301   \n",
       "0           D011239_induces_D009336         -0.554013  bcv_id_18  741091302   \n",
       "0           D003000_induces_D001919          0.640051  bcv_id_42  741091326   \n",
       "1           D003000_induces_D001145          0.049082  bcv_id_42  741091326   \n",
       "2           D003000_induces_D002318          0.049082  bcv_id_42  741091326   \n",
       "3           D003000_induces_D006333          0.049082  bcv_id_42  741091326   \n",
       "4           D003000_induces_D003327          0.049082  bcv_id_42  741091326   \n",
       "0           D009712_induces_D001919         -1.000000  bcv_id_43  741091327   \n",
       "1           D009712_induces_D001145         -1.000000  bcv_id_43  741091327   \n",
       "2           D009712_induces_D002318         -1.000000  bcv_id_43  741091327   \n",
       "3           D009712_induces_D006333         -1.000000  bcv_id_43  741091327   \n",
       "4           D009712_induces_D003327         -1.000000  bcv_id_43  741091327   \n",
       "0           D006493_induces_D003288          1.000000  bcv_id_14  741091298   \n",
       "1           D006493_induces_D010146          1.000000  bcv_id_14  741091298   \n",
       "2           D020123_induces_D011507          0.189700  bcv_id_44  741091328   \n",
       "0           D020123_induces_D005921         -0.202575  bcv_id_44  741091328   \n",
       "1           D020123_induces_D051436         -0.405150  bcv_id_44  741091328   \n",
       "0           D002211_induces_D010146          1.000000   bcv_id_8  741091292   \n",
       "\n",
       "        pmid  in_gold  \n",
       "3    1130930        0  \n",
       "1    1130930        0  \n",
       "2    1130930        1  \n",
       "0    1130930        1  \n",
       "1    1130930        1  \n",
       "0    1130930        1  \n",
       "2    1130930        0  \n",
       "4    1130930        0  \n",
       "0    1378968        0  \n",
       "2    1378968        1  \n",
       "3    1378968        1  \n",
       "0    1378968        1  \n",
       "4    1378968        0  \n",
       "1    1378968        0  \n",
       "1    1378968        0  \n",
       "0    1378968        0  \n",
       "1    1378968        0  \n",
       "2    1378968        0  \n",
       "3    1378968        0  \n",
       "4    1378968        0  \n",
       "0    1835291        1  \n",
       "1    1835291        0  \n",
       "3    1835291        0  \n",
       "2    1835291        0  \n",
       "3    2096243        1  \n",
       "1    2096243        1  \n",
       "0    2096243        0  \n",
       "2    2096243        0  \n",
       "3    2265898        1  \n",
       "1    2265898        0  \n",
       "..       ...      ...  \n",
       "0   16167916        0  \n",
       "1   16167916        0  \n",
       "2   16167916        0  \n",
       "4   16337777        0  \n",
       "0   16337777        1  \n",
       "1   16337777        0  \n",
       "2   16337777        0  \n",
       "3   16337777        0  \n",
       "3   17241784        1  \n",
       "4   17241784        1  \n",
       "0   17241784        0  \n",
       "1   17241784        0  \n",
       "2   17241784        0  \n",
       "0   17241784        0  \n",
       "0   17261653        1  \n",
       "1   17261653        0  \n",
       "2   17261653        0  \n",
       "3   17261653        0  \n",
       "4   17261653        0  \n",
       "0   17261653        0  \n",
       "1   17261653        0  \n",
       "2   17261653        0  \n",
       "3   17261653        0  \n",
       "4   17261653        0  \n",
       "0   17931375        1  \n",
       "1   17931375        1  \n",
       "2   18631865        1  \n",
       "0   18631865        0  \n",
       "1   18631865        0  \n",
       "0   19269743        1  \n",
       "\n",
       "[188 rows x 6 columns]"
      ]
     },
     "execution_count": 27,
     "metadata": {},
     "output_type": "execute_result"
    }
   ],
   "source": [
    "results"
   ]
  },
  {
   "cell_type": "markdown",
   "metadata": {},
   "source": [
    "### Perform a ROC analysis on all 30 abstracts:"
   ]
  },
  {
   "cell_type": "code",
   "execution_count": 28,
   "metadata": {
    "collapsed": false
   },
   "outputs": [
    {
     "data": {
      "text/plain": [
       "0.904063492063492"
      ]
     },
     "execution_count": 28,
     "metadata": {},
     "output_type": "execute_result"
    }
   ],
   "source": [
    "fname = \"data/roc/job_746297_roc.png\"\n",
    "title = \"ROC curve for all 30 abstracts of job 746297\"\n",
    "get_AUC_value(results, \"normalized_score\", \"in_gold\", fname, title)"
   ]
  },
  {
   "cell_type": "code",
   "execution_count": 29,
   "metadata": {
    "collapsed": false
   },
   "outputs": [
    {
     "data": {
      "image/png": "[encoded data removed]",
      "text/plain": [
       "<IPython.core.display.Image object>"
      ]
     },
     "execution_count": 29,
     "metadata": {},
     "output_type": "execute_result"
    }
   ],
   "source": [
    "Image(filename = fname) "
   ]
  },
  {
   "cell_type": "markdown",
   "metadata": {},
   "source": [
    "We see that the AUC for our run was 0.89. We now want to know at which normalized voting score threshold value we achieve the highest F score, and what the precision and recall are like at that point."
   ]
  },
  {
   "cell_type": "code",
   "execution_count": 30,
   "metadata": {
    "collapsed": false
   },
   "outputs": [
    {
     "data": {
      "text/plain": [
       "0.9046984126984129"
      ]
     },
     "execution_count": 30,
     "metadata": {},
     "output_type": "execute_result"
    }
   ],
   "source": [
    "fname = \"data/roc/job_746297_penalize_unchosen.png\"\n",
    "title = \"ROC curve for all 30 abstracts of job 746297\\nUnchosen choices are penalized\"\n",
    "get_AUC_value(results_penalized, \"normalized_score\", \"in_gold\", fname, title)"
   ]
  },
  {
   "cell_type": "code",
   "execution_count": 31,
   "metadata": {
    "collapsed": false
   },
   "outputs": [
    {
     "data": {
      "image/png": "[encoded data removed]",
      "text/plain": [
       "<IPython.core.display.Image object>"
      ]
     },
     "execution_count": 31,
     "metadata": {},
     "output_type": "execute_result"
    }
   ],
   "source": [
    "Image(filename = fname)"
   ]
  },
  {
   "cell_type": "markdown",
   "metadata": {
    "collapsed": true
   },
   "source": [
    "---"
   ]
  },
  {
   "cell_type": "markdown",
   "metadata": {},
   "source": [
    "### Function for determining F-score:"
   ]
  },
  {
   "cell_type": "code",
   "execution_count": 32,
   "metadata": {
    "collapsed": true
   },
   "outputs": [],
   "source": [
    "def F_score(precision, recall):\n",
    "    return 2 * (precision * recall) / (precision + recall)\n",
    "    \n",
    "def max_F_score(data_frame):\n",
    "    \"\"\"\n",
    "    Given the results dataframe for one or many PMIDs, with the in_gold\n",
    "    column already determined, this function determines the max\n",
    "    F score with respect to the gold standard and the value of\n",
    "    the normalized voting score at which the max F score is achieved.\n",
    "    \"\"\"\n",
    "    EPSILON = 0.0000001\n",
    "    \n",
    "    max_f_score = 0\n",
    "    best_threshold = 9999\n",
    "    best_res = (-1, -1)\n",
    "    \n",
    "    for threshold in data_frame[\"normalized_score\"].unique():\n",
    "        sub = data_frame.query(\"normalized_score > {0} or -{1} <= normalized_score - {0} <= {1}\".format(threshold, EPSILON))\n",
    "        \n",
    "        recall = sum(sub[\"in_gold\"]) / sum(data_frame[\"in_gold\"])\n",
    "        precision = sum(sub[\"in_gold\"]) / len(sub)\n",
    "        \n",
    "        f_score = F_score(precision, recall)\n",
    "        \n",
    "        if f_score > max_f_score:\n",
    "            max_f_score = f_score\n",
    "            best_res = (precision, recall)\n",
    "            best_threshold = threshold\n",
    "            \n",
    "    return (max_f_score, best_res, best_threshold)"
   ]
  },
  {
   "cell_type": "code",
   "execution_count": 33,
   "metadata": {
    "collapsed": false
   },
   "outputs": [
    {
     "data": {
      "text/plain": [
       "(0.79069767441860461,\n",
       " (0.77272727272727271, 0.80952380952380953),\n",
       " 0.40719029820645886)"
      ]
     },
     "execution_count": 33,
     "metadata": {},
     "output_type": "execute_result"
    }
   ],
   "source": [
    "max_F_score(results)"
   ]
  },
  {
   "cell_type": "code",
   "execution_count": 34,
   "metadata": {
    "collapsed": false
   },
   "outputs": [
    {
     "data": {
      "text/plain": [
       "(0.79699248120300747,\n",
       " (0.75714285714285712, 0.84126984126984128),\n",
       " -0.15859725163768901)"
      ]
     },
     "execution_count": 34,
     "metadata": {},
     "output_type": "execute_result"
    }
   ],
   "source": [
    "max_F_score(results_penalized)"
   ]
  },
  {
   "cell_type": "markdown",
   "metadata": {},
   "source": [
    "This shows us that if we take all choices with normalized voting scores above 0.407, we achieve a F-score of 0.79, with a precision of 0.77 and a recall of 0.809."
   ]
  },
  {
   "cell_type": "markdown",
   "metadata": {},
   "source": [
    "When we use the aggregation scheme where unchosen choices are penalized, then we see that we gain a bit more recall at the cost of precision. Overall the results are not too different."
   ]
  },
  {
   "cell_type": "markdown",
   "metadata": {},
   "source": [
    "---"
   ]
  },
  {
   "cell_type": "markdown",
   "metadata": {},
   "source": [
    "### We can look at each paper individually and examine the F-score and AUC value to identify individual papers that the crowd is struggling with:"
   ]
  },
  {
   "cell_type": "code",
   "execution_count": 35,
   "metadata": {
    "collapsed": false
   },
   "outputs": [
    {
     "name": "stdout",
     "output_type": "stream",
     "text": [
      "1835291\n"
     ]
    }
   ],
   "source": [
    "for pmid, group in results.groupby(\"pmid\"):\n",
    "    if sum(group[\"in_gold\"]) != len(gold_relations[str(pmid)]):\n",
    "        print pmid"
   ]
  },
  {
   "cell_type": "code",
   "execution_count": 36,
   "metadata": {
    "collapsed": false,
    "scrolled": true
   },
   "outputs": [
    {
     "data": {
      "text/html": [
       "<div style=\"max-height:1000px;max-width:1500px;overflow:auto;\">\n",
       "<table border=\"1\" class=\"dataframe\">\n",
       "  <thead>\n",
       "    <tr style=\"text-align: right;\">\n",
       "      <th></th>\n",
       "      <th>id_pair</th>\n",
       "      <th>normalized_score</th>\n",
       "      <th>uniq_id</th>\n",
       "      <th>unit_id</th>\n",
       "      <th>pmid</th>\n",
       "      <th>in_gold</th>\n",
       "    </tr>\n",
       "  </thead>\n",
       "  <tbody>\n",
       "    <tr>\n",
       "      <th>0</th>\n",
       "      <td>D013806_induces_D002318|D005767</td>\n",
       "      <td>0.821600</td>\n",
       "      <td>bcv_id_33</td>\n",
       "      <td>741091317</td>\n",
       "      <td>1835291</td>\n",
       "      <td>1</td>\n",
       "    </tr>\n",
       "    <tr>\n",
       "      <th>1</th>\n",
       "      <td>D013806_induces_D029424</td>\n",
       "      <td>0.401393</td>\n",
       "      <td>bcv_id_33</td>\n",
       "      <td>741091317</td>\n",
       "      <td>1835291</td>\n",
       "      <td>0</td>\n",
       "    </tr>\n",
       "    <tr>\n",
       "      <th>3</th>\n",
       "      <td>D009241_induces_D029424</td>\n",
       "      <td>0.401393</td>\n",
       "      <td>bcv_id_33</td>\n",
       "      <td>741091317</td>\n",
       "      <td>1835291</td>\n",
       "      <td>0</td>\n",
       "    </tr>\n",
       "    <tr>\n",
       "      <th>2</th>\n",
       "      <td>D009241_induces_D002318|D005767</td>\n",
       "      <td>0.000000</td>\n",
       "      <td>bcv_id_33</td>\n",
       "      <td>741091317</td>\n",
       "      <td>1835291</td>\n",
       "      <td>0</td>\n",
       "    </tr>\n",
       "  </tbody>\n",
       "</table>\n",
       "</div>"
      ],
      "text/plain": [
       "                           id_pair  normalized_score    uniq_id    unit_id  \\\n",
       "0  D013806_induces_D002318|D005767          0.821600  bcv_id_33  741091317   \n",
       "1          D013806_induces_D029424          0.401393  bcv_id_33  741091317   \n",
       "3          D009241_induces_D029424          0.401393  bcv_id_33  741091317   \n",
       "2  D009241_induces_D002318|D005767          0.000000  bcv_id_33  741091317   \n",
       "\n",
       "      pmid  in_gold  \n",
       "0  1835291        1  \n",
       "1  1835291        0  \n",
       "3  1835291        0  \n",
       "2  1835291        0  "
      ]
     },
     "execution_count": 36,
     "metadata": {},
     "output_type": "execute_result"
    }
   ],
   "source": [
    "results.query(\"pmid == 1835291\")"
   ]
  },
  {
   "cell_type": "markdown",
   "metadata": {},
   "source": [
    "The problem here is that there was one disease which had a composite id, but in the gold standard it is listed as having two gold relations, one for each of the individual components of the id. Therefore we will only ever be able to get 50% recall for this problem because the crowd only makes one choice."
   ]
  },
  {
   "cell_type": "markdown",
   "metadata": {},
   "source": [
    "### What is the AUC for each paper?"
   ]
  },
  {
   "cell_type": "code",
   "execution_count": 37,
   "metadata": {
    "collapsed": false
   },
   "outputs": [],
   "source": [
    "auc = dict()\n",
    "for pmid, group in results.groupby(\"pmid\"):\n",
    "    auc[pmid] = get_AUC_value(group, \"normalized_score\", \"in_gold\")    "
   ]
  },
  {
   "cell_type": "code",
   "execution_count": 38,
   "metadata": {
    "collapsed": false
   },
   "outputs": [
    {
     "data": {
      "text/plain": [
       "[(15602202, 1.0),\n",
       " (1835291, 1.0),\n",
       " (15632880, 1.0),\n",
       " (2265898, 1.0),\n",
       " (3800626, 1),\n",
       " (8590259, 1.0),\n",
       " (2515254, 1.0),\n",
       " (17241784, 1.0),\n",
       " (18631865, 1.0),\n",
       " (10520387, 1.0),\n",
       " (12041669, 1.0),\n",
       " (19269743, 1),\n",
       " (6666578, 1.0),\n",
       " (9522143, 1.0),\n",
       " (8595686, 1.0),\n",
       " (16167916, 1.0),\n",
       " (17931375, 1),\n",
       " (10835440, 1.0),\n",
       " (2096243, 1.0),\n",
       " (17261653, 1.0),\n",
       " (1378968, 0.9259259259259259),\n",
       " (7582165, 0.85),\n",
       " (11569530, 0.8333333333333333),\n",
       " (12198388, 0.7564102564102563),\n",
       " (16337777, 0.75),\n",
       " (11135224, 0.6481481481481481),\n",
       " (6692345, 0.5625),\n",
       " (1130930, 0.5),\n",
       " (2375138, 0.25),\n",
       " (7449470, 0.0)]"
      ]
     },
     "execution_count": 38,
     "metadata": {},
     "output_type": "execute_result"
    }
   ],
   "source": [
    "res = [(key, val) for key, val in auc.items()]\n",
    "res = sorted(res, key = lambda x: -x[1])\n",
    "res"
   ]
  },
  {
   "cell_type": "markdown",
   "metadata": {},
   "source": [
    "### What is the F-score for each paper?"
   ]
  },
  {
   "cell_type": "code",
   "execution_count": 39,
   "metadata": {
    "collapsed": false
   },
   "outputs": [
    {
     "data": {
      "text/plain": [
       "[(15602202, (1.0, (1.0, 1.0), 1.0)),\n",
       " (1835291, (1.0, (1.0, 1.0), 0.82160027472527464)),\n",
       " (15632880, (1.0, (1.0, 1.0), 1.0)),\n",
       " (2265898, (1.0, (1.0, 1.0), 0.63517343432570039)),\n",
       " (3800626, (1.0, (1.0, 1.0), 0.21511737341687059)),\n",
       " (8590259, (1.0, (1.0, 1.0), 0.56677785859396557)),\n",
       " (2515254, (1.0, (1.0, 1.0), 1.0)),\n",
       " (17241784, (1.0, (1.0, 1.0), 0.38747440014158935)),\n",
       " (18631865, (1.0, (1.0, 1.0), 0.18970042089626146)),\n",
       " (10520387, (1.0, (1.0, 1.0), 0.78511787819253442)),\n",
       " (12041669, (1.0, (1.0, 1.0), 1.0)),\n",
       " (19269743, (1.0, (1.0, 1.0), 1.0)),\n",
       " (6666578, (1.0, (1.0, 1.0), 1.0)),\n",
       " (9522143, (1.0, (1.0, 1.0), 0.60625453763209547)),\n",
       " (8595686, (1.0, (1.0, 1.0), 0.81603218210361061)),\n",
       " (16167916, (1.0, (1.0, 1.0), 0.63350046612411504)),\n",
       " (17931375, (1.0, (1.0, 1.0), 1.0)),\n",
       " (10835440, (1.0, (1.0, 1.0), 1.0)),\n",
       " (2096243, (1.0, (1.0, 1.0), 0.60504325963173844)),\n",
       " (17261653, (1.0, (1.0, 1.0), 0.64005139963213986)),\n",
       " (7582165,\n",
       "  (0.88888888888888895, (0.80000000000000004, 1.0), 0.4207013741811555)),\n",
       " (1378968, (0.8571428571428571, (0.75, 1.0), 0.60886283578477507)),\n",
       " (11569530, (0.8571428571428571, (0.75, 1.0), 0.41067543637743487)),\n",
       " (1130930,\n",
       "  (0.80000000000000004, (0.66666666666666663, 1.0), 0.38991774614588975)),\n",
       " (2375138,\n",
       "  (0.80000000000000004, (0.66666666666666663, 1.0), 0.7984328151376956)),\n",
       " (12198388,\n",
       "  (0.80000000000000004, (1.0, 0.66666666666666663), 0.17924715205547304)),\n",
       " (16337777, (0.66666666666666663, (0.5, 1.0), 0.45276015148855059)),\n",
       " (6692345, (0.66666666666666663, (0.5, 1.0), 0.5955175829618623)),\n",
       " (7449470, (0.66666666666666663, (0.5, 1.0), -0.58047642436149316)),\n",
       " (11135224,\n",
       "  (0.63157894736842102, (0.46153846153846156, 1.0), 0.026031434184675857))]"
      ]
     },
     "execution_count": 39,
     "metadata": {},
     "output_type": "execute_result"
    }
   ],
   "source": [
    "best_f = dict()\n",
    "for pmid, group in results.groupby(\"pmid\"):\n",
    "    best_f[pmid] = max_F_score(group)\n",
    "    \n",
    "temp = [(key, val) for key, val in best_f.items()]\n",
    "temp = sorted(temp, key = lambda x: -x[1][0])\n",
    "temp"
   ]
  },
  {
   "cell_type": "code",
   "execution_count": 40,
   "metadata": {
    "collapsed": false
   },
   "outputs": [
    {
     "name": "stdout",
     "output_type": "stream",
     "text": [
      "0.921158451685\n"
     ]
    }
   ],
   "source": [
    "total_f = 0\n",
    "for pmid, val in best_f.items():\n",
    "    total_f += val[0]\n",
    "    \n",
    "print total_f / 30"
   ]
  },
  {
   "cell_type": "markdown",
   "metadata": {},
   "source": [
    "If we use one voting threshold for every paper, then our F-score for the entire dataset is 0.79. However we see that on some papers, the crowd performed very well, while on others did they more poorly. If we had some way of adjusting the cutoff threshold for each paper individually (such as lowering the threshold based on how difficult the crowd thought the paper was), then we can get a much better F-score of 0.92. Of course, we need a good way of determining how we should adjust the cutoff threshold for each paper."
   ]
  },
  {
   "cell_type": "markdown",
   "metadata": {},
   "source": [
    "### A summary of the results:"
   ]
  },
  {
   "cell_type": "code",
   "execution_count": 41,
   "metadata": {
    "collapsed": true
   },
   "outputs": [],
   "source": [
    "data = defaultdict(list)\n",
    "for paper in training_data:\n",
    "    if int(paper.pmid) in used_pmids:\n",
    "        data[\"pmid\"].append(paper.pmid)\n",
    "        data[\"length\"].append(len(paper.title) + len(paper.abstract))\n",
    "        data[\"auc\"].append(auc[int(paper.pmid)])\n",
    "        data[\"f_score\"].append(best_f[int(paper.pmid)][0])\n",
    "        data[\"precision\"].append(best_f[int(paper.pmid)][1][0])\n",
    "        data[\"recall\"].append(best_f[int(paper.pmid)][1][1])\n",
    "        \n",
    "data = pd.DataFrame(data)"
   ]
  },
  {
   "cell_type": "code",
   "execution_count": 42,
   "metadata": {
    "collapsed": false
   },
   "outputs": [
    {
     "data": {
      "text/html": [
       "<div style=\"max-height:1000px;max-width:1500px;overflow:auto;\">\n",
       "<table border=\"1\" class=\"dataframe\">\n",
       "  <thead>\n",
       "    <tr style=\"text-align: right;\">\n",
       "      <th></th>\n",
       "      <th>auc</th>\n",
       "      <th>f_score</th>\n",
       "      <th>length</th>\n",
       "      <th>pmid</th>\n",
       "      <th>precision</th>\n",
       "      <th>recall</th>\n",
       "    </tr>\n",
       "  </thead>\n",
       "  <tbody>\n",
       "    <tr>\n",
       "      <th>0</th>\n",
       "      <td>0.925926</td>\n",
       "      <td>0.857143</td>\n",
       "      <td>1891</td>\n",
       "      <td>1378968</td>\n",
       "      <td>0.750000</td>\n",
       "      <td>1.000000</td>\n",
       "    </tr>\n",
       "    <tr>\n",
       "      <th>1</th>\n",
       "      <td>1.000000</td>\n",
       "      <td>1.000000</td>\n",
       "      <td>866</td>\n",
       "      <td>2515254</td>\n",
       "      <td>1.000000</td>\n",
       "      <td>1.000000</td>\n",
       "    </tr>\n",
       "    <tr>\n",
       "      <th>2</th>\n",
       "      <td>1.000000</td>\n",
       "      <td>1.000000</td>\n",
       "      <td>842</td>\n",
       "      <td>3800626</td>\n",
       "      <td>1.000000</td>\n",
       "      <td>1.000000</td>\n",
       "    </tr>\n",
       "    <tr>\n",
       "      <th>3</th>\n",
       "      <td>0.562500</td>\n",
       "      <td>0.666667</td>\n",
       "      <td>1280</td>\n",
       "      <td>6692345</td>\n",
       "      <td>0.500000</td>\n",
       "      <td>1.000000</td>\n",
       "    </tr>\n",
       "    <tr>\n",
       "      <th>4</th>\n",
       "      <td>1.000000</td>\n",
       "      <td>1.000000</td>\n",
       "      <td>1177</td>\n",
       "      <td>1835291</td>\n",
       "      <td>1.000000</td>\n",
       "      <td>1.000000</td>\n",
       "    </tr>\n",
       "    <tr>\n",
       "      <th>5</th>\n",
       "      <td>0.833333</td>\n",
       "      <td>0.857143</td>\n",
       "      <td>1754</td>\n",
       "      <td>11569530</td>\n",
       "      <td>0.750000</td>\n",
       "      <td>1.000000</td>\n",
       "    </tr>\n",
       "    <tr>\n",
       "      <th>6</th>\n",
       "      <td>1.000000</td>\n",
       "      <td>1.000000</td>\n",
       "      <td>526</td>\n",
       "      <td>12041669</td>\n",
       "      <td>1.000000</td>\n",
       "      <td>1.000000</td>\n",
       "    </tr>\n",
       "    <tr>\n",
       "      <th>7</th>\n",
       "      <td>0.756410</td>\n",
       "      <td>0.800000</td>\n",
       "      <td>2260</td>\n",
       "      <td>12198388</td>\n",
       "      <td>1.000000</td>\n",
       "      <td>0.666667</td>\n",
       "    </tr>\n",
       "    <tr>\n",
       "      <th>8</th>\n",
       "      <td>1.000000</td>\n",
       "      <td>1.000000</td>\n",
       "      <td>1482</td>\n",
       "      <td>16167916</td>\n",
       "      <td>1.000000</td>\n",
       "      <td>1.000000</td>\n",
       "    </tr>\n",
       "    <tr>\n",
       "      <th>9</th>\n",
       "      <td>1.000000</td>\n",
       "      <td>1.000000</td>\n",
       "      <td>1066</td>\n",
       "      <td>17241784</td>\n",
       "      <td>1.000000</td>\n",
       "      <td>1.000000</td>\n",
       "    </tr>\n",
       "    <tr>\n",
       "      <th>10</th>\n",
       "      <td>1.000000</td>\n",
       "      <td>1.000000</td>\n",
       "      <td>1920</td>\n",
       "      <td>17261653</td>\n",
       "      <td>1.000000</td>\n",
       "      <td>1.000000</td>\n",
       "    </tr>\n",
       "    <tr>\n",
       "      <th>11</th>\n",
       "      <td>1.000000</td>\n",
       "      <td>1.000000</td>\n",
       "      <td>914</td>\n",
       "      <td>9522143</td>\n",
       "      <td>1.000000</td>\n",
       "      <td>1.000000</td>\n",
       "    </tr>\n",
       "    <tr>\n",
       "      <th>12</th>\n",
       "      <td>1.000000</td>\n",
       "      <td>1.000000</td>\n",
       "      <td>470</td>\n",
       "      <td>15602202</td>\n",
       "      <td>1.000000</td>\n",
       "      <td>1.000000</td>\n",
       "    </tr>\n",
       "    <tr>\n",
       "      <th>13</th>\n",
       "      <td>1.000000</td>\n",
       "      <td>1.000000</td>\n",
       "      <td>1744</td>\n",
       "      <td>19269743</td>\n",
       "      <td>1.000000</td>\n",
       "      <td>1.000000</td>\n",
       "    </tr>\n",
       "    <tr>\n",
       "      <th>14</th>\n",
       "      <td>0.000000</td>\n",
       "      <td>0.666667</td>\n",
       "      <td>438</td>\n",
       "      <td>7449470</td>\n",
       "      <td>0.500000</td>\n",
       "      <td>1.000000</td>\n",
       "    </tr>\n",
       "    <tr>\n",
       "      <th>15</th>\n",
       "      <td>0.648148</td>\n",
       "      <td>0.631579</td>\n",
       "      <td>2297</td>\n",
       "      <td>11135224</td>\n",
       "      <td>0.461538</td>\n",
       "      <td>1.000000</td>\n",
       "    </tr>\n",
       "    <tr>\n",
       "      <th>16</th>\n",
       "      <td>1.000000</td>\n",
       "      <td>1.000000</td>\n",
       "      <td>1368</td>\n",
       "      <td>8590259</td>\n",
       "      <td>1.000000</td>\n",
       "      <td>1.000000</td>\n",
       "    </tr>\n",
       "    <tr>\n",
       "      <th>17</th>\n",
       "      <td>1.000000</td>\n",
       "      <td>1.000000</td>\n",
       "      <td>787</td>\n",
       "      <td>2096243</td>\n",
       "      <td>1.000000</td>\n",
       "      <td>1.000000</td>\n",
       "    </tr>\n",
       "    <tr>\n",
       "      <th>18</th>\n",
       "      <td>0.850000</td>\n",
       "      <td>0.888889</td>\n",
       "      <td>1418</td>\n",
       "      <td>7582165</td>\n",
       "      <td>0.800000</td>\n",
       "      <td>1.000000</td>\n",
       "    </tr>\n",
       "    <tr>\n",
       "      <th>19</th>\n",
       "      <td>1.000000</td>\n",
       "      <td>1.000000</td>\n",
       "      <td>1054</td>\n",
       "      <td>10520387</td>\n",
       "      <td>1.000000</td>\n",
       "      <td>1.000000</td>\n",
       "    </tr>\n",
       "    <tr>\n",
       "      <th>20</th>\n",
       "      <td>1.000000</td>\n",
       "      <td>1.000000</td>\n",
       "      <td>1792</td>\n",
       "      <td>6666578</td>\n",
       "      <td>1.000000</td>\n",
       "      <td>1.000000</td>\n",
       "    </tr>\n",
       "    <tr>\n",
       "      <th>21</th>\n",
       "      <td>0.500000</td>\n",
       "      <td>0.800000</td>\n",
       "      <td>526</td>\n",
       "      <td>1130930</td>\n",
       "      <td>0.666667</td>\n",
       "      <td>1.000000</td>\n",
       "    </tr>\n",
       "    <tr>\n",
       "      <th>22</th>\n",
       "      <td>1.000000</td>\n",
       "      <td>1.000000</td>\n",
       "      <td>1892</td>\n",
       "      <td>15632880</td>\n",
       "      <td>1.000000</td>\n",
       "      <td>1.000000</td>\n",
       "    </tr>\n",
       "    <tr>\n",
       "      <th>23</th>\n",
       "      <td>1.000000</td>\n",
       "      <td>1.000000</td>\n",
       "      <td>1998</td>\n",
       "      <td>10835440</td>\n",
       "      <td>1.000000</td>\n",
       "      <td>1.000000</td>\n",
       "    </tr>\n",
       "    <tr>\n",
       "      <th>24</th>\n",
       "      <td>0.250000</td>\n",
       "      <td>0.800000</td>\n",
       "      <td>549</td>\n",
       "      <td>2375138</td>\n",
       "      <td>0.666667</td>\n",
       "      <td>1.000000</td>\n",
       "    </tr>\n",
       "    <tr>\n",
       "      <th>25</th>\n",
       "      <td>1.000000</td>\n",
       "      <td>1.000000</td>\n",
       "      <td>671</td>\n",
       "      <td>2265898</td>\n",
       "      <td>1.000000</td>\n",
       "      <td>1.000000</td>\n",
       "    </tr>\n",
       "    <tr>\n",
       "      <th>26</th>\n",
       "      <td>1.000000</td>\n",
       "      <td>1.000000</td>\n",
       "      <td>998</td>\n",
       "      <td>18631865</td>\n",
       "      <td>1.000000</td>\n",
       "      <td>1.000000</td>\n",
       "    </tr>\n",
       "    <tr>\n",
       "      <th>27</th>\n",
       "      <td>0.750000</td>\n",
       "      <td>0.666667</td>\n",
       "      <td>1466</td>\n",
       "      <td>16337777</td>\n",
       "      <td>0.500000</td>\n",
       "      <td>1.000000</td>\n",
       "    </tr>\n",
       "    <tr>\n",
       "      <th>28</th>\n",
       "      <td>1.000000</td>\n",
       "      <td>1.000000</td>\n",
       "      <td>1442</td>\n",
       "      <td>8595686</td>\n",
       "      <td>1.000000</td>\n",
       "      <td>1.000000</td>\n",
       "    </tr>\n",
       "    <tr>\n",
       "      <th>29</th>\n",
       "      <td>1.000000</td>\n",
       "      <td>1.000000</td>\n",
       "      <td>1930</td>\n",
       "      <td>17931375</td>\n",
       "      <td>1.000000</td>\n",
       "      <td>1.000000</td>\n",
       "    </tr>\n",
       "  </tbody>\n",
       "</table>\n",
       "</div>"
      ],
      "text/plain": [
       "         auc   f_score  length      pmid  precision    recall\n",
       "0   0.925926  0.857143    1891   1378968   0.750000  1.000000\n",
       "1   1.000000  1.000000     866   2515254   1.000000  1.000000\n",
       "2   1.000000  1.000000     842   3800626   1.000000  1.000000\n",
       "3   0.562500  0.666667    1280   6692345   0.500000  1.000000\n",
       "4   1.000000  1.000000    1177   1835291   1.000000  1.000000\n",
       "5   0.833333  0.857143    1754  11569530   0.750000  1.000000\n",
       "6   1.000000  1.000000     526  12041669   1.000000  1.000000\n",
       "7   0.756410  0.800000    2260  12198388   1.000000  0.666667\n",
       "8   1.000000  1.000000    1482  16167916   1.000000  1.000000\n",
       "9   1.000000  1.000000    1066  17241784   1.000000  1.000000\n",
       "10  1.000000  1.000000    1920  17261653   1.000000  1.000000\n",
       "11  1.000000  1.000000     914   9522143   1.000000  1.000000\n",
       "12  1.000000  1.000000     470  15602202   1.000000  1.000000\n",
       "13  1.000000  1.000000    1744  19269743   1.000000  1.000000\n",
       "14  0.000000  0.666667     438   7449470   0.500000  1.000000\n",
       "15  0.648148  0.631579    2297  11135224   0.461538  1.000000\n",
       "16  1.000000  1.000000    1368   8590259   1.000000  1.000000\n",
       "17  1.000000  1.000000     787   2096243   1.000000  1.000000\n",
       "18  0.850000  0.888889    1418   7582165   0.800000  1.000000\n",
       "19  1.000000  1.000000    1054  10520387   1.000000  1.000000\n",
       "20  1.000000  1.000000    1792   6666578   1.000000  1.000000\n",
       "21  0.500000  0.800000     526   1130930   0.666667  1.000000\n",
       "22  1.000000  1.000000    1892  15632880   1.000000  1.000000\n",
       "23  1.000000  1.000000    1998  10835440   1.000000  1.000000\n",
       "24  0.250000  0.800000     549   2375138   0.666667  1.000000\n",
       "25  1.000000  1.000000     671   2265898   1.000000  1.000000\n",
       "26  1.000000  1.000000     998  18631865   1.000000  1.000000\n",
       "27  0.750000  0.666667    1466  16337777   0.500000  1.000000\n",
       "28  1.000000  1.000000    1442   8595686   1.000000  1.000000\n",
       "29  1.000000  1.000000    1930  17931375   1.000000  1.000000"
      ]
     },
     "execution_count": 42,
     "metadata": {},
     "output_type": "execute_result"
    }
   ],
   "source": [
    "data"
   ]
  },
  {
   "cell_type": "code",
   "execution_count": 43,
   "metadata": {
    "collapsed": false
   },
   "outputs": [
    {
     "data": {
      "text/plain": [
       "<matplotlib.axes._subplots.AxesSubplot at 0x7f3d6926d310>"
      ]
     },
     "execution_count": 43,
     "metadata": {},
     "output_type": "execute_result"
    },
    {
     "data": {
      "image/png": "[encoded data removed]",
      "text/plain": [
       "<matplotlib.figure.Figure at 0x7f3d69284810>"
      ]
     },
     "metadata": {},
     "output_type": "display_data"
    }
   ],
   "source": [
    "data.plot(kind = \"scatter\", x = \"length\", y = \"auc\")"
   ]
  },
  {
   "cell_type": "code",
   "execution_count": 44,
   "metadata": {
    "collapsed": false
   },
   "outputs": [
    {
     "data": {
      "text/plain": [
       "<matplotlib.axes._subplots.AxesSubplot at 0x7f3d63043b50>"
      ]
     },
     "execution_count": 44,
     "metadata": {},
     "output_type": "execute_result"
    },
    {
     "data": {
      "image/png": "[encoded data removed]",
      "text/plain": [
       "<matplotlib.figure.Figure at 0x7f3d6301ebd0>"
      ]
     },
     "metadata": {},
     "output_type": "display_data"
    }
   ],
   "source": [
    "data.plot(kind = \"scatter\", x = \"length\", y = \"f_score\")"
   ]
  },
  {
   "cell_type": "code",
   "execution_count": 45,
   "metadata": {
    "collapsed": false
   },
   "outputs": [
    {
     "data": {
      "text/plain": [
       "<matplotlib.axes._subplots.AxesSubplot at 0x7f3d62eb6710>"
      ]
     },
     "execution_count": 45,
     "metadata": {},
     "output_type": "execute_result"
    },
    {
     "data": {
      "image/png": "[encoded data removed]",
      "text/plain": [
       "<matplotlib.figure.Figure at 0x7f3d62ebf590>"
      ]
     },
     "metadata": {},
     "output_type": "display_data"
    }
   ],
   "source": [
    "data.plot(kind = \"scatter\", x = \"length\", y = \"precision\")"
   ]
  },
  {
   "cell_type": "code",
   "execution_count": 46,
   "metadata": {
    "collapsed": false
   },
   "outputs": [
    {
     "data": {
      "text/plain": [
       "<matplotlib.axes._subplots.AxesSubplot at 0x7f3d62e92fd0>"
      ]
     },
     "execution_count": 46,
     "metadata": {},
     "output_type": "execute_result"
    },
    {
     "data": {
      "image/png": "[encoded data removed]",
      "text/plain": [
       "<matplotlib.figure.Figure at 0x7f3d62dfdad0>"
      ]
     },
     "metadata": {},
     "output_type": "display_data"
    }
   ],
   "source": [
    "data.plot(kind = \"scatter\", x = \"length\", y = \"recall\")"
   ]
  },
  {
   "cell_type": "markdown",
   "metadata": {},
   "source": [
    "These data suggest that there doesn't seem to be a correlation between how long the abstract was and how well the crowd performed in any of the metrics."
   ]
  }
 ],
 "metadata": {
  "kernelspec": {
   "display_name": "Python 2",
   "language": "python",
   "name": "python2"
  },
  "language_info": {
   "codemirror_mode": {
    "name": "ipython",
    "version": 2
   },
   "file_extension": ".py",
   "mimetype": "text/x-python",
   "name": "python",
   "nbconvert_exporter": "python",
   "pygments_lexer": "ipython2",
   "version": "2.7.10"
  }
 },
 "nbformat": 4,
 "nbformat_minor": 0
}
