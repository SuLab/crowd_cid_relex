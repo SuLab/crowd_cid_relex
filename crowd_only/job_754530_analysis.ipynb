{
 "cells": [
  {
   "cell_type": "markdown",
   "metadata": {},
   "source": [
    "#Analysis of CrowdFlower job #754530: abstract-level chemical-induced disease relation extraction for BioCreative V"
   ]
  },
  {
   "cell_type": "markdown",
   "metadata": {},
   "source": [
    "Tong Shu Li<br>\n",
    "Created on Tuesday 2015-07-21<br>\n",
    "Last updated 2015-07-28"
   ]
  },
  {
   "cell_type": "markdown",
   "metadata": {},
   "source": [
    "Previous work with CrowdFlower tasks #746297 and #748223 showed that:\n",
    "\n",
    "1. Workers performed best on relations which were sentence bound.\n",
    "2. Workers missed some relations when multiple relations were presented.\n",
    "3. Workers picked out the easiest relations to verify when multiple relations were presented.\n",
    "4. Concept name replacement with the semantic type had little influence on performance.\n",
    "\n",
    "Based on these observations, I decided to make the following changes:\n",
    "\n",
    "1. Split the task into two subtasks: one where the relation is sentence bound, and one where the relation is not sentence bound. While the underlying task is almost identical, this allows payments to be structured differently and hopefully for tasks to be processed faster.\n",
    "2. Reduce the number of relations to verify for each passage of text from five to one. This allows each judgement to be simplified to a binary judgement."
   ]
  },
  {
   "cell_type": "markdown",
   "metadata": {},
   "source": [
    "This notebook will analyze the results of the abstract-level task.\n",
    "\n",
    "Parameter | Value\n",
    "--- | ---\n",
    "Job ID | #754530\n",
    "Rows per page | 5\n",
    "Judgements per row | 5\n",
    "Payment per page | 25 cents USD\n",
    "Contributor level | 2\n",
    "Minimum time per page | 30 seconds\n",
    "Minimum accuracy threshold | 70%\n",
    "Number of test questions | 14\n",
    "Date of launch | 5:00 pm on Monday, July 20, 2015\n",
    "Date of completion | 9:00 am on Tuesday, July 21, 2015\n",
    "Total cost before bonuses | \\$43.20 USD\n",
    "Total cost after bonuses | $43.32 USD"
   ]
  },
  {
   "cell_type": "markdown",
   "metadata": {},
   "source": [
    "---"
   ]
  },
  {
   "cell_type": "code",
   "execution_count": 1,
   "metadata": {
    "collapsed": true
   },
   "outputs": [],
   "source": [
    "from __future__ import division\n",
    "from collections import Counter\n",
    "from collections import defaultdict\n",
    "from IPython.display import Image\n",
    "from operator import add\n",
    "import matplotlib as plt\n",
    "import os\n",
    "import pandas as pd\n",
    "import pickle"
   ]
  },
  {
   "cell_type": "code",
   "execution_count": 2,
   "metadata": {
    "collapsed": true
   },
   "outputs": [],
   "source": [
    "matplotlib inline"
   ]
  },
  {
   "cell_type": "code",
   "execution_count": 3,
   "metadata": {
    "collapsed": true
   },
   "outputs": [],
   "source": [
    "%%bash\n",
    "\n",
    "rm src/get_AUC_value.pyc"
   ]
  },
  {
   "cell_type": "code",
   "execution_count": 4,
   "metadata": {
    "collapsed": false
   },
   "outputs": [],
   "source": [
    "from src.filter_data import filter_data\n",
    "from src import data_model\n",
    "from src.data_model import parse_input\n",
    "from src.data_model import Relation\n",
    "from src.get_AUC_value import get_AUC_value"
   ]
  },
  {
   "cell_type": "markdown",
   "metadata": {},
   "source": [
    "###Read the results of job #754530:"
   ]
  },
  {
   "cell_type": "code",
   "execution_count": 5,
   "metadata": {
    "collapsed": true
   },
   "outputs": [],
   "source": [
    "settings = {\n",
    "    \"loc\": \"data/crowdflower/results\",\n",
    "    \"fname\": \"job_754530_full_with_untrusted.csv\",\n",
    "    \"data_subset\": \"normal\",\n",
    "    \"min_accuracy\": 0.7,\n",
    "    \"max_accuracy\": 1.0\n",
    "}\n",
    "\n",
    "raw_data = filter_data(settings)"
   ]
  },
  {
   "cell_type": "code",
   "execution_count": 6,
   "metadata": {
    "collapsed": false
   },
   "outputs": [
    {
     "data": {
      "text/plain": [
       "(485, 27)"
      ]
     },
     "execution_count": 6,
     "metadata": {},
     "output_type": "execute_result"
    }
   ],
   "source": [
    "raw_data.shape"
   ]
  },
  {
   "cell_type": "code",
   "execution_count": 7,
   "metadata": {
    "collapsed": false,
    "scrolled": false
   },
   "outputs": [
    {
     "data": {
      "text/html": [
       "<div>\n",
       "<table border=\"1\" class=\"dataframe\">\n",
       "  <thead>\n",
       "    <tr style=\"text-align: right;\">\n",
       "      <th></th>\n",
       "      <th>_unit_id</th>\n",
       "      <th>_created_at</th>\n",
       "      <th>_golden</th>\n",
       "      <th>_id</th>\n",
       "      <th>_missed</th>\n",
       "      <th>_started_at</th>\n",
       "      <th>_tainted</th>\n",
       "      <th>_channel</th>\n",
       "      <th>_trust</th>\n",
       "      <th>_worker_id</th>\n",
       "      <th>...</th>\n",
       "      <th>disease_id</th>\n",
       "      <th>disease_name</th>\n",
       "      <th>drug_id</th>\n",
       "      <th>drug_name</th>\n",
       "      <th>form_abstract</th>\n",
       "      <th>form_title</th>\n",
       "      <th>pmid</th>\n",
       "      <th>uniq_id</th>\n",
       "      <th>verify_relationship_gold</th>\n",
       "      <th>worker_confidence_gold</th>\n",
       "    </tr>\n",
       "  </thead>\n",
       "  <tbody>\n",
       "    <tr>\n",
       "      <th>0</th>\n",
       "      <td>756359591</td>\n",
       "      <td>7/21/2015 00:30:42</td>\n",
       "      <td>False</td>\n",
       "      <td>1694432011</td>\n",
       "      <td>NaN</td>\n",
       "      <td>7/21/2015 00:29:52</td>\n",
       "      <td>False</td>\n",
       "      <td>gifthunterclub</td>\n",
       "      <td>0.7857</td>\n",
       "      <td>27920569</td>\n",
       "      <td>...</td>\n",
       "      <td>D017180</td>\n",
       "      <td>&lt;span class=\"disease\"&gt;ventricular tachycardia&lt;...</td>\n",
       "      <td>C063968</td>\n",
       "      <td>&lt;span class=\"chemical\"&gt;E4031&lt;/span&gt;</td>\n",
       "      <td>1. Torsades de pointes (TDP) is a potentially ...</td>\n",
       "      <td>Pharmacokinetic/pharmacodynamic assessment of ...</td>\n",
       "      <td>11569530</td>\n",
       "      <td>bcv_hard_0</td>\n",
       "      <td>NaN</td>\n",
       "      <td>NaN</td>\n",
       "    </tr>\n",
       "    <tr>\n",
       "      <th>1</th>\n",
       "      <td>756359591</td>\n",
       "      <td>7/21/2015 00:32:50</td>\n",
       "      <td>False</td>\n",
       "      <td>1694432585</td>\n",
       "      <td>NaN</td>\n",
       "      <td>7/21/2015 00:29:59</td>\n",
       "      <td>False</td>\n",
       "      <td>clixsense</td>\n",
       "      <td>1.0000</td>\n",
       "      <td>20404755</td>\n",
       "      <td>...</td>\n",
       "      <td>D017180</td>\n",
       "      <td>&lt;span class=\"disease\"&gt;ventricular tachycardia&lt;...</td>\n",
       "      <td>C063968</td>\n",
       "      <td>&lt;span class=\"chemical\"&gt;E4031&lt;/span&gt;</td>\n",
       "      <td>1. Torsades de pointes (TDP) is a potentially ...</td>\n",
       "      <td>Pharmacokinetic/pharmacodynamic assessment of ...</td>\n",
       "      <td>11569530</td>\n",
       "      <td>bcv_hard_0</td>\n",
       "      <td>NaN</td>\n",
       "      <td>NaN</td>\n",
       "    </tr>\n",
       "    <tr>\n",
       "      <th>2</th>\n",
       "      <td>756359591</td>\n",
       "      <td>7/21/2015 00:35:07</td>\n",
       "      <td>False</td>\n",
       "      <td>1694433298</td>\n",
       "      <td>NaN</td>\n",
       "      <td>7/21/2015 00:30:09</td>\n",
       "      <td>False</td>\n",
       "      <td>instagc</td>\n",
       "      <td>0.8182</td>\n",
       "      <td>27770607</td>\n",
       "      <td>...</td>\n",
       "      <td>D017180</td>\n",
       "      <td>&lt;span class=\"disease\"&gt;ventricular tachycardia&lt;...</td>\n",
       "      <td>C063968</td>\n",
       "      <td>&lt;span class=\"chemical\"&gt;E4031&lt;/span&gt;</td>\n",
       "      <td>1. Torsades de pointes (TDP) is a potentially ...</td>\n",
       "      <td>Pharmacokinetic/pharmacodynamic assessment of ...</td>\n",
       "      <td>11569530</td>\n",
       "      <td>bcv_hard_0</td>\n",
       "      <td>NaN</td>\n",
       "      <td>NaN</td>\n",
       "    </tr>\n",
       "    <tr>\n",
       "      <th>3</th>\n",
       "      <td>756359591</td>\n",
       "      <td>7/21/2015 00:35:25</td>\n",
       "      <td>False</td>\n",
       "      <td>1694433370</td>\n",
       "      <td>NaN</td>\n",
       "      <td>7/21/2015 00:30:13</td>\n",
       "      <td>False</td>\n",
       "      <td>neodev</td>\n",
       "      <td>0.9091</td>\n",
       "      <td>33534395</td>\n",
       "      <td>...</td>\n",
       "      <td>D017180</td>\n",
       "      <td>&lt;span class=\"disease\"&gt;ventricular tachycardia&lt;...</td>\n",
       "      <td>C063968</td>\n",
       "      <td>&lt;span class=\"chemical\"&gt;E4031&lt;/span&gt;</td>\n",
       "      <td>1. Torsades de pointes (TDP) is a potentially ...</td>\n",
       "      <td>Pharmacokinetic/pharmacodynamic assessment of ...</td>\n",
       "      <td>11569530</td>\n",
       "      <td>bcv_hard_0</td>\n",
       "      <td>NaN</td>\n",
       "      <td>NaN</td>\n",
       "    </tr>\n",
       "    <tr>\n",
       "      <th>4</th>\n",
       "      <td>756359591</td>\n",
       "      <td>7/21/2015 01:09:42</td>\n",
       "      <td>False</td>\n",
       "      <td>1694443215</td>\n",
       "      <td>NaN</td>\n",
       "      <td>7/21/2015 01:00:51</td>\n",
       "      <td>False</td>\n",
       "      <td>points4rewards</td>\n",
       "      <td>0.8889</td>\n",
       "      <td>20113482</td>\n",
       "      <td>...</td>\n",
       "      <td>D017180</td>\n",
       "      <td>&lt;span class=\"disease\"&gt;ventricular tachycardia&lt;...</td>\n",
       "      <td>C063968</td>\n",
       "      <td>&lt;span class=\"chemical\"&gt;E4031&lt;/span&gt;</td>\n",
       "      <td>1. Torsades de pointes (TDP) is a potentially ...</td>\n",
       "      <td>Pharmacokinetic/pharmacodynamic assessment of ...</td>\n",
       "      <td>11569530</td>\n",
       "      <td>bcv_hard_0</td>\n",
       "      <td>NaN</td>\n",
       "      <td>NaN</td>\n",
       "    </tr>\n",
       "  </tbody>\n",
       "</table>\n",
       "<p>5 rows × 27 columns</p>\n",
       "</div>"
      ],
      "text/plain": [
       "    _unit_id         _created_at _golden         _id _missed  \\\n",
       "0  756359591  7/21/2015 00:30:42   False  1694432011     NaN   \n",
       "1  756359591  7/21/2015 00:32:50   False  1694432585     NaN   \n",
       "2  756359591  7/21/2015 00:35:07   False  1694433298     NaN   \n",
       "3  756359591  7/21/2015 00:35:25   False  1694433370     NaN   \n",
       "4  756359591  7/21/2015 01:09:42   False  1694443215     NaN   \n",
       "\n",
       "          _started_at _tainted        _channel  _trust  _worker_id  \\\n",
       "0  7/21/2015 00:29:52    False  gifthunterclub  0.7857    27920569   \n",
       "1  7/21/2015 00:29:59    False       clixsense  1.0000    20404755   \n",
       "2  7/21/2015 00:30:09    False         instagc  0.8182    27770607   \n",
       "3  7/21/2015 00:30:13    False          neodev  0.9091    33534395   \n",
       "4  7/21/2015 01:00:51    False  points4rewards  0.8889    20113482   \n",
       "\n",
       "           ...           disease_id  \\\n",
       "0          ...              D017180   \n",
       "1          ...              D017180   \n",
       "2          ...              D017180   \n",
       "3          ...              D017180   \n",
       "4          ...              D017180   \n",
       "\n",
       "                                        disease_name  drug_id  \\\n",
       "0  <span class=\"disease\">ventricular tachycardia<...  C063968   \n",
       "1  <span class=\"disease\">ventricular tachycardia<...  C063968   \n",
       "2  <span class=\"disease\">ventricular tachycardia<...  C063968   \n",
       "3  <span class=\"disease\">ventricular tachycardia<...  C063968   \n",
       "4  <span class=\"disease\">ventricular tachycardia<...  C063968   \n",
       "\n",
       "                             drug_name  \\\n",
       "0  <span class=\"chemical\">E4031</span>   \n",
       "1  <span class=\"chemical\">E4031</span>   \n",
       "2  <span class=\"chemical\">E4031</span>   \n",
       "3  <span class=\"chemical\">E4031</span>   \n",
       "4  <span class=\"chemical\">E4031</span>   \n",
       "\n",
       "                                       form_abstract  \\\n",
       "0  1. Torsades de pointes (TDP) is a potentially ...   \n",
       "1  1. Torsades de pointes (TDP) is a potentially ...   \n",
       "2  1. Torsades de pointes (TDP) is a potentially ...   \n",
       "3  1. Torsades de pointes (TDP) is a potentially ...   \n",
       "4  1. Torsades de pointes (TDP) is a potentially ...   \n",
       "\n",
       "                                          form_title      pmid     uniq_id  \\\n",
       "0  Pharmacokinetic/pharmacodynamic assessment of ...  11569530  bcv_hard_0   \n",
       "1  Pharmacokinetic/pharmacodynamic assessment of ...  11569530  bcv_hard_0   \n",
       "2  Pharmacokinetic/pharmacodynamic assessment of ...  11569530  bcv_hard_0   \n",
       "3  Pharmacokinetic/pharmacodynamic assessment of ...  11569530  bcv_hard_0   \n",
       "4  Pharmacokinetic/pharmacodynamic assessment of ...  11569530  bcv_hard_0   \n",
       "\n",
       "  verify_relationship_gold worker_confidence_gold  \n",
       "0                      NaN                    NaN  \n",
       "1                      NaN                    NaN  \n",
       "2                      NaN                    NaN  \n",
       "3                      NaN                    NaN  \n",
       "4                      NaN                    NaN  \n",
       "\n",
       "[5 rows x 27 columns]"
      ]
     },
     "execution_count": 7,
     "metadata": {},
     "output_type": "execute_result"
    }
   ],
   "source": [
    "raw_data.head()"
   ]
  },
  {
   "cell_type": "markdown",
   "metadata": {},
   "source": [
    "###Preprocessing:"
   ]
  },
  {
   "cell_type": "markdown",
   "metadata": {},
   "source": [
    "This time, the judgements were binary, and therefore there is no ability for inconsistency in a single worker's judgements. Therefore we do not need to do the consistency check that we performed for jobs #746297 and #748223.\n",
    "\n",
    "We will look at the comments before proceeding to analysis."
   ]
  },
  {
   "cell_type": "markdown",
   "metadata": {},
   "source": [
    "###Comments:"
   ]
  },
  {
   "cell_type": "code",
   "execution_count": 8,
   "metadata": {
    "collapsed": false
   },
   "outputs": [
    {
     "data": {
      "text/plain": [
       "array([nan, 'this test question is wrong',\n",
       "       'All three chemicals {(131 mg/m(2) for paclitaxel (97.3%), 117 mg/m(2) for cisplatin (97.3%), and 1378 mg/m(2) for gemcitabine (86.2% )}  listed are  responsible for the cause of disease.',\n",
       "       'wrong test question',\n",
       "       'All the above three chemicals [31 mg/m(2) for paclitaxel (97.3%), 117 mg/m(2) for cisplatin (97.3%), and 1378 mg/m(2) for gemcitabine (86.2%)] are responsible in causing the disease .',\n",
       "       'Proofs provided aren-t strong enough to relate the disease to the drug',\n",
       "       'This may well be a particularly notable finding in Asian people.'], dtype=object)"
      ]
     },
     "execution_count": 8,
     "metadata": {},
     "output_type": "execute_result"
    }
   ],
   "source": [
    "raw_data[\"comment_box\"].unique()"
   ]
  },
  {
   "cell_type": "markdown",
   "metadata": {},
   "source": [
    "###Test question contentions:\n",
    "\n",
    "Three test questions had a few contentions:\n",
    "\n",
    "PMID | Unit ID | Unique ID\n",
    "--- | --- | ---\n",
    "11569530 | 756407963 | bcv_hard_1\n",
    "15632880 | 756407799 | bcv_hard_49\n",
    "11135224 | 756400982 | bcv_hard_5"
   ]
  },
  {
   "cell_type": "markdown",
   "metadata": {},
   "source": [
    "For bcv_hard_1, the question asked what the relationship between \"cisapride\" and \"ventricular tachycardia\" was. The text clearly says that cisapride causes TDP (Torsades de pointes), and that TDP \"is a potentially fatal ventricular tachycardia\".\n",
    "\n",
    "Some workers contend that the text is saying that cisapride indirectly causes ventricular tachycardia through TDP, instead of no relationship. I put \"no relation\" as the correct answer because ventricular tachycardia is a superclass of TDP, and therefore the causation cannot be direct. The problem now lies in whether we should count this as an indirect cause, different from when the text says something like \"drug induced disease A causes disease B\". The real problem is whether we treat the \"is a\" relationship as a \"causes\" relationship.\n",
    "\n",
    "At this time I have not determined the best way to resolve this conflict. The gold standard says that the relationship does not exist.\n",
    "\n",
    "For bcv_hard_49, the question is what this passage of text means:\n",
    "> Sixty-seven of 926 patients (7.2%) required discontinuation of spironolactone due to hyperkalemia (n = 33) or renal failure (n = 34). Patients who developed hyperkalemia were older and more likely to have diabetes, had higher baseline serum potassium levels and lower baseline potassium supplement doses, and were more likely to be treated with beta-blockers than controls (n = 134).\n",
    "\n",
    "I believe that this means that the patients had diabetes prior to being given the drug, and not that they developed diabetes after receiving the drug, as some workers contended. Specifically the workers chose the indirect relationship choice of spironolactone -> hyperkalemia -> diabetes.\n",
    "\n",
    "Finally, the last contention for bcv_hard_5 was to say that paclitaxel does not cause death, since it is the combination of three drugs which resulted in one death. This is a bit problematic, since the gold also says that this relation does not exist, but as for the contention, I made it clear in the instructions that the drug could work by itself or with other drugs, so I did not forgive the contentions."
   ]
  },
  {
   "cell_type": "markdown",
   "metadata": {},
   "source": [
    "---"
   ]
  },
  {
   "cell_type": "markdown",
   "metadata": {},
   "source": [
    "###Result aggregation:"
   ]
  },
  {
   "cell_type": "markdown",
   "metadata": {},
   "source": [
    "Two methods of voting aggregation are possible for each individual work unit:\n",
    "\n",
    "1. Majority voting: crowd's answer is whatever the most voted answer was. Confidence score for top answer is the % of people who chose the top answer.\n",
    "2. Any number of positive votes: since we only want to know whether the relationship is true or not, we count the total number of positive votes for each work unit. The confidence score is the % of people who chose the positive answer."
   ]
  },
  {
   "cell_type": "markdown",
   "metadata": {},
   "source": [
    "1. group same answers together\n",
    "2. convert answers if necessary\n",
    "3. take majority vote or take only positive answers\n",
    "4. generate results"
   ]
  },
  {
   "cell_type": "code",
   "execution_count": 9,
   "metadata": {
    "collapsed": true
   },
   "outputs": [],
   "source": [
    "def norm_conf_score(dataset):\n",
    "    def convert(val):\n",
    "        mapping = {\n",
    "            \"very_confident\": 4,\n",
    "            \"confident\": 3,\n",
    "            \"not_too_confident\": 2,\n",
    "            \"not_confident\": 1\n",
    "        }\n",
    "        return mapping[val]\n",
    "    \n",
    "    return sum(dataset[\"worker_confidence\"].map(convert)) / len(dataset)"
   ]
  },
  {
   "cell_type": "code",
   "execution_count": 10,
   "metadata": {
    "collapsed": true
   },
   "outputs": [],
   "source": [
    "def aggregate_votes(column_name, data_frame, mapping = None):\n",
    "    \"\"\"\n",
    "    Given all of the human responses for one work unit,\n",
    "    aggregates the results based on the column you give it.\n",
    "\n",
    "    For each possible choice, it calculates:\n",
    "        1. Total number of votes for that choice.\n",
    "        2. Sum of trust scores of people who chose that choice.\n",
    "\n",
    "    Returns an unsorted data frame of the results.\n",
    "\n",
    "    Confidence score is the sum of the trust score of\n",
    "    individual workers.\n",
    "    \n",
    "    If given a mapping, will convert answers.\n",
    "    \"\"\"\n",
    "    # number of votes and sum trust score for each unique choice\n",
    "    res = dict()\n",
    "    for value, group in data_frame.groupby(column_name):\n",
    "        conf_score = sum(group[\"_trust\"])\n",
    "        num_votes = len(group) # assuming unique workers for each work unit\n",
    "        \n",
    "        if mapping is not None and value in mapping: # only convert those which need to be changed\n",
    "            value = mapping[value]\n",
    "            \n",
    "        if value in res:\n",
    "            res[value] = map(add, res[value], [conf_score, num_votes])\n",
    "        else:\n",
    "            res[value] = [conf_score, num_votes]\n",
    "            \n",
    "    temp = [[key] + value for key, value in res.items()] # make rows of data frame\n",
    "    return pd.DataFrame(temp, columns = [column_name, \"conf_score\", \"num_votes\"])"
   ]
  },
  {
   "cell_type": "code",
   "execution_count": 11,
   "metadata": {
    "collapsed": false
   },
   "outputs": [],
   "source": [
    "# last updated 2015-04-16 Tong Shu Li\n",
    "\"\"\"\n",
    "Takes raw CrowdFlower data and groups data together by\n",
    "individual work units. Aggregates the votes based on\n",
    "a specific column and creates a summary data frame.\n",
    "\"\"\"\n",
    "def aggregate_results(id_column, agg_column, data, reporting_method, metadata_columns,\n",
    "                      reporting_value = None, mapping = None):\n",
    "    \"\"\"\n",
    "    Collect votes together for each individual work unit.\n",
    "    Choose one of two result reporting methods:\n",
    "        1. Majority vote\n",
    "        2. Positive signal only\n",
    "        \n",
    "    reporting_method: {\"majority_vote\", \"positive_signal_only\"}\n",
    "    if reporting_method == \"positive_signal_only\":\n",
    "        reporting_value is the label of the positive value in the aggregation column\n",
    "    \"\"\"\n",
    "    assert reporting_method in {\"majority_vote\", \"positive_signal_only\"}, \"Wrong result reporting method!\"\n",
    "    \n",
    "    result = []\n",
    "    for identifier, group in data.groupby(id_column):\n",
    "        # group the votes together and convert if necessary\n",
    "        ans = aggregate_votes(agg_column, group, mapping)\n",
    "        \n",
    "        if reporting_method == \"positive_signal_only\":\n",
    "            positive_result = ans.query(\"{0} == '{1}'\".format(agg_column, reporting_value))\n",
    "            if positive_result.empty:\n",
    "                # no worker chose the positive choice, so create an empty entry\n",
    "                temp = pd.DataFrame([[reporting_value, 0, 0]], columns = [agg_column, \"conf_score\", \"num_votes\"])\n",
    "                ans = ans.append(temp)\n",
    "        \n",
    "        # figure out what percentage of the workers chose each choice\n",
    "        total_vote_score = sum(ans[\"conf_score\"])\n",
    "        ans.loc[:, \"percent_agree\"] = ans.loc[:, \"conf_score\"] / total_vote_score\n",
    "        \n",
    "        ans.insert(0, id_column, identifier)\n",
    "        \n",
    "        # copy the metadata columns over (e.g., pmid, unit id)\n",
    "        for column_name in metadata_columns:\n",
    "            assert len(group[column_name].unique()) == 1\n",
    "            value = group[column_name].iloc[0]\n",
    "            ans.loc[:, column_name.lstrip('_')] = value\n",
    "            \n",
    "        # sort results\n",
    "        # decreasing confidence score if doing majority vote\n",
    "        # put positive result at the top if doing positive result method\n",
    "        \n",
    "        if reporting_method == \"majority_vote\":\n",
    "            ans = ans.sort([\"conf_score\"], ascending = False)\n",
    "            result.append(ans)\n",
    "        else:\n",
    "            # put positive result at the top\n",
    "            positive_result = ans.query(\"{0} == '{1}'\".format(agg_column, reporting_value))\n",
    "            temp = ans.query(\"{0} != '{1}'\".format(agg_column, reporting_value))\n",
    "            temp = temp.sort([\"conf_score\"], ascending = False)\n",
    "            \n",
    "            result.append(pd.concat([positive_result, temp]))\n",
    "\n",
    "    return pd.concat(result)"
   ]
  },
  {
   "cell_type": "code",
   "execution_count": 12,
   "metadata": {
    "collapsed": true
   },
   "outputs": [],
   "source": [
    "def F_score(precision, recall):\n",
    "    return 2 * (precision * recall) / (precision + recall)\n",
    "    \n",
    "def all_F_scores(score_column, class_column, data_frame):\n",
    "    \"\"\"\n",
    "    Given a dataframe of results, calculates the F-score,\n",
    "    precision, and recall for all possible threshold levels.\n",
    "\n",
    "    score_column = name of column containing the threshold rating score\n",
    "    class_column = name of column containing 0 if not true according to\n",
    "        the gold standard, and 1 if true\n",
    "    \"\"\"\n",
    "    EPSILON = 0.0000001\n",
    "    \n",
    "    res = defaultdict(list)\n",
    "    \n",
    "    for threshold in data_frame[score_column].unique():\n",
    "        sub = data_frame.query(\"{0} > {1} or -{2} <= {0} - {1} <= {2}\".format(score_column, threshold, EPSILON))\n",
    "        \n",
    "        recall = sum(sub[class_column]) / sum(data_frame[class_column])\n",
    "        precision = sum(sub[class_column]) / len(sub)\n",
    "        \n",
    "        f_score = F_score(precision, recall)\n",
    "        \n",
    "        res[\"recall\"].append(recall)\n",
    "        res[\"precision\"].append(precision)\n",
    "        res[\"F_score\"].append(f_score)\n",
    "        res[\"threshold\"].append(threshold)\n",
    "        \n",
    "    return pd.DataFrame(res)    \n",
    "    \n",
    "def max_F_score(score_column, class_column, data_frame):\n",
    "    \"\"\"\n",
    "    Finds the maximum F-score for a given dataframe with\n",
    "    results. Also returns the precision, recall, and\n",
    "    threshold at which the maximum F-score is achieved.\n",
    "    \"\"\"\n",
    "    res = all_F_scores(score_column, class_column, data_frame)\n",
    "    idx = res[\"F_score\"].idxmax()\n",
    "    return res.loc[idx]"
   ]
  },
  {
   "cell_type": "code",
   "execution_count": 13,
   "metadata": {
    "collapsed": false
   },
   "outputs": [],
   "source": [
    "res = aggregate_results(\"uniq_id\", \"verify_relationship\", raw_data, \"majority_vote\", [\"pmid\", \"_unit_id\"])"
   ]
  },
  {
   "cell_type": "code",
   "execution_count": 14,
   "metadata": {
    "collapsed": false,
    "scrolled": true
   },
   "outputs": [
    {
     "data": {
      "text/html": [
       "<div>\n",
       "<table border=\"1\" class=\"dataframe\">\n",
       "  <thead>\n",
       "    <tr style=\"text-align: right;\">\n",
       "      <th></th>\n",
       "      <th>uniq_id</th>\n",
       "      <th>verify_relationship</th>\n",
       "      <th>conf_score</th>\n",
       "      <th>num_votes</th>\n",
       "      <th>percent_agree</th>\n",
       "      <th>pmid</th>\n",
       "      <th>unit_id</th>\n",
       "    </tr>\n",
       "  </thead>\n",
       "  <tbody>\n",
       "    <tr>\n",
       "      <th>0</th>\n",
       "      <td>bcv_hard_0</td>\n",
       "      <td>no_relation</td>\n",
       "      <td>4.4019</td>\n",
       "      <td>5</td>\n",
       "      <td>1.000000</td>\n",
       "      <td>11569530</td>\n",
       "      <td>756359591</td>\n",
       "    </tr>\n",
       "    <tr>\n",
       "      <th>2</th>\n",
       "      <td>bcv_hard_1</td>\n",
       "      <td>no_relation</td>\n",
       "      <td>1.7142</td>\n",
       "      <td>2</td>\n",
       "      <td>0.404493</td>\n",
       "      <td>11569530</td>\n",
       "      <td>756359592</td>\n",
       "    </tr>\n",
       "    <tr>\n",
       "      <th>1</th>\n",
       "      <td>bcv_hard_1</td>\n",
       "      <td>yes_direct</td>\n",
       "      <td>1.6904</td>\n",
       "      <td>2</td>\n",
       "      <td>0.398877</td>\n",
       "      <td>11569530</td>\n",
       "      <td>756359592</td>\n",
       "    </tr>\n",
       "    <tr>\n",
       "      <th>0</th>\n",
       "      <td>bcv_hard_1</td>\n",
       "      <td>yes_indirect</td>\n",
       "      <td>0.8333</td>\n",
       "      <td>1</td>\n",
       "      <td>0.196630</td>\n",
       "      <td>11569530</td>\n",
       "      <td>756359592</td>\n",
       "    </tr>\n",
       "    <tr>\n",
       "      <th>0</th>\n",
       "      <td>bcv_hard_10</td>\n",
       "      <td>yes_direct</td>\n",
       "      <td>4.4417</td>\n",
       "      <td>5</td>\n",
       "      <td>1.000000</td>\n",
       "      <td>11135224</td>\n",
       "      <td>756359601</td>\n",
       "    </tr>\n",
       "  </tbody>\n",
       "</table>\n",
       "</div>"
      ],
      "text/plain": [
       "       uniq_id verify_relationship  conf_score  num_votes  percent_agree  \\\n",
       "0   bcv_hard_0         no_relation      4.4019          5       1.000000   \n",
       "2   bcv_hard_1         no_relation      1.7142          2       0.404493   \n",
       "1   bcv_hard_1          yes_direct      1.6904          2       0.398877   \n",
       "0   bcv_hard_1        yes_indirect      0.8333          1       0.196630   \n",
       "0  bcv_hard_10          yes_direct      4.4417          5       1.000000   \n",
       "\n",
       "       pmid    unit_id  \n",
       "0  11569530  756359591  \n",
       "2  11569530  756359592  \n",
       "1  11569530  756359592  \n",
       "0  11569530  756359592  \n",
       "0  11135224  756359601  "
      ]
     },
     "execution_count": 14,
     "metadata": {},
     "output_type": "execute_result"
    }
   ],
   "source": [
    "res.head()"
   ]
  },
  {
   "cell_type": "markdown",
   "metadata": {},
   "source": [
    "###Dealing with yes_indirect relationships:"
   ]
  },
  {
   "cell_type": "markdown",
   "metadata": {},
   "source": [
    "There are two ways to map the results:\n",
    "\n",
    "1. Convert yes_indirect to a \"yes\"\n",
    "2. Convert yes_indirect to a \"no\""
   ]
  },
  {
   "cell_type": "code",
   "execution_count": 15,
   "metadata": {
    "collapsed": true
   },
   "outputs": [],
   "source": [
    "mapping1 = {\n",
    "    \"yes_direct\": \"yes_relation\",\n",
    "    \"yes_indirect\": \"yes_relation\",\n",
    "    \"no_relation\": \"no_relation\"\n",
    "}\n",
    "\n",
    "mapping2 = {\n",
    "    \"yes_direct\": \"yes_relation\",\n",
    "    \"yes_indirect\": \"no_relation\",\n",
    "    \"no_relation\": \"no_relation\"\n",
    "}\n",
    "\n",
    "res_yes = aggregate_results(\"uniq_id\", \"verify_relationship\", raw_data, \"majority_vote\",\n",
    "                            [\"pmid\", \"_unit_id\"], mapping = mapping1)\n",
    "\n",
    "res_no = aggregate_results(\"uniq_id\", \"verify_relationship\", raw_data, \"majority_vote\",\n",
    "                           [\"pmid\", \"_unit_id\"], mapping = mapping2)"
   ]
  },
  {
   "cell_type": "code",
   "execution_count": 16,
   "metadata": {
    "collapsed": false
   },
   "outputs": [
    {
     "data": {
      "text/html": [
       "<div>\n",
       "<table border=\"1\" class=\"dataframe\">\n",
       "  <thead>\n",
       "    <tr style=\"text-align: right;\">\n",
       "      <th></th>\n",
       "      <th>uniq_id</th>\n",
       "      <th>verify_relationship</th>\n",
       "      <th>conf_score</th>\n",
       "      <th>num_votes</th>\n",
       "      <th>percent_agree</th>\n",
       "      <th>pmid</th>\n",
       "      <th>unit_id</th>\n",
       "    </tr>\n",
       "  </thead>\n",
       "  <tbody>\n",
       "    <tr>\n",
       "      <th>0</th>\n",
       "      <td>bcv_hard_0</td>\n",
       "      <td>no_relation</td>\n",
       "      <td>4.4019</td>\n",
       "      <td>5</td>\n",
       "      <td>1.000000</td>\n",
       "      <td>11569530</td>\n",
       "      <td>756359591</td>\n",
       "    </tr>\n",
       "    <tr>\n",
       "      <th>0</th>\n",
       "      <td>bcv_hard_1</td>\n",
       "      <td>yes_relation</td>\n",
       "      <td>2.5237</td>\n",
       "      <td>3</td>\n",
       "      <td>0.595507</td>\n",
       "      <td>11569530</td>\n",
       "      <td>756359592</td>\n",
       "    </tr>\n",
       "    <tr>\n",
       "      <th>1</th>\n",
       "      <td>bcv_hard_1</td>\n",
       "      <td>no_relation</td>\n",
       "      <td>1.7142</td>\n",
       "      <td>2</td>\n",
       "      <td>0.404493</td>\n",
       "      <td>11569530</td>\n",
       "      <td>756359592</td>\n",
       "    </tr>\n",
       "    <tr>\n",
       "      <th>0</th>\n",
       "      <td>bcv_hard_10</td>\n",
       "      <td>yes_relation</td>\n",
       "      <td>4.4417</td>\n",
       "      <td>5</td>\n",
       "      <td>1.000000</td>\n",
       "      <td>11135224</td>\n",
       "      <td>756359601</td>\n",
       "    </tr>\n",
       "    <tr>\n",
       "      <th>0</th>\n",
       "      <td>bcv_hard_11</td>\n",
       "      <td>yes_relation</td>\n",
       "      <td>3.5659</td>\n",
       "      <td>4</td>\n",
       "      <td>0.819446</td>\n",
       "      <td>11135224</td>\n",
       "      <td>756359602</td>\n",
       "    </tr>\n",
       "  </tbody>\n",
       "</table>\n",
       "</div>"
      ],
      "text/plain": [
       "       uniq_id verify_relationship  conf_score  num_votes  percent_agree  \\\n",
       "0   bcv_hard_0         no_relation      4.4019          5       1.000000   \n",
       "0   bcv_hard_1        yes_relation      2.5237          3       0.595507   \n",
       "1   bcv_hard_1         no_relation      1.7142          2       0.404493   \n",
       "0  bcv_hard_10        yes_relation      4.4417          5       1.000000   \n",
       "0  bcv_hard_11        yes_relation      3.5659          4       0.819446   \n",
       "\n",
       "       pmid    unit_id  \n",
       "0  11569530  756359591  \n",
       "0  11569530  756359592  \n",
       "1  11569530  756359592  \n",
       "0  11135224  756359601  \n",
       "0  11135224  756359602  "
      ]
     },
     "execution_count": 16,
     "metadata": {},
     "output_type": "execute_result"
    }
   ],
   "source": [
    "res_yes.head()"
   ]
  },
  {
   "cell_type": "code",
   "execution_count": 17,
   "metadata": {
    "collapsed": false
   },
   "outputs": [
    {
     "data": {
      "text/html": [
       "<div>\n",
       "<table border=\"1\" class=\"dataframe\">\n",
       "  <thead>\n",
       "    <tr style=\"text-align: right;\">\n",
       "      <th></th>\n",
       "      <th>uniq_id</th>\n",
       "      <th>verify_relationship</th>\n",
       "      <th>conf_score</th>\n",
       "      <th>num_votes</th>\n",
       "      <th>percent_agree</th>\n",
       "      <th>pmid</th>\n",
       "      <th>unit_id</th>\n",
       "    </tr>\n",
       "  </thead>\n",
       "  <tbody>\n",
       "    <tr>\n",
       "      <th>0</th>\n",
       "      <td>bcv_hard_0</td>\n",
       "      <td>no_relation</td>\n",
       "      <td>4.4019</td>\n",
       "      <td>5</td>\n",
       "      <td>1.000000</td>\n",
       "      <td>11569530</td>\n",
       "      <td>756359591</td>\n",
       "    </tr>\n",
       "    <tr>\n",
       "      <th>1</th>\n",
       "      <td>bcv_hard_1</td>\n",
       "      <td>no_relation</td>\n",
       "      <td>2.5475</td>\n",
       "      <td>3</td>\n",
       "      <td>0.601123</td>\n",
       "      <td>11569530</td>\n",
       "      <td>756359592</td>\n",
       "    </tr>\n",
       "    <tr>\n",
       "      <th>0</th>\n",
       "      <td>bcv_hard_1</td>\n",
       "      <td>yes_relation</td>\n",
       "      <td>1.6904</td>\n",
       "      <td>2</td>\n",
       "      <td>0.398877</td>\n",
       "      <td>11569530</td>\n",
       "      <td>756359592</td>\n",
       "    </tr>\n",
       "    <tr>\n",
       "      <th>0</th>\n",
       "      <td>bcv_hard_10</td>\n",
       "      <td>yes_relation</td>\n",
       "      <td>4.4417</td>\n",
       "      <td>5</td>\n",
       "      <td>1.000000</td>\n",
       "      <td>11135224</td>\n",
       "      <td>756359601</td>\n",
       "    </tr>\n",
       "    <tr>\n",
       "      <th>0</th>\n",
       "      <td>bcv_hard_11</td>\n",
       "      <td>yes_relation</td>\n",
       "      <td>3.5659</td>\n",
       "      <td>4</td>\n",
       "      <td>0.819446</td>\n",
       "      <td>11135224</td>\n",
       "      <td>756359602</td>\n",
       "    </tr>\n",
       "  </tbody>\n",
       "</table>\n",
       "</div>"
      ],
      "text/plain": [
       "       uniq_id verify_relationship  conf_score  num_votes  percent_agree  \\\n",
       "0   bcv_hard_0         no_relation      4.4019          5       1.000000   \n",
       "1   bcv_hard_1         no_relation      2.5475          3       0.601123   \n",
       "0   bcv_hard_1        yes_relation      1.6904          2       0.398877   \n",
       "0  bcv_hard_10        yes_relation      4.4417          5       1.000000   \n",
       "0  bcv_hard_11        yes_relation      3.5659          4       0.819446   \n",
       "\n",
       "       pmid    unit_id  \n",
       "0  11569530  756359591  \n",
       "1  11569530  756359592  \n",
       "0  11569530  756359592  \n",
       "0  11135224  756359601  \n",
       "0  11135224  756359602  "
      ]
     },
     "execution_count": 17,
     "metadata": {},
     "output_type": "execute_result"
    }
   ],
   "source": [
    "res_no.head()"
   ]
  },
  {
   "cell_type": "markdown",
   "metadata": {},
   "source": [
    "---"
   ]
  },
  {
   "cell_type": "markdown",
   "metadata": {},
   "source": [
    "###Read the gold standard:"
   ]
  },
  {
   "cell_type": "code",
   "execution_count": 18,
   "metadata": {
    "collapsed": false
   },
   "outputs": [
    {
     "name": "stdout",
     "output_type": "stream",
     "text": [
      "Reading cached version of training set\n"
     ]
    }
   ],
   "source": [
    "if os.path.exists(\"data/training/parsed_training_set.pickle\"):\n",
    "    print \"Reading cached version of training set\"\n",
    "    with open(\"data/training/parsed_training_set.pickle\", \"rb\") as fin:\n",
    "        training_data = pickle.load(fin)\n",
    "else:\n",
    "    training_data = parse_input(\"data/training\", \"CDR_TrainingSet.txt\")\n",
    "    with open(\"data/training/parsed_training_set.pickle\", \"wb\") as fout:\n",
    "        pickle.dump(training_data, fout)"
   ]
  },
  {
   "cell_type": "code",
   "execution_count": 19,
   "metadata": {
    "collapsed": true
   },
   "outputs": [],
   "source": [
    "testset_pmids = set(raw_data[\"pmid\"].unique())"
   ]
  },
  {
   "cell_type": "code",
   "execution_count": 20,
   "metadata": {
    "collapsed": false
   },
   "outputs": [
    {
     "data": {
      "text/plain": [
       "{1130930,\n",
       " 1378968,\n",
       " 1835291,\n",
       " 2096243,\n",
       " 2265898,\n",
       " 2375138,\n",
       " 3800626,\n",
       " 6666578,\n",
       " 7449470,\n",
       " 7582165,\n",
       " 8590259,\n",
       " 8595686,\n",
       " 9522143,\n",
       " 10835440,\n",
       " 11135224,\n",
       " 11569530,\n",
       " 12198388,\n",
       " 15602202,\n",
       " 15632880,\n",
       " 16167916,\n",
       " 16337777,\n",
       " 17241784,\n",
       " 17261653,\n",
       " 18631865}"
      ]
     },
     "execution_count": 20,
     "metadata": {},
     "output_type": "execute_result"
    }
   ],
   "source": [
    "testset_pmids"
   ]
  },
  {
   "cell_type": "code",
   "execution_count": 21,
   "metadata": {
    "collapsed": true
   },
   "outputs": [],
   "source": [
    "def get_subset(dataset, papers):\n",
    "    return {paper.pmid : paper for paper in papers if paper.pmid in dataset}\n",
    "\n",
    "testset = get_subset(testset_pmids, training_data)"
   ]
  },
  {
   "cell_type": "markdown",
   "metadata": {},
   "source": [
    "We have fewer than the original 30 work units because some of them had relations which were exclusively sentence-bound."
   ]
  },
  {
   "cell_type": "code",
   "execution_count": 22,
   "metadata": {
    "collapsed": false,
    "scrolled": true
   },
   "outputs": [
    {
     "data": {
      "text/plain": [
       "24"
      ]
     },
     "execution_count": 22,
     "metadata": {},
     "output_type": "execute_result"
    }
   ],
   "source": [
    "len(testset)"
   ]
  },
  {
   "cell_type": "markdown",
   "metadata": {},
   "source": [
    "---"
   ]
  },
  {
   "cell_type": "markdown",
   "metadata": {},
   "source": [
    "###Evaluate crowd performance against the gold standard:"
   ]
  },
  {
   "cell_type": "markdown",
   "metadata": {},
   "source": [
    "We will now check how the crowd did against the gold standard. To do this we will take the top answer as the official crowd response and compare it to the gold."
   ]
  },
  {
   "cell_type": "code",
   "execution_count": 23,
   "metadata": {
    "collapsed": true
   },
   "outputs": [],
   "source": [
    "def get_class(in_gold, crowd_resp):\n",
    "    mapping = {\n",
    "        True : {\n",
    "            \"yes_relation\": \"true_pos\",\n",
    "            \"no_relation\": \"false_neg\"\n",
    "        },\n",
    "        False : {\n",
    "            \"yes_relation\": \"false_pos\",\n",
    "            \"no_relation\": \"true_neg\"\n",
    "        }\n",
    "    }\n",
    "    \n",
    "    return mapping[in_gold][crowd_resp]"
   ]
  },
  {
   "cell_type": "code",
   "execution_count": 24,
   "metadata": {
    "collapsed": false
   },
   "outputs": [],
   "source": [
    "def evaluate_performance(results, raw_data, gold_std):\n",
    "    \"\"\"\n",
    "    Summarizes the crowd's performance against the gold standard\n",
    "    and returns a summary dataframe.\n",
    "    \"\"\"\n",
    "    res = defaultdict(list)\n",
    "    \n",
    "    for uniq_id, group in results.groupby(\"uniq_id\"):\n",
    "        assert len(group[\"pmid\"].unique()) == 1\n",
    "        pmid = group[\"pmid\"].iloc[0]\n",
    "        \n",
    "        # grab the relation pair for this work unit\n",
    "        datarow = raw_data.query(\"uniq_id == '{0}'\".format(uniq_id)).iloc[0]\n",
    "        \n",
    "        chemical_id = datarow[\"drug_id\"]\n",
    "        disease_id = datarow[\"disease_id\"]\n",
    "        \n",
    "        rel = Relation(chemical_id, disease_id)\n",
    "        \n",
    "        in_gold = int(gold_std[pmid].has_relation(rel))\n",
    "        \n",
    "        # now we check if the crowd's answer matched the gold\n",
    "        crowd_ans = group[\"verify_relationship\"].iloc[0]\n",
    "        assert crowd_ans in [\"yes_relation\", \"no_relation\"], crowd_ans\n",
    "        \n",
    "        res[\"pmid\"].append(pmid)\n",
    "        res[\"uniq_id\"].append(uniq_id)\n",
    "        res[\"unit_id\"].append(datarow[\"_unit_id\"])\n",
    "        \n",
    "        res[\"chemical_id\"].append(chemical_id)\n",
    "        res[\"disease_id\"].append(disease_id)\n",
    "        \n",
    "        res[\"in_gold\"].append(in_gold)\n",
    "        res[\"top_crowd_response\"].append(crowd_ans)\n",
    "        \n",
    "        res[\"num_votes\"].append(group[\"num_votes\"].iloc[0])\n",
    "        res[\"percent_agree\"].append(group[\"percent_agree\"].iloc[0])\n",
    "        \n",
    "        res[\"ans_class\"].append(get_class(in_gold, crowd_ans))\n",
    "        \n",
    "        res[\"norm_conf\"].append(norm_conf_score(raw_data.query(\"uniq_id == '{0}'\".format(uniq_id))))\n",
    "        \n",
    "    return pd.DataFrame(res)"
   ]
  },
  {
   "cell_type": "code",
   "execution_count": 25,
   "metadata": {
    "collapsed": false,
    "scrolled": true
   },
   "outputs": [],
   "source": [
    "perf_yes = evaluate_performance(res_yes, raw_data, testset)"
   ]
  },
  {
   "cell_type": "code",
   "execution_count": 26,
   "metadata": {
    "collapsed": false
   },
   "outputs": [
    {
     "data": {
      "text/html": [
       "<div>\n",
       "<table border=\"1\" class=\"dataframe\">\n",
       "  <thead>\n",
       "    <tr style=\"text-align: right;\">\n",
       "      <th></th>\n",
       "      <th>ans_class</th>\n",
       "      <th>chemical_id</th>\n",
       "      <th>disease_id</th>\n",
       "      <th>in_gold</th>\n",
       "      <th>norm_conf</th>\n",
       "      <th>num_votes</th>\n",
       "      <th>percent_agree</th>\n",
       "      <th>pmid</th>\n",
       "      <th>top_crowd_response</th>\n",
       "      <th>uniq_id</th>\n",
       "      <th>unit_id</th>\n",
       "    </tr>\n",
       "  </thead>\n",
       "  <tbody>\n",
       "    <tr>\n",
       "      <th>0</th>\n",
       "      <td>true_neg</td>\n",
       "      <td>C063968</td>\n",
       "      <td>D017180</td>\n",
       "      <td>0</td>\n",
       "      <td>3.2</td>\n",
       "      <td>5</td>\n",
       "      <td>1.000000</td>\n",
       "      <td>11569530</td>\n",
       "      <td>no_relation</td>\n",
       "      <td>bcv_hard_0</td>\n",
       "      <td>756359591</td>\n",
       "    </tr>\n",
       "    <tr>\n",
       "      <th>1</th>\n",
       "      <td>false_pos</td>\n",
       "      <td>D020117</td>\n",
       "      <td>D017180</td>\n",
       "      <td>0</td>\n",
       "      <td>3.4</td>\n",
       "      <td>3</td>\n",
       "      <td>0.595507</td>\n",
       "      <td>11569530</td>\n",
       "      <td>yes_relation</td>\n",
       "      <td>bcv_hard_1</td>\n",
       "      <td>756359592</td>\n",
       "    </tr>\n",
       "    <tr>\n",
       "      <th>2</th>\n",
       "      <td>true_pos</td>\n",
       "      <td>C056507</td>\n",
       "      <td>D013921</td>\n",
       "      <td>1</td>\n",
       "      <td>3.4</td>\n",
       "      <td>5</td>\n",
       "      <td>1.000000</td>\n",
       "      <td>11135224</td>\n",
       "      <td>yes_relation</td>\n",
       "      <td>bcv_hard_10</td>\n",
       "      <td>756359601</td>\n",
       "    </tr>\n",
       "    <tr>\n",
       "      <th>3</th>\n",
       "      <td>false_pos</td>\n",
       "      <td>C056507</td>\n",
       "      <td>D003643</td>\n",
       "      <td>0</td>\n",
       "      <td>3.2</td>\n",
       "      <td>4</td>\n",
       "      <td>0.819446</td>\n",
       "      <td>11135224</td>\n",
       "      <td>yes_relation</td>\n",
       "      <td>bcv_hard_11</td>\n",
       "      <td>756359602</td>\n",
       "    </tr>\n",
       "    <tr>\n",
       "      <th>4</th>\n",
       "      <td>true_pos</td>\n",
       "      <td>C056507</td>\n",
       "      <td>D009503</td>\n",
       "      <td>1</td>\n",
       "      <td>3.8</td>\n",
       "      <td>4</td>\n",
       "      <td>0.784342</td>\n",
       "      <td>11135224</td>\n",
       "      <td>yes_relation</td>\n",
       "      <td>bcv_hard_12</td>\n",
       "      <td>756359603</td>\n",
       "    </tr>\n",
       "  </tbody>\n",
       "</table>\n",
       "</div>"
      ],
      "text/plain": [
       "   ans_class chemical_id disease_id  in_gold  norm_conf  num_votes  \\\n",
       "0   true_neg     C063968    D017180        0        3.2          5   \n",
       "1  false_pos     D020117    D017180        0        3.4          3   \n",
       "2   true_pos     C056507    D013921        1        3.4          5   \n",
       "3  false_pos     C056507    D003643        0        3.2          4   \n",
       "4   true_pos     C056507    D009503        1        3.8          4   \n",
       "\n",
       "   percent_agree      pmid top_crowd_response      uniq_id    unit_id  \n",
       "0       1.000000  11569530        no_relation   bcv_hard_0  756359591  \n",
       "1       0.595507  11569530       yes_relation   bcv_hard_1  756359592  \n",
       "2       1.000000  11135224       yes_relation  bcv_hard_10  756359601  \n",
       "3       0.819446  11135224       yes_relation  bcv_hard_11  756359602  \n",
       "4       0.784342  11135224       yes_relation  bcv_hard_12  756359603  "
      ]
     },
     "execution_count": 26,
     "metadata": {},
     "output_type": "execute_result"
    }
   ],
   "source": [
    "perf_yes.head()"
   ]
  },
  {
   "cell_type": "code",
   "execution_count": 27,
   "metadata": {
    "collapsed": true
   },
   "outputs": [],
   "source": [
    "perf_no = evaluate_performance(res_no, raw_data, testset)"
   ]
  },
  {
   "cell_type": "code",
   "execution_count": 28,
   "metadata": {
    "collapsed": false,
    "scrolled": true
   },
   "outputs": [
    {
     "data": {
      "text/html": [
       "<div>\n",
       "<table border=\"1\" class=\"dataframe\">\n",
       "  <thead>\n",
       "    <tr style=\"text-align: right;\">\n",
       "      <th></th>\n",
       "      <th>ans_class</th>\n",
       "      <th>chemical_id</th>\n",
       "      <th>disease_id</th>\n",
       "      <th>in_gold</th>\n",
       "      <th>norm_conf</th>\n",
       "      <th>num_votes</th>\n",
       "      <th>percent_agree</th>\n",
       "      <th>pmid</th>\n",
       "      <th>top_crowd_response</th>\n",
       "      <th>uniq_id</th>\n",
       "      <th>unit_id</th>\n",
       "    </tr>\n",
       "  </thead>\n",
       "  <tbody>\n",
       "    <tr>\n",
       "      <th>0</th>\n",
       "      <td>true_neg</td>\n",
       "      <td>C063968</td>\n",
       "      <td>D017180</td>\n",
       "      <td>0</td>\n",
       "      <td>3.2</td>\n",
       "      <td>5</td>\n",
       "      <td>1.000000</td>\n",
       "      <td>11569530</td>\n",
       "      <td>no_relation</td>\n",
       "      <td>bcv_hard_0</td>\n",
       "      <td>756359591</td>\n",
       "    </tr>\n",
       "    <tr>\n",
       "      <th>1</th>\n",
       "      <td>true_neg</td>\n",
       "      <td>D020117</td>\n",
       "      <td>D017180</td>\n",
       "      <td>0</td>\n",
       "      <td>3.4</td>\n",
       "      <td>3</td>\n",
       "      <td>0.601123</td>\n",
       "      <td>11569530</td>\n",
       "      <td>no_relation</td>\n",
       "      <td>bcv_hard_1</td>\n",
       "      <td>756359592</td>\n",
       "    </tr>\n",
       "    <tr>\n",
       "      <th>2</th>\n",
       "      <td>true_pos</td>\n",
       "      <td>C056507</td>\n",
       "      <td>D013921</td>\n",
       "      <td>1</td>\n",
       "      <td>3.4</td>\n",
       "      <td>5</td>\n",
       "      <td>1.000000</td>\n",
       "      <td>11135224</td>\n",
       "      <td>yes_relation</td>\n",
       "      <td>bcv_hard_10</td>\n",
       "      <td>756359601</td>\n",
       "    </tr>\n",
       "    <tr>\n",
       "      <th>3</th>\n",
       "      <td>false_pos</td>\n",
       "      <td>C056507</td>\n",
       "      <td>D003643</td>\n",
       "      <td>0</td>\n",
       "      <td>3.2</td>\n",
       "      <td>4</td>\n",
       "      <td>0.819446</td>\n",
       "      <td>11135224</td>\n",
       "      <td>yes_relation</td>\n",
       "      <td>bcv_hard_11</td>\n",
       "      <td>756359602</td>\n",
       "    </tr>\n",
       "    <tr>\n",
       "      <th>4</th>\n",
       "      <td>true_pos</td>\n",
       "      <td>C056507</td>\n",
       "      <td>D009503</td>\n",
       "      <td>1</td>\n",
       "      <td>3.8</td>\n",
       "      <td>4</td>\n",
       "      <td>0.784342</td>\n",
       "      <td>11135224</td>\n",
       "      <td>yes_relation</td>\n",
       "      <td>bcv_hard_12</td>\n",
       "      <td>756359603</td>\n",
       "    </tr>\n",
       "  </tbody>\n",
       "</table>\n",
       "</div>"
      ],
      "text/plain": [
       "   ans_class chemical_id disease_id  in_gold  norm_conf  num_votes  \\\n",
       "0   true_neg     C063968    D017180        0        3.2          5   \n",
       "1   true_neg     D020117    D017180        0        3.4          3   \n",
       "2   true_pos     C056507    D013921        1        3.4          5   \n",
       "3  false_pos     C056507    D003643        0        3.2          4   \n",
       "4   true_pos     C056507    D009503        1        3.8          4   \n",
       "\n",
       "   percent_agree      pmid top_crowd_response      uniq_id    unit_id  \n",
       "0       1.000000  11569530        no_relation   bcv_hard_0  756359591  \n",
       "1       0.601123  11569530        no_relation   bcv_hard_1  756359592  \n",
       "2       1.000000  11135224       yes_relation  bcv_hard_10  756359601  \n",
       "3       0.819446  11135224       yes_relation  bcv_hard_11  756359602  \n",
       "4       0.784342  11135224       yes_relation  bcv_hard_12  756359603  "
      ]
     },
     "execution_count": 28,
     "metadata": {},
     "output_type": "execute_result"
    }
   ],
   "source": [
    "perf_no.head()"
   ]
  },
  {
   "cell_type": "code",
   "execution_count": 29,
   "metadata": {
    "collapsed": true
   },
   "outputs": [],
   "source": [
    "def flip_score(choice_column, negative_choice, score_column, dataframe):\n",
    "    \"\"\"\n",
    "    If using majority vote, and the top choice is the negative vote\n",
    "    (for a binary judgement work unit), then this function flips the\n",
    "    percent_agreement score to be negative.\n",
    "    \n",
    "    choice_column = name of the column containing the binary judgement workers make\n",
    "    negative_choice = value of the negative judgement made by the workers in choice_column\n",
    "    score_column = name of the column containing the score we want to selectively invert\n",
    "    \"\"\"\n",
    "    def flip(datarow):\n",
    "        return -datarow[score_column] if datarow[choice_column] == negative_choice else datarow[score_column]\n",
    "    \n",
    "    # adds a column to the original dataframe!\n",
    "    dataframe.loc[:, \"threshold_score\"] = dataframe[[choice_column, score_column]].apply(flip, axis = 1)\n",
    "    return dataframe"
   ]
  },
  {
   "cell_type": "code",
   "execution_count": 30,
   "metadata": {
    "collapsed": true
   },
   "outputs": [],
   "source": [
    "perf_yes = flip_score(\"top_crowd_response\", \"no_relation\", \"percent_agree\", perf_yes)"
   ]
  },
  {
   "cell_type": "code",
   "execution_count": 31,
   "metadata": {
    "collapsed": false
   },
   "outputs": [
    {
     "data": {
      "text/html": [
       "<div>\n",
       "<table border=\"1\" class=\"dataframe\">\n",
       "  <thead>\n",
       "    <tr style=\"text-align: right;\">\n",
       "      <th></th>\n",
       "      <th>ans_class</th>\n",
       "      <th>chemical_id</th>\n",
       "      <th>disease_id</th>\n",
       "      <th>in_gold</th>\n",
       "      <th>norm_conf</th>\n",
       "      <th>num_votes</th>\n",
       "      <th>percent_agree</th>\n",
       "      <th>pmid</th>\n",
       "      <th>top_crowd_response</th>\n",
       "      <th>uniq_id</th>\n",
       "      <th>unit_id</th>\n",
       "      <th>threshold_score</th>\n",
       "    </tr>\n",
       "  </thead>\n",
       "  <tbody>\n",
       "    <tr>\n",
       "      <th>0</th>\n",
       "      <td>true_neg</td>\n",
       "      <td>C063968</td>\n",
       "      <td>D017180</td>\n",
       "      <td>0</td>\n",
       "      <td>3.2</td>\n",
       "      <td>5</td>\n",
       "      <td>1.000000</td>\n",
       "      <td>11569530</td>\n",
       "      <td>no_relation</td>\n",
       "      <td>bcv_hard_0</td>\n",
       "      <td>756359591</td>\n",
       "      <td>-1.000000</td>\n",
       "    </tr>\n",
       "    <tr>\n",
       "      <th>1</th>\n",
       "      <td>false_pos</td>\n",
       "      <td>D020117</td>\n",
       "      <td>D017180</td>\n",
       "      <td>0</td>\n",
       "      <td>3.4</td>\n",
       "      <td>3</td>\n",
       "      <td>0.595507</td>\n",
       "      <td>11569530</td>\n",
       "      <td>yes_relation</td>\n",
       "      <td>bcv_hard_1</td>\n",
       "      <td>756359592</td>\n",
       "      <td>0.595507</td>\n",
       "    </tr>\n",
       "    <tr>\n",
       "      <th>2</th>\n",
       "      <td>true_pos</td>\n",
       "      <td>C056507</td>\n",
       "      <td>D013921</td>\n",
       "      <td>1</td>\n",
       "      <td>3.4</td>\n",
       "      <td>5</td>\n",
       "      <td>1.000000</td>\n",
       "      <td>11135224</td>\n",
       "      <td>yes_relation</td>\n",
       "      <td>bcv_hard_10</td>\n",
       "      <td>756359601</td>\n",
       "      <td>1.000000</td>\n",
       "    </tr>\n",
       "    <tr>\n",
       "      <th>3</th>\n",
       "      <td>false_pos</td>\n",
       "      <td>C056507</td>\n",
       "      <td>D003643</td>\n",
       "      <td>0</td>\n",
       "      <td>3.2</td>\n",
       "      <td>4</td>\n",
       "      <td>0.819446</td>\n",
       "      <td>11135224</td>\n",
       "      <td>yes_relation</td>\n",
       "      <td>bcv_hard_11</td>\n",
       "      <td>756359602</td>\n",
       "      <td>0.819446</td>\n",
       "    </tr>\n",
       "    <tr>\n",
       "      <th>4</th>\n",
       "      <td>true_pos</td>\n",
       "      <td>C056507</td>\n",
       "      <td>D009503</td>\n",
       "      <td>1</td>\n",
       "      <td>3.8</td>\n",
       "      <td>4</td>\n",
       "      <td>0.784342</td>\n",
       "      <td>11135224</td>\n",
       "      <td>yes_relation</td>\n",
       "      <td>bcv_hard_12</td>\n",
       "      <td>756359603</td>\n",
       "      <td>0.784342</td>\n",
       "    </tr>\n",
       "  </tbody>\n",
       "</table>\n",
       "</div>"
      ],
      "text/plain": [
       "   ans_class chemical_id disease_id  in_gold  norm_conf  num_votes  \\\n",
       "0   true_neg     C063968    D017180        0        3.2          5   \n",
       "1  false_pos     D020117    D017180        0        3.4          3   \n",
       "2   true_pos     C056507    D013921        1        3.4          5   \n",
       "3  false_pos     C056507    D003643        0        3.2          4   \n",
       "4   true_pos     C056507    D009503        1        3.8          4   \n",
       "\n",
       "   percent_agree      pmid top_crowd_response      uniq_id    unit_id  \\\n",
       "0       1.000000  11569530        no_relation   bcv_hard_0  756359591   \n",
       "1       0.595507  11569530       yes_relation   bcv_hard_1  756359592   \n",
       "2       1.000000  11135224       yes_relation  bcv_hard_10  756359601   \n",
       "3       0.819446  11135224       yes_relation  bcv_hard_11  756359602   \n",
       "4       0.784342  11135224       yes_relation  bcv_hard_12  756359603   \n",
       "\n",
       "   threshold_score  \n",
       "0        -1.000000  \n",
       "1         0.595507  \n",
       "2         1.000000  \n",
       "3         0.819446  \n",
       "4         0.784342  "
      ]
     },
     "execution_count": 31,
     "metadata": {},
     "output_type": "execute_result"
    }
   ],
   "source": [
    "perf_yes.head()"
   ]
  },
  {
   "cell_type": "code",
   "execution_count": 32,
   "metadata": {
    "collapsed": true
   },
   "outputs": [],
   "source": [
    "perf_no = flip_score(\"top_crowd_response\", \"no_relation\", \"percent_agree\", perf_no)"
   ]
  },
  {
   "cell_type": "code",
   "execution_count": 33,
   "metadata": {
    "collapsed": false
   },
   "outputs": [
    {
     "data": {
      "text/html": [
       "<div>\n",
       "<table border=\"1\" class=\"dataframe\">\n",
       "  <thead>\n",
       "    <tr style=\"text-align: right;\">\n",
       "      <th></th>\n",
       "      <th>ans_class</th>\n",
       "      <th>chemical_id</th>\n",
       "      <th>disease_id</th>\n",
       "      <th>in_gold</th>\n",
       "      <th>norm_conf</th>\n",
       "      <th>num_votes</th>\n",
       "      <th>percent_agree</th>\n",
       "      <th>pmid</th>\n",
       "      <th>top_crowd_response</th>\n",
       "      <th>uniq_id</th>\n",
       "      <th>unit_id</th>\n",
       "      <th>threshold_score</th>\n",
       "    </tr>\n",
       "  </thead>\n",
       "  <tbody>\n",
       "    <tr>\n",
       "      <th>0</th>\n",
       "      <td>true_neg</td>\n",
       "      <td>C063968</td>\n",
       "      <td>D017180</td>\n",
       "      <td>0</td>\n",
       "      <td>3.2</td>\n",
       "      <td>5</td>\n",
       "      <td>1.000000</td>\n",
       "      <td>11569530</td>\n",
       "      <td>no_relation</td>\n",
       "      <td>bcv_hard_0</td>\n",
       "      <td>756359591</td>\n",
       "      <td>-1.000000</td>\n",
       "    </tr>\n",
       "    <tr>\n",
       "      <th>1</th>\n",
       "      <td>true_neg</td>\n",
       "      <td>D020117</td>\n",
       "      <td>D017180</td>\n",
       "      <td>0</td>\n",
       "      <td>3.4</td>\n",
       "      <td>3</td>\n",
       "      <td>0.601123</td>\n",
       "      <td>11569530</td>\n",
       "      <td>no_relation</td>\n",
       "      <td>bcv_hard_1</td>\n",
       "      <td>756359592</td>\n",
       "      <td>-0.601123</td>\n",
       "    </tr>\n",
       "    <tr>\n",
       "      <th>2</th>\n",
       "      <td>true_pos</td>\n",
       "      <td>C056507</td>\n",
       "      <td>D013921</td>\n",
       "      <td>1</td>\n",
       "      <td>3.4</td>\n",
       "      <td>5</td>\n",
       "      <td>1.000000</td>\n",
       "      <td>11135224</td>\n",
       "      <td>yes_relation</td>\n",
       "      <td>bcv_hard_10</td>\n",
       "      <td>756359601</td>\n",
       "      <td>1.000000</td>\n",
       "    </tr>\n",
       "    <tr>\n",
       "      <th>3</th>\n",
       "      <td>false_pos</td>\n",
       "      <td>C056507</td>\n",
       "      <td>D003643</td>\n",
       "      <td>0</td>\n",
       "      <td>3.2</td>\n",
       "      <td>4</td>\n",
       "      <td>0.819446</td>\n",
       "      <td>11135224</td>\n",
       "      <td>yes_relation</td>\n",
       "      <td>bcv_hard_11</td>\n",
       "      <td>756359602</td>\n",
       "      <td>0.819446</td>\n",
       "    </tr>\n",
       "    <tr>\n",
       "      <th>4</th>\n",
       "      <td>true_pos</td>\n",
       "      <td>C056507</td>\n",
       "      <td>D009503</td>\n",
       "      <td>1</td>\n",
       "      <td>3.8</td>\n",
       "      <td>4</td>\n",
       "      <td>0.784342</td>\n",
       "      <td>11135224</td>\n",
       "      <td>yes_relation</td>\n",
       "      <td>bcv_hard_12</td>\n",
       "      <td>756359603</td>\n",
       "      <td>0.784342</td>\n",
       "    </tr>\n",
       "  </tbody>\n",
       "</table>\n",
       "</div>"
      ],
      "text/plain": [
       "   ans_class chemical_id disease_id  in_gold  norm_conf  num_votes  \\\n",
       "0   true_neg     C063968    D017180        0        3.2          5   \n",
       "1   true_neg     D020117    D017180        0        3.4          3   \n",
       "2   true_pos     C056507    D013921        1        3.4          5   \n",
       "3  false_pos     C056507    D003643        0        3.2          4   \n",
       "4   true_pos     C056507    D009503        1        3.8          4   \n",
       "\n",
       "   percent_agree      pmid top_crowd_response      uniq_id    unit_id  \\\n",
       "0       1.000000  11569530        no_relation   bcv_hard_0  756359591   \n",
       "1       0.601123  11569530        no_relation   bcv_hard_1  756359592   \n",
       "2       1.000000  11135224       yes_relation  bcv_hard_10  756359601   \n",
       "3       0.819446  11135224       yes_relation  bcv_hard_11  756359602   \n",
       "4       0.784342  11135224       yes_relation  bcv_hard_12  756359603   \n",
       "\n",
       "   threshold_score  \n",
       "0        -1.000000  \n",
       "1        -0.601123  \n",
       "2         1.000000  \n",
       "3         0.819446  \n",
       "4         0.784342  "
      ]
     },
     "execution_count": 33,
     "metadata": {},
     "output_type": "execute_result"
    }
   ],
   "source": [
    "perf_no.head()"
   ]
  },
  {
   "cell_type": "markdown",
   "metadata": {},
   "source": [
    "---"
   ]
  },
  {
   "cell_type": "code",
   "execution_count": 34,
   "metadata": {
    "collapsed": false
   },
   "outputs": [
    {
     "data": {
      "text/plain": [
       "0.9260651629072681"
      ]
     },
     "execution_count": 34,
     "metadata": {},
     "output_type": "execute_result"
    }
   ],
   "source": [
    "fname = \"data/roc/job_754530_majority_vote_indirect_is_yes.png\"\n",
    "title = \"ROC for job 754530 (abstract level); majority vote, indirect means yes\"\n",
    "get_AUC_value(perf_yes, \"threshold_score\", \"in_gold\", fname, title)"
   ]
  },
  {
   "cell_type": "code",
   "execution_count": 35,
   "metadata": {
    "collapsed": false,
    "scrolled": false
   },
   "outputs": [
    {
     "data": {
      "image/png": "[encoded data removed]",
      "text/plain": [
       "<IPython.core.display.Image object>"
      ]
     },
     "execution_count": 35,
     "metadata": {},
     "output_type": "execute_result"
    }
   ],
   "source": [
    "Image(fname)"
   ]
  },
  {
   "cell_type": "code",
   "execution_count": 36,
   "metadata": {
    "collapsed": false
   },
   "outputs": [
    {
     "data": {
      "text/plain": [
       "F_score      0.724138\n",
       "precision    0.567568\n",
       "recall       1.000000\n",
       "threshold    0.596415\n",
       "Name: 16, dtype: float64"
      ]
     },
     "execution_count": 36,
     "metadata": {},
     "output_type": "execute_result"
    }
   ],
   "source": [
    "max_F_score(\"threshold_score\", \"in_gold\", perf_yes)"
   ]
  },
  {
   "cell_type": "code",
   "execution_count": 37,
   "metadata": {
    "collapsed": false
   },
   "outputs": [
    {
     "data": {
      "text/plain": [
       "0.9329573934837092"
      ]
     },
     "execution_count": 37,
     "metadata": {},
     "output_type": "execute_result"
    }
   ],
   "source": [
    "fname = \"data/roc/job_754530_majority_vote_indirect_is_no.png\"\n",
    "title = \"ROC for job 754530 (abstract level); majority vote, indirect means no\"\n",
    "get_AUC_value(perf_no, \"threshold_score\", \"in_gold\", fname, title)"
   ]
  },
  {
   "cell_type": "code",
   "execution_count": 38,
   "metadata": {
    "collapsed": false
   },
   "outputs": [
    {
     "data": {
      "image/png": "[encoded data removed]",
      "text/plain": [
       "<IPython.core.display.Image object>"
      ]
     },
     "execution_count": 38,
     "metadata": {},
     "output_type": "execute_result"
    }
   ],
   "source": [
    "Image(fname)"
   ]
  },
  {
   "cell_type": "code",
   "execution_count": 39,
   "metadata": {
    "collapsed": false
   },
   "outputs": [
    {
     "data": {
      "text/plain": [
       "F_score      0.740741\n",
       "precision    0.606061\n",
       "recall       0.952381\n",
       "threshold    0.596415\n",
       "Name: 16, dtype: float64"
      ]
     },
     "execution_count": 39,
     "metadata": {},
     "output_type": "execute_result"
    }
   ],
   "source": [
    "max_F_score(\"threshold_score\", \"in_gold\", perf_no)"
   ]
  },
  {
   "cell_type": "code",
   "execution_count": 40,
   "metadata": {
    "collapsed": false
   },
   "outputs": [],
   "source": [
    "def F_score(precision, recall):\n",
    "    return 2 * (precision * recall) / (precision + recall)\n",
    "\n",
    "def perf_statistics(perf_summary):\n",
    "    \"\"\"\n",
    "    Calculates true pos, false pos, true neg, and false neg\n",
    "    values for a performance summary dataframe.\n",
    "    \n",
    "    Also calculates precision, recall, and F score.\n",
    "    \"\"\"\n",
    "    true_pos = len(perf_summary.query(\"ans_class == 'true_pos'\"))\n",
    "    true_neg = len(perf_summary.query(\"ans_class == 'true_neg'\"))\n",
    "    \n",
    "    false_pos = len(perf_summary.query(\"ans_class == 'false_pos'\"))\n",
    "    false_neg = len(perf_summary.query(\"ans_class == 'false_neg'\"))\n",
    "    \n",
    "    assert true_pos + true_neg + false_pos + false_neg == len(perf_summary)\n",
    "    \n",
    "    print \"true pos\", true_pos\n",
    "    print \"true neg\", true_neg\n",
    "    print \"false pos\", false_pos\n",
    "    print \"false neg\", false_neg\n",
    "    print\n",
    "    \n",
    "    precision = true_pos / (true_pos + false_pos)\n",
    "    recall = true_pos / (true_pos + false_neg)\n",
    "    \n",
    "    print \"precision\", precision\n",
    "    print \"recall\", recall\n",
    "    \n",
    "    print \"F score\", F_score(precision, recall)"
   ]
  },
  {
   "cell_type": "code",
   "execution_count": 41,
   "metadata": {
    "collapsed": false
   },
   "outputs": [
    {
     "name": "stdout",
     "output_type": "stream",
     "text": [
      "true pos 21\n",
      "true neg 55\n",
      "false pos 21\n",
      "false neg 0\n",
      "\n",
      "precision 0.5\n",
      "recall 1.0\n",
      "F score 0.666666666667\n"
     ]
    }
   ],
   "source": [
    "perf_statistics(perf_yes)"
   ]
  },
  {
   "cell_type": "code",
   "execution_count": 42,
   "metadata": {
    "collapsed": false
   },
   "outputs": [
    {
     "name": "stdout",
     "output_type": "stream",
     "text": [
      "true pos 21\n",
      "true neg 58\n",
      "false pos 18\n",
      "false neg 0\n",
      "\n",
      "precision 0.538461538462\n",
      "recall 1.0\n",
      "F score 0.7\n"
     ]
    }
   ],
   "source": [
    "perf_statistics(perf_no)"
   ]
  },
  {
   "cell_type": "markdown",
   "metadata": {},
   "source": [
    "---"
   ]
  },
  {
   "cell_type": "code",
   "execution_count": 43,
   "metadata": {
    "collapsed": false
   },
   "outputs": [],
   "source": [
    "rofl = perf_no.query(\"top_crowd_response == 'yes_relation'\")"
   ]
  },
  {
   "cell_type": "code",
   "execution_count": 44,
   "metadata": {
    "collapsed": false
   },
   "outputs": [],
   "source": [
    "perf_no.to_csv(\"data/abs_level_relations.tsv\", sep = '\\t', index = False)"
   ]
  },
  {
   "cell_type": "markdown",
   "metadata": {},
   "source": [
    "---"
   ]
  },
  {
   "cell_type": "markdown",
   "metadata": {},
   "source": [
    "###We also asked the workers to rate their confidence in their work. Was that useful information?"
   ]
  },
  {
   "cell_type": "code",
   "execution_count": 45,
   "metadata": {
    "collapsed": false
   },
   "outputs": [
    {
     "data": {
      "text/plain": [
       "<matplotlib.axes._subplots.AxesSubplot at 0x7f78d710ca50>"
      ]
     },
     "execution_count": 45,
     "metadata": {},
     "output_type": "execute_result"
    },
    {
     "data": {
      "image/png": "[encoded data removed]",
      "text/plain": [
       "<matplotlib.figure.Figure at 0x7f78d9662190>"
      ]
     },
     "metadata": {},
     "output_type": "display_data"
    }
   ],
   "source": [
    "perf_no.plot(kind = \"scatter\", x = \"norm_conf\", y = \"percent_agree\")"
   ]
  },
  {
   "cell_type": "markdown",
   "metadata": {},
   "source": [
    "The consensus among the workers did not increase as the aggregate confidence of the workers increased. Workers are just as likely to be confident in a wrong answer as a correct one."
   ]
  },
  {
   "cell_type": "code",
   "execution_count": 46,
   "metadata": {
    "collapsed": false
   },
   "outputs": [
    {
     "data": {
      "text/plain": [
       "<matplotlib.axes._subplots.AxesSubplot at 0x7f78d711c710>"
      ]
     },
     "execution_count": 46,
     "metadata": {},
     "output_type": "execute_result"
    },
    {
     "data": {
      "image/png": "[encoded data removed]",
      "text/plain": [
       "<matplotlib.figure.Figure at 0x7f78d7e438d0>"
      ]
     },
     "metadata": {},
     "output_type": "display_data"
    }
   ],
   "source": [
    "perf_no.plot(kind = \"scatter\", x = \"percent_agree\", y = \"norm_conf\")"
   ]
  },
  {
   "cell_type": "markdown",
   "metadata": {},
   "source": [
    "###Confidence vs. answer class:"
   ]
  },
  {
   "cell_type": "code",
   "execution_count": 47,
   "metadata": {
    "collapsed": false
   },
   "outputs": [
    {
     "data": {
      "text/plain": [
       "<matplotlib.axes._subplots.AxesSubplot at 0x7f78d7c3b1d0>"
      ]
     },
     "execution_count": 47,
     "metadata": {},
     "output_type": "execute_result"
    },
    {
     "data": {
      "image/png": "[encoded data removed]",
      "text/plain": [
       "<matplotlib.figure.Figure at 0x7f78d7beb510>"
      ]
     },
     "metadata": {},
     "output_type": "display_data"
    }
   ],
   "source": [
    "perf_no.boxplot(column = \"norm_conf\", by = \"ans_class\")"
   ]
  },
  {
   "cell_type": "markdown",
   "metadata": {},
   "source": [
    "Workers seemed equally confident in the true positives, the true negatives, and the false positives. It doesn't seem like the self-rated confidence is a good way of determining how likely a response is to be correct."
   ]
  },
  {
   "cell_type": "code",
   "execution_count": 48,
   "metadata": {
    "collapsed": false
   },
   "outputs": [
    {
     "data": {
      "text/plain": [
       "<matplotlib.axes._subplots.AxesSubplot at 0x7f78d84f79d0>"
      ]
     },
     "execution_count": 48,
     "metadata": {},
     "output_type": "execute_result"
    },
    {
     "data": {
      "image/png": "[encoded data removed]",
      "text/plain": [
       "<matplotlib.figure.Figure at 0x7f78d1089c10>"
      ]
     },
     "metadata": {},
     "output_type": "display_data"
    }
   ],
   "source": [
    "perf_no.boxplot(column = \"norm_conf\", by = \"top_crowd_response\")"
   ]
  },
  {
   "cell_type": "markdown",
   "metadata": {},
   "source": [
    "Workers were qually confident in their votes regardless of the actual choice."
   ]
  },
  {
   "cell_type": "code",
   "execution_count": 49,
   "metadata": {
    "collapsed": false
   },
   "outputs": [
    {
     "data": {
      "text/plain": [
       "<matplotlib.axes._subplots.AxesSubplot at 0x7f78d7bebc10>"
      ]
     },
     "execution_count": 49,
     "metadata": {},
     "output_type": "execute_result"
    },
    {
     "data": {
      "image/png": "[encoded data removed]",
      "text/plain": [
       "<matplotlib.figure.Figure at 0x7f78d1070310>"
      ]
     },
     "metadata": {},
     "output_type": "display_data"
    }
   ],
   "source": [
    "perf_no[\"norm_conf\"].plot(kind = \"box\")"
   ]
  },
  {
   "cell_type": "code",
   "execution_count": 50,
   "metadata": {
    "collapsed": false
   },
   "outputs": [
    {
     "data": {
      "text/plain": [
       "Counter({'very_confident': 232, 'confident': 222, 'not_too_confident': 29, 'not_confident': 2})"
      ]
     },
     "execution_count": 50,
     "metadata": {},
     "output_type": "execute_result"
    }
   ],
   "source": [
    "def convert(val):\n",
    "    mapping = {\n",
    "        \"very_confident\": 4,\n",
    "        \"confident\": 3,\n",
    "        \"not_too_confident\": 2,\n",
    "        \"not_confident\": 1\n",
    "    }\n",
    "    return mapping[val]\n",
    "\n",
    "Counter(raw_data[\"worker_confidence\"])"
   ]
  },
  {
   "cell_type": "code",
   "execution_count": 51,
   "metadata": {
    "collapsed": false
   },
   "outputs": [
    {
     "data": {
      "text/plain": [
       "<matplotlib.axes._subplots.AxesSubplot at 0x7f78d1006e50>"
      ]
     },
     "execution_count": 51,
     "metadata": {},
     "output_type": "execute_result"
    },
    {
     "data": {
      "image/png": "[encoded data removed]",
      "text/plain": [
       "<matplotlib.figure.Figure at 0x7f78d1096d10>"
      ]
     },
     "metadata": {},
     "output_type": "display_data"
    }
   ],
   "source": [
    "raw_data[\"worker_confidence\"].value_counts(normalize = True).plot(kind = \"bar\")"
   ]
  },
  {
   "cell_type": "markdown",
   "metadata": {},
   "source": [
    "The distribution of confidence votes were basically always either confident or very confident, which isn't terribly helpful. [Other data](http://www.crowdflower.com/blog/2011/09/confidence-bias-evidence-from-crowdsourcing) show that CrowdFlower workers in general tend to inflate their confidence."
   ]
  },
  {
   "cell_type": "markdown",
   "metadata": {},
   "source": [
    "It is however possible that I'm not using the confidence data properly. There may be smarter ways to use the confidence values to modulate the votes themselves."
   ]
  },
  {
   "cell_type": "markdown",
   "metadata": {},
   "source": [
    "###Thoughts:"
   ]
  },
  {
   "cell_type": "markdown",
   "metadata": {},
   "source": [
    "The performance statistics don't seem too great at first glance. While it's good that there are no false negatives, I am concerned about the number of false positives in the results. 18 false positives in a set of 97 is 18.6%, which is pretty high. Let's look through these false positives by hand and see if there is something that we are missing."
   ]
  },
  {
   "cell_type": "markdown",
   "metadata": {},
   "source": [
    "The false positives:"
   ]
  },
  {
   "cell_type": "code",
   "execution_count": 52,
   "metadata": {
    "collapsed": false
   },
   "outputs": [],
   "source": [
    "false_positives = perf_no.query(\"ans_class == 'false_pos'\")"
   ]
  },
  {
   "cell_type": "code",
   "execution_count": 53,
   "metadata": {
    "collapsed": false
   },
   "outputs": [
    {
     "data": {
      "text/html": [
       "<div>\n",
       "<table border=\"1\" class=\"dataframe\">\n",
       "  <thead>\n",
       "    <tr style=\"text-align: right;\">\n",
       "      <th></th>\n",
       "      <th>ans_class</th>\n",
       "      <th>chemical_id</th>\n",
       "      <th>disease_id</th>\n",
       "      <th>in_gold</th>\n",
       "      <th>norm_conf</th>\n",
       "      <th>num_votes</th>\n",
       "      <th>percent_agree</th>\n",
       "      <th>pmid</th>\n",
       "      <th>top_crowd_response</th>\n",
       "      <th>uniq_id</th>\n",
       "      <th>unit_id</th>\n",
       "      <th>threshold_score</th>\n",
       "    </tr>\n",
       "  </thead>\n",
       "  <tbody>\n",
       "    <tr>\n",
       "      <th>11</th>\n",
       "      <td>false_pos</td>\n",
       "      <td>D015742</td>\n",
       "      <td>D014474</td>\n",
       "      <td>0</td>\n",
       "      <td>3.6</td>\n",
       "      <td>5</td>\n",
       "      <td>1.000000</td>\n",
       "      <td>8595686</td>\n",
       "      <td>yes_relation</td>\n",
       "      <td>bcv_hard_19</td>\n",
       "      <td>756359610</td>\n",
       "      <td>1.000000</td>\n",
       "    </tr>\n",
       "    <tr>\n",
       "      <th>83</th>\n",
       "      <td>false_pos</td>\n",
       "      <td>D005839</td>\n",
       "      <td>D007674</td>\n",
       "      <td>0</td>\n",
       "      <td>3.2</td>\n",
       "      <td>5</td>\n",
       "      <td>1.000000</td>\n",
       "      <td>1130930</td>\n",
       "      <td>yes_relation</td>\n",
       "      <td>bcv_hard_84</td>\n",
       "      <td>756359675</td>\n",
       "      <td>1.000000</td>\n",
       "    </tr>\n",
       "    <tr>\n",
       "      <th>17</th>\n",
       "      <td>false_pos</td>\n",
       "      <td>D010862</td>\n",
       "      <td>D004827</td>\n",
       "      <td>0</td>\n",
       "      <td>3.4</td>\n",
       "      <td>5</td>\n",
       "      <td>1.000000</td>\n",
       "      <td>16337777</td>\n",
       "      <td>yes_relation</td>\n",
       "      <td>bcv_hard_24</td>\n",
       "      <td>756359615</td>\n",
       "      <td>1.000000</td>\n",
       "    </tr>\n",
       "    <tr>\n",
       "      <th>65</th>\n",
       "      <td>false_pos</td>\n",
       "      <td>D000305</td>\n",
       "      <td>D004342</td>\n",
       "      <td>0</td>\n",
       "      <td>3.6</td>\n",
       "      <td>5</td>\n",
       "      <td>1.000000</td>\n",
       "      <td>7582165</td>\n",
       "      <td>yes_relation</td>\n",
       "      <td>bcv_hard_68</td>\n",
       "      <td>756359659</td>\n",
       "      <td>1.000000</td>\n",
       "    </tr>\n",
       "    <tr>\n",
       "      <th>3</th>\n",
       "      <td>false_pos</td>\n",
       "      <td>C056507</td>\n",
       "      <td>D003643</td>\n",
       "      <td>0</td>\n",
       "      <td>3.2</td>\n",
       "      <td>4</td>\n",
       "      <td>0.819446</td>\n",
       "      <td>11135224</td>\n",
       "      <td>yes_relation</td>\n",
       "      <td>bcv_hard_11</td>\n",
       "      <td>756359602</td>\n",
       "      <td>0.819446</td>\n",
       "    </tr>\n",
       "    <tr>\n",
       "      <th>85</th>\n",
       "      <td>false_pos</td>\n",
       "      <td>D002512</td>\n",
       "      <td>D007674</td>\n",
       "      <td>0</td>\n",
       "      <td>3.0</td>\n",
       "      <td>4</td>\n",
       "      <td>0.803878</td>\n",
       "      <td>1130930</td>\n",
       "      <td>yes_relation</td>\n",
       "      <td>bcv_hard_86</td>\n",
       "      <td>756359677</td>\n",
       "      <td>0.803878</td>\n",
       "    </tr>\n",
       "    <tr>\n",
       "      <th>19</th>\n",
       "      <td>false_pos</td>\n",
       "      <td>D011318</td>\n",
       "      <td>D006319</td>\n",
       "      <td>0</td>\n",
       "      <td>3.4</td>\n",
       "      <td>4</td>\n",
       "      <td>0.791880</td>\n",
       "      <td>9522143</td>\n",
       "      <td>yes_relation</td>\n",
       "      <td>bcv_hard_26</td>\n",
       "      <td>756359617</td>\n",
       "      <td>0.791880</td>\n",
       "    </tr>\n",
       "    <tr>\n",
       "      <th>88</th>\n",
       "      <td>false_pos</td>\n",
       "      <td>D017963</td>\n",
       "      <td>D007674</td>\n",
       "      <td>0</td>\n",
       "      <td>3.0</td>\n",
       "      <td>4</td>\n",
       "      <td>0.788871</td>\n",
       "      <td>15602202</td>\n",
       "      <td>yes_relation</td>\n",
       "      <td>bcv_hard_89</td>\n",
       "      <td>756359680</td>\n",
       "      <td>0.788871</td>\n",
       "    </tr>\n",
       "    <tr>\n",
       "      <th>78</th>\n",
       "      <td>false_pos</td>\n",
       "      <td>D002945</td>\n",
       "      <td>D003643</td>\n",
       "      <td>0</td>\n",
       "      <td>3.2</td>\n",
       "      <td>4</td>\n",
       "      <td>0.786219</td>\n",
       "      <td>11135224</td>\n",
       "      <td>yes_relation</td>\n",
       "      <td>bcv_hard_8</td>\n",
       "      <td>756359599</td>\n",
       "      <td>0.786219</td>\n",
       "    </tr>\n",
       "    <tr>\n",
       "      <th>59</th>\n",
       "      <td>false_pos</td>\n",
       "      <td>D009241</td>\n",
       "      <td>D002318|D005767</td>\n",
       "      <td>0</td>\n",
       "      <td>3.6</td>\n",
       "      <td>3</td>\n",
       "      <td>0.630163</td>\n",
       "      <td>1835291</td>\n",
       "      <td>yes_relation</td>\n",
       "      <td>bcv_hard_62</td>\n",
       "      <td>756359653</td>\n",
       "      <td>0.630163</td>\n",
       "    </tr>\n",
       "    <tr>\n",
       "      <th>68</th>\n",
       "      <td>false_pos</td>\n",
       "      <td>D000305</td>\n",
       "      <td>D014581</td>\n",
       "      <td>0</td>\n",
       "      <td>3.2</td>\n",
       "      <td>3</td>\n",
       "      <td>0.612757</td>\n",
       "      <td>7582165</td>\n",
       "      <td>yes_relation</td>\n",
       "      <td>bcv_hard_70</td>\n",
       "      <td>756359661</td>\n",
       "      <td>0.612757</td>\n",
       "    </tr>\n",
       "    <tr>\n",
       "      <th>12</th>\n",
       "      <td>false_pos</td>\n",
       "      <td>D016593</td>\n",
       "      <td>D017180</td>\n",
       "      <td>0</td>\n",
       "      <td>3.2</td>\n",
       "      <td>3</td>\n",
       "      <td>0.611098</td>\n",
       "      <td>11569530</td>\n",
       "      <td>yes_relation</td>\n",
       "      <td>bcv_hard_2</td>\n",
       "      <td>756359593</td>\n",
       "      <td>0.611098</td>\n",
       "    </tr>\n",
       "    <tr>\n",
       "      <th>45</th>\n",
       "      <td>false_pos</td>\n",
       "      <td>D017239</td>\n",
       "      <td>D003643</td>\n",
       "      <td>0</td>\n",
       "      <td>3.2</td>\n",
       "      <td>3</td>\n",
       "      <td>0.601094</td>\n",
       "      <td>11135224</td>\n",
       "      <td>yes_relation</td>\n",
       "      <td>bcv_hard_5</td>\n",
       "      <td>756359596</td>\n",
       "      <td>0.601094</td>\n",
       "    </tr>\n",
       "    <tr>\n",
       "      <th>66</th>\n",
       "      <td>false_pos</td>\n",
       "      <td>D000305</td>\n",
       "      <td>D003231</td>\n",
       "      <td>0</td>\n",
       "      <td>3.8</td>\n",
       "      <td>3</td>\n",
       "      <td>0.596050</td>\n",
       "      <td>7582165</td>\n",
       "      <td>yes_relation</td>\n",
       "      <td>bcv_hard_69</td>\n",
       "      <td>756359660</td>\n",
       "      <td>0.596050</td>\n",
       "    </tr>\n",
       "    <tr>\n",
       "      <th>23</th>\n",
       "      <td>false_pos</td>\n",
       "      <td>C010637</td>\n",
       "      <td>D017180</td>\n",
       "      <td>0</td>\n",
       "      <td>3.6</td>\n",
       "      <td>3</td>\n",
       "      <td>0.590570</td>\n",
       "      <td>11569530</td>\n",
       "      <td>yes_relation</td>\n",
       "      <td>bcv_hard_3</td>\n",
       "      <td>756359594</td>\n",
       "      <td>0.590570</td>\n",
       "    </tr>\n",
       "    <tr>\n",
       "      <th>49</th>\n",
       "      <td>false_pos</td>\n",
       "      <td>C016986</td>\n",
       "      <td>D007022</td>\n",
       "      <td>0</td>\n",
       "      <td>3.6</td>\n",
       "      <td>3</td>\n",
       "      <td>0.585290</td>\n",
       "      <td>8590259</td>\n",
       "      <td>yes_relation</td>\n",
       "      <td>bcv_hard_53</td>\n",
       "      <td>756359644</td>\n",
       "      <td>0.585290</td>\n",
       "    </tr>\n",
       "    <tr>\n",
       "      <th>20</th>\n",
       "      <td>false_pos</td>\n",
       "      <td>D002045</td>\n",
       "      <td>D006319</td>\n",
       "      <td>0</td>\n",
       "      <td>3.2</td>\n",
       "      <td>3</td>\n",
       "      <td>0.580529</td>\n",
       "      <td>9522143</td>\n",
       "      <td>yes_relation</td>\n",
       "      <td>bcv_hard_27</td>\n",
       "      <td>756359618</td>\n",
       "      <td>0.580529</td>\n",
       "    </tr>\n",
       "    <tr>\n",
       "      <th>13</th>\n",
       "      <td>false_pos</td>\n",
       "      <td>D013874</td>\n",
       "      <td>D014474</td>\n",
       "      <td>0</td>\n",
       "      <td>3.0</td>\n",
       "      <td>3</td>\n",
       "      <td>0.568997</td>\n",
       "      <td>8595686</td>\n",
       "      <td>yes_relation</td>\n",
       "      <td>bcv_hard_20</td>\n",
       "      <td>756359611</td>\n",
       "      <td>0.568997</td>\n",
       "    </tr>\n",
       "  </tbody>\n",
       "</table>\n",
       "</div>"
      ],
      "text/plain": [
       "    ans_class chemical_id       disease_id  in_gold  norm_conf  num_votes  \\\n",
       "11  false_pos     D015742          D014474        0        3.6          5   \n",
       "83  false_pos     D005839          D007674        0        3.2          5   \n",
       "17  false_pos     D010862          D004827        0        3.4          5   \n",
       "65  false_pos     D000305          D004342        0        3.6          5   \n",
       "3   false_pos     C056507          D003643        0        3.2          4   \n",
       "85  false_pos     D002512          D007674        0        3.0          4   \n",
       "19  false_pos     D011318          D006319        0        3.4          4   \n",
       "88  false_pos     D017963          D007674        0        3.0          4   \n",
       "78  false_pos     D002945          D003643        0        3.2          4   \n",
       "59  false_pos     D009241  D002318|D005767        0        3.6          3   \n",
       "68  false_pos     D000305          D014581        0        3.2          3   \n",
       "12  false_pos     D016593          D017180        0        3.2          3   \n",
       "45  false_pos     D017239          D003643        0        3.2          3   \n",
       "66  false_pos     D000305          D003231        0        3.8          3   \n",
       "23  false_pos     C010637          D017180        0        3.6          3   \n",
       "49  false_pos     C016986          D007022        0        3.6          3   \n",
       "20  false_pos     D002045          D006319        0        3.2          3   \n",
       "13  false_pos     D013874          D014474        0        3.0          3   \n",
       "\n",
       "    percent_agree      pmid top_crowd_response      uniq_id    unit_id  \\\n",
       "11       1.000000   8595686       yes_relation  bcv_hard_19  756359610   \n",
       "83       1.000000   1130930       yes_relation  bcv_hard_84  756359675   \n",
       "17       1.000000  16337777       yes_relation  bcv_hard_24  756359615   \n",
       "65       1.000000   7582165       yes_relation  bcv_hard_68  756359659   \n",
       "3        0.819446  11135224       yes_relation  bcv_hard_11  756359602   \n",
       "85       0.803878   1130930       yes_relation  bcv_hard_86  756359677   \n",
       "19       0.791880   9522143       yes_relation  bcv_hard_26  756359617   \n",
       "88       0.788871  15602202       yes_relation  bcv_hard_89  756359680   \n",
       "78       0.786219  11135224       yes_relation   bcv_hard_8  756359599   \n",
       "59       0.630163   1835291       yes_relation  bcv_hard_62  756359653   \n",
       "68       0.612757   7582165       yes_relation  bcv_hard_70  756359661   \n",
       "12       0.611098  11569530       yes_relation   bcv_hard_2  756359593   \n",
       "45       0.601094  11135224       yes_relation   bcv_hard_5  756359596   \n",
       "66       0.596050   7582165       yes_relation  bcv_hard_69  756359660   \n",
       "23       0.590570  11569530       yes_relation   bcv_hard_3  756359594   \n",
       "49       0.585290   8590259       yes_relation  bcv_hard_53  756359644   \n",
       "20       0.580529   9522143       yes_relation  bcv_hard_27  756359618   \n",
       "13       0.568997   8595686       yes_relation  bcv_hard_20  756359611   \n",
       "\n",
       "    threshold_score  \n",
       "11         1.000000  \n",
       "83         1.000000  \n",
       "17         1.000000  \n",
       "65         1.000000  \n",
       "3          0.819446  \n",
       "85         0.803878  \n",
       "19         0.791880  \n",
       "88         0.788871  \n",
       "78         0.786219  \n",
       "59         0.630163  \n",
       "68         0.612757  \n",
       "12         0.611098  \n",
       "45         0.601094  \n",
       "66         0.596050  \n",
       "23         0.590570  \n",
       "49         0.585290  \n",
       "20         0.580529  \n",
       "13         0.568997  "
      ]
     },
     "execution_count": 53,
     "metadata": {},
     "output_type": "execute_result"
    }
   ],
   "source": [
    "false_positives.sort(\"percent_agree\", ascending = False)"
   ]
  },
  {
   "cell_type": "code",
   "execution_count": 54,
   "metadata": {
    "collapsed": false
   },
   "outputs": [],
   "source": [
    "true_negatives = perf_no.query(\"ans_class == 'true_neg'\")"
   ]
  },
  {
   "cell_type": "code",
   "execution_count": 55,
   "metadata": {
    "collapsed": false,
    "scrolled": true
   },
   "outputs": [
    {
     "data": {
      "text/html": [
       "<div>\n",
       "<table border=\"1\" class=\"dataframe\">\n",
       "  <thead>\n",
       "    <tr style=\"text-align: right;\">\n",
       "      <th></th>\n",
       "      <th>ans_class</th>\n",
       "      <th>chemical_id</th>\n",
       "      <th>disease_id</th>\n",
       "      <th>in_gold</th>\n",
       "      <th>norm_conf</th>\n",
       "      <th>num_votes</th>\n",
       "      <th>percent_agree</th>\n",
       "      <th>pmid</th>\n",
       "      <th>top_crowd_response</th>\n",
       "      <th>uniq_id</th>\n",
       "      <th>unit_id</th>\n",
       "      <th>threshold_score</th>\n",
       "    </tr>\n",
       "  </thead>\n",
       "  <tbody>\n",
       "    <tr>\n",
       "      <th>0</th>\n",
       "      <td>true_neg</td>\n",
       "      <td>C063968</td>\n",
       "      <td>D017180</td>\n",
       "      <td>0</td>\n",
       "      <td>3.2</td>\n",
       "      <td>5</td>\n",
       "      <td>1.000000</td>\n",
       "      <td>11569530</td>\n",
       "      <td>no_relation</td>\n",
       "      <td>bcv_hard_0</td>\n",
       "      <td>756359591</td>\n",
       "      <td>-1.000000</td>\n",
       "    </tr>\n",
       "    <tr>\n",
       "      <th>74</th>\n",
       "      <td>true_neg</td>\n",
       "      <td>D003000</td>\n",
       "      <td>D006333</td>\n",
       "      <td>0</td>\n",
       "      <td>3.0</td>\n",
       "      <td>5</td>\n",
       "      <td>1.000000</td>\n",
       "      <td>17261653</td>\n",
       "      <td>no_relation</td>\n",
       "      <td>bcv_hard_76</td>\n",
       "      <td>756359667</td>\n",
       "      <td>-1.000000</td>\n",
       "    </tr>\n",
       "    <tr>\n",
       "      <th>41</th>\n",
       "      <td>true_neg</td>\n",
       "      <td>D049971</td>\n",
       "      <td>D006333</td>\n",
       "      <td>0</td>\n",
       "      <td>3.6</td>\n",
       "      <td>5</td>\n",
       "      <td>1.000000</td>\n",
       "      <td>15632880</td>\n",
       "      <td>no_relation</td>\n",
       "      <td>bcv_hard_46</td>\n",
       "      <td>756359637</td>\n",
       "      <td>-1.000000</td>\n",
       "    </tr>\n",
       "    <tr>\n",
       "      <th>42</th>\n",
       "      <td>true_neg</td>\n",
       "      <td>D049971</td>\n",
       "      <td>D006947</td>\n",
       "      <td>0</td>\n",
       "      <td>3.4</td>\n",
       "      <td>5</td>\n",
       "      <td>1.000000</td>\n",
       "      <td>15632880</td>\n",
       "      <td>no_relation</td>\n",
       "      <td>bcv_hard_47</td>\n",
       "      <td>756359638</td>\n",
       "      <td>-1.000000</td>\n",
       "    </tr>\n",
       "    <tr>\n",
       "      <th>43</th>\n",
       "      <td>true_neg</td>\n",
       "      <td>D049971</td>\n",
       "      <td>D003920</td>\n",
       "      <td>0</td>\n",
       "      <td>3.4</td>\n",
       "      <td>5</td>\n",
       "      <td>1.000000</td>\n",
       "      <td>15632880</td>\n",
       "      <td>no_relation</td>\n",
       "      <td>bcv_hard_48</td>\n",
       "      <td>756359639</td>\n",
       "      <td>-1.000000</td>\n",
       "    </tr>\n",
       "    <tr>\n",
       "      <th>44</th>\n",
       "      <td>true_neg</td>\n",
       "      <td>D013148</td>\n",
       "      <td>D003920</td>\n",
       "      <td>0</td>\n",
       "      <td>3.6</td>\n",
       "      <td>5</td>\n",
       "      <td>1.000000</td>\n",
       "      <td>15632880</td>\n",
       "      <td>no_relation</td>\n",
       "      <td>bcv_hard_49</td>\n",
       "      <td>756359640</td>\n",
       "      <td>-1.000000</td>\n",
       "    </tr>\n",
       "    <tr>\n",
       "      <th>52</th>\n",
       "      <td>true_neg</td>\n",
       "      <td>D012964</td>\n",
       "      <td>D014202</td>\n",
       "      <td>0</td>\n",
       "      <td>3.6</td>\n",
       "      <td>5</td>\n",
       "      <td>1.000000</td>\n",
       "      <td>12198388</td>\n",
       "      <td>no_relation</td>\n",
       "      <td>bcv_hard_56</td>\n",
       "      <td>756359647</td>\n",
       "      <td>-1.000000</td>\n",
       "    </tr>\n",
       "    <tr>\n",
       "      <th>54</th>\n",
       "      <td>true_neg</td>\n",
       "      <td>D011188</td>\n",
       "      <td>D012640</td>\n",
       "      <td>0</td>\n",
       "      <td>2.8</td>\n",
       "      <td>5</td>\n",
       "      <td>1.000000</td>\n",
       "      <td>12198388</td>\n",
       "      <td>no_relation</td>\n",
       "      <td>bcv_hard_58</td>\n",
       "      <td>756359649</td>\n",
       "      <td>-1.000000</td>\n",
       "    </tr>\n",
       "    <tr>\n",
       "      <th>55</th>\n",
       "      <td>true_neg</td>\n",
       "      <td>D011188</td>\n",
       "      <td>D014202</td>\n",
       "      <td>0</td>\n",
       "      <td>3.4</td>\n",
       "      <td>5</td>\n",
       "      <td>1.000000</td>\n",
       "      <td>12198388</td>\n",
       "      <td>no_relation</td>\n",
       "      <td>bcv_hard_59</td>\n",
       "      <td>756359650</td>\n",
       "      <td>-1.000000</td>\n",
       "    </tr>\n",
       "    <tr>\n",
       "      <th>72</th>\n",
       "      <td>true_neg</td>\n",
       "      <td>D003000</td>\n",
       "      <td>D001145</td>\n",
       "      <td>0</td>\n",
       "      <td>3.8</td>\n",
       "      <td>5</td>\n",
       "      <td>1.000000</td>\n",
       "      <td>17261653</td>\n",
       "      <td>no_relation</td>\n",
       "      <td>bcv_hard_74</td>\n",
       "      <td>756359665</td>\n",
       "      <td>-1.000000</td>\n",
       "    </tr>\n",
       "    <tr>\n",
       "      <th>73</th>\n",
       "      <td>true_neg</td>\n",
       "      <td>D003000</td>\n",
       "      <td>D002318</td>\n",
       "      <td>0</td>\n",
       "      <td>3.6</td>\n",
       "      <td>5</td>\n",
       "      <td>1.000000</td>\n",
       "      <td>17261653</td>\n",
       "      <td>no_relation</td>\n",
       "      <td>bcv_hard_75</td>\n",
       "      <td>756359666</td>\n",
       "      <td>-1.000000</td>\n",
       "    </tr>\n",
       "    <tr>\n",
       "      <th>75</th>\n",
       "      <td>true_neg</td>\n",
       "      <td>D003000</td>\n",
       "      <td>D003327</td>\n",
       "      <td>0</td>\n",
       "      <td>3.0</td>\n",
       "      <td>5</td>\n",
       "      <td>1.000000</td>\n",
       "      <td>17261653</td>\n",
       "      <td>no_relation</td>\n",
       "      <td>bcv_hard_77</td>\n",
       "      <td>756359668</td>\n",
       "      <td>-1.000000</td>\n",
       "    </tr>\n",
       "    <tr>\n",
       "      <th>39</th>\n",
       "      <td>true_neg</td>\n",
       "      <td>D003404</td>\n",
       "      <td>D003920</td>\n",
       "      <td>0</td>\n",
       "      <td>3.8</td>\n",
       "      <td>5</td>\n",
       "      <td>1.000000</td>\n",
       "      <td>15632880</td>\n",
       "      <td>no_relation</td>\n",
       "      <td>bcv_hard_44</td>\n",
       "      <td>756359635</td>\n",
       "      <td>-1.000000</td>\n",
       "    </tr>\n",
       "    <tr>\n",
       "      <th>76</th>\n",
       "      <td>true_neg</td>\n",
       "      <td>D009712</td>\n",
       "      <td>D001145</td>\n",
       "      <td>0</td>\n",
       "      <td>3.6</td>\n",
       "      <td>5</td>\n",
       "      <td>1.000000</td>\n",
       "      <td>17261653</td>\n",
       "      <td>no_relation</td>\n",
       "      <td>bcv_hard_78</td>\n",
       "      <td>756359669</td>\n",
       "      <td>-1.000000</td>\n",
       "    </tr>\n",
       "    <tr>\n",
       "      <th>79</th>\n",
       "      <td>true_neg</td>\n",
       "      <td>D009712</td>\n",
       "      <td>D006333</td>\n",
       "      <td>0</td>\n",
       "      <td>3.6</td>\n",
       "      <td>5</td>\n",
       "      <td>1.000000</td>\n",
       "      <td>17261653</td>\n",
       "      <td>no_relation</td>\n",
       "      <td>bcv_hard_80</td>\n",
       "      <td>756359671</td>\n",
       "      <td>-1.000000</td>\n",
       "    </tr>\n",
       "    <tr>\n",
       "      <th>80</th>\n",
       "      <td>true_neg</td>\n",
       "      <td>D009712</td>\n",
       "      <td>D003327</td>\n",
       "      <td>0</td>\n",
       "      <td>3.6</td>\n",
       "      <td>5</td>\n",
       "      <td>1.000000</td>\n",
       "      <td>17261653</td>\n",
       "      <td>no_relation</td>\n",
       "      <td>bcv_hard_81</td>\n",
       "      <td>756359672</td>\n",
       "      <td>-1.000000</td>\n",
       "    </tr>\n",
       "    <tr>\n",
       "      <th>81</th>\n",
       "      <td>true_neg</td>\n",
       "      <td>D009712</td>\n",
       "      <td>D001919</td>\n",
       "      <td>0</td>\n",
       "      <td>3.6</td>\n",
       "      <td>5</td>\n",
       "      <td>1.000000</td>\n",
       "      <td>17261653</td>\n",
       "      <td>no_relation</td>\n",
       "      <td>bcv_hard_82</td>\n",
       "      <td>756359673</td>\n",
       "      <td>-1.000000</td>\n",
       "    </tr>\n",
       "    <tr>\n",
       "      <th>91</th>\n",
       "      <td>true_neg</td>\n",
       "      <td>D020849</td>\n",
       "      <td>D010024</td>\n",
       "      <td>0</td>\n",
       "      <td>3.6</td>\n",
       "      <td>5</td>\n",
       "      <td>1.000000</td>\n",
       "      <td>16167916</td>\n",
       "      <td>no_relation</td>\n",
       "      <td>bcv_hard_91</td>\n",
       "      <td>756359682</td>\n",
       "      <td>-1.000000</td>\n",
       "    </tr>\n",
       "    <tr>\n",
       "      <th>92</th>\n",
       "      <td>true_neg</td>\n",
       "      <td>D020849</td>\n",
       "      <td>D001851</td>\n",
       "      <td>0</td>\n",
       "      <td>3.8</td>\n",
       "      <td>5</td>\n",
       "      <td>1.000000</td>\n",
       "      <td>16167916</td>\n",
       "      <td>no_relation</td>\n",
       "      <td>bcv_hard_92</td>\n",
       "      <td>756359683</td>\n",
       "      <td>-1.000000</td>\n",
       "    </tr>\n",
       "    <tr>\n",
       "      <th>93</th>\n",
       "      <td>true_neg</td>\n",
       "      <td>D002118</td>\n",
       "      <td>D000568</td>\n",
       "      <td>0</td>\n",
       "      <td>3.8</td>\n",
       "      <td>5</td>\n",
       "      <td>1.000000</td>\n",
       "      <td>16167916</td>\n",
       "      <td>no_relation</td>\n",
       "      <td>bcv_hard_93</td>\n",
       "      <td>756359684</td>\n",
       "      <td>-1.000000</td>\n",
       "    </tr>\n",
       "    <tr>\n",
       "      <th>94</th>\n",
       "      <td>true_neg</td>\n",
       "      <td>D002118</td>\n",
       "      <td>D010024</td>\n",
       "      <td>0</td>\n",
       "      <td>3.8</td>\n",
       "      <td>5</td>\n",
       "      <td>1.000000</td>\n",
       "      <td>16167916</td>\n",
       "      <td>no_relation</td>\n",
       "      <td>bcv_hard_94</td>\n",
       "      <td>756359685</td>\n",
       "      <td>-1.000000</td>\n",
       "    </tr>\n",
       "    <tr>\n",
       "      <th>95</th>\n",
       "      <td>true_neg</td>\n",
       "      <td>D002118</td>\n",
       "      <td>D001851</td>\n",
       "      <td>0</td>\n",
       "      <td>3.6</td>\n",
       "      <td>5</td>\n",
       "      <td>1.000000</td>\n",
       "      <td>16167916</td>\n",
       "      <td>no_relation</td>\n",
       "      <td>bcv_hard_95</td>\n",
       "      <td>756359686</td>\n",
       "      <td>-1.000000</td>\n",
       "    </tr>\n",
       "    <tr>\n",
       "      <th>40</th>\n",
       "      <td>true_neg</td>\n",
       "      <td>D011188</td>\n",
       "      <td>D006333</td>\n",
       "      <td>0</td>\n",
       "      <td>3.6</td>\n",
       "      <td>5</td>\n",
       "      <td>1.000000</td>\n",
       "      <td>15632880</td>\n",
       "      <td>no_relation</td>\n",
       "      <td>bcv_hard_45</td>\n",
       "      <td>756359636</td>\n",
       "      <td>-1.000000</td>\n",
       "    </tr>\n",
       "    <tr>\n",
       "      <th>51</th>\n",
       "      <td>true_neg</td>\n",
       "      <td>D000109</td>\n",
       "      <td>D014202</td>\n",
       "      <td>0</td>\n",
       "      <td>3.4</td>\n",
       "      <td>5</td>\n",
       "      <td>1.000000</td>\n",
       "      <td>12198388</td>\n",
       "      <td>no_relation</td>\n",
       "      <td>bcv_hard_55</td>\n",
       "      <td>756359646</td>\n",
       "      <td>-1.000000</td>\n",
       "    </tr>\n",
       "    <tr>\n",
       "      <th>38</th>\n",
       "      <td>true_neg</td>\n",
       "      <td>D003404</td>\n",
       "      <td>D006947</td>\n",
       "      <td>0</td>\n",
       "      <td>3.8</td>\n",
       "      <td>5</td>\n",
       "      <td>1.000000</td>\n",
       "      <td>15632880</td>\n",
       "      <td>no_relation</td>\n",
       "      <td>bcv_hard_43</td>\n",
       "      <td>756359634</td>\n",
       "      <td>-1.000000</td>\n",
       "    </tr>\n",
       "    <tr>\n",
       "      <th>29</th>\n",
       "      <td>true_neg</td>\n",
       "      <td>D025101</td>\n",
       "      <td>D012640</td>\n",
       "      <td>0</td>\n",
       "      <td>3.8</td>\n",
       "      <td>5</td>\n",
       "      <td>1.000000</td>\n",
       "      <td>2265898</td>\n",
       "      <td>no_relation</td>\n",
       "      <td>bcv_hard_35</td>\n",
       "      <td>756359626</td>\n",
       "      <td>-1.000000</td>\n",
       "    </tr>\n",
       "    <tr>\n",
       "      <th>5</th>\n",
       "      <td>true_neg</td>\n",
       "      <td>D003404</td>\n",
       "      <td>D006973</td>\n",
       "      <td>0</td>\n",
       "      <td>2.8</td>\n",
       "      <td>5</td>\n",
       "      <td>1.000000</td>\n",
       "      <td>1378968</td>\n",
       "      <td>no_relation</td>\n",
       "      <td>bcv_hard_13</td>\n",
       "      <td>756359604</td>\n",
       "      <td>-1.000000</td>\n",
       "    </tr>\n",
       "    <tr>\n",
       "      <th>6</th>\n",
       "      <td>true_neg</td>\n",
       "      <td>D003404</td>\n",
       "      <td>D011507</td>\n",
       "      <td>0</td>\n",
       "      <td>3.2</td>\n",
       "      <td>5</td>\n",
       "      <td>1.000000</td>\n",
       "      <td>1378968</td>\n",
       "      <td>no_relation</td>\n",
       "      <td>bcv_hard_14</td>\n",
       "      <td>756359605</td>\n",
       "      <td>-1.000000</td>\n",
       "    </tr>\n",
       "    <tr>\n",
       "      <th>8</th>\n",
       "      <td>true_neg</td>\n",
       "      <td>D003404</td>\n",
       "      <td>D007676</td>\n",
       "      <td>0</td>\n",
       "      <td>3.8</td>\n",
       "      <td>5</td>\n",
       "      <td>1.000000</td>\n",
       "      <td>1378968</td>\n",
       "      <td>no_relation</td>\n",
       "      <td>bcv_hard_16</td>\n",
       "      <td>756359607</td>\n",
       "      <td>-1.000000</td>\n",
       "    </tr>\n",
       "    <tr>\n",
       "      <th>9</th>\n",
       "      <td>true_neg</td>\n",
       "      <td>D003404</td>\n",
       "      <td>D005921</td>\n",
       "      <td>0</td>\n",
       "      <td>3.8</td>\n",
       "      <td>5</td>\n",
       "      <td>1.000000</td>\n",
       "      <td>1378968</td>\n",
       "      <td>no_relation</td>\n",
       "      <td>bcv_hard_17</td>\n",
       "      <td>756359608</td>\n",
       "      <td>-1.000000</td>\n",
       "    </tr>\n",
       "    <tr>\n",
       "      <th>15</th>\n",
       "      <td>true_neg</td>\n",
       "      <td>D010862</td>\n",
       "      <td>D003643</td>\n",
       "      <td>0</td>\n",
       "      <td>3.4</td>\n",
       "      <td>5</td>\n",
       "      <td>1.000000</td>\n",
       "      <td>16337777</td>\n",
       "      <td>no_relation</td>\n",
       "      <td>bcv_hard_22</td>\n",
       "      <td>756359613</td>\n",
       "      <td>-1.000000</td>\n",
       "    </tr>\n",
       "    <tr>\n",
       "      <th>28</th>\n",
       "      <td>true_neg</td>\n",
       "      <td>D025101</td>\n",
       "      <td>D001523</td>\n",
       "      <td>0</td>\n",
       "      <td>3.6</td>\n",
       "      <td>5</td>\n",
       "      <td>1.000000</td>\n",
       "      <td>2265898</td>\n",
       "      <td>no_relation</td>\n",
       "      <td>bcv_hard_34</td>\n",
       "      <td>756359625</td>\n",
       "      <td>-1.000000</td>\n",
       "    </tr>\n",
       "    <tr>\n",
       "      <th>22</th>\n",
       "      <td>true_neg</td>\n",
       "      <td>D008727</td>\n",
       "      <td>D009336</td>\n",
       "      <td>0</td>\n",
       "      <td>3.2</td>\n",
       "      <td>5</td>\n",
       "      <td>1.000000</td>\n",
       "      <td>17241784</td>\n",
       "      <td>no_relation</td>\n",
       "      <td>bcv_hard_29</td>\n",
       "      <td>756359620</td>\n",
       "      <td>-1.000000</td>\n",
       "    </tr>\n",
       "    <tr>\n",
       "      <th>30</th>\n",
       "      <td>true_neg</td>\n",
       "      <td>D025101</td>\n",
       "      <td>D004827</td>\n",
       "      <td>0</td>\n",
       "      <td>3.6</td>\n",
       "      <td>5</td>\n",
       "      <td>1.000000</td>\n",
       "      <td>2265898</td>\n",
       "      <td>no_relation</td>\n",
       "      <td>bcv_hard_36</td>\n",
       "      <td>756359627</td>\n",
       "      <td>-1.000000</td>\n",
       "    </tr>\n",
       "    <tr>\n",
       "      <th>33</th>\n",
       "      <td>true_neg</td>\n",
       "      <td>D006820</td>\n",
       "      <td>D001018</td>\n",
       "      <td>0</td>\n",
       "      <td>3.4</td>\n",
       "      <td>5</td>\n",
       "      <td>1.000000</td>\n",
       "      <td>6666578</td>\n",
       "      <td>no_relation</td>\n",
       "      <td>bcv_hard_39</td>\n",
       "      <td>756359630</td>\n",
       "      <td>-1.000000</td>\n",
       "    </tr>\n",
       "    <tr>\n",
       "      <th>36</th>\n",
       "      <td>true_neg</td>\n",
       "      <td>D002857</td>\n",
       "      <td>D003920</td>\n",
       "      <td>0</td>\n",
       "      <td>3.8</td>\n",
       "      <td>5</td>\n",
       "      <td>1.000000</td>\n",
       "      <td>15632880</td>\n",
       "      <td>no_relation</td>\n",
       "      <td>bcv_hard_41</td>\n",
       "      <td>756359632</td>\n",
       "      <td>-1.000000</td>\n",
       "    </tr>\n",
       "    <tr>\n",
       "      <th>35</th>\n",
       "      <td>true_neg</td>\n",
       "      <td>D002857</td>\n",
       "      <td>D006333</td>\n",
       "      <td>0</td>\n",
       "      <td>3.4</td>\n",
       "      <td>5</td>\n",
       "      <td>1.000000</td>\n",
       "      <td>15632880</td>\n",
       "      <td>no_relation</td>\n",
       "      <td>bcv_hard_40</td>\n",
       "      <td>756359631</td>\n",
       "      <td>-1.000000</td>\n",
       "    </tr>\n",
       "    <tr>\n",
       "      <th>31</th>\n",
       "      <td>true_neg</td>\n",
       "      <td>D025101</td>\n",
       "      <td>D007676</td>\n",
       "      <td>0</td>\n",
       "      <td>3.4</td>\n",
       "      <td>5</td>\n",
       "      <td>1.000000</td>\n",
       "      <td>2265898</td>\n",
       "      <td>no_relation</td>\n",
       "      <td>bcv_hard_37</td>\n",
       "      <td>756359628</td>\n",
       "      <td>-1.000000</td>\n",
       "    </tr>\n",
       "    <tr>\n",
       "      <th>77</th>\n",
       "      <td>true_neg</td>\n",
       "      <td>D009712</td>\n",
       "      <td>D002318</td>\n",
       "      <td>0</td>\n",
       "      <td>3.6</td>\n",
       "      <td>4</td>\n",
       "      <td>0.830493</td>\n",
       "      <td>17261653</td>\n",
       "      <td>no_relation</td>\n",
       "      <td>bcv_hard_79</td>\n",
       "      <td>756359670</td>\n",
       "      <td>-0.830493</td>\n",
       "    </tr>\n",
       "    <tr>\n",
       "      <th>25</th>\n",
       "      <td>true_neg</td>\n",
       "      <td>D011239</td>\n",
       "      <td>D009135</td>\n",
       "      <td>0</td>\n",
       "      <td>3.2</td>\n",
       "      <td>4</td>\n",
       "      <td>0.816430</td>\n",
       "      <td>17241784</td>\n",
       "      <td>no_relation</td>\n",
       "      <td>bcv_hard_31</td>\n",
       "      <td>756359622</td>\n",
       "      <td>-0.816430</td>\n",
       "    </tr>\n",
       "    <tr>\n",
       "      <th>58</th>\n",
       "      <td>true_neg</td>\n",
       "      <td>C522374</td>\n",
       "      <td>D014202</td>\n",
       "      <td>0</td>\n",
       "      <td>3.2</td>\n",
       "      <td>4</td>\n",
       "      <td>0.813581</td>\n",
       "      <td>12198388</td>\n",
       "      <td>no_relation</td>\n",
       "      <td>bcv_hard_61</td>\n",
       "      <td>756359652</td>\n",
       "      <td>-0.813581</td>\n",
       "    </tr>\n",
       "    <tr>\n",
       "      <th>21</th>\n",
       "      <td>true_neg</td>\n",
       "      <td>D008727</td>\n",
       "      <td>D009135</td>\n",
       "      <td>0</td>\n",
       "      <td>3.2</td>\n",
       "      <td>4</td>\n",
       "      <td>0.811718</td>\n",
       "      <td>17241784</td>\n",
       "      <td>no_relation</td>\n",
       "      <td>bcv_hard_28</td>\n",
       "      <td>756359619</td>\n",
       "      <td>-0.811718</td>\n",
       "    </tr>\n",
       "    <tr>\n",
       "      <th>84</th>\n",
       "      <td>true_neg</td>\n",
       "      <td>D005839</td>\n",
       "      <td>D051437</td>\n",
       "      <td>0</td>\n",
       "      <td>3.4</td>\n",
       "      <td>4</td>\n",
       "      <td>0.810404</td>\n",
       "      <td>1130930</td>\n",
       "      <td>no_relation</td>\n",
       "      <td>bcv_hard_85</td>\n",
       "      <td>756359676</td>\n",
       "      <td>-0.810404</td>\n",
       "    </tr>\n",
       "    <tr>\n",
       "      <th>86</th>\n",
       "      <td>true_neg</td>\n",
       "      <td>D002512</td>\n",
       "      <td>D051437</td>\n",
       "      <td>0</td>\n",
       "      <td>4.0</td>\n",
       "      <td>4</td>\n",
       "      <td>0.804355</td>\n",
       "      <td>1130930</td>\n",
       "      <td>no_relation</td>\n",
       "      <td>bcv_hard_87</td>\n",
       "      <td>756359678</td>\n",
       "      <td>-0.804355</td>\n",
       "    </tr>\n",
       "    <tr>\n",
       "      <th>7</th>\n",
       "      <td>true_neg</td>\n",
       "      <td>D003404</td>\n",
       "      <td>D007674</td>\n",
       "      <td>0</td>\n",
       "      <td>3.6</td>\n",
       "      <td>4</td>\n",
       "      <td>0.804351</td>\n",
       "      <td>1378968</td>\n",
       "      <td>no_relation</td>\n",
       "      <td>bcv_hard_15</td>\n",
       "      <td>756359606</td>\n",
       "      <td>-0.804351</td>\n",
       "    </tr>\n",
       "    <tr>\n",
       "      <th>82</th>\n",
       "      <td>true_neg</td>\n",
       "      <td>D020123</td>\n",
       "      <td>D005921</td>\n",
       "      <td>0</td>\n",
       "      <td>3.2</td>\n",
       "      <td>4</td>\n",
       "      <td>0.801114</td>\n",
       "      <td>18631865</td>\n",
       "      <td>no_relation</td>\n",
       "      <td>bcv_hard_83</td>\n",
       "      <td>756359674</td>\n",
       "      <td>-0.801114</td>\n",
       "    </tr>\n",
       "    <tr>\n",
       "      <th>37</th>\n",
       "      <td>true_neg</td>\n",
       "      <td>D003404</td>\n",
       "      <td>D006333</td>\n",
       "      <td>0</td>\n",
       "      <td>3.4</td>\n",
       "      <td>4</td>\n",
       "      <td>0.798628</td>\n",
       "      <td>15632880</td>\n",
       "      <td>no_relation</td>\n",
       "      <td>bcv_hard_42</td>\n",
       "      <td>756359633</td>\n",
       "      <td>-0.798628</td>\n",
       "    </tr>\n",
       "    <tr>\n",
       "      <th>53</th>\n",
       "      <td>true_neg</td>\n",
       "      <td>D000431</td>\n",
       "      <td>D014202</td>\n",
       "      <td>0</td>\n",
       "      <td>3.0</td>\n",
       "      <td>4</td>\n",
       "      <td>0.785933</td>\n",
       "      <td>12198388</td>\n",
       "      <td>no_relation</td>\n",
       "      <td>bcv_hard_57</td>\n",
       "      <td>756359648</td>\n",
       "      <td>-0.785933</td>\n",
       "    </tr>\n",
       "    <tr>\n",
       "      <th>16</th>\n",
       "      <td>true_neg</td>\n",
       "      <td>D010862</td>\n",
       "      <td>D028361</td>\n",
       "      <td>0</td>\n",
       "      <td>3.2</td>\n",
       "      <td>4</td>\n",
       "      <td>0.778658</td>\n",
       "      <td>16337777</td>\n",
       "      <td>no_relation</td>\n",
       "      <td>bcv_hard_23</td>\n",
       "      <td>756359614</td>\n",
       "      <td>-0.778658</td>\n",
       "    </tr>\n",
       "    <tr>\n",
       "      <th>57</th>\n",
       "      <td>true_neg</td>\n",
       "      <td>C522374</td>\n",
       "      <td>D012640</td>\n",
       "      <td>0</td>\n",
       "      <td>2.8</td>\n",
       "      <td>4</td>\n",
       "      <td>0.772825</td>\n",
       "      <td>12198388</td>\n",
       "      <td>no_relation</td>\n",
       "      <td>bcv_hard_60</td>\n",
       "      <td>756359651</td>\n",
       "      <td>-0.772825</td>\n",
       "    </tr>\n",
       "    <tr>\n",
       "      <th>96</th>\n",
       "      <td>true_neg</td>\n",
       "      <td>D002118</td>\n",
       "      <td>D054556</td>\n",
       "      <td>0</td>\n",
       "      <td>3.2</td>\n",
       "      <td>4</td>\n",
       "      <td>0.771960</td>\n",
       "      <td>16167916</td>\n",
       "      <td>no_relation</td>\n",
       "      <td>bcv_hard_96</td>\n",
       "      <td>756359687</td>\n",
       "      <td>-0.771960</td>\n",
       "    </tr>\n",
       "    <tr>\n",
       "      <th>26</th>\n",
       "      <td>true_neg</td>\n",
       "      <td>D011239</td>\n",
       "      <td>D009336</td>\n",
       "      <td>0</td>\n",
       "      <td>3.2</td>\n",
       "      <td>4</td>\n",
       "      <td>0.769919</td>\n",
       "      <td>17241784</td>\n",
       "      <td>no_relation</td>\n",
       "      <td>bcv_hard_32</td>\n",
       "      <td>756359623</td>\n",
       "      <td>-0.769919</td>\n",
       "    </tr>\n",
       "    <tr>\n",
       "      <th>62</th>\n",
       "      <td>true_neg</td>\n",
       "      <td>D003907</td>\n",
       "      <td>D004342</td>\n",
       "      <td>0</td>\n",
       "      <td>2.8</td>\n",
       "      <td>3</td>\n",
       "      <td>0.612267</td>\n",
       "      <td>7582165</td>\n",
       "      <td>no_relation</td>\n",
       "      <td>bcv_hard_65</td>\n",
       "      <td>756359656</td>\n",
       "      <td>-0.612267</td>\n",
       "    </tr>\n",
       "    <tr>\n",
       "      <th>1</th>\n",
       "      <td>true_neg</td>\n",
       "      <td>D020117</td>\n",
       "      <td>D017180</td>\n",
       "      <td>0</td>\n",
       "      <td>3.4</td>\n",
       "      <td>3</td>\n",
       "      <td>0.601123</td>\n",
       "      <td>11569530</td>\n",
       "      <td>no_relation</td>\n",
       "      <td>bcv_hard_1</td>\n",
       "      <td>756359592</td>\n",
       "      <td>-0.601123</td>\n",
       "    </tr>\n",
       "    <tr>\n",
       "      <th>87</th>\n",
       "      <td>true_neg</td>\n",
       "      <td>D009553</td>\n",
       "      <td>D003643</td>\n",
       "      <td>0</td>\n",
       "      <td>3.2</td>\n",
       "      <td>3</td>\n",
       "      <td>0.588899</td>\n",
       "      <td>10835440</td>\n",
       "      <td>no_relation</td>\n",
       "      <td>bcv_hard_88</td>\n",
       "      <td>756359679</td>\n",
       "      <td>-0.588899</td>\n",
       "    </tr>\n",
       "    <tr>\n",
       "      <th>90</th>\n",
       "      <td>true_neg</td>\n",
       "      <td>D020849</td>\n",
       "      <td>D000568</td>\n",
       "      <td>0</td>\n",
       "      <td>2.8</td>\n",
       "      <td>3</td>\n",
       "      <td>0.586079</td>\n",
       "      <td>16167916</td>\n",
       "      <td>no_relation</td>\n",
       "      <td>bcv_hard_90</td>\n",
       "      <td>756359681</td>\n",
       "      <td>-0.586079</td>\n",
       "    </tr>\n",
       "    <tr>\n",
       "      <th>14</th>\n",
       "      <td>true_neg</td>\n",
       "      <td>D008012</td>\n",
       "      <td>D014474</td>\n",
       "      <td>0</td>\n",
       "      <td>3.6</td>\n",
       "      <td>3</td>\n",
       "      <td>0.584024</td>\n",
       "      <td>8595686</td>\n",
       "      <td>no_relation</td>\n",
       "      <td>bcv_hard_21</td>\n",
       "      <td>756359612</td>\n",
       "      <td>-0.584024</td>\n",
       "    </tr>\n",
       "    <tr>\n",
       "      <th>69</th>\n",
       "      <td>true_neg</td>\n",
       "      <td>C017367</td>\n",
       "      <td>D001927</td>\n",
       "      <td>0</td>\n",
       "      <td>3.6</td>\n",
       "      <td>3</td>\n",
       "      <td>0.574420</td>\n",
       "      <td>2096243</td>\n",
       "      <td>no_relation</td>\n",
       "      <td>bcv_hard_71</td>\n",
       "      <td>756359662</td>\n",
       "      <td>-0.574420</td>\n",
       "    </tr>\n",
       "  </tbody>\n",
       "</table>\n",
       "</div>"
      ],
      "text/plain": [
       "   ans_class chemical_id disease_id  in_gold  norm_conf  num_votes  \\\n",
       "0   true_neg     C063968    D017180        0        3.2          5   \n",
       "74  true_neg     D003000    D006333        0        3.0          5   \n",
       "41  true_neg     D049971    D006333        0        3.6          5   \n",
       "42  true_neg     D049971    D006947        0        3.4          5   \n",
       "43  true_neg     D049971    D003920        0        3.4          5   \n",
       "44  true_neg     D013148    D003920        0        3.6          5   \n",
       "52  true_neg     D012964    D014202        0        3.6          5   \n",
       "54  true_neg     D011188    D012640        0        2.8          5   \n",
       "55  true_neg     D011188    D014202        0        3.4          5   \n",
       "72  true_neg     D003000    D001145        0        3.8          5   \n",
       "73  true_neg     D003000    D002318        0        3.6          5   \n",
       "75  true_neg     D003000    D003327        0        3.0          5   \n",
       "39  true_neg     D003404    D003920        0        3.8          5   \n",
       "76  true_neg     D009712    D001145        0        3.6          5   \n",
       "79  true_neg     D009712    D006333        0        3.6          5   \n",
       "80  true_neg     D009712    D003327        0        3.6          5   \n",
       "81  true_neg     D009712    D001919        0        3.6          5   \n",
       "91  true_neg     D020849    D010024        0        3.6          5   \n",
       "92  true_neg     D020849    D001851        0        3.8          5   \n",
       "93  true_neg     D002118    D000568        0        3.8          5   \n",
       "94  true_neg     D002118    D010024        0        3.8          5   \n",
       "95  true_neg     D002118    D001851        0        3.6          5   \n",
       "40  true_neg     D011188    D006333        0        3.6          5   \n",
       "51  true_neg     D000109    D014202        0        3.4          5   \n",
       "38  true_neg     D003404    D006947        0        3.8          5   \n",
       "29  true_neg     D025101    D012640        0        3.8          5   \n",
       "5   true_neg     D003404    D006973        0        2.8          5   \n",
       "6   true_neg     D003404    D011507        0        3.2          5   \n",
       "8   true_neg     D003404    D007676        0        3.8          5   \n",
       "9   true_neg     D003404    D005921        0        3.8          5   \n",
       "15  true_neg     D010862    D003643        0        3.4          5   \n",
       "28  true_neg     D025101    D001523        0        3.6          5   \n",
       "22  true_neg     D008727    D009336        0        3.2          5   \n",
       "30  true_neg     D025101    D004827        0        3.6          5   \n",
       "33  true_neg     D006820    D001018        0        3.4          5   \n",
       "36  true_neg     D002857    D003920        0        3.8          5   \n",
       "35  true_neg     D002857    D006333        0        3.4          5   \n",
       "31  true_neg     D025101    D007676        0        3.4          5   \n",
       "77  true_neg     D009712    D002318        0        3.6          4   \n",
       "25  true_neg     D011239    D009135        0        3.2          4   \n",
       "58  true_neg     C522374    D014202        0        3.2          4   \n",
       "21  true_neg     D008727    D009135        0        3.2          4   \n",
       "84  true_neg     D005839    D051437        0        3.4          4   \n",
       "86  true_neg     D002512    D051437        0        4.0          4   \n",
       "7   true_neg     D003404    D007674        0        3.6          4   \n",
       "82  true_neg     D020123    D005921        0        3.2          4   \n",
       "37  true_neg     D003404    D006333        0        3.4          4   \n",
       "53  true_neg     D000431    D014202        0        3.0          4   \n",
       "16  true_neg     D010862    D028361        0        3.2          4   \n",
       "57  true_neg     C522374    D012640        0        2.8          4   \n",
       "96  true_neg     D002118    D054556        0        3.2          4   \n",
       "26  true_neg     D011239    D009336        0        3.2          4   \n",
       "62  true_neg     D003907    D004342        0        2.8          3   \n",
       "1   true_neg     D020117    D017180        0        3.4          3   \n",
       "87  true_neg     D009553    D003643        0        3.2          3   \n",
       "90  true_neg     D020849    D000568        0        2.8          3   \n",
       "14  true_neg     D008012    D014474        0        3.6          3   \n",
       "69  true_neg     C017367    D001927        0        3.6          3   \n",
       "\n",
       "    percent_agree      pmid top_crowd_response      uniq_id    unit_id  \\\n",
       "0        1.000000  11569530        no_relation   bcv_hard_0  756359591   \n",
       "74       1.000000  17261653        no_relation  bcv_hard_76  756359667   \n",
       "41       1.000000  15632880        no_relation  bcv_hard_46  756359637   \n",
       "42       1.000000  15632880        no_relation  bcv_hard_47  756359638   \n",
       "43       1.000000  15632880        no_relation  bcv_hard_48  756359639   \n",
       "44       1.000000  15632880        no_relation  bcv_hard_49  756359640   \n",
       "52       1.000000  12198388        no_relation  bcv_hard_56  756359647   \n",
       "54       1.000000  12198388        no_relation  bcv_hard_58  756359649   \n",
       "55       1.000000  12198388        no_relation  bcv_hard_59  756359650   \n",
       "72       1.000000  17261653        no_relation  bcv_hard_74  756359665   \n",
       "73       1.000000  17261653        no_relation  bcv_hard_75  756359666   \n",
       "75       1.000000  17261653        no_relation  bcv_hard_77  756359668   \n",
       "39       1.000000  15632880        no_relation  bcv_hard_44  756359635   \n",
       "76       1.000000  17261653        no_relation  bcv_hard_78  756359669   \n",
       "79       1.000000  17261653        no_relation  bcv_hard_80  756359671   \n",
       "80       1.000000  17261653        no_relation  bcv_hard_81  756359672   \n",
       "81       1.000000  17261653        no_relation  bcv_hard_82  756359673   \n",
       "91       1.000000  16167916        no_relation  bcv_hard_91  756359682   \n",
       "92       1.000000  16167916        no_relation  bcv_hard_92  756359683   \n",
       "93       1.000000  16167916        no_relation  bcv_hard_93  756359684   \n",
       "94       1.000000  16167916        no_relation  bcv_hard_94  756359685   \n",
       "95       1.000000  16167916        no_relation  bcv_hard_95  756359686   \n",
       "40       1.000000  15632880        no_relation  bcv_hard_45  756359636   \n",
       "51       1.000000  12198388        no_relation  bcv_hard_55  756359646   \n",
       "38       1.000000  15632880        no_relation  bcv_hard_43  756359634   \n",
       "29       1.000000   2265898        no_relation  bcv_hard_35  756359626   \n",
       "5        1.000000   1378968        no_relation  bcv_hard_13  756359604   \n",
       "6        1.000000   1378968        no_relation  bcv_hard_14  756359605   \n",
       "8        1.000000   1378968        no_relation  bcv_hard_16  756359607   \n",
       "9        1.000000   1378968        no_relation  bcv_hard_17  756359608   \n",
       "15       1.000000  16337777        no_relation  bcv_hard_22  756359613   \n",
       "28       1.000000   2265898        no_relation  bcv_hard_34  756359625   \n",
       "22       1.000000  17241784        no_relation  bcv_hard_29  756359620   \n",
       "30       1.000000   2265898        no_relation  bcv_hard_36  756359627   \n",
       "33       1.000000   6666578        no_relation  bcv_hard_39  756359630   \n",
       "36       1.000000  15632880        no_relation  bcv_hard_41  756359632   \n",
       "35       1.000000  15632880        no_relation  bcv_hard_40  756359631   \n",
       "31       1.000000   2265898        no_relation  bcv_hard_37  756359628   \n",
       "77       0.830493  17261653        no_relation  bcv_hard_79  756359670   \n",
       "25       0.816430  17241784        no_relation  bcv_hard_31  756359622   \n",
       "58       0.813581  12198388        no_relation  bcv_hard_61  756359652   \n",
       "21       0.811718  17241784        no_relation  bcv_hard_28  756359619   \n",
       "84       0.810404   1130930        no_relation  bcv_hard_85  756359676   \n",
       "86       0.804355   1130930        no_relation  bcv_hard_87  756359678   \n",
       "7        0.804351   1378968        no_relation  bcv_hard_15  756359606   \n",
       "82       0.801114  18631865        no_relation  bcv_hard_83  756359674   \n",
       "37       0.798628  15632880        no_relation  bcv_hard_42  756359633   \n",
       "53       0.785933  12198388        no_relation  bcv_hard_57  756359648   \n",
       "16       0.778658  16337777        no_relation  bcv_hard_23  756359614   \n",
       "57       0.772825  12198388        no_relation  bcv_hard_60  756359651   \n",
       "96       0.771960  16167916        no_relation  bcv_hard_96  756359687   \n",
       "26       0.769919  17241784        no_relation  bcv_hard_32  756359623   \n",
       "62       0.612267   7582165        no_relation  bcv_hard_65  756359656   \n",
       "1        0.601123  11569530        no_relation   bcv_hard_1  756359592   \n",
       "87       0.588899  10835440        no_relation  bcv_hard_88  756359679   \n",
       "90       0.586079  16167916        no_relation  bcv_hard_90  756359681   \n",
       "14       0.584024   8595686        no_relation  bcv_hard_21  756359612   \n",
       "69       0.574420   2096243        no_relation  bcv_hard_71  756359662   \n",
       "\n",
       "    threshold_score  \n",
       "0         -1.000000  \n",
       "74        -1.000000  \n",
       "41        -1.000000  \n",
       "42        -1.000000  \n",
       "43        -1.000000  \n",
       "44        -1.000000  \n",
       "52        -1.000000  \n",
       "54        -1.000000  \n",
       "55        -1.000000  \n",
       "72        -1.000000  \n",
       "73        -1.000000  \n",
       "75        -1.000000  \n",
       "39        -1.000000  \n",
       "76        -1.000000  \n",
       "79        -1.000000  \n",
       "80        -1.000000  \n",
       "81        -1.000000  \n",
       "91        -1.000000  \n",
       "92        -1.000000  \n",
       "93        -1.000000  \n",
       "94        -1.000000  \n",
       "95        -1.000000  \n",
       "40        -1.000000  \n",
       "51        -1.000000  \n",
       "38        -1.000000  \n",
       "29        -1.000000  \n",
       "5         -1.000000  \n",
       "6         -1.000000  \n",
       "8         -1.000000  \n",
       "9         -1.000000  \n",
       "15        -1.000000  \n",
       "28        -1.000000  \n",
       "22        -1.000000  \n",
       "30        -1.000000  \n",
       "33        -1.000000  \n",
       "36        -1.000000  \n",
       "35        -1.000000  \n",
       "31        -1.000000  \n",
       "77        -0.830493  \n",
       "25        -0.816430  \n",
       "58        -0.813581  \n",
       "21        -0.811718  \n",
       "84        -0.810404  \n",
       "86        -0.804355  \n",
       "7         -0.804351  \n",
       "82        -0.801114  \n",
       "37        -0.798628  \n",
       "53        -0.785933  \n",
       "16        -0.778658  \n",
       "57        -0.772825  \n",
       "96        -0.771960  \n",
       "26        -0.769919  \n",
       "62        -0.612267  \n",
       "1         -0.601123  \n",
       "87        -0.588899  \n",
       "90        -0.586079  \n",
       "14        -0.584024  \n",
       "69        -0.574420  "
      ]
     },
     "execution_count": 55,
     "metadata": {},
     "output_type": "execute_result"
    }
   ],
   "source": [
    "true_negatives.sort(\"percent_agree\", ascending = False)"
   ]
  },
  {
   "cell_type": "code",
   "execution_count": 56,
   "metadata": {
    "collapsed": false
   },
   "outputs": [],
   "source": [
    "true_positives = perf_no.query(\"ans_class == 'true_pos'\")"
   ]
  },
  {
   "cell_type": "code",
   "execution_count": 57,
   "metadata": {
    "collapsed": false
   },
   "outputs": [
    {
     "data": {
      "text/html": [
       "<div>\n",
       "<table border=\"1\" class=\"dataframe\">\n",
       "  <thead>\n",
       "    <tr style=\"text-align: right;\">\n",
       "      <th></th>\n",
       "      <th>ans_class</th>\n",
       "      <th>chemical_id</th>\n",
       "      <th>disease_id</th>\n",
       "      <th>in_gold</th>\n",
       "      <th>norm_conf</th>\n",
       "      <th>num_votes</th>\n",
       "      <th>percent_agree</th>\n",
       "      <th>pmid</th>\n",
       "      <th>top_crowd_response</th>\n",
       "      <th>uniq_id</th>\n",
       "      <th>unit_id</th>\n",
       "      <th>threshold_score</th>\n",
       "    </tr>\n",
       "  </thead>\n",
       "  <tbody>\n",
       "    <tr>\n",
       "      <th>2</th>\n",
       "      <td>true_pos</td>\n",
       "      <td>C056507</td>\n",
       "      <td>D013921</td>\n",
       "      <td>1</td>\n",
       "      <td>3.4</td>\n",
       "      <td>5</td>\n",
       "      <td>1.000000</td>\n",
       "      <td>11135224</td>\n",
       "      <td>yes_relation</td>\n",
       "      <td>bcv_hard_10</td>\n",
       "      <td>756359601</td>\n",
       "      <td>1.000000</td>\n",
       "    </tr>\n",
       "    <tr>\n",
       "      <th>61</th>\n",
       "      <td>true_pos</td>\n",
       "      <td>D010248</td>\n",
       "      <td>D014581</td>\n",
       "      <td>1</td>\n",
       "      <td>3.2</td>\n",
       "      <td>5</td>\n",
       "      <td>1.000000</td>\n",
       "      <td>7582165</td>\n",
       "      <td>yes_relation</td>\n",
       "      <td>bcv_hard_64</td>\n",
       "      <td>756359655</td>\n",
       "      <td>1.000000</td>\n",
       "    </tr>\n",
       "    <tr>\n",
       "      <th>71</th>\n",
       "      <td>true_pos</td>\n",
       "      <td>D008874</td>\n",
       "      <td>D012140|D002318</td>\n",
       "      <td>1</td>\n",
       "      <td>3.6</td>\n",
       "      <td>5</td>\n",
       "      <td>1.000000</td>\n",
       "      <td>2375138</td>\n",
       "      <td>yes_relation</td>\n",
       "      <td>bcv_hard_73</td>\n",
       "      <td>756359664</td>\n",
       "      <td>1.000000</td>\n",
       "    </tr>\n",
       "    <tr>\n",
       "      <th>70</th>\n",
       "      <td>true_pos</td>\n",
       "      <td>D004317</td>\n",
       "      <td>D009202</td>\n",
       "      <td>1</td>\n",
       "      <td>3.4</td>\n",
       "      <td>5</td>\n",
       "      <td>1.000000</td>\n",
       "      <td>7449470</td>\n",
       "      <td>yes_relation</td>\n",
       "      <td>bcv_hard_72</td>\n",
       "      <td>756359663</td>\n",
       "      <td>1.000000</td>\n",
       "    </tr>\n",
       "    <tr>\n",
       "      <th>27</th>\n",
       "      <td>true_pos</td>\n",
       "      <td>C009265</td>\n",
       "      <td>D004827</td>\n",
       "      <td>1</td>\n",
       "      <td>3.4</td>\n",
       "      <td>5</td>\n",
       "      <td>1.000000</td>\n",
       "      <td>2265898</td>\n",
       "      <td>yes_relation</td>\n",
       "      <td>bcv_hard_33</td>\n",
       "      <td>756359624</td>\n",
       "      <td>1.000000</td>\n",
       "    </tr>\n",
       "    <tr>\n",
       "      <th>32</th>\n",
       "      <td>true_pos</td>\n",
       "      <td>D010396</td>\n",
       "      <td>D001018</td>\n",
       "      <td>1</td>\n",
       "      <td>3.6</td>\n",
       "      <td>5</td>\n",
       "      <td>1.000000</td>\n",
       "      <td>6666578</td>\n",
       "      <td>yes_relation</td>\n",
       "      <td>bcv_hard_38</td>\n",
       "      <td>756359629</td>\n",
       "      <td>1.000000</td>\n",
       "    </tr>\n",
       "    <tr>\n",
       "      <th>34</th>\n",
       "      <td>true_pos</td>\n",
       "      <td>D017239</td>\n",
       "      <td>D013921</td>\n",
       "      <td>1</td>\n",
       "      <td>3.0</td>\n",
       "      <td>5</td>\n",
       "      <td>1.000000</td>\n",
       "      <td>11135224</td>\n",
       "      <td>yes_relation</td>\n",
       "      <td>bcv_hard_4</td>\n",
       "      <td>756359595</td>\n",
       "      <td>1.000000</td>\n",
       "    </tr>\n",
       "    <tr>\n",
       "      <th>47</th>\n",
       "      <td>true_pos</td>\n",
       "      <td>C016986</td>\n",
       "      <td>D003316</td>\n",
       "      <td>1</td>\n",
       "      <td>3.4</td>\n",
       "      <td>5</td>\n",
       "      <td>1.000000</td>\n",
       "      <td>8590259</td>\n",
       "      <td>yes_relation</td>\n",
       "      <td>bcv_hard_51</td>\n",
       "      <td>756359642</td>\n",
       "      <td>1.000000</td>\n",
       "    </tr>\n",
       "    <tr>\n",
       "      <th>67</th>\n",
       "      <td>true_pos</td>\n",
       "      <td>D002945</td>\n",
       "      <td>D013921</td>\n",
       "      <td>1</td>\n",
       "      <td>3.4</td>\n",
       "      <td>5</td>\n",
       "      <td>1.000000</td>\n",
       "      <td>11135224</td>\n",
       "      <td>yes_relation</td>\n",
       "      <td>bcv_hard_7</td>\n",
       "      <td>756359598</td>\n",
       "      <td>1.000000</td>\n",
       "    </tr>\n",
       "    <tr>\n",
       "      <th>50</th>\n",
       "      <td>true_pos</td>\n",
       "      <td>C016986</td>\n",
       "      <td>D004774</td>\n",
       "      <td>1</td>\n",
       "      <td>3.0</td>\n",
       "      <td>5</td>\n",
       "      <td>1.000000</td>\n",
       "      <td>8590259</td>\n",
       "      <td>yes_relation</td>\n",
       "      <td>bcv_hard_54</td>\n",
       "      <td>756359645</td>\n",
       "      <td>1.000000</td>\n",
       "    </tr>\n",
       "    <tr>\n",
       "      <th>64</th>\n",
       "      <td>true_pos</td>\n",
       "      <td>D003907</td>\n",
       "      <td>D014581</td>\n",
       "      <td>1</td>\n",
       "      <td>3.6</td>\n",
       "      <td>5</td>\n",
       "      <td>1.000000</td>\n",
       "      <td>7582165</td>\n",
       "      <td>yes_relation</td>\n",
       "      <td>bcv_hard_67</td>\n",
       "      <td>756359658</td>\n",
       "      <td>1.000000</td>\n",
       "    </tr>\n",
       "    <tr>\n",
       "      <th>60</th>\n",
       "      <td>true_pos</td>\n",
       "      <td>D010248</td>\n",
       "      <td>D003231</td>\n",
       "      <td>1</td>\n",
       "      <td>3.4</td>\n",
       "      <td>5</td>\n",
       "      <td>1.000000</td>\n",
       "      <td>7582165</td>\n",
       "      <td>yes_relation</td>\n",
       "      <td>bcv_hard_63</td>\n",
       "      <td>756359654</td>\n",
       "      <td>1.000000</td>\n",
       "    </tr>\n",
       "    <tr>\n",
       "      <th>18</th>\n",
       "      <td>true_pos</td>\n",
       "      <td>D010423</td>\n",
       "      <td>D009408|D020425</td>\n",
       "      <td>1</td>\n",
       "      <td>3.4</td>\n",
       "      <td>4</td>\n",
       "      <td>0.826639</td>\n",
       "      <td>3800626</td>\n",
       "      <td>yes_relation</td>\n",
       "      <td>bcv_hard_25</td>\n",
       "      <td>756359616</td>\n",
       "      <td>0.826639</td>\n",
       "    </tr>\n",
       "    <tr>\n",
       "      <th>46</th>\n",
       "      <td>true_pos</td>\n",
       "      <td>C016986</td>\n",
       "      <td>D015878</td>\n",
       "      <td>1</td>\n",
       "      <td>3.8</td>\n",
       "      <td>4</td>\n",
       "      <td>0.810811</td>\n",
       "      <td>8590259</td>\n",
       "      <td>yes_relation</td>\n",
       "      <td>bcv_hard_50</td>\n",
       "      <td>756359641</td>\n",
       "      <td>0.810811</td>\n",
       "    </tr>\n",
       "    <tr>\n",
       "      <th>48</th>\n",
       "      <td>true_pos</td>\n",
       "      <td>C016986</td>\n",
       "      <td>D003229</td>\n",
       "      <td>1</td>\n",
       "      <td>3.6</td>\n",
       "      <td>4</td>\n",
       "      <td>0.798628</td>\n",
       "      <td>8590259</td>\n",
       "      <td>yes_relation</td>\n",
       "      <td>bcv_hard_52</td>\n",
       "      <td>756359643</td>\n",
       "      <td>0.798628</td>\n",
       "    </tr>\n",
       "    <tr>\n",
       "      <th>63</th>\n",
       "      <td>true_pos</td>\n",
       "      <td>D003907</td>\n",
       "      <td>D003231</td>\n",
       "      <td>1</td>\n",
       "      <td>3.2</td>\n",
       "      <td>4</td>\n",
       "      <td>0.789999</td>\n",
       "      <td>7582165</td>\n",
       "      <td>yes_relation</td>\n",
       "      <td>bcv_hard_66</td>\n",
       "      <td>756359657</td>\n",
       "      <td>0.789999</td>\n",
       "    </tr>\n",
       "    <tr>\n",
       "      <th>4</th>\n",
       "      <td>true_pos</td>\n",
       "      <td>C056507</td>\n",
       "      <td>D009503</td>\n",
       "      <td>1</td>\n",
       "      <td>3.8</td>\n",
       "      <td>4</td>\n",
       "      <td>0.784342</td>\n",
       "      <td>11135224</td>\n",
       "      <td>yes_relation</td>\n",
       "      <td>bcv_hard_12</td>\n",
       "      <td>756359603</td>\n",
       "      <td>0.784342</td>\n",
       "    </tr>\n",
       "    <tr>\n",
       "      <th>56</th>\n",
       "      <td>true_pos</td>\n",
       "      <td>D017239</td>\n",
       "      <td>D009503</td>\n",
       "      <td>1</td>\n",
       "      <td>3.2</td>\n",
       "      <td>3</td>\n",
       "      <td>0.619573</td>\n",
       "      <td>11135224</td>\n",
       "      <td>yes_relation</td>\n",
       "      <td>bcv_hard_6</td>\n",
       "      <td>756359597</td>\n",
       "      <td>0.619573</td>\n",
       "    </tr>\n",
       "    <tr>\n",
       "      <th>89</th>\n",
       "      <td>true_pos</td>\n",
       "      <td>D002945</td>\n",
       "      <td>D009503</td>\n",
       "      <td>1</td>\n",
       "      <td>3.4</td>\n",
       "      <td>3</td>\n",
       "      <td>0.601311</td>\n",
       "      <td>11135224</td>\n",
       "      <td>yes_relation</td>\n",
       "      <td>bcv_hard_9</td>\n",
       "      <td>756359600</td>\n",
       "      <td>0.601311</td>\n",
       "    </tr>\n",
       "    <tr>\n",
       "      <th>24</th>\n",
       "      <td>true_pos</td>\n",
       "      <td>D019821</td>\n",
       "      <td>D009336</td>\n",
       "      <td>1</td>\n",
       "      <td>3.6</td>\n",
       "      <td>3</td>\n",
       "      <td>0.596415</td>\n",
       "      <td>17241784</td>\n",
       "      <td>yes_relation</td>\n",
       "      <td>bcv_hard_30</td>\n",
       "      <td>756359621</td>\n",
       "      <td>0.596415</td>\n",
       "    </tr>\n",
       "    <tr>\n",
       "      <th>10</th>\n",
       "      <td>true_pos</td>\n",
       "      <td>D008094</td>\n",
       "      <td>D007676</td>\n",
       "      <td>1</td>\n",
       "      <td>3.6</td>\n",
       "      <td>3</td>\n",
       "      <td>0.580308</td>\n",
       "      <td>1378968</td>\n",
       "      <td>yes_relation</td>\n",
       "      <td>bcv_hard_18</td>\n",
       "      <td>756359609</td>\n",
       "      <td>0.580308</td>\n",
       "    </tr>\n",
       "  </tbody>\n",
       "</table>\n",
       "</div>"
      ],
      "text/plain": [
       "   ans_class chemical_id       disease_id  in_gold  norm_conf  num_votes  \\\n",
       "2   true_pos     C056507          D013921        1        3.4          5   \n",
       "61  true_pos     D010248          D014581        1        3.2          5   \n",
       "71  true_pos     D008874  D012140|D002318        1        3.6          5   \n",
       "70  true_pos     D004317          D009202        1        3.4          5   \n",
       "27  true_pos     C009265          D004827        1        3.4          5   \n",
       "32  true_pos     D010396          D001018        1        3.6          5   \n",
       "34  true_pos     D017239          D013921        1        3.0          5   \n",
       "47  true_pos     C016986          D003316        1        3.4          5   \n",
       "67  true_pos     D002945          D013921        1        3.4          5   \n",
       "50  true_pos     C016986          D004774        1        3.0          5   \n",
       "64  true_pos     D003907          D014581        1        3.6          5   \n",
       "60  true_pos     D010248          D003231        1        3.4          5   \n",
       "18  true_pos     D010423  D009408|D020425        1        3.4          4   \n",
       "46  true_pos     C016986          D015878        1        3.8          4   \n",
       "48  true_pos     C016986          D003229        1        3.6          4   \n",
       "63  true_pos     D003907          D003231        1        3.2          4   \n",
       "4   true_pos     C056507          D009503        1        3.8          4   \n",
       "56  true_pos     D017239          D009503        1        3.2          3   \n",
       "89  true_pos     D002945          D009503        1        3.4          3   \n",
       "24  true_pos     D019821          D009336        1        3.6          3   \n",
       "10  true_pos     D008094          D007676        1        3.6          3   \n",
       "\n",
       "    percent_agree      pmid top_crowd_response      uniq_id    unit_id  \\\n",
       "2        1.000000  11135224       yes_relation  bcv_hard_10  756359601   \n",
       "61       1.000000   7582165       yes_relation  bcv_hard_64  756359655   \n",
       "71       1.000000   2375138       yes_relation  bcv_hard_73  756359664   \n",
       "70       1.000000   7449470       yes_relation  bcv_hard_72  756359663   \n",
       "27       1.000000   2265898       yes_relation  bcv_hard_33  756359624   \n",
       "32       1.000000   6666578       yes_relation  bcv_hard_38  756359629   \n",
       "34       1.000000  11135224       yes_relation   bcv_hard_4  756359595   \n",
       "47       1.000000   8590259       yes_relation  bcv_hard_51  756359642   \n",
       "67       1.000000  11135224       yes_relation   bcv_hard_7  756359598   \n",
       "50       1.000000   8590259       yes_relation  bcv_hard_54  756359645   \n",
       "64       1.000000   7582165       yes_relation  bcv_hard_67  756359658   \n",
       "60       1.000000   7582165       yes_relation  bcv_hard_63  756359654   \n",
       "18       0.826639   3800626       yes_relation  bcv_hard_25  756359616   \n",
       "46       0.810811   8590259       yes_relation  bcv_hard_50  756359641   \n",
       "48       0.798628   8590259       yes_relation  bcv_hard_52  756359643   \n",
       "63       0.789999   7582165       yes_relation  bcv_hard_66  756359657   \n",
       "4        0.784342  11135224       yes_relation  bcv_hard_12  756359603   \n",
       "56       0.619573  11135224       yes_relation   bcv_hard_6  756359597   \n",
       "89       0.601311  11135224       yes_relation   bcv_hard_9  756359600   \n",
       "24       0.596415  17241784       yes_relation  bcv_hard_30  756359621   \n",
       "10       0.580308   1378968       yes_relation  bcv_hard_18  756359609   \n",
       "\n",
       "    threshold_score  \n",
       "2          1.000000  \n",
       "61         1.000000  \n",
       "71         1.000000  \n",
       "70         1.000000  \n",
       "27         1.000000  \n",
       "32         1.000000  \n",
       "34         1.000000  \n",
       "47         1.000000  \n",
       "67         1.000000  \n",
       "50         1.000000  \n",
       "64         1.000000  \n",
       "60         1.000000  \n",
       "18         0.826639  \n",
       "46         0.810811  \n",
       "48         0.798628  \n",
       "63         0.789999  \n",
       "4          0.784342  \n",
       "56         0.619573  \n",
       "89         0.601311  \n",
       "24         0.596415  \n",
       "10         0.580308  "
      ]
     },
     "execution_count": 57,
     "metadata": {},
     "output_type": "execute_result"
    }
   ],
   "source": [
    "true_positives.sort(\"percent_agree\", ascending = False)"
   ]
  },
  {
   "cell_type": "markdown",
   "metadata": {},
   "source": [
    "The agreement percentage for the false positives is markedly lower than that for both the true positives and the true negatives. This suggests to me again that the gold standard may be wrong and/or the question ambiguous/difficult."
   ]
  },
  {
   "cell_type": "code",
   "execution_count": 58,
   "metadata": {
    "collapsed": false
   },
   "outputs": [
    {
     "data": {
      "text/plain": [
       "(0.5, 1)"
      ]
     },
     "execution_count": 58,
     "metadata": {},
     "output_type": "execute_result"
    },
    {
     "data": {
      "image/png": "[encoded data removed]",
      "text/plain": [
       "<matplotlib.figure.Figure at 0x7f78d0fe7290>"
      ]
     },
     "metadata": {},
     "output_type": "display_data"
    }
   ],
   "source": [
    "graph = perf_no.boxplot(column = \"percent_agree\", by = \"ans_class\")\n",
    "\n",
    "graph.set_ylim((0.5, 1))"
   ]
  },
  {
   "cell_type": "markdown",
   "metadata": {},
   "source": [
    "###Error analysis"
   ]
  },
  {
   "cell_type": "markdown",
   "metadata": {},
   "source": [
    "Analysis of individual work units are contained in another notebook."
   ]
  },
  {
   "cell_type": "markdown",
   "metadata": {},
   "source": [
    "###Individual worker confidence:"
   ]
  },
  {
   "cell_type": "markdown",
   "metadata": {},
   "source": [
    "Number of unique workers:"
   ]
  },
  {
   "cell_type": "code",
   "execution_count": 59,
   "metadata": {
    "collapsed": false
   },
   "outputs": [
    {
     "data": {
      "text/plain": [
       "26"
      ]
     },
     "execution_count": 59,
     "metadata": {},
     "output_type": "execute_result"
    }
   ],
   "source": [
    "len(raw_data[\"_worker_id\"].unique())"
   ]
  },
  {
   "cell_type": "code",
   "execution_count": 60,
   "metadata": {
    "collapsed": false
   },
   "outputs": [],
   "source": [
    "temp = defaultdict(list)\n",
    "\n",
    "for worker_id, group in raw_data.groupby(\"_worker_id\"):\n",
    "    temp[\"worker_id\"].append(worker_id)\n",
    "    assert len(group[\"_trust\"].unique()) == 1\n",
    "    temp[\"trust\"].append(group[\"_trust\"].iloc[0])\n",
    "    \n",
    "    temp[\"units_done\"].append(len(group))\n",
    "    temp[\"norm_conf\"].append(norm_conf_score(group))"
   ]
  },
  {
   "cell_type": "code",
   "execution_count": 61,
   "metadata": {
    "collapsed": false
   },
   "outputs": [],
   "source": [
    "workers = pd.DataFrame(temp)"
   ]
  },
  {
   "cell_type": "code",
   "execution_count": 62,
   "metadata": {
    "collapsed": false
   },
   "outputs": [
    {
     "data": {
      "text/html": [
       "<div>\n",
       "<table border=\"1\" class=\"dataframe\">\n",
       "  <thead>\n",
       "    <tr style=\"text-align: right;\">\n",
       "      <th></th>\n",
       "      <th>norm_conf</th>\n",
       "      <th>trust</th>\n",
       "      <th>units_done</th>\n",
       "      <th>worker_id</th>\n",
       "    </tr>\n",
       "  </thead>\n",
       "  <tbody>\n",
       "    <tr>\n",
       "      <th>0</th>\n",
       "      <td>4.000000</td>\n",
       "      <td>0.9286</td>\n",
       "      <td>36</td>\n",
       "      <td>11064916</td>\n",
       "    </tr>\n",
       "    <tr>\n",
       "      <th>1</th>\n",
       "      <td>3.500000</td>\n",
       "      <td>0.8889</td>\n",
       "      <td>16</td>\n",
       "      <td>20113482</td>\n",
       "    </tr>\n",
       "    <tr>\n",
       "      <th>2</th>\n",
       "      <td>3.833333</td>\n",
       "      <td>1.0000</td>\n",
       "      <td>36</td>\n",
       "      <td>20404755</td>\n",
       "    </tr>\n",
       "    <tr>\n",
       "      <th>3</th>\n",
       "      <td>3.000000</td>\n",
       "      <td>1.0000</td>\n",
       "      <td>4</td>\n",
       "      <td>21353389</td>\n",
       "    </tr>\n",
       "    <tr>\n",
       "      <th>4</th>\n",
       "      <td>3.500000</td>\n",
       "      <td>0.8571</td>\n",
       "      <td>8</td>\n",
       "      <td>22166359</td>\n",
       "    </tr>\n",
       "    <tr>\n",
       "      <th>5</th>\n",
       "      <td>4.000000</td>\n",
       "      <td>0.9000</td>\n",
       "      <td>20</td>\n",
       "      <td>24291759</td>\n",
       "    </tr>\n",
       "    <tr>\n",
       "      <th>6</th>\n",
       "      <td>3.250000</td>\n",
       "      <td>1.0000</td>\n",
       "      <td>4</td>\n",
       "      <td>25185311</td>\n",
       "    </tr>\n",
       "    <tr>\n",
       "      <th>7</th>\n",
       "      <td>3.000000</td>\n",
       "      <td>0.8571</td>\n",
       "      <td>36</td>\n",
       "      <td>26603936</td>\n",
       "    </tr>\n",
       "    <tr>\n",
       "      <th>8</th>\n",
       "      <td>2.571429</td>\n",
       "      <td>0.8182</td>\n",
       "      <td>21</td>\n",
       "      <td>27770607</td>\n",
       "    </tr>\n",
       "    <tr>\n",
       "      <th>9</th>\n",
       "      <td>3.000000</td>\n",
       "      <td>0.7857</td>\n",
       "      <td>36</td>\n",
       "      <td>27920569</td>\n",
       "    </tr>\n",
       "    <tr>\n",
       "      <th>10</th>\n",
       "      <td>4.000000</td>\n",
       "      <td>0.8571</td>\n",
       "      <td>36</td>\n",
       "      <td>29246578</td>\n",
       "    </tr>\n",
       "    <tr>\n",
       "      <th>11</th>\n",
       "      <td>4.000000</td>\n",
       "      <td>0.8333</td>\n",
       "      <td>4</td>\n",
       "      <td>29689810</td>\n",
       "    </tr>\n",
       "    <tr>\n",
       "      <th>12</th>\n",
       "      <td>3.000000</td>\n",
       "      <td>0.7778</td>\n",
       "      <td>16</td>\n",
       "      <td>29908414</td>\n",
       "    </tr>\n",
       "    <tr>\n",
       "      <th>13</th>\n",
       "      <td>3.687500</td>\n",
       "      <td>0.7778</td>\n",
       "      <td>16</td>\n",
       "      <td>30128662</td>\n",
       "    </tr>\n",
       "    <tr>\n",
       "      <th>14</th>\n",
       "      <td>3.400000</td>\n",
       "      <td>0.8750</td>\n",
       "      <td>10</td>\n",
       "      <td>30553383</td>\n",
       "    </tr>\n",
       "    <tr>\n",
       "      <th>15</th>\n",
       "      <td>3.333333</td>\n",
       "      <td>0.7500</td>\n",
       "      <td>12</td>\n",
       "      <td>30684549</td>\n",
       "    </tr>\n",
       "    <tr>\n",
       "      <th>16</th>\n",
       "      <td>3.750000</td>\n",
       "      <td>0.8571</td>\n",
       "      <td>8</td>\n",
       "      <td>31935141</td>\n",
       "    </tr>\n",
       "    <tr>\n",
       "      <th>17</th>\n",
       "      <td>3.944444</td>\n",
       "      <td>0.8571</td>\n",
       "      <td>36</td>\n",
       "      <td>32210219</td>\n",
       "    </tr>\n",
       "    <tr>\n",
       "      <th>18</th>\n",
       "      <td>3.625000</td>\n",
       "      <td>0.8571</td>\n",
       "      <td>8</td>\n",
       "      <td>32246920</td>\n",
       "    </tr>\n",
       "    <tr>\n",
       "      <th>19</th>\n",
       "      <td>3.500000</td>\n",
       "      <td>0.8333</td>\n",
       "      <td>4</td>\n",
       "      <td>32583500</td>\n",
       "    </tr>\n",
       "    <tr>\n",
       "      <th>20</th>\n",
       "      <td>2.656250</td>\n",
       "      <td>0.9231</td>\n",
       "      <td>32</td>\n",
       "      <td>32625583</td>\n",
       "    </tr>\n",
       "    <tr>\n",
       "      <th>21</th>\n",
       "      <td>2.937500</td>\n",
       "      <td>0.8889</td>\n",
       "      <td>16</td>\n",
       "      <td>32664120</td>\n",
       "    </tr>\n",
       "    <tr>\n",
       "      <th>22</th>\n",
       "      <td>3.607143</td>\n",
       "      <td>0.8333</td>\n",
       "      <td>28</td>\n",
       "      <td>32693781</td>\n",
       "    </tr>\n",
       "    <tr>\n",
       "      <th>23</th>\n",
       "      <td>2.928571</td>\n",
       "      <td>0.7778</td>\n",
       "      <td>14</td>\n",
       "      <td>32885550</td>\n",
       "    </tr>\n",
       "    <tr>\n",
       "      <th>24</th>\n",
       "      <td>2.750000</td>\n",
       "      <td>1.0000</td>\n",
       "      <td>4</td>\n",
       "      <td>33455574</td>\n",
       "    </tr>\n",
       "    <tr>\n",
       "      <th>25</th>\n",
       "      <td>3.000000</td>\n",
       "      <td>0.9091</td>\n",
       "      <td>24</td>\n",
       "      <td>33534395</td>\n",
       "    </tr>\n",
       "  </tbody>\n",
       "</table>\n",
       "</div>"
      ],
      "text/plain": [
       "    norm_conf   trust  units_done  worker_id\n",
       "0    4.000000  0.9286          36   11064916\n",
       "1    3.500000  0.8889          16   20113482\n",
       "2    3.833333  1.0000          36   20404755\n",
       "3    3.000000  1.0000           4   21353389\n",
       "4    3.500000  0.8571           8   22166359\n",
       "5    4.000000  0.9000          20   24291759\n",
       "6    3.250000  1.0000           4   25185311\n",
       "7    3.000000  0.8571          36   26603936\n",
       "8    2.571429  0.8182          21   27770607\n",
       "9    3.000000  0.7857          36   27920569\n",
       "10   4.000000  0.8571          36   29246578\n",
       "11   4.000000  0.8333           4   29689810\n",
       "12   3.000000  0.7778          16   29908414\n",
       "13   3.687500  0.7778          16   30128662\n",
       "14   3.400000  0.8750          10   30553383\n",
       "15   3.333333  0.7500          12   30684549\n",
       "16   3.750000  0.8571           8   31935141\n",
       "17   3.944444  0.8571          36   32210219\n",
       "18   3.625000  0.8571           8   32246920\n",
       "19   3.500000  0.8333           4   32583500\n",
       "20   2.656250  0.9231          32   32625583\n",
       "21   2.937500  0.8889          16   32664120\n",
       "22   3.607143  0.8333          28   32693781\n",
       "23   2.928571  0.7778          14   32885550\n",
       "24   2.750000  1.0000           4   33455574\n",
       "25   3.000000  0.9091          24   33534395"
      ]
     },
     "execution_count": 62,
     "metadata": {},
     "output_type": "execute_result"
    }
   ],
   "source": [
    "workers"
   ]
  },
  {
   "cell_type": "code",
   "execution_count": 63,
   "metadata": {
    "collapsed": false
   },
   "outputs": [
    {
     "data": {
      "text/plain": [
       "<matplotlib.axes._subplots.AxesSubplot at 0x7f78d763f910>"
      ]
     },
     "execution_count": 63,
     "metadata": {},
     "output_type": "execute_result"
    },
    {
     "data": {
      "image/png": "[encoded data removed]",
      "text/plain": [
       "<matplotlib.figure.Figure at 0x7f78d0fe3bd0>"
      ]
     },
     "metadata": {},
     "output_type": "display_data"
    }
   ],
   "source": [
    "workers.plot(kind = \"scatter\", x = \"units_done\", y = \"trust\")"
   ]
  },
  {
   "cell_type": "code",
   "execution_count": 64,
   "metadata": {
    "collapsed": false
   },
   "outputs": [
    {
     "data": {
      "text/plain": [
       "<matplotlib.axes._subplots.AxesSubplot at 0x7f78d0eeb9d0>"
      ]
     },
     "execution_count": 64,
     "metadata": {},
     "output_type": "execute_result"
    },
    {
     "data": {
      "image/png": "[encoded data removed]",
      "text/plain": [
       "<matplotlib.figure.Figure at 0x7f78d0f0e490>"
      ]
     },
     "metadata": {},
     "output_type": "display_data"
    }
   ],
   "source": [
    "workers.plot(kind = \"scatter\", x = \"units_done\", y = \"norm_conf\")"
   ]
  },
  {
   "cell_type": "code",
   "execution_count": 65,
   "metadata": {
    "collapsed": false
   },
   "outputs": [
    {
     "data": {
      "text/plain": [
       "<matplotlib.axes._subplots.AxesSubplot at 0x7f78d0eb6190>"
      ]
     },
     "execution_count": 65,
     "metadata": {},
     "output_type": "execute_result"
    },
    {
     "data": {
      "image/png": "[encoded data removed]",
      "text/plain": [
       "<matplotlib.figure.Figure at 0x7f78d0ef3450>"
      ]
     },
     "metadata": {},
     "output_type": "display_data"
    }
   ],
   "source": [
    "workers.plot(kind = \"scatter\", x = \"trust\", y = \"norm_conf\")"
   ]
  },
  {
   "cell_type": "markdown",
   "metadata": {},
   "source": [
    "No real correlations of any sort between self-rated confidence, trust, and number of work units done."
   ]
  },
  {
   "cell_type": "markdown",
   "metadata": {},
   "source": [
    "###Maybe we can take only those work units which have high confidence scores:"
   ]
  },
  {
   "cell_type": "code",
   "execution_count": 66,
   "metadata": {
    "collapsed": true
   },
   "outputs": [],
   "source": [
    "perf_no[\"in_gold\"] = perf_no[\"in_gold\"].map(int)"
   ]
  },
  {
   "cell_type": "code",
   "execution_count": 67,
   "metadata": {
    "collapsed": false
   },
   "outputs": [
    {
     "data": {
      "text/plain": [
       "0.5119047619047619"
      ]
     },
     "execution_count": 67,
     "metadata": {},
     "output_type": "execute_result"
    }
   ],
   "source": [
    "fname = \"data/job_754530_worker_confidence.png\"\n",
    "title = \"Worker confidence and its effect on AUC\"\n",
    "get_AUC_value(perf_no, \"norm_conf\", \"in_gold\", fname, title)"
   ]
  },
  {
   "cell_type": "code",
   "execution_count": 68,
   "metadata": {
    "collapsed": false
   },
   "outputs": [
    {
     "data": {
      "image/png": "[encoded data removed]",
      "text/plain": [
       "<IPython.core.display.Image object>"
      ]
     },
     "execution_count": 68,
     "metadata": {},
     "output_type": "execute_result"
    }
   ],
   "source": [
    "Image(filename = fname)"
   ]
  },
  {
   "cell_type": "code",
   "execution_count": 69,
   "metadata": {
    "collapsed": false,
    "scrolled": true
   },
   "outputs": [
    {
     "data": {
      "text/plain": [
       "0.5153508771929826"
      ]
     },
     "execution_count": 69,
     "metadata": {},
     "output_type": "execute_result"
    }
   ],
   "source": [
    "fname = \"data/test.png\"\n",
    "title = \"test\"\n",
    "get_AUC_value(perf_no, \"percent_agree\", \"in_gold\", fname, title)"
   ]
  },
  {
   "cell_type": "code",
   "execution_count": 70,
   "metadata": {
    "collapsed": false
   },
   "outputs": [
    {
     "data": {
      "image/png": "[encoded data removed]",
      "text/plain": [
       "<IPython.core.display.Image object>"
      ]
     },
     "execution_count": 70,
     "metadata": {},
     "output_type": "execute_result"
    }
   ],
   "source": [
    "Image(filename = fname)"
   ]
  },
  {
   "cell_type": "markdown",
   "metadata": {},
   "source": [
    "---"
   ]
  },
  {
   "cell_type": "markdown",
   "metadata": {},
   "source": [
    "##Different aggregation scheme\n",
    "\n",
    "We try another result aggregation scheme. Before we were taking the majority vote for each work unit. If 2 people said the relationship was true, but 3 said it was false, then we took the crowd answer as \"false\".\n",
    "\n",
    "Now we will try another method: if any of {1, 2, 3, 4, 5} people say that a relationship is true, then we take that relationship to be true, even if more people say it is false."
   ]
  },
  {
   "cell_type": "code",
   "execution_count": 71,
   "metadata": {
    "collapsed": false
   },
   "outputs": [],
   "source": [
    "# take positive votes only, indirect is yes\n",
    "res_positive_yes = aggregate_results(\"uniq_id\", \"verify_relationship\", raw_data,\n",
    "                                    \"positive_signal_only\", [\"pmid\", \"_unit_id\"],\n",
    "                                    \"yes_direct\", {\"yes_indirect\" : \"yes_direct\"})"
   ]
  },
  {
   "cell_type": "code",
   "execution_count": 72,
   "metadata": {
    "collapsed": true
   },
   "outputs": [],
   "source": [
    "# take positive votes only, indirect is no\n",
    "res_positive_no = aggregate_results(\"uniq_id\", \"verify_relationship\", raw_data,\n",
    "                                    \"positive_signal_only\", [\"pmid\", \"_unit_id\"],\n",
    "                                    \"yes_direct\", {\"yes_indirect\" : \"no_relation\"})"
   ]
  },
  {
   "cell_type": "code",
   "execution_count": 73,
   "metadata": {
    "collapsed": true
   },
   "outputs": [],
   "source": [
    "def determine_truth(dataframe):\n",
    "    \"\"\"\n",
    "    Add the in_gold column to each row.\n",
    "    \"\"\"\n",
    "    def is_in_gold(uniq_id):\n",
    "        res = raw_data.query(\"uniq_id == '{0}'\".format(uniq_id))\n",
    "        chemical_id = res[\"drug_id\"].iloc[0]\n",
    "        disease_id = res[\"disease_id\"].iloc[0]\n",
    "        pmid = res[\"pmid\"].iloc[0]\n",
    "        \n",
    "        return int(testset[pmid].has_relation(Relation(chemical_id, disease_id)))\n",
    "    \n",
    "    def chem_id(uniq_id):\n",
    "        return raw_data.query(\"uniq_id == '{0}'\".format(uniq_id))[\"drug_id\"].iloc[0]\n",
    "\n",
    "    def dise_id(uniq_id):\n",
    "        return raw_data.query(\"uniq_id == '{0}'\".format(uniq_id))[\"disease_id\"].iloc[0]\n",
    "    \n",
    "    dataframe.loc[:, \"in_gold\"] = dataframe.loc[:, \"uniq_id\"].map(is_in_gold)\n",
    "    dataframe.loc[:, \"chemical_id\"] = dataframe.loc[:, \"uniq_id\"].map(chem_id)\n",
    "    dataframe.loc[:, \"disease_id\"] = dataframe.loc[:, \"uniq_id\"].map(dise_id)\n",
    "    return dataframe"
   ]
  },
  {
   "cell_type": "code",
   "execution_count": 74,
   "metadata": {
    "collapsed": false
   },
   "outputs": [
    {
     "name": "stderr",
     "output_type": "stream",
     "text": [
      "/usr/lib64/python2.7/site-packages/pandas/core/indexing.py:249: SettingWithCopyWarning: \n",
      "A value is trying to be set on a copy of a slice from a DataFrame.\n",
      "Try using .loc[row_indexer,col_indexer] = value instead\n",
      "\n",
      "See the the caveats in the documentation: http://pandas.pydata.org/pandas-docs/stable/indexing.html#indexing-view-versus-copy\n",
      "  self.obj[key] = _infer_fill_value(value)\n",
      "/usr/lib64/python2.7/site-packages/pandas/core/indexing.py:415: SettingWithCopyWarning: \n",
      "A value is trying to be set on a copy of a slice from a DataFrame.\n",
      "Try using .loc[row_indexer,col_indexer] = value instead\n",
      "\n",
      "See the the caveats in the documentation: http://pandas.pydata.org/pandas-docs/stable/indexing.html#indexing-view-versus-copy\n",
      "  self.obj[item] = s\n"
     ]
    }
   ],
   "source": [
    "temp = res_positive_yes.query(\"verify_relationship == 'yes_direct'\")\n",
    "new_final_yes = determine_truth(temp)"
   ]
  },
  {
   "cell_type": "code",
   "execution_count": 75,
   "metadata": {
    "collapsed": false
   },
   "outputs": [
    {
     "data": {
      "text/plain": [
       "0.9260651629072681"
      ]
     },
     "execution_count": 75,
     "metadata": {},
     "output_type": "execute_result"
    }
   ],
   "source": [
    "fname = \"data/754530_final_yes_test2.png\"\n",
    "title = \"job 754530 testing non-majority voting aggregation\"\n",
    "get_AUC_value(new_final_yes, \"percent_agree\", \"in_gold\", fname, title)"
   ]
  },
  {
   "cell_type": "code",
   "execution_count": 76,
   "metadata": {
    "collapsed": false,
    "scrolled": false
   },
   "outputs": [
    {
     "data": {
      "image/png": "[encoded data removed]",
      "text/plain": [
       "<IPython.core.display.Image object>"
      ]
     },
     "execution_count": 76,
     "metadata": {},
     "output_type": "execute_result"
    }
   ],
   "source": [
    "Image(fname)"
   ]
  },
  {
   "cell_type": "code",
   "execution_count": 77,
   "metadata": {
    "collapsed": true
   },
   "outputs": [],
   "source": [
    "temp = res_positive_no.query(\"verify_relationship == 'yes_direct'\")\n",
    "new_final_no = determine_truth(temp)"
   ]
  },
  {
   "cell_type": "code",
   "execution_count": 78,
   "metadata": {
    "collapsed": false
   },
   "outputs": [
    {
     "data": {
      "text/plain": [
       "0.9329573934837092"
      ]
     },
     "execution_count": 78,
     "metadata": {},
     "output_type": "execute_result"
    }
   ],
   "source": [
    "fname = \"data/754530_final_no_test.png\"\n",
    "title = \"job 754530 testing non-majority voting aggregation, indirect means no\"\n",
    "get_AUC_value(new_final_no, \"percent_agree\", \"in_gold\", fname, title)"
   ]
  },
  {
   "cell_type": "code",
   "execution_count": 79,
   "metadata": {
    "collapsed": false,
    "scrolled": true
   },
   "outputs": [
    {
     "data": {
      "image/png": "[encoded data removed]",
      "text/plain": [
       "<IPython.core.display.Image object>"
      ]
     },
     "execution_count": 79,
     "metadata": {},
     "output_type": "execute_result"
    }
   ],
   "source": [
    "Image(fname)"
   ]
  },
  {
   "cell_type": "code",
   "execution_count": 80,
   "metadata": {
    "collapsed": true
   },
   "outputs": [],
   "source": [
    "def F_score(precision, recall):\n",
    "    return 2 * (precision * recall) / (precision + recall)\n",
    "    \n",
    "def max_F_score(data_frame):\n",
    "    \"\"\"\n",
    "    Given the results dataframe for one or many PMIDs, with the in_gold\n",
    "    column already determined, this function determines the max\n",
    "    F score with respect to the gold standard and the value of\n",
    "    the normalized voting score at which the max F score is achieved.\n",
    "    \"\"\"\n",
    "    EPSILON = 0.0000001\n",
    "    \n",
    "    max_f_score = 0\n",
    "    best_threshold = 9999\n",
    "    best_res = (-1, -1)\n",
    "    \n",
    "    for threshold in data_frame[\"normalized_score\"].unique():\n",
    "        sub = data_frame.query(\"normalized_score > {0} or -{1} <= normalized_score - {0} <= {1}\".format(threshold, EPSILON))\n",
    "        \n",
    "        recall = sum(sub[\"in_gold\"]) / sum(data_frame[\"in_gold\"])\n",
    "        precision = sum(sub[\"in_gold\"]) / len(sub)\n",
    "        \n",
    "        f_score = F_score(precision, recall)\n",
    "        \n",
    "        if f_score > max_f_score:\n",
    "            max_f_score = f_score\n",
    "            best_res = (precision, recall)\n",
    "            best_threshold = threshold\n",
    "            \n",
    "    return (max_f_score, best_res, best_threshold)"
   ]
  },
  {
   "cell_type": "code",
   "execution_count": 81,
   "metadata": {
    "collapsed": false
   },
   "outputs": [
    {
     "data": {
      "text/plain": [
       "(0.72413793103448276, (0.56756756756756754, 1.0), 0.59641549518600556)"
      ]
     },
     "execution_count": 81,
     "metadata": {},
     "output_type": "execute_result"
    }
   ],
   "source": [
    "max_F_score(new_final_yes.rename(columns = {\"percent_agree\" : \"normalized_score\"}))"
   ]
  },
  {
   "cell_type": "code",
   "execution_count": 82,
   "metadata": {
    "collapsed": false,
    "scrolled": true
   },
   "outputs": [
    {
     "data": {
      "text/plain": [
       "(0.7407407407407407,\n",
       " (0.60606060606060608, 0.95238095238095233),\n",
       " 0.59641549518600556)"
      ]
     },
     "execution_count": 82,
     "metadata": {},
     "output_type": "execute_result"
    }
   ],
   "source": [
    "max_F_score(new_final_no.rename(columns = {\"percent_agree\" : \"normalized_score\"}))"
   ]
  },
  {
   "cell_type": "markdown",
   "metadata": {},
   "source": [
    "From this we see again that indirect relationships do not belong and should be treated as false relationships. The maximum F-score occurs when roughly 60% of the votes are positive, which is similar to what would be the minimum for the majority voting system (3 of 5 votes). From this it seems that there probably isn't too much difference between the two methods. The positive signal method might work better overall for generating the confidence scores in the drug-disease relationship, since the value can occur anywhere between 0 and 1. Using the majority voting scheme, with the score ranging from -1 (everyone votes no) to 1 (everyone votes yes), where negative values mean a no majority, there would be no values from -0.5 to 0.5, since by definition those votes would not be in the majority (at least with a binary judgement)."
   ]
  },
  {
   "cell_type": "code",
   "execution_count": 83,
   "metadata": {
    "collapsed": false
   },
   "outputs": [
    {
     "data": {
      "text/html": [
       "<div>\n",
       "<table border=\"1\" class=\"dataframe\">\n",
       "  <thead>\n",
       "    <tr style=\"text-align: right;\">\n",
       "      <th></th>\n",
       "      <th>uniq_id</th>\n",
       "      <th>verify_relationship</th>\n",
       "      <th>conf_score</th>\n",
       "      <th>num_votes</th>\n",
       "      <th>percent_agree</th>\n",
       "      <th>pmid</th>\n",
       "      <th>unit_id</th>\n",
       "      <th>in_gold</th>\n",
       "      <th>chemical_id</th>\n",
       "      <th>disease_id</th>\n",
       "    </tr>\n",
       "  </thead>\n",
       "  <tbody>\n",
       "    <tr>\n",
       "      <th>0</th>\n",
       "      <td>bcv_hard_0</td>\n",
       "      <td>yes_direct</td>\n",
       "      <td>0.0000</td>\n",
       "      <td>0</td>\n",
       "      <td>0.000000</td>\n",
       "      <td>11569530</td>\n",
       "      <td>756359591</td>\n",
       "      <td>0</td>\n",
       "      <td>C063968</td>\n",
       "      <td>D017180</td>\n",
       "    </tr>\n",
       "    <tr>\n",
       "      <th>0</th>\n",
       "      <td>bcv_hard_1</td>\n",
       "      <td>yes_direct</td>\n",
       "      <td>2.5237</td>\n",
       "      <td>3</td>\n",
       "      <td>0.595507</td>\n",
       "      <td>11569530</td>\n",
       "      <td>756359592</td>\n",
       "      <td>0</td>\n",
       "      <td>D020117</td>\n",
       "      <td>D017180</td>\n",
       "    </tr>\n",
       "    <tr>\n",
       "      <th>0</th>\n",
       "      <td>bcv_hard_10</td>\n",
       "      <td>yes_direct</td>\n",
       "      <td>4.4417</td>\n",
       "      <td>5</td>\n",
       "      <td>1.000000</td>\n",
       "      <td>11135224</td>\n",
       "      <td>756359601</td>\n",
       "      <td>1</td>\n",
       "      <td>C056507</td>\n",
       "      <td>D013921</td>\n",
       "    </tr>\n",
       "    <tr>\n",
       "      <th>0</th>\n",
       "      <td>bcv_hard_11</td>\n",
       "      <td>yes_direct</td>\n",
       "      <td>3.5659</td>\n",
       "      <td>4</td>\n",
       "      <td>0.819446</td>\n",
       "      <td>11135224</td>\n",
       "      <td>756359602</td>\n",
       "      <td>0</td>\n",
       "      <td>C056507</td>\n",
       "      <td>D003643</td>\n",
       "    </tr>\n",
       "    <tr>\n",
       "      <th>0</th>\n",
       "      <td>bcv_hard_12</td>\n",
       "      <td>yes_direct</td>\n",
       "      <td>3.3773</td>\n",
       "      <td>4</td>\n",
       "      <td>0.784342</td>\n",
       "      <td>11135224</td>\n",
       "      <td>756359603</td>\n",
       "      <td>1</td>\n",
       "      <td>C056507</td>\n",
       "      <td>D009503</td>\n",
       "    </tr>\n",
       "  </tbody>\n",
       "</table>\n",
       "</div>"
      ],
      "text/plain": [
       "       uniq_id verify_relationship  conf_score  num_votes  percent_agree  \\\n",
       "0   bcv_hard_0          yes_direct      0.0000          0       0.000000   \n",
       "0   bcv_hard_1          yes_direct      2.5237          3       0.595507   \n",
       "0  bcv_hard_10          yes_direct      4.4417          5       1.000000   \n",
       "0  bcv_hard_11          yes_direct      3.5659          4       0.819446   \n",
       "0  bcv_hard_12          yes_direct      3.3773          4       0.784342   \n",
       "\n",
       "       pmid    unit_id  in_gold chemical_id disease_id  \n",
       "0  11569530  756359591        0     C063968    D017180  \n",
       "0  11569530  756359592        0     D020117    D017180  \n",
       "0  11135224  756359601        1     C056507    D013921  \n",
       "0  11135224  756359602        0     C056507    D003643  \n",
       "0  11135224  756359603        1     C056507    D009503  "
      ]
     },
     "execution_count": 83,
     "metadata": {},
     "output_type": "execute_result"
    }
   ],
   "source": [
    "new_final_yes.head()"
   ]
  },
  {
   "cell_type": "code",
   "execution_count": 84,
   "metadata": {
    "collapsed": false
   },
   "outputs": [
    {
     "data": {
      "text/plain": [
       "97"
      ]
     },
     "execution_count": 84,
     "metadata": {},
     "output_type": "execute_result"
    }
   ],
   "source": [
    "len(new_final_yes[\"uniq_id\"].unique())"
   ]
  },
  {
   "cell_type": "code",
   "execution_count": 89,
   "metadata": {
    "collapsed": true
   },
   "outputs": [],
   "source": [
    "temp = all_F_scores(\"percent_agree\", \"in_gold\", new_final_no)"
   ]
  },
  {
   "cell_type": "code",
   "execution_count": 90,
   "metadata": {
    "collapsed": true
   },
   "outputs": [],
   "source": [
    "temp = temp.sort(\"F_score\", ascending = False)"
   ]
  },
  {
   "cell_type": "code",
   "execution_count": 92,
   "metadata": {
    "collapsed": false,
    "scrolled": true
   },
   "outputs": [
    {
     "data": {
      "text/html": [
       "<div>\n",
       "<table border=\"1\" class=\"dataframe\">\n",
       "  <thead>\n",
       "    <tr style=\"text-align: right;\">\n",
       "      <th></th>\n",
       "      <th>F_score</th>\n",
       "      <th>precision</th>\n",
       "      <th>recall</th>\n",
       "      <th>threshold</th>\n",
       "    </tr>\n",
       "  </thead>\n",
       "  <tbody>\n",
       "    <tr>\n",
       "      <th>16</th>\n",
       "      <td>0.740741</td>\n",
       "      <td>0.606061</td>\n",
       "      <td>0.952381</td>\n",
       "      <td>0.596415</td>\n",
       "    </tr>\n",
       "    <tr>\n",
       "      <th>25</th>\n",
       "      <td>0.734694</td>\n",
       "      <td>0.642857</td>\n",
       "      <td>0.857143</td>\n",
       "      <td>0.619573</td>\n",
       "    </tr>\n",
       "    <tr>\n",
       "      <th>42</th>\n",
       "      <td>0.730769</td>\n",
       "      <td>0.612903</td>\n",
       "      <td>0.904762</td>\n",
       "      <td>0.601311</td>\n",
       "    </tr>\n",
       "    <tr>\n",
       "      <th>31</th>\n",
       "      <td>0.727273</td>\n",
       "      <td>0.588235</td>\n",
       "      <td>0.952381</td>\n",
       "      <td>0.596050</td>\n",
       "    </tr>\n",
       "    <tr>\n",
       "      <th>30</th>\n",
       "      <td>0.727273</td>\n",
       "      <td>0.695652</td>\n",
       "      <td>0.761905</td>\n",
       "      <td>0.789999</td>\n",
       "    </tr>\n",
       "  </tbody>\n",
       "</table>\n",
       "</div>"
      ],
      "text/plain": [
       "     F_score  precision    recall  threshold\n",
       "16  0.740741   0.606061  0.952381   0.596415\n",
       "25  0.734694   0.642857  0.857143   0.619573\n",
       "42  0.730769   0.612903  0.904762   0.601311\n",
       "31  0.727273   0.588235  0.952381   0.596050\n",
       "30  0.727273   0.695652  0.761905   0.789999"
      ]
     },
     "execution_count": 92,
     "metadata": {},
     "output_type": "execute_result"
    }
   ],
   "source": [
    "temp.head()"
   ]
  },
  {
   "cell_type": "code",
   "execution_count": 93,
   "metadata": {
    "collapsed": true
   },
   "outputs": [],
   "source": [
    "temp = temp.sort(\"threshold\")"
   ]
  },
  {
   "cell_type": "code",
   "execution_count": 94,
   "metadata": {
    "collapsed": false
   },
   "outputs": [
    {
     "data": {
      "text/html": [
       "<div>\n",
       "<table border=\"1\" class=\"dataframe\">\n",
       "  <thead>\n",
       "    <tr style=\"text-align: right;\">\n",
       "      <th></th>\n",
       "      <th>F_score</th>\n",
       "      <th>precision</th>\n",
       "      <th>recall</th>\n",
       "      <th>threshold</th>\n",
       "    </tr>\n",
       "  </thead>\n",
       "  <tbody>\n",
       "    <tr>\n",
       "      <th>0</th>\n",
       "      <td>0.355932</td>\n",
       "      <td>0.216495</td>\n",
       "      <td>1</td>\n",
       "      <td>0.000000</td>\n",
       "    </tr>\n",
       "    <tr>\n",
       "      <th>34</th>\n",
       "      <td>0.525000</td>\n",
       "      <td>0.355932</td>\n",
       "      <td>1</td>\n",
       "      <td>0.169507</td>\n",
       "    </tr>\n",
       "    <tr>\n",
       "      <th>17</th>\n",
       "      <td>0.531646</td>\n",
       "      <td>0.362069</td>\n",
       "      <td>1</td>\n",
       "      <td>0.183570</td>\n",
       "    </tr>\n",
       "    <tr>\n",
       "      <th>27</th>\n",
       "      <td>0.538462</td>\n",
       "      <td>0.368421</td>\n",
       "      <td>1</td>\n",
       "      <td>0.186419</td>\n",
       "    </tr>\n",
       "    <tr>\n",
       "      <th>14</th>\n",
       "      <td>0.545455</td>\n",
       "      <td>0.375000</td>\n",
       "      <td>1</td>\n",
       "      <td>0.188282</td>\n",
       "    </tr>\n",
       "  </tbody>\n",
       "</table>\n",
       "</div>"
      ],
      "text/plain": [
       "     F_score  precision  recall  threshold\n",
       "0   0.355932   0.216495       1   0.000000\n",
       "34  0.525000   0.355932       1   0.169507\n",
       "17  0.531646   0.362069       1   0.183570\n",
       "27  0.538462   0.368421       1   0.186419\n",
       "14  0.545455   0.375000       1   0.188282"
      ]
     },
     "execution_count": 94,
     "metadata": {},
     "output_type": "execute_result"
    }
   ],
   "source": [
    "temp.head()"
   ]
  },
  {
   "cell_type": "code",
   "execution_count": 98,
   "metadata": {
    "collapsed": false
   },
   "outputs": [
    {
     "data": {
      "text/plain": [
       "(0, 1.1)"
      ]
     },
     "execution_count": 98,
     "metadata": {},
     "output_type": "execute_result"
    },
    {
     "data": {
      "image/png": "[encoded data removed]",
      "text/plain": [
       "<matplotlib.figure.Figure at 0x7f78d0b61bd0>"
      ]
     },
     "metadata": {},
     "output_type": "display_data"
    }
   ],
   "source": [
    "graph = temp.plot(x = \"threshold\", figsize = (7, 7))\n",
    "\n",
    "graph.set_xlim((0, 1.1))\n",
    "graph.set_ylim((0, 1.1))"
   ]
  },
  {
   "cell_type": "code",
   "execution_count": null,
   "metadata": {
    "collapsed": true
   },
   "outputs": [],
   "source": []
  }
 ],
 "metadata": {
  "kernelspec": {
   "display_name": "Python 2",
   "language": "python",
   "name": "python2"
  },
  "language_info": {
   "codemirror_mode": {
    "name": "ipython",
    "version": 2
   },
   "file_extension": ".py",
   "mimetype": "text/x-python",
   "name": "python",
   "nbconvert_exporter": "python",
   "pygments_lexer": "ipython2",
   "version": "2.7.10"
  }
 },
 "nbformat": 4,
 "nbformat_minor": 0
}
