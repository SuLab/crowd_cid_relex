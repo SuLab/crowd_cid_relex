{
 "cells": [
  {
   "cell_type": "markdown",
   "metadata": {},
   "source": [
    "#Worker analysis of job #758438\n",
    "\n",
    "Tong Shu Li<br>\n",
    "Created on Saturday 2015-08-01<br>\n",
    "Last updated 2015-08-13"
   ]
  },
  {
   "cell_type": "markdown",
   "metadata": {},
   "source": [
    "#### Automatically flag workers who take the quiz but only use one response time, and perform their responses really quickly. These workers may be the slave accounts of cheaters who memorize the test question answers."
   ]
  },
  {
   "cell_type": "markdown",
   "metadata": {},
   "source": [
    "In this notebook we take a look at the workers of CrowdFlower job #758438 and try to eliminate the cheaters."
   ]
  },
  {
   "cell_type": "code",
   "execution_count": 1,
   "metadata": {
    "collapsed": true
   },
   "outputs": [],
   "source": [
    "from __future__ import division\n",
    "from collections import defaultdict\n",
    "import datetime as dt\n",
    "import matplotlib.pyplot as plt\n",
    "import numpy as np\n",
    "import os\n",
    "import pandas as pd\n",
    "import pycountry\n",
    "import random"
   ]
  },
  {
   "cell_type": "code",
   "execution_count": 2,
   "metadata": {
    "collapsed": true
   },
   "outputs": [],
   "source": [
    "random.seed(\"2015-08-03:14:03\")"
   ]
  },
  {
   "cell_type": "code",
   "execution_count": 3,
   "metadata": {
    "collapsed": true
   },
   "outputs": [],
   "source": [
    "NUMPY_RAND_SEED = 993402\n",
    "WORK_UNITS_PER_PAGE = 6"
   ]
  },
  {
   "cell_type": "code",
   "execution_count": 4,
   "metadata": {
    "collapsed": true
   },
   "outputs": [],
   "source": [
    "matplotlib inline"
   ]
  },
  {
   "cell_type": "markdown",
   "metadata": {},
   "source": [
    "---"
   ]
  },
  {
   "cell_type": "code",
   "execution_count": 5,
   "metadata": {
    "collapsed": true
   },
   "outputs": [],
   "source": [
    "def convert_time(text):\n",
    "    \"\"\"\n",
    "    Given the time in CrowdFlower's output format,\n",
    "    convert it to a Python datetime object.\n",
    "    CrowdFlower time stamps are in UTC.\n",
    "    \n",
    "    CrowdFlower timestamps have the following format:\n",
    "    \n",
    "    month/day/year hour:minute:second\n",
    "    \n",
    "    Example:\n",
    "    \n",
    "    8/2/2015 00:26:24\n",
    "    \"\"\"\n",
    "    return dt.datetime.strptime(text, \"%m/%d/%Y %H:%M:%S\")\n",
    "\n",
    "def time_elapsed(start, stop):\n",
    "    \"\"\"\n",
    "    Given two Python datetime objects, determines the number\n",
    "    of seconds between those two times.\n",
    "    \"\"\"\n",
    "    seconds = int((stop - start).total_seconds())\n",
    "    assert seconds >= 0\n",
    "    return seconds\n",
    "\n",
    "def determine_time_taken(dataframe):\n",
    "    \"\"\"\n",
    "    Given a dataframe with the responses from one worker,\n",
    "    determines the time taken for one page of work.\n",
    "    \"\"\"\n",
    "    def time_taken_wrapper(row):\n",
    "        return time_elapsed(row[0], row[1])\n",
    "    \n",
    "    if dataframe.empty:\n",
    "        return pd.Series()\n",
    "    \n",
    "    time_taken = dataframe[[\"_started_at\", \"_created_at\"]].apply(time_taken_wrapper, axis = 1)\n",
    "    return time_taken\n",
    "\n",
    "def time_stats(time_series):\n",
    "    \"\"\"\n",
    "    Given the time taken for each individual work unit,\n",
    "    determines some stats.\n",
    "    \"\"\"\n",
    "    return (time_series.min(), time_series.median(), time_series.max())\n",
    "\n",
    "def get_country_name(code):\n",
    "    if isinstance(code, str):\n",
    "        return pycountry.countries.get(alpha3 = code).name.split(\",\")[0]\n",
    "    \n",
    "    # code is missing (NaN)\n",
    "    return \"unknown\""
   ]
  },
  {
   "cell_type": "markdown",
   "metadata": {},
   "source": [
    "###Read the raw data:"
   ]
  },
  {
   "cell_type": "code",
   "execution_count": 6,
   "metadata": {
    "collapsed": true
   },
   "outputs": [],
   "source": [
    "raw_data = pd.read_csv(\"data/crowdflower/results/job_758438_full_with_untrusted.csv\", sep = \",\")"
   ]
  },
  {
   "cell_type": "code",
   "execution_count": 7,
   "metadata": {
    "collapsed": false
   },
   "outputs": [],
   "source": [
    "raw_data.loc[:, \"_created_at\"] = raw_data.loc[:, \"_created_at\"].map(convert_time)\n",
    "raw_data.loc[:, \"_started_at\"] = raw_data.loc[:, \"_started_at\"].map(convert_time)"
   ]
  },
  {
   "cell_type": "markdown",
   "metadata": {},
   "source": [
    "---"
   ]
  },
  {
   "cell_type": "code",
   "execution_count": 8,
   "metadata": {
    "collapsed": true
   },
   "outputs": [],
   "source": [
    "def build_worker_profiles(raw_data):\n",
    "    \"\"\"\n",
    "    Build a profile for every worker that tried the task.\n",
    "    \"\"\"\n",
    "    res = defaultdict(list)\n",
    "    \n",
    "    metadata = [\"_trust\", \"_ip\", \"_channel\"]\n",
    "    ans_choices = [\"yes_direct\", \"yes_indirect\", \"no_relation\", \"ner_mistake\"]\n",
    "    \n",
    "    for worker_id, group in raw_data.groupby(\"_worker_id\"):\n",
    "        test_resp = group.query(\"_golden\")\n",
    "        work_resp = group.query(\"~_golden\")\n",
    "        \n",
    "        res[\"worker_id\"].append(worker_id)\n",
    "        res[\"test_ques_seen\"].append(len(test_resp[\"uniq_id\"].unique()))\n",
    "        res[\"work_units_seen\"].append(len(work_resp[\"uniq_id\"].unique()))\n",
    "        \n",
    "        res[\"country\"].append(get_country_name(test_resp[\"_country\"].iloc[0]))\n",
    "        \n",
    "        for metadata_col in metadata:\n",
    "            res[metadata_col.lstrip(\"_\")].append(test_resp[metadata_col].iloc[0])\n",
    "            \n",
    "        for work_type, resp_data in zip([\"test\", \"work\"], [test_resp, work_resp]):\n",
    "            time_series = determine_time_taken(resp_data) # time per page\n",
    "            time_series /= WORK_UNITS_PER_PAGE # time per work unit\n",
    "            \n",
    "            stats = time_stats(time_series)\n",
    "            for i, name in enumerate([\"min\", \"median\", \"max\"]):\n",
    "                res[\"{0}_{1}_time_per_unit\".format(work_type, name)].append(stats[i])\n",
    "                \n",
    "            # look at the response distributions\n",
    "            for ans_choice in ans_choices:\n",
    "                temp = resp_data.query(\"verify_relationship == '{0}'\".format(ans_choice))\n",
    "                res[\"{0}_{1}\".format(work_type, ans_choice)].append(len(temp[\"uniq_id\"].unique()))\n",
    "        \n",
    "    return pd.DataFrame(res)"
   ]
  },
  {
   "cell_type": "code",
   "execution_count": 9,
   "metadata": {
    "collapsed": true
   },
   "outputs": [],
   "source": [
    "worker_profiles = build_worker_profiles(raw_data)"
   ]
  },
  {
   "cell_type": "code",
   "execution_count": 10,
   "metadata": {
    "collapsed": false
   },
   "outputs": [
    {
     "data": {
      "text/html": [
       "<div>\n",
       "<table border=\"1\" class=\"dataframe\">\n",
       "  <thead>\n",
       "    <tr style=\"text-align: right;\">\n",
       "      <th></th>\n",
       "      <th>channel</th>\n",
       "      <th>country</th>\n",
       "      <th>ip</th>\n",
       "      <th>test_max_time_per_unit</th>\n",
       "      <th>test_median_time_per_unit</th>\n",
       "      <th>test_min_time_per_unit</th>\n",
       "      <th>test_ner_mistake</th>\n",
       "      <th>test_no_relation</th>\n",
       "      <th>test_ques_seen</th>\n",
       "      <th>test_yes_direct</th>\n",
       "      <th>...</th>\n",
       "      <th>trust</th>\n",
       "      <th>work_max_time_per_unit</th>\n",
       "      <th>work_median_time_per_unit</th>\n",
       "      <th>work_min_time_per_unit</th>\n",
       "      <th>work_ner_mistake</th>\n",
       "      <th>work_no_relation</th>\n",
       "      <th>work_units_seen</th>\n",
       "      <th>work_yes_direct</th>\n",
       "      <th>work_yes_indirect</th>\n",
       "      <th>worker_id</th>\n",
       "    </tr>\n",
       "  </thead>\n",
       "  <tbody>\n",
       "    <tr>\n",
       "      <th>0</th>\n",
       "      <td>points2shop</td>\n",
       "      <td>United States</td>\n",
       "      <td>23.119.108.175</td>\n",
       "      <td>73.166667</td>\n",
       "      <td>73.166667</td>\n",
       "      <td>73.166667</td>\n",
       "      <td>1</td>\n",
       "      <td>2</td>\n",
       "      <td>6</td>\n",
       "      <td>2</td>\n",
       "      <td>...</td>\n",
       "      <td>0.5000</td>\n",
       "      <td>NaN</td>\n",
       "      <td>NaN</td>\n",
       "      <td>NaN</td>\n",
       "      <td>0</td>\n",
       "      <td>0</td>\n",
       "      <td>0</td>\n",
       "      <td>0</td>\n",
       "      <td>0</td>\n",
       "      <td>3694955</td>\n",
       "    </tr>\n",
       "    <tr>\n",
       "      <th>1</th>\n",
       "      <td>clixsense</td>\n",
       "      <td>Philippines</td>\n",
       "      <td>49.144.240.111</td>\n",
       "      <td>113.333333</td>\n",
       "      <td>113.333333</td>\n",
       "      <td>113.333333</td>\n",
       "      <td>1</td>\n",
       "      <td>2</td>\n",
       "      <td>6</td>\n",
       "      <td>3</td>\n",
       "      <td>...</td>\n",
       "      <td>0.6667</td>\n",
       "      <td>NaN</td>\n",
       "      <td>NaN</td>\n",
       "      <td>NaN</td>\n",
       "      <td>0</td>\n",
       "      <td>0</td>\n",
       "      <td>0</td>\n",
       "      <td>0</td>\n",
       "      <td>0</td>\n",
       "      <td>6332651</td>\n",
       "    </tr>\n",
       "    <tr>\n",
       "      <th>2</th>\n",
       "      <td>clixsense</td>\n",
       "      <td>Mexico</td>\n",
       "      <td>189.202.57.112</td>\n",
       "      <td>209.333333</td>\n",
       "      <td>209.333333</td>\n",
       "      <td>209.333333</td>\n",
       "      <td>0</td>\n",
       "      <td>4</td>\n",
       "      <td>6</td>\n",
       "      <td>2</td>\n",
       "      <td>...</td>\n",
       "      <td>0.6667</td>\n",
       "      <td>NaN</td>\n",
       "      <td>NaN</td>\n",
       "      <td>NaN</td>\n",
       "      <td>0</td>\n",
       "      <td>0</td>\n",
       "      <td>0</td>\n",
       "      <td>0</td>\n",
       "      <td>0</td>\n",
       "      <td>6347829</td>\n",
       "    </tr>\n",
       "    <tr>\n",
       "      <th>3</th>\n",
       "      <td>clixsense</td>\n",
       "      <td>Canada</td>\n",
       "      <td>70.50.92.191</td>\n",
       "      <td>170.833333</td>\n",
       "      <td>170.833333</td>\n",
       "      <td>170.833333</td>\n",
       "      <td>0</td>\n",
       "      <td>2</td>\n",
       "      <td>6</td>\n",
       "      <td>3</td>\n",
       "      <td>...</td>\n",
       "      <td>0.5000</td>\n",
       "      <td>NaN</td>\n",
       "      <td>NaN</td>\n",
       "      <td>NaN</td>\n",
       "      <td>0</td>\n",
       "      <td>0</td>\n",
       "      <td>0</td>\n",
       "      <td>0</td>\n",
       "      <td>0</td>\n",
       "      <td>6450461</td>\n",
       "    </tr>\n",
       "    <tr>\n",
       "      <th>4</th>\n",
       "      <td>clixsense</td>\n",
       "      <td>United States</td>\n",
       "      <td>67.247.11.75</td>\n",
       "      <td>85.833333</td>\n",
       "      <td>85.833333</td>\n",
       "      <td>85.833333</td>\n",
       "      <td>0</td>\n",
       "      <td>1</td>\n",
       "      <td>6</td>\n",
       "      <td>2</td>\n",
       "      <td>...</td>\n",
       "      <td>0.1667</td>\n",
       "      <td>NaN</td>\n",
       "      <td>NaN</td>\n",
       "      <td>NaN</td>\n",
       "      <td>0</td>\n",
       "      <td>0</td>\n",
       "      <td>0</td>\n",
       "      <td>0</td>\n",
       "      <td>0</td>\n",
       "      <td>7051387</td>\n",
       "    </tr>\n",
       "  </tbody>\n",
       "</table>\n",
       "<p>5 rows × 21 columns</p>\n",
       "</div>"
      ],
      "text/plain": [
       "       channel        country              ip  test_max_time_per_unit  \\\n",
       "0  points2shop  United States  23.119.108.175               73.166667   \n",
       "1    clixsense    Philippines  49.144.240.111              113.333333   \n",
       "2    clixsense         Mexico  189.202.57.112              209.333333   \n",
       "3    clixsense         Canada    70.50.92.191              170.833333   \n",
       "4    clixsense  United States    67.247.11.75               85.833333   \n",
       "\n",
       "   test_median_time_per_unit  test_min_time_per_unit  test_ner_mistake  \\\n",
       "0                  73.166667               73.166667                 1   \n",
       "1                 113.333333              113.333333                 1   \n",
       "2                 209.333333              209.333333                 0   \n",
       "3                 170.833333              170.833333                 0   \n",
       "4                  85.833333               85.833333                 0   \n",
       "\n",
       "   test_no_relation  test_ques_seen  test_yes_direct    ...       trust  \\\n",
       "0                 2               6                2    ...      0.5000   \n",
       "1                 2               6                3    ...      0.6667   \n",
       "2                 4               6                2    ...      0.6667   \n",
       "3                 2               6                3    ...      0.5000   \n",
       "4                 1               6                2    ...      0.1667   \n",
       "\n",
       "   work_max_time_per_unit  work_median_time_per_unit  work_min_time_per_unit  \\\n",
       "0                     NaN                        NaN                     NaN   \n",
       "1                     NaN                        NaN                     NaN   \n",
       "2                     NaN                        NaN                     NaN   \n",
       "3                     NaN                        NaN                     NaN   \n",
       "4                     NaN                        NaN                     NaN   \n",
       "\n",
       "   work_ner_mistake  work_no_relation  work_units_seen  work_yes_direct  \\\n",
       "0                 0                 0                0                0   \n",
       "1                 0                 0                0                0   \n",
       "2                 0                 0                0                0   \n",
       "3                 0                 0                0                0   \n",
       "4                 0                 0                0                0   \n",
       "\n",
       "   work_yes_indirect  worker_id  \n",
       "0                  0    3694955  \n",
       "1                  0    6332651  \n",
       "2                  0    6347829  \n",
       "3                  0    6450461  \n",
       "4                  0    7051387  \n",
       "\n",
       "[5 rows x 21 columns]"
      ]
     },
     "execution_count": 10,
     "metadata": {},
     "output_type": "execute_result"
    }
   ],
   "source": [
    "worker_profiles.head()"
   ]
  },
  {
   "cell_type": "markdown",
   "metadata": {},
   "source": [
    "### Calculate trust over time:"
   ]
  },
  {
   "cell_type": "code",
   "execution_count": 11,
   "metadata": {
    "collapsed": true
   },
   "outputs": [],
   "source": [
    "def trust_over_time(dataframe):\n",
    "    res = defaultdict(list)\n",
    "\n",
    "    list_size = 0\n",
    "    for worker_id, resp in dataframe.groupby(\"_worker_id\"):\n",
    "        cum_seen = 0\n",
    "        cum_missed = 0\n",
    "        for fin_time, page in resp.groupby(\"_created_at\"):\n",
    "            seen = page[\"_golden\"].sum()\n",
    "            missed = page[\"_missed\"].sum()\n",
    "            \n",
    "            if np.isnan(missed):\n",
    "                missed = 0\n",
    "                \n",
    "            cum_seen += seen\n",
    "            cum_missed += missed\n",
    "            res[worker_id].append(1 - cum_missed / cum_seen)\n",
    "            \n",
    "        list_size = max(list_size, len(res[worker_id]))\n",
    "        \n",
    "    temp = dict()\n",
    "    for worker_id, values in res.items():\n",
    "        temp[worker_id] = values + [np.nan] * (list_size - len(values))\n",
    "        \n",
    "    return pd.DataFrame(temp)"
   ]
  },
  {
   "cell_type": "code",
   "execution_count": 12,
   "metadata": {
    "collapsed": false
   },
   "outputs": [],
   "source": [
    "timeres = trust_over_time(raw_data)"
   ]
  },
  {
   "cell_type": "code",
   "execution_count": 13,
   "metadata": {
    "collapsed": false
   },
   "outputs": [
    {
     "data": {
      "text/html": [
       "<div>\n",
       "<table border=\"1\" class=\"dataframe\">\n",
       "  <thead>\n",
       "    <tr style=\"text-align: right;\">\n",
       "      <th></th>\n",
       "      <th>3694955</th>\n",
       "      <th>6332651</th>\n",
       "      <th>6347829</th>\n",
       "      <th>6450461</th>\n",
       "      <th>7051387</th>\n",
       "      <th>7211526</th>\n",
       "      <th>8375045</th>\n",
       "      <th>8841252</th>\n",
       "      <th>9832767</th>\n",
       "      <th>11026819</th>\n",
       "      <th>...</th>\n",
       "      <th>33596095</th>\n",
       "      <th>33605234</th>\n",
       "      <th>33623160</th>\n",
       "      <th>33634654</th>\n",
       "      <th>33640330</th>\n",
       "      <th>33664647</th>\n",
       "      <th>33669016</th>\n",
       "      <th>33693322</th>\n",
       "      <th>33705733</th>\n",
       "      <th>33721948</th>\n",
       "    </tr>\n",
       "  </thead>\n",
       "  <tbody>\n",
       "    <tr>\n",
       "      <th>0</th>\n",
       "      <td>0.5</td>\n",
       "      <td>0.666667</td>\n",
       "      <td>0.666667</td>\n",
       "      <td>0.5</td>\n",
       "      <td>0.166667</td>\n",
       "      <td>0.166667</td>\n",
       "      <td>0.666667</td>\n",
       "      <td>0.666667</td>\n",
       "      <td>1.000000</td>\n",
       "      <td>0.5</td>\n",
       "      <td>...</td>\n",
       "      <td>1</td>\n",
       "      <td>1.000000</td>\n",
       "      <td>0.666667</td>\n",
       "      <td>0.5</td>\n",
       "      <td>1.000000</td>\n",
       "      <td>0.833333</td>\n",
       "      <td>0</td>\n",
       "      <td>0.666667</td>\n",
       "      <td>0.5</td>\n",
       "      <td>0.833333</td>\n",
       "    </tr>\n",
       "    <tr>\n",
       "      <th>1</th>\n",
       "      <td>NaN</td>\n",
       "      <td>NaN</td>\n",
       "      <td>NaN</td>\n",
       "      <td>NaN</td>\n",
       "      <td>NaN</td>\n",
       "      <td>NaN</td>\n",
       "      <td>NaN</td>\n",
       "      <td>NaN</td>\n",
       "      <td>1.000000</td>\n",
       "      <td>NaN</td>\n",
       "      <td>...</td>\n",
       "      <td>1</td>\n",
       "      <td>0.857143</td>\n",
       "      <td>NaN</td>\n",
       "      <td>NaN</td>\n",
       "      <td>1.000000</td>\n",
       "      <td>0.714286</td>\n",
       "      <td>NaN</td>\n",
       "      <td>NaN</td>\n",
       "      <td>NaN</td>\n",
       "      <td>0.857143</td>\n",
       "    </tr>\n",
       "    <tr>\n",
       "      <th>2</th>\n",
       "      <td>NaN</td>\n",
       "      <td>NaN</td>\n",
       "      <td>NaN</td>\n",
       "      <td>NaN</td>\n",
       "      <td>NaN</td>\n",
       "      <td>NaN</td>\n",
       "      <td>NaN</td>\n",
       "      <td>NaN</td>\n",
       "      <td>0.875000</td>\n",
       "      <td>NaN</td>\n",
       "      <td>...</td>\n",
       "      <td>1</td>\n",
       "      <td>0.750000</td>\n",
       "      <td>NaN</td>\n",
       "      <td>NaN</td>\n",
       "      <td>1.000000</td>\n",
       "      <td>0.750000</td>\n",
       "      <td>NaN</td>\n",
       "      <td>NaN</td>\n",
       "      <td>NaN</td>\n",
       "      <td>0.875000</td>\n",
       "    </tr>\n",
       "    <tr>\n",
       "      <th>3</th>\n",
       "      <td>NaN</td>\n",
       "      <td>NaN</td>\n",
       "      <td>NaN</td>\n",
       "      <td>NaN</td>\n",
       "      <td>NaN</td>\n",
       "      <td>NaN</td>\n",
       "      <td>NaN</td>\n",
       "      <td>NaN</td>\n",
       "      <td>0.777778</td>\n",
       "      <td>NaN</td>\n",
       "      <td>...</td>\n",
       "      <td>NaN</td>\n",
       "      <td>0.777778</td>\n",
       "      <td>NaN</td>\n",
       "      <td>NaN</td>\n",
       "      <td>0.888889</td>\n",
       "      <td>0.666667</td>\n",
       "      <td>NaN</td>\n",
       "      <td>NaN</td>\n",
       "      <td>NaN</td>\n",
       "      <td>0.888889</td>\n",
       "    </tr>\n",
       "    <tr>\n",
       "      <th>4</th>\n",
       "      <td>NaN</td>\n",
       "      <td>NaN</td>\n",
       "      <td>NaN</td>\n",
       "      <td>NaN</td>\n",
       "      <td>NaN</td>\n",
       "      <td>NaN</td>\n",
       "      <td>NaN</td>\n",
       "      <td>NaN</td>\n",
       "      <td>0.700000</td>\n",
       "      <td>NaN</td>\n",
       "      <td>...</td>\n",
       "      <td>NaN</td>\n",
       "      <td>0.800000</td>\n",
       "      <td>NaN</td>\n",
       "      <td>NaN</td>\n",
       "      <td>NaN</td>\n",
       "      <td>NaN</td>\n",
       "      <td>NaN</td>\n",
       "      <td>NaN</td>\n",
       "      <td>NaN</td>\n",
       "      <td>0.900000</td>\n",
       "    </tr>\n",
       "  </tbody>\n",
       "</table>\n",
       "<p>5 rows × 208 columns</p>\n",
       "</div>"
      ],
      "text/plain": [
       "   3694955   6332651   6347829   6450461   7051387   7211526   8375045   \\\n",
       "0       0.5  0.666667  0.666667       0.5  0.166667  0.166667  0.666667   \n",
       "1       NaN       NaN       NaN       NaN       NaN       NaN       NaN   \n",
       "2       NaN       NaN       NaN       NaN       NaN       NaN       NaN   \n",
       "3       NaN       NaN       NaN       NaN       NaN       NaN       NaN   \n",
       "4       NaN       NaN       NaN       NaN       NaN       NaN       NaN   \n",
       "\n",
       "   8841252   9832767   11026819    ...     33596095  33605234  33623160  \\\n",
       "0  0.666667  1.000000       0.5    ...            1  1.000000  0.666667   \n",
       "1       NaN  1.000000       NaN    ...            1  0.857143       NaN   \n",
       "2       NaN  0.875000       NaN    ...            1  0.750000       NaN   \n",
       "3       NaN  0.777778       NaN    ...          NaN  0.777778       NaN   \n",
       "4       NaN  0.700000       NaN    ...          NaN  0.800000       NaN   \n",
       "\n",
       "   33634654  33640330  33664647  33669016  33693322  33705733  33721948  \n",
       "0       0.5  1.000000  0.833333         0  0.666667       0.5  0.833333  \n",
       "1       NaN  1.000000  0.714286       NaN       NaN       NaN  0.857143  \n",
       "2       NaN  1.000000  0.750000       NaN       NaN       NaN  0.875000  \n",
       "3       NaN  0.888889  0.666667       NaN       NaN       NaN  0.888889  \n",
       "4       NaN       NaN       NaN       NaN       NaN       NaN  0.900000  \n",
       "\n",
       "[5 rows x 208 columns]"
      ]
     },
     "execution_count": 13,
     "metadata": {},
     "output_type": "execute_result"
    }
   ],
   "source": [
    "timeres.head()"
   ]
  },
  {
   "cell_type": "code",
   "execution_count": 14,
   "metadata": {
    "collapsed": false
   },
   "outputs": [
    {
     "data": {
      "text/plain": [
       "<matplotlib.text.Text at 0x7f27463b6810>"
      ]
     },
     "execution_count": 14,
     "metadata": {},
     "output_type": "execute_result"
    },
    {
     "data": {
      "image/png": "[encoded data removed]",
      "text/plain": [
       "<matplotlib.figure.Figure at 0x7f27452149d0>"
      ]
     },
     "metadata": {},
     "output_type": "display_data"
    }
   ],
   "source": [
    "graph = timeres.plot(legend = False, figsize = (8, 5),\n",
    "            title = \"All workers' cumulative trust scores over time\")\n",
    "\n",
    "graph.set_ylim((0, 1.05))\n",
    "graph.set_xlabel(\"Consecutive pages of work\")\n",
    "graph.set_ylabel(\"Trust score\")"
   ]
  },
  {
   "cell_type": "markdown",
   "metadata": {},
   "source": [
    "### Examine answer response distribution over time:"
   ]
  },
  {
   "cell_type": "code",
   "execution_count": 15,
   "metadata": {
    "collapsed": false
   },
   "outputs": [],
   "source": [
    "def resp_over_time(dataframe):\n",
    "    testres = []\n",
    "    workres = []\n",
    "    time_taken = []\n",
    "    \n",
    "    # for one worker only\n",
    "    for fin_time, page in dataframe.groupby(\"_created_at\"):\n",
    "        test_dist = page.query(\"_golden\")[\"verify_relationship\"].value_counts(normalize = True)\n",
    "        work_dist = page.query(\"~_golden\")[\"verify_relationship\"].value_counts(normalize = True)\n",
    "        \n",
    "        start_time = page[\"_started_at\"].iloc[0].to_datetime()\n",
    "        stop_time = page[\"_created_at\"].iloc[0].to_datetime()\n",
    "        \n",
    "        time_used = int((stop_time - start_time).total_seconds())\n",
    "        \n",
    "        testres.append(test_dist)\n",
    "        workres.append(work_dist)\n",
    "        time_taken.append(time_used)\n",
    "        \n",
    "    testres = pd.DataFrame(testres).fillna(0)\n",
    "    workres = pd.DataFrame(workres).fillna(0)\n",
    "    \n",
    "    return (pd.Series(time_taken), testres, workres)\n",
    "\n",
    "def plot_worker_resp(job_id, worker_id, dataframe):\n",
    "    data = dataframe.query(\"_worker_id == {0}\".format(worker_id))\n",
    "    \n",
    "    time_taken, testres, workres = resp_over_time(data)\n",
    "    \n",
    "    trust_time = timeres[worker_id].dropna()\n",
    "    \n",
    "    \n",
    "    fig, axs = plt.subplots(4, 1, figsize = (10, 19))\n",
    "    \n",
    "    fig.suptitle(\"Profile for worker {0} for job {1}\".format(worker_id, job_id, fontsize = 20))\n",
    "\n",
    "    for i in range(3):\n",
    "        axs[i].set_ylim((0, 1.05))\n",
    "    \n",
    "    axs[0].set_xlabel(\"Pages of work in ascending time order\")\n",
    "    \n",
    "    axs[0].set_ylabel(\"Cumulative trust score\")\n",
    "    axs[1].set_ylabel(\"% of responses\")\n",
    "    axs[2].set_ylabel(\"% of responses\")\n",
    "    axs[3].set_ylabel(\"Time used for one page of work in seconds\")\n",
    "    \n",
    "    trust_time.plot(ax = axs[0],\n",
    "                   title = \"Cumulative trust score over time\")\n",
    "    \n",
    "    testres.plot(ax = axs[1],\n",
    "                title = \"Test question distribution\")\n",
    "    workres.plot(ax = axs[2],\n",
    "                title = \"Work unit distribution\")\n",
    "    \n",
    "    time_taken.plot(ax = axs[3],\n",
    "                   title = \"Time spent on each page of work in seconds\")\n",
    "    \n",
    "    plt.savefig(\"data/worker_profiles/job_{0}/worker_{1}_profile.png\".format(job_id, worker_id))\n",
    "    plt.close(fig)\n",
    "                     "
   ]
  },
  {
   "cell_type": "code",
   "execution_count": 16,
   "metadata": {
    "collapsed": true
   },
   "outputs": [],
   "source": [
    "bad_workers = {31501233,\n",
    " 31720388,\n",
    " 31720815,\n",
    " 32025293,\n",
    " 33081102,\n",
    " 33081299,\n",
    " 33081469,\n",
    " 33081531,\n",
    " 33085305,\n",
    " 33085428,\n",
    " 33238902,\n",
    " 33301062,\n",
    " 33301138,\n",
    " 33596095}"
   ]
  },
  {
   "cell_type": "code",
   "execution_count": 17,
   "metadata": {
    "collapsed": true
   },
   "outputs": [],
   "source": [
    "job_id = 758438\n",
    "for worker_id in bad_workers:\n",
    "    plot_worker_resp(job_id, worker_id, raw_data)"
   ]
  },
  {
   "cell_type": "markdown",
   "metadata": {},
   "source": [
    "###Building a profile about each worker:"
   ]
  },
  {
   "cell_type": "markdown",
   "metadata": {},
   "source": [
    "Work units are presented to workers in pages. For our task, we had 6 work units per page. A page of work is rendered at \"_started_at\" time and the judgement is accepted at \"_created_at\" time. Therefore to determine the average time spent on a single work unit, we divide by 6."
   ]
  },
  {
   "cell_type": "markdown",
   "metadata": {},
   "source": [
    "---"
   ]
  },
  {
   "cell_type": "markdown",
   "metadata": {},
   "source": [
    "###Workers who took the test but did so very quickly and only chose one answer choice:"
   ]
  },
  {
   "cell_type": "code",
   "execution_count": 13,
   "metadata": {
    "collapsed": true
   },
   "outputs": [],
   "source": [
    "def find_quiz_bots(raw_data):\n",
    "    test_data = raw_data.query(\"_golden\")\n",
    "    \n",
    "    bots = set()\n",
    "    for worker_id, resp in test_data.groupby(\"_worker_id\"):\n",
    "        distribution = resp[\"verify_relationship\"].value_counts()\n",
    "        if len(distribution) == 1:\n",
    "            bots.add(worker_id)\n",
    "            \n",
    "    return bots"
   ]
  },
  {
   "cell_type": "code",
   "execution_count": 14,
   "metadata": {
    "collapsed": false
   },
   "outputs": [],
   "source": [
    "quiz_bots = find_quiz_bots(raw_data)"
   ]
  },
  {
   "cell_type": "code",
   "execution_count": 15,
   "metadata": {
    "collapsed": false
   },
   "outputs": [
    {
     "data": {
      "text/plain": [
       "{11026819,\n",
       " 22095664,\n",
       " 24118190,\n",
       " 26075686,\n",
       " 30655707,\n",
       " 30921821,\n",
       " 31720248,\n",
       " 31756422,\n",
       " 32160874,\n",
       " 32664120,\n",
       " 32730320,\n",
       " 33065741,\n",
       " 33269250,\n",
       " 33595991,\n",
       " 33669016}"
      ]
     },
     "execution_count": 15,
     "metadata": {},
     "output_type": "execute_result"
    }
   ],
   "source": [
    "quiz_bots"
   ]
  },
  {
   "cell_type": "markdown",
   "metadata": {},
   "source": [
    "Workers who take the quiz but who never try to vary their answer response are very likely to be bots or people who are praying that the distribution for the test questions is bad enough that they will pass through anyways. If the judgements are made super quickly, despite the fact the task is hard, then this increases the likelihood that the the worker is a robot. A human would be incentivized to take as long as needed on the test questions, since that would allow them to access the task and get paid. A robot does not care, since its purpose is to feed data to the robot that allows the person to get paid."
   ]
  },
  {
   "cell_type": "code",
   "execution_count": 16,
   "metadata": {
    "collapsed": false
   },
   "outputs": [],
   "source": [
    "df = worker_profiles.query(\"worker_id in {0}\".format(list(quiz_bots)))\n",
    "df = df.sort(\"test_median_time_per_unit\")"
   ]
  },
  {
   "cell_type": "code",
   "execution_count": 17,
   "metadata": {
    "collapsed": false
   },
   "outputs": [
    {
     "data": {
      "text/html": [
       "<div>\n",
       "<table border=\"1\" class=\"dataframe\">\n",
       "  <thead>\n",
       "    <tr style=\"text-align: right;\">\n",
       "      <th></th>\n",
       "      <th>channel</th>\n",
       "      <th>country</th>\n",
       "      <th>ip</th>\n",
       "      <th>test_max_time_per_unit</th>\n",
       "      <th>test_median_time_per_unit</th>\n",
       "      <th>test_min_time_per_unit</th>\n",
       "      <th>test_ner_mistake</th>\n",
       "      <th>test_no_relation</th>\n",
       "      <th>test_ques_seen</th>\n",
       "      <th>test_yes_direct</th>\n",
       "      <th>...</th>\n",
       "      <th>trust</th>\n",
       "      <th>work_max_time_per_unit</th>\n",
       "      <th>work_median_time_per_unit</th>\n",
       "      <th>work_min_time_per_unit</th>\n",
       "      <th>work_ner_mistake</th>\n",
       "      <th>work_no_relation</th>\n",
       "      <th>work_units_seen</th>\n",
       "      <th>work_yes_direct</th>\n",
       "      <th>work_yes_indirect</th>\n",
       "      <th>worker_id</th>\n",
       "    </tr>\n",
       "  </thead>\n",
       "  <tbody>\n",
       "    <tr>\n",
       "      <th>151</th>\n",
       "      <td>neodev</td>\n",
       "      <td>Viet Nam</td>\n",
       "      <td>1.52.163.51</td>\n",
       "      <td>3.666667</td>\n",
       "      <td>3.666667</td>\n",
       "      <td>3.666667</td>\n",
       "      <td>6</td>\n",
       "      <td>0</td>\n",
       "      <td>6</td>\n",
       "      <td>0</td>\n",
       "      <td>...</td>\n",
       "      <td>0.0000</td>\n",
       "      <td>NaN</td>\n",
       "      <td>NaN</td>\n",
       "      <td>NaN</td>\n",
       "      <td>0</td>\n",
       "      <td>0</td>\n",
       "      <td>0</td>\n",
       "      <td>0</td>\n",
       "      <td>0</td>\n",
       "      <td>32730320</td>\n",
       "    </tr>\n",
       "    <tr>\n",
       "      <th>45</th>\n",
       "      <td>neodev</td>\n",
       "      <td>Venezuela</td>\n",
       "      <td>186.93.216.65</td>\n",
       "      <td>10.500000</td>\n",
       "      <td>10.500000</td>\n",
       "      <td>10.500000</td>\n",
       "      <td>0</td>\n",
       "      <td>0</td>\n",
       "      <td>6</td>\n",
       "      <td>6</td>\n",
       "      <td>...</td>\n",
       "      <td>0.0000</td>\n",
       "      <td>NaN</td>\n",
       "      <td>NaN</td>\n",
       "      <td>NaN</td>\n",
       "      <td>0</td>\n",
       "      <td>0</td>\n",
       "      <td>0</td>\n",
       "      <td>0</td>\n",
       "      <td>0</td>\n",
       "      <td>24118190</td>\n",
       "    </tr>\n",
       "    <tr>\n",
       "      <th>42</th>\n",
       "      <td>instagc</td>\n",
       "      <td>United States</td>\n",
       "      <td>63.137.145.225</td>\n",
       "      <td>13.166667</td>\n",
       "      <td>13.166667</td>\n",
       "      <td>13.166667</td>\n",
       "      <td>0</td>\n",
       "      <td>0</td>\n",
       "      <td>6</td>\n",
       "      <td>6</td>\n",
       "      <td>...</td>\n",
       "      <td>0.5000</td>\n",
       "      <td>NaN</td>\n",
       "      <td>NaN</td>\n",
       "      <td>NaN</td>\n",
       "      <td>0</td>\n",
       "      <td>0</td>\n",
       "      <td>0</td>\n",
       "      <td>0</td>\n",
       "      <td>0</td>\n",
       "      <td>22095664</td>\n",
       "    </tr>\n",
       "    <tr>\n",
       "      <th>163</th>\n",
       "      <td>neodev</td>\n",
       "      <td>India</td>\n",
       "      <td>27.97.173.115</td>\n",
       "      <td>19.833333</td>\n",
       "      <td>19.833333</td>\n",
       "      <td>19.833333</td>\n",
       "      <td>0</td>\n",
       "      <td>6</td>\n",
       "      <td>6</td>\n",
       "      <td>0</td>\n",
       "      <td>...</td>\n",
       "      <td>0.5000</td>\n",
       "      <td>NaN</td>\n",
       "      <td>NaN</td>\n",
       "      <td>NaN</td>\n",
       "      <td>0</td>\n",
       "      <td>0</td>\n",
       "      <td>0</td>\n",
       "      <td>0</td>\n",
       "      <td>0</td>\n",
       "      <td>33065741</td>\n",
       "    </tr>\n",
       "    <tr>\n",
       "      <th>204</th>\n",
       "      <td>neodev</td>\n",
       "      <td>Viet Nam</td>\n",
       "      <td>1.52.163.51</td>\n",
       "      <td>20.000000</td>\n",
       "      <td>20.000000</td>\n",
       "      <td>20.000000</td>\n",
       "      <td>6</td>\n",
       "      <td>0</td>\n",
       "      <td>6</td>\n",
       "      <td>0</td>\n",
       "      <td>...</td>\n",
       "      <td>0.0000</td>\n",
       "      <td>NaN</td>\n",
       "      <td>NaN</td>\n",
       "      <td>NaN</td>\n",
       "      <td>0</td>\n",
       "      <td>0</td>\n",
       "      <td>0</td>\n",
       "      <td>0</td>\n",
       "      <td>0</td>\n",
       "      <td>33669016</td>\n",
       "    </tr>\n",
       "    <tr>\n",
       "      <th>50</th>\n",
       "      <td>clixsense</td>\n",
       "      <td>Spain</td>\n",
       "      <td>178.139.106.224</td>\n",
       "      <td>20.666667</td>\n",
       "      <td>20.666667</td>\n",
       "      <td>20.666667</td>\n",
       "      <td>0</td>\n",
       "      <td>6</td>\n",
       "      <td>6</td>\n",
       "      <td>0</td>\n",
       "      <td>...</td>\n",
       "      <td>0.3333</td>\n",
       "      <td>NaN</td>\n",
       "      <td>NaN</td>\n",
       "      <td>NaN</td>\n",
       "      <td>0</td>\n",
       "      <td>0</td>\n",
       "      <td>0</td>\n",
       "      <td>0</td>\n",
       "      <td>0</td>\n",
       "      <td>26075686</td>\n",
       "    </tr>\n",
       "    <tr>\n",
       "      <th>133</th>\n",
       "      <td>elite</td>\n",
       "      <td>Viet Nam</td>\n",
       "      <td>1.52.163.51</td>\n",
       "      <td>21.500000</td>\n",
       "      <td>21.500000</td>\n",
       "      <td>21.500000</td>\n",
       "      <td>6</td>\n",
       "      <td>0</td>\n",
       "      <td>6</td>\n",
       "      <td>0</td>\n",
       "      <td>...</td>\n",
       "      <td>0.0000</td>\n",
       "      <td>NaN</td>\n",
       "      <td>NaN</td>\n",
       "      <td>NaN</td>\n",
       "      <td>0</td>\n",
       "      <td>0</td>\n",
       "      <td>0</td>\n",
       "      <td>0</td>\n",
       "      <td>0</td>\n",
       "      <td>32160874</td>\n",
       "    </tr>\n",
       "    <tr>\n",
       "      <th>113</th>\n",
       "      <td>elite</td>\n",
       "      <td>Viet Nam</td>\n",
       "      <td>115.76.94.63</td>\n",
       "      <td>28.000000</td>\n",
       "      <td>28.000000</td>\n",
       "      <td>28.000000</td>\n",
       "      <td>0</td>\n",
       "      <td>0</td>\n",
       "      <td>6</td>\n",
       "      <td>6</td>\n",
       "      <td>...</td>\n",
       "      <td>0.1667</td>\n",
       "      <td>NaN</td>\n",
       "      <td>NaN</td>\n",
       "      <td>NaN</td>\n",
       "      <td>0</td>\n",
       "      <td>0</td>\n",
       "      <td>0</td>\n",
       "      <td>0</td>\n",
       "      <td>0</td>\n",
       "      <td>31720248</td>\n",
       "    </tr>\n",
       "    <tr>\n",
       "      <th>197</th>\n",
       "      <td>neodev</td>\n",
       "      <td>Viet Nam</td>\n",
       "      <td>113.189.127.72</td>\n",
       "      <td>52.833333</td>\n",
       "      <td>52.833333</td>\n",
       "      <td>52.833333</td>\n",
       "      <td>0</td>\n",
       "      <td>0</td>\n",
       "      <td>6</td>\n",
       "      <td>6</td>\n",
       "      <td>...</td>\n",
       "      <td>0.5000</td>\n",
       "      <td>NaN</td>\n",
       "      <td>NaN</td>\n",
       "      <td>NaN</td>\n",
       "      <td>0</td>\n",
       "      <td>0</td>\n",
       "      <td>0</td>\n",
       "      <td>0</td>\n",
       "      <td>0</td>\n",
       "      <td>33595991</td>\n",
       "    </tr>\n",
       "    <tr>\n",
       "      <th>9</th>\n",
       "      <td>neodev</td>\n",
       "      <td>Malaysia</td>\n",
       "      <td>175.136.23.48</td>\n",
       "      <td>54.666667</td>\n",
       "      <td>54.666667</td>\n",
       "      <td>54.666667</td>\n",
       "      <td>0</td>\n",
       "      <td>0</td>\n",
       "      <td>6</td>\n",
       "      <td>6</td>\n",
       "      <td>...</td>\n",
       "      <td>0.5000</td>\n",
       "      <td>NaN</td>\n",
       "      <td>NaN</td>\n",
       "      <td>NaN</td>\n",
       "      <td>0</td>\n",
       "      <td>0</td>\n",
       "      <td>0</td>\n",
       "      <td>0</td>\n",
       "      <td>0</td>\n",
       "      <td>11026819</td>\n",
       "    </tr>\n",
       "    <tr>\n",
       "      <th>87</th>\n",
       "      <td>elite</td>\n",
       "      <td>United States</td>\n",
       "      <td>199.115.117.199</td>\n",
       "      <td>56.333333</td>\n",
       "      <td>56.333333</td>\n",
       "      <td>56.333333</td>\n",
       "      <td>0</td>\n",
       "      <td>6</td>\n",
       "      <td>6</td>\n",
       "      <td>0</td>\n",
       "      <td>...</td>\n",
       "      <td>0.3333</td>\n",
       "      <td>NaN</td>\n",
       "      <td>NaN</td>\n",
       "      <td>NaN</td>\n",
       "      <td>0</td>\n",
       "      <td>0</td>\n",
       "      <td>0</td>\n",
       "      <td>0</td>\n",
       "      <td>0</td>\n",
       "      <td>30655707</td>\n",
       "    </tr>\n",
       "    <tr>\n",
       "      <th>181</th>\n",
       "      <td>neodev</td>\n",
       "      <td>Croatia</td>\n",
       "      <td>141.136.184.184</td>\n",
       "      <td>59.000000</td>\n",
       "      <td>59.000000</td>\n",
       "      <td>59.000000</td>\n",
       "      <td>0</td>\n",
       "      <td>0</td>\n",
       "      <td>6</td>\n",
       "      <td>6</td>\n",
       "      <td>...</td>\n",
       "      <td>0.1667</td>\n",
       "      <td>NaN</td>\n",
       "      <td>NaN</td>\n",
       "      <td>NaN</td>\n",
       "      <td>0</td>\n",
       "      <td>0</td>\n",
       "      <td>0</td>\n",
       "      <td>0</td>\n",
       "      <td>0</td>\n",
       "      <td>33269250</td>\n",
       "    </tr>\n",
       "    <tr>\n",
       "      <th>117</th>\n",
       "      <td>clixsense</td>\n",
       "      <td>India</td>\n",
       "      <td>116.68.120.63</td>\n",
       "      <td>63.500000</td>\n",
       "      <td>63.500000</td>\n",
       "      <td>63.500000</td>\n",
       "      <td>0</td>\n",
       "      <td>0</td>\n",
       "      <td>6</td>\n",
       "      <td>6</td>\n",
       "      <td>...</td>\n",
       "      <td>0.3333</td>\n",
       "      <td>NaN</td>\n",
       "      <td>NaN</td>\n",
       "      <td>NaN</td>\n",
       "      <td>0</td>\n",
       "      <td>0</td>\n",
       "      <td>0</td>\n",
       "      <td>0</td>\n",
       "      <td>0</td>\n",
       "      <td>31756422</td>\n",
       "    </tr>\n",
       "    <tr>\n",
       "      <th>148</th>\n",
       "      <td>neodev</td>\n",
       "      <td>Venezuela</td>\n",
       "      <td>201.242.148.59</td>\n",
       "      <td>88.500000</td>\n",
       "      <td>88.500000</td>\n",
       "      <td>88.500000</td>\n",
       "      <td>0</td>\n",
       "      <td>0</td>\n",
       "      <td>6</td>\n",
       "      <td>6</td>\n",
       "      <td>...</td>\n",
       "      <td>0.5000</td>\n",
       "      <td>NaN</td>\n",
       "      <td>NaN</td>\n",
       "      <td>NaN</td>\n",
       "      <td>0</td>\n",
       "      <td>0</td>\n",
       "      <td>0</td>\n",
       "      <td>0</td>\n",
       "      <td>0</td>\n",
       "      <td>32664120</td>\n",
       "    </tr>\n",
       "    <tr>\n",
       "      <th>93</th>\n",
       "      <td>clixsense</td>\n",
       "      <td>Indonesia</td>\n",
       "      <td>120.173.11.129</td>\n",
       "      <td>90.500000</td>\n",
       "      <td>90.500000</td>\n",
       "      <td>90.500000</td>\n",
       "      <td>0</td>\n",
       "      <td>6</td>\n",
       "      <td>6</td>\n",
       "      <td>0</td>\n",
       "      <td>...</td>\n",
       "      <td>0.3333</td>\n",
       "      <td>NaN</td>\n",
       "      <td>NaN</td>\n",
       "      <td>NaN</td>\n",
       "      <td>0</td>\n",
       "      <td>0</td>\n",
       "      <td>0</td>\n",
       "      <td>0</td>\n",
       "      <td>0</td>\n",
       "      <td>30921821</td>\n",
       "    </tr>\n",
       "  </tbody>\n",
       "</table>\n",
       "<p>15 rows × 21 columns</p>\n",
       "</div>"
      ],
      "text/plain": [
       "       channel        country               ip  test_max_time_per_unit  \\\n",
       "151     neodev       Viet Nam      1.52.163.51                3.666667   \n",
       "45      neodev      Venezuela    186.93.216.65               10.500000   \n",
       "42     instagc  United States   63.137.145.225               13.166667   \n",
       "163     neodev          India    27.97.173.115               19.833333   \n",
       "204     neodev       Viet Nam      1.52.163.51               20.000000   \n",
       "50   clixsense          Spain  178.139.106.224               20.666667   \n",
       "133      elite       Viet Nam      1.52.163.51               21.500000   \n",
       "113      elite       Viet Nam     115.76.94.63               28.000000   \n",
       "197     neodev       Viet Nam   113.189.127.72               52.833333   \n",
       "9       neodev       Malaysia    175.136.23.48               54.666667   \n",
       "87       elite  United States  199.115.117.199               56.333333   \n",
       "181     neodev        Croatia  141.136.184.184               59.000000   \n",
       "117  clixsense          India    116.68.120.63               63.500000   \n",
       "148     neodev      Venezuela   201.242.148.59               88.500000   \n",
       "93   clixsense      Indonesia   120.173.11.129               90.500000   \n",
       "\n",
       "     test_median_time_per_unit  test_min_time_per_unit  test_ner_mistake  \\\n",
       "151                   3.666667                3.666667                 6   \n",
       "45                   10.500000               10.500000                 0   \n",
       "42                   13.166667               13.166667                 0   \n",
       "163                  19.833333               19.833333                 0   \n",
       "204                  20.000000               20.000000                 6   \n",
       "50                   20.666667               20.666667                 0   \n",
       "133                  21.500000               21.500000                 6   \n",
       "113                  28.000000               28.000000                 0   \n",
       "197                  52.833333               52.833333                 0   \n",
       "9                    54.666667               54.666667                 0   \n",
       "87                   56.333333               56.333333                 0   \n",
       "181                  59.000000               59.000000                 0   \n",
       "117                  63.500000               63.500000                 0   \n",
       "148                  88.500000               88.500000                 0   \n",
       "93                   90.500000               90.500000                 0   \n",
       "\n",
       "     test_no_relation  test_ques_seen  test_yes_direct    ...       trust  \\\n",
       "151                 0               6                0    ...      0.0000   \n",
       "45                  0               6                6    ...      0.0000   \n",
       "42                  0               6                6    ...      0.5000   \n",
       "163                 6               6                0    ...      0.5000   \n",
       "204                 0               6                0    ...      0.0000   \n",
       "50                  6               6                0    ...      0.3333   \n",
       "133                 0               6                0    ...      0.0000   \n",
       "113                 0               6                6    ...      0.1667   \n",
       "197                 0               6                6    ...      0.5000   \n",
       "9                   0               6                6    ...      0.5000   \n",
       "87                  6               6                0    ...      0.3333   \n",
       "181                 0               6                6    ...      0.1667   \n",
       "117                 0               6                6    ...      0.3333   \n",
       "148                 0               6                6    ...      0.5000   \n",
       "93                  6               6                0    ...      0.3333   \n",
       "\n",
       "     work_max_time_per_unit  work_median_time_per_unit  \\\n",
       "151                     NaN                        NaN   \n",
       "45                      NaN                        NaN   \n",
       "42                      NaN                        NaN   \n",
       "163                     NaN                        NaN   \n",
       "204                     NaN                        NaN   \n",
       "50                      NaN                        NaN   \n",
       "133                     NaN                        NaN   \n",
       "113                     NaN                        NaN   \n",
       "197                     NaN                        NaN   \n",
       "9                       NaN                        NaN   \n",
       "87                      NaN                        NaN   \n",
       "181                     NaN                        NaN   \n",
       "117                     NaN                        NaN   \n",
       "148                     NaN                        NaN   \n",
       "93                      NaN                        NaN   \n",
       "\n",
       "     work_min_time_per_unit  work_ner_mistake  work_no_relation  \\\n",
       "151                     NaN                 0                 0   \n",
       "45                      NaN                 0                 0   \n",
       "42                      NaN                 0                 0   \n",
       "163                     NaN                 0                 0   \n",
       "204                     NaN                 0                 0   \n",
       "50                      NaN                 0                 0   \n",
       "133                     NaN                 0                 0   \n",
       "113                     NaN                 0                 0   \n",
       "197                     NaN                 0                 0   \n",
       "9                       NaN                 0                 0   \n",
       "87                      NaN                 0                 0   \n",
       "181                     NaN                 0                 0   \n",
       "117                     NaN                 0                 0   \n",
       "148                     NaN                 0                 0   \n",
       "93                      NaN                 0                 0   \n",
       "\n",
       "     work_units_seen  work_yes_direct  work_yes_indirect  worker_id  \n",
       "151                0                0                  0   32730320  \n",
       "45                 0                0                  0   24118190  \n",
       "42                 0                0                  0   22095664  \n",
       "163                0                0                  0   33065741  \n",
       "204                0                0                  0   33669016  \n",
       "50                 0                0                  0   26075686  \n",
       "133                0                0                  0   32160874  \n",
       "113                0                0                  0   31720248  \n",
       "197                0                0                  0   33595991  \n",
       "9                  0                0                  0   11026819  \n",
       "87                 0                0                  0   30655707  \n",
       "181                0                0                  0   33269250  \n",
       "117                0                0                  0   31756422  \n",
       "148                0                0                  0   32664120  \n",
       "93                 0                0                  0   30921821  \n",
       "\n",
       "[15 rows x 21 columns]"
      ]
     },
     "execution_count": 17,
     "metadata": {},
     "output_type": "execute_result"
    }
   ],
   "source": [
    "df"
   ]
  },
  {
   "cell_type": "code",
   "execution_count": 18,
   "metadata": {
    "collapsed": false
   },
   "outputs": [
    {
     "name": "stdout",
     "output_type": "stream",
     "text": [
      "https://crowdflower.com/jobs/758438/contributors/32730320\n",
      "https://crowdflower.com/jobs/758438/contributors/24118190\n",
      "https://crowdflower.com/jobs/758438/contributors/22095664\n",
      "https://crowdflower.com/jobs/758438/contributors/33065741\n",
      "https://crowdflower.com/jobs/758438/contributors/33669016\n",
      "https://crowdflower.com/jobs/758438/contributors/26075686\n",
      "https://crowdflower.com/jobs/758438/contributors/32160874\n",
      "https://crowdflower.com/jobs/758438/contributors/31720248\n"
     ]
    }
   ],
   "source": [
    "for worker_id in df.query(\"test_max_time_per_unit < 30\")[\"worker_id\"]:\n",
    "    print \"https://crowdflower.com/jobs/758438/contributors/{0}\".format(worker_id)"
   ]
  },
  {
   "cell_type": "code",
   "execution_count": 19,
   "metadata": {
    "collapsed": false
   },
   "outputs": [
    {
     "data": {
      "text/plain": [
       "<matplotlib.axes._subplots.AxesSubplot at 0x7fde72984990>"
      ]
     },
     "execution_count": 19,
     "metadata": {},
     "output_type": "execute_result"
    },
    {
     "data": {
      "image/png": "[encoded data removed]",
      "text/plain": [
       "<matplotlib.figure.Figure at 0x7fde7266ca50>"
      ]
     },
     "metadata": {},
     "output_type": "display_data"
    }
   ],
   "source": [
    "df.plot(kind = \"barh\", x = \"worker_id\", y = \"test_median_time_per_unit\")"
   ]
  },
  {
   "cell_type": "markdown",
   "metadata": {},
   "source": [
    "The threshold of 30 seconds is admittedly arbitrary. However, it is **highly** unlikely that worker 32730320 is not a robot, since each judgement was made in 3 seconds, and all the responses were \"ner_mistake\", which is statistically the least likely choice of all the answers (the test question distribution reflects this).\n",
    "\n",
    "However, if we consider it from the angle of a robot trying to get the right answers, then a robot would **want** to choose the wrong answers, since then it is guaranteed to be told what the correct answer is."
   ]
  },
  {
   "cell_type": "markdown",
   "metadata": {
    "collapsed": true
   },
   "source": [
    "---"
   ]
  },
  {
   "cell_type": "markdown",
   "metadata": {},
   "source": [
    "###Worker country distribution\n",
    "\n",
    "Let's get some demographic data about the people who worked on our job."
   ]
  },
  {
   "cell_type": "code",
   "execution_count": 20,
   "metadata": {
    "collapsed": true
   },
   "outputs": [],
   "source": [
    "def plot_by_group(column, dataframe, title):\n",
    "    countries = dataframe[column].value_counts()\n",
    "    \n",
    "    graph = countries.plot(kind = \"barh\", figsize = (10, 10),\n",
    "                           title = title,\n",
    "                           fontsize = 12)\n",
    "\n",
    "    graph.set_xlabel(\"Number of workers\")"
   ]
  },
  {
   "cell_type": "code",
   "execution_count": 21,
   "metadata": {
    "collapsed": false
   },
   "outputs": [
    {
     "data": {
      "image/png": "[encoded data removed]",
      "text/plain": [
       "<matplotlib.figure.Figure at 0x7fde724a8e90>"
      ]
     },
     "metadata": {},
     "output_type": "display_data"
    }
   ],
   "source": [
    "# all workers, including those who failed\n",
    "plot_by_group(\"country\", worker_profiles, \"Job Participants by Country\")"
   ]
  },
  {
   "cell_type": "code",
   "execution_count": 22,
   "metadata": {
    "collapsed": false
   },
   "outputs": [
    {
     "data": {
      "image/png": "[encoded data removed]",
      "text/plain": [
       "<matplotlib.figure.Figure at 0x7fde724a4ad0>"
      ]
     },
     "metadata": {},
     "output_type": "display_data"
    }
   ],
   "source": [
    "# workers who passed only\n",
    "temp = worker_profiles.query(\"trust >= 0.7\")\n",
    "plot_by_group(\"country\", temp, \"Job Participants by Country\")"
   ]
  },
  {
   "cell_type": "code",
   "execution_count": 23,
   "metadata": {
    "collapsed": false
   },
   "outputs": [
    {
     "data": {
      "image/png": "[encoded data removed]",
      "text/plain": [
       "<matplotlib.figure.Figure at 0x7fde72497fd0>"
      ]
     },
     "metadata": {},
     "output_type": "display_data"
    }
   ],
   "source": [
    "temp = worker_profiles.query(\"work_units_seen > 0\")\n",
    "plot_by_group(\"country\", temp, \"Job Participants by Country\")"
   ]
  },
  {
   "cell_type": "markdown",
   "metadata": {},
   "source": [
    "###Workers grouped by channel:"
   ]
  },
  {
   "cell_type": "code",
   "execution_count": 24,
   "metadata": {
    "collapsed": false
   },
   "outputs": [
    {
     "data": {
      "image/png": "[encoded data removed]",
      "text/plain": [
       "<matplotlib.figure.Figure at 0x7fde7247aa10>"
      ]
     },
     "metadata": {},
     "output_type": "display_data"
    }
   ],
   "source": [
    "plot_by_group(\"channel\", worker_profiles, \"Job Participants by Channel\")"
   ]
  },
  {
   "cell_type": "code",
   "execution_count": 25,
   "metadata": {
    "collapsed": false
   },
   "outputs": [
    {
     "data": {
      "image/png": "[encoded data removed]",
      "text/plain": [
       "<matplotlib.figure.Figure at 0x7fde727cc0d0>"
      ]
     },
     "metadata": {},
     "output_type": "display_data"
    }
   ],
   "source": [
    "# workers who passed only\n",
    "temp = worker_profiles.query(\"trust >= 0.7\")\n",
    "plot_by_group(\"channel\", temp, \"Job Participants by Channel\")"
   ]
  },
  {
   "cell_type": "markdown",
   "metadata": {},
   "source": [
    "###Median work times grouped by country"
   ]
  },
  {
   "cell_type": "code",
   "execution_count": 26,
   "metadata": {
    "collapsed": true
   },
   "outputs": [],
   "source": [
    "def plot_work_speed(column, dataframe, title):\n",
    "    \"\"\"\n",
    "    Plot speed of work.\n",
    "    \"\"\"\n",
    "    graph = dataframe.boxplot(\"work_median_time_per_unit\", by = column, figsize = (10, 10),\n",
    "                     rot = 75, fontsize = 12)\n",
    "\n",
    "    graph.set_ylabel(\"Median work unit response time in seconds\")\n",
    "    graph.set_title(title)"
   ]
  },
  {
   "cell_type": "code",
   "execution_count": 27,
   "metadata": {
    "collapsed": false
   },
   "outputs": [
    {
     "data": {
      "image/png": "[encoded data removed]",
      "text/plain": [
       "<matplotlib.figure.Figure at 0x7fde7242c810>"
      ]
     },
     "metadata": {},
     "output_type": "display_data"
    }
   ],
   "source": [
    "data = worker_profiles.query(\"work_units_seen > 0\")\n",
    "plot_work_speed(\"country\", data, \"Median work unit response time for workers who performed at least one work unit\")"
   ]
  },
  {
   "cell_type": "code",
   "execution_count": 28,
   "metadata": {
    "collapsed": false
   },
   "outputs": [
    {
     "data": {
      "image/png": "[encoded data removed]",
      "text/plain": [
       "<matplotlib.figure.Figure at 0x7fde72412490>"
      ]
     },
     "metadata": {},
     "output_type": "display_data"
    }
   ],
   "source": [
    "data = worker_profiles.query(\"work_units_seen > 0 and trust >= 0.7\")\n",
    "plot_work_speed(\"country\", data, \"Median work unit response time for workers who had trust >= 0.7\")"
   ]
  },
  {
   "cell_type": "markdown",
   "metadata": {},
   "source": [
    "From these two graphs we see that workers from Indonesia who had trust scores of >= 0.7 actually took longer to complete the tasks on average than those who passed the initial quiz but eventually failed out. For the Indian and Vietnamese workers, there is no change in distribution, which means that everyone already has a trust score of >= 0.7."
   ]
  },
  {
   "cell_type": "code",
   "execution_count": 29,
   "metadata": {
    "collapsed": false
   },
   "outputs": [
    {
     "data": {
      "image/png": "[encoded data removed]",
      "text/plain": [
       "<matplotlib.figure.Figure at 0x7fde7278d350>"
      ]
     },
     "metadata": {},
     "output_type": "display_data"
    }
   ],
   "source": [
    "data = worker_profiles.query(\"work_units_seen > 0\")\n",
    "plot_work_speed(\"channel\", data, \"Median work unit response time for workers who performed at least one work unit\")"
   ]
  },
  {
   "cell_type": "markdown",
   "metadata": {},
   "source": [
    "###Find bad workers\n",
    "\n",
    "Now that we have a profile about every worker who did the job, we can try to find the bad workers.\n",
    "\n",
    "Signs that a worker may be bad:\n",
    "1. Only chooses one answer choice for all work units.\n",
    "2. Evenly distributes answer choices over all possible answers (within some threshold)."
   ]
  },
  {
   "cell_type": "code",
   "execution_count": 23,
   "metadata": {
    "collapsed": true
   },
   "outputs": [],
   "source": [
    "def find_bad_workers(raw_data, worker_profiles):\n",
    "    def equal_distribution(distribution):\n",
    "        equal_val = distribution.sum() / len(distribution)\n",
    "        low = 0.95 * equal_val\n",
    "        high = 1.05 * equal_val\n",
    "        \n",
    "        for val in distribution:\n",
    "            if not (low <= val <= high):\n",
    "                return False\n",
    "            \n",
    "        return True\n",
    "    \n",
    "    work_data = raw_data.query(\"~_golden\")\n",
    "    passed_workers = set(worker_profiles.query(\"work_units_seen > 0\")[\"worker_id\"])\n",
    "\n",
    "    bad_workers = set()\n",
    "    for worker_id in passed_workers:\n",
    "        work_resp = work_data.query(\"_worker_id == {0}\".format(worker_id))\n",
    "        work_distribution = work_resp[\"verify_relationship\"].value_counts()\n",
    "        \n",
    "        if len(work_distribution) == 1:\n",
    "            bad_workers.add(worker_id)\n",
    "        elif equal_distribution(work_distribution):\n",
    "            bad_workers.add(worker_id)\n",
    "            \n",
    "    return bad_workers"
   ]
  },
  {
   "cell_type": "code",
   "execution_count": 24,
   "metadata": {
    "collapsed": false
   },
   "outputs": [],
   "source": [
    "bad_workers = find_bad_workers(raw_data, worker_profiles)"
   ]
  },
  {
   "cell_type": "code",
   "execution_count": 25,
   "metadata": {
    "collapsed": false
   },
   "outputs": [
    {
     "data": {
      "text/plain": [
       "{31501233,\n",
       " 31720388,\n",
       " 31720815,\n",
       " 32025293,\n",
       " 33081102,\n",
       " 33081299,\n",
       " 33081469,\n",
       " 33081531,\n",
       " 33085305,\n",
       " 33085428,\n",
       " 33238902,\n",
       " 33301062,\n",
       " 33301138,\n",
       " 33596095}"
      ]
     },
     "execution_count": 25,
     "metadata": {},
     "output_type": "execute_result"
    }
   ],
   "source": [
    "bad_workers"
   ]
  },
  {
   "cell_type": "markdown",
   "metadata": {
    "collapsed": true
   },
   "source": [
    "---"
   ]
  },
  {
   "cell_type": "markdown",
   "metadata": {
    "collapsed": true
   },
   "source": [
    "###Look at these bad workers:"
   ]
  },
  {
   "cell_type": "code",
   "execution_count": 26,
   "metadata": {
    "collapsed": false
   },
   "outputs": [],
   "source": [
    "res = worker_profiles.query(\"worker_id in {0}\".format(list(bad_workers)))\n",
    "res = res.sort(\"work_max_time_per_unit\")"
   ]
  },
  {
   "cell_type": "code",
   "execution_count": 27,
   "metadata": {
    "collapsed": false
   },
   "outputs": [
    {
     "data": {
      "text/html": [
       "<div>\n",
       "<table border=\"1\" class=\"dataframe\">\n",
       "  <thead>\n",
       "    <tr style=\"text-align: right;\">\n",
       "      <th></th>\n",
       "      <th>channel</th>\n",
       "      <th>country</th>\n",
       "      <th>ip</th>\n",
       "      <th>test_max_time_per_unit</th>\n",
       "      <th>test_median_time_per_unit</th>\n",
       "      <th>test_min_time_per_unit</th>\n",
       "      <th>test_ner_mistake</th>\n",
       "      <th>test_no_relation</th>\n",
       "      <th>test_ques_seen</th>\n",
       "      <th>test_yes_direct</th>\n",
       "      <th>...</th>\n",
       "      <th>trust</th>\n",
       "      <th>work_max_time_per_unit</th>\n",
       "      <th>work_median_time_per_unit</th>\n",
       "      <th>work_min_time_per_unit</th>\n",
       "      <th>work_ner_mistake</th>\n",
       "      <th>work_no_relation</th>\n",
       "      <th>work_units_seen</th>\n",
       "      <th>work_yes_direct</th>\n",
       "      <th>work_yes_indirect</th>\n",
       "      <th>worker_id</th>\n",
       "    </tr>\n",
       "  </thead>\n",
       "  <tbody>\n",
       "    <tr>\n",
       "      <th>169</th>\n",
       "      <td>neodev</td>\n",
       "      <td>India</td>\n",
       "      <td>27.97.181.134</td>\n",
       "      <td>13.333333</td>\n",
       "      <td>7.666667</td>\n",
       "      <td>7.000000</td>\n",
       "      <td>1</td>\n",
       "      <td>21</td>\n",
       "      <td>31</td>\n",
       "      <td>9</td>\n",
       "      <td>...</td>\n",
       "      <td>0.9355</td>\n",
       "      <td>9.666667</td>\n",
       "      <td>7.666667</td>\n",
       "      <td>7.000000</td>\n",
       "      <td>121</td>\n",
       "      <td>0</td>\n",
       "      <td>121</td>\n",
       "      <td>0</td>\n",
       "      <td>0</td>\n",
       "      <td>33081531</td>\n",
       "    </tr>\n",
       "    <tr>\n",
       "      <th>187</th>\n",
       "      <td>neodev</td>\n",
       "      <td>India</td>\n",
       "      <td>27.97.209.28</td>\n",
       "      <td>12.000000</td>\n",
       "      <td>12.000000</td>\n",
       "      <td>7.500000</td>\n",
       "      <td>1</td>\n",
       "      <td>6</td>\n",
       "      <td>10</td>\n",
       "      <td>3</td>\n",
       "      <td>...</td>\n",
       "      <td>0.9000</td>\n",
       "      <td>9.666667</td>\n",
       "      <td>8.250000</td>\n",
       "      <td>7.500000</td>\n",
       "      <td>20</td>\n",
       "      <td>0</td>\n",
       "      <td>20</td>\n",
       "      <td>0</td>\n",
       "      <td>0</td>\n",
       "      <td>33301138</td>\n",
       "    </tr>\n",
       "    <tr>\n",
       "      <th>198</th>\n",
       "      <td>neodev</td>\n",
       "      <td>Viet Nam</td>\n",
       "      <td>14.165.100.249</td>\n",
       "      <td>45.833333</td>\n",
       "      <td>45.833333</td>\n",
       "      <td>6.000000</td>\n",
       "      <td>0</td>\n",
       "      <td>6</td>\n",
       "      <td>8</td>\n",
       "      <td>2</td>\n",
       "      <td>...</td>\n",
       "      <td>1.0000</td>\n",
       "      <td>12.333333</td>\n",
       "      <td>9.166667</td>\n",
       "      <td>6.000000</td>\n",
       "      <td>0</td>\n",
       "      <td>5</td>\n",
       "      <td>10</td>\n",
       "      <td>5</td>\n",
       "      <td>0</td>\n",
       "      <td>33596095</td>\n",
       "    </tr>\n",
       "    <tr>\n",
       "      <th>168</th>\n",
       "      <td>neodev</td>\n",
       "      <td>India</td>\n",
       "      <td>106.76.56.89</td>\n",
       "      <td>14.166667</td>\n",
       "      <td>7.500000</td>\n",
       "      <td>6.666667</td>\n",
       "      <td>2</td>\n",
       "      <td>34</td>\n",
       "      <td>52</td>\n",
       "      <td>15</td>\n",
       "      <td>...</td>\n",
       "      <td>0.9808</td>\n",
       "      <td>14.000000</td>\n",
       "      <td>7.500000</td>\n",
       "      <td>6.666667</td>\n",
       "      <td>230</td>\n",
       "      <td>0</td>\n",
       "      <td>230</td>\n",
       "      <td>0</td>\n",
       "      <td>0</td>\n",
       "      <td>33081469</td>\n",
       "    </tr>\n",
       "    <tr>\n",
       "      <th>170</th>\n",
       "      <td>elite</td>\n",
       "      <td>Viet Nam</td>\n",
       "      <td>125.212.192.29</td>\n",
       "      <td>19.666667</td>\n",
       "      <td>5.916667</td>\n",
       "      <td>5.166667</td>\n",
       "      <td>1</td>\n",
       "      <td>33</td>\n",
       "      <td>46</td>\n",
       "      <td>11</td>\n",
       "      <td>...</td>\n",
       "      <td>0.9565</td>\n",
       "      <td>14.333333</td>\n",
       "      <td>5.833333</td>\n",
       "      <td>5.166667</td>\n",
       "      <td>0</td>\n",
       "      <td>198</td>\n",
       "      <td>198</td>\n",
       "      <td>0</td>\n",
       "      <td>0</td>\n",
       "      <td>33085305</td>\n",
       "    </tr>\n",
       "    <tr>\n",
       "      <th>165</th>\n",
       "      <td>neodev</td>\n",
       "      <td>India</td>\n",
       "      <td>106.76.2.22</td>\n",
       "      <td>19.500000</td>\n",
       "      <td>15.000000</td>\n",
       "      <td>7.666667</td>\n",
       "      <td>0</td>\n",
       "      <td>8</td>\n",
       "      <td>11</td>\n",
       "      <td>2</td>\n",
       "      <td>...</td>\n",
       "      <td>1.0000</td>\n",
       "      <td>19.500000</td>\n",
       "      <td>8.333333</td>\n",
       "      <td>7.666667</td>\n",
       "      <td>25</td>\n",
       "      <td>0</td>\n",
       "      <td>25</td>\n",
       "      <td>0</td>\n",
       "      <td>0</td>\n",
       "      <td>33081102</td>\n",
       "    </tr>\n",
       "    <tr>\n",
       "      <th>186</th>\n",
       "      <td>neodev</td>\n",
       "      <td>India</td>\n",
       "      <td>112.110.89.25</td>\n",
       "      <td>20.166667</td>\n",
       "      <td>8.666667</td>\n",
       "      <td>7.166667</td>\n",
       "      <td>2</td>\n",
       "      <td>34</td>\n",
       "      <td>52</td>\n",
       "      <td>15</td>\n",
       "      <td>...</td>\n",
       "      <td>0.9423</td>\n",
       "      <td>20.166667</td>\n",
       "      <td>8.333333</td>\n",
       "      <td>7.166667</td>\n",
       "      <td>230</td>\n",
       "      <td>0</td>\n",
       "      <td>230</td>\n",
       "      <td>0</td>\n",
       "      <td>0</td>\n",
       "      <td>33301062</td>\n",
       "    </tr>\n",
       "    <tr>\n",
       "      <th>115</th>\n",
       "      <td>elite</td>\n",
       "      <td>Viet Nam</td>\n",
       "      <td>115.76.94.63</td>\n",
       "      <td>24.333333</td>\n",
       "      <td>6.250000</td>\n",
       "      <td>5.000000</td>\n",
       "      <td>1</td>\n",
       "      <td>36</td>\n",
       "      <td>52</td>\n",
       "      <td>14</td>\n",
       "      <td>...</td>\n",
       "      <td>0.9808</td>\n",
       "      <td>24.333333</td>\n",
       "      <td>6.000000</td>\n",
       "      <td>5.000000</td>\n",
       "      <td>0</td>\n",
       "      <td>230</td>\n",
       "      <td>230</td>\n",
       "      <td>0</td>\n",
       "      <td>0</td>\n",
       "      <td>31720815</td>\n",
       "    </tr>\n",
       "    <tr>\n",
       "      <th>171</th>\n",
       "      <td>elite</td>\n",
       "      <td>Viet Nam</td>\n",
       "      <td>115.76.94.63</td>\n",
       "      <td>31.000000</td>\n",
       "      <td>11.500000</td>\n",
       "      <td>5.833333</td>\n",
       "      <td>1</td>\n",
       "      <td>8</td>\n",
       "      <td>10</td>\n",
       "      <td>1</td>\n",
       "      <td>...</td>\n",
       "      <td>1.0000</td>\n",
       "      <td>31.000000</td>\n",
       "      <td>13.333333</td>\n",
       "      <td>5.833333</td>\n",
       "      <td>0</td>\n",
       "      <td>17</td>\n",
       "      <td>17</td>\n",
       "      <td>0</td>\n",
       "      <td>0</td>\n",
       "      <td>33085428</td>\n",
       "    </tr>\n",
       "    <tr>\n",
       "      <th>130</th>\n",
       "      <td>elite</td>\n",
       "      <td>Viet Nam</td>\n",
       "      <td>210.211.118.133</td>\n",
       "      <td>40.166667</td>\n",
       "      <td>16.833333</td>\n",
       "      <td>11.333333</td>\n",
       "      <td>1</td>\n",
       "      <td>13</td>\n",
       "      <td>18</td>\n",
       "      <td>3</td>\n",
       "      <td>...</td>\n",
       "      <td>1.0000</td>\n",
       "      <td>40.166667</td>\n",
       "      <td>21.916667</td>\n",
       "      <td>11.333333</td>\n",
       "      <td>0</td>\n",
       "      <td>60</td>\n",
       "      <td>60</td>\n",
       "      <td>0</td>\n",
       "      <td>0</td>\n",
       "      <td>32025293</td>\n",
       "    </tr>\n",
       "    <tr>\n",
       "      <th>104</th>\n",
       "      <td>elite</td>\n",
       "      <td>Viet Nam</td>\n",
       "      <td>14.0.30.220</td>\n",
       "      <td>65.000000</td>\n",
       "      <td>18.166667</td>\n",
       "      <td>12.500000</td>\n",
       "      <td>0</td>\n",
       "      <td>34</td>\n",
       "      <td>39</td>\n",
       "      <td>5</td>\n",
       "      <td>...</td>\n",
       "      <td>0.6923</td>\n",
       "      <td>54.500000</td>\n",
       "      <td>17.500000</td>\n",
       "      <td>12.500000</td>\n",
       "      <td>0</td>\n",
       "      <td>165</td>\n",
       "      <td>165</td>\n",
       "      <td>0</td>\n",
       "      <td>0</td>\n",
       "      <td>31501233</td>\n",
       "    </tr>\n",
       "    <tr>\n",
       "      <th>114</th>\n",
       "      <td>elite</td>\n",
       "      <td>Viet Nam</td>\n",
       "      <td>115.76.94.63</td>\n",
       "      <td>67.333333</td>\n",
       "      <td>15.333333</td>\n",
       "      <td>10.166667</td>\n",
       "      <td>0</td>\n",
       "      <td>42</td>\n",
       "      <td>52</td>\n",
       "      <td>10</td>\n",
       "      <td>...</td>\n",
       "      <td>0.8654</td>\n",
       "      <td>67.333333</td>\n",
       "      <td>13.666667</td>\n",
       "      <td>10.166667</td>\n",
       "      <td>0</td>\n",
       "      <td>230</td>\n",
       "      <td>230</td>\n",
       "      <td>0</td>\n",
       "      <td>0</td>\n",
       "      <td>31720388</td>\n",
       "    </tr>\n",
       "    <tr>\n",
       "      <th>166</th>\n",
       "      <td>neodev</td>\n",
       "      <td>India</td>\n",
       "      <td>106.76.60.227</td>\n",
       "      <td>77.833333</td>\n",
       "      <td>8.333333</td>\n",
       "      <td>6.166667</td>\n",
       "      <td>1</td>\n",
       "      <td>35</td>\n",
       "      <td>52</td>\n",
       "      <td>15</td>\n",
       "      <td>...</td>\n",
       "      <td>0.9615</td>\n",
       "      <td>77.833333</td>\n",
       "      <td>8.166667</td>\n",
       "      <td>6.166667</td>\n",
       "      <td>230</td>\n",
       "      <td>0</td>\n",
       "      <td>230</td>\n",
       "      <td>0</td>\n",
       "      <td>0</td>\n",
       "      <td>33081299</td>\n",
       "    </tr>\n",
       "    <tr>\n",
       "      <th>179</th>\n",
       "      <td>elite</td>\n",
       "      <td>Netherlands</td>\n",
       "      <td>77.248.148.5</td>\n",
       "      <td>100.833333</td>\n",
       "      <td>98.000000</td>\n",
       "      <td>98.000000</td>\n",
       "      <td>0</td>\n",
       "      <td>5</td>\n",
       "      <td>7</td>\n",
       "      <td>2</td>\n",
       "      <td>...</td>\n",
       "      <td>0.8571</td>\n",
       "      <td>100.833333</td>\n",
       "      <td>100.833333</td>\n",
       "      <td>100.833333</td>\n",
       "      <td>0</td>\n",
       "      <td>5</td>\n",
       "      <td>5</td>\n",
       "      <td>0</td>\n",
       "      <td>0</td>\n",
       "      <td>33238902</td>\n",
       "    </tr>\n",
       "  </tbody>\n",
       "</table>\n",
       "<p>14 rows × 21 columns</p>\n",
       "</div>"
      ],
      "text/plain": [
       "    channel      country               ip  test_max_time_per_unit  \\\n",
       "169  neodev        India    27.97.181.134               13.333333   \n",
       "187  neodev        India     27.97.209.28               12.000000   \n",
       "198  neodev     Viet Nam   14.165.100.249               45.833333   \n",
       "168  neodev        India     106.76.56.89               14.166667   \n",
       "170   elite     Viet Nam   125.212.192.29               19.666667   \n",
       "165  neodev        India      106.76.2.22               19.500000   \n",
       "186  neodev        India    112.110.89.25               20.166667   \n",
       "115   elite     Viet Nam     115.76.94.63               24.333333   \n",
       "171   elite     Viet Nam     115.76.94.63               31.000000   \n",
       "130   elite     Viet Nam  210.211.118.133               40.166667   \n",
       "104   elite     Viet Nam      14.0.30.220               65.000000   \n",
       "114   elite     Viet Nam     115.76.94.63               67.333333   \n",
       "166  neodev        India    106.76.60.227               77.833333   \n",
       "179   elite  Netherlands     77.248.148.5              100.833333   \n",
       "\n",
       "     test_median_time_per_unit  test_min_time_per_unit  test_ner_mistake  \\\n",
       "169                   7.666667                7.000000                 1   \n",
       "187                  12.000000                7.500000                 1   \n",
       "198                  45.833333                6.000000                 0   \n",
       "168                   7.500000                6.666667                 2   \n",
       "170                   5.916667                5.166667                 1   \n",
       "165                  15.000000                7.666667                 0   \n",
       "186                   8.666667                7.166667                 2   \n",
       "115                   6.250000                5.000000                 1   \n",
       "171                  11.500000                5.833333                 1   \n",
       "130                  16.833333               11.333333                 1   \n",
       "104                  18.166667               12.500000                 0   \n",
       "114                  15.333333               10.166667                 0   \n",
       "166                   8.333333                6.166667                 1   \n",
       "179                  98.000000               98.000000                 0   \n",
       "\n",
       "     test_no_relation  test_ques_seen  test_yes_direct    ...       trust  \\\n",
       "169                21              31                9    ...      0.9355   \n",
       "187                 6              10                3    ...      0.9000   \n",
       "198                 6               8                2    ...      1.0000   \n",
       "168                34              52               15    ...      0.9808   \n",
       "170                33              46               11    ...      0.9565   \n",
       "165                 8              11                2    ...      1.0000   \n",
       "186                34              52               15    ...      0.9423   \n",
       "115                36              52               14    ...      0.9808   \n",
       "171                 8              10                1    ...      1.0000   \n",
       "130                13              18                3    ...      1.0000   \n",
       "104                34              39                5    ...      0.6923   \n",
       "114                42              52               10    ...      0.8654   \n",
       "166                35              52               15    ...      0.9615   \n",
       "179                 5               7                2    ...      0.8571   \n",
       "\n",
       "     work_max_time_per_unit  work_median_time_per_unit  \\\n",
       "169                9.666667                   7.666667   \n",
       "187                9.666667                   8.250000   \n",
       "198               12.333333                   9.166667   \n",
       "168               14.000000                   7.500000   \n",
       "170               14.333333                   5.833333   \n",
       "165               19.500000                   8.333333   \n",
       "186               20.166667                   8.333333   \n",
       "115               24.333333                   6.000000   \n",
       "171               31.000000                  13.333333   \n",
       "130               40.166667                  21.916667   \n",
       "104               54.500000                  17.500000   \n",
       "114               67.333333                  13.666667   \n",
       "166               77.833333                   8.166667   \n",
       "179              100.833333                 100.833333   \n",
       "\n",
       "     work_min_time_per_unit  work_ner_mistake  work_no_relation  \\\n",
       "169                7.000000               121                 0   \n",
       "187                7.500000                20                 0   \n",
       "198                6.000000                 0                 5   \n",
       "168                6.666667               230                 0   \n",
       "170                5.166667                 0               198   \n",
       "165                7.666667                25                 0   \n",
       "186                7.166667               230                 0   \n",
       "115                5.000000                 0               230   \n",
       "171                5.833333                 0                17   \n",
       "130               11.333333                 0                60   \n",
       "104               12.500000                 0               165   \n",
       "114               10.166667                 0               230   \n",
       "166                6.166667               230                 0   \n",
       "179              100.833333                 0                 5   \n",
       "\n",
       "     work_units_seen  work_yes_direct  work_yes_indirect  worker_id  \n",
       "169              121                0                  0   33081531  \n",
       "187               20                0                  0   33301138  \n",
       "198               10                5                  0   33596095  \n",
       "168              230                0                  0   33081469  \n",
       "170              198                0                  0   33085305  \n",
       "165               25                0                  0   33081102  \n",
       "186              230                0                  0   33301062  \n",
       "115              230                0                  0   31720815  \n",
       "171               17                0                  0   33085428  \n",
       "130               60                0                  0   32025293  \n",
       "104              165                0                  0   31501233  \n",
       "114              230                0                  0   31720388  \n",
       "166              230                0                  0   33081299  \n",
       "179                5                0                  0   33238902  \n",
       "\n",
       "[14 rows x 21 columns]"
      ]
     },
     "execution_count": 27,
     "metadata": {},
     "output_type": "execute_result"
    }
   ],
   "source": [
    "res"
   ]
  },
  {
   "cell_type": "code",
   "execution_count": 28,
   "metadata": {
    "collapsed": false
   },
   "outputs": [
    {
     "data": {
      "text/html": [
       "<div>\n",
       "<table border=\"1\" class=\"dataframe\">\n",
       "  <thead>\n",
       "    <tr style=\"text-align: right;\">\n",
       "      <th></th>\n",
       "      <th>work_max_time_per_unit</th>\n",
       "      <th>work_median_time_per_unit</th>\n",
       "      <th>worker_id</th>\n",
       "      <th>work_units_seen</th>\n",
       "      <th>work_ner_mistake</th>\n",
       "      <th>work_no_relation</th>\n",
       "      <th>work_yes_direct</th>\n",
       "      <th>work_yes_indirect</th>\n",
       "    </tr>\n",
       "  </thead>\n",
       "  <tbody>\n",
       "    <tr>\n",
       "      <th>169</th>\n",
       "      <td>9.666667</td>\n",
       "      <td>7.666667</td>\n",
       "      <td>33081531</td>\n",
       "      <td>121</td>\n",
       "      <td>121</td>\n",
       "      <td>0</td>\n",
       "      <td>0</td>\n",
       "      <td>0</td>\n",
       "    </tr>\n",
       "    <tr>\n",
       "      <th>187</th>\n",
       "      <td>9.666667</td>\n",
       "      <td>8.250000</td>\n",
       "      <td>33301138</td>\n",
       "      <td>20</td>\n",
       "      <td>20</td>\n",
       "      <td>0</td>\n",
       "      <td>0</td>\n",
       "      <td>0</td>\n",
       "    </tr>\n",
       "    <tr>\n",
       "      <th>198</th>\n",
       "      <td>12.333333</td>\n",
       "      <td>9.166667</td>\n",
       "      <td>33596095</td>\n",
       "      <td>10</td>\n",
       "      <td>0</td>\n",
       "      <td>5</td>\n",
       "      <td>5</td>\n",
       "      <td>0</td>\n",
       "    </tr>\n",
       "    <tr>\n",
       "      <th>168</th>\n",
       "      <td>14.000000</td>\n",
       "      <td>7.500000</td>\n",
       "      <td>33081469</td>\n",
       "      <td>230</td>\n",
       "      <td>230</td>\n",
       "      <td>0</td>\n",
       "      <td>0</td>\n",
       "      <td>0</td>\n",
       "    </tr>\n",
       "    <tr>\n",
       "      <th>170</th>\n",
       "      <td>14.333333</td>\n",
       "      <td>5.833333</td>\n",
       "      <td>33085305</td>\n",
       "      <td>198</td>\n",
       "      <td>0</td>\n",
       "      <td>198</td>\n",
       "      <td>0</td>\n",
       "      <td>0</td>\n",
       "    </tr>\n",
       "    <tr>\n",
       "      <th>165</th>\n",
       "      <td>19.500000</td>\n",
       "      <td>8.333333</td>\n",
       "      <td>33081102</td>\n",
       "      <td>25</td>\n",
       "      <td>25</td>\n",
       "      <td>0</td>\n",
       "      <td>0</td>\n",
       "      <td>0</td>\n",
       "    </tr>\n",
       "    <tr>\n",
       "      <th>186</th>\n",
       "      <td>20.166667</td>\n",
       "      <td>8.333333</td>\n",
       "      <td>33301062</td>\n",
       "      <td>230</td>\n",
       "      <td>230</td>\n",
       "      <td>0</td>\n",
       "      <td>0</td>\n",
       "      <td>0</td>\n",
       "    </tr>\n",
       "    <tr>\n",
       "      <th>115</th>\n",
       "      <td>24.333333</td>\n",
       "      <td>6.000000</td>\n",
       "      <td>31720815</td>\n",
       "      <td>230</td>\n",
       "      <td>0</td>\n",
       "      <td>230</td>\n",
       "      <td>0</td>\n",
       "      <td>0</td>\n",
       "    </tr>\n",
       "    <tr>\n",
       "      <th>171</th>\n",
       "      <td>31.000000</td>\n",
       "      <td>13.333333</td>\n",
       "      <td>33085428</td>\n",
       "      <td>17</td>\n",
       "      <td>0</td>\n",
       "      <td>17</td>\n",
       "      <td>0</td>\n",
       "      <td>0</td>\n",
       "    </tr>\n",
       "    <tr>\n",
       "      <th>130</th>\n",
       "      <td>40.166667</td>\n",
       "      <td>21.916667</td>\n",
       "      <td>32025293</td>\n",
       "      <td>60</td>\n",
       "      <td>0</td>\n",
       "      <td>60</td>\n",
       "      <td>0</td>\n",
       "      <td>0</td>\n",
       "    </tr>\n",
       "    <tr>\n",
       "      <th>104</th>\n",
       "      <td>54.500000</td>\n",
       "      <td>17.500000</td>\n",
       "      <td>31501233</td>\n",
       "      <td>165</td>\n",
       "      <td>0</td>\n",
       "      <td>165</td>\n",
       "      <td>0</td>\n",
       "      <td>0</td>\n",
       "    </tr>\n",
       "    <tr>\n",
       "      <th>114</th>\n",
       "      <td>67.333333</td>\n",
       "      <td>13.666667</td>\n",
       "      <td>31720388</td>\n",
       "      <td>230</td>\n",
       "      <td>0</td>\n",
       "      <td>230</td>\n",
       "      <td>0</td>\n",
       "      <td>0</td>\n",
       "    </tr>\n",
       "    <tr>\n",
       "      <th>166</th>\n",
       "      <td>77.833333</td>\n",
       "      <td>8.166667</td>\n",
       "      <td>33081299</td>\n",
       "      <td>230</td>\n",
       "      <td>230</td>\n",
       "      <td>0</td>\n",
       "      <td>0</td>\n",
       "      <td>0</td>\n",
       "    </tr>\n",
       "    <tr>\n",
       "      <th>179</th>\n",
       "      <td>100.833333</td>\n",
       "      <td>100.833333</td>\n",
       "      <td>33238902</td>\n",
       "      <td>5</td>\n",
       "      <td>0</td>\n",
       "      <td>5</td>\n",
       "      <td>0</td>\n",
       "      <td>0</td>\n",
       "    </tr>\n",
       "  </tbody>\n",
       "</table>\n",
       "</div>"
      ],
      "text/plain": [
       "     work_max_time_per_unit  work_median_time_per_unit  worker_id  \\\n",
       "169                9.666667                   7.666667   33081531   \n",
       "187                9.666667                   8.250000   33301138   \n",
       "198               12.333333                   9.166667   33596095   \n",
       "168               14.000000                   7.500000   33081469   \n",
       "170               14.333333                   5.833333   33085305   \n",
       "165               19.500000                   8.333333   33081102   \n",
       "186               20.166667                   8.333333   33301062   \n",
       "115               24.333333                   6.000000   31720815   \n",
       "171               31.000000                  13.333333   33085428   \n",
       "130               40.166667                  21.916667   32025293   \n",
       "104               54.500000                  17.500000   31501233   \n",
       "114               67.333333                  13.666667   31720388   \n",
       "166               77.833333                   8.166667   33081299   \n",
       "179              100.833333                 100.833333   33238902   \n",
       "\n",
       "     work_units_seen  work_ner_mistake  work_no_relation  work_yes_direct  \\\n",
       "169              121               121                 0                0   \n",
       "187               20                20                 0                0   \n",
       "198               10                 0                 5                5   \n",
       "168              230               230                 0                0   \n",
       "170              198                 0               198                0   \n",
       "165               25                25                 0                0   \n",
       "186              230               230                 0                0   \n",
       "115              230                 0               230                0   \n",
       "171               17                 0                17                0   \n",
       "130               60                 0                60                0   \n",
       "104              165                 0               165                0   \n",
       "114              230                 0               230                0   \n",
       "166              230               230                 0                0   \n",
       "179                5                 0                 5                0   \n",
       "\n",
       "     work_yes_indirect  \n",
       "169                  0  \n",
       "187                  0  \n",
       "198                  0  \n",
       "168                  0  \n",
       "170                  0  \n",
       "165                  0  \n",
       "186                  0  \n",
       "115                  0  \n",
       "171                  0  \n",
       "130                  0  \n",
       "104                  0  \n",
       "114                  0  \n",
       "166                  0  \n",
       "179                  0  "
      ]
     },
     "execution_count": 28,
     "metadata": {},
     "output_type": "execute_result"
    }
   ],
   "source": [
    "cols = [\"work_max_time_per_unit\", \"work_median_time_per_unit\",\n",
    "        \"worker_id\", \"work_units_seen\",\n",
    "        \"work_ner_mistake\", \"work_no_relation\", \"work_yes_direct\", \"work_yes_indirect\"]\n",
    "\n",
    "res[cols]"
   ]
  },
  {
   "cell_type": "code",
   "execution_count": 29,
   "metadata": {
    "collapsed": false
   },
   "outputs": [
    {
     "data": {
      "text/plain": [
       "<matplotlib.axes._subplots.AxesSubplot at 0x7f4ddf12fd10>"
      ]
     },
     "execution_count": 29,
     "metadata": {},
     "output_type": "execute_result"
    },
    {
     "data": {
      "image/png": "[encoded data removed]",
      "text/plain": [
       "<matplotlib.figure.Figure at 0x7f4ddf095290>"
      ]
     },
     "metadata": {},
     "output_type": "display_data"
    }
   ],
   "source": [
    "res[\"country\"].value_counts().plot(kind = \"bar\")"
   ]
  },
  {
   "cell_type": "code",
   "execution_count": 30,
   "metadata": {
    "collapsed": false
   },
   "outputs": [
    {
     "data": {
      "text/plain": [
       "<matplotlib.axes._subplots.AxesSubplot at 0x7f4ddf095910>"
      ]
     },
     "execution_count": 30,
     "metadata": {},
     "output_type": "execute_result"
    },
    {
     "data": {
      "image/png": "[encoded data removed]",
      "text/plain": [
       "<matplotlib.figure.Figure at 0x7f4ddefbf3d0>"
      ]
     },
     "metadata": {},
     "output_type": "display_data"
    }
   ],
   "source": [
    "res.boxplot(\"work_median_time_per_unit\", by = \"country\")"
   ]
  },
  {
   "cell_type": "code",
   "execution_count": 31,
   "metadata": {
    "collapsed": false
   },
   "outputs": [
    {
     "data": {
      "text/plain": [
       "<matplotlib.axes._subplots.AxesSubplot at 0x7f4ddefa9a50>"
      ]
     },
     "execution_count": 31,
     "metadata": {},
     "output_type": "execute_result"
    },
    {
     "data": {
      "image/png": "[encoded data removed]",
      "text/plain": [
       "<matplotlib.figure.Figure at 0x7f4ddf145d10>"
      ]
     },
     "metadata": {},
     "output_type": "display_data"
    }
   ],
   "source": [
    "res[\"channel\"].value_counts().plot(kind = \"bar\")"
   ]
  },
  {
   "cell_type": "code",
   "execution_count": 32,
   "metadata": {
    "collapsed": false
   },
   "outputs": [
    {
     "data": {
      "text/plain": [
       "<matplotlib.axes._subplots.AxesSubplot at 0x7f4ddedd3e50>"
      ]
     },
     "execution_count": 32,
     "metadata": {},
     "output_type": "execute_result"
    },
    {
     "data": {
      "image/png": "[encoded data removed]",
      "text/plain": [
       "<matplotlib.figure.Figure at 0x7f4dded9cb50>"
      ]
     },
     "metadata": {},
     "output_type": "display_data"
    }
   ],
   "source": [
    "res.boxplot(\"work_median_time_per_unit\", by = \"channel\")"
   ]
  },
  {
   "cell_type": "code",
   "execution_count": 33,
   "metadata": {
    "collapsed": false
   },
   "outputs": [
    {
     "name": "stdout",
     "output_type": "stream",
     "text": [
      "https://crowdflower.com/jobs/758438/contributors/33081531\n",
      "https://crowdflower.com/jobs/758438/contributors/33301138\n",
      "https://crowdflower.com/jobs/758438/contributors/33596095\n",
      "https://crowdflower.com/jobs/758438/contributors/33081469\n",
      "https://crowdflower.com/jobs/758438/contributors/33085305\n",
      "https://crowdflower.com/jobs/758438/contributors/33081102\n",
      "https://crowdflower.com/jobs/758438/contributors/33301062\n",
      "https://crowdflower.com/jobs/758438/contributors/31720815\n",
      "https://crowdflower.com/jobs/758438/contributors/33085428\n",
      "https://crowdflower.com/jobs/758438/contributors/32025293\n",
      "https://crowdflower.com/jobs/758438/contributors/31501233\n",
      "https://crowdflower.com/jobs/758438/contributors/31720388\n",
      "https://crowdflower.com/jobs/758438/contributors/33081299\n",
      "https://crowdflower.com/jobs/758438/contributors/33238902\n"
     ]
    }
   ],
   "source": [
    "for worker_id in res[\"worker_id\"]:\n",
    "    print \"https://crowdflower.com/jobs/758438/contributors/{0}\".format(worker_id)"
   ]
  },
  {
   "cell_type": "code",
   "execution_count": 34,
   "metadata": {
    "collapsed": true
   },
   "outputs": [],
   "source": [
    "def sample_worker_responses(job_id, worker_id, raw_data, category = None, sample_size = 10):\n",
    "    \"\"\"\n",
    "    Randomly sample a worker's responses for review by hand.\n",
    "    \"\"\"\n",
    "    test_resp = raw_data.query(\"_golden and _worker_id == {0}\".format(worker_id))\n",
    "    work_resp = raw_data.query(\"~_golden and _worker_id == {0}\".format(worker_id))\n",
    "    \n",
    "    # a specific subcategory of responses\n",
    "    if category is not None:\n",
    "        work_resp = work_resp.query(\"verify_relationship == '{0}'\".format(category))\n",
    "        \n",
    "    test_sample = test_resp\n",
    "    work_sample = work_resp\n",
    "    if len(test_resp) > sample_size:\n",
    "        test_sample = test_resp.sample(sample_size, random_state = NUMPY_RAND_SEED)\n",
    "        \n",
    "    if len(work_resp) > sample_size:\n",
    "        work_sample = work_resp.sample(sample_size, random_state = NUMPY_RAND_SEED)\n",
    "    \n",
    "    print \"Worker id:\", worker_id\n",
    "    \n",
    "    print \"Test question sample:\"\n",
    "    for unit_id in test_sample[\"_unit_id\"].unique():\n",
    "        print \"https://crowdflower.com/jobs/{0}/units/{1}\".format(job_id, unit_id)\n",
    "\n",
    "    print \"Work question sample:\"\n",
    "    for unit_id in work_sample[\"_unit_id\"].unique():\n",
    "        print \"https://crowdflower.com/jobs/{0}/units/{1}\".format(job_id, unit_id)\n",
    "        \n",
    "    print \"-----------------------------------------------------------------\""
   ]
  },
  {
   "cell_type": "code",
   "execution_count": 35,
   "metadata": {
    "collapsed": false
   },
   "outputs": [
    {
     "name": "stdout",
     "output_type": "stream",
     "text": [
      "Worker id: 32025293\n",
      "Test question sample:\n",
      "https://crowdflower.com/jobs/758438/units/765528948\n",
      "https://crowdflower.com/jobs/758438/units/765528956\n",
      "https://crowdflower.com/jobs/758438/units/765528980\n",
      "https://crowdflower.com/jobs/758438/units/765528959\n",
      "https://crowdflower.com/jobs/758438/units/765528955\n",
      "https://crowdflower.com/jobs/758438/units/765528954\n",
      "https://crowdflower.com/jobs/758438/units/765528974\n",
      "https://crowdflower.com/jobs/758438/units/765528933\n",
      "https://crowdflower.com/jobs/758438/units/765528950\n",
      "https://crowdflower.com/jobs/758438/units/765528938\n",
      "Work question sample:\n",
      "https://crowdflower.com/jobs/758438/units/765528762\n",
      "https://crowdflower.com/jobs/758438/units/765528552\n",
      "https://crowdflower.com/jobs/758438/units/765528677\n",
      "https://crowdflower.com/jobs/758438/units/765528535\n",
      "https://crowdflower.com/jobs/758438/units/765528406\n",
      "https://crowdflower.com/jobs/758438/units/765528148\n",
      "https://crowdflower.com/jobs/758438/units/765528525\n",
      "https://crowdflower.com/jobs/758438/units/765528495\n",
      "https://crowdflower.com/jobs/758438/units/765528795\n",
      "https://crowdflower.com/jobs/758438/units/765528633\n",
      "-----------------------------------------------------------------\n"
     ]
    }
   ],
   "source": [
    "sample_worker_responses(758438, 32025293, raw_data)"
   ]
  },
  {
   "cell_type": "markdown",
   "metadata": {},
   "source": [
    "##Conclusions:\n",
    "\n",
    "The workers with ids listed above are probably all cheating and using scripts to select answers. At some level it's difficult to determine why they are passing the test; it's possible that they are working together (or have multiple accounts) so that they can collectively see and record the answers to all the test questions. The median and max time needed to make each judgement is also very low for the identified cheaters, which likely means that they are not doing the task properly.\n",
    "\n",
    "Verification by hand also confirmed that the cheaters identified in this job did not work on the two previous jobs (#755704 and 754530). This is good, but it does not mean that there might not have been cheaters in the previous tasks.\n",
    "\n",
    "Workers who take the quiz and fail also need to be examined for cheating. Those who take the quiz, but only ever choose one answer choice, and do so very quickly, are very likely to be robots hoping to fail so that they can be told what the correct answer is. These robots need to also be flagged and banned so that they cannot help the other cheating accounts.\n",
    "\n",
    "###Changes to be made:\n",
    "\n",
    "1. Increase the minimum time needed to be spent on each work unit from 5 seconds to 20 seconds. This will identify the people who are not really reading the abstract, and will also ensure that the amount of money spammers can make is lowered. However at the current pay rate of 4 cents/work unit, this still means good workers can still earn roughly 12 cents/minute, which is at the guideline of 10 cents/minute minimum. However, this is 4 times less than what the spammers can earn, so hopefully it will not be worth their while.\n",
    "2. The entirety of Vietnam seems to be cheating on this task if we base things based on their completion speeds. Therefore it might be wise to exclude Vietnam from working on all future tasks.\n",
    "3. Clixsense, despite having the third most workers who passed the quiz, has no obvious cheaters. The elite and neodev workpools had a large amount of cheaters. If possible, we should ban the elite and neodev channels from India and Vietnam only in the future."
   ]
  }
 ],
 "metadata": {
  "kernelspec": {
   "display_name": "Python 2",
   "language": "python",
   "name": "python2"
  },
  "language_info": {
   "codemirror_mode": {
    "name": "ipython",
    "version": 2
   },
   "file_extension": ".py",
   "mimetype": "text/x-python",
   "name": "python",
   "nbconvert_exporter": "python",
   "pygments_lexer": "ipython2",
   "version": "2.7.10"
  }
 },
 "nbformat": 4,
 "nbformat_minor": 0
}
