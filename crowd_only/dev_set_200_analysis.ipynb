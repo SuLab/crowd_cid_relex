{
 "cells": [
  {
   "cell_type": "markdown",
   "metadata": {},
   "source": [
    "# Results for 200 development set abstracts\n",
    "\n",
    "Tong Shu Li<br>\n",
    "Created on: 2015-08-24<br>\n",
    "Last updated: 2015-08-25\n",
    "\n",
    "Despite the fact that we had cheaters for the abstract-level task for the 200 abstracts, we should see how well we did overall."
   ]
  },
  {
   "cell_type": "code",
   "execution_count": 1,
   "metadata": {
    "collapsed": true
   },
   "outputs": [],
   "source": [
    "from collections import Counter\n",
    "from collections import defaultdict\n",
    "from IPython.display import Image\n",
    "import matplotlib.pyplot as plt\n",
    "import numpy as np\n",
    "import os\n",
    "import pandas as pd\n",
    "import pickle"
   ]
  },
  {
   "cell_type": "code",
   "execution_count": 2,
   "metadata": {
    "collapsed": false
   },
   "outputs": [],
   "source": [
    "matplotlib inline"
   ]
  },
  {
   "cell_type": "code",
   "execution_count": 3,
   "metadata": {
    "collapsed": false
   },
   "outputs": [],
   "source": [
    "from src.filter_data import filter_data\n",
    "from src.data_model import parse_input\n",
    "from src.data_model import Relation\n",
    "from src.data_model import is_MeSH_id\n",
    "from src.get_AUC_value import get_AUC_value\n",
    "from src.F_score import *\n",
    "from src.aggregate_results import *"
   ]
  },
  {
   "cell_type": "code",
   "execution_count": 4,
   "metadata": {
    "collapsed": true
   },
   "outputs": [],
   "source": [
    "from src.lingpipe.file_util import read_file"
   ]
  },
  {
   "cell_type": "markdown",
   "metadata": {},
   "source": [
    "---"
   ]
  },
  {
   "cell_type": "markdown",
   "metadata": {},
   "source": [
    "### Read the gold standard:"
   ]
  },
  {
   "cell_type": "code",
   "execution_count": 5,
   "metadata": {
    "collapsed": true
   },
   "outputs": [],
   "source": [
    "def read_gold_standard(dataset, file_format = \"list\"):\n",
    "    assert dataset in [\"training\", \"development\"]\n",
    "    assert file_format in [\"list\", \"dict\"]\n",
    "    \n",
    "    fname = \"data/gold_standard/parsed_{0}_set_{1}.pickle\".format(dataset, file_format)\n",
    "    \n",
    "    if os.path.exists(fname):\n",
    "        print(\"Reading cached version of {0} set ({1})\".format(dataset, file_format))\n",
    "        \n",
    "        with open(fname, \"rb\") as fin:\n",
    "            data = pickle.load(fin)\n",
    "    else:\n",
    "        print(\"Parsing raw {0} file\".format(dataset))\n",
    "        data = parse_input(\"data/gold_standard\".format(dataset),\n",
    "                           \"CDR_{0}Set.txt\".format(dataset.capitalize()),\n",
    "                           is_gold = True,\n",
    "                           return_format = file_format,\n",
    "                          fix_acronyms = False)\n",
    "        \n",
    "        with open(fname, \"wb\") as fout:\n",
    "            pickle.dump(data, fout)\n",
    "            \n",
    "    return data"
   ]
  },
  {
   "cell_type": "code",
   "execution_count": 6,
   "metadata": {
    "collapsed": false,
    "scrolled": true
   },
   "outputs": [
    {
     "name": "stdout",
     "output_type": "stream",
     "text": [
      "Reading cached version of development set (dict)\n"
     ]
    }
   ],
   "source": [
    "dev_gold = read_gold_standard(\"development\", \"dict\")"
   ]
  },
  {
   "cell_type": "code",
   "execution_count": 7,
   "metadata": {
    "collapsed": true
   },
   "outputs": [],
   "source": [
    "def in_gold(row):\n",
    "    pmid = int(row[\"pmid\"])\n",
    "    return int(dev_gold[pmid].has_relation(Relation(pmid, row[\"chemical_id\"], row[\"disease_id\"])))"
   ]
  },
  {
   "cell_type": "code",
   "execution_count": 8,
   "metadata": {
    "collapsed": true
   },
   "outputs": [],
   "source": [
    "testset_pmids = {48362,\n",
    " 85485,\n",
    " 188339,\n",
    " 326460,\n",
    " 384871,\n",
    " 430165,\n",
    " 458486,\n",
    " 625456,\n",
    " 663266,\n",
    " 761833,\n",
    " 871943,\n",
    " 921394,\n",
    " 982002,\n",
    " 1255900,\n",
    " 1355091,\n",
    " 1504402,\n",
    " 1687392,\n",
    " 1899352,\n",
    " 1928887,\n",
    " 1969772,\n",
    " 2004015,\n",
    " 2021202,\n",
    " 2051906,\n",
    " 2320800,\n",
    " 2339463,\n",
    " 2435991,\n",
    " 2564649,\n",
    " 2576810,\n",
    " 2716967,\n",
    " 2722224,\n",
    " 2790457,\n",
    " 2840807,\n",
    " 2886572,\n",
    " 2893236,\n",
    " 2980315,\n",
    " 3084782,\n",
    " 3108839,\n",
    " 3115150,\n",
    " 3123611,\n",
    " 3131282,\n",
    " 3137399,\n",
    " 3183120,\n",
    " 3411101,\n",
    " 3413271,\n",
    " 3670965,\n",
    " 3686155,\n",
    " 3703509,\n",
    " 3732088,\n",
    " 3762968,\n",
    " 3769769,\n",
    " 3780697,\n",
    " 3780814,\n",
    " 3934126,\n",
    " 3950060,\n",
    " 3952818,\n",
    " 3961813,\n",
    " 3962737,\n",
    " 3973521,\n",
    " 4038130,\n",
    " 4090988,\n",
    " 6127992,\n",
    " 6150641,\n",
    " 6293644,\n",
    " 6323692,\n",
    " 6454943,\n",
    " 6540303,\n",
    " 6615052,\n",
    " 6637851,\n",
    " 6699841,\n",
    " 6732043,\n",
    " 6769133,\n",
    " 6892185,\n",
    " 7007443,\n",
    " 7053705,\n",
    " 7072798,\n",
    " 7282516,\n",
    " 7604176,\n",
    " 7619765,\n",
    " 7647582,\n",
    " 7650771,\n",
    " 7710775,\n",
    " 7752389,\n",
    " 7803371,\n",
    " 7843916,\n",
    " 8012887,\n",
    " 8106150,\n",
    " 8111719,\n",
    " 8251368,\n",
    " 8267029,\n",
    " 8268147,\n",
    " 8494478,\n",
    " 8586822,\n",
    " 8617710,\n",
    " 8766220,\n",
    " 8888541,\n",
    " 8911359,\n",
    " 8958188,\n",
    " 9098464,\n",
    " 9209318,\n",
    " 9214597,\n",
    " 9226773,\n",
    " 9305828,\n",
    " 9545159,\n",
    " 9549528,\n",
    " 9564988,\n",
    " 9672273,\n",
    " 9867728,\n",
    " 9875685,\n",
    " 9952311,\n",
    " 10074612,\n",
    " 10193809,\n",
    " 10225068,\n",
    " 10354657,\n",
    " 10411803,\n",
    " 10414674,\n",
    " 10524660,\n",
    " 10539815,\n",
    " 10565806,\n",
    " 10692744,\n",
    " 10840460,\n",
    " 11009181,\n",
    " 11063349,\n",
    " 11079278,\n",
    " 11185967,\n",
    " 11195262,\n",
    " 11208990,\n",
    " 11230490,\n",
    " 11302406,\n",
    " 11337188,\n",
    " 11694026,\n",
    " 11705128,\n",
    " 11847945,\n",
    " 11860495,\n",
    " 12013711,\n",
    " 12091028,\n",
    " 12093990,\n",
    " 12231232,\n",
    " 12448656,\n",
    " 12600698,\n",
    " 12691807,\n",
    " 12734532,\n",
    " 12739036,\n",
    " 12851669,\n",
    " 12907924,\n",
    " 14736955,\n",
    " 14975762,\n",
    " 14982270,\n",
    " 15042318,\n",
    " 15075188,\n",
    " 15096016,\n",
    " 15579441,\n",
    " 15673851,\n",
    " 15814210,\n",
    " 15867025,\n",
    " 15893386,\n",
    " 15897593,\n",
    " 15974569,\n",
    " 15985056,\n",
    " 16006300,\n",
    " 16047871,\n",
    " 16157917,\n",
    " 16418614,\n",
    " 16428827,\n",
    " 16574713,\n",
    " 16586083,\n",
    " 16710500,\n",
    " 16820346,\n",
    " 17285209,\n",
    " 17366349,\n",
    " 17490790,\n",
    " 17490864,\n",
    " 17574447,\n",
    " 17682013,\n",
    " 17786501,\n",
    " 17943461,\n",
    " 17965424,\n",
    " 18006530,\n",
    " 18086064,\n",
    " 18201582,\n",
    " 18356633,\n",
    " 18441470,\n",
    " 18483878,\n",
    " 18589141,\n",
    " 18657397,\n",
    " 18674790,\n",
    " 18997632,\n",
    " 19105845,\n",
    " 19234905,\n",
    " 19274460,\n",
    " 19674115,\n",
    " 19707748,\n",
    " 19721134,\n",
    " 19893084,\n",
    " 19940105,\n",
    " 19944736,\n",
    " 20164825,\n",
    " 20533999,\n",
    " 20552622,\n",
    " 20727411,\n",
    " 20735774}"
   ]
  },
  {
   "cell_type": "code",
   "execution_count": 9,
   "metadata": {
    "collapsed": true
   },
   "outputs": [],
   "source": [
    "ner_devset = parse_input(\"data/gold_standard\", \"processed_CDR_devset.txt\",\n",
    "                        is_gold = False, return_format = \"dict\", fix_acronyms = True)"
   ]
  },
  {
   "cell_type": "code",
   "execution_count": 10,
   "metadata": {
    "collapsed": true
   },
   "outputs": [],
   "source": [
    "gold_testset = {pmid : dev_gold[pmid] for pmid in testset_pmids}"
   ]
  },
  {
   "cell_type": "code",
   "execution_count": 11,
   "metadata": {
    "collapsed": true
   },
   "outputs": [],
   "source": [
    "def flat_repr(id_set):\n",
    "    vals = [\"{0}:{1}\".format(v.uid_type, v.uid) for v in id_set]\n",
    "    return \"|\".join(sorted(vals))"
   ]
  },
  {
   "cell_type": "code",
   "execution_count": 12,
   "metadata": {
    "collapsed": false
   },
   "outputs": [],
   "source": [
    "temp = defaultdict(list)\n",
    "for pmid in testset_pmids:\n",
    "    paper = ner_devset[pmid]\n",
    "    for sentence in paper.sentences:\n",
    "        work = sentence.poss_relations[False] - paper.poss_relations[\"CID\"]\n",
    "        \n",
    "        for chem_ids, dise_ids in work:\n",
    "            assert len(chem_ids) == 1\n",
    "            assert len(dise_ids) == 1\n",
    "            temp[\"pmid\"].append(pmid)\n",
    "            temp[\"chemical_id\"].append(flat_repr(chem_ids))\n",
    "            temp[\"disease_id\"].append(flat_repr(dise_ids))\n",
    "            temp[\"sentence_id\"].append(sentence.uid)\n",
    "        \n",
    "        # grab the list of ones which would have been generated\n",
    "        # use it to filter out the crowd results\n",
    "        for chem_ids, dise_ids in paper.poss_relations[\"not_sentence_bound\"]:\n",
    "            assert len(dise_ids) == 1\n",
    "            assert len(chem_ids) == 1\n",
    "            temp[\"pmid\"].append(pmid)\n",
    "            temp[\"chemical_id\"].append(flat_repr(chem_ids))\n",
    "            temp[\"disease_id\"].append(flat_repr(dise_ids))\n",
    "            temp[\"sentence_id\"].append(\"unknown\")\n",
    "        \n",
    "ner_findable = pd.DataFrame(temp)"
   ]
  },
  {
   "cell_type": "code",
   "execution_count": 13,
   "metadata": {
    "collapsed": false
   },
   "outputs": [
    {
     "data": {
      "text/html": [
       "<div>\n",
       "<table border=\"1\" class=\"dataframe\">\n",
       "  <thead>\n",
       "    <tr style=\"text-align: right;\">\n",
       "      <th></th>\n",
       "      <th>chemical_id</th>\n",
       "      <th>disease_id</th>\n",
       "      <th>pmid</th>\n",
       "      <th>sentence_id</th>\n",
       "    </tr>\n",
       "  </thead>\n",
       "  <tbody>\n",
       "    <tr>\n",
       "      <th>0</th>\n",
       "      <td>MESH:D015742</td>\n",
       "      <td>MESH:D010146</td>\n",
       "      <td>18006530</td>\n",
       "      <td>18006530_0</td>\n",
       "    </tr>\n",
       "    <tr>\n",
       "      <th>1</th>\n",
       "      <td>MESH:C071741</td>\n",
       "      <td>MESH:D010146</td>\n",
       "      <td>18006530</td>\n",
       "      <td>18006530_0</td>\n",
       "    </tr>\n",
       "    <tr>\n",
       "      <th>2</th>\n",
       "      <td>MESH:D015742</td>\n",
       "      <td>MESH:D010146</td>\n",
       "      <td>18006530</td>\n",
       "      <td>18006530_1</td>\n",
       "    </tr>\n",
       "    <tr>\n",
       "      <th>3</th>\n",
       "      <td>MESH:D015742</td>\n",
       "      <td>MESH:D010146</td>\n",
       "      <td>18006530</td>\n",
       "      <td>18006530_2</td>\n",
       "    </tr>\n",
       "    <tr>\n",
       "      <th>4</th>\n",
       "      <td>MESH:C071741</td>\n",
       "      <td>MESH:D010146</td>\n",
       "      <td>18006530</td>\n",
       "      <td>18006530_2</td>\n",
       "    </tr>\n",
       "  </tbody>\n",
       "</table>\n",
       "</div>"
      ],
      "text/plain": [
       "    chemical_id    disease_id      pmid sentence_id\n",
       "0  MESH:D015742  MESH:D010146  18006530  18006530_0\n",
       "1  MESH:C071741  MESH:D010146  18006530  18006530_0\n",
       "2  MESH:D015742  MESH:D010146  18006530  18006530_1\n",
       "3  MESH:D015742  MESH:D010146  18006530  18006530_2\n",
       "4  MESH:C071741  MESH:D010146  18006530  18006530_2"
      ]
     },
     "execution_count": 13,
     "metadata": {},
     "output_type": "execute_result"
    }
   ],
   "source": [
    "ner_findable.head()"
   ]
  },
  {
   "cell_type": "code",
   "execution_count": 14,
   "metadata": {
    "collapsed": false
   },
   "outputs": [
    {
     "data": {
      "text/plain": [
       "(11978, 4)"
      ]
     },
     "execution_count": 14,
     "metadata": {},
     "output_type": "execute_result"
    }
   ],
   "source": [
    "ner_findable.shape"
   ]
  },
  {
   "cell_type": "markdown",
   "metadata": {},
   "source": [
    "### Sentence-level task results:"
   ]
  },
  {
   "cell_type": "code",
   "execution_count": 15,
   "metadata": {
    "collapsed": true
   },
   "outputs": [],
   "source": [
    "id_map = pd.read_csv(\"data/gold_standard/id_mapping.tsv\", sep = '\\t')"
   ]
  },
  {
   "cell_type": "code",
   "execution_count": 16,
   "metadata": {
    "collapsed": false
   },
   "outputs": [
    {
     "data": {
      "text/html": [
       "<div>\n",
       "<table border=\"1\" class=\"dataframe\">\n",
       "  <thead>\n",
       "    <tr style=\"text-align: right;\">\n",
       "      <th></th>\n",
       "      <th>uniq_id</th>\n",
       "      <th>sentence_id</th>\n",
       "    </tr>\n",
       "  </thead>\n",
       "  <tbody>\n",
       "    <tr>\n",
       "      <th>0</th>\n",
       "      <td>bcv_easy_0</td>\n",
       "      <td>15579441_4</td>\n",
       "    </tr>\n",
       "    <tr>\n",
       "      <th>1</th>\n",
       "      <td>bcv_easy_1</td>\n",
       "      <td>15579441_5</td>\n",
       "    </tr>\n",
       "    <tr>\n",
       "      <th>2</th>\n",
       "      <td>bcv_easy_2</td>\n",
       "      <td>18006530_0</td>\n",
       "    </tr>\n",
       "    <tr>\n",
       "      <th>3</th>\n",
       "      <td>bcv_easy_3</td>\n",
       "      <td>18006530_0</td>\n",
       "    </tr>\n",
       "    <tr>\n",
       "      <th>4</th>\n",
       "      <td>bcv_easy_4</td>\n",
       "      <td>18006530_1</td>\n",
       "    </tr>\n",
       "  </tbody>\n",
       "</table>\n",
       "</div>"
      ],
      "text/plain": [
       "      uniq_id sentence_id\n",
       "0  bcv_easy_0  15579441_4\n",
       "1  bcv_easy_1  15579441_5\n",
       "2  bcv_easy_2  18006530_0\n",
       "3  bcv_easy_3  18006530_0\n",
       "4  bcv_easy_4  18006530_1"
      ]
     },
     "execution_count": 16,
     "metadata": {},
     "output_type": "execute_result"
    }
   ],
   "source": [
    "id_map.head()"
   ]
  },
  {
   "cell_type": "code",
   "execution_count": 17,
   "metadata": {
    "collapsed": true
   },
   "outputs": [],
   "source": [
    "sent_id_map = dict()\n",
    "for idx, row in id_map.iterrows():\n",
    "    sent_id_map[row[\"uniq_id\"]] = row[\"sentence_id\"]"
   ]
  },
  {
   "cell_type": "code",
   "execution_count": 18,
   "metadata": {
    "collapsed": true
   },
   "outputs": [],
   "source": [
    "settings = {\n",
    "    \"loc\": \"data/crowdflower/results\",\n",
    "    \"fname\": \"job_761593_full_with_untrusted.csv\",\n",
    "    \"data_subset\": \"normal\",\n",
    "    \"min_accuracy\": 0.7,\n",
    "    \"max_accuracy\": 1.0\n",
    "}\n",
    "\n",
    "sent_raw_data = filter_data(settings)"
   ]
  },
  {
   "cell_type": "code",
   "execution_count": 19,
   "metadata": {
    "collapsed": true
   },
   "outputs": [],
   "source": [
    "sent_raw_data[\"sentence_id\"] = sent_raw_data[\"uniq_id\"].map(lambda v: sent_id_map[v])"
   ]
  },
  {
   "cell_type": "code",
   "execution_count": 20,
   "metadata": {
    "collapsed": true
   },
   "outputs": [],
   "source": [
    "def can_find(row):\n",
    "    \"\"\"Can we make this with the NER output?\"\"\"\n",
    "    dis_ids = row[\"disease_id\"].split(\"|\")\n",
    "    \n",
    "    for dis_id in dis_ids:\n",
    "        dise_id = \"MESH:{0}\".format(dis_id)\n",
    "        chem_id = \"MESH:{0}\".format(row[\"chemical_id\"])\n",
    "        \n",
    "        res = ner_findable.query(\"sentence_id == '{0}' and pmid == {1} and chemical_id == '{2}' and disease_id == '{3}'\".format(row[\"sentence_id\"], row[\"pmid\"],\n",
    "                                                    chem_id, dise_id))\n",
    "        \n",
    "        if len(res) == 0:\n",
    "            return False\n",
    "        \n",
    "    return True\n",
    "\n",
    "sent_raw_data[\"findable\"] = sent_raw_data.loc[:, [\"pmid\", \"chemical_id\", \"disease_id\", \"sentence_id\"]].apply(can_find, axis = 1)"
   ]
  },
  {
   "cell_type": "markdown",
   "metadata": {},
   "source": [
    "---"
   ]
  },
  {
   "cell_type": "code",
   "execution_count": 21,
   "metadata": {
    "collapsed": true
   },
   "outputs": [],
   "source": [
    "sent_raw_data = sent_raw_data.query(\"~_tainted\")"
   ]
  },
  {
   "cell_type": "code",
   "execution_count": 22,
   "metadata": {
    "collapsed": false
   },
   "outputs": [
    {
     "data": {
      "text/plain": [
       "(5500, 33)"
      ]
     },
     "execution_count": 22,
     "metadata": {},
     "output_type": "execute_result"
    }
   ],
   "source": [
    "sent_raw_data.shape"
   ]
  },
  {
   "cell_type": "code",
   "execution_count": 23,
   "metadata": {
    "collapsed": false
   },
   "outputs": [
    {
     "name": "stdout",
     "output_type": "stream",
     "text": [
      "Judgements 1, # of work units: 15\n",
      "Judgements 2, # of work units: 11\n",
      "Judgements 3, # of work units: 12\n",
      "Judgements 4, # of work units: 57\n",
      "Judgements 5, # of work units: 1035\n",
      "Judgements 6, # of work units: 4\n"
     ]
    }
   ],
   "source": [
    "sent_work_votes = defaultdict(set)\n",
    "for uniq_id, group in sent_raw_data.groupby(\"uniq_id\"):\n",
    "    sent_work_votes[len(group[\"_worker_id\"].unique())].add(uniq_id)\n",
    "    \n",
    "for votes, units in sent_work_votes.items():\n",
    "    print(\"Judgements {0}, # of work units: {1}\".format(votes, len(units)))"
   ]
  },
  {
   "cell_type": "code",
   "execution_count": 24,
   "metadata": {
    "collapsed": true
   },
   "outputs": [],
   "source": [
    "units = list(sent_work_votes[4] | sent_work_votes[5] | sent_work_votes[6])\n",
    "\n",
    "sent_raw_data = sent_raw_data.query(\"uniq_id in {0}\".format(units))"
   ]
  },
  {
   "cell_type": "code",
   "execution_count": 25,
   "metadata": {
    "collapsed": false
   },
   "outputs": [
    {
     "data": {
      "text/plain": [
       "(5427, 33)"
      ]
     },
     "execution_count": 25,
     "metadata": {},
     "output_type": "execute_result"
    }
   ],
   "source": [
    "sent_raw_data.shape"
   ]
  },
  {
   "cell_type": "code",
   "execution_count": 26,
   "metadata": {
    "collapsed": false
   },
   "outputs": [],
   "source": [
    "# take positive votes only, indirect is no\n",
    "sent_res_pos_no = aggregate_results(\"uniq_id\", \"verify_relationship\", sent_raw_data,\n",
    "                                    \"positive_signal_only\",\n",
    "                                     [\"pmid\", \"_unit_id\", \"chemical_id\", \"disease_id\", \"relation_pair_id\", \"sentence_id\", \"findable\"],\n",
    "                                    \"yes_direct\", {\"yes_indirect\" : \"no_relation\", \"ner_mistake\": \"no_relation\"})"
   ]
  },
  {
   "cell_type": "code",
   "execution_count": 27,
   "metadata": {
    "collapsed": false
   },
   "outputs": [],
   "source": [
    "sent_res_pos_no[\"in_gold\"] = sent_res_pos_no.loc[:, [\"pmid\", \"chemical_id\", \"disease_id\"]].apply(in_gold, axis = 1)"
   ]
  },
  {
   "cell_type": "code",
   "execution_count": 28,
   "metadata": {
    "collapsed": false
   },
   "outputs": [
    {
     "data": {
      "text/html": [
       "<div>\n",
       "<table border=\"1\" class=\"dataframe\">\n",
       "  <thead>\n",
       "    <tr style=\"text-align: right;\">\n",
       "      <th></th>\n",
       "      <th>uniq_id</th>\n",
       "      <th>verify_relationship</th>\n",
       "      <th>conf_score</th>\n",
       "      <th>num_votes</th>\n",
       "      <th>percent_agree</th>\n",
       "      <th>pmid</th>\n",
       "      <th>unit_id</th>\n",
       "      <th>chemical_id</th>\n",
       "      <th>disease_id</th>\n",
       "      <th>relation_pair_id</th>\n",
       "      <th>sentence_id</th>\n",
       "      <th>findable</th>\n",
       "      <th>in_gold</th>\n",
       "    </tr>\n",
       "  </thead>\n",
       "  <tbody>\n",
       "    <tr>\n",
       "      <th>1</th>\n",
       "      <td>bcv_easy_0</td>\n",
       "      <td>yes_direct</td>\n",
       "      <td>0.7353</td>\n",
       "      <td>1</td>\n",
       "      <td>0.181162</td>\n",
       "      <td>15579441</td>\n",
       "      <td>769152007</td>\n",
       "      <td>D011692</td>\n",
       "      <td>D000860</td>\n",
       "      <td>15579441_D011692_D000860</td>\n",
       "      <td>15579441_4</td>\n",
       "      <td>True</td>\n",
       "      <td>1</td>\n",
       "    </tr>\n",
       "    <tr>\n",
       "      <th>0</th>\n",
       "      <td>bcv_easy_0</td>\n",
       "      <td>no_relation</td>\n",
       "      <td>3.3235</td>\n",
       "      <td>4</td>\n",
       "      <td>0.818838</td>\n",
       "      <td>15579441</td>\n",
       "      <td>769152007</td>\n",
       "      <td>D011692</td>\n",
       "      <td>D000860</td>\n",
       "      <td>15579441_D011692_D000860</td>\n",
       "      <td>15579441_4</td>\n",
       "      <td>True</td>\n",
       "      <td>1</td>\n",
       "    </tr>\n",
       "    <tr>\n",
       "      <th>1</th>\n",
       "      <td>bcv_easy_1</td>\n",
       "      <td>yes_direct</td>\n",
       "      <td>1.5294</td>\n",
       "      <td>2</td>\n",
       "      <td>0.374101</td>\n",
       "      <td>15579441</td>\n",
       "      <td>769152008</td>\n",
       "      <td>D011692</td>\n",
       "      <td>D000860</td>\n",
       "      <td>15579441_D011692_D000860</td>\n",
       "      <td>15579441_5</td>\n",
       "      <td>True</td>\n",
       "      <td>1</td>\n",
       "    </tr>\n",
       "    <tr>\n",
       "      <th>0</th>\n",
       "      <td>bcv_easy_1</td>\n",
       "      <td>no_relation</td>\n",
       "      <td>2.5588</td>\n",
       "      <td>3</td>\n",
       "      <td>0.625899</td>\n",
       "      <td>15579441</td>\n",
       "      <td>769152008</td>\n",
       "      <td>D011692</td>\n",
       "      <td>D000860</td>\n",
       "      <td>15579441_D011692_D000860</td>\n",
       "      <td>15579441_5</td>\n",
       "      <td>True</td>\n",
       "      <td>1</td>\n",
       "    </tr>\n",
       "    <tr>\n",
       "      <th>1</th>\n",
       "      <td>bcv_easy_10</td>\n",
       "      <td>yes_direct</td>\n",
       "      <td>0.8529</td>\n",
       "      <td>1</td>\n",
       "      <td>0.218038</td>\n",
       "      <td>18006530</td>\n",
       "      <td>769152017</td>\n",
       "      <td>D015742</td>\n",
       "      <td>D010146</td>\n",
       "      <td>18006530_D015742_D010146</td>\n",
       "      <td>18006530_11</td>\n",
       "      <td>True</td>\n",
       "      <td>1</td>\n",
       "    </tr>\n",
       "  </tbody>\n",
       "</table>\n",
       "</div>"
      ],
      "text/plain": [
       "       uniq_id verify_relationship  conf_score  num_votes  percent_agree  \\\n",
       "1   bcv_easy_0          yes_direct      0.7353          1       0.181162   \n",
       "0   bcv_easy_0         no_relation      3.3235          4       0.818838   \n",
       "1   bcv_easy_1          yes_direct      1.5294          2       0.374101   \n",
       "0   bcv_easy_1         no_relation      2.5588          3       0.625899   \n",
       "1  bcv_easy_10          yes_direct      0.8529          1       0.218038   \n",
       "\n",
       "       pmid    unit_id chemical_id disease_id          relation_pair_id  \\\n",
       "1  15579441  769152007     D011692    D000860  15579441_D011692_D000860   \n",
       "0  15579441  769152007     D011692    D000860  15579441_D011692_D000860   \n",
       "1  15579441  769152008     D011692    D000860  15579441_D011692_D000860   \n",
       "0  15579441  769152008     D011692    D000860  15579441_D011692_D000860   \n",
       "1  18006530  769152017     D015742    D010146  18006530_D015742_D010146   \n",
       "\n",
       "   sentence_id findable  in_gold  \n",
       "1   15579441_4     True        1  \n",
       "0   15579441_4     True        1  \n",
       "1   15579441_5     True        1  \n",
       "0   15579441_5     True        1  \n",
       "1  18006530_11     True        1  "
      ]
     },
     "execution_count": 28,
     "metadata": {},
     "output_type": "execute_result"
    }
   ],
   "source": [
    "sent_res_pos_no.head()"
   ]
  },
  {
   "cell_type": "code",
   "execution_count": 29,
   "metadata": {
    "collapsed": true
   },
   "outputs": [],
   "source": [
    "sent_res_pos_no = sent_res_pos_no.query(\"verify_relationship == 'yes_direct'\")"
   ]
  },
  {
   "cell_type": "code",
   "execution_count": 30,
   "metadata": {
    "collapsed": true
   },
   "outputs": [],
   "source": [
    "def aggregate_sentences(sentence_res):\n",
    "    \"\"\"\n",
    "    Given the aggregated results at the individual work unit level,\n",
    "    this function determines which sentence-bound drug-disease relationships\n",
    "    are true at the abstract level.\n",
    "    \"\"\"\n",
    "    res = defaultdict(list)\n",
    "    for info, group in sentence_res.groupby([\"pmid\", \"chemical_id\", \"disease_id\"]):\n",
    "        norm_conf_score_max = group[\"percent_agree\"].max()\n",
    "        \n",
    "        res[\"pmid\"].append(info[0])\n",
    "        res[\"chemical_id\"].append(info[1])\n",
    "        res[\"disease_id\"].append(info[2])\n",
    "        \n",
    "        res[\"in_gold\"].append(group[\"in_gold\"].iloc[0])\n",
    "        \n",
    "        res[\"num_votes\"].append(group[\"num_votes\"].max())\n",
    "        res[\"norm_conf_score\"].append(norm_conf_score_max)\n",
    "        \n",
    "        res[\"uniq_ids\"].append(\"|\".join(group[\"uniq_id\"].unique()))\n",
    "        res[\"unit_ids\"].append(\"|\".join(map(lambda x: str(int(x)), group[\"unit_id\"].unique())))\n",
    "        res[\"sentence_ids\"].append(\"|\".join(group[\"sentence_id\"].unique()))\n",
    "        \n",
    "    return pd.DataFrame(res)"
   ]
  },
  {
   "cell_type": "code",
   "execution_count": 31,
   "metadata": {
    "collapsed": false
   },
   "outputs": [],
   "source": [
    "sent_perf_no = aggregate_sentences(sent_res_pos_no)"
   ]
  },
  {
   "cell_type": "code",
   "execution_count": 32,
   "metadata": {
    "collapsed": false,
    "scrolled": true
   },
   "outputs": [
    {
     "data": {
      "text/html": [
       "<div>\n",
       "<table border=\"1\" class=\"dataframe\">\n",
       "  <thead>\n",
       "    <tr style=\"text-align: right;\">\n",
       "      <th></th>\n",
       "      <th>chemical_id</th>\n",
       "      <th>disease_id</th>\n",
       "      <th>in_gold</th>\n",
       "      <th>norm_conf_score</th>\n",
       "      <th>num_votes</th>\n",
       "      <th>pmid</th>\n",
       "      <th>sentence_ids</th>\n",
       "      <th>uniq_ids</th>\n",
       "      <th>unit_ids</th>\n",
       "    </tr>\n",
       "  </thead>\n",
       "  <tbody>\n",
       "    <tr>\n",
       "      <th>0</th>\n",
       "      <td>D011802</td>\n",
       "      <td>D056486</td>\n",
       "      <td>1</td>\n",
       "      <td>0.586471</td>\n",
       "      <td>3</td>\n",
       "      <td>48362</td>\n",
       "      <td>48362_0</td>\n",
       "      <td>bcv_easy_1155</td>\n",
       "      <td>769153162</td>\n",
       "    </tr>\n",
       "    <tr>\n",
       "      <th>1</th>\n",
       "      <td>C012282</td>\n",
       "      <td>D006528</td>\n",
       "      <td>0</td>\n",
       "      <td>0.000000</td>\n",
       "      <td>0</td>\n",
       "      <td>85485</td>\n",
       "      <td>85485_2</td>\n",
       "      <td>bcv_easy_382</td>\n",
       "      <td>769152389</td>\n",
       "    </tr>\n",
       "    <tr>\n",
       "      <th>2</th>\n",
       "      <td>C012282</td>\n",
       "      <td>D009369</td>\n",
       "      <td>0</td>\n",
       "      <td>0.000000</td>\n",
       "      <td>0</td>\n",
       "      <td>85485</td>\n",
       "      <td>85485_2</td>\n",
       "      <td>bcv_easy_381</td>\n",
       "      <td>769152388</td>\n",
       "    </tr>\n",
       "    <tr>\n",
       "      <th>3</th>\n",
       "      <td>D001556</td>\n",
       "      <td>D006528</td>\n",
       "      <td>1</td>\n",
       "      <td>1.000000</td>\n",
       "      <td>5</td>\n",
       "      <td>85485</td>\n",
       "      <td>85485_0|85485_1</td>\n",
       "      <td>bcv_easy_378|bcv_easy_379</td>\n",
       "      <td>769152385|769152386</td>\n",
       "    </tr>\n",
       "    <tr>\n",
       "      <th>4</th>\n",
       "      <td>D001556</td>\n",
       "      <td>D017093</td>\n",
       "      <td>0</td>\n",
       "      <td>0.807094</td>\n",
       "      <td>4</td>\n",
       "      <td>85485</td>\n",
       "      <td>85485_1</td>\n",
       "      <td>bcv_easy_380</td>\n",
       "      <td>769152387</td>\n",
       "    </tr>\n",
       "  </tbody>\n",
       "</table>\n",
       "</div>"
      ],
      "text/plain": [
       "  chemical_id disease_id  in_gold  norm_conf_score  num_votes   pmid  \\\n",
       "0     D011802    D056486        1         0.586471          3  48362   \n",
       "1     C012282    D006528        0         0.000000          0  85485   \n",
       "2     C012282    D009369        0         0.000000          0  85485   \n",
       "3     D001556    D006528        1         1.000000          5  85485   \n",
       "4     D001556    D017093        0         0.807094          4  85485   \n",
       "\n",
       "      sentence_ids                   uniq_ids             unit_ids  \n",
       "0          48362_0              bcv_easy_1155            769153162  \n",
       "1          85485_2               bcv_easy_382            769152389  \n",
       "2          85485_2               bcv_easy_381            769152388  \n",
       "3  85485_0|85485_1  bcv_easy_378|bcv_easy_379  769152385|769152386  \n",
       "4          85485_1               bcv_easy_380            769152387  "
      ]
     },
     "execution_count": 32,
     "metadata": {},
     "output_type": "execute_result"
    }
   ],
   "source": [
    "sent_perf_no.head()"
   ]
  },
  {
   "cell_type": "markdown",
   "metadata": {},
   "source": [
    "---"
   ]
  },
  {
   "cell_type": "markdown",
   "metadata": {},
   "source": [
    "### Abstract-level task results"
   ]
  },
  {
   "cell_type": "code",
   "execution_count": 33,
   "metadata": {
    "collapsed": true
   },
   "outputs": [],
   "source": [
    "settings = {\n",
    "    \"loc\": \"data/crowdflower/results\",\n",
    "    \"fname\": \"job_758438_full_with_untrusted.csv\",\n",
    "    \"data_subset\": \"normal\",\n",
    "    \"min_accuracy\": 0.7,\n",
    "    \"max_accuracy\": 1.0\n",
    "}\n",
    "\n",
    "abs_raw_data = filter_data(settings)"
   ]
  },
  {
   "cell_type": "code",
   "execution_count": 34,
   "metadata": {
    "collapsed": true
   },
   "outputs": [],
   "source": [
    "bad_workers = {\n",
    " 31501233,\n",
    " 31720388,\n",
    " 31720815,\n",
    " 32025293,\n",
    " 33081102,\n",
    " 33081299,\n",
    " 33081469,\n",
    " 33081531,\n",
    " 33085305,\n",
    " 33085428,\n",
    " 33238902,\n",
    " 33301062,\n",
    " 33301138,\n",
    " 33596095}"
   ]
  },
  {
   "cell_type": "code",
   "execution_count": 35,
   "metadata": {
    "collapsed": true
   },
   "outputs": [],
   "source": [
    "clean_abs_data = abs_raw_data.query(\"_worker_id not in {0}\".format(list(bad_workers)))"
   ]
  },
  {
   "cell_type": "code",
   "execution_count": 36,
   "metadata": {
    "collapsed": false
   },
   "outputs": [
    {
     "data": {
      "text/plain": [
       "(3709, 29)"
      ]
     },
     "execution_count": 36,
     "metadata": {},
     "output_type": "execute_result"
    }
   ],
   "source": [
    "clean_abs_data.shape"
   ]
  },
  {
   "cell_type": "code",
   "execution_count": 37,
   "metadata": {
    "collapsed": false
   },
   "outputs": [
    {
     "name": "stdout",
     "output_type": "stream",
     "text": [
      "1 67\n",
      "2 186\n",
      "3 273\n",
      "4 219\n",
      "5 315\n"
     ]
    }
   ],
   "source": [
    "# how many work units have fewer than 5 votes?\n",
    "unit_votes = defaultdict(set)\n",
    "for uniq_id, group in clean_abs_data.groupby(\"uniq_id\"):\n",
    "    total_votes = len(group[\"_worker_id\"].unique())\n",
    "    unit_votes[total_votes].add(uniq_id)\n",
    "    \n",
    "for votes, ids in unit_votes.items():\n",
    "    print(votes, len(ids))"
   ]
  },
  {
   "cell_type": "code",
   "execution_count": 38,
   "metadata": {
    "collapsed": true
   },
   "outputs": [],
   "source": [
    "good_units = unit_votes[3] | unit_votes[4] | unit_votes[5]\n",
    "clean_abs_data = clean_abs_data.query(\"uniq_id in {0}\".format(list(good_units)))"
   ]
  },
  {
   "cell_type": "code",
   "execution_count": 39,
   "metadata": {
    "collapsed": true
   },
   "outputs": [],
   "source": [
    "def can_find_abs(row):\n",
    "    \"\"\"Can we make this with the NER output?\"\"\"\n",
    "    dis_ids = row[\"disease_id\"].split(\"|\")\n",
    "    \n",
    "    for dis_id in dis_ids:\n",
    "        dise_id = \"MESH:{0}\".format(dis_id)\n",
    "        chem_id = \"MESH:{0}\".format(row[\"chemical_id\"])\n",
    "        \n",
    "        res = ner_findable.query(\"pmid == {0} and chemical_id == '{1}' and disease_id == '{2}'\".format(row[\"pmid\"],\n",
    "                                                    chem_id, dise_id))\n",
    "        \n",
    "        if len(res) > 0:\n",
    "            return True\n",
    "        \n",
    "    return False\n",
    "\n",
    "clean_abs_data[\"findable\"] = clean_abs_data.loc[:, [\"pmid\", \"chemical_id\", \"disease_id\"]].apply(can_find_abs, axis = 1)"
   ]
  },
  {
   "cell_type": "code",
   "execution_count": 40,
   "metadata": {
    "collapsed": false
   },
   "outputs": [
    {
     "data": {
      "text/plain": [
       "(3270, 30)"
      ]
     },
     "execution_count": 40,
     "metadata": {},
     "output_type": "execute_result"
    }
   ],
   "source": [
    "clean_abs_data.shape"
   ]
  },
  {
   "cell_type": "code",
   "execution_count": 41,
   "metadata": {
    "collapsed": true
   },
   "outputs": [],
   "source": [
    "# take positive votes only, indirect is yes\n",
    "abs_res_pos_no = aggregate_results(\"uniq_id\", \"verify_relationship\", clean_abs_data,\n",
    "                                    \"positive_signal_only\", [\"pmid\", \"_unit_id\", \"chemical_id\", \"disease_id\", \"findable\"],\n",
    "                                    \"yes_direct\", {\"yes_indirect\" : \"no_relation\", \"ner_mistake\": \"no_relation\"})"
   ]
  },
  {
   "cell_type": "code",
   "execution_count": 42,
   "metadata": {
    "collapsed": true
   },
   "outputs": [],
   "source": [
    "abs_res_pos_no[\"in_gold\"] = abs_res_pos_no.loc[:, [\"pmid\", \"chemical_id\", \"disease_id\"]].apply(in_gold, axis = 1)"
   ]
  },
  {
   "cell_type": "code",
   "execution_count": 43,
   "metadata": {
    "collapsed": true
   },
   "outputs": [],
   "source": [
    "abs_res_pos_no = abs_res_pos_no.query(\"verify_relationship == 'yes_direct'\")"
   ]
  },
  {
   "cell_type": "code",
   "execution_count": 44,
   "metadata": {
    "collapsed": false
   },
   "outputs": [
    {
     "data": {
      "text/html": [
       "<div>\n",
       "<table border=\"1\" class=\"dataframe\">\n",
       "  <thead>\n",
       "    <tr style=\"text-align: right;\">\n",
       "      <th></th>\n",
       "      <th>uniq_id</th>\n",
       "      <th>verify_relationship</th>\n",
       "      <th>conf_score</th>\n",
       "      <th>num_votes</th>\n",
       "      <th>percent_agree</th>\n",
       "      <th>pmid</th>\n",
       "      <th>unit_id</th>\n",
       "      <th>chemical_id</th>\n",
       "      <th>disease_id</th>\n",
       "      <th>findable</th>\n",
       "      <th>in_gold</th>\n",
       "    </tr>\n",
       "  </thead>\n",
       "  <tbody>\n",
       "    <tr>\n",
       "      <th>1</th>\n",
       "      <td>bcv_hard_0</td>\n",
       "      <td>yes_direct</td>\n",
       "      <td>0.8286</td>\n",
       "      <td>1</td>\n",
       "      <td>0.247669</td>\n",
       "      <td>15579441</td>\n",
       "      <td>765527869</td>\n",
       "      <td>D011692</td>\n",
       "      <td>D011507</td>\n",
       "      <td>True</td>\n",
       "      <td>0</td>\n",
       "    </tr>\n",
       "    <tr>\n",
       "      <th>1</th>\n",
       "      <td>bcv_hard_1</td>\n",
       "      <td>yes_direct</td>\n",
       "      <td>0.9038</td>\n",
       "      <td>1</td>\n",
       "      <td>0.213417</td>\n",
       "      <td>15579441</td>\n",
       "      <td>765527870</td>\n",
       "      <td>D011692</td>\n",
       "      <td>D007674</td>\n",
       "      <td>True</td>\n",
       "      <td>0</td>\n",
       "    </tr>\n",
       "    <tr>\n",
       "      <th>0</th>\n",
       "      <td>bcv_hard_10</td>\n",
       "      <td>yes_direct</td>\n",
       "      <td>0.0000</td>\n",
       "      <td>0</td>\n",
       "      <td>0.000000</td>\n",
       "      <td>3732088</td>\n",
       "      <td>765527879</td>\n",
       "      <td>D011188</td>\n",
       "      <td>D018879</td>\n",
       "      <td>True</td>\n",
       "      <td>0</td>\n",
       "    </tr>\n",
       "    <tr>\n",
       "      <th>1</th>\n",
       "      <td>bcv_hard_100</td>\n",
       "      <td>yes_direct</td>\n",
       "      <td>0.8462</td>\n",
       "      <td>1</td>\n",
       "      <td>0.191517</td>\n",
       "      <td>11847945</td>\n",
       "      <td>765527969</td>\n",
       "      <td>D004177</td>\n",
       "      <td>D002779|D056486</td>\n",
       "      <td>True</td>\n",
       "      <td>0</td>\n",
       "    </tr>\n",
       "    <tr>\n",
       "      <th>0</th>\n",
       "      <td>bcv_hard_1001</td>\n",
       "      <td>yes_direct</td>\n",
       "      <td>0.0000</td>\n",
       "      <td>0</td>\n",
       "      <td>0.000000</td>\n",
       "      <td>2576810</td>\n",
       "      <td>765528870</td>\n",
       "      <td>D015283</td>\n",
       "      <td>D006948</td>\n",
       "      <td>True</td>\n",
       "      <td>0</td>\n",
       "    </tr>\n",
       "  </tbody>\n",
       "</table>\n",
       "</div>"
      ],
      "text/plain": [
       "         uniq_id verify_relationship  conf_score  num_votes  percent_agree  \\\n",
       "1     bcv_hard_0          yes_direct      0.8286          1       0.247669   \n",
       "1     bcv_hard_1          yes_direct      0.9038          1       0.213417   \n",
       "0    bcv_hard_10          yes_direct      0.0000          0       0.000000   \n",
       "1   bcv_hard_100          yes_direct      0.8462          1       0.191517   \n",
       "0  bcv_hard_1001          yes_direct      0.0000          0       0.000000   \n",
       "\n",
       "       pmid    unit_id chemical_id       disease_id findable  in_gold  \n",
       "1  15579441  765527869     D011692          D011507     True        0  \n",
       "1  15579441  765527870     D011692          D007674     True        0  \n",
       "0   3732088  765527879     D011188          D018879     True        0  \n",
       "1  11847945  765527969     D004177  D002779|D056486     True        0  \n",
       "0   2576810  765528870     D015283          D006948     True        0  "
      ]
     },
     "execution_count": 44,
     "metadata": {},
     "output_type": "execute_result"
    }
   ],
   "source": [
    "abs_res_pos_no.head()"
   ]
  },
  {
   "cell_type": "code",
   "execution_count": 45,
   "metadata": {
    "collapsed": false
   },
   "outputs": [
    {
     "data": {
      "text/plain": [
       "True     705\n",
       "False    102\n",
       "dtype: int64"
      ]
     },
     "execution_count": 45,
     "metadata": {},
     "output_type": "execute_result"
    }
   ],
   "source": [
    "abs_res_pos_no[\"findable\"].value_counts()"
   ]
  },
  {
   "cell_type": "markdown",
   "metadata": {},
   "source": [
    "---"
   ]
  },
  {
   "cell_type": "markdown",
   "metadata": {},
   "source": [
    "### Put everything together"
   ]
  },
  {
   "cell_type": "code",
   "execution_count": 46,
   "metadata": {
    "collapsed": false
   },
   "outputs": [
    {
     "data": {
      "text/plain": [
       "200"
      ]
     },
     "execution_count": 46,
     "metadata": {},
     "output_type": "execute_result"
    }
   ],
   "source": [
    "len(testset_pmids)"
   ]
  },
  {
   "cell_type": "code",
   "execution_count": 47,
   "metadata": {
    "collapsed": false
   },
   "outputs": [
    {
     "data": {
      "text/html": [
       "<div>\n",
       "<table border=\"1\" class=\"dataframe\">\n",
       "  <thead>\n",
       "    <tr style=\"text-align: right;\">\n",
       "      <th></th>\n",
       "      <th>chemical_id</th>\n",
       "      <th>disease_id</th>\n",
       "      <th>in_gold</th>\n",
       "      <th>norm_conf_score</th>\n",
       "      <th>num_votes</th>\n",
       "      <th>pmid</th>\n",
       "      <th>sentence_ids</th>\n",
       "      <th>uniq_ids</th>\n",
       "      <th>unit_ids</th>\n",
       "    </tr>\n",
       "  </thead>\n",
       "  <tbody>\n",
       "    <tr>\n",
       "      <th>0</th>\n",
       "      <td>D011802</td>\n",
       "      <td>D056486</td>\n",
       "      <td>1</td>\n",
       "      <td>0.586471</td>\n",
       "      <td>3</td>\n",
       "      <td>48362</td>\n",
       "      <td>48362_0</td>\n",
       "      <td>bcv_easy_1155</td>\n",
       "      <td>769153162</td>\n",
       "    </tr>\n",
       "    <tr>\n",
       "      <th>1</th>\n",
       "      <td>C012282</td>\n",
       "      <td>D006528</td>\n",
       "      <td>0</td>\n",
       "      <td>0.000000</td>\n",
       "      <td>0</td>\n",
       "      <td>85485</td>\n",
       "      <td>85485_2</td>\n",
       "      <td>bcv_easy_382</td>\n",
       "      <td>769152389</td>\n",
       "    </tr>\n",
       "    <tr>\n",
       "      <th>2</th>\n",
       "      <td>C012282</td>\n",
       "      <td>D009369</td>\n",
       "      <td>0</td>\n",
       "      <td>0.000000</td>\n",
       "      <td>0</td>\n",
       "      <td>85485</td>\n",
       "      <td>85485_2</td>\n",
       "      <td>bcv_easy_381</td>\n",
       "      <td>769152388</td>\n",
       "    </tr>\n",
       "    <tr>\n",
       "      <th>3</th>\n",
       "      <td>D001556</td>\n",
       "      <td>D006528</td>\n",
       "      <td>1</td>\n",
       "      <td>1.000000</td>\n",
       "      <td>5</td>\n",
       "      <td>85485</td>\n",
       "      <td>85485_0|85485_1</td>\n",
       "      <td>bcv_easy_378|bcv_easy_379</td>\n",
       "      <td>769152385|769152386</td>\n",
       "    </tr>\n",
       "    <tr>\n",
       "      <th>4</th>\n",
       "      <td>D001556</td>\n",
       "      <td>D017093</td>\n",
       "      <td>0</td>\n",
       "      <td>0.807094</td>\n",
       "      <td>4</td>\n",
       "      <td>85485</td>\n",
       "      <td>85485_1</td>\n",
       "      <td>bcv_easy_380</td>\n",
       "      <td>769152387</td>\n",
       "    </tr>\n",
       "  </tbody>\n",
       "</table>\n",
       "</div>"
      ],
      "text/plain": [
       "  chemical_id disease_id  in_gold  norm_conf_score  num_votes   pmid  \\\n",
       "0     D011802    D056486        1         0.586471          3  48362   \n",
       "1     C012282    D006528        0         0.000000          0  85485   \n",
       "2     C012282    D009369        0         0.000000          0  85485   \n",
       "3     D001556    D006528        1         1.000000          5  85485   \n",
       "4     D001556    D017093        0         0.807094          4  85485   \n",
       "\n",
       "      sentence_ids                   uniq_ids             unit_ids  \n",
       "0          48362_0              bcv_easy_1155            769153162  \n",
       "1          85485_2               bcv_easy_382            769152389  \n",
       "2          85485_2               bcv_easy_381            769152388  \n",
       "3  85485_0|85485_1  bcv_easy_378|bcv_easy_379  769152385|769152386  \n",
       "4          85485_1               bcv_easy_380            769152387  "
      ]
     },
     "execution_count": 47,
     "metadata": {},
     "output_type": "execute_result"
    }
   ],
   "source": [
    "sent_perf_no.head()"
   ]
  },
  {
   "cell_type": "code",
   "execution_count": 48,
   "metadata": {
    "collapsed": false
   },
   "outputs": [
    {
     "data": {
      "text/html": [
       "<div>\n",
       "<table border=\"1\" class=\"dataframe\">\n",
       "  <thead>\n",
       "    <tr style=\"text-align: right;\">\n",
       "      <th></th>\n",
       "      <th>uniq_id</th>\n",
       "      <th>verify_relationship</th>\n",
       "      <th>conf_score</th>\n",
       "      <th>num_votes</th>\n",
       "      <th>percent_agree</th>\n",
       "      <th>pmid</th>\n",
       "      <th>unit_id</th>\n",
       "      <th>chemical_id</th>\n",
       "      <th>disease_id</th>\n",
       "      <th>findable</th>\n",
       "      <th>in_gold</th>\n",
       "    </tr>\n",
       "  </thead>\n",
       "  <tbody>\n",
       "    <tr>\n",
       "      <th>1</th>\n",
       "      <td>bcv_hard_0</td>\n",
       "      <td>yes_direct</td>\n",
       "      <td>0.8286</td>\n",
       "      <td>1</td>\n",
       "      <td>0.247669</td>\n",
       "      <td>15579441</td>\n",
       "      <td>765527869</td>\n",
       "      <td>D011692</td>\n",
       "      <td>D011507</td>\n",
       "      <td>True</td>\n",
       "      <td>0</td>\n",
       "    </tr>\n",
       "    <tr>\n",
       "      <th>1</th>\n",
       "      <td>bcv_hard_1</td>\n",
       "      <td>yes_direct</td>\n",
       "      <td>0.9038</td>\n",
       "      <td>1</td>\n",
       "      <td>0.213417</td>\n",
       "      <td>15579441</td>\n",
       "      <td>765527870</td>\n",
       "      <td>D011692</td>\n",
       "      <td>D007674</td>\n",
       "      <td>True</td>\n",
       "      <td>0</td>\n",
       "    </tr>\n",
       "    <tr>\n",
       "      <th>0</th>\n",
       "      <td>bcv_hard_10</td>\n",
       "      <td>yes_direct</td>\n",
       "      <td>0.0000</td>\n",
       "      <td>0</td>\n",
       "      <td>0.000000</td>\n",
       "      <td>3732088</td>\n",
       "      <td>765527879</td>\n",
       "      <td>D011188</td>\n",
       "      <td>D018879</td>\n",
       "      <td>True</td>\n",
       "      <td>0</td>\n",
       "    </tr>\n",
       "    <tr>\n",
       "      <th>1</th>\n",
       "      <td>bcv_hard_100</td>\n",
       "      <td>yes_direct</td>\n",
       "      <td>0.8462</td>\n",
       "      <td>1</td>\n",
       "      <td>0.191517</td>\n",
       "      <td>11847945</td>\n",
       "      <td>765527969</td>\n",
       "      <td>D004177</td>\n",
       "      <td>D002779|D056486</td>\n",
       "      <td>True</td>\n",
       "      <td>0</td>\n",
       "    </tr>\n",
       "    <tr>\n",
       "      <th>0</th>\n",
       "      <td>bcv_hard_1001</td>\n",
       "      <td>yes_direct</td>\n",
       "      <td>0.0000</td>\n",
       "      <td>0</td>\n",
       "      <td>0.000000</td>\n",
       "      <td>2576810</td>\n",
       "      <td>765528870</td>\n",
       "      <td>D015283</td>\n",
       "      <td>D006948</td>\n",
       "      <td>True</td>\n",
       "      <td>0</td>\n",
       "    </tr>\n",
       "  </tbody>\n",
       "</table>\n",
       "</div>"
      ],
      "text/plain": [
       "         uniq_id verify_relationship  conf_score  num_votes  percent_agree  \\\n",
       "1     bcv_hard_0          yes_direct      0.8286          1       0.247669   \n",
       "1     bcv_hard_1          yes_direct      0.9038          1       0.213417   \n",
       "0    bcv_hard_10          yes_direct      0.0000          0       0.000000   \n",
       "1   bcv_hard_100          yes_direct      0.8462          1       0.191517   \n",
       "0  bcv_hard_1001          yes_direct      0.0000          0       0.000000   \n",
       "\n",
       "       pmid    unit_id chemical_id       disease_id findable  in_gold  \n",
       "1  15579441  765527869     D011692          D011507     True        0  \n",
       "1  15579441  765527870     D011692          D007674     True        0  \n",
       "0   3732088  765527879     D011188          D018879     True        0  \n",
       "1  11847945  765527969     D004177  D002779|D056486     True        0  \n",
       "0   2576810  765528870     D015283          D006948     True        0  "
      ]
     },
     "execution_count": 48,
     "metadata": {},
     "output_type": "execute_result"
    }
   ],
   "source": [
    "abs_res_pos_no.head()"
   ]
  },
  {
   "cell_type": "code",
   "execution_count": 49,
   "metadata": {
    "collapsed": true
   },
   "outputs": [],
   "source": [
    "abs_res_pos_no = abs_res_pos_no.rename(columns = {\"percent_agree\":\"norm_conf_score\"})"
   ]
  },
  {
   "cell_type": "code",
   "execution_count": 50,
   "metadata": {
    "collapsed": true
   },
   "outputs": [],
   "source": [
    "def get_data(dataframe, pmid):\n",
    "    \"\"\"\n",
    "    Grab data from the dataframe. Return empty otherwise.\n",
    "    \"\"\"\n",
    "    temp = dataframe.query(\"pmid == {0}\".format(pmid))\n",
    "    if temp.empty:\n",
    "        return \"empty\"\n",
    "    \n",
    "    return temp[[\"pmid\", \"chemical_id\", \"disease_id\", \"norm_conf_score\", \"num_votes\"]]\n",
    "\n",
    "def get_final_res(sent_res, abs_res, datamodel):\n",
    "    final_ans = []\n",
    "    for pmid in testset_pmids:\n",
    "        this_paper_rels = []\n",
    "        \n",
    "        # abstract relations\n",
    "        temp = get_data(abs_res, pmid)\n",
    "        if not isinstance(temp, str):\n",
    "            temp[\"rel_origin\"] = \"abstract_task\"\n",
    "            this_paper_rels.append(temp)\n",
    "            \n",
    "        # sentence relations\n",
    "        temp = get_data(sent_res, pmid)\n",
    "        if not isinstance(temp, str):\n",
    "            temp[\"rel_origin\"] = \"sentence_task\"\n",
    "            this_paper_rels.append(temp)\n",
    "            \n",
    "        things = defaultdict(list)\n",
    "        paper_cid_rels = datamodel[pmid].poss_relations[\"CID\"]\n",
    "        if paper_cid_rels: # not empty\n",
    "            for cid_relation in paper_cid_rels:\n",
    "                things[\"pmid\"].append(pmid)\n",
    "                things[\"chemical_id\"].append(flat_repr(cid_relation[0]))\n",
    "                things[\"disease_id\"].append(flat_repr(cid_relation[1]))\n",
    "                things[\"norm_conf_score\"].append(1)\n",
    "                things[\"num_votes\"].append(5)\n",
    "                things[\"rel_origin\"].append(\"cid_relation\")\n",
    "                \n",
    "            this_paper_rels.append(pd.DataFrame(things))\n",
    "            \n",
    "        if len(this_paper_rels) > 0:\n",
    "            # some papers have no detectable relations (eg, pmid 250)\n",
    "            final_ans.append(pd.concat(this_paper_rels))\n",
    "        \n",
    "    return pd.concat(final_ans)"
   ]
  },
  {
   "cell_type": "code",
   "execution_count": 51,
   "metadata": {
    "collapsed": false
   },
   "outputs": [],
   "source": [
    "final_results = get_final_res(sent_perf_no, abs_res_pos_no, gold_testset)"
   ]
  },
  {
   "cell_type": "code",
   "execution_count": 52,
   "metadata": {
    "collapsed": true
   },
   "outputs": [],
   "source": [
    "final_results[\"in_gold\"] = final_results.loc[:, [\"pmid\", \"chemical_id\", \"disease_id\"]].apply(in_gold, axis = 1)"
   ]
  },
  {
   "cell_type": "code",
   "execution_count": 53,
   "metadata": {
    "collapsed": false,
    "scrolled": false
   },
   "outputs": [
    {
     "data": {
      "text/html": [
       "<div>\n",
       "<table border=\"1\" class=\"dataframe\">\n",
       "  <thead>\n",
       "    <tr style=\"text-align: right;\">\n",
       "      <th></th>\n",
       "      <th>chemical_id</th>\n",
       "      <th>disease_id</th>\n",
       "      <th>norm_conf_score</th>\n",
       "      <th>num_votes</th>\n",
       "      <th>pmid</th>\n",
       "      <th>rel_origin</th>\n",
       "      <th>in_gold</th>\n",
       "    </tr>\n",
       "  </thead>\n",
       "  <tbody>\n",
       "    <tr>\n",
       "      <th>678</th>\n",
       "      <td>C071741</td>\n",
       "      <td>D010146</td>\n",
       "      <td>0.000000</td>\n",
       "      <td>0</td>\n",
       "      <td>18006530</td>\n",
       "      <td>sentence_task</td>\n",
       "      <td>0</td>\n",
       "    </tr>\n",
       "    <tr>\n",
       "      <th>679</th>\n",
       "      <td>D015742</td>\n",
       "      <td>D010146</td>\n",
       "      <td>0.809157</td>\n",
       "      <td>4</td>\n",
       "      <td>18006530</td>\n",
       "      <td>sentence_task</td>\n",
       "      <td>1</td>\n",
       "    </tr>\n",
       "    <tr>\n",
       "      <th>713</th>\n",
       "      <td>D011718</td>\n",
       "      <td>D000857</td>\n",
       "      <td>1.000000</td>\n",
       "      <td>5</td>\n",
       "      <td>19674115</td>\n",
       "      <td>sentence_task</td>\n",
       "      <td>1</td>\n",
       "    </tr>\n",
       "    <tr>\n",
       "      <th>714</th>\n",
       "      <td>D011718</td>\n",
       "      <td>D033461</td>\n",
       "      <td>1.000000</td>\n",
       "      <td>5</td>\n",
       "      <td>19674115</td>\n",
       "      <td>sentence_task</td>\n",
       "      <td>0</td>\n",
       "    </tr>\n",
       "    <tr>\n",
       "      <th>715</th>\n",
       "      <td>D011718</td>\n",
       "      <td>D056486</td>\n",
       "      <td>1.000000</td>\n",
       "      <td>5</td>\n",
       "      <td>19674115</td>\n",
       "      <td>sentence_task</td>\n",
       "      <td>0</td>\n",
       "    </tr>\n",
       "    <tr>\n",
       "      <th>0</th>\n",
       "      <td>D011188</td>\n",
       "      <td>D016171</td>\n",
       "      <td>0.000000</td>\n",
       "      <td>0</td>\n",
       "      <td>11302406</td>\n",
       "      <td>abstract_task</td>\n",
       "      <td>0</td>\n",
       "    </tr>\n",
       "    <tr>\n",
       "      <th>0</th>\n",
       "      <td>D011188</td>\n",
       "      <td>D001145</td>\n",
       "      <td>0.000000</td>\n",
       "      <td>0</td>\n",
       "      <td>11302406</td>\n",
       "      <td>abstract_task</td>\n",
       "      <td>0</td>\n",
       "    </tr>\n",
       "    <tr>\n",
       "      <th>0</th>\n",
       "      <td>D015725</td>\n",
       "      <td>D003866</td>\n",
       "      <td>0.000000</td>\n",
       "      <td>0</td>\n",
       "      <td>11302406</td>\n",
       "      <td>abstract_task</td>\n",
       "      <td>0</td>\n",
       "    </tr>\n",
       "    <tr>\n",
       "      <th>0</th>\n",
       "      <td>D011188</td>\n",
       "      <td>D003324</td>\n",
       "      <td>0.000000</td>\n",
       "      <td>0</td>\n",
       "      <td>11302406</td>\n",
       "      <td>abstract_task</td>\n",
       "      <td>0</td>\n",
       "    </tr>\n",
       "    <tr>\n",
       "      <th>0</th>\n",
       "      <td>D011188</td>\n",
       "      <td>D009202</td>\n",
       "      <td>0.000000</td>\n",
       "      <td>0</td>\n",
       "      <td>11302406</td>\n",
       "      <td>abstract_task</td>\n",
       "      <td>0</td>\n",
       "    </tr>\n",
       "    <tr>\n",
       "      <th>496</th>\n",
       "      <td>D011188</td>\n",
       "      <td>D003866</td>\n",
       "      <td>0.176479</td>\n",
       "      <td>1</td>\n",
       "      <td>11302406</td>\n",
       "      <td>sentence_task</td>\n",
       "      <td>0</td>\n",
       "    </tr>\n",
       "    <tr>\n",
       "      <th>497</th>\n",
       "      <td>D015725</td>\n",
       "      <td>D001145</td>\n",
       "      <td>0.186996</td>\n",
       "      <td>1</td>\n",
       "      <td>11302406</td>\n",
       "      <td>sentence_task</td>\n",
       "      <td>0</td>\n",
       "    </tr>\n",
       "    <tr>\n",
       "      <th>498</th>\n",
       "      <td>D015725</td>\n",
       "      <td>D006333</td>\n",
       "      <td>0.000000</td>\n",
       "      <td>0</td>\n",
       "      <td>11302406</td>\n",
       "      <td>sentence_task</td>\n",
       "      <td>0</td>\n",
       "    </tr>\n",
       "    <tr>\n",
       "      <th>499</th>\n",
       "      <td>D015725</td>\n",
       "      <td>D008133</td>\n",
       "      <td>0.798707</td>\n",
       "      <td>4</td>\n",
       "      <td>11302406</td>\n",
       "      <td>sentence_task</td>\n",
       "      <td>0</td>\n",
       "    </tr>\n",
       "    <tr>\n",
       "      <th>500</th>\n",
       "      <td>D015725</td>\n",
       "      <td>D009202</td>\n",
       "      <td>0.188789</td>\n",
       "      <td>1</td>\n",
       "      <td>11302406</td>\n",
       "      <td>sentence_task</td>\n",
       "      <td>0</td>\n",
       "    </tr>\n",
       "    <tr>\n",
       "      <th>501</th>\n",
       "      <td>D015725</td>\n",
       "      <td>D017180</td>\n",
       "      <td>0.512036</td>\n",
       "      <td>2</td>\n",
       "      <td>11302406</td>\n",
       "      <td>sentence_task</td>\n",
       "      <td>0</td>\n",
       "    </tr>\n",
       "    <tr>\n",
       "      <th>502</th>\n",
       "      <td>D015725</td>\n",
       "      <td>D018879</td>\n",
       "      <td>0.622214</td>\n",
       "      <td>3</td>\n",
       "      <td>11302406</td>\n",
       "      <td>sentence_task</td>\n",
       "      <td>0</td>\n",
       "    </tr>\n",
       "    <tr>\n",
       "      <th>0</th>\n",
       "      <td>MESH:D015725</td>\n",
       "      <td>MESH:D016171</td>\n",
       "      <td>1.000000</td>\n",
       "      <td>5</td>\n",
       "      <td>11302406</td>\n",
       "      <td>cid_relation</td>\n",
       "      <td>1</td>\n",
       "    </tr>\n",
       "    <tr>\n",
       "      <th>35</th>\n",
       "      <td>D013390</td>\n",
       "      <td>D001049</td>\n",
       "      <td>0.805968</td>\n",
       "      <td>4</td>\n",
       "      <td>871943</td>\n",
       "      <td>sentence_task</td>\n",
       "      <td>1</td>\n",
       "    </tr>\n",
       "    <tr>\n",
       "      <th>246</th>\n",
       "      <td>D006493</td>\n",
       "      <td>D001791</td>\n",
       "      <td>0.405851</td>\n",
       "      <td>2</td>\n",
       "      <td>6615052</td>\n",
       "      <td>sentence_task</td>\n",
       "      <td>0</td>\n",
       "    </tr>\n",
       "    <tr>\n",
       "      <th>247</th>\n",
       "      <td>D006493</td>\n",
       "      <td>D006470</td>\n",
       "      <td>1.000000</td>\n",
       "      <td>4</td>\n",
       "      <td>6615052</td>\n",
       "      <td>sentence_task</td>\n",
       "      <td>1</td>\n",
       "    </tr>\n",
       "    <tr>\n",
       "      <th>248</th>\n",
       "      <td>D006493</td>\n",
       "      <td>D013923</td>\n",
       "      <td>0.578195</td>\n",
       "      <td>3</td>\n",
       "      <td>6615052</td>\n",
       "      <td>sentence_task</td>\n",
       "      <td>1</td>\n",
       "    </tr>\n",
       "    <tr>\n",
       "      <th>249</th>\n",
       "      <td>D006493</td>\n",
       "      <td>D013927</td>\n",
       "      <td>0.402984</td>\n",
       "      <td>2</td>\n",
       "      <td>6615052</td>\n",
       "      <td>sentence_task</td>\n",
       "      <td>0</td>\n",
       "    </tr>\n",
       "    <tr>\n",
       "      <th>0</th>\n",
       "      <td>MESH:D006493</td>\n",
       "      <td>MESH:D013921</td>\n",
       "      <td>1.000000</td>\n",
       "      <td>5</td>\n",
       "      <td>6615052</td>\n",
       "      <td>cid_relation</td>\n",
       "      <td>1</td>\n",
       "    </tr>\n",
       "    <tr>\n",
       "      <th>514</th>\n",
       "      <td>C018370</td>\n",
       "      <td>D000647</td>\n",
       "      <td>0.000000</td>\n",
       "      <td>0</td>\n",
       "      <td>11860495</td>\n",
       "      <td>sentence_task</td>\n",
       "      <td>0</td>\n",
       "    </tr>\n",
       "    <tr>\n",
       "      <th>515</th>\n",
       "      <td>D005680</td>\n",
       "      <td>D000647</td>\n",
       "      <td>0.601449</td>\n",
       "      <td>3</td>\n",
       "      <td>11860495</td>\n",
       "      <td>sentence_task</td>\n",
       "      <td>0</td>\n",
       "    </tr>\n",
       "    <tr>\n",
       "      <th>516</th>\n",
       "      <td>D013256</td>\n",
       "      <td>D000647</td>\n",
       "      <td>0.203830</td>\n",
       "      <td>1</td>\n",
       "      <td>11860495</td>\n",
       "      <td>sentence_task</td>\n",
       "      <td>0</td>\n",
       "    </tr>\n",
       "    <tr>\n",
       "      <th>0</th>\n",
       "      <td>MESH:D012601</td>\n",
       "      <td>MESH:D000647</td>\n",
       "      <td>1.000000</td>\n",
       "      <td>5</td>\n",
       "      <td>11860495</td>\n",
       "      <td>cid_relation</td>\n",
       "      <td>1</td>\n",
       "    </tr>\n",
       "    <tr>\n",
       "      <th>0</th>\n",
       "      <td>D012701</td>\n",
       "      <td>D002389</td>\n",
       "      <td>0.000000</td>\n",
       "      <td>0</td>\n",
       "      <td>6540303</td>\n",
       "      <td>abstract_task</td>\n",
       "      <td>1</td>\n",
       "    </tr>\n",
       "    <tr>\n",
       "      <th>0</th>\n",
       "      <td>C006389</td>\n",
       "      <td>D002389</td>\n",
       "      <td>0.000000</td>\n",
       "      <td>0</td>\n",
       "      <td>6540303</td>\n",
       "      <td>abstract_task</td>\n",
       "      <td>0</td>\n",
       "    </tr>\n",
       "    <tr>\n",
       "      <th>...</th>\n",
       "      <td>...</td>\n",
       "      <td>...</td>\n",
       "      <td>...</td>\n",
       "      <td>...</td>\n",
       "      <td>...</td>\n",
       "      <td>...</td>\n",
       "      <td>...</td>\n",
       "    </tr>\n",
       "    <tr>\n",
       "      <th>599</th>\n",
       "      <td>D005047</td>\n",
       "      <td>D006402</td>\n",
       "      <td>0.269079</td>\n",
       "      <td>1</td>\n",
       "      <td>15897593</td>\n",
       "      <td>sentence_task</td>\n",
       "      <td>1</td>\n",
       "    </tr>\n",
       "    <tr>\n",
       "      <th>600</th>\n",
       "      <td>D005047</td>\n",
       "      <td>D064420</td>\n",
       "      <td>0.000000</td>\n",
       "      <td>0</td>\n",
       "      <td>15897593</td>\n",
       "      <td>sentence_task</td>\n",
       "      <td>0</td>\n",
       "    </tr>\n",
       "    <tr>\n",
       "      <th>601</th>\n",
       "      <td>D005047</td>\n",
       "      <td>D066126</td>\n",
       "      <td>0.594205</td>\n",
       "      <td>3</td>\n",
       "      <td>15897593</td>\n",
       "      <td>sentence_task</td>\n",
       "      <td>0</td>\n",
       "    </tr>\n",
       "    <tr>\n",
       "      <th>602</th>\n",
       "      <td>D011034</td>\n",
       "      <td>D066126</td>\n",
       "      <td>0.786770</td>\n",
       "      <td>4</td>\n",
       "      <td>15897593</td>\n",
       "      <td>sentence_task</td>\n",
       "      <td>0</td>\n",
       "    </tr>\n",
       "    <tr>\n",
       "      <th>603</th>\n",
       "      <td>D018943</td>\n",
       "      <td>D001855</td>\n",
       "      <td>0.812649</td>\n",
       "      <td>4</td>\n",
       "      <td>15897593</td>\n",
       "      <td>sentence_task</td>\n",
       "      <td>0</td>\n",
       "    </tr>\n",
       "    <tr>\n",
       "      <th>604</th>\n",
       "      <td>D064730</td>\n",
       "      <td>D001855</td>\n",
       "      <td>0.201293</td>\n",
       "      <td>1</td>\n",
       "      <td>15897593</td>\n",
       "      <td>sentence_task</td>\n",
       "      <td>0</td>\n",
       "    </tr>\n",
       "    <tr>\n",
       "      <th>605</th>\n",
       "      <td>D064730</td>\n",
       "      <td>D006402</td>\n",
       "      <td>1.000000</td>\n",
       "      <td>5</td>\n",
       "      <td>15897593</td>\n",
       "      <td>sentence_task</td>\n",
       "      <td>0</td>\n",
       "    </tr>\n",
       "    <tr>\n",
       "      <th>606</th>\n",
       "      <td>D064730</td>\n",
       "      <td>D009362</td>\n",
       "      <td>0.000000</td>\n",
       "      <td>0</td>\n",
       "      <td>15897593</td>\n",
       "      <td>sentence_task</td>\n",
       "      <td>0</td>\n",
       "    </tr>\n",
       "    <tr>\n",
       "      <th>607</th>\n",
       "      <td>D064730</td>\n",
       "      <td>D015431</td>\n",
       "      <td>0.000000</td>\n",
       "      <td>0</td>\n",
       "      <td>15897593</td>\n",
       "      <td>sentence_task</td>\n",
       "      <td>0</td>\n",
       "    </tr>\n",
       "    <tr>\n",
       "      <th>608</th>\n",
       "      <td>D064730</td>\n",
       "      <td>D064420</td>\n",
       "      <td>0.000000</td>\n",
       "      <td>0</td>\n",
       "      <td>15897593</td>\n",
       "      <td>sentence_task</td>\n",
       "      <td>0</td>\n",
       "    </tr>\n",
       "    <tr>\n",
       "      <th>609</th>\n",
       "      <td>D064730</td>\n",
       "      <td>D066126</td>\n",
       "      <td>0.378976</td>\n",
       "      <td>2</td>\n",
       "      <td>15897593</td>\n",
       "      <td>sentence_task</td>\n",
       "      <td>0</td>\n",
       "    </tr>\n",
       "    <tr>\n",
       "      <th>0</th>\n",
       "      <td>MESH:D018943</td>\n",
       "      <td>MESH:D066126</td>\n",
       "      <td>1.000000</td>\n",
       "      <td>5</td>\n",
       "      <td>15897593</td>\n",
       "      <td>cid_relation</td>\n",
       "      <td>0</td>\n",
       "    </tr>\n",
       "    <tr>\n",
       "      <th>0</th>\n",
       "      <td>D016291</td>\n",
       "      <td>D020760</td>\n",
       "      <td>0.000000</td>\n",
       "      <td>0</td>\n",
       "      <td>15673851</td>\n",
       "      <td>abstract_task</td>\n",
       "      <td>0</td>\n",
       "    </tr>\n",
       "    <tr>\n",
       "      <th>0</th>\n",
       "      <td>D009020</td>\n",
       "      <td>D020258</td>\n",
       "      <td>0.000000</td>\n",
       "      <td>0</td>\n",
       "      <td>15673851</td>\n",
       "      <td>abstract_task</td>\n",
       "      <td>0</td>\n",
       "    </tr>\n",
       "    <tr>\n",
       "      <th>1</th>\n",
       "      <td>D018698</td>\n",
       "      <td>D020258</td>\n",
       "      <td>0.192559</td>\n",
       "      <td>1</td>\n",
       "      <td>15673851</td>\n",
       "      <td>abstract_task</td>\n",
       "      <td>0</td>\n",
       "    </tr>\n",
       "    <tr>\n",
       "      <th>0</th>\n",
       "      <td>D018698</td>\n",
       "      <td>D001157</td>\n",
       "      <td>0.000000</td>\n",
       "      <td>0</td>\n",
       "      <td>15673851</td>\n",
       "      <td>abstract_task</td>\n",
       "      <td>0</td>\n",
       "    </tr>\n",
       "    <tr>\n",
       "      <th>0</th>\n",
       "      <td>D018698</td>\n",
       "      <td>D020760</td>\n",
       "      <td>0.000000</td>\n",
       "      <td>0</td>\n",
       "      <td>15673851</td>\n",
       "      <td>abstract_task</td>\n",
       "      <td>0</td>\n",
       "    </tr>\n",
       "    <tr>\n",
       "      <th>1</th>\n",
       "      <td>D016291</td>\n",
       "      <td>D020258</td>\n",
       "      <td>0.183088</td>\n",
       "      <td>1</td>\n",
       "      <td>15673851</td>\n",
       "      <td>abstract_task</td>\n",
       "      <td>0</td>\n",
       "    </tr>\n",
       "    <tr>\n",
       "      <th>0</th>\n",
       "      <td>D016291</td>\n",
       "      <td>D001157</td>\n",
       "      <td>0.000000</td>\n",
       "      <td>0</td>\n",
       "      <td>15673851</td>\n",
       "      <td>abstract_task</td>\n",
       "      <td>0</td>\n",
       "    </tr>\n",
       "    <tr>\n",
       "      <th>580</th>\n",
       "      <td>D009020</td>\n",
       "      <td>D001157</td>\n",
       "      <td>0.364967</td>\n",
       "      <td>2</td>\n",
       "      <td>15673851</td>\n",
       "      <td>sentence_task</td>\n",
       "      <td>0</td>\n",
       "    </tr>\n",
       "    <tr>\n",
       "      <th>581</th>\n",
       "      <td>D009020</td>\n",
       "      <td>D020760</td>\n",
       "      <td>0.244594</td>\n",
       "      <td>1</td>\n",
       "      <td>15673851</td>\n",
       "      <td>sentence_task</td>\n",
       "      <td>0</td>\n",
       "    </tr>\n",
       "    <tr>\n",
       "      <th>582</th>\n",
       "      <td>D016202</td>\n",
       "      <td>D001157</td>\n",
       "      <td>0.178575</td>\n",
       "      <td>1</td>\n",
       "      <td>15673851</td>\n",
       "      <td>sentence_task</td>\n",
       "      <td>0</td>\n",
       "    </tr>\n",
       "    <tr>\n",
       "      <th>583</th>\n",
       "      <td>D016202</td>\n",
       "      <td>D020258</td>\n",
       "      <td>0.192855</td>\n",
       "      <td>1</td>\n",
       "      <td>15673851</td>\n",
       "      <td>sentence_task</td>\n",
       "      <td>0</td>\n",
       "    </tr>\n",
       "    <tr>\n",
       "      <th>584</th>\n",
       "      <td>D016291</td>\n",
       "      <td>D020336</td>\n",
       "      <td>0.189398</td>\n",
       "      <td>1</td>\n",
       "      <td>15673851</td>\n",
       "      <td>sentence_task</td>\n",
       "      <td>0</td>\n",
       "    </tr>\n",
       "    <tr>\n",
       "      <th>585</th>\n",
       "      <td>D018698</td>\n",
       "      <td>D020336</td>\n",
       "      <td>0.000000</td>\n",
       "      <td>0</td>\n",
       "      <td>15673851</td>\n",
       "      <td>sentence_task</td>\n",
       "      <td>0</td>\n",
       "    </tr>\n",
       "    <tr>\n",
       "      <th>0</th>\n",
       "      <td>MESH:D009020</td>\n",
       "      <td>MESH:D020336</td>\n",
       "      <td>1.000000</td>\n",
       "      <td>5</td>\n",
       "      <td>15673851</td>\n",
       "      <td>cid_relation</td>\n",
       "      <td>1</td>\n",
       "    </tr>\n",
       "    <tr>\n",
       "      <th>1</th>\n",
       "      <td>D003520</td>\n",
       "      <td>D002277</td>\n",
       "      <td>0.687097</td>\n",
       "      <td>2</td>\n",
       "      <td>8911359</td>\n",
       "      <td>abstract_task</td>\n",
       "      <td>0</td>\n",
       "    </tr>\n",
       "    <tr>\n",
       "      <th>0</th>\n",
       "      <td>D003520</td>\n",
       "      <td>D009369</td>\n",
       "      <td>1.000000</td>\n",
       "      <td>3</td>\n",
       "      <td>8911359</td>\n",
       "      <td>abstract_task</td>\n",
       "      <td>0</td>\n",
       "    </tr>\n",
       "    <tr>\n",
       "      <th>366</th>\n",
       "      <td>D003520</td>\n",
       "      <td>D001749</td>\n",
       "      <td>0.793707</td>\n",
       "      <td>4</td>\n",
       "      <td>8911359</td>\n",
       "      <td>sentence_task</td>\n",
       "      <td>1</td>\n",
       "    </tr>\n",
       "    <tr>\n",
       "      <th>367</th>\n",
       "      <td>D003520</td>\n",
       "      <td>D014523</td>\n",
       "      <td>0.813612</td>\n",
       "      <td>4</td>\n",
       "      <td>8911359</td>\n",
       "      <td>sentence_task</td>\n",
       "      <td>0</td>\n",
       "    </tr>\n",
       "  </tbody>\n",
       "</table>\n",
       "<p>1658 rows × 7 columns</p>\n",
       "</div>"
      ],
      "text/plain": [
       "      chemical_id    disease_id  norm_conf_score  num_votes      pmid  \\\n",
       "678       C071741       D010146         0.000000          0  18006530   \n",
       "679       D015742       D010146         0.809157          4  18006530   \n",
       "713       D011718       D000857         1.000000          5  19674115   \n",
       "714       D011718       D033461         1.000000          5  19674115   \n",
       "715       D011718       D056486         1.000000          5  19674115   \n",
       "0         D011188       D016171         0.000000          0  11302406   \n",
       "0         D011188       D001145         0.000000          0  11302406   \n",
       "0         D015725       D003866         0.000000          0  11302406   \n",
       "0         D011188       D003324         0.000000          0  11302406   \n",
       "0         D011188       D009202         0.000000          0  11302406   \n",
       "496       D011188       D003866         0.176479          1  11302406   \n",
       "497       D015725       D001145         0.186996          1  11302406   \n",
       "498       D015725       D006333         0.000000          0  11302406   \n",
       "499       D015725       D008133         0.798707          4  11302406   \n",
       "500       D015725       D009202         0.188789          1  11302406   \n",
       "501       D015725       D017180         0.512036          2  11302406   \n",
       "502       D015725       D018879         0.622214          3  11302406   \n",
       "0    MESH:D015725  MESH:D016171         1.000000          5  11302406   \n",
       "35        D013390       D001049         0.805968          4    871943   \n",
       "246       D006493       D001791         0.405851          2   6615052   \n",
       "247       D006493       D006470         1.000000          4   6615052   \n",
       "248       D006493       D013923         0.578195          3   6615052   \n",
       "249       D006493       D013927         0.402984          2   6615052   \n",
       "0    MESH:D006493  MESH:D013921         1.000000          5   6615052   \n",
       "514       C018370       D000647         0.000000          0  11860495   \n",
       "515       D005680       D000647         0.601449          3  11860495   \n",
       "516       D013256       D000647         0.203830          1  11860495   \n",
       "0    MESH:D012601  MESH:D000647         1.000000          5  11860495   \n",
       "0         D012701       D002389         0.000000          0   6540303   \n",
       "0         C006389       D002389         0.000000          0   6540303   \n",
       "..            ...           ...              ...        ...       ...   \n",
       "599       D005047       D006402         0.269079          1  15897593   \n",
       "600       D005047       D064420         0.000000          0  15897593   \n",
       "601       D005047       D066126         0.594205          3  15897593   \n",
       "602       D011034       D066126         0.786770          4  15897593   \n",
       "603       D018943       D001855         0.812649          4  15897593   \n",
       "604       D064730       D001855         0.201293          1  15897593   \n",
       "605       D064730       D006402         1.000000          5  15897593   \n",
       "606       D064730       D009362         0.000000          0  15897593   \n",
       "607       D064730       D015431         0.000000          0  15897593   \n",
       "608       D064730       D064420         0.000000          0  15897593   \n",
       "609       D064730       D066126         0.378976          2  15897593   \n",
       "0    MESH:D018943  MESH:D066126         1.000000          5  15897593   \n",
       "0         D016291       D020760         0.000000          0  15673851   \n",
       "0         D009020       D020258         0.000000          0  15673851   \n",
       "1         D018698       D020258         0.192559          1  15673851   \n",
       "0         D018698       D001157         0.000000          0  15673851   \n",
       "0         D018698       D020760         0.000000          0  15673851   \n",
       "1         D016291       D020258         0.183088          1  15673851   \n",
       "0         D016291       D001157         0.000000          0  15673851   \n",
       "580       D009020       D001157         0.364967          2  15673851   \n",
       "581       D009020       D020760         0.244594          1  15673851   \n",
       "582       D016202       D001157         0.178575          1  15673851   \n",
       "583       D016202       D020258         0.192855          1  15673851   \n",
       "584       D016291       D020336         0.189398          1  15673851   \n",
       "585       D018698       D020336         0.000000          0  15673851   \n",
       "0    MESH:D009020  MESH:D020336         1.000000          5  15673851   \n",
       "1         D003520       D002277         0.687097          2   8911359   \n",
       "0         D003520       D009369         1.000000          3   8911359   \n",
       "366       D003520       D001749         0.793707          4   8911359   \n",
       "367       D003520       D014523         0.813612          4   8911359   \n",
       "\n",
       "        rel_origin  in_gold  \n",
       "678  sentence_task        0  \n",
       "679  sentence_task        1  \n",
       "713  sentence_task        1  \n",
       "714  sentence_task        0  \n",
       "715  sentence_task        0  \n",
       "0    abstract_task        0  \n",
       "0    abstract_task        0  \n",
       "0    abstract_task        0  \n",
       "0    abstract_task        0  \n",
       "0    abstract_task        0  \n",
       "496  sentence_task        0  \n",
       "497  sentence_task        0  \n",
       "498  sentence_task        0  \n",
       "499  sentence_task        0  \n",
       "500  sentence_task        0  \n",
       "501  sentence_task        0  \n",
       "502  sentence_task        0  \n",
       "0     cid_relation        1  \n",
       "35   sentence_task        1  \n",
       "246  sentence_task        0  \n",
       "247  sentence_task        1  \n",
       "248  sentence_task        1  \n",
       "249  sentence_task        0  \n",
       "0     cid_relation        1  \n",
       "514  sentence_task        0  \n",
       "515  sentence_task        0  \n",
       "516  sentence_task        0  \n",
       "0     cid_relation        1  \n",
       "0    abstract_task        1  \n",
       "0    abstract_task        0  \n",
       "..             ...      ...  \n",
       "599  sentence_task        1  \n",
       "600  sentence_task        0  \n",
       "601  sentence_task        0  \n",
       "602  sentence_task        0  \n",
       "603  sentence_task        0  \n",
       "604  sentence_task        0  \n",
       "605  sentence_task        0  \n",
       "606  sentence_task        0  \n",
       "607  sentence_task        0  \n",
       "608  sentence_task        0  \n",
       "609  sentence_task        0  \n",
       "0     cid_relation        0  \n",
       "0    abstract_task        0  \n",
       "0    abstract_task        0  \n",
       "1    abstract_task        0  \n",
       "0    abstract_task        0  \n",
       "0    abstract_task        0  \n",
       "1    abstract_task        0  \n",
       "0    abstract_task        0  \n",
       "580  sentence_task        0  \n",
       "581  sentence_task        0  \n",
       "582  sentence_task        0  \n",
       "583  sentence_task        0  \n",
       "584  sentence_task        0  \n",
       "585  sentence_task        0  \n",
       "0     cid_relation        1  \n",
       "1    abstract_task        0  \n",
       "0    abstract_task        0  \n",
       "366  sentence_task        1  \n",
       "367  sentence_task        0  \n",
       "\n",
       "[1658 rows x 7 columns]"
      ]
     },
     "execution_count": 53,
     "metadata": {},
     "output_type": "execute_result"
    }
   ],
   "source": [
    "final_results"
   ]
  },
  {
   "cell_type": "markdown",
   "metadata": {},
   "source": [
    "---"
   ]
  },
  {
   "cell_type": "markdown",
   "metadata": {},
   "source": [
    "### Results:"
   ]
  },
  {
   "cell_type": "code",
   "execution_count": 54,
   "metadata": {
    "collapsed": false,
    "scrolled": true
   },
   "outputs": [
    {
     "data": {
      "text/plain": [
       "F_score      0.649057\n",
       "precision    0.579775\n",
       "recall       0.737143\n",
       "threshold    0.655322\n",
       "Name: 323, dtype: float64"
      ]
     },
     "execution_count": 54,
     "metadata": {},
     "output_type": "execute_result"
    }
   ],
   "source": [
    "max_F_score(\"norm_conf_score\", \"in_gold\", final_results)"
   ]
  },
  {
   "cell_type": "code",
   "execution_count": 55,
   "metadata": {
    "collapsed": false
   },
   "outputs": [
    {
     "data": {
      "text/plain": [
       "F_score      0.633288\n",
       "precision    0.601542\n",
       "recall       0.668571\n",
       "threshold    4.000000\n",
       "Name: 1, dtype: float64"
      ]
     },
     "execution_count": 55,
     "metadata": {},
     "output_type": "execute_result"
    }
   ],
   "source": [
    "max_F_score(\"num_votes\", \"in_gold\", final_results)"
   ]
  },
  {
   "cell_type": "code",
   "execution_count": 56,
   "metadata": {
    "collapsed": false
   },
   "outputs": [
    {
     "data": {
      "text/plain": [
       "0.8530122324159009"
      ]
     },
     "execution_count": 56,
     "metadata": {},
     "output_type": "execute_result"
    }
   ],
   "source": [
    "fname = \"data/roc/dev_set_200_abstracts_total_res.png\"\n",
    "title = \"ROC for 200 development set abstracts with indirect votes meaning no, norm_conf_score\"\n",
    "get_AUC_value(final_results, \"norm_conf_score\", \"in_gold\", fname, title)"
   ]
  },
  {
   "cell_type": "code",
   "execution_count": 57,
   "metadata": {
    "collapsed": false
   },
   "outputs": [
    {
     "data": {
      "image/png": "[encoded data removed]",
      "text/plain": [
       "<IPython.core.display.Image object>"
      ]
     },
     "execution_count": 57,
     "metadata": {},
     "output_type": "execute_result"
    }
   ],
   "source": [
    "Image(fname)"
   ]
  },
  {
   "cell_type": "code",
   "execution_count": 58,
   "metadata": {
    "collapsed": false
   },
   "outputs": [
    {
     "data": {
      "text/plain": [
       "0.8518031891655744"
      ]
     },
     "execution_count": 58,
     "metadata": {},
     "output_type": "execute_result"
    }
   ],
   "source": [
    "fname = \"data/roc/dev_set_200_abstracts_total_res.png\"\n",
    "title = \"ROC for 200 development set abstracts with indirect votes meaning no, num_votes\"\n",
    "get_AUC_value(final_results, \"num_votes\", \"in_gold\", fname, title)"
   ]
  },
  {
   "cell_type": "code",
   "execution_count": 59,
   "metadata": {
    "collapsed": false
   },
   "outputs": [
    {
     "data": {
      "image/png": "[encoded data removed]",
      "text/plain": [
       "<IPython.core.display.Image object>"
      ]
     },
     "execution_count": 59,
     "metadata": {},
     "output_type": "execute_result"
    }
   ],
   "source": [
    "Image(fname)"
   ]
  },
  {
   "cell_type": "markdown",
   "metadata": {},
   "source": [
    "### Performance without NER, using our own evaluation method"
   ]
  },
  {
   "cell_type": "code",
   "execution_count": 60,
   "metadata": {
    "collapsed": true
   },
   "outputs": [],
   "source": [
    "def plot_results(score_column, class_column, dataframe):\n",
    "    res = all_F_scores(score_column, class_column, dataframe)\n",
    "    res = res.sort(\"threshold\")\n",
    "    \n",
    "    graph = res.plot(x = \"threshold\", figsize = (7, 7))\n",
    "    graph.set_ylim((0, 1.1))"
   ]
  },
  {
   "cell_type": "code",
   "execution_count": 61,
   "metadata": {
    "collapsed": false
   },
   "outputs": [
    {
     "data": {
      "image/png": "[encoded data removed]",
      "text/plain": [
       "<matplotlib.figure.Figure at 0x7f6d147abfd0>"
      ]
     },
     "metadata": {},
     "output_type": "display_data"
    }
   ],
   "source": [
    "plot_results(\"norm_conf_score\", \"in_gold\", final_results)"
   ]
  },
  {
   "cell_type": "code",
   "execution_count": 62,
   "metadata": {
    "collapsed": false
   },
   "outputs": [
    {
     "data": {
      "image/png": "[encoded data removed]",
      "text/plain": [
       "<matplotlib.figure.Figure at 0x7f6d1228f1d0>"
      ]
     },
     "metadata": {},
     "output_type": "display_data"
    }
   ],
   "source": [
    "plot_results(\"num_votes\", \"in_gold\", final_results)"
   ]
  },
  {
   "cell_type": "markdown",
   "metadata": {
    "collapsed": true
   },
   "source": [
    "---"
   ]
  },
  {
   "cell_type": "markdown",
   "metadata": {},
   "source": [
    "### Evaluate using the official method:\n",
    "\n",
    "Specifically, we define the following:\n",
    "\n",
    "- A data point consists of a 3-tuple containing a document ID, a chemical concept ID and a disease concept ID.\n",
    "- The set A consists of the set of annotated data points for the evaluation corpus.\n",
    "- The set P consists of the set of data points predicted by the system for the evaluation corpus.\n",
    "- Then the number of true positives (tp), false positives (fp), and false negatives (fn) are:\n",
    "\n",
    "- tp=|A∩P|\n",
    "- fp=|P-A|\n",
    "- fn=|A-P|\n",
    "\n",
    "The precision (p), recall (r) and f-score (f) are calculated using the typical definitions:\n",
    "\n",
    "- p=tp/(tp+fp)\n",
    "- r=tp/(tp+fn)\n",
    "- f=(2∙p∙r)/(p+r)"
   ]
  },
  {
   "cell_type": "code",
   "execution_count": 63,
   "metadata": {
    "collapsed": false
   },
   "outputs": [],
   "source": [
    "def simple_repr(id_set):\n",
    "    assert len(id_set) == 1\n",
    "    temp = sorted(list(id_set))\n",
    "    return \"|\".join(temp)\n",
    "\n",
    "gold_relations = set()\n",
    "for pmid, paper in gold_testset.items():\n",
    "    for rel in paper.gold_relations:\n",
    "        rep = \"{0}#{1}+{2}\".format(pmid, simple_repr(rel.chemical_id), simple_repr(rel.disease_id))\n",
    "        gold_relations |= set([rep])"
   ]
  },
  {
   "cell_type": "code",
   "execution_count": 64,
   "metadata": {
    "collapsed": false
   },
   "outputs": [
    {
     "data": {
      "text/plain": [
       "{'10074612#MESH:D008775+MESH:D001919',\n",
       " '10074612#MESH:D008775+MESH:D006323',\n",
       " '10074612#MESH:D008775+MESH:D007022',\n",
       " '10193809#MESH:D011692+MESH:D011507',\n",
       " '10225068#MESH:D008012+MESH:D011128',\n",
       " '10354657#MESH:D008094+MESH:D007037',\n",
       " '10411803#MESH:D015313+MESH:D000743',\n",
       " '10414674#MESH:D007660+MESH:D001791',\n",
       " '10414674#MESH:D007660+MESH:D006406',\n",
       " '10524660#MESH:D005996+MESH:D020326',\n",
       " '10524660#MESH:D009569+MESH:D020326',\n",
       " '10539815#MESH:D004232+MESH:D051437',\n",
       " '10539815#MESH:D004656+MESH:D051437',\n",
       " '10565806#MESH:C076029+MESH:D001714',\n",
       " '10692744#MESH:D000086+MESH:D005862',\n",
       " '10840460#MESH:D000171+MESH:D010146',\n",
       " '10840460#MESH:D003520+MESH:D003556',\n",
       " '10840460#MESH:D003520+MESH:D010146',\n",
       " '11009181#MESH:D007980+MESH:D004409',\n",
       " '11063349#MESH:D016559+MESH:D007674',\n",
       " '11063349#MESH:D016572+MESH:D007674',\n",
       " '11079278#MESH:D004280+MESH:D017202',\n",
       " '11185967#MESH:C005618+MESH:D012640',\n",
       " '11195262#MESH:D014635+MESH:D007177',\n",
       " '11208990#MESH:D004317+MESH:D009404',\n",
       " '11208990#MESH:D004317+MESH:D011507',\n",
       " '11230490#MESH:D003520+MESH:D006333',\n",
       " '11230490#MESH:D003520+MESH:D009503',\n",
       " '11230490#MESH:D004317+MESH:D006333',\n",
       " '11230490#MESH:D004317+MESH:D009503',\n",
       " '11302406#MESH:D015725+MESH:D016171',\n",
       " '11337188#MESH:D000305+MESH:D018366',\n",
       " '11337188#MESH:D000305+MESH:D051437',\n",
       " '11337188#MESH:D010068+MESH:D018366',\n",
       " '11337188#MESH:D010068+MESH:D051437',\n",
       " '11694026#MESH:C012655+MESH:D000799',\n",
       " '11694026#MESH:D000082+MESH:D000799',\n",
       " '11694026#MESH:D000894+MESH:D000799',\n",
       " '11705128#MESH:D012254+MESH:D000743',\n",
       " '11705128#MESH:D016898+MESH:D000743',\n",
       " '11847945#MESH:D007530+MESH:D002779',\n",
       " '11847945#MESH:D007530+MESH:D056486',\n",
       " '11860495#MESH:D012601+MESH:D000647',\n",
       " '12013711#MESH:D018967+MESH:D010468',\n",
       " '12091028#MESH:D007649+MESH:D006212',\n",
       " '12093990#MESH:C059262+MESH:D009503',\n",
       " '12093990#MESH:C059262+MESH:D058186',\n",
       " '12231232#MESH:D006220+MESH:D009127',\n",
       " '12448656#MESH:D013792+MESH:D003248',\n",
       " '12448656#MESH:D013792+MESH:D006970',\n",
       " '1255900#MESH:D006493+MESH:D011702',\n",
       " '12600698#MESH:D013307+MESH:D015837',\n",
       " '12691807#MESH:D007980+MESH:D004421',\n",
       " '12734532#MESH:D010665+MESH:D009203',\n",
       " '12739036#MESH:D002738+MESH:D009133',\n",
       " '12739036#MESH:D002738+MESH:D018908',\n",
       " '12851669#MESH:D003277+MESH:D054556',\n",
       " '12907924#MESH:D008774+MESH:D009771',\n",
       " '1355091#MESH:C014282+MESH:D001919',\n",
       " '1355091#MESH:C014282+MESH:D006973',\n",
       " '1355091#MESH:C056299+MESH:D001919',\n",
       " '1355091#MESH:C056299+MESH:D006973',\n",
       " '1355091#MESH:D009638+MESH:D001919',\n",
       " '1355091#MESH:D009638+MESH:D006973',\n",
       " '1355091#MESH:D011224+MESH:D007024',\n",
       " '14736955#MESH:D004317+MESH:D009401',\n",
       " '14975762#MESH:D004317+MESH:D006333',\n",
       " '14982270#MESH:D008713+MESH:D006932',\n",
       " '14982270#MESH:D008713+MESH:D011537',\n",
       " '14982270#MESH:D008713+MESH:D041781',\n",
       " '15042318#MESH:D004317+MESH:D001281',\n",
       " '1504402#MESH:D007741+MESH:D004342',\n",
       " '1504402#MESH:D007741+MESH:D056486',\n",
       " '15075188#MESH:D011692+MESH:D001201',\n",
       " '15075188#MESH:D011692+MESH:D009404',\n",
       " '15075188#MESH:D011692+MESH:D011507',\n",
       " '15075188#MESH:D011692+MESH:D034141',\n",
       " '15096016#MESH:D007980+MESH:D004409',\n",
       " '15579441#MESH:D011692+MESH:D000860',\n",
       " '15579441#MESH:D011692+MESH:D009404',\n",
       " '15673851#MESH:D009020+MESH:D020336',\n",
       " '15814210#MESH:D003907+MESH:D009422',\n",
       " '15867025#MESH:D006514+MESH:D006509',\n",
       " '15893386#MESH:D013390+MESH:D014313',\n",
       " '15897593#MESH:D003630+MESH:D006402',\n",
       " '15897593#MESH:D003630+MESH:D015431',\n",
       " '15897593#MESH:D004317+MESH:D006402',\n",
       " '15897593#MESH:D004317+MESH:D015431',\n",
       " '15897593#MESH:D005047+MESH:D006402',\n",
       " '15897593#MESH:D005047+MESH:D015431',\n",
       " '15974569#MESH:D002211+MESH:D006930',\n",
       " '15974569#MESH:D002351+MESH:D006930',\n",
       " '15985056#MESH:D001418+MESH:D006606',\n",
       " '15985056#MESH:D017963+MESH:D006606',\n",
       " '16006300#MESH:C019248+MESH:D006996',\n",
       " '16006300#MESH:D002119+MESH:D006934',\n",
       " '16047871#MESH:D014859+MESH:D018366',\n",
       " '16157917#MESH:C047781+MESH:D009207',\n",
       " '16418614#MESH:D011441+MESH:D014657',\n",
       " '16428827#MESH:D012601+MESH:D000647',\n",
       " '16574713#MESH:D018817+MESH:D008569',\n",
       " '16586083#MESH:D016861+MESH:D006333',\n",
       " '16586083#MESH:D016861+MESH:D006973',\n",
       " '16586083#MESH:D016861+MESH:D009203',\n",
       " '16586083#MESH:D016861+MESH:D020521',\n",
       " '16710500#MESH:D004977+MESH:D009901',\n",
       " '16710500#MESH:D004977+MESH:D014786',\n",
       " '16820346#MESH:D003907+MESH:D006973',\n",
       " '1687392#MESH:C534628+MESH:D002375',\n",
       " '1687392#MESH:D005476+MESH:D002375',\n",
       " '1687392#MESH:D013469+MESH:D002375',\n",
       " '17285209#MESH:C044946+MESH:D000799',\n",
       " '17285209#MESH:C044946+MESH:D007410',\n",
       " '17285209#MESH:D017311+MESH:D000799',\n",
       " '17285209#MESH:D017311+MESH:D007410',\n",
       " '17366349#MESH:C092292+MESH:D009459',\n",
       " '17490790#MESH:D007505+MESH:D009410',\n",
       " '17490864#MESH:D000661+MESH:D006948',\n",
       " '17574447#MESH:D010634+MESH:D002761',\n",
       " '17574447#MESH:D010634+MESH:D008107',\n",
       " '17682013#MESH:C017367+MESH:D056784',\n",
       " '17682013#MESH:C110904+MESH:D056784',\n",
       " '17682013#MESH:D005472+MESH:D056784',\n",
       " '17682013#MESH:D008727+MESH:D056784',\n",
       " '17786501#MESH:D004221+MESH:D009901',\n",
       " '17786501#MESH:D004221+MESH:D010292',\n",
       " '17786501#MESH:D004221+MESH:D012607',\n",
       " '17943461#MESH:D015215+MESH:D002311',\n",
       " '17943461#MESH:D015215+MESH:D009202',\n",
       " '17965424#MESH:C422649+MESH:D004487',\n",
       " '17965424#MESH:C422649+MESH:D006973',\n",
       " '17965424#MESH:D004008+MESH:D005767',\n",
       " '18006530#MESH:D015742+MESH:D010146',\n",
       " '18086064#MESH:D020927+MESH:D001919',\n",
       " '18086064#MESH:D020927+MESH:D007022',\n",
       " '18201582#MESH:C084178+MESH:D003371',\n",
       " '18201582#MESH:C084178+MESH:D003967',\n",
       " '18201582#MESH:C084178+MESH:D004244',\n",
       " '18201582#MESH:C084178+MESH:D004487',\n",
       " '18201582#MESH:C084178+MESH:D006261',\n",
       " '18201582#MESH:D017311+MESH:D003371',\n",
       " '18201582#MESH:D017311+MESH:D003967',\n",
       " '18201582#MESH:D017311+MESH:D004244',\n",
       " '18201582#MESH:D017311+MESH:D004487',\n",
       " '18201582#MESH:D017311+MESH:D006261',\n",
       " '18356633#MESH:D000583+MESH:D007674',\n",
       " '18441470#MESH:D008094+MESH:D012804',\n",
       " '18441470#MESH:D008094+MESH:D054537',\n",
       " '18483878#MESH:D003520+MESH:D003556',\n",
       " '18589141#MESH:D006493+MESH:D013921',\n",
       " '18657397#MESH:D010400+MESH:D004827',\n",
       " '18674790#MESH:D004041+MESH:D009765',\n",
       " '18674790#MESH:D004317+MESH:D006331',\n",
       " '188339#MESH:D003276+MESH:D008113',\n",
       " '1899352#MESH:D007069+MESH:D003221',\n",
       " '1899352#MESH:D007069+MESH:D006417',\n",
       " '1899352#MESH:D007069+MESH:D007970',\n",
       " '1899352#MESH:D007069+MESH:D009325',\n",
       " '18997632#MESH:D002110+MESH:D012640',\n",
       " '18997632#MESH:D002110+MESH:D017180',\n",
       " '18997632#MESH:D002110+MESH:D018879',\n",
       " '19105845#MESH:D016642+MESH:D012640',\n",
       " '19234905#MESH:D007980+MESH:D004409',\n",
       " '19274460#MESH:C400082+MESH:D005767',\n",
       " '19274460#MESH:C400082+MESH:D006402',\n",
       " '19274460#MESH:C400082+MESH:D009422',\n",
       " '19274460#MESH:D003520+MESH:D005767',\n",
       " '19274460#MESH:D003520+MESH:D006402',\n",
       " '19274460#MESH:D003520+MESH:D009422',\n",
       " '19274460#MESH:D003907+MESH:D005767',\n",
       " '19274460#MESH:D003907+MESH:D006402',\n",
       " '19274460#MESH:D003907+MESH:D009422',\n",
       " '1928887#MESH:D000806+MESH:D007022',\n",
       " '1928887#MESH:D000806+MESH:D062787',\n",
       " '19674115#MESH:D011718+MESH:D000857',\n",
       " '1969772#MESH:D006221+MESH:D007022',\n",
       " '1969772#MESH:D009599+MESH:D007022',\n",
       " '1969772#MESH:D018818+MESH:D007022',\n",
       " '19707748#MESH:D064704+MESH:D012640',\n",
       " '19721134#MESH:D000157+MESH:D001145',\n",
       " '19721134#MESH:D010042+MESH:D001145',\n",
       " '19893084#MESH:D005839+MESH:D058186',\n",
       " '19940105#MESH:D006220+MESH:D002375',\n",
       " '19944736#MESH:D013619+MESH:D001930',\n",
       " '19944736#MESH:D013619+MESH:D012640',\n",
       " '19944736#MESH:D018021+MESH:D001930',\n",
       " '19944736#MESH:D018021+MESH:D012640',\n",
       " '2004015#MESH:D015215+MESH:D000740',\n",
       " '20164825#MESH:D005839+MESH:D058186',\n",
       " '2021202#MESH:D007530+MESH:D007022',\n",
       " '2051906#MESH:D001379+MESH:D002779',\n",
       " '20533999#MESH:D008694+MESH:D020258',\n",
       " '20552622#MESH:D000420+MESH:D013617',\n",
       " '20727411#MESH:D007649+MESH:D011605',\n",
       " '20735774#MESH:D000082+MESH:D017114',\n",
       " '2320800#MESH:D007069+MESH:D001002',\n",
       " '2320800#MESH:D007069+MESH:D007674',\n",
       " '2339463#MESH:D015119+MESH:D020225',\n",
       " '2435991#MESH:D004071+MESH:D001145',\n",
       " '2435991#MESH:D004837+MESH:D001145',\n",
       " '2564649#MESH:D005283+MESH:D009127',\n",
       " '2576810#MESH:D000661+MESH:D006948',\n",
       " '2576810#MESH:D008729+MESH:D006948',\n",
       " '2576810#MESH:D009627+MESH:D006948',\n",
       " '2576810#MESH:D016666+MESH:D006948',\n",
       " '2716967#MESH:D007649+MESH:D002375',\n",
       " '2716967#MESH:D009020+MESH:D002375',\n",
       " '2722224#MESH:D006854+MESH:D006973',\n",
       " '2790457#MESH:D003042+MESH:D012640',\n",
       " '2790457#MESH:D008012+MESH:D012640',\n",
       " '2840807#MESH:D000324+MESH:D004421',\n",
       " '2840807#MESH:D009074+MESH:D004421',\n",
       " '2886572#MESH:D004837+MESH:D006973',\n",
       " '2893236#MESH:D013874+MESH:D012133',\n",
       " '2980315#MESH:D008794+MESH:D014693',\n",
       " '3084782#MESH:D006046+MESH:D003872',\n",
       " '3084782#MESH:D008625+MESH:D003872',\n",
       " '3084782#MESH:D008625+MESH:D009393',\n",
       " '3108839#MESH:D016685+MESH:D006463',\n",
       " '3108839#MESH:D016685+MESH:D051437',\n",
       " '3115150#MESH:D015760+MESH:D009127',\n",
       " '3123611#MESH:D000661+MESH:D002819',\n",
       " '3123611#MESH:D003276+MESH:D002819',\n",
       " '3131282#MESH:D002083+MESH:D013274',\n",
       " '3137399#MESH:D004317+MESH:D006333',\n",
       " '3137399#MESH:D016685+MESH:D006333',\n",
       " '3183120#MESH:C033706+MESH:D001927',\n",
       " '326460#MESH:D001539+MESH:D007008',\n",
       " '3411101#MESH:C033457+MESH:D056486',\n",
       " '3413271#MESH:D004837+MESH:D017202',\n",
       " '3670965#MESH:D001241+MESH:D012202',\n",
       " '3686155#MESH:D001971+MESH:D011605',\n",
       " '3703509#MESH:D011241+MESH:D000140',\n",
       " '3703509#MESH:D011241+MESH:D003128',\n",
       " '3703509#MESH:D011241+MESH:D006943',\n",
       " '3703509#MESH:D011241+MESH:D007022',\n",
       " '3703509#MESH:D011241+MESH:D007662',\n",
       " '3732088#MESH:D002752+MESH:D018879',\n",
       " '3762968#MESH:D014042+MESH:D014899',\n",
       " '3769769#MESH:D014282+MESH:D001919',\n",
       " '3780697#MESH:D005283+MESH:D009127',\n",
       " '3780814#MESH:D004052+MESH:D011230',\n",
       " '384871#MESH:D004977+MESH:D009901',\n",
       " '384871#MESH:D004977+MESH:D012607',\n",
       " '384871#MESH:D007538+MESH:D009901',\n",
       " '384871#MESH:D007538+MESH:D012607',\n",
       " '3934126#MESH:D014640+MESH:D005076',\n",
       " '3934126#MESH:D014640+MESH:D006311',\n",
       " '3934126#MESH:D014640+MESH:D011507',\n",
       " '3934126#MESH:D014640+MESH:D013924',\n",
       " '3950060#MESH:D000583+MESH:D007674',\n",
       " '3952818#MESH:D005472+MESH:D000788',\n",
       " '3952818#MESH:D005472+MESH:D002637',\n",
       " '3961813#MESH:C025541+MESH:D009410',\n",
       " '3961813#MESH:C025541+MESH:D009422',\n",
       " '3961813#MESH:D007531+MESH:D009410',\n",
       " '3961813#MESH:D007531+MESH:D009422',\n",
       " '3962737#MESH:D000638+MESH:D002779',\n",
       " '3962737#MESH:D000638+MESH:D005234',\n",
       " '3962737#MESH:D000638+MESH:D008103',\n",
       " '3962737#MESH:D000638+MESH:D056486',\n",
       " '3973521#MESH:C027278+MESH:D007022',\n",
       " '3973521#MESH:C027278+MESH:D008133',\n",
       " '4038130#MESH:D002045+MESH:D009135',\n",
       " '4038130#MESH:D008012+MESH:D009135',\n",
       " '4038130#MESH:D008619+MESH:D009135',\n",
       " '4090988#MESH:D000082+MESH:D001749',\n",
       " '4090988#MESH:D000082+MESH:D006965',\n",
       " '4090988#MESH:D000082+MESH:D008113',\n",
       " '430165#MESH:D010672+MESH:D002526',\n",
       " '430165#MESH:D010672+MESH:D010291',\n",
       " '430165#MESH:D010672+MESH:D062787',\n",
       " '458486#MESH:D007980+MESH:D004409',\n",
       " '48362#MESH:D011802+MESH:D056486',\n",
       " '6127992#MESH:D000319+MESH:D001919',\n",
       " '6127992#MESH:D000319+MESH:D006333',\n",
       " '6127992#MESH:D000319+MESH:D007022',\n",
       " '6127992#MESH:D014700+MESH:D001919',\n",
       " '6127992#MESH:D014700+MESH:D006333',\n",
       " '6127992#MESH:D014700+MESH:D007022',\n",
       " '6150641#MESH:D002927+MESH:D007172',\n",
       " '625456#MESH:D002119+MESH:D006934',\n",
       " '625456#MESH:D002119+MESH:D053040',\n",
       " '625456#MESH:D017693+MESH:D006934',\n",
       " '625456#MESH:D017693+MESH:D053040',\n",
       " '6293644#MESH:D001058+MESH:D006948',\n",
       " '6293644#MESH:D006220+MESH:D002375',\n",
       " '6323692#MESH:C018824+MESH:D001259',\n",
       " '6323692#MESH:D003975+MESH:D001259',\n",
       " '6454943#MESH:D011692+MESH:D011507',\n",
       " '6540303#MESH:D004298+MESH:D002389',\n",
       " '6540303#MESH:D007649+MESH:D002389',\n",
       " '6540303#MESH:D008550+MESH:D002389',\n",
       " '6540303#MESH:D012701+MESH:D002389',\n",
       " '6615052#MESH:D006493+MESH:D006470',\n",
       " '6615052#MESH:D006493+MESH:D013921',\n",
       " '6615052#MESH:D006493+MESH:D013923',\n",
       " '663266#MESH:C027278+MESH:D014693',\n",
       " '663266#MESH:C102006+MESH:D014693',\n",
       " '663266#MESH:D004492+MESH:D014693',\n",
       " '6637851#MESH:D000638+MESH:D000855',\n",
       " '6637851#MESH:D000638+MESH:D001259',\n",
       " '6637851#MESH:D000638+MESH:D009325',\n",
       " '6637851#MESH:D000638+MESH:D013959',\n",
       " '6637851#MESH:D000638+MESH:D014786',\n",
       " '6699841#MESH:D009288+MESH:D007681',\n",
       " '6732043#MESH:D000728+MESH:D020181',\n",
       " '6769133#MESH:D004317+MESH:D006333',\n",
       " '6769133#MESH:D004317+MESH:D015470',\n",
       " '6892185#MESH:D002217+MESH:D004830',\n",
       " '6892185#MESH:D002217+MESH:D014202',\n",
       " '6892185#MESH:D002217+MESH:D015878',\n",
       " '6892185#MESH:D010830+MESH:D004830',\n",
       " '6892185#MESH:D010830+MESH:D014202',\n",
       " '6892185#MESH:D010830+MESH:D015878',\n",
       " '7007443#MESH:D000082+MESH:D017114',\n",
       " '7053705#MESH:D013866+MESH:D006504',\n",
       " '7072798#MESH:D002701+MESH:D000741',\n",
       " '7282516#MESH:D004317+MESH:D009202',\n",
       " '7604176#MESH:D017035+MESH:D009220',\n",
       " '761833#MESH:D000643+MESH:D003128',\n",
       " '7619765#MESH:D005047+MESH:D009203',\n",
       " '7647582#MESH:D004737+MESH:D056486',\n",
       " '7647582#MESH:D006221+MESH:D056486',\n",
       " '7647582#MESH:D007530+MESH:D056486',\n",
       " '7650771#MESH:D004456+MESH:D018908',\n",
       " '7710775#MESH:D008315+MESH:D002545',\n",
       " '7752389#MESH:D015232+MESH:D053201',\n",
       " '7803371#MESH:D003915+MESH:D003072',\n",
       " '7843916#MESH:D003907+MESH:D009798',\n",
       " '8012887#MESH:D006493+MESH:D013927',\n",
       " '8106150#MESH:C005177+MESH:D004409',\n",
       " '8106150#MESH:D015632+MESH:D020734',\n",
       " '8111719#MESH:D007069+MESH:D006212',\n",
       " '8251368#MESH:D009543+MESH:D013684',\n",
       " '8251368#MESH:D017311+MESH:D013684',\n",
       " '8267029#MESH:D010396+MESH:D005921',\n",
       " '8268147#MESH:D010396+MESH:D017285',\n",
       " '8494478#MESH:D002939+MESH:D058186',\n",
       " '85485#MESH:D001556+MESH:D006528',\n",
       " '8586822#MESH:D017673+MESH:D006973',\n",
       " '8617710#MESH:D006220+MESH:D003072',\n",
       " '871943#MESH:D013390+MESH:D001049',\n",
       " '8766220#MESH:D004308+MESH:D006212',\n",
       " '8766220#MESH:D014147+MESH:D006212',\n",
       " '8766220#MESH:D017374+MESH:D006212',\n",
       " '8888541#MESH:C047426+MESH:D003221',\n",
       " '8888541#MESH:C047426+MESH:D005334',\n",
       " '8888541#MESH:C047426+MESH:D009127',\n",
       " '8888541#MESH:C047426+MESH:D009207',\n",
       " '8888541#MESH:C047426+MESH:D012798',\n",
       " '8888541#MESH:C047426+MESH:D013921',\n",
       " '8888541#MESH:C047426+MESH:D014202',\n",
       " '8888541#MESH:C047426+MESH:D020230',\n",
       " '8888541#MESH:D014191+MESH:D003221',\n",
       " '8888541#MESH:D014191+MESH:D005334',\n",
       " '8888541#MESH:D014191+MESH:D009127',\n",
       " '8888541#MESH:D014191+MESH:D009207',\n",
       " '8888541#MESH:D014191+MESH:D012798',\n",
       " '8888541#MESH:D014191+MESH:D013921',\n",
       " '8888541#MESH:D014191+MESH:D014202',\n",
       " '8888541#MESH:D014191+MESH:D020230',\n",
       " '8911359#MESH:D003520+MESH:D001749',\n",
       " '8958188#MESH:C045894+MESH:D013921',\n",
       " '8958188#MESH:C045894+MESH:D052016',\n",
       " '9098464#MESH:D005473+MESH:D006966',\n",
       " '9098464#MESH:D005473+MESH:D062788',\n",
       " '9209318#MESH:D015215+MESH:D000748',\n",
       " '9209318#MESH:D015215+MESH:D009190',\n",
       " '9209318#MESH:D015215+MESH:D013921',\n",
       " '921394#MESH:D007649+MESH:D013610',\n",
       " '9214597#MESH:D004958+MESH:D010911',\n",
       " '9226773#MESH:D008094+MESH:D011141',\n",
       " '9226773#MESH:D008094+MESH:D018500',\n",
       " '9305828#MESH:D010862+MESH:D004833',\n",
       " '9545159#MESH:D001393+MESH:D008133',\n",
       " '9545159#MESH:D001393+MESH:D016171',\n",
       " '9545159#MESH:D001393+MESH:D016757',\n",
       " '9545159#MESH:D004110+MESH:D008133',\n",
       " '9545159#MESH:D004917+MESH:D008133',\n",
       " '9545159#MESH:D004917+MESH:D016171',\n",
       " '9545159#MESH:D004917+MESH:D016757',\n",
       " '9545159#MESH:D020117+MESH:D008133',\n",
       " '9545159#MESH:D020117+MESH:D016171',\n",
       " '9545159#MESH:D020117+MESH:D016757',\n",
       " '9549528#MESH:D007980+MESH:D004409',\n",
       " '9564988#MESH:D064704+MESH:D003967',\n",
       " '9564988#MESH:D064704+MESH:D005414',\n",
       " '9564988#MESH:D064704+MESH:D009325',\n",
       " '9672273#MESH:D013629+MESH:D014652',\n",
       " '9672273#MESH:D013629+MESH:D015228',\n",
       " '982002#MESH:D012293+MESH:D058186',\n",
       " '9867728#MESH:D005277+MESH:D001022',\n",
       " '9867728#MESH:D010645+MESH:D001022',\n",
       " '9875685#MESH:D014031+MESH:D034381',\n",
       " '9952311#MESH:D004317+MESH:D001919',\n",
       " '9952311#MESH:D004317+MESH:D028361'}"
      ]
     },
     "execution_count": 64,
     "metadata": {},
     "output_type": "execute_result"
    }
   ],
   "source": [
    "gold_relations"
   ]
  },
  {
   "cell_type": "code",
   "execution_count": 65,
   "metadata": {
    "collapsed": false
   },
   "outputs": [],
   "source": [
    "def formater(s):\n",
    "    if is_MeSH_id(s):\n",
    "        return \"MESH:{0}\".format(s)\n",
    "    \n",
    "    assert s.startswith(\"MESH\"), s\n",
    "    assert is_MeSH_id(s.split(\":\")[1]), s\n",
    "    return s\n",
    "\n",
    "def get_list(s):\n",
    "    return [formater(v) for v in s.split(\"|\")]\n",
    "    \n",
    "def new_F_score(score_column, dataframe):\n",
    "    EPSILON = 0.0000001\n",
    "    \n",
    "    res = defaultdict(list)\n",
    "    for threshold in dataframe[score_column].unique():\n",
    "        sub = dataframe.query(\"{0} > {1} or -{2} <= {0} - {1} <= {2}\".format(score_column, threshold, EPSILON))\n",
    "        \n",
    "        guess_set = set()\n",
    "        for idx, row in sub.iterrows():\n",
    "            chem_id = row[\"chemical_id\"]\n",
    "            dise_id = row[\"disease_id\"]\n",
    "            pmid = row[\"pmid\"]\n",
    "            \n",
    "            chem_id = get_list(chem_id)\n",
    "            dise_id = get_list(dise_id)\n",
    "            \n",
    "            temp = []\n",
    "            for cid in chem_id:\n",
    "                for did in dise_id:\n",
    "                    temp.append(\"{0}#{1}+{2}\".format(int(pmid), cid, did))\n",
    "                    \n",
    "            guess_set |= set(temp)                    \n",
    "                \n",
    "        tp = len(gold_relations & guess_set)\n",
    "        fp = len(guess_set - gold_relations)\n",
    "        fn = len(gold_relations - guess_set)\n",
    "        \n",
    "        recall = tp / (tp + fp)\n",
    "        precision = tp / (tp + fn)\n",
    "        f_score = F_score(precision, recall)\n",
    "        \n",
    "        res[\"recall\"].append(recall)\n",
    "        res[\"precision\"].append(precision)\n",
    "        res[\"threshold\"].append(threshold)\n",
    "        res[\"F_score\"].append(f_score)\n",
    "        \n",
    "    return pd.DataFrame(res)"
   ]
  },
  {
   "cell_type": "code",
   "execution_count": 66,
   "metadata": {
    "collapsed": false
   },
   "outputs": [],
   "source": [
    "official_res = new_F_score(\"norm_conf_score\", final_results)"
   ]
  },
  {
   "cell_type": "code",
   "execution_count": 67,
   "metadata": {
    "collapsed": false,
    "scrolled": true
   },
   "outputs": [
    {
     "data": {
      "text/html": [
       "<div>\n",
       "<table border=\"1\" class=\"dataframe\">\n",
       "  <thead>\n",
       "    <tr style=\"text-align: right;\">\n",
       "      <th></th>\n",
       "      <th>F_score</th>\n",
       "      <th>precision</th>\n",
       "      <th>recall</th>\n",
       "      <th>threshold</th>\n",
       "    </tr>\n",
       "  </thead>\n",
       "  <tbody>\n",
       "    <tr>\n",
       "      <th>473</th>\n",
       "      <td>0.615909</td>\n",
       "      <td>0.682620</td>\n",
       "      <td>0.561077</td>\n",
       "      <td>0.605632</td>\n",
       "    </tr>\n",
       "    <tr>\n",
       "      <th>110</th>\n",
       "      <td>0.615210</td>\n",
       "      <td>0.682620</td>\n",
       "      <td>0.559917</td>\n",
       "      <td>0.605486</td>\n",
       "    </tr>\n",
       "    <tr>\n",
       "      <th>358</th>\n",
       "      <td>0.614512</td>\n",
       "      <td>0.682620</td>\n",
       "      <td>0.558763</td>\n",
       "      <td>0.604984</td>\n",
       "    </tr>\n",
       "    <tr>\n",
       "      <th>361</th>\n",
       "      <td>0.614499</td>\n",
       "      <td>0.672544</td>\n",
       "      <td>0.565678</td>\n",
       "      <td>0.617223</td>\n",
       "    </tr>\n",
       "    <tr>\n",
       "      <th>454</th>\n",
       "      <td>0.614486</td>\n",
       "      <td>0.662469</td>\n",
       "      <td>0.572985</td>\n",
       "      <td>0.650832</td>\n",
       "    </tr>\n",
       "    <tr>\n",
       "      <th>418</th>\n",
       "      <td>0.614334</td>\n",
       "      <td>0.680101</td>\n",
       "      <td>0.560166</td>\n",
       "      <td>0.606454</td>\n",
       "    </tr>\n",
       "    <tr>\n",
       "      <th>445</th>\n",
       "      <td>0.614319</td>\n",
       "      <td>0.670025</td>\n",
       "      <td>0.567164</td>\n",
       "      <td>0.618698</td>\n",
       "    </tr>\n",
       "    <tr>\n",
       "      <th>63</th>\n",
       "      <td>0.614302</td>\n",
       "      <td>0.659950</td>\n",
       "      <td>0.574561</td>\n",
       "      <td>0.651542</td>\n",
       "    </tr>\n",
       "    <tr>\n",
       "      <th>323</th>\n",
       "      <td>0.613932</td>\n",
       "      <td>0.654912</td>\n",
       "      <td>0.577778</td>\n",
       "      <td>0.655322</td>\n",
       "    </tr>\n",
       "    <tr>\n",
       "      <th>225</th>\n",
       "      <td>0.613817</td>\n",
       "      <td>0.682620</td>\n",
       "      <td>0.557613</td>\n",
       "      <td>0.604946</td>\n",
       "    </tr>\n",
       "    <tr>\n",
       "      <th>251</th>\n",
       "      <td>0.613793</td>\n",
       "      <td>0.672544</td>\n",
       "      <td>0.564482</td>\n",
       "      <td>0.616953</td>\n",
       "    </tr>\n",
       "    <tr>\n",
       "      <th>41</th>\n",
       "      <td>0.613769</td>\n",
       "      <td>0.662469</td>\n",
       "      <td>0.571739</td>\n",
       "      <td>0.649572</td>\n",
       "    </tr>\n",
       "    <tr>\n",
       "      <th>212</th>\n",
       "      <td>0.613744</td>\n",
       "      <td>0.652393</td>\n",
       "      <td>0.579418</td>\n",
       "      <td>0.662536</td>\n",
       "    </tr>\n",
       "    <tr>\n",
       "      <th>401</th>\n",
       "      <td>0.613610</td>\n",
       "      <td>0.670025</td>\n",
       "      <td>0.565957</td>\n",
       "      <td>0.617804</td>\n",
       "    </tr>\n",
       "    <tr>\n",
       "      <th>530</th>\n",
       "      <td>0.613455</td>\n",
       "      <td>0.677582</td>\n",
       "      <td>0.560417</td>\n",
       "      <td>0.606846</td>\n",
       "    </tr>\n",
       "    <tr>\n",
       "      <th>525</th>\n",
       "      <td>0.613426</td>\n",
       "      <td>0.667506</td>\n",
       "      <td>0.567452</td>\n",
       "      <td>0.621024</td>\n",
       "    </tr>\n",
       "    <tr>\n",
       "      <th>540</th>\n",
       "      <td>0.613208</td>\n",
       "      <td>0.654912</td>\n",
       "      <td>0.576497</td>\n",
       "      <td>0.655290</td>\n",
       "    </tr>\n",
       "    <tr>\n",
       "      <th>82</th>\n",
       "      <td>0.613122</td>\n",
       "      <td>0.682620</td>\n",
       "      <td>0.556468</td>\n",
       "      <td>0.604441</td>\n",
       "    </tr>\n",
       "    <tr>\n",
       "      <th>400</th>\n",
       "      <td>0.613088</td>\n",
       "      <td>0.672544</td>\n",
       "      <td>0.563291</td>\n",
       "      <td>0.613412</td>\n",
       "    </tr>\n",
       "    <tr>\n",
       "      <th>539</th>\n",
       "      <td>0.613054</td>\n",
       "      <td>0.662469</td>\n",
       "      <td>0.570499</td>\n",
       "      <td>0.641250</td>\n",
       "    </tr>\n",
       "    <tr>\n",
       "      <th>457</th>\n",
       "      <td>0.613018</td>\n",
       "      <td>0.652393</td>\n",
       "      <td>0.578125</td>\n",
       "      <td>0.662415</td>\n",
       "    </tr>\n",
       "    <tr>\n",
       "      <th>299</th>\n",
       "      <td>0.612903</td>\n",
       "      <td>0.670025</td>\n",
       "      <td>0.564756</td>\n",
       "      <td>0.617704</td>\n",
       "    </tr>\n",
       "    <tr>\n",
       "      <th>208</th>\n",
       "      <td>0.612865</td>\n",
       "      <td>0.659950</td>\n",
       "      <td>0.572052</td>\n",
       "      <td>0.651444</td>\n",
       "    </tr>\n",
       "    <tr>\n",
       "      <th>332</th>\n",
       "      <td>0.612756</td>\n",
       "      <td>0.677582</td>\n",
       "      <td>0.559252</td>\n",
       "      <td>0.606564</td>\n",
       "    </tr>\n",
       "    <tr>\n",
       "      <th>588</th>\n",
       "      <td>0.612717</td>\n",
       "      <td>0.667506</td>\n",
       "      <td>0.566239</td>\n",
       "      <td>0.620606</td>\n",
       "    </tr>\n",
       "    <tr>\n",
       "      <th>467</th>\n",
       "      <td>0.612571</td>\n",
       "      <td>0.675063</td>\n",
       "      <td>0.560669</td>\n",
       "      <td>0.609553</td>\n",
       "    </tr>\n",
       "    <tr>\n",
       "      <th>8</th>\n",
       "      <td>0.612529</td>\n",
       "      <td>0.664987</td>\n",
       "      <td>0.567742</td>\n",
       "      <td>0.622214</td>\n",
       "    </tr>\n",
       "    <tr>\n",
       "      <th>76</th>\n",
       "      <td>0.612429</td>\n",
       "      <td>0.682620</td>\n",
       "      <td>0.555328</td>\n",
       "      <td>0.603940</td>\n",
       "    </tr>\n",
       "    <tr>\n",
       "      <th>173</th>\n",
       "      <td>0.612385</td>\n",
       "      <td>0.672544</td>\n",
       "      <td>0.562105</td>\n",
       "      <td>0.613126</td>\n",
       "    </tr>\n",
       "    <tr>\n",
       "      <th>524</th>\n",
       "      <td>0.612340</td>\n",
       "      <td>0.662469</td>\n",
       "      <td>0.569264</td>\n",
       "      <td>0.633888</td>\n",
       "    </tr>\n",
       "    <tr>\n",
       "      <th>...</th>\n",
       "      <td>...</td>\n",
       "      <td>...</td>\n",
       "      <td>...</td>\n",
       "      <td>...</td>\n",
       "    </tr>\n",
       "    <tr>\n",
       "      <th>46</th>\n",
       "      <td>0.467195</td>\n",
       "      <td>0.816121</td>\n",
       "      <td>0.327273</td>\n",
       "      <td>0.185191</td>\n",
       "    </tr>\n",
       "    <tr>\n",
       "      <th>317</th>\n",
       "      <td>0.466859</td>\n",
       "      <td>0.816121</td>\n",
       "      <td>0.326942</td>\n",
       "      <td>0.184013</td>\n",
       "    </tr>\n",
       "    <tr>\n",
       "      <th>142</th>\n",
       "      <td>0.466523</td>\n",
       "      <td>0.816121</td>\n",
       "      <td>0.326613</td>\n",
       "      <td>0.183855</td>\n",
       "    </tr>\n",
       "    <tr>\n",
       "      <th>370</th>\n",
       "      <td>0.466187</td>\n",
       "      <td>0.816121</td>\n",
       "      <td>0.326284</td>\n",
       "      <td>0.183639</td>\n",
       "    </tr>\n",
       "    <tr>\n",
       "      <th>301</th>\n",
       "      <td>0.465852</td>\n",
       "      <td>0.816121</td>\n",
       "      <td>0.325956</td>\n",
       "      <td>0.183592</td>\n",
       "    </tr>\n",
       "    <tr>\n",
       "      <th>595</th>\n",
       "      <td>0.465517</td>\n",
       "      <td>0.816121</td>\n",
       "      <td>0.325628</td>\n",
       "      <td>0.183088</td>\n",
       "    </tr>\n",
       "    <tr>\n",
       "      <th>581</th>\n",
       "      <td>0.465183</td>\n",
       "      <td>0.816121</td>\n",
       "      <td>0.325301</td>\n",
       "      <td>0.182504</td>\n",
       "    </tr>\n",
       "    <tr>\n",
       "      <th>114</th>\n",
       "      <td>0.464183</td>\n",
       "      <td>0.816121</td>\n",
       "      <td>0.324324</td>\n",
       "      <td>0.182484</td>\n",
       "    </tr>\n",
       "    <tr>\n",
       "      <th>21</th>\n",
       "      <td>0.463519</td>\n",
       "      <td>0.816121</td>\n",
       "      <td>0.323676</td>\n",
       "      <td>0.182301</td>\n",
       "    </tr>\n",
       "    <tr>\n",
       "      <th>402</th>\n",
       "      <td>0.463188</td>\n",
       "      <td>0.816121</td>\n",
       "      <td>0.323353</td>\n",
       "      <td>0.182190</td>\n",
       "    </tr>\n",
       "    <tr>\n",
       "      <th>51</th>\n",
       "      <td>0.462857</td>\n",
       "      <td>0.816121</td>\n",
       "      <td>0.323031</td>\n",
       "      <td>0.182154</td>\n",
       "    </tr>\n",
       "    <tr>\n",
       "      <th>290</th>\n",
       "      <td>0.462527</td>\n",
       "      <td>0.816121</td>\n",
       "      <td>0.322709</td>\n",
       "      <td>0.181866</td>\n",
       "    </tr>\n",
       "    <tr>\n",
       "      <th>245</th>\n",
       "      <td>0.462197</td>\n",
       "      <td>0.816121</td>\n",
       "      <td>0.322388</td>\n",
       "      <td>0.181816</td>\n",
       "    </tr>\n",
       "    <tr>\n",
       "      <th>263</th>\n",
       "      <td>0.461867</td>\n",
       "      <td>0.816121</td>\n",
       "      <td>0.322068</td>\n",
       "      <td>0.181615</td>\n",
       "    </tr>\n",
       "    <tr>\n",
       "      <th>37</th>\n",
       "      <td>0.461210</td>\n",
       "      <td>0.816121</td>\n",
       "      <td>0.321429</td>\n",
       "      <td>0.180858</td>\n",
       "    </tr>\n",
       "    <tr>\n",
       "      <th>404</th>\n",
       "      <td>0.460882</td>\n",
       "      <td>0.816121</td>\n",
       "      <td>0.321110</td>\n",
       "      <td>0.179902</td>\n",
       "    </tr>\n",
       "    <tr>\n",
       "      <th>566</th>\n",
       "      <td>0.460340</td>\n",
       "      <td>0.818640</td>\n",
       "      <td>0.320197</td>\n",
       "      <td>0.179522</td>\n",
       "    </tr>\n",
       "    <tr>\n",
       "      <th>343</th>\n",
       "      <td>0.460227</td>\n",
       "      <td>0.816121</td>\n",
       "      <td>0.320475</td>\n",
       "      <td>0.179897</td>\n",
       "    </tr>\n",
       "    <tr>\n",
       "      <th>388</th>\n",
       "      <td>0.460127</td>\n",
       "      <td>0.821159</td>\n",
       "      <td>0.319608</td>\n",
       "      <td>0.178147</td>\n",
       "    </tr>\n",
       "    <tr>\n",
       "      <th>146</th>\n",
       "      <td>0.460014</td>\n",
       "      <td>0.818640</td>\n",
       "      <td>0.319882</td>\n",
       "      <td>0.179463</td>\n",
       "    </tr>\n",
       "    <tr>\n",
       "      <th>119</th>\n",
       "      <td>0.459901</td>\n",
       "      <td>0.816121</td>\n",
       "      <td>0.320158</td>\n",
       "      <td>0.179859</td>\n",
       "    </tr>\n",
       "    <tr>\n",
       "      <th>98</th>\n",
       "      <td>0.459803</td>\n",
       "      <td>0.821159</td>\n",
       "      <td>0.319295</td>\n",
       "      <td>0.176908</td>\n",
       "    </tr>\n",
       "    <tr>\n",
       "      <th>166</th>\n",
       "      <td>0.459689</td>\n",
       "      <td>0.818640</td>\n",
       "      <td>0.319567</td>\n",
       "      <td>0.178908</td>\n",
       "    </tr>\n",
       "    <tr>\n",
       "      <th>3</th>\n",
       "      <td>0.459479</td>\n",
       "      <td>0.821159</td>\n",
       "      <td>0.318982</td>\n",
       "      <td>0.176479</td>\n",
       "    </tr>\n",
       "    <tr>\n",
       "      <th>18</th>\n",
       "      <td>0.459249</td>\n",
       "      <td>0.816121</td>\n",
       "      <td>0.319527</td>\n",
       "      <td>0.179827</td>\n",
       "    </tr>\n",
       "    <tr>\n",
       "      <th>56</th>\n",
       "      <td>0.459155</td>\n",
       "      <td>0.821159</td>\n",
       "      <td>0.318671</td>\n",
       "      <td>0.174309</td>\n",
       "    </tr>\n",
       "    <tr>\n",
       "      <th>598</th>\n",
       "      <td>0.459040</td>\n",
       "      <td>0.818640</td>\n",
       "      <td>0.318940</td>\n",
       "      <td>0.178575</td>\n",
       "    </tr>\n",
       "    <tr>\n",
       "      <th>310</th>\n",
       "      <td>0.459040</td>\n",
       "      <td>0.818640</td>\n",
       "      <td>0.318940</td>\n",
       "      <td>0.178575</td>\n",
       "    </tr>\n",
       "    <tr>\n",
       "      <th>117</th>\n",
       "      <td>0.458832</td>\n",
       "      <td>0.821159</td>\n",
       "      <td>0.318359</td>\n",
       "      <td>0.150304</td>\n",
       "    </tr>\n",
       "    <tr>\n",
       "      <th>0</th>\n",
       "      <td>0.333014</td>\n",
       "      <td>0.876574</td>\n",
       "      <td>0.205552</td>\n",
       "      <td>0.000000</td>\n",
       "    </tr>\n",
       "  </tbody>\n",
       "</table>\n",
       "<p>603 rows × 4 columns</p>\n",
       "</div>"
      ],
      "text/plain": [
       "      F_score  precision    recall  threshold\n",
       "473  0.615909   0.682620  0.561077   0.605632\n",
       "110  0.615210   0.682620  0.559917   0.605486\n",
       "358  0.614512   0.682620  0.558763   0.604984\n",
       "361  0.614499   0.672544  0.565678   0.617223\n",
       "454  0.614486   0.662469  0.572985   0.650832\n",
       "418  0.614334   0.680101  0.560166   0.606454\n",
       "445  0.614319   0.670025  0.567164   0.618698\n",
       "63   0.614302   0.659950  0.574561   0.651542\n",
       "323  0.613932   0.654912  0.577778   0.655322\n",
       "225  0.613817   0.682620  0.557613   0.604946\n",
       "251  0.613793   0.672544  0.564482   0.616953\n",
       "41   0.613769   0.662469  0.571739   0.649572\n",
       "212  0.613744   0.652393  0.579418   0.662536\n",
       "401  0.613610   0.670025  0.565957   0.617804\n",
       "530  0.613455   0.677582  0.560417   0.606846\n",
       "525  0.613426   0.667506  0.567452   0.621024\n",
       "540  0.613208   0.654912  0.576497   0.655290\n",
       "82   0.613122   0.682620  0.556468   0.604441\n",
       "400  0.613088   0.672544  0.563291   0.613412\n",
       "539  0.613054   0.662469  0.570499   0.641250\n",
       "457  0.613018   0.652393  0.578125   0.662415\n",
       "299  0.612903   0.670025  0.564756   0.617704\n",
       "208  0.612865   0.659950  0.572052   0.651444\n",
       "332  0.612756   0.677582  0.559252   0.606564\n",
       "588  0.612717   0.667506  0.566239   0.620606\n",
       "467  0.612571   0.675063  0.560669   0.609553\n",
       "8    0.612529   0.664987  0.567742   0.622214\n",
       "76   0.612429   0.682620  0.555328   0.603940\n",
       "173  0.612385   0.672544  0.562105   0.613126\n",
       "524  0.612340   0.662469  0.569264   0.633888\n",
       "..        ...        ...       ...        ...\n",
       "46   0.467195   0.816121  0.327273   0.185191\n",
       "317  0.466859   0.816121  0.326942   0.184013\n",
       "142  0.466523   0.816121  0.326613   0.183855\n",
       "370  0.466187   0.816121  0.326284   0.183639\n",
       "301  0.465852   0.816121  0.325956   0.183592\n",
       "595  0.465517   0.816121  0.325628   0.183088\n",
       "581  0.465183   0.816121  0.325301   0.182504\n",
       "114  0.464183   0.816121  0.324324   0.182484\n",
       "21   0.463519   0.816121  0.323676   0.182301\n",
       "402  0.463188   0.816121  0.323353   0.182190\n",
       "51   0.462857   0.816121  0.323031   0.182154\n",
       "290  0.462527   0.816121  0.322709   0.181866\n",
       "245  0.462197   0.816121  0.322388   0.181816\n",
       "263  0.461867   0.816121  0.322068   0.181615\n",
       "37   0.461210   0.816121  0.321429   0.180858\n",
       "404  0.460882   0.816121  0.321110   0.179902\n",
       "566  0.460340   0.818640  0.320197   0.179522\n",
       "343  0.460227   0.816121  0.320475   0.179897\n",
       "388  0.460127   0.821159  0.319608   0.178147\n",
       "146  0.460014   0.818640  0.319882   0.179463\n",
       "119  0.459901   0.816121  0.320158   0.179859\n",
       "98   0.459803   0.821159  0.319295   0.176908\n",
       "166  0.459689   0.818640  0.319567   0.178908\n",
       "3    0.459479   0.821159  0.318982   0.176479\n",
       "18   0.459249   0.816121  0.319527   0.179827\n",
       "56   0.459155   0.821159  0.318671   0.174309\n",
       "598  0.459040   0.818640  0.318940   0.178575\n",
       "310  0.459040   0.818640  0.318940   0.178575\n",
       "117  0.458832   0.821159  0.318359   0.150304\n",
       "0    0.333014   0.876574  0.205552   0.000000\n",
       "\n",
       "[603 rows x 4 columns]"
      ]
     },
     "execution_count": 67,
     "metadata": {},
     "output_type": "execute_result"
    }
   ],
   "source": [
    "official_res.sort(\"F_score\", ascending = False)"
   ]
  },
  {
   "cell_type": "code",
   "execution_count": 68,
   "metadata": {
    "collapsed": true
   },
   "outputs": [],
   "source": [
    "official_res_vote = new_F_score(\"num_votes\", final_results)"
   ]
  },
  {
   "cell_type": "code",
   "execution_count": 69,
   "metadata": {
    "collapsed": false
   },
   "outputs": [
    {
     "data": {
      "text/html": [
       "<div>\n",
       "<table border=\"1\" class=\"dataframe\">\n",
       "  <thead>\n",
       "    <tr style=\"text-align: right;\">\n",
       "      <th></th>\n",
       "      <th>F_score</th>\n",
       "      <th>precision</th>\n",
       "      <th>recall</th>\n",
       "      <th>threshold</th>\n",
       "    </tr>\n",
       "  </thead>\n",
       "  <tbody>\n",
       "    <tr>\n",
       "      <th>1</th>\n",
       "      <td>0.593156</td>\n",
       "      <td>0.589421</td>\n",
       "      <td>0.596939</td>\n",
       "      <td>4</td>\n",
       "    </tr>\n",
       "    <tr>\n",
       "      <th>5</th>\n",
       "      <td>0.593074</td>\n",
       "      <td>0.690176</td>\n",
       "      <td>0.519924</td>\n",
       "      <td>3</td>\n",
       "    </tr>\n",
       "    <tr>\n",
       "      <th>4</th>\n",
       "      <td>0.550226</td>\n",
       "      <td>0.765743</td>\n",
       "      <td>0.429379</td>\n",
       "      <td>2</td>\n",
       "    </tr>\n",
       "    <tr>\n",
       "      <th>2</th>\n",
       "      <td>0.548961</td>\n",
       "      <td>0.465995</td>\n",
       "      <td>0.667870</td>\n",
       "      <td>5</td>\n",
       "    </tr>\n",
       "    <tr>\n",
       "      <th>3</th>\n",
       "      <td>0.458832</td>\n",
       "      <td>0.821159</td>\n",
       "      <td>0.318359</td>\n",
       "      <td>1</td>\n",
       "    </tr>\n",
       "    <tr>\n",
       "      <th>0</th>\n",
       "      <td>0.333014</td>\n",
       "      <td>0.876574</td>\n",
       "      <td>0.205552</td>\n",
       "      <td>0</td>\n",
       "    </tr>\n",
       "    <tr>\n",
       "      <th>6</th>\n",
       "      <td>0.005025</td>\n",
       "      <td>0.002519</td>\n",
       "      <td>1.000000</td>\n",
       "      <td>6</td>\n",
       "    </tr>\n",
       "  </tbody>\n",
       "</table>\n",
       "</div>"
      ],
      "text/plain": [
       "    F_score  precision    recall  threshold\n",
       "1  0.593156   0.589421  0.596939          4\n",
       "5  0.593074   0.690176  0.519924          3\n",
       "4  0.550226   0.765743  0.429379          2\n",
       "2  0.548961   0.465995  0.667870          5\n",
       "3  0.458832   0.821159  0.318359          1\n",
       "0  0.333014   0.876574  0.205552          0\n",
       "6  0.005025   0.002519  1.000000          6"
      ]
     },
     "execution_count": 69,
     "metadata": {},
     "output_type": "execute_result"
    }
   ],
   "source": [
    "official_res_vote.sort(\"F_score\", ascending = False)"
   ]
  },
  {
   "cell_type": "code",
   "execution_count": 70,
   "metadata": {
    "collapsed": true
   },
   "outputs": [],
   "source": [
    "def plot_it(res):\n",
    "    res = res.sort(\"threshold\")\n",
    "\n",
    "    graph = res.plot(x = \"threshold\", figsize = (7, 7))\n",
    "    graph.set_ylim((0, 1.1))"
   ]
  },
  {
   "cell_type": "code",
   "execution_count": 71,
   "metadata": {
    "collapsed": false
   },
   "outputs": [
    {
     "data": {
      "image/png": "[encoded data removed]",
      "text/plain": [
       "<matplotlib.figure.Figure at 0x7f6d123cdb38>"
      ]
     },
     "metadata": {},
     "output_type": "display_data"
    }
   ],
   "source": [
    "plot_it(official_res)"
   ]
  },
  {
   "cell_type": "code",
   "execution_count": 72,
   "metadata": {
    "collapsed": false
   },
   "outputs": [
    {
     "data": {
      "image/png": "[encoded data removed]",
      "text/plain": [
       "<matplotlib.figure.Figure at 0x7f6d1256b0f0>"
      ]
     },
     "metadata": {},
     "output_type": "display_data"
    }
   ],
   "source": [
    "plot_it(official_res_vote)"
   ]
  },
  {
   "cell_type": "markdown",
   "metadata": {},
   "source": [
    "We don't perform as well using the official method because in our own evaluation metric we are only measuring our performance for the subset of work we performed. In the official one we are penalized for not having let our job run to completion, as well as having cheaters. Overall though the performance drop isn't too big.\n",
    "\n",
    "Now let's take the NER step into account: we will filter our concept ids which did not show up in the NER step."
   ]
  },
  {
   "cell_type": "markdown",
   "metadata": {},
   "source": [
    "---"
   ]
  },
  {
   "cell_type": "markdown",
   "metadata": {},
   "source": [
    "### Results if we include spammer's judgments "
   ]
  },
  {
   "cell_type": "code",
   "execution_count": null,
   "metadata": {
    "collapsed": true
   },
   "outputs": [],
   "source": []
  },
  {
   "cell_type": "code",
   "execution_count": null,
   "metadata": {
    "collapsed": true
   },
   "outputs": [],
   "source": []
  },
  {
   "cell_type": "code",
   "execution_count": null,
   "metadata": {
    "collapsed": true
   },
   "outputs": [],
   "source": []
  },
  {
   "cell_type": "code",
   "execution_count": null,
   "metadata": {
    "collapsed": true
   },
   "outputs": [],
   "source": []
  },
  {
   "cell_type": "markdown",
   "metadata": {},
   "source": [
    "---"
   ]
  },
  {
   "cell_type": "markdown",
   "metadata": {},
   "source": [
    "## Evaluate with NER step"
   ]
  },
  {
   "cell_type": "markdown",
   "metadata": {},
   "source": [
    "### Filter crowd results to exclude work units which would have never been generated"
   ]
  },
  {
   "cell_type": "code",
   "execution_count": 73,
   "metadata": {
    "collapsed": false
   },
   "outputs": [
    {
     "data": {
      "text/plain": [
       "True     0.823905\n",
       "False    0.176095\n",
       "dtype: float64"
      ]
     },
     "execution_count": 73,
     "metadata": {},
     "output_type": "execute_result"
    }
   ],
   "source": [
    "sent_res_pos_no[\"findable\"].value_counts(normalize = True)"
   ]
  },
  {
   "cell_type": "code",
   "execution_count": 74,
   "metadata": {
    "collapsed": true
   },
   "outputs": [],
   "source": [
    "ner_sent_perf_no = aggregate_sentences(sent_res_pos_no.query(\"findable\"))"
   ]
  },
  {
   "cell_type": "code",
   "execution_count": 75,
   "metadata": {
    "collapsed": false
   },
   "outputs": [],
   "source": [
    "ner_final_results = get_final_res(ner_sent_perf_no, abs_res_pos_no.query(\"findable\"), ner_devset)"
   ]
  },
  {
   "cell_type": "code",
   "execution_count": 76,
   "metadata": {
    "collapsed": false
   },
   "outputs": [
    {
     "data": {
      "text/html": [
       "<div>\n",
       "<table border=\"1\" class=\"dataframe\">\n",
       "  <thead>\n",
       "    <tr style=\"text-align: right;\">\n",
       "      <th></th>\n",
       "      <th>chemical_id</th>\n",
       "      <th>disease_id</th>\n",
       "      <th>norm_conf_score</th>\n",
       "      <th>num_votes</th>\n",
       "      <th>pmid</th>\n",
       "      <th>rel_origin</th>\n",
       "    </tr>\n",
       "  </thead>\n",
       "  <tbody>\n",
       "    <tr>\n",
       "      <th>563</th>\n",
       "      <td>C071741</td>\n",
       "      <td>D010146</td>\n",
       "      <td>0.000000</td>\n",
       "      <td>0</td>\n",
       "      <td>18006530</td>\n",
       "      <td>sentence_task</td>\n",
       "    </tr>\n",
       "    <tr>\n",
       "      <th>564</th>\n",
       "      <td>D015742</td>\n",
       "      <td>D010146</td>\n",
       "      <td>0.809157</td>\n",
       "      <td>4</td>\n",
       "      <td>18006530</td>\n",
       "      <td>sentence_task</td>\n",
       "    </tr>\n",
       "    <tr>\n",
       "      <th>587</th>\n",
       "      <td>D011718</td>\n",
       "      <td>D000857</td>\n",
       "      <td>1.000000</td>\n",
       "      <td>5</td>\n",
       "      <td>19674115</td>\n",
       "      <td>sentence_task</td>\n",
       "    </tr>\n",
       "    <tr>\n",
       "      <th>588</th>\n",
       "      <td>D011718</td>\n",
       "      <td>D033461</td>\n",
       "      <td>1.000000</td>\n",
       "      <td>5</td>\n",
       "      <td>19674115</td>\n",
       "      <td>sentence_task</td>\n",
       "    </tr>\n",
       "    <tr>\n",
       "      <th>589</th>\n",
       "      <td>D011718</td>\n",
       "      <td>D056486</td>\n",
       "      <td>1.000000</td>\n",
       "      <td>5</td>\n",
       "      <td>19674115</td>\n",
       "      <td>sentence_task</td>\n",
       "    </tr>\n",
       "  </tbody>\n",
       "</table>\n",
       "</div>"
      ],
      "text/plain": [
       "    chemical_id disease_id  norm_conf_score  num_votes      pmid  \\\n",
       "563     C071741    D010146         0.000000          0  18006530   \n",
       "564     D015742    D010146         0.809157          4  18006530   \n",
       "587     D011718    D000857         1.000000          5  19674115   \n",
       "588     D011718    D033461         1.000000          5  19674115   \n",
       "589     D011718    D056486         1.000000          5  19674115   \n",
       "\n",
       "        rel_origin  \n",
       "563  sentence_task  \n",
       "564  sentence_task  \n",
       "587  sentence_task  \n",
       "588  sentence_task  \n",
       "589  sentence_task  "
      ]
     },
     "execution_count": 76,
     "metadata": {},
     "output_type": "execute_result"
    }
   ],
   "source": [
    "ner_final_results.head()"
   ]
  },
  {
   "cell_type": "code",
   "execution_count": 77,
   "metadata": {
    "collapsed": true
   },
   "outputs": [],
   "source": [
    "ner_final_results[\"in_gold\"] = ner_final_results.loc[:, [\"pmid\", \"chemical_id\", \"disease_id\"]].apply(in_gold, axis = 1)"
   ]
  },
  {
   "cell_type": "code",
   "execution_count": 78,
   "metadata": {
    "collapsed": false
   },
   "outputs": [
    {
     "data": {
      "text/plain": [
       "F_score      0.649718\n",
       "precision    0.563725\n",
       "recall       0.766667\n",
       "threshold    0.605632\n",
       "Name: 406, dtype: float64"
      ]
     },
     "execution_count": 78,
     "metadata": {},
     "output_type": "execute_result"
    }
   ],
   "source": [
    "max_F_score(\"norm_conf_score\", \"in_gold\", ner_final_results)"
   ]
  },
  {
   "cell_type": "code",
   "execution_count": 79,
   "metadata": {
    "collapsed": false
   },
   "outputs": [
    {
     "data": {
      "text/plain": [
       "F_score      0.635995\n",
       "precision    0.535308\n",
       "recall       0.783333\n",
       "threshold    3.000000\n",
       "Name: 5, dtype: float64"
      ]
     },
     "execution_count": 79,
     "metadata": {},
     "output_type": "execute_result"
    }
   ],
   "source": [
    "max_F_score(\"num_votes\", \"in_gold\", ner_final_results)"
   ]
  },
  {
   "cell_type": "code",
   "execution_count": 80,
   "metadata": {
    "collapsed": true
   },
   "outputs": [],
   "source": [
    "ner_official_res = new_F_score(\"norm_conf_score\", ner_final_results)"
   ]
  },
  {
   "cell_type": "code",
   "execution_count": 82,
   "metadata": {
    "collapsed": false
   },
   "outputs": [
    {
     "data": {
      "text/html": [
       "<div>\n",
       "<table border=\"1\" class=\"dataframe\">\n",
       "  <thead>\n",
       "    <tr style=\"text-align: right;\">\n",
       "      <th></th>\n",
       "      <th>F_score</th>\n",
       "      <th>precision</th>\n",
       "      <th>recall</th>\n",
       "      <th>threshold</th>\n",
       "    </tr>\n",
       "  </thead>\n",
       "  <tbody>\n",
       "    <tr>\n",
       "      <th>406</th>\n",
       "      <td>0.576020</td>\n",
       "      <td>0.586902</td>\n",
       "      <td>0.565534</td>\n",
       "      <td>0.605632</td>\n",
       "    </tr>\n",
       "    <tr>\n",
       "      <th>89</th>\n",
       "      <td>0.575309</td>\n",
       "      <td>0.586902</td>\n",
       "      <td>0.564165</td>\n",
       "      <td>0.605486</td>\n",
       "    </tr>\n",
       "    <tr>\n",
       "      <th>305</th>\n",
       "      <td>0.574599</td>\n",
       "      <td>0.586902</td>\n",
       "      <td>0.562802</td>\n",
       "      <td>0.604984</td>\n",
       "    </tr>\n",
       "    <tr>\n",
       "      <th>373</th>\n",
       "      <td>0.574257</td>\n",
       "      <td>0.584383</td>\n",
       "      <td>0.564477</td>\n",
       "      <td>0.605837</td>\n",
       "    </tr>\n",
       "    <tr>\n",
       "      <th>69</th>\n",
       "      <td>0.573892</td>\n",
       "      <td>0.586902</td>\n",
       "      <td>0.561446</td>\n",
       "      <td>0.604441</td>\n",
       "    </tr>\n",
       "    <tr>\n",
       "      <th>63</th>\n",
       "      <td>0.573186</td>\n",
       "      <td>0.586902</td>\n",
       "      <td>0.560096</td>\n",
       "      <td>0.603940</td>\n",
       "    </tr>\n",
       "    <tr>\n",
       "      <th>359</th>\n",
       "      <td>0.572491</td>\n",
       "      <td>0.581864</td>\n",
       "      <td>0.563415</td>\n",
       "      <td>0.606454</td>\n",
       "    </tr>\n",
       "    <tr>\n",
       "      <th>485</th>\n",
       "      <td>0.572482</td>\n",
       "      <td>0.586902</td>\n",
       "      <td>0.558753</td>\n",
       "      <td>0.603739</td>\n",
       "    </tr>\n",
       "    <tr>\n",
       "      <th>188</th>\n",
       "      <td>0.571779</td>\n",
       "      <td>0.586902</td>\n",
       "      <td>0.557416</td>\n",
       "      <td>0.603338</td>\n",
       "    </tr>\n",
       "    <tr>\n",
       "      <th>465</th>\n",
       "      <td>0.571429</td>\n",
       "      <td>0.579345</td>\n",
       "      <td>0.563725</td>\n",
       "      <td>0.606846</td>\n",
       "    </tr>\n",
       "  </tbody>\n",
       "</table>\n",
       "</div>"
      ],
      "text/plain": [
       "      F_score  precision    recall  threshold\n",
       "406  0.576020   0.586902  0.565534   0.605632\n",
       "89   0.575309   0.586902  0.564165   0.605486\n",
       "305  0.574599   0.586902  0.562802   0.604984\n",
       "373  0.574257   0.584383  0.564477   0.605837\n",
       "69   0.573892   0.586902  0.561446   0.604441\n",
       "63   0.573186   0.586902  0.560096   0.603940\n",
       "359  0.572491   0.581864  0.563415   0.606454\n",
       "485  0.572482   0.586902  0.558753   0.603739\n",
       "188  0.571779   0.586902  0.557416   0.603338\n",
       "465  0.571429   0.579345  0.563725   0.606846"
      ]
     },
     "execution_count": 82,
     "metadata": {},
     "output_type": "execute_result"
    }
   ],
   "source": [
    "ner_official_res.sort(\"F_score\", ascending = False).head(10)"
   ]
  },
  {
   "cell_type": "code",
   "execution_count": 83,
   "metadata": {
    "collapsed": true
   },
   "outputs": [],
   "source": [
    "ner_official_res_vote = new_F_score(\"num_votes\", ner_final_results)"
   ]
  },
  {
   "cell_type": "code",
   "execution_count": 84,
   "metadata": {
    "collapsed": false
   },
   "outputs": [
    {
     "data": {
      "text/html": [
       "<div>\n",
       "<table border=\"1\" class=\"dataframe\">\n",
       "  <thead>\n",
       "    <tr style=\"text-align: right;\">\n",
       "      <th></th>\n",
       "      <th>F_score</th>\n",
       "      <th>precision</th>\n",
       "      <th>recall</th>\n",
       "      <th>threshold</th>\n",
       "    </tr>\n",
       "  </thead>\n",
       "  <tbody>\n",
       "    <tr>\n",
       "      <th>5</th>\n",
       "      <td>0.560859</td>\n",
       "      <td>0.591940</td>\n",
       "      <td>0.532880</td>\n",
       "      <td>3</td>\n",
       "    </tr>\n",
       "    <tr>\n",
       "      <th>1</th>\n",
       "      <td>0.545205</td>\n",
       "      <td>0.501259</td>\n",
       "      <td>0.597598</td>\n",
       "      <td>4</td>\n",
       "    </tr>\n",
       "    <tr>\n",
       "      <th>4</th>\n",
       "      <td>0.528226</td>\n",
       "      <td>0.659950</td>\n",
       "      <td>0.440336</td>\n",
       "      <td>2</td>\n",
       "    </tr>\n",
       "    <tr>\n",
       "      <th>2</th>\n",
       "      <td>0.491393</td>\n",
       "      <td>0.395466</td>\n",
       "      <td>0.648760</td>\n",
       "      <td>5</td>\n",
       "    </tr>\n",
       "    <tr>\n",
       "      <th>3</th>\n",
       "      <td>0.446203</td>\n",
       "      <td>0.710327</td>\n",
       "      <td>0.325260</td>\n",
       "      <td>1</td>\n",
       "    </tr>\n",
       "    <tr>\n",
       "      <th>0</th>\n",
       "      <td>0.325886</td>\n",
       "      <td>0.753149</td>\n",
       "      <td>0.207928</td>\n",
       "      <td>0</td>\n",
       "    </tr>\n",
       "  </tbody>\n",
       "</table>\n",
       "</div>"
      ],
      "text/plain": [
       "    F_score  precision    recall  threshold\n",
       "5  0.560859   0.591940  0.532880          3\n",
       "1  0.545205   0.501259  0.597598          4\n",
       "4  0.528226   0.659950  0.440336          2\n",
       "2  0.491393   0.395466  0.648760          5\n",
       "3  0.446203   0.710327  0.325260          1\n",
       "0  0.325886   0.753149  0.207928          0"
      ]
     },
     "execution_count": 84,
     "metadata": {},
     "output_type": "execute_result"
    }
   ],
   "source": [
    "ner_official_res_vote.sort(\"F_score\", ascending = False)"
   ]
  },
  {
   "cell_type": "code",
   "execution_count": 85,
   "metadata": {
    "collapsed": false
   },
   "outputs": [
    {
     "data": {
      "image/png": "[encoded data removed]",
      "text/plain": [
       "<matplotlib.figure.Figure at 0x7f43335221d0>"
      ]
     },
     "metadata": {},
     "output_type": "display_data"
    }
   ],
   "source": [
    "plot_it(ner_official_res)"
   ]
  },
  {
   "cell_type": "code",
   "execution_count": 87,
   "metadata": {
    "collapsed": false
   },
   "outputs": [
    {
     "data": {
      "image/png": "[encoded data removed]",
      "text/plain": [
       "<matplotlib.figure.Figure at 0x7f4333573ef0>"
      ]
     },
     "metadata": {},
     "output_type": "display_data"
    }
   ],
   "source": [
    "plot_it(ner_official_res_vote)"
   ]
  },
  {
   "cell_type": "code",
   "execution_count": null,
   "metadata": {
    "collapsed": true
   },
   "outputs": [],
   "source": []
  }
 ],
 "metadata": {
  "kernelspec": {
   "display_name": "Python 3",
   "language": "python",
   "name": "python3"
  },
  "language_info": {
   "codemirror_mode": {
    "name": "ipython",
    "version": 3
   },
   "file_extension": ".py",
   "mimetype": "text/x-python",
   "name": "python",
   "nbconvert_exporter": "python",
   "pygments_lexer": "ipython3",
   "version": "3.4.2"
  }
 },
 "nbformat": 4,
 "nbformat_minor": 0
}
