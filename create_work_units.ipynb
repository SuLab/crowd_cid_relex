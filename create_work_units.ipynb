{
 "cells": [
  {
   "cell_type": "markdown",
   "metadata": {},
   "source": [
    "# Biocreative V Task 3B: discovering drug-induced diseases from primary text using crowdsourcing"
   ]
  },
  {
   "cell_type": "markdown",
   "metadata": {},
   "source": [
    "2015-06-10 Toby"
   ]
  },
  {
   "cell_type": "markdown",
   "metadata": {},
   "source": [
    "We will create the work units we need for CrowdFlower in this notebook."
   ]
  },
  {
   "cell_type": "markdown",
   "metadata": {},
   "source": [
    "First we will need to parse out the data into something useable."
   ]
  },
  {
   "cell_type": "code",
   "execution_count": 1,
   "metadata": {
    "collapsed": true
   },
   "outputs": [],
   "source": [
    "from collections import Counter\n",
    "from collections import defaultdict\n",
    "import matplotlib as plt\n",
    "import pandas as pd\n",
    "import random\n",
    "import sys"
   ]
  },
  {
   "cell_type": "code",
   "execution_count": 2,
   "metadata": {
    "collapsed": true
   },
   "outputs": [],
   "source": [
    "random.seed(\"2015-06-11:14:46\")"
   ]
  },
  {
   "cell_type": "code",
   "execution_count": 3,
   "metadata": {
    "collapsed": false
   },
   "outputs": [],
   "source": [
    "%matplotlib inline"
   ]
  },
  {
   "cell_type": "code",
   "execution_count": 4,
   "metadata": {
    "collapsed": false
   },
   "outputs": [],
   "source": [
    "sys.path.append(\"/home/toby/Code/util/\")\n",
    "from file_util import read_file\n",
    "from web_util import add_simple_tag\n",
    "\n",
    "from src.get_pubmed_abstract import get_abstract_information"
   ]
  },
  {
   "cell_type": "markdown",
   "metadata": {},
   "source": [
    "---"
   ]
  },
  {
   "cell_type": "markdown",
   "metadata": {},
   "source": [
    "### This will be how we store the information regarding each paper:"
   ]
  },
  {
   "cell_type": "code",
   "execution_count": 5,
   "metadata": {
    "collapsed": false
   },
   "outputs": [],
   "source": [
    "class Annotation:\n",
    "    def __init__(self, uid, stype, text, start, stop):\n",
    "        self.uid = uid\n",
    "        self.stype = stype.lower()\n",
    "        assert self.stype in [\"chemical\", \"disease\"]\n",
    "        self.text = text\n",
    "        self.start = int(start)\n",
    "        self.stop = int(stop)\n",
    "        assert self.start < self.stop\n",
    "        \n",
    "    def output(self):\n",
    "        print self.uid\n",
    "        print self.start\n",
    "        print self.stop\n",
    "        print self.text\n",
    "        print\n",
    "        \n",
    "class Relation:\n",
    "    def __init__(self, drug, disease):\n",
    "        assert drug != \"-1\"\n",
    "        assert disease != \"-1\"\n",
    "        self.drug = drug\n",
    "        self.disease = disease\n",
    "        \n",
    "    def output(self):\n",
    "        print self.drug, self.disease\n",
    "\n",
    "def make_annotations(annotations):\n",
    "    \"\"\"\n",
    "    Annotations with an identifier of -1 are ignored\n",
    "    because they never show up in a relationship.\n",
    "    \"\"\"\n",
    "    res = []\n",
    "    for group in annotations:\n",
    "        if group[5] != \"-1\":\n",
    "            res.append(Annotation(group[5], group[4], group[3], group[1], group[2]))\n",
    "\n",
    "    return res\n",
    "\n",
    "def make_relations(relations):\n",
    "    res = []\n",
    "    for group in relations:\n",
    "        res.append(Relation(group[2], group[3]))\n",
    "    \n",
    "    return res\n",
    "        \n",
    "class Paper:\n",
    "    def __init__(self, pmid, title, abstract, annotations, relations):\n",
    "        self.pmid = pmid\n",
    "        self.title = title\n",
    "        self.abstract = abstract\n",
    "        self.annotations = make_annotations(annotations)\n",
    "        self.relations = make_relations(relations)\n",
    "        \n",
    "    def output(self):\n",
    "        print self.pmid\n",
    "        print len(self.annotations), len(self.relations)"
   ]
  },
  {
   "cell_type": "markdown",
   "metadata": {},
   "source": [
    "### Parse the input files and split into individual papers:"
   ]
  },
  {
   "cell_type": "code",
   "execution_count": 6,
   "metadata": {
    "collapsed": false
   },
   "outputs": [],
   "source": [
    "def parse_input(loc, fname):\n",
    "    \"\"\"\n",
    "    Parses the given input file and returns a list\n",
    "    of Paper objects.\n",
    "    \"\"\"\n",
    "    papers = []\n",
    "\n",
    "    counter = 0\n",
    "    annotations = []\n",
    "    relations = []\n",
    "    for line in read_file(fname, loc):\n",
    "        if len(line) == 0:\n",
    "            # time to finish up this paper and prepare a new one\n",
    "            papers.append(Paper(pmid, title, abstract, annotations, relations))\n",
    "\n",
    "            counter = 0\n",
    "\n",
    "            annotations = []\n",
    "            relations = []\n",
    "        else:\n",
    "            if 0 <= counter <= 1:\n",
    "                vals = line.split('|')\n",
    "                assert len(vals) == 3\n",
    "            else:\n",
    "                vals = line.split('\\t')\n",
    "\n",
    "            if counter == 0:\n",
    "                assert vals[1] == 't'\n",
    "                pmid = vals[0]            \n",
    "                title = vals[2]\n",
    "            elif counter == 1:\n",
    "                assert vals[1] == 'a'\n",
    "                abstract = vals[2]\n",
    "            elif len(vals) == 4:\n",
    "                relations.append(vals)\n",
    "            else:\n",
    "                assert 6 <= len(vals) <= 7\n",
    "                annotations.append(vals) # 6 or 7 fields\n",
    "\n",
    "            counter += 1\n",
    "            \n",
    "    return papers"
   ]
  },
  {
   "cell_type": "code",
   "execution_count": 7,
   "metadata": {
    "collapsed": false
   },
   "outputs": [],
   "source": [
    "sample_data = parse_input(\"data/training\", \"CDR_sample.txt\")"
   ]
  },
  {
   "cell_type": "code",
   "execution_count": 8,
   "metadata": {
    "collapsed": false
   },
   "outputs": [],
   "source": [
    "training_data = parse_input(\"data/training\", \"CDR_TrainingSet.txt\")"
   ]
  },
  {
   "cell_type": "code",
   "execution_count": 9,
   "metadata": {
    "collapsed": false
   },
   "outputs": [],
   "source": [
    "development_data = parse_input(\"data/development\", \"CDR_DevelopmentSet.txt\")"
   ]
  },
  {
   "cell_type": "markdown",
   "metadata": {},
   "source": [
    "Number of papers in each dataset:"
   ]
  },
  {
   "cell_type": "code",
   "execution_count": 10,
   "metadata": {
    "collapsed": false
   },
   "outputs": [
    {
     "name": "stdout",
     "output_type": "stream",
     "text": [
      "50\n",
      "500\n",
      "500\n"
     ]
    }
   ],
   "source": [
    "print len(sample_data)\n",
    "print len(training_data)\n",
    "print len(development_data)"
   ]
  },
  {
   "cell_type": "markdown",
   "metadata": {},
   "source": [
    "---"
   ]
  },
  {
   "cell_type": "markdown",
   "metadata": {},
   "source": [
    "## Check for each annotation in each paper that the indicies of text mentioned actually match what it should be:"
   ]
  },
  {
   "cell_type": "code",
   "execution_count": 11,
   "metadata": {
    "collapsed": true
   },
   "outputs": [],
   "source": [
    "def check_paper_annotations(paper):\n",
    "    \"\"\"\n",
    "    Makes sure that the annotations for a paper are correct.\n",
    "    \"\"\"\n",
    "    text = \"{0} {1}\".format(paper.title, paper.abstract)\n",
    "    for annotation in paper.annotations:\n",
    "        assert text[annotation.start : annotation.stop] == annotation.text"
   ]
  },
  {
   "cell_type": "code",
   "execution_count": 12,
   "metadata": {
    "collapsed": true
   },
   "outputs": [],
   "source": [
    "datasets = [sample_data, training_data, development_data]\n",
    "for dataset in datasets:\n",
    "    for paper in dataset:\n",
    "        check_paper_annotations(paper)"
   ]
  },
  {
   "cell_type": "markdown",
   "metadata": {},
   "source": [
    "Thankfully there are no errors in the highlighting of annotations. This is a relief."
   ]
  },
  {
   "cell_type": "markdown",
   "metadata": {},
   "source": [
    "### Now let's check that the drugs and diseases don't overlap with one another:"
   ]
  },
  {
   "cell_type": "code",
   "execution_count": 13,
   "metadata": {
    "collapsed": true
   },
   "outputs": [],
   "source": [
    "def check_drug_disease_overlap(paper):\n",
    "    \"\"\"\n",
    "    Check to see that all pairs of drug-disease do not overlap each other.\n",
    "    \"\"\"\n",
    "    # drugs and diseases don't overlap\n",
    "    # but, diseases may overlap with other diseases, and same for drugs\n",
    "    # happens when the identifiers are the same or different\n",
    "  \n",
    "    # the code below fails the assertion, but that's ok\n",
    "    # sample data pmid 9660111 937, 939 \n",
    "#     for i, sub in enumerate(paper.annotations):\n",
    "#         for j, obj in enumerate(paper.annotations):\n",
    "#             if sub.uid != obj.uid:\n",
    "#                 assert sub.start > obj.stop or obj.start > sub.stop, \"pmid {0} sub {1} obj {2}\".format(paper.pmid,\n",
    "#                                                                                                        sub.start,\n",
    "#                                                                                                        obj.start)\n",
    "    \n",
    "    for drug in paper.annotations:\n",
    "        if drug.stype == \"chemical\":\n",
    "            for disease in paper.annotations:\n",
    "                if disease.stype == \"disease\":\n",
    "                    assert drug.start > disease.stop or disease.start > drug.stop"
   ]
  },
  {
   "cell_type": "code",
   "execution_count": 14,
   "metadata": {
    "collapsed": false
   },
   "outputs": [],
   "source": [
    "datasets = [sample_data, training_data, development_data]\n",
    "for i, dataset in enumerate(datasets):\n",
    "#     print i\n",
    "    for paper in dataset:\n",
    "        check_drug_disease_overlap(paper)"
   ]
  },
  {
   "cell_type": "markdown",
   "metadata": {},
   "source": [
    "These data are very clean. There will be no highlighting problems down the line. The only difficulty is that some concepts might be subset of other concepts in terms of highlighting."
   ]
  },
  {
   "cell_type": "markdown",
   "metadata": {},
   "source": [
    "---"
   ]
  },
  {
   "cell_type": "markdown",
   "metadata": {},
   "source": [
    "### How many annotations and relations does each paper have?"
   ]
  },
  {
   "cell_type": "code",
   "execution_count": 15,
   "metadata": {
    "collapsed": true
   },
   "outputs": [],
   "source": [
    "def info(papers):\n",
    "    points = []\n",
    "    for paper in papers:\n",
    "        points.append((len(paper.annotations), len(paper.relations)))\n",
    "        \n",
    "    df = pd.DataFrame(points, columns = [\"annotations\", \"relations\"])    \n",
    "    df.plot(figsize = (10, 5))"
   ]
  },
  {
   "cell_type": "code",
   "execution_count": 16,
   "metadata": {
    "collapsed": false
   },
   "outputs": [
    {
     "data": {
      "image/png": "[encoded data removed]",
      "text/plain": [
       "<matplotlib.figure.Figure at 0x7f71399e3b90>"
      ]
     },
     "metadata": {},
     "output_type": "display_data"
    }
   ],
   "source": [
    "info(sample_data)"
   ]
  },
  {
   "cell_type": "code",
   "execution_count": 17,
   "metadata": {
    "collapsed": false
   },
   "outputs": [
    {
     "data": {
      "image/png": "[encoded data removed]",
      "text/plain": [
       "<matplotlib.figure.Figure at 0x7f71398f5e10>"
      ]
     },
     "metadata": {},
     "output_type": "display_data"
    }
   ],
   "source": [
    "info(training_data)"
   ]
  },
  {
   "cell_type": "code",
   "execution_count": 18,
   "metadata": {
    "collapsed": false
   },
   "outputs": [
    {
     "data": {
      "image/png": "[encoded data removed]",
      "text/plain": [
       "<matplotlib.figure.Figure at 0x7f713983cb10>"
      ]
     },
     "metadata": {},
     "output_type": "display_data"
    }
   ],
   "source": [
    "info(development_data)"
   ]
  },
  {
   "cell_type": "markdown",
   "metadata": {},
   "source": [
    "### I've noticed that some of the annotations for diseases or drugs will have an identifier of \"-1\". I presume that this is because some of the concepts have not yet been assigned identifiers. However, since the relationships given seem to be only based on the identifiers, I was wondering if the concepts without identifiers will every be involved in a relationship. If they are, are they mentioned by name, or by something else?"
   ]
  },
  {
   "cell_type": "markdown",
   "metadata": {},
   "source": [
    "It seems that indeed there are no relationships between concepts without identifiers in any of the provided data. I will therefore assume that there will never be any relationships involving concepts without any identifier. Therefore, it seems that any annotations where there is no identifier can be ignored for the purposes of trying to find all of the relationships. This is good, because it will reduce the possible number of work units, making the job cheaper."
   ]
  },
  {
   "cell_type": "markdown",
   "metadata": {},
   "source": [
    "Therefore we can now ignore the concepts with no identifiers for our project."
   ]
  },
  {
   "cell_type": "markdown",
   "metadata": {
    "collapsed": true
   },
   "source": [
    "## How much would it roughly cost to do the pairwise expansion experiment?"
   ]
  },
  {
   "cell_type": "markdown",
   "metadata": {},
   "source": [
    "If, for each paper, we show the crowd all N by M unique drug-disease pairs, then how many work units will there be? This will give us a rough idea of the cost of the experiment."
   ]
  },
  {
   "cell_type": "code",
   "execution_count": 19,
   "metadata": {
    "collapsed": false,
    "scrolled": true
   },
   "outputs": [],
   "source": [
    "def num_work_units(papers):\n",
    "    work_units = 0\n",
    "    for paper in papers:\n",
    "        uniq_drugs = set()\n",
    "        uniq_diseases = set()\n",
    "        for annotation in paper.annotations:\n",
    "            if annotation.stype == \"chemical\":\n",
    "                uniq_drugs.add(annotation.uid)\n",
    "            else:\n",
    "                assert annotation.stype == \"disease\"\n",
    "                uniq_diseases.add(annotation.uid)\n",
    "\n",
    "        work_units += len(uniq_drugs) * len(uniq_diseases)\n",
    "\n",
    "    return work_units"
   ]
  },
  {
   "cell_type": "code",
   "execution_count": 20,
   "metadata": {
    "collapsed": false
   },
   "outputs": [
    {
     "data": {
      "text/plain": [
       "676"
      ]
     },
     "execution_count": 20,
     "metadata": {},
     "output_type": "execute_result"
    }
   ],
   "source": [
    "num_work_units(sample_data)"
   ]
  },
  {
   "cell_type": "code",
   "execution_count": 21,
   "metadata": {
    "collapsed": false
   },
   "outputs": [
    {
     "data": {
      "text/plain": [
       "5435"
      ]
     },
     "execution_count": 21,
     "metadata": {},
     "output_type": "execute_result"
    }
   ],
   "source": [
    "num_work_units(training_data)"
   ]
  },
  {
   "cell_type": "code",
   "execution_count": 22,
   "metadata": {
    "collapsed": false
   },
   "outputs": [
    {
     "data": {
      "text/plain": [
       "5175"
      ]
     },
     "execution_count": 22,
     "metadata": {},
     "output_type": "execute_result"
    }
   ],
   "source": [
    "num_work_units(development_data)"
   ]
  },
  {
   "cell_type": "markdown",
   "metadata": {},
   "source": [
    "So 5000 work units for 500 papers equals 10 work units (WU) per paper on average. If, we formulate the crowd task as follows:\n",
    "1. Read an abstract.\n",
    "2. Answer 5 true/false questions regarding 5 unique drug-disease pairs, about whether the drug is inducing the disease.\n",
    "\n",
    "Pay 10 cents per task (5 work units), so 2 cents per work unit. Ask for 5 user judgements per any task.\n",
    "\n",
    "The cost per paper would therefore be: 2 cents/WU/judgement * 10 WU/paper * 5 judgements = $1.00 per paper"
   ]
  },
  {
   "cell_type": "markdown",
   "metadata": {},
   "source": [
    "### Therefore the cost seems reasonable per paper. Let's actually try out a small experiment to see if people can actually do this job at all:"
   ]
  },
  {
   "cell_type": "markdown",
   "metadata": {},
   "source": [
    "We will be measuring two things: precision and recall. Recall = % of the relations that the crowd managed to get correct / total number of relations. Precision = # of relations / # of relations + # of relations crowd says exists but are wrong"
   ]
  },
  {
   "cell_type": "markdown",
   "metadata": {},
   "source": [
    "### Selecting a random sample of papers to use for our experiment:"
   ]
  },
  {
   "cell_type": "markdown",
   "metadata": {},
   "source": [
    "Since the sample set (50 papers) is just a small subset of the actual training set, we will just go ahead and pick directly from the training set for simplicity."
   ]
  },
  {
   "cell_type": "code",
   "execution_count": 23,
   "metadata": {
    "collapsed": false
   },
   "outputs": [],
   "source": [
    "TESTSET_SIZE = 30\n",
    "testset = random.sample(training_data, TESTSET_SIZE)"
   ]
  },
  {
   "cell_type": "markdown",
   "metadata": {},
   "source": [
    "Now we need to generate the actual work units for CrowdFlower:"
   ]
  },
  {
   "cell_type": "markdown",
   "metadata": {},
   "source": [
    "We will need for each work unit:\n",
    "\n",
    "1. A unique work unit id.\n",
    "2. The title of the paper, properly highlighted with diseases and drugs.\n",
    "3. The body of the abstract, properly highlighted.\n",
    "4. A set of 5 (too many?) unique drug-disease pairs. (include proper names for each concept?)\n",
    "    1. If there aren't enough, then make it blank and display nothing in crowdflower.\n"
   ]
  },
  {
   "cell_type": "code",
   "execution_count": 24,
   "metadata": {
    "collapsed": true
   },
   "outputs": [],
   "source": [
    "def chunks(a_list, chunk_size):\n",
    "    \"\"\"\n",
    "    Yield successive chunks from the list.\n",
    "    \"\"\"\n",
    "    for i in xrange(0, len(a_list), chunk_size):\n",
    "        yield a_list[i : i + chunk_size]"
   ]
  },
  {
   "cell_type": "code",
   "execution_count": 25,
   "metadata": {
    "collapsed": true
   },
   "outputs": [],
   "source": [
    "def get_all_work_units(paper):\n",
    "    \"\"\"\n",
    "    Generate all unique drug-disease pairs by unique identifier.\n",
    "    Return a list.\n",
    "    \"\"\"\n",
    "    uniq_drugs = set()\n",
    "    uniq_diseases = set()\n",
    "    # find all unique concepts\n",
    "    for annotation in paper.annotations:\n",
    "        if annotation.stype == \"chemical\":\n",
    "            uniq_drugs.add(annotation.uid)\n",
    "        else:\n",
    "            uniq_diseases.add(annotation.uid)\n",
    "    \n",
    "    work_units = []\n",
    "    for drug in uniq_drugs:\n",
    "        for disease in uniq_diseases:\n",
    "            work_units.append((drug, disease))\n",
    "            \n",
    "    return work_units"
   ]
  },
  {
   "cell_type": "code",
   "execution_count": 26,
   "metadata": {
    "collapsed": true
   },
   "outputs": [],
   "source": [
    "def is_subset(concept, other):\n",
    "    \"\"\"\n",
    "    Checks if the first concept is a subset of the position of the second concept.\n",
    "    \"\"\"\n",
    "    return concept.start >= other.start and concept.stop <= other.stop"
   ]
  },
  {
   "cell_type": "code",
   "execution_count": 27,
   "metadata": {
    "collapsed": true
   },
   "outputs": [],
   "source": [
    "def get_uniq_spans(paper, group):\n",
    "    \"\"\"\n",
    "    Looks through all of the text spans which need to be\n",
    "    highlighted, and removes those which are subsets of\n",
    "    another span that needs to be highlighted.\n",
    "    \"\"\"\n",
    "    concepts = set()\n",
    "    for drug, disease in group:\n",
    "        concepts.add(drug)\n",
    "        concepts.add(disease)\n",
    "\n",
    "    highlight = []\n",
    "    for annotation in paper.annotations:\n",
    "        if annotation.uid in concepts:\n",
    "            highlight.append(annotation)\n",
    "\n",
    "    temp = []\n",
    "    for i, annotation in enumerate(highlight):\n",
    "        temp.append(annotation)\n",
    "\n",
    "        for j, other in enumerate(highlight):\n",
    "            if i != j and annotation.stype == other.stype:\n",
    "                if is_subset(annotation, other):\n",
    "                    temp.pop()\n",
    "                    break\n",
    "\n",
    "    return temp"
   ]
  },
  {
   "cell_type": "markdown",
   "metadata": {},
   "source": [
    "### This is a test function:"
   ]
  },
  {
   "cell_type": "code",
   "execution_count": 28,
   "metadata": {
    "collapsed": false
   },
   "outputs": [
    {
     "name": "stdout",
     "output_type": "stream",
     "text": [
      "D007035\n",
      "768\n",
      "779\n",
      "hypothermia\n",
      "\n",
      "D003913\n",
      "937\n",
      "950\n",
      "d-amphetamine\n",
      "\n",
      "D003913\n",
      "1062\n",
      "1075\n",
      "d-amphetamine\n",
      "\n"
     ]
    }
   ],
   "source": [
    "# the test for the get_uniq_spans() function\n",
    "paper = []\n",
    "for lol in sample_data:\n",
    "    if lol.pmid == \"9660111\":\n",
    "        paper = lol\n",
    "        break\n",
    "        \n",
    "group = [(\"D003913\", \"D007035\"), (\"D000661\", \"D007035\")]\n",
    "\n",
    "for i in get_uniq_spans(paper, group):\n",
    "    i.output()"
   ]
  },
  {
   "cell_type": "code",
   "execution_count": 29,
   "metadata": {
    "collapsed": true
   },
   "outputs": [],
   "source": [
    "def highlight_concepts(text, breaks):\n",
    "    breaks = sorted(breaks, key = lambda x: x[0])\n",
    "    \n",
    "    final = []\n",
    "    for i in range(len(breaks) - 1):\n",
    "        s = text[breaks[i][0] : breaks[i+1][0]]\n",
    "        \n",
    "        if breaks[i][1] == \"c\":\n",
    "            s = add_simple_tag(\"span\", \"chemical\", s)\n",
    "        elif breaks[i][1] == \"d\":\n",
    "            s = add_simple_tag(\"span\", \"disease\", s)\n",
    "            \n",
    "        final.append(s)\n",
    "        \n",
    "    return \"\".join(final)"
   ]
  },
  {
   "cell_type": "code",
   "execution_count": 30,
   "metadata": {
    "collapsed": true
   },
   "outputs": [],
   "source": [
    "def highlight_title(title, uniq_spans):\n",
    "    \"\"\"\n",
    "    Highlights the title.\n",
    "    \"\"\"\n",
    "    # index of break, type of break (n = nothing)\n",
    "    breaks = [(0, \"n\"), (len(title), \"n\")]\n",
    "    \n",
    "    for span in uniq_spans:\n",
    "        if span.start < len(title):\n",
    "            breaks.append((span.start, span.stype[0]))\n",
    "            breaks.append((span.stop, \"n\"))\n",
    "            \n",
    "    return highlight_concepts(title, breaks)"
   ]
  },
  {
   "cell_type": "code",
   "execution_count": 31,
   "metadata": {
    "collapsed": true
   },
   "outputs": [],
   "source": [
    "def highlight_abstract(title_length, abstract, uniq_spans):\n",
    "    # we need to subtract out the length of the title + 1\n",
    "    breaks = [(0, \"n\"), (len(abstract), \"n\")]\n",
    "    \n",
    "    for span in uniq_spans:\n",
    "        if span.start > title_length:\n",
    "            breaks.append((span.start - title_length - 1, span.stype[0]))\n",
    "            breaks.append((span.stop - title_length - 1, \"n\"))\n",
    "            \n",
    "    return highlight_concepts(abstract, breaks)"
   ]
  },
  {
   "cell_type": "markdown",
   "metadata": {},
   "source": [
    "## Generate the work units for CrowdFlower:"
   ]
  },
  {
   "cell_type": "code",
   "execution_count": 32,
   "metadata": {
    "collapsed": true
   },
   "outputs": [],
   "source": [
    "def get_name(paper, uid):\n",
    "    \"\"\"\n",
    "    Get the highlighted piece of text\n",
    "    belonging to a UID.\n",
    "    \"\"\"\n",
    "    # there could be many variants of the same UID\n",
    "    # do I want to go with the official name??\n",
    "    \n",
    "    # for now will just return the first..\n",
    "    for annotation in paper.annotations:\n",
    "        if annotation.uid == uid:\n",
    "            return annotation.text"
   ]
  },
  {
   "cell_type": "markdown",
   "metadata": {},
   "source": [
    "### The output we get from pubtator's highlighting is in one huge chunk. This isn't good, because it makes it harder to tell what's going on. We need to break it up so that it is easier to read and parse:"
   ]
  },
  {
   "cell_type": "markdown",
   "metadata": {},
   "source": [
    "We will do this using the following strategy:\n",
    "1. Query pubmed with the pmid\n",
    "2. Count the number of chunks, and the starting text of each chunk:\n",
    "3. Replace with div elements for easier formatting."
   ]
  },
  {
   "cell_type": "markdown",
   "metadata": {},
   "source": [
    "We can use the checkboxes element of CrowdFlower to list the variable number of drug-disease pairs to show to our crowd. Since we want to make downstream analysis easier for ourselves, we will use the value of each choice as the actual identifiers given in the biocreative file. However, we want to show human readable names, so we will need another array to hold the names. (do we want to show the official name?).... \n",
    "<br>\n",
    "I could probably do something like, each of the concepts is highlighted in a different color? I basically want to tell the crowd that one concept may have multiple variants in actual text... But I don't want 10 different colors because that will make things super hard to read.."
   ]
  },
  {
   "cell_type": "code",
   "execution_count": 33,
   "metadata": {
    "collapsed": true
   },
   "outputs": [],
   "source": [
    "def make_sections(text, breaks):\n",
    "    breaks = sorted(breaks)\n",
    "    \n",
    "    final = []\n",
    "    for i in range(len(breaks) - 1):\n",
    "        s = text[breaks[i] : breaks[i+1]]\n",
    "        s = \"<p>{0}</p>\".format(s)\n",
    "        final.append(s)\n",
    "        \n",
    "    return \"\".join(final)"
   ]
  },
  {
   "cell_type": "markdown",
   "metadata": {},
   "source": [
    "## Now we finally can put all the functions together and generate the work units:"
   ]
  },
  {
   "cell_type": "code",
   "execution_count": 34,
   "metadata": {
    "collapsed": false,
    "scrolled": true
   },
   "outputs": [],
   "source": [
    "CHOICES_PER_ABSTRACT = 5\n",
    "\n",
    "data = defaultdict(list)\n",
    "\n",
    "for paper in testset:\n",
    "    title, abs_chunks = get_abstract_information(str(paper.pmid))\n",
    "    \n",
    "    section_names = []\n",
    "    if len(abs_chunks) > 1:\n",
    "        for section in abs_chunks:\n",
    "            section_name = section[ : section.index(\":\")]\n",
    "            section_names.append(section_name)\n",
    "    \n",
    "    # make all unique drug-disease pairs into a list\n",
    "    # group by group size after\n",
    "    \n",
    "    work_units = get_all_work_units(paper) # the concept id pairs\n",
    "\n",
    "    for group in chunks(work_units, CHOICES_PER_ABSTRACT):\n",
    "        uniq_spans = get_uniq_spans(paper, group)        \n",
    "        \n",
    "        # now that we know what the unique spans are, we can go ahead and highlight them in the original text\n",
    "        form_title = highlight_title(paper.title, uniq_spans)\n",
    "        form_abstract = highlight_abstract(len(paper.title), paper.abstract, uniq_spans)\n",
    "\n",
    "        # now use the section names to break it up:\n",
    "        if len(section_names) > 1:\n",
    "            section_idx = [0, len(form_abstract)]\n",
    "            for name in section_names:\n",
    "                section_idx.append(form_abstract.index(name))\n",
    "                \n",
    "            form_abstract = make_sections(form_abstract, section_idx)\n",
    "        \n",
    "        \n",
    "        # now to make the final hbits\n",
    "        data[\"pmid\"].append(paper.pmid)\n",
    "        data[\"form_title\"].append(form_title)\n",
    "        data[\"form_abstract\"].append(form_abstract)\n",
    "        \n",
    "        # drug_induces_disease|drug_induces_disease\n",
    "        \n",
    "        poss_rel_ids = [\"{0}_induces_{1}\".format(drug, disease) for drug, disease in group]\n",
    "        \n",
    "        poss_rels = [\"{0} induces {1}\".format(\n",
    "                add_simple_tag(\"span\", \"chemical\", get_name(paper, drug)),\n",
    "                add_simple_tag(\"span\", \"disease\", get_name(paper, disease)))\n",
    "                     for drug, disease in group]\n",
    "        \n",
    "        assert len(poss_rel_ids) == len(poss_rels)\n",
    "        \n",
    "        data[\"poss_rel_ids\"].append(\"|\".join(poss_rel_ids)) # the value part of each choice\n",
    "        data[\"possible_relationships\"].append(\"|\".join(poss_rels)) # the label part of each choice\n",
    "        \n",
    "        data[\"max_index\"].append(len(group) - 1) # used for liquid looping"
   ]
  },
  {
   "cell_type": "markdown",
   "metadata": {},
   "source": [
    "### Make into a dataframe and output to a text file:"
   ]
  },
  {
   "cell_type": "code",
   "execution_count": 35,
   "metadata": {
    "collapsed": true
   },
   "outputs": [],
   "source": [
    "cf_data = pd.DataFrame(data)"
   ]
  },
  {
   "cell_type": "markdown",
   "metadata": {},
   "source": [
    "### Adding a unique identifier for each work unit:"
   ]
  },
  {
   "cell_type": "code",
   "execution_count": 36,
   "metadata": {
    "collapsed": true
   },
   "outputs": [],
   "source": [
    "cf_data[\"uniq_id\"] = pd.Series([\"bcv_id_{0}\".format(i) for i in range(len(cf_data))])"
   ]
  },
  {
   "cell_type": "code",
   "execution_count": 37,
   "metadata": {
    "collapsed": false,
    "scrolled": false
   },
   "outputs": [
    {
     "data": {
      "text/html": [
       "<div style=\"max-height:1000px;max-width:1500px;overflow:auto;\">\n",
       "<table border=\"1\" class=\"dataframe\">\n",
       "  <thead>\n",
       "    <tr style=\"text-align: right;\">\n",
       "      <th></th>\n",
       "      <th>form_abstract</th>\n",
       "      <th>form_title</th>\n",
       "      <th>max_index</th>\n",
       "      <th>pmid</th>\n",
       "      <th>poss_rel_ids</th>\n",
       "      <th>possible_relationships</th>\n",
       "      <th>uniq_id</th>\n",
       "    </tr>\n",
       "  </thead>\n",
       "  <tbody>\n",
       "    <tr>\n",
       "      <th>0</th>\n",
       "      <td>1. &lt;span class=\"disease\"&gt;Torsades de pointes&lt;/...</td>\n",
       "      <td>Pharmacokinetic/pharmacodynamic assessment of ...</td>\n",
       "      <td>4</td>\n",
       "      <td>11569530</td>\n",
       "      <td>D020117_induces_D013610|D020117_induces_D01617...</td>\n",
       "      <td>&lt;span class=\"chemical\"&gt;cisapride&lt;/span&gt; induce...</td>\n",
       "      <td>bcv_id_0</td>\n",
       "    </tr>\n",
       "    <tr>\n",
       "      <th>1</th>\n",
       "      <td>1. &lt;span class=\"disease\"&gt;Torsades de pointes&lt;/...</td>\n",
       "      <td>Pharmacokinetic/pharmacodynamic assessment of ...</td>\n",
       "      <td>4</td>\n",
       "      <td>11569530</td>\n",
       "      <td>C063968_induces_D017180|D016593_induces_D01361...</td>\n",
       "      <td>&lt;span class=\"chemical\"&gt;E4031&lt;/span&gt; induces &lt;s...</td>\n",
       "      <td>bcv_id_1</td>\n",
       "    </tr>\n",
       "    <tr>\n",
       "      <th>2</th>\n",
       "      <td>1. &lt;span class=\"disease\"&gt;Torsades de pointes&lt;/...</td>\n",
       "      <td>Pharmacokinetic/pharmacodynamic assessment of ...</td>\n",
       "      <td>1</td>\n",
       "      <td>11569530</td>\n",
       "      <td>C010637_induces_D016171|C010637_induces_D017180</td>\n",
       "      <td>&lt;span class=\"chemical\"&gt;terodiline&lt;/span&gt; induc...</td>\n",
       "      <td>bcv_id_2</td>\n",
       "    </tr>\n",
       "    <tr>\n",
       "      <th>3</th>\n",
       "      <td>&lt;p&gt;&lt;/p&gt;&lt;p&gt;BACKGROUND: Cisplatin-based chemothe...</td>\n",
       "      <td>&lt;span class=\"chemical\"&gt;Paclitaxel&lt;/span&gt;, cisp...</td>\n",
       "      <td>4</td>\n",
       "      <td>11135224</td>\n",
       "      <td>D017239_induces_D013921|D017239_induces_D06442...</td>\n",
       "      <td>&lt;span class=\"chemical\"&gt;Paclitaxel&lt;/span&gt; induc...</td>\n",
       "      <td>bcv_id_3</td>\n",
       "    </tr>\n",
       "    <tr>\n",
       "      <th>4</th>\n",
       "      <td>&lt;p&gt;&lt;/p&gt;&lt;p&gt;BACKGROUND: &lt;span class=\"chemical\"&gt;C...</td>\n",
       "      <td>Paclitaxel, &lt;span class=\"chemical\"&gt;cisplatin&lt;/...</td>\n",
       "      <td>4</td>\n",
       "      <td>11135224</td>\n",
       "      <td>D002945_induces_D013921|D002945_induces_D06442...</td>\n",
       "      <td>&lt;span class=\"chemical\"&gt;cisplatin&lt;/span&gt; induce...</td>\n",
       "      <td>bcv_id_4</td>\n",
       "    </tr>\n",
       "    <tr>\n",
       "      <th>5</th>\n",
       "      <td>&lt;p&gt;&lt;/p&gt;&lt;p&gt;BACKGROUND: Cisplatin-based chemothe...</td>\n",
       "      <td>Paclitaxel, cisplatin, and &lt;span class=\"chemic...</td>\n",
       "      <td>4</td>\n",
       "      <td>11135224</td>\n",
       "      <td>C056507_induces_D013921|C056507_induces_D06442...</td>\n",
       "      <td>&lt;span class=\"chemical\"&gt;gemcitabine&lt;/span&gt; indu...</td>\n",
       "      <td>bcv_id_5</td>\n",
       "    </tr>\n",
       "    <tr>\n",
       "      <th>6</th>\n",
       "      <td>Rats with lithium-induced &lt;span class=\"disease...</td>\n",
       "      <td>Effects of uninephrectomy and high protein fee...</td>\n",
       "      <td>4</td>\n",
       "      <td>1378968</td>\n",
       "      <td>D003404_induces_D006973|D003404_induces_D01150...</td>\n",
       "      <td>&lt;span class=\"chemical\"&gt;creatinine&lt;/span&gt; induc...</td>\n",
       "      <td>bcv_id_6</td>\n",
       "    </tr>\n",
       "    <tr>\n",
       "      <th>7</th>\n",
       "      <td>Rats with &lt;span class=\"chemical\"&gt;lithium&lt;/span...</td>\n",
       "      <td>Effects of uninephrectomy and high protein fee...</td>\n",
       "      <td>4</td>\n",
       "      <td>1378968</td>\n",
       "      <td>D003404_induces_D005921|D008094_induces_D00697...</td>\n",
       "      <td>&lt;span class=\"chemical\"&gt;creatinine&lt;/span&gt; induc...</td>\n",
       "      <td>bcv_id_7</td>\n",
       "    </tr>\n",
       "    <tr>\n",
       "      <th>8</th>\n",
       "      <td>Rats with &lt;span class=\"chemical\"&gt;lithium&lt;/span...</td>\n",
       "      <td>Effects of uninephrectomy and high protein fee...</td>\n",
       "      <td>1</td>\n",
       "      <td>1378968</td>\n",
       "      <td>D008094_induces_D007676|D008094_induces_D005921</td>\n",
       "      <td>&lt;span class=\"chemical\"&gt;lithium&lt;/span&gt; induces ...</td>\n",
       "      <td>bcv_id_8</td>\n",
       "    </tr>\n",
       "    <tr>\n",
       "      <th>9</th>\n",
       "      <td>&lt;span class=\"disease\"&gt;Pain&lt;/span&gt; memory is th...</td>\n",
       "      <td>Explicit episodic memory for sensory-discrimin...</td>\n",
       "      <td>0</td>\n",
       "      <td>19269743</td>\n",
       "      <td>D002211_induces_D010146</td>\n",
       "      <td>&lt;span class=\"chemical\"&gt;capsaicin&lt;/span&gt; induce...</td>\n",
       "      <td>bcv_id_9</td>\n",
       "    </tr>\n",
       "    <tr>\n",
       "      <th>10</th>\n",
       "      <td>This study investigated &lt;span class=\"chemical\"...</td>\n",
       "      <td>&lt;span class=\"chemical\"&gt;Thiopentone&lt;/span&gt; pret...</td>\n",
       "      <td>4</td>\n",
       "      <td>8595686</td>\n",
       "      <td>D015742_induces_D010146|D015742_induces_D01447...</td>\n",
       "      <td>&lt;span class=\"chemical\"&gt;propofol&lt;/span&gt; induces...</td>\n",
       "      <td>bcv_id_10</td>\n",
       "    </tr>\n",
       "    <tr>\n",
       "      <th>11</th>\n",
       "      <td>This study investigated propofol injection pai...</td>\n",
       "      <td>Thiopentone pretreatment for propofol injectio...</td>\n",
       "      <td>0</td>\n",
       "      <td>8595686</td>\n",
       "      <td>D008012_induces_D014474</td>\n",
       "      <td>&lt;span class=\"chemical\"&gt;lidocaine&lt;/span&gt; induce...</td>\n",
       "      <td>bcv_id_11</td>\n",
       "    </tr>\n",
       "    <tr>\n",
       "      <th>12</th>\n",
       "      <td>&lt;span class=\"disease\"&gt;Mitochondrial abnormalit...</td>\n",
       "      <td>Investigation of mitochondrial involvement in ...</td>\n",
       "      <td>4</td>\n",
       "      <td>16337777</td>\n",
       "      <td>D010862_induces_D013226|D010862_induces_D00364...</td>\n",
       "      <td>&lt;span class=\"chemical\"&gt;pilocarpine&lt;/span&gt; indu...</td>\n",
       "      <td>bcv_id_12</td>\n",
       "    </tr>\n",
       "    <tr>\n",
       "      <th>13</th>\n",
       "      <td>The marked vasodilator and negative inotropic ...</td>\n",
       "      <td>The haemodynamic effects of &lt;span class=\"chemi...</td>\n",
       "      <td>4</td>\n",
       "      <td>10520387</td>\n",
       "      <td>D015742_induces_D013610|D015742_induces_D00702...</td>\n",
       "      <td>&lt;span class=\"chemical\"&gt;propofol&lt;/span&gt; induces...</td>\n",
       "      <td>bcv_id_13</td>\n",
       "    </tr>\n",
       "    <tr>\n",
       "      <th>14</th>\n",
       "      <td>The marked vasodilator and negative inotropic ...</td>\n",
       "      <td>The haemodynamic effects of propofol in combin...</td>\n",
       "      <td>0</td>\n",
       "      <td>10520387</td>\n",
       "      <td>D004809_induces_D017202</td>\n",
       "      <td>&lt;span class=\"chemical\"&gt;ephedrine&lt;/span&gt; induce...</td>\n",
       "      <td>bcv_id_14</td>\n",
       "    </tr>\n",
       "    <tr>\n",
       "      <th>15</th>\n",
       "      <td>&lt;p&gt;&lt;/p&gt;&lt;p&gt;AIM: This study was carried out to d...</td>\n",
       "      <td>A study on the effect of the duration of subcu...</td>\n",
       "      <td>1</td>\n",
       "      <td>17931375</td>\n",
       "      <td>D006493_induces_D003288|D006493_induces_D010146</td>\n",
       "      <td>&lt;span class=\"chemical\"&gt;heparin&lt;/span&gt; induces ...</td>\n",
       "      <td>bcv_id_15</td>\n",
       "    </tr>\n",
       "    <tr>\n",
       "      <th>16</th>\n",
       "      <td>&lt;span class=\"disease\"&gt;Fibrous myopathy&lt;/span&gt; ...</td>\n",
       "      <td>&lt;span class=\"disease\"&gt;Compression neuropathy o...</td>\n",
       "      <td>3</td>\n",
       "      <td>3800626</td>\n",
       "      <td>D010423_induces_D009135|D010423_induces_D00940...</td>\n",
       "      <td>&lt;span class=\"chemical\"&gt;pentazocine&lt;/span&gt; indu...</td>\n",
       "      <td>bcv_id_16</td>\n",
       "    </tr>\n",
       "    <tr>\n",
       "      <th>17</th>\n",
       "      <td>The cause of &lt;span class=\"disease\"&gt;hearing los...</td>\n",
       "      <td>The effect of different anaesthetic agents in ...</td>\n",
       "      <td>3</td>\n",
       "      <td>9522143</td>\n",
       "      <td>D011318_induces_D006319|D011318_induces_D03438...</td>\n",
       "      <td>&lt;span class=\"chemical\"&gt;prilocaine&lt;/span&gt; induc...</td>\n",
       "      <td>bcv_id_17</td>\n",
       "    </tr>\n",
       "    <tr>\n",
       "      <th>18</th>\n",
       "      <td>&lt;span class=\"chemical\"&gt;Statins&lt;/span&gt; can caus...</td>\n",
       "      <td>Progressive &lt;span class=\"disease\"&gt;myopathy&lt;/sp...</td>\n",
       "      <td>4</td>\n",
       "      <td>17241784</td>\n",
       "      <td>D008727_induces_D009135|D008727_induces_D00933...</td>\n",
       "      <td>&lt;span class=\"chemical\"&gt;methotrexate&lt;/span&gt; ind...</td>\n",
       "      <td>bcv_id_18</td>\n",
       "    </tr>\n",
       "    <tr>\n",
       "      <th>19</th>\n",
       "      <td>Statins can cause a necrotizing myopathy and h...</td>\n",
       "      <td>Progressive myopathy with up-regulation of MHC...</td>\n",
       "      <td>0</td>\n",
       "      <td>17241784</td>\n",
       "      <td>D011239_induces_D009336</td>\n",
       "      <td>&lt;span class=\"chemical\"&gt;prednisolone&lt;/span&gt; ind...</td>\n",
       "      <td>bcv_id_19</td>\n",
       "    </tr>\n",
       "    <tr>\n",
       "      <th>20</th>\n",
       "      <td>Two patients with similar clinical features ar...</td>\n",
       "      <td>Serial &lt;span class=\"disease\"&gt;epilepsy&lt;/span&gt; c...</td>\n",
       "      <td>4</td>\n",
       "      <td>2265898</td>\n",
       "      <td>C009265_induces_D001523|C009265_induces_D01264...</td>\n",
       "      <td>&lt;span class=\"chemical\"&gt;levodopa/carbidopa&lt;/spa...</td>\n",
       "      <td>bcv_id_20</td>\n",
       "    </tr>\n",
       "    <tr>\n",
       "      <th>21</th>\n",
       "      <td>Two patients with similar clinical features ar...</td>\n",
       "      <td>Serial &lt;span class=\"disease\"&gt;epilepsy&lt;/span&gt; c...</td>\n",
       "      <td>2</td>\n",
       "      <td>2265898</td>\n",
       "      <td>D025101_induces_D012640|D025101_induces_D00482...</td>\n",
       "      <td>&lt;span class=\"chemical\"&gt;vitamin B6&lt;/span&gt; induc...</td>\n",
       "      <td>bcv_id_21</td>\n",
       "    </tr>\n",
       "    <tr>\n",
       "      <th>22</th>\n",
       "      <td>Male Sprague-Dawley rats were treated with &lt;sp...</td>\n",
       "      <td>&lt;span class=\"chemical\"&gt;D-penicillamine&lt;/span&gt;-...</td>\n",
       "      <td>1</td>\n",
       "      <td>6666578</td>\n",
       "      <td>D010396_induces_D001018|D006820_induces_D001018</td>\n",
       "      <td>&lt;span class=\"chemical\"&gt;D-penicillamine&lt;/span&gt; ...</td>\n",
       "      <td>bcv_id_22</td>\n",
       "    </tr>\n",
       "    <tr>\n",
       "      <th>23</th>\n",
       "      <td>&lt;p&gt;&lt;/p&gt;&lt;p&gt;BACKGROUND: A previous randomized co...</td>\n",
       "      <td>Spironolactone-induced &lt;span class=\"disease\"&gt;r...</td>\n",
       "      <td>4</td>\n",
       "      <td>15632880</td>\n",
       "      <td>D002857_induces_D006333|D002857_induces_D00694...</td>\n",
       "      <td>&lt;span class=\"chemical\"&gt;Cr&lt;/span&gt; induces &lt;span...</td>\n",
       "      <td>bcv_id_23</td>\n",
       "    </tr>\n",
       "    <tr>\n",
       "      <th>24</th>\n",
       "      <td>&lt;p&gt;&lt;/p&gt;&lt;p&gt;BACKGROUND: A previous randomized co...</td>\n",
       "      <td>Spironolactone-induced &lt;span class=\"disease\"&gt;r...</td>\n",
       "      <td>4</td>\n",
       "      <td>15632880</td>\n",
       "      <td>D003404_induces_D006947|D003404_induces_D00392...</td>\n",
       "      <td>&lt;span class=\"chemical\"&gt;creatinine&lt;/span&gt; induc...</td>\n",
       "      <td>bcv_id_24</td>\n",
       "    </tr>\n",
       "    <tr>\n",
       "      <th>25</th>\n",
       "      <td>&lt;p&gt;&lt;/p&gt;&lt;p&gt;BACKGROUND: A previous randomized co...</td>\n",
       "      <td>Spironolactone-induced &lt;span class=\"disease\"&gt;r...</td>\n",
       "      <td>4</td>\n",
       "      <td>15632880</td>\n",
       "      <td>D011188_induces_D003920|D011188_induces_D05143...</td>\n",
       "      <td>&lt;span class=\"chemical\"&gt;K&lt;/span&gt; induces &lt;span ...</td>\n",
       "      <td>bcv_id_25</td>\n",
       "    </tr>\n",
       "    <tr>\n",
       "      <th>26</th>\n",
       "      <td>&lt;p&gt;&lt;/p&gt;&lt;p&gt;BACKGROUND: A previous randomized co...</td>\n",
       "      <td>&lt;span class=\"chemical\"&gt;Spironolactone&lt;/span&gt;-i...</td>\n",
       "      <td>4</td>\n",
       "      <td>15632880</td>\n",
       "      <td>D049971_induces_D051437|D013148_induces_D00633...</td>\n",
       "      <td>&lt;span class=\"chemical\"&gt;thiazide&lt;/span&gt; induces...</td>\n",
       "      <td>bcv_id_26</td>\n",
       "    </tr>\n",
       "    <tr>\n",
       "      <th>27</th>\n",
       "      <td>We prospectively evaluated the adverse reactio...</td>\n",
       "      <td>Evaluation of adverse reactions of &lt;span class...</td>\n",
       "      <td>4</td>\n",
       "      <td>8590259</td>\n",
       "      <td>C016986_induces_D015878|C016986_induces_D00331...</td>\n",
       "      <td>&lt;span class=\"chemical\"&gt;aponidine hydrochloride...</td>\n",
       "      <td>bcv_id_27</td>\n",
       "    </tr>\n",
       "    <tr>\n",
       "      <th>28</th>\n",
       "      <td>We prospectively evaluated the adverse reactio...</td>\n",
       "      <td>Evaluation of adverse reactions of &lt;span class...</td>\n",
       "      <td>0</td>\n",
       "      <td>8590259</td>\n",
       "      <td>C016986_induces_D004774</td>\n",
       "      <td>&lt;span class=\"chemical\"&gt;aponidine hydrochloride...</td>\n",
       "      <td>bcv_id_28</td>\n",
       "    </tr>\n",
       "    <tr>\n",
       "      <th>29</th>\n",
       "      <td>&lt;p&gt;&lt;/p&gt;&lt;p&gt;BACKGROUND: The septo-hippocampal ch...</td>\n",
       "      <td>The relationship between hippocampal &lt;span cla...</td>\n",
       "      <td>4</td>\n",
       "      <td>12198388</td>\n",
       "      <td>D000109_induces_D012640|D000109_induces_D01420...</td>\n",
       "      <td>&lt;span class=\"chemical\"&gt;acetylcholine&lt;/span&gt; in...</td>\n",
       "      <td>bcv_id_29</td>\n",
       "    </tr>\n",
       "    <tr>\n",
       "      <th>30</th>\n",
       "      <td>&lt;p&gt;&lt;/p&gt;&lt;p&gt;BACKGROUND: The septo-hippocampal ch...</td>\n",
       "      <td>The relationship between hippocampal acetylcho...</td>\n",
       "      <td>4</td>\n",
       "      <td>12198388</td>\n",
       "      <td>D002217_induces_D014202|D000431_induces_D01264...</td>\n",
       "      <td>&lt;span class=\"chemical\"&gt;carbachol&lt;/span&gt; induce...</td>\n",
       "      <td>bcv_id_30</td>\n",
       "    </tr>\n",
       "    <tr>\n",
       "      <th>31</th>\n",
       "      <td>&lt;p&gt;&lt;/p&gt;&lt;p&gt;BACKGROUND: The septo-hippocampal ch...</td>\n",
       "      <td>The relationship between hippocampal acetylcho...</td>\n",
       "      <td>4</td>\n",
       "      <td>12198388</td>\n",
       "      <td>D009538_induces_D012640|D009538_induces_D01420...</td>\n",
       "      <td>&lt;span class=\"chemical\"&gt;nicotine&lt;/span&gt; induces...</td>\n",
       "      <td>bcv_id_31</td>\n",
       "    </tr>\n",
       "    <tr>\n",
       "      <th>32</th>\n",
       "      <td>&lt;p&gt;&lt;/p&gt;&lt;p&gt;BACKGROUND: The septo-hippocampal ch...</td>\n",
       "      <td>The relationship between hippocampal acetylcho...</td>\n",
       "      <td>0</td>\n",
       "      <td>12198388</td>\n",
       "      <td>D009388_induces_D014202</td>\n",
       "      <td>&lt;span class=\"chemical\"&gt;neostigmine&lt;/span&gt; indu...</td>\n",
       "      <td>bcv_id_32</td>\n",
       "    </tr>\n",
       "    <tr>\n",
       "      <th>33</th>\n",
       "      <td>Twenty common &lt;span class=\"disease\"&gt;migraine&lt;/...</td>\n",
       "      <td>Source of &lt;span class=\"disease\"&gt;pain&lt;/span&gt; an...</td>\n",
       "      <td>1</td>\n",
       "      <td>2515254</td>\n",
       "      <td>D005996_induces_D010146|D005996_induces_D008881</td>\n",
       "      <td>&lt;span class=\"chemical\"&gt;nitroglycerin&lt;/span&gt; in...</td>\n",
       "      <td>bcv_id_33</td>\n",
       "    </tr>\n",
       "    <tr>\n",
       "      <th>34</th>\n",
       "      <td>The bronchodilator effects of a single dose of...</td>\n",
       "      <td>Acute bronchodilating effects of &lt;span class=\"...</td>\n",
       "      <td>3</td>\n",
       "      <td>1835291</td>\n",
       "      <td>D013806_induces_D002318|D005767|D013806_induce...</td>\n",
       "      <td>&lt;span class=\"chemical\"&gt;theophylline&lt;/span&gt; ind...</td>\n",
       "      <td>bcv_id_34</td>\n",
       "    </tr>\n",
       "    <tr>\n",
       "      <th>35</th>\n",
       "      <td>A patient who received &lt;span class=\"chemical\"&gt;...</td>\n",
       "      <td>&lt;span class=\"chemical\"&gt;Antithymocyte globulin&lt;...</td>\n",
       "      <td>1</td>\n",
       "      <td>12041669</td>\n",
       "      <td>D010396_induces_D000741|D000961_induces_D000741</td>\n",
       "      <td>&lt;span class=\"chemical\"&gt;D-penicillamine&lt;/span&gt; ...</td>\n",
       "      <td>bcv_id_35</td>\n",
       "    </tr>\n",
       "    <tr>\n",
       "      <th>36</th>\n",
       "      <td>Two patients treated with parenteral &lt;span cla...</td>\n",
       "      <td>Pseudo-&lt;span class=\"disease\"&gt;allergic reaction...</td>\n",
       "      <td>4</td>\n",
       "      <td>7582165</td>\n",
       "      <td>D003907_induces_D004342|D003907_induces_D00323...</td>\n",
       "      <td>&lt;span class=\"chemical\"&gt;dexamethasone&lt;/span&gt; in...</td>\n",
       "      <td>bcv_id_36</td>\n",
       "    </tr>\n",
       "    <tr>\n",
       "      <th>37</th>\n",
       "      <td>Two patients treated with parenteral &lt;span cla...</td>\n",
       "      <td>Pseudo-&lt;span class=\"disease\"&gt;allergic reaction...</td>\n",
       "      <td>3</td>\n",
       "      <td>7582165</td>\n",
       "      <td>D010248_induces_D014581|D000305_induces_D00434...</td>\n",
       "      <td>&lt;span class=\"chemical\"&gt;paramethasone&lt;/span&gt; in...</td>\n",
       "      <td>bcv_id_37</td>\n",
       "    </tr>\n",
       "    <tr>\n",
       "      <th>38</th>\n",
       "      <td>&lt;span class=\"disease\"&gt;Organic mental disorder&lt;...</td>\n",
       "      <td>&lt;span class=\"chemical\"&gt;Carmofur&lt;/span&gt;-induced...</td>\n",
       "      <td>3</td>\n",
       "      <td>2096243</td>\n",
       "      <td>C017367_induces_D001927|C017367_induces_D05678...</td>\n",
       "      <td>&lt;span class=\"chemical\"&gt;Carmofur&lt;/span&gt; induces...</td>\n",
       "      <td>bcv_id_38</td>\n",
       "    </tr>\n",
       "    <tr>\n",
       "      <th>39</th>\n",
       "      <td>&lt;span class=\"disease\"&gt;Cardiac toxicity&lt;/span&gt; ...</td>\n",
       "      <td>Late, late &lt;span class=\"chemical\"&gt;doxorubicin&lt;...</td>\n",
       "      <td>1</td>\n",
       "      <td>7449470</td>\n",
       "      <td>D004317_induces_D009202|D004317_induces_D066126</td>\n",
       "      <td>&lt;span class=\"chemical\"&gt;doxorubicin&lt;/span&gt; indu...</td>\n",
       "      <td>bcv_id_39</td>\n",
       "    </tr>\n",
       "    <tr>\n",
       "      <th>40</th>\n",
       "      <td>&lt;span class=\"chemical\"&gt;Midazolam hydrochloride...</td>\n",
       "      <td>Possible intramuscular &lt;span class=\"chemical\"&gt;...</td>\n",
       "      <td>2</td>\n",
       "      <td>2375138</td>\n",
       "      <td>D008874_induces_D006323|D008874_induces_D00364...</td>\n",
       "      <td>&lt;span class=\"chemical\"&gt;midazolam&lt;/span&gt; induce...</td>\n",
       "      <td>bcv_id_40</td>\n",
       "    </tr>\n",
       "    <tr>\n",
       "      <th>41</th>\n",
       "      <td>The co-administration of &lt;span class=\"chemical...</td>\n",
       "      <td>Effect of &lt;span class=\"chemical\"&gt;aspirin&lt;/span...</td>\n",
       "      <td>4</td>\n",
       "      <td>6692345</td>\n",
       "      <td>D005200_induces_D063646|D005200_induces_D00174...</td>\n",
       "      <td>&lt;span class=\"chemical\"&gt;N-[4-(5-nitro-2-furyl)-...</td>\n",
       "      <td>bcv_id_41</td>\n",
       "    </tr>\n",
       "    <tr>\n",
       "      <th>42</th>\n",
       "      <td>The co-administration of &lt;span class=\"chemical...</td>\n",
       "      <td>Effect of &lt;span class=\"chemical\"&gt;aspirin&lt;/span...</td>\n",
       "      <td>0</td>\n",
       "      <td>6692345</td>\n",
       "      <td>D001241_induces_D013274</td>\n",
       "      <td>&lt;span class=\"chemical\"&gt;aspirin&lt;/span&gt; induces ...</td>\n",
       "      <td>bcv_id_42</td>\n",
       "    </tr>\n",
       "    <tr>\n",
       "      <th>43</th>\n",
       "      <td>&lt;p&gt;&lt;/p&gt;&lt;p&gt;BACKGROUND: Inhibition of cardiac sy...</td>\n",
       "      <td>Direct inhibition of cardiac hyperpolarization...</td>\n",
       "      <td>4</td>\n",
       "      <td>17261653</td>\n",
       "      <td>D003000_induces_D001145|D003000_induces_D00231...</td>\n",
       "      <td>&lt;span class=\"chemical\"&gt;clonidine&lt;/span&gt; induce...</td>\n",
       "      <td>bcv_id_43</td>\n",
       "    </tr>\n",
       "    <tr>\n",
       "      <th>44</th>\n",
       "      <td>&lt;p&gt;&lt;/p&gt;&lt;p&gt;BACKGROUND: Inhibition of cardiac sy...</td>\n",
       "      <td>Direct inhibition of cardiac hyperpolarization...</td>\n",
       "      <td>4</td>\n",
       "      <td>17261653</td>\n",
       "      <td>D009711_induces_D001145|D009711_induces_D00231...</td>\n",
       "      <td>&lt;span class=\"chemical\"&gt;nucleotide&lt;/span&gt; induc...</td>\n",
       "      <td>bcv_id_44</td>\n",
       "    </tr>\n",
       "    <tr>\n",
       "      <th>45</th>\n",
       "      <td>&lt;p&gt;&lt;/p&gt;&lt;p&gt;BACKGROUND: Inhibition of cardiac sy...</td>\n",
       "      <td>Direct inhibition of cardiac hyperpolarization...</td>\n",
       "      <td>4</td>\n",
       "      <td>17261653</td>\n",
       "      <td>D009712_induces_D001145|D009712_induces_D00231...</td>\n",
       "      <td>&lt;span class=\"chemical\"&gt;cyclic nucleotide&lt;/span...</td>\n",
       "      <td>bcv_id_45</td>\n",
       "    </tr>\n",
       "    <tr>\n",
       "      <th>46</th>\n",
       "      <td>Massive urinary protein excretion has been obs...</td>\n",
       "      <td>mToR inhibitors-induced &lt;span class=\"disease\"&gt;...</td>\n",
       "      <td>2</td>\n",
       "      <td>18631865</td>\n",
       "      <td>D020123_induces_D005921|D020123_induces_D05143...</td>\n",
       "      <td>&lt;span class=\"chemical\"&gt;rapamycin&lt;/span&gt; induce...</td>\n",
       "      <td>bcv_id_46</td>\n",
       "    </tr>\n",
       "    <tr>\n",
       "      <th>47</th>\n",
       "      <td>Two patients developed &lt;span class=\"disease\"&gt;a...</td>\n",
       "      <td>&lt;span class=\"disease\"&gt;Nephrotoxicity&lt;/span&gt; of...</td>\n",
       "      <td>4</td>\n",
       "      <td>1130930</td>\n",
       "      <td>D005839_induces_D009846|D051437|D005839_induce...</td>\n",
       "      <td>&lt;span class=\"chemical\"&gt;gentamicin&lt;/span&gt; induc...</td>\n",
       "      <td>bcv_id_47</td>\n",
       "    </tr>\n",
       "    <tr>\n",
       "      <th>48</th>\n",
       "      <td>Two patients developed &lt;span class=\"disease\"&gt;a...</td>\n",
       "      <td>&lt;span class=\"disease\"&gt;Nephrotoxicity&lt;/span&gt; of...</td>\n",
       "      <td>2</td>\n",
       "      <td>1130930</td>\n",
       "      <td>D002512_induces_D007683|D002512_induces_D00767...</td>\n",
       "      <td>&lt;span class=\"chemical\"&gt;cephalothin&lt;/span&gt; indu...</td>\n",
       "      <td>bcv_id_48</td>\n",
       "    </tr>\n",
       "    <tr>\n",
       "      <th>49</th>\n",
       "      <td>&lt;p&gt;&lt;/p&gt;&lt;p&gt;BACKGROUND AND PURPOSE: The Intraven...</td>\n",
       "      <td>Effect of intravenous &lt;span class=\"chemical\"&gt;n...</td>\n",
       "      <td>3</td>\n",
       "      <td>10835440</td>\n",
       "      <td>D009553_induces_D002544|D009553_induces_D00364...</td>\n",
       "      <td>&lt;span class=\"chemical\"&gt;nimodipine&lt;/span&gt; induc...</td>\n",
       "      <td>bcv_id_49</td>\n",
       "    </tr>\n",
       "    <tr>\n",
       "      <th>50</th>\n",
       "      <td>A 14-year-old girl is reported with recurrent,...</td>\n",
       "      <td>Recurrent acute &lt;span class=\"disease\"&gt;intersti...</td>\n",
       "      <td>2</td>\n",
       "      <td>15602202</td>\n",
       "      <td>D017963_induces_D009393|D017963_induces_D00939...</td>\n",
       "      <td>&lt;span class=\"chemical\"&gt;azithromycin&lt;/span&gt; ind...</td>\n",
       "      <td>bcv_id_50</td>\n",
       "    </tr>\n",
       "    <tr>\n",
       "      <th>51</th>\n",
       "      <td>&lt;p&gt;&lt;/p&gt;&lt;p&gt;BACKGROUND: Markers of fibrinolysis,...</td>\n",
       "      <td>The effects of short-term &lt;span class=\"chemica...</td>\n",
       "      <td>4</td>\n",
       "      <td>16167916</td>\n",
       "      <td>D020849_induces_D000568|D020849_induces_D01002...</td>\n",
       "      <td>&lt;span class=\"chemical\"&gt;raloxifene&lt;/span&gt; induc...</td>\n",
       "      <td>bcv_id_51</td>\n",
       "    </tr>\n",
       "    <tr>\n",
       "      <th>52</th>\n",
       "      <td>&lt;p&gt;&lt;/p&gt;&lt;p&gt;BACKGROUND: Markers of fibrinolysis,...</td>\n",
       "      <td>The effects of short-term raloxifene therapy o...</td>\n",
       "      <td>2</td>\n",
       "      <td>16167916</td>\n",
       "      <td>D002118_induces_D010024|D002118_induces_D05455...</td>\n",
       "      <td>&lt;span class=\"chemical\"&gt;calcium&lt;/span&gt; induces ...</td>\n",
       "      <td>bcv_id_52</td>\n",
       "    </tr>\n",
       "  </tbody>\n",
       "</table>\n",
       "</div>"
      ],
      "text/plain": [
       "                                        form_abstract  \\\n",
       "0   1. <span class=\"disease\">Torsades de pointes</...   \n",
       "1   1. <span class=\"disease\">Torsades de pointes</...   \n",
       "2   1. <span class=\"disease\">Torsades de pointes</...   \n",
       "3   <p></p><p>BACKGROUND: Cisplatin-based chemothe...   \n",
       "4   <p></p><p>BACKGROUND: <span class=\"chemical\">C...   \n",
       "5   <p></p><p>BACKGROUND: Cisplatin-based chemothe...   \n",
       "6   Rats with lithium-induced <span class=\"disease...   \n",
       "7   Rats with <span class=\"chemical\">lithium</span...   \n",
       "8   Rats with <span class=\"chemical\">lithium</span...   \n",
       "9   <span class=\"disease\">Pain</span> memory is th...   \n",
       "10  This study investigated <span class=\"chemical\"...   \n",
       "11  This study investigated propofol injection pai...   \n",
       "12  <span class=\"disease\">Mitochondrial abnormalit...   \n",
       "13  The marked vasodilator and negative inotropic ...   \n",
       "14  The marked vasodilator and negative inotropic ...   \n",
       "15  <p></p><p>AIM: This study was carried out to d...   \n",
       "16  <span class=\"disease\">Fibrous myopathy</span> ...   \n",
       "17  The cause of <span class=\"disease\">hearing los...   \n",
       "18  <span class=\"chemical\">Statins</span> can caus...   \n",
       "19  Statins can cause a necrotizing myopathy and h...   \n",
       "20  Two patients with similar clinical features ar...   \n",
       "21  Two patients with similar clinical features ar...   \n",
       "22  Male Sprague-Dawley rats were treated with <sp...   \n",
       "23  <p></p><p>BACKGROUND: A previous randomized co...   \n",
       "24  <p></p><p>BACKGROUND: A previous randomized co...   \n",
       "25  <p></p><p>BACKGROUND: A previous randomized co...   \n",
       "26  <p></p><p>BACKGROUND: A previous randomized co...   \n",
       "27  We prospectively evaluated the adverse reactio...   \n",
       "28  We prospectively evaluated the adverse reactio...   \n",
       "29  <p></p><p>BACKGROUND: The septo-hippocampal ch...   \n",
       "30  <p></p><p>BACKGROUND: The septo-hippocampal ch...   \n",
       "31  <p></p><p>BACKGROUND: The septo-hippocampal ch...   \n",
       "32  <p></p><p>BACKGROUND: The septo-hippocampal ch...   \n",
       "33  Twenty common <span class=\"disease\">migraine</...   \n",
       "34  The bronchodilator effects of a single dose of...   \n",
       "35  A patient who received <span class=\"chemical\">...   \n",
       "36  Two patients treated with parenteral <span cla...   \n",
       "37  Two patients treated with parenteral <span cla...   \n",
       "38  <span class=\"disease\">Organic mental disorder<...   \n",
       "39  <span class=\"disease\">Cardiac toxicity</span> ...   \n",
       "40  <span class=\"chemical\">Midazolam hydrochloride...   \n",
       "41  The co-administration of <span class=\"chemical...   \n",
       "42  The co-administration of <span class=\"chemical...   \n",
       "43  <p></p><p>BACKGROUND: Inhibition of cardiac sy...   \n",
       "44  <p></p><p>BACKGROUND: Inhibition of cardiac sy...   \n",
       "45  <p></p><p>BACKGROUND: Inhibition of cardiac sy...   \n",
       "46  Massive urinary protein excretion has been obs...   \n",
       "47  Two patients developed <span class=\"disease\">a...   \n",
       "48  Two patients developed <span class=\"disease\">a...   \n",
       "49  <p></p><p>BACKGROUND AND PURPOSE: The Intraven...   \n",
       "50  A 14-year-old girl is reported with recurrent,...   \n",
       "51  <p></p><p>BACKGROUND: Markers of fibrinolysis,...   \n",
       "52  <p></p><p>BACKGROUND: Markers of fibrinolysis,...   \n",
       "\n",
       "                                           form_title  max_index      pmid  \\\n",
       "0   Pharmacokinetic/pharmacodynamic assessment of ...          4  11569530   \n",
       "1   Pharmacokinetic/pharmacodynamic assessment of ...          4  11569530   \n",
       "2   Pharmacokinetic/pharmacodynamic assessment of ...          1  11569530   \n",
       "3   <span class=\"chemical\">Paclitaxel</span>, cisp...          4  11135224   \n",
       "4   Paclitaxel, <span class=\"chemical\">cisplatin</...          4  11135224   \n",
       "5   Paclitaxel, cisplatin, and <span class=\"chemic...          4  11135224   \n",
       "6   Effects of uninephrectomy and high protein fee...          4   1378968   \n",
       "7   Effects of uninephrectomy and high protein fee...          4   1378968   \n",
       "8   Effects of uninephrectomy and high protein fee...          1   1378968   \n",
       "9   Explicit episodic memory for sensory-discrimin...          0  19269743   \n",
       "10  <span class=\"chemical\">Thiopentone</span> pret...          4   8595686   \n",
       "11  Thiopentone pretreatment for propofol injectio...          0   8595686   \n",
       "12  Investigation of mitochondrial involvement in ...          4  16337777   \n",
       "13  The haemodynamic effects of <span class=\"chemi...          4  10520387   \n",
       "14  The haemodynamic effects of propofol in combin...          0  10520387   \n",
       "15  A study on the effect of the duration of subcu...          1  17931375   \n",
       "16  <span class=\"disease\">Compression neuropathy o...          3   3800626   \n",
       "17  The effect of different anaesthetic agents in ...          3   9522143   \n",
       "18  Progressive <span class=\"disease\">myopathy</sp...          4  17241784   \n",
       "19  Progressive myopathy with up-regulation of MHC...          0  17241784   \n",
       "20  Serial <span class=\"disease\">epilepsy</span> c...          4   2265898   \n",
       "21  Serial <span class=\"disease\">epilepsy</span> c...          2   2265898   \n",
       "22  <span class=\"chemical\">D-penicillamine</span>-...          1   6666578   \n",
       "23  Spironolactone-induced <span class=\"disease\">r...          4  15632880   \n",
       "24  Spironolactone-induced <span class=\"disease\">r...          4  15632880   \n",
       "25  Spironolactone-induced <span class=\"disease\">r...          4  15632880   \n",
       "26  <span class=\"chemical\">Spironolactone</span>-i...          4  15632880   \n",
       "27  Evaluation of adverse reactions of <span class...          4   8590259   \n",
       "28  Evaluation of adverse reactions of <span class...          0   8590259   \n",
       "29  The relationship between hippocampal <span cla...          4  12198388   \n",
       "30  The relationship between hippocampal acetylcho...          4  12198388   \n",
       "31  The relationship between hippocampal acetylcho...          4  12198388   \n",
       "32  The relationship between hippocampal acetylcho...          0  12198388   \n",
       "33  Source of <span class=\"disease\">pain</span> an...          1   2515254   \n",
       "34  Acute bronchodilating effects of <span class=\"...          3   1835291   \n",
       "35  <span class=\"chemical\">Antithymocyte globulin<...          1  12041669   \n",
       "36  Pseudo-<span class=\"disease\">allergic reaction...          4   7582165   \n",
       "37  Pseudo-<span class=\"disease\">allergic reaction...          3   7582165   \n",
       "38  <span class=\"chemical\">Carmofur</span>-induced...          3   2096243   \n",
       "39  Late, late <span class=\"chemical\">doxorubicin<...          1   7449470   \n",
       "40  Possible intramuscular <span class=\"chemical\">...          2   2375138   \n",
       "41  Effect of <span class=\"chemical\">aspirin</span...          4   6692345   \n",
       "42  Effect of <span class=\"chemical\">aspirin</span...          0   6692345   \n",
       "43  Direct inhibition of cardiac hyperpolarization...          4  17261653   \n",
       "44  Direct inhibition of cardiac hyperpolarization...          4  17261653   \n",
       "45  Direct inhibition of cardiac hyperpolarization...          4  17261653   \n",
       "46  mToR inhibitors-induced <span class=\"disease\">...          2  18631865   \n",
       "47  <span class=\"disease\">Nephrotoxicity</span> of...          4   1130930   \n",
       "48  <span class=\"disease\">Nephrotoxicity</span> of...          2   1130930   \n",
       "49  Effect of intravenous <span class=\"chemical\">n...          3  10835440   \n",
       "50  Recurrent acute <span class=\"disease\">intersti...          2  15602202   \n",
       "51  The effects of short-term <span class=\"chemica...          4  16167916   \n",
       "52  The effects of short-term raloxifene therapy o...          2  16167916   \n",
       "\n",
       "                                         poss_rel_ids  \\\n",
       "0   D020117_induces_D013610|D020117_induces_D01617...   \n",
       "1   C063968_induces_D017180|D016593_induces_D01361...   \n",
       "2     C010637_induces_D016171|C010637_induces_D017180   \n",
       "3   D017239_induces_D013921|D017239_induces_D06442...   \n",
       "4   D002945_induces_D013921|D002945_induces_D06442...   \n",
       "5   C056507_induces_D013921|C056507_induces_D06442...   \n",
       "6   D003404_induces_D006973|D003404_induces_D01150...   \n",
       "7   D003404_induces_D005921|D008094_induces_D00697...   \n",
       "8     D008094_induces_D007676|D008094_induces_D005921   \n",
       "9                             D002211_induces_D010146   \n",
       "10  D015742_induces_D010146|D015742_induces_D01447...   \n",
       "11                            D008012_induces_D014474   \n",
       "12  D010862_induces_D013226|D010862_induces_D00364...   \n",
       "13  D015742_induces_D013610|D015742_induces_D00702...   \n",
       "14                            D004809_induces_D017202   \n",
       "15    D006493_induces_D003288|D006493_induces_D010146   \n",
       "16  D010423_induces_D009135|D010423_induces_D00940...   \n",
       "17  D011318_induces_D006319|D011318_induces_D03438...   \n",
       "18  D008727_induces_D009135|D008727_induces_D00933...   \n",
       "19                            D011239_induces_D009336   \n",
       "20  C009265_induces_D001523|C009265_induces_D01264...   \n",
       "21  D025101_induces_D012640|D025101_induces_D00482...   \n",
       "22    D010396_induces_D001018|D006820_induces_D001018   \n",
       "23  D002857_induces_D006333|D002857_induces_D00694...   \n",
       "24  D003404_induces_D006947|D003404_induces_D00392...   \n",
       "25  D011188_induces_D003920|D011188_induces_D05143...   \n",
       "26  D049971_induces_D051437|D013148_induces_D00633...   \n",
       "27  C016986_induces_D015878|C016986_induces_D00331...   \n",
       "28                            C016986_induces_D004774   \n",
       "29  D000109_induces_D012640|D000109_induces_D01420...   \n",
       "30  D002217_induces_D014202|D000431_induces_D01264...   \n",
       "31  D009538_induces_D012640|D009538_induces_D01420...   \n",
       "32                            D009388_induces_D014202   \n",
       "33    D005996_induces_D010146|D005996_induces_D008881   \n",
       "34  D013806_induces_D002318|D005767|D013806_induce...   \n",
       "35    D010396_induces_D000741|D000961_induces_D000741   \n",
       "36  D003907_induces_D004342|D003907_induces_D00323...   \n",
       "37  D010248_induces_D014581|D000305_induces_D00434...   \n",
       "38  C017367_induces_D001927|C017367_induces_D05678...   \n",
       "39    D004317_induces_D009202|D004317_induces_D066126   \n",
       "40  D008874_induces_D006323|D008874_induces_D00364...   \n",
       "41  D005200_induces_D063646|D005200_induces_D00174...   \n",
       "42                            D001241_induces_D013274   \n",
       "43  D003000_induces_D001145|D003000_induces_D00231...   \n",
       "44  D009711_induces_D001145|D009711_induces_D00231...   \n",
       "45  D009712_induces_D001145|D009712_induces_D00231...   \n",
       "46  D020123_induces_D005921|D020123_induces_D05143...   \n",
       "47  D005839_induces_D009846|D051437|D005839_induce...   \n",
       "48  D002512_induces_D007683|D002512_induces_D00767...   \n",
       "49  D009553_induces_D002544|D009553_induces_D00364...   \n",
       "50  D017963_induces_D009393|D017963_induces_D00939...   \n",
       "51  D020849_induces_D000568|D020849_induces_D01002...   \n",
       "52  D002118_induces_D010024|D002118_induces_D05455...   \n",
       "\n",
       "                               possible_relationships    uniq_id  \n",
       "0   <span class=\"chemical\">cisapride</span> induce...   bcv_id_0  \n",
       "1   <span class=\"chemical\">E4031</span> induces <s...   bcv_id_1  \n",
       "2   <span class=\"chemical\">terodiline</span> induc...   bcv_id_2  \n",
       "3   <span class=\"chemical\">Paclitaxel</span> induc...   bcv_id_3  \n",
       "4   <span class=\"chemical\">cisplatin</span> induce...   bcv_id_4  \n",
       "5   <span class=\"chemical\">gemcitabine</span> indu...   bcv_id_5  \n",
       "6   <span class=\"chemical\">creatinine</span> induc...   bcv_id_6  \n",
       "7   <span class=\"chemical\">creatinine</span> induc...   bcv_id_7  \n",
       "8   <span class=\"chemical\">lithium</span> induces ...   bcv_id_8  \n",
       "9   <span class=\"chemical\">capsaicin</span> induce...   bcv_id_9  \n",
       "10  <span class=\"chemical\">propofol</span> induces...  bcv_id_10  \n",
       "11  <span class=\"chemical\">lidocaine</span> induce...  bcv_id_11  \n",
       "12  <span class=\"chemical\">pilocarpine</span> indu...  bcv_id_12  \n",
       "13  <span class=\"chemical\">propofol</span> induces...  bcv_id_13  \n",
       "14  <span class=\"chemical\">ephedrine</span> induce...  bcv_id_14  \n",
       "15  <span class=\"chemical\">heparin</span> induces ...  bcv_id_15  \n",
       "16  <span class=\"chemical\">pentazocine</span> indu...  bcv_id_16  \n",
       "17  <span class=\"chemical\">prilocaine</span> induc...  bcv_id_17  \n",
       "18  <span class=\"chemical\">methotrexate</span> ind...  bcv_id_18  \n",
       "19  <span class=\"chemical\">prednisolone</span> ind...  bcv_id_19  \n",
       "20  <span class=\"chemical\">levodopa/carbidopa</spa...  bcv_id_20  \n",
       "21  <span class=\"chemical\">vitamin B6</span> induc...  bcv_id_21  \n",
       "22  <span class=\"chemical\">D-penicillamine</span> ...  bcv_id_22  \n",
       "23  <span class=\"chemical\">Cr</span> induces <span...  bcv_id_23  \n",
       "24  <span class=\"chemical\">creatinine</span> induc...  bcv_id_24  \n",
       "25  <span class=\"chemical\">K</span> induces <span ...  bcv_id_25  \n",
       "26  <span class=\"chemical\">thiazide</span> induces...  bcv_id_26  \n",
       "27  <span class=\"chemical\">aponidine hydrochloride...  bcv_id_27  \n",
       "28  <span class=\"chemical\">aponidine hydrochloride...  bcv_id_28  \n",
       "29  <span class=\"chemical\">acetylcholine</span> in...  bcv_id_29  \n",
       "30  <span class=\"chemical\">carbachol</span> induce...  bcv_id_30  \n",
       "31  <span class=\"chemical\">nicotine</span> induces...  bcv_id_31  \n",
       "32  <span class=\"chemical\">neostigmine</span> indu...  bcv_id_32  \n",
       "33  <span class=\"chemical\">nitroglycerin</span> in...  bcv_id_33  \n",
       "34  <span class=\"chemical\">theophylline</span> ind...  bcv_id_34  \n",
       "35  <span class=\"chemical\">D-penicillamine</span> ...  bcv_id_35  \n",
       "36  <span class=\"chemical\">dexamethasone</span> in...  bcv_id_36  \n",
       "37  <span class=\"chemical\">paramethasone</span> in...  bcv_id_37  \n",
       "38  <span class=\"chemical\">Carmofur</span> induces...  bcv_id_38  \n",
       "39  <span class=\"chemical\">doxorubicin</span> indu...  bcv_id_39  \n",
       "40  <span class=\"chemical\">midazolam</span> induce...  bcv_id_40  \n",
       "41  <span class=\"chemical\">N-[4-(5-nitro-2-furyl)-...  bcv_id_41  \n",
       "42  <span class=\"chemical\">aspirin</span> induces ...  bcv_id_42  \n",
       "43  <span class=\"chemical\">clonidine</span> induce...  bcv_id_43  \n",
       "44  <span class=\"chemical\">nucleotide</span> induc...  bcv_id_44  \n",
       "45  <span class=\"chemical\">cyclic nucleotide</span...  bcv_id_45  \n",
       "46  <span class=\"chemical\">rapamycin</span> induce...  bcv_id_46  \n",
       "47  <span class=\"chemical\">gentamicin</span> induc...  bcv_id_47  \n",
       "48  <span class=\"chemical\">cephalothin</span> indu...  bcv_id_48  \n",
       "49  <span class=\"chemical\">nimodipine</span> induc...  bcv_id_49  \n",
       "50  <span class=\"chemical\">azithromycin</span> ind...  bcv_id_50  \n",
       "51  <span class=\"chemical\">raloxifene</span> induc...  bcv_id_51  \n",
       "52  <span class=\"chemical\">calcium</span> induces ...  bcv_id_52  "
      ]
     },
     "execution_count": 37,
     "metadata": {},
     "output_type": "execute_result"
    }
   ],
   "source": [
    "cf_data"
   ]
  },
  {
   "cell_type": "code",
   "execution_count": 38,
   "metadata": {
    "collapsed": true
   },
   "outputs": [],
   "source": [
    "cf_data.to_csv(\"data/data_for_cf_job_.tsv\", sep = '\\t', index = False)"
   ]
  }
 ],
 "metadata": {
  "kernelspec": {
   "display_name": "Python 2",
   "language": "python",
   "name": "python2"
  },
  "language_info": {
   "codemirror_mode": {
    "name": "ipython",
    "version": 2
   },
   "file_extension": ".py",
   "mimetype": "text/x-python",
   "name": "python",
   "nbconvert_exporter": "python",
   "pygments_lexer": "ipython2",
   "version": "2.7.10"
  }
 },
 "nbformat": 4,
 "nbformat_minor": 0
}
