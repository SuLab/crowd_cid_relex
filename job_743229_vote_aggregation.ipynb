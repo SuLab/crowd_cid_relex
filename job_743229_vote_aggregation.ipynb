{
 "cells": [
  {
   "cell_type": "markdown",
   "metadata": {},
   "source": [
    "# Analysis of job 743229: Vote aggregation"
   ]
  },
  {
   "cell_type": "markdown",
   "metadata": {},
   "source": [
    "2015-06-19 Tong Shu Li"
   ]
  },
  {
   "cell_type": "markdown",
   "metadata": {},
   "source": [
    "Now that we have finally cleaned up the data, we can now ask how well our crowd performed with respect to the gold standard."
   ]
  },
  {
   "cell_type": "code",
   "execution_count": 1,
   "metadata": {
    "collapsed": true
   },
   "outputs": [],
   "source": [
    "from __future__ import division\n",
    "from collections import defaultdict\n",
    "import pandas as pd"
   ]
  },
  {
   "cell_type": "code",
   "execution_count": 2,
   "metadata": {
    "collapsed": true
   },
   "outputs": [],
   "source": [
    "from src.filter_data import filter_data\n",
    "from src.parse_gold import parse_input\n",
    "from src.parse_gold import Relation"
   ]
  },
  {
   "cell_type": "markdown",
   "metadata": {},
   "source": [
    "### Read our finalized data:"
   ]
  },
  {
   "cell_type": "code",
   "execution_count": 3,
   "metadata": {
    "collapsed": true
   },
   "outputs": [],
   "source": [
    "settings = {\n",
    "    \"loc\": \"data/crowdflower\",\n",
    "    \"fname\": \"job_743229_final_data.csv\",\n",
    "    \"data_subset\": \"all\",\n",
    "    \"min_accuracy\": 0.7,\n",
    "    \"max_accuracy\": 1.0\n",
    "}\n",
    "\n",
    "final_data = filter_data(settings)"
   ]
  },
  {
   "cell_type": "code",
   "execution_count": 4,
   "metadata": {
    "collapsed": false
   },
   "outputs": [
    {
     "data": {
      "text/plain": [
       "58"
      ]
     },
     "execution_count": 4,
     "metadata": {},
     "output_type": "execute_result"
    }
   ],
   "source": [
    "len(final_data)"
   ]
  },
  {
   "cell_type": "code",
   "execution_count": 5,
   "metadata": {
    "collapsed": false
   },
   "outputs": [
    {
     "data": {
      "text/html": [
       "<div style=\"max-height:1000px;max-width:1500px;overflow:auto;\">\n",
       "<table border=\"1\" class=\"dataframe\">\n",
       "  <thead>\n",
       "    <tr style=\"text-align: right;\">\n",
       "      <th></th>\n",
       "      <th>_unit_id</th>\n",
       "      <th>_created_at</th>\n",
       "      <th>_golden</th>\n",
       "      <th>_id</th>\n",
       "      <th>_missed</th>\n",
       "      <th>_started_at</th>\n",
       "      <th>_tainted</th>\n",
       "      <th>_channel</th>\n",
       "      <th>_trust</th>\n",
       "      <th>_worker_id</th>\n",
       "      <th>...</th>\n",
       "      <th>choice_2_ids</th>\n",
       "      <th>choice_2_label</th>\n",
       "      <th>choice_3_ids</th>\n",
       "      <th>choice_3_label</th>\n",
       "      <th>choice_4_ids</th>\n",
       "      <th>choice_4_label</th>\n",
       "      <th>form_abstract</th>\n",
       "      <th>form_title</th>\n",
       "      <th>pmid</th>\n",
       "      <th>uniq_id</th>\n",
       "    </tr>\n",
       "  </thead>\n",
       "  <tbody>\n",
       "    <tr>\n",
       "      <th>0</th>\n",
       "      <td>739660089</td>\n",
       "      <td>6/19/2015 00:44:51</td>\n",
       "      <td>False</td>\n",
       "      <td>1665425696</td>\n",
       "      <td>NaN</td>\n",
       "      <td>6/19/2015 00:39:14</td>\n",
       "      <td>False</td>\n",
       "      <td>clixsense</td>\n",
       "      <td>0.833333</td>\n",
       "      <td>31001914</td>\n",
       "      <td>...</td>\n",
       "      <td>D002945_induces_D003643</td>\n",
       "      <td>&lt;span class=\"chemical\"&gt;cisplatin&lt;/span&gt; contri...</td>\n",
       "      <td>D002945_induces_D009503</td>\n",
       "      <td>&lt;span class=\"chemical\"&gt;cisplatin&lt;/span&gt; contri...</td>\n",
       "      <td>D002945_induces_D002289</td>\n",
       "      <td>&lt;span class=\"chemical\"&gt;cisplatin&lt;/span&gt; contri...</td>\n",
       "      <td>&lt;p&gt;BACKGROUND: &lt;span class=\"chemical\"&gt;Cisplati...</td>\n",
       "      <td>Paclitaxel, &lt;span class=\"chemical\"&gt;cisplatin&lt;/...</td>\n",
       "      <td>11135224</td>\n",
       "      <td>bcv_id_3</td>\n",
       "    </tr>\n",
       "    <tr>\n",
       "      <th>1</th>\n",
       "      <td>739660089</td>\n",
       "      <td>6/19/2015 01:09:45</td>\n",
       "      <td>False</td>\n",
       "      <td>1665448869</td>\n",
       "      <td>NaN</td>\n",
       "      <td>6/19/2015 01:06:44</td>\n",
       "      <td>False</td>\n",
       "      <td>elite</td>\n",
       "      <td>0.714286</td>\n",
       "      <td>31668998</td>\n",
       "      <td>...</td>\n",
       "      <td>D002945_induces_D003643</td>\n",
       "      <td>&lt;span class=\"chemical\"&gt;cisplatin&lt;/span&gt; contri...</td>\n",
       "      <td>D002945_induces_D009503</td>\n",
       "      <td>&lt;span class=\"chemical\"&gt;cisplatin&lt;/span&gt; contri...</td>\n",
       "      <td>D002945_induces_D002289</td>\n",
       "      <td>&lt;span class=\"chemical\"&gt;cisplatin&lt;/span&gt; contri...</td>\n",
       "      <td>&lt;p&gt;BACKGROUND: &lt;span class=\"chemical\"&gt;Cisplati...</td>\n",
       "      <td>Paclitaxel, &lt;span class=\"chemical\"&gt;cisplatin&lt;/...</td>\n",
       "      <td>11135224</td>\n",
       "      <td>bcv_id_3</td>\n",
       "    </tr>\n",
       "    <tr>\n",
       "      <th>2</th>\n",
       "      <td>739660095</td>\n",
       "      <td>6/19/2015 00:44:51</td>\n",
       "      <td>False</td>\n",
       "      <td>1665425703</td>\n",
       "      <td>NaN</td>\n",
       "      <td>6/19/2015 00:39:14</td>\n",
       "      <td>False</td>\n",
       "      <td>clixsense</td>\n",
       "      <td>0.833333</td>\n",
       "      <td>31001914</td>\n",
       "      <td>...</td>\n",
       "      <td>D013874_induces_D010146</td>\n",
       "      <td>&lt;span class=\"chemical\"&gt;Thiopentone&lt;/span&gt; cont...</td>\n",
       "      <td>D013874_induces_D014474</td>\n",
       "      <td>&lt;span class=\"chemical\"&gt;Thiopentone&lt;/span&gt; cont...</td>\n",
       "      <td>D008012_induces_D010146</td>\n",
       "      <td>&lt;span class=\"chemical\"&gt;lidocaine&lt;/span&gt; contri...</td>\n",
       "      <td>This study investigated &lt;span class=\"chemical\"...</td>\n",
       "      <td>&lt;span class=\"chemical\"&gt;Thiopentone&lt;/span&gt; pret...</td>\n",
       "      <td>8595686</td>\n",
       "      <td>bcv_id_9</td>\n",
       "    </tr>\n",
       "    <tr>\n",
       "      <th>3</th>\n",
       "      <td>739660095</td>\n",
       "      <td>6/19/2015 01:09:45</td>\n",
       "      <td>False</td>\n",
       "      <td>1665448873</td>\n",
       "      <td>NaN</td>\n",
       "      <td>6/19/2015 01:06:44</td>\n",
       "      <td>False</td>\n",
       "      <td>elite</td>\n",
       "      <td>0.714286</td>\n",
       "      <td>31668998</td>\n",
       "      <td>...</td>\n",
       "      <td>D013874_induces_D010146</td>\n",
       "      <td>&lt;span class=\"chemical\"&gt;Thiopentone&lt;/span&gt; cont...</td>\n",
       "      <td>D013874_induces_D014474</td>\n",
       "      <td>&lt;span class=\"chemical\"&gt;Thiopentone&lt;/span&gt; cont...</td>\n",
       "      <td>D008012_induces_D010146</td>\n",
       "      <td>&lt;span class=\"chemical\"&gt;lidocaine&lt;/span&gt; contri...</td>\n",
       "      <td>This study investigated &lt;span class=\"chemical\"...</td>\n",
       "      <td>&lt;span class=\"chemical\"&gt;Thiopentone&lt;/span&gt; pret...</td>\n",
       "      <td>8595686</td>\n",
       "      <td>bcv_id_9</td>\n",
       "    </tr>\n",
       "    <tr>\n",
       "      <th>4</th>\n",
       "      <td>739660097</td>\n",
       "      <td>6/19/2015 00:29:23</td>\n",
       "      <td>False</td>\n",
       "      <td>1665411021</td>\n",
       "      <td>NaN</td>\n",
       "      <td>6/19/2015 00:27:14</td>\n",
       "      <td>False</td>\n",
       "      <td>neodev</td>\n",
       "      <td>0.700000</td>\n",
       "      <td>11000920</td>\n",
       "      <td>...</td>\n",
       "      <td>D010862_induces_D028361</td>\n",
       "      <td>&lt;span class=\"chemical\"&gt;pilocarpine&lt;/span&gt; cont...</td>\n",
       "      <td>D010862_induces_D004827</td>\n",
       "      <td>&lt;span class=\"chemical\"&gt;pilocarpine&lt;/span&gt; cont...</td>\n",
       "      <td>D010862_induces_D004833</td>\n",
       "      <td>&lt;span class=\"chemical\"&gt;pilocarpine&lt;/span&gt; cont...</td>\n",
       "      <td>&lt;span class=\"disease\"&gt;Mitochondrial abnormalit...</td>\n",
       "      <td>Investigation of mitochondrial involvement in ...</td>\n",
       "      <td>16337777</td>\n",
       "      <td>bcv_id_11</td>\n",
       "    </tr>\n",
       "  </tbody>\n",
       "</table>\n",
       "<p>5 rows × 31 columns</p>\n",
       "</div>"
      ],
      "text/plain": [
       "    _unit_id         _created_at _golden         _id  _missed  \\\n",
       "0  739660089  6/19/2015 00:44:51   False  1665425696      NaN   \n",
       "1  739660089  6/19/2015 01:09:45   False  1665448869      NaN   \n",
       "2  739660095  6/19/2015 00:44:51   False  1665425703      NaN   \n",
       "3  739660095  6/19/2015 01:09:45   False  1665448873      NaN   \n",
       "4  739660097  6/19/2015 00:29:23   False  1665411021      NaN   \n",
       "\n",
       "          _started_at _tainted   _channel    _trust  _worker_id    ...      \\\n",
       "0  6/19/2015 00:39:14    False  clixsense  0.833333    31001914    ...       \n",
       "1  6/19/2015 01:06:44    False      elite  0.714286    31668998    ...       \n",
       "2  6/19/2015 00:39:14    False  clixsense  0.833333    31001914    ...       \n",
       "3  6/19/2015 01:06:44    False      elite  0.714286    31668998    ...       \n",
       "4  6/19/2015 00:27:14    False     neodev  0.700000    11000920    ...       \n",
       "\n",
       "              choice_2_ids                                     choice_2_label  \\\n",
       "0  D002945_induces_D003643  <span class=\"chemical\">cisplatin</span> contri...   \n",
       "1  D002945_induces_D003643  <span class=\"chemical\">cisplatin</span> contri...   \n",
       "2  D013874_induces_D010146  <span class=\"chemical\">Thiopentone</span> cont...   \n",
       "3  D013874_induces_D010146  <span class=\"chemical\">Thiopentone</span> cont...   \n",
       "4  D010862_induces_D028361  <span class=\"chemical\">pilocarpine</span> cont...   \n",
       "\n",
       "              choice_3_ids                                     choice_3_label  \\\n",
       "0  D002945_induces_D009503  <span class=\"chemical\">cisplatin</span> contri...   \n",
       "1  D002945_induces_D009503  <span class=\"chemical\">cisplatin</span> contri...   \n",
       "2  D013874_induces_D014474  <span class=\"chemical\">Thiopentone</span> cont...   \n",
       "3  D013874_induces_D014474  <span class=\"chemical\">Thiopentone</span> cont...   \n",
       "4  D010862_induces_D004827  <span class=\"chemical\">pilocarpine</span> cont...   \n",
       "\n",
       "              choice_4_ids                                     choice_4_label  \\\n",
       "0  D002945_induces_D002289  <span class=\"chemical\">cisplatin</span> contri...   \n",
       "1  D002945_induces_D002289  <span class=\"chemical\">cisplatin</span> contri...   \n",
       "2  D008012_induces_D010146  <span class=\"chemical\">lidocaine</span> contri...   \n",
       "3  D008012_induces_D010146  <span class=\"chemical\">lidocaine</span> contri...   \n",
       "4  D010862_induces_D004833  <span class=\"chemical\">pilocarpine</span> cont...   \n",
       "\n",
       "                                       form_abstract  \\\n",
       "0  <p>BACKGROUND: <span class=\"chemical\">Cisplati...   \n",
       "1  <p>BACKGROUND: <span class=\"chemical\">Cisplati...   \n",
       "2  This study investigated <span class=\"chemical\"...   \n",
       "3  This study investigated <span class=\"chemical\"...   \n",
       "4  <span class=\"disease\">Mitochondrial abnormalit...   \n",
       "\n",
       "                                          form_title      pmid    uniq_id  \n",
       "0  Paclitaxel, <span class=\"chemical\">cisplatin</...  11135224   bcv_id_3  \n",
       "1  Paclitaxel, <span class=\"chemical\">cisplatin</...  11135224   bcv_id_3  \n",
       "2  <span class=\"chemical\">Thiopentone</span> pret...   8595686   bcv_id_9  \n",
       "3  <span class=\"chemical\">Thiopentone</span> pret...   8595686   bcv_id_9  \n",
       "4  Investigation of mitochondrial involvement in ...  16337777  bcv_id_11  \n",
       "\n",
       "[5 rows x 31 columns]"
      ]
     },
     "execution_count": 5,
     "metadata": {},
     "output_type": "execute_result"
    }
   ],
   "source": [
    "final_data.head()"
   ]
  },
  {
   "cell_type": "markdown",
   "metadata": {},
   "source": [
    "## Aggregation scheme:\n",
    "\n",
    "1. Aggregate on unique id (part of the N x M expansion of all drug-disease pairs)\n",
    "2. Aggregate above results based on PMID\n",
    "3. Return a ranked list of drug-disease pairs for each PMID\n",
    "4. Perform ROC analysis on ranked list using normalized threshold."
   ]
  },
  {
   "cell_type": "markdown",
   "metadata": {},
   "source": [
    "Voting scheme:\n",
    "\n",
    "Consider the case where we have M choices voted upon by N people. One of the M choices is that \"None of the given choices are true\". How do we aggregate votes?\n",
    "\n",
    "Since the M choices represent the set of all possible drug-disease relationships in an abstract, we want a list of the possible relationships for any one work unit, with a score of how confident we are that that relationship might be true. Notice that picking the top answer is not the right approach because we would lose lots of information.\n",
    "\n",
    "With these considerations in mind, the voting scheme will be as follows:\n",
    "1. Choices which a person does not pick get no change to their score.\n",
    "2. Choices which a person explicitly picks gets their trust score added to that choice.\n",
    "3. The \"none of the above\" choice applies the negative trust score to every other choice.\n",
    "\n",
    "Finally, all the choices are ranked in decreasing score, and any choice with a positive score is taken.\n",
    "Negative scores represent cases where more people said that choice was wrong than people who said it was right.\n",
    "\n",
    "The scores are finally normalized by the total trust score sum of all the people who worked on that work unit. This ensures that we can compare between work units which recieved different numbers of votes.\n",
    "\n"
   ]
  },
  {
   "cell_type": "markdown",
   "metadata": {},
   "source": [
    "### Group votes first by unique id:"
   ]
  },
  {
   "cell_type": "markdown",
   "metadata": {},
   "source": [
    "Given a data frame containing all N votes for M choices, aggregate the votes and return a data frame with 5 columns: the pmid, the uniq id, the work id, the id pair for the relationship, and the normalized score"
   ]
  },
  {
   "cell_type": "code",
   "execution_count": 6,
   "metadata": {
    "collapsed": true
   },
   "outputs": [],
   "source": [
    "def aggregate_votes(uniq_id, data_frame):\n",
    "    \"\"\"\n",
    "    Given a data frame representing all the unique votes\n",
    "    for one work unit, aggregates the votes for each of the\n",
    "    possible choices.\n",
    "    \n",
    "    Returns an unsorted data frame containing the relationships\n",
    "    with normalized scores.\n",
    "    \"\"\"\n",
    "    rel_id = dict()\n",
    "    \n",
    "    # first map the ids: choice # -> id_pair\n",
    "    for i in range(5):\n",
    "        colname = \"choice_{0}_ids\".format(i)\n",
    "        assert len(data_frame[colname].unique()) == 1\n",
    "        rel_id[\"choice_{0}\".format(i)] = data_frame.iloc[0][colname]  \n",
    "\n",
    "    scores = defaultdict(float)\n",
    "    # increment each relationship pair id by the worker's trust score\n",
    "    for idx, row in data_frame.iterrows():\n",
    "        # check that none of the above does not conflict with the other choices\n",
    "        user_choices = row[\"chemical_disease_relationships\"].split('\\n')\n",
    "        if \"none_are_true\" in user_choices:\n",
    "            assert len(user_choices) == 1\n",
    "            # vote against all other choices\n",
    "            for i in range(5):\n",
    "                scores[rel_id[\"choice_{0}\".format(i)]] -= row[\"_trust\"]\n",
    "        else:\n",
    "            for choice in user_choices:\n",
    "                scores[rel_id[choice]] += row[\"_trust\"]\n",
    "            \n",
    "    total_trust = sum(data_frame[\"_trust\"])\n",
    "    \n",
    "    # normalize choices and remove those below zero or empty\n",
    "    temp = defaultdict(list)\n",
    "    for id_pair, score in scores.items():\n",
    "        score /= total_trust\n",
    "        if score > 0 and id_pair != \"empty\":\n",
    "            temp[\"id_pair\"].append(id_pair)\n",
    "            temp[\"normalized_score\"].append(score)\n",
    "            \n",
    "    df = pd.DataFrame(temp)\n",
    "    \n",
    "    df[\"uniq_id\"] = uniq_id\n",
    "    assert len(data_frame[\"_unit_id\"].unique()) == 1\n",
    "    df[\"unit_id\"] = data_frame[\"_unit_id\"].iloc[0]\n",
    "    \n",
    "    return df"
   ]
  },
  {
   "cell_type": "markdown",
   "metadata": {},
   "source": [
    "### Aggregate by PMID:"
   ]
  },
  {
   "cell_type": "code",
   "execution_count": 7,
   "metadata": {
    "collapsed": false
   },
   "outputs": [],
   "source": [
    "def generate_results():\n",
    "    results = []\n",
    "    for pmid, pmid_group in final_data.groupby(\"pmid\"):\n",
    "        temp = []\n",
    "        for uniq_id, group in pmid_group.groupby(\"uniq_id\"):\n",
    "            scores = aggregate_votes(uniq_id, group)\n",
    "            temp.append(scores)\n",
    "\n",
    "        df = pd.concat(temp)\n",
    "        if not df.empty:\n",
    "            df = df.sort(\"normalized_score\", axis = 0, ascending = False)\n",
    "            df[\"pmid\"] = pmid\n",
    "            results.append(df)\n",
    "            \n",
    "    return pd.concat(results)"
   ]
  },
  {
   "cell_type": "code",
   "execution_count": 8,
   "metadata": {
    "collapsed": false,
    "scrolled": true
   },
   "outputs": [
    {
     "data": {
      "text/html": [
       "<div style=\"max-height:1000px;max-width:1500px;overflow:auto;\">\n",
       "<table border=\"1\" class=\"dataframe\">\n",
       "  <thead>\n",
       "    <tr style=\"text-align: right;\">\n",
       "      <th></th>\n",
       "      <th>id_pair</th>\n",
       "      <th>normalized_score</th>\n",
       "      <th>uniq_id</th>\n",
       "      <th>unit_id</th>\n",
       "      <th>pmid</th>\n",
       "    </tr>\n",
       "  </thead>\n",
       "  <tbody>\n",
       "    <tr>\n",
       "      <th>1</th>\n",
       "      <td>D002512_induces_D007683</td>\n",
       "      <td>1.000000</td>\n",
       "      <td>bcv_id_46</td>\n",
       "      <td>739660132</td>\n",
       "      <td>1130930</td>\n",
       "    </tr>\n",
       "    <tr>\n",
       "      <th>0</th>\n",
       "      <td>D002512_induces_D007674</td>\n",
       "      <td>0.482759</td>\n",
       "      <td>bcv_id_46</td>\n",
       "      <td>739660132</td>\n",
       "      <td>1130930</td>\n",
       "    </tr>\n",
       "    <tr>\n",
       "      <th>0</th>\n",
       "      <td>D008094_induces_D007676</td>\n",
       "      <td>1.000000</td>\n",
       "      <td>bcv_id_7</td>\n",
       "      <td>739717853</td>\n",
       "      <td>1378968</td>\n",
       "    </tr>\n",
       "    <tr>\n",
       "      <th>0</th>\n",
       "      <td>D009241_induces_D029424</td>\n",
       "      <td>0.378238</td>\n",
       "      <td>bcv_id_33</td>\n",
       "      <td>739660119</td>\n",
       "      <td>1835291</td>\n",
       "    </tr>\n",
       "    <tr>\n",
       "      <th>1</th>\n",
       "      <td>D013806_induces_D029424</td>\n",
       "      <td>0.051813</td>\n",
       "      <td>bcv_id_33</td>\n",
       "      <td>739660119</td>\n",
       "      <td>1835291</td>\n",
       "    </tr>\n",
       "    <tr>\n",
       "      <th>0</th>\n",
       "      <td>D008874_induces_D012140|D002318</td>\n",
       "      <td>1.000000</td>\n",
       "      <td>bcv_id_39</td>\n",
       "      <td>739660125</td>\n",
       "      <td>2375138</td>\n",
       "    </tr>\n",
       "    <tr>\n",
       "      <th>0</th>\n",
       "      <td>D005996_induces_D008881</td>\n",
       "      <td>1.000000</td>\n",
       "      <td>bcv_id_32</td>\n",
       "      <td>739675179</td>\n",
       "      <td>2515254</td>\n",
       "    </tr>\n",
       "    <tr>\n",
       "      <th>0</th>\n",
       "      <td>D010423_induces_D009408|D020425</td>\n",
       "      <td>1.000000</td>\n",
       "      <td>bcv_id_15</td>\n",
       "      <td>739660101</td>\n",
       "      <td>3800626</td>\n",
       "    </tr>\n",
       "    <tr>\n",
       "      <th>0</th>\n",
       "      <td>D001241_induces_D013274</td>\n",
       "      <td>1.000000</td>\n",
       "      <td>bcv_id_41</td>\n",
       "      <td>739660127</td>\n",
       "      <td>6692345</td>\n",
       "    </tr>\n",
       "    <tr>\n",
       "      <th>1</th>\n",
       "      <td>D010248_induces_D014581</td>\n",
       "      <td>0.714286</td>\n",
       "      <td>bcv_id_36</td>\n",
       "      <td>739660122</td>\n",
       "      <td>7582165</td>\n",
       "    </tr>\n",
       "    <tr>\n",
       "      <th>0</th>\n",
       "      <td>D000305_induces_D004342</td>\n",
       "      <td>0.285714</td>\n",
       "      <td>bcv_id_36</td>\n",
       "      <td>739660122</td>\n",
       "      <td>7582165</td>\n",
       "    </tr>\n",
       "    <tr>\n",
       "      <th>0</th>\n",
       "      <td>C016986_induces_D015814</td>\n",
       "      <td>1.000000</td>\n",
       "      <td>bcv_id_26</td>\n",
       "      <td>739660112</td>\n",
       "      <td>8590259</td>\n",
       "    </tr>\n",
       "    <tr>\n",
       "      <th>0</th>\n",
       "      <td>D015742_induces_D010146</td>\n",
       "      <td>1.000000</td>\n",
       "      <td>bcv_id_9</td>\n",
       "      <td>739660095</td>\n",
       "      <td>8595686</td>\n",
       "    </tr>\n",
       "    <tr>\n",
       "      <th>1</th>\n",
       "      <td>D015742_induces_D014474</td>\n",
       "      <td>0.538462</td>\n",
       "      <td>bcv_id_9</td>\n",
       "      <td>739660095</td>\n",
       "      <td>8595686</td>\n",
       "    </tr>\n",
       "    <tr>\n",
       "      <th>0</th>\n",
       "      <td>D011318_induces_D034381</td>\n",
       "      <td>1.000000</td>\n",
       "      <td>bcv_id_16</td>\n",
       "      <td>739660102</td>\n",
       "      <td>9522143</td>\n",
       "    </tr>\n",
       "    <tr>\n",
       "      <th>0</th>\n",
       "      <td>D015742_induces_D013610</td>\n",
       "      <td>0.689119</td>\n",
       "      <td>bcv_id_12</td>\n",
       "      <td>739660098</td>\n",
       "      <td>10520387</td>\n",
       "    </tr>\n",
       "    <tr>\n",
       "      <th>2</th>\n",
       "      <td>D015742_induces_D007022</td>\n",
       "      <td>0.673575</td>\n",
       "      <td>bcv_id_12</td>\n",
       "      <td>739660098</td>\n",
       "      <td>10520387</td>\n",
       "    </tr>\n",
       "    <tr>\n",
       "      <th>1</th>\n",
       "      <td>D004809_induces_D013610</td>\n",
       "      <td>0.326425</td>\n",
       "      <td>bcv_id_12</td>\n",
       "      <td>739660098</td>\n",
       "      <td>10520387</td>\n",
       "    </tr>\n",
       "    <tr>\n",
       "      <th>0</th>\n",
       "      <td>D009553_induces_D007022</td>\n",
       "      <td>1.000000</td>\n",
       "      <td>bcv_id_47</td>\n",
       "      <td>739660133</td>\n",
       "      <td>10835440</td>\n",
       "    </tr>\n",
       "    <tr>\n",
       "      <th>0</th>\n",
       "      <td>D002945_induces_D002289</td>\n",
       "      <td>0.076923</td>\n",
       "      <td>bcv_id_3</td>\n",
       "      <td>739660089</td>\n",
       "      <td>11135224</td>\n",
       "    </tr>\n",
       "    <tr>\n",
       "      <th>0</th>\n",
       "      <td>D010396_induces_D000741</td>\n",
       "      <td>1.000000</td>\n",
       "      <td>bcv_id_34</td>\n",
       "      <td>739660120</td>\n",
       "      <td>12041669</td>\n",
       "    </tr>\n",
       "    <tr>\n",
       "      <th>0</th>\n",
       "      <td>D009538_induces_D014202</td>\n",
       "      <td>1.000000</td>\n",
       "      <td>bcv_id_30</td>\n",
       "      <td>739660116</td>\n",
       "      <td>12198388</td>\n",
       "    </tr>\n",
       "    <tr>\n",
       "      <th>0</th>\n",
       "      <td>D017963_induces_D009395</td>\n",
       "      <td>1.000000</td>\n",
       "      <td>bcv_id_48</td>\n",
       "      <td>739708950</td>\n",
       "      <td>15602202</td>\n",
       "    </tr>\n",
       "    <tr>\n",
       "      <th>0</th>\n",
       "      <td>D013148_induces_D051437</td>\n",
       "      <td>1.000000</td>\n",
       "      <td>bcv_id_25</td>\n",
       "      <td>739660111</td>\n",
       "      <td>15632880</td>\n",
       "    </tr>\n",
       "    <tr>\n",
       "      <th>1</th>\n",
       "      <td>D013148_induces_D006947</td>\n",
       "      <td>1.000000</td>\n",
       "      <td>bcv_id_25</td>\n",
       "      <td>739660111</td>\n",
       "      <td>15632880</td>\n",
       "    </tr>\n",
       "    <tr>\n",
       "      <th>0</th>\n",
       "      <td>D020849_induces_D054556</td>\n",
       "      <td>1.000000</td>\n",
       "      <td>bcv_id_49</td>\n",
       "      <td>739881468</td>\n",
       "      <td>16167916</td>\n",
       "    </tr>\n",
       "    <tr>\n",
       "      <th>0</th>\n",
       "      <td>D010862_induces_D004827</td>\n",
       "      <td>1.000000</td>\n",
       "      <td>bcv_id_11</td>\n",
       "      <td>739660097</td>\n",
       "      <td>16337777</td>\n",
       "    </tr>\n",
       "    <tr>\n",
       "      <th>0</th>\n",
       "      <td>D003000_induces_D001919</td>\n",
       "      <td>1.000000</td>\n",
       "      <td>bcv_id_42</td>\n",
       "      <td>739660128</td>\n",
       "      <td>17261653</td>\n",
       "    </tr>\n",
       "  </tbody>\n",
       "</table>\n",
       "</div>"
      ],
      "text/plain": [
       "                           id_pair  normalized_score    uniq_id    unit_id  \\\n",
       "1          D002512_induces_D007683          1.000000  bcv_id_46  739660132   \n",
       "0          D002512_induces_D007674          0.482759  bcv_id_46  739660132   \n",
       "0          D008094_induces_D007676          1.000000   bcv_id_7  739717853   \n",
       "0          D009241_induces_D029424          0.378238  bcv_id_33  739660119   \n",
       "1          D013806_induces_D029424          0.051813  bcv_id_33  739660119   \n",
       "0  D008874_induces_D012140|D002318          1.000000  bcv_id_39  739660125   \n",
       "0          D005996_induces_D008881          1.000000  bcv_id_32  739675179   \n",
       "0  D010423_induces_D009408|D020425          1.000000  bcv_id_15  739660101   \n",
       "0          D001241_induces_D013274          1.000000  bcv_id_41  739660127   \n",
       "1          D010248_induces_D014581          0.714286  bcv_id_36  739660122   \n",
       "0          D000305_induces_D004342          0.285714  bcv_id_36  739660122   \n",
       "0          C016986_induces_D015814          1.000000  bcv_id_26  739660112   \n",
       "0          D015742_induces_D010146          1.000000   bcv_id_9  739660095   \n",
       "1          D015742_induces_D014474          0.538462   bcv_id_9  739660095   \n",
       "0          D011318_induces_D034381          1.000000  bcv_id_16  739660102   \n",
       "0          D015742_induces_D013610          0.689119  bcv_id_12  739660098   \n",
       "2          D015742_induces_D007022          0.673575  bcv_id_12  739660098   \n",
       "1          D004809_induces_D013610          0.326425  bcv_id_12  739660098   \n",
       "0          D009553_induces_D007022          1.000000  bcv_id_47  739660133   \n",
       "0          D002945_induces_D002289          0.076923   bcv_id_3  739660089   \n",
       "0          D010396_induces_D000741          1.000000  bcv_id_34  739660120   \n",
       "0          D009538_induces_D014202          1.000000  bcv_id_30  739660116   \n",
       "0          D017963_induces_D009395          1.000000  bcv_id_48  739708950   \n",
       "0          D013148_induces_D051437          1.000000  bcv_id_25  739660111   \n",
       "1          D013148_induces_D006947          1.000000  bcv_id_25  739660111   \n",
       "0          D020849_induces_D054556          1.000000  bcv_id_49  739881468   \n",
       "0          D010862_induces_D004827          1.000000  bcv_id_11  739660097   \n",
       "0          D003000_induces_D001919          1.000000  bcv_id_42  739660128   \n",
       "\n",
       "       pmid  \n",
       "1   1130930  \n",
       "0   1130930  \n",
       "0   1378968  \n",
       "0   1835291  \n",
       "1   1835291  \n",
       "0   2375138  \n",
       "0   2515254  \n",
       "0   3800626  \n",
       "0   6692345  \n",
       "1   7582165  \n",
       "0   7582165  \n",
       "0   8590259  \n",
       "0   8595686  \n",
       "1   8595686  \n",
       "0   9522143  \n",
       "0  10520387  \n",
       "2  10520387  \n",
       "1  10520387  \n",
       "0  10835440  \n",
       "0  11135224  \n",
       "0  12041669  \n",
       "0  12198388  \n",
       "0  15602202  \n",
       "0  15632880  \n",
       "1  15632880  \n",
       "0  16167916  \n",
       "0  16337777  \n",
       "0  17261653  "
      ]
     },
     "execution_count": 8,
     "metadata": {},
     "output_type": "execute_result"
    }
   ],
   "source": [
    "results = generate_results()\n",
    "\n",
    "results"
   ]
  },
  {
   "cell_type": "markdown",
   "metadata": {},
   "source": [
    "### We didn't manage to collect enough data with this job, so let's just look at performance if we take the top result for each paper:"
   ]
  },
  {
   "cell_type": "code",
   "execution_count": 9,
   "metadata": {
    "collapsed": true
   },
   "outputs": [],
   "source": [
    "training_data = parse_input(\"data/training\", \"CDR_TrainingSet.txt\")"
   ]
  },
  {
   "cell_type": "code",
   "execution_count": 10,
   "metadata": {
    "collapsed": false
   },
   "outputs": [
    {
     "data": {
      "text/plain": [
       "{1130930,\n",
       " 1378968,\n",
       " 1835291,\n",
       " 2375138,\n",
       " 2515254,\n",
       " 3800626,\n",
       " 6692345,\n",
       " 7582165,\n",
       " 8590259,\n",
       " 8595686,\n",
       " 9522143,\n",
       " 10520387,\n",
       " 10835440,\n",
       " 11135224,\n",
       " 12041669,\n",
       " 12198388,\n",
       " 15602202,\n",
       " 15632880,\n",
       " 16167916,\n",
       " 16337777,\n",
       " 17261653}"
      ]
     },
     "execution_count": 10,
     "metadata": {},
     "output_type": "execute_result"
    }
   ],
   "source": [
    "used_pmids = set(results[\"pmid\"].unique())\n",
    "used_pmids"
   ]
  },
  {
   "cell_type": "code",
   "execution_count": 11,
   "metadata": {
    "collapsed": false
   },
   "outputs": [
    {
     "name": "stdout",
     "output_type": "stream",
     "text": [
      "21\n"
     ]
    }
   ],
   "source": [
    "# create the gold\n",
    "gold_relations = dict()\n",
    "\n",
    "for paper in training_data:\n",
    "    if int(paper.pmid) in used_pmids:\n",
    "        gold_relations[paper.pmid] = paper.relations\n",
    "    \n",
    "print len(gold_relations)"
   ]
  },
  {
   "cell_type": "code",
   "execution_count": 12,
   "metadata": {
    "collapsed": true
   },
   "outputs": [],
   "source": [
    "def in_gold(pmid, annot):\n",
    "    for gold in gold_relations[str(pmid)]:\n",
    "        if gold == annot:\n",
    "            return True\n",
    "        \n",
    "    return False"
   ]
  },
  {
   "cell_type": "code",
   "execution_count": 19,
   "metadata": {
    "collapsed": false
   },
   "outputs": [],
   "source": [
    "# check results of crowd against gold:\n",
    "\n",
    "# just do all of them:\n",
    "\n",
    "def statistics():\n",
    "    num_intersect = 0\n",
    "    num_guesses = 0\n",
    "\n",
    "    for pmid, group in results.groupby(\"pmid\"):\n",
    "        \n",
    "        temp = group[\"id_pair\"].iloc[0].split(\"_induces_\")\n",
    "        annot = Relation(temp[0], temp[1])\n",
    "        if in_gold(pmid, annot):\n",
    "            num_intersect += 1\n",
    "            \n",
    "        num_guesses += 1\n",
    "        \n",
    "\n",
    "#         for crowd_rel in group[\"id_pair\"]:\n",
    "#             temp = crowd_rel.split(\"_induces_\")\n",
    "#             annot = Relation(temp[0], temp[1])\n",
    "\n",
    "#             if in_gold(pmid, annot):\n",
    "#                 num_intersect += 1\n",
    "\n",
    "    total_pos = 0\n",
    "    for pmid, rels in gold_relations.items():\n",
    "        total_pos += len(rels)\n",
    "\n",
    "    print \"recall: {0}\".format(num_intersect / total_pos)\n",
    "    print \"precision: {0}\".format(num_intersect / num_guesses)"
   ]
  },
  {
   "cell_type": "code",
   "execution_count": 20,
   "metadata": {
    "collapsed": false
   },
   "outputs": [
    {
     "name": "stdout",
     "output_type": "stream",
     "text": [
      "recall: 0.28\n",
      "precision: 0.666666666667\n"
     ]
    }
   ],
   "source": [
    "statistics()"
   ]
  },
  {
   "cell_type": "code",
   "execution_count": 17,
   "metadata": {
    "collapsed": false
   },
   "outputs": [
    {
     "name": "stdout",
     "output_type": "stream",
     "text": [
      "total gold relations: 50\n",
      "28\n"
     ]
    }
   ],
   "source": [
    "total_pos = 0\n",
    "for pmid, rels in gold_relations.items():\n",
    "    total_pos += len(rels)\n",
    "    \n",
    "print \"total gold relations: {0}\".format(total_pos)\n",
    "\n",
    "print len(results)\n",
    "\n",
    "    "
   ]
  },
  {
   "cell_type": "code",
   "execution_count": 15,
   "metadata": {
    "collapsed": false
   },
   "outputs": [
    {
     "name": "stdout",
     "output_type": "stream",
     "text": [
      "recall: 0.34\n",
      "precision: 0.607142857143\n"
     ]
    }
   ],
   "source": [
    "print \"recall: {0}\".format(num_intersect / total_pos)\n",
    "print \"precision: {0}\".format(num_intersect / len(results))"
   ]
  },
  {
   "cell_type": "markdown",
   "metadata": {},
   "source": [
    "Precision is pretty low, but we have to keep in mind that the data are far from complete due to Crowdflower quiz issues. Overall, these data are mostly inconclusive about how well the crowd can actually handle this task. We need to gather far more reponses to be able to say anything about the precision and recall."
   ]
  },
  {
   "cell_type": "code",
   "execution_count": null,
   "metadata": {
    "collapsed": true
   },
   "outputs": [],
   "source": []
  }
 ],
 "metadata": {
  "kernelspec": {
   "display_name": "Python 2",
   "language": "python",
   "name": "python2"
  },
  "language_info": {
   "codemirror_mode": {
    "name": "ipython",
    "version": 2
   },
   "file_extension": ".py",
   "mimetype": "text/x-python",
   "name": "python",
   "nbconvert_exporter": "python",
   "pygments_lexer": "ipython2",
   "version": "2.7.10"
  }
 },
 "nbformat": 4,
 "nbformat_minor": 0
}
