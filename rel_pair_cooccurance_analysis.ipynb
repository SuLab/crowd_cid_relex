{
 "cells": [
  {
   "cell_type": "markdown",
   "metadata": {},
   "source": [
    "# Analysis of drug-disease relation pair cooccurence in the gold standard data of BioCreative V"
   ]
  },
  {
   "cell_type": "markdown",
   "metadata": {},
   "source": [
    "2015-06-23 Tong Shu Li"
   ]
  },
  {
   "cell_type": "markdown",
   "metadata": {},
   "source": [
    "I want to simplify the task that members of our crowd see, in the belief that simpler tasks will provide better performance.\n",
    "\n",
    "The biggest simplification is whether we can extract the same drug-disease relationships from single sentences only, or if we need to include the entire abstract. To answer this, we will need to know which drug-disease relationships co-occur in the same sentence."
   ]
  },
  {
   "cell_type": "code",
   "execution_count": 1,
   "metadata": {
    "collapsed": false
   },
   "outputs": [],
   "source": [
    "from __future__ import division\n",
    "from collections import defaultdict\n",
    "import nltk\n",
    "import pandas as pd\n",
    "import matplotlib as plt"
   ]
  },
  {
   "cell_type": "code",
   "execution_count": 2,
   "metadata": {
    "collapsed": false
   },
   "outputs": [],
   "source": [
    "%matplotlib inline"
   ]
  },
  {
   "cell_type": "code",
   "execution_count": 3,
   "metadata": {
    "collapsed": true
   },
   "outputs": [],
   "source": [
    "from src.parse_gold import parse_input\n",
    "from src.parse_gold import Relation"
   ]
  },
  {
   "cell_type": "markdown",
   "metadata": {},
   "source": [
    "### Read the gold standard files:"
   ]
  },
  {
   "cell_type": "code",
   "execution_count": 4,
   "metadata": {
    "collapsed": true
   },
   "outputs": [],
   "source": [
    "training_data = parse_input(\"data/training\", \"CDR_TrainingSet.txt\")\n",
    "development_data = parse_input(\"data/development\", \"CDR_DevelopmentSet.txt\")"
   ]
  },
  {
   "cell_type": "code",
   "execution_count": 5,
   "metadata": {
    "collapsed": false
   },
   "outputs": [
    {
     "name": "stdout",
     "output_type": "stream",
     "text": [
      "500\n",
      "500\n"
     ]
    }
   ],
   "source": [
    "print len(training_data)\n",
    "print len(development_data)"
   ]
  },
  {
   "cell_type": "markdown",
   "metadata": {},
   "source": [
    "---"
   ]
  },
  {
   "cell_type": "markdown",
   "metadata": {},
   "source": [
    "###Workflow:\n",
    "\n",
    "1. Split each abstract up into sentences, and determine the starting and end indicies of each sentence. Determine using a rough heuristic whether each abstract was split up properly.\n",
    "2. Generate all possible drug-disease pairs, and look for co-occurrences. Determine if is a gold relation."
   ]
  },
  {
   "cell_type": "markdown",
   "metadata": {},
   "source": [
    "### Try to split the sentences up:"
   ]
  },
  {
   "cell_type": "markdown",
   "metadata": {},
   "source": [
    "We will use a modified version of the standard English PunktSentence Tokenizer from the Python NLTK corpus to split our abstract into sentences. The default splitter is very good, but misses a lot of scientific abbreviations. We will train it on some commonly used acronyms, but the list is definitely not exhaustive."
   ]
  },
  {
   "cell_type": "code",
   "execution_count": 6,
   "metadata": {
    "collapsed": false
   },
   "outputs": [],
   "source": [
    "def generate_all_abbreviations():\n",
    "    examples = []\n",
    "            \n",
    "    abrev = \"\"\"mg. kg-1 d-1\n",
    "Gm.\n",
    "mEq.\n",
    "mg.\n",
    "ng./ml.\n",
    "M.S.\n",
    "ml.\n",
    "i.e.\n",
    "100 mg/kg/i.p.\n",
    "beats/min.\n",
    "i.m.\n",
    "apples vs. oranges\n",
    "t.d.s.\n",
    "t.i.d.\n",
    "b.i.d.\n",
    "mg. l(-1)\n",
    "mg.\n",
    "i.c.v.\"\"\"\n",
    "    \n",
    "    for token in abrev.split('\\n'):\n",
    "        examples.append(\"Sentences with {0} should be ignored.\".format(token))\n",
    "\n",
    "    return \"\\n\".join(examples)"
   ]
  },
  {
   "cell_type": "code",
   "execution_count": 7,
   "metadata": {
    "collapsed": true
   },
   "outputs": [],
   "source": [
    "# old training text made by hand:\n",
    "train_text = \"\"\"\n",
    "Sentences with i.v. should be ignored.\n",
    "Sentences with apples vs. oranges should be ignored.\n",
    "Sentences with dose given at 100 mg t.d.s. should be ignored.\n",
    "Sentences with i.p. should be ignored.\n",
    "Sentences with s.c. should be ignored.\n",
    "Sentences with t.i.d. should be ignored.\n",
    "Sentences with b.i.d. should be ignored.\n",
    "Sentences with e.g. should be ignored.\n",
    "Sentences with mg. l(-1) should be ignored.\n",
    "Sentences with 9:00 a.m. or 10:00 p.m. should be ignored.\n",
    "Sentences with i.c.v. should be ignored.\n",
    "Sentences with p.o. should be ignored.\n",
    "Sentences with i.p. should be ignored.\n",
    "Sentences with s.c. should be ignored.\n",
    "\"\"\""
   ]
  },
  {
   "cell_type": "code",
   "execution_count": 8,
   "metadata": {
    "collapsed": false
   },
   "outputs": [],
   "source": [
    "train_text += generate_all_abbreviations()"
   ]
  },
  {
   "cell_type": "markdown",
   "metadata": {},
   "source": [
    "### We need our own tokenizer for scientific sentences, since there are lots of acronyms and scientific units"
   ]
  },
  {
   "cell_type": "code",
   "execution_count": 9,
   "metadata": {
    "collapsed": false
   },
   "outputs": [],
   "source": [
    "science_sent_tokenizer = nltk.tokenize.punkt.PunktSentenceTokenizer(train_text)"
   ]
  },
  {
   "cell_type": "markdown",
   "metadata": {},
   "source": [
    "The science tokenizer doesn't work perfectly. In some cases, it is still getting tripped up by units and abbreviations which end with a period. This will affect the percentage of concepts co-occurring in the same sentence, but the overall effect is small."
   ]
  },
  {
   "cell_type": "code",
   "execution_count": 10,
   "metadata": {
    "collapsed": true
   },
   "outputs": [],
   "source": [
    "def split_paper(paper):\n",
    "    \"\"\"\n",
    "    Given a paper object, splits it up into\n",
    "    sentences and determines the index span.\n",
    "    \"\"\"\n",
    "    text = \"{0} {1}\".format(paper.title, paper.abstract)\n",
    "    \n",
    "    data = defaultdict(list)\n",
    "    \n",
    "    sentences = [paper.title] + science_sent_tokenizer.tokenize(paper.abstract)\n",
    "    data[\"sentences\"] = sentences\n",
    "    \n",
    "    for sentence in sentences:\n",
    "        data[\"made_mistake\"].append(int('a' <= sentence[0] <= 'z'))\n",
    "            \n",
    "        idx = text.index(sentence)\n",
    "        data[\"start_index\"].append(idx)\n",
    "        data[\"stop_index\"].append(idx + len(sentence))\n",
    "        \n",
    "    data[\"pmid\"] = paper.pmid\n",
    "        \n",
    "    return pd.DataFrame(data)"
   ]
  },
  {
   "cell_type": "code",
   "execution_count": 11,
   "metadata": {
    "collapsed": true
   },
   "outputs": [],
   "source": [
    "def split_papers(document_set):\n",
    "    return pd.concat([split_paper(paper) for paper in document_set])    "
   ]
  },
  {
   "cell_type": "code",
   "execution_count": 12,
   "metadata": {
    "collapsed": false
   },
   "outputs": [],
   "source": [
    "training_info = split_papers(training_data)\n",
    "development_info = split_papers(development_data)"
   ]
  },
  {
   "cell_type": "code",
   "execution_count": 13,
   "metadata": {
    "collapsed": false
   },
   "outputs": [
    {
     "data": {
      "text/plain": [
       "(4563, 5)"
      ]
     },
     "execution_count": 13,
     "metadata": {},
     "output_type": "execute_result"
    }
   ],
   "source": [
    "training_info.shape"
   ]
  },
  {
   "cell_type": "code",
   "execution_count": 14,
   "metadata": {
    "collapsed": false
   },
   "outputs": [
    {
     "data": {
      "text/plain": [
       "(4569, 5)"
      ]
     },
     "execution_count": 14,
     "metadata": {},
     "output_type": "execute_result"
    }
   ],
   "source": [
    "development_info.shape"
   ]
  },
  {
   "cell_type": "markdown",
   "metadata": {},
   "source": [
    "The sentence_info data frame contains all the sentences from both the training and development data sets:"
   ]
  },
  {
   "cell_type": "code",
   "execution_count": 15,
   "metadata": {
    "collapsed": false
   },
   "outputs": [
    {
     "data": {
      "text/html": [
       "<div style=\"max-height:1000px;max-width:1500px;overflow:auto;\">\n",
       "<table border=\"1\" class=\"dataframe\">\n",
       "  <thead>\n",
       "    <tr style=\"text-align: right;\">\n",
       "      <th></th>\n",
       "      <th>made_mistake</th>\n",
       "      <th>pmid</th>\n",
       "      <th>sentences</th>\n",
       "      <th>start_index</th>\n",
       "      <th>stop_index</th>\n",
       "    </tr>\n",
       "  </thead>\n",
       "  <tbody>\n",
       "    <tr>\n",
       "      <th>0</th>\n",
       "      <td>0</td>\n",
       "      <td>227508</td>\n",
       "      <td>Naloxone reverses the antihypertensive effect ...</td>\n",
       "      <td>0</td>\n",
       "      <td>59</td>\n",
       "    </tr>\n",
       "    <tr>\n",
       "      <th>1</th>\n",
       "      <td>0</td>\n",
       "      <td>227508</td>\n",
       "      <td>In unanesthetized, spontaneously hypertensive ...</td>\n",
       "      <td>60</td>\n",
       "      <td>269</td>\n",
       "    </tr>\n",
       "    <tr>\n",
       "      <th>2</th>\n",
       "      <td>0</td>\n",
       "      <td>227508</td>\n",
       "      <td>The hypotensive effect of 100 mg/kg alpha-meth...</td>\n",
       "      <td>270</td>\n",
       "      <td>363</td>\n",
       "    </tr>\n",
       "    <tr>\n",
       "      <th>3</th>\n",
       "      <td>0</td>\n",
       "      <td>227508</td>\n",
       "      <td>Naloxone alone did not affect either blood pre...</td>\n",
       "      <td>364</td>\n",
       "      <td>430</td>\n",
       "    </tr>\n",
       "    <tr>\n",
       "      <th>4</th>\n",
       "      <td>0</td>\n",
       "      <td>227508</td>\n",
       "      <td>In brain membranes from spontaneously hyperten...</td>\n",
       "      <td>431</td>\n",
       "      <td>703</td>\n",
       "    </tr>\n",
       "  </tbody>\n",
       "</table>\n",
       "</div>"
      ],
      "text/plain": [
       "   made_mistake    pmid                                          sentences  \\\n",
       "0             0  227508  Naloxone reverses the antihypertensive effect ...   \n",
       "1             0  227508  In unanesthetized, spontaneously hypertensive ...   \n",
       "2             0  227508  The hypotensive effect of 100 mg/kg alpha-meth...   \n",
       "3             0  227508  Naloxone alone did not affect either blood pre...   \n",
       "4             0  227508  In brain membranes from spontaneously hyperten...   \n",
       "\n",
       "   start_index  stop_index  \n",
       "0            0          59  \n",
       "1           60         269  \n",
       "2          270         363  \n",
       "3          364         430  \n",
       "4          431         703  "
      ]
     },
     "execution_count": 15,
     "metadata": {},
     "output_type": "execute_result"
    }
   ],
   "source": [
    "sentence_info = pd.concat([training_info, development_info])\n",
    "sentence_info.head()"
   ]
  },
  {
   "cell_type": "markdown",
   "metadata": {},
   "source": [
    "### Generate the list of all possible drug-disease pairs, and look to see if they co-occur in the same sentence:"
   ]
  },
  {
   "cell_type": "code",
   "execution_count": 16,
   "metadata": {
    "collapsed": true
   },
   "outputs": [],
   "source": [
    "def get_all_work_units(paper):\n",
    "    \"\"\"\n",
    "    Generate all unique drug-disease pairs by unique identifier.\n",
    "    Return a list.\n",
    "    \"\"\"\n",
    "    uniq = defaultdict(set)\n",
    "    for annotation in paper.annotations:\n",
    "        uniq[annotation.stype].add(annotation.uid)\n",
    "        \n",
    "    return [(drug, disease) for drug in uniq[\"chemical\"] for disease in uniq[\"disease\"]]"
   ]
  },
  {
   "cell_type": "code",
   "execution_count": 17,
   "metadata": {
    "collapsed": true
   },
   "outputs": [],
   "source": [
    "def determine_cooccurence(paper, relation_pairs, sentence_info):\n",
    "    \"\"\"\n",
    "    Given a paper and a list of drug-disease pairs,\n",
    "    determines how many times each drug-disease pair\n",
    "    co-occurs in the same sentence.\n",
    "    \"\"\"\n",
    "    \n",
    "    def get_distances(drug_id, disease_id):\n",
    "        \"\"\"\n",
    "        Calculate the minimum, median, and maximum\n",
    "        distance in characters between two concept\n",
    "        mentions.\n",
    "        \"\"\"\n",
    "        res = []\n",
    "        for annot in paper.annotations:\n",
    "            if annot.uid == drug_id:\n",
    "                for other in paper.annotations:\n",
    "                    if other.uid == disease_id:\n",
    "                        res.append(max(annot.start, other.start) - min(annot.stop, other.stop))\n",
    "                        \n",
    "        res = pd.Series(res)\n",
    "        return (min(res), res.median(), max(res))\n",
    "    \n",
    "    # which concept ids each sentence contains\n",
    "    concepts = defaultdict(set)\n",
    "    for idx, row in sentence_info.iterrows():\n",
    "        start = row[\"start_index\"]\n",
    "        stop = row[\"stop_index\"]\n",
    "        \n",
    "        for annotation in paper.annotations:\n",
    "            if annotation.start >= start and annotation.stop <= stop:\n",
    "                concepts[idx].add(annotation.uid)\n",
    "    \n",
    "    # count co-occurrences\n",
    "    data = defaultdict(list)\n",
    "    for drug_id, disease_id in relation_pairs:\n",
    "        times_cooccur = 0\n",
    "        for sent_id, concept_set in concepts.items():\n",
    "            if drug_id in concept_set and disease_id in concept_set:\n",
    "                times_cooccur += 1\n",
    "                \n",
    "        data[\"times_cooccur\"].append(times_cooccur)\n",
    "        data[\"is_true\"].append(Relation(drug_id, disease_id) in paper.relations)\n",
    "        data[\"id_pair\"].append(\"{0}|{1}\".format(drug_id, disease_id))\n",
    "        \n",
    "        # find the distance between the concept annotations\n",
    "        min_dist, med_dist, max_dist = get_distances(drug_id, disease_id)\n",
    "        data[\"minimum_dist\"].append(min_dist)\n",
    "        data[\"median_dist\"].append(med_dist)\n",
    "        data[\"maximum_dist\"].append(max_dist)\n",
    "        \n",
    "    res = pd.DataFrame(data)\n",
    "    res[\"pmid\"] = paper.pmid\n",
    "    \n",
    "    return res"
   ]
  },
  {
   "cell_type": "code",
   "execution_count": 18,
   "metadata": {
    "collapsed": true
   },
   "outputs": [],
   "source": [
    "def cooccur_results(data_frame):\n",
    "    res = []\n",
    "    for paper in data_frame:\n",
    "        work_units = get_all_work_units(paper)\n",
    "        df = sentence_info.query(\"pmid == '{0}'\".format(paper.pmid))\n",
    "        \n",
    "        res.append(determine_cooccurence(paper, work_units, df))\n",
    "        \n",
    "    return pd.concat(res)"
   ]
  },
  {
   "cell_type": "code",
   "execution_count": 19,
   "metadata": {
    "collapsed": true
   },
   "outputs": [],
   "source": [
    "train_res = cooccur_results(training_data)\n",
    "develop_res = cooccur_results(development_data)"
   ]
  },
  {
   "cell_type": "markdown",
   "metadata": {},
   "source": [
    "### Now that we have the cooccurence counts, we can see if this can be used to filter our data:"
   ]
  },
  {
   "cell_type": "code",
   "execution_count": 20,
   "metadata": {
    "collapsed": false
   },
   "outputs": [
    {
     "data": {
      "text/plain": [
       "(5399, 7)"
      ]
     },
     "execution_count": 20,
     "metadata": {},
     "output_type": "execute_result"
    }
   ],
   "source": [
    "train_res.shape"
   ]
  },
  {
   "cell_type": "code",
   "execution_count": 21,
   "metadata": {
    "collapsed": false
   },
   "outputs": [
    {
     "data": {
      "text/plain": [
       "(5175, 7)"
      ]
     },
     "execution_count": 21,
     "metadata": {},
     "output_type": "execute_result"
    }
   ],
   "source": [
    "develop_res.shape"
   ]
  },
  {
   "cell_type": "code",
   "execution_count": 22,
   "metadata": {
    "collapsed": false
   },
   "outputs": [
    {
     "data": {
      "text/html": [
       "<div style=\"max-height:1000px;max-width:1500px;overflow:auto;\">\n",
       "<table border=\"1\" class=\"dataframe\">\n",
       "  <thead>\n",
       "    <tr style=\"text-align: right;\">\n",
       "      <th></th>\n",
       "      <th>id_pair</th>\n",
       "      <th>is_true</th>\n",
       "      <th>maximum_dist</th>\n",
       "      <th>median_dist</th>\n",
       "      <th>minimum_dist</th>\n",
       "      <th>times_cooccur</th>\n",
       "      <th>pmid</th>\n",
       "    </tr>\n",
       "  </thead>\n",
       "  <tbody>\n",
       "    <tr>\n",
       "      <th>0</th>\n",
       "      <td>D003000|D006973</td>\n",
       "      <td>False</td>\n",
       "      <td>921</td>\n",
       "      <td>330.5</td>\n",
       "      <td>6</td>\n",
       "      <td>2</td>\n",
       "      <td>227508</td>\n",
       "    </tr>\n",
       "    <tr>\n",
       "      <th>1</th>\n",
       "      <td>D003000|D007022</td>\n",
       "      <td>False</td>\n",
       "      <td>741</td>\n",
       "      <td>284.0</td>\n",
       "      <td>84</td>\n",
       "      <td>0</td>\n",
       "      <td>227508</td>\n",
       "    </tr>\n",
       "    <tr>\n",
       "      <th>2</th>\n",
       "      <td>D008750|D006973</td>\n",
       "      <td>False</td>\n",
       "      <td>934</td>\n",
       "      <td>352.5</td>\n",
       "      <td>147</td>\n",
       "      <td>0</td>\n",
       "      <td>227508</td>\n",
       "    </tr>\n",
       "    <tr>\n",
       "      <th>3</th>\n",
       "      <td>D008750|D007022</td>\n",
       "      <td>True</td>\n",
       "      <td>754</td>\n",
       "      <td>387.5</td>\n",
       "      <td>21</td>\n",
       "      <td>1</td>\n",
       "      <td>227508</td>\n",
       "    </tr>\n",
       "    <tr>\n",
       "      <th>4</th>\n",
       "      <td>D009270|D006973</td>\n",
       "      <td>False</td>\n",
       "      <td>760</td>\n",
       "      <td>259.0</td>\n",
       "      <td>85</td>\n",
       "      <td>1</td>\n",
       "      <td>227508</td>\n",
       "    </tr>\n",
       "  </tbody>\n",
       "</table>\n",
       "</div>"
      ],
      "text/plain": [
       "           id_pair is_true  maximum_dist  median_dist  minimum_dist  \\\n",
       "0  D003000|D006973   False           921        330.5             6   \n",
       "1  D003000|D007022   False           741        284.0            84   \n",
       "2  D008750|D006973   False           934        352.5           147   \n",
       "3  D008750|D007022    True           754        387.5            21   \n",
       "4  D009270|D006973   False           760        259.0            85   \n",
       "\n",
       "   times_cooccur    pmid  \n",
       "0              2  227508  \n",
       "1              0  227508  \n",
       "2              0  227508  \n",
       "3              1  227508  \n",
       "4              1  227508  "
      ]
     },
     "execution_count": 22,
     "metadata": {},
     "output_type": "execute_result"
    }
   ],
   "source": [
    "train_res.head()"
   ]
  },
  {
   "cell_type": "code",
   "execution_count": 23,
   "metadata": {
    "collapsed": false
   },
   "outputs": [
    {
     "data": {
      "text/html": [
       "<div style=\"max-height:1000px;max-width:1500px;overflow:auto;\">\n",
       "<table border=\"1\" class=\"dataframe\">\n",
       "  <thead>\n",
       "    <tr style=\"text-align: right;\">\n",
       "      <th></th>\n",
       "      <th>id_pair</th>\n",
       "      <th>is_true</th>\n",
       "      <th>maximum_dist</th>\n",
       "      <th>median_dist</th>\n",
       "      <th>minimum_dist</th>\n",
       "      <th>times_cooccur</th>\n",
       "      <th>pmid</th>\n",
       "    </tr>\n",
       "  </thead>\n",
       "  <tbody>\n",
       "    <tr>\n",
       "      <th>0</th>\n",
       "      <td>D016651|D001145</td>\n",
       "      <td>True</td>\n",
       "      <td>637</td>\n",
       "      <td>398.5</td>\n",
       "      <td>160</td>\n",
       "      <td>0</td>\n",
       "      <td>6794356</td>\n",
       "    </tr>\n",
       "    <tr>\n",
       "      <th>1</th>\n",
       "      <td>D016651|D014262</td>\n",
       "      <td>False</td>\n",
       "      <td>482</td>\n",
       "      <td>218.5</td>\n",
       "      <td>5</td>\n",
       "      <td>1</td>\n",
       "      <td>6794356</td>\n",
       "    </tr>\n",
       "    <tr>\n",
       "      <th>2</th>\n",
       "      <td>D016651|D064420</td>\n",
       "      <td>False</td>\n",
       "      <td>451</td>\n",
       "      <td>226.0</td>\n",
       "      <td>1</td>\n",
       "      <td>1</td>\n",
       "      <td>6794356</td>\n",
       "    </tr>\n",
       "    <tr>\n",
       "      <th>3</th>\n",
       "      <td>D016651|D001282</td>\n",
       "      <td>False</td>\n",
       "      <td>367</td>\n",
       "      <td>223.0</td>\n",
       "      <td>79</td>\n",
       "      <td>0</td>\n",
       "      <td>6794356</td>\n",
       "    </tr>\n",
       "    <tr>\n",
       "      <th>4</th>\n",
       "      <td>D016651|D003490</td>\n",
       "      <td>True</td>\n",
       "      <td>623</td>\n",
       "      <td>384.5</td>\n",
       "      <td>146</td>\n",
       "      <td>0</td>\n",
       "      <td>6794356</td>\n",
       "    </tr>\n",
       "  </tbody>\n",
       "</table>\n",
       "</div>"
      ],
      "text/plain": [
       "           id_pair is_true  maximum_dist  median_dist  minimum_dist  \\\n",
       "0  D016651|D001145    True           637        398.5           160   \n",
       "1  D016651|D014262   False           482        218.5             5   \n",
       "2  D016651|D064420   False           451        226.0             1   \n",
       "3  D016651|D001282   False           367        223.0            79   \n",
       "4  D016651|D003490    True           623        384.5           146   \n",
       "\n",
       "   times_cooccur     pmid  \n",
       "0              0  6794356  \n",
       "1              1  6794356  \n",
       "2              1  6794356  \n",
       "3              0  6794356  \n",
       "4              0  6794356  "
      ]
     },
     "execution_count": 23,
     "metadata": {},
     "output_type": "execute_result"
    }
   ],
   "source": [
    "develop_res.head()"
   ]
  },
  {
   "cell_type": "code",
   "execution_count": 24,
   "metadata": {
    "collapsed": false
   },
   "outputs": [
    {
     "data": {
      "text/plain": [
       "<matplotlib.axes._subplots.AxesSubplot at 0x7f003968a1d0>"
      ]
     },
     "execution_count": 24,
     "metadata": {},
     "output_type": "execute_result"
    },
    {
     "data": {
      "image/png": "[encoded data removed]",
      "text/plain": [
       "<matplotlib.figure.Figure at 0x7f0041120790>"
      ]
     },
     "metadata": {},
     "output_type": "display_data"
    }
   ],
   "source": [
    "train_res.boxplot(column = \"times_cooccur\", by = \"is_true\")"
   ]
  },
  {
   "cell_type": "code",
   "execution_count": 25,
   "metadata": {
    "collapsed": false
   },
   "outputs": [
    {
     "data": {
      "text/plain": [
       "<matplotlib.axes._subplots.AxesSubplot at 0x7f003968a910>"
      ]
     },
     "execution_count": 25,
     "metadata": {},
     "output_type": "execute_result"
    },
    {
     "data": {
      "image/png": "[encoded data removed]",
      "text/plain": [
       "<matplotlib.figure.Figure at 0x7f00595f0fd0>"
      ]
     },
     "metadata": {},
     "output_type": "display_data"
    }
   ],
   "source": [
    "develop_res.boxplot(column = \"times_cooccur\", by = \"is_true\")"
   ]
  },
  {
   "cell_type": "markdown",
   "metadata": {},
   "source": [
    "### For the pairs which are true according to the gold, it seems that they tend to cooccur more often"
   ]
  },
  {
   "cell_type": "markdown",
   "metadata": {},
   "source": [
    "This is good, but when we don't know whether a potential drug-disease pair is true or not, can we use the number of cooccurences to determine whether the relationship is likely to be true or not?"
   ]
  },
  {
   "cell_type": "code",
   "execution_count": 26,
   "metadata": {
    "collapsed": true
   },
   "outputs": [],
   "source": [
    "train_no_cooccur = train_res.query(\"times_cooccur == 0\")\n",
    "develop_no_cooccur = develop_res.query(\"times_cooccur == 0\")"
   ]
  },
  {
   "cell_type": "code",
   "execution_count": 27,
   "metadata": {
    "collapsed": false
   },
   "outputs": [
    {
     "data": {
      "text/plain": [
       "0.5719577699573996"
      ]
     },
     "execution_count": 27,
     "metadata": {},
     "output_type": "execute_result"
    }
   ],
   "source": [
    "len(train_no_cooccur) / len(train_res)"
   ]
  },
  {
   "cell_type": "code",
   "execution_count": 28,
   "metadata": {
    "collapsed": false
   },
   "outputs": [
    {
     "data": {
      "text/plain": [
       "0.5281159420289855"
      ]
     },
     "execution_count": 28,
     "metadata": {},
     "output_type": "execute_result"
    }
   ],
   "source": [
    "len(develop_no_cooccur) / len(develop_res)"
   ]
  },
  {
   "cell_type": "markdown",
   "metadata": {},
   "source": [
    "Roughly half of the possible relations never show up in the same sentence. Now let's see if these relations are likely to be true:"
   ]
  },
  {
   "cell_type": "code",
   "execution_count": 29,
   "metadata": {
    "collapsed": false
   },
   "outputs": [
    {
     "data": {
      "text/plain": [
       "0.08743523316062177"
      ]
     },
     "execution_count": 29,
     "metadata": {},
     "output_type": "execute_result"
    }
   ],
   "source": [
    "len(train_no_cooccur.query(\"is_true\")) / len(train_no_cooccur)"
   ]
  },
  {
   "cell_type": "code",
   "execution_count": 30,
   "metadata": {
    "collapsed": false
   },
   "outputs": [
    {
     "data": {
      "text/plain": [
       "0.08342480790340286"
      ]
     },
     "execution_count": 30,
     "metadata": {},
     "output_type": "execute_result"
    }
   ],
   "source": [
    "len(develop_no_cooccur.query(\"is_true\")) / len(develop_no_cooccur)"
   ]
  },
  {
   "cell_type": "markdown",
   "metadata": {},
   "source": [
    "These data show that roughly 8% of the possible relations which don't show up in the same sentence are true."
   ]
  },
  {
   "cell_type": "code",
   "execution_count": 31,
   "metadata": {
    "collapsed": true
   },
   "outputs": [],
   "source": [
    "train_do_cooccur = train_res.query(\"times_cooccur > 0\")\n",
    "develop_do_cooccur = develop_res.query(\"times_cooccur > 0\")"
   ]
  },
  {
   "cell_type": "code",
   "execution_count": 32,
   "metadata": {
    "collapsed": false
   },
   "outputs": [
    {
     "data": {
      "text/plain": [
       "0.4280422300426005"
      ]
     },
     "execution_count": 32,
     "metadata": {},
     "output_type": "execute_result"
    }
   ],
   "source": [
    "len(train_do_cooccur) / len(train_res)"
   ]
  },
  {
   "cell_type": "code",
   "execution_count": 33,
   "metadata": {
    "collapsed": false
   },
   "outputs": [
    {
     "data": {
      "text/plain": [
       "0.4718840579710145"
      ]
     },
     "execution_count": 33,
     "metadata": {},
     "output_type": "execute_result"
    }
   ],
   "source": [
    "len(develop_do_cooccur) / len(develop_res)"
   ]
  },
  {
   "cell_type": "markdown",
   "metadata": {},
   "source": [
    "And now the possibility to be true:"
   ]
  },
  {
   "cell_type": "code",
   "execution_count": 34,
   "metadata": {
    "collapsed": false
   },
   "outputs": [
    {
     "data": {
      "text/plain": [
       "0.30938987451319777"
      ]
     },
     "execution_count": 34,
     "metadata": {},
     "output_type": "execute_result"
    }
   ],
   "source": [
    "len(train_do_cooccur.query(\"is_true\")) / len(train_do_cooccur)"
   ]
  },
  {
   "cell_type": "code",
   "execution_count": 35,
   "metadata": {
    "collapsed": false
   },
   "outputs": [
    {
     "data": {
      "text/plain": [
       "0.29975429975429974"
      ]
     },
     "execution_count": 35,
     "metadata": {},
     "output_type": "execute_result"
    }
   ],
   "source": [
    "len(develop_do_cooccur.query(\"is_true\")) / len(develop_do_cooccur)"
   ]
  },
  {
   "cell_type": "markdown",
   "metadata": {},
   "source": [
    "So the drug-disease pairs which show up in the same sentence even once are 4x more likely to be true than those which don't show up together in the same sentence."
   ]
  },
  {
   "cell_type": "code",
   "execution_count": 36,
   "metadata": {
    "collapsed": false
   },
   "outputs": [
    {
     "data": {
      "text/plain": [
       "985"
      ]
     },
     "execution_count": 36,
     "metadata": {},
     "output_type": "execute_result"
    }
   ],
   "source": [
    "len(train_res.query(\"is_true\"))"
   ]
  },
  {
   "cell_type": "code",
   "execution_count": 37,
   "metadata": {
    "collapsed": false
   },
   "outputs": [
    {
     "data": {
      "text/plain": [
       "960"
      ]
     },
     "execution_count": 37,
     "metadata": {},
     "output_type": "execute_result"
    }
   ],
   "source": [
    "len(develop_res.query(\"is_true\"))"
   ]
  },
  {
   "cell_type": "code",
   "execution_count": 38,
   "metadata": {
    "collapsed": false
   },
   "outputs": [
    {
     "data": {
      "text/plain": [
       "270"
      ]
     },
     "execution_count": 38,
     "metadata": {},
     "output_type": "execute_result"
    }
   ],
   "source": [
    "len(train_no_cooccur.query(\"is_true\"))"
   ]
  },
  {
   "cell_type": "code",
   "execution_count": 39,
   "metadata": {
    "collapsed": false
   },
   "outputs": [
    {
     "data": {
      "text/plain": [
       "228"
      ]
     },
     "execution_count": 39,
     "metadata": {},
     "output_type": "execute_result"
    }
   ],
   "source": [
    "len(develop_no_cooccur.query('is_true'))"
   ]
  },
  {
   "cell_type": "code",
   "execution_count": 40,
   "metadata": {
    "collapsed": false
   },
   "outputs": [
    {
     "data": {
      "text/plain": [
       "715"
      ]
     },
     "execution_count": 40,
     "metadata": {},
     "output_type": "execute_result"
    }
   ],
   "source": [
    "len(train_do_cooccur.query(\"is_true\"))"
   ]
  },
  {
   "cell_type": "code",
   "execution_count": 41,
   "metadata": {
    "collapsed": false
   },
   "outputs": [
    {
     "data": {
      "text/plain": [
       "732"
      ]
     },
     "execution_count": 41,
     "metadata": {},
     "output_type": "execute_result"
    }
   ],
   "source": [
    "len(develop_do_cooccur.query(\"is_true\"))"
   ]
  },
  {
   "cell_type": "markdown",
   "metadata": {},
   "source": [
    "### Based on these results, it seems that we might be able to safely split the task into two subtasks:\n",
    "\n",
    "One subtask would have to read the entire abstract for the non-cooccuring relations, while the other subtask would read single sentences (or collections of sentence) where the terms cooccur."
   ]
  },
  {
   "cell_type": "code",
   "execution_count": 42,
   "metadata": {
    "collapsed": false
   },
   "outputs": [
    {
     "data": {
      "text/html": [
       "<div style=\"max-height:1000px;max-width:1500px;overflow:auto;\">\n",
       "<table border=\"1\" class=\"dataframe\">\n",
       "  <thead>\n",
       "    <tr style=\"text-align: right;\">\n",
       "      <th></th>\n",
       "      <th>id_pair</th>\n",
       "      <th>is_true</th>\n",
       "      <th>maximum_dist</th>\n",
       "      <th>median_dist</th>\n",
       "      <th>minimum_dist</th>\n",
       "      <th>times_cooccur</th>\n",
       "      <th>pmid</th>\n",
       "    </tr>\n",
       "  </thead>\n",
       "  <tbody>\n",
       "    <tr>\n",
       "      <th>1</th>\n",
       "      <td>D003000|D007022</td>\n",
       "      <td>False</td>\n",
       "      <td>741</td>\n",
       "      <td>284.0</td>\n",
       "      <td>84</td>\n",
       "      <td>0</td>\n",
       "      <td>227508</td>\n",
       "    </tr>\n",
       "    <tr>\n",
       "      <th>2</th>\n",
       "      <td>D008750|D006973</td>\n",
       "      <td>False</td>\n",
       "      <td>934</td>\n",
       "      <td>352.5</td>\n",
       "      <td>147</td>\n",
       "      <td>0</td>\n",
       "      <td>227508</td>\n",
       "    </tr>\n",
       "    <tr>\n",
       "      <th>1</th>\n",
       "      <td>D010830|D062787</td>\n",
       "      <td>False</td>\n",
       "      <td>27</td>\n",
       "      <td>27.0</td>\n",
       "      <td>27</td>\n",
       "      <td>0</td>\n",
       "      <td>603022</td>\n",
       "    </tr>\n",
       "    <tr>\n",
       "      <th>0</th>\n",
       "      <td>D003404|D006973</td>\n",
       "      <td>False</td>\n",
       "      <td>334</td>\n",
       "      <td>239.0</td>\n",
       "      <td>144</td>\n",
       "      <td>0</td>\n",
       "      <td>1378968</td>\n",
       "    </tr>\n",
       "    <tr>\n",
       "      <th>1</th>\n",
       "      <td>D003404|D011507</td>\n",
       "      <td>False</td>\n",
       "      <td>300</td>\n",
       "      <td>235.0</td>\n",
       "      <td>170</td>\n",
       "      <td>0</td>\n",
       "      <td>1378968</td>\n",
       "    </tr>\n",
       "  </tbody>\n",
       "</table>\n",
       "</div>"
      ],
      "text/plain": [
       "           id_pair is_true  maximum_dist  median_dist  minimum_dist  \\\n",
       "1  D003000|D007022   False           741        284.0            84   \n",
       "2  D008750|D006973   False           934        352.5           147   \n",
       "1  D010830|D062787   False            27         27.0            27   \n",
       "0  D003404|D006973   False           334        239.0           144   \n",
       "1  D003404|D011507   False           300        235.0           170   \n",
       "\n",
       "   times_cooccur     pmid  \n",
       "1              0   227508  \n",
       "2              0   227508  \n",
       "1              0   603022  \n",
       "0              0  1378968  \n",
       "1              0  1378968  "
      ]
     },
     "execution_count": 42,
     "metadata": {},
     "output_type": "execute_result"
    }
   ],
   "source": [
    "train_no_cooccur.head()"
   ]
  },
  {
   "cell_type": "code",
   "execution_count": 43,
   "metadata": {
    "collapsed": false
   },
   "outputs": [
    {
     "data": {
      "text/plain": [
       "<matplotlib.axes._subplots.AxesSubplot at 0x7f00394fcf90>"
      ]
     },
     "execution_count": 43,
     "metadata": {},
     "output_type": "execute_result"
    },
    {
     "data": {
      "image/png": "[encoded data removed]",
      "text/plain": [
       "<matplotlib.figure.Figure at 0x7f0039018a10>"
      ]
     },
     "metadata": {},
     "output_type": "display_data"
    }
   ],
   "source": [
    "train_no_cooccur.boxplot(column = \"median_dist\", by = \"is_true\")"
   ]
  },
  {
   "cell_type": "code",
   "execution_count": 44,
   "metadata": {
    "collapsed": false
   },
   "outputs": [
    {
     "data": {
      "text/plain": [
       "<matplotlib.axes._subplots.AxesSubplot at 0x7f00394fb110>"
      ]
     },
     "execution_count": 44,
     "metadata": {},
     "output_type": "execute_result"
    },
    {
     "data": {
      "image/png": "[encoded data removed]",
      "text/plain": [
       "<matplotlib.figure.Figure at 0x7f003925ec10>"
      ]
     },
     "metadata": {},
     "output_type": "display_data"
    }
   ],
   "source": [
    "train_no_cooccur.boxplot(column = \"minimum_dist\", by = \"is_true\")"
   ]
  },
  {
   "cell_type": "code",
   "execution_count": 45,
   "metadata": {
    "collapsed": false
   },
   "outputs": [
    {
     "data": {
      "text/plain": [
       "<matplotlib.axes._subplots.AxesSubplot at 0x7f003925ca90>"
      ]
     },
     "execution_count": 45,
     "metadata": {},
     "output_type": "execute_result"
    },
    {
     "data": {
      "image/png": "[encoded data removed]",
      "text/plain": [
       "<matplotlib.figure.Figure at 0x7f003937d750>"
      ]
     },
     "metadata": {},
     "output_type": "display_data"
    }
   ],
   "source": [
    "train_no_cooccur.boxplot(column = \"maximum_dist\", by = \"is_true\")"
   ]
  },
  {
   "cell_type": "code",
   "execution_count": 46,
   "metadata": {
    "collapsed": false
   },
   "outputs": [
    {
     "data": {
      "text/plain": [
       "<matplotlib.axes._subplots.AxesSubplot at 0x7f003934ef10>"
      ]
     },
     "execution_count": 46,
     "metadata": {},
     "output_type": "execute_result"
    },
    {
     "data": {
      "image/png": "[encoded data removed]",
      "text/plain": [
       "<matplotlib.figure.Figure at 0x7f0039079050>"
      ]
     },
     "metadata": {},
     "output_type": "display_data"
    }
   ],
   "source": [
    "develop_no_cooccur.boxplot(column = \"median_dist\", by = \"is_true\")"
   ]
  },
  {
   "cell_type": "code",
   "execution_count": 47,
   "metadata": {
    "collapsed": false
   },
   "outputs": [
    {
     "data": {
      "text/plain": [
       "<matplotlib.axes._subplots.AxesSubplot at 0x7f00391d2dd0>"
      ]
     },
     "execution_count": 47,
     "metadata": {},
     "output_type": "execute_result"
    },
    {
     "data": {
      "image/png": "[encoded data removed]",
      "text/plain": [
       "<matplotlib.figure.Figure at 0x7f00391efed0>"
      ]
     },
     "metadata": {},
     "output_type": "display_data"
    }
   ],
   "source": [
    "develop_no_cooccur.boxplot(column = \"minimum_dist\", by = \"is_true\")"
   ]
  },
  {
   "cell_type": "code",
   "execution_count": 48,
   "metadata": {
    "collapsed": false
   },
   "outputs": [
    {
     "data": {
      "text/plain": [
       "<matplotlib.axes._subplots.AxesSubplot at 0x7f00391bccd0>"
      ]
     },
     "execution_count": 48,
     "metadata": {},
     "output_type": "execute_result"
    },
    {
     "data": {
      "image/png": "[encoded data removed]",
      "text/plain": [
       "<matplotlib.figure.Figure at 0x7f003902a250>"
      ]
     },
     "metadata": {},
     "output_type": "display_data"
    }
   ],
   "source": [
    "develop_do_cooccur.boxplot(column = \"minimum_dist\", by = \"is_true\")"
   ]
  },
  {
   "cell_type": "code",
   "execution_count": 50,
   "metadata": {
    "collapsed": false
   },
   "outputs": [
    {
     "data": {
      "text/plain": [
       "<matplotlib.axes._subplots.AxesSubplot at 0x7f0038ddeb50>"
      ]
     },
     "execution_count": 50,
     "metadata": {},
     "output_type": "execute_result"
    },
    {
     "data": {
      "image/png": "[encoded data removed]",
      "text/plain": [
       "<matplotlib.figure.Figure at 0x7f0038f3a650>"
      ]
     },
     "metadata": {},
     "output_type": "display_data"
    }
   ],
   "source": [
    "train_do_cooccur.boxplot(column = \"minimum_dist\", by = \"is_true\")"
   ]
  },
  {
   "cell_type": "markdown",
   "metadata": {},
   "source": [
    "In conclusion, we will likely be able to separate the drug-induced-disease extraction task into two subtasks, one where workers are shown sentences containing both terms, and one where workers are shown the entire abstract.\n",
    "\n",
    "The analysis of distance separating two terms shows that in general, the minimum distance between two concepts which are not related tends to be farther apart then concepts which are related, in both the co-occurring and non-co-occurring cases.\n",
    "\n",
    "However, the distance heuristic does not seem good enough to act as a preprocessing filter for deciding which task to direct the data towards."
   ]
  }
 ],
 "metadata": {
  "kernelspec": {
   "display_name": "Python 2",
   "language": "python",
   "name": "python2"
  },
  "language_info": {
   "codemirror_mode": {
    "name": "ipython",
    "version": 2
   },
   "file_extension": ".py",
   "mimetype": "text/x-python",
   "name": "python",
   "nbconvert_exporter": "python",
   "pygments_lexer": "ipython2",
   "version": "2.7.10"
  }
 },
 "nbformat": 4,
 "nbformat_minor": 0
}
