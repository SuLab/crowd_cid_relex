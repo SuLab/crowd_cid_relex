{
 "cells": [
  {
   "cell_type": "markdown",
   "metadata": {},
   "source": [
    "# Analysis of job 746647: Finding drug-disease relationships for biocreative V (version 2)"
   ]
  },
  {
   "cell_type": "markdown",
   "metadata": {},
   "source": [
    "2015-06-22 Tong Shu Li"
   ]
  },
  {
   "cell_type": "markdown",
   "metadata": {},
   "source": [
    "Crowdflower job 746647 is the second iteration of the chemical-induced-disease relationship extraction task for Biocreative V. Version 1.0 (job 743229) did not have proper test question validation, and was therefore plagued with spammers.\n",
    "\n",
    "This version is exactly the same as job 746297, except that the payment was doubled. Every other setting, data, and test questions were all the exact same.\n",
    "\n",
    "This version had proper elimination of workers who chose the wrong choices.\n",
    "\n",
    "Job 746647 was launched at 3:24 pm, Tuesday June 23, 2015, and completed at 5:50 pm on Tuesday June 23, 2015. The total cost was $96.00 USD.\n",
    "\n",
    "Settings:\n",
    "- 5 rows per page\n",
    "- 5 judgements per row\n",
    "- 100 cents per page\n",
    "- level 1 contributor\n",
    "- 50 seconds minimum per page\n",
    "- worker has to maintain 70% minimum accuracy\n",
    "- there were 11 test questions\n",
    "- responses had to match the test questions exactly"
   ]
  },
  {
   "cell_type": "markdown",
   "metadata": {},
   "source": [
    "The question grading scheme used (answers had to exactly the same as the gold in order to be considered correct) was admittedly a bit strict, but I wanted to see what the results were before deciding to relax them."
   ]
  },
  {
   "cell_type": "code",
   "execution_count": 1,
   "metadata": {
    "collapsed": true
   },
   "outputs": [],
   "source": [
    "from collections import defaultdict\n",
    "import pandas as pd"
   ]
  },
  {
   "cell_type": "code",
   "execution_count": 2,
   "metadata": {
    "collapsed": true
   },
   "outputs": [],
   "source": [
    "from src.filter_data import filter_data\n",
    "from src.parse_gold import parse_input\n",
    "from src.parse_gold import Relation"
   ]
  },
  {
   "cell_type": "code",
   "execution_count": 3,
   "metadata": {
    "collapsed": true
   },
   "outputs": [],
   "source": [
    "settings = {\n",
    "    \"loc\": \"data/crowdflower/results\",\n",
    "    \"fname\": \"job_746647_full_with_untrusted.csv\",\n",
    "    \"data_subset\": \"normal\",\n",
    "    \"min_accuracy\": 0.7,\n",
    "    \"max_accuracy\": 1.0\n",
    "}\n",
    "\n",
    "raw_data = filter_data(settings)"
   ]
  },
  {
   "cell_type": "code",
   "execution_count": 4,
   "metadata": {
    "collapsed": false
   },
   "outputs": [
    {
     "data": {
      "text/plain": [
       "255"
      ]
     },
     "execution_count": 4,
     "metadata": {},
     "output_type": "execute_result"
    }
   ],
   "source": [
    "len(raw_data)"
   ]
  },
  {
   "cell_type": "code",
   "execution_count": 15,
   "metadata": {
    "collapsed": false
   },
   "outputs": [],
   "source": [
    "res = raw_data.query(\"pmid == 18631865\")"
   ]
  },
  {
   "cell_type": "code",
   "execution_count": 16,
   "metadata": {
    "collapsed": false
   },
   "outputs": [
    {
     "data": {
      "text/html": [
       "<div style=\"max-height:1000px;max-width:1500px;overflow:auto;\">\n",
       "<table border=\"1\" class=\"dataframe\">\n",
       "  <thead>\n",
       "    <tr style=\"text-align: right;\">\n",
       "      <th></th>\n",
       "      <th>_unit_id</th>\n",
       "      <th>_created_at</th>\n",
       "      <th>_golden</th>\n",
       "      <th>_id</th>\n",
       "      <th>_missed</th>\n",
       "      <th>_started_at</th>\n",
       "      <th>_tainted</th>\n",
       "      <th>_channel</th>\n",
       "      <th>_trust</th>\n",
       "      <th>_worker_id</th>\n",
       "      <th>...</th>\n",
       "      <th>choice_2_ids</th>\n",
       "      <th>choice_2_label</th>\n",
       "      <th>choice_3_ids</th>\n",
       "      <th>choice_3_label</th>\n",
       "      <th>choice_4_ids</th>\n",
       "      <th>choice_4_label</th>\n",
       "      <th>form_abstract</th>\n",
       "      <th>form_title</th>\n",
       "      <th>pmid</th>\n",
       "      <th>uniq_id</th>\n",
       "    </tr>\n",
       "  </thead>\n",
       "  <tbody>\n",
       "    <tr>\n",
       "      <th>277</th>\n",
       "      <td>741717814</td>\n",
       "      <td>6/23/2015 22:38:18</td>\n",
       "      <td>False</td>\n",
       "      <td>1668637444</td>\n",
       "      <td>NaN</td>\n",
       "      <td>6/23/2015 22:37:44</td>\n",
       "      <td>False</td>\n",
       "      <td>neodev</td>\n",
       "      <td>0.8750</td>\n",
       "      <td>32608383</td>\n",
       "      <td>...</td>\n",
       "      <td>D020123_induces_D011507</td>\n",
       "      <td>&lt;span class=\"chemical\"&gt;rapamycin&lt;/span&gt; contri...</td>\n",
       "      <td>empty</td>\n",
       "      <td>&lt;strong&gt;Do not&lt;/strong&gt; choose this choice.</td>\n",
       "      <td>empty</td>\n",
       "      <td>&lt;strong&gt;Do not&lt;/strong&gt; choose this choice.</td>\n",
       "      <td>Massive urinary protein excretion has been obs...</td>\n",
       "      <td>mToR inhibitors-induced &lt;span class=\"disease\"&gt;...</td>\n",
       "      <td>18631865</td>\n",
       "      <td>bcv_id_44</td>\n",
       "    </tr>\n",
       "    <tr>\n",
       "      <th>278</th>\n",
       "      <td>741717814</td>\n",
       "      <td>6/23/2015 22:43:39</td>\n",
       "      <td>False</td>\n",
       "      <td>1668641717</td>\n",
       "      <td>NaN</td>\n",
       "      <td>6/23/2015 22:38:47</td>\n",
       "      <td>False</td>\n",
       "      <td>elite</td>\n",
       "      <td>1.0000</td>\n",
       "      <td>31599083</td>\n",
       "      <td>...</td>\n",
       "      <td>D020123_induces_D011507</td>\n",
       "      <td>&lt;span class=\"chemical\"&gt;rapamycin&lt;/span&gt; contri...</td>\n",
       "      <td>empty</td>\n",
       "      <td>&lt;strong&gt;Do not&lt;/strong&gt; choose this choice.</td>\n",
       "      <td>empty</td>\n",
       "      <td>&lt;strong&gt;Do not&lt;/strong&gt; choose this choice.</td>\n",
       "      <td>Massive urinary protein excretion has been obs...</td>\n",
       "      <td>mToR inhibitors-induced &lt;span class=\"disease\"&gt;...</td>\n",
       "      <td>18631865</td>\n",
       "      <td>bcv_id_44</td>\n",
       "    </tr>\n",
       "    <tr>\n",
       "      <th>279</th>\n",
       "      <td>741717814</td>\n",
       "      <td>6/23/2015 22:47:44</td>\n",
       "      <td>False</td>\n",
       "      <td>1668645586</td>\n",
       "      <td>NaN</td>\n",
       "      <td>6/23/2015 22:39:12</td>\n",
       "      <td>False</td>\n",
       "      <td>clixsense</td>\n",
       "      <td>0.7143</td>\n",
       "      <td>6591664</td>\n",
       "      <td>...</td>\n",
       "      <td>D020123_induces_D011507</td>\n",
       "      <td>&lt;span class=\"chemical\"&gt;rapamycin&lt;/span&gt; contri...</td>\n",
       "      <td>empty</td>\n",
       "      <td>&lt;strong&gt;Do not&lt;/strong&gt; choose this choice.</td>\n",
       "      <td>empty</td>\n",
       "      <td>&lt;strong&gt;Do not&lt;/strong&gt; choose this choice.</td>\n",
       "      <td>Massive urinary protein excretion has been obs...</td>\n",
       "      <td>mToR inhibitors-induced &lt;span class=\"disease\"&gt;...</td>\n",
       "      <td>18631865</td>\n",
       "      <td>bcv_id_44</td>\n",
       "    </tr>\n",
       "    <tr>\n",
       "      <th>280</th>\n",
       "      <td>741717814</td>\n",
       "      <td>6/23/2015 23:14:40</td>\n",
       "      <td>False</td>\n",
       "      <td>1668672786</td>\n",
       "      <td>NaN</td>\n",
       "      <td>6/23/2015 23:07:53</td>\n",
       "      <td>False</td>\n",
       "      <td>dollarsignup</td>\n",
       "      <td>0.8000</td>\n",
       "      <td>10824531</td>\n",
       "      <td>...</td>\n",
       "      <td>D020123_induces_D011507</td>\n",
       "      <td>&lt;span class=\"chemical\"&gt;rapamycin&lt;/span&gt; contri...</td>\n",
       "      <td>empty</td>\n",
       "      <td>&lt;strong&gt;Do not&lt;/strong&gt; choose this choice.</td>\n",
       "      <td>empty</td>\n",
       "      <td>&lt;strong&gt;Do not&lt;/strong&gt; choose this choice.</td>\n",
       "      <td>Massive urinary protein excretion has been obs...</td>\n",
       "      <td>mToR inhibitors-induced &lt;span class=\"disease\"&gt;...</td>\n",
       "      <td>18631865</td>\n",
       "      <td>bcv_id_44</td>\n",
       "    </tr>\n",
       "    <tr>\n",
       "      <th>281</th>\n",
       "      <td>741717814</td>\n",
       "      <td>6/23/2015 23:19:27</td>\n",
       "      <td>False</td>\n",
       "      <td>1668677808</td>\n",
       "      <td>NaN</td>\n",
       "      <td>6/23/2015 23:09:23</td>\n",
       "      <td>False</td>\n",
       "      <td>neodev</td>\n",
       "      <td>0.8182</td>\n",
       "      <td>14596658</td>\n",
       "      <td>...</td>\n",
       "      <td>D020123_induces_D011507</td>\n",
       "      <td>&lt;span class=\"chemical\"&gt;rapamycin&lt;/span&gt; contri...</td>\n",
       "      <td>empty</td>\n",
       "      <td>&lt;strong&gt;Do not&lt;/strong&gt; choose this choice.</td>\n",
       "      <td>empty</td>\n",
       "      <td>&lt;strong&gt;Do not&lt;/strong&gt; choose this choice.</td>\n",
       "      <td>Massive urinary protein excretion has been obs...</td>\n",
       "      <td>mToR inhibitors-induced &lt;span class=\"disease\"&gt;...</td>\n",
       "      <td>18631865</td>\n",
       "      <td>bcv_id_44</td>\n",
       "    </tr>\n",
       "  </tbody>\n",
       "</table>\n",
       "<p>5 rows × 31 columns</p>\n",
       "</div>"
      ],
      "text/plain": [
       "      _unit_id         _created_at _golden         _id _missed  \\\n",
       "277  741717814  6/23/2015 22:38:18   False  1668637444     NaN   \n",
       "278  741717814  6/23/2015 22:43:39   False  1668641717     NaN   \n",
       "279  741717814  6/23/2015 22:47:44   False  1668645586     NaN   \n",
       "280  741717814  6/23/2015 23:14:40   False  1668672786     NaN   \n",
       "281  741717814  6/23/2015 23:19:27   False  1668677808     NaN   \n",
       "\n",
       "            _started_at _tainted      _channel  _trust  _worker_id    ...      \\\n",
       "277  6/23/2015 22:37:44    False        neodev  0.8750    32608383    ...       \n",
       "278  6/23/2015 22:38:47    False         elite  1.0000    31599083    ...       \n",
       "279  6/23/2015 22:39:12    False     clixsense  0.7143     6591664    ...       \n",
       "280  6/23/2015 23:07:53    False  dollarsignup  0.8000    10824531    ...       \n",
       "281  6/23/2015 23:09:23    False        neodev  0.8182    14596658    ...       \n",
       "\n",
       "                choice_2_ids  \\\n",
       "277  D020123_induces_D011507   \n",
       "278  D020123_induces_D011507   \n",
       "279  D020123_induces_D011507   \n",
       "280  D020123_induces_D011507   \n",
       "281  D020123_induces_D011507   \n",
       "\n",
       "                                        choice_2_label choice_3_ids  \\\n",
       "277  <span class=\"chemical\">rapamycin</span> contri...        empty   \n",
       "278  <span class=\"chemical\">rapamycin</span> contri...        empty   \n",
       "279  <span class=\"chemical\">rapamycin</span> contri...        empty   \n",
       "280  <span class=\"chemical\">rapamycin</span> contri...        empty   \n",
       "281  <span class=\"chemical\">rapamycin</span> contri...        empty   \n",
       "\n",
       "                                  choice_3_label choice_4_ids  \\\n",
       "277  <strong>Do not</strong> choose this choice.        empty   \n",
       "278  <strong>Do not</strong> choose this choice.        empty   \n",
       "279  <strong>Do not</strong> choose this choice.        empty   \n",
       "280  <strong>Do not</strong> choose this choice.        empty   \n",
       "281  <strong>Do not</strong> choose this choice.        empty   \n",
       "\n",
       "                                  choice_4_label  \\\n",
       "277  <strong>Do not</strong> choose this choice.   \n",
       "278  <strong>Do not</strong> choose this choice.   \n",
       "279  <strong>Do not</strong> choose this choice.   \n",
       "280  <strong>Do not</strong> choose this choice.   \n",
       "281  <strong>Do not</strong> choose this choice.   \n",
       "\n",
       "                                         form_abstract  \\\n",
       "277  Massive urinary protein excretion has been obs...   \n",
       "278  Massive urinary protein excretion has been obs...   \n",
       "279  Massive urinary protein excretion has been obs...   \n",
       "280  Massive urinary protein excretion has been obs...   \n",
       "281  Massive urinary protein excretion has been obs...   \n",
       "\n",
       "                                            form_title      pmid    uniq_id  \n",
       "277  mToR inhibitors-induced <span class=\"disease\">...  18631865  bcv_id_44  \n",
       "278  mToR inhibitors-induced <span class=\"disease\">...  18631865  bcv_id_44  \n",
       "279  mToR inhibitors-induced <span class=\"disease\">...  18631865  bcv_id_44  \n",
       "280  mToR inhibitors-induced <span class=\"disease\">...  18631865  bcv_id_44  \n",
       "281  mToR inhibitors-induced <span class=\"disease\">...  18631865  bcv_id_44  \n",
       "\n",
       "[5 rows x 31 columns]"
      ]
     },
     "execution_count": 16,
     "metadata": {},
     "output_type": "execute_result"
    }
   ],
   "source": [
    "res"
   ]
  },
  {
   "cell_type": "code",
   "execution_count": 17,
   "metadata": {
    "collapsed": false
   },
   "outputs": [
    {
     "data": {
      "text/plain": [
       "277              choice_2\n",
       "278    choice_0\\nchoice_2\n",
       "279         none_are_true\n",
       "280         none_are_true\n",
       "281         none_are_true\n",
       "Name: chemical_disease_relationships, dtype: object"
      ]
     },
     "execution_count": 17,
     "metadata": {},
     "output_type": "execute_result"
    }
   ],
   "source": [
    "res[\"chemical_disease_relationships\"]"
   ]
  },
  {
   "cell_type": "code",
   "execution_count": null,
   "metadata": {
    "collapsed": true
   },
   "outputs": [],
   "source": []
  },
  {
   "cell_type": "code",
   "execution_count": 5,
   "metadata": {
    "collapsed": false
   },
   "outputs": [
    {
     "data": {
      "text/html": [
       "<div style=\"max-height:1000px;max-width:1500px;overflow:auto;\">\n",
       "<table border=\"1\" class=\"dataframe\">\n",
       "  <thead>\n",
       "    <tr style=\"text-align: right;\">\n",
       "      <th></th>\n",
       "      <th>_unit_id</th>\n",
       "      <th>_created_at</th>\n",
       "      <th>_golden</th>\n",
       "      <th>_id</th>\n",
       "      <th>_missed</th>\n",
       "      <th>_started_at</th>\n",
       "      <th>_tainted</th>\n",
       "      <th>_channel</th>\n",
       "      <th>_trust</th>\n",
       "      <th>_worker_id</th>\n",
       "      <th>...</th>\n",
       "      <th>choice_2_ids</th>\n",
       "      <th>choice_2_label</th>\n",
       "      <th>choice_3_ids</th>\n",
       "      <th>choice_3_label</th>\n",
       "      <th>choice_4_ids</th>\n",
       "      <th>choice_4_label</th>\n",
       "      <th>form_abstract</th>\n",
       "      <th>form_title</th>\n",
       "      <th>pmid</th>\n",
       "      <th>uniq_id</th>\n",
       "    </tr>\n",
       "  </thead>\n",
       "  <tbody>\n",
       "    <tr>\n",
       "      <th>0</th>\n",
       "      <td>741717769</td>\n",
       "      <td>6/23/2015 22:56:48</td>\n",
       "      <td>False</td>\n",
       "      <td>1668654997</td>\n",
       "      <td>NaN</td>\n",
       "      <td>6/23/2015 22:53:20</td>\n",
       "      <td>False</td>\n",
       "      <td>neodev</td>\n",
       "      <td>0.8000</td>\n",
       "      <td>33014938</td>\n",
       "      <td>...</td>\n",
       "      <td>C063968_induces_D016171</td>\n",
       "      <td>&lt;span class=\"chemical\"&gt;E4031&lt;/span&gt; contribute...</td>\n",
       "      <td>C063968_induces_D017180</td>\n",
       "      <td>&lt;span class=\"chemical\"&gt;E4031&lt;/span&gt; contribute...</td>\n",
       "      <td>D016593_induces_D016171</td>\n",
       "      <td>&lt;span class=\"chemical\"&gt;terfenadine&lt;/span&gt; cont...</td>\n",
       "      <td>1. &lt;span class=\"disease\"&gt;Torsades de pointes&lt;/...</td>\n",
       "      <td>Pharmacokinetic/pharmacodynamic assessment of ...</td>\n",
       "      <td>11569530</td>\n",
       "      <td>bcv_id_0</td>\n",
       "    </tr>\n",
       "    <tr>\n",
       "      <th>2</th>\n",
       "      <td>741717769</td>\n",
       "      <td>6/23/2015 23:00:44</td>\n",
       "      <td>False</td>\n",
       "      <td>1668658995</td>\n",
       "      <td>NaN</td>\n",
       "      <td>6/23/2015 22:57:38</td>\n",
       "      <td>False</td>\n",
       "      <td>neodev</td>\n",
       "      <td>0.8182</td>\n",
       "      <td>14596658</td>\n",
       "      <td>...</td>\n",
       "      <td>C063968_induces_D016171</td>\n",
       "      <td>&lt;span class=\"chemical\"&gt;E4031&lt;/span&gt; contribute...</td>\n",
       "      <td>C063968_induces_D017180</td>\n",
       "      <td>&lt;span class=\"chemical\"&gt;E4031&lt;/span&gt; contribute...</td>\n",
       "      <td>D016593_induces_D016171</td>\n",
       "      <td>&lt;span class=\"chemical\"&gt;terfenadine&lt;/span&gt; cont...</td>\n",
       "      <td>1. &lt;span class=\"disease\"&gt;Torsades de pointes&lt;/...</td>\n",
       "      <td>Pharmacokinetic/pharmacodynamic assessment of ...</td>\n",
       "      <td>11569530</td>\n",
       "      <td>bcv_id_0</td>\n",
       "    </tr>\n",
       "    <tr>\n",
       "      <th>3</th>\n",
       "      <td>741717769</td>\n",
       "      <td>6/23/2015 23:00:47</td>\n",
       "      <td>False</td>\n",
       "      <td>1668659007</td>\n",
       "      <td>NaN</td>\n",
       "      <td>6/23/2015 22:53:29</td>\n",
       "      <td>False</td>\n",
       "      <td>neodev</td>\n",
       "      <td>0.8333</td>\n",
       "      <td>32591740</td>\n",
       "      <td>...</td>\n",
       "      <td>C063968_induces_D016171</td>\n",
       "      <td>&lt;span class=\"chemical\"&gt;E4031&lt;/span&gt; contribute...</td>\n",
       "      <td>C063968_induces_D017180</td>\n",
       "      <td>&lt;span class=\"chemical\"&gt;E4031&lt;/span&gt; contribute...</td>\n",
       "      <td>D016593_induces_D016171</td>\n",
       "      <td>&lt;span class=\"chemical\"&gt;terfenadine&lt;/span&gt; cont...</td>\n",
       "      <td>1. &lt;span class=\"disease\"&gt;Torsades de pointes&lt;/...</td>\n",
       "      <td>Pharmacokinetic/pharmacodynamic assessment of ...</td>\n",
       "      <td>11569530</td>\n",
       "      <td>bcv_id_0</td>\n",
       "    </tr>\n",
       "    <tr>\n",
       "      <th>4</th>\n",
       "      <td>741717769</td>\n",
       "      <td>6/23/2015 23:03:04</td>\n",
       "      <td>False</td>\n",
       "      <td>1668661305</td>\n",
       "      <td>NaN</td>\n",
       "      <td>6/23/2015 22:53:03</td>\n",
       "      <td>False</td>\n",
       "      <td>dollarsignup</td>\n",
       "      <td>0.8000</td>\n",
       "      <td>10824531</td>\n",
       "      <td>...</td>\n",
       "      <td>C063968_induces_D016171</td>\n",
       "      <td>&lt;span class=\"chemical\"&gt;E4031&lt;/span&gt; contribute...</td>\n",
       "      <td>C063968_induces_D017180</td>\n",
       "      <td>&lt;span class=\"chemical\"&gt;E4031&lt;/span&gt; contribute...</td>\n",
       "      <td>D016593_induces_D016171</td>\n",
       "      <td>&lt;span class=\"chemical\"&gt;terfenadine&lt;/span&gt; cont...</td>\n",
       "      <td>1. &lt;span class=\"disease\"&gt;Torsades de pointes&lt;/...</td>\n",
       "      <td>Pharmacokinetic/pharmacodynamic assessment of ...</td>\n",
       "      <td>11569530</td>\n",
       "      <td>bcv_id_0</td>\n",
       "    </tr>\n",
       "    <tr>\n",
       "      <th>5</th>\n",
       "      <td>741717769</td>\n",
       "      <td>6/23/2015 23:25:28</td>\n",
       "      <td>False</td>\n",
       "      <td>1668683944</td>\n",
       "      <td>NaN</td>\n",
       "      <td>6/23/2015 23:23:48</td>\n",
       "      <td>False</td>\n",
       "      <td>elite</td>\n",
       "      <td>0.8000</td>\n",
       "      <td>26583095</td>\n",
       "      <td>...</td>\n",
       "      <td>C063968_induces_D016171</td>\n",
       "      <td>&lt;span class=\"chemical\"&gt;E4031&lt;/span&gt; contribute...</td>\n",
       "      <td>C063968_induces_D017180</td>\n",
       "      <td>&lt;span class=\"chemical\"&gt;E4031&lt;/span&gt; contribute...</td>\n",
       "      <td>D016593_induces_D016171</td>\n",
       "      <td>&lt;span class=\"chemical\"&gt;terfenadine&lt;/span&gt; cont...</td>\n",
       "      <td>1. &lt;span class=\"disease\"&gt;Torsades de pointes&lt;/...</td>\n",
       "      <td>Pharmacokinetic/pharmacodynamic assessment of ...</td>\n",
       "      <td>11569530</td>\n",
       "      <td>bcv_id_0</td>\n",
       "    </tr>\n",
       "  </tbody>\n",
       "</table>\n",
       "<p>5 rows × 31 columns</p>\n",
       "</div>"
      ],
      "text/plain": [
       "    _unit_id         _created_at _golden         _id _missed  \\\n",
       "0  741717769  6/23/2015 22:56:48   False  1668654997     NaN   \n",
       "2  741717769  6/23/2015 23:00:44   False  1668658995     NaN   \n",
       "3  741717769  6/23/2015 23:00:47   False  1668659007     NaN   \n",
       "4  741717769  6/23/2015 23:03:04   False  1668661305     NaN   \n",
       "5  741717769  6/23/2015 23:25:28   False  1668683944     NaN   \n",
       "\n",
       "          _started_at _tainted      _channel  _trust  _worker_id    ...     \\\n",
       "0  6/23/2015 22:53:20    False        neodev  0.8000    33014938    ...      \n",
       "2  6/23/2015 22:57:38    False        neodev  0.8182    14596658    ...      \n",
       "3  6/23/2015 22:53:29    False        neodev  0.8333    32591740    ...      \n",
       "4  6/23/2015 22:53:03    False  dollarsignup  0.8000    10824531    ...      \n",
       "5  6/23/2015 23:23:48    False         elite  0.8000    26583095    ...      \n",
       "\n",
       "              choice_2_ids                                     choice_2_label  \\\n",
       "0  C063968_induces_D016171  <span class=\"chemical\">E4031</span> contribute...   \n",
       "2  C063968_induces_D016171  <span class=\"chemical\">E4031</span> contribute...   \n",
       "3  C063968_induces_D016171  <span class=\"chemical\">E4031</span> contribute...   \n",
       "4  C063968_induces_D016171  <span class=\"chemical\">E4031</span> contribute...   \n",
       "5  C063968_induces_D016171  <span class=\"chemical\">E4031</span> contribute...   \n",
       "\n",
       "              choice_3_ids                                     choice_3_label  \\\n",
       "0  C063968_induces_D017180  <span class=\"chemical\">E4031</span> contribute...   \n",
       "2  C063968_induces_D017180  <span class=\"chemical\">E4031</span> contribute...   \n",
       "3  C063968_induces_D017180  <span class=\"chemical\">E4031</span> contribute...   \n",
       "4  C063968_induces_D017180  <span class=\"chemical\">E4031</span> contribute...   \n",
       "5  C063968_induces_D017180  <span class=\"chemical\">E4031</span> contribute...   \n",
       "\n",
       "              choice_4_ids                                     choice_4_label  \\\n",
       "0  D016593_induces_D016171  <span class=\"chemical\">terfenadine</span> cont...   \n",
       "2  D016593_induces_D016171  <span class=\"chemical\">terfenadine</span> cont...   \n",
       "3  D016593_induces_D016171  <span class=\"chemical\">terfenadine</span> cont...   \n",
       "4  D016593_induces_D016171  <span class=\"chemical\">terfenadine</span> cont...   \n",
       "5  D016593_induces_D016171  <span class=\"chemical\">terfenadine</span> cont...   \n",
       "\n",
       "                                       form_abstract  \\\n",
       "0  1. <span class=\"disease\">Torsades de pointes</...   \n",
       "2  1. <span class=\"disease\">Torsades de pointes</...   \n",
       "3  1. <span class=\"disease\">Torsades de pointes</...   \n",
       "4  1. <span class=\"disease\">Torsades de pointes</...   \n",
       "5  1. <span class=\"disease\">Torsades de pointes</...   \n",
       "\n",
       "                                          form_title      pmid   uniq_id  \n",
       "0  Pharmacokinetic/pharmacodynamic assessment of ...  11569530  bcv_id_0  \n",
       "2  Pharmacokinetic/pharmacodynamic assessment of ...  11569530  bcv_id_0  \n",
       "3  Pharmacokinetic/pharmacodynamic assessment of ...  11569530  bcv_id_0  \n",
       "4  Pharmacokinetic/pharmacodynamic assessment of ...  11569530  bcv_id_0  \n",
       "5  Pharmacokinetic/pharmacodynamic assessment of ...  11569530  bcv_id_0  \n",
       "\n",
       "[5 rows x 31 columns]"
      ]
     },
     "execution_count": 5,
     "metadata": {},
     "output_type": "execute_result"
    }
   ],
   "source": [
    "raw_data.head()"
   ]
  },
  {
   "cell_type": "markdown",
   "metadata": {},
   "source": [
    "### First let's clean up the data a bit:"
   ]
  },
  {
   "cell_type": "markdown",
   "metadata": {},
   "source": [
    "We need to ensure that the choices make sense. If they chose \"none are true\", then no other choice should be selected. We also want to check that they didn't choose any empty choices."
   ]
  },
  {
   "cell_type": "code",
   "execution_count": 6,
   "metadata": {
    "collapsed": true
   },
   "outputs": [],
   "source": [
    "def check_data(data_frame):\n",
    "    bad_responses = set()\n",
    "\n",
    "    for idx, row in data_frame.iterrows():\n",
    "        unit_id = row[\"_unit_id\"]\n",
    "        worker_id = row[\"_worker_id\"]\n",
    "\n",
    "        response = row[\"chemical_disease_relationships\"].split('\\n')\n",
    "\n",
    "        # if none are true, then it should be the only choice..\n",
    "        if \"none_are_true\" in response and len(response) > 1:\n",
    "            bad_responses.add((unit_id, worker_id))\n",
    "\n",
    "        for i in range(5):\n",
    "            column = \"choice_{0}_ids\".format(i)\n",
    "            if (row[column] == \"empty\") and (\"choice_{0}\".format(i) in response): # clicked empty response\n",
    "                bad_responses.add((unit_id, worker_id))\n",
    "                \n",
    "    return bad_responses"
   ]
  },
  {
   "cell_type": "code",
   "execution_count": 7,
   "metadata": {
    "collapsed": false,
    "scrolled": true
   },
   "outputs": [
    {
     "data": {
      "text/plain": [
       "set()"
      ]
     },
     "execution_count": 7,
     "metadata": {},
     "output_type": "execute_result"
    }
   ],
   "source": [
    "check_data(raw_data)"
   ]
  },
  {
   "cell_type": "markdown",
   "metadata": {},
   "source": [
    "This time everyone followed the rules regarding the job! There were no accidental choices either, which is great."
   ]
  },
  {
   "cell_type": "markdown",
   "metadata": {},
   "source": [
    "Now that the data have been cleaned up, we can proceed to the analysis."
   ]
  },
  {
   "cell_type": "code",
   "execution_count": 8,
   "metadata": {
    "collapsed": true
   },
   "outputs": [],
   "source": [
    "def aggregate_votes(uniq_id, data_frame):\n",
    "    \"\"\"\n",
    "    Given a data frame representing all the unique votes\n",
    "    for one work unit, aggregates the votes for each of the\n",
    "    possible choices.\n",
    "    \n",
    "    Returns an unsorted data frame containing the relationships\n",
    "    with normalized scores.\n",
    "    \"\"\"\n",
    "    rel_id = dict()\n",
    "    \n",
    "    # first map the ids: choice # -> id_pair\n",
    "    for i in range(5):\n",
    "        colname = \"choice_{0}_ids\".format(i)\n",
    "        assert len(data_frame[colname].unique()) == 1\n",
    "        rel_id[\"choice_{0}\".format(i)] = data_frame.iloc[0][colname]  \n",
    "\n",
    "    scores = defaultdict(float)\n",
    "    # increment each relationship pair id by the worker's trust score\n",
    "    for idx, row in data_frame.iterrows():\n",
    "        # check that none of the above does not conflict with the other choices\n",
    "        user_choices = row[\"chemical_disease_relationships\"].split('\\n')\n",
    "        if \"none_are_true\" in user_choices:\n",
    "            assert len(user_choices) == 1, idx\n",
    "            # vote against all other choices\n",
    "            for i in range(5):\n",
    "                scores[rel_id[\"choice_{0}\".format(i)]] -= row[\"_trust\"]\n",
    "        else:\n",
    "            for choice in user_choices:\n",
    "                scores[rel_id[choice]] += row[\"_trust\"]\n",
    "            \n",
    "    total_trust = sum(data_frame[\"_trust\"])\n",
    "    \n",
    "    # normalize choices and remove those below zero or empty\n",
    "    temp = defaultdict(list)\n",
    "    for id_pair, score in scores.items():\n",
    "        score /= total_trust\n",
    "        if score > 0 and id_pair != \"empty\":\n",
    "            temp[\"id_pair\"].append(id_pair)\n",
    "            temp[\"normalized_score\"].append(score)\n",
    "            \n",
    "    df = pd.DataFrame(temp)\n",
    "    \n",
    "    df[\"uniq_id\"] = uniq_id\n",
    "    assert len(data_frame[\"_unit_id\"].unique()) == 1\n",
    "    df[\"unit_id\"] = data_frame[\"_unit_id\"].iloc[0]\n",
    "    \n",
    "    return df"
   ]
  },
  {
   "cell_type": "code",
   "execution_count": 9,
   "metadata": {
    "collapsed": true
   },
   "outputs": [],
   "source": [
    "def generate_results(data_frame):\n",
    "    results = []\n",
    "    for pmid, pmid_group in data_frame.groupby(\"pmid\"):\n",
    "        temp = []\n",
    "        for uniq_id, group in pmid_group.groupby(\"uniq_id\"):\n",
    "            scores = aggregate_votes(uniq_id, group)\n",
    "            temp.append(scores)\n",
    "\n",
    "        df = pd.concat(temp)\n",
    "        if not df.empty:\n",
    "            df = df.sort(\"normalized_score\", axis = 0, ascending = False)\n",
    "            df[\"pmid\"] = pmid\n",
    "            results.append(df)\n",
    "            \n",
    "    return pd.concat(results)"
   ]
  },
  {
   "cell_type": "code",
   "execution_count": 10,
   "metadata": {
    "collapsed": false
   },
   "outputs": [],
   "source": [
    "results = generate_results(raw_data)"
   ]
  },
  {
   "cell_type": "code",
   "execution_count": 11,
   "metadata": {
    "collapsed": false
   },
   "outputs": [
    {
     "data": {
      "text/html": [
       "<div style=\"max-height:1000px;max-width:1500px;overflow:auto;\">\n",
       "<table border=\"1\" class=\"dataframe\">\n",
       "  <thead>\n",
       "    <tr style=\"text-align: right;\">\n",
       "      <th></th>\n",
       "      <th>id_pair</th>\n",
       "      <th>normalized_score</th>\n",
       "      <th>uniq_id</th>\n",
       "      <th>unit_id</th>\n",
       "      <th>pmid</th>\n",
       "    </tr>\n",
       "  </thead>\n",
       "  <tbody>\n",
       "    <tr>\n",
       "      <th>1</th>\n",
       "      <td>D002512_induces_D007683</td>\n",
       "      <td>0.811571</td>\n",
       "      <td>bcv_id_46</td>\n",
       "      <td>741717816</td>\n",
       "      <td>1130930</td>\n",
       "    </tr>\n",
       "    <tr>\n",
       "      <th>0</th>\n",
       "      <td>D002512_induces_D007674</td>\n",
       "      <td>0.788020</td>\n",
       "      <td>bcv_id_46</td>\n",
       "      <td>741717816</td>\n",
       "      <td>1130930</td>\n",
       "    </tr>\n",
       "    <tr>\n",
       "      <th>0</th>\n",
       "      <td>D005839_induces_D009846|D051437</td>\n",
       "      <td>0.403663</td>\n",
       "      <td>bcv_id_45</td>\n",
       "      <td>741717815</td>\n",
       "      <td>1130930</td>\n",
       "    </tr>\n",
       "    <tr>\n",
       "      <th>1</th>\n",
       "      <td>D005839_induces_D007683</td>\n",
       "      <td>0.403663</td>\n",
       "      <td>bcv_id_45</td>\n",
       "      <td>741717815</td>\n",
       "      <td>1130930</td>\n",
       "    </tr>\n",
       "    <tr>\n",
       "      <th>3</th>\n",
       "      <td>D002512_induces_D009846|D051437</td>\n",
       "      <td>0.403663</td>\n",
       "      <td>bcv_id_45</td>\n",
       "      <td>741717815</td>\n",
       "      <td>1130930</td>\n",
       "    </tr>\n",
       "  </tbody>\n",
       "</table>\n",
       "</div>"
      ],
      "text/plain": [
       "                           id_pair  normalized_score    uniq_id    unit_id  \\\n",
       "1          D002512_induces_D007683          0.811571  bcv_id_46  741717816   \n",
       "0          D002512_induces_D007674          0.788020  bcv_id_46  741717816   \n",
       "0  D005839_induces_D009846|D051437          0.403663  bcv_id_45  741717815   \n",
       "1          D005839_induces_D007683          0.403663  bcv_id_45  741717815   \n",
       "3  D002512_induces_D009846|D051437          0.403663  bcv_id_45  741717815   \n",
       "\n",
       "      pmid  \n",
       "1  1130930  \n",
       "0  1130930  \n",
       "0  1130930  \n",
       "1  1130930  \n",
       "3  1130930  "
      ]
     },
     "execution_count": 11,
     "metadata": {},
     "output_type": "execute_result"
    }
   ],
   "source": [
    "results.head()"
   ]
  },
  {
   "cell_type": "markdown",
   "metadata": {},
   "source": [
    "Now that we have our results table, listing some drug-disease relationships with a confidence score, we can perform a ROC analysis on the score as a predictor. To generate our ROC curve, we will:\n",
    "\n",
    "1. Use the gold standard to look up whether each disease pair id was a true positive or not, and convert the ids to 1s or 0s.\n",
    "2. Use the R ROCR package to generate the ROC curve."
   ]
  },
  {
   "cell_type": "code",
   "execution_count": 12,
   "metadata": {
    "collapsed": true
   },
   "outputs": [],
   "source": [
    "training_data = parse_input(\"data/training\", \"CDR_TrainingSet.txt\")"
   ]
  },
  {
   "cell_type": "code",
   "execution_count": 13,
   "metadata": {
    "collapsed": false
   },
   "outputs": [
    {
     "data": {
      "text/plain": [
       "{1130930,\n",
       " 1378968,\n",
       " 1835291,\n",
       " 2096243,\n",
       " 2265898,\n",
       " 2375138,\n",
       " 2515254,\n",
       " 3800626,\n",
       " 6666578,\n",
       " 6692345,\n",
       " 7449470,\n",
       " 7582165,\n",
       " 8590259,\n",
       " 8595686,\n",
       " 9522143,\n",
       " 10520387,\n",
       " 10835440,\n",
       " 11135224,\n",
       " 11569530,\n",
       " 12041669,\n",
       " 12198388,\n",
       " 15602202,\n",
       " 15632880,\n",
       " 16167916,\n",
       " 16337777,\n",
       " 17241784,\n",
       " 17261653,\n",
       " 17931375,\n",
       " 19269743}"
      ]
     },
     "execution_count": 13,
     "metadata": {},
     "output_type": "execute_result"
    }
   ],
   "source": [
    "used_pmids = set(results[\"pmid\"].unique())\n",
    "used_pmids"
   ]
  },
  {
   "cell_type": "code",
   "execution_count": 15,
   "metadata": {
    "collapsed": false
   },
   "outputs": [
    {
     "name": "stdout",
     "output_type": "stream",
     "text": [
      "29\n"
     ]
    }
   ],
   "source": [
    "# create the gold\n",
    "gold_relations = dict()\n",
    "\n",
    "for paper in training_data:\n",
    "    if int(paper.pmid) in used_pmids:\n",
    "        gold_relations[paper.pmid] = paper.relations\n",
    "    \n",
    "print len(gold_relations)"
   ]
  },
  {
   "cell_type": "code",
   "execution_count": 15,
   "metadata": {
    "collapsed": false
   },
   "outputs": [
    {
     "data": {
      "text/plain": [
       "63"
      ]
     },
     "execution_count": 15,
     "metadata": {},
     "output_type": "execute_result"
    }
   ],
   "source": [
    "sum(map(len, gold_relations.values()))"
   ]
  },
  {
   "cell_type": "code",
   "execution_count": 16,
   "metadata": {
    "collapsed": true
   },
   "outputs": [],
   "source": [
    "def in_gold(pmid, annot):\n",
    "    for gold in gold_relations[str(pmid)]:\n",
    "        if gold == annot:\n",
    "            return True\n",
    "        \n",
    "    return False"
   ]
  },
  {
   "cell_type": "code",
   "execution_count": 17,
   "metadata": {
    "collapsed": false
   },
   "outputs": [],
   "source": [
    "is_in_gold = []\n",
    "for idx, row in results.iterrows():\n",
    "    pmid = row[\"pmid\"]\n",
    "    temp = row[\"id_pair\"].split(\"_induces_\")\n",
    "    annot = Relation(temp[0], temp[1])\n",
    "    \n",
    "    is_in_gold.append(int(in_gold(pmid, annot)))\n",
    "    \n",
    "results[\"in_gold\"] = is_in_gold"
   ]
  },
  {
   "cell_type": "code",
   "execution_count": 18,
   "metadata": {
    "collapsed": false
   },
   "outputs": [
    {
     "data": {
      "text/html": [
       "<div style=\"max-height:1000px;max-width:1500px;overflow:auto;\">\n",
       "<table border=\"1\" class=\"dataframe\">\n",
       "  <thead>\n",
       "    <tr style=\"text-align: right;\">\n",
       "      <th></th>\n",
       "      <th>id_pair</th>\n",
       "      <th>normalized_score</th>\n",
       "      <th>uniq_id</th>\n",
       "      <th>unit_id</th>\n",
       "      <th>pmid</th>\n",
       "      <th>in_gold</th>\n",
       "    </tr>\n",
       "  </thead>\n",
       "  <tbody>\n",
       "    <tr>\n",
       "      <th>1</th>\n",
       "      <td>D002512_induces_D007683</td>\n",
       "      <td>0.811571</td>\n",
       "      <td>bcv_id_46</td>\n",
       "      <td>741717816</td>\n",
       "      <td>1130930</td>\n",
       "      <td>1</td>\n",
       "    </tr>\n",
       "    <tr>\n",
       "      <th>0</th>\n",
       "      <td>D002512_induces_D007674</td>\n",
       "      <td>0.788020</td>\n",
       "      <td>bcv_id_46</td>\n",
       "      <td>741717816</td>\n",
       "      <td>1130930</td>\n",
       "      <td>0</td>\n",
       "    </tr>\n",
       "    <tr>\n",
       "      <th>0</th>\n",
       "      <td>D005839_induces_D009846|D051437</td>\n",
       "      <td>0.403663</td>\n",
       "      <td>bcv_id_45</td>\n",
       "      <td>741717815</td>\n",
       "      <td>1130930</td>\n",
       "      <td>0</td>\n",
       "    </tr>\n",
       "    <tr>\n",
       "      <th>1</th>\n",
       "      <td>D005839_induces_D007683</td>\n",
       "      <td>0.403663</td>\n",
       "      <td>bcv_id_45</td>\n",
       "      <td>741717815</td>\n",
       "      <td>1130930</td>\n",
       "      <td>1</td>\n",
       "    </tr>\n",
       "    <tr>\n",
       "      <th>3</th>\n",
       "      <td>D002512_induces_D009846|D051437</td>\n",
       "      <td>0.403663</td>\n",
       "      <td>bcv_id_45</td>\n",
       "      <td>741717815</td>\n",
       "      <td>1130930</td>\n",
       "      <td>0</td>\n",
       "    </tr>\n",
       "  </tbody>\n",
       "</table>\n",
       "</div>"
      ],
      "text/plain": [
       "                           id_pair  normalized_score    uniq_id    unit_id  \\\n",
       "1          D002512_induces_D007683          0.811571  bcv_id_46  741717816   \n",
       "0          D002512_induces_D007674          0.788020  bcv_id_46  741717816   \n",
       "0  D005839_induces_D009846|D051437          0.403663  bcv_id_45  741717815   \n",
       "1          D005839_induces_D007683          0.403663  bcv_id_45  741717815   \n",
       "3  D002512_induces_D009846|D051437          0.403663  bcv_id_45  741717815   \n",
       "\n",
       "      pmid  in_gold  \n",
       "1  1130930        1  \n",
       "0  1130930        0  \n",
       "0  1130930        0  \n",
       "1  1130930        1  \n",
       "3  1130930        0  "
      ]
     },
     "execution_count": 18,
     "metadata": {},
     "output_type": "execute_result"
    }
   ],
   "source": [
    "results.head()"
   ]
  },
  {
   "cell_type": "code",
   "execution_count": 19,
   "metadata": {
    "collapsed": true
   },
   "outputs": [],
   "source": [
    "results.to_csv(\"data/746647_ROC_test.txt\", sep = '\\t', index = False)"
   ]
  },
  {
   "cell_type": "markdown",
   "metadata": {},
   "source": [
    "Generation of the ROC curve is done in R."
   ]
  },
  {
   "cell_type": "markdown",
   "metadata": {},
   "source": [
    "---"
   ]
  },
  {
   "cell_type": "markdown",
   "metadata": {},
   "source": [
    "I noticed that there was one person who did both this job (746647) and the one yesterday (746297). Let's see if anyone else worked on both jobs and how they did with respect to the gold in both jobs:"
   ]
  },
  {
   "cell_type": "code",
   "execution_count": 20,
   "metadata": {
    "collapsed": true
   },
   "outputs": [],
   "source": [
    "settings = {\n",
    "    \"loc\": \"data/crowdflower/results\",\n",
    "    \"fname\": \"job_746297_full_with_untrusted.csv\",\n",
    "    \"data_subset\": \"normal\",\n",
    "    \"min_accuracy\": 0.7,\n",
    "    \"max_accuracy\": 1.0\n",
    "}\n",
    "\n",
    "job_746297_data = filter_data(settings)"
   ]
  },
  {
   "cell_type": "code",
   "execution_count": 21,
   "metadata": {
    "collapsed": false
   },
   "outputs": [
    {
     "data": {
      "text/plain": [
       "23"
      ]
     },
     "execution_count": 21,
     "metadata": {},
     "output_type": "execute_result"
    }
   ],
   "source": [
    "len(job_746297_data[\"_worker_id\"].unique())"
   ]
  },
  {
   "cell_type": "code",
   "execution_count": 22,
   "metadata": {
    "collapsed": true
   },
   "outputs": [],
   "source": [
    "settings = {\n",
    "    \"loc\": \"data/crowdflower/results\",\n",
    "    \"fname\": \"job_746647_full_with_untrusted.csv\",\n",
    "    \"data_subset\": \"normal\",\n",
    "    \"min_accuracy\": 0.7,\n",
    "    \"max_accuracy\": 1.0\n",
    "}\n",
    "\n",
    "job_746647_data = filter_data(settings)"
   ]
  },
  {
   "cell_type": "code",
   "execution_count": 23,
   "metadata": {
    "collapsed": false
   },
   "outputs": [
    {
     "data": {
      "text/plain": [
       "22"
      ]
     },
     "execution_count": 23,
     "metadata": {},
     "output_type": "execute_result"
    }
   ],
   "source": [
    "len(job_746647_data[\"_worker_id\"].unique())"
   ]
  },
  {
   "cell_type": "markdown",
   "metadata": {},
   "source": [
    "One fewer person worked on the task today."
   ]
  },
  {
   "cell_type": "code",
   "execution_count": 24,
   "metadata": {
    "collapsed": false
   },
   "outputs": [
    {
     "data": {
      "text/plain": [
       "{6591664, 31599083, 32591740, 33014938}"
      ]
     },
     "execution_count": 24,
     "metadata": {},
     "output_type": "execute_result"
    }
   ],
   "source": [
    "veterans = set(job_746297_data[\"_worker_id\"]) & set(job_746647_data[\"_worker_id\"])\n",
    "veterans"
   ]
  },
  {
   "cell_type": "markdown",
   "metadata": {},
   "source": [
    "Interesting. There are 4 people who worked on both jobs. Let's look at their performance:"
   ]
  },
  {
   "cell_type": "code",
   "execution_count": 25,
   "metadata": {
    "collapsed": false
   },
   "outputs": [
    {
     "name": "stdout",
     "output_type": "stream",
     "text": [
      "Worker id: 6591664\n",
      "Trust for 746297: 0.8333\n",
      "Trust for 746647: 0.7143\n",
      "\n",
      "Worker id: 33014938\n",
      "Trust for 746297: 0.7143\n",
      "Trust for 746647: 0.8\n",
      "\n",
      "Worker id: 31599083\n",
      "Trust for 746297: 0.8182\n",
      "Trust for 746647: 1.0\n",
      "\n",
      "Worker id: 32591740\n",
      "Trust for 746297: 0.8333\n",
      "Trust for 746647: 0.8333\n",
      "\n"
     ]
    }
   ],
   "source": [
    "for worker_id in veterans:\n",
    "    trust_746297 = job_746297_data.query(\"_worker_id == {0}\".format(worker_id)).iloc[0][\"_trust\"]\n",
    "    trust_746647 = job_746647_data.query(\"_worker_id == {0}\".format(worker_id)).iloc[0][\"_trust\"]\n",
    "    \n",
    "    print \"Worker id: {0}\".format(worker_id)\n",
    "    print \"Trust for 746297: {0}\".format(trust_746297)\n",
    "    print \"Trust for 746647: {0}\".format(trust_746647)\n",
    "    print"
   ]
  },
  {
   "cell_type": "markdown",
   "metadata": {},
   "source": [
    "Two people got better at the same test questions while one remained constant and one got worse. How did they do against the gold?"
   ]
  },
  {
   "cell_type": "markdown",
   "metadata": {},
   "source": [
    "We will take each contributor who worked on both jobs, look at their responses to the questions they worked on, and see if their responses match the gold."
   ]
  },
  {
   "cell_type": "code",
   "execution_count": 27,
   "metadata": {
    "collapsed": false
   },
   "outputs": [
    {
     "name": "stdout",
     "output_type": "stream",
     "text": [
      "6591664\n",
      "4\n",
      "8\n",
      "\n",
      "33014938\n",
      "7\n",
      "20\n",
      "\n",
      "31599083\n",
      "23\n",
      "24\n",
      "\n",
      "32591740\n",
      "4\n",
      "4\n",
      "\n"
     ]
    }
   ],
   "source": [
    "for worker_id in veterans:\n",
    "    first_subset = job_746297_data.query(\"_worker_id == {0}\".format(worker_id))\n",
    "    second_subset = job_746647_data.query(\"_worker_id == {0}\".format(worker_id))\n",
    "    \n",
    "    print worker_id\n",
    "    print len(first_subset)\n",
    "    print len(second_subset)\n",
    "    print"
   ]
  },
  {
   "cell_type": "markdown",
   "metadata": {},
   "source": [
    "Overall the four returning workers also did more work. Now whether this is because they came earier (before the work ran out) or because they were more confident (or motivated by the higher pay) is uncertain."
   ]
  },
  {
   "cell_type": "code",
   "execution_count": 31,
   "metadata": {
    "collapsed": false
   },
   "outputs": [
    {
     "data": {
      "text/plain": [
       "['_unit_id',\n",
       " '_created_at',\n",
       " '_golden',\n",
       " '_id',\n",
       " '_missed',\n",
       " '_started_at',\n",
       " '_tainted',\n",
       " '_channel',\n",
       " '_trust',\n",
       " '_worker_id',\n",
       " '_country',\n",
       " '_region',\n",
       " '_city',\n",
       " '_ip',\n",
       " 'chemical_disease_relationships',\n",
       " 'comment_box',\n",
       " 'chemical_disease_relationships_gold',\n",
       " 'choice_0_ids',\n",
       " 'choice_0_label',\n",
       " 'choice_1_ids',\n",
       " 'choice_1_label',\n",
       " 'choice_2_ids',\n",
       " 'choice_2_label',\n",
       " 'choice_3_ids',\n",
       " 'choice_3_label',\n",
       " 'choice_4_ids',\n",
       " 'choice_4_label',\n",
       " 'form_abstract',\n",
       " 'form_title',\n",
       " 'pmid',\n",
       " 'uniq_id']"
      ]
     },
     "execution_count": 31,
     "metadata": {},
     "output_type": "execute_result"
    }
   ],
   "source": [
    "list(job_746647_data.columns.values)"
   ]
  },
  {
   "cell_type": "code",
   "execution_count": 39,
   "metadata": {
    "collapsed": false
   },
   "outputs": [
    {
     "name": "stdout",
     "output_type": "stream",
     "text": [
      "\n"
     ]
    }
   ],
   "source": [
    "def statistics(data_frame):\n",
    "    \"\"\"\n",
    "    Determines the TP, FP, TN, and FN for each question.\n",
    "    \"\"\"\n",
    "    true_pos = 0\n",
    "    true_neg = 0\n",
    "    false_pos = 0\n",
    "    false_neg = 0\n",
    "    for idx, row in data_frame.iterrows():\n",
    "        pmid = row[\"pmid\"]\n",
    "        \n",
    "        choices = row[\"chemical_disease_relationships\"].split('\\n')\n",
    "        if \"none_are_true\" in choices:\n",
    "            # look at all non empty and verify not in gold\n",
    "            for i in range(5):\n",
    "                col_name = \"choice_{0}_ids\".format(i)\n",
    "                if row[col_name] != \"empty\":\n",
    "                    id_pair = row[col_name].split(\"_induces_\")\n",
    "                    \n",
    "                    if not in_gold(pmid, Relation(id_pair[0], id_pair[1])):\n",
    "                        true_neg += 1\n",
    "                    else:\n",
    "                        false_neg += 1\n",
    "        else:\n",
    "            for choice in choices:\n",
    "                assert row[\"{0}_ids\".format(choice)] != \"empty\"\n",
    "                id_pair = row[\"{0}_ids\".format(choice)].split(\"_induces_\")\n",
    "                if in_gold(pmid, Relation(id_pair[0], id_pair[1])):\n",
    "                    true_pos += 1\n",
    "                else:\n",
    "                    false_pos += 1\n",
    "                    \n",
    "    return (true_pos, true_neg, false_pos, false_neg)"
   ]
  },
  {
   "cell_type": "code",
   "execution_count": 40,
   "metadata": {
    "collapsed": false
   },
   "outputs": [
    {
     "name": "stdout",
     "output_type": "stream",
     "text": [
      "worker id: 6591664\n",
      "TP TN FP FN\n",
      "first time: (2, 10, 0, 0)\n",
      "second time:"
     ]
    },
    {
     "ename": "KeyError",
     "evalue": "'18631865'",
     "output_type": "error",
     "traceback": [
      "\u001b[1;31m---------------------------------------------------------------------------\u001b[0m",
      "\u001b[1;31mKeyError\u001b[0m                                  Traceback (most recent call last)",
      "\u001b[1;32m<ipython-input-40-fe45215a2a73>\u001b[0m in \u001b[0;36m<module>\u001b[1;34m()\u001b[0m\n\u001b[0;32m      6\u001b[0m     \u001b[1;32mprint\u001b[0m \u001b[1;34m\"TP TN FP FN\"\u001b[0m\u001b[1;33m\u001b[0m\u001b[0m\n\u001b[0;32m      7\u001b[0m     \u001b[1;32mprint\u001b[0m \u001b[1;34m\"first time:\"\u001b[0m\u001b[1;33m,\u001b[0m \u001b[0mstatistics\u001b[0m\u001b[1;33m(\u001b[0m\u001b[0mfirst_subset\u001b[0m\u001b[1;33m)\u001b[0m\u001b[1;33m\u001b[0m\u001b[0m\n\u001b[1;32m----> 8\u001b[1;33m     \u001b[1;32mprint\u001b[0m \u001b[1;34m\"second time:\"\u001b[0m\u001b[1;33m,\u001b[0m \u001b[0mstatistics\u001b[0m\u001b[1;33m(\u001b[0m\u001b[0msecond_subset\u001b[0m\u001b[1;33m)\u001b[0m\u001b[1;33m\u001b[0m\u001b[0m\n\u001b[0m\u001b[0;32m      9\u001b[0m     \u001b[1;32mprint\u001b[0m\u001b[1;33m\u001b[0m\u001b[0m\n",
      "\u001b[1;32m<ipython-input-39-d39cc5928220>\u001b[0m in \u001b[0;36mstatistics\u001b[1;34m(data_frame)\u001b[0m\n\u001b[0;32m     18\u001b[0m                     \u001b[0mid_pair\u001b[0m \u001b[1;33m=\u001b[0m \u001b[0mrow\u001b[0m\u001b[1;33m[\u001b[0m\u001b[0mcol_name\u001b[0m\u001b[1;33m]\u001b[0m\u001b[1;33m.\u001b[0m\u001b[0msplit\u001b[0m\u001b[1;33m(\u001b[0m\u001b[1;34m\"_induces_\"\u001b[0m\u001b[1;33m)\u001b[0m\u001b[1;33m\u001b[0m\u001b[0m\n\u001b[0;32m     19\u001b[0m \u001b[1;33m\u001b[0m\u001b[0m\n\u001b[1;32m---> 20\u001b[1;33m                     \u001b[1;32mif\u001b[0m \u001b[1;32mnot\u001b[0m \u001b[0min_gold\u001b[0m\u001b[1;33m(\u001b[0m\u001b[0mpmid\u001b[0m\u001b[1;33m,\u001b[0m \u001b[0mRelation\u001b[0m\u001b[1;33m(\u001b[0m\u001b[0mid_pair\u001b[0m\u001b[1;33m[\u001b[0m\u001b[1;36m0\u001b[0m\u001b[1;33m]\u001b[0m\u001b[1;33m,\u001b[0m \u001b[0mid_pair\u001b[0m\u001b[1;33m[\u001b[0m\u001b[1;36m1\u001b[0m\u001b[1;33m]\u001b[0m\u001b[1;33m)\u001b[0m\u001b[1;33m)\u001b[0m\u001b[1;33m:\u001b[0m\u001b[1;33m\u001b[0m\u001b[0m\n\u001b[0m\u001b[0;32m     21\u001b[0m                         \u001b[0mtrue_neg\u001b[0m \u001b[1;33m+=\u001b[0m \u001b[1;36m1\u001b[0m\u001b[1;33m\u001b[0m\u001b[0m\n\u001b[0;32m     22\u001b[0m                     \u001b[1;32melse\u001b[0m\u001b[1;33m:\u001b[0m\u001b[1;33m\u001b[0m\u001b[0m\n",
      "\u001b[1;32m<ipython-input-16-abe20b80e939>\u001b[0m in \u001b[0;36min_gold\u001b[1;34m(pmid, annot)\u001b[0m\n\u001b[0;32m      1\u001b[0m \u001b[1;32mdef\u001b[0m \u001b[0min_gold\u001b[0m\u001b[1;33m(\u001b[0m\u001b[0mpmid\u001b[0m\u001b[1;33m,\u001b[0m \u001b[0mannot\u001b[0m\u001b[1;33m)\u001b[0m\u001b[1;33m:\u001b[0m\u001b[1;33m\u001b[0m\u001b[0m\n\u001b[1;32m----> 2\u001b[1;33m     \u001b[1;32mfor\u001b[0m \u001b[0mgold\u001b[0m \u001b[1;32min\u001b[0m \u001b[0mgold_relations\u001b[0m\u001b[1;33m[\u001b[0m\u001b[0mstr\u001b[0m\u001b[1;33m(\u001b[0m\u001b[0mpmid\u001b[0m\u001b[1;33m)\u001b[0m\u001b[1;33m]\u001b[0m\u001b[1;33m:\u001b[0m\u001b[1;33m\u001b[0m\u001b[0m\n\u001b[0m\u001b[0;32m      3\u001b[0m         \u001b[1;32mif\u001b[0m \u001b[0mgold\u001b[0m \u001b[1;33m==\u001b[0m \u001b[0mannot\u001b[0m\u001b[1;33m:\u001b[0m\u001b[1;33m\u001b[0m\u001b[0m\n\u001b[0;32m      4\u001b[0m             \u001b[1;32mreturn\u001b[0m \u001b[0mTrue\u001b[0m\u001b[1;33m\u001b[0m\u001b[0m\n\u001b[0;32m      5\u001b[0m \u001b[1;33m\u001b[0m\u001b[0m\n",
      "\u001b[1;31mKeyError\u001b[0m: '18631865'"
     ]
    }
   ],
   "source": [
    "for worker_id in veterans:\n",
    "    first_subset = job_746297_data.query(\"_worker_id == {0}\".format(worker_id))\n",
    "    second_subset = job_746647_data.query(\"_worker_id == {0}\".format(worker_id))\n",
    "    \n",
    "    print \"worker id:\", worker_id\n",
    "    print \"TP TN FP FN\"\n",
    "    print \"first time:\", statistics(first_subset)\n",
    "    print \"second time:\", statistics(second_subset)\n",
    "    print"
   ]
  },
  {
   "cell_type": "code",
   "execution_count": null,
   "metadata": {
    "collapsed": true
   },
   "outputs": [],
   "source": []
  }
 ],
 "metadata": {
  "kernelspec": {
   "display_name": "Python 2",
   "language": "python",
   "name": "python2"
  },
  "language_info": {
   "codemirror_mode": {
    "name": "ipython",
    "version": 2
   },
   "file_extension": ".py",
   "mimetype": "text/x-python",
   "name": "python",
   "nbconvert_exporter": "python",
   "pygments_lexer": "ipython2",
   "version": "2.7.10"
  }
 },
 "nbformat": 4,
 "nbformat_minor": 0
}
