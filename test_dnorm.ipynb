{
 "cells": [
  {
   "cell_type": "markdown",
   "metadata": {},
   "source": [
    "# Testing the disease highlighting ability of DNorm"
   ]
  },
  {
   "cell_type": "markdown",
   "metadata": {},
   "source": [
    "2015-06-17 Tong Shu Li"
   ]
  },
  {
   "cell_type": "markdown",
   "metadata": {},
   "source": [
    "Now that we know tmChem does quite well at identifying chemicals, we will see how well DNorm does at identifying diseases."
   ]
  },
  {
   "cell_type": "code",
   "execution_count": 1,
   "metadata": {
    "collapsed": true
   },
   "outputs": [],
   "source": [
    "import sys"
   ]
  },
  {
   "cell_type": "code",
   "execution_count": 2,
   "metadata": {
    "collapsed": false
   },
   "outputs": [],
   "source": [
    "sys.path.append(\"/home/toby/Code/util\")\n",
    "from file_util import read_file"
   ]
  },
  {
   "cell_type": "markdown",
   "metadata": {},
   "source": [
    "### Strip the biocreative data down for processing:"
   ]
  },
  {
   "cell_type": "code",
   "execution_count": 3,
   "metadata": {
    "collapsed": true
   },
   "outputs": [],
   "source": [
    "with open(\"data/dnorm/dnorm_training_input.txt\", \"w\") as out:\n",
    "    for line in read_file(\"data/training/CDR_TrainingSet.txt\"):\n",
    "        vals = line.split(\"|\")\n",
    "        if len(vals) == 3:\n",
    "            out.write(\"{0}\\t{1}\\n\".format(vals[0], vals[2]))"
   ]
  },
  {
   "cell_type": "code",
   "execution_count": 4,
   "metadata": {
    "collapsed": true
   },
   "outputs": [],
   "source": [
    "with open(\"data/dnorm/dnorm_development_input.txt\", \"w\") as out:\n",
    "    for line in read_file(\"data/development/CDR_DevelopmentSet.txt\"):\n",
    "        vals = line.split(\"|\")\n",
    "        if len(vals) == 3:\n",
    "            out.write(\"{0}\\t{1}\\n\".format(vals[0], vals[2]))"
   ]
  },
  {
   "cell_type": "markdown",
   "metadata": {},
   "source": [
    "### Run DNorm:"
   ]
  },
  {
   "cell_type": "code",
   "execution_count": 5,
   "metadata": {
    "collapsed": false
   },
   "outputs": [
    {
     "name": "stdout",
     "output_type": "stream",
     "text": [
      "Creating index\n",
      "Not adding alternate name ADRENOCORTICOTROPIC HORMONE DEFICIENCY to concept OMIM:201400 because it is the primary name of a parent\n",
      "Not adding alternate name ANIRIDIA to concept MESH:C536372 because it is the primary name of a parent\n",
      "Not adding alternate name ABDOMINAL AORTIC ANEURYSM to concept OMIM:100070 because it is the primary name of a parent\n",
      "Not adding alternate name ANEURYSM, ABDOMINAL AORTIC to concept OMIM:100070 because it is the primary name of a parent\n",
      "Not adding alternate name DYSEQUILIBRIUM SYNDROME to concept OMIM:224050 because it is the primary name of a parent\n",
      "Not adding alternate name CADASIL to concept OMIM:125310 because it is the primary name of a parent\n",
      "Not adding alternate name 18-HYDROXYLASE DEFICIENCY to concept OMIM:203400 because it is the primary name of a parent\n",
      "Not adding alternate name CRANIOFRONTONASAL DYSPLASIA to concept OMIM:304110 because it is the primary name of a parent\n",
      "Not adding alternate name CRIGLER-NAJJAR SYNDROME to concept MESH:C536212 because it is the primary name of a parent\n",
      "Not adding alternate name ADDUCTED THUMB-CLUBFOOT SYNDROME to concept OMIM:601776 because it is the primary name of a parent\n",
      "Not adding alternate name FACIOSCAPULOHUMERAL MUSCULAR DYSTROPHY to concept MESH:C536391 because it is the primary name of a parent\n",
      "Not adding alternate name Hyperlipoproteinemia, type 1 to concept MESH:C538489 because it is the primary name of a parent\n",
      "Not adding alternate name FRAGILE X SYNDROME to concept OMIM:300624 because it is the primary name of a parent\n",
      "Not adding alternate name FRONTONASAL DYSPLASIA to concept OMIM:136760 because it is the primary name of a parent\n",
      "Not adding alternate name CHOLECYSTITIS to concept OMIM:600803 because it is the primary name of a parent\n",
      "Not adding alternate name CHOLELITHIASIS to concept OMIM:600803 because it is the primary name of a parent\n",
      "Not adding alternate name GALLSTONES to concept OMIM:600803 because it is the primary name of a parent\n",
      "Not adding alternate name GOLDENHAR SYNDROME to concept OMIM:164210 because it is the primary name of a parent\n",
      "Not adding alternate name GESTATIONAL TROPHOBLASTIC DISEASE to concept MESH:D006828 because it is the primary name of a parent\n",
      "Not adding alternate name NESIDIOBLASTOSIS to concept MESH:C538373 because it is the primary name of a parent\n",
      "Not adding alternate name HYPOKALEMIC PERIODIC PARALYSIS to concept OMIM:170400 because it is the primary name of a parent\n",
      "Not adding alternate name LAMELLAR ICHTHYOSIS to concept MESH:C538579 because it is the primary name of a parent\n",
      "Not adding alternate name LIPOMA to concept OMIM:151900 because it is the primary name of a parent\n",
      "Not adding alternate name CYTOCHROME c OXIDASE DEFICIENCY to concept OMIM:220110 because it is the primary name of a parent\n",
      "Not adding alternate name NAVAJO NEUROHEPATOPATHY to concept OMIM:256810 because it is the primary name of a parent\n",
      "Not adding alternate name PROLAPSED MITRAL VALVE to concept OMIM:157700 because it is the primary name of a parent\n",
      "Not adding alternate name Prolapsed mitral valve to concept MESH:C537478 because it is the primary name of a parent\n",
      "Not adding alternate name MOBIUS SYNDROME to concept MESH:C535807 because it is the primary name of a parent\n",
      "Not adding alternate name MOYAMOYA DISEASE to concept MESH:C536991 because it is the primary name of a parent\n",
      "Not adding alternate name MUCOLIPIDOSIS II to concept OMIM:252500 because it is the primary name of a parent\n",
      "Not adding alternate name GYRATE ATROPHY to concept MESH:C537132 because it is the primary name of a parent\n",
      "Not adding alternate name NANCE-SWEENEY CHONDRODYSPLASIA to concept OMIM:215150 because it is the primary name of a parent\n",
      "Not adding alternate name VARIEGATE PORPHYRIA to concept MESH:C538659 because it is the primary name of a parent\n",
      "Not adding alternate name SPINAL OSTEOCHONDROSIS to concept MESH:D012544 because it is the primary name of a parent\n",
      "Not adding alternate name LOKEN-SENIOR SYNDROME to concept OMIM:266900 because it is the primary name of a parent\n",
      "Not adding alternate name SENIOR-LOKEN SYNDROME to concept OMIM:266900 because it is the primary name of a parent\n",
      "Not adding alternate name JARCHO-LEVIN SYNDROME to concept OMIM:277300 because it is the primary name of a parent\n",
      "Not adding alternate name THANATOPHORIC DYSPLASIA to concept MESH:C536507 because it is the primary name of a parent\n",
      "Not adding alternate name MANDIBULOFACIAL DYSOSTOSIS to concept MESH:C538661 because it is the primary name of a parent\n",
      "Not adding alternate name LANGER-GIEDION SYNDROME to concept MESH:C536555 because it is the primary name of a parent\n",
      "Not adding alternate name HYPEROSTOSIS-HYPERPHOSPHATEMIA SYNDROME to concept OMIM:211900 because it is the primary name of a parent\n",
      "Not adding alternate name PROGRESSIVE MYOCLONIC EPILEPSY to concept MESH:D020194 because it is the primary name of a parent\n",
      "Not adding alternate name VITILIGO to concept OMIM:606579 because it is the primary name of a parent\n",
      "Not adding alternate name PROLIFERATIVE VITREORETINOPATHY to concept OMIM:193235 because it is the primary name of a parent\n",
      "Number of concepts: 9664\n",
      "Number of names: 67610\n",
      "Number of names per concept: 7.0093129139072845\n",
      "Number of names per concept: 67738 / 9664\n",
      "Number of concepts per name: 1.0018932110634522\n",
      "Number of concepts per name: 67738 / 67610\n",
      "Number of MeSH IDs: 7827\n",
      "Number of OMIM IDs: 4004\n",
      "Lucene done\n",
      "Token weights calculated\n",
      "10000\n",
      "20000\n",
      "30000\n",
      "Wed Jun 17 15:12:12 PDT 2015 loading exception data for lemmatiser...\n",
      "Wed Jun 17 15:12:12 PDT 2015 loading done\n",
      "Model: output/model_NCBIDisease_O1_TRAINDEV.bin\n",
      "Completed input: 606\n",
      "Init took 23212\n",
      "\t100\t4796\t17\t4778\t1\n",
      "\t200\t8867\t22\t8843\t2\n",
      "\t300\t12104\t23\t12077\t4\n",
      "\t400\t16215\t25\t16185\t5\n",
      "\t500\t19982\t26\t19950\t6\n",
      "\t600\t23896\t26\t23862\t8\n",
      "\t700\t27317\t28\t27278\t10\n",
      "\t800\t30349\t30\t30307\t11\n",
      "\t900\t33502\t32\t33456\t13\n",
      "\t1000\t36709\t35\t36660\t13\n",
      "\t1086\t39625\t38\t39571\t14\n",
      "Creating index\n",
      "Not adding alternate name ADRENOCORTICOTROPIC HORMONE DEFICIENCY to concept OMIM:201400 because it is the primary name of a parent\n",
      "Not adding alternate name ANIRIDIA to concept MESH:C536372 because it is the primary name of a parent\n",
      "Not adding alternate name ABDOMINAL AORTIC ANEURYSM to concept OMIM:100070 because it is the primary name of a parent\n",
      "Not adding alternate name ANEURYSM, ABDOMINAL AORTIC to concept OMIM:100070 because it is the primary name of a parent\n",
      "Not adding alternate name DYSEQUILIBRIUM SYNDROME to concept OMIM:224050 because it is the primary name of a parent\n",
      "Not adding alternate name CADASIL to concept OMIM:125310 because it is the primary name of a parent\n",
      "Not adding alternate name 18-HYDROXYLASE DEFICIENCY to concept OMIM:203400 because it is the primary name of a parent\n",
      "Not adding alternate name CRANIOFRONTONASAL DYSPLASIA to concept OMIM:304110 because it is the primary name of a parent\n",
      "Not adding alternate name CRIGLER-NAJJAR SYNDROME to concept MESH:C536212 because it is the primary name of a parent\n",
      "Not adding alternate name ADDUCTED THUMB-CLUBFOOT SYNDROME to concept OMIM:601776 because it is the primary name of a parent\n",
      "Not adding alternate name FACIOSCAPULOHUMERAL MUSCULAR DYSTROPHY to concept MESH:C536391 because it is the primary name of a parent\n",
      "Not adding alternate name Hyperlipoproteinemia, type 1 to concept MESH:C538489 because it is the primary name of a parent\n",
      "Not adding alternate name FRAGILE X SYNDROME to concept OMIM:300624 because it is the primary name of a parent\n",
      "Not adding alternate name FRONTONASAL DYSPLASIA to concept OMIM:136760 because it is the primary name of a parent\n",
      "Not adding alternate name CHOLECYSTITIS to concept OMIM:600803 because it is the primary name of a parent\n",
      "Not adding alternate name CHOLELITHIASIS to concept OMIM:600803 because it is the primary name of a parent\n",
      "Not adding alternate name GALLSTONES to concept OMIM:600803 because it is the primary name of a parent\n",
      "Not adding alternate name GOLDENHAR SYNDROME to concept OMIM:164210 because it is the primary name of a parent\n",
      "Not adding alternate name GESTATIONAL TROPHOBLASTIC DISEASE to concept MESH:D006828 because it is the primary name of a parent\n",
      "Not adding alternate name NESIDIOBLASTOSIS to concept MESH:C538373 because it is the primary name of a parent\n",
      "Not adding alternate name HYPOKALEMIC PERIODIC PARALYSIS to concept OMIM:170400 because it is the primary name of a parent\n",
      "Not adding alternate name LAMELLAR ICHTHYOSIS to concept MESH:C538579 because it is the primary name of a parent\n",
      "Not adding alternate name LIPOMA to concept OMIM:151900 because it is the primary name of a parent\n",
      "Not adding alternate name CYTOCHROME c OXIDASE DEFICIENCY to concept OMIM:220110 because it is the primary name of a parent\n",
      "Not adding alternate name NAVAJO NEUROHEPATOPATHY to concept OMIM:256810 because it is the primary name of a parent\n",
      "Not adding alternate name PROLAPSED MITRAL VALVE to concept OMIM:157700 because it is the primary name of a parent\n",
      "Not adding alternate name Prolapsed mitral valve to concept MESH:C537478 because it is the primary name of a parent\n",
      "Not adding alternate name MOBIUS SYNDROME to concept MESH:C535807 because it is the primary name of a parent\n",
      "Not adding alternate name MOYAMOYA DISEASE to concept MESH:C536991 because it is the primary name of a parent\n",
      "Not adding alternate name MUCOLIPIDOSIS II to concept OMIM:252500 because it is the primary name of a parent\n",
      "Not adding alternate name GYRATE ATROPHY to concept MESH:C537132 because it is the primary name of a parent\n",
      "Not adding alternate name NANCE-SWEENEY CHONDRODYSPLASIA to concept OMIM:215150 because it is the primary name of a parent\n",
      "Not adding alternate name VARIEGATE PORPHYRIA to concept MESH:C538659 because it is the primary name of a parent\n",
      "Not adding alternate name SPINAL OSTEOCHONDROSIS to concept MESH:D012544 because it is the primary name of a parent\n",
      "Not adding alternate name LOKEN-SENIOR SYNDROME to concept OMIM:266900 because it is the primary name of a parent\n",
      "Not adding alternate name SENIOR-LOKEN SYNDROME to concept OMIM:266900 because it is the primary name of a parent\n",
      "Not adding alternate name JARCHO-LEVIN SYNDROME to concept OMIM:277300 because it is the primary name of a parent\n",
      "Not adding alternate name THANATOPHORIC DYSPLASIA to concept MESH:C536507 because it is the primary name of a parent\n",
      "Not adding alternate name MANDIBULOFACIAL DYSOSTOSIS to concept MESH:C538661 because it is the primary name of a parent\n",
      "Not adding alternate name LANGER-GIEDION SYNDROME to concept MESH:C536555 because it is the primary name of a parent\n",
      "Not adding alternate name HYPEROSTOSIS-HYPERPHOSPHATEMIA SYNDROME to concept OMIM:211900 because it is the primary name of a parent\n",
      "Not adding alternate name PROGRESSIVE MYOCLONIC EPILEPSY to concept MESH:D020194 because it is the primary name of a parent\n",
      "Not adding alternate name VITILIGO to concept OMIM:606579 because it is the primary name of a parent\n",
      "Not adding alternate name PROLIFERATIVE VITREORETINOPATHY to concept OMIM:193235 because it is the primary name of a parent\n",
      "Number of concepts: 9664\n",
      "Number of names: 67610\n",
      "Number of names per concept: 7.0093129139072845\n",
      "Number of names per concept: 67738 / 9664\n",
      "Number of concepts per name: 1.0018932110634522\n",
      "Number of concepts per name: 67738 / 67610\n",
      "Number of MeSH IDs: 7827\n",
      "Number of OMIM IDs: 4004\n",
      "Lucene done\n",
      "Token weights calculated\n",
      "10000\n",
      "20000\n",
      "30000\n",
      "Wed Jun 17 15:13:11 PDT 2015 loading exception data for lemmatiser...\n",
      "Wed Jun 17 15:13:11 PDT 2015 loading done\n",
      "Model: output/model_NCBIDisease_O1_TRAINDEV.bin\n",
      "Completed input: 624\n",
      "Init took 19937\n",
      "\t100\t4461\t12\t4447\t1\n",
      "\t200\t8169\t14\t8153\t1\n",
      "\t300\t10975\t16\t10955\t3\n",
      "\t400\t14632\t19\t14608\t4\n",
      "\t500\t17902\t26\t17869\t6\n",
      "\t600\t20887\t29\t20850\t7\n",
      "\t700\t24048\t32\t24006\t8\n",
      "\t800\t27718\t34\t27674\t8\n",
      "\t900\t31297\t34\t31252\t9\n",
      "\t1000\t34795\t36\t34748\t9\n",
      "\t1085\t37297\t41\t37245\t9\n"
     ]
    }
   ],
   "source": [
    "%%bash\n",
    "\n",
    "mv data/dnorm/dnorm_*_input.txt ~/Code/DNorm/DNorm-0.0.6/inloc\n",
    "cd ~/Code/DNorm/DNorm-0.0.6\n",
    "\n",
    "for fin in inloc/dnorm_*_input.txt;\n",
    "do\n",
    "    fname=`basename $fin`;\n",
    "    \n",
    "    outpath=\"outloc/${fname/input/output}\";\n",
    "    \n",
    "    ./RunDNorm.sh config/banner_NCBIDisease_TEST.xml data/CTD_diseases.tsv output/simmatrix_NCBIDisease_e4.bin $fin $outpath\n",
    "done\n",
    "\n",
    "# move everything back to the original directory\n",
    "mv inloc/dnorm_*_input.txt ~/Research/Projects/biocreativeV/data/dnorm\n",
    "mv outloc/dnorm_*_output.txt ~/Research/Projects/biocreativeV/data/dnorm"
   ]
  },
  {
   "cell_type": "code",
   "execution_count": null,
   "metadata": {
    "collapsed": true
   },
   "outputs": [],
   "source": []
  }
 ],
 "metadata": {
  "kernelspec": {
   "display_name": "Python 2",
   "language": "python",
   "name": "python2"
  },
  "language_info": {
   "codemirror_mode": {
    "name": "ipython",
    "version": 2
   },
   "file_extension": ".py",
   "mimetype": "text/x-python",
   "name": "python",
   "nbconvert_exporter": "python",
   "pygments_lexer": "ipython2",
   "version": "2.7.10"
  }
 },
 "nbformat": 4,
 "nbformat_minor": 0
}
