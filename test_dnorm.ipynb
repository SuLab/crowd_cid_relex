{
 "cells": [
  {
   "cell_type": "markdown",
   "metadata": {},
   "source": [
    "# Testing the disease highlighting ability of DNorm"
   ]
  },
  {
   "cell_type": "markdown",
   "metadata": {},
   "source": [
    "2015-06-17 Tong Shu Li"
   ]
  },
  {
   "cell_type": "markdown",
   "metadata": {},
   "source": [
    "Now that we know tmChem does quite well at identifying chemicals, we will see how well DNorm does at identifying diseases."
   ]
  },
  {
   "cell_type": "code",
   "execution_count": 13,
   "metadata": {
    "collapsed": true
   },
   "outputs": [],
   "source": [
    "from collections import defaultdict"
   ]
  },
  {
   "cell_type": "code",
   "execution_count": 1,
   "metadata": {
    "collapsed": true
   },
   "outputs": [],
   "source": [
    "import sys"
   ]
  },
  {
   "cell_type": "code",
   "execution_count": 2,
   "metadata": {
    "collapsed": false
   },
   "outputs": [],
   "source": [
    "sys.path.append(\"/home/toby/Code/util\")\n",
    "from file_util import read_file"
   ]
  },
  {
   "cell_type": "markdown",
   "metadata": {},
   "source": [
    "### Strip the biocreative data down for processing:"
   ]
  },
  {
   "cell_type": "code",
   "execution_count": 3,
   "metadata": {
    "collapsed": true
   },
   "outputs": [],
   "source": [
    "def process_data(infile, outfile):\n",
    "    with open(outfile, \"w\") as out:\n",
    "        title = \"\"\n",
    "        pmid = \"\"\n",
    "        for i, line in enumerate(read_file(infile)):\n",
    "            vals = line.split(\"|\")\n",
    "            if len(vals) == 3:\n",
    "                if vals[1] == \"t\":\n",
    "                    pmid = vals[0]\n",
    "                    title = vals[2]\n",
    "                elif vals[1] == \"a\":\n",
    "                    out.write(\"{0}\\t{1}\\n\".format(pmid, title + \" \" + vals[2]))"
   ]
  },
  {
   "cell_type": "code",
   "execution_count": 4,
   "metadata": {
    "collapsed": false
   },
   "outputs": [],
   "source": [
    "process_data(\"data/training/CDR_TrainingSet.txt\",\n",
    "             \"data/dnorm/dnorm_training_input.txt\")"
   ]
  },
  {
   "cell_type": "code",
   "execution_count": 5,
   "metadata": {
    "collapsed": true
   },
   "outputs": [],
   "source": [
    "process_data(\"data/development/CDR_DevelopmentSet.txt\",\n",
    "             \"data/dnorm/dnorm_development_input.txt\")"
   ]
  },
  {
   "cell_type": "markdown",
   "metadata": {},
   "source": [
    "### Run DNorm:"
   ]
  },
  {
   "cell_type": "code",
   "execution_count": 6,
   "metadata": {
    "collapsed": false
   },
   "outputs": [
    {
     "name": "stdout",
     "output_type": "stream",
     "text": [
      "Creating index\n",
      "Not adding alternate name ADRENOCORTICOTROPIC HORMONE DEFICIENCY to concept OMIM:201400 because it is the primary name of a parent\n",
      "Not adding alternate name ANIRIDIA to concept MESH:C536372 because it is the primary name of a parent\n",
      "Not adding alternate name ABDOMINAL AORTIC ANEURYSM to concept OMIM:100070 because it is the primary name of a parent\n",
      "Not adding alternate name ANEURYSM, ABDOMINAL AORTIC to concept OMIM:100070 because it is the primary name of a parent\n",
      "Not adding alternate name DYSEQUILIBRIUM SYNDROME to concept OMIM:224050 because it is the primary name of a parent\n",
      "Not adding alternate name CADASIL to concept OMIM:125310 because it is the primary name of a parent\n",
      "Not adding alternate name 18-HYDROXYLASE DEFICIENCY to concept OMIM:203400 because it is the primary name of a parent\n",
      "Not adding alternate name CRANIOFRONTONASAL DYSPLASIA to concept OMIM:304110 because it is the primary name of a parent\n",
      "Not adding alternate name CRIGLER-NAJJAR SYNDROME to concept MESH:C536212 because it is the primary name of a parent\n",
      "Not adding alternate name ADDUCTED THUMB-CLUBFOOT SYNDROME to concept OMIM:601776 because it is the primary name of a parent\n",
      "Not adding alternate name FACIOSCAPULOHUMERAL MUSCULAR DYSTROPHY to concept MESH:C536391 because it is the primary name of a parent\n",
      "Not adding alternate name Hyperlipoproteinemia, type 1 to concept MESH:C538489 because it is the primary name of a parent\n",
      "Not adding alternate name FRAGILE X SYNDROME to concept OMIM:300624 because it is the primary name of a parent\n",
      "Not adding alternate name FRONTONASAL DYSPLASIA to concept OMIM:136760 because it is the primary name of a parent\n",
      "Not adding alternate name CHOLECYSTITIS to concept OMIM:600803 because it is the primary name of a parent\n",
      "Not adding alternate name CHOLELITHIASIS to concept OMIM:600803 because it is the primary name of a parent\n",
      "Not adding alternate name GALLSTONES to concept OMIM:600803 because it is the primary name of a parent\n",
      "Not adding alternate name GOLDENHAR SYNDROME to concept OMIM:164210 because it is the primary name of a parent\n",
      "Not adding alternate name GESTATIONAL TROPHOBLASTIC DISEASE to concept MESH:D006828 because it is the primary name of a parent\n",
      "Not adding alternate name NESIDIOBLASTOSIS to concept MESH:C538373 because it is the primary name of a parent\n",
      "Not adding alternate name HYPOKALEMIC PERIODIC PARALYSIS to concept OMIM:170400 because it is the primary name of a parent\n",
      "Not adding alternate name LAMELLAR ICHTHYOSIS to concept MESH:C538579 because it is the primary name of a parent\n",
      "Not adding alternate name LIPOMA to concept OMIM:151900 because it is the primary name of a parent\n",
      "Not adding alternate name CYTOCHROME c OXIDASE DEFICIENCY to concept OMIM:220110 because it is the primary name of a parent\n",
      "Not adding alternate name NAVAJO NEUROHEPATOPATHY to concept OMIM:256810 because it is the primary name of a parent\n",
      "Not adding alternate name PROLAPSED MITRAL VALVE to concept OMIM:157700 because it is the primary name of a parent\n",
      "Not adding alternate name Prolapsed mitral valve to concept MESH:C537478 because it is the primary name of a parent\n",
      "Not adding alternate name MOBIUS SYNDROME to concept MESH:C535807 because it is the primary name of a parent\n",
      "Not adding alternate name MOYAMOYA DISEASE to concept MESH:C536991 because it is the primary name of a parent\n",
      "Not adding alternate name MUCOLIPIDOSIS II to concept OMIM:252500 because it is the primary name of a parent\n",
      "Not adding alternate name GYRATE ATROPHY to concept MESH:C537132 because it is the primary name of a parent\n",
      "Not adding alternate name NANCE-SWEENEY CHONDRODYSPLASIA to concept OMIM:215150 because it is the primary name of a parent\n",
      "Not adding alternate name VARIEGATE PORPHYRIA to concept MESH:C538659 because it is the primary name of a parent\n",
      "Not adding alternate name SPINAL OSTEOCHONDROSIS to concept MESH:D012544 because it is the primary name of a parent\n",
      "Not adding alternate name LOKEN-SENIOR SYNDROME to concept OMIM:266900 because it is the primary name of a parent\n",
      "Not adding alternate name SENIOR-LOKEN SYNDROME to concept OMIM:266900 because it is the primary name of a parent\n",
      "Not adding alternate name JARCHO-LEVIN SYNDROME to concept OMIM:277300 because it is the primary name of a parent\n",
      "Not adding alternate name THANATOPHORIC DYSPLASIA to concept MESH:C536507 because it is the primary name of a parent\n",
      "Not adding alternate name MANDIBULOFACIAL DYSOSTOSIS to concept MESH:C538661 because it is the primary name of a parent\n",
      "Not adding alternate name LANGER-GIEDION SYNDROME to concept MESH:C536555 because it is the primary name of a parent\n",
      "Not adding alternate name HYPEROSTOSIS-HYPERPHOSPHATEMIA SYNDROME to concept OMIM:211900 because it is the primary name of a parent\n",
      "Not adding alternate name PROGRESSIVE MYOCLONIC EPILEPSY to concept MESH:D020194 because it is the primary name of a parent\n",
      "Not adding alternate name VITILIGO to concept OMIM:606579 because it is the primary name of a parent\n",
      "Not adding alternate name PROLIFERATIVE VITREORETINOPATHY to concept OMIM:193235 because it is the primary name of a parent\n",
      "Number of concepts: 9664\n",
      "Number of names: 67610\n",
      "Number of names per concept: 7.0093129139072845\n",
      "Number of names per concept: 67738 / 9664\n",
      "Number of concepts per name: 1.0018932110634522\n",
      "Number of concepts per name: 67738 / 67610\n",
      "Number of MeSH IDs: 7827\n",
      "Number of OMIM IDs: 4004\n",
      "Lucene done\n",
      "Token weights calculated\n",
      "10000\n",
      "20000\n",
      "30000\n",
      "Wed Jun 17 17:25:14 PDT 2015 loading exception data for lemmatiser...\n",
      "Wed Jun 17 17:25:14 PDT 2015 loading done\n",
      "Model: output/model_NCBIDisease_O1_TRAINDEV.bin\n",
      "Completed input: 519\n",
      "Init took 19434\n",
      "\t100\t9791\t18\t9768\t5\n",
      "\t200\t17881\t24\t17847\t10\n",
      "\t300\t27229\t28\t27190\t11\n",
      "\t400\t34440\t30\t34398\t12\n",
      "\t500\t42732\t34\t42686\t12\n",
      "\t500\t42732\t34\t42686\t12\n",
      "Creating index\n",
      "Not adding alternate name ADRENOCORTICOTROPIC HORMONE DEFICIENCY to concept OMIM:201400 because it is the primary name of a parent\n",
      "Not adding alternate name ANIRIDIA to concept MESH:C536372 because it is the primary name of a parent\n",
      "Not adding alternate name ABDOMINAL AORTIC ANEURYSM to concept OMIM:100070 because it is the primary name of a parent\n",
      "Not adding alternate name ANEURYSM, ABDOMINAL AORTIC to concept OMIM:100070 because it is the primary name of a parent\n",
      "Not adding alternate name DYSEQUILIBRIUM SYNDROME to concept OMIM:224050 because it is the primary name of a parent\n",
      "Not adding alternate name CADASIL to concept OMIM:125310 because it is the primary name of a parent\n",
      "Not adding alternate name 18-HYDROXYLASE DEFICIENCY to concept OMIM:203400 because it is the primary name of a parent\n",
      "Not adding alternate name CRANIOFRONTONASAL DYSPLASIA to concept OMIM:304110 because it is the primary name of a parent\n",
      "Not adding alternate name CRIGLER-NAJJAR SYNDROME to concept MESH:C536212 because it is the primary name of a parent\n",
      "Not adding alternate name ADDUCTED THUMB-CLUBFOOT SYNDROME to concept OMIM:601776 because it is the primary name of a parent\n",
      "Not adding alternate name FACIOSCAPULOHUMERAL MUSCULAR DYSTROPHY to concept MESH:C536391 because it is the primary name of a parent\n",
      "Not adding alternate name Hyperlipoproteinemia, type 1 to concept MESH:C538489 because it is the primary name of a parent\n",
      "Not adding alternate name FRAGILE X SYNDROME to concept OMIM:300624 because it is the primary name of a parent\n",
      "Not adding alternate name FRONTONASAL DYSPLASIA to concept OMIM:136760 because it is the primary name of a parent\n",
      "Not adding alternate name CHOLECYSTITIS to concept OMIM:600803 because it is the primary name of a parent\n",
      "Not adding alternate name CHOLELITHIASIS to concept OMIM:600803 because it is the primary name of a parent\n",
      "Not adding alternate name GALLSTONES to concept OMIM:600803 because it is the primary name of a parent\n",
      "Not adding alternate name GOLDENHAR SYNDROME to concept OMIM:164210 because it is the primary name of a parent\n",
      "Not adding alternate name GESTATIONAL TROPHOBLASTIC DISEASE to concept MESH:D006828 because it is the primary name of a parent\n",
      "Not adding alternate name NESIDIOBLASTOSIS to concept MESH:C538373 because it is the primary name of a parent\n",
      "Not adding alternate name HYPOKALEMIC PERIODIC PARALYSIS to concept OMIM:170400 because it is the primary name of a parent\n",
      "Not adding alternate name LAMELLAR ICHTHYOSIS to concept MESH:C538579 because it is the primary name of a parent\n",
      "Not adding alternate name LIPOMA to concept OMIM:151900 because it is the primary name of a parent\n",
      "Not adding alternate name CYTOCHROME c OXIDASE DEFICIENCY to concept OMIM:220110 because it is the primary name of a parent\n",
      "Not adding alternate name NAVAJO NEUROHEPATOPATHY to concept OMIM:256810 because it is the primary name of a parent\n",
      "Not adding alternate name PROLAPSED MITRAL VALVE to concept OMIM:157700 because it is the primary name of a parent\n",
      "Not adding alternate name Prolapsed mitral valve to concept MESH:C537478 because it is the primary name of a parent\n",
      "Not adding alternate name MOBIUS SYNDROME to concept MESH:C535807 because it is the primary name of a parent\n",
      "Not adding alternate name MOYAMOYA DISEASE to concept MESH:C536991 because it is the primary name of a parent\n",
      "Not adding alternate name MUCOLIPIDOSIS II to concept OMIM:252500 because it is the primary name of a parent\n",
      "Not adding alternate name GYRATE ATROPHY to concept MESH:C537132 because it is the primary name of a parent\n",
      "Not adding alternate name NANCE-SWEENEY CHONDRODYSPLASIA to concept OMIM:215150 because it is the primary name of a parent\n",
      "Not adding alternate name VARIEGATE PORPHYRIA to concept MESH:C538659 because it is the primary name of a parent\n",
      "Not adding alternate name SPINAL OSTEOCHONDROSIS to concept MESH:D012544 because it is the primary name of a parent\n",
      "Not adding alternate name LOKEN-SENIOR SYNDROME to concept OMIM:266900 because it is the primary name of a parent\n",
      "Not adding alternate name SENIOR-LOKEN SYNDROME to concept OMIM:266900 because it is the primary name of a parent\n",
      "Not adding alternate name JARCHO-LEVIN SYNDROME to concept OMIM:277300 because it is the primary name of a parent\n",
      "Not adding alternate name THANATOPHORIC DYSPLASIA to concept MESH:C536507 because it is the primary name of a parent\n",
      "Not adding alternate name MANDIBULOFACIAL DYSOSTOSIS to concept MESH:C538661 because it is the primary name of a parent\n",
      "Not adding alternate name LANGER-GIEDION SYNDROME to concept MESH:C536555 because it is the primary name of a parent\n",
      "Not adding alternate name HYPEROSTOSIS-HYPERPHOSPHATEMIA SYNDROME to concept OMIM:211900 because it is the primary name of a parent\n",
      "Not adding alternate name PROGRESSIVE MYOCLONIC EPILEPSY to concept MESH:D020194 because it is the primary name of a parent\n",
      "Not adding alternate name VITILIGO to concept OMIM:606579 because it is the primary name of a parent\n",
      "Not adding alternate name PROLIFERATIVE VITREORETINOPATHY to concept OMIM:193235 because it is the primary name of a parent\n",
      "Number of concepts: 9664\n",
      "Number of names: 67610\n",
      "Number of names per concept: 7.0093129139072845\n",
      "Number of names per concept: 67738 / 9664\n",
      "Number of concepts per name: 1.0018932110634522\n",
      "Number of concepts per name: 67738 / 67610\n",
      "Number of MeSH IDs: 7827\n",
      "Number of OMIM IDs: 4004\n",
      "Lucene done\n",
      "Token weights calculated\n",
      "10000\n",
      "20000\n",
      "30000\n",
      "Wed Jun 17 17:26:20 PDT 2015 loading exception data for lemmatiser...\n",
      "Wed Jun 17 17:26:20 PDT 2015 loading done\n",
      "Model: output/model_NCBIDisease_O1_TRAINDEV.bin\n",
      "Completed input: 550\n",
      "Init took 22962\n",
      "\t100\t10336\t20\t10313\t3\n",
      "\t200\t18843\t29\t18807\t7\n",
      "\t300\t25972\t32\t25932\t8\n",
      "\t400\t34390\t36\t34345\t8\n",
      "\t500\t41655\t42\t41603\t9\n",
      "\t500\t41655\t42\t41603\t9\n"
     ]
    }
   ],
   "source": [
    "%%bash\n",
    "\n",
    "mv data/dnorm/dnorm_*_input.txt ~/Code/DNorm/DNorm-0.0.6/inloc\n",
    "cd ~/Code/DNorm/DNorm-0.0.6\n",
    "\n",
    "for fin in inloc/dnorm_*_input.txt;\n",
    "do\n",
    "    fname=`basename $fin`;\n",
    "    \n",
    "    outpath=\"outloc/${fname/input/output}\";\n",
    "    \n",
    "    ./RunDNorm.sh config/banner_NCBIDisease_TEST.xml data/CTD_diseases.tsv output/simmatrix_NCBIDisease_e4.bin $fin $outpath\n",
    "done\n",
    "\n",
    "# move everything back to the original directory\n",
    "mv inloc/dnorm_*_input.txt ~/Research/Projects/biocreativeV/data/dnorm\n",
    "mv outloc/dnorm_*_output.txt ~/Research/Projects/biocreativeV/data/dnorm"
   ]
  },
  {
   "cell_type": "markdown",
   "metadata": {},
   "source": [
    "### Representations of the data:"
   ]
  },
  {
   "cell_type": "code",
   "execution_count": 7,
   "metadata": {
    "collapsed": true
   },
   "outputs": [],
   "source": [
    "class Annotation:\n",
    "    def __init__(self, uid, stype, text, start, stop):\n",
    "        if uid.startswith(\"MESH:\"):\n",
    "            uid = uid[5 : ]\n",
    "        \n",
    "        self.uid = uid\n",
    "        self.stype = stype.lower()\n",
    "        assert self.stype in [\"chemical\", \"disease\"]\n",
    "        self.text = text\n",
    "        self.start = int(start)\n",
    "        self.stop = int(stop)\n",
    "        assert self.start < self.stop\n",
    "        \n",
    "    def __eq__(self, other):\n",
    "        if isinstance(other, self.__class__):\n",
    "            return self.__dict__ == other.__dict__\n",
    "            \n",
    "        return False\n",
    "    \n",
    "    def __ne__(self, other):\n",
    "        return not self.__eq__(other)\n",
    "        \n",
    "    def output(self):\n",
    "        print self.uid\n",
    "        print self.start\n",
    "        print self.stop\n",
    "        print self.text\n",
    "        print"
   ]
  },
  {
   "cell_type": "code",
   "execution_count": 8,
   "metadata": {
    "collapsed": true
   },
   "outputs": [],
   "source": [
    "class Relation:\n",
    "    def __init__(self, drug, disease):\n",
    "        assert drug != \"-1\"\n",
    "        assert disease != \"-1\"\n",
    "        self.drug = drug\n",
    "        self.disease = disease\n",
    "        \n",
    "    def output(self):\n",
    "        print self.drug, self.disease"
   ]
  },
  {
   "cell_type": "code",
   "execution_count": 9,
   "metadata": {
    "collapsed": true
   },
   "outputs": [],
   "source": [
    "def make_annotations(annotations):\n",
    "    \"\"\"\n",
    "    Annotations with an identifier of -1 or with\n",
    "    no known identifier are ignored because they\n",
    "    never show up in a relationship.\n",
    "    \n",
    "    Ignored for comparision too for the above\n",
    "    reason.\n",
    "    \"\"\"\n",
    "    chemicals = []\n",
    "    diseases = []\n",
    "    \n",
    "    for group in annotations:\n",
    "        if group[5] != \"-1\":\n",
    "            res = Annotation(group[5], group[4], group[3], group[1], group[2])\n",
    "            if res.stype == \"chemical\":\n",
    "                chemicals.append(res)\n",
    "            else:\n",
    "                diseases.append(res)\n",
    "                \n",
    "    return (chemicals, diseases)\n",
    "\n",
    "def make_relations(relations):\n",
    "    res = []\n",
    "    for group in relations:\n",
    "        res.append(Relation(group[2], group[3]))\n",
    "    \n",
    "    return res\n",
    "        \n",
    "class Paper:\n",
    "    def __init__(self, pmid, title, abstract, annotations, relations):\n",
    "        self.pmid = pmid\n",
    "        self.title = title\n",
    "        self.abstract = abstract\n",
    "        \n",
    "        self.chemicals, self.diseases = make_annotations(annotations)\n",
    "        self.relations = make_relations(relations)\n",
    "        \n",
    "    def output(self):\n",
    "        print self.pmid\n",
    "        print len(self.annotations), len(self.relations)"
   ]
  },
  {
   "cell_type": "code",
   "execution_count": 10,
   "metadata": {
    "collapsed": true
   },
   "outputs": [],
   "source": [
    "def parse_input(loc, fname):\n",
    "    \"\"\"\n",
    "    Parses the given input file and returns a list\n",
    "    of Paper objects.\n",
    "    \"\"\"\n",
    "    papers = []\n",
    "\n",
    "    counter = 0\n",
    "    annotations = []\n",
    "    relations = []\n",
    "    for i, line in enumerate(read_file(fname, loc)):\n",
    "        if len(line) == 0:\n",
    "            # time to finish up this paper and prepare a new one\n",
    "            papers.append(Paper(pmid, title, abstract, annotations, relations))\n",
    "\n",
    "            counter = 0\n",
    "\n",
    "            annotations = []\n",
    "            relations = []\n",
    "        else:\n",
    "            if 0 <= counter <= 1:\n",
    "                vals = line.split('|')\n",
    "                assert len(vals) == 3\n",
    "            else:\n",
    "                vals = line.split('\\t')\n",
    "\n",
    "            if counter == 0:\n",
    "                assert vals[1] == 't'\n",
    "                pmid = vals[0]            \n",
    "                title = vals[2]\n",
    "            elif counter == 1:\n",
    "                assert vals[1] == 'a'\n",
    "                abstract = vals[2]\n",
    "            elif len(vals) == 4:\n",
    "                relations.append(vals)\n",
    "            else:\n",
    "                assert 5 <= len(vals) <= 7, pmid\n",
    "                # 5 fields means it determined that the text span\n",
    "                # was a chemical, but could not assign an identifier\n",
    "                \n",
    "                # 7 means it was a mistake in the original input (extra tab)\n",
    "                # 6 is the ideal output\n",
    "                \n",
    "                if len(vals) == 5:\n",
    "                    vals.append(\"-1\")\n",
    "                \n",
    "                annotations.append(vals) # 6 or 7 fields\n",
    "\n",
    "            counter += 1\n",
    "            \n",
    "    return papers"
   ]
  },
  {
   "cell_type": "code",
   "execution_count": 23,
   "metadata": {
    "collapsed": true
   },
   "outputs": [],
   "source": [
    "def parse_dnorm_output(loc, fname):\n",
    "    res = defaultdict(list)\n",
    "    lol = set()\n",
    "    for line in read_file(fname, loc):\n",
    "        vals = line.split('\\t')\n",
    "        \n",
    "        if len(vals) == 4:\n",
    "            vals.append(\"-1\") # no known identifier\n",
    "        \n",
    "        assert len(vals) == 5\n",
    "        \n",
    "        if \":\" in vals[4]:\n",
    "            lol.add(vals[4][ : vals[4].index(\":\")])\n",
    "        # give this pmid an extra annotation\n",
    "        \n",
    "        \n",
    "    return lol\n",
    "    "
   ]
  },
  {
   "cell_type": "code",
   "execution_count": 24,
   "metadata": {
    "collapsed": false
   },
   "outputs": [
    {
     "data": {
      "text/plain": [
       "{'MESH', 'OMIM'}"
      ]
     },
     "execution_count": 24,
     "metadata": {},
     "output_type": "execute_result"
    }
   ],
   "source": [
    "parse_dnorm_output(\"data/dnorm\", \"dnorm_training_output.txt\")"
   ]
  },
  {
   "cell_type": "markdown",
   "metadata": {},
   "source": [
    "for pmid 6386793 of the training set, dnorm correctly found the disease \"depressive illness\" from indicies 354 to 372, and assigned it the OMIM identifier 309200. It did not assign it a mesh term. However, in the official training data, the same text span is assigned the MESH identifier D003866. Therefore if we were comparing on everything, then dnorm would have missed this term. Should we compared on text locations only?\n"
   ]
  },
  {
   "cell_type": "markdown",
   "metadata": {},
   "source": [
    "It looks like the evaluations will be based on identifiers, since that is how the relationships are given in the gold data provided, and this is also what is present in the evaluation toolkit provided. Therefore we will need some way to ensure that dnorm can find the correct identifiers in MESH.."
   ]
  },
  {
   "cell_type": "markdown",
   "metadata": {},
   "source": [
    "### Grab the gold standard data:"
   ]
  },
  {
   "cell_type": "code",
   "execution_count": 7,
   "metadata": {
    "collapsed": false
   },
   "outputs": [],
   "source": [
    "gold_training = parse_input(\"data/training\", \"CDR_TrainingSet.txt\")"
   ]
  },
  {
   "cell_type": "code",
   "execution_count": 8,
   "metadata": {
    "collapsed": true
   },
   "outputs": [],
   "source": [
    "gold_development = parse_input(\"data/development\", \"CDR_DevelopmentSet.txt\")"
   ]
  },
  {
   "cell_type": "markdown",
   "metadata": {},
   "source": [
    "### Grab DNorm's output:"
   ]
  },
  {
   "cell_type": "code",
   "execution_count": 9,
   "metadata": {
    "collapsed": false
   },
   "outputs": [
    {
     "ename": "AssertionError",
     "evalue": "",
     "output_type": "error",
     "traceback": [
      "\u001b[1;31m---------------------------------------------------------------------------\u001b[0m",
      "\u001b[1;31mAssertionError\u001b[0m                            Traceback (most recent call last)",
      "\u001b[1;32m<ipython-input-9-1e064269fdbb>\u001b[0m in \u001b[0;36m<module>\u001b[1;34m()\u001b[0m\n\u001b[1;32m----> 1\u001b[1;33m \u001b[0mdnorm_training\u001b[0m \u001b[1;33m=\u001b[0m \u001b[0mparse_input\u001b[0m\u001b[1;33m(\u001b[0m\u001b[1;34m\"data/dnorm\"\u001b[0m\u001b[1;33m,\u001b[0m \u001b[1;34m\"dnorm_training_output.txt\"\u001b[0m\u001b[1;33m)\u001b[0m\u001b[1;33m\u001b[0m\u001b[0m\n\u001b[0m",
      "\u001b[1;32m<ipython-input-6-33562a621a31>\u001b[0m in \u001b[0;36mparse_input\u001b[1;34m(loc, fname)\u001b[0m\n\u001b[0;32m     21\u001b[0m             \u001b[1;32mif\u001b[0m \u001b[1;36m0\u001b[0m \u001b[1;33m<=\u001b[0m \u001b[0mcounter\u001b[0m \u001b[1;33m<=\u001b[0m \u001b[1;36m1\u001b[0m\u001b[1;33m:\u001b[0m\u001b[1;33m\u001b[0m\u001b[0m\n\u001b[0;32m     22\u001b[0m                 \u001b[0mvals\u001b[0m \u001b[1;33m=\u001b[0m \u001b[0mline\u001b[0m\u001b[1;33m.\u001b[0m\u001b[0msplit\u001b[0m\u001b[1;33m(\u001b[0m\u001b[1;34m'|'\u001b[0m\u001b[1;33m)\u001b[0m\u001b[1;33m\u001b[0m\u001b[0m\n\u001b[1;32m---> 23\u001b[1;33m                 \u001b[1;32massert\u001b[0m \u001b[0mlen\u001b[0m\u001b[1;33m(\u001b[0m\u001b[0mvals\u001b[0m\u001b[1;33m)\u001b[0m \u001b[1;33m==\u001b[0m \u001b[1;36m3\u001b[0m\u001b[1;33m\u001b[0m\u001b[0m\n\u001b[0m\u001b[0;32m     24\u001b[0m             \u001b[1;32melse\u001b[0m\u001b[1;33m:\u001b[0m\u001b[1;33m\u001b[0m\u001b[0m\n\u001b[0;32m     25\u001b[0m                 \u001b[0mvals\u001b[0m \u001b[1;33m=\u001b[0m \u001b[0mline\u001b[0m\u001b[1;33m.\u001b[0m\u001b[0msplit\u001b[0m\u001b[1;33m(\u001b[0m\u001b[1;34m'\\t'\u001b[0m\u001b[1;33m)\u001b[0m\u001b[1;33m\u001b[0m\u001b[0m\n",
      "\u001b[1;31mAssertionError\u001b[0m: "
     ]
    }
   ],
   "source": [
    "dnorm_training = parse_input(\"data/dnorm\", \"dnorm_training_output.txt\")\n"
   ]
  },
  {
   "cell_type": "code",
   "execution_count": 10,
   "metadata": {
    "collapsed": true
   },
   "outputs": [],
   "source": [
    "a = \"Intravenous administration of a single 50-mg bolus of lidocaine in a 67-year-old man resulted in profound depression of the activity of the sinoatrial and atrioventricular nodal pacemakers. The patient had no apparent associated conditions which might have predisposed him to the development of bradyarrhythmias; and, thus, this probably represented a true idiosyncrasy to lidocaine.\""
   ]
  },
  {
   "cell_type": "code",
   "execution_count": 11,
   "metadata": {
    "collapsed": false
   },
   "outputs": [
    {
     "data": {
      "text/plain": [
       "'Intravenous administration of a single 50-mg bolus of lidocaine in a 67-year-old man resulted in profound depression of the activity of the sinoatrial and atrioventricular nodal pacemakers. The patient had no apparent associated conditions which might have predisposed him to the development of bradyarrhythmias; and, thus, this probably represented a true idiosyncrasy to lidocaine.'"
      ]
     },
     "execution_count": 11,
     "metadata": {},
     "output_type": "execute_result"
    }
   ],
   "source": [
    "a"
   ]
  },
  {
   "cell_type": "code",
   "execution_count": 12,
   "metadata": {
    "collapsed": false
   },
   "outputs": [
    {
     "data": {
      "text/plain": [
       "383"
      ]
     },
     "execution_count": 12,
     "metadata": {},
     "output_type": "execute_result"
    }
   ],
   "source": [
    "len(a)"
   ]
  },
  {
   "cell_type": "code",
   "execution_count": 13,
   "metadata": {
    "collapsed": false
   },
   "outputs": [
    {
     "data": {
      "text/plain": [
       "' administratio'"
      ]
     },
     "execution_count": 13,
     "metadata": {},
     "output_type": "execute_result"
    }
   ],
   "source": [
    "a[11:25]"
   ]
  },
  {
   "cell_type": "code",
   "execution_count": 14,
   "metadata": {
    "collapsed": false
   },
   "outputs": [
    {
     "data": {
      "text/plain": [
       "'sinoatrial and atrioventricular nodal pacemakers'"
      ]
     },
     "execution_count": 14,
     "metadata": {},
     "output_type": "execute_result"
    }
   ],
   "source": [
    "a[140:188]"
   ]
  },
  {
   "cell_type": "code",
   "execution_count": null,
   "metadata": {
    "collapsed": true
   },
   "outputs": [],
   "source": []
  }
 ],
 "metadata": {
  "kernelspec": {
   "display_name": "Python 2",
   "language": "python",
   "name": "python2"
  },
  "language_info": {
   "codemirror_mode": {
    "name": "ipython",
    "version": 2
   },
   "file_extension": ".py",
   "mimetype": "text/x-python",
   "name": "python",
   "nbconvert_exporter": "python",
   "pygments_lexer": "ipython2",
   "version": "2.7.10"
  }
 },
 "nbformat": 4,
 "nbformat_minor": 0
}
